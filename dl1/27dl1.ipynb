{
 "cells": [
  {
   "cell_type": "markdown",
   "metadata": {
    "deletable": false,
    "editable": false,
    "nbgrader": {
     "cell_type": "markdown",
     "checksum": "15b574805137b9279ac4eaf2a98dde5a",
     "grade": false,
     "grade_id": "cell-626178c48d82cf7b",
     "locked": true,
     "schema_version": 3,
     "solution": false,
     "task": false
    }
   },
   "source": [
    "***Perceptron***\n"
   ]
  },
  {
   "cell_type": "code",
   "execution_count": 1,
   "metadata": {
    "deletable": false,
    "editable": false,
    "nbgrader": {
     "cell_type": "code",
     "checksum": "ee78954366926c1b629f8d1f06370456",
     "grade": false,
     "grade_id": "cell-971c8877f1ab5326",
     "locked": true,
     "schema_version": 3,
     "solution": false,
     "task": false
    }
   },
   "outputs": [],
   "source": [
    "import pandas as pd\n",
    "import numpy as np\n",
    "import matplotlib.pyplot as plt\n",
    "%matplotlib inline"
   ]
  },
  {
   "cell_type": "markdown",
   "metadata": {
    "deletable": false,
    "editable": false,
    "nbgrader": {
     "cell_type": "markdown",
     "checksum": "0d8eca36c80e9886e2ce237b0a556bd5",
     "grade": false,
     "grade_id": "cell-01157c0fe6df0335",
     "locked": true,
     "schema_version": 3,
     "solution": false,
     "task": false
    }
   },
   "source": [
    "Use the `make_guassian_quantiles` function from the `sklearn.datasets`class to create 1000 2-dimensional data points with two labels. Put the data in the variable `X` and the classes in the variable `c`. Use `random_state=42`."
   ]
  },
  {
   "cell_type": "code",
   "execution_count": 2,
   "metadata": {
    "deletable": false,
    "nbgrader": {
     "cell_type": "code",
     "checksum": "b484fbae43e4fba2d1d69fc39ece9efc",
     "grade": false,
     "grade_id": "cell-63d28a4a996eb894",
     "locked": false,
     "schema_version": 3,
     "solution": true,
     "task": false
    }
   },
   "outputs": [
    {
     "data": {
      "text/plain": [
       "array([ 1.64496771,  1.18947049,  0.06980208,  1.846637  ,  0.36163603,\n",
       "       -0.69972551, -1.87079192, -0.31526924,  1.07600714, -1.72491783,\n",
       "        0.47897983,  0.83569211, -0.37220678,  1.18891337,  0.08840689,\n",
       "       -2.70323229, -0.53025762, -0.18289644,  1.52312408,  0.02079371,\n",
       "       -0.42930222, -0.71844422,  0.51360011,  1.0325462 ,  1.19663149,\n",
       "       -0.44643361,  0.25373966,  1.68714164,  1.61371127,  0.79426468,\n",
       "        0.87006773, -2.02514259, -0.47103831, -1.55662917, -0.00607091,\n",
       "        0.83033582,  0.59310126,  0.78580016, -1.59442766, -0.70501186,\n",
       "       -0.90802408,  1.14282281, -1.00654257,  0.93828381, -0.30920908,\n",
       "       -0.30777823, -0.00360254,  0.44381943,  0.95400176,  0.32271856,\n",
       "       -0.1906824 , -0.38817682,  0.96337613,  1.10708067,  0.54628425,\n",
       "       -1.42181067,  0.4134349 ,  0.95313663, -0.73459158, -0.21113024,\n",
       "        0.53829608,  1.47789404,  1.14927333,  0.5131058 ,  0.05664992,\n",
       "        0.56091945, -0.52452027, -0.19733842,  0.10537551,  0.63859246,\n",
       "        0.86047349,  0.61351797, -1.04480919,  0.45588777, -0.23415337,\n",
       "       -0.07201012,  0.07156624, -0.53975968,  0.96387912,  1.19504663,\n",
       "        0.89519322, -0.34271452,  0.19204912,  0.59065483,  0.9694572 ,\n",
       "       -2.4716445 , -0.5642476 ,  0.89959988, -0.11232805, -0.02555407,\n",
       "       -0.26940683,  1.30174129,  0.33198033,  0.75698862,  0.19109907,\n",
       "        0.05820872,  0.21319663,  0.67792587, -0.97587325,  0.4933179 ,\n",
       "       -0.2264841 ,  0.35778736,  0.9983109 , -0.26465683,  0.34175598,\n",
       "       -2.08192941,  1.10552593,  0.6141667 ,  0.72238136, -0.24717738,\n",
       "        1.55115198, -0.71530371, -1.35985614, -0.47917424, -0.08828205,\n",
       "       -1.37190114,  0.02874482, -1.34445051, -0.57677133,  0.75892859,\n",
       "        1.05605681,  0.08182936,  0.17989415,  1.08589557,  0.25602973,\n",
       "        0.08658979,  0.68626019, -0.63896175, -0.99930223,  0.06699072,\n",
       "       -0.60221206,  1.57957215, -0.20812225, -1.05368242, -0.44651495,\n",
       "       -0.64596418, -0.07710171, -0.59239392,  2.01338725,  0.17086544,\n",
       "       -1.87517247,  0.23378591,  0.57707213, -0.2176812 , -0.01224677,\n",
       "        0.16865467, -0.6115178 ,  0.62157189,  0.65854427, -0.36096617,\n",
       "       -0.34865213, -2.53028752, -0.01349722,  0.49671415,  0.40373009,\n",
       "       -0.03955515, -0.58052345,  0.44001445,  1.04955272, -0.25737654,\n",
       "       -0.75913266, -0.23093453, -0.12094815, -0.0164229 , -0.66907274,\n",
       "        0.92617755,  1.96472513,  0.69822331, -0.65407568, -0.24574306,\n",
       "        0.82541635, -0.04558602, -0.26987494,  1.47654035,  0.42961822,\n",
       "       -1.69295681,  0.53875599,  0.48473282, -0.83921752, -0.10703036,\n",
       "       -1.00162001, -0.5765104 , -1.02418682,  1.26691115,  0.03408347,\n",
       "        0.30805054, -0.47193187,  0.23561456, -0.16128571,  0.99604769,\n",
       "        0.70821442,  1.58601682, -0.90370186,  1.40279431, -0.18047991,\n",
       "       -0.51386692,  1.79768653, -0.78778375,  0.43693817, -0.24896415,\n",
       "       -0.42018682,  0.97519763,  0.34272535, -1.40260527,  0.95042384,\n",
       "        1.88458631, -1.23695071,  1.07868083, -0.43449623, -2.55392113,\n",
       "        0.52194157, -0.75396459,  0.2597225 , -1.51936997,  0.09612078,\n",
       "       -0.01941961, -0.16306696, -0.61243737, -1.09096643,  0.36728731,\n",
       "        0.96485163, -1.52552517, -1.19588306, -0.83235557,  0.07543364,\n",
       "        1.07363175, -1.25153942, -0.71840727, -0.55519953, -0.02751491,\n",
       "        0.5112026 ,  0.55560447, -0.53050115,  0.63377688,  1.02257043,\n",
       "        0.51504769, -0.25497722, -0.73036663, -1.06511366,  0.51390785,\n",
       "       -1.23434887, -0.17694723,  0.51765902, -1.06230371, -0.98960482,\n",
       "       -0.70205309,  1.02406253, -0.93933539, -0.46341769,  1.39020755,\n",
       "        0.91358463, -0.82759022,  0.63240774,  0.07682189,  0.59355672,\n",
       "       -0.12791759, -0.18714427,  0.04360245, -0.54491909, -0.87561825,\n",
       "        1.15859558, -0.47383935,  0.62411982, -1.19392501, -0.15005559,\n",
       "       -0.70840677, -0.77282521, -2.17266955, -0.39210815, -0.20902326,\n",
       "        1.03184454,  0.57089051,  0.4365598 , -0.24606249, -0.04946371,\n",
       "        0.1252245 ,  0.79103195, -0.01870876,  1.84895609,  0.2088636 ,\n",
       "        0.41293145, -0.0660798 , -0.70199169,  1.17944012, -0.07160126,\n",
       "       -1.11057585, -0.01901621, -1.37931923, -0.36361221, -1.34712629,\n",
       "       -0.11122606, -0.2975635 ,  0.6725737 , -0.10015408, -1.59299373,\n",
       "       -0.02730454,  0.4288165 ,  1.10095963,  0.28916864, -1.2803044 ,\n",
       "       -1.50472037,  1.6699045 ,  0.82048218,  0.61277391,  1.42050425,\n",
       "       -0.95512258,  0.65020118,  0.82940558,  1.31030875, -0.91942423,\n",
       "        1.24608519, -1.91877122, -1.18325851, -2.69688664, -0.22125362,\n",
       "       -1.3044695 , -0.2403254 ,  0.48100923,  0.33088023,  1.72754317,\n",
       "       -0.53596345,  0.12637958,  0.47323762, -0.78598946, -1.24386324,\n",
       "       -0.98150865,  0.06447441,  0.33126343, -1.00033132, -1.61513182,\n",
       "       -0.09858813,  0.3074067 ,  0.52980418,  2.1221562 ,  0.02818116,\n",
       "       -0.03275327, -0.2389321 ,  0.36867331,  0.25049285,  0.01035262,\n",
       "       -0.36532155,  0.11351735,  1.31711507, -0.55222304,  0.19652117,\n",
       "        1.55050049, -0.02652126,  0.27996863, -0.02435459, -0.80367457,\n",
       "        0.80040953,  0.54146273, -0.83534705, -0.55749179, -0.13845598,\n",
       "       -2.36293244, -0.89841467, -0.17495976, -0.57117899,  0.20838281,\n",
       "        0.17644156, -0.01851314, -0.59566129, -0.4646173 ,  1.30547881,\n",
       "        1.29699455,  0.7999419 , -1.04691098,  0.24938368, -1.66940528,\n",
       "        0.04557184, -0.2750517 ,  1.15811087, -0.48318646, -0.52272302,\n",
       "        0.1943843 , -0.98859111,  0.14866746, -2.6197451 ,  1.08578632,\n",
       "        0.16846098,  0.82317058,  0.88310978, -0.72713718,  0.28869363,\n",
       "       -0.55364931,  0.32692737, -1.44808434,  0.03200415, -1.97929981,\n",
       "        0.16936082, -0.34268759,  0.39445214, -1.17903979,  0.01392929,\n",
       "        0.28977486,  0.53650984,  1.61227826,  1.16316375,  1.26570784,\n",
       "        0.57655696,  1.05842449, -0.13744851,  0.32307927,  0.6380511 ,\n",
       "       -0.16712171, -0.1601328 , -0.62264936,  2.06150358, -0.99053633,\n",
       "       -0.00797264, -0.76325916, -1.09039908,  1.18738605, -0.0196378 ,\n",
       "        0.62180996,  0.08704707, -1.15099358, -1.60644632, -1.00601738,\n",
       "        1.50075979, -1.26088395,  0.1042011 , -1.58390282, -1.00414077,\n",
       "       -0.03312697, -0.03468489, -0.60063869, -1.01582182, -0.47494531,\n",
       "       -0.70434369,  0.22391413, -0.32163505,  1.67770081,  0.52112243,\n",
       "       -0.61340266, -2.1218549 ,  0.16057398,  1.66125921, -1.40751169,\n",
       "        0.83392215,  0.18186626, -0.92735313,  0.73881048,  0.1990597 ,\n",
       "       -0.55892185,  0.98176549, -0.39175815, -0.25879606, -0.21344287,\n",
       "       -0.85835778, -0.48760622, -2.12389572, -0.13430874,  0.70945182,\n",
       "        0.82206016,  0.91831661,  1.32819414, -0.9057323 ,  0.10939479,\n",
       "        0.9843224 ,  0.25755039, -1.1913035 ,  0.79348872, -0.96492346,\n",
       "        0.72509579, -0.1517851 ,  0.91907648,  0.09176078,  0.28099187,\n",
       "       -0.30803428, -0.21967189,  1.28975275, -0.07964139, -1.10633497,\n",
       "       -0.01530985, -1.47858625,  1.52846843,  1.2210337 , -0.03498849,\n",
       "        0.30883301,  1.59318663,  0.68195297, -1.29468148, -0.4677012 ,\n",
       "        0.71095997,  0.27157884,  0.09933231, -0.1726273 ,  0.38406545,\n",
       "       -0.23894805, -0.57366201, -0.12853751,  0.56898308, -0.61176909,\n",
       "        1.61537569, -0.83972184, -1.39856757,  0.3885786 ,  0.06785551,\n",
       "        0.0052437 , -1.10570467,  0.81252582, -0.03322999, -0.0376347 ,\n",
       "        0.99626682,  0.26712665,  0.05963037,  1.03028345,  0.27045683,\n",
       "       -0.79252074, -0.24538812,  0.92402702,  1.56552403,  0.52283549,\n",
       "       -1.07274303, -0.48943944,  0.91922893, -0.18687164,  0.33849641,\n",
       "       -0.86041337,  0.37114587,  0.40825276, -0.13263375,  0.26739231,\n",
       "        0.16645221, -0.66178646, -0.24415664, -0.88951443,  0.11327041,\n",
       "       -1.80105773, -1.08105654,  0.40981866, -0.68815035,  0.74209537,\n",
       "        0.33848384,  0.39922312,  1.31739407,  1.10818282,  1.53075083,\n",
       "       -0.65183611,  0.46642998, -0.02640576, -0.62314053,  0.6969544 ,\n",
       "        1.2130977 , -0.4660365 ,  0.32316771, -0.04692058, -0.8222204 ,\n",
       "       -0.22346598, -0.22647889, -0.17018462, -0.63738713, -0.97165673,\n",
       "       -0.92693047, -0.44328225, -0.55030515,  0.09965137, -1.06239353,\n",
       "       -0.87798259, -1.22954959, -1.32023321,  0.29307247, -2.03812454,\n",
       "        1.63996453,  1.54210995, -0.88385744, -0.54872491, -1.47891157,\n",
       "        2.44575198, -0.55185815, -0.44429326,  0.01841838,  0.73846658,\n",
       "       -1.37766937,  1.00629281,  1.1965715 , -1.69246463, -0.92323325,\n",
       "        0.07863519,  1.67257239,  0.17318093, -1.10336661,  0.60789651,\n",
       "        0.05701312, -0.78489831, -1.09231276,  0.70775194, -0.98572605,\n",
       "       -0.02090159,  0.31090757, -1.52565631,  1.2776649 , -0.02136729,\n",
       "        0.24075318, -0.6255627 ,  0.0976761 ,  1.62861555, -0.48306105,\n",
       "       -0.74247059, -1.71313453, -0.73552994,  2.0883747 , -0.63773998,\n",
       "        0.11422765,  0.14088625,  0.72167206, -0.79047446,  0.32135722,\n",
       "       -0.77287767,  0.0675282 , -1.56254586, -1.18759842,  2.18980293,\n",
       "       -0.25256815,  0.18676676,  0.63472147,  1.08305124, -0.6763923 ,\n",
       "       -0.25904215, -0.66262376, -0.25959135, -0.5176113 , -0.64927755,\n",
       "        1.1487657 ,  1.02915564, -1.53411417, -0.58168091,  0.26912694,\n",
       "        0.2005692 ,  1.72696385,  0.13296967, -0.81819888,  0.63873022,\n",
       "       -1.2899609 ,  2.15318246,  0.71161488,  0.21409374, -2.0674421 ,\n",
       "        1.44127329, -0.62671722, -0.17294606,  0.7368439 ,  0.02451017,\n",
       "        2.13303337,  0.04381147,  0.36659825,  2.5733598 , -0.22346279,\n",
       "       -1.80313968,  0.8711247 ,  0.22745993,  0.04886007, -0.5297602 ,\n",
       "       -0.03582604,  0.24496657, -0.4263576 ,  1.09131012,  1.57921282,\n",
       "       -0.22485598, -1.07213901, -1.41836573,  0.30780177,  1.12605025,\n",
       "        1.5475052 ,  0.28328787,  0.26705027,  0.36139561, -1.06762043,\n",
       "       -0.6414816 , -0.8254972 , -0.02502696,  1.03753994,  0.09707755,\n",
       "       -0.16711808, -0.22096417,  0.06023021, -0.26853065,  0.57963317,\n",
       "       -0.64351823, -0.37912774, -0.97468167,  0.69638745, -0.99139235,\n",
       "       -0.52861668, -0.62696706,  0.33760266, -0.29181127, -0.58936476,\n",
       "       -1.20969474,  0.76608028, -1.38957247,  0.91540212,  0.34361829,\n",
       "       -1.32818605,  0.07005216, -0.60170661,  1.21715852,  0.32408397,\n",
       "       -0.32267984,  2.17094272, -1.84087423, -0.68002472, -0.4473219 ,\n",
       "        2.15730821,  0.35144821,  0.65436566,  0.31917451, -0.08973569,\n",
       "       -1.16991684,  0.65590078,  0.77169871,  2.07408267, -0.46063877,\n",
       "       -0.46947439,  0.85765962,  0.64548418,  0.20109905,  0.25988279,\n",
       "        0.29355793, -0.71284578,  0.01300189, -2.1518154 , -0.8084936 ,\n",
       "        0.55979045,  0.8712973 ,  1.76545424,  1.87329778, -0.04015795,\n",
       "       -0.03471177,  0.32416635,  0.19808476,  1.46564877, -1.14372621,\n",
       "        0.12267032, -0.96697614, -0.33477533,  0.95030759, -0.71682232,\n",
       "       -1.62754244, -1.01210438,  1.25575613,  0.64537595,  0.20292302,\n",
       "        1.90119069,  1.66547444,  0.177701  , -0.10730214,  0.06428002,\n",
       "       -0.44550252,  0.1222975 , -0.48536355,  0.56976728, -2.13567421,\n",
       "       -0.0626791 ,  1.51344974, -0.82899501,  0.54709738, -0.66809045,\n",
       "       -0.60561554,  0.24380071, -0.17307182,  1.20041391, -2.42424026,\n",
       "        0.74729361,  1.50235705,  0.12029563,  0.11958037, -1.70338244,\n",
       "       -0.44004449, -1.19363683,  1.45114361, -0.48884942,  0.32613302,\n",
       "        2.14394409, -0.054894  ,  2.40341559,  0.08243975,  0.01843393,\n",
       "       -0.07049878, -0.11564828,  2.05620713, -0.36244094, -1.68343819,\n",
       "        0.24196227,  0.5866938 , -1.22576566, -0.36495273,  0.37710039,\n",
       "        0.59475434, -0.08215118, -0.64622731, -0.53532819,  0.07736831,\n",
       "       -0.18528766,  0.02831838,  0.35701549, -0.45006547, -0.81822068,\n",
       "       -1.60748323,  2.06074792, -0.07016571, -0.57563783,  1.18570415,\n",
       "       -1.5811907 ,  0.22445182,  0.38193545,  0.2766908 ,  1.20650897,\n",
       "       -0.94939889, -1.77872025, -0.43638589,  0.91632767, -1.47852199,\n",
       "        0.07580456,  1.64201516, -0.48274352,  0.72762954,  0.38019785,\n",
       "       -0.3357847 ,  0.81351722, -0.26888869,  0.33231401,  3.07888081,\n",
       "       -0.64354983,  1.16778206,  0.45997214, -0.19490828,  1.86577451,\n",
       "       -1.09627509, -0.651418  , -0.7737892 ,  0.86960592,  0.63278187,\n",
       "        0.93567839,  0.66288127,  0.94955414,  0.81286212,  1.63343153,\n",
       "        1.5033983 , -1.0708925 ,  0.70810868, -0.1580079 ,  2.52693243,\n",
       "       -0.67349062, -0.75635075,  1.8820245 , -0.56216803, -0.45230632,\n",
       "        0.51934651,  1.8861859 ,  0.12810441, -1.28042935, -1.34818542,\n",
       "        0.97511973, -0.98248739,  1.38215899, -1.20029641,  1.03099952,\n",
       "        0.54360015,  0.3506301 , -2.65096981, -0.32034731,  0.56550965,\n",
       "       -1.17011303, -0.98962814,  0.84064355,  0.18958162, -0.51728845,\n",
       "        0.22213377,  0.64272276, -1.3668787 ,  1.20121392, -1.22212781,\n",
       "        1.44697788,  1.47117033,  0.49403019, -1.83620537, -0.31905394,\n",
       "       -0.4593609 ,  1.6324113 ,  1.61222063, -0.24123606,  0.87232064,\n",
       "       -0.60136764,  0.30263547,  2.29889812,  0.28586539,  1.68392769,\n",
       "       -0.54438272,  0.68189149,  0.73264008, -0.99838544,  0.18102156,\n",
       "        1.17312464,  1.06667469, -0.62376896, -2.49940571, -0.9354387 ,\n",
       "       -0.676922  ,  1.39935544, -0.44618343,  2.56008454,  0.02421946,\n",
       "       -0.13401717,  0.95312505,  1.22766899,  0.05572491, -0.19236096,\n",
       "       -0.54624445,  0.39968795, -1.55066343,  0.21101747, -0.10444922,\n",
       "       -1.57087615,  0.19584526,  2.31932954, -1.99373564,  0.50498728,\n",
       "        0.09699596, -0.13125697, -1.51519106,  0.55832691, -1.41537074,\n",
       "        1.23828307, -0.11453985,  0.08228399,  0.5500521 ,  0.03800348,\n",
       "        0.15041891, -1.03724615,  1.00058232,  0.1335409 , -0.07443343,\n",
       "        0.49097495,  0.00511346, -1.5565819 ,  0.69014399,  0.04852163,\n",
       "        1.7359638 , -0.06413835, -0.88749218, -1.12272202, -0.84679372,\n",
       "        0.15985639,  1.38427282,  0.51503527,  2.07526087,  0.75334162,\n",
       "        1.59450506, -1.02123282, -0.61278869, -0.24869113, -1.40631746,\n",
       "        0.22409248, -1.08106333,  1.30434024,  1.3924653 ,  0.58392819,\n",
       "        0.61915426,  0.62566735, -0.65064257,  2.31465857, -1.14168911,\n",
       "        0.58685709, -0.46531046, -0.62481858, -0.08268069,  0.50091719,\n",
       "       -1.01283112, -0.78325329,  0.99801011,  1.732515  ,  1.12411272,\n",
       "        0.22468473,  0.64768854,  0.12320481,  0.77836108,  0.82254491,\n",
       "        2.06252492, -0.08836296,  1.17929718, -3.24126734, -0.16814382,\n",
       "       -0.10876015, -0.64657288, -0.09529553,  0.29875291,  1.49268857,\n",
       "       -1.4480139 , -0.6095122 , -1.77303247,  0.65232288, -0.29494968,\n",
       "       -0.80960352,  0.29612028,  0.59740007,  2.64434335,  0.84062003])"
      ]
     },
     "execution_count": 2,
     "metadata": {},
     "output_type": "execute_result"
    }
   ],
   "source": [
    "X = 0\n",
    "c = 0\n",
    "from sklearn.datasets import make_gaussian_quantiles\n",
    "\n",
    "# YOUR CODE HERE\n",
    "X, c = make_gaussian_quantiles(n_samples=1000, n_features=2, n_classes=2,random_state=42)\n",
    "\n",
    "X[:,0]\n"
   ]
  },
  {
   "cell_type": "code",
   "execution_count": 4,
   "metadata": {
    "deletable": false,
    "editable": false,
    "nbgrader": {
     "cell_type": "code",
     "checksum": "9f7a9ef676a2b7d5e94cb44d6bb8fb21",
     "grade": true,
     "grade_id": "cell-966bf7e3648a388c",
     "locked": true,
     "points": 1,
     "schema_version": 3,
     "solution": false,
     "task": false
    }
   },
   "outputs": [],
   "source": [
    "assert X.shape == (1000,2)\n",
    "assert c.shape == (1000,)\n",
    "assert c.max() == 1\n",
    "assert c.min() == 0"
   ]
  },
  {
   "cell_type": "markdown",
   "metadata": {
    "deletable": false,
    "editable": false,
    "nbgrader": {
     "cell_type": "markdown",
     "checksum": "ea0269f558a7c3ea6bca25fa984de8e3",
     "grade": false,
     "grade_id": "cell-dfa16baa15d50145",
     "locked": true,
     "schema_version": 3,
     "solution": false,
     "task": false
    }
   },
   "source": [
    "Make a scatterplot of the generated points using two different colors for the different classes."
   ]
  },
  {
   "cell_type": "code",
   "execution_count": 5,
   "metadata": {
    "deletable": false,
    "nbgrader": {
     "cell_type": "code",
     "checksum": "feb558928c6e6d94de09aacfb2e8cdbc",
     "grade": false,
     "grade_id": "cell-7cad454d15726ed1",
     "locked": false,
     "schema_version": 3,
     "solution": true,
     "task": false
    }
   },
   "outputs": [
    {
     "data": {
      "text/plain": [
       "<matplotlib.collections.PathCollection at 0x2289b11ba90>"
      ]
     },
     "execution_count": 5,
     "metadata": {},
     "output_type": "execute_result"
    },
    {
     "data": {
      "image/png": "[encoded data removed]",
      "text/plain": [
       "<Figure size 432x288 with 1 Axes>"
      ]
     },
     "metadata": {
      "needs_background": "light"
     },
     "output_type": "display_data"
    }
   ],
   "source": [
    "\n",
    "# YOUR CODE HERE\n",
    "plt.scatter(X[:,0],X[:,1],c=c)"
   ]
  },
  {
   "cell_type": "markdown",
   "metadata": {
    "deletable": false,
    "editable": false,
    "nbgrader": {
     "cell_type": "markdown",
     "checksum": "a13ee988fb8746d643a03f7355cfc369",
     "grade": false,
     "grade_id": "cell-191c48ff3e8dde28",
     "locked": true,
     "schema_version": 3,
     "solution": false,
     "task": false
    }
   },
   "source": [
    "Create a function that takes as input `x` and returns the sigmoid of `x` and test it on the given vector `v` (storing the result in the variable `v_activated`.\n",
    "\n",
    "*N.B.* The sigmoid function should accept any iterable as input, but must return a numpy array."
   ]
  },
  {
   "cell_type": "code",
   "execution_count": 6,
   "metadata": {
    "deletable": false,
    "nbgrader": {
     "cell_type": "code",
     "checksum": "22cf27ede4a612a862662ebdaef40cf9",
     "grade": false,
     "grade_id": "cell-25c6e2ab20993a7e",
     "locked": false,
     "schema_version": 3,
     "solution": true,
     "task": false
    }
   },
   "outputs": [
    {
     "data": {
      "text/plain": [
       "array([0.73105858, 0.88079708, 0.26894142])"
      ]
     },
     "execution_count": 6,
     "metadata": {},
     "output_type": "execute_result"
    }
   ],
   "source": [
    "v = [1, 2, -1]\n",
    "\n",
    "\n",
    "def sigmoid(x):\n",
    "    sig_arr = np.zeros(len(x),)\n",
    "    for i in range(len(x)):\n",
    "        sig_arr[i] = 1 / (1 + np.exp(-x[i]))\n",
    "        #print(sig_arr)\n",
    "    return sig_arr\n",
    "   \n",
    "\n",
    "v_activated = sigmoid(v)\n",
    "v_activated\n",
    "\n",
    "# YOUR CODE HERE\n"
   ]
  },
  {
   "cell_type": "code",
   "execution_count": 7,
   "metadata": {
    "deletable": false,
    "editable": false,
    "nbgrader": {
     "cell_type": "code",
     "checksum": "97ec1ed7a9f1776ae2b2b68eb97a0387",
     "grade": true,
     "grade_id": "cell-083dec44f74fed1a",
     "locked": true,
     "points": 1,
     "schema_version": 3,
     "solution": false,
     "task": false
    }
   },
   "outputs": [],
   "source": [
    "assert np.round(v_activated[0], 2) == 0.73\n",
    "assert np.round(v_activated[1], 2) == 0.88\n",
    "assert np.round(v_activated[2], 2) == 0.27\n",
    "\n"
   ]
  },
  {
   "cell_type": "markdown",
   "metadata": {},
   "source": [
    "Define the step function. As for the sigmoid, create a function that takes as input `x` and returns the sigmoid of `x` and test it on the given vector `v` (storing the result in the variable `v_activated`."
   ]
  },
  {
   "cell_type": "code",
   "execution_count": 101,
   "metadata": {
    "deletable": false,
    "nbgrader": {
     "cell_type": "code",
     "checksum": "5941e50e5aa61278563e648c0f7e41cd",
     "grade": false,
     "grade_id": "cell-4f9ebef5da14c733",
     "locked": false,
     "schema_version": 3,
     "solution": true,
     "task": false
    }
   },
   "outputs": [],
   "source": [
    "v = [1, 0, -1]\n",
    "\n",
    "def step(x):\n",
    "    x = np.array(x)\n",
    "    return np.array(x >= 0, dtype=float)\n",
    "\n",
    "v_activated = 0\n",
    "\n",
    "# YOUR CODE HERE\n",
    "v_activated  = step(v)\n",
    "# YOUR CODE HERE"
   ]
  },
  {
   "cell_type": "code",
   "execution_count": 102,
   "metadata": {},
   "outputs": [
    {
     "data": {
      "text/plain": [
       "array([1., 1., 0.])"
      ]
     },
     "execution_count": 102,
     "metadata": {},
     "output_type": "execute_result"
    }
   ],
   "source": [
    "v_activated"
   ]
  },
  {
   "cell_type": "code",
   "execution_count": 103,
   "metadata": {
    "deletable": false,
    "editable": false,
    "nbgrader": {
     "cell_type": "code",
     "checksum": "580e126d5eaeacc6b6195203cc3f7645",
     "grade": true,
     "grade_id": "cell-978a2c6edd8b6234",
     "locked": true,
     "points": 0,
     "schema_version": 3,
     "solution": false,
     "task": false
    }
   },
   "outputs": [],
   "source": [
    "assert v_activated[0] == 1.0\n",
    "assert v_activated[1] == 1.0\n",
    "assert v_activated[2] == 0.0"
   ]
  },
  {
   "cell_type": "markdown",
   "metadata": {
    "deletable": false,
    "editable": false,
    "nbgrader": {
     "cell_type": "markdown",
     "checksum": "9c4cef7d30da9534c6c7889631acfb8f",
     "grade": false,
     "grade_id": "cell-4e063c1ce286a211",
     "locked": true,
     "schema_version": 3,
     "solution": false,
     "task": false
    }
   },
   "source": [
    "You want to build a model to choose which book to read based on the following three variables:\n",
    "\n",
    "- average reviews on Goodreads (from 1 to 5)\n",
    "- number of 1 stars reviews on Goodreads\n",
    "- number of reviews on Goodreads\n",
    "- it's fiction or not\n",
    "\n",
    "Create a potential dataset with reasonable examples with 5 data points presented in a numpy array of the form `X = np.array([[f11,f12...], [f21, f22,...],...,[f51,f52,...]])` so that the shape of X will be (3,4). In addition, create the `y` vector with binary labels."
   ]
  },
  {
   "cell_type": "code",
   "execution_count": 104,
   "metadata": {
    "deletable": false,
    "nbgrader": {
     "cell_type": "code",
     "checksum": "38a5d5065218b7a4f859914537cd9d1b",
     "grade": false,
     "grade_id": "cell-e42eb35e7fbdece3",
     "locked": false,
     "schema_version": 3,
     "solution": true,
     "task": false
    }
   },
   "outputs": [
    {
     "name": "stdout",
     "output_type": "stream",
     "text": [
      "[[4.5000e+00 2.0000e+02 4.3500e+03 1.0000e+00]\n",
      " [3.2000e+00 4.5000e+02 3.5262e+04 0.0000e+00]\n",
      " [4.0000e+00 1.5503e+04 6.4637e+04 1.0000e+00]]\n"
     ]
    }
   ],
   "source": [
    "X = 0\n",
    "y = 0\n",
    "\n",
    "# YOUR CODE HERE\n",
    "dict_gr = {'avg_reviews':[4.5,3.2,4],'no_1star':[200,450,15503],'no_reviews': [4350,35262,64637],  \n",
    "           'fiction':[1,0,1]}\n",
    "df = pd.DataFrame(dict_gr)\n",
    "X = df.values\n",
    "y = np.asarray([1,1,0])\n",
    "print(X)"
   ]
  },
  {
   "cell_type": "code",
   "execution_count": 105,
   "metadata": {
    "deletable": false,
    "editable": false,
    "nbgrader": {
     "cell_type": "code",
     "checksum": "646748d0004f916f932f5264110fc906",
     "grade": true,
     "grade_id": "cell-999c065e8557524e",
     "locked": true,
     "points": 0,
     "schema_version": 3,
     "solution": false,
     "task": false
    }
   },
   "outputs": [],
   "source": [
    "assert X.shape == (3,4)\n",
    "assert np.array([1<=x[0]<=5 for x in X]).sum() == 3\n",
    "assert np.array([x[3] for x in X]).max() == 1\n",
    "assert np.array([x[3] for x in X]).min() == 0\n",
    "assert np.array([x[1]<=x[2] for x in X]).sum() == 3\n",
    "assert y.max() == 1\n",
    "assert y.min() == 0\n",
    "assert y.shape == (3,)\n",
    "\n"
   ]
  },
  {
   "cell_type": "markdown",
   "metadata": {
    "deletable": false,
    "editable": false,
    "nbgrader": {
     "cell_type": "markdown",
     "checksum": "65625bf43b456ed2514f9a7c6d3b437a",
     "grade": false,
     "grade_id": "cell-0b62cb474375bc15",
     "locked": true,
     "schema_version": 3,
     "solution": false,
     "task": false
    }
   },
   "source": [
    "You want to define a boundary n-1 hyperplane for the data you have generated. Create the vector W containing the weights of your model initialized by following a normal distribution (you can use `numpy.random.normal`. Don't forget the bias `b`."
   ]
  },
  {
   "cell_type": "code",
   "execution_count": 106,
   "metadata": {
    "deletable": false,
    "nbgrader": {
     "cell_type": "code",
     "checksum": "4dc3090c9dfc58b45bc4199b20574962",
     "grade": false,
     "grade_id": "cell-3ada8bc49ebdd9aa",
     "locked": false,
     "schema_version": 3,
     "solution": true,
     "task": false
    }
   },
   "outputs": [
    {
     "name": "stdout",
     "output_type": "stream",
     "text": [
      "(4,)\n",
      "[-0.48652112]\n"
     ]
    }
   ],
   "source": [
    "\n",
    "b = 0\n",
    "\n",
    "# YOUR CODE HERE\n",
    "W = np.random.normal(size=4)\n",
    "print(W.shape)\n",
    "b = np.random.normal(size=1)\n",
    "print(b)\n"
   ]
  },
  {
   "cell_type": "code",
   "execution_count": 107,
   "metadata": {
    "deletable": false,
    "editable": false,
    "nbgrader": {
     "cell_type": "code",
     "checksum": "b379abdf1a78ad42ea2dcc1a84cddb2e",
     "grade": true,
     "grade_id": "cell-c04231e0b720cac4",
     "locked": true,
     "points": 1,
     "schema_version": 3,
     "solution": false,
     "task": false
    }
   },
   "outputs": [],
   "source": [
    "assert W.shape == (4,) or W.shape == (4, 1)\n",
    "assert b.shape == (1,) or b.shape == (1, 1)"
   ]
  },
  {
   "cell_type": "markdown",
   "metadata": {
    "deletable": false,
    "editable": false,
    "nbgrader": {
     "cell_type": "markdown",
     "checksum": "ae916ac19993c416b73cc8dbfdf2fcec",
     "grade": false,
     "grade_id": "cell-49cf709fd559af84",
     "locked": true,
     "schema_version": 3,
     "solution": false,
     "task": false
    }
   },
   "source": [
    "Create an array containing the score of your random model on each of the data points you generated. Store the result in the `scores` variable. \n",
    "\n",
    "*Hint*: Use the dot product. I recommend you to reshape it at the end so that it has only one dimension, not two."
   ]
  },
  {
   "cell_type": "code",
   "execution_count": 108,
   "metadata": {
    "deletable": false,
    "nbgrader": {
     "cell_type": "code",
     "checksum": "2dc4df6186a2c501f2d35b79d3ecffe6",
     "grade": false,
     "grade_id": "cell-951dd174a94f79aa",
     "locked": false,
     "schema_version": 3,
     "solution": true,
     "task": false
    }
   },
   "outputs": [
    {
     "name": "stdout",
     "output_type": "stream",
     "text": [
      "[array([2628.3135573]), array([20531.76516664]), array([47289.34038618])]\n"
     ]
    },
    {
     "data": {
      "text/plain": [
       "array([ 2628.3135573 , 20531.76516664, 47289.34038618])"
      ]
     },
     "execution_count": 108,
     "metadata": {},
     "output_type": "execute_result"
    }
   ],
   "source": [
    "scores = []\n",
    "\n",
    "# YOUR CODE HERE\n",
    "for i in range(X.shape[0]):\n",
    "    #print(i)\n",
    "    scores.append(b+ (X[i,:]@W.reshape(4,1)))\n",
    "print(scores) \n",
    "scores = np.asarray(scores)\n",
    "scores = scores.reshape(3,)\n",
    "scores"
   ]
  },
  {
   "cell_type": "code",
   "execution_count": 109,
   "metadata": {
    "deletable": false,
    "editable": false,
    "nbgrader": {
     "cell_type": "code",
     "checksum": "2f7fd127e1794c414bf7eb7426f44b8d",
     "grade": true,
     "grade_id": "cell-8ad99d3f33895cd4",
     "locked": true,
     "points": 0,
     "schema_version": 3,
     "solution": false,
     "task": false
    }
   },
   "outputs": [],
   "source": [
    "assert scores.shape == (3,)\n"
   ]
  },
  {
   "cell_type": "markdown",
   "metadata": {
    "deletable": false,
    "editable": false,
    "nbgrader": {
     "cell_type": "markdown",
     "checksum": "0b14f233b06cb98a09946daddc4704d6",
     "grade": false,
     "grade_id": "cell-0305f5e1428e07a1",
     "locked": true,
     "schema_version": 3,
     "solution": false,
     "task": false
    }
   },
   "source": [
    "Activate all the scores by using the step function you defined before and store them in the `step_scores` variable."
   ]
  },
  {
   "cell_type": "code",
   "execution_count": 110,
   "metadata": {
    "deletable": false,
    "nbgrader": {
     "cell_type": "code",
     "checksum": "25fffadd55bd1ac5bc5dffb731fc3693",
     "grade": false,
     "grade_id": "cell-3f689055ccafa454",
     "locked": false,
     "schema_version": 3,
     "solution": true,
     "task": false
    }
   },
   "outputs": [
    {
     "data": {
      "text/plain": [
       "array([1., 1., 1.])"
      ]
     },
     "execution_count": 110,
     "metadata": {},
     "output_type": "execute_result"
    }
   ],
   "source": [
    "step_scores = step(scores)\n",
    "\n",
    "# YOUR CODE HERE\n",
    "step_scores"
   ]
  },
  {
   "cell_type": "code",
   "execution_count": 111,
   "metadata": {
    "deletable": false,
    "editable": false,
    "nbgrader": {
     "cell_type": "code",
     "checksum": "1db756fc40b005b1da3b1aa39ff61724",
     "grade": true,
     "grade_id": "cell-1f0db6a939917418",
     "locked": true,
     "points": 0,
     "schema_version": 3,
     "solution": false,
     "task": false
    }
   },
   "outputs": [],
   "source": [
    "assert step_scores.shape == (3,)"
   ]
  },
  {
   "cell_type": "markdown",
   "metadata": {
    "deletable": false,
    "editable": false,
    "nbgrader": {
     "cell_type": "markdown",
     "checksum": "5cbe6bcb73ea5f0741441f1711cef7c6",
     "grade": false,
     "grade_id": "cell-63dec5e13d0d0024",
     "locked": true,
     "schema_version": 3,
     "solution": false,
     "task": false
    }
   },
   "source": [
    "Activate all the scores by using the sigmoid function you defined before and store them in the `sigmoid_scores` variable."
   ]
  },
  {
   "cell_type": "code",
   "execution_count": 112,
   "metadata": {
    "deletable": false,
    "nbgrader": {
     "cell_type": "code",
     "checksum": "7b2e6f1f098073a4b05943d1c34cd269",
     "grade": false,
     "grade_id": "cell-f765e664087d74f0",
     "locked": false,
     "schema_version": 3,
     "solution": true,
     "task": false
    }
   },
   "outputs": [
    {
     "data": {
      "text/plain": [
       "array([1., 1., 1.])"
      ]
     },
     "execution_count": 112,
     "metadata": {},
     "output_type": "execute_result"
    }
   ],
   "source": [
    "sigmoid_scores = 0\n",
    "\n",
    "# YOUR CODE HERE\n",
    "sigmoid_scores = sigmoid(scores)\n",
    "sigmoid_scores"
   ]
  },
  {
   "cell_type": "code",
   "execution_count": 113,
   "metadata": {
    "deletable": false,
    "editable": false,
    "nbgrader": {
     "cell_type": "code",
     "checksum": "59accb48455763884ad26df082df1b43",
     "grade": true,
     "grade_id": "cell-4210905859c1bf9d",
     "locked": true,
     "points": 0,
     "schema_version": 3,
     "solution": false,
     "task": false
    }
   },
   "outputs": [],
   "source": [
    "assert sigmoid_scores.shape == (3,)"
   ]
  },
  {
   "cell_type": "markdown",
   "metadata": {
    "deletable": false,
    "editable": false,
    "nbgrader": {
     "cell_type": "markdown",
     "checksum": "84b3121b89f0d0a78dc17ce6bb24e6fa",
     "grade": false,
     "grade_id": "cell-4826ac496f74789c",
     "locked": true,
     "schema_version": 3,
     "solution": false,
     "task": false
    }
   },
   "source": [
    "Take the `step_scores` as predicted scores. You know that you can update your model weights using the formula:\n",
    "$$w_{i(new)}=w_{i(old)} + \\eta(y-\\hat{y})x_{i}$$\n",
    "where $y$ is the correct label of your data point (your `y[i]`) and $\\hat{y}$ is the `step_scores`. And what about $\\eta$? It's the learning rate. \n",
    "\n",
    "Set the learning rate to 0.1, and create the function `update(W_old, b_old, X, y, step_scores, eta)` that returns the updated weigths vector and bias. Test it using as input (X,y) the first data point of your dataset (*Hint*:`X[0], y[0]`, and of course `step_score[0]`)."
   ]
  },
  {
   "cell_type": "code",
   "execution_count": 114,
   "metadata": {
    "deletable": false,
    "nbgrader": {
     "cell_type": "code",
     "checksum": "87494e3786cf53af9cec534b0596a8fb",
     "grade": false,
     "grade_id": "cell-d26387e4b70d46a5",
     "locked": false,
     "schema_version": 3,
     "solution": true,
     "task": false
    }
   },
   "outputs": [
    {
     "data": {
      "text/plain": [
       "(array([-0.03735887,  0.65758266,  0.57388858,  1.03634684]),\n",
       " array([-0.48652112]),\n",
       " array([-0.03735887,  0.65758266,  0.57388858,  1.03634684]),\n",
       " array([-0.48652112]))"
      ]
     },
     "execution_count": 114,
     "metadata": {},
     "output_type": "execute_result"
    }
   ],
   "source": [
    "def update_weights(W_old, b_old, X, y, step_scores, eta):\n",
    "    W_new = W_old + eta * (y - step_scores) * X\n",
    "    b_new = b_old + eta * (y - step_scores)\n",
    "\n",
    "    return W_new, b_new\n",
    "\n",
    "W_new, b_new = update_weights(0, 0, 0, 0, 0, 0)\n",
    "\n",
    "# YOUR CODE HERE\n",
    "W_new, b_new = update_weights(W, b, X[0], y[0], step_scores[0], 0.1)\n",
    "\n",
    "\n",
    "W, b, W_new, b_new"
   ]
  },
  {
   "cell_type": "code",
   "execution_count": 115,
   "metadata": {
    "deletable": false,
    "editable": false,
    "nbgrader": {
     "cell_type": "code",
     "checksum": "2f2dfbdb9982ef1e39cfe34e87959181",
     "grade": true,
     "grade_id": "cell-8465db2dfb20da02",
     "locked": true,
     "points": 0,
     "schema_version": 3,
     "solution": false,
     "task": false
    }
   },
   "outputs": [],
   "source": [
    "assert W_new.shape == (4,)\n",
    "assert b_new.shape == (1,)"
   ]
  },
  {
   "cell_type": "markdown",
   "metadata": {
    "deletable": false,
    "editable": false,
    "nbgrader": {
     "cell_type": "markdown",
     "checksum": "edc54e40c6843756eff23b13084fcc4b",
     "grade": false,
     "grade_id": "cell-12a625a98ceda43c",
     "locked": true,
     "schema_version": 3,
     "solution": false,
     "task": false
    }
   },
   "source": [
    "Create a for loop to update the weights on each of the points in your dataset. In other words:\n",
    "Iterate over the data points in X and the labels in y\n",
    "- compute the `step_score` using the W, b that you have randomly inititated\n",
    "- use the `update_weights` function to update them\n",
    "- repeat\n",
    "\n",
    "Do it for 10 epochs."
   ]
  },
  {
   "cell_type": "code",
   "execution_count": 116,
   "metadata": {},
   "outputs": [
    {
     "name": "stdout",
     "output_type": "stream",
     "text": [
      "[[4.5000e+00 2.0000e+02 4.3500e+03 1.0000e+00]\n",
      " [3.2000e+00 4.5000e+02 3.5262e+04 0.0000e+00]\n",
      " [4.0000e+00 1.5503e+04 6.4637e+04 1.0000e+00]]\n",
      "[1 1 0]\n"
     ]
    }
   ],
   "source": [
    "print(X)\n",
    "print(y)"
   ]
  },
  {
   "cell_type": "code",
   "execution_count": 117,
   "metadata": {
    "deletable": false,
    "nbgrader": {
     "cell_type": "code",
     "checksum": "4becc3d6391f1cde47d257f19641abf4",
     "grade": false,
     "grade_id": "cell-67c5d7eaf5a420b2",
     "locked": false,
     "schema_version": 3,
     "solution": true,
     "task": false
    }
   },
   "outputs": [
    {
     "name": "stdout",
     "output_type": "stream",
     "text": [
      "[-0.03735887  0.65758266  0.57388858  1.03634684] [-0.48652112]\n",
      "[-0.03735887  0.65758266  0.57388858  1.03634684] [-0.48652112]\n",
      "[-4.37358868e-01 -1.54964242e+03 -6.46312611e+03  9.36346836e-01] [-0.58652112]\n",
      "[-0.03735887  0.65758266  0.57388858  1.03634684] [-0.48652112]\n",
      "[-0.03735887  0.65758266  0.57388858  1.03634684] [-0.48652112]\n",
      "[-4.37358868e-01 -1.54964242e+03 -6.46312611e+03  9.36346836e-01] [-0.58652112]\n",
      "[-0.03735887  0.65758266  0.57388858  1.03634684] [-0.48652112]\n",
      "[-0.03735887  0.65758266  0.57388858  1.03634684] [-0.48652112]\n",
      "[-4.37358868e-01 -1.54964242e+03 -6.46312611e+03  9.36346836e-01] [-0.58652112]\n",
      "[-0.03735887  0.65758266  0.57388858  1.03634684] [-0.48652112]\n",
      "[-0.03735887  0.65758266  0.57388858  1.03634684] [-0.48652112]\n",
      "[-4.37358868e-01 -1.54964242e+03 -6.46312611e+03  9.36346836e-01] [-0.58652112]\n",
      "[-0.03735887  0.65758266  0.57388858  1.03634684] [-0.48652112]\n",
      "[-0.03735887  0.65758266  0.57388858  1.03634684] [-0.48652112]\n",
      "[-4.37358868e-01 -1.54964242e+03 -6.46312611e+03  9.36346836e-01] [-0.58652112]\n",
      "[-0.03735887  0.65758266  0.57388858  1.03634684] [-0.48652112]\n",
      "[-0.03735887  0.65758266  0.57388858  1.03634684] [-0.48652112]\n",
      "[-4.37358868e-01 -1.54964242e+03 -6.46312611e+03  9.36346836e-01] [-0.58652112]\n",
      "[-0.03735887  0.65758266  0.57388858  1.03634684] [-0.48652112]\n",
      "[-0.03735887  0.65758266  0.57388858  1.03634684] [-0.48652112]\n",
      "[-4.37358868e-01 -1.54964242e+03 -6.46312611e+03  9.36346836e-01] [-0.58652112]\n",
      "[-0.03735887  0.65758266  0.57388858  1.03634684] [-0.48652112]\n",
      "[-0.03735887  0.65758266  0.57388858  1.03634684] [-0.48652112]\n",
      "[-4.37358868e-01 -1.54964242e+03 -6.46312611e+03  9.36346836e-01] [-0.58652112]\n",
      "[-0.03735887  0.65758266  0.57388858  1.03634684] [-0.48652112]\n",
      "[-0.03735887  0.65758266  0.57388858  1.03634684] [-0.48652112]\n",
      "[-4.37358868e-01 -1.54964242e+03 -6.46312611e+03  9.36346836e-01] [-0.58652112]\n",
      "[-0.03735887  0.65758266  0.57388858  1.03634684] [-0.48652112]\n",
      "[-0.03735887  0.65758266  0.57388858  1.03634684] [-0.48652112]\n",
      "[-4.37358868e-01 -1.54964242e+03 -6.46312611e+03  9.36346836e-01] [-0.58652112]\n"
     ]
    }
   ],
   "source": [
    "epochs = 10\n",
    "step_score = step(scores)\n",
    "eta = 0.1\n",
    "for epoch in range(epochs):\n",
    "    for x, label in zip(X, y):\n",
    "        W_new, b_new = update_weights(W, b, x, label, step_scores[label], eta)\n",
    "        print(W_new, b_new)\n",
    "        \n",
    "        \n",
    "        \n",
    "\n",
    "# YOUR CODE HERE\n"
   ]
  },
  {
   "cell_type": "code",
   "execution_count": 118,
   "metadata": {
    "deletable": false,
    "editable": false,
    "nbgrader": {
     "cell_type": "code",
     "checksum": "059f8e429ddece34350bf1846d007bcd",
     "grade": true,
     "grade_id": "cell-2c08018e859be627",
     "locked": true,
     "points": 1,
     "schema_version": 3,
     "solution": false,
     "task": false
    }
   },
   "outputs": [],
   "source": [
    "assert W_new.shape == (4,)\n",
    "assert b_new.shape == (1,)"
   ]
  },
  {
   "cell_type": "markdown",
   "metadata": {
    "deletable": false,
    "editable": false,
    "nbgrader": {
     "cell_type": "markdown",
     "checksum": "36f9e15188262c75b50256659121d9ec",
     "grade": false,
     "grade_id": "cell-c5747c2671ca337b",
     "locked": true,
     "schema_version": 3,
     "solution": false,
     "task": false
    }
   },
   "source": [
    "Now that you got so far, let's try to train a model for the Iris Dataset.\n",
    "\n",
    "Maybe you don't like it, but you can't do great things using a perceptron. At the same time, understanding the steps behind it can help you a lot to build your understanding around the neural networks. \n",
    "\n",
    "In fact, a neural network is basically the combination of multiple perceptrons on the same input, and a deep neural network is a combination of multiple perceptrons on the combination of multiple perceptrons on ... on the same input! \n",
    "\n",
    "I'll help you giving an helper function that, given weights, bias, (x1,x2) coordinates and binary labels, plots the data points and the boundary line:"
   ]
  },
  {
   "cell_type": "code",
   "execution_count": 119,
   "metadata": {
    "deletable": false,
    "editable": false,
    "nbgrader": {
     "cell_type": "code",
     "checksum": "4298900d8ab7430698ca3506b9769206",
     "grade": false,
     "grade_id": "cell-b85e4f97033e7343",
     "locked": true,
     "schema_version": 3,
     "solution": false,
     "task": false
    }
   },
   "outputs": [],
   "source": [
    "from IPython import display\n",
    "import time\n",
    "# function that plots data and linear classifier\n",
    "def plot_border(w1, w2, b, data, fig):\n",
    "    \n",
    "    plt.axis([0, 10, 0, 6])\n",
    "    plt.grid()\n",
    "    \n",
    "    # scatter data\n",
    "    for i in range(len(data)) :\n",
    "        point = data[i]\n",
    "        color = \"r\"\n",
    "        if point[2] == 0 :\n",
    "            color = \"b\"\n",
    "        plt.scatter(point[0], point[1], c=color)\n",
    "\n",
    "    # separation line\n",
    "    x = np.linspace(0, 10, 100)\n",
    "    plt.plot(x, -w1/w2*x+b/w2, '-g', label='y=w1*x+b')\n",
    "    plt.show()"
   ]
  },
  {
   "cell_type": "code",
   "execution_count": 120,
   "metadata": {},
   "outputs": [],
   "source": [
    "### load data ###\n",
    "\n",
    "# each point is a tuple (sepal length, sepal width, flower type)\n",
    "# types: 0 for Setosa & 1 for Versicolor\n",
    "\n",
    "data = [[ 5.1,  3.5,  0 ],\n",
    "       [ 4.9,  3. ,  0 ],\n",
    "       [ 4.7,  3.2,  0 ],\n",
    "       [ 4.6,  3.1,  0 ],\n",
    "       [ 5. ,  3.6,  0 ],\n",
    "       [ 5.4,  3.9,  0 ],\n",
    "       [ 4.6,  3.4,  0 ],\n",
    "       [ 5. ,  3.4,  0 ],\n",
    "       [ 4.4,  2.9,  0 ],\n",
    "       [ 4.9,  3.1,  0 ],\n",
    "       [ 5.4,  3.7,  0 ],\n",
    "       [ 4.8,  3.4,  0 ],\n",
    "       [ 4.8,  3. ,  0 ],\n",
    "       [ 4.3,  3. ,  0 ],\n",
    "       [ 5.8,  4. ,  0 ],\n",
    "       [ 5.7,  4.4,  0 ],\n",
    "       [ 5.4,  3.9,  0 ],\n",
    "       [ 5.1,  3.5,  0 ],\n",
    "       [ 5.7,  3.8,  0 ],\n",
    "       [ 5.1,  3.8,  0 ],\n",
    "       [ 7. ,  3.2,  1 ],\n",
    "       [ 6.4,  3.2,  1 ],\n",
    "       [ 6.9,  3.1,  1 ],\n",
    "       [ 5.5,  2.3,  1 ],\n",
    "       [ 6.5,  2.8,  1 ],\n",
    "       [ 5.7,  2.8,  1 ],\n",
    "       [ 6.3,  3.3,  1 ],\n",
    "       [ 4.9,  2.4,  1 ],\n",
    "       [ 6.6,  2.9,  1 ],\n",
    "       [ 5.2,  2.7,  1 ],\n",
    "       [ 5. ,  2. ,  1 ],\n",
    "       [ 5.9,  3. ,  1 ],\n",
    "       [ 6. ,  2.2,  1 ],\n",
    "       [ 6.1,  2.9,  1 ],\n",
    "       [ 5.6,  2.9,  1 ],\n",
    "       [ 6.7,  3.1,  1 ],\n",
    "       [ 5.6,  3. ,  1 ],\n",
    "       [ 5.8,  2.7,  1 ],\n",
    "       [ 6.2,  2.2,  1 ],\n",
    "       [ 5.6,  2.5,  1 ],\n",
    "       [ 5.9,  3.2,  1 ],\n",
    "       [ 6.1,  2.8,  1 ],\n",
    "       [ 6.3,  2.5,  1 ],\n",
    "       [ 6.1,  2.8,  1 ],\n",
    "       [ 6.4,  2.9,  1 ]]\n",
    "\n",
    "data = np.array(data)\n"
   ]
  },
  {
   "cell_type": "markdown",
   "metadata": {},
   "source": [
    "Plot the data:"
   ]
  },
  {
   "cell_type": "code",
   "execution_count": 121,
   "metadata": {
    "deletable": false,
    "nbgrader": {
     "cell_type": "code",
     "checksum": "2f508147b474170f40bd356792b4aa2c",
     "grade": true,
     "grade_id": "cell-036364c621db11d5",
     "locked": false,
     "points": 0,
     "schema_version": 3,
     "solution": true,
     "task": false
    }
   },
   "outputs": [
    {
     "data": {
      "image/png": "[encoded data removed]",
      "text/plain": [
       "<Figure size 432x288 with 1 Axes>"
      ]
     },
     "metadata": {
      "needs_background": "light"
     },
     "output_type": "display_data"
    }
   ],
   "source": [
    "\n",
    "### visualize data ###\n",
    "\n",
    "plt.axis([0, 10, 0, 6])\n",
    "plt.grid()\n",
    "for point in data:\n",
    "    plt.scatter(point[0],point[1], c=point[2])\n",
    "   \n",
    "\n",
    "\n",
    "# YOUR CODE HERE\n"
   ]
  },
  {
   "cell_type": "markdown",
   "metadata": {
    "deletable": false,
    "editable": false,
    "nbgrader": {
     "cell_type": "markdown",
     "checksum": "d5bb1c568659a522abc9707149c898db",
     "grade": false,
     "grade_id": "cell-1c1ee0a9107a6d90",
     "locked": true,
     "schema_version": 3,
     "solution": false,
     "task": false
    }
   },
   "source": [
    "Set the learning rate `eta` to 1, initialize the weights `w1` and `w2` by using the `np.random.rand()` method, and the bias `b` to 0. Then, run for 100 epochs the perceptron algorithm:\n",
    "- remember to shuffle the data at each epoch using the `np.random.shuffle(data)` function\n",
    "- in the for loop there's already a snippet for updating the image everytime:\n",
    "```\n",
    "plot_border(w1, w2, b, data_norm, fig)\n",
    "display.clear_output(wait=True)\n",
    "time.sleep(0.05)\n",
    "```\n",
    "- The weights here are on the form `w1` and `w2`. However, to use your previous code and so the dot product between W and the data, you need to pack `W = np.array([w1, w2])` and then to unpack `w1, w2 = W` before plotting at each epoch!\n"
   ]
  },
  {
   "cell_type": "code",
   "execution_count": 122,
   "metadata": {
    "deletable": false,
    "nbgrader": {
     "cell_type": "code",
     "checksum": "6719a9339a103326ef06123041ea9e92",
     "grade": false,
     "grade_id": "cell-b23508422bcf31b6",
     "locked": false,
     "schema_version": 3,
     "solution": true,
     "task": false
    }
   },
   "outputs": [
    {
     "data": {
      "image/png": "[encoded data removed]",
      "text/plain": [
       "<Figure size 432x288 with 1 Axes>"
      ]
     },
     "metadata": {
      "needs_background": "light"
     },
     "output_type": "display_data"
    },
    {
     "name": "stdout",
     "output_type": "stream",
     "text": [
      "[ 4.48094425 -7.33013037] 4.48094425147199 -7.330130373057474 -1.0\n"
     ]
    }
   ],
   "source": [
    "eta = 1\n",
    "epochs = 100\n",
    "w1 = np.random.rand()\n",
    "w2 = np.random.rand()\n",
    "b = 0\n",
    "print(w1, w2)\n",
    "fig = plt.figure()\n",
    "for epoch in range(epochs):\n",
    "    np.random.shuffle(data) # shuffle data\n",
    "    for x1, x2, y in data:\n",
    "        W = np.array([w1, w2])\n",
    "        X = np.array([x1, x2])\n",
    "        score = np.dot(W, X) + b\n",
    "        step_score = step(score)\n",
    "        W_new, b_new = update_weights(W, b, X, y, step_score, eta)\n",
    "        w1, w2 = W_new\n",
    "        b = b_new\n",
    "\n",
    "    plot_border(w1, w2, b, data, fig)\n",
    "    display.clear_output(wait=True)    \n",
    "# YOUR CODE HERE\n",
    "plot_border(w1, w2, b, data, fig)\n",
    "print(W, w1, w2, b)"
   ]
  },
  {
   "cell_type": "code",
   "execution_count": 123,
   "metadata": {
    "deletable": false,
    "editable": false,
    "nbgrader": {
     "cell_type": "code",
     "checksum": "3b1477cbf6069cb19a8a7f63e7fe2746",
     "grade": true,
     "grade_id": "cell-99b2cdb1e86fbbb5",
     "locked": true,
     "points": 1,
     "schema_version": 3,
     "solution": false,
     "task": false
    }
   },
   "outputs": [],
   "source": [
    "assert W.shape == (2,)\n",
    "assert W[0] == w1\n",
    "assert W[1] == w2"
   ]
  },
  {
   "cell_type": "markdown",
   "metadata": {
    "deletable": false,
    "editable": false,
    "nbgrader": {
     "cell_type": "markdown",
     "checksum": "4b0331bf9ca9378f7716016c94594703",
     "grade": false,
     "grade_id": "cell-6a496aa312f453c5",
     "locked": true,
     "schema_version": 3,
     "solution": false,
     "task": false
    }
   },
   "source": [
    "Implement a function `guess_flower(sepal_length, sepal_width, W, b)` that prints Iris-setosa in case of negative score and return 0, Iris-versicolor in case of positive score and return 1."
   ]
  },
  {
   "cell_type": "code",
   "execution_count": 124,
   "metadata": {
    "deletable": false,
    "nbgrader": {
     "cell_type": "code",
     "checksum": "1d42de1824f7bbb3df7a7d57f8d6a24e",
     "grade": false,
     "grade_id": "cell-42542b2b2667947c",
     "locked": false,
     "schema_version": 3,
     "solution": true,
     "task": false
    }
   },
   "outputs": [],
   "source": [
    "# prediction function: 0 for Iris-setosa and 1 for Iris-versicolor\n",
    "\n",
    "def guess_flower(sepal_length, sepal_width, W, b):\n",
    "    if W[0] * sepal_length + W[1] * sepal_width + b < 0:\n",
    "        print('Iris-setosa')\n",
    "        return 0\n",
    "    else:\n",
    "        print('Iris-versicolor')\n",
    "        return 1\n",
    "        \n",
    "# YOUR CODE HERE\n",
    "\n",
    "\n"
   ]
  },
  {
   "cell_type": "code",
   "execution_count": 125,
   "metadata": {
    "deletable": false,
    "editable": false,
    "nbgrader": {
     "cell_type": "code",
     "checksum": "f42eacdc4b7e7e4f680350d2810ee527",
     "grade": true,
     "grade_id": "cell-673093aba4d0b46b",
     "locked": true,
     "points": 1,
     "schema_version": 3,
     "solution": false,
     "task": false
    }
   },
   "outputs": [
    {
     "name": "stdout",
     "output_type": "stream",
     "text": [
      "Iris-setosa\n"
     ]
    }
   ],
   "source": [
    "assert guess_flower(5.4, 3.4, W, b) == 0 or guess_flower(5.4, 3.4, W, b) == 1"
   ]
  },
  {
   "cell_type": "code",
   "execution_count": 126,
   "metadata": {
    "deletable": false,
    "editable": false,
    "nbgrader": {
     "cell_type": "code",
     "checksum": "769530b20d3c2f8499c0f4549319734e",
     "grade": false,
     "grade_id": "cell-0acff77c129b57cb",
     "locked": true,
     "schema_version": 3,
     "solution": false,
     "task": false
    }
   },
   "outputs": [],
   "source": [
    "test_data = [[ 5.4,  3.4,  0. ],\n",
    "           [ 4.6,  3.6,  0. ],\n",
    "           [ 5.1,  3.3,  0. ],\n",
    "           [ 4.8,  3.4,  0. ],\n",
    "           [ 5. ,  3. ,  0. ],\n",
    "           [ 5. ,  3.4,  0. ],\n",
    "           [ 5.2,  3.5,  0. ],\n",
    "           [ 5.2,  3.4,  0. ],\n",
    "           [ 4.7,  3.2,  0. ],\n",
    "           [ 4.8,  3.1,  0. ],\n",
    "           [ 5.4,  3.4,  0. ],\n",
    "           [ 5.2,  4.1,  0. ],\n",
    "           [ 5.5,  4.2,  0. ],\n",
    "           [ 4.9,  3.1,  0. ],\n",
    "           [ 5. ,  3.2,  0. ],\n",
    "           [ 5.5,  3.5,  0. ],\n",
    "           [ 4.9,  3.1,  0. ],\n",
    "           [ 4.4,  3. ,  0. ],\n",
    "           [ 5.1,  3.4,  0. ],\n",
    "           [ 5. ,  3.5,  0. ],\n",
    "           [ 4.5,  2.3,  0. ],\n",
    "           [ 4.4,  3.2,  0. ],\n",
    "           [ 5. ,  3.5,  0. ],\n",
    "           [ 5.1,  3.8,  0. ],\n",
    "           [ 4.8,  3. ,  0. ],\n",
    "           [ 5.1,  3.8,  0. ],\n",
    "           [ 4.6,  3.2,  0. ],\n",
    "           [ 5.3,  3.7,  0. ],\n",
    "           [ 5. ,  3.3,  0. ],\n",
    "           [ 6.8,  2.8,  1. ],\n",
    "           [ 6.7,  3. ,  1. ],\n",
    "           [ 6. ,  2.9,  1. ],\n",
    "           [ 5.7,  2.6,  1. ],\n",
    "           [ 5.5,  2.4,  1. ],\n",
    "           [ 5.5,  2.4,  1. ],\n",
    "           [ 5.8,  2.7,  1. ],\n",
    "           [ 6. ,  2.7,  1. ],\n",
    "           [ 5.4,  3. ,  1. ],\n",
    "           [ 6. ,  3.4,  1. ],\n",
    "           [ 6.7,  3.1,  1. ],\n",
    "           [ 6.3,  2.3,  1. ],\n",
    "           [ 5.6,  3. ,  1. ],\n",
    "           [ 5.5,  2.5,  1. ],\n",
    "           [ 5.5,  2.6,  1. ],\n",
    "           [ 6.1,  3. ,  1. ],\n",
    "           [ 5.8,  2.6,  1. ],\n",
    "           [ 5. ,  2.3,  1. ],\n",
    "           [ 5.6,  2.7,  1. ],\n",
    "           [ 5.7,  3. ,  1. ],\n",
    "           [ 5.7,  2.9,  1. ],\n",
    "           [ 6.2,  2.9,  1. ],\n",
    "           [ 5.1,  2.5,  1. ],\n",
    "           [ 5.7,  2.8,  1. ]]"
   ]
  },
  {
   "cell_type": "markdown",
   "metadata": {
    "deletable": false,
    "editable": false,
    "nbgrader": {
     "cell_type": "markdown",
     "checksum": "55e2eae86b7f3facd5be7d26723e0da5",
     "grade": false,
     "grade_id": "cell-b8ae92790fc39da9",
     "locked": true,
     "schema_version": 3,
     "solution": false,
     "task": false
    }
   },
   "source": [
    "Test your model on the test set. You should be able to achieve at least 95% accuracy. Provide your model in `W` and `b` and your function `guess_flower(x1, x2, W, b)` should accept the parameters in that order."
   ]
  },
  {
   "cell_type": "code",
   "execution_count": null,
   "metadata": {
    "deletable": false,
    "nbgrader": {
     "cell_type": "code",
     "checksum": "3a4465620755633de32b4b54866ddd7e",
     "grade": false,
     "grade_id": "cell-aaa30ec08a34fef2",
     "locked": false,
     "schema_version": 3,
     "solution": true,
     "task": false
    }
   },
   "outputs": [],
   "source": [
    "# If you called W and b in a different way, here you can rename it.\n",
    "# Otherwise, check the accuracy you achieved\n",
    "\n",
    "# YOUR CODE HERE\n"
   ]
  },
  {
   "cell_type": "code",
   "execution_count": null,
   "metadata": {
    "deletable": false,
    "editable": false,
    "nbgrader": {
     "cell_type": "code",
     "checksum": "e4dd631273ff4351b66ffcf572595f9f",
     "grade": true,
     "grade_id": "cell-76baa44f7564d8d4",
     "locked": true,
     "points": 1,
     "schema_version": 3,
     "solution": false,
     "task": false
    }
   },
   "outputs": [],
   "source": [
    "assert correct/total >= 0.95"
   ]
  },
  {
   "cell_type": "markdown",
   "metadata": {
    "deletable": false,
    "editable": false,
    "nbgrader": {
     "cell_type": "markdown",
     "checksum": "43638806c031343f5ec0544b2588ad97",
     "grade": false,
     "grade_id": "cell-992c3ee9250c6a76",
     "locked": true,
     "schema_version": 3,
     "solution": false,
     "task": false
    }
   },
   "source": [
    "## Challenge\n",
    "\n",
    "Can you make a cool animation of the running algorithm and post it on the social? 😉\n",
    "\n",
    "If you create it directly using Python, it's a plus!"
   ]
  },
  {
   "cell_type": "code",
   "execution_count": null,
   "metadata": {},
   "outputs": [],
   "source": []
  }
 ],
 "metadata": {
  "kernelspec": {
   "display_name": "Python 3",
   "language": "python",
   "name": "python3"
  },
  "language_info": {
   "codemirror_mode": {
    "name": "ipython",
    "version": 3
   },
   "file_extension": ".py",
   "mimetype": "text/x-python",
   "name": "python",
   "nbconvert_exporter": "python",
   "pygments_lexer": "ipython3",
   "version": "3.8.8"
  }
 },
 "nbformat": 4,
 "nbformat_minor": 2
}
