{
 "cells": [
  {
   "cell_type": "markdown",
   "metadata": {
    "deletable": false,
    "editable": false,
    "nbgrader": {
     "cell_type": "markdown",
     "checksum": "15b574805137b9279ac4eaf2a98dde5a",
     "grade": false,
     "grade_id": "cell-626178c48d82cf7b",
     "locked": true,
     "schema_version": 3,
     "solution": false,
     "task": false
    }
   },
   "source": [
    "***Perceptron***\n"
   ]
  },
  {
   "cell_type": "code",
   "execution_count": 5,
   "metadata": {
    "ExecuteTime": {
     "end_time": "2021-05-25T18:36:46.634014Z",
     "start_time": "2021-05-25T18:36:46.560072Z"
    },
    "deletable": false,
    "editable": false,
    "nbgrader": {
     "cell_type": "code",
     "checksum": "ee78954366926c1b629f8d1f06370456",
     "grade": false,
     "grade_id": "cell-971c8877f1ab5326",
     "locked": true,
     "schema_version": 3,
     "solution": false,
     "task": false
    }
   },
   "outputs": [],
   "source": [
    "import pandas as pd\n",
    "import numpy as np\n",
    "import matplotlib.pyplot as plt\n",
    "%matplotlib inline"
   ]
  },
  {
   "cell_type": "markdown",
   "metadata": {
    "deletable": false,
    "editable": false,
    "nbgrader": {
     "cell_type": "markdown",
     "checksum": "0d8eca36c80e9886e2ce237b0a556bd5",
     "grade": false,
     "grade_id": "cell-01157c0fe6df0335",
     "locked": true,
     "schema_version": 3,
     "solution": false,
     "task": false
    }
   },
   "source": [
    "Use the `make_guassian_quantiles` function from the `sklearn.datasets`class to create 1000 2-dimensional data points with two labels. Put the data in the variable `X` and the classes in the variable `c`. Use `random_state=42`."
   ]
  },
  {
   "cell_type": "code",
   "execution_count": 48,
   "metadata": {
    "ExecuteTime": {
     "end_time": "2021-05-25T19:30:47.803587Z",
     "start_time": "2021-05-25T19:30:47.787601Z"
    },
    "deletable": false,
    "nbgrader": {
     "cell_type": "code",
     "checksum": "b484fbae43e4fba2d1d69fc39ece9efc",
     "grade": false,
     "grade_id": "cell-63d28a4a996eb894",
     "locked": false,
     "schema_version": 3,
     "solution": true,
     "task": false
    }
   },
   "outputs": [
    {
     "name": "stdout",
     "output_type": "stream",
     "text": [
      "(1000, 2)\n",
      "(1000,)\n",
      "1\n",
      "0\n"
     ]
    }
   ],
   "source": [
    "X = 0\n",
    "c = 0\n",
    "\n",
    "# YOUR CODE HERE\n",
    "# raise NotImplementedError()\n",
    "import sklearn.datasets as dt\n",
    "\n",
    "X, c = dt.make_gaussian_quantiles(n_samples=1000, n_features=2, n_classes= 2, random_state= 42)\n",
    "\n",
    "\n",
    "# print(X)\n",
    "# print(X[:,:1])\n",
    "# test = X[:,:1]\n",
    "print(X.shape)\n",
    "print(c.shape)\n",
    "print(c.max())\n",
    "print(c.min())\n"
   ]
  },
  {
   "cell_type": "code",
   "execution_count": 16,
   "metadata": {
    "ExecuteTime": {
     "end_time": "2021-05-25T18:43:05.508828Z",
     "start_time": "2021-05-25T18:43:05.494863Z"
    },
    "deletable": false,
    "editable": false,
    "nbgrader": {
     "cell_type": "code",
     "checksum": "9f7a9ef676a2b7d5e94cb44d6bb8fb21",
     "grade": true,
     "grade_id": "cell-966bf7e3648a388c",
     "locked": true,
     "points": 1,
     "schema_version": 3,
     "solution": false,
     "task": false
    }
   },
   "outputs": [],
   "source": [
    "assert X.shape == (1000,2)\n",
    "assert c.shape == (1000,)\n",
    "assert c.max() == 1\n",
    "assert c.min() == 0"
   ]
  },
  {
   "cell_type": "markdown",
   "metadata": {
    "deletable": false,
    "editable": false,
    "nbgrader": {
     "cell_type": "markdown",
     "checksum": "ea0269f558a7c3ea6bca25fa984de8e3",
     "grade": false,
     "grade_id": "cell-dfa16baa15d50145",
     "locked": true,
     "schema_version": 3,
     "solution": false,
     "task": false
    }
   },
   "source": [
    "Make a scatterplot of the generated points using two different colors for the different classes."
   ]
  },
  {
   "cell_type": "code",
   "execution_count": 46,
   "metadata": {
    "ExecuteTime": {
     "end_time": "2021-05-25T19:22:39.527361Z",
     "start_time": "2021-05-25T19:22:39.324192Z"
    },
    "deletable": false,
    "nbgrader": {
     "cell_type": "code",
     "checksum": "feb558928c6e6d94de09aacfb2e8cdbc",
     "grade": false,
     "grade_id": "cell-7cad454d15726ed1",
     "locked": false,
     "schema_version": 3,
     "solution": true,
     "task": false
    }
   },
   "outputs": [
    {
     "data": {
      "image/png": "[encoded data removed]",
      "text/plain": [
       "<Figure size 432x288 with 1 Axes>"
      ]
     },
     "metadata": {
      "needs_background": "light"
     },
     "output_type": "display_data"
    }
   ],
   "source": [
    "\n",
    "# YOUR CODE HERE\n",
    "# raise NotImplementedError()\n",
    "plt.scatter(X[:,0:1], X[:,-1], c =\"red\")\n",
    "plt.scatter(X[:,0:1], c[:], c =\"blue\")\n",
    "plt.title('Scatter plot ')\n",
    "plt.xlabel('x')\n",
    "plt.ylabel('y')\n",
    "plt.show()\n"
   ]
  },
  {
   "cell_type": "markdown",
   "metadata": {
    "deletable": false,
    "editable": false,
    "nbgrader": {
     "cell_type": "markdown",
     "checksum": "a13ee988fb8746d643a03f7355cfc369",
     "grade": false,
     "grade_id": "cell-191c48ff3e8dde28",
     "locked": true,
     "schema_version": 3,
     "solution": false,
     "task": false
    }
   },
   "source": [
    "Create a function that takes as input `x` and returns the sigmoid of `x` and test it on the given vector `v` (storing the result in the variable `v_activated`.\n",
    "\n",
    "*N.B.* The sigmoid function should accept any iterable as input, but must return a numpy array."
   ]
  },
  {
   "cell_type": "code",
   "execution_count": 82,
   "metadata": {
    "ExecuteTime": {
     "end_time": "2021-05-25T20:26:31.046696Z",
     "start_time": "2021-05-25T20:26:31.039687Z"
    },
    "deletable": false,
    "nbgrader": {
     "cell_type": "code",
     "checksum": "22cf27ede4a612a862662ebdaef40cf9",
     "grade": false,
     "grade_id": "cell-25c6e2ab20993a7e",
     "locked": false,
     "schema_version": 3,
     "solution": true,
     "task": false
    }
   },
   "outputs": [],
   "source": [
    "v = [1, 2, -1]\n",
    "\n",
    "def sigmoid(x):\n",
    "    pass\n",
    "\n",
    "v_activated = 0\n",
    "\n",
    "# YOUR CODE HERE\n",
    "# raise NotImplementedError()\n",
    "def sigmoid(x):\n",
    "    return 1 / (1 + np.exp(-x))\n",
    "\n",
    "v_activated = 0\n",
    "\n",
    "\n",
    "def arr_of_sigM(arr):\n",
    "    my_arr = []\n",
    "    for i in range(len(arr)):\n",
    "        my_arr.append(sigmoid(arr[i]))\n",
    "    return np.array(my_arr)\n",
    "\n",
    "\n",
    "v_activated = arr_of_sigM(v)\n",
    "        "
   ]
  },
  {
   "cell_type": "code",
   "execution_count": 83,
   "metadata": {
    "ExecuteTime": {
     "end_time": "2021-05-25T20:26:33.413876Z",
     "start_time": "2021-05-25T20:26:33.407918Z"
    },
    "deletable": false,
    "editable": false,
    "nbgrader": {
     "cell_type": "code",
     "checksum": "97ec1ed7a9f1776ae2b2b68eb97a0387",
     "grade": true,
     "grade_id": "cell-083dec44f74fed1a",
     "locked": true,
     "points": 1,
     "schema_version": 3,
     "solution": false,
     "task": false
    }
   },
   "outputs": [],
   "source": [
    "assert np.round(v_activated[0], 2) == 0.73\n",
    "assert np.round(v_activated[1], 2) == 0.88\n",
    "assert np.round(v_activated[2], 2) == 0.27\n",
    "\n"
   ]
  },
  {
   "cell_type": "markdown",
   "metadata": {},
   "source": [
    "Define the step function. As for the sigmoid, create a function that takes as input `x` and returns the sigmoid of `x` and test it on the given vector `v` (storing the result in the variable `v_activated`."
   ]
  },
  {
   "cell_type": "code",
   "execution_count": 84,
   "metadata": {
    "ExecuteTime": {
     "end_time": "2021-05-25T20:27:23.302561Z",
     "start_time": "2021-05-25T20:27:23.290619Z"
    },
    "deletable": false,
    "nbgrader": {
     "cell_type": "code",
     "checksum": "5941e50e5aa61278563e648c0f7e41cd",
     "grade": false,
     "grade_id": "cell-4f9ebef5da14c733",
     "locked": false,
     "schema_version": 3,
     "solution": true,
     "task": false
    }
   },
   "outputs": [],
   "source": [
    "v = [1, 0, -1]\n",
    "\n",
    "def step(x):\n",
    "    pass\n",
    "\n",
    "v_activated = 0\n",
    "\n",
    "# YOUR CODE HERE\n",
    "# raise NotImplementedError()\n",
    "def step(x):\n",
    "    pass\n",
    "\n",
    "v_activated = 0\n",
    "\n",
    "def step(arr):\n",
    "    my_arr = []\n",
    "    for i in range(len(arr)):\n",
    "        if sigmoid(arr[i]) > 0.5:\n",
    "            my_arr.append(float(1))\n",
    "        elif sigmoid(arr[i] < 0.5):\n",
    "            my_arr.append(float(0))\n",
    "    return my_arr\n",
    "#     return np.array(my_arr)\n",
    "               \n",
    "\n",
    "\n",
    "v_activated = (step(v))\n"
   ]
  },
  {
   "cell_type": "code",
   "execution_count": 85,
   "metadata": {
    "ExecuteTime": {
     "end_time": "2021-05-25T20:27:28.491566Z",
     "start_time": "2021-05-25T20:27:28.479595Z"
    }
   },
   "outputs": [
    {
     "data": {
      "text/plain": [
       "[1.0, 0.0, 0.0]"
      ]
     },
     "execution_count": 85,
     "metadata": {},
     "output_type": "execute_result"
    }
   ],
   "source": [
    "v_activated"
   ]
  },
  {
   "cell_type": "code",
   "execution_count": 86,
   "metadata": {
    "ExecuteTime": {
     "end_time": "2021-05-25T20:27:32.188187Z",
     "start_time": "2021-05-25T20:27:32.160264Z"
    },
    "deletable": false,
    "editable": false,
    "nbgrader": {
     "cell_type": "code",
     "checksum": "580e126d5eaeacc6b6195203cc3f7645",
     "grade": true,
     "grade_id": "cell-978a2c6edd8b6234",
     "locked": true,
     "points": 0,
     "schema_version": 3,
     "solution": false,
     "task": false
    }
   },
   "outputs": [
    {
     "ename": "AssertionError",
     "evalue": "",
     "output_type": "error",
     "traceback": [
      "\u001b[1;31m---------------------------------------------------------------------------\u001b[0m",
      "\u001b[1;31mAssertionError\u001b[0m                            Traceback (most recent call last)",
      "\u001b[1;32m<ipython-input-86-5afd80f34428>\u001b[0m in \u001b[0;36m<module>\u001b[1;34m\u001b[0m\n\u001b[0;32m      1\u001b[0m \u001b[1;32massert\u001b[0m \u001b[0mv_activated\u001b[0m\u001b[1;33m[\u001b[0m\u001b[1;36m0\u001b[0m\u001b[1;33m]\u001b[0m \u001b[1;33m==\u001b[0m \u001b[1;36m1.0\u001b[0m\u001b[1;33m\u001b[0m\u001b[1;33m\u001b[0m\u001b[0m\n\u001b[1;32m----> 2\u001b[1;33m \u001b[1;32massert\u001b[0m \u001b[0mv_activated\u001b[0m\u001b[1;33m[\u001b[0m\u001b[1;36m1\u001b[0m\u001b[1;33m]\u001b[0m \u001b[1;33m==\u001b[0m \u001b[1;36m1.0\u001b[0m\u001b[1;33m\u001b[0m\u001b[1;33m\u001b[0m\u001b[0m\n\u001b[0m\u001b[0;32m      3\u001b[0m \u001b[1;32massert\u001b[0m \u001b[0mv_activated\u001b[0m\u001b[1;33m[\u001b[0m\u001b[1;36m2\u001b[0m\u001b[1;33m]\u001b[0m \u001b[1;33m==\u001b[0m \u001b[1;36m0.0\u001b[0m\u001b[1;33m\u001b[0m\u001b[1;33m\u001b[0m\u001b[0m\n",
      "\u001b[1;31mAssertionError\u001b[0m: "
     ]
    }
   ],
   "source": [
    "assert v_activated[0] == 1.0\n",
    "assert v_activated[1] == 1.0\n",
    "assert v_activated[2] == 0.0"
   ]
  },
  {
   "cell_type": "markdown",
   "metadata": {
    "deletable": false,
    "editable": false,
    "nbgrader": {
     "cell_type": "markdown",
     "checksum": "9c4cef7d30da9534c6c7889631acfb8f",
     "grade": false,
     "grade_id": "cell-4e063c1ce286a211",
     "locked": true,
     "schema_version": 3,
     "solution": false,
     "task": false
    }
   },
   "source": [
    "You want to build a model to choose which book to read based on the following three variables:\n",
    "\n",
    "- average reviews on Goodreads (from 1 to 5)\n",
    "- number of 1 stars reviews on Goodreads\n",
    "- number of reviews on Goodreads\n",
    "- it's fiction or not\n",
    "\n",
    "Create a potential dataset with reasonable examples with 5 data points presented in a numpy array of the form `X = np.array([[f11,f12...], [f21, f22,...],...,[f51,f52,...]])` so that the shape of X will be (3,4). In addition, create the `y` vector with binary labels."
   ]
  },
  {
   "cell_type": "code",
   "execution_count": 90,
   "metadata": {
    "ExecuteTime": {
     "end_time": "2021-05-25T20:38:03.588736Z",
     "start_time": "2021-05-25T20:38:03.566793Z"
    },
    "deletable": false,
    "nbgrader": {
     "cell_type": "code",
     "checksum": "38a5d5065218b7a4f859914537cd9d1b",
     "grade": false,
     "grade_id": "cell-e42eb35e7fbdece3",
     "locked": false,
     "schema_version": 3,
     "solution": true,
     "task": false
    }
   },
   "outputs": [
    {
     "name": "stdout",
     "output_type": "stream",
     "text": [
      "(3, 4)\n",
      "[0 1 1]\n"
     ]
    }
   ],
   "source": [
    "X = 0\n",
    "y = 0\n",
    "\n",
    "# YOUR CODE HERE\n",
    "# raise NotImplementedError()\n",
    "X, y = dt.make_gaussian_quantiles(n_samples=3, n_features= 4, n_classes= 2, shuffle= \"boolean\", random_state= 42)\n",
    "print(X.shape)\n",
    "print(y)"
   ]
  },
  {
   "cell_type": "code",
   "execution_count": 91,
   "metadata": {
    "ExecuteTime": {
     "end_time": "2021-05-25T20:38:53.213591Z",
     "start_time": "2021-05-25T20:38:53.191650Z"
    },
    "deletable": false,
    "editable": false,
    "nbgrader": {
     "cell_type": "code",
     "checksum": "646748d0004f916f932f5264110fc906",
     "grade": true,
     "grade_id": "cell-999c065e8557524e",
     "locked": true,
     "points": 0,
     "schema_version": 3,
     "solution": false,
     "task": false
    }
   },
   "outputs": [
    {
     "ename": "AssertionError",
     "evalue": "",
     "output_type": "error",
     "traceback": [
      "\u001b[1;31m---------------------------------------------------------------------------\u001b[0m",
      "\u001b[1;31mAssertionError\u001b[0m                            Traceback (most recent call last)",
      "\u001b[1;32m<ipython-input-91-dbdabf398d15>\u001b[0m in \u001b[0;36m<module>\u001b[1;34m\u001b[0m\n\u001b[0;32m      1\u001b[0m \u001b[1;32massert\u001b[0m \u001b[0mX\u001b[0m\u001b[1;33m.\u001b[0m\u001b[0mshape\u001b[0m \u001b[1;33m==\u001b[0m \u001b[1;33m(\u001b[0m\u001b[1;36m3\u001b[0m\u001b[1;33m,\u001b[0m\u001b[1;36m4\u001b[0m\u001b[1;33m)\u001b[0m\u001b[1;33m\u001b[0m\u001b[1;33m\u001b[0m\u001b[0m\n\u001b[1;32m----> 2\u001b[1;33m \u001b[1;32massert\u001b[0m \u001b[0mnp\u001b[0m\u001b[1;33m.\u001b[0m\u001b[0marray\u001b[0m\u001b[1;33m(\u001b[0m\u001b[1;33m[\u001b[0m\u001b[1;36m1\u001b[0m\u001b[1;33m<=\u001b[0m\u001b[0mx\u001b[0m\u001b[1;33m[\u001b[0m\u001b[1;36m0\u001b[0m\u001b[1;33m]\u001b[0m\u001b[1;33m<=\u001b[0m\u001b[1;36m5\u001b[0m \u001b[1;32mfor\u001b[0m \u001b[0mx\u001b[0m \u001b[1;32min\u001b[0m \u001b[0mX\u001b[0m\u001b[1;33m]\u001b[0m\u001b[1;33m)\u001b[0m\u001b[1;33m.\u001b[0m\u001b[0msum\u001b[0m\u001b[1;33m(\u001b[0m\u001b[1;33m)\u001b[0m \u001b[1;33m==\u001b[0m \u001b[1;36m3\u001b[0m\u001b[1;33m\u001b[0m\u001b[1;33m\u001b[0m\u001b[0m\n\u001b[0m\u001b[0;32m      3\u001b[0m \u001b[1;32massert\u001b[0m \u001b[0mnp\u001b[0m\u001b[1;33m.\u001b[0m\u001b[0marray\u001b[0m\u001b[1;33m(\u001b[0m\u001b[1;33m[\u001b[0m\u001b[0mx\u001b[0m\u001b[1;33m[\u001b[0m\u001b[1;36m3\u001b[0m\u001b[1;33m]\u001b[0m \u001b[1;32mfor\u001b[0m \u001b[0mx\u001b[0m \u001b[1;32min\u001b[0m \u001b[0mX\u001b[0m\u001b[1;33m]\u001b[0m\u001b[1;33m)\u001b[0m\u001b[1;33m.\u001b[0m\u001b[0mmax\u001b[0m\u001b[1;33m(\u001b[0m\u001b[1;33m)\u001b[0m \u001b[1;33m==\u001b[0m \u001b[1;36m1\u001b[0m\u001b[1;33m\u001b[0m\u001b[1;33m\u001b[0m\u001b[0m\n\u001b[0;32m      4\u001b[0m \u001b[1;32massert\u001b[0m \u001b[0mnp\u001b[0m\u001b[1;33m.\u001b[0m\u001b[0marray\u001b[0m\u001b[1;33m(\u001b[0m\u001b[1;33m[\u001b[0m\u001b[0mx\u001b[0m\u001b[1;33m[\u001b[0m\u001b[1;36m3\u001b[0m\u001b[1;33m]\u001b[0m \u001b[1;32mfor\u001b[0m \u001b[0mx\u001b[0m \u001b[1;32min\u001b[0m \u001b[0mX\u001b[0m\u001b[1;33m]\u001b[0m\u001b[1;33m)\u001b[0m\u001b[1;33m.\u001b[0m\u001b[0mmin\u001b[0m\u001b[1;33m(\u001b[0m\u001b[1;33m)\u001b[0m \u001b[1;33m==\u001b[0m \u001b[1;36m0\u001b[0m\u001b[1;33m\u001b[0m\u001b[1;33m\u001b[0m\u001b[0m\n\u001b[0;32m      5\u001b[0m \u001b[1;32massert\u001b[0m \u001b[0mnp\u001b[0m\u001b[1;33m.\u001b[0m\u001b[0marray\u001b[0m\u001b[1;33m(\u001b[0m\u001b[1;33m[\u001b[0m\u001b[0mx\u001b[0m\u001b[1;33m[\u001b[0m\u001b[1;36m1\u001b[0m\u001b[1;33m]\u001b[0m\u001b[1;33m<=\u001b[0m\u001b[0mx\u001b[0m\u001b[1;33m[\u001b[0m\u001b[1;36m2\u001b[0m\u001b[1;33m]\u001b[0m \u001b[1;32mfor\u001b[0m \u001b[0mx\u001b[0m \u001b[1;32min\u001b[0m \u001b[0mX\u001b[0m\u001b[1;33m]\u001b[0m\u001b[1;33m)\u001b[0m\u001b[1;33m.\u001b[0m\u001b[0msum\u001b[0m\u001b[1;33m(\u001b[0m\u001b[1;33m)\u001b[0m \u001b[1;33m==\u001b[0m \u001b[1;36m3\u001b[0m\u001b[1;33m\u001b[0m\u001b[1;33m\u001b[0m\u001b[0m\n",
      "\u001b[1;31mAssertionError\u001b[0m: "
     ]
    }
   ],
   "source": [
    "assert X.shape == (3,4)\n",
    "assert np.array([1<=x[0]<=5 for x in X]).sum() == 3\n",
    "assert np.array([x[3] for x in X]).max() == 1\n",
    "assert np.array([x[3] for x in X]).min() == 0\n",
    "assert np.array([x[1]<=x[2] for x in X]).sum() == 3\n",
    "assert y.max() == 1\n",
    "assert y.min() == 0\n",
    "assert y.shape == (3,)\n",
    "\n"
   ]
  },
  {
   "cell_type": "markdown",
   "metadata": {
    "deletable": false,
    "editable": false,
    "nbgrader": {
     "cell_type": "markdown",
     "checksum": "65625bf43b456ed2514f9a7c6d3b437a",
     "grade": false,
     "grade_id": "cell-0b62cb474375bc15",
     "locked": true,
     "schema_version": 3,
     "solution": false,
     "task": false
    }
   },
   "source": [
    "You want to define a boundary n-1 hyperplane for the data you have generated. Create the vector W containing the weights of your model initialized by following a normal distribution (you can use `numpy.random.normal`. Don't forget the bias `b`."
   ]
  },
  {
   "cell_type": "code",
   "execution_count": null,
   "metadata": {
    "deletable": false,
    "nbgrader": {
     "cell_type": "code",
     "checksum": "4dc3090c9dfc58b45bc4199b20574962",
     "grade": false,
     "grade_id": "cell-3ada8bc49ebdd9aa",
     "locked": false,
     "schema_version": 3,
     "solution": true,
     "task": false
    }
   },
   "outputs": [],
   "source": [
    "W = 0\n",
    "b = 0\n",
    "\n",
    "# YOUR CODE HERE\n",
    "raise NotImplementedError()"
   ]
  },
  {
   "cell_type": "code",
   "execution_count": null,
   "metadata": {
    "deletable": false,
    "editable": false,
    "nbgrader": {
     "cell_type": "code",
     "checksum": "b379abdf1a78ad42ea2dcc1a84cddb2e",
     "grade": true,
     "grade_id": "cell-c04231e0b720cac4",
     "locked": true,
     "points": 1,
     "schema_version": 3,
     "solution": false,
     "task": false
    }
   },
   "outputs": [],
   "source": [
    "assert W.shape == (4,) or W.shape == (4, 1)\n",
    "assert b.shape == (1,) or b.shape == (1, 1)"
   ]
  },
  {
   "cell_type": "markdown",
   "metadata": {
    "deletable": false,
    "editable": false,
    "nbgrader": {
     "cell_type": "markdown",
     "checksum": "ae916ac19993c416b73cc8dbfdf2fcec",
     "grade": false,
     "grade_id": "cell-49cf709fd559af84",
     "locked": true,
     "schema_version": 3,
     "solution": false,
     "task": false
    }
   },
   "source": [
    "Create an array containing the score of your random model on each of the data points you generated. Store the result in the `scores` variable. \n",
    "\n",
    "*Hint*: Use the dot product. I recommend you to reshape it at the end so that it has only one dimension, not two."
   ]
  },
  {
   "cell_type": "code",
   "execution_count": null,
   "metadata": {
    "deletable": false,
    "nbgrader": {
     "cell_type": "code",
     "checksum": "2dc4df6186a2c501f2d35b79d3ecffe6",
     "grade": false,
     "grade_id": "cell-951dd174a94f79aa",
     "locked": false,
     "schema_version": 3,
     "solution": true,
     "task": false
    }
   },
   "outputs": [],
   "source": [
    "scores = []\n",
    "\n",
    "# YOUR CODE HERE\n",
    "raise NotImplementedError()"
   ]
  },
  {
   "cell_type": "code",
   "execution_count": null,
   "metadata": {
    "deletable": false,
    "editable": false,
    "nbgrader": {
     "cell_type": "code",
     "checksum": "2f7fd127e1794c414bf7eb7426f44b8d",
     "grade": true,
     "grade_id": "cell-8ad99d3f33895cd4",
     "locked": true,
     "points": 0,
     "schema_version": 3,
     "solution": false,
     "task": false
    }
   },
   "outputs": [],
   "source": [
    "assert scores.shape == (3,)\n"
   ]
  },
  {
   "cell_type": "markdown",
   "metadata": {
    "deletable": false,
    "editable": false,
    "nbgrader": {
     "cell_type": "markdown",
     "checksum": "0b14f233b06cb98a09946daddc4704d6",
     "grade": false,
     "grade_id": "cell-0305f5e1428e07a1",
     "locked": true,
     "schema_version": 3,
     "solution": false,
     "task": false
    }
   },
   "source": [
    "Activate all the scores by using the step function you defined before and store them in the `step_scores` variable."
   ]
  },
  {
   "cell_type": "code",
   "execution_count": null,
   "metadata": {
    "deletable": false,
    "nbgrader": {
     "cell_type": "code",
     "checksum": "25fffadd55bd1ac5bc5dffb731fc3693",
     "grade": false,
     "grade_id": "cell-3f689055ccafa454",
     "locked": false,
     "schema_version": 3,
     "solution": true,
     "task": false
    }
   },
   "outputs": [],
   "source": [
    "step_scores = 0\n",
    "\n",
    "# YOUR CODE HERE\n",
    "raise NotImplementedError()"
   ]
  },
  {
   "cell_type": "code",
   "execution_count": null,
   "metadata": {
    "deletable": false,
    "editable": false,
    "nbgrader": {
     "cell_type": "code",
     "checksum": "1db756fc40b005b1da3b1aa39ff61724",
     "grade": true,
     "grade_id": "cell-1f0db6a939917418",
     "locked": true,
     "points": 0,
     "schema_version": 3,
     "solution": false,
     "task": false
    }
   },
   "outputs": [],
   "source": [
    "assert step_scores.shape == (3,)"
   ]
  },
  {
   "cell_type": "markdown",
   "metadata": {
    "deletable": false,
    "editable": false,
    "nbgrader": {
     "cell_type": "markdown",
     "checksum": "5cbe6bcb73ea5f0741441f1711cef7c6",
     "grade": false,
     "grade_id": "cell-63dec5e13d0d0024",
     "locked": true,
     "schema_version": 3,
     "solution": false,
     "task": false
    }
   },
   "source": [
    "Activate all the scores by using the sigmoid function you defined before and store them in the `sigmoid_scores` variable."
   ]
  },
  {
   "cell_type": "code",
   "execution_count": null,
   "metadata": {
    "deletable": false,
    "nbgrader": {
     "cell_type": "code",
     "checksum": "7b2e6f1f098073a4b05943d1c34cd269",
     "grade": false,
     "grade_id": "cell-f765e664087d74f0",
     "locked": false,
     "schema_version": 3,
     "solution": true,
     "task": false
    }
   },
   "outputs": [],
   "source": [
    "sigmoid_scores = 0\n",
    "\n",
    "# YOUR CODE HERE\n",
    "raise NotImplementedError()"
   ]
  },
  {
   "cell_type": "code",
   "execution_count": null,
   "metadata": {
    "deletable": false,
    "editable": false,
    "nbgrader": {
     "cell_type": "code",
     "checksum": "59accb48455763884ad26df082df1b43",
     "grade": true,
     "grade_id": "cell-4210905859c1bf9d",
     "locked": true,
     "points": 0,
     "schema_version": 3,
     "solution": false,
     "task": false
    }
   },
   "outputs": [],
   "source": [
    "assert sigmoid_scores.shape == (3,)"
   ]
  },
  {
   "cell_type": "markdown",
   "metadata": {
    "deletable": false,
    "editable": false,
    "nbgrader": {
     "cell_type": "markdown",
     "checksum": "84b3121b89f0d0a78dc17ce6bb24e6fa",
     "grade": false,
     "grade_id": "cell-4826ac496f74789c",
     "locked": true,
     "schema_version": 3,
     "solution": false,
     "task": false
    }
   },
   "source": [
    "Take the `step_scores` as predicted scores. You know that you can update your model weights using the formula:\n",
    "$$w_{i(new)}=w_{i(old)} + \\eta(y-\\hat{y})x_{i}$$\n",
    "where $y$ is the correct label of your data point (your `y[i]`) and $\\hat{y}$ is the `step_scores`. And what about $\\eta$? It's the learning rate. \n",
    "\n",
    "Set the learning rate to 0.1, and create the function `update(W_old, b_old, X, y, step_scores, eta)` that returns the updated weigths vector and bias. Test it using as input (X,y) the first data point of your dataset (*Hint*:`X[0], y[0]`, and of course `step_score[0]`)."
   ]
  },
  {
   "cell_type": "code",
   "execution_count": null,
   "metadata": {
    "deletable": false,
    "nbgrader": {
     "cell_type": "code",
     "checksum": "87494e3786cf53af9cec534b0596a8fb",
     "grade": false,
     "grade_id": "cell-d26387e4b70d46a5",
     "locked": false,
     "schema_version": 3,
     "solution": true,
     "task": false
    }
   },
   "outputs": [],
   "source": [
    "def update_weights(W_old, b_old, X, y, step_scores, eta):\n",
    "    return 0, 0\n",
    "\n",
    "W_new, b_new = update_weights(0,0,0,0,0,0)\n",
    "\n",
    "# YOUR CODE HERE\n",
    "raise NotImplementedError()"
   ]
  },
  {
   "cell_type": "code",
   "execution_count": null,
   "metadata": {
    "deletable": false,
    "editable": false,
    "nbgrader": {
     "cell_type": "code",
     "checksum": "2f2dfbdb9982ef1e39cfe34e87959181",
     "grade": true,
     "grade_id": "cell-8465db2dfb20da02",
     "locked": true,
     "points": 0,
     "schema_version": 3,
     "solution": false,
     "task": false
    }
   },
   "outputs": [],
   "source": [
    "assert W_new.shape == (4,)\n",
    "assert b_new.shape == (1,)"
   ]
  },
  {
   "cell_type": "markdown",
   "metadata": {
    "deletable": false,
    "editable": false,
    "nbgrader": {
     "cell_type": "markdown",
     "checksum": "edc54e40c6843756eff23b13084fcc4b",
     "grade": false,
     "grade_id": "cell-12a625a98ceda43c",
     "locked": true,
     "schema_version": 3,
     "solution": false,
     "task": false
    }
   },
   "source": [
    "Create a for loop to update the weights on each of the points in your dataset. In other words:\n",
    "Iterate over the data points in X and the labels in y\n",
    "- compute the `step_score` using the W, b that you have randomly inititated\n",
    "- use the `update_weights` function to update them\n",
    "- repeat\n",
    "\n",
    "Do it for 10 epochs."
   ]
  },
  {
   "cell_type": "code",
   "execution_count": null,
   "metadata": {
    "deletable": false,
    "nbgrader": {
     "cell_type": "code",
     "checksum": "4becc3d6391f1cde47d257f19641abf4",
     "grade": false,
     "grade_id": "cell-67c5d7eaf5a420b2",
     "locked": false,
     "schema_version": 3,
     "solution": true,
     "task": false
    }
   },
   "outputs": [],
   "source": [
    "epochs = 0\n",
    "step_score = 0\n",
    "eta = 0\n",
    "for epoch in range(epochs):\n",
    "    for x, label in zip(X, y):\n",
    "        pass\n",
    "\n",
    "# YOUR CODE HERE\n",
    "raise NotImplementedError()"
   ]
  },
  {
   "cell_type": "code",
   "execution_count": null,
   "metadata": {
    "deletable": false,
    "editable": false,
    "nbgrader": {
     "cell_type": "code",
     "checksum": "059f8e429ddece34350bf1846d007bcd",
     "grade": true,
     "grade_id": "cell-2c08018e859be627",
     "locked": true,
     "points": 1,
     "schema_version": 3,
     "solution": false,
     "task": false
    }
   },
   "outputs": [],
   "source": [
    "assert W_new.shape == (4,)\n",
    "assert b_new.shape == (1,)"
   ]
  },
  {
   "cell_type": "markdown",
   "metadata": {
    "deletable": false,
    "editable": false,
    "nbgrader": {
     "cell_type": "markdown",
     "checksum": "36f9e15188262c75b50256659121d9ec",
     "grade": false,
     "grade_id": "cell-c5747c2671ca337b",
     "locked": true,
     "schema_version": 3,
     "solution": false,
     "task": false
    }
   },
   "source": [
    "Now that you got so far, let's try to train a model for the Iris Dataset.\n",
    "\n",
    "Maybe you don't like it, but you can't do great things using a perceptron. At the same time, understanding the steps behind it can help you a lot to build your understanding around the neural networks. \n",
    "\n",
    "In fact, a neural network is basically the combination of multiple perceptrons on the same input, and a deep neural network is a combination of multiple perceptrons on the combination of multiple perceptrons on ... on the same input! \n",
    "\n",
    "I'll help you giving an helper function that, given weights, bias, (x1,x2) coordinates and binary labels, plots the data points and the boundary line:"
   ]
  },
  {
   "cell_type": "code",
   "execution_count": null,
   "metadata": {
    "deletable": false,
    "editable": false,
    "nbgrader": {
     "cell_type": "code",
     "checksum": "4298900d8ab7430698ca3506b9769206",
     "grade": false,
     "grade_id": "cell-b85e4f97033e7343",
     "locked": true,
     "schema_version": 3,
     "solution": false,
     "task": false
    }
   },
   "outputs": [],
   "source": [
    "from IPython import display\n",
    "import time\n",
    "# function that plots data and linear classifier\n",
    "def plot_border(w1, w2, b, data, fig):\n",
    "    \n",
    "    plt.axis([0, 10, 0, 6])\n",
    "    plt.grid()\n",
    "    \n",
    "    # scatter data\n",
    "    for i in range(len(data)) :\n",
    "        point = data[i]\n",
    "        color = \"r\"\n",
    "        if point[2] == 0 :\n",
    "            color = \"b\"\n",
    "        plt.scatter(point[0], point[1], c=color)\n",
    "\n",
    "    # separation line\n",
    "    x = np.linspace(0, 10, 100)\n",
    "    plt.plot(x, -w1/w2*x+b/w2, '-g', label='y=w1*x+b')\n",
    "    plt.show()"
   ]
  },
  {
   "cell_type": "code",
   "execution_count": null,
   "metadata": {},
   "outputs": [],
   "source": [
    "### load data ###\n",
    "\n",
    "# each point is a tuple (sepal length, sepal width, flower type)\n",
    "# types: 0 for Setosa & 1 for Versicolor\n",
    "\n",
    "data = [[ 5.1,  3.5,  0 ],\n",
    "       [ 4.9,  3. ,  0 ],\n",
    "       [ 4.7,  3.2,  0 ],\n",
    "       [ 4.6,  3.1,  0 ],\n",
    "       [ 5. ,  3.6,  0 ],\n",
    "       [ 5.4,  3.9,  0 ],\n",
    "       [ 4.6,  3.4,  0 ],\n",
    "       [ 5. ,  3.4,  0 ],\n",
    "       [ 4.4,  2.9,  0 ],\n",
    "       [ 4.9,  3.1,  0 ],\n",
    "       [ 5.4,  3.7,  0 ],\n",
    "       [ 4.8,  3.4,  0 ],\n",
    "       [ 4.8,  3. ,  0 ],\n",
    "       [ 4.3,  3. ,  0 ],\n",
    "       [ 5.8,  4. ,  0 ],\n",
    "       [ 5.7,  4.4,  0 ],\n",
    "       [ 5.4,  3.9,  0 ],\n",
    "       [ 5.1,  3.5,  0 ],\n",
    "       [ 5.7,  3.8,  0 ],\n",
    "       [ 5.1,  3.8,  0 ],\n",
    "       [ 7. ,  3.2,  1 ],\n",
    "       [ 6.4,  3.2,  1 ],\n",
    "       [ 6.9,  3.1,  1 ],\n",
    "       [ 5.5,  2.3,  1 ],\n",
    "       [ 6.5,  2.8,  1 ],\n",
    "       [ 5.7,  2.8,  1 ],\n",
    "       [ 6.3,  3.3,  1 ],\n",
    "       [ 4.9,  2.4,  1 ],\n",
    "       [ 6.6,  2.9,  1 ],\n",
    "       [ 5.2,  2.7,  1 ],\n",
    "       [ 5. ,  2. ,  1 ],\n",
    "       [ 5.9,  3. ,  1 ],\n",
    "       [ 6. ,  2.2,  1 ],\n",
    "       [ 6.1,  2.9,  1 ],\n",
    "       [ 5.6,  2.9,  1 ],\n",
    "       [ 6.7,  3.1,  1 ],\n",
    "       [ 5.6,  3. ,  1 ],\n",
    "       [ 5.8,  2.7,  1 ],\n",
    "       [ 6.2,  2.2,  1 ],\n",
    "       [ 5.6,  2.5,  1 ],\n",
    "       [ 5.9,  3.2,  1 ],\n",
    "       [ 6.1,  2.8,  1 ],\n",
    "       [ 6.3,  2.5,  1 ],\n",
    "       [ 6.1,  2.8,  1 ],\n",
    "       [ 6.4,  2.9,  1 ]]\n",
    "\n",
    "data = np.array(data)"
   ]
  },
  {
   "cell_type": "markdown",
   "metadata": {},
   "source": [
    "Plot the data:"
   ]
  },
  {
   "cell_type": "code",
   "execution_count": null,
   "metadata": {
    "deletable": false,
    "nbgrader": {
     "cell_type": "code",
     "checksum": "2f508147b474170f40bd356792b4aa2c",
     "grade": true,
     "grade_id": "cell-036364c621db11d5",
     "locked": false,
     "points": 0,
     "schema_version": 3,
     "solution": true,
     "task": false
    }
   },
   "outputs": [],
   "source": [
    "\n",
    "### visualize data ###\n",
    "\n",
    "plt.axis([0, 10, 0, 6])\n",
    "plt.grid()\n",
    "for point in data:\n",
    "    # your code here\n",
    "    # use plt.scatter(...) function\n",
    "    pass\n",
    "\n",
    "\n",
    "# YOUR CODE HERE\n",
    "raise NotImplementedError()"
   ]
  },
  {
   "cell_type": "markdown",
   "metadata": {
    "deletable": false,
    "editable": false,
    "nbgrader": {
     "cell_type": "markdown",
     "checksum": "d5bb1c568659a522abc9707149c898db",
     "grade": false,
     "grade_id": "cell-1c1ee0a9107a6d90",
     "locked": true,
     "schema_version": 3,
     "solution": false,
     "task": false
    }
   },
   "source": [
    "Set the learning rate `eta` to 1, initialize the weights `w1` and `w2` by using the `np.random.rand()` method, and the bias `b` to 0. Then, run for 100 epochs the perceptron algorithm:\n",
    "- remember to shuffle the data at each epoch using the `np.random.shuffle(data)` function\n",
    "- in the for loop there's already a snippet for updating the image everytime:\n",
    "```\n",
    "plot_border(w1, w2, b, data_norm, fig)\n",
    "display.clear_output(wait=True)\n",
    "time.sleep(0.05)\n",
    "```\n",
    "- The weights here are on the form `w1` and `w2`. However, to use your previous code and so the dot product between W and the data, you need to pack `W = np.array([w1, w2])` and then to unpack `w1, w2 = W` before plotting at each epoch!\n"
   ]
  },
  {
   "cell_type": "code",
   "execution_count": null,
   "metadata": {
    "deletable": false,
    "nbgrader": {
     "cell_type": "code",
     "checksum": "6719a9339a103326ef06123041ea9e92",
     "grade": false,
     "grade_id": "cell-b23508422bcf31b6",
     "locked": false,
     "schema_version": 3,
     "solution": true,
     "task": false
    }
   },
   "outputs": [],
   "source": [
    "eta = 1\n",
    "epochs = 100\n",
    "w1 = 0\n",
    "w2 = 0\n",
    "b = 0\n",
    "fig = plt.figure()\n",
    "\n",
    "for epoch in range(epochs):\n",
    "    # shuffle data\n",
    "    for x1, x2, y in data:\n",
    "        # remember to pack w1,w2 into a numpy array W\n",
    "        # remember to pack x1,x2 into a numpy array W\n",
    "        pass\n",
    "    # plot_border(w1, w2, b, data, fig)\n",
    "    # display.clear_output(wait=True)\n",
    "\n",
    "    \n",
    "    \n",
    "# YOUR CODE HERE\n",
    "raise NotImplementedError()\n",
    "plot_border(w1, w2, b, data, fig)\n"
   ]
  },
  {
   "cell_type": "code",
   "execution_count": null,
   "metadata": {
    "deletable": false,
    "editable": false,
    "nbgrader": {
     "cell_type": "code",
     "checksum": "3b1477cbf6069cb19a8a7f63e7fe2746",
     "grade": true,
     "grade_id": "cell-99b2cdb1e86fbbb5",
     "locked": true,
     "points": 1,
     "schema_version": 3,
     "solution": false,
     "task": false
    }
   },
   "outputs": [],
   "source": [
    "assert W.shape == (2,)\n",
    "assert W[0] == w1\n",
    "assert W[1] == w2"
   ]
  },
  {
   "cell_type": "markdown",
   "metadata": {
    "deletable": false,
    "editable": false,
    "nbgrader": {
     "cell_type": "markdown",
     "checksum": "4b0331bf9ca9378f7716016c94594703",
     "grade": false,
     "grade_id": "cell-6a496aa312f453c5",
     "locked": true,
     "schema_version": 3,
     "solution": false,
     "task": false
    }
   },
   "source": [
    "Implement a function `guess_flower(sepal_length, sepal_width, W, b)` that prints Iris-setosa in case of negative score and return 0, Iris-versicolor in case of positive score and return 1."
   ]
  },
  {
   "cell_type": "code",
   "execution_count": null,
   "metadata": {
    "deletable": false,
    "nbgrader": {
     "cell_type": "code",
     "checksum": "1d42de1824f7bbb3df7a7d57f8d6a24e",
     "grade": false,
     "grade_id": "cell-42542b2b2667947c",
     "locked": false,
     "schema_version": 3,
     "solution": true,
     "task": false
    }
   },
   "outputs": [],
   "source": [
    "# prediction function: 0 for Iris-setosa and 1 for Iris-versicolor\n",
    "\n",
    "def guess_flower(sepal_length, sepal_width, W, b):\n",
    "    if 0:\n",
    "        print('Iris-setosa')\n",
    "    else:\n",
    "        print('Iris-versicolor')\n",
    "        \n",
    "# YOUR CODE HERE\n",
    "raise NotImplementedError()\n",
    "\n"
   ]
  },
  {
   "cell_type": "code",
   "execution_count": null,
   "metadata": {
    "deletable": false,
    "editable": false,
    "nbgrader": {
     "cell_type": "code",
     "checksum": "f42eacdc4b7e7e4f680350d2810ee527",
     "grade": true,
     "grade_id": "cell-673093aba4d0b46b",
     "locked": true,
     "points": 1,
     "schema_version": 3,
     "solution": false,
     "task": false
    }
   },
   "outputs": [],
   "source": [
    "assert guess_flower(5.4, 3.4, W, b) == 0 or guess_flower(5.4, 3.4, W, b) == 1"
   ]
  },
  {
   "cell_type": "code",
   "execution_count": null,
   "metadata": {
    "deletable": false,
    "editable": false,
    "nbgrader": {
     "cell_type": "code",
     "checksum": "769530b20d3c2f8499c0f4549319734e",
     "grade": false,
     "grade_id": "cell-0acff77c129b57cb",
     "locked": true,
     "schema_version": 3,
     "solution": false,
     "task": false
    }
   },
   "outputs": [],
   "source": [
    "test_data = [[ 5.4,  3.4,  0. ],\n",
    "           [ 4.6,  3.6,  0. ],\n",
    "           [ 5.1,  3.3,  0. ],\n",
    "           [ 4.8,  3.4,  0. ],\n",
    "           [ 5. ,  3. ,  0. ],\n",
    "           [ 5. ,  3.4,  0. ],\n",
    "           [ 5.2,  3.5,  0. ],\n",
    "           [ 5.2,  3.4,  0. ],\n",
    "           [ 4.7,  3.2,  0. ],\n",
    "           [ 4.8,  3.1,  0. ],\n",
    "           [ 5.4,  3.4,  0. ],\n",
    "           [ 5.2,  4.1,  0. ],\n",
    "           [ 5.5,  4.2,  0. ],\n",
    "           [ 4.9,  3.1,  0. ],\n",
    "           [ 5. ,  3.2,  0. ],\n",
    "           [ 5.5,  3.5,  0. ],\n",
    "           [ 4.9,  3.1,  0. ],\n",
    "           [ 4.4,  3. ,  0. ],\n",
    "           [ 5.1,  3.4,  0. ],\n",
    "           [ 5. ,  3.5,  0. ],\n",
    "           [ 4.5,  2.3,  0. ],\n",
    "           [ 4.4,  3.2,  0. ],\n",
    "           [ 5. ,  3.5,  0. ],\n",
    "           [ 5.1,  3.8,  0. ],\n",
    "           [ 4.8,  3. ,  0. ],\n",
    "           [ 5.1,  3.8,  0. ],\n",
    "           [ 4.6,  3.2,  0. ],\n",
    "           [ 5.3,  3.7,  0. ],\n",
    "           [ 5. ,  3.3,  0. ],\n",
    "           [ 6.8,  2.8,  1. ],\n",
    "           [ 6.7,  3. ,  1. ],\n",
    "           [ 6. ,  2.9,  1. ],\n",
    "           [ 5.7,  2.6,  1. ],\n",
    "           [ 5.5,  2.4,  1. ],\n",
    "           [ 5.5,  2.4,  1. ],\n",
    "           [ 5.8,  2.7,  1. ],\n",
    "           [ 6. ,  2.7,  1. ],\n",
    "           [ 5.4,  3. ,  1. ],\n",
    "           [ 6. ,  3.4,  1. ],\n",
    "           [ 6.7,  3.1,  1. ],\n",
    "           [ 6.3,  2.3,  1. ],\n",
    "           [ 5.6,  3. ,  1. ],\n",
    "           [ 5.5,  2.5,  1. ],\n",
    "           [ 5.5,  2.6,  1. ],\n",
    "           [ 6.1,  3. ,  1. ],\n",
    "           [ 5.8,  2.6,  1. ],\n",
    "           [ 5. ,  2.3,  1. ],\n",
    "           [ 5.6,  2.7,  1. ],\n",
    "           [ 5.7,  3. ,  1. ],\n",
    "           [ 5.7,  2.9,  1. ],\n",
    "           [ 6.2,  2.9,  1. ],\n",
    "           [ 5.1,  2.5,  1. ],\n",
    "           [ 5.7,  2.8,  1. ]]"
   ]
  },
  {
   "cell_type": "markdown",
   "metadata": {
    "deletable": false,
    "editable": false,
    "nbgrader": {
     "cell_type": "markdown",
     "checksum": "55e2eae86b7f3facd5be7d26723e0da5",
     "grade": false,
     "grade_id": "cell-b8ae92790fc39da9",
     "locked": true,
     "schema_version": 3,
     "solution": false,
     "task": false
    }
   },
   "source": [
    "Test your model on the test set. You should be able to achieve at least 95% accuracy. Provide your model in `W` and `b` and your function `guess_flower(x1, x2, W, b)` should accept the parameters in that order."
   ]
  },
  {
   "cell_type": "code",
   "execution_count": null,
   "metadata": {
    "deletable": false,
    "nbgrader": {
     "cell_type": "code",
     "checksum": "3a4465620755633de32b4b54866ddd7e",
     "grade": false,
     "grade_id": "cell-aaa30ec08a34fef2",
     "locked": false,
     "schema_version": 3,
     "solution": true,
     "task": false
    }
   },
   "outputs": [],
   "source": [
    "# If you called W and b in a different way, here you can rename it.\n",
    "# Otherwise, check the accuracy you achieved\n",
    "\n",
    "# YOUR CODE HERE\n",
    "raise NotImplementedError()"
   ]
  },
  {
   "cell_type": "code",
   "execution_count": null,
   "metadata": {
    "deletable": false,
    "editable": false,
    "nbgrader": {
     "cell_type": "code",
     "checksum": "e4dd631273ff4351b66ffcf572595f9f",
     "grade": true,
     "grade_id": "cell-76baa44f7564d8d4",
     "locked": true,
     "points": 1,
     "schema_version": 3,
     "solution": false,
     "task": false
    }
   },
   "outputs": [],
   "source": [
    "assert correct/total >= 0.95"
   ]
  },
  {
   "cell_type": "markdown",
   "metadata": {
    "deletable": false,
    "editable": false,
    "nbgrader": {
     "cell_type": "markdown",
     "checksum": "43638806c031343f5ec0544b2588ad97",
     "grade": false,
     "grade_id": "cell-992c3ee9250c6a76",
     "locked": true,
     "schema_version": 3,
     "solution": false,
     "task": false
    }
   },
   "source": [
    "## Challenge\n",
    "\n",
    "Can you make a cool animation of the running algorithm and post it on the social? 😉\n",
    "\n",
    "If you create it directly using Python, it's a plus!"
   ]
  },
  {
   "cell_type": "code",
   "execution_count": null,
   "metadata": {},
   "outputs": [],
   "source": []
  }
 ],
 "metadata": {
  "kernelspec": {
   "display_name": "Python 3",
   "language": "python",
   "name": "python3"
  },
  "language_info": {
   "codemirror_mode": {
    "name": "ipython",
    "version": 3
   },
   "file_extension": ".py",
   "mimetype": "text/x-python",
   "name": "python",
   "nbconvert_exporter": "python",
   "pygments_lexer": "ipython3",
   "version": "3.8.8"
  }
 },
 "nbformat": 4,
 "nbformat_minor": 2
}
