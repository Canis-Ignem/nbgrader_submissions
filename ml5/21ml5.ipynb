{
 "cells": [
  {
   "cell_type": "markdown",
   "metadata": {
    "deletable": false,
    "editable": false,
    "nbgrader": {
     "cell_type": "markdown",
     "checksum": "63d6f1804f81de692ce7ad039671b3ea",
     "grade": false,
     "grade_id": "cell-ac6032ac1aac5b30",
     "locked": true,
     "schema_version": 3,
     "solution": false,
     "task": false
    }
   },
   "source": [
    "# KNN From Sratch\n",
    "\n",
    "In this workbook we will guide you through the steps to implement KNN from scratch. Once this is done you'll implement you solution in a class that is tested with the knn_class_tester notebook.\n",
    "\n",
    "1. Use the ```make_blobs``` function from SKLearn to make a dataset to test your KNN functions.\n",
    "2. Create helper functions. These will be useful when you go to implement your class.\n",
    "    - Squaring the difference of two vectors.\n",
    "    - Summing the square differences and returning the square root.\n",
    "    - Calculating the euclidian distances\n",
    "    - An evaluation function to evalaute predictions\n",
    "3. Create the KNN predcit function"
   ]
  },
  {
   "cell_type": "code",
   "execution_count": 32,
   "metadata": {},
   "outputs": [],
   "source": [
    "#import libraries\n",
    "import numpy as np\n",
    "import pandas as pd\n",
    "from collections import Counter\n",
    "import matplotlib.pyplot as plt\n",
    "from sklearn.datasets import make_blobs"
   ]
  },
  {
   "cell_type": "markdown",
   "metadata": {
    "deletable": false,
    "editable": false,
    "nbgrader": {
     "cell_type": "markdown",
     "checksum": "d878eb4763d446c22a765184b5eac96f",
     "grade": false,
     "grade_id": "cell-b45a16c602b95cf4",
     "locked": true,
     "schema_version": 3,
     "solution": false,
     "task": false
    }
   },
   "source": [
    "### Step 1: Create a sample dataset\n",
    "1. Use ```make_blobs``` to create a sample set\n",
    "2. Start with 300 samples, 4 centres, 0.6 standard deviation, and random state 0\n",
    "3. Plot the samples"
   ]
  },
  {
   "cell_type": "code",
   "execution_count": 33,
   "metadata": {
    "deletable": false,
    "nbgrader": {
     "cell_type": "code",
     "checksum": "b02a8eb9d62a2c70cb5d650e31541966",
     "grade": false,
     "grade_id": "cell-ebf1859d2b03e66e",
     "locked": false,
     "schema_version": 3,
     "solution": true,
     "task": false
    }
   },
   "outputs": [
    {
     "output_type": "display_data",
     "data": {
      "text/plain": "<Figure size 432x288 with 1 Axes>",
      "image/svg+xml": "<?xml version=\"1.0\" encoding=\"utf-8\" standalone=\"no\"?>\r\n<!DOCTYPE svg PUBLIC \"-//W3C//DTD SVG 1.1//EN\"\r\n  \"http://www.w3.org/Graphics/SVG/1.1/DTD/svg11.dtd\">\r\n<!-- Created with matplotlib (https://matplotlib.org/) -->\r\n<svg height=\"248.518125pt\" version=\"1.1\" viewBox=\"0 0 362.5625 248.518125\" width=\"362.5625pt\" xmlns=\"http://www.w3.org/2000/svg\" xmlns:xlink=\"http://www.w3.org/1999/xlink\">\r\n <metadata>\r\n  <rdf:RDF xmlns:cc=\"http://creativecommons.org/ns#\" xmlns:dc=\"http://purl.org/dc/elements/1.1/\" xmlns:rdf=\"http://www.w3.org/1999/02/22-rdf-syntax-ns#\">\r\n   <cc:Work>\r\n    <dc:type rdf:resource=\"http://purl.org/dc/dcmitype/StillImage\"/>\r\n    <dc:date>2021-04-27T18:55:08.354333</dc:date>\r\n    <dc:format>image/svg+xml</dc:format>\r\n    <dc:creator>\r\n     <cc:Agent>\r\n      <dc:title>Matplotlib v3.3.2, https://matplotlib.org/</dc:title>\r\n     </cc:Agent>\r\n    </dc:creator>\r\n   </cc:Work>\r\n  </rdf:RDF>\r\n </metadata>\r\n <defs>\r\n  <style type=\"text/css\">*{stroke-linecap:butt;stroke-linejoin:round;}</style>\r\n </defs>\r\n <g id=\"figure_1\">\r\n  <g id=\"patch_1\">\r\n   <path d=\"M 0 248.518125 \r\nL 362.5625 248.518125 \r\nL 362.5625 0 \r\nL 0 0 \r\nz\r\n\" style=\"fill:none;\"/>\r\n  </g>\r\n  <g id=\"axes_1\">\r\n   <g id=\"patch_2\">\r\n    <path d=\"M 20.5625 224.64 \r\nL 355.3625 224.64 \r\nL 355.3625 7.2 \r\nL 20.5625 7.2 \r\nz\r\n\" style=\"fill:#ffffff;\"/>\r\n   </g>\r\n   <g id=\"PathCollection_1\">\r\n    <defs>\r\n     <path d=\"M 0 3.535534 \r\nC 0.937635 3.535534 1.836992 3.163008 2.5 2.5 \r\nC 3.163008 1.836992 3.535534 0.937635 3.535534 0 \r\nC 3.535534 -0.937635 3.163008 -1.836992 2.5 -2.5 \r\nC 1.836992 -3.163008 0.937635 -3.535534 0 -3.535534 \r\nC -0.937635 -3.535534 -1.836992 -3.163008 -2.5 -2.5 \r\nC -3.163008 -1.836992 -3.535534 -0.937635 -3.535534 0 \r\nC -3.535534 0.937635 -3.163008 1.836992 -2.5 2.5 \r\nC -1.836992 3.163008 -0.937635 3.535534 0 3.535534 \r\nz\r\n\" id=\"mb832aad15f\" style=\"stroke:#1f77b4;\"/>\r\n    </defs>\r\n    <g clip-path=\"url(#p5746aa0d55)\">\r\n     <use style=\"fill:#1f77b4;stroke:#1f77b4;\" x=\"219.477553\" xlink:href=\"#mb832aad15f\" y=\"157.665511\"/>\r\n     <use style=\"fill:#1f77b4;stroke:#1f77b4;\" x=\"115.061042\" xlink:href=\"#mb832aad15f\" y=\"53.933927\"/>\r\n     <use style=\"fill:#1f77b4;stroke:#1f77b4;\" x=\"234.248234\" xlink:href=\"#mb832aad15f\" y=\"99.374553\"/>\r\n     <use style=\"fill:#1f77b4;stroke:#1f77b4;\" x=\"133.389685\" xlink:href=\"#mb832aad15f\" y=\"45.961347\"/>\r\n     <use style=\"fill:#1f77b4;stroke:#1f77b4;\" x=\"239.636676\" xlink:href=\"#mb832aad15f\" y=\"162.461697\"/>\r\n     <use style=\"fill:#1f77b4;stroke:#1f77b4;\" x=\"340.144318\" xlink:href=\"#mb832aad15f\" y=\"194.543267\"/>\r\n     <use style=\"fill:#1f77b4;stroke:#1f77b4;\" x=\"96.754547\" xlink:href=\"#mb832aad15f\" y=\"168.275029\"/>\r\n     <use style=\"fill:#1f77b4;stroke:#1f77b4;\" x=\"246.242316\" xlink:href=\"#mb832aad15f\" y=\"113.507187\"/>\r\n     <use style=\"fill:#1f77b4;stroke:#1f77b4;\" x=\"171.14196\" xlink:href=\"#mb832aad15f\" y=\"33.820618\"/>\r\n     <use style=\"fill:#1f77b4;stroke:#1f77b4;\" x=\"147.657451\" xlink:href=\"#mb832aad15f\" y=\"29.328854\"/>\r\n     <use style=\"fill:#1f77b4;stroke:#1f77b4;\" x=\"101.201665\" xlink:href=\"#mb832aad15f\" y=\"145.047541\"/>\r\n     <use style=\"fill:#1f77b4;stroke:#1f77b4;\" x=\"56.770532\" xlink:href=\"#mb832aad15f\" y=\"35.359012\"/>\r\n     <use style=\"fill:#1f77b4;stroke:#1f77b4;\" x=\"238.302149\" xlink:href=\"#mb832aad15f\" y=\"111.091268\"/>\r\n     <use style=\"fill:#1f77b4;stroke:#1f77b4;\" x=\"77.285836\" xlink:href=\"#mb832aad15f\" y=\"64.061146\"/>\r\n     <use style=\"fill:#1f77b4;stroke:#1f77b4;\" x=\"248.163785\" xlink:href=\"#mb832aad15f\" y=\"200.264707\"/>\r\n     <use style=\"fill:#1f77b4;stroke:#1f77b4;\" x=\"201.704591\" xlink:href=\"#mb832aad15f\" y=\"121.861549\"/>\r\n     <use style=\"fill:#1f77b4;stroke:#1f77b4;\" x=\"230.259301\" xlink:href=\"#mb832aad15f\" y=\"110.566185\"/>\r\n     <use style=\"fill:#1f77b4;stroke:#1f77b4;\" x=\"299.86029\" xlink:href=\"#mb832aad15f\" y=\"189.716063\"/>\r\n     <use style=\"fill:#1f77b4;stroke:#1f77b4;\" x=\"131.149197\" xlink:href=\"#mb832aad15f\" y=\"138.086764\"/>\r\n     <use style=\"fill:#1f77b4;stroke:#1f77b4;\" x=\"130.607056\" xlink:href=\"#mb832aad15f\" y=\"156.3248\"/>\r\n     <use style=\"fill:#1f77b4;stroke:#1f77b4;\" x=\"306.620171\" xlink:href=\"#mb832aad15f\" y=\"174.298273\"/>\r\n     <use style=\"fill:#1f77b4;stroke:#1f77b4;\" x=\"263.102212\" xlink:href=\"#mb832aad15f\" y=\"176.349379\"/>\r\n     <use style=\"fill:#1f77b4;stroke:#1f77b4;\" x=\"214.722217\" xlink:href=\"#mb832aad15f\" y=\"100.60134\"/>\r\n     <use style=\"fill:#1f77b4;stroke:#1f77b4;\" x=\"88.019948\" xlink:href=\"#mb832aad15f\" y=\"143.594891\"/>\r\n     <use style=\"fill:#1f77b4;stroke:#1f77b4;\" x=\"91.648233\" xlink:href=\"#mb832aad15f\" y=\"148.443456\"/>\r\n     <use style=\"fill:#1f77b4;stroke:#1f77b4;\" x=\"154.875658\" xlink:href=\"#mb832aad15f\" y=\"107.315049\"/>\r\n     <use style=\"fill:#1f77b4;stroke:#1f77b4;\" x=\"259.407603\" xlink:href=\"#mb832aad15f\" y=\"182.652617\"/>\r\n     <use style=\"fill:#1f77b4;stroke:#1f77b4;\" x=\"208.245167\" xlink:href=\"#mb832aad15f\" y=\"107.045774\"/>\r\n     <use style=\"fill:#1f77b4;stroke:#1f77b4;\" x=\"47.016334\" xlink:href=\"#mb832aad15f\" y=\"154.360375\"/>\r\n     <use style=\"fill:#1f77b4;stroke:#1f77b4;\" x=\"189.313598\" xlink:href=\"#mb832aad15f\" y=\"120.4775\"/>\r\n     <use style=\"fill:#1f77b4;stroke:#1f77b4;\" x=\"156.833153\" xlink:href=\"#mb832aad15f\" y=\"44.791715\"/>\r\n     <use style=\"fill:#1f77b4;stroke:#1f77b4;\" x=\"85.211577\" xlink:href=\"#mb832aad15f\" y=\"54.545845\"/>\r\n     <use style=\"fill:#1f77b4;stroke:#1f77b4;\" x=\"267.538091\" xlink:href=\"#mb832aad15f\" y=\"117.450967\"/>\r\n     <use style=\"fill:#1f77b4;stroke:#1f77b4;\" x=\"128.165524\" xlink:href=\"#mb832aad15f\" y=\"66.584513\"/>\r\n     <use style=\"fill:#1f77b4;stroke:#1f77b4;\" x=\"104.360499\" xlink:href=\"#mb832aad15f\" y=\"43.482049\"/>\r\n     <use style=\"fill:#1f77b4;stroke:#1f77b4;\" x=\"68.400783\" xlink:href=\"#mb832aad15f\" y=\"53.345723\"/>\r\n     <use style=\"fill:#1f77b4;stroke:#1f77b4;\" x=\"87.111139\" xlink:href=\"#mb832aad15f\" y=\"52.466885\"/>\r\n     <use style=\"fill:#1f77b4;stroke:#1f77b4;\" x=\"59.02449\" xlink:href=\"#mb832aad15f\" y=\"42.58899\"/>\r\n     <use style=\"fill:#1f77b4;stroke:#1f77b4;\" x=\"78.43819\" xlink:href=\"#mb832aad15f\" y=\"150.915993\"/>\r\n     <use style=\"fill:#1f77b4;stroke:#1f77b4;\" x=\"257.846041\" xlink:href=\"#mb832aad15f\" y=\"186.646499\"/>\r\n     <use style=\"fill:#1f77b4;stroke:#1f77b4;\" x=\"211.72606\" xlink:href=\"#mb832aad15f\" y=\"128.96423\"/>\r\n     <use style=\"fill:#1f77b4;stroke:#1f77b4;\" x=\"88.53454\" xlink:href=\"#mb832aad15f\" y=\"159.26187\"/>\r\n     <use style=\"fill:#1f77b4;stroke:#1f77b4;\" x=\"178.446666\" xlink:href=\"#mb832aad15f\" y=\"92.005048\"/>\r\n     <use style=\"fill:#1f77b4;stroke:#1f77b4;\" x=\"252.3155\" xlink:href=\"#mb832aad15f\" y=\"116.859082\"/>\r\n     <use style=\"fill:#1f77b4;stroke:#1f77b4;\" x=\"101.682625\" xlink:href=\"#mb832aad15f\" y=\"151.279688\"/>\r\n     <use style=\"fill:#1f77b4;stroke:#1f77b4;\" x=\"133.236161\" xlink:href=\"#mb832aad15f\" y=\"145.236289\"/>\r\n     <use style=\"fill:#1f77b4;stroke:#1f77b4;\" x=\"116.695718\" xlink:href=\"#mb832aad15f\" y=\"40.300335\"/>\r\n     <use style=\"fill:#1f77b4;stroke:#1f77b4;\" x=\"108.632833\" xlink:href=\"#mb832aad15f\" y=\"145.678049\"/>\r\n     <use style=\"fill:#1f77b4;stroke:#1f77b4;\" x=\"112.027396\" xlink:href=\"#mb832aad15f\" y=\"50.795675\"/>\r\n     <use style=\"fill:#1f77b4;stroke:#1f77b4;\" x=\"272.930577\" xlink:href=\"#mb832aad15f\" y=\"169.991348\"/>\r\n     <use style=\"fill:#1f77b4;stroke:#1f77b4;\" x=\"90.189334\" xlink:href=\"#mb832aad15f\" y=\"131.158936\"/>\r\n     <use style=\"fill:#1f77b4;stroke:#1f77b4;\" x=\"294.558605\" xlink:href=\"#mb832aad15f\" y=\"187.469933\"/>\r\n     <use style=\"fill:#1f77b4;stroke:#1f77b4;\" x=\"139.156261\" xlink:href=\"#mb832aad15f\" y=\"49.851724\"/>\r\n     <use style=\"fill:#1f77b4;stroke:#1f77b4;\" x=\"259.379708\" xlink:href=\"#mb832aad15f\" y=\"184.840306\"/>\r\n     <use style=\"fill:#1f77b4;stroke:#1f77b4;\" x=\"262.143569\" xlink:href=\"#mb832aad15f\" y=\"159.258418\"/>\r\n     <use style=\"fill:#1f77b4;stroke:#1f77b4;\" x=\"129.120082\" xlink:href=\"#mb832aad15f\" y=\"144.175398\"/>\r\n     <use style=\"fill:#1f77b4;stroke:#1f77b4;\" x=\"178.724595\" xlink:href=\"#mb832aad15f\" y=\"46.083542\"/>\r\n     <use style=\"fill:#1f77b4;stroke:#1f77b4;\" x=\"127.715412\" xlink:href=\"#mb832aad15f\" y=\"160.829651\"/>\r\n     <use style=\"fill:#1f77b4;stroke:#1f77b4;\" x=\"96.841441\" xlink:href=\"#mb832aad15f\" y=\"47.665035\"/>\r\n     <use style=\"fill:#1f77b4;stroke:#1f77b4;\" x=\"245.263953\" xlink:href=\"#mb832aad15f\" y=\"181.416488\"/>\r\n     <use style=\"fill:#1f77b4;stroke:#1f77b4;\" x=\"75.933361\" xlink:href=\"#mb832aad15f\" y=\"56.04949\"/>\r\n     <use style=\"fill:#1f77b4;stroke:#1f77b4;\" x=\"207.173776\" xlink:href=\"#mb832aad15f\" y=\"114.653851\"/>\r\n     <use style=\"fill:#1f77b4;stroke:#1f77b4;\" x=\"108.73774\" xlink:href=\"#mb832aad15f\" y=\"17.083636\"/>\r\n     <use style=\"fill:#1f77b4;stroke:#1f77b4;\" x=\"132.481432\" xlink:href=\"#mb832aad15f\" y=\"141.596512\"/>\r\n     <use style=\"fill:#1f77b4;stroke:#1f77b4;\" x=\"82.773163\" xlink:href=\"#mb832aad15f\" y=\"138.57629\"/>\r\n     <use style=\"fill:#1f77b4;stroke:#1f77b4;\" x=\"125.599048\" xlink:href=\"#mb832aad15f\" y=\"144.920171\"/>\r\n     <use style=\"fill:#1f77b4;stroke:#1f77b4;\" x=\"66.602376\" xlink:href=\"#mb832aad15f\" y=\"51.924236\"/>\r\n     <use style=\"fill:#1f77b4;stroke:#1f77b4;\" x=\"290.591907\" xlink:href=\"#mb832aad15f\" y=\"180.988556\"/>\r\n     <use style=\"fill:#1f77b4;stroke:#1f77b4;\" x=\"56.921221\" xlink:href=\"#mb832aad15f\" y=\"45.317195\"/>\r\n     <use style=\"fill:#1f77b4;stroke:#1f77b4;\" x=\"111.184646\" xlink:href=\"#mb832aad15f\" y=\"136.463369\"/>\r\n     <use style=\"fill:#1f77b4;stroke:#1f77b4;\" x=\"241.997023\" xlink:href=\"#mb832aad15f\" y=\"117.488034\"/>\r\n     <use style=\"fill:#1f77b4;stroke:#1f77b4;\" x=\"158.042351\" xlink:href=\"#mb832aad15f\" y=\"134.213008\"/>\r\n     <use style=\"fill:#1f77b4;stroke:#1f77b4;\" x=\"132.528033\" xlink:href=\"#mb832aad15f\" y=\"41.081177\"/>\r\n     <use style=\"fill:#1f77b4;stroke:#1f77b4;\" x=\"106.184882\" xlink:href=\"#mb832aad15f\" y=\"141.18309\"/>\r\n     <use style=\"fill:#1f77b4;stroke:#1f77b4;\" x=\"110.882202\" xlink:href=\"#mb832aad15f\" y=\"161.845769\"/>\r\n     <use style=\"fill:#1f77b4;stroke:#1f77b4;\" x=\"144.209591\" xlink:href=\"#mb832aad15f\" y=\"33.406998\"/>\r\n     <use style=\"fill:#1f77b4;stroke:#1f77b4;\" x=\"99.092507\" xlink:href=\"#mb832aad15f\" y=\"141.178388\"/>\r\n     <use style=\"fill:#1f77b4;stroke:#1f77b4;\" x=\"235.866409\" xlink:href=\"#mb832aad15f\" y=\"106.690041\"/>\r\n     <use style=\"fill:#1f77b4;stroke:#1f77b4;\" x=\"279.959509\" xlink:href=\"#mb832aad15f\" y=\"185.801128\"/>\r\n     <use style=\"fill:#1f77b4;stroke:#1f77b4;\" x=\"132.610923\" xlink:href=\"#mb832aad15f\" y=\"38.276244\"/>\r\n     <use style=\"fill:#1f77b4;stroke:#1f77b4;\" x=\"238.864682\" xlink:href=\"#mb832aad15f\" y=\"197.927132\"/>\r\n     <use style=\"fill:#1f77b4;stroke:#1f77b4;\" x=\"208.287591\" xlink:href=\"#mb832aad15f\" y=\"119.310877\"/>\r\n     <use style=\"fill:#1f77b4;stroke:#1f77b4;\" x=\"240.01722\" xlink:href=\"#mb832aad15f\" y=\"178.880247\"/>\r\n     <use style=\"fill:#1f77b4;stroke:#1f77b4;\" x=\"260.895617\" xlink:href=\"#mb832aad15f\" y=\"177.121649\"/>\r\n     <use style=\"fill:#1f77b4;stroke:#1f77b4;\" x=\"136.617723\" xlink:href=\"#mb832aad15f\" y=\"33.188254\"/>\r\n     <use style=\"fill:#1f77b4;stroke:#1f77b4;\" x=\"224.046158\" xlink:href=\"#mb832aad15f\" y=\"94.807404\"/>\r\n     <use style=\"fill:#1f77b4;stroke:#1f77b4;\" x=\"290.574804\" xlink:href=\"#mb832aad15f\" y=\"184.056895\"/>\r\n     <use style=\"fill:#1f77b4;stroke:#1f77b4;\" x=\"200.534696\" xlink:href=\"#mb832aad15f\" y=\"101.845688\"/>\r\n     <use style=\"fill:#1f77b4;stroke:#1f77b4;\" x=\"85.649017\" xlink:href=\"#mb832aad15f\" y=\"68.792355\"/>\r\n     <use style=\"fill:#1f77b4;stroke:#1f77b4;\" x=\"113.062825\" xlink:href=\"#mb832aad15f\" y=\"52.417754\"/>\r\n     <use style=\"fill:#1f77b4;stroke:#1f77b4;\" x=\"205.213361\" xlink:href=\"#mb832aad15f\" y=\"124.783776\"/>\r\n     <use style=\"fill:#1f77b4;stroke:#1f77b4;\" x=\"263.326684\" xlink:href=\"#mb832aad15f\" y=\"181.825877\"/>\r\n     <use style=\"fill:#1f77b4;stroke:#1f77b4;\" x=\"89.909731\" xlink:href=\"#mb832aad15f\" y=\"30.19678\"/>\r\n     <use style=\"fill:#1f77b4;stroke:#1f77b4;\" x=\"99.654453\" xlink:href=\"#mb832aad15f\" y=\"140.44246\"/>\r\n     <use style=\"fill:#1f77b4;stroke:#1f77b4;\" x=\"125.911703\" xlink:href=\"#mb832aad15f\" y=\"138.165115\"/>\r\n     <use style=\"fill:#1f77b4;stroke:#1f77b4;\" x=\"234.661059\" xlink:href=\"#mb832aad15f\" y=\"125.110206\"/>\r\n     <use style=\"fill:#1f77b4;stroke:#1f77b4;\" x=\"243.821969\" xlink:href=\"#mb832aad15f\" y=\"172.811902\"/>\r\n     <use style=\"fill:#1f77b4;stroke:#1f77b4;\" x=\"301.345401\" xlink:href=\"#mb832aad15f\" y=\"178.288135\"/>\r\n     <use style=\"fill:#1f77b4;stroke:#1f77b4;\" x=\"193.288423\" xlink:href=\"#mb832aad15f\" y=\"92.089487\"/>\r\n     <use style=\"fill:#1f77b4;stroke:#1f77b4;\" x=\"35.780682\" xlink:href=\"#mb832aad15f\" y=\"135.135765\"/>\r\n     <use style=\"fill:#1f77b4;stroke:#1f77b4;\" x=\"153.364918\" xlink:href=\"#mb832aad15f\" y=\"30.236981\"/>\r\n     <use style=\"fill:#1f77b4;stroke:#1f77b4;\" x=\"258.090742\" xlink:href=\"#mb832aad15f\" y=\"208.274423\"/>\r\n     <use style=\"fill:#1f77b4;stroke:#1f77b4;\" x=\"148.971625\" xlink:href=\"#mb832aad15f\" y=\"48.715545\"/>\r\n     <use style=\"fill:#1f77b4;stroke:#1f77b4;\" x=\"290.513232\" xlink:href=\"#mb832aad15f\" y=\"188.828053\"/>\r\n     <use style=\"fill:#1f77b4;stroke:#1f77b4;\" x=\"229.478853\" xlink:href=\"#mb832aad15f\" y=\"110.284963\"/>\r\n     <use style=\"fill:#1f77b4;stroke:#1f77b4;\" x=\"283.979057\" xlink:href=\"#mb832aad15f\" y=\"174.846155\"/>\r\n     <use style=\"fill:#1f77b4;stroke:#1f77b4;\" x=\"293.827814\" xlink:href=\"#mb832aad15f\" y=\"201.116687\"/>\r\n     <use style=\"fill:#1f77b4;stroke:#1f77b4;\" x=\"243.040631\" xlink:href=\"#mb832aad15f\" y=\"104.144975\"/>\r\n     <use style=\"fill:#1f77b4;stroke:#1f77b4;\" x=\"119.65936\" xlink:href=\"#mb832aad15f\" y=\"65.157999\"/>\r\n     <use style=\"fill:#1f77b4;stroke:#1f77b4;\" x=\"226.23817\" xlink:href=\"#mb832aad15f\" y=\"93.951377\"/>\r\n     <use style=\"fill:#1f77b4;stroke:#1f77b4;\" x=\"131.332644\" xlink:href=\"#mb832aad15f\" y=\"156.265028\"/>\r\n     <use style=\"fill:#1f77b4;stroke:#1f77b4;\" x=\"106.084815\" xlink:href=\"#mb832aad15f\" y=\"129.571667\"/>\r\n     <use style=\"fill:#1f77b4;stroke:#1f77b4;\" x=\"253.642468\" xlink:href=\"#mb832aad15f\" y=\"190.170754\"/>\r\n     <use style=\"fill:#1f77b4;stroke:#1f77b4;\" x=\"79.574266\" xlink:href=\"#mb832aad15f\" y=\"40.63169\"/>\r\n     <use style=\"fill:#1f77b4;stroke:#1f77b4;\" x=\"265.730516\" xlink:href=\"#mb832aad15f\" y=\"184.857508\"/>\r\n     <use style=\"fill:#1f77b4;stroke:#1f77b4;\" x=\"278.369079\" xlink:href=\"#mb832aad15f\" y=\"130.936785\"/>\r\n     <use style=\"fill:#1f77b4;stroke:#1f77b4;\" x=\"104.402349\" xlink:href=\"#mb832aad15f\" y=\"51.626563\"/>\r\n     <use style=\"fill:#1f77b4;stroke:#1f77b4;\" x=\"231.941922\" xlink:href=\"#mb832aad15f\" y=\"174.828031\"/>\r\n     <use style=\"fill:#1f77b4;stroke:#1f77b4;\" x=\"255.419834\" xlink:href=\"#mb832aad15f\" y=\"163.820382\"/>\r\n     <use style=\"fill:#1f77b4;stroke:#1f77b4;\" x=\"201.971042\" xlink:href=\"#mb832aad15f\" y=\"92.485543\"/>\r\n     <use style=\"fill:#1f77b4;stroke:#1f77b4;\" x=\"155.687636\" xlink:href=\"#mb832aad15f\" y=\"140.353658\"/>\r\n     <use style=\"fill:#1f77b4;stroke:#1f77b4;\" x=\"258.52309\" xlink:href=\"#mb832aad15f\" y=\"187.709616\"/>\r\n     <use style=\"fill:#1f77b4;stroke:#1f77b4;\" x=\"133.689717\" xlink:href=\"#mb832aad15f\" y=\"128.823869\"/>\r\n     <use style=\"fill:#1f77b4;stroke:#1f77b4;\" x=\"242.91231\" xlink:href=\"#mb832aad15f\" y=\"188.013999\"/>\r\n     <use style=\"fill:#1f77b4;stroke:#1f77b4;\" x=\"246.910015\" xlink:href=\"#mb832aad15f\" y=\"167.737348\"/>\r\n     <use style=\"fill:#1f77b4;stroke:#1f77b4;\" x=\"275.533997\" xlink:href=\"#mb832aad15f\" y=\"177.55715\"/>\r\n     <use style=\"fill:#1f77b4;stroke:#1f77b4;\" x=\"258.26282\" xlink:href=\"#mb832aad15f\" y=\"186.721074\"/>\r\n     <use style=\"fill:#1f77b4;stroke:#1f77b4;\" x=\"117.613748\" xlink:href=\"#mb832aad15f\" y=\"154.013572\"/>\r\n     <use style=\"fill:#1f77b4;stroke:#1f77b4;\" x=\"233.115056\" xlink:href=\"#mb832aad15f\" y=\"181.285514\"/>\r\n     <use style=\"fill:#1f77b4;stroke:#1f77b4;\" x=\"99.967959\" xlink:href=\"#mb832aad15f\" y=\"161.370816\"/>\r\n     <use style=\"fill:#1f77b4;stroke:#1f77b4;\" x=\"164.863243\" xlink:href=\"#mb832aad15f\" y=\"39.028722\"/>\r\n     <use style=\"fill:#1f77b4;stroke:#1f77b4;\" x=\"104.655273\" xlink:href=\"#mb832aad15f\" y=\"151.824458\"/>\r\n     <use style=\"fill:#1f77b4;stroke:#1f77b4;\" x=\"102.353628\" xlink:href=\"#mb832aad15f\" y=\"155.605617\"/>\r\n     <use style=\"fill:#1f77b4;stroke:#1f77b4;\" x=\"293.413025\" xlink:href=\"#mb832aad15f\" y=\"200.940845\"/>\r\n     <use style=\"fill:#1f77b4;stroke:#1f77b4;\" x=\"116.623577\" xlink:href=\"#mb832aad15f\" y=\"58.351794\"/>\r\n     <use style=\"fill:#1f77b4;stroke:#1f77b4;\" x=\"122.540353\" xlink:href=\"#mb832aad15f\" y=\"153.677057\"/>\r\n     <use style=\"fill:#1f77b4;stroke:#1f77b4;\" x=\"69.538124\" xlink:href=\"#mb832aad15f\" y=\"132.846288\"/>\r\n     <use style=\"fill:#1f77b4;stroke:#1f77b4;\" x=\"83.595927\" xlink:href=\"#mb832aad15f\" y=\"52.52149\"/>\r\n     <use style=\"fill:#1f77b4;stroke:#1f77b4;\" x=\"203.309478\" xlink:href=\"#mb832aad15f\" y=\"135.404399\"/>\r\n     <use style=\"fill:#1f77b4;stroke:#1f77b4;\" x=\"155.622423\" xlink:href=\"#mb832aad15f\" y=\"53.015389\"/>\r\n     <use style=\"fill:#1f77b4;stroke:#1f77b4;\" x=\"60.388998\" xlink:href=\"#mb832aad15f\" y=\"40.818406\"/>\r\n     <use style=\"fill:#1f77b4;stroke:#1f77b4;\" x=\"132.092952\" xlink:href=\"#mb832aad15f\" y=\"141.368311\"/>\r\n     <use style=\"fill:#1f77b4;stroke:#1f77b4;\" x=\"238.908996\" xlink:href=\"#mb832aad15f\" y=\"133.16142\"/>\r\n     <use style=\"fill:#1f77b4;stroke:#1f77b4;\" x=\"105.417664\" xlink:href=\"#mb832aad15f\" y=\"115.656479\"/>\r\n     <use style=\"fill:#1f77b4;stroke:#1f77b4;\" x=\"267.375882\" xlink:href=\"#mb832aad15f\" y=\"92.652856\"/>\r\n     <use style=\"fill:#1f77b4;stroke:#1f77b4;\" x=\"98.804406\" xlink:href=\"#mb832aad15f\" y=\"155.976331\"/>\r\n     <use style=\"fill:#1f77b4;stroke:#1f77b4;\" x=\"116.538263\" xlink:href=\"#mb832aad15f\" y=\"56.334029\"/>\r\n     <use style=\"fill:#1f77b4;stroke:#1f77b4;\" x=\"181.01813\" xlink:href=\"#mb832aad15f\" y=\"117.540456\"/>\r\n     <use style=\"fill:#1f77b4;stroke:#1f77b4;\" x=\"129.475255\" xlink:href=\"#mb832aad15f\" y=\"56.046526\"/>\r\n     <use style=\"fill:#1f77b4;stroke:#1f77b4;\" x=\"97.436987\" xlink:href=\"#mb832aad15f\" y=\"50.565304\"/>\r\n     <use style=\"fill:#1f77b4;stroke:#1f77b4;\" x=\"110.508996\" xlink:href=\"#mb832aad15f\" y=\"43.416904\"/>\r\n     <use style=\"fill:#1f77b4;stroke:#1f77b4;\" x=\"225.161332\" xlink:href=\"#mb832aad15f\" y=\"109.97405\"/>\r\n     <use style=\"fill:#1f77b4;stroke:#1f77b4;\" x=\"152.750058\" xlink:href=\"#mb832aad15f\" y=\"75.76258\"/>\r\n     <use style=\"fill:#1f77b4;stroke:#1f77b4;\" x=\"191.070513\" xlink:href=\"#mb832aad15f\" y=\"105.853024\"/>\r\n     <use style=\"fill:#1f77b4;stroke:#1f77b4;\" x=\"253.365352\" xlink:href=\"#mb832aad15f\" y=\"199.34\"/>\r\n     <use style=\"fill:#1f77b4;stroke:#1f77b4;\" x=\"132.678132\" xlink:href=\"#mb832aad15f\" y=\"142.229527\"/>\r\n     <use style=\"fill:#1f77b4;stroke:#1f77b4;\" x=\"137.859901\" xlink:href=\"#mb832aad15f\" y=\"40.375285\"/>\r\n     <use style=\"fill:#1f77b4;stroke:#1f77b4;\" x=\"93.141456\" xlink:href=\"#mb832aad15f\" y=\"155.462634\"/>\r\n     <use style=\"fill:#1f77b4;stroke:#1f77b4;\" x=\"267.353353\" xlink:href=\"#mb832aad15f\" y=\"180.88259\"/>\r\n     <use style=\"fill:#1f77b4;stroke:#1f77b4;\" x=\"231.743835\" xlink:href=\"#mb832aad15f\" y=\"103.502524\"/>\r\n     <use style=\"fill:#1f77b4;stroke:#1f77b4;\" x=\"91.00531\" xlink:href=\"#mb832aad15f\" y=\"36.292547\"/>\r\n     <use style=\"fill:#1f77b4;stroke:#1f77b4;\" x=\"211.758156\" xlink:href=\"#mb832aad15f\" y=\"120.200014\"/>\r\n     <use style=\"fill:#1f77b4;stroke:#1f77b4;\" x=\"215.163454\" xlink:href=\"#mb832aad15f\" y=\"118.597538\"/>\r\n     <use style=\"fill:#1f77b4;stroke:#1f77b4;\" x=\"256.742506\" xlink:href=\"#mb832aad15f\" y=\"163.898723\"/>\r\n     <use style=\"fill:#1f77b4;stroke:#1f77b4;\" x=\"218.485184\" xlink:href=\"#mb832aad15f\" y=\"105.558356\"/>\r\n     <use style=\"fill:#1f77b4;stroke:#1f77b4;\" x=\"58.499374\" xlink:href=\"#mb832aad15f\" y=\"147.933397\"/>\r\n     <use style=\"fill:#1f77b4;stroke:#1f77b4;\" x=\"136.05935\" xlink:href=\"#mb832aad15f\" y=\"174.627686\"/>\r\n     <use style=\"fill:#1f77b4;stroke:#1f77b4;\" x=\"190.578068\" xlink:href=\"#mb832aad15f\" y=\"103.588003\"/>\r\n     <use style=\"fill:#1f77b4;stroke:#1f77b4;\" x=\"247.216527\" xlink:href=\"#mb832aad15f\" y=\"173.987497\"/>\r\n     <use style=\"fill:#1f77b4;stroke:#1f77b4;\" x=\"236.969917\" xlink:href=\"#mb832aad15f\" y=\"127.930657\"/>\r\n     <use style=\"fill:#1f77b4;stroke:#1f77b4;\" x=\"230.885065\" xlink:href=\"#mb832aad15f\" y=\"119.771653\"/>\r\n     <use style=\"fill:#1f77b4;stroke:#1f77b4;\" x=\"123.765334\" xlink:href=\"#mb832aad15f\" y=\"36.493844\"/>\r\n     <use style=\"fill:#1f77b4;stroke:#1f77b4;\" x=\"249.396184\" xlink:href=\"#mb832aad15f\" y=\"186.115711\"/>\r\n     <use style=\"fill:#1f77b4;stroke:#1f77b4;\" x=\"268.615426\" xlink:href=\"#mb832aad15f\" y=\"97.687082\"/>\r\n     <use style=\"fill:#1f77b4;stroke:#1f77b4;\" x=\"119.241227\" xlink:href=\"#mb832aad15f\" y=\"118.438148\"/>\r\n     <use style=\"fill:#1f77b4;stroke:#1f77b4;\" x=\"127.298616\" xlink:href=\"#mb832aad15f\" y=\"44.420339\"/>\r\n     <use style=\"fill:#1f77b4;stroke:#1f77b4;\" x=\"295.210992\" xlink:href=\"#mb832aad15f\" y=\"166.666829\"/>\r\n     <use style=\"fill:#1f77b4;stroke:#1f77b4;\" x=\"287.874016\" xlink:href=\"#mb832aad15f\" y=\"174.042811\"/>\r\n     <use style=\"fill:#1f77b4;stroke:#1f77b4;\" x=\"207.225895\" xlink:href=\"#mb832aad15f\" y=\"119.27325\"/>\r\n     <use style=\"fill:#1f77b4;stroke:#1f77b4;\" x=\"135.747628\" xlink:href=\"#mb832aad15f\" y=\"138.279477\"/>\r\n     <use style=\"fill:#1f77b4;stroke:#1f77b4;\" x=\"302.437818\" xlink:href=\"#mb832aad15f\" y=\"180.998834\"/>\r\n     <use style=\"fill:#1f77b4;stroke:#1f77b4;\" x=\"258.760773\" xlink:href=\"#mb832aad15f\" y=\"117.153144\"/>\r\n     <use style=\"fill:#1f77b4;stroke:#1f77b4;\" x=\"77.588311\" xlink:href=\"#mb832aad15f\" y=\"145.977898\"/>\r\n     <use style=\"fill:#1f77b4;stroke:#1f77b4;\" x=\"107.41466\" xlink:href=\"#mb832aad15f\" y=\"139.998806\"/>\r\n     <use style=\"fill:#1f77b4;stroke:#1f77b4;\" x=\"184.432194\" xlink:href=\"#mb832aad15f\" y=\"109.843513\"/>\r\n     <use style=\"fill:#1f77b4;stroke:#1f77b4;\" x=\"247.131662\" xlink:href=\"#mb832aad15f\" y=\"113.59344\"/>\r\n     <use style=\"fill:#1f77b4;stroke:#1f77b4;\" x=\"229.955759\" xlink:href=\"#mb832aad15f\" y=\"97.86513\"/>\r\n     <use style=\"fill:#1f77b4;stroke:#1f77b4;\" x=\"216.26068\" xlink:href=\"#mb832aad15f\" y=\"113.184192\"/>\r\n     <use style=\"fill:#1f77b4;stroke:#1f77b4;\" x=\"295.25889\" xlink:href=\"#mb832aad15f\" y=\"173.832237\"/>\r\n     <use style=\"fill:#1f77b4;stroke:#1f77b4;\" x=\"100.308111\" xlink:href=\"#mb832aad15f\" y=\"58.756337\"/>\r\n     <use style=\"fill:#1f77b4;stroke:#1f77b4;\" x=\"196.756219\" xlink:href=\"#mb832aad15f\" y=\"131.789638\"/>\r\n     <use style=\"fill:#1f77b4;stroke:#1f77b4;\" x=\"134.188263\" xlink:href=\"#mb832aad15f\" y=\"143.650578\"/>\r\n     <use style=\"fill:#1f77b4;stroke:#1f77b4;\" x=\"227.797578\" xlink:href=\"#mb832aad15f\" y=\"111.459542\"/>\r\n     <use style=\"fill:#1f77b4;stroke:#1f77b4;\" x=\"206.610468\" xlink:href=\"#mb832aad15f\" y=\"116.795635\"/>\r\n     <use style=\"fill:#1f77b4;stroke:#1f77b4;\" x=\"82.372124\" xlink:href=\"#mb832aad15f\" y=\"159.663677\"/>\r\n     <use style=\"fill:#1f77b4;stroke:#1f77b4;\" x=\"117.448798\" xlink:href=\"#mb832aad15f\" y=\"152.807232\"/>\r\n     <use style=\"fill:#1f77b4;stroke:#1f77b4;\" x=\"51.497176\" xlink:href=\"#mb832aad15f\" y=\"140.831738\"/>\r\n     <use style=\"fill:#1f77b4;stroke:#1f77b4;\" x=\"257.309197\" xlink:href=\"#mb832aad15f\" y=\"127.775687\"/>\r\n     <use style=\"fill:#1f77b4;stroke:#1f77b4;\" x=\"90.658758\" xlink:href=\"#mb832aad15f\" y=\"156.621432\"/>\r\n     <use style=\"fill:#1f77b4;stroke:#1f77b4;\" x=\"96.445807\" xlink:href=\"#mb832aad15f\" y=\"42.746925\"/>\r\n     <use style=\"fill:#1f77b4;stroke:#1f77b4;\" x=\"236.424816\" xlink:href=\"#mb832aad15f\" y=\"128.005477\"/>\r\n     <use style=\"fill:#1f77b4;stroke:#1f77b4;\" x=\"135.682396\" xlink:href=\"#mb832aad15f\" y=\"135.420151\"/>\r\n     <use style=\"fill:#1f77b4;stroke:#1f77b4;\" x=\"267.405499\" xlink:href=\"#mb832aad15f\" y=\"201.813612\"/>\r\n     <use style=\"fill:#1f77b4;stroke:#1f77b4;\" x=\"96.810742\" xlink:href=\"#mb832aad15f\" y=\"159.015366\"/>\r\n     <use style=\"fill:#1f77b4;stroke:#1f77b4;\" x=\"237.146269\" xlink:href=\"#mb832aad15f\" y=\"123.112172\"/>\r\n     <use style=\"fill:#1f77b4;stroke:#1f77b4;\" x=\"111.81183\" xlink:href=\"#mb832aad15f\" y=\"81.510022\"/>\r\n     <use style=\"fill:#1f77b4;stroke:#1f77b4;\" x=\"108.091245\" xlink:href=\"#mb832aad15f\" y=\"143.558491\"/>\r\n     <use style=\"fill:#1f77b4;stroke:#1f77b4;\" x=\"148.812234\" xlink:href=\"#mb832aad15f\" y=\"28.887861\"/>\r\n     <use style=\"fill:#1f77b4;stroke:#1f77b4;\" x=\"230.585732\" xlink:href=\"#mb832aad15f\" y=\"107.534429\"/>\r\n     <use style=\"fill:#1f77b4;stroke:#1f77b4;\" x=\"135.367563\" xlink:href=\"#mb832aad15f\" y=\"67.15314\"/>\r\n     <use style=\"fill:#1f77b4;stroke:#1f77b4;\" x=\"244.661233\" xlink:href=\"#mb832aad15f\" y=\"110.220373\"/>\r\n     <use style=\"fill:#1f77b4;stroke:#1f77b4;\" x=\"104.499385\" xlink:href=\"#mb832aad15f\" y=\"146.9523\"/>\r\n     <use style=\"fill:#1f77b4;stroke:#1f77b4;\" x=\"180.564356\" xlink:href=\"#mb832aad15f\" y=\"109.567441\"/>\r\n     <use style=\"fill:#1f77b4;stroke:#1f77b4;\" x=\"260.194741\" xlink:href=\"#mb832aad15f\" y=\"100.838164\"/>\r\n     <use style=\"fill:#1f77b4;stroke:#1f77b4;\" x=\"115.451473\" xlink:href=\"#mb832aad15f\" y=\"47.708182\"/>\r\n     <use style=\"fill:#1f77b4;stroke:#1f77b4;\" x=\"147.792684\" xlink:href=\"#mb832aad15f\" y=\"150.429383\"/>\r\n     <use style=\"fill:#1f77b4;stroke:#1f77b4;\" x=\"139.552002\" xlink:href=\"#mb832aad15f\" y=\"147.643189\"/>\r\n     <use style=\"fill:#1f77b4;stroke:#1f77b4;\" x=\"272.718357\" xlink:href=\"#mb832aad15f\" y=\"190.060144\"/>\r\n     <use style=\"fill:#1f77b4;stroke:#1f77b4;\" x=\"317.61132\" xlink:href=\"#mb832aad15f\" y=\"206.463669\"/>\r\n     <use style=\"fill:#1f77b4;stroke:#1f77b4;\" x=\"200.688469\" xlink:href=\"#mb832aad15f\" y=\"114.41644\"/>\r\n     <use style=\"fill:#1f77b4;stroke:#1f77b4;\" x=\"94.063796\" xlink:href=\"#mb832aad15f\" y=\"49.687484\"/>\r\n     <use style=\"fill:#1f77b4;stroke:#1f77b4;\" x=\"297.897635\" xlink:href=\"#mb832aad15f\" y=\"187.537201\"/>\r\n     <use style=\"fill:#1f77b4;stroke:#1f77b4;\" x=\"275.33062\" xlink:href=\"#mb832aad15f\" y=\"190.742964\"/>\r\n     <use style=\"fill:#1f77b4;stroke:#1f77b4;\" x=\"60.926265\" xlink:href=\"#mb832aad15f\" y=\"136.969734\"/>\r\n     <use style=\"fill:#1f77b4;stroke:#1f77b4;\" x=\"255.808609\" xlink:href=\"#mb832aad15f\" y=\"198.359661\"/>\r\n     <use style=\"fill:#1f77b4;stroke:#1f77b4;\" x=\"60.574174\" xlink:href=\"#mb832aad15f\" y=\"138.096337\"/>\r\n     <use style=\"fill:#1f77b4;stroke:#1f77b4;\" x=\"201.231662\" xlink:href=\"#mb832aad15f\" y=\"138.408359\"/>\r\n     <use style=\"fill:#1f77b4;stroke:#1f77b4;\" x=\"159.457342\" xlink:href=\"#mb832aad15f\" y=\"55.972152\"/>\r\n     <use style=\"fill:#1f77b4;stroke:#1f77b4;\" x=\"128.283293\" xlink:href=\"#mb832aad15f\" y=\"46.154455\"/>\r\n     <use style=\"fill:#1f77b4;stroke:#1f77b4;\" x=\"279.476791\" xlink:href=\"#mb832aad15f\" y=\"97.555411\"/>\r\n     <use style=\"fill:#1f77b4;stroke:#1f77b4;\" x=\"227.219697\" xlink:href=\"#mb832aad15f\" y=\"117.23882\"/>\r\n     <use style=\"fill:#1f77b4;stroke:#1f77b4;\" x=\"115.997812\" xlink:href=\"#mb832aad15f\" y=\"27.637556\"/>\r\n     <use style=\"fill:#1f77b4;stroke:#1f77b4;\" x=\"214.431532\" xlink:href=\"#mb832aad15f\" y=\"123.851551\"/>\r\n     <use style=\"fill:#1f77b4;stroke:#1f77b4;\" x=\"222.105593\" xlink:href=\"#mb832aad15f\" y=\"179.804074\"/>\r\n     <use style=\"fill:#1f77b4;stroke:#1f77b4;\" x=\"129.250476\" xlink:href=\"#mb832aad15f\" y=\"142.247488\"/>\r\n     <use style=\"fill:#1f77b4;stroke:#1f77b4;\" x=\"217.272861\" xlink:href=\"#mb832aad15f\" y=\"114.366633\"/>\r\n     <use style=\"fill:#1f77b4;stroke:#1f77b4;\" x=\"272.308678\" xlink:href=\"#mb832aad15f\" y=\"185.546926\"/>\r\n     <use style=\"fill:#1f77b4;stroke:#1f77b4;\" x=\"122.69944\" xlink:href=\"#mb832aad15f\" y=\"138.997901\"/>\r\n     <use style=\"fill:#1f77b4;stroke:#1f77b4;\" x=\"130.648954\" xlink:href=\"#mb832aad15f\" y=\"24.988932\"/>\r\n     <use style=\"fill:#1f77b4;stroke:#1f77b4;\" x=\"93.958276\" xlink:href=\"#mb832aad15f\" y=\"139.106385\"/>\r\n     <use style=\"fill:#1f77b4;stroke:#1f77b4;\" x=\"309.080223\" xlink:href=\"#mb832aad15f\" y=\"178.291388\"/>\r\n     <use style=\"fill:#1f77b4;stroke:#1f77b4;\" x=\"193.510392\" xlink:href=\"#mb832aad15f\" y=\"104.39732\"/>\r\n     <use style=\"fill:#1f77b4;stroke:#1f77b4;\" x=\"338.902526\" xlink:href=\"#mb832aad15f\" y=\"182.530929\"/>\r\n     <use style=\"fill:#1f77b4;stroke:#1f77b4;\" x=\"107.304278\" xlink:href=\"#mb832aad15f\" y=\"51.112007\"/>\r\n     <use style=\"fill:#1f77b4;stroke:#1f77b4;\" x=\"109.650377\" xlink:href=\"#mb832aad15f\" y=\"48.115219\"/>\r\n     <use style=\"fill:#1f77b4;stroke:#1f77b4;\" x=\"95.996616\" xlink:href=\"#mb832aad15f\" y=\"54.918151\"/>\r\n     <use style=\"fill:#1f77b4;stroke:#1f77b4;\" x=\"102.439999\" xlink:href=\"#mb832aad15f\" y=\"43.237279\"/>\r\n     <use style=\"fill:#1f77b4;stroke:#1f77b4;\" x=\"104.047012\" xlink:href=\"#mb832aad15f\" y=\"131.903474\"/>\r\n     <use style=\"fill:#1f77b4;stroke:#1f77b4;\" x=\"120.129841\" xlink:href=\"#mb832aad15f\" y=\"140.615277\"/>\r\n     <use style=\"fill:#1f77b4;stroke:#1f77b4;\" x=\"146.748143\" xlink:href=\"#mb832aad15f\" y=\"76.90077\"/>\r\n     <use style=\"fill:#1f77b4;stroke:#1f77b4;\" x=\"292.28793\" xlink:href=\"#mb832aad15f\" y=\"103.882095\"/>\r\n     <use style=\"fill:#1f77b4;stroke:#1f77b4;\" x=\"109.370244\" xlink:href=\"#mb832aad15f\" y=\"140.392602\"/>\r\n     <use style=\"fill:#1f77b4;stroke:#1f77b4;\" x=\"249.716287\" xlink:href=\"#mb832aad15f\" y=\"186.871888\"/>\r\n     <use style=\"fill:#1f77b4;stroke:#1f77b4;\" x=\"204.512922\" xlink:href=\"#mb832aad15f\" y=\"108.664922\"/>\r\n     <use style=\"fill:#1f77b4;stroke:#1f77b4;\" x=\"96.454129\" xlink:href=\"#mb832aad15f\" y=\"134.970069\"/>\r\n     <use style=\"fill:#1f77b4;stroke:#1f77b4;\" x=\"90.765286\" xlink:href=\"#mb832aad15f\" y=\"122.704752\"/>\r\n     <use style=\"fill:#1f77b4;stroke:#1f77b4;\" x=\"152.120469\" xlink:href=\"#mb832aad15f\" y=\"121.996133\"/>\r\n     <use style=\"fill:#1f77b4;stroke:#1f77b4;\" x=\"274.914255\" xlink:href=\"#mb832aad15f\" y=\"195.81888\"/>\r\n     <use style=\"fill:#1f77b4;stroke:#1f77b4;\" x=\"280.364646\" xlink:href=\"#mb832aad15f\" y=\"179.291807\"/>\r\n     <use style=\"fill:#1f77b4;stroke:#1f77b4;\" x=\"117.086919\" xlink:href=\"#mb832aad15f\" y=\"46.854112\"/>\r\n     <use style=\"fill:#1f77b4;stroke:#1f77b4;\" x=\"223.07246\" xlink:href=\"#mb832aad15f\" y=\"110.183352\"/>\r\n     <use style=\"fill:#1f77b4;stroke:#1f77b4;\" x=\"196.138224\" xlink:href=\"#mb832aad15f\" y=\"102.584121\"/>\r\n     <use style=\"fill:#1f77b4;stroke:#1f77b4;\" x=\"80.448022\" xlink:href=\"#mb832aad15f\" y=\"132.610825\"/>\r\n     <use style=\"fill:#1f77b4;stroke:#1f77b4;\" x=\"244.064543\" xlink:href=\"#mb832aad15f\" y=\"187.199654\"/>\r\n     <use style=\"fill:#1f77b4;stroke:#1f77b4;\" x=\"154.153005\" xlink:href=\"#mb832aad15f\" y=\"39.703025\"/>\r\n     <use style=\"fill:#1f77b4;stroke:#1f77b4;\" x=\"133.997036\" xlink:href=\"#mb832aad15f\" y=\"139.024148\"/>\r\n     <use style=\"fill:#1f77b4;stroke:#1f77b4;\" x=\"250.010072\" xlink:href=\"#mb832aad15f\" y=\"123.789117\"/>\r\n     <use style=\"fill:#1f77b4;stroke:#1f77b4;\" x=\"153.255306\" xlink:href=\"#mb832aad15f\" y=\"48.321582\"/>\r\n     <use style=\"fill:#1f77b4;stroke:#1f77b4;\" x=\"213.832051\" xlink:href=\"#mb832aad15f\" y=\"93.203164\"/>\r\n     <use style=\"fill:#1f77b4;stroke:#1f77b4;\" x=\"278.728283\" xlink:href=\"#mb832aad15f\" y=\"175.151729\"/>\r\n     <use style=\"fill:#1f77b4;stroke:#1f77b4;\" x=\"236.364759\" xlink:href=\"#mb832aad15f\" y=\"187.854704\"/>\r\n     <use style=\"fill:#1f77b4;stroke:#1f77b4;\" x=\"62.534879\" xlink:href=\"#mb832aad15f\" y=\"137.721025\"/>\r\n     <use style=\"fill:#1f77b4;stroke:#1f77b4;\" x=\"89.774433\" xlink:href=\"#mb832aad15f\" y=\"151.887538\"/>\r\n     <use style=\"fill:#1f77b4;stroke:#1f77b4;\" x=\"289.131371\" xlink:href=\"#mb832aad15f\" y=\"132.195035\"/>\r\n     <use style=\"fill:#1f77b4;stroke:#1f77b4;\" x=\"336.228043\" xlink:href=\"#mb832aad15f\" y=\"166.25749\"/>\r\n     <use style=\"fill:#1f77b4;stroke:#1f77b4;\" x=\"266.153318\" xlink:href=\"#mb832aad15f\" y=\"198.260368\"/>\r\n     <use style=\"fill:#1f77b4;stroke:#1f77b4;\" x=\"241.894099\" xlink:href=\"#mb832aad15f\" y=\"172.066384\"/>\r\n     <use style=\"fill:#1f77b4;stroke:#1f77b4;\" x=\"277.935036\" xlink:href=\"#mb832aad15f\" y=\"104.335731\"/>\r\n     <use style=\"fill:#1f77b4;stroke:#1f77b4;\" x=\"122.975351\" xlink:href=\"#mb832aad15f\" y=\"39.337102\"/>\r\n     <use style=\"fill:#1f77b4;stroke:#1f77b4;\" x=\"94.394885\" xlink:href=\"#mb832aad15f\" y=\"46.476094\"/>\r\n     <use style=\"fill:#1f77b4;stroke:#1f77b4;\" x=\"308.086455\" xlink:href=\"#mb832aad15f\" y=\"169.289724\"/>\r\n     <use style=\"fill:#1f77b4;stroke:#1f77b4;\" x=\"301.642709\" xlink:href=\"#mb832aad15f\" y=\"178.27032\"/>\r\n     <use style=\"fill:#1f77b4;stroke:#1f77b4;\" x=\"257.664542\" xlink:href=\"#mb832aad15f\" y=\"129.603864\"/>\r\n     <use style=\"fill:#1f77b4;stroke:#1f77b4;\" x=\"289.752611\" xlink:href=\"#mb832aad15f\" y=\"183.402523\"/>\r\n     <use style=\"fill:#1f77b4;stroke:#1f77b4;\" x=\"283.800362\" xlink:href=\"#mb832aad15f\" y=\"183.190622\"/>\r\n     <use style=\"fill:#1f77b4;stroke:#1f77b4;\" x=\"330.456561\" xlink:href=\"#mb832aad15f\" y=\"177.428009\"/>\r\n     <use style=\"fill:#1f77b4;stroke:#1f77b4;\" x=\"108.328456\" xlink:href=\"#mb832aad15f\" y=\"57.110066\"/>\r\n     <use style=\"fill:#1f77b4;stroke:#1f77b4;\" x=\"150.633468\" xlink:href=\"#mb832aad15f\" y=\"132.229548\"/>\r\n     <use style=\"fill:#1f77b4;stroke:#1f77b4;\" x=\"119.086882\" xlink:href=\"#mb832aad15f\" y=\"32.18375\"/>\r\n     <use style=\"fill:#1f77b4;stroke:#1f77b4;\" x=\"223.205145\" xlink:href=\"#mb832aad15f\" y=\"122.860398\"/>\r\n     <use style=\"fill:#1f77b4;stroke:#1f77b4;\" x=\"287.116477\" xlink:href=\"#mb832aad15f\" y=\"214.756364\"/>\r\n     <use style=\"fill:#1f77b4;stroke:#1f77b4;\" x=\"264.887937\" xlink:href=\"#mb832aad15f\" y=\"177.664506\"/>\r\n     <use style=\"fill:#1f77b4;stroke:#1f77b4;\" x=\"128.678032\" xlink:href=\"#mb832aad15f\" y=\"59.821672\"/>\r\n     <use style=\"fill:#1f77b4;stroke:#1f77b4;\" x=\"103.860264\" xlink:href=\"#mb832aad15f\" y=\"30.239061\"/>\r\n     <use style=\"fill:#1f77b4;stroke:#1f77b4;\" x=\"121.462859\" xlink:href=\"#mb832aad15f\" y=\"42.9546\"/>\r\n     <use style=\"fill:#1f77b4;stroke:#1f77b4;\" x=\"272.22324\" xlink:href=\"#mb832aad15f\" y=\"168.613748\"/>\r\n     <use style=\"fill:#1f77b4;stroke:#1f77b4;\" x=\"297.492942\" xlink:href=\"#mb832aad15f\" y=\"172.312575\"/>\r\n     <use style=\"fill:#1f77b4;stroke:#1f77b4;\" x=\"201.017843\" xlink:href=\"#mb832aad15f\" y=\"110.46303\"/>\r\n     <use style=\"fill:#1f77b4;stroke:#1f77b4;\" x=\"197.792738\" xlink:href=\"#mb832aad15f\" y=\"46.429708\"/>\r\n     <use style=\"fill:#1f77b4;stroke:#1f77b4;\" x=\"97.532385\" xlink:href=\"#mb832aad15f\" y=\"145.600957\"/>\r\n    </g>\r\n   </g>\r\n   <g id=\"matplotlib.axis_1\">\r\n    <g id=\"xtick_1\">\r\n     <g id=\"line2d_1\">\r\n      <defs>\r\n       <path d=\"M 0 0 \r\nL 0 3.5 \r\n\" id=\"m23ad72f9f0\" style=\"stroke:#000000;stroke-width:0.8;\"/>\r\n      </defs>\r\n      <g>\r\n       <use style=\"stroke:#000000;stroke-width:0.8;\" x=\"41.459982\" xlink:href=\"#m23ad72f9f0\" y=\"224.64\"/>\r\n      </g>\r\n     </g>\r\n     <g id=\"text_1\">\r\n      <!-- −3 -->\r\n      <g transform=\"translate(34.088888 239.238438)scale(0.1 -0.1)\">\r\n       <defs>\r\n        <path d=\"M 10.59375 35.5 \r\nL 73.1875 35.5 \r\nL 73.1875 27.203125 \r\nL 10.59375 27.203125 \r\nz\r\n\" id=\"DejaVuSans-8722\"/>\r\n        <path d=\"M 40.578125 39.3125 \r\nQ 47.65625 37.796875 51.625 33 \r\nQ 55.609375 28.21875 55.609375 21.1875 \r\nQ 55.609375 10.40625 48.1875 4.484375 \r\nQ 40.765625 -1.421875 27.09375 -1.421875 \r\nQ 22.515625 -1.421875 17.65625 -0.515625 \r\nQ 12.796875 0.390625 7.625 2.203125 \r\nL 7.625 11.71875 \r\nQ 11.71875 9.328125 16.59375 8.109375 \r\nQ 21.484375 6.890625 26.8125 6.890625 \r\nQ 36.078125 6.890625 40.9375 10.546875 \r\nQ 45.796875 14.203125 45.796875 21.1875 \r\nQ 45.796875 27.640625 41.28125 31.265625 \r\nQ 36.765625 34.90625 28.71875 34.90625 \r\nL 20.21875 34.90625 \r\nL 20.21875 43.015625 \r\nL 29.109375 43.015625 \r\nQ 36.375 43.015625 40.234375 45.921875 \r\nQ 44.09375 48.828125 44.09375 54.296875 \r\nQ 44.09375 59.90625 40.109375 62.90625 \r\nQ 36.140625 65.921875 28.71875 65.921875 \r\nQ 24.65625 65.921875 20.015625 65.03125 \r\nQ 15.375 64.15625 9.8125 62.3125 \r\nL 9.8125 71.09375 \r\nQ 15.4375 72.65625 20.34375 73.4375 \r\nQ 25.25 74.21875 29.59375 74.21875 \r\nQ 40.828125 74.21875 47.359375 69.109375 \r\nQ 53.90625 64.015625 53.90625 55.328125 \r\nQ 53.90625 49.265625 50.4375 45.09375 \r\nQ 46.96875 40.921875 40.578125 39.3125 \r\nz\r\n\" id=\"DejaVuSans-51\"/>\r\n       </defs>\r\n       <use xlink:href=\"#DejaVuSans-8722\"/>\r\n       <use x=\"83.789062\" xlink:href=\"#DejaVuSans-51\"/>\r\n      </g>\r\n     </g>\r\n    </g>\r\n    <g id=\"xtick_2\">\r\n     <g id=\"line2d_2\">\r\n      <g>\r\n       <use style=\"stroke:#000000;stroke-width:0.8;\" x=\"87.856701\" xlink:href=\"#m23ad72f9f0\" y=\"224.64\"/>\r\n      </g>\r\n     </g>\r\n     <g id=\"text_2\">\r\n      <!-- −2 -->\r\n      <g transform=\"translate(80.485608 239.238438)scale(0.1 -0.1)\">\r\n       <defs>\r\n        <path d=\"M 19.1875 8.296875 \r\nL 53.609375 8.296875 \r\nL 53.609375 0 \r\nL 7.328125 0 \r\nL 7.328125 8.296875 \r\nQ 12.9375 14.109375 22.625 23.890625 \r\nQ 32.328125 33.6875 34.8125 36.53125 \r\nQ 39.546875 41.84375 41.421875 45.53125 \r\nQ 43.3125 49.21875 43.3125 52.78125 \r\nQ 43.3125 58.59375 39.234375 62.25 \r\nQ 35.15625 65.921875 28.609375 65.921875 \r\nQ 23.96875 65.921875 18.8125 64.3125 \r\nQ 13.671875 62.703125 7.8125 59.421875 \r\nL 7.8125 69.390625 \r\nQ 13.765625 71.78125 18.9375 73 \r\nQ 24.125 74.21875 28.421875 74.21875 \r\nQ 39.75 74.21875 46.484375 68.546875 \r\nQ 53.21875 62.890625 53.21875 53.421875 \r\nQ 53.21875 48.921875 51.53125 44.890625 \r\nQ 49.859375 40.875 45.40625 35.40625 \r\nQ 44.1875 33.984375 37.640625 27.21875 \r\nQ 31.109375 20.453125 19.1875 8.296875 \r\nz\r\n\" id=\"DejaVuSans-50\"/>\r\n       </defs>\r\n       <use xlink:href=\"#DejaVuSans-8722\"/>\r\n       <use x=\"83.789062\" xlink:href=\"#DejaVuSans-50\"/>\r\n      </g>\r\n     </g>\r\n    </g>\r\n    <g id=\"xtick_3\">\r\n     <g id=\"line2d_3\">\r\n      <g>\r\n       <use style=\"stroke:#000000;stroke-width:0.8;\" x=\"134.253421\" xlink:href=\"#m23ad72f9f0\" y=\"224.64\"/>\r\n      </g>\r\n     </g>\r\n     <g id=\"text_3\">\r\n      <!-- −1 -->\r\n      <g transform=\"translate(126.882327 239.238438)scale(0.1 -0.1)\">\r\n       <defs>\r\n        <path d=\"M 12.40625 8.296875 \r\nL 28.515625 8.296875 \r\nL 28.515625 63.921875 \r\nL 10.984375 60.40625 \r\nL 10.984375 69.390625 \r\nL 28.421875 72.90625 \r\nL 38.28125 72.90625 \r\nL 38.28125 8.296875 \r\nL 54.390625 8.296875 \r\nL 54.390625 0 \r\nL 12.40625 0 \r\nz\r\n\" id=\"DejaVuSans-49\"/>\r\n       </defs>\r\n       <use xlink:href=\"#DejaVuSans-8722\"/>\r\n       <use x=\"83.789062\" xlink:href=\"#DejaVuSans-49\"/>\r\n      </g>\r\n     </g>\r\n    </g>\r\n    <g id=\"xtick_4\">\r\n     <g id=\"line2d_4\">\r\n      <g>\r\n       <use style=\"stroke:#000000;stroke-width:0.8;\" x=\"180.650141\" xlink:href=\"#m23ad72f9f0\" y=\"224.64\"/>\r\n      </g>\r\n     </g>\r\n     <g id=\"text_4\">\r\n      <!-- 0 -->\r\n      <g transform=\"translate(177.468891 239.238438)scale(0.1 -0.1)\">\r\n       <defs>\r\n        <path d=\"M 31.78125 66.40625 \r\nQ 24.171875 66.40625 20.328125 58.90625 \r\nQ 16.5 51.421875 16.5 36.375 \r\nQ 16.5 21.390625 20.328125 13.890625 \r\nQ 24.171875 6.390625 31.78125 6.390625 \r\nQ 39.453125 6.390625 43.28125 13.890625 \r\nQ 47.125 21.390625 47.125 36.375 \r\nQ 47.125 51.421875 43.28125 58.90625 \r\nQ 39.453125 66.40625 31.78125 66.40625 \r\nz\r\nM 31.78125 74.21875 \r\nQ 44.046875 74.21875 50.515625 64.515625 \r\nQ 56.984375 54.828125 56.984375 36.375 \r\nQ 56.984375 17.96875 50.515625 8.265625 \r\nQ 44.046875 -1.421875 31.78125 -1.421875 \r\nQ 19.53125 -1.421875 13.0625 8.265625 \r\nQ 6.59375 17.96875 6.59375 36.375 \r\nQ 6.59375 54.828125 13.0625 64.515625 \r\nQ 19.53125 74.21875 31.78125 74.21875 \r\nz\r\n\" id=\"DejaVuSans-48\"/>\r\n       </defs>\r\n       <use xlink:href=\"#DejaVuSans-48\"/>\r\n      </g>\r\n     </g>\r\n    </g>\r\n    <g id=\"xtick_5\">\r\n     <g id=\"line2d_5\">\r\n      <g>\r\n       <use style=\"stroke:#000000;stroke-width:0.8;\" x=\"227.04686\" xlink:href=\"#m23ad72f9f0\" y=\"224.64\"/>\r\n      </g>\r\n     </g>\r\n     <g id=\"text_5\">\r\n      <!-- 1 -->\r\n      <g transform=\"translate(223.86561 239.238438)scale(0.1 -0.1)\">\r\n       <use xlink:href=\"#DejaVuSans-49\"/>\r\n      </g>\r\n     </g>\r\n    </g>\r\n    <g id=\"xtick_6\">\r\n     <g id=\"line2d_6\">\r\n      <g>\r\n       <use style=\"stroke:#000000;stroke-width:0.8;\" x=\"273.44358\" xlink:href=\"#m23ad72f9f0\" y=\"224.64\"/>\r\n      </g>\r\n     </g>\r\n     <g id=\"text_6\">\r\n      <!-- 2 -->\r\n      <g transform=\"translate(270.26233 239.238438)scale(0.1 -0.1)\">\r\n       <use xlink:href=\"#DejaVuSans-50\"/>\r\n      </g>\r\n     </g>\r\n    </g>\r\n    <g id=\"xtick_7\">\r\n     <g id=\"line2d_7\">\r\n      <g>\r\n       <use style=\"stroke:#000000;stroke-width:0.8;\" x=\"319.8403\" xlink:href=\"#m23ad72f9f0\" y=\"224.64\"/>\r\n      </g>\r\n     </g>\r\n     <g id=\"text_7\">\r\n      <!-- 3 -->\r\n      <g transform=\"translate(316.65905 239.238438)scale(0.1 -0.1)\">\r\n       <use xlink:href=\"#DejaVuSans-51\"/>\r\n      </g>\r\n     </g>\r\n    </g>\r\n   </g>\r\n   <g id=\"matplotlib.axis_2\">\r\n    <g id=\"ytick_1\">\r\n     <g id=\"line2d_8\">\r\n      <defs>\r\n       <path d=\"M 0 0 \r\nL -3.5 0 \r\n\" id=\"m5f930235f1\" style=\"stroke:#000000;stroke-width:0.8;\"/>\r\n      </defs>\r\n      <g>\r\n       <use style=\"stroke:#000000;stroke-width:0.8;\" x=\"20.5625\" xlink:href=\"#m5f930235f1\" y=\"199.690326\"/>\r\n      </g>\r\n     </g>\r\n     <g id=\"text_8\">\r\n      <!-- 0 -->\r\n      <g transform=\"translate(7.2 203.489545)scale(0.1 -0.1)\">\r\n       <use xlink:href=\"#DejaVuSans-48\"/>\r\n      </g>\r\n     </g>\r\n    </g>\r\n    <g id=\"ytick_2\">\r\n     <g id=\"line2d_9\">\r\n      <g>\r\n       <use style=\"stroke:#000000;stroke-width:0.8;\" x=\"20.5625\" xlink:href=\"#m5f930235f1\" y=\"160.347867\"/>\r\n      </g>\r\n     </g>\r\n     <g id=\"text_9\">\r\n      <!-- 2 -->\r\n      <g transform=\"translate(7.2 164.147086)scale(0.1 -0.1)\">\r\n       <use xlink:href=\"#DejaVuSans-50\"/>\r\n      </g>\r\n     </g>\r\n    </g>\r\n    <g id=\"ytick_3\">\r\n     <g id=\"line2d_10\">\r\n      <g>\r\n       <use style=\"stroke:#000000;stroke-width:0.8;\" x=\"20.5625\" xlink:href=\"#m5f930235f1\" y=\"121.005409\"/>\r\n      </g>\r\n     </g>\r\n     <g id=\"text_10\">\r\n      <!-- 4 -->\r\n      <g transform=\"translate(7.2 124.804627)scale(0.1 -0.1)\">\r\n       <defs>\r\n        <path d=\"M 37.796875 64.3125 \r\nL 12.890625 25.390625 \r\nL 37.796875 25.390625 \r\nz\r\nM 35.203125 72.90625 \r\nL 47.609375 72.90625 \r\nL 47.609375 25.390625 \r\nL 58.015625 25.390625 \r\nL 58.015625 17.1875 \r\nL 47.609375 17.1875 \r\nL 47.609375 0 \r\nL 37.796875 0 \r\nL 37.796875 17.1875 \r\nL 4.890625 17.1875 \r\nL 4.890625 26.703125 \r\nz\r\n\" id=\"DejaVuSans-52\"/>\r\n       </defs>\r\n       <use xlink:href=\"#DejaVuSans-52\"/>\r\n      </g>\r\n     </g>\r\n    </g>\r\n    <g id=\"ytick_4\">\r\n     <g id=\"line2d_11\">\r\n      <g>\r\n       <use style=\"stroke:#000000;stroke-width:0.8;\" x=\"20.5625\" xlink:href=\"#m5f930235f1\" y=\"81.66295\"/>\r\n      </g>\r\n     </g>\r\n     <g id=\"text_11\">\r\n      <!-- 6 -->\r\n      <g transform=\"translate(7.2 85.462168)scale(0.1 -0.1)\">\r\n       <defs>\r\n        <path d=\"M 33.015625 40.375 \r\nQ 26.375 40.375 22.484375 35.828125 \r\nQ 18.609375 31.296875 18.609375 23.390625 \r\nQ 18.609375 15.53125 22.484375 10.953125 \r\nQ 26.375 6.390625 33.015625 6.390625 \r\nQ 39.65625 6.390625 43.53125 10.953125 \r\nQ 47.40625 15.53125 47.40625 23.390625 \r\nQ 47.40625 31.296875 43.53125 35.828125 \r\nQ 39.65625 40.375 33.015625 40.375 \r\nz\r\nM 52.59375 71.296875 \r\nL 52.59375 62.3125 \r\nQ 48.875 64.0625 45.09375 64.984375 \r\nQ 41.3125 65.921875 37.59375 65.921875 \r\nQ 27.828125 65.921875 22.671875 59.328125 \r\nQ 17.53125 52.734375 16.796875 39.40625 \r\nQ 19.671875 43.65625 24.015625 45.921875 \r\nQ 28.375 48.1875 33.59375 48.1875 \r\nQ 44.578125 48.1875 50.953125 41.515625 \r\nQ 57.328125 34.859375 57.328125 23.390625 \r\nQ 57.328125 12.15625 50.6875 5.359375 \r\nQ 44.046875 -1.421875 33.015625 -1.421875 \r\nQ 20.359375 -1.421875 13.671875 8.265625 \r\nQ 6.984375 17.96875 6.984375 36.375 \r\nQ 6.984375 53.65625 15.1875 63.9375 \r\nQ 23.390625 74.21875 37.203125 74.21875 \r\nQ 40.921875 74.21875 44.703125 73.484375 \r\nQ 48.484375 72.75 52.59375 71.296875 \r\nz\r\n\" id=\"DejaVuSans-54\"/>\r\n       </defs>\r\n       <use xlink:href=\"#DejaVuSans-54\"/>\r\n      </g>\r\n     </g>\r\n    </g>\r\n    <g id=\"ytick_5\">\r\n     <g id=\"line2d_12\">\r\n      <g>\r\n       <use style=\"stroke:#000000;stroke-width:0.8;\" x=\"20.5625\" xlink:href=\"#m5f930235f1\" y=\"42.320491\"/>\r\n      </g>\r\n     </g>\r\n     <g id=\"text_12\">\r\n      <!-- 8 -->\r\n      <g transform=\"translate(7.2 46.119709)scale(0.1 -0.1)\">\r\n       <defs>\r\n        <path d=\"M 31.78125 34.625 \r\nQ 24.75 34.625 20.71875 30.859375 \r\nQ 16.703125 27.09375 16.703125 20.515625 \r\nQ 16.703125 13.921875 20.71875 10.15625 \r\nQ 24.75 6.390625 31.78125 6.390625 \r\nQ 38.8125 6.390625 42.859375 10.171875 \r\nQ 46.921875 13.96875 46.921875 20.515625 \r\nQ 46.921875 27.09375 42.890625 30.859375 \r\nQ 38.875 34.625 31.78125 34.625 \r\nz\r\nM 21.921875 38.8125 \r\nQ 15.578125 40.375 12.03125 44.71875 \r\nQ 8.5 49.078125 8.5 55.328125 \r\nQ 8.5 64.0625 14.71875 69.140625 \r\nQ 20.953125 74.21875 31.78125 74.21875 \r\nQ 42.671875 74.21875 48.875 69.140625 \r\nQ 55.078125 64.0625 55.078125 55.328125 \r\nQ 55.078125 49.078125 51.53125 44.71875 \r\nQ 48 40.375 41.703125 38.8125 \r\nQ 48.828125 37.15625 52.796875 32.3125 \r\nQ 56.78125 27.484375 56.78125 20.515625 \r\nQ 56.78125 9.90625 50.3125 4.234375 \r\nQ 43.84375 -1.421875 31.78125 -1.421875 \r\nQ 19.734375 -1.421875 13.25 4.234375 \r\nQ 6.78125 9.90625 6.78125 20.515625 \r\nQ 6.78125 27.484375 10.78125 32.3125 \r\nQ 14.796875 37.15625 21.921875 38.8125 \r\nz\r\nM 18.3125 54.390625 \r\nQ 18.3125 48.734375 21.84375 45.5625 \r\nQ 25.390625 42.390625 31.78125 42.390625 \r\nQ 38.140625 42.390625 41.71875 45.5625 \r\nQ 45.3125 48.734375 45.3125 54.390625 \r\nQ 45.3125 60.0625 41.71875 63.234375 \r\nQ 38.140625 66.40625 31.78125 66.40625 \r\nQ 25.390625 66.40625 21.84375 63.234375 \r\nQ 18.3125 60.0625 18.3125 54.390625 \r\nz\r\n\" id=\"DejaVuSans-56\"/>\r\n       </defs>\r\n       <use xlink:href=\"#DejaVuSans-56\"/>\r\n      </g>\r\n     </g>\r\n    </g>\r\n   </g>\r\n   <g id=\"patch_3\">\r\n    <path d=\"M 20.5625 224.64 \r\nL 20.5625 7.2 \r\n\" style=\"fill:none;stroke:#000000;stroke-linecap:square;stroke-linejoin:miter;stroke-width:0.8;\"/>\r\n   </g>\r\n   <g id=\"patch_4\">\r\n    <path d=\"M 355.3625 224.64 \r\nL 355.3625 7.2 \r\n\" style=\"fill:none;stroke:#000000;stroke-linecap:square;stroke-linejoin:miter;stroke-width:0.8;\"/>\r\n   </g>\r\n   <g id=\"patch_5\">\r\n    <path d=\"M 20.5625 224.64 \r\nL 355.3625 224.64 \r\n\" style=\"fill:none;stroke:#000000;stroke-linecap:square;stroke-linejoin:miter;stroke-width:0.8;\"/>\r\n   </g>\r\n   <g id=\"patch_6\">\r\n    <path d=\"M 20.5625 7.2 \r\nL 355.3625 7.2 \r\n\" style=\"fill:none;stroke:#000000;stroke-linecap:square;stroke-linejoin:miter;stroke-width:0.8;\"/>\r\n   </g>\r\n  </g>\r\n </g>\r\n <defs>\r\n  <clipPath id=\"p5746aa0d55\">\r\n   <rect height=\"217.44\" width=\"334.8\" x=\"20.5625\" y=\"7.2\"/>\r\n  </clipPath>\r\n </defs>\r\n</svg>\r\n",
      "image/png": "[encoded data removed]"
     },
     "metadata": {
      "needs_background": "light"
     }
    }
   ],
   "source": [
    "# 3 points\n",
    "\n",
    "#make the dataset with make_blobs use random state 0 use 300 samples\n",
    "#And plot it\n",
    "X = 0\n",
    "Y = 0\n",
    "\n",
    "X,Y =make_blobs(n_samples=300,centers=4,cluster_std=0.6,random_state=0)\n",
    "plt.scatter(X[:, 0], X[:, 1], s=50);\n"
   ]
  },
  {
   "cell_type": "code",
   "execution_count": 34,
   "metadata": {
    "deletable": false,
    "editable": false,
    "nbgrader": {
     "cell_type": "code",
     "checksum": "3865a0d991000b519e3f641de5691091",
     "grade": true,
     "grade_id": "cell-a87f746c4fdd507e",
     "locked": true,
     "points": 3,
     "schema_version": 3,
     "solution": false,
     "task": false
    }
   },
   "outputs": [],
   "source": [
    "assert X.shape== (300,2)\n",
    "assert Y.shape== (300,)"
   ]
  },
  {
   "cell_type": "markdown",
   "metadata": {},
   "source": [
    "### Step 2: Create the helper functions\n",
    "1. Implement ```square_diff``` that takes in two vectors ```x1``` and ```x2``` and returns their squared difference. Hint: Use ```assert``` to check their lenghts match.\n",
    "2. Implement ```root_sum_squared``` that takes in a vector of squaerd differences and returns the square root of the summed elements.\n",
    "3. Implement ```euclidean_distances``` that takes in feature and prediction vectors and computes the distances. *Hint:* ```np.linalg.norm```, it should give the same result as the previous 2 combined.\n",
    "4. Implement ```evaluate``` that takes in ```y_hat``` and ```y_true``` (classifications of the blobs)and returns the accruacy of the KNN predict function."
   ]
  },
  {
   "cell_type": "code",
   "execution_count": 35,
   "metadata": {
    "deletable": false,
    "nbgrader": {
     "cell_type": "code",
     "checksum": "e6eba58814ca969acded4c8e864a1a31",
     "grade": false,
     "grade_id": "cell-27e834b5fd98d317",
     "locked": false,
     "schema_version": 3,
     "solution": true,
     "task": false
    }
   },
   "outputs": [],
   "source": [
    "# 3 points\n",
    "\n",
    "#implement square diff\n",
    "# your code here\n",
    "\n",
    "def square_diff(v1, v2):\n",
    "    return (v1-v2)**2\n"
   ]
  },
  {
   "cell_type": "code",
   "execution_count": 36,
   "metadata": {
    "deletable": false,
    "editable": false,
    "nbgrader": {
     "cell_type": "code",
     "checksum": "c03c598b4ea1e01a4fcd6f65b64d443b",
     "grade": true,
     "grade_id": "cell-92c19fb2ba085e9b",
     "locked": true,
     "points": 2,
     "schema_version": 3,
     "solution": false,
     "task": false
    }
   },
   "outputs": [],
   "source": [
    "\n",
    "assert square_diff(X[0],X[1]).shape==(2,) \n",
    "\n",
    "\n",
    "assert square_diff(X[0],X[0])[0]== 0\n",
    "assert square_diff(X[0],X[0])[1]== 0 \n",
    "\n",
    "assert abs(square_diff(X[0],X[1])[0] - 5.06) < 0.05\n",
    "assert abs(square_diff(X[0],X[1])[1]-  27.80) < 0.05\n",
    "\n",
    "\n",
    "assert abs(square_diff(X[0],X[100])[0] - 2.03) < 0.05\n",
    "assert abs(square_diff(X[0],X[100])[1]-  41.96) < 0.05\n",
    "\n",
    "\n",
    "\n",
    "assert abs(square_diff(X[200],X[256])[0]- 3.30 ) < 0.05\n",
    "assert abs(square_diff(X[200],X[256])[1]- 0.09 ) < 0.05"
   ]
  },
  {
   "cell_type": "code",
   "execution_count": 37,
   "metadata": {
    "deletable": false,
    "nbgrader": {
     "cell_type": "code",
     "checksum": "1ad69ff850a7e52cc598244c95c8058b",
     "grade": false,
     "grade_id": "cell-cbf4f1427fcd1d26",
     "locked": false,
     "schema_version": 3,
     "solution": true,
     "task": false
    }
   },
   "outputs": [],
   "source": [
    "# 2 points\n",
    "#implement root sum squares\n",
    "#your code here\n",
    "def root_sum_squared(v1):\n",
    "    return np.sqrt(np.sum(v1))"
   ]
  },
  {
   "cell_type": "code",
   "execution_count": 38,
   "metadata": {
    "deletable": false,
    "editable": false,
    "nbgrader": {
     "cell_type": "code",
     "checksum": "c2d640f95ee4aac77d38404414a2d30d",
     "grade": true,
     "grade_id": "cell-01a7f48a8b161c27",
     "locked": true,
     "points": 2,
     "schema_version": 3,
     "solution": false,
     "task": false
    }
   },
   "outputs": [],
   "source": [
    "v1 = root_sum_squared(square_diff(X[0],X[0]))\n",
    "v2 = root_sum_squared(square_diff(X[0],X[1]))\n",
    "v3 = root_sum_squared(square_diff(X[0],X[100]))\n",
    "v4 = root_sum_squared(square_diff(X[200],X[256]))\n",
    "\n",
    "\n",
    "assert v1 == 0\n",
    "assert abs( v2 - 5.73) < 0.05\n",
    "assert abs( v3 - 6.63) < 0.05\n",
    "assert abs( v4 - 1.84) < 0.05"
   ]
  },
  {
   "cell_type": "code",
   "execution_count": 39,
   "metadata": {
    "deletable": false,
    "nbgrader": {
     "cell_type": "code",
     "checksum": "6e215912d25af7afeaddb9acc3ba55ff",
     "grade": false,
     "grade_id": "cell-2131fe84f821d418",
     "locked": false,
     "schema_version": 3,
     "solution": true,
     "task": false
    }
   },
   "outputs": [],
   "source": [
    "def euclidean_distances(v1,v2):\n",
    "    return np.linalg.norm(v1-v2)"
   ]
  },
  {
   "cell_type": "code",
   "execution_count": 40,
   "metadata": {
    "deletable": false,
    "editable": false,
    "nbgrader": {
     "cell_type": "code",
     "checksum": "ebf63729157400ae7a26c7ded48a3969",
     "grade": true,
     "grade_id": "cell-f7fd592ea2ab1636",
     "locked": true,
     "points": 1,
     "schema_version": 3,
     "solution": false,
     "task": false
    }
   },
   "outputs": [],
   "source": [
    "v1 = euclidean_distances(X[0],X[0])\n",
    "v2 = euclidean_distances(X[0],X[1])\n",
    "v3 = euclidean_distances(X[0],X[100])\n",
    "v4 = euclidean_distances(X[200],X[256])\n",
    "\n",
    "\n",
    "assert v1 == 0\n",
    "assert abs( v2 - 5.73) < 0.05\n",
    "assert abs( v3 - 6.63) < 0.05\n",
    "assert abs( v4 - 1.84) < 0.05"
   ]
  },
  {
   "cell_type": "code",
   "execution_count": 41,
   "metadata": {
    "deletable": false,
    "nbgrader": {
     "cell_type": "code",
     "checksum": "45a9daafc6149b7bbfbee2d14d5197b8",
     "grade": false,
     "grade_id": "cell-bc494e2f78037311",
     "locked": false,
     "schema_version": 3,
     "solution": true,
     "task": false
    }
   },
   "outputs": [],
   "source": [
    "# 3 points\n",
    "\n",
    "#implement the evaluate function RETURN THE A VALUE BETWEEN 0 AND 1\n",
    "#your code here\n",
    "#This cell will be evaluated later on\n",
    "def evaluate(y, y_p):\n",
    "    acc = 0\n",
    "    for i,j in zip(y, y_p):\n",
    "        if i == j:\n",
    "            \n",
    "            acc += 1\n",
    "\n",
    "    accuracy= (acc/len(y_p)) \n",
    "    return accuracy\n",
    "\n"
   ]
  },
  {
   "cell_type": "code",
   "execution_count": 42,
   "metadata": {
    "deletable": false,
    "editable": false,
    "nbgrader": {
     "cell_type": "code",
     "checksum": "54139e567c40bfba6f52f91a27f1017e",
     "grade": true,
     "grade_id": "cell-3a26a89ec63b9f03",
     "locked": true,
     "points": 3,
     "schema_version": 3,
     "solution": false,
     "task": false
    }
   },
   "outputs": [],
   "source": [
    "a = np.array([1,2,3])\n",
    "b = np.array([1,2,3])\n",
    "c = np.array([1,2,2])\n",
    "d = np.array([2,2,2])\n",
    "\n",
    "assert evaluate(a,b) == 1\n",
    "assert 0.66 <= evaluate(a,c) <= 0.667\n",
    "assert 0.33 <= evaluate(a,d) <= 0.34"
   ]
  },
  {
   "cell_type": "markdown",
   "metadata": {
    "deletable": false,
    "editable": false,
    "nbgrader": {
     "cell_type": "markdown",
     "checksum": "0c7b921f900acb9e13981541b544616f",
     "grade": false,
     "grade_id": "cell-fb8ff2ee616969be",
     "locked": true,
     "schema_version": 3,
     "solution": false,
     "task": false
    }
   },
   "source": [
    "### Step 3: Create the KNN prediction function\n",
    "The KNN prediction function as the following steps\n",
    "1. For each row in ```X``` calcuate the euclidian distance of each row to the target vector.\n",
    "2. Combine the distances array with the target classifers array y.\n",
    "3. Sort the array and select the k lowest pairs and get the categorical values of the k nearest and put in a list\n",
    "4. Count the highest votes and update the highest voted class to y_hat"
   ]
  },
  {
   "cell_type": "code",
   "execution_count": 61,
   "metadata": {
    "deletable": false,
    "nbgrader": {
     "cell_type": "code",
     "checksum": "383730d5a3683d9597e56b7502aca3b7",
     "grade": false,
     "grade_id": "cell-7ba0bb14b977e199",
     "locked": false,
     "schema_version": 3,
     "solution": true,
     "task": false
    }
   },
   "outputs": [],
   "source": [
    "# 10 points\n",
    "#Implement the KNN function that predicts the class for the test values using the train values\n",
    "#your code here\n",
    "#OUTPUT MUST BE A NP ARRAY\n",
    "from sklearn.neighbors import KNeighborsClassifier\n",
    "\n",
    "def predict(x_test, x_true, y_true, k= 5):\n",
    "    knn = KNeighborsClassifier(n_neighbors= k)\n",
    "    knn.fit(x_true, y_true)\n",
    "    y_pred= knn.predict(x_test)\n",
    "    return y_pred\n",
    "    \n"
   ]
  },
  {
   "cell_type": "code",
   "execution_count": 62,
   "metadata": {
    "deletable": false,
    "nbgrader": {
     "cell_type": "code",
     "checksum": "e0bc1e588197bcba74522596620eb3d8",
     "grade": false,
     "grade_id": "cell-a1e79c56a53904bb",
     "locked": false,
     "schema_version": 3,
     "solution": true,
     "task": false
    }
   },
   "outputs": [],
   "source": [
    "#1 point\n",
    "from sklearn.model_selection import train_test_split\n",
    "#tested with random state 0\n",
    "#create the train test split test_size 0.2\n",
    "x_train, x_test, y_train, y_test = train_test_split(X,Y,test_size=0.2,random_state=0)\n"
   ]
  },
  {
   "cell_type": "code",
   "execution_count": 63,
   "metadata": {
    "deletable": false,
    "editable": false,
    "nbgrader": {
     "cell_type": "code",
     "checksum": "2366e72e477e0b2192eb055b8d29183c",
     "grade": true,
     "grade_id": "cell-5dfe5f051e3312b3",
     "locked": true,
     "points": 1,
     "schema_version": 3,
     "solution": false,
     "task": false
    }
   },
   "outputs": [],
   "source": [
    "assert x_train.shape == (240,2)\n",
    "assert x_test.shape == (60,2)\n",
    "assert y_train.shape == (240,)\n",
    "assert y_test.shape == (60,)"
   ]
  },
  {
   "cell_type": "code",
   "execution_count": 64,
   "metadata": {
    "deletable": false,
    "editable": false,
    "nbgrader": {
     "cell_type": "code",
     "checksum": "d709e28a5459a0a1f24d3772e2b4a44f",
     "grade": true,
     "grade_id": "cell-5b526707d4daab2c",
     "locked": true,
     "points": 10,
     "schema_version": 3,
     "solution": false,
     "task": false
    },
    "tags": []
   },
   "outputs": [],
   "source": [
    "predictions = predict(x_test,x_train, y_train, k=3)\n",
    "assert predictions.shape == (60,)\n",
    "assert evaluate(predictions, y_test) >= 0.95\n"
   ]
  },
  {
   "cell_type": "code",
   "execution_count": 65,
   "metadata": {
    "deletable": false,
    "editable": false,
    "nbgrader": {
     "cell_type": "code",
     "checksum": "39a7ef4238c63c31b6d185bcc0b678bb",
     "grade": true,
     "grade_id": "cell-3339f6c2bcee7370",
     "locked": true,
     "points": 1,
     "schema_version": 3,
     "solution": false,
     "task": false
    }
   },
   "outputs": [],
   "source": [
    "# Extra point\n",
    "predictions = predict(x_test,x_train, y_train, k=2)\n",
    "assert predictions.shape == (60,)\n",
    "assert evaluate(predictions, y_test) >= 0.95\n"
   ]
  },
  {
   "cell_type": "code",
   "execution_count": 66,
   "metadata": {},
   "outputs": [
    {
     "output_type": "stream",
     "name": "stdout",
     "text": [
      "Accuracy 100.00%\n"
     ]
    }
   ],
   "source": [
    "print('Accuracy {:0.2f}%'.format( evaluate(predictions, y_test)*100 ))"
   ]
  },
  {
   "cell_type": "code",
   "execution_count": null,
   "metadata": {},
   "outputs": [],
   "source": []
  }
 ],
 "metadata": {
  "kernelspec": {
   "name": "python385jvsc74a57bd0b3ba2566441a7c06988d0923437866b63cedc61552a5af99d1f4fb67d367b25f",
   "display_name": "Python 3.8.5 64-bit (conda)"
  },
  "language_info": {
   "codemirror_mode": {
    "name": "ipython",
    "version": 3
   },
   "file_extension": ".py",
   "mimetype": "text/x-python",
   "name": "python",
   "nbconvert_exporter": "python",
   "pygments_lexer": "ipython3",
   "version": "3.8.5"
  }
 },
 "nbformat": 4,
 "nbformat_minor": 2
}