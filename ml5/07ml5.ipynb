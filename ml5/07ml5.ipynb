{
 "cells": [
  {
   "cell_type": "markdown",
   "metadata": {
    "deletable": false,
    "editable": false,
    "nbgrader": {
     "cell_type": "markdown",
     "checksum": "63d6f1804f81de692ce7ad039671b3ea",
     "grade": false,
     "grade_id": "cell-ac6032ac1aac5b30",
     "locked": true,
     "schema_version": 3,
     "solution": false,
     "task": false
    }
   },
   "source": [
    "# KNN From Sratch\n",
    "\n",
    "In this workbook we will guide you through the steps to implement KNN from scratch. Once this is done you'll implement you solution in a class that is tested with the knn_class_tester notebook.\n",
    "\n",
    "1. Use the ```make_blobs``` function from SKLearn to make a dataset to test your KNN functions.\n",
    "2. Create helper functions. These will be useful when you go to implement your class.\n",
    "    - Squaring the difference of two vectors.\n",
    "    - Summing the square differences and returning the square root.\n",
    "    - Calculating the euclidian distances\n",
    "    - An evaluation function to evalaute predictions\n",
    "3. Create the KNN predcit function"
   ]
  },
  {
   "cell_type": "code",
   "execution_count": 3,
   "metadata": {},
   "outputs": [],
   "source": [
    "#import libraries\n",
    "import numpy as np\n",
    "import pandas as pd\n",
    "from collections import Counter\n",
    "import matplotlib.pyplot as plt\n",
    "from sklearn.datasets import make_blobs"
   ]
  },
  {
   "cell_type": "markdown",
   "metadata": {
    "deletable": false,
    "editable": false,
    "nbgrader": {
     "cell_type": "markdown",
     "checksum": "d878eb4763d446c22a765184b5eac96f",
     "grade": false,
     "grade_id": "cell-b45a16c602b95cf4",
     "locked": true,
     "schema_version": 3,
     "solution": false,
     "task": false
    }
   },
   "source": [
    "### Step 1: Create a sample dataset\n",
    "1. Use ```make_blobs``` to create a sample set\n",
    "2. Start with 300 samples, 4 centres, 0.6 standard deviation, and random state 0\n",
    "3. Plot the samples"
   ]
  },
  {
   "cell_type": "code",
   "execution_count": 6,
   "metadata": {
    "deletable": false,
    "nbgrader": {
     "cell_type": "code",
     "checksum": "b02a8eb9d62a2c70cb5d650e31541966",
     "grade": false,
     "grade_id": "cell-ebf1859d2b03e66e",
     "locked": false,
     "schema_version": 3,
     "solution": true,
     "task": false
    }
   },
   "outputs": [
    {
     "output_type": "execute_result",
     "data": {
      "text/plain": [
       "<matplotlib.collections.PathCollection at 0x1246512e0>"
      ]
     },
     "metadata": {},
     "execution_count": 6
    },
    {
     "output_type": "display_data",
     "data": {
      "text/plain": "<Figure size 1080x504 with 1 Axes>",
      "image/svg+xml": "<?xml version=\"1.0\" encoding=\"utf-8\" standalone=\"no\"?>\n<!DOCTYPE svg PUBLIC \"-//W3C//DTD SVG 1.1//EN\"\n  \"http://www.w3.org/Graphics/SVG/1.1/DTD/svg11.dtd\">\n<!-- Created with matplotlib (https://matplotlib.org/) -->\n<svg height=\"411.598125pt\" version=\"1.1\" viewBox=\"0 0 864.7625 411.598125\" width=\"864.7625pt\" xmlns=\"http://www.w3.org/2000/svg\" xmlns:xlink=\"http://www.w3.org/1999/xlink\">\n <metadata>\n  <rdf:RDF xmlns:cc=\"http://creativecommons.org/ns#\" xmlns:dc=\"http://purl.org/dc/elements/1.1/\" xmlns:rdf=\"http://www.w3.org/1999/02/22-rdf-syntax-ns#\">\n   <cc:Work>\n    <dc:type rdf:resource=\"http://purl.org/dc/dcmitype/StillImage\"/>\n    <dc:date>2021-04-27T17:12:39.932860</dc:date>\n    <dc:format>image/svg+xml</dc:format>\n    <dc:creator>\n     <cc:Agent>\n      <dc:title>Matplotlib v3.3.2, https://matplotlib.org/</dc:title>\n     </cc:Agent>\n    </dc:creator>\n   </cc:Work>\n  </rdf:RDF>\n </metadata>\n <defs>\n  <style type=\"text/css\">*{stroke-linecap:butt;stroke-linejoin:round;}</style>\n </defs>\n <g id=\"figure_1\">\n  <g id=\"patch_1\">\n   <path d=\"M 0 411.598125 \nL 864.7625 411.598125 \nL 864.7625 0 \nL 0 0 \nz\n\" style=\"fill:none;\"/>\n  </g>\n  <g id=\"axes_1\">\n   <g id=\"patch_2\">\n    <path d=\"M 20.5625 387.72 \nL 857.5625 387.72 \nL 857.5625 7.2 \nL 20.5625 7.2 \nz\n\" style=\"fill:#ffffff;\"/>\n   </g>\n   <g id=\"PathCollection_1\">\n    <defs>\n     <path d=\"M 0 5 \nC 1.326016 5 2.597899 4.473168 3.535534 3.535534 \nC 4.473168 2.597899 5 1.326016 5 0 \nC 5 -1.326016 4.473168 -2.597899 3.535534 -3.535534 \nC 2.597899 -4.473168 1.326016 -5 0 -5 \nC -1.326016 -5 -2.597899 -4.473168 -3.535534 -3.535534 \nC -4.473168 -2.597899 -5 -1.326016 -5 0 \nC -5 1.326016 -4.473168 2.597899 -3.535534 3.535534 \nC -2.597899 4.473168 -1.326016 5 0 5 \nz\n\" id=\"m7da5b907d9\" style=\"stroke:#000000;\"/>\n    </defs>\n    <g clip-path=\"url(#p2d22cbf39a)\">\n     <use style=\"stroke:#000000;\" x=\"517.850132\" xlink:href=\"#m7da5b907d9\" y=\"270.514644\"/>\n     <use style=\"stroke:#000000;\" x=\"256.808856\" xlink:href=\"#m7da5b907d9\" y=\"88.984373\"/>\n     <use style=\"stroke:#000000;\" x=\"554.776834\" xlink:href=\"#m7da5b907d9\" y=\"168.505469\"/>\n     <use style=\"stroke:#000000;\" x=\"302.630462\" xlink:href=\"#m7da5b907d9\" y=\"75.032357\"/>\n     <use style=\"stroke:#000000;\" x=\"568.247939\" xlink:href=\"#m7da5b907d9\" y=\"278.90797\"/>\n     <use style=\"stroke:#000000;\" x=\"819.517045\" xlink:href=\"#m7da5b907d9\" y=\"335.050718\"/>\n     <use style=\"stroke:#000000;\" x=\"211.042618\" xlink:href=\"#m7da5b907d9\" y=\"289.081301\"/>\n     <use style=\"stroke:#000000;\" x=\"584.76204\" xlink:href=\"#m7da5b907d9\" y=\"193.237577\"/>\n     <use style=\"stroke:#000000;\" x=\"397.011151\" xlink:href=\"#m7da5b907d9\" y=\"53.786082\"/>\n     <use style=\"stroke:#000000;\" x=\"338.299878\" xlink:href=\"#m7da5b907d9\" y=\"45.925495\"/>\n     <use style=\"stroke:#000000;\" x=\"222.160414\" xlink:href=\"#m7da5b907d9\" y=\"248.433196\"/>\n     <use style=\"stroke:#000000;\" x=\"111.082579\" xlink:href=\"#m7da5b907d9\" y=\"56.47827\"/>\n     <use style=\"stroke:#000000;\" x=\"564.911622\" xlink:href=\"#m7da5b907d9\" y=\"189.009718\"/>\n     <use style=\"stroke:#000000;\" x=\"162.370839\" xlink:href=\"#m7da5b907d9\" y=\"106.707005\"/>\n     <use style=\"stroke:#000000;\" x=\"589.565713\" xlink:href=\"#m7da5b907d9\" y=\"345.063237\"/>\n     <use style=\"stroke:#000000;\" x=\"473.417728\" xlink:href=\"#m7da5b907d9\" y=\"207.857711\"/>\n     <use style=\"stroke:#000000;\" x=\"544.804503\" xlink:href=\"#m7da5b907d9\" y=\"188.090824\"/>\n     <use style=\"stroke:#000000;\" x=\"718.806974\" xlink:href=\"#m7da5b907d9\" y=\"326.60311\"/>\n     <use style=\"stroke:#000000;\" x=\"297.029243\" xlink:href=\"#m7da5b907d9\" y=\"236.251837\"/>\n     <use style=\"stroke:#000000;\" x=\"295.67389\" xlink:href=\"#m7da5b907d9\" y=\"268.168401\"/>\n     <use style=\"stroke:#000000;\" x=\"735.706677\" xlink:href=\"#m7da5b907d9\" y=\"299.621977\"/>\n     <use style=\"stroke:#000000;\" x=\"626.911781\" xlink:href=\"#m7da5b907d9\" y=\"303.211413\"/>\n     <use style=\"stroke:#000000;\" x=\"505.961793\" xlink:href=\"#m7da5b907d9\" y=\"170.652345\"/>\n     <use style=\"stroke:#000000;\" x=\"189.20612\" xlink:href=\"#m7da5b907d9\" y=\"245.891059\"/>\n     <use style=\"stroke:#000000;\" x=\"198.276833\" xlink:href=\"#m7da5b907d9\" y=\"254.376047\"/>\n     <use style=\"stroke:#000000;\" x=\"356.345395\" xlink:href=\"#m7da5b907d9\" y=\"182.401337\"/>\n     <use style=\"stroke:#000000;\" x=\"617.675257\" xlink:href=\"#m7da5b907d9\" y=\"314.242079\"/>\n     <use style=\"stroke:#000000;\" x=\"489.769166\" xlink:href=\"#m7da5b907d9\" y=\"181.930104\"/>\n     <use style=\"stroke:#000000;\" x=\"86.697086\" xlink:href=\"#m7da5b907d9\" y=\"264.730656\"/>\n     <use style=\"stroke:#000000;\" x=\"442.440244\" xlink:href=\"#m7da5b907d9\" y=\"205.435625\"/>\n     <use style=\"stroke:#000000;\" x=\"361.239133\" xlink:href=\"#m7da5b907d9\" y=\"72.985501\"/>\n     <use style=\"stroke:#000000;\" x=\"182.185192\" xlink:href=\"#m7da5b907d9\" y=\"90.055229\"/>\n     <use style=\"stroke:#000000;\" x=\"638.001477\" xlink:href=\"#m7da5b907d9\" y=\"200.139193\"/>\n     <use style=\"stroke:#000000;\" x=\"289.57006\" xlink:href=\"#m7da5b907d9\" y=\"111.122898\"/>\n     <use style=\"stroke:#000000;\" x=\"230.057496\" xlink:href=\"#m7da5b907d9\" y=\"70.693586\"/>\n     <use style=\"stroke:#000000;\" x=\"140.158207\" xlink:href=\"#m7da5b907d9\" y=\"87.955016\"/>\n     <use style=\"stroke:#000000;\" x=\"186.934099\" xlink:href=\"#m7da5b907d9\" y=\"86.417049\"/>\n     <use style=\"stroke:#000000;\" x=\"116.717475\" xlink:href=\"#m7da5b907d9\" y=\"69.130732\"/>\n     <use style=\"stroke:#000000;\" x=\"165.251726\" xlink:href=\"#m7da5b907d9\" y=\"258.702987\"/>\n     <use style=\"stroke:#000000;\" x=\"613.771352\" xlink:href=\"#m7da5b907d9\" y=\"321.231373\"/>\n     <use style=\"stroke:#000000;\" x=\"498.471401\" xlink:href=\"#m7da5b907d9\" y=\"220.287403\"/>\n     <use style=\"stroke:#000000;\" x=\"190.492601\" xlink:href=\"#m7da5b907d9\" y=\"273.308273\"/>\n     <use style=\"stroke:#000000;\" x=\"415.272915\" xlink:href=\"#m7da5b907d9\" y=\"155.608834\"/>\n     <use style=\"stroke:#000000;\" x=\"599.945001\" xlink:href=\"#m7da5b907d9\" y=\"199.103393\"/>\n     <use style=\"stroke:#000000;\" x=\"223.362814\" xlink:href=\"#m7da5b907d9\" y=\"259.339453\"/>\n     <use style=\"stroke:#000000;\" x=\"302.246653\" xlink:href=\"#m7da5b907d9\" y=\"248.763506\"/>\n     <use style=\"stroke:#000000;\" x=\"260.895546\" xlink:href=\"#m7da5b907d9\" y=\"65.125586\"/>\n     <use style=\"stroke:#000000;\" x=\"240.738333\" xlink:href=\"#m7da5b907d9\" y=\"249.536586\"/>\n     <use style=\"stroke:#000000;\" x=\"249.22474\" xlink:href=\"#m7da5b907d9\" y=\"83.492432\"/>\n     <use style=\"stroke:#000000;\" x=\"651.482694\" xlink:href=\"#m7da5b907d9\" y=\"292.084858\"/>\n     <use style=\"stroke:#000000;\" x=\"194.629586\" xlink:href=\"#m7da5b907d9\" y=\"224.128138\"/>\n     <use style=\"stroke:#000000;\" x=\"705.552763\" xlink:href=\"#m7da5b907d9\" y=\"322.672383\"/>\n     <use style=\"stroke:#000000;\" x=\"317.046902\" xlink:href=\"#m7da5b907d9\" y=\"81.840518\"/>\n     <use style=\"stroke:#000000;\" x=\"617.60552\" xlink:href=\"#m7da5b907d9\" y=\"318.070536\"/>\n     <use style=\"stroke:#000000;\" x=\"624.515172\" xlink:href=\"#m7da5b907d9\" y=\"273.302231\"/>\n     <use style=\"stroke:#000000;\" x=\"291.956456\" xlink:href=\"#m7da5b907d9\" y=\"246.906947\"/>\n     <use style=\"stroke:#000000;\" x=\"415.967737\" xlink:href=\"#m7da5b907d9\" y=\"75.246199\"/>\n     <use style=\"stroke:#000000;\" x=\"288.444779\" xlink:href=\"#m7da5b907d9\" y=\"276.051889\"/>\n     <use style=\"stroke:#000000;\" x=\"211.259853\" xlink:href=\"#m7da5b907d9\" y=\"78.01381\"/>\n     <use style=\"stroke:#000000;\" x=\"582.316133\" xlink:href=\"#m7da5b907d9\" y=\"312.078854\"/>\n     <use style=\"stroke:#000000;\" x=\"158.989653\" xlink:href=\"#m7da5b907d9\" y=\"92.686608\"/>\n     <use style=\"stroke:#000000;\" x=\"487.09069\" xlink:href=\"#m7da5b907d9\" y=\"195.244238\"/>\n     <use style=\"stroke:#000000;\" x=\"241.0006\" xlink:href=\"#m7da5b907d9\" y=\"24.496364\"/>\n     <use style=\"stroke:#000000;\" x=\"300.35983\" xlink:href=\"#m7da5b907d9\" y=\"242.393895\"/>\n     <use style=\"stroke:#000000;\" x=\"176.089158\" xlink:href=\"#m7da5b907d9\" y=\"237.108507\"/>\n     <use style=\"stroke:#000000;\" x=\"283.15387\" xlink:href=\"#m7da5b907d9\" y=\"248.210299\"/>\n     <use style=\"stroke:#000000;\" x=\"135.662189\" xlink:href=\"#m7da5b907d9\" y=\"85.467413\"/>\n     <use style=\"stroke:#000000;\" x=\"695.636017\" xlink:href=\"#m7da5b907d9\" y=\"311.329973\"/>\n     <use style=\"stroke:#000000;\" x=\"111.459304\" xlink:href=\"#m7da5b907d9\" y=\"73.905092\"/>\n     <use style=\"stroke:#000000;\" x=\"247.117865\" xlink:href=\"#m7da5b907d9\" y=\"233.410896\"/>\n     <use style=\"stroke:#000000;\" x=\"574.148809\" xlink:href=\"#m7da5b907d9\" y=\"200.204059\"/>\n     <use style=\"stroke:#000000;\" x=\"364.262127\" xlink:href=\"#m7da5b907d9\" y=\"229.472764\"/>\n     <use style=\"stroke:#000000;\" x=\"300.476333\" xlink:href=\"#m7da5b907d9\" y=\"66.492059\"/>\n     <use style=\"stroke:#000000;\" x=\"234.618454\" xlink:href=\"#m7da5b907d9\" y=\"241.670407\"/>\n     <use style=\"stroke:#000000;\" x=\"246.361754\" xlink:href=\"#m7da5b907d9\" y=\"277.830095\"/>\n     <use style=\"stroke:#000000;\" x=\"329.680227\" xlink:href=\"#m7da5b907d9\" y=\"53.062246\"/>\n     <use style=\"stroke:#000000;\" x=\"216.887517\" xlink:href=\"#m7da5b907d9\" y=\"241.662179\"/>\n     <use style=\"stroke:#000000;\" x=\"558.822273\" xlink:href=\"#m7da5b907d9\" y=\"181.307571\"/>\n     <use style=\"stroke:#000000;\" x=\"669.055021\" xlink:href=\"#m7da5b907d9\" y=\"319.751974\"/>\n     <use style=\"stroke:#000000;\" x=\"300.683558\" xlink:href=\"#m7da5b907d9\" y=\"61.583427\"/>\n     <use style=\"stroke:#000000;\" x=\"566.317955\" xlink:href=\"#m7da5b907d9\" y=\"340.972481\"/>\n     <use style=\"stroke:#000000;\" x=\"489.875228\" xlink:href=\"#m7da5b907d9\" y=\"203.394035\"/>\n     <use style=\"stroke:#000000;\" x=\"569.1993\" xlink:href=\"#m7da5b907d9\" y=\"307.640433\"/>\n     <use style=\"stroke:#000000;\" x=\"621.395292\" xlink:href=\"#m7da5b907d9\" y=\"304.562886\"/>\n     <use style=\"stroke:#000000;\" x=\"310.700558\" xlink:href=\"#m7da5b907d9\" y=\"52.679444\"/>\n     <use style=\"stroke:#000000;\" x=\"529.271645\" xlink:href=\"#m7da5b907d9\" y=\"160.512956\"/>\n     <use style=\"stroke:#000000;\" x=\"695.59326\" xlink:href=\"#m7da5b907d9\" y=\"316.699566\"/>\n     <use style=\"stroke:#000000;\" x=\"470.492989\" xlink:href=\"#m7da5b907d9\" y=\"172.829954\"/>\n     <use style=\"stroke:#000000;\" x=\"183.278792\" xlink:href=\"#m7da5b907d9\" y=\"114.986622\"/>\n     <use style=\"stroke:#000000;\" x=\"251.813313\" xlink:href=\"#m7da5b907d9\" y=\"86.331069\"/>\n     <use style=\"stroke:#000000;\" x=\"482.189654\" xlink:href=\"#m7da5b907d9\" y=\"212.971607\"/>\n     <use style=\"stroke:#000000;\" x=\"627.472959\" xlink:href=\"#m7da5b907d9\" y=\"312.795284\"/>\n     <use style=\"stroke:#000000;\" x=\"193.930579\" xlink:href=\"#m7da5b907d9\" y=\"47.444365\"/>\n     <use style=\"stroke:#000000;\" x=\"218.292382\" xlink:href=\"#m7da5b907d9\" y=\"240.374306\"/>\n     <use style=\"stroke:#000000;\" x=\"283.935508\" xlink:href=\"#m7da5b907d9\" y=\"236.388951\"/>\n     <use style=\"stroke:#000000;\" x=\"555.808896\" xlink:href=\"#m7da5b907d9\" y=\"213.542861\"/>\n     <use style=\"stroke:#000000;\" x=\"578.711171\" xlink:href=\"#m7da5b907d9\" y=\"297.020829\"/>\n     <use style=\"stroke:#000000;\" x=\"722.519753\" xlink:href=\"#m7da5b907d9\" y=\"306.604237\"/>\n     <use style=\"stroke:#000000;\" x=\"452.377308\" xlink:href=\"#m7da5b907d9\" y=\"155.756603\"/>\n     <use style=\"stroke:#000000;\" x=\"58.607955\" xlink:href=\"#m7da5b907d9\" y=\"231.087588\"/>\n     <use style=\"stroke:#000000;\" x=\"352.568545\" xlink:href=\"#m7da5b907d9\" y=\"47.514718\"/>\n     <use style=\"stroke:#000000;\" x=\"614.383106\" xlink:href=\"#m7da5b907d9\" y=\"359.08024\"/>\n     <use style=\"stroke:#000000;\" x=\"341.585312\" xlink:href=\"#m7da5b907d9\" y=\"79.852204\"/>\n     <use style=\"stroke:#000000;\" x=\"695.439331\" xlink:href=\"#m7da5b907d9\" y=\"325.049093\"/>\n     <use style=\"stroke:#000000;\" x=\"542.853382\" xlink:href=\"#m7da5b907d9\" y=\"187.598686\"/>\n     <use style=\"stroke:#000000;\" x=\"679.103891\" xlink:href=\"#m7da5b907d9\" y=\"300.58077\"/>\n     <use style=\"stroke:#000000;\" x=\"703.725784\" xlink:href=\"#m7da5b907d9\" y=\"346.554202\"/>\n     <use style=\"stroke:#000000;\" x=\"576.757827\" xlink:href=\"#m7da5b907d9\" y=\"176.853706\"/>\n     <use style=\"stroke:#000000;\" x=\"268.30465\" xlink:href=\"#m7da5b907d9\" y=\"108.626498\"/>\n     <use style=\"stroke:#000000;\" x=\"534.751675\" xlink:href=\"#m7da5b907d9\" y=\"159.01491\"/>\n     <use style=\"stroke:#000000;\" x=\"297.48786\" xlink:href=\"#m7da5b907d9\" y=\"268.063798\"/>\n     <use style=\"stroke:#000000;\" x=\"234.368287\" xlink:href=\"#m7da5b907d9\" y=\"221.350418\"/>\n     <use style=\"stroke:#000000;\" x=\"603.26242\" xlink:href=\"#m7da5b907d9\" y=\"327.398819\"/>\n     <use style=\"stroke:#000000;\" x=\"168.091915\" xlink:href=\"#m7da5b907d9\" y=\"65.705457\"/>\n     <use style=\"stroke:#000000;\" x=\"633.48254\" xlink:href=\"#m7da5b907d9\" y=\"318.100639\"/>\n     <use style=\"stroke:#000000;\" x=\"665.078947\" xlink:href=\"#m7da5b907d9\" y=\"223.739374\"/>\n     <use style=\"stroke:#000000;\" x=\"230.162122\" xlink:href=\"#m7da5b907d9\" y=\"84.946485\"/>\n     <use style=\"stroke:#000000;\" x=\"549.011056\" xlink:href=\"#m7da5b907d9\" y=\"300.549054\"/>\n     <use style=\"stroke:#000000;\" x=\"607.705834\" xlink:href=\"#m7da5b907d9\" y=\"281.285669\"/>\n     <use style=\"stroke:#000000;\" x=\"474.083855\" xlink:href=\"#m7da5b907d9\" y=\"156.4497\"/>\n     <use style=\"stroke:#000000;\" x=\"358.37534\" xlink:href=\"#m7da5b907d9\" y=\"240.218901\"/>\n     <use style=\"stroke:#000000;\" x=\"615.463976\" xlink:href=\"#m7da5b907d9\" y=\"323.091827\"/>\n     <use style=\"stroke:#000000;\" x=\"303.380542\" xlink:href=\"#m7da5b907d9\" y=\"220.041771\"/>\n     <use style=\"stroke:#000000;\" x=\"576.437025\" xlink:href=\"#m7da5b907d9\" y=\"323.624498\"/>\n     <use style=\"stroke:#000000;\" x=\"586.431288\" xlink:href=\"#m7da5b907d9\" y=\"288.14036\"/>\n     <use style=\"stroke:#000000;\" x=\"657.991243\" xlink:href=\"#m7da5b907d9\" y=\"305.325013\"/>\n     <use style=\"stroke:#000000;\" x=\"614.813299\" xlink:href=\"#m7da5b907d9\" y=\"321.361879\"/>\n     <use style=\"stroke:#000000;\" x=\"263.190621\" xlink:href=\"#m7da5b907d9\" y=\"264.123752\"/>\n     <use style=\"stroke:#000000;\" x=\"551.943889\" xlink:href=\"#m7da5b907d9\" y=\"311.849649\"/>\n     <use style=\"stroke:#000000;\" x=\"219.076147\" xlink:href=\"#m7da5b907d9\" y=\"276.998927\"/>\n     <use style=\"stroke:#000000;\" x=\"381.314357\" xlink:href=\"#m7da5b907d9\" y=\"62.900263\"/>\n     <use style=\"stroke:#000000;\" x=\"230.794433\" xlink:href=\"#m7da5b907d9\" y=\"260.292802\"/>\n     <use style=\"stroke:#000000;\" x=\"225.040321\" xlink:href=\"#m7da5b907d9\" y=\"266.909829\"/>\n     <use style=\"stroke:#000000;\" x=\"702.688812\" xlink:href=\"#m7da5b907d9\" y=\"346.246479\"/>\n     <use style=\"stroke:#000000;\" x=\"260.715193\" xlink:href=\"#m7da5b907d9\" y=\"96.71564\"/>\n     <use style=\"stroke:#000000;\" x=\"275.507134\" xlink:href=\"#m7da5b907d9\" y=\"263.534851\"/>\n     <use style=\"stroke:#000000;\" x=\"143.001561\" xlink:href=\"#m7da5b907d9\" y=\"227.081004\"/>\n     <use style=\"stroke:#000000;\" x=\"178.146068\" xlink:href=\"#m7da5b907d9\" y=\"86.512607\"/>\n     <use style=\"stroke:#000000;\" x=\"477.429945\" xlink:href=\"#m7da5b907d9\" y=\"231.557698\"/>\n     <use style=\"stroke:#000000;\" x=\"358.212306\" xlink:href=\"#m7da5b907d9\" y=\"87.37693\"/>\n     <use style=\"stroke:#000000;\" x=\"120.128746\" xlink:href=\"#m7da5b907d9\" y=\"66.032211\"/>\n     <use style=\"stroke:#000000;\" x=\"299.388629\" xlink:href=\"#m7da5b907d9\" y=\"241.994543\"/>\n     <use style=\"stroke:#000000;\" x=\"566.428739\" xlink:href=\"#m7da5b907d9\" y=\"227.632484\"/>\n     <use style=\"stroke:#000000;\" x=\"232.700409\" xlink:href=\"#m7da5b907d9\" y=\"196.998839\"/>\n     <use style=\"stroke:#000000;\" x=\"637.595955\" xlink:href=\"#m7da5b907d9\" y=\"156.742497\"/>\n     <use style=\"stroke:#000000;\" x=\"216.167266\" xlink:href=\"#m7da5b907d9\" y=\"267.558579\"/>\n     <use style=\"stroke:#000000;\" x=\"260.501908\" xlink:href=\"#m7da5b907d9\" y=\"93.18455\"/>\n     <use style=\"stroke:#000000;\" x=\"421.701576\" xlink:href=\"#m7da5b907d9\" y=\"200.295798\"/>\n     <use style=\"stroke:#000000;\" x=\"292.844387\" xlink:href=\"#m7da5b907d9\" y=\"92.681421\"/>\n     <use style=\"stroke:#000000;\" x=\"212.748718\" xlink:href=\"#m7da5b907d9\" y=\"83.089282\"/>\n     <use style=\"stroke:#000000;\" x=\"245.428739\" xlink:href=\"#m7da5b907d9\" y=\"70.579583\"/>\n     <use style=\"stroke:#000000;\" x=\"532.05958\" xlink:href=\"#m7da5b907d9\" y=\"187.054587\"/>\n     <use style=\"stroke:#000000;\" x=\"351.031396\" xlink:href=\"#m7da5b907d9\" y=\"127.184514\"/>\n     <use style=\"stroke:#000000;\" x=\"446.832532\" xlink:href=\"#m7da5b907d9\" y=\"179.842791\"/>\n     <use style=\"stroke:#000000;\" x=\"602.569629\" xlink:href=\"#m7da5b907d9\" y=\"343.445001\"/>\n     <use style=\"stroke:#000000;\" x=\"300.851581\" xlink:href=\"#m7da5b907d9\" y=\"243.501673\"/>\n     <use style=\"stroke:#000000;\" x=\"313.806003\" xlink:href=\"#m7da5b907d9\" y=\"65.25675\"/>\n     <use style=\"stroke:#000000;\" x=\"202.00989\" xlink:href=\"#m7da5b907d9\" y=\"266.65961\"/>\n     <use style=\"stroke:#000000;\" x=\"637.539632\" xlink:href=\"#m7da5b907d9\" y=\"311.144532\"/>\n     <use style=\"stroke:#000000;\" x=\"548.515838\" xlink:href=\"#m7da5b907d9\" y=\"175.729417\"/>\n     <use style=\"stroke:#000000;\" x=\"196.669526\" xlink:href=\"#m7da5b907d9\" y=\"58.111957\"/>\n     <use style=\"stroke:#000000;\" x=\"498.551641\" xlink:href=\"#m7da5b907d9\" y=\"204.950025\"/>\n     <use style=\"stroke:#000000;\" x=\"507.064884\" xlink:href=\"#m7da5b907d9\" y=\"202.145692\"/>\n     <use style=\"stroke:#000000;\" x=\"611.012515\" xlink:href=\"#m7da5b907d9\" y=\"281.422766\"/>\n     <use style=\"stroke:#000000;\" x=\"515.369209\" xlink:href=\"#m7da5b907d9\" y=\"179.327123\"/>\n     <use style=\"stroke:#000000;\" x=\"115.404686\" xlink:href=\"#m7da5b907d9\" y=\"253.483444\"/>\n     <use style=\"stroke:#000000;\" x=\"309.304625\" xlink:href=\"#m7da5b907d9\" y=\"300.19845\"/>\n     <use style=\"stroke:#000000;\" x=\"445.60142\" xlink:href=\"#m7da5b907d9\" y=\"175.879006\"/>\n     <use style=\"stroke:#000000;\" x=\"587.197567\" xlink:href=\"#m7da5b907d9\" y=\"299.07812\"/>\n     <use style=\"stroke:#000000;\" x=\"561.581043\" xlink:href=\"#m7da5b907d9\" y=\"218.478649\"/>\n     <use style=\"stroke:#000000;\" x=\"546.368911\" xlink:href=\"#m7da5b907d9\" y=\"204.200393\"/>\n     <use style=\"stroke:#000000;\" x=\"278.569585\" xlink:href=\"#m7da5b907d9\" y=\"58.464226\"/>\n     <use style=\"stroke:#000000;\" x=\"592.646711\" xlink:href=\"#m7da5b907d9\" y=\"320.302494\"/>\n     <use style=\"stroke:#000000;\" x=\"640.694816\" xlink:href=\"#m7da5b907d9\" y=\"165.552394\"/>\n     <use style=\"stroke:#000000;\" x=\"267.259318\" xlink:href=\"#m7da5b907d9\" y=\"201.866759\"/>\n     <use style=\"stroke:#000000;\" x=\"287.402791\" xlink:href=\"#m7da5b907d9\" y=\"72.335593\"/>\n     <use style=\"stroke:#000000;\" x=\"707.18373\" xlink:href=\"#m7da5b907d9\" y=\"286.266951\"/>\n     <use style=\"stroke:#000000;\" x=\"688.84129\" xlink:href=\"#m7da5b907d9\" y=\"299.174919\"/>\n     <use style=\"stroke:#000000;\" x=\"487.220986\" xlink:href=\"#m7da5b907d9\" y=\"203.328187\"/>\n     <use style=\"stroke:#000000;\" x=\"308.52532\" xlink:href=\"#m7da5b907d9\" y=\"236.589085\"/>\n     <use style=\"stroke:#000000;\" x=\"725.250796\" xlink:href=\"#m7da5b907d9\" y=\"311.34796\"/>\n     <use style=\"stroke:#000000;\" x=\"616.058183\" xlink:href=\"#m7da5b907d9\" y=\"199.618002\"/>\n     <use style=\"stroke:#000000;\" x=\"163.127027\" xlink:href=\"#m7da5b907d9\" y=\"250.061322\"/>\n     <use style=\"stroke:#000000;\" x=\"237.692899\" xlink:href=\"#m7da5b907d9\" y=\"239.597911\"/>\n     <use style=\"stroke:#000000;\" x=\"430.236734\" xlink:href=\"#m7da5b907d9\" y=\"186.826148\"/>\n     <use style=\"stroke:#000000;\" x=\"586.985406\" xlink:href=\"#m7da5b907d9\" y=\"193.38852\"/>\n     <use style=\"stroke:#000000;\" x=\"544.045649\" xlink:href=\"#m7da5b907d9\" y=\"165.863977\"/>\n     <use style=\"stroke:#000000;\" x=\"509.807951\" xlink:href=\"#m7da5b907d9\" y=\"192.672337\"/>\n     <use style=\"stroke:#000000;\" x=\"707.303474\" xlink:href=\"#m7da5b907d9\" y=\"298.806414\"/>\n     <use style=\"stroke:#000000;\" x=\"219.926528\" xlink:href=\"#m7da5b907d9\" y=\"97.423589\"/>\n     <use style=\"stroke:#000000;\" x=\"461.046798\" xlink:href=\"#m7da5b907d9\" y=\"225.231866\"/>\n     <use style=\"stroke:#000000;\" x=\"304.626909\" xlink:href=\"#m7da5b907d9\" y=\"245.988512\"/>\n     <use style=\"stroke:#000000;\" x=\"538.650196\" xlink:href=\"#m7da5b907d9\" y=\"189.654198\"/>\n     <use style=\"stroke:#000000;\" x=\"485.682419\" xlink:href=\"#m7da5b907d9\" y=\"198.992362\"/>\n     <use style=\"stroke:#000000;\" x=\"175.08656\" xlink:href=\"#m7da5b907d9\" y=\"274.011435\"/>\n     <use style=\"stroke:#000000;\" x=\"262.778246\" xlink:href=\"#m7da5b907d9\" y=\"262.012656\"/>\n     <use style=\"stroke:#000000;\" x=\"97.899191\" xlink:href=\"#m7da5b907d9\" y=\"241.055541\"/>\n     <use style=\"stroke:#000000;\" x=\"612.429241\" xlink:href=\"#m7da5b907d9\" y=\"218.207452\"/>\n     <use style=\"stroke:#000000;\" x=\"195.803145\" xlink:href=\"#m7da5b907d9\" y=\"268.687506\"/>\n     <use style=\"stroke:#000000;\" x=\"210.270768\" xlink:href=\"#m7da5b907d9\" y=\"69.407119\"/>\n     <use style=\"stroke:#000000;\" x=\"560.21829\" xlink:href=\"#m7da5b907d9\" y=\"218.609585\"/>\n     <use style=\"stroke:#000000;\" x=\"308.36224\" xlink:href=\"#m7da5b907d9\" y=\"231.585264\"/>\n     <use style=\"stroke:#000000;\" x=\"637.669997\" xlink:href=\"#m7da5b907d9\" y=\"347.773821\"/>\n     <use style=\"stroke:#000000;\" x=\"211.183105\" xlink:href=\"#m7da5b907d9\" y=\"272.876891\"/>\n     <use style=\"stroke:#000000;\" x=\"562.021923\" xlink:href=\"#m7da5b907d9\" y=\"210.046301\"/>\n     <use style=\"stroke:#000000;\" x=\"248.685825\" xlink:href=\"#m7da5b907d9\" y=\"137.242538\"/>\n     <use style=\"stroke:#000000;\" x=\"239.384364\" xlink:href=\"#m7da5b907d9\" y=\"245.827359\"/>\n     <use style=\"stroke:#000000;\" x=\"341.186835\" xlink:href=\"#m7da5b907d9\" y=\"45.153757\"/>\n     <use style=\"stroke:#000000;\" x=\"545.62058\" xlink:href=\"#m7da5b907d9\" y=\"182.78525\"/>\n     <use style=\"stroke:#000000;\" x=\"307.575157\" xlink:href=\"#m7da5b907d9\" y=\"112.117996\"/>\n     <use style=\"stroke:#000000;\" x=\"580.809332\" xlink:href=\"#m7da5b907d9\" y=\"187.485653\"/>\n     <use style=\"stroke:#000000;\" x=\"230.404713\" xlink:href=\"#m7da5b907d9\" y=\"251.766525\"/>\n     <use style=\"stroke:#000000;\" x=\"420.567141\" xlink:href=\"#m7da5b907d9\" y=\"186.343021\"/>\n     <use style=\"stroke:#000000;\" x=\"619.643103\" xlink:href=\"#m7da5b907d9\" y=\"171.066788\"/>\n     <use style=\"stroke:#000000;\" x=\"257.784933\" xlink:href=\"#m7da5b907d9\" y=\"78.089318\"/>\n     <use style=\"stroke:#000000;\" x=\"338.637961\" xlink:href=\"#m7da5b907d9\" y=\"257.85142\"/>\n     <use style=\"stroke:#000000;\" x=\"318.036255\" xlink:href=\"#m7da5b907d9\" y=\"252.97558\"/>\n     <use style=\"stroke:#000000;\" x=\"650.952143\" xlink:href=\"#m7da5b907d9\" y=\"327.205251\"/>\n     <use style=\"stroke:#000000;\" x=\"763.18455\" xlink:href=\"#m7da5b907d9\" y=\"355.911421\"/>\n     <use style=\"stroke:#000000;\" x=\"470.877423\" xlink:href=\"#m7da5b907d9\" y=\"194.828771\"/>\n     <use style=\"stroke:#000000;\" x=\"204.315741\" xlink:href=\"#m7da5b907d9\" y=\"81.553097\"/>\n     <use style=\"stroke:#000000;\" x=\"713.900337\" xlink:href=\"#m7da5b907d9\" y=\"322.790101\"/>\n     <use style=\"stroke:#000000;\" x=\"657.482801\" xlink:href=\"#m7da5b907d9\" y=\"328.400187\"/>\n     <use style=\"stroke:#000000;\" x=\"121.471913\" xlink:href=\"#m7da5b907d9\" y=\"234.297034\"/>\n     <use style=\"stroke:#000000;\" x=\"608.677772\" xlink:href=\"#m7da5b907d9\" y=\"341.729406\"/>\n     <use style=\"stroke:#000000;\" x=\"120.591684\" xlink:href=\"#m7da5b907d9\" y=\"236.268589\"/>\n     <use style=\"stroke:#000000;\" x=\"472.235405\" xlink:href=\"#m7da5b907d9\" y=\"236.814629\"/>\n     <use style=\"stroke:#000000;\" x=\"367.799604\" xlink:href=\"#m7da5b907d9\" y=\"92.551266\"/>\n     <use style=\"stroke:#000000;\" x=\"289.864482\" xlink:href=\"#m7da5b907d9\" y=\"75.370296\"/>\n     <use style=\"stroke:#000000;\" x=\"667.848228\" xlink:href=\"#m7da5b907d9\" y=\"165.321968\"/>\n     <use style=\"stroke:#000000;\" x=\"537.205492\" xlink:href=\"#m7da5b907d9\" y=\"199.767935\"/>\n     <use style=\"stroke:#000000;\" x=\"259.150779\" xlink:href=\"#m7da5b907d9\" y=\"42.965723\"/>\n     <use style=\"stroke:#000000;\" x=\"505.235079\" xlink:href=\"#m7da5b907d9\" y=\"211.340215\"/>\n     <use style=\"stroke:#000000;\" x=\"524.420232\" xlink:href=\"#m7da5b907d9\" y=\"309.25713\"/>\n     <use style=\"stroke:#000000;\" x=\"292.282439\" xlink:href=\"#m7da5b907d9\" y=\"243.533104\"/>\n     <use style=\"stroke:#000000;\" x=\"512.338402\" xlink:href=\"#m7da5b907d9\" y=\"194.741609\"/>\n     <use style=\"stroke:#000000;\" x=\"649.927945\" xlink:href=\"#m7da5b907d9\" y=\"319.307121\"/>\n     <use style=\"stroke:#000000;\" x=\"275.90485\" xlink:href=\"#m7da5b907d9\" y=\"237.846326\"/>\n     <use style=\"stroke:#000000;\" x=\"295.778635\" xlink:href=\"#m7da5b907d9\" y=\"38.330631\"/>\n     <use style=\"stroke:#000000;\" x=\"204.05194\" xlink:href=\"#m7da5b907d9\" y=\"238.036173\"/>\n     <use style=\"stroke:#000000;\" x=\"741.856808\" xlink:href=\"#m7da5b907d9\" y=\"306.609929\"/>\n     <use style=\"stroke:#000000;\" x=\"452.932229\" xlink:href=\"#m7da5b907d9\" y=\"177.295309\"/>\n     <use style=\"stroke:#000000;\" x=\"816.412566\" xlink:href=\"#m7da5b907d9\" y=\"314.029125\"/>\n     <use style=\"stroke:#000000;\" x=\"237.416946\" xlink:href=\"#m7da5b907d9\" y=\"84.046013\"/>\n     <use style=\"stroke:#000000;\" x=\"243.282193\" xlink:href=\"#m7da5b907d9\" y=\"78.801633\"/>\n     <use style=\"stroke:#000000;\" x=\"209.14779\" xlink:href=\"#m7da5b907d9\" y=\"90.706763\"/>\n     <use style=\"stroke:#000000;\" x=\"225.256248\" xlink:href=\"#m7da5b907d9\" y=\"70.265238\"/>\n     <use style=\"stroke:#000000;\" x=\"229.27378\" xlink:href=\"#m7da5b907d9\" y=\"225.43108\"/>\n     <use style=\"stroke:#000000;\" x=\"269.480853\" xlink:href=\"#m7da5b907d9\" y=\"240.676734\"/>\n     <use style=\"stroke:#000000;\" x=\"336.026607\" xlink:href=\"#m7da5b907d9\" y=\"129.176347\"/>\n     <use style=\"stroke:#000000;\" x=\"699.876075\" xlink:href=\"#m7da5b907d9\" y=\"176.393666\"/>\n     <use style=\"stroke:#000000;\" x=\"242.58186\" xlink:href=\"#m7da5b907d9\" y=\"240.287053\"/>\n     <use style=\"stroke:#000000;\" x=\"593.446967\" xlink:href=\"#m7da5b907d9\" y=\"321.625803\"/>\n     <use style=\"stroke:#000000;\" x=\"480.438554\" xlink:href=\"#m7da5b907d9\" y=\"184.763613\"/>\n     <use style=\"stroke:#000000;\" x=\"210.291573\" xlink:href=\"#m7da5b907d9\" y=\"230.79762\"/>\n     <use style=\"stroke:#000000;\" x=\"196.069465\" xlink:href=\"#m7da5b907d9\" y=\"209.333316\"/>\n     <use style=\"stroke:#000000;\" x=\"349.457421\" xlink:href=\"#m7da5b907d9\" y=\"208.093233\"/>\n     <use style=\"stroke:#000000;\" x=\"656.441889\" xlink:href=\"#m7da5b907d9\" y=\"337.28304\"/>\n     <use style=\"stroke:#000000;\" x=\"670.067865\" xlink:href=\"#m7da5b907d9\" y=\"308.360662\"/>\n     <use style=\"stroke:#000000;\" x=\"261.873547\" xlink:href=\"#m7da5b907d9\" y=\"76.594696\"/>\n     <use style=\"stroke:#000000;\" x=\"526.837401\" xlink:href=\"#m7da5b907d9\" y=\"187.420866\"/>\n     <use style=\"stroke:#000000;\" x=\"459.501811\" xlink:href=\"#m7da5b907d9\" y=\"174.122212\"/>\n     <use style=\"stroke:#000000;\" x=\"170.276306\" xlink:href=\"#m7da5b907d9\" y=\"226.668943\"/>\n     <use style=\"stroke:#000000;\" x=\"579.317607\" xlink:href=\"#m7da5b907d9\" y=\"322.199394\"/>\n     <use style=\"stroke:#000000;\" x=\"354.538762\" xlink:href=\"#m7da5b907d9\" y=\"64.080294\"/>\n     <use style=\"stroke:#000000;\" x=\"304.148841\" xlink:href=\"#m7da5b907d9\" y=\"237.89226\"/>\n     <use style=\"stroke:#000000;\" x=\"594.181431\" xlink:href=\"#m7da5b907d9\" y=\"211.230955\"/>\n     <use style=\"stroke:#000000;\" x=\"352.294514\" xlink:href=\"#m7da5b907d9\" y=\"79.162769\"/>\n     <use style=\"stroke:#000000;\" x=\"503.736379\" xlink:href=\"#m7da5b907d9\" y=\"157.705536\"/>\n     <use style=\"stroke:#000000;\" x=\"665.976956\" xlink:href=\"#m7da5b907d9\" y=\"301.115526\"/>\n     <use style=\"stroke:#000000;\" x=\"560.068147\" xlink:href=\"#m7da5b907d9\" y=\"323.345732\"/>\n     <use style=\"stroke:#000000;\" x=\"125.493448\" xlink:href=\"#m7da5b907d9\" y=\"235.611794\"/>\n     <use style=\"stroke:#000000;\" x=\"193.592333\" xlink:href=\"#m7da5b907d9\" y=\"260.403191\"/>\n     <use style=\"stroke:#000000;\" x=\"691.984678\" xlink:href=\"#m7da5b907d9\" y=\"225.941311\"/>\n     <use style=\"stroke:#000000;\" x=\"809.726358\" xlink:href=\"#m7da5b907d9\" y=\"285.550607\"/>\n     <use style=\"stroke:#000000;\" x=\"634.539545\" xlink:href=\"#m7da5b907d9\" y=\"341.555644\"/>\n     <use style=\"stroke:#000000;\" x=\"573.891497\" xlink:href=\"#m7da5b907d9\" y=\"295.716172\"/>\n     <use style=\"stroke:#000000;\" x=\"663.993839\" xlink:href=\"#m7da5b907d9\" y=\"177.187529\"/>\n     <use style=\"stroke:#000000;\" x=\"276.594628\" xlink:href=\"#m7da5b907d9\" y=\"63.439928\"/>\n     <use style=\"stroke:#000000;\" x=\"205.143463\" xlink:href=\"#m7da5b907d9\" y=\"75.933164\"/>\n     <use style=\"stroke:#000000;\" x=\"739.372387\" xlink:href=\"#m7da5b907d9\" y=\"290.857016\"/>\n     <use style=\"stroke:#000000;\" x=\"723.263023\" xlink:href=\"#m7da5b907d9\" y=\"306.57306\"/>\n     <use style=\"stroke:#000000;\" x=\"613.317606\" xlink:href=\"#m7da5b907d9\" y=\"221.406761\"/>\n     <use style=\"stroke:#000000;\" x=\"693.537778\" xlink:href=\"#m7da5b907d9\" y=\"315.554415\"/>\n     <use style=\"stroke:#000000;\" x=\"678.657154\" xlink:href=\"#m7da5b907d9\" y=\"315.183588\"/>\n     <use style=\"stroke:#000000;\" x=\"795.297652\" xlink:href=\"#m7da5b907d9\" y=\"305.099017\"/>\n     <use style=\"stroke:#000000;\" x=\"239.97739\" xlink:href=\"#m7da5b907d9\" y=\"94.542616\"/>\n     <use style=\"stroke:#000000;\" x=\"345.73992\" xlink:href=\"#m7da5b907d9\" y=\"226.001709\"/>\n     <use style=\"stroke:#000000;\" x=\"266.873454\" xlink:href=\"#m7da5b907d9\" y=\"50.921562\"/>\n     <use style=\"stroke:#000000;\" x=\"527.169114\" xlink:href=\"#m7da5b907d9\" y=\"209.605697\"/>\n     <use style=\"stroke:#000000;\" x=\"686.947442\" xlink:href=\"#m7da5b907d9\" y=\"370.423636\"/>\n     <use style=\"stroke:#000000;\" x=\"631.376093\" xlink:href=\"#m7da5b907d9\" y=\"305.512886\"/>\n     <use style=\"stroke:#000000;\" x=\"290.85133\" xlink:href=\"#m7da5b907d9\" y=\"99.287926\"/>\n     <use style=\"stroke:#000000;\" x=\"228.80691\" xlink:href=\"#m7da5b907d9\" y=\"47.518357\"/>\n     <use style=\"stroke:#000000;\" x=\"272.813398\" xlink:href=\"#m7da5b907d9\" y=\"69.770551\"/>\n     <use style=\"stroke:#000000;\" x=\"649.714349\" xlink:href=\"#m7da5b907d9\" y=\"289.674059\"/>\n     <use style=\"stroke:#000000;\" x=\"712.888604\" xlink:href=\"#m7da5b907d9\" y=\"296.147006\"/>\n     <use style=\"stroke:#000000;\" x=\"471.700858\" xlink:href=\"#m7da5b907d9\" y=\"187.910302\"/>\n     <use style=\"stroke:#000000;\" x=\"463.638096\" xlink:href=\"#m7da5b907d9\" y=\"75.851989\"/>\n     <use style=\"stroke:#000000;\" x=\"212.987212\" xlink:href=\"#m7da5b907d9\" y=\"249.401675\"/>\n    </g>\n   </g>\n   <g id=\"matplotlib.axis_1\">\n    <g id=\"xtick_1\">\n     <g id=\"line2d_1\">\n      <defs>\n       <path d=\"M 0 0 \nL 0 3.5 \n\" id=\"m93ae6819b3\" style=\"stroke:#000000;stroke-width:0.8;\"/>\n      </defs>\n      <g>\n       <use style=\"stroke:#000000;stroke-width:0.8;\" x=\"72.806204\" xlink:href=\"#m93ae6819b3\" y=\"387.72\"/>\n      </g>\n     </g>\n     <g id=\"text_1\">\n      <!-- −3 -->\n      <g transform=\"translate(65.43511 402.318437)scale(0.1 -0.1)\">\n       <defs>\n        <path d=\"M 10.59375 35.5 \nL 73.1875 35.5 \nL 73.1875 27.203125 \nL 10.59375 27.203125 \nz\n\" id=\"DejaVuSans-8722\"/>\n        <path d=\"M 40.578125 39.3125 \nQ 47.65625 37.796875 51.625 33 \nQ 55.609375 28.21875 55.609375 21.1875 \nQ 55.609375 10.40625 48.1875 4.484375 \nQ 40.765625 -1.421875 27.09375 -1.421875 \nQ 22.515625 -1.421875 17.65625 -0.515625 \nQ 12.796875 0.390625 7.625 2.203125 \nL 7.625 11.71875 \nQ 11.71875 9.328125 16.59375 8.109375 \nQ 21.484375 6.890625 26.8125 6.890625 \nQ 36.078125 6.890625 40.9375 10.546875 \nQ 45.796875 14.203125 45.796875 21.1875 \nQ 45.796875 27.640625 41.28125 31.265625 \nQ 36.765625 34.90625 28.71875 34.90625 \nL 20.21875 34.90625 \nL 20.21875 43.015625 \nL 29.109375 43.015625 \nQ 36.375 43.015625 40.234375 45.921875 \nQ 44.09375 48.828125 44.09375 54.296875 \nQ 44.09375 59.90625 40.109375 62.90625 \nQ 36.140625 65.921875 28.71875 65.921875 \nQ 24.65625 65.921875 20.015625 65.03125 \nQ 15.375 64.15625 9.8125 62.3125 \nL 9.8125 71.09375 \nQ 15.4375 72.65625 20.34375 73.4375 \nQ 25.25 74.21875 29.59375 74.21875 \nQ 40.828125 74.21875 47.359375 69.109375 \nQ 53.90625 64.015625 53.90625 55.328125 \nQ 53.90625 49.265625 50.4375 45.09375 \nQ 46.96875 40.921875 40.578125 39.3125 \nz\n\" id=\"DejaVuSans-51\"/>\n       </defs>\n       <use xlink:href=\"#DejaVuSans-8722\"/>\n       <use x=\"83.789062\" xlink:href=\"#DejaVuSans-51\"/>\n      </g>\n     </g>\n    </g>\n    <g id=\"xtick_2\">\n     <g id=\"line2d_2\">\n      <g>\n       <use style=\"stroke:#000000;stroke-width:0.8;\" x=\"188.798003\" xlink:href=\"#m93ae6819b3\" y=\"387.72\"/>\n      </g>\n     </g>\n     <g id=\"text_2\">\n      <!-- −2 -->\n      <g transform=\"translate(181.42691 402.318437)scale(0.1 -0.1)\">\n       <defs>\n        <path d=\"M 19.1875 8.296875 \nL 53.609375 8.296875 \nL 53.609375 0 \nL 7.328125 0 \nL 7.328125 8.296875 \nQ 12.9375 14.109375 22.625 23.890625 \nQ 32.328125 33.6875 34.8125 36.53125 \nQ 39.546875 41.84375 41.421875 45.53125 \nQ 43.3125 49.21875 43.3125 52.78125 \nQ 43.3125 58.59375 39.234375 62.25 \nQ 35.15625 65.921875 28.609375 65.921875 \nQ 23.96875 65.921875 18.8125 64.3125 \nQ 13.671875 62.703125 7.8125 59.421875 \nL 7.8125 69.390625 \nQ 13.765625 71.78125 18.9375 73 \nQ 24.125 74.21875 28.421875 74.21875 \nQ 39.75 74.21875 46.484375 68.546875 \nQ 53.21875 62.890625 53.21875 53.421875 \nQ 53.21875 48.921875 51.53125 44.890625 \nQ 49.859375 40.875 45.40625 35.40625 \nQ 44.1875 33.984375 37.640625 27.21875 \nQ 31.109375 20.453125 19.1875 8.296875 \nz\n\" id=\"DejaVuSans-50\"/>\n       </defs>\n       <use xlink:href=\"#DejaVuSans-8722\"/>\n       <use x=\"83.789062\" xlink:href=\"#DejaVuSans-50\"/>\n      </g>\n     </g>\n    </g>\n    <g id=\"xtick_3\">\n     <g id=\"line2d_3\">\n      <g>\n       <use style=\"stroke:#000000;stroke-width:0.8;\" x=\"304.789803\" xlink:href=\"#m93ae6819b3\" y=\"387.72\"/>\n      </g>\n     </g>\n     <g id=\"text_3\">\n      <!-- −1 -->\n      <g transform=\"translate(297.418709 402.318437)scale(0.1 -0.1)\">\n       <defs>\n        <path d=\"M 12.40625 8.296875 \nL 28.515625 8.296875 \nL 28.515625 63.921875 \nL 10.984375 60.40625 \nL 10.984375 69.390625 \nL 28.421875 72.90625 \nL 38.28125 72.90625 \nL 38.28125 8.296875 \nL 54.390625 8.296875 \nL 54.390625 0 \nL 12.40625 0 \nz\n\" id=\"DejaVuSans-49\"/>\n       </defs>\n       <use xlink:href=\"#DejaVuSans-8722\"/>\n       <use x=\"83.789062\" xlink:href=\"#DejaVuSans-49\"/>\n      </g>\n     </g>\n    </g>\n    <g id=\"xtick_4\">\n     <g id=\"line2d_4\">\n      <g>\n       <use style=\"stroke:#000000;stroke-width:0.8;\" x=\"420.781602\" xlink:href=\"#m93ae6819b3\" y=\"387.72\"/>\n      </g>\n     </g>\n     <g id=\"text_4\">\n      <!-- 0 -->\n      <g transform=\"translate(417.600352 402.318437)scale(0.1 -0.1)\">\n       <defs>\n        <path d=\"M 31.78125 66.40625 \nQ 24.171875 66.40625 20.328125 58.90625 \nQ 16.5 51.421875 16.5 36.375 \nQ 16.5 21.390625 20.328125 13.890625 \nQ 24.171875 6.390625 31.78125 6.390625 \nQ 39.453125 6.390625 43.28125 13.890625 \nQ 47.125 21.390625 47.125 36.375 \nQ 47.125 51.421875 43.28125 58.90625 \nQ 39.453125 66.40625 31.78125 66.40625 \nz\nM 31.78125 74.21875 \nQ 44.046875 74.21875 50.515625 64.515625 \nQ 56.984375 54.828125 56.984375 36.375 \nQ 56.984375 17.96875 50.515625 8.265625 \nQ 44.046875 -1.421875 31.78125 -1.421875 \nQ 19.53125 -1.421875 13.0625 8.265625 \nQ 6.59375 17.96875 6.59375 36.375 \nQ 6.59375 54.828125 13.0625 64.515625 \nQ 19.53125 74.21875 31.78125 74.21875 \nz\n\" id=\"DejaVuSans-48\"/>\n       </defs>\n       <use xlink:href=\"#DejaVuSans-48\"/>\n      </g>\n     </g>\n    </g>\n    <g id=\"xtick_5\">\n     <g id=\"line2d_5\">\n      <g>\n       <use style=\"stroke:#000000;stroke-width:0.8;\" x=\"536.773401\" xlink:href=\"#m93ae6819b3\" y=\"387.72\"/>\n      </g>\n     </g>\n     <g id=\"text_5\">\n      <!-- 1 -->\n      <g transform=\"translate(533.592151 402.318437)scale(0.1 -0.1)\">\n       <use xlink:href=\"#DejaVuSans-49\"/>\n      </g>\n     </g>\n    </g>\n    <g id=\"xtick_6\">\n     <g id=\"line2d_6\">\n      <g>\n       <use style=\"stroke:#000000;stroke-width:0.8;\" x=\"652.7652\" xlink:href=\"#m93ae6819b3\" y=\"387.72\"/>\n      </g>\n     </g>\n     <g id=\"text_6\">\n      <!-- 2 -->\n      <g transform=\"translate(649.58395 402.318437)scale(0.1 -0.1)\">\n       <use xlink:href=\"#DejaVuSans-50\"/>\n      </g>\n     </g>\n    </g>\n    <g id=\"xtick_7\">\n     <g id=\"line2d_7\">\n      <g>\n       <use style=\"stroke:#000000;stroke-width:0.8;\" x=\"768.757\" xlink:href=\"#m93ae6819b3\" y=\"387.72\"/>\n      </g>\n     </g>\n     <g id=\"text_7\">\n      <!-- 3 -->\n      <g transform=\"translate(765.57575 402.318437)scale(0.1 -0.1)\">\n       <use xlink:href=\"#DejaVuSans-51\"/>\n      </g>\n     </g>\n    </g>\n   </g>\n   <g id=\"matplotlib.axis_2\">\n    <g id=\"ytick_1\">\n     <g id=\"line2d_8\">\n      <defs>\n       <path d=\"M 0 0 \nL -3.5 0 \n\" id=\"medb1740e5b\" style=\"stroke:#000000;stroke-width:0.8;\"/>\n      </defs>\n      <g>\n       <use style=\"stroke:#000000;stroke-width:0.8;\" x=\"20.5625\" xlink:href=\"#medb1740e5b\" y=\"344.058071\"/>\n      </g>\n     </g>\n     <g id=\"text_8\">\n      <!-- 0 -->\n      <g transform=\"translate(7.2 347.85729)scale(0.1 -0.1)\">\n       <use xlink:href=\"#DejaVuSans-48\"/>\n      </g>\n     </g>\n    </g>\n    <g id=\"ytick_2\">\n     <g id=\"line2d_9\">\n      <g>\n       <use style=\"stroke:#000000;stroke-width:0.8;\" x=\"20.5625\" xlink:href=\"#medb1740e5b\" y=\"275.208768\"/>\n      </g>\n     </g>\n     <g id=\"text_9\">\n      <!-- 2 -->\n      <g transform=\"translate(7.2 279.007987)scale(0.1 -0.1)\">\n       <use xlink:href=\"#DejaVuSans-50\"/>\n      </g>\n     </g>\n    </g>\n    <g id=\"ytick_3\">\n     <g id=\"line2d_10\">\n      <g>\n       <use style=\"stroke:#000000;stroke-width:0.8;\" x=\"20.5625\" xlink:href=\"#medb1740e5b\" y=\"206.359465\"/>\n      </g>\n     </g>\n     <g id=\"text_10\">\n      <!-- 4 -->\n      <g transform=\"translate(7.2 210.158684)scale(0.1 -0.1)\">\n       <defs>\n        <path d=\"M 37.796875 64.3125 \nL 12.890625 25.390625 \nL 37.796875 25.390625 \nz\nM 35.203125 72.90625 \nL 47.609375 72.90625 \nL 47.609375 25.390625 \nL 58.015625 25.390625 \nL 58.015625 17.1875 \nL 47.609375 17.1875 \nL 47.609375 0 \nL 37.796875 0 \nL 37.796875 17.1875 \nL 4.890625 17.1875 \nL 4.890625 26.703125 \nz\n\" id=\"DejaVuSans-52\"/>\n       </defs>\n       <use xlink:href=\"#DejaVuSans-52\"/>\n      </g>\n     </g>\n    </g>\n    <g id=\"ytick_4\">\n     <g id=\"line2d_11\">\n      <g>\n       <use style=\"stroke:#000000;stroke-width:0.8;\" x=\"20.5625\" xlink:href=\"#medb1740e5b\" y=\"137.510162\"/>\n      </g>\n     </g>\n     <g id=\"text_11\">\n      <!-- 6 -->\n      <g transform=\"translate(7.2 141.30938)scale(0.1 -0.1)\">\n       <defs>\n        <path d=\"M 33.015625 40.375 \nQ 26.375 40.375 22.484375 35.828125 \nQ 18.609375 31.296875 18.609375 23.390625 \nQ 18.609375 15.53125 22.484375 10.953125 \nQ 26.375 6.390625 33.015625 6.390625 \nQ 39.65625 6.390625 43.53125 10.953125 \nQ 47.40625 15.53125 47.40625 23.390625 \nQ 47.40625 31.296875 43.53125 35.828125 \nQ 39.65625 40.375 33.015625 40.375 \nz\nM 52.59375 71.296875 \nL 52.59375 62.3125 \nQ 48.875 64.0625 45.09375 64.984375 \nQ 41.3125 65.921875 37.59375 65.921875 \nQ 27.828125 65.921875 22.671875 59.328125 \nQ 17.53125 52.734375 16.796875 39.40625 \nQ 19.671875 43.65625 24.015625 45.921875 \nQ 28.375 48.1875 33.59375 48.1875 \nQ 44.578125 48.1875 50.953125 41.515625 \nQ 57.328125 34.859375 57.328125 23.390625 \nQ 57.328125 12.15625 50.6875 5.359375 \nQ 44.046875 -1.421875 33.015625 -1.421875 \nQ 20.359375 -1.421875 13.671875 8.265625 \nQ 6.984375 17.96875 6.984375 36.375 \nQ 6.984375 53.65625 15.1875 63.9375 \nQ 23.390625 74.21875 37.203125 74.21875 \nQ 40.921875 74.21875 44.703125 73.484375 \nQ 48.484375 72.75 52.59375 71.296875 \nz\n\" id=\"DejaVuSans-54\"/>\n       </defs>\n       <use xlink:href=\"#DejaVuSans-54\"/>\n      </g>\n     </g>\n    </g>\n    <g id=\"ytick_5\">\n     <g id=\"line2d_12\">\n      <g>\n       <use style=\"stroke:#000000;stroke-width:0.8;\" x=\"20.5625\" xlink:href=\"#medb1740e5b\" y=\"68.660858\"/>\n      </g>\n     </g>\n     <g id=\"text_12\">\n      <!-- 8 -->\n      <g transform=\"translate(7.2 72.460077)scale(0.1 -0.1)\">\n       <defs>\n        <path d=\"M 31.78125 34.625 \nQ 24.75 34.625 20.71875 30.859375 \nQ 16.703125 27.09375 16.703125 20.515625 \nQ 16.703125 13.921875 20.71875 10.15625 \nQ 24.75 6.390625 31.78125 6.390625 \nQ 38.8125 6.390625 42.859375 10.171875 \nQ 46.921875 13.96875 46.921875 20.515625 \nQ 46.921875 27.09375 42.890625 30.859375 \nQ 38.875 34.625 31.78125 34.625 \nz\nM 21.921875 38.8125 \nQ 15.578125 40.375 12.03125 44.71875 \nQ 8.5 49.078125 8.5 55.328125 \nQ 8.5 64.0625 14.71875 69.140625 \nQ 20.953125 74.21875 31.78125 74.21875 \nQ 42.671875 74.21875 48.875 69.140625 \nQ 55.078125 64.0625 55.078125 55.328125 \nQ 55.078125 49.078125 51.53125 44.71875 \nQ 48 40.375 41.703125 38.8125 \nQ 48.828125 37.15625 52.796875 32.3125 \nQ 56.78125 27.484375 56.78125 20.515625 \nQ 56.78125 9.90625 50.3125 4.234375 \nQ 43.84375 -1.421875 31.78125 -1.421875 \nQ 19.734375 -1.421875 13.25 4.234375 \nQ 6.78125 9.90625 6.78125 20.515625 \nQ 6.78125 27.484375 10.78125 32.3125 \nQ 14.796875 37.15625 21.921875 38.8125 \nz\nM 18.3125 54.390625 \nQ 18.3125 48.734375 21.84375 45.5625 \nQ 25.390625 42.390625 31.78125 42.390625 \nQ 38.140625 42.390625 41.71875 45.5625 \nQ 45.3125 48.734375 45.3125 54.390625 \nQ 45.3125 60.0625 41.71875 63.234375 \nQ 38.140625 66.40625 31.78125 66.40625 \nQ 25.390625 66.40625 21.84375 63.234375 \nQ 18.3125 60.0625 18.3125 54.390625 \nz\n\" id=\"DejaVuSans-56\"/>\n       </defs>\n       <use xlink:href=\"#DejaVuSans-56\"/>\n      </g>\n     </g>\n    </g>\n   </g>\n   <g id=\"patch_3\">\n    <path d=\"M 20.5625 387.72 \nL 20.5625 7.2 \n\" style=\"fill:none;stroke:#000000;stroke-linecap:square;stroke-linejoin:miter;stroke-width:0.8;\"/>\n   </g>\n   <g id=\"patch_4\">\n    <path d=\"M 857.5625 387.72 \nL 857.5625 7.2 \n\" style=\"fill:none;stroke:#000000;stroke-linecap:square;stroke-linejoin:miter;stroke-width:0.8;\"/>\n   </g>\n   <g id=\"patch_5\">\n    <path d=\"M 20.5625 387.72 \nL 857.5625 387.72 \n\" style=\"fill:none;stroke:#000000;stroke-linecap:square;stroke-linejoin:miter;stroke-width:0.8;\"/>\n   </g>\n   <g id=\"patch_6\">\n    <path d=\"M 20.5625 7.2 \nL 857.5625 7.2 \n\" style=\"fill:none;stroke:#000000;stroke-linecap:square;stroke-linejoin:miter;stroke-width:0.8;\"/>\n   </g>\n  </g>\n </g>\n <defs>\n  <clipPath id=\"p2d22cbf39a\">\n   <rect height=\"380.52\" width=\"837\" x=\"20.5625\" y=\"7.2\"/>\n  </clipPath>\n </defs>\n</svg>\n",
      "image/png": "[encoded data removed]"
     },
     "metadata": {
      "needs_background": "light"
     }
    }
   ],
   "source": [
    "# 3 points\n",
    "\n",
    "#make the dataset with make_blobs use random state 0 use 300 samples\n",
    "#And plot it\n",
    "X = 0\n",
    "Y = 0\n",
    "# YOUR CODE HERE\n",
    "X,Y = make_blobs(n_samples=300,centers=4,cluster_std=0.6,random_state=0)\n",
    "plt.figure(figsize=(15,7))\n",
    "plt.scatter(X[:, 0], X[:, 1], s=100, c = 'k')\n"
   ]
  },
  {
   "cell_type": "code",
   "execution_count": 7,
   "metadata": {
    "deletable": false,
    "editable": false,
    "nbgrader": {
     "cell_type": "code",
     "checksum": "3865a0d991000b519e3f641de5691091",
     "grade": true,
     "grade_id": "cell-a87f746c4fdd507e",
     "locked": true,
     "points": 3,
     "schema_version": 3,
     "solution": false,
     "task": false
    }
   },
   "outputs": [],
   "source": [
    "assert X.shape== (300,2)\n",
    "assert Y.shape== (300,)"
   ]
  },
  {
   "cell_type": "markdown",
   "metadata": {},
   "source": [
    "### Step 2: Create the helper functions\n",
    "1. Implement ```square_diff``` that takes in two vectors ```x1``` and ```x2``` and returns their squared difference. Hint: Use ```assert``` to check their lenghts match.\n",
    "2. Implement ```root_sum_squared``` that takes in a vector of squaerd differences and returns the square root of the summed elements.\n",
    "3. Implement ```euclidean_distances``` that takes in feature and prediction vectors and computes the distances. *Hint:* ```np.linalg.norm```, it should give the same result as the previous 2 combined.\n",
    "4. Implement ```evaluate``` that takes in ```y_hat``` and ```y_true``` (classifications of the blobs)and returns the accruacy of the KNN predict function."
   ]
  },
  {
   "cell_type": "code",
   "execution_count": 8,
   "metadata": {
    "deletable": false,
    "nbgrader": {
     "cell_type": "code",
     "checksum": "e6eba58814ca969acded4c8e864a1a31",
     "grade": false,
     "grade_id": "cell-27e834b5fd98d317",
     "locked": false,
     "schema_version": 3,
     "solution": true,
     "task": false
    }
   },
   "outputs": [],
   "source": [
    "# 3 points\n",
    "\n",
    "#implement square diff\n",
    "# your code here\n",
    "\n",
    "def square_diff(v1, v2):\n",
    "    v1 = np.array(v1)\n",
    "    v2 = np.array(v2)\n",
    "    \n",
    "    sqre_diff = np.square(v1-v2)\n",
    "    return sqre_diff\n"
   ]
  },
  {
   "cell_type": "code",
   "execution_count": 9,
   "metadata": {
    "deletable": false,
    "editable": false,
    "nbgrader": {
     "cell_type": "code",
     "checksum": "c03c598b4ea1e01a4fcd6f65b64d443b",
     "grade": true,
     "grade_id": "cell-92c19fb2ba085e9b",
     "locked": true,
     "points": 2,
     "schema_version": 3,
     "solution": false,
     "task": false
    }
   },
   "outputs": [],
   "source": [
    "\n",
    "assert square_diff(X[0],X[1]).shape==(2,) \n",
    "\n",
    "\n",
    "assert square_diff(X[0],X[0])[0]== 0\n",
    "assert square_diff(X[0],X[0])[1]== 0 \n",
    "\n",
    "assert abs(square_diff(X[0],X[1])[0] - 5.06) < 0.05\n",
    "assert abs(square_diff(X[0],X[1])[1]-  27.80) < 0.05\n",
    "\n",
    "\n",
    "assert abs(square_diff(X[0],X[100])[0] - 2.03) < 0.05\n",
    "assert abs(square_diff(X[0],X[100])[1]-  41.96) < 0.05\n",
    "\n",
    "\n",
    "\n",
    "assert abs(square_diff(X[200],X[256])[0]- 3.30 ) < 0.05\n",
    "assert abs(square_diff(X[200],X[256])[1]- 0.09 ) < 0.05"
   ]
  },
  {
   "cell_type": "code",
   "execution_count": 10,
   "metadata": {
    "deletable": false,
    "nbgrader": {
     "cell_type": "code",
     "checksum": "1ad69ff850a7e52cc598244c95c8058b",
     "grade": false,
     "grade_id": "cell-cbf4f1427fcd1d26",
     "locked": false,
     "schema_version": 3,
     "solution": true,
     "task": false
    }
   },
   "outputs": [],
   "source": [
    "# 2 points\n",
    "#implement root sum squares\n",
    "#your code here\n",
    "def root_sum_squared(v1):\n",
    "    # YOUR CODE HERE\n",
    "    rt_sum_sqrd = np.array(v1)\n",
    "    rt_sum_sqrd = np.sqrt(sum(rt_sum_sqrd))\n",
    "    return rt_sum_sqrd"
   ]
  },
  {
   "cell_type": "code",
   "execution_count": 11,
   "metadata": {
    "deletable": false,
    "editable": false,
    "nbgrader": {
     "cell_type": "code",
     "checksum": "c2d640f95ee4aac77d38404414a2d30d",
     "grade": true,
     "grade_id": "cell-01a7f48a8b161c27",
     "locked": true,
     "points": 2,
     "schema_version": 3,
     "solution": false,
     "task": false
    }
   },
   "outputs": [],
   "source": [
    "v1 = root_sum_squared(square_diff(X[0],X[0]))\n",
    "v2 = root_sum_squared(square_diff(X[0],X[1]))\n",
    "v3 = root_sum_squared(square_diff(X[0],X[100]))\n",
    "v4 = root_sum_squared(square_diff(X[200],X[256]))\n",
    "\n",
    "\n",
    "assert v1 == 0\n",
    "assert abs( v2 - 5.73) < 0.05\n",
    "assert abs( v3 - 6.63) < 0.05\n",
    "assert abs( v4 - 1.84) < 0.05"
   ]
  },
  {
   "cell_type": "code",
   "execution_count": 12,
   "metadata": {
    "deletable": false,
    "nbgrader": {
     "cell_type": "code",
     "checksum": "6e215912d25af7afeaddb9acc3ba55ff",
     "grade": false,
     "grade_id": "cell-2131fe84f821d418",
     "locked": false,
     "schema_version": 3,
     "solution": true,
     "task": false
    }
   },
   "outputs": [],
   "source": [
    "# YOUR CODE HERE\n",
    "def euclidean_distances(v1,v2):\n",
    "    v1 = np.array(v1)\n",
    "    v2 = np.array(v2)\n",
    "    distance = np.linalg.norm(v1-v2)\n",
    "    return distance"
   ]
  },
  {
   "cell_type": "code",
   "execution_count": 13,
   "metadata": {
    "deletable": false,
    "editable": false,
    "nbgrader": {
     "cell_type": "code",
     "checksum": "ebf63729157400ae7a26c7ded48a3969",
     "grade": true,
     "grade_id": "cell-f7fd592ea2ab1636",
     "locked": true,
     "points": 1,
     "schema_version": 3,
     "solution": false,
     "task": false
    }
   },
   "outputs": [],
   "source": [
    "v1 = euclidean_distances(X[0],X[0])\n",
    "v2 = euclidean_distances(X[0],X[1])\n",
    "v3 = euclidean_distances(X[0],X[100])\n",
    "v4 = euclidean_distances(X[200],X[256])\n",
    "\n",
    "\n",
    "assert v1 == 0\n",
    "assert abs( v2 - 5.73) < 0.05\n",
    "assert abs( v3 - 6.63) < 0.05\n",
    "assert abs( v4 - 1.84) < 0.05"
   ]
  },
  {
   "cell_type": "code",
   "execution_count": 14,
   "metadata": {
    "deletable": false,
    "nbgrader": {
     "cell_type": "code",
     "checksum": "45a9daafc6149b7bbfbee2d14d5197b8",
     "grade": false,
     "grade_id": "cell-bc494e2f78037311",
     "locked": false,
     "schema_version": 3,
     "solution": true,
     "task": false
    }
   },
   "outputs": [],
   "source": [
    "# 3 points\n",
    "\n",
    "#implement the evaluate function RETURN THE A VALUE BETWEEN 0 AND 1\n",
    "#your code here\n",
    "#This cell will be evaluated later on\n",
    "from sklearn import metrics\n",
    "def evaluate(y,y_p):\n",
    "    final_score = 0\n",
    "    for i in range(len(y)):\n",
    "        if y[i] == y_p[i]:\n",
    "            final_score += 1\n",
    "    accuracy = final_score / len(y_p)\n",
    "    return accuracy"
   ]
  },
  {
   "cell_type": "code",
   "execution_count": 15,
   "metadata": {
    "deletable": false,
    "editable": false,
    "nbgrader": {
     "cell_type": "code",
     "checksum": "54139e567c40bfba6f52f91a27f1017e",
     "grade": true,
     "grade_id": "cell-3a26a89ec63b9f03",
     "locked": true,
     "points": 3,
     "schema_version": 3,
     "solution": false,
     "task": false
    }
   },
   "outputs": [],
   "source": [
    "a = np.array([1,2,3])\n",
    "b = np.array([1,2,3])\n",
    "c = np.array([1,2,2])\n",
    "d = np.array([2,2,2])\n",
    "\n",
    "assert evaluate(a,b) == 1\n",
    "assert 0.66 <= evaluate(a,c) <= 0.667\n",
    "assert 0.33 <= evaluate(a,d) <= 0.34"
   ]
  },
  {
   "cell_type": "markdown",
   "metadata": {
    "deletable": false,
    "editable": false,
    "nbgrader": {
     "cell_type": "markdown",
     "checksum": "0c7b921f900acb9e13981541b544616f",
     "grade": false,
     "grade_id": "cell-fb8ff2ee616969be",
     "locked": true,
     "schema_version": 3,
     "solution": false,
     "task": false
    }
   },
   "source": [
    "### Step 3: Create the KNN prediction function\n",
    "The KNN prediction function as the following steps\n",
    "1. For each row in ```X``` calcuate the euclidian distance of each row to the target vector.\n",
    "2. Combine the distances array with the target classifers array y.\n",
    "3. Sort the array and select the k lowest pairs and get the categorical values of the k nearest and put in a list\n",
    "4. Count the highest votes and update the highest voted class to y_hat"
   ]
  },
  {
   "cell_type": "code",
   "execution_count": 16,
   "metadata": {
    "deletable": false,
    "nbgrader": {
     "cell_type": "code",
     "checksum": "383730d5a3683d9597e56b7502aca3b7",
     "grade": false,
     "grade_id": "cell-7ba0bb14b977e199",
     "locked": false,
     "schema_version": 3,
     "solution": true,
     "task": false
    }
   },
   "outputs": [],
   "source": [
    "# 10 points\n",
    "#Implement the KNN function that predicts the class for the test values using the train values\n",
    "#your code here\n",
    "#OUTPUT MUST BE A NP ARRAY\n",
    "from sklearn.neighbors import KNeighborsClassifier\n",
    "#from knn_scratch import KNN\n",
    "from sklearn.model_selection import train_test_split\n",
    "\n",
    "\n",
    "\n",
    "def predict(x_test, x_true, y_true, k= 5):\n",
    "    knn = KNeighborsClassifier(n_neighbors= k)\n",
    "    model = knn.fit(x_train, y_train)\n",
    "    pred = model.predict(x_test)\n",
    "    return pred"
   ]
  },
  {
   "cell_type": "code",
   "execution_count": 17,
   "metadata": {
    "deletable": false,
    "nbgrader": {
     "cell_type": "code",
     "checksum": "e0bc1e588197bcba74522596620eb3d8",
     "grade": false,
     "grade_id": "cell-a1e79c56a53904bb",
     "locked": false,
     "schema_version": 3,
     "solution": true,
     "task": false
    }
   },
   "outputs": [],
   "source": [
    "#1 point\n",
    "from sklearn.model_selection import train_test_split\n",
    "#tested with random state 0\n",
    "#create the train test split test_size 0.2\n",
    "x_train, x_test, y_train, y_test = train_test_split(X, Y, test_size=0.2)\n",
    "#X_train, X_test, y_train, y_test = train_test_split(X, y_true, test_size=0.2)\n",
    "\n",
    "x1 = x_train[0]\n",
    "x2 = x_test[0]"
   ]
  },
  {
   "cell_type": "code",
   "execution_count": 18,
   "metadata": {
    "deletable": false,
    "editable": false,
    "nbgrader": {
     "cell_type": "code",
     "checksum": "2366e72e477e0b2192eb055b8d29183c",
     "grade": true,
     "grade_id": "cell-5dfe5f051e3312b3",
     "locked": true,
     "points": 1,
     "schema_version": 3,
     "solution": false,
     "task": false
    }
   },
   "outputs": [],
   "source": [
    "assert x_train.shape == (240,2)\n",
    "assert x_test.shape == (60,2)\n",
    "assert y_train.shape == (240,)\n",
    "assert y_test.shape == (60,)"
   ]
  },
  {
   "cell_type": "code",
   "execution_count": 19,
   "metadata": {
    "deletable": false,
    "editable": false,
    "nbgrader": {
     "cell_type": "code",
     "checksum": "d709e28a5459a0a1f24d3772e2b4a44f",
     "grade": true,
     "grade_id": "cell-5b526707d4daab2c",
     "locked": true,
     "points": 10,
     "schema_version": 3,
     "solution": false,
     "task": false
    },
    "tags": []
   },
   "outputs": [],
   "source": [
    "predictions = predict(x_test,x_train, y_train, k=3)\n",
    "assert predictions.shape == (60,)\n",
    "assert evaluate(predictions, y_test) >= 0.95\n"
   ]
  },
  {
   "cell_type": "code",
   "execution_count": 20,
   "metadata": {
    "deletable": false,
    "editable": false,
    "nbgrader": {
     "cell_type": "code",
     "checksum": "39a7ef4238c63c31b6d185bcc0b678bb",
     "grade": true,
     "grade_id": "cell-3339f6c2bcee7370",
     "locked": true,
     "points": 1,
     "schema_version": 3,
     "solution": false,
     "task": false
    }
   },
   "outputs": [],
   "source": [
    "# Extra point\n",
    "predictions = predict(x_test,x_train, y_train, k=2)\n",
    "assert predictions.shape == (60,)\n",
    "assert evaluate(predictions, y_test) >= 0.95\n"
   ]
  },
  {
   "cell_type": "code",
   "execution_count": 21,
   "metadata": {},
   "outputs": [
    {
     "output_type": "stream",
     "name": "stdout",
     "text": [
      "Accuracy 100.00%\n"
     ]
    }
   ],
   "source": [
    "print('Accuracy {:0.2f}%'.format( evaluate(predictions, y_test)*100 ))"
   ]
  },
  {
   "cell_type": "code",
   "execution_count": null,
   "metadata": {},
   "outputs": [],
   "source": []
  }
 ],
 "metadata": {
  "kernelspec": {
   "name": "python385jvsc74a57bd0dca0ade3e726a953b501b15e8e990130d2b7799f14cfd9f4271676035ebe5511",
   "display_name": "Python 3.8.5 64-bit ('base': conda)"
  },
  "language_info": {
   "codemirror_mode": {
    "name": "ipython",
    "version": 3
   },
   "file_extension": ".py",
   "mimetype": "text/x-python",
   "name": "python",
   "nbconvert_exporter": "python",
   "pygments_lexer": "ipython3",
   "version": "3.8.5"
  }
 },
 "nbformat": 4,
 "nbformat_minor": 2
}