{
 "cells": [
  {
   "cell_type": "markdown",
   "metadata": {
    "deletable": false,
    "editable": false,
    "nbgrader": {
     "cell_type": "markdown",
     "checksum": "63d6f1804f81de692ce7ad039671b3ea",
     "grade": false,
     "grade_id": "cell-ac6032ac1aac5b30",
     "locked": true,
     "schema_version": 3,
     "solution": false,
     "task": false
    }
   },
   "source": [
    "# KNN From Sratch\n",
    "\n",
    "In this workbook we will guide you through the steps to implement KNN from scratch. Once this is done you'll implement you solution in a class that is tested with the knn_class_tester notebook.\n",
    "\n",
    "1. Use the ```make_blobs``` function from SKLearn to make a dataset to test your KNN functions.\n",
    "2. Create helper functions. These will be useful when you go to implement your class.\n",
    "    - Squaring the difference of two vectors.\n",
    "    - Summing the square differences and returning the square root.\n",
    "    - Calculating the euclidian distances\n",
    "    - An evaluation function to evalaute predictions\n",
    "3. Create the KNN predcit function"
   ]
  },
  {
   "cell_type": "code",
   "execution_count": 4,
   "metadata": {},
   "outputs": [],
   "source": [
    "#import libraries\n",
    "import numpy as np\n",
    "import pandas as pd\n",
    "from collections import Counter\n",
    "import matplotlib.pyplot as plt\n",
    "from sklearn.datasets import make_blobs"
   ]
  },
  {
   "cell_type": "markdown",
   "metadata": {
    "deletable": false,
    "editable": false,
    "nbgrader": {
     "cell_type": "markdown",
     "checksum": "d878eb4763d446c22a765184b5eac96f",
     "grade": false,
     "grade_id": "cell-b45a16c602b95cf4",
     "locked": true,
     "schema_version": 3,
     "solution": false,
     "task": false
    }
   },
   "source": [
    "### Step 1: Create a sample dataset\n",
    "1. Use ```make_blobs``` to create a sample set\n",
    "2. Start with 300 samples, 4 centres, 0.6 standard deviation, and random state 0\n",
    "3. Plot the samples"
   ]
  },
  {
   "cell_type": "code",
   "execution_count": 51,
   "metadata": {
    "deletable": false,
    "nbgrader": {
     "cell_type": "code",
     "checksum": "b02a8eb9d62a2c70cb5d650e31541966",
     "grade": false,
     "grade_id": "cell-ebf1859d2b03e66e",
     "locked": false,
     "schema_version": 3,
     "solution": true,
     "task": false
    }
   },
   "outputs": [
    {
     "output_type": "display_data",
     "data": {
      "text/plain": "<Figure size 432x288 with 1 Axes>",
      "image/svg+xml": "<?xml version=\"1.0\" encoding=\"utf-8\" standalone=\"no\"?>\r\n<!DOCTYPE svg PUBLIC \"-//W3C//DTD SVG 1.1//EN\"\r\n  \"http://www.w3.org/Graphics/SVG/1.1/DTD/svg11.dtd\">\r\n<!-- Created with matplotlib (https://matplotlib.org/) -->\r\n<svg height=\"262.19625pt\" version=\"1.1\" viewBox=\"0 0 376.240625 262.19625\" width=\"376.240625pt\" xmlns=\"http://www.w3.org/2000/svg\" xmlns:xlink=\"http://www.w3.org/1999/xlink\">\r\n <metadata>\r\n  <rdf:RDF xmlns:cc=\"http://creativecommons.org/ns#\" xmlns:dc=\"http://purl.org/dc/elements/1.1/\" xmlns:rdf=\"http://www.w3.org/1999/02/22-rdf-syntax-ns#\">\r\n   <cc:Work>\r\n    <dc:type rdf:resource=\"http://purl.org/dc/dcmitype/StillImage\"/>\r\n    <dc:date>2021-04-27T18:37:38.221714</dc:date>\r\n    <dc:format>image/svg+xml</dc:format>\r\n    <dc:creator>\r\n     <cc:Agent>\r\n      <dc:title>Matplotlib v3.3.2, https://matplotlib.org/</dc:title>\r\n     </cc:Agent>\r\n    </dc:creator>\r\n   </cc:Work>\r\n  </rdf:RDF>\r\n </metadata>\r\n <defs>\r\n  <style type=\"text/css\">*{stroke-linecap:butt;stroke-linejoin:round;}</style>\r\n </defs>\r\n <g id=\"figure_1\">\r\n  <g id=\"patch_1\">\r\n   <path d=\"M 0 262.19625 \r\nL 376.240625 262.19625 \r\nL 376.240625 0 \r\nL 0 0 \r\nz\r\n\" style=\"fill:none;\"/>\r\n  </g>\r\n  <g id=\"axes_1\">\r\n   <g id=\"patch_2\">\r\n    <path d=\"M 34.240625 224.64 \r\nL 369.040625 224.64 \r\nL 369.040625 7.2 \r\nL 34.240625 7.2 \r\nz\r\n\" style=\"fill:#ffffff;\"/>\r\n   </g>\r\n   <g id=\"PathCollection_1\">\r\n    <defs>\r\n     <path d=\"M 0 2.236068 \r\nC 0.593012 2.236068 1.161816 2.000462 1.581139 1.581139 \r\nC 2.000462 1.161816 2.236068 0.593012 2.236068 0 \r\nC 2.236068 -0.593012 2.000462 -1.161816 1.581139 -1.581139 \r\nC 1.161816 -2.000462 0.593012 -2.236068 0 -2.236068 \r\nC -0.593012 -2.236068 -1.161816 -2.000462 -1.581139 -1.581139 \r\nC -2.000462 -1.161816 -2.236068 -0.593012 -2.236068 0 \r\nC -2.236068 0.593012 -2.000462 1.161816 -1.581139 1.581139 \r\nC -1.161816 2.000462 -0.593012 2.236068 0 2.236068 \r\nz\r\n\" id=\"mcad9d46632\" style=\"stroke:#0000ff;\"/>\r\n    </defs>\r\n    <g clip-path=\"url(#pf1e8b49c66)\">\r\n     <use style=\"fill:#0000ff;stroke:#0000ff;\" x=\"247.926359\" xlink:href=\"#mcad9d46632\" y=\"99.374553\"/>\r\n     <use style=\"fill:#0000ff;stroke:#0000ff;\" x=\"259.920441\" xlink:href=\"#mcad9d46632\" y=\"113.507187\"/>\r\n     <use style=\"fill:#0000ff;stroke:#0000ff;\" x=\"251.980274\" xlink:href=\"#mcad9d46632\" y=\"111.091268\"/>\r\n     <use style=\"fill:#0000ff;stroke:#0000ff;\" x=\"215.382716\" xlink:href=\"#mcad9d46632\" y=\"121.861549\"/>\r\n     <use style=\"fill:#0000ff;stroke:#0000ff;\" x=\"243.937426\" xlink:href=\"#mcad9d46632\" y=\"110.566185\"/>\r\n     <use style=\"fill:#0000ff;stroke:#0000ff;\" x=\"228.400342\" xlink:href=\"#mcad9d46632\" y=\"100.60134\"/>\r\n     <use style=\"fill:#0000ff;stroke:#0000ff;\" x=\"168.553783\" xlink:href=\"#mcad9d46632\" y=\"107.315049\"/>\r\n     <use style=\"fill:#0000ff;stroke:#0000ff;\" x=\"221.923292\" xlink:href=\"#mcad9d46632\" y=\"107.045774\"/>\r\n     <use style=\"fill:#0000ff;stroke:#0000ff;\" x=\"202.991723\" xlink:href=\"#mcad9d46632\" y=\"120.4775\"/>\r\n     <use style=\"fill:#0000ff;stroke:#0000ff;\" x=\"281.216216\" xlink:href=\"#mcad9d46632\" y=\"117.450967\"/>\r\n     <use style=\"fill:#0000ff;stroke:#0000ff;\" x=\"225.404185\" xlink:href=\"#mcad9d46632\" y=\"128.96423\"/>\r\n     <use style=\"fill:#0000ff;stroke:#0000ff;\" x=\"192.124791\" xlink:href=\"#mcad9d46632\" y=\"92.005048\"/>\r\n     <use style=\"fill:#0000ff;stroke:#0000ff;\" x=\"265.993625\" xlink:href=\"#mcad9d46632\" y=\"116.859082\"/>\r\n     <use style=\"fill:#0000ff;stroke:#0000ff;\" x=\"220.851901\" xlink:href=\"#mcad9d46632\" y=\"114.653851\"/>\r\n     <use style=\"fill:#0000ff;stroke:#0000ff;\" x=\"255.675148\" xlink:href=\"#mcad9d46632\" y=\"117.488034\"/>\r\n     <use style=\"fill:#0000ff;stroke:#0000ff;\" x=\"249.544534\" xlink:href=\"#mcad9d46632\" y=\"106.690041\"/>\r\n     <use style=\"fill:#0000ff;stroke:#0000ff;\" x=\"221.965716\" xlink:href=\"#mcad9d46632\" y=\"119.310877\"/>\r\n     <use style=\"fill:#0000ff;stroke:#0000ff;\" x=\"237.724283\" xlink:href=\"#mcad9d46632\" y=\"94.807404\"/>\r\n     <use style=\"fill:#0000ff;stroke:#0000ff;\" x=\"214.212821\" xlink:href=\"#mcad9d46632\" y=\"101.845688\"/>\r\n     <use style=\"fill:#0000ff;stroke:#0000ff;\" x=\"218.891486\" xlink:href=\"#mcad9d46632\" y=\"124.783776\"/>\r\n     <use style=\"fill:#0000ff;stroke:#0000ff;\" x=\"248.339184\" xlink:href=\"#mcad9d46632\" y=\"125.110206\"/>\r\n     <use style=\"fill:#0000ff;stroke:#0000ff;\" x=\"206.966548\" xlink:href=\"#mcad9d46632\" y=\"92.089487\"/>\r\n     <use style=\"fill:#0000ff;stroke:#0000ff;\" x=\"243.156978\" xlink:href=\"#mcad9d46632\" y=\"110.284963\"/>\r\n     <use style=\"fill:#0000ff;stroke:#0000ff;\" x=\"256.718756\" xlink:href=\"#mcad9d46632\" y=\"104.144975\"/>\r\n     <use style=\"fill:#0000ff;stroke:#0000ff;\" x=\"239.916295\" xlink:href=\"#mcad9d46632\" y=\"93.951377\"/>\r\n     <use style=\"fill:#0000ff;stroke:#0000ff;\" x=\"292.047204\" xlink:href=\"#mcad9d46632\" y=\"130.936785\"/>\r\n     <use style=\"fill:#0000ff;stroke:#0000ff;\" x=\"215.649167\" xlink:href=\"#mcad9d46632\" y=\"92.485543\"/>\r\n     <use style=\"fill:#0000ff;stroke:#0000ff;\" x=\"216.987603\" xlink:href=\"#mcad9d46632\" y=\"135.404399\"/>\r\n     <use style=\"fill:#0000ff;stroke:#0000ff;\" x=\"252.587121\" xlink:href=\"#mcad9d46632\" y=\"133.16142\"/>\r\n     <use style=\"fill:#0000ff;stroke:#0000ff;\" x=\"281.054007\" xlink:href=\"#mcad9d46632\" y=\"92.652856\"/>\r\n     <use style=\"fill:#0000ff;stroke:#0000ff;\" x=\"194.696255\" xlink:href=\"#mcad9d46632\" y=\"117.540456\"/>\r\n     <use style=\"fill:#0000ff;stroke:#0000ff;\" x=\"238.839457\" xlink:href=\"#mcad9d46632\" y=\"109.97405\"/>\r\n     <use style=\"fill:#0000ff;stroke:#0000ff;\" x=\"204.748638\" xlink:href=\"#mcad9d46632\" y=\"105.853024\"/>\r\n     <use style=\"fill:#0000ff;stroke:#0000ff;\" x=\"245.42196\" xlink:href=\"#mcad9d46632\" y=\"103.502524\"/>\r\n     <use style=\"fill:#0000ff;stroke:#0000ff;\" x=\"225.436281\" xlink:href=\"#mcad9d46632\" y=\"120.200014\"/>\r\n     <use style=\"fill:#0000ff;stroke:#0000ff;\" x=\"228.841579\" xlink:href=\"#mcad9d46632\" y=\"118.597538\"/>\r\n     <use style=\"fill:#0000ff;stroke:#0000ff;\" x=\"232.163309\" xlink:href=\"#mcad9d46632\" y=\"105.558356\"/>\r\n     <use style=\"fill:#0000ff;stroke:#0000ff;\" x=\"204.256193\" xlink:href=\"#mcad9d46632\" y=\"103.588003\"/>\r\n     <use style=\"fill:#0000ff;stroke:#0000ff;\" x=\"250.648042\" xlink:href=\"#mcad9d46632\" y=\"127.930657\"/>\r\n     <use style=\"fill:#0000ff;stroke:#0000ff;\" x=\"244.56319\" xlink:href=\"#mcad9d46632\" y=\"119.771653\"/>\r\n     <use style=\"fill:#0000ff;stroke:#0000ff;\" x=\"282.293551\" xlink:href=\"#mcad9d46632\" y=\"97.687082\"/>\r\n     <use style=\"fill:#0000ff;stroke:#0000ff;\" x=\"220.90402\" xlink:href=\"#mcad9d46632\" y=\"119.27325\"/>\r\n     <use style=\"fill:#0000ff;stroke:#0000ff;\" x=\"272.438898\" xlink:href=\"#mcad9d46632\" y=\"117.153144\"/>\r\n     <use style=\"fill:#0000ff;stroke:#0000ff;\" x=\"198.110319\" xlink:href=\"#mcad9d46632\" y=\"109.843513\"/>\r\n     <use style=\"fill:#0000ff;stroke:#0000ff;\" x=\"260.809787\" xlink:href=\"#mcad9d46632\" y=\"113.59344\"/>\r\n     <use style=\"fill:#0000ff;stroke:#0000ff;\" x=\"243.633884\" xlink:href=\"#mcad9d46632\" y=\"97.86513\"/>\r\n     <use style=\"fill:#0000ff;stroke:#0000ff;\" x=\"229.938805\" xlink:href=\"#mcad9d46632\" y=\"113.184192\"/>\r\n     <use style=\"fill:#0000ff;stroke:#0000ff;\" x=\"210.434344\" xlink:href=\"#mcad9d46632\" y=\"131.789638\"/>\r\n     <use style=\"fill:#0000ff;stroke:#0000ff;\" x=\"241.475703\" xlink:href=\"#mcad9d46632\" y=\"111.459542\"/>\r\n     <use style=\"fill:#0000ff;stroke:#0000ff;\" x=\"220.288593\" xlink:href=\"#mcad9d46632\" y=\"116.795635\"/>\r\n     <use style=\"fill:#0000ff;stroke:#0000ff;\" x=\"270.987322\" xlink:href=\"#mcad9d46632\" y=\"127.775687\"/>\r\n     <use style=\"fill:#0000ff;stroke:#0000ff;\" x=\"250.102941\" xlink:href=\"#mcad9d46632\" y=\"128.005477\"/>\r\n     <use style=\"fill:#0000ff;stroke:#0000ff;\" x=\"250.824394\" xlink:href=\"#mcad9d46632\" y=\"123.112172\"/>\r\n     <use style=\"fill:#0000ff;stroke:#0000ff;\" x=\"244.263857\" xlink:href=\"#mcad9d46632\" y=\"107.534429\"/>\r\n     <use style=\"fill:#0000ff;stroke:#0000ff;\" x=\"258.339358\" xlink:href=\"#mcad9d46632\" y=\"110.220373\"/>\r\n     <use style=\"fill:#0000ff;stroke:#0000ff;\" x=\"194.242481\" xlink:href=\"#mcad9d46632\" y=\"109.567441\"/>\r\n     <use style=\"fill:#0000ff;stroke:#0000ff;\" x=\"273.872866\" xlink:href=\"#mcad9d46632\" y=\"100.838164\"/>\r\n     <use style=\"fill:#0000ff;stroke:#0000ff;\" x=\"214.366594\" xlink:href=\"#mcad9d46632\" y=\"114.41644\"/>\r\n     <use style=\"fill:#0000ff;stroke:#0000ff;\" x=\"214.909787\" xlink:href=\"#mcad9d46632\" y=\"138.408359\"/>\r\n     <use style=\"fill:#0000ff;stroke:#0000ff;\" x=\"293.154916\" xlink:href=\"#mcad9d46632\" y=\"97.555411\"/>\r\n     <use style=\"fill:#0000ff;stroke:#0000ff;\" x=\"240.897822\" xlink:href=\"#mcad9d46632\" y=\"117.23882\"/>\r\n     <use style=\"fill:#0000ff;stroke:#0000ff;\" x=\"228.109657\" xlink:href=\"#mcad9d46632\" y=\"123.851551\"/>\r\n     <use style=\"fill:#0000ff;stroke:#0000ff;\" x=\"230.950986\" xlink:href=\"#mcad9d46632\" y=\"114.366633\"/>\r\n     <use style=\"fill:#0000ff;stroke:#0000ff;\" x=\"207.188517\" xlink:href=\"#mcad9d46632\" y=\"104.39732\"/>\r\n     <use style=\"fill:#0000ff;stroke:#0000ff;\" x=\"305.966055\" xlink:href=\"#mcad9d46632\" y=\"103.882095\"/>\r\n     <use style=\"fill:#0000ff;stroke:#0000ff;\" x=\"218.191047\" xlink:href=\"#mcad9d46632\" y=\"108.664922\"/>\r\n     <use style=\"fill:#0000ff;stroke:#0000ff;\" x=\"236.750585\" xlink:href=\"#mcad9d46632\" y=\"110.183352\"/>\r\n     <use style=\"fill:#0000ff;stroke:#0000ff;\" x=\"209.816349\" xlink:href=\"#mcad9d46632\" y=\"102.584121\"/>\r\n     <use style=\"fill:#0000ff;stroke:#0000ff;\" x=\"263.688197\" xlink:href=\"#mcad9d46632\" y=\"123.789117\"/>\r\n     <use style=\"fill:#0000ff;stroke:#0000ff;\" x=\"227.510176\" xlink:href=\"#mcad9d46632\" y=\"93.203164\"/>\r\n     <use style=\"fill:#0000ff;stroke:#0000ff;\" x=\"302.809496\" xlink:href=\"#mcad9d46632\" y=\"132.195035\"/>\r\n     <use style=\"fill:#0000ff;stroke:#0000ff;\" x=\"291.613161\" xlink:href=\"#mcad9d46632\" y=\"104.335731\"/>\r\n     <use style=\"fill:#0000ff;stroke:#0000ff;\" x=\"271.342667\" xlink:href=\"#mcad9d46632\" y=\"129.603864\"/>\r\n     <use style=\"fill:#0000ff;stroke:#0000ff;\" x=\"236.88327\" xlink:href=\"#mcad9d46632\" y=\"122.860398\"/>\r\n     <use style=\"fill:#0000ff;stroke:#0000ff;\" x=\"214.695968\" xlink:href=\"#mcad9d46632\" y=\"110.46303\"/>\r\n    </g>\r\n   </g>\r\n   <g id=\"PathCollection_2\">\r\n    <defs>\r\n     <path d=\"M 0 2.236068 \r\nC 0.593012 2.236068 1.161816 2.000462 1.581139 1.581139 \r\nC 2.000462 1.161816 2.236068 0.593012 2.236068 0 \r\nC 2.236068 -0.593012 2.000462 -1.161816 1.581139 -1.581139 \r\nC 1.161816 -2.000462 0.593012 -2.236068 0 -2.236068 \r\nC -0.593012 -2.236068 -1.161816 -2.000462 -1.581139 -1.581139 \r\nC -2.000462 -1.161816 -2.236068 -0.593012 -2.236068 0 \r\nC -2.236068 0.593012 -2.000462 1.161816 -1.581139 1.581139 \r\nC -1.161816 2.000462 -0.593012 2.236068 0 2.236068 \r\nz\r\n\" id=\"mba1942cfdd\" style=\"stroke:#ff0000;\"/>\r\n    </defs>\r\n    <g clip-path=\"url(#pf1e8b49c66)\">\r\n     <use style=\"fill:#ff0000;stroke:#ff0000;\" x=\"233.155678\" xlink:href=\"#mba1942cfdd\" y=\"157.665511\"/>\r\n     <use style=\"fill:#ff0000;stroke:#ff0000;\" x=\"253.314801\" xlink:href=\"#mba1942cfdd\" y=\"162.461697\"/>\r\n     <use style=\"fill:#ff0000;stroke:#ff0000;\" x=\"353.822443\" xlink:href=\"#mba1942cfdd\" y=\"194.543267\"/>\r\n     <use style=\"fill:#ff0000;stroke:#ff0000;\" x=\"261.84191\" xlink:href=\"#mba1942cfdd\" y=\"200.264707\"/>\r\n     <use style=\"fill:#ff0000;stroke:#ff0000;\" x=\"313.538415\" xlink:href=\"#mba1942cfdd\" y=\"189.716063\"/>\r\n     <use style=\"fill:#ff0000;stroke:#ff0000;\" x=\"320.298296\" xlink:href=\"#mba1942cfdd\" y=\"174.298273\"/>\r\n     <use style=\"fill:#ff0000;stroke:#ff0000;\" x=\"276.780337\" xlink:href=\"#mba1942cfdd\" y=\"176.349379\"/>\r\n     <use style=\"fill:#ff0000;stroke:#ff0000;\" x=\"273.085728\" xlink:href=\"#mba1942cfdd\" y=\"182.652617\"/>\r\n     <use style=\"fill:#ff0000;stroke:#ff0000;\" x=\"271.524166\" xlink:href=\"#mba1942cfdd\" y=\"186.646499\"/>\r\n     <use style=\"fill:#ff0000;stroke:#ff0000;\" x=\"286.608702\" xlink:href=\"#mba1942cfdd\" y=\"169.991348\"/>\r\n     <use style=\"fill:#ff0000;stroke:#ff0000;\" x=\"308.23673\" xlink:href=\"#mba1942cfdd\" y=\"187.469933\"/>\r\n     <use style=\"fill:#ff0000;stroke:#ff0000;\" x=\"273.057833\" xlink:href=\"#mba1942cfdd\" y=\"184.840306\"/>\r\n     <use style=\"fill:#ff0000;stroke:#ff0000;\" x=\"275.821694\" xlink:href=\"#mba1942cfdd\" y=\"159.258418\"/>\r\n     <use style=\"fill:#ff0000;stroke:#ff0000;\" x=\"258.942078\" xlink:href=\"#mba1942cfdd\" y=\"181.416488\"/>\r\n     <use style=\"fill:#ff0000;stroke:#ff0000;\" x=\"304.270032\" xlink:href=\"#mba1942cfdd\" y=\"180.988556\"/>\r\n     <use style=\"fill:#ff0000;stroke:#ff0000;\" x=\"293.637634\" xlink:href=\"#mba1942cfdd\" y=\"185.801128\"/>\r\n     <use style=\"fill:#ff0000;stroke:#ff0000;\" x=\"252.542807\" xlink:href=\"#mba1942cfdd\" y=\"197.927132\"/>\r\n     <use style=\"fill:#ff0000;stroke:#ff0000;\" x=\"253.695345\" xlink:href=\"#mba1942cfdd\" y=\"178.880247\"/>\r\n     <use style=\"fill:#ff0000;stroke:#ff0000;\" x=\"274.573742\" xlink:href=\"#mba1942cfdd\" y=\"177.121649\"/>\r\n     <use style=\"fill:#ff0000;stroke:#ff0000;\" x=\"304.252929\" xlink:href=\"#mba1942cfdd\" y=\"184.056895\"/>\r\n     <use style=\"fill:#ff0000;stroke:#ff0000;\" x=\"277.004809\" xlink:href=\"#mba1942cfdd\" y=\"181.825877\"/>\r\n     <use style=\"fill:#ff0000;stroke:#ff0000;\" x=\"257.500094\" xlink:href=\"#mba1942cfdd\" y=\"172.811902\"/>\r\n     <use style=\"fill:#ff0000;stroke:#ff0000;\" x=\"315.023526\" xlink:href=\"#mba1942cfdd\" y=\"178.288135\"/>\r\n     <use style=\"fill:#ff0000;stroke:#ff0000;\" x=\"271.768867\" xlink:href=\"#mba1942cfdd\" y=\"208.274423\"/>\r\n     <use style=\"fill:#ff0000;stroke:#ff0000;\" x=\"304.191357\" xlink:href=\"#mba1942cfdd\" y=\"188.828053\"/>\r\n     <use style=\"fill:#ff0000;stroke:#ff0000;\" x=\"297.657182\" xlink:href=\"#mba1942cfdd\" y=\"174.846155\"/>\r\n     <use style=\"fill:#ff0000;stroke:#ff0000;\" x=\"307.505939\" xlink:href=\"#mba1942cfdd\" y=\"201.116687\"/>\r\n     <use style=\"fill:#ff0000;stroke:#ff0000;\" x=\"267.320593\" xlink:href=\"#mba1942cfdd\" y=\"190.170754\"/>\r\n     <use style=\"fill:#ff0000;stroke:#ff0000;\" x=\"279.408641\" xlink:href=\"#mba1942cfdd\" y=\"184.857508\"/>\r\n     <use style=\"fill:#ff0000;stroke:#ff0000;\" x=\"245.620047\" xlink:href=\"#mba1942cfdd\" y=\"174.828031\"/>\r\n     <use style=\"fill:#ff0000;stroke:#ff0000;\" x=\"269.097959\" xlink:href=\"#mba1942cfdd\" y=\"163.820382\"/>\r\n     <use style=\"fill:#ff0000;stroke:#ff0000;\" x=\"272.201215\" xlink:href=\"#mba1942cfdd\" y=\"187.709616\"/>\r\n     <use style=\"fill:#ff0000;stroke:#ff0000;\" x=\"256.590435\" xlink:href=\"#mba1942cfdd\" y=\"188.013999\"/>\r\n     <use style=\"fill:#ff0000;stroke:#ff0000;\" x=\"260.58814\" xlink:href=\"#mba1942cfdd\" y=\"167.737348\"/>\r\n     <use style=\"fill:#ff0000;stroke:#ff0000;\" x=\"289.212122\" xlink:href=\"#mba1942cfdd\" y=\"177.55715\"/>\r\n     <use style=\"fill:#ff0000;stroke:#ff0000;\" x=\"271.940945\" xlink:href=\"#mba1942cfdd\" y=\"186.721074\"/>\r\n     <use style=\"fill:#ff0000;stroke:#ff0000;\" x=\"246.793181\" xlink:href=\"#mba1942cfdd\" y=\"181.285514\"/>\r\n     <use style=\"fill:#ff0000;stroke:#ff0000;\" x=\"307.09115\" xlink:href=\"#mba1942cfdd\" y=\"200.940845\"/>\r\n     <use style=\"fill:#ff0000;stroke:#ff0000;\" x=\"267.043477\" xlink:href=\"#mba1942cfdd\" y=\"199.34\"/>\r\n     <use style=\"fill:#ff0000;stroke:#ff0000;\" x=\"281.031478\" xlink:href=\"#mba1942cfdd\" y=\"180.88259\"/>\r\n     <use style=\"fill:#ff0000;stroke:#ff0000;\" x=\"270.420631\" xlink:href=\"#mba1942cfdd\" y=\"163.898723\"/>\r\n     <use style=\"fill:#ff0000;stroke:#ff0000;\" x=\"260.894652\" xlink:href=\"#mba1942cfdd\" y=\"173.987497\"/>\r\n     <use style=\"fill:#ff0000;stroke:#ff0000;\" x=\"263.074309\" xlink:href=\"#mba1942cfdd\" y=\"186.115711\"/>\r\n     <use style=\"fill:#ff0000;stroke:#ff0000;\" x=\"308.889117\" xlink:href=\"#mba1942cfdd\" y=\"166.666829\"/>\r\n     <use style=\"fill:#ff0000;stroke:#ff0000;\" x=\"301.552141\" xlink:href=\"#mba1942cfdd\" y=\"174.042811\"/>\r\n     <use style=\"fill:#ff0000;stroke:#ff0000;\" x=\"316.115943\" xlink:href=\"#mba1942cfdd\" y=\"180.998834\"/>\r\n     <use style=\"fill:#ff0000;stroke:#ff0000;\" x=\"308.937015\" xlink:href=\"#mba1942cfdd\" y=\"173.832237\"/>\r\n     <use style=\"fill:#ff0000;stroke:#ff0000;\" x=\"281.083624\" xlink:href=\"#mba1942cfdd\" y=\"201.813612\"/>\r\n     <use style=\"fill:#ff0000;stroke:#ff0000;\" x=\"286.396482\" xlink:href=\"#mba1942cfdd\" y=\"190.060144\"/>\r\n     <use style=\"fill:#ff0000;stroke:#ff0000;\" x=\"331.289445\" xlink:href=\"#mba1942cfdd\" y=\"206.463669\"/>\r\n     <use style=\"fill:#ff0000;stroke:#ff0000;\" x=\"311.57576\" xlink:href=\"#mba1942cfdd\" y=\"187.537201\"/>\r\n     <use style=\"fill:#ff0000;stroke:#ff0000;\" x=\"289.008745\" xlink:href=\"#mba1942cfdd\" y=\"190.742964\"/>\r\n     <use style=\"fill:#ff0000;stroke:#ff0000;\" x=\"269.486734\" xlink:href=\"#mba1942cfdd\" y=\"198.359661\"/>\r\n     <use style=\"fill:#ff0000;stroke:#ff0000;\" x=\"235.783718\" xlink:href=\"#mba1942cfdd\" y=\"179.804074\"/>\r\n     <use style=\"fill:#ff0000;stroke:#ff0000;\" x=\"285.986803\" xlink:href=\"#mba1942cfdd\" y=\"185.546926\"/>\r\n     <use style=\"fill:#ff0000;stroke:#ff0000;\" x=\"322.758348\" xlink:href=\"#mba1942cfdd\" y=\"178.291388\"/>\r\n     <use style=\"fill:#ff0000;stroke:#ff0000;\" x=\"352.580651\" xlink:href=\"#mba1942cfdd\" y=\"182.530929\"/>\r\n     <use style=\"fill:#ff0000;stroke:#ff0000;\" x=\"263.394412\" xlink:href=\"#mba1942cfdd\" y=\"186.871888\"/>\r\n     <use style=\"fill:#ff0000;stroke:#ff0000;\" x=\"288.59238\" xlink:href=\"#mba1942cfdd\" y=\"195.81888\"/>\r\n     <use style=\"fill:#ff0000;stroke:#ff0000;\" x=\"294.042771\" xlink:href=\"#mba1942cfdd\" y=\"179.291807\"/>\r\n     <use style=\"fill:#ff0000;stroke:#ff0000;\" x=\"257.742668\" xlink:href=\"#mba1942cfdd\" y=\"187.199654\"/>\r\n     <use style=\"fill:#ff0000;stroke:#ff0000;\" x=\"292.406408\" xlink:href=\"#mba1942cfdd\" y=\"175.151729\"/>\r\n     <use style=\"fill:#ff0000;stroke:#ff0000;\" x=\"250.042884\" xlink:href=\"#mba1942cfdd\" y=\"187.854704\"/>\r\n     <use style=\"fill:#ff0000;stroke:#ff0000;\" x=\"349.906168\" xlink:href=\"#mba1942cfdd\" y=\"166.25749\"/>\r\n     <use style=\"fill:#ff0000;stroke:#ff0000;\" x=\"279.831443\" xlink:href=\"#mba1942cfdd\" y=\"198.260368\"/>\r\n     <use style=\"fill:#ff0000;stroke:#ff0000;\" x=\"255.572224\" xlink:href=\"#mba1942cfdd\" y=\"172.066384\"/>\r\n     <use style=\"fill:#ff0000;stroke:#ff0000;\" x=\"321.76458\" xlink:href=\"#mba1942cfdd\" y=\"169.289724\"/>\r\n     <use style=\"fill:#ff0000;stroke:#ff0000;\" x=\"315.320834\" xlink:href=\"#mba1942cfdd\" y=\"178.27032\"/>\r\n     <use style=\"fill:#ff0000;stroke:#ff0000;\" x=\"303.430736\" xlink:href=\"#mba1942cfdd\" y=\"183.402523\"/>\r\n     <use style=\"fill:#ff0000;stroke:#ff0000;\" x=\"297.478487\" xlink:href=\"#mba1942cfdd\" y=\"183.190622\"/>\r\n     <use style=\"fill:#ff0000;stroke:#ff0000;\" x=\"344.134686\" xlink:href=\"#mba1942cfdd\" y=\"177.428009\"/>\r\n     <use style=\"fill:#ff0000;stroke:#ff0000;\" x=\"300.794602\" xlink:href=\"#mba1942cfdd\" y=\"214.756364\"/>\r\n     <use style=\"fill:#ff0000;stroke:#ff0000;\" x=\"278.566062\" xlink:href=\"#mba1942cfdd\" y=\"177.664506\"/>\r\n     <use style=\"fill:#ff0000;stroke:#ff0000;\" x=\"285.901365\" xlink:href=\"#mba1942cfdd\" y=\"168.613748\"/>\r\n     <use style=\"fill:#ff0000;stroke:#ff0000;\" x=\"311.171067\" xlink:href=\"#mba1942cfdd\" y=\"172.312575\"/>\r\n    </g>\r\n   </g>\r\n   <g id=\"PathCollection_3\">\r\n    <defs>\r\n     <path d=\"M 0 2.236068 \r\nC 0.593012 2.236068 1.161816 2.000462 1.581139 1.581139 \r\nC 2.000462 1.161816 2.236068 0.593012 2.236068 0 \r\nC 2.236068 -0.593012 2.000462 -1.161816 1.581139 -1.581139 \r\nC 1.161816 -2.000462 0.593012 -2.236068 0 -2.236068 \r\nC -0.593012 -2.236068 -1.161816 -2.000462 -1.581139 -1.581139 \r\nC -2.000462 -1.161816 -2.236068 -0.593012 -2.236068 0 \r\nC -2.236068 0.593012 -2.000462 1.161816 -1.581139 1.581139 \r\nC -1.161816 2.000462 -0.593012 2.236068 0 2.236068 \r\nz\r\n\" id=\"md0125404d2\" style=\"stroke:#008000;\"/>\r\n    </defs>\r\n    <g clip-path=\"url(#pf1e8b49c66)\">\r\n     <use style=\"fill:#008000;stroke:#008000;\" x=\"110.432672\" xlink:href=\"#md0125404d2\" y=\"168.275029\"/>\r\n     <use style=\"fill:#008000;stroke:#008000;\" x=\"114.87979\" xlink:href=\"#md0125404d2\" y=\"145.047541\"/>\r\n     <use style=\"fill:#008000;stroke:#008000;\" x=\"144.827322\" xlink:href=\"#md0125404d2\" y=\"138.086764\"/>\r\n     <use style=\"fill:#008000;stroke:#008000;\" x=\"144.285181\" xlink:href=\"#md0125404d2\" y=\"156.3248\"/>\r\n     <use style=\"fill:#008000;stroke:#008000;\" x=\"101.698073\" xlink:href=\"#md0125404d2\" y=\"143.594891\"/>\r\n     <use style=\"fill:#008000;stroke:#008000;\" x=\"105.326358\" xlink:href=\"#md0125404d2\" y=\"148.443456\"/>\r\n     <use style=\"fill:#008000;stroke:#008000;\" x=\"60.694459\" xlink:href=\"#md0125404d2\" y=\"154.360375\"/>\r\n     <use style=\"fill:#008000;stroke:#008000;\" x=\"92.116315\" xlink:href=\"#md0125404d2\" y=\"150.915993\"/>\r\n     <use style=\"fill:#008000;stroke:#008000;\" x=\"102.212665\" xlink:href=\"#md0125404d2\" y=\"159.26187\"/>\r\n     <use style=\"fill:#008000;stroke:#008000;\" x=\"115.36075\" xlink:href=\"#md0125404d2\" y=\"151.279688\"/>\r\n     <use style=\"fill:#008000;stroke:#008000;\" x=\"146.914286\" xlink:href=\"#md0125404d2\" y=\"145.236289\"/>\r\n     <use style=\"fill:#008000;stroke:#008000;\" x=\"122.310958\" xlink:href=\"#md0125404d2\" y=\"145.678049\"/>\r\n     <use style=\"fill:#008000;stroke:#008000;\" x=\"103.867459\" xlink:href=\"#md0125404d2\" y=\"131.158936\"/>\r\n     <use style=\"fill:#008000;stroke:#008000;\" x=\"142.798207\" xlink:href=\"#md0125404d2\" y=\"144.175398\"/>\r\n     <use style=\"fill:#008000;stroke:#008000;\" x=\"141.393537\" xlink:href=\"#md0125404d2\" y=\"160.829651\"/>\r\n     <use style=\"fill:#008000;stroke:#008000;\" x=\"146.159557\" xlink:href=\"#md0125404d2\" y=\"141.596512\"/>\r\n     <use style=\"fill:#008000;stroke:#008000;\" x=\"96.451288\" xlink:href=\"#md0125404d2\" y=\"138.57629\"/>\r\n     <use style=\"fill:#008000;stroke:#008000;\" x=\"139.277173\" xlink:href=\"#md0125404d2\" y=\"144.920171\"/>\r\n     <use style=\"fill:#008000;stroke:#008000;\" x=\"124.862771\" xlink:href=\"#md0125404d2\" y=\"136.463369\"/>\r\n     <use style=\"fill:#008000;stroke:#008000;\" x=\"171.720476\" xlink:href=\"#md0125404d2\" y=\"134.213008\"/>\r\n     <use style=\"fill:#008000;stroke:#008000;\" x=\"119.863007\" xlink:href=\"#md0125404d2\" y=\"141.18309\"/>\r\n     <use style=\"fill:#008000;stroke:#008000;\" x=\"124.560327\" xlink:href=\"#md0125404d2\" y=\"161.845769\"/>\r\n     <use style=\"fill:#008000;stroke:#008000;\" x=\"112.770632\" xlink:href=\"#md0125404d2\" y=\"141.178388\"/>\r\n     <use style=\"fill:#008000;stroke:#008000;\" x=\"113.332578\" xlink:href=\"#md0125404d2\" y=\"140.44246\"/>\r\n     <use style=\"fill:#008000;stroke:#008000;\" x=\"139.589828\" xlink:href=\"#md0125404d2\" y=\"138.165115\"/>\r\n     <use style=\"fill:#008000;stroke:#008000;\" x=\"49.458807\" xlink:href=\"#md0125404d2\" y=\"135.135765\"/>\r\n     <use style=\"fill:#008000;stroke:#008000;\" x=\"145.010769\" xlink:href=\"#md0125404d2\" y=\"156.265028\"/>\r\n     <use style=\"fill:#008000;stroke:#008000;\" x=\"119.76294\" xlink:href=\"#md0125404d2\" y=\"129.571667\"/>\r\n     <use style=\"fill:#008000;stroke:#008000;\" x=\"169.365761\" xlink:href=\"#md0125404d2\" y=\"140.353658\"/>\r\n     <use style=\"fill:#008000;stroke:#008000;\" x=\"147.367842\" xlink:href=\"#md0125404d2\" y=\"128.823869\"/>\r\n     <use style=\"fill:#008000;stroke:#008000;\" x=\"131.291873\" xlink:href=\"#md0125404d2\" y=\"154.013572\"/>\r\n     <use style=\"fill:#008000;stroke:#008000;\" x=\"113.646084\" xlink:href=\"#md0125404d2\" y=\"161.370816\"/>\r\n     <use style=\"fill:#008000;stroke:#008000;\" x=\"118.333398\" xlink:href=\"#md0125404d2\" y=\"151.824458\"/>\r\n     <use style=\"fill:#008000;stroke:#008000;\" x=\"116.031753\" xlink:href=\"#md0125404d2\" y=\"155.605617\"/>\r\n     <use style=\"fill:#008000;stroke:#008000;\" x=\"136.218478\" xlink:href=\"#md0125404d2\" y=\"153.677057\"/>\r\n     <use style=\"fill:#008000;stroke:#008000;\" x=\"83.216249\" xlink:href=\"#md0125404d2\" y=\"132.846288\"/>\r\n     <use style=\"fill:#008000;stroke:#008000;\" x=\"145.771077\" xlink:href=\"#md0125404d2\" y=\"141.368311\"/>\r\n     <use style=\"fill:#008000;stroke:#008000;\" x=\"119.095789\" xlink:href=\"#md0125404d2\" y=\"115.656479\"/>\r\n     <use style=\"fill:#008000;stroke:#008000;\" x=\"112.482531\" xlink:href=\"#md0125404d2\" y=\"155.976331\"/>\r\n     <use style=\"fill:#008000;stroke:#008000;\" x=\"146.356257\" xlink:href=\"#md0125404d2\" y=\"142.229527\"/>\r\n     <use style=\"fill:#008000;stroke:#008000;\" x=\"106.819581\" xlink:href=\"#md0125404d2\" y=\"155.462634\"/>\r\n     <use style=\"fill:#008000;stroke:#008000;\" x=\"72.177499\" xlink:href=\"#md0125404d2\" y=\"147.933397\"/>\r\n     <use style=\"fill:#008000;stroke:#008000;\" x=\"149.737475\" xlink:href=\"#md0125404d2\" y=\"174.627686\"/>\r\n     <use style=\"fill:#008000;stroke:#008000;\" x=\"132.919352\" xlink:href=\"#md0125404d2\" y=\"118.438148\"/>\r\n     <use style=\"fill:#008000;stroke:#008000;\" x=\"149.425753\" xlink:href=\"#md0125404d2\" y=\"138.279477\"/>\r\n     <use style=\"fill:#008000;stroke:#008000;\" x=\"91.266436\" xlink:href=\"#md0125404d2\" y=\"145.977898\"/>\r\n     <use style=\"fill:#008000;stroke:#008000;\" x=\"121.092785\" xlink:href=\"#md0125404d2\" y=\"139.998806\"/>\r\n     <use style=\"fill:#008000;stroke:#008000;\" x=\"147.866388\" xlink:href=\"#md0125404d2\" y=\"143.650578\"/>\r\n     <use style=\"fill:#008000;stroke:#008000;\" x=\"96.050249\" xlink:href=\"#md0125404d2\" y=\"159.663677\"/>\r\n     <use style=\"fill:#008000;stroke:#008000;\" x=\"131.126923\" xlink:href=\"#md0125404d2\" y=\"152.807232\"/>\r\n     <use style=\"fill:#008000;stroke:#008000;\" x=\"65.175301\" xlink:href=\"#md0125404d2\" y=\"140.831738\"/>\r\n     <use style=\"fill:#008000;stroke:#008000;\" x=\"104.336883\" xlink:href=\"#md0125404d2\" y=\"156.621432\"/>\r\n     <use style=\"fill:#008000;stroke:#008000;\" x=\"149.360521\" xlink:href=\"#md0125404d2\" y=\"135.420151\"/>\r\n     <use style=\"fill:#008000;stroke:#008000;\" x=\"110.488867\" xlink:href=\"#md0125404d2\" y=\"159.015366\"/>\r\n     <use style=\"fill:#008000;stroke:#008000;\" x=\"121.76937\" xlink:href=\"#md0125404d2\" y=\"143.558491\"/>\r\n     <use style=\"fill:#008000;stroke:#008000;\" x=\"118.17751\" xlink:href=\"#md0125404d2\" y=\"146.9523\"/>\r\n     <use style=\"fill:#008000;stroke:#008000;\" x=\"161.470809\" xlink:href=\"#md0125404d2\" y=\"150.429383\"/>\r\n     <use style=\"fill:#008000;stroke:#008000;\" x=\"153.230127\" xlink:href=\"#md0125404d2\" y=\"147.643189\"/>\r\n     <use style=\"fill:#008000;stroke:#008000;\" x=\"74.60439\" xlink:href=\"#md0125404d2\" y=\"136.969734\"/>\r\n     <use style=\"fill:#008000;stroke:#008000;\" x=\"74.252299\" xlink:href=\"#md0125404d2\" y=\"138.096337\"/>\r\n     <use style=\"fill:#008000;stroke:#008000;\" x=\"142.928601\" xlink:href=\"#md0125404d2\" y=\"142.247488\"/>\r\n     <use style=\"fill:#008000;stroke:#008000;\" x=\"136.377565\" xlink:href=\"#md0125404d2\" y=\"138.997901\"/>\r\n     <use style=\"fill:#008000;stroke:#008000;\" x=\"107.636401\" xlink:href=\"#md0125404d2\" y=\"139.106385\"/>\r\n     <use style=\"fill:#008000;stroke:#008000;\" x=\"117.725137\" xlink:href=\"#md0125404d2\" y=\"131.903474\"/>\r\n     <use style=\"fill:#008000;stroke:#008000;\" x=\"133.807966\" xlink:href=\"#md0125404d2\" y=\"140.615277\"/>\r\n     <use style=\"fill:#008000;stroke:#008000;\" x=\"123.048369\" xlink:href=\"#md0125404d2\" y=\"140.392602\"/>\r\n     <use style=\"fill:#008000;stroke:#008000;\" x=\"110.132254\" xlink:href=\"#md0125404d2\" y=\"134.970069\"/>\r\n     <use style=\"fill:#008000;stroke:#008000;\" x=\"104.443411\" xlink:href=\"#md0125404d2\" y=\"122.704752\"/>\r\n     <use style=\"fill:#008000;stroke:#008000;\" x=\"165.798594\" xlink:href=\"#md0125404d2\" y=\"121.996133\"/>\r\n     <use style=\"fill:#008000;stroke:#008000;\" x=\"94.126147\" xlink:href=\"#md0125404d2\" y=\"132.610825\"/>\r\n     <use style=\"fill:#008000;stroke:#008000;\" x=\"147.675161\" xlink:href=\"#md0125404d2\" y=\"139.024148\"/>\r\n     <use style=\"fill:#008000;stroke:#008000;\" x=\"76.213004\" xlink:href=\"#md0125404d2\" y=\"137.721025\"/>\r\n     <use style=\"fill:#008000;stroke:#008000;\" x=\"103.452558\" xlink:href=\"#md0125404d2\" y=\"151.887538\"/>\r\n     <use style=\"fill:#008000;stroke:#008000;\" x=\"164.311593\" xlink:href=\"#md0125404d2\" y=\"132.229548\"/>\r\n     <use style=\"fill:#008000;stroke:#008000;\" x=\"111.21051\" xlink:href=\"#md0125404d2\" y=\"145.600957\"/>\r\n    </g>\r\n   </g>\r\n   <g id=\"PathCollection_4\">\r\n    <defs>\r\n     <path d=\"M 0 2.236068 \r\nC 0.593012 2.236068 1.161816 2.000462 1.581139 1.581139 \r\nC 2.000462 1.161816 2.236068 0.593012 2.236068 0 \r\nC 2.236068 -0.593012 2.000462 -1.161816 1.581139 -1.581139 \r\nC 1.161816 -2.000462 0.593012 -2.236068 0 -2.236068 \r\nC -0.593012 -2.236068 -1.161816 -2.000462 -1.581139 -1.581139 \r\nC -2.000462 -1.161816 -2.236068 -0.593012 -2.236068 0 \r\nC -2.236068 0.593012 -2.000462 1.161816 -1.581139 1.581139 \r\nC -1.161816 2.000462 -0.593012 2.236068 0 2.236068 \r\nz\r\n\" id=\"m69eecd664e\" style=\"stroke:#800080;\"/>\r\n    </defs>\r\n    <g clip-path=\"url(#pf1e8b49c66)\">\r\n     <use style=\"fill:#800080;stroke:#800080;\" x=\"128.739167\" xlink:href=\"#m69eecd664e\" y=\"53.933927\"/>\r\n     <use style=\"fill:#800080;stroke:#800080;\" x=\"147.06781\" xlink:href=\"#m69eecd664e\" y=\"45.961347\"/>\r\n     <use style=\"fill:#800080;stroke:#800080;\" x=\"184.820085\" xlink:href=\"#m69eecd664e\" y=\"33.820618\"/>\r\n     <use style=\"fill:#800080;stroke:#800080;\" x=\"161.335576\" xlink:href=\"#m69eecd664e\" y=\"29.328854\"/>\r\n     <use style=\"fill:#800080;stroke:#800080;\" x=\"70.448657\" xlink:href=\"#m69eecd664e\" y=\"35.359012\"/>\r\n     <use style=\"fill:#800080;stroke:#800080;\" x=\"90.963961\" xlink:href=\"#m69eecd664e\" y=\"64.061146\"/>\r\n     <use style=\"fill:#800080;stroke:#800080;\" x=\"170.511278\" xlink:href=\"#m69eecd664e\" y=\"44.791715\"/>\r\n     <use style=\"fill:#800080;stroke:#800080;\" x=\"98.889702\" xlink:href=\"#m69eecd664e\" y=\"54.545845\"/>\r\n     <use style=\"fill:#800080;stroke:#800080;\" x=\"141.843649\" xlink:href=\"#m69eecd664e\" y=\"66.584513\"/>\r\n     <use style=\"fill:#800080;stroke:#800080;\" x=\"118.038624\" xlink:href=\"#m69eecd664e\" y=\"43.482049\"/>\r\n     <use style=\"fill:#800080;stroke:#800080;\" x=\"82.078908\" xlink:href=\"#m69eecd664e\" y=\"53.345723\"/>\r\n     <use style=\"fill:#800080;stroke:#800080;\" x=\"100.789264\" xlink:href=\"#m69eecd664e\" y=\"52.466885\"/>\r\n     <use style=\"fill:#800080;stroke:#800080;\" x=\"72.702615\" xlink:href=\"#m69eecd664e\" y=\"42.58899\"/>\r\n     <use style=\"fill:#800080;stroke:#800080;\" x=\"130.373843\" xlink:href=\"#m69eecd664e\" y=\"40.300335\"/>\r\n     <use style=\"fill:#800080;stroke:#800080;\" x=\"125.705521\" xlink:href=\"#m69eecd664e\" y=\"50.795675\"/>\r\n     <use style=\"fill:#800080;stroke:#800080;\" x=\"152.834386\" xlink:href=\"#m69eecd664e\" y=\"49.851724\"/>\r\n     <use style=\"fill:#800080;stroke:#800080;\" x=\"192.40272\" xlink:href=\"#m69eecd664e\" y=\"46.083542\"/>\r\n     <use style=\"fill:#800080;stroke:#800080;\" x=\"110.519566\" xlink:href=\"#m69eecd664e\" y=\"47.665035\"/>\r\n     <use style=\"fill:#800080;stroke:#800080;\" x=\"89.611486\" xlink:href=\"#m69eecd664e\" y=\"56.04949\"/>\r\n     <use style=\"fill:#800080;stroke:#800080;\" x=\"122.415865\" xlink:href=\"#m69eecd664e\" y=\"17.083636\"/>\r\n     <use style=\"fill:#800080;stroke:#800080;\" x=\"80.280501\" xlink:href=\"#m69eecd664e\" y=\"51.924236\"/>\r\n     <use style=\"fill:#800080;stroke:#800080;\" x=\"70.599346\" xlink:href=\"#m69eecd664e\" y=\"45.317195\"/>\r\n     <use style=\"fill:#800080;stroke:#800080;\" x=\"146.206158\" xlink:href=\"#m69eecd664e\" y=\"41.081177\"/>\r\n     <use style=\"fill:#800080;stroke:#800080;\" x=\"157.887716\" xlink:href=\"#m69eecd664e\" y=\"33.406998\"/>\r\n     <use style=\"fill:#800080;stroke:#800080;\" x=\"146.289048\" xlink:href=\"#m69eecd664e\" y=\"38.276244\"/>\r\n     <use style=\"fill:#800080;stroke:#800080;\" x=\"150.295848\" xlink:href=\"#m69eecd664e\" y=\"33.188254\"/>\r\n     <use style=\"fill:#800080;stroke:#800080;\" x=\"99.327142\" xlink:href=\"#m69eecd664e\" y=\"68.792355\"/>\r\n     <use style=\"fill:#800080;stroke:#800080;\" x=\"126.74095\" xlink:href=\"#m69eecd664e\" y=\"52.417754\"/>\r\n     <use style=\"fill:#800080;stroke:#800080;\" x=\"103.587856\" xlink:href=\"#m69eecd664e\" y=\"30.19678\"/>\r\n     <use style=\"fill:#800080;stroke:#800080;\" x=\"167.043043\" xlink:href=\"#m69eecd664e\" y=\"30.236981\"/>\r\n     <use style=\"fill:#800080;stroke:#800080;\" x=\"162.64975\" xlink:href=\"#m69eecd664e\" y=\"48.715545\"/>\r\n     <use style=\"fill:#800080;stroke:#800080;\" x=\"133.337485\" xlink:href=\"#m69eecd664e\" y=\"65.157999\"/>\r\n     <use style=\"fill:#800080;stroke:#800080;\" x=\"93.252391\" xlink:href=\"#m69eecd664e\" y=\"40.63169\"/>\r\n     <use style=\"fill:#800080;stroke:#800080;\" x=\"118.080474\" xlink:href=\"#m69eecd664e\" y=\"51.626563\"/>\r\n     <use style=\"fill:#800080;stroke:#800080;\" x=\"178.541368\" xlink:href=\"#m69eecd664e\" y=\"39.028722\"/>\r\n     <use style=\"fill:#800080;stroke:#800080;\" x=\"130.301702\" xlink:href=\"#m69eecd664e\" y=\"58.351794\"/>\r\n     <use style=\"fill:#800080;stroke:#800080;\" x=\"97.274052\" xlink:href=\"#m69eecd664e\" y=\"52.52149\"/>\r\n     <use style=\"fill:#800080;stroke:#800080;\" x=\"169.300548\" xlink:href=\"#m69eecd664e\" y=\"53.015389\"/>\r\n     <use style=\"fill:#800080;stroke:#800080;\" x=\"74.067123\" xlink:href=\"#m69eecd664e\" y=\"40.818406\"/>\r\n     <use style=\"fill:#800080;stroke:#800080;\" x=\"130.216388\" xlink:href=\"#m69eecd664e\" y=\"56.334029\"/>\r\n     <use style=\"fill:#800080;stroke:#800080;\" x=\"143.15338\" xlink:href=\"#m69eecd664e\" y=\"56.046526\"/>\r\n     <use style=\"fill:#800080;stroke:#800080;\" x=\"111.115112\" xlink:href=\"#m69eecd664e\" y=\"50.565304\"/>\r\n     <use style=\"fill:#800080;stroke:#800080;\" x=\"124.187121\" xlink:href=\"#m69eecd664e\" y=\"43.416904\"/>\r\n     <use style=\"fill:#800080;stroke:#800080;\" x=\"166.428183\" xlink:href=\"#m69eecd664e\" y=\"75.76258\"/>\r\n     <use style=\"fill:#800080;stroke:#800080;\" x=\"151.538026\" xlink:href=\"#m69eecd664e\" y=\"40.375285\"/>\r\n     <use style=\"fill:#800080;stroke:#800080;\" x=\"104.683435\" xlink:href=\"#m69eecd664e\" y=\"36.292547\"/>\r\n     <use style=\"fill:#800080;stroke:#800080;\" x=\"137.443459\" xlink:href=\"#m69eecd664e\" y=\"36.493844\"/>\r\n     <use style=\"fill:#800080;stroke:#800080;\" x=\"140.976741\" xlink:href=\"#m69eecd664e\" y=\"44.420339\"/>\r\n     <use style=\"fill:#800080;stroke:#800080;\" x=\"113.986236\" xlink:href=\"#m69eecd664e\" y=\"58.756337\"/>\r\n     <use style=\"fill:#800080;stroke:#800080;\" x=\"110.123932\" xlink:href=\"#m69eecd664e\" y=\"42.746925\"/>\r\n     <use style=\"fill:#800080;stroke:#800080;\" x=\"125.489955\" xlink:href=\"#m69eecd664e\" y=\"81.510022\"/>\r\n     <use style=\"fill:#800080;stroke:#800080;\" x=\"162.490359\" xlink:href=\"#m69eecd664e\" y=\"28.887861\"/>\r\n     <use style=\"fill:#800080;stroke:#800080;\" x=\"149.045688\" xlink:href=\"#m69eecd664e\" y=\"67.15314\"/>\r\n     <use style=\"fill:#800080;stroke:#800080;\" x=\"129.129598\" xlink:href=\"#m69eecd664e\" y=\"47.708182\"/>\r\n     <use style=\"fill:#800080;stroke:#800080;\" x=\"107.741921\" xlink:href=\"#m69eecd664e\" y=\"49.687484\"/>\r\n     <use style=\"fill:#800080;stroke:#800080;\" x=\"173.135467\" xlink:href=\"#m69eecd664e\" y=\"55.972152\"/>\r\n     <use style=\"fill:#800080;stroke:#800080;\" x=\"141.961418\" xlink:href=\"#m69eecd664e\" y=\"46.154455\"/>\r\n     <use style=\"fill:#800080;stroke:#800080;\" x=\"129.675937\" xlink:href=\"#m69eecd664e\" y=\"27.637556\"/>\r\n     <use style=\"fill:#800080;stroke:#800080;\" x=\"144.327079\" xlink:href=\"#m69eecd664e\" y=\"24.988932\"/>\r\n     <use style=\"fill:#800080;stroke:#800080;\" x=\"120.982403\" xlink:href=\"#m69eecd664e\" y=\"51.112007\"/>\r\n     <use style=\"fill:#800080;stroke:#800080;\" x=\"123.328502\" xlink:href=\"#m69eecd664e\" y=\"48.115219\"/>\r\n     <use style=\"fill:#800080;stroke:#800080;\" x=\"109.674741\" xlink:href=\"#m69eecd664e\" y=\"54.918151\"/>\r\n     <use style=\"fill:#800080;stroke:#800080;\" x=\"116.118124\" xlink:href=\"#m69eecd664e\" y=\"43.237279\"/>\r\n     <use style=\"fill:#800080;stroke:#800080;\" x=\"160.426268\" xlink:href=\"#m69eecd664e\" y=\"76.90077\"/>\r\n     <use style=\"fill:#800080;stroke:#800080;\" x=\"130.765044\" xlink:href=\"#m69eecd664e\" y=\"46.854112\"/>\r\n     <use style=\"fill:#800080;stroke:#800080;\" x=\"167.83113\" xlink:href=\"#m69eecd664e\" y=\"39.703025\"/>\r\n     <use style=\"fill:#800080;stroke:#800080;\" x=\"166.933431\" xlink:href=\"#m69eecd664e\" y=\"48.321582\"/>\r\n     <use style=\"fill:#800080;stroke:#800080;\" x=\"136.653476\" xlink:href=\"#m69eecd664e\" y=\"39.337102\"/>\r\n     <use style=\"fill:#800080;stroke:#800080;\" x=\"108.07301\" xlink:href=\"#m69eecd664e\" y=\"46.476094\"/>\r\n     <use style=\"fill:#800080;stroke:#800080;\" x=\"122.006581\" xlink:href=\"#m69eecd664e\" y=\"57.110066\"/>\r\n     <use style=\"fill:#800080;stroke:#800080;\" x=\"132.765007\" xlink:href=\"#m69eecd664e\" y=\"32.18375\"/>\r\n     <use style=\"fill:#800080;stroke:#800080;\" x=\"142.356157\" xlink:href=\"#m69eecd664e\" y=\"59.821672\"/>\r\n     <use style=\"fill:#800080;stroke:#800080;\" x=\"117.538389\" xlink:href=\"#m69eecd664e\" y=\"30.239061\"/>\r\n     <use style=\"fill:#800080;stroke:#800080;\" x=\"135.140984\" xlink:href=\"#m69eecd664e\" y=\"42.9546\"/>\r\n     <use style=\"fill:#800080;stroke:#800080;\" x=\"211.470863\" xlink:href=\"#m69eecd664e\" y=\"46.429708\"/>\r\n    </g>\r\n   </g>\r\n   <g id=\"matplotlib.axis_1\">\r\n    <g id=\"xtick_1\">\r\n     <g id=\"line2d_1\">\r\n      <defs>\r\n       <path d=\"M 0 0 \r\nL 0 3.5 \r\n\" id=\"m47dfd54d32\" style=\"stroke:#000000;stroke-width:0.8;\"/>\r\n      </defs>\r\n      <g>\r\n       <use style=\"stroke:#000000;stroke-width:0.8;\" x=\"55.138107\" xlink:href=\"#m47dfd54d32\" y=\"224.64\"/>\r\n      </g>\r\n     </g>\r\n     <g id=\"text_1\">\r\n      <!-- −3 -->\r\n      <g transform=\"translate(47.767013 239.238438)scale(0.1 -0.1)\">\r\n       <defs>\r\n        <path d=\"M 10.59375 35.5 \r\nL 73.1875 35.5 \r\nL 73.1875 27.203125 \r\nL 10.59375 27.203125 \r\nz\r\n\" id=\"DejaVuSans-8722\"/>\r\n        <path d=\"M 40.578125 39.3125 \r\nQ 47.65625 37.796875 51.625 33 \r\nQ 55.609375 28.21875 55.609375 21.1875 \r\nQ 55.609375 10.40625 48.1875 4.484375 \r\nQ 40.765625 -1.421875 27.09375 -1.421875 \r\nQ 22.515625 -1.421875 17.65625 -0.515625 \r\nQ 12.796875 0.390625 7.625 2.203125 \r\nL 7.625 11.71875 \r\nQ 11.71875 9.328125 16.59375 8.109375 \r\nQ 21.484375 6.890625 26.8125 6.890625 \r\nQ 36.078125 6.890625 40.9375 10.546875 \r\nQ 45.796875 14.203125 45.796875 21.1875 \r\nQ 45.796875 27.640625 41.28125 31.265625 \r\nQ 36.765625 34.90625 28.71875 34.90625 \r\nL 20.21875 34.90625 \r\nL 20.21875 43.015625 \r\nL 29.109375 43.015625 \r\nQ 36.375 43.015625 40.234375 45.921875 \r\nQ 44.09375 48.828125 44.09375 54.296875 \r\nQ 44.09375 59.90625 40.109375 62.90625 \r\nQ 36.140625 65.921875 28.71875 65.921875 \r\nQ 24.65625 65.921875 20.015625 65.03125 \r\nQ 15.375 64.15625 9.8125 62.3125 \r\nL 9.8125 71.09375 \r\nQ 15.4375 72.65625 20.34375 73.4375 \r\nQ 25.25 74.21875 29.59375 74.21875 \r\nQ 40.828125 74.21875 47.359375 69.109375 \r\nQ 53.90625 64.015625 53.90625 55.328125 \r\nQ 53.90625 49.265625 50.4375 45.09375 \r\nQ 46.96875 40.921875 40.578125 39.3125 \r\nz\r\n\" id=\"DejaVuSans-51\"/>\r\n       </defs>\r\n       <use xlink:href=\"#DejaVuSans-8722\"/>\r\n       <use x=\"83.789062\" xlink:href=\"#DejaVuSans-51\"/>\r\n      </g>\r\n     </g>\r\n    </g>\r\n    <g id=\"xtick_2\">\r\n     <g id=\"line2d_2\">\r\n      <g>\r\n       <use style=\"stroke:#000000;stroke-width:0.8;\" x=\"101.534826\" xlink:href=\"#m47dfd54d32\" y=\"224.64\"/>\r\n      </g>\r\n     </g>\r\n     <g id=\"text_2\">\r\n      <!-- −2 -->\r\n      <g transform=\"translate(94.163733 239.238438)scale(0.1 -0.1)\">\r\n       <defs>\r\n        <path d=\"M 19.1875 8.296875 \r\nL 53.609375 8.296875 \r\nL 53.609375 0 \r\nL 7.328125 0 \r\nL 7.328125 8.296875 \r\nQ 12.9375 14.109375 22.625 23.890625 \r\nQ 32.328125 33.6875 34.8125 36.53125 \r\nQ 39.546875 41.84375 41.421875 45.53125 \r\nQ 43.3125 49.21875 43.3125 52.78125 \r\nQ 43.3125 58.59375 39.234375 62.25 \r\nQ 35.15625 65.921875 28.609375 65.921875 \r\nQ 23.96875 65.921875 18.8125 64.3125 \r\nQ 13.671875 62.703125 7.8125 59.421875 \r\nL 7.8125 69.390625 \r\nQ 13.765625 71.78125 18.9375 73 \r\nQ 24.125 74.21875 28.421875 74.21875 \r\nQ 39.75 74.21875 46.484375 68.546875 \r\nQ 53.21875 62.890625 53.21875 53.421875 \r\nQ 53.21875 48.921875 51.53125 44.890625 \r\nQ 49.859375 40.875 45.40625 35.40625 \r\nQ 44.1875 33.984375 37.640625 27.21875 \r\nQ 31.109375 20.453125 19.1875 8.296875 \r\nz\r\n\" id=\"DejaVuSans-50\"/>\r\n       </defs>\r\n       <use xlink:href=\"#DejaVuSans-8722\"/>\r\n       <use x=\"83.789062\" xlink:href=\"#DejaVuSans-50\"/>\r\n      </g>\r\n     </g>\r\n    </g>\r\n    <g id=\"xtick_3\">\r\n     <g id=\"line2d_3\">\r\n      <g>\r\n       <use style=\"stroke:#000000;stroke-width:0.8;\" x=\"147.931546\" xlink:href=\"#m47dfd54d32\" y=\"224.64\"/>\r\n      </g>\r\n     </g>\r\n     <g id=\"text_3\">\r\n      <!-- −1 -->\r\n      <g transform=\"translate(140.560452 239.238438)scale(0.1 -0.1)\">\r\n       <defs>\r\n        <path d=\"M 12.40625 8.296875 \r\nL 28.515625 8.296875 \r\nL 28.515625 63.921875 \r\nL 10.984375 60.40625 \r\nL 10.984375 69.390625 \r\nL 28.421875 72.90625 \r\nL 38.28125 72.90625 \r\nL 38.28125 8.296875 \r\nL 54.390625 8.296875 \r\nL 54.390625 0 \r\nL 12.40625 0 \r\nz\r\n\" id=\"DejaVuSans-49\"/>\r\n       </defs>\r\n       <use xlink:href=\"#DejaVuSans-8722\"/>\r\n       <use x=\"83.789062\" xlink:href=\"#DejaVuSans-49\"/>\r\n      </g>\r\n     </g>\r\n    </g>\r\n    <g id=\"xtick_4\">\r\n     <g id=\"line2d_4\">\r\n      <g>\r\n       <use style=\"stroke:#000000;stroke-width:0.8;\" x=\"194.328266\" xlink:href=\"#m47dfd54d32\" y=\"224.64\"/>\r\n      </g>\r\n     </g>\r\n     <g id=\"text_4\">\r\n      <!-- 0 -->\r\n      <g transform=\"translate(191.147016 239.238438)scale(0.1 -0.1)\">\r\n       <defs>\r\n        <path d=\"M 31.78125 66.40625 \r\nQ 24.171875 66.40625 20.328125 58.90625 \r\nQ 16.5 51.421875 16.5 36.375 \r\nQ 16.5 21.390625 20.328125 13.890625 \r\nQ 24.171875 6.390625 31.78125 6.390625 \r\nQ 39.453125 6.390625 43.28125 13.890625 \r\nQ 47.125 21.390625 47.125 36.375 \r\nQ 47.125 51.421875 43.28125 58.90625 \r\nQ 39.453125 66.40625 31.78125 66.40625 \r\nz\r\nM 31.78125 74.21875 \r\nQ 44.046875 74.21875 50.515625 64.515625 \r\nQ 56.984375 54.828125 56.984375 36.375 \r\nQ 56.984375 17.96875 50.515625 8.265625 \r\nQ 44.046875 -1.421875 31.78125 -1.421875 \r\nQ 19.53125 -1.421875 13.0625 8.265625 \r\nQ 6.59375 17.96875 6.59375 36.375 \r\nQ 6.59375 54.828125 13.0625 64.515625 \r\nQ 19.53125 74.21875 31.78125 74.21875 \r\nz\r\n\" id=\"DejaVuSans-48\"/>\r\n       </defs>\r\n       <use xlink:href=\"#DejaVuSans-48\"/>\r\n      </g>\r\n     </g>\r\n    </g>\r\n    <g id=\"xtick_5\">\r\n     <g id=\"line2d_5\">\r\n      <g>\r\n       <use style=\"stroke:#000000;stroke-width:0.8;\" x=\"240.724985\" xlink:href=\"#m47dfd54d32\" y=\"224.64\"/>\r\n      </g>\r\n     </g>\r\n     <g id=\"text_5\">\r\n      <!-- 1 -->\r\n      <g transform=\"translate(237.543735 239.238438)scale(0.1 -0.1)\">\r\n       <use xlink:href=\"#DejaVuSans-49\"/>\r\n      </g>\r\n     </g>\r\n    </g>\r\n    <g id=\"xtick_6\">\r\n     <g id=\"line2d_6\">\r\n      <g>\r\n       <use style=\"stroke:#000000;stroke-width:0.8;\" x=\"287.121705\" xlink:href=\"#m47dfd54d32\" y=\"224.64\"/>\r\n      </g>\r\n     </g>\r\n     <g id=\"text_6\">\r\n      <!-- 2 -->\r\n      <g transform=\"translate(283.940455 239.238438)scale(0.1 -0.1)\">\r\n       <use xlink:href=\"#DejaVuSans-50\"/>\r\n      </g>\r\n     </g>\r\n    </g>\r\n    <g id=\"xtick_7\">\r\n     <g id=\"line2d_7\">\r\n      <g>\r\n       <use style=\"stroke:#000000;stroke-width:0.8;\" x=\"333.518425\" xlink:href=\"#m47dfd54d32\" y=\"224.64\"/>\r\n      </g>\r\n     </g>\r\n     <g id=\"text_7\">\r\n      <!-- 3 -->\r\n      <g transform=\"translate(330.337175 239.238438)scale(0.1 -0.1)\">\r\n       <use xlink:href=\"#DejaVuSans-51\"/>\r\n      </g>\r\n     </g>\r\n    </g>\r\n    <g id=\"text_8\">\r\n     <!-- x1 -->\r\n     <g transform=\"translate(195.5 252.916563)scale(0.1 -0.1)\">\r\n      <defs>\r\n       <path d=\"M 54.890625 54.6875 \r\nL 35.109375 28.078125 \r\nL 55.90625 0 \r\nL 45.3125 0 \r\nL 29.390625 21.484375 \r\nL 13.484375 0 \r\nL 2.875 0 \r\nL 24.125 28.609375 \r\nL 4.6875 54.6875 \r\nL 15.28125 54.6875 \r\nL 29.78125 35.203125 \r\nL 44.28125 54.6875 \r\nz\r\n\" id=\"DejaVuSans-120\"/>\r\n      </defs>\r\n      <use xlink:href=\"#DejaVuSans-120\"/>\r\n      <use x=\"59.179688\" xlink:href=\"#DejaVuSans-49\"/>\r\n     </g>\r\n    </g>\r\n   </g>\r\n   <g id=\"matplotlib.axis_2\">\r\n    <g id=\"ytick_1\">\r\n     <g id=\"line2d_8\">\r\n      <defs>\r\n       <path d=\"M 0 0 \r\nL -3.5 0 \r\n\" id=\"m66b8423564\" style=\"stroke:#000000;stroke-width:0.8;\"/>\r\n      </defs>\r\n      <g>\r\n       <use style=\"stroke:#000000;stroke-width:0.8;\" x=\"34.240625\" xlink:href=\"#m66b8423564\" y=\"199.690326\"/>\r\n      </g>\r\n     </g>\r\n     <g id=\"text_9\">\r\n      <!-- 0 -->\r\n      <g transform=\"translate(20.878125 203.489545)scale(0.1 -0.1)\">\r\n       <use xlink:href=\"#DejaVuSans-48\"/>\r\n      </g>\r\n     </g>\r\n    </g>\r\n    <g id=\"ytick_2\">\r\n     <g id=\"line2d_9\">\r\n      <g>\r\n       <use style=\"stroke:#000000;stroke-width:0.8;\" x=\"34.240625\" xlink:href=\"#m66b8423564\" y=\"160.347867\"/>\r\n      </g>\r\n     </g>\r\n     <g id=\"text_10\">\r\n      <!-- 2 -->\r\n      <g transform=\"translate(20.878125 164.147086)scale(0.1 -0.1)\">\r\n       <use xlink:href=\"#DejaVuSans-50\"/>\r\n      </g>\r\n     </g>\r\n    </g>\r\n    <g id=\"ytick_3\">\r\n     <g id=\"line2d_10\">\r\n      <g>\r\n       <use style=\"stroke:#000000;stroke-width:0.8;\" x=\"34.240625\" xlink:href=\"#m66b8423564\" y=\"121.005409\"/>\r\n      </g>\r\n     </g>\r\n     <g id=\"text_11\">\r\n      <!-- 4 -->\r\n      <g transform=\"translate(20.878125 124.804627)scale(0.1 -0.1)\">\r\n       <defs>\r\n        <path d=\"M 37.796875 64.3125 \r\nL 12.890625 25.390625 \r\nL 37.796875 25.390625 \r\nz\r\nM 35.203125 72.90625 \r\nL 47.609375 72.90625 \r\nL 47.609375 25.390625 \r\nL 58.015625 25.390625 \r\nL 58.015625 17.1875 \r\nL 47.609375 17.1875 \r\nL 47.609375 0 \r\nL 37.796875 0 \r\nL 37.796875 17.1875 \r\nL 4.890625 17.1875 \r\nL 4.890625 26.703125 \r\nz\r\n\" id=\"DejaVuSans-52\"/>\r\n       </defs>\r\n       <use xlink:href=\"#DejaVuSans-52\"/>\r\n      </g>\r\n     </g>\r\n    </g>\r\n    <g id=\"ytick_4\">\r\n     <g id=\"line2d_11\">\r\n      <g>\r\n       <use style=\"stroke:#000000;stroke-width:0.8;\" x=\"34.240625\" xlink:href=\"#m66b8423564\" y=\"81.66295\"/>\r\n      </g>\r\n     </g>\r\n     <g id=\"text_12\">\r\n      <!-- 6 -->\r\n      <g transform=\"translate(20.878125 85.462168)scale(0.1 -0.1)\">\r\n       <defs>\r\n        <path d=\"M 33.015625 40.375 \r\nQ 26.375 40.375 22.484375 35.828125 \r\nQ 18.609375 31.296875 18.609375 23.390625 \r\nQ 18.609375 15.53125 22.484375 10.953125 \r\nQ 26.375 6.390625 33.015625 6.390625 \r\nQ 39.65625 6.390625 43.53125 10.953125 \r\nQ 47.40625 15.53125 47.40625 23.390625 \r\nQ 47.40625 31.296875 43.53125 35.828125 \r\nQ 39.65625 40.375 33.015625 40.375 \r\nz\r\nM 52.59375 71.296875 \r\nL 52.59375 62.3125 \r\nQ 48.875 64.0625 45.09375 64.984375 \r\nQ 41.3125 65.921875 37.59375 65.921875 \r\nQ 27.828125 65.921875 22.671875 59.328125 \r\nQ 17.53125 52.734375 16.796875 39.40625 \r\nQ 19.671875 43.65625 24.015625 45.921875 \r\nQ 28.375 48.1875 33.59375 48.1875 \r\nQ 44.578125 48.1875 50.953125 41.515625 \r\nQ 57.328125 34.859375 57.328125 23.390625 \r\nQ 57.328125 12.15625 50.6875 5.359375 \r\nQ 44.046875 -1.421875 33.015625 -1.421875 \r\nQ 20.359375 -1.421875 13.671875 8.265625 \r\nQ 6.984375 17.96875 6.984375 36.375 \r\nQ 6.984375 53.65625 15.1875 63.9375 \r\nQ 23.390625 74.21875 37.203125 74.21875 \r\nQ 40.921875 74.21875 44.703125 73.484375 \r\nQ 48.484375 72.75 52.59375 71.296875 \r\nz\r\n\" id=\"DejaVuSans-54\"/>\r\n       </defs>\r\n       <use xlink:href=\"#DejaVuSans-54\"/>\r\n      </g>\r\n     </g>\r\n    </g>\r\n    <g id=\"ytick_5\">\r\n     <g id=\"line2d_12\">\r\n      <g>\r\n       <use style=\"stroke:#000000;stroke-width:0.8;\" x=\"34.240625\" xlink:href=\"#m66b8423564\" y=\"42.320491\"/>\r\n      </g>\r\n     </g>\r\n     <g id=\"text_13\">\r\n      <!-- 8 -->\r\n      <g transform=\"translate(20.878125 46.119709)scale(0.1 -0.1)\">\r\n       <defs>\r\n        <path d=\"M 31.78125 34.625 \r\nQ 24.75 34.625 20.71875 30.859375 \r\nQ 16.703125 27.09375 16.703125 20.515625 \r\nQ 16.703125 13.921875 20.71875 10.15625 \r\nQ 24.75 6.390625 31.78125 6.390625 \r\nQ 38.8125 6.390625 42.859375 10.171875 \r\nQ 46.921875 13.96875 46.921875 20.515625 \r\nQ 46.921875 27.09375 42.890625 30.859375 \r\nQ 38.875 34.625 31.78125 34.625 \r\nz\r\nM 21.921875 38.8125 \r\nQ 15.578125 40.375 12.03125 44.71875 \r\nQ 8.5 49.078125 8.5 55.328125 \r\nQ 8.5 64.0625 14.71875 69.140625 \r\nQ 20.953125 74.21875 31.78125 74.21875 \r\nQ 42.671875 74.21875 48.875 69.140625 \r\nQ 55.078125 64.0625 55.078125 55.328125 \r\nQ 55.078125 49.078125 51.53125 44.71875 \r\nQ 48 40.375 41.703125 38.8125 \r\nQ 48.828125 37.15625 52.796875 32.3125 \r\nQ 56.78125 27.484375 56.78125 20.515625 \r\nQ 56.78125 9.90625 50.3125 4.234375 \r\nQ 43.84375 -1.421875 31.78125 -1.421875 \r\nQ 19.734375 -1.421875 13.25 4.234375 \r\nQ 6.78125 9.90625 6.78125 20.515625 \r\nQ 6.78125 27.484375 10.78125 32.3125 \r\nQ 14.796875 37.15625 21.921875 38.8125 \r\nz\r\nM 18.3125 54.390625 \r\nQ 18.3125 48.734375 21.84375 45.5625 \r\nQ 25.390625 42.390625 31.78125 42.390625 \r\nQ 38.140625 42.390625 41.71875 45.5625 \r\nQ 45.3125 48.734375 45.3125 54.390625 \r\nQ 45.3125 60.0625 41.71875 63.234375 \r\nQ 38.140625 66.40625 31.78125 66.40625 \r\nQ 25.390625 66.40625 21.84375 63.234375 \r\nQ 18.3125 60.0625 18.3125 54.390625 \r\nz\r\n\" id=\"DejaVuSans-56\"/>\r\n       </defs>\r\n       <use xlink:href=\"#DejaVuSans-56\"/>\r\n      </g>\r\n     </g>\r\n    </g>\r\n    <g id=\"text_14\">\r\n     <!-- x2 -->\r\n     <g transform=\"translate(14.798437 122.060625)rotate(-90)scale(0.1 -0.1)\">\r\n      <use xlink:href=\"#DejaVuSans-120\"/>\r\n      <use x=\"59.179688\" xlink:href=\"#DejaVuSans-50\"/>\r\n     </g>\r\n    </g>\r\n   </g>\r\n   <g id=\"patch_3\">\r\n    <path d=\"M 34.240625 224.64 \r\nL 34.240625 7.2 \r\n\" style=\"fill:none;stroke:#000000;stroke-linecap:square;stroke-linejoin:miter;stroke-width:0.8;\"/>\r\n   </g>\r\n   <g id=\"patch_4\">\r\n    <path d=\"M 369.040625 224.64 \r\nL 369.040625 7.2 \r\n\" style=\"fill:none;stroke:#000000;stroke-linecap:square;stroke-linejoin:miter;stroke-width:0.8;\"/>\r\n   </g>\r\n   <g id=\"patch_5\">\r\n    <path d=\"M 34.240625 224.64 \r\nL 369.040625 224.64 \r\n\" style=\"fill:none;stroke:#000000;stroke-linecap:square;stroke-linejoin:miter;stroke-width:0.8;\"/>\r\n   </g>\r\n   <g id=\"patch_6\">\r\n    <path d=\"M 34.240625 7.2 \r\nL 369.040625 7.2 \r\n\" style=\"fill:none;stroke:#000000;stroke-linecap:square;stroke-linejoin:miter;stroke-width:0.8;\"/>\r\n   </g>\r\n   <g id=\"legend_1\">\r\n    <g id=\"patch_7\">\r\n     <path d=\"M 323.678125 73.9125 \r\nL 362.040625 73.9125 \r\nQ 364.040625 73.9125 364.040625 71.9125 \r\nL 364.040625 14.2 \r\nQ 364.040625 12.2 362.040625 12.2 \r\nL 323.678125 12.2 \r\nQ 321.678125 12.2 321.678125 14.2 \r\nL 321.678125 71.9125 \r\nQ 321.678125 73.9125 323.678125 73.9125 \r\nz\r\n\" style=\"fill:#ffffff;opacity:0.8;stroke:#cccccc;stroke-linejoin:miter;\"/>\r\n    </g>\r\n    <g id=\"PathCollection_5\">\r\n     <g>\r\n      <use style=\"fill:#0000ff;stroke:#0000ff;\" x=\"335.678125\" xlink:href=\"#mcad9d46632\" y=\"21.173438\"/>\r\n     </g>\r\n    </g>\r\n    <g id=\"text_15\">\r\n     <!-- 0 -->\r\n     <g transform=\"translate(353.678125 23.798438)scale(0.1 -0.1)\">\r\n      <use xlink:href=\"#DejaVuSans-48\"/>\r\n     </g>\r\n    </g>\r\n    <g id=\"PathCollection_6\">\r\n     <g>\r\n      <use style=\"fill:#ff0000;stroke:#ff0000;\" x=\"335.678125\" xlink:href=\"#mba1942cfdd\" y=\"35.851563\"/>\r\n     </g>\r\n    </g>\r\n    <g id=\"text_16\">\r\n     <!-- 1 -->\r\n     <g transform=\"translate(353.678125 38.476563)scale(0.1 -0.1)\">\r\n      <use xlink:href=\"#DejaVuSans-49\"/>\r\n     </g>\r\n    </g>\r\n    <g id=\"PathCollection_7\">\r\n     <g>\r\n      <use style=\"fill:#008000;stroke:#008000;\" x=\"335.678125\" xlink:href=\"#md0125404d2\" y=\"50.529688\"/>\r\n     </g>\r\n    </g>\r\n    <g id=\"text_17\">\r\n     <!-- 2 -->\r\n     <g transform=\"translate(353.678125 53.154688)scale(0.1 -0.1)\">\r\n      <use xlink:href=\"#DejaVuSans-50\"/>\r\n     </g>\r\n    </g>\r\n    <g id=\"PathCollection_8\">\r\n     <g>\r\n      <use style=\"fill:#800080;stroke:#800080;\" x=\"335.678125\" xlink:href=\"#m69eecd664e\" y=\"65.207813\"/>\r\n     </g>\r\n    </g>\r\n    <g id=\"text_18\">\r\n     <!-- 3 -->\r\n     <g transform=\"translate(353.678125 67.832813)scale(0.1 -0.1)\">\r\n      <use xlink:href=\"#DejaVuSans-51\"/>\r\n     </g>\r\n    </g>\r\n   </g>\r\n  </g>\r\n </g>\r\n <defs>\r\n  <clipPath id=\"pf1e8b49c66\">\r\n   <rect height=\"217.44\" width=\"334.8\" x=\"34.240625\" y=\"7.2\"/>\r\n  </clipPath>\r\n </defs>\r\n</svg>\r\n",
      "image/png": "[encoded data removed]"
     },
     "metadata": {
      "needs_background": "light"
     }
    }
   ],
   "source": [
    "# 3 points\n",
    "\n",
    "#make the dataset with make_blobs use random state 0 use 300 samples\n",
    "# Create test data: features (X) and labels (y)\n",
    "X, Y = make_blobs(n_samples=300, centers=4, cluster_std=0.6, n_features=2,random_state=0)\n",
    "# Group the data by labels\n",
    "Xy = pd.DataFrame(dict(x1=X[:,0], x2=X[:,1], label=Y))\n",
    "groups = Xy.groupby('label')\n",
    " \n",
    "# Plot the blobs\n",
    "fig, ax = plt.subplots()\n",
    "colors = [\"blue\", \"red\", \"green\", \"purple\"]\n",
    "for idx, classification in groups:\n",
    "    classification.plot(ax=ax, kind='scatter', x='x1', y='x2', label=idx, color=colors[idx])\n",
    "plt.show()"
   ]
  },
  {
   "cell_type": "code",
   "execution_count": 6,
   "metadata": {
    "deletable": false,
    "editable": false,
    "nbgrader": {
     "cell_type": "code",
     "checksum": "3865a0d991000b519e3f641de5691091",
     "grade": true,
     "grade_id": "cell-a87f746c4fdd507e",
     "locked": true,
     "points": 3,
     "schema_version": 3,
     "solution": false,
     "task": false
    }
   },
   "outputs": [],
   "source": [
    "assert X.shape== (300,2)\n",
    "assert Y.shape== (300,)"
   ]
  },
  {
   "cell_type": "markdown",
   "metadata": {},
   "source": [
    "### Step 2: Create the helper functions\n",
    "1. Implement ```square_diff``` that takes in two vectors ```x1``` and ```x2``` and returns their squared difference. Hint: Use ```assert``` to check their lenghts match.\n",
    "2. Implement ```root_sum_squared``` that takes in a vector of squaerd differences and returns the square root of the summed elements.\n",
    "3. Implement ```euclidean_distances``` that takes in feature and prediction vectors and computes the distances. *Hint:* ```np.linalg.norm```, it should give the same result as the previous 2 combined.\n",
    "4. Implement ```evaluate``` that takes in ```y_hat``` and ```y_true``` (classifications of the blobs)and returns the accruacy of the KNN predict function."
   ]
  },
  {
   "cell_type": "code",
   "execution_count": 48,
   "metadata": {},
   "outputs": [],
   "source": [
    "X = np.array(X)\n"
   ]
  },
  {
   "cell_type": "code",
   "execution_count": 74,
   "metadata": {
    "deletable": false,
    "nbgrader": {
     "cell_type": "code",
     "checksum": "e6eba58814ca969acded4c8e864a1a31",
     "grade": false,
     "grade_id": "cell-27e834b5fd98d317",
     "locked": false,
     "schema_version": 3,
     "solution": true,
     "task": false
    }
   },
   "outputs": [],
   "source": [
    "# 3 points\n",
    "\n",
    "#implement square diff\n",
    "# your code here\n",
    "\n",
    "def square_diff(v1, v2):\n",
    "    return (v1-v2)**2"
   ]
  },
  {
   "cell_type": "code",
   "execution_count": 75,
   "metadata": {
    "deletable": false,
    "editable": false,
    "nbgrader": {
     "cell_type": "code",
     "checksum": "c03c598b4ea1e01a4fcd6f65b64d443b",
     "grade": true,
     "grade_id": "cell-92c19fb2ba085e9b",
     "locked": true,
     "points": 2,
     "schema_version": 3,
     "solution": false,
     "task": false
    }
   },
   "outputs": [],
   "source": [
    "\n",
    "assert square_diff(X[0],X[1]).shape==(2,) \n",
    "\n",
    "\n",
    "assert square_diff(X[0],X[0])[0]== 0\n",
    "assert square_diff(X[0],X[0])[1]== 0 \n",
    "\n",
    "assert abs(square_diff(X[0],X[1])[0] - 5.06) < 0.05\n",
    "assert abs(square_diff(X[0],X[1])[1]-  27.80) < 0.05\n",
    "\n",
    "\n",
    "assert abs(square_diff(X[0],X[100])[0] - 2.03) < 0.05\n",
    "assert abs(square_diff(X[0],X[100])[1]-  41.96) < 0.05\n",
    "\n",
    "\n",
    "\n",
    "assert abs(square_diff(X[200],X[256])[0]- 3.30 ) < 0.05\n",
    "assert abs(square_diff(X[200],X[256])[1]- 0.09 ) < 0.05"
   ]
  },
  {
   "cell_type": "code",
   "execution_count": 68,
   "metadata": {},
   "outputs": [
    {
     "output_type": "execute_result",
     "data": {
      "text/plain": [
       "array([ 5.06481748, 27.80731173])"
      ]
     },
     "metadata": {},
     "execution_count": 68
    }
   ],
   "source": [
    "square_diff(X[0],X[1])"
   ]
  },
  {
   "cell_type": "code",
   "execution_count": 76,
   "metadata": {
    "deletable": false,
    "nbgrader": {
     "cell_type": "code",
     "checksum": "1ad69ff850a7e52cc598244c95c8058b",
     "grade": false,
     "grade_id": "cell-cbf4f1427fcd1d26",
     "locked": false,
     "schema_version": 3,
     "solution": true,
     "task": false
    }
   },
   "outputs": [],
   "source": [
    "# 2 points\n",
    "#implement root sum squares\n",
    "#your code here\n",
    "def root_sum_squared(v1):\n",
    "    return np.sqrt(np.sum(v1))"
   ]
  },
  {
   "cell_type": "code",
   "execution_count": 77,
   "metadata": {
    "deletable": false,
    "editable": false,
    "nbgrader": {
     "cell_type": "code",
     "checksum": "c2d640f95ee4aac77d38404414a2d30d",
     "grade": true,
     "grade_id": "cell-01a7f48a8b161c27",
     "locked": true,
     "points": 2,
     "schema_version": 3,
     "solution": false,
     "task": false
    }
   },
   "outputs": [],
   "source": [
    "v1 = root_sum_squared(square_diff(X[0],X[0]))\n",
    "v2 = root_sum_squared(square_diff(X[0],X[1]))\n",
    "v3 = root_sum_squared(square_diff(X[0],X[100]))\n",
    "v4 = root_sum_squared(square_diff(X[200],X[256]))\n",
    "\n",
    "\n",
    "assert v1 == 0\n",
    "assert abs( v2 - 5.73) < 0.05\n",
    "assert abs( v3 - 6.63) < 0.05\n",
    "assert abs( v4 - 1.84) < 0.05"
   ]
  },
  {
   "cell_type": "code",
   "execution_count": 91,
   "metadata": {
    "deletable": false,
    "nbgrader": {
     "cell_type": "code",
     "checksum": "6e215912d25af7afeaddb9acc3ba55ff",
     "grade": false,
     "grade_id": "cell-2131fe84f821d418",
     "locked": false,
     "schema_version": 3,
     "solution": true,
     "task": false
    }
   },
   "outputs": [],
   "source": [
    "def euclidean_distances(v1, v2):\n",
    "    return np.linalg.norm(v1 - v2)"
   ]
  },
  {
   "cell_type": "code",
   "execution_count": 92,
   "metadata": {
    "deletable": false,
    "editable": false,
    "nbgrader": {
     "cell_type": "code",
     "checksum": "ebf63729157400ae7a26c7ded48a3969",
     "grade": true,
     "grade_id": "cell-f7fd592ea2ab1636",
     "locked": true,
     "points": 1,
     "schema_version": 3,
     "solution": false,
     "task": false
    }
   },
   "outputs": [],
   "source": [
    "v1 = euclidean_distances(X[0],X[0])\n",
    "v2 = euclidean_distances(X[0],X[1])\n",
    "v3 = euclidean_distances(X[0],X[100])\n",
    "v4 = euclidean_distances(X[200],X[256])\n",
    "\n",
    "\n",
    "assert v1 == 0\n",
    "assert abs( v2 - 5.73) < 0.05\n",
    "assert abs( v3 - 6.63) < 0.05\n",
    "assert abs( v4 - 1.84) < 0.05"
   ]
  },
  {
   "cell_type": "code",
   "execution_count": 95,
   "metadata": {
    "deletable": false,
    "nbgrader": {
     "cell_type": "code",
     "checksum": "45a9daafc6149b7bbfbee2d14d5197b8",
     "grade": false,
     "grade_id": "cell-bc494e2f78037311",
     "locked": false,
     "schema_version": 3,
     "solution": true,
     "task": false
    }
   },
   "outputs": [],
   "source": [
    "# 3 points\n",
    "\n",
    "#implement the evaluate function RETURN THE A VALUE BETWEEN 0 AND 1\n",
    "#your code here\n",
    "#This cell will be evaluated later on\n",
    "def evaluate(y, y_p):\n",
    "    return np.count_nonzero( (y - y_p) == 0) / y.shape[0]"
   ]
  },
  {
   "cell_type": "code",
   "execution_count": 96,
   "metadata": {
    "deletable": false,
    "editable": false,
    "nbgrader": {
     "cell_type": "code",
     "checksum": "54139e567c40bfba6f52f91a27f1017e",
     "grade": true,
     "grade_id": "cell-3a26a89ec63b9f03",
     "locked": true,
     "points": 3,
     "schema_version": 3,
     "solution": false,
     "task": false
    }
   },
   "outputs": [],
   "source": [
    "a = np.array([1,2,3])\n",
    "b = np.array([1,2,3])\n",
    "c = np.array([1,2,2])\n",
    "d = np.array([2,2,2])\n",
    "\n",
    "assert evaluate(a,b) == 1\n",
    "assert 0.66 <= evaluate(a,c) <= 0.667\n",
    "assert 0.33 <= evaluate(a,d) <= 0.34"
   ]
  },
  {
   "cell_type": "markdown",
   "metadata": {
    "deletable": false,
    "editable": false,
    "nbgrader": {
     "cell_type": "markdown",
     "checksum": "0c7b921f900acb9e13981541b544616f",
     "grade": false,
     "grade_id": "cell-fb8ff2ee616969be",
     "locked": true,
     "schema_version": 3,
     "solution": false,
     "task": false
    }
   },
   "source": [
    "### Step 3: Create the KNN prediction function\n",
    "The KNN prediction function as the following steps\n",
    "1. For each row in ```X``` calcuate the euclidian distance of each row to the target vector.\n",
    "2. Combine the distances array with the target classifers array y.\n",
    "3. Sort the array and select the k lowest pairs and get the categorical values of the k nearest and put in a list\n",
    "4. Count the highest votes and update the highest voted class to y_hat"
   ]
  },
  {
   "cell_type": "code",
   "execution_count": 156,
   "metadata": {
    "deletable": false,
    "nbgrader": {
     "cell_type": "code",
     "checksum": "383730d5a3683d9597e56b7502aca3b7",
     "grade": false,
     "grade_id": "cell-7ba0bb14b977e199",
     "locked": false,
     "schema_version": 3,
     "solution": true,
     "task": false
    }
   },
   "outputs": [],
   "source": [
    "# 10 points\n",
    "#Implement the KNN function that predicts the class for the test values using the train values\n",
    "#your code here\n",
    "#OUTPUT MUST BE A NP ARRAY\n",
    "\n",
    "\n",
    "def predict(X_test, X_train, y_train, k):\n",
    "    \n",
    "    from collections import Counter\n",
    "    \n",
    "    y_hat_test = []\n",
    "\n",
    "    for test_point in X_test:\n",
    "        distances = []\n",
    "\n",
    "        for train_point in X_train:\n",
    "            distance = euclidean_distances(test_point, train_point)\n",
    "            distances.append(distance)\n",
    "        \n",
    "        \n",
    "        df_dists = pd.DataFrame(data=distances, columns=['dist'], \n",
    "                                index=y_train)\n",
    "        \n",
    "        \n",
    "        df_nn = df_dists.sort_values(by=['dist'], axis=0)[:k]\n",
    "\n",
    "        \n",
    "        counter = Counter(y_train[df_nn.index])\n",
    "\n",
    "        \n",
    "        prediction = counter.most_common()[0][0]\n",
    "        \n",
    "        \n",
    "        y_hat_test.append(prediction)\n",
    "        \n",
    "    return y_hat_test"
   ]
  },
  {
   "cell_type": "code",
   "execution_count": 153,
   "metadata": {
    "deletable": false,
    "nbgrader": {
     "cell_type": "code",
     "checksum": "e0bc1e588197bcba74522596620eb3d8",
     "grade": false,
     "grade_id": "cell-a1e79c56a53904bb",
     "locked": false,
     "schema_version": 3,
     "solution": true,
     "task": false
    }
   },
   "outputs": [],
   "source": [
    "#1 point\n",
    "from sklearn.model_selection import train_test_split\n",
    "#tested with random state 0\n",
    "#create the train test split test_size 0.2\n",
    "x_train, x_test, y_train, y_test = train_test_split(X, Y, test_size = 0.2, random_state = 0)"
   ]
  },
  {
   "cell_type": "code",
   "execution_count": 154,
   "metadata": {
    "deletable": false,
    "editable": false,
    "nbgrader": {
     "cell_type": "code",
     "checksum": "2366e72e477e0b2192eb055b8d29183c",
     "grade": true,
     "grade_id": "cell-5dfe5f051e3312b3",
     "locked": true,
     "points": 1,
     "schema_version": 3,
     "solution": false,
     "task": false
    }
   },
   "outputs": [],
   "source": [
    "assert x_train.shape == (240,2)\n",
    "assert x_test.shape == (60,2)\n",
    "assert y_train.shape == (240,)\n",
    "assert y_test.shape == (60,)"
   ]
  },
  {
   "cell_type": "code",
   "execution_count": 169,
   "metadata": {},
   "outputs": [],
   "source": [
    "predictions = predict(x_test,x_train, y_train, k=3)\n",
    "predictions = np.array(predictions)"
   ]
  },
  {
   "cell_type": "code",
   "execution_count": 172,
   "metadata": {
    "deletable": false,
    "editable": false,
    "nbgrader": {
     "cell_type": "code",
     "checksum": "d709e28a5459a0a1f24d3772e2b4a44f",
     "grade": true,
     "grade_id": "cell-5b526707d4daab2c",
     "locked": true,
     "points": 10,
     "schema_version": 3,
     "solution": false,
     "task": false
    },
    "tags": []
   },
   "outputs": [
    {
     "output_type": "error",
     "ename": "AssertionError",
     "evalue": "",
     "traceback": [
      "\u001b[1;31m---------------------------------------------------------------------------\u001b[0m",
      "\u001b[1;31mAssertionError\u001b[0m                            Traceback (most recent call last)",
      "\u001b[1;32m<ipython-input-172-f025775a8ea3>\u001b[0m in \u001b[0;36m<module>\u001b[1;34m\u001b[0m\n\u001b[0;32m      1\u001b[0m \u001b[1;32massert\u001b[0m \u001b[0mpredictions\u001b[0m\u001b[1;33m.\u001b[0m\u001b[0mshape\u001b[0m \u001b[1;33m==\u001b[0m \u001b[1;33m(\u001b[0m\u001b[1;36m60\u001b[0m\u001b[1;33m,\u001b[0m\u001b[1;33m)\u001b[0m\u001b[1;33m\u001b[0m\u001b[1;33m\u001b[0m\u001b[0m\n\u001b[1;32m----> 2\u001b[1;33m \u001b[1;32massert\u001b[0m \u001b[0mevaluate\u001b[0m\u001b[1;33m(\u001b[0m\u001b[0mpredictions\u001b[0m\u001b[1;33m,\u001b[0m \u001b[0my_test\u001b[0m\u001b[1;33m)\u001b[0m \u001b[1;33m>=\u001b[0m \u001b[1;36m0.95\u001b[0m\u001b[1;33m\u001b[0m\u001b[1;33m\u001b[0m\u001b[0m\n\u001b[0m",
      "\u001b[1;31mAssertionError\u001b[0m: "
     ]
    }
   ],
   "source": [
    "\n",
    "assert predictions.shape == (60,)\n",
    "assert evaluate(predictions, y_test) >= 0.95\n"
   ]
  },
  {
   "cell_type": "code",
   "execution_count": 173,
   "metadata": {
    "deletable": false,
    "editable": false,
    "nbgrader": {
     "cell_type": "code",
     "checksum": "39a7ef4238c63c31b6d185bcc0b678bb",
     "grade": true,
     "grade_id": "cell-3339f6c2bcee7370",
     "locked": true,
     "points": 1,
     "schema_version": 3,
     "solution": false,
     "task": false
    }
   },
   "outputs": [
    {
     "output_type": "error",
     "ename": "AttributeError",
     "evalue": "'list' object has no attribute 'shape'",
     "traceback": [
      "\u001b[1;31m---------------------------------------------------------------------------\u001b[0m",
      "\u001b[1;31mAttributeError\u001b[0m                            Traceback (most recent call last)",
      "\u001b[1;32m<ipython-input-173-d7079df02917>\u001b[0m in \u001b[0;36m<module>\u001b[1;34m\u001b[0m\n\u001b[0;32m      1\u001b[0m \u001b[1;31m# Extra point\u001b[0m\u001b[1;33m\u001b[0m\u001b[1;33m\u001b[0m\u001b[1;33m\u001b[0m\u001b[0m\n\u001b[0;32m      2\u001b[0m \u001b[0mpredictions\u001b[0m \u001b[1;33m=\u001b[0m \u001b[0mpredict\u001b[0m\u001b[1;33m(\u001b[0m\u001b[0mx_test\u001b[0m\u001b[1;33m,\u001b[0m\u001b[0mx_train\u001b[0m\u001b[1;33m,\u001b[0m \u001b[0my_train\u001b[0m\u001b[1;33m,\u001b[0m \u001b[0mk\u001b[0m\u001b[1;33m=\u001b[0m\u001b[1;36m2\u001b[0m\u001b[1;33m)\u001b[0m\u001b[1;33m\u001b[0m\u001b[1;33m\u001b[0m\u001b[0m\n\u001b[1;32m----> 3\u001b[1;33m \u001b[1;32massert\u001b[0m \u001b[0mpredictions\u001b[0m\u001b[1;33m.\u001b[0m\u001b[0mshape\u001b[0m \u001b[1;33m==\u001b[0m \u001b[1;33m(\u001b[0m\u001b[1;36m60\u001b[0m\u001b[1;33m,\u001b[0m\u001b[1;33m)\u001b[0m\u001b[1;33m\u001b[0m\u001b[1;33m\u001b[0m\u001b[0m\n\u001b[0m\u001b[0;32m      4\u001b[0m \u001b[1;32massert\u001b[0m \u001b[0mevaluate\u001b[0m\u001b[1;33m(\u001b[0m\u001b[0mpredictions\u001b[0m\u001b[1;33m,\u001b[0m \u001b[0my_test\u001b[0m\u001b[1;33m)\u001b[0m \u001b[1;33m>=\u001b[0m \u001b[1;36m0.95\u001b[0m\u001b[1;33m\u001b[0m\u001b[1;33m\u001b[0m\u001b[0m\n",
      "\u001b[1;31mAttributeError\u001b[0m: 'list' object has no attribute 'shape'"
     ]
    }
   ],
   "source": [
    "# Extra point\n",
    "predictions = predict(x_test,x_train, y_train, k=2)\n",
    "assert predictions.shape == (60,)\n",
    "assert evaluate(predictions, y_test) >= 0.95\n"
   ]
  },
  {
   "cell_type": "code",
   "execution_count": 176,
   "metadata": {},
   "outputs": [
    {
     "output_type": "error",
     "ename": "AttributeError",
     "evalue": "'list' object has no attribute 'shape'",
     "traceback": [
      "\u001b[1;31m---------------------------------------------------------------------------\u001b[0m",
      "\u001b[1;31mAttributeError\u001b[0m                            Traceback (most recent call last)",
      "\u001b[1;32m<ipython-input-176-3cd971b6e308>\u001b[0m in \u001b[0;36m<module>\u001b[1;34m\u001b[0m\n\u001b[1;32m----> 1\u001b[1;33m \u001b[0mprint\u001b[0m\u001b[1;33m(\u001b[0m\u001b[1;34m'Accuracy {:0.2f}%'\u001b[0m\u001b[1;33m.\u001b[0m\u001b[0mformat\u001b[0m\u001b[1;33m(\u001b[0m \u001b[0mevaluate\u001b[0m\u001b[1;33m(\u001b[0m\u001b[0mpredictions\u001b[0m\u001b[1;33m,\u001b[0m \u001b[0my_test\u001b[0m\u001b[1;33m)\u001b[0m\u001b[1;33m*\u001b[0m\u001b[1;36m100\u001b[0m \u001b[1;33m)\u001b[0m\u001b[1;33m)\u001b[0m\u001b[1;33m\u001b[0m\u001b[1;33m\u001b[0m\u001b[0m\n\u001b[0m",
      "\u001b[1;32m<ipython-input-95-3ab60bda7509>\u001b[0m in \u001b[0;36mevaluate\u001b[1;34m(y, y_p)\u001b[0m\n\u001b[0;32m      5\u001b[0m \u001b[1;31m#This cell will be evaluated later on\u001b[0m\u001b[1;33m\u001b[0m\u001b[1;33m\u001b[0m\u001b[1;33m\u001b[0m\u001b[0m\n\u001b[0;32m      6\u001b[0m \u001b[1;32mdef\u001b[0m \u001b[0mevaluate\u001b[0m\u001b[1;33m(\u001b[0m\u001b[0my\u001b[0m\u001b[1;33m,\u001b[0m \u001b[0my_p\u001b[0m\u001b[1;33m)\u001b[0m\u001b[1;33m:\u001b[0m\u001b[1;33m\u001b[0m\u001b[1;33m\u001b[0m\u001b[0m\n\u001b[1;32m----> 7\u001b[1;33m     \u001b[1;32mreturn\u001b[0m \u001b[0mnp\u001b[0m\u001b[1;33m.\u001b[0m\u001b[0mcount_nonzero\u001b[0m\u001b[1;33m(\u001b[0m \u001b[1;33m(\u001b[0m\u001b[0my\u001b[0m \u001b[1;33m-\u001b[0m \u001b[0my_p\u001b[0m\u001b[1;33m)\u001b[0m \u001b[1;33m==\u001b[0m \u001b[1;36m0\u001b[0m\u001b[1;33m)\u001b[0m \u001b[1;33m/\u001b[0m \u001b[0my\u001b[0m\u001b[1;33m.\u001b[0m\u001b[0mshape\u001b[0m\u001b[1;33m[\u001b[0m\u001b[1;36m0\u001b[0m\u001b[1;33m]\u001b[0m\u001b[1;33m\u001b[0m\u001b[1;33m\u001b[0m\u001b[0m\n\u001b[0m",
      "\u001b[1;31mAttributeError\u001b[0m: 'list' object has no attribute 'shape'"
     ]
    }
   ],
   "source": [
    "print('Accuracy {:0.2f}%'.format( evaluate(predictions, y_test)*100 ))"
   ]
  },
  {
   "cell_type": "code",
   "execution_count": null,
   "metadata": {},
   "outputs": [],
   "source": []
  }
 ],
 "metadata": {
  "kernelspec": {
   "name": "python385jvsc74a57bd0d90068d4af1695f7f29da3e0d69c645fb50c3d97a4d02163204725620501e360",
   "display_name": "Python 3.8.5 64-bit (conda)"
  },
  "language_info": {
   "codemirror_mode": {
    "name": "ipython",
    "version": 3
   },
   "file_extension": ".py",
   "mimetype": "text/x-python",
   "name": "python",
   "nbconvert_exporter": "python",
   "pygments_lexer": "ipython3",
   "version": "3.8.5"
  }
 },
 "nbformat": 4,
 "nbformat_minor": 2
}