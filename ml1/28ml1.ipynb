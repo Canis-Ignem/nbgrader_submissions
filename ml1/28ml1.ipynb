{
  "cells": [
    {
      "cell_type": "markdown",
      "source": "<div style=\"background:#222222; color:#ffffff; padding:20px\">\n<h1 align=\"center\">Guided ML With The Iris Dataset</h1>\n\n<h2 align=\"center\" tyle=\"color:#01ff84\" >Learning type | Activity type | Objective |</h2>\n<h2 align=\"center\">| Supervised | Multiclass classification | Identify a flower's class |</h2>\n\n\n<div>",
      "metadata": {
        "deletable": false,
        "editable": false,
        "nbgrader": {
          "cell_type": "markdown",
          "checksum": "425b290b3300794b0c51490054efb061",
          "grade": false,
          "grade_id": "cell-d16f9036bd325625",
          "locked": true,
          "schema_version": 3,
          "solution": false,
          "task": false
        },
        "cell_id": "00000-b53e8e3d-63ec-4458-9681-2a28382c8595",
        "deepnote_cell_type": "markdown"
      }
    },
    {
      "cell_type": "markdown",
      "source": "Contents:\n\n1. Loading the data\n2. Setting up supervised learning problem (selecting features)\n3. Creating a first model\n    - Creating train and test datasets\n    - Normalizing train and test\n    - Fitting and predicting\n4. Evaluate the frist model predictions\n5. Crossvalidation of the model\n6. Creating an end to end ML pipeline\n    - Train/Test Split\n    - Normalize\n    - Crossvalidations\n    - Model\n    - fitting and predicting",
      "metadata": {
        "deletable": false,
        "editable": false,
        "nbgrader": {
          "cell_type": "markdown",
          "checksum": "829109418410f732b20fa5260845eae2",
          "grade": false,
          "grade_id": "cell-c273e6623fe661ab",
          "locked": true,
          "schema_version": 3,
          "solution": false,
          "task": false
        },
        "cell_id": "00001-a8f846a9-4fc2-4ec3-8a55-907a6f2d2e86",
        "deepnote_cell_type": "markdown"
      }
    },
    {
      "cell_type": "markdown",
      "source": "## Instructions with NBGrader removed\n\nComplete the cells beginning with `# YOUR CODE HERE` and run the subsequent cells to check your code.",
      "metadata": {
        "deletable": false,
        "editable": false,
        "nbgrader": {
          "cell_type": "markdown",
          "checksum": "8d08b8142820842aefcd5c956a3206ac",
          "grade": false,
          "grade_id": "cell-b9b45906f7798060",
          "locked": true,
          "schema_version": 3,
          "solution": false,
          "task": false
        },
        "cell_id": "00002-d8e244ef-bcfc-4dac-9229-ba2ed4e17e3b",
        "deepnote_cell_type": "markdown"
      }
    },
    {
      "cell_type": "markdown",
      "source": "\nContents:\n1. Loading the data\n2. Setting up supervised learning problem (selecting features)\n3. Creating a first model\n    - Creating train and test datasets\n    - Normalizing train and test\n    - Fitting and predicting\n4. Evaluate the frist model predictions\n5. Crossvalidation of the model\n6. Creating an end to end ML pipeline\n    - Train/Test Split\n    - Normalize\n    - Crossvalidations\n    - Model\n    - fitting and predicting",
      "metadata": {
        "deletable": false,
        "editable": false,
        "nbgrader": {
          "cell_type": "markdown",
          "checksum": "f6f9da48ae5f9afe18e5f66e254f2c8e",
          "grade": false,
          "grade_id": "cell-ecfedf24107f7412",
          "locked": true,
          "schema_version": 3,
          "solution": false,
          "task": false
        },
        "cell_id": "00003-88d4e396-e19e-4a83-af24-cd4805012ac0",
        "deepnote_cell_type": "markdown"
      }
    },
    {
      "cell_type": "markdown",
      "source": "## About the dataset\n\n[Iris](https://archive.ics.uci.edu/ml/datasets/iris) is a well-known multiclass dataset. It contains 3 classes of flowers with 50 examples each. There are a total of 4 features for each flower.\n\n![](./classic-datasets/images/Iris-versicolor-21_1.jpg)",
      "metadata": {
        "deletable": false,
        "editable": false,
        "nbgrader": {
          "cell_type": "markdown",
          "checksum": "d550a34573fd8f474e045823d568a379",
          "grade": false,
          "grade_id": "cell-d265ce864af311cc",
          "locked": true,
          "schema_version": 3,
          "solution": false,
          "task": false
        },
        "cell_id": "00004-4ad5d0d6-ada3-4a7b-a47d-5e0c9bce0766",
        "deepnote_cell_type": "markdown"
      }
    },
    {
      "cell_type": "markdown",
      "source": "## Package setups\n\n1. Run the following two cells to initalize the required libraries. ",
      "metadata": {
        "deletable": false,
        "editable": false,
        "nbgrader": {
          "cell_type": "markdown",
          "checksum": "87b95fe75781b483f205b07196ee8d7f",
          "grade": false,
          "grade_id": "cell-970959de1583c6aa",
          "locked": true,
          "schema_version": 3,
          "solution": false,
          "task": false
        },
        "cell_id": "00005-e5a5438f-8638-4c49-b0f6-68d08cab1509",
        "deepnote_cell_type": "markdown"
      }
    },
    {
      "cell_type": "code",
      "metadata": {
        "cell_id": "00006-f4f8d771-6718-4db4-9fd7-b33591bae675",
        "deepnote_to_be_reexecuted": false,
        "source_hash": "1e64b7fc",
        "execution_start": 1618841163124,
        "execution_millis": 14,
        "deepnote_cell_type": "code"
      },
      "source": "#to debug package errors\nimport sys\nsys.path\nsys.executable",
      "outputs": [
        {
          "output_type": "execute_result",
          "execution_count": 1,
          "data": {
            "text/plain": "'/usr/local/bin/python'"
          },
          "metadata": {}
        }
      ],
      "execution_count": null
    },
    {
      "cell_type": "code",
      "metadata": {
        "cell_id": "00007-023c5e83-07ef-44c0-94b1-910b598eaa23",
        "deepnote_to_be_reexecuted": false,
        "source_hash": "ce817fe7",
        "execution_millis": 1,
        "execution_start": 1618848811560,
        "deepnote_cell_type": "code"
      },
      "source": "# Import needed packages\n# You may add or remove packages should you need them\nimport numpy as np\nimport matplotlib\nimport matplotlib.pyplot as plt\nimport seaborn as sns\nimport pandas as pd\nimport sklearn\nfrom sklearn import datasets\nfrom sklearn import model_selection\nfrom sklearn.preprocessing import StandardScaler\nfrom sklearn import preprocessing\nfrom sklearn.linear_model import LogisticRegression\nfrom sklearn.model_selection import train_test_split, cross_validate\nfrom sklearn.pipeline import make_pipeline\n\n# Display plots inline and change plot resolution to retina\n%matplotlib inline\n%config InlineBackend.figure_format = 'retina'\n# Set Seaborn aesthetic parameters to defaults\nsns.set()",
      "outputs": [],
      "execution_count": null
    },
    {
      "cell_type": "code",
      "metadata": {
        "cell_id": "00008-943c9a91-daab-43d7-ba6f-fc13bfd2b248",
        "deepnote_to_be_reexecuted": false,
        "source_hash": "b623e53d",
        "execution_start": 1618841225211,
        "execution_millis": 0,
        "deepnote_cell_type": "code"
      },
      "source": "",
      "outputs": [],
      "execution_count": null
    },
    {
      "cell_type": "markdown",
      "source": "## Step 1: Loading the data\n\n1. Load the iris dataset using ```datasets.load_iris()```\n2. Investigate the data structure with ```.keys()```\n3. Construct a dataframe from the dataset\n4. Create a 'target' and a 'class' column that contains the target names and values\n5. Display a random sample of the dataframe ",
      "metadata": {
        "deletable": false,
        "editable": false,
        "nbgrader": {
          "cell_type": "markdown",
          "checksum": "a339b0712c560653440a7d36ab5e8bc8",
          "grade": false,
          "grade_id": "cell-c1bf14dba6281d8f",
          "locked": true,
          "schema_version": 3,
          "solution": false,
          "task": false
        },
        "cell_id": "00009-2efc08dc-0550-4ec6-8747-9d2982a2e920",
        "deepnote_cell_type": "markdown"
      }
    },
    {
      "cell_type": "code",
      "metadata": {
        "deletable": false,
        "nbgrader": {
          "cell_type": "code",
          "checksum": "4779ca50002373e235c91b4bc239fd44",
          "grade": false,
          "grade_id": "cell-c92cca7755a29a2c",
          "locked": false,
          "schema_version": 3,
          "solution": true,
          "task": false
        },
        "cell_id": "00010-f1fa63a4-df36-4bad-a933-55e674008b8c",
        "deepnote_to_be_reexecuted": false,
        "source_hash": "b60faf9d",
        "execution_millis": 21,
        "execution_start": 1618842785532,
        "deepnote_cell_type": "code"
      },
      "source": "def load_data():\n    column_names=['sepal length','sepal width','petal length','petal width',\"E\"]\n    #iris = datasets.load_iris()\n    \n    data=pd.read_csv('/work/Strive_School/Machine_Learning_(Module_3)/Day_1_Intro_to_ML/data/iris.data',\n    names=column_names, header=None,index_col=\"E\")  \n    return data\n    \n    raise NotImplementedError()\nload_data().shape\n\n",
      "outputs": [
        {
          "output_type": "execute_result",
          "execution_count": 64,
          "data": {
            "text/plain": "(150, 4)"
          },
          "metadata": {}
        }
      ],
      "execution_count": null
    },
    {
      "cell_type": "code",
      "metadata": {
        "deletable": false,
        "editable": false,
        "nbgrader": {
          "cell_type": "code",
          "checksum": "2dff5e326550ba31c1bb6ba5d90e251e",
          "grade": true,
          "grade_id": "cell-6955aa3f0eb9b484",
          "locked": true,
          "points": 1,
          "schema_version": 3,
          "solution": false,
          "task": false
        },
        "cell_id": "00011-0dc69798-7020-4076-a163-8fd1e6b14cf5",
        "deepnote_to_be_reexecuted": false,
        "source_hash": "4a368f08",
        "execution_millis": 0,
        "execution_start": 1618842786424,
        "deepnote_cell_type": "code"
      },
      "source": "assert load_data().shape == (150,4)",
      "outputs": [],
      "execution_count": null
    },
    {
      "cell_type": "code",
      "metadata": {
        "cell_id": "00012-e8915cf6-856c-4d61-b457-67eb161bc177",
        "deepnote_to_be_reexecuted": false,
        "source_hash": "4781ea60",
        "execution_millis": 12,
        "execution_start": 1618842787361,
        "deepnote_cell_type": "code"
      },
      "source": "dataset = load_data()\nload_data().columns",
      "outputs": [
        {
          "output_type": "execute_result",
          "execution_count": 66,
          "data": {
            "text/plain": "Index(['sepal length', 'sepal width', 'petal length', 'petal width'], dtype='object')"
          },
          "metadata": {}
        }
      ],
      "execution_count": null
    },
    {
      "cell_type": "code",
      "metadata": {
        "deletable": false,
        "nbgrader": {
          "cell_type": "code",
          "checksum": "0854adf2bd82feb9c7409fcff160ea6a",
          "grade": false,
          "grade_id": "cell-054f7e75dfc37e15",
          "locked": false,
          "schema_version": 3,
          "solution": true,
          "task": false
        },
        "cell_id": "00013-35271dd8-4c87-46dc-9861-e733b91ea280",
        "deepnote_to_be_reexecuted": false,
        "source_hash": "deef51c8",
        "execution_millis": 28,
        "execution_start": 1618843698194,
        "deepnote_cell_type": "code"
      },
      "source": "def dataset_to_pandas():\n    #put the dataset into a pandas DF using the feature names as columnsç\n    #rename the column name so the dont include the '(cm)'\n    #add 2 columns one with the target and another with the target_names\n    \n    #dataset['target']=0\n    dataset[\"class\"]=np.array(dataset.index)\n\n    dataset.loc[dataset[\"class\"]==\"Iris-setosa\",\"target\"]=1\n    dataset.loc[dataset[\"class\"]=='Iris-versicolor',\"target\"]=2\n    dataset.loc[dataset[\"class\"]=='Iris-virginica',\"target\"]=3\n    return dataset\n    raise NotImplementedError()\ndataset_to_pandas()\n\n",
      "outputs": [
        {
          "output_type": "execute_result",
          "execution_count": 98,
          "data": {
            "application/vnd.deepnote.dataframe.v2+json": {
              "row_count": 150,
              "column_count": 6,
              "columns": [
                {
                  "name": "sepal length",
                  "dtype": "float64",
                  "stats": {
                    "unique_count": 35,
                    "nan_count": 0,
                    "min": "4.3",
                    "max": "7.9",
                    "histogram": [
                      {
                        "bin_start": 4.3,
                        "bin_end": 4.66,
                        "count": 9
                      },
                      {
                        "bin_start": 4.66,
                        "bin_end": 5.02,
                        "count": 23
                      },
                      {
                        "bin_start": 5.02,
                        "bin_end": 5.38,
                        "count": 14
                      },
                      {
                        "bin_start": 5.38,
                        "bin_end": 5.74,
                        "count": 27
                      },
                      {
                        "bin_start": 5.74,
                        "bin_end": 6.1,
                        "count": 16
                      },
                      {
                        "bin_start": 6.1,
                        "bin_end": 6.46,
                        "count": 26
                      },
                      {
                        "bin_start": 6.46,
                        "bin_end": 6.82,
                        "count": 18
                      },
                      {
                        "bin_start": 6.82,
                        "bin_end": 7.18,
                        "count": 6
                      },
                      {
                        "bin_start": 7.18,
                        "bin_end": 7.54,
                        "count": 5
                      },
                      {
                        "bin_start": 7.54,
                        "bin_end": 7.9,
                        "count": 6
                      }
                    ]
                  }
                },
                {
                  "name": "sepal width",
                  "dtype": "float64",
                  "stats": {
                    "unique_count": 23,
                    "nan_count": 0,
                    "min": "2.0",
                    "max": "4.4",
                    "histogram": [
                      {
                        "bin_start": 2,
                        "bin_end": 2.24,
                        "count": 4
                      },
                      {
                        "bin_start": 2.24,
                        "bin_end": 2.48,
                        "count": 7
                      },
                      {
                        "bin_start": 2.48,
                        "bin_end": 2.72,
                        "count": 22
                      },
                      {
                        "bin_start": 2.72,
                        "bin_end": 2.96,
                        "count": 24
                      },
                      {
                        "bin_start": 2.96,
                        "bin_end": 3.2,
                        "count": 38
                      },
                      {
                        "bin_start": 3.2,
                        "bin_end": 3.4400000000000004,
                        "count": 31
                      },
                      {
                        "bin_start": 3.4400000000000004,
                        "bin_end": 3.6800000000000006,
                        "count": 9
                      },
                      {
                        "bin_start": 3.6800000000000006,
                        "bin_end": 3.9200000000000004,
                        "count": 11
                      },
                      {
                        "bin_start": 3.9200000000000004,
                        "bin_end": 4.16,
                        "count": 2
                      },
                      {
                        "bin_start": 4.16,
                        "bin_end": 4.4,
                        "count": 2
                      }
                    ]
                  }
                },
                {
                  "name": "petal length",
                  "dtype": "float64",
                  "stats": {
                    "unique_count": 43,
                    "nan_count": 0,
                    "min": "1.0",
                    "max": "6.9",
                    "histogram": [
                      {
                        "bin_start": 1,
                        "bin_end": 1.59,
                        "count": 37
                      },
                      {
                        "bin_start": 1.59,
                        "bin_end": 2.18,
                        "count": 13
                      },
                      {
                        "bin_start": 2.18,
                        "bin_end": 2.7700000000000005,
                        "count": 0
                      },
                      {
                        "bin_start": 2.7700000000000005,
                        "bin_end": 3.3600000000000003,
                        "count": 3
                      },
                      {
                        "bin_start": 3.3600000000000003,
                        "bin_end": 3.95,
                        "count": 8
                      },
                      {
                        "bin_start": 3.95,
                        "bin_end": 4.540000000000001,
                        "count": 26
                      },
                      {
                        "bin_start": 4.540000000000001,
                        "bin_end": 5.130000000000001,
                        "count": 29
                      },
                      {
                        "bin_start": 5.130000000000001,
                        "bin_end": 5.720000000000001,
                        "count": 18
                      },
                      {
                        "bin_start": 5.720000000000001,
                        "bin_end": 6.3100000000000005,
                        "count": 11
                      },
                      {
                        "bin_start": 6.3100000000000005,
                        "bin_end": 6.9,
                        "count": 5
                      }
                    ]
                  }
                },
                {
                  "name": "petal width",
                  "dtype": "float64",
                  "stats": {
                    "unique_count": 22,
                    "nan_count": 0,
                    "min": "0.1",
                    "max": "2.5",
                    "histogram": [
                      {
                        "bin_start": 0.1,
                        "bin_end": 0.33999999999999997,
                        "count": 41
                      },
                      {
                        "bin_start": 0.33999999999999997,
                        "bin_end": 0.58,
                        "count": 8
                      },
                      {
                        "bin_start": 0.58,
                        "bin_end": 0.82,
                        "count": 1
                      },
                      {
                        "bin_start": 0.82,
                        "bin_end": 1.06,
                        "count": 7
                      },
                      {
                        "bin_start": 1.06,
                        "bin_end": 1.3,
                        "count": 8
                      },
                      {
                        "bin_start": 1.3,
                        "bin_end": 1.54,
                        "count": 33
                      },
                      {
                        "bin_start": 1.54,
                        "bin_end": 1.78,
                        "count": 6
                      },
                      {
                        "bin_start": 1.78,
                        "bin_end": 2.02,
                        "count": 23
                      },
                      {
                        "bin_start": 2.02,
                        "bin_end": 2.2600000000000002,
                        "count": 9
                      },
                      {
                        "bin_start": 2.2600000000000002,
                        "bin_end": 2.5,
                        "count": 14
                      }
                    ]
                  }
                },
                {
                  "name": "target",
                  "dtype": "int64",
                  "stats": {
                    "unique_count": 3,
                    "nan_count": 0,
                    "min": "1",
                    "max": "3",
                    "histogram": [
                      {
                        "bin_start": 1,
                        "bin_end": 1.2,
                        "count": 50
                      },
                      {
                        "bin_start": 1.2,
                        "bin_end": 1.4,
                        "count": 0
                      },
                      {
                        "bin_start": 1.4,
                        "bin_end": 1.6,
                        "count": 0
                      },
                      {
                        "bin_start": 1.6,
                        "bin_end": 1.8,
                        "count": 0
                      },
                      {
                        "bin_start": 1.8,
                        "bin_end": 2,
                        "count": 0
                      },
                      {
                        "bin_start": 2,
                        "bin_end": 2.2,
                        "count": 50
                      },
                      {
                        "bin_start": 2.2,
                        "bin_end": 2.4000000000000004,
                        "count": 0
                      },
                      {
                        "bin_start": 2.4000000000000004,
                        "bin_end": 2.6,
                        "count": 0
                      },
                      {
                        "bin_start": 2.6,
                        "bin_end": 2.8,
                        "count": 0
                      },
                      {
                        "bin_start": 2.8,
                        "bin_end": 3,
                        "count": 50
                      }
                    ]
                  }
                },
                {
                  "name": "class",
                  "dtype": "object",
                  "stats": {
                    "unique_count": 3,
                    "nan_count": 0,
                    "categories": [
                      {
                        "name": "Iris-setosa",
                        "count": 50
                      },
                      {
                        "name": "Iris-versicolor",
                        "count": 50
                      },
                      {
                        "name": "Iris-virginica",
                        "count": 50
                      }
                    ]
                  }
                },
                {
                  "name": "_deepnote_index_column",
                  "dtype": "object"
                }
              ],
              "rows_top": [
                {
                  "sepal length": 5.1,
                  "sepal width": 3.5,
                  "petal length": 1.4,
                  "petal width": 0.2,
                  "target": 1,
                  "class": "Iris-setosa",
                  "_deepnote_index_column": "Iris-setosa"
                },
                {
                  "sepal length": 4.9,
                  "sepal width": 3,
                  "petal length": 1.4,
                  "petal width": 0.2,
                  "target": 1,
                  "class": "Iris-setosa",
                  "_deepnote_index_column": "Iris-setosa"
                },
                {
                  "sepal length": 4.7,
                  "sepal width": 3.2,
                  "petal length": 1.3,
                  "petal width": 0.2,
                  "target": 1,
                  "class": "Iris-setosa",
                  "_deepnote_index_column": "Iris-setosa"
                },
                {
                  "sepal length": 4.6,
                  "sepal width": 3.1,
                  "petal length": 1.5,
                  "petal width": 0.2,
                  "target": 1,
                  "class": "Iris-setosa",
                  "_deepnote_index_column": "Iris-setosa"
                },
                {
                  "sepal length": 5,
                  "sepal width": 3.6,
                  "petal length": 1.4,
                  "petal width": 0.2,
                  "target": 1,
                  "class": "Iris-setosa",
                  "_deepnote_index_column": "Iris-setosa"
                },
                {
                  "sepal length": 5.4,
                  "sepal width": 3.9,
                  "petal length": 1.7,
                  "petal width": 0.4,
                  "target": 1,
                  "class": "Iris-setosa",
                  "_deepnote_index_column": "Iris-setosa"
                },
                {
                  "sepal length": 4.6,
                  "sepal width": 3.4,
                  "petal length": 1.4,
                  "petal width": 0.3,
                  "target": 1,
                  "class": "Iris-setosa",
                  "_deepnote_index_column": "Iris-setosa"
                },
                {
                  "sepal length": 5,
                  "sepal width": 3.4,
                  "petal length": 1.5,
                  "petal width": 0.2,
                  "target": 1,
                  "class": "Iris-setosa",
                  "_deepnote_index_column": "Iris-setosa"
                },
                {
                  "sepal length": 4.4,
                  "sepal width": 2.9,
                  "petal length": 1.4,
                  "petal width": 0.2,
                  "target": 1,
                  "class": "Iris-setosa",
                  "_deepnote_index_column": "Iris-setosa"
                },
                {
                  "sepal length": 4.9,
                  "sepal width": 3.1,
                  "petal length": 1.5,
                  "petal width": 0.1,
                  "target": 1,
                  "class": "Iris-setosa",
                  "_deepnote_index_column": "Iris-setosa"
                },
                {
                  "sepal length": 5.4,
                  "sepal width": 3.7,
                  "petal length": 1.5,
                  "petal width": 0.2,
                  "target": 1,
                  "class": "Iris-setosa",
                  "_deepnote_index_column": "Iris-setosa"
                },
                {
                  "sepal length": 4.8,
                  "sepal width": 3.4,
                  "petal length": 1.6,
                  "petal width": 0.2,
                  "target": 1,
                  "class": "Iris-setosa",
                  "_deepnote_index_column": "Iris-setosa"
                },
                {
                  "sepal length": 4.8,
                  "sepal width": 3,
                  "petal length": 1.4,
                  "petal width": 0.1,
                  "target": 1,
                  "class": "Iris-setosa",
                  "_deepnote_index_column": "Iris-setosa"
                },
                {
                  "sepal length": 4.3,
                  "sepal width": 3,
                  "petal length": 1.1,
                  "petal width": 0.1,
                  "target": 1,
                  "class": "Iris-setosa",
                  "_deepnote_index_column": "Iris-setosa"
                },
                {
                  "sepal length": 5.8,
                  "sepal width": 4,
                  "petal length": 1.2,
                  "petal width": 0.2,
                  "target": 1,
                  "class": "Iris-setosa",
                  "_deepnote_index_column": "Iris-setosa"
                },
                {
                  "sepal length": 5.7,
                  "sepal width": 4.4,
                  "petal length": 1.5,
                  "petal width": 0.4,
                  "target": 1,
                  "class": "Iris-setosa",
                  "_deepnote_index_column": "Iris-setosa"
                },
                {
                  "sepal length": 5.4,
                  "sepal width": 3.9,
                  "petal length": 1.3,
                  "petal width": 0.4,
                  "target": 1,
                  "class": "Iris-setosa",
                  "_deepnote_index_column": "Iris-setosa"
                },
                {
                  "sepal length": 5.1,
                  "sepal width": 3.5,
                  "petal length": 1.4,
                  "petal width": 0.3,
                  "target": 1,
                  "class": "Iris-setosa",
                  "_deepnote_index_column": "Iris-setosa"
                },
                {
                  "sepal length": 5.7,
                  "sepal width": 3.8,
                  "petal length": 1.7,
                  "petal width": 0.3,
                  "target": 1,
                  "class": "Iris-setosa",
                  "_deepnote_index_column": "Iris-setosa"
                },
                {
                  "sepal length": 5.1,
                  "sepal width": 3.8,
                  "petal length": 1.5,
                  "petal width": 0.3,
                  "target": 1,
                  "class": "Iris-setosa",
                  "_deepnote_index_column": "Iris-setosa"
                },
                {
                  "sepal length": 5.4,
                  "sepal width": 3.4,
                  "petal length": 1.7,
                  "petal width": 0.2,
                  "target": 1,
                  "class": "Iris-setosa",
                  "_deepnote_index_column": "Iris-setosa"
                },
                {
                  "sepal length": 5.1,
                  "sepal width": 3.7,
                  "petal length": 1.5,
                  "petal width": 0.4,
                  "target": 1,
                  "class": "Iris-setosa",
                  "_deepnote_index_column": "Iris-setosa"
                },
                {
                  "sepal length": 4.6,
                  "sepal width": 3.6,
                  "petal length": 1,
                  "petal width": 0.2,
                  "target": 1,
                  "class": "Iris-setosa",
                  "_deepnote_index_column": "Iris-setosa"
                },
                {
                  "sepal length": 5.1,
                  "sepal width": 3.3,
                  "petal length": 1.7,
                  "petal width": 0.5,
                  "target": 1,
                  "class": "Iris-setosa",
                  "_deepnote_index_column": "Iris-setosa"
                },
                {
                  "sepal length": 4.8,
                  "sepal width": 3.4,
                  "petal length": 1.9,
                  "petal width": 0.2,
                  "target": 1,
                  "class": "Iris-setosa",
                  "_deepnote_index_column": "Iris-setosa"
                },
                {
                  "sepal length": 5,
                  "sepal width": 3,
                  "petal length": 1.6,
                  "petal width": 0.2,
                  "target": 1,
                  "class": "Iris-setosa",
                  "_deepnote_index_column": "Iris-setosa"
                },
                {
                  "sepal length": 5,
                  "sepal width": 3.4,
                  "petal length": 1.6,
                  "petal width": 0.4,
                  "target": 1,
                  "class": "Iris-setosa",
                  "_deepnote_index_column": "Iris-setosa"
                },
                {
                  "sepal length": 5.2,
                  "sepal width": 3.5,
                  "petal length": 1.5,
                  "petal width": 0.2,
                  "target": 1,
                  "class": "Iris-setosa",
                  "_deepnote_index_column": "Iris-setosa"
                },
                {
                  "sepal length": 5.2,
                  "sepal width": 3.4,
                  "petal length": 1.4,
                  "petal width": 0.2,
                  "target": 1,
                  "class": "Iris-setosa",
                  "_deepnote_index_column": "Iris-setosa"
                },
                {
                  "sepal length": 4.7,
                  "sepal width": 3.2,
                  "petal length": 1.6,
                  "petal width": 0.2,
                  "target": 1,
                  "class": "Iris-setosa",
                  "_deepnote_index_column": "Iris-setosa"
                },
                {
                  "sepal length": 4.8,
                  "sepal width": 3.1,
                  "petal length": 1.6,
                  "petal width": 0.2,
                  "target": 1,
                  "class": "Iris-setosa",
                  "_deepnote_index_column": "Iris-setosa"
                },
                {
                  "sepal length": 5.4,
                  "sepal width": 3.4,
                  "petal length": 1.5,
                  "petal width": 0.4,
                  "target": 1,
                  "class": "Iris-setosa",
                  "_deepnote_index_column": "Iris-setosa"
                },
                {
                  "sepal length": 5.2,
                  "sepal width": 4.1,
                  "petal length": 1.5,
                  "petal width": 0.1,
                  "target": 1,
                  "class": "Iris-setosa",
                  "_deepnote_index_column": "Iris-setosa"
                },
                {
                  "sepal length": 5.5,
                  "sepal width": 4.2,
                  "petal length": 1.4,
                  "petal width": 0.2,
                  "target": 1,
                  "class": "Iris-setosa",
                  "_deepnote_index_column": "Iris-setosa"
                },
                {
                  "sepal length": 4.9,
                  "sepal width": 3.1,
                  "petal length": 1.5,
                  "petal width": 0.1,
                  "target": 1,
                  "class": "Iris-setosa",
                  "_deepnote_index_column": "Iris-setosa"
                },
                {
                  "sepal length": 5,
                  "sepal width": 3.2,
                  "petal length": 1.2,
                  "petal width": 0.2,
                  "target": 1,
                  "class": "Iris-setosa",
                  "_deepnote_index_column": "Iris-setosa"
                },
                {
                  "sepal length": 5.5,
                  "sepal width": 3.5,
                  "petal length": 1.3,
                  "petal width": 0.2,
                  "target": 1,
                  "class": "Iris-setosa",
                  "_deepnote_index_column": "Iris-setosa"
                },
                {
                  "sepal length": 4.9,
                  "sepal width": 3.1,
                  "petal length": 1.5,
                  "petal width": 0.1,
                  "target": 1,
                  "class": "Iris-setosa",
                  "_deepnote_index_column": "Iris-setosa"
                },
                {
                  "sepal length": 4.4,
                  "sepal width": 3,
                  "petal length": 1.3,
                  "petal width": 0.2,
                  "target": 1,
                  "class": "Iris-setosa",
                  "_deepnote_index_column": "Iris-setosa"
                },
                {
                  "sepal length": 5.1,
                  "sepal width": 3.4,
                  "petal length": 1.5,
                  "petal width": 0.2,
                  "target": 1,
                  "class": "Iris-setosa",
                  "_deepnote_index_column": "Iris-setosa"
                },
                {
                  "sepal length": 5,
                  "sepal width": 3.5,
                  "petal length": 1.3,
                  "petal width": 0.3,
                  "target": 1,
                  "class": "Iris-setosa",
                  "_deepnote_index_column": "Iris-setosa"
                },
                {
                  "sepal length": 4.5,
                  "sepal width": 2.3,
                  "petal length": 1.3,
                  "petal width": 0.3,
                  "target": 1,
                  "class": "Iris-setosa",
                  "_deepnote_index_column": "Iris-setosa"
                },
                {
                  "sepal length": 4.4,
                  "sepal width": 3.2,
                  "petal length": 1.3,
                  "petal width": 0.2,
                  "target": 1,
                  "class": "Iris-setosa",
                  "_deepnote_index_column": "Iris-setosa"
                },
                {
                  "sepal length": 5,
                  "sepal width": 3.5,
                  "petal length": 1.6,
                  "petal width": 0.6,
                  "target": 1,
                  "class": "Iris-setosa",
                  "_deepnote_index_column": "Iris-setosa"
                },
                {
                  "sepal length": 5.1,
                  "sepal width": 3.8,
                  "petal length": 1.9,
                  "petal width": 0.4,
                  "target": 1,
                  "class": "Iris-setosa",
                  "_deepnote_index_column": "Iris-setosa"
                },
                {
                  "sepal length": 4.8,
                  "sepal width": 3,
                  "petal length": 1.4,
                  "petal width": 0.3,
                  "target": 1,
                  "class": "Iris-setosa",
                  "_deepnote_index_column": "Iris-setosa"
                },
                {
                  "sepal length": 5.1,
                  "sepal width": 3.8,
                  "petal length": 1.6,
                  "petal width": 0.2,
                  "target": 1,
                  "class": "Iris-setosa",
                  "_deepnote_index_column": "Iris-setosa"
                },
                {
                  "sepal length": 4.6,
                  "sepal width": 3.2,
                  "petal length": 1.4,
                  "petal width": 0.2,
                  "target": 1,
                  "class": "Iris-setosa",
                  "_deepnote_index_column": "Iris-setosa"
                },
                {
                  "sepal length": 5.3,
                  "sepal width": 3.7,
                  "petal length": 1.5,
                  "petal width": 0.2,
                  "target": 1,
                  "class": "Iris-setosa",
                  "_deepnote_index_column": "Iris-setosa"
                },
                {
                  "sepal length": 5,
                  "sepal width": 3.3,
                  "petal length": 1.4,
                  "petal width": 0.2,
                  "target": 1,
                  "class": "Iris-setosa",
                  "_deepnote_index_column": "Iris-setosa"
                },
                {
                  "sepal length": 7,
                  "sepal width": 3.2,
                  "petal length": 4.7,
                  "petal width": 1.4,
                  "target": 2,
                  "class": "Iris-versicolor",
                  "_deepnote_index_column": "Iris-versicolor"
                },
                {
                  "sepal length": 6.4,
                  "sepal width": 3.2,
                  "petal length": 4.5,
                  "petal width": 1.5,
                  "target": 2,
                  "class": "Iris-versicolor",
                  "_deepnote_index_column": "Iris-versicolor"
                },
                {
                  "sepal length": 6.9,
                  "sepal width": 3.1,
                  "petal length": 4.9,
                  "petal width": 1.5,
                  "target": 2,
                  "class": "Iris-versicolor",
                  "_deepnote_index_column": "Iris-versicolor"
                },
                {
                  "sepal length": 5.5,
                  "sepal width": 2.3,
                  "petal length": 4,
                  "petal width": 1.3,
                  "target": 2,
                  "class": "Iris-versicolor",
                  "_deepnote_index_column": "Iris-versicolor"
                },
                {
                  "sepal length": 6.5,
                  "sepal width": 2.8,
                  "petal length": 4.6,
                  "petal width": 1.5,
                  "target": 2,
                  "class": "Iris-versicolor",
                  "_deepnote_index_column": "Iris-versicolor"
                },
                {
                  "sepal length": 5.7,
                  "sepal width": 2.8,
                  "petal length": 4.5,
                  "petal width": 1.3,
                  "target": 2,
                  "class": "Iris-versicolor",
                  "_deepnote_index_column": "Iris-versicolor"
                },
                {
                  "sepal length": 6.3,
                  "sepal width": 3.3,
                  "petal length": 4.7,
                  "petal width": 1.6,
                  "target": 2,
                  "class": "Iris-versicolor",
                  "_deepnote_index_column": "Iris-versicolor"
                },
                {
                  "sepal length": 4.9,
                  "sepal width": 2.4,
                  "petal length": 3.3,
                  "petal width": 1,
                  "target": 2,
                  "class": "Iris-versicolor",
                  "_deepnote_index_column": "Iris-versicolor"
                },
                {
                  "sepal length": 6.6,
                  "sepal width": 2.9,
                  "petal length": 4.6,
                  "petal width": 1.3,
                  "target": 2,
                  "class": "Iris-versicolor",
                  "_deepnote_index_column": "Iris-versicolor"
                },
                {
                  "sepal length": 5.2,
                  "sepal width": 2.7,
                  "petal length": 3.9,
                  "petal width": 1.4,
                  "target": 2,
                  "class": "Iris-versicolor",
                  "_deepnote_index_column": "Iris-versicolor"
                },
                {
                  "sepal length": 5,
                  "sepal width": 2,
                  "petal length": 3.5,
                  "petal width": 1,
                  "target": 2,
                  "class": "Iris-versicolor",
                  "_deepnote_index_column": "Iris-versicolor"
                },
                {
                  "sepal length": 5.9,
                  "sepal width": 3,
                  "petal length": 4.2,
                  "petal width": 1.5,
                  "target": 2,
                  "class": "Iris-versicolor",
                  "_deepnote_index_column": "Iris-versicolor"
                },
                {
                  "sepal length": 6,
                  "sepal width": 2.2,
                  "petal length": 4,
                  "petal width": 1,
                  "target": 2,
                  "class": "Iris-versicolor",
                  "_deepnote_index_column": "Iris-versicolor"
                },
                {
                  "sepal length": 6.1,
                  "sepal width": 2.9,
                  "petal length": 4.7,
                  "petal width": 1.4,
                  "target": 2,
                  "class": "Iris-versicolor",
                  "_deepnote_index_column": "Iris-versicolor"
                },
                {
                  "sepal length": 5.6,
                  "sepal width": 2.9,
                  "petal length": 3.6,
                  "petal width": 1.3,
                  "target": 2,
                  "class": "Iris-versicolor",
                  "_deepnote_index_column": "Iris-versicolor"
                },
                {
                  "sepal length": 6.7,
                  "sepal width": 3.1,
                  "petal length": 4.4,
                  "petal width": 1.4,
                  "target": 2,
                  "class": "Iris-versicolor",
                  "_deepnote_index_column": "Iris-versicolor"
                },
                {
                  "sepal length": 5.6,
                  "sepal width": 3,
                  "petal length": 4.5,
                  "petal width": 1.5,
                  "target": 2,
                  "class": "Iris-versicolor",
                  "_deepnote_index_column": "Iris-versicolor"
                },
                {
                  "sepal length": 5.8,
                  "sepal width": 2.7,
                  "petal length": 4.1,
                  "petal width": 1,
                  "target": 2,
                  "class": "Iris-versicolor",
                  "_deepnote_index_column": "Iris-versicolor"
                },
                {
                  "sepal length": 6.2,
                  "sepal width": 2.2,
                  "petal length": 4.5,
                  "petal width": 1.5,
                  "target": 2,
                  "class": "Iris-versicolor",
                  "_deepnote_index_column": "Iris-versicolor"
                },
                {
                  "sepal length": 5.6,
                  "sepal width": 2.5,
                  "petal length": 3.9,
                  "petal width": 1.1,
                  "target": 2,
                  "class": "Iris-versicolor",
                  "_deepnote_index_column": "Iris-versicolor"
                },
                {
                  "sepal length": 5.9,
                  "sepal width": 3.2,
                  "petal length": 4.8,
                  "petal width": 1.8,
                  "target": 2,
                  "class": "Iris-versicolor",
                  "_deepnote_index_column": "Iris-versicolor"
                },
                {
                  "sepal length": 6.1,
                  "sepal width": 2.8,
                  "petal length": 4,
                  "petal width": 1.3,
                  "target": 2,
                  "class": "Iris-versicolor",
                  "_deepnote_index_column": "Iris-versicolor"
                },
                {
                  "sepal length": 6.3,
                  "sepal width": 2.5,
                  "petal length": 4.9,
                  "petal width": 1.5,
                  "target": 2,
                  "class": "Iris-versicolor",
                  "_deepnote_index_column": "Iris-versicolor"
                },
                {
                  "sepal length": 6.1,
                  "sepal width": 2.8,
                  "petal length": 4.7,
                  "petal width": 1.2,
                  "target": 2,
                  "class": "Iris-versicolor",
                  "_deepnote_index_column": "Iris-versicolor"
                },
                {
                  "sepal length": 6.4,
                  "sepal width": 2.9,
                  "petal length": 4.3,
                  "petal width": 1.3,
                  "target": 2,
                  "class": "Iris-versicolor",
                  "_deepnote_index_column": "Iris-versicolor"
                },
                {
                  "sepal length": 6.6,
                  "sepal width": 3,
                  "petal length": 4.4,
                  "petal width": 1.4,
                  "target": 2,
                  "class": "Iris-versicolor",
                  "_deepnote_index_column": "Iris-versicolor"
                },
                {
                  "sepal length": 6.8,
                  "sepal width": 2.8,
                  "petal length": 4.8,
                  "petal width": 1.4,
                  "target": 2,
                  "class": "Iris-versicolor",
                  "_deepnote_index_column": "Iris-versicolor"
                },
                {
                  "sepal length": 6.7,
                  "sepal width": 3,
                  "petal length": 5,
                  "petal width": 1.7,
                  "target": 2,
                  "class": "Iris-versicolor",
                  "_deepnote_index_column": "Iris-versicolor"
                },
                {
                  "sepal length": 6,
                  "sepal width": 2.9,
                  "petal length": 4.5,
                  "petal width": 1.5,
                  "target": 2,
                  "class": "Iris-versicolor",
                  "_deepnote_index_column": "Iris-versicolor"
                },
                {
                  "sepal length": 5.7,
                  "sepal width": 2.6,
                  "petal length": 3.5,
                  "petal width": 1,
                  "target": 2,
                  "class": "Iris-versicolor",
                  "_deepnote_index_column": "Iris-versicolor"
                },
                {
                  "sepal length": 5.5,
                  "sepal width": 2.4,
                  "petal length": 3.8,
                  "petal width": 1.1,
                  "target": 2,
                  "class": "Iris-versicolor",
                  "_deepnote_index_column": "Iris-versicolor"
                },
                {
                  "sepal length": 5.5,
                  "sepal width": 2.4,
                  "petal length": 3.7,
                  "petal width": 1,
                  "target": 2,
                  "class": "Iris-versicolor",
                  "_deepnote_index_column": "Iris-versicolor"
                },
                {
                  "sepal length": 5.8,
                  "sepal width": 2.7,
                  "petal length": 3.9,
                  "petal width": 1.2,
                  "target": 2,
                  "class": "Iris-versicolor",
                  "_deepnote_index_column": "Iris-versicolor"
                },
                {
                  "sepal length": 6,
                  "sepal width": 2.7,
                  "petal length": 5.1,
                  "petal width": 1.6,
                  "target": 2,
                  "class": "Iris-versicolor",
                  "_deepnote_index_column": "Iris-versicolor"
                },
                {
                  "sepal length": 5.4,
                  "sepal width": 3,
                  "petal length": 4.5,
                  "petal width": 1.5,
                  "target": 2,
                  "class": "Iris-versicolor",
                  "_deepnote_index_column": "Iris-versicolor"
                },
                {
                  "sepal length": 6,
                  "sepal width": 3.4,
                  "petal length": 4.5,
                  "petal width": 1.6,
                  "target": 2,
                  "class": "Iris-versicolor",
                  "_deepnote_index_column": "Iris-versicolor"
                },
                {
                  "sepal length": 6.7,
                  "sepal width": 3.1,
                  "petal length": 4.7,
                  "petal width": 1.5,
                  "target": 2,
                  "class": "Iris-versicolor",
                  "_deepnote_index_column": "Iris-versicolor"
                },
                {
                  "sepal length": 6.3,
                  "sepal width": 2.3,
                  "petal length": 4.4,
                  "petal width": 1.3,
                  "target": 2,
                  "class": "Iris-versicolor",
                  "_deepnote_index_column": "Iris-versicolor"
                },
                {
                  "sepal length": 5.6,
                  "sepal width": 3,
                  "petal length": 4.1,
                  "petal width": 1.3,
                  "target": 2,
                  "class": "Iris-versicolor",
                  "_deepnote_index_column": "Iris-versicolor"
                },
                {
                  "sepal length": 5.5,
                  "sepal width": 2.5,
                  "petal length": 4,
                  "petal width": 1.3,
                  "target": 2,
                  "class": "Iris-versicolor",
                  "_deepnote_index_column": "Iris-versicolor"
                },
                {
                  "sepal length": 5.5,
                  "sepal width": 2.6,
                  "petal length": 4.4,
                  "petal width": 1.2,
                  "target": 2,
                  "class": "Iris-versicolor",
                  "_deepnote_index_column": "Iris-versicolor"
                },
                {
                  "sepal length": 6.1,
                  "sepal width": 3,
                  "petal length": 4.6,
                  "petal width": 1.4,
                  "target": 2,
                  "class": "Iris-versicolor",
                  "_deepnote_index_column": "Iris-versicolor"
                },
                {
                  "sepal length": 5.8,
                  "sepal width": 2.6,
                  "petal length": 4,
                  "petal width": 1.2,
                  "target": 2,
                  "class": "Iris-versicolor",
                  "_deepnote_index_column": "Iris-versicolor"
                },
                {
                  "sepal length": 5,
                  "sepal width": 2.3,
                  "petal length": 3.3,
                  "petal width": 1,
                  "target": 2,
                  "class": "Iris-versicolor",
                  "_deepnote_index_column": "Iris-versicolor"
                },
                {
                  "sepal length": 5.6,
                  "sepal width": 2.7,
                  "petal length": 4.2,
                  "petal width": 1.3,
                  "target": 2,
                  "class": "Iris-versicolor",
                  "_deepnote_index_column": "Iris-versicolor"
                },
                {
                  "sepal length": 5.7,
                  "sepal width": 3,
                  "petal length": 4.2,
                  "petal width": 1.2,
                  "target": 2,
                  "class": "Iris-versicolor",
                  "_deepnote_index_column": "Iris-versicolor"
                },
                {
                  "sepal length": 5.7,
                  "sepal width": 2.9,
                  "petal length": 4.2,
                  "petal width": 1.3,
                  "target": 2,
                  "class": "Iris-versicolor",
                  "_deepnote_index_column": "Iris-versicolor"
                },
                {
                  "sepal length": 6.2,
                  "sepal width": 2.9,
                  "petal length": 4.3,
                  "petal width": 1.3,
                  "target": 2,
                  "class": "Iris-versicolor",
                  "_deepnote_index_column": "Iris-versicolor"
                },
                {
                  "sepal length": 5.1,
                  "sepal width": 2.5,
                  "petal length": 3,
                  "petal width": 1.1,
                  "target": 2,
                  "class": "Iris-versicolor",
                  "_deepnote_index_column": "Iris-versicolor"
                },
                {
                  "sepal length": 5.7,
                  "sepal width": 2.8,
                  "petal length": 4.1,
                  "petal width": 1.3,
                  "target": 2,
                  "class": "Iris-versicolor",
                  "_deepnote_index_column": "Iris-versicolor"
                },
                {
                  "sepal length": 6.3,
                  "sepal width": 3.3,
                  "petal length": 6,
                  "petal width": 2.5,
                  "target": 3,
                  "class": "Iris-virginica",
                  "_deepnote_index_column": "Iris-virginica"
                },
                {
                  "sepal length": 5.8,
                  "sepal width": 2.7,
                  "petal length": 5.1,
                  "petal width": 1.9,
                  "target": 3,
                  "class": "Iris-virginica",
                  "_deepnote_index_column": "Iris-virginica"
                },
                {
                  "sepal length": 7.1,
                  "sepal width": 3,
                  "petal length": 5.9,
                  "petal width": 2.1,
                  "target": 3,
                  "class": "Iris-virginica",
                  "_deepnote_index_column": "Iris-virginica"
                },
                {
                  "sepal length": 6.3,
                  "sepal width": 2.9,
                  "petal length": 5.6,
                  "petal width": 1.8,
                  "target": 3,
                  "class": "Iris-virginica",
                  "_deepnote_index_column": "Iris-virginica"
                },
                {
                  "sepal length": 6.5,
                  "sepal width": 3,
                  "petal length": 5.8,
                  "petal width": 2.2,
                  "target": 3,
                  "class": "Iris-virginica",
                  "_deepnote_index_column": "Iris-virginica"
                },
                {
                  "sepal length": 7.6,
                  "sepal width": 3,
                  "petal length": 6.6,
                  "petal width": 2.1,
                  "target": 3,
                  "class": "Iris-virginica",
                  "_deepnote_index_column": "Iris-virginica"
                },
                {
                  "sepal length": 4.9,
                  "sepal width": 2.5,
                  "petal length": 4.5,
                  "petal width": 1.7,
                  "target": 3,
                  "class": "Iris-virginica",
                  "_deepnote_index_column": "Iris-virginica"
                },
                {
                  "sepal length": 7.3,
                  "sepal width": 2.9,
                  "petal length": 6.3,
                  "petal width": 1.8,
                  "target": 3,
                  "class": "Iris-virginica",
                  "_deepnote_index_column": "Iris-virginica"
                },
                {
                  "sepal length": 6.7,
                  "sepal width": 2.5,
                  "petal length": 5.8,
                  "petal width": 1.8,
                  "target": 3,
                  "class": "Iris-virginica",
                  "_deepnote_index_column": "Iris-virginica"
                },
                {
                  "sepal length": 7.2,
                  "sepal width": 3.6,
                  "petal length": 6.1,
                  "petal width": 2.5,
                  "target": 3,
                  "class": "Iris-virginica",
                  "_deepnote_index_column": "Iris-virginica"
                },
                {
                  "sepal length": 6.5,
                  "sepal width": 3.2,
                  "petal length": 5.1,
                  "petal width": 2,
                  "target": 3,
                  "class": "Iris-virginica",
                  "_deepnote_index_column": "Iris-virginica"
                },
                {
                  "sepal length": 6.4,
                  "sepal width": 2.7,
                  "petal length": 5.3,
                  "petal width": 1.9,
                  "target": 3,
                  "class": "Iris-virginica",
                  "_deepnote_index_column": "Iris-virginica"
                },
                {
                  "sepal length": 6.8,
                  "sepal width": 3,
                  "petal length": 5.5,
                  "petal width": 2.1,
                  "target": 3,
                  "class": "Iris-virginica",
                  "_deepnote_index_column": "Iris-virginica"
                },
                {
                  "sepal length": 5.7,
                  "sepal width": 2.5,
                  "petal length": 5,
                  "petal width": 2,
                  "target": 3,
                  "class": "Iris-virginica",
                  "_deepnote_index_column": "Iris-virginica"
                },
                {
                  "sepal length": 5.8,
                  "sepal width": 2.8,
                  "petal length": 5.1,
                  "petal width": 2.4,
                  "target": 3,
                  "class": "Iris-virginica",
                  "_deepnote_index_column": "Iris-virginica"
                },
                {
                  "sepal length": 6.4,
                  "sepal width": 3.2,
                  "petal length": 5.3,
                  "petal width": 2.3,
                  "target": 3,
                  "class": "Iris-virginica",
                  "_deepnote_index_column": "Iris-virginica"
                },
                {
                  "sepal length": 6.5,
                  "sepal width": 3,
                  "petal length": 5.5,
                  "petal width": 1.8,
                  "target": 3,
                  "class": "Iris-virginica",
                  "_deepnote_index_column": "Iris-virginica"
                },
                {
                  "sepal length": 7.7,
                  "sepal width": 3.8,
                  "petal length": 6.7,
                  "petal width": 2.2,
                  "target": 3,
                  "class": "Iris-virginica",
                  "_deepnote_index_column": "Iris-virginica"
                },
                {
                  "sepal length": 7.7,
                  "sepal width": 2.6,
                  "petal length": 6.9,
                  "petal width": 2.3,
                  "target": 3,
                  "class": "Iris-virginica",
                  "_deepnote_index_column": "Iris-virginica"
                },
                {
                  "sepal length": 6,
                  "sepal width": 2.2,
                  "petal length": 5,
                  "petal width": 1.5,
                  "target": 3,
                  "class": "Iris-virginica",
                  "_deepnote_index_column": "Iris-virginica"
                },
                {
                  "sepal length": 6.9,
                  "sepal width": 3.2,
                  "petal length": 5.7,
                  "petal width": 2.3,
                  "target": 3,
                  "class": "Iris-virginica",
                  "_deepnote_index_column": "Iris-virginica"
                },
                {
                  "sepal length": 5.6,
                  "sepal width": 2.8,
                  "petal length": 4.9,
                  "petal width": 2,
                  "target": 3,
                  "class": "Iris-virginica",
                  "_deepnote_index_column": "Iris-virginica"
                },
                {
                  "sepal length": 7.7,
                  "sepal width": 2.8,
                  "petal length": 6.7,
                  "petal width": 2,
                  "target": 3,
                  "class": "Iris-virginica",
                  "_deepnote_index_column": "Iris-virginica"
                },
                {
                  "sepal length": 6.3,
                  "sepal width": 2.7,
                  "petal length": 4.9,
                  "petal width": 1.8,
                  "target": 3,
                  "class": "Iris-virginica",
                  "_deepnote_index_column": "Iris-virginica"
                },
                {
                  "sepal length": 6.7,
                  "sepal width": 3.3,
                  "petal length": 5.7,
                  "petal width": 2.1,
                  "target": 3,
                  "class": "Iris-virginica",
                  "_deepnote_index_column": "Iris-virginica"
                },
                {
                  "sepal length": 7.2,
                  "sepal width": 3.2,
                  "petal length": 6,
                  "petal width": 1.8,
                  "target": 3,
                  "class": "Iris-virginica",
                  "_deepnote_index_column": "Iris-virginica"
                },
                {
                  "sepal length": 6.2,
                  "sepal width": 2.8,
                  "petal length": 4.8,
                  "petal width": 1.8,
                  "target": 3,
                  "class": "Iris-virginica",
                  "_deepnote_index_column": "Iris-virginica"
                },
                {
                  "sepal length": 6.1,
                  "sepal width": 3,
                  "petal length": 4.9,
                  "petal width": 1.8,
                  "target": 3,
                  "class": "Iris-virginica",
                  "_deepnote_index_column": "Iris-virginica"
                },
                {
                  "sepal length": 6.4,
                  "sepal width": 2.8,
                  "petal length": 5.6,
                  "petal width": 2.1,
                  "target": 3,
                  "class": "Iris-virginica",
                  "_deepnote_index_column": "Iris-virginica"
                },
                {
                  "sepal length": 7.2,
                  "sepal width": 3,
                  "petal length": 5.8,
                  "petal width": 1.6,
                  "target": 3,
                  "class": "Iris-virginica",
                  "_deepnote_index_column": "Iris-virginica"
                },
                {
                  "sepal length": 7.4,
                  "sepal width": 2.8,
                  "petal length": 6.1,
                  "petal width": 1.9,
                  "target": 3,
                  "class": "Iris-virginica",
                  "_deepnote_index_column": "Iris-virginica"
                },
                {
                  "sepal length": 7.9,
                  "sepal width": 3.8,
                  "petal length": 6.4,
                  "petal width": 2,
                  "target": 3,
                  "class": "Iris-virginica",
                  "_deepnote_index_column": "Iris-virginica"
                },
                {
                  "sepal length": 6.4,
                  "sepal width": 2.8,
                  "petal length": 5.6,
                  "petal width": 2.2,
                  "target": 3,
                  "class": "Iris-virginica",
                  "_deepnote_index_column": "Iris-virginica"
                },
                {
                  "sepal length": 6.3,
                  "sepal width": 2.8,
                  "petal length": 5.1,
                  "petal width": 1.5,
                  "target": 3,
                  "class": "Iris-virginica",
                  "_deepnote_index_column": "Iris-virginica"
                },
                {
                  "sepal length": 6.1,
                  "sepal width": 2.6,
                  "petal length": 5.6,
                  "petal width": 1.4,
                  "target": 3,
                  "class": "Iris-virginica",
                  "_deepnote_index_column": "Iris-virginica"
                },
                {
                  "sepal length": 7.7,
                  "sepal width": 3,
                  "petal length": 6.1,
                  "petal width": 2.3,
                  "target": 3,
                  "class": "Iris-virginica",
                  "_deepnote_index_column": "Iris-virginica"
                },
                {
                  "sepal length": 6.3,
                  "sepal width": 3.4,
                  "petal length": 5.6,
                  "petal width": 2.4,
                  "target": 3,
                  "class": "Iris-virginica",
                  "_deepnote_index_column": "Iris-virginica"
                },
                {
                  "sepal length": 6.4,
                  "sepal width": 3.1,
                  "petal length": 5.5,
                  "petal width": 1.8,
                  "target": 3,
                  "class": "Iris-virginica",
                  "_deepnote_index_column": "Iris-virginica"
                },
                {
                  "sepal length": 6,
                  "sepal width": 3,
                  "petal length": 4.8,
                  "petal width": 1.8,
                  "target": 3,
                  "class": "Iris-virginica",
                  "_deepnote_index_column": "Iris-virginica"
                },
                {
                  "sepal length": 6.9,
                  "sepal width": 3.1,
                  "petal length": 5.4,
                  "petal width": 2.1,
                  "target": 3,
                  "class": "Iris-virginica",
                  "_deepnote_index_column": "Iris-virginica"
                },
                {
                  "sepal length": 6.7,
                  "sepal width": 3.1,
                  "petal length": 5.6,
                  "petal width": 2.4,
                  "target": 3,
                  "class": "Iris-virginica",
                  "_deepnote_index_column": "Iris-virginica"
                },
                {
                  "sepal length": 6.9,
                  "sepal width": 3.1,
                  "petal length": 5.1,
                  "petal width": 2.3,
                  "target": 3,
                  "class": "Iris-virginica",
                  "_deepnote_index_column": "Iris-virginica"
                },
                {
                  "sepal length": 5.8,
                  "sepal width": 2.7,
                  "petal length": 5.1,
                  "petal width": 1.9,
                  "target": 3,
                  "class": "Iris-virginica",
                  "_deepnote_index_column": "Iris-virginica"
                },
                {
                  "sepal length": 6.8,
                  "sepal width": 3.2,
                  "petal length": 5.9,
                  "petal width": 2.3,
                  "target": 3,
                  "class": "Iris-virginica",
                  "_deepnote_index_column": "Iris-virginica"
                },
                {
                  "sepal length": 6.7,
                  "sepal width": 3.3,
                  "petal length": 5.7,
                  "petal width": 2.5,
                  "target": 3,
                  "class": "Iris-virginica",
                  "_deepnote_index_column": "Iris-virginica"
                },
                {
                  "sepal length": 6.7,
                  "sepal width": 3,
                  "petal length": 5.2,
                  "petal width": 2.3,
                  "target": 3,
                  "class": "Iris-virginica",
                  "_deepnote_index_column": "Iris-virginica"
                },
                {
                  "sepal length": 6.3,
                  "sepal width": 2.5,
                  "petal length": 5,
                  "petal width": 1.9,
                  "target": 3,
                  "class": "Iris-virginica",
                  "_deepnote_index_column": "Iris-virginica"
                },
                {
                  "sepal length": 6.5,
                  "sepal width": 3,
                  "petal length": 5.2,
                  "petal width": 2,
                  "target": 3,
                  "class": "Iris-virginica",
                  "_deepnote_index_column": "Iris-virginica"
                },
                {
                  "sepal length": 6.2,
                  "sepal width": 3.4,
                  "petal length": 5.4,
                  "petal width": 2.3,
                  "target": 3,
                  "class": "Iris-virginica",
                  "_deepnote_index_column": "Iris-virginica"
                },
                {
                  "sepal length": 5.9,
                  "sepal width": 3,
                  "petal length": 5.1,
                  "petal width": 1.8,
                  "target": 3,
                  "class": "Iris-virginica",
                  "_deepnote_index_column": "Iris-virginica"
                }
              ],
              "rows_bottom": null
            },
            "text/plain": "                sepal length  sepal width  petal length  petal width  target  \\\nE                                                                              \nIris-setosa              5.1          3.5           1.4          0.2       1   \nIris-setosa              4.9          3.0           1.4          0.2       1   \nIris-setosa              4.7          3.2           1.3          0.2       1   \nIris-setosa              4.6          3.1           1.5          0.2       1   \nIris-setosa              5.0          3.6           1.4          0.2       1   \n...                      ...          ...           ...          ...     ...   \nIris-virginica           6.7          3.0           5.2          2.3       3   \nIris-virginica           6.3          2.5           5.0          1.9       3   \nIris-virginica           6.5          3.0           5.2          2.0       3   \nIris-virginica           6.2          3.4           5.4          2.3       3   \nIris-virginica           5.9          3.0           5.1          1.8       3   \n\n                         class  \nE                               \nIris-setosa        Iris-setosa  \nIris-setosa        Iris-setosa  \nIris-setosa        Iris-setosa  \nIris-setosa        Iris-setosa  \nIris-setosa        Iris-setosa  \n...                        ...  \nIris-virginica  Iris-virginica  \nIris-virginica  Iris-virginica  \nIris-virginica  Iris-virginica  \nIris-virginica  Iris-virginica  \nIris-virginica  Iris-virginica  \n\n[150 rows x 6 columns]",
            "text/html": "<div>\n<style scoped>\n    .dataframe tbody tr th:only-of-type {\n        vertical-align: middle;\n    }\n\n    .dataframe tbody tr th {\n        vertical-align: top;\n    }\n\n    .dataframe thead th {\n        text-align: right;\n    }\n</style>\n<table border=\"1\" class=\"dataframe\">\n  <thead>\n    <tr style=\"text-align: right;\">\n      <th></th>\n      <th>sepal length</th>\n      <th>sepal width</th>\n      <th>petal length</th>\n      <th>petal width</th>\n      <th>target</th>\n      <th>class</th>\n    </tr>\n    <tr>\n      <th>E</th>\n      <th></th>\n      <th></th>\n      <th></th>\n      <th></th>\n      <th></th>\n      <th></th>\n    </tr>\n  </thead>\n  <tbody>\n    <tr>\n      <th>Iris-setosa</th>\n      <td>5.1</td>\n      <td>3.5</td>\n      <td>1.4</td>\n      <td>0.2</td>\n      <td>1</td>\n      <td>Iris-setosa</td>\n    </tr>\n    <tr>\n      <th>Iris-setosa</th>\n      <td>4.9</td>\n      <td>3.0</td>\n      <td>1.4</td>\n      <td>0.2</td>\n      <td>1</td>\n      <td>Iris-setosa</td>\n    </tr>\n    <tr>\n      <th>Iris-setosa</th>\n      <td>4.7</td>\n      <td>3.2</td>\n      <td>1.3</td>\n      <td>0.2</td>\n      <td>1</td>\n      <td>Iris-setosa</td>\n    </tr>\n    <tr>\n      <th>Iris-setosa</th>\n      <td>4.6</td>\n      <td>3.1</td>\n      <td>1.5</td>\n      <td>0.2</td>\n      <td>1</td>\n      <td>Iris-setosa</td>\n    </tr>\n    <tr>\n      <th>Iris-setosa</th>\n      <td>5.0</td>\n      <td>3.6</td>\n      <td>1.4</td>\n      <td>0.2</td>\n      <td>1</td>\n      <td>Iris-setosa</td>\n    </tr>\n    <tr>\n      <th>...</th>\n      <td>...</td>\n      <td>...</td>\n      <td>...</td>\n      <td>...</td>\n      <td>...</td>\n      <td>...</td>\n    </tr>\n    <tr>\n      <th>Iris-virginica</th>\n      <td>6.7</td>\n      <td>3.0</td>\n      <td>5.2</td>\n      <td>2.3</td>\n      <td>3</td>\n      <td>Iris-virginica</td>\n    </tr>\n    <tr>\n      <th>Iris-virginica</th>\n      <td>6.3</td>\n      <td>2.5</td>\n      <td>5.0</td>\n      <td>1.9</td>\n      <td>3</td>\n      <td>Iris-virginica</td>\n    </tr>\n    <tr>\n      <th>Iris-virginica</th>\n      <td>6.5</td>\n      <td>3.0</td>\n      <td>5.2</td>\n      <td>2.0</td>\n      <td>3</td>\n      <td>Iris-virginica</td>\n    </tr>\n    <tr>\n      <th>Iris-virginica</th>\n      <td>6.2</td>\n      <td>3.4</td>\n      <td>5.4</td>\n      <td>2.3</td>\n      <td>3</td>\n      <td>Iris-virginica</td>\n    </tr>\n    <tr>\n      <th>Iris-virginica</th>\n      <td>5.9</td>\n      <td>3.0</td>\n      <td>5.1</td>\n      <td>1.8</td>\n      <td>3</td>\n      <td>Iris-virginica</td>\n    </tr>\n  </tbody>\n</table>\n<p>150 rows × 6 columns</p>\n</div>"
          },
          "metadata": {}
        }
      ],
      "execution_count": null
    },
    {
      "cell_type": "code",
      "metadata": {
        "deletable": false,
        "editable": false,
        "nbgrader": {
          "cell_type": "code",
          "checksum": "e803679e20976baff81ad4577a79bfec",
          "grade": true,
          "grade_id": "cell-b18a01895567bcda",
          "locked": true,
          "points": 2,
          "schema_version": 3,
          "solution": false,
          "task": false
        },
        "cell_id": "00014-03e2a987-bb42-4daa-86cd-8494e200d3b8",
        "deepnote_to_be_reexecuted": false,
        "source_hash": "2b5d7e67",
        "execution_millis": 1,
        "execution_start": 1618843699997,
        "deepnote_cell_type": "code"
      },
      "source": "df = dataset_to_pandas()\nassert df['sepal length'].shape == (150,)\nassert df['sepal width'].shape == (150,)\nassert df['petal length'].shape == (150,)\nassert df['petal width'].shape == (150,)\nassert df['target'].shape == (150,)\nassert df['class'].shape == (150,)\n",
      "outputs": [],
      "execution_count": null
    },
    {
      "cell_type": "markdown",
      "source": "### Question\nFind the X and y values we're looking for. Notice that y is categorical and thus, we could **one-hot encode it** if we are looking at **class** or we can just pick **target**. In order to one hot encode we have  to re-shape `y` it using the **.get_dummies** function. \n\n## For the purpose of this exercise, do not use hot encoding, go only for target but think about if you have to drop it somewhere or not...",
      "metadata": {
        "cell_id": "00015-014a74ae-d868-4a91-9140-1904e481de67",
        "deepnote_cell_type": "markdown"
      }
    },
    {
      "cell_type": "code",
      "metadata": {
        "cell_id": "00016-8af71b40-e1b0-458b-a74a-dbe784d50c28",
        "deepnote_cell_type": "code"
      },
      "source": "df_iris = dataset_to_pandas()",
      "execution_count": null,
      "outputs": []
    },
    {
      "cell_type": "code",
      "metadata": {
        "deletable": false,
        "nbgrader": {
          "cell_type": "code",
          "checksum": "3a8ff0960c61f4785cbc8f88fd683036",
          "grade": false,
          "grade_id": "cell-fd162bfaf4394e79",
          "locked": false,
          "schema_version": 3,
          "solution": true,
          "task": false
        },
        "cell_id": "00017-cf31a19d-908c-4bc9-9379-bd5abd55c020",
        "deepnote_to_be_reexecuted": false,
        "source_hash": "c6e706c8",
        "execution_millis": 38,
        "execution_start": 1618843993806,
        "deepnote_cell_type": "code"
      },
      "source": "def ohe():\n    # YOUR CODE HERE\n    \n    pd.get_dummies(dataset,columns=[\"class\"])\n \n    return pd.get_dummies(dataset,columns=[\"class\"])\n    raise NotImplementedError()\nohe()",
      "outputs": [
        {
          "output_type": "execute_result",
          "execution_count": 111,
          "data": {
            "application/vnd.deepnote.dataframe.v2+json": {
              "row_count": 150,
              "column_count": 8,
              "columns": [
                {
                  "name": "sepal length",
                  "dtype": "float64",
                  "stats": {
                    "unique_count": 35,
                    "nan_count": 0,
                    "min": "4.3",
                    "max": "7.9",
                    "histogram": [
                      {
                        "bin_start": 4.3,
                        "bin_end": 4.66,
                        "count": 9
                      },
                      {
                        "bin_start": 4.66,
                        "bin_end": 5.02,
                        "count": 23
                      },
                      {
                        "bin_start": 5.02,
                        "bin_end": 5.38,
                        "count": 14
                      },
                      {
                        "bin_start": 5.38,
                        "bin_end": 5.74,
                        "count": 27
                      },
                      {
                        "bin_start": 5.74,
                        "bin_end": 6.1,
                        "count": 16
                      },
                      {
                        "bin_start": 6.1,
                        "bin_end": 6.46,
                        "count": 26
                      },
                      {
                        "bin_start": 6.46,
                        "bin_end": 6.82,
                        "count": 18
                      },
                      {
                        "bin_start": 6.82,
                        "bin_end": 7.18,
                        "count": 6
                      },
                      {
                        "bin_start": 7.18,
                        "bin_end": 7.54,
                        "count": 5
                      },
                      {
                        "bin_start": 7.54,
                        "bin_end": 7.9,
                        "count": 6
                      }
                    ]
                  }
                },
                {
                  "name": "sepal width",
                  "dtype": "float64",
                  "stats": {
                    "unique_count": 23,
                    "nan_count": 0,
                    "min": "2.0",
                    "max": "4.4",
                    "histogram": [
                      {
                        "bin_start": 2,
                        "bin_end": 2.24,
                        "count": 4
                      },
                      {
                        "bin_start": 2.24,
                        "bin_end": 2.48,
                        "count": 7
                      },
                      {
                        "bin_start": 2.48,
                        "bin_end": 2.72,
                        "count": 22
                      },
                      {
                        "bin_start": 2.72,
                        "bin_end": 2.96,
                        "count": 24
                      },
                      {
                        "bin_start": 2.96,
                        "bin_end": 3.2,
                        "count": 38
                      },
                      {
                        "bin_start": 3.2,
                        "bin_end": 3.4400000000000004,
                        "count": 31
                      },
                      {
                        "bin_start": 3.4400000000000004,
                        "bin_end": 3.6800000000000006,
                        "count": 9
                      },
                      {
                        "bin_start": 3.6800000000000006,
                        "bin_end": 3.9200000000000004,
                        "count": 11
                      },
                      {
                        "bin_start": 3.9200000000000004,
                        "bin_end": 4.16,
                        "count": 2
                      },
                      {
                        "bin_start": 4.16,
                        "bin_end": 4.4,
                        "count": 2
                      }
                    ]
                  }
                },
                {
                  "name": "petal length",
                  "dtype": "float64",
                  "stats": {
                    "unique_count": 43,
                    "nan_count": 0,
                    "min": "1.0",
                    "max": "6.9",
                    "histogram": [
                      {
                        "bin_start": 1,
                        "bin_end": 1.59,
                        "count": 37
                      },
                      {
                        "bin_start": 1.59,
                        "bin_end": 2.18,
                        "count": 13
                      },
                      {
                        "bin_start": 2.18,
                        "bin_end": 2.7700000000000005,
                        "count": 0
                      },
                      {
                        "bin_start": 2.7700000000000005,
                        "bin_end": 3.3600000000000003,
                        "count": 3
                      },
                      {
                        "bin_start": 3.3600000000000003,
                        "bin_end": 3.95,
                        "count": 8
                      },
                      {
                        "bin_start": 3.95,
                        "bin_end": 4.540000000000001,
                        "count": 26
                      },
                      {
                        "bin_start": 4.540000000000001,
                        "bin_end": 5.130000000000001,
                        "count": 29
                      },
                      {
                        "bin_start": 5.130000000000001,
                        "bin_end": 5.720000000000001,
                        "count": 18
                      },
                      {
                        "bin_start": 5.720000000000001,
                        "bin_end": 6.3100000000000005,
                        "count": 11
                      },
                      {
                        "bin_start": 6.3100000000000005,
                        "bin_end": 6.9,
                        "count": 5
                      }
                    ]
                  }
                },
                {
                  "name": "petal width",
                  "dtype": "float64",
                  "stats": {
                    "unique_count": 22,
                    "nan_count": 0,
                    "min": "0.1",
                    "max": "2.5",
                    "histogram": [
                      {
                        "bin_start": 0.1,
                        "bin_end": 0.33999999999999997,
                        "count": 41
                      },
                      {
                        "bin_start": 0.33999999999999997,
                        "bin_end": 0.58,
                        "count": 8
                      },
                      {
                        "bin_start": 0.58,
                        "bin_end": 0.82,
                        "count": 1
                      },
                      {
                        "bin_start": 0.82,
                        "bin_end": 1.06,
                        "count": 7
                      },
                      {
                        "bin_start": 1.06,
                        "bin_end": 1.3,
                        "count": 8
                      },
                      {
                        "bin_start": 1.3,
                        "bin_end": 1.54,
                        "count": 33
                      },
                      {
                        "bin_start": 1.54,
                        "bin_end": 1.78,
                        "count": 6
                      },
                      {
                        "bin_start": 1.78,
                        "bin_end": 2.02,
                        "count": 23
                      },
                      {
                        "bin_start": 2.02,
                        "bin_end": 2.2600000000000002,
                        "count": 9
                      },
                      {
                        "bin_start": 2.2600000000000002,
                        "bin_end": 2.5,
                        "count": 14
                      }
                    ]
                  }
                },
                {
                  "name": "target",
                  "dtype": "int64",
                  "stats": {
                    "unique_count": 3,
                    "nan_count": 0,
                    "min": "1",
                    "max": "3",
                    "histogram": [
                      {
                        "bin_start": 1,
                        "bin_end": 1.2,
                        "count": 50
                      },
                      {
                        "bin_start": 1.2,
                        "bin_end": 1.4,
                        "count": 0
                      },
                      {
                        "bin_start": 1.4,
                        "bin_end": 1.6,
                        "count": 0
                      },
                      {
                        "bin_start": 1.6,
                        "bin_end": 1.8,
                        "count": 0
                      },
                      {
                        "bin_start": 1.8,
                        "bin_end": 2,
                        "count": 0
                      },
                      {
                        "bin_start": 2,
                        "bin_end": 2.2,
                        "count": 50
                      },
                      {
                        "bin_start": 2.2,
                        "bin_end": 2.4000000000000004,
                        "count": 0
                      },
                      {
                        "bin_start": 2.4000000000000004,
                        "bin_end": 2.6,
                        "count": 0
                      },
                      {
                        "bin_start": 2.6,
                        "bin_end": 2.8,
                        "count": 0
                      },
                      {
                        "bin_start": 2.8,
                        "bin_end": 3,
                        "count": 50
                      }
                    ]
                  }
                },
                {
                  "name": "class_Iris-setosa",
                  "dtype": "uint8",
                  "stats": {
                    "unique_count": 2,
                    "nan_count": 0,
                    "min": "0",
                    "max": "1",
                    "histogram": [
                      {
                        "bin_start": 0,
                        "bin_end": 0.1,
                        "count": 100
                      },
                      {
                        "bin_start": 0.1,
                        "bin_end": 0.2,
                        "count": 0
                      },
                      {
                        "bin_start": 0.2,
                        "bin_end": 0.30000000000000004,
                        "count": 0
                      },
                      {
                        "bin_start": 0.30000000000000004,
                        "bin_end": 0.4,
                        "count": 0
                      },
                      {
                        "bin_start": 0.4,
                        "bin_end": 0.5,
                        "count": 0
                      },
                      {
                        "bin_start": 0.5,
                        "bin_end": 0.6000000000000001,
                        "count": 0
                      },
                      {
                        "bin_start": 0.6000000000000001,
                        "bin_end": 0.7000000000000001,
                        "count": 0
                      },
                      {
                        "bin_start": 0.7000000000000001,
                        "bin_end": 0.8,
                        "count": 0
                      },
                      {
                        "bin_start": 0.8,
                        "bin_end": 0.9,
                        "count": 0
                      },
                      {
                        "bin_start": 0.9,
                        "bin_end": 1,
                        "count": 50
                      }
                    ]
                  }
                },
                {
                  "name": "class_Iris-versicolor",
                  "dtype": "uint8",
                  "stats": {
                    "unique_count": 2,
                    "nan_count": 0,
                    "min": "0",
                    "max": "1",
                    "histogram": [
                      {
                        "bin_start": 0,
                        "bin_end": 0.1,
                        "count": 100
                      },
                      {
                        "bin_start": 0.1,
                        "bin_end": 0.2,
                        "count": 0
                      },
                      {
                        "bin_start": 0.2,
                        "bin_end": 0.30000000000000004,
                        "count": 0
                      },
                      {
                        "bin_start": 0.30000000000000004,
                        "bin_end": 0.4,
                        "count": 0
                      },
                      {
                        "bin_start": 0.4,
                        "bin_end": 0.5,
                        "count": 0
                      },
                      {
                        "bin_start": 0.5,
                        "bin_end": 0.6000000000000001,
                        "count": 0
                      },
                      {
                        "bin_start": 0.6000000000000001,
                        "bin_end": 0.7000000000000001,
                        "count": 0
                      },
                      {
                        "bin_start": 0.7000000000000001,
                        "bin_end": 0.8,
                        "count": 0
                      },
                      {
                        "bin_start": 0.8,
                        "bin_end": 0.9,
                        "count": 0
                      },
                      {
                        "bin_start": 0.9,
                        "bin_end": 1,
                        "count": 50
                      }
                    ]
                  }
                },
                {
                  "name": "class_Iris-virginica",
                  "dtype": "uint8",
                  "stats": {
                    "unique_count": 2,
                    "nan_count": 0,
                    "min": "0",
                    "max": "1",
                    "histogram": [
                      {
                        "bin_start": 0,
                        "bin_end": 0.1,
                        "count": 100
                      },
                      {
                        "bin_start": 0.1,
                        "bin_end": 0.2,
                        "count": 0
                      },
                      {
                        "bin_start": 0.2,
                        "bin_end": 0.30000000000000004,
                        "count": 0
                      },
                      {
                        "bin_start": 0.30000000000000004,
                        "bin_end": 0.4,
                        "count": 0
                      },
                      {
                        "bin_start": 0.4,
                        "bin_end": 0.5,
                        "count": 0
                      },
                      {
                        "bin_start": 0.5,
                        "bin_end": 0.6000000000000001,
                        "count": 0
                      },
                      {
                        "bin_start": 0.6000000000000001,
                        "bin_end": 0.7000000000000001,
                        "count": 0
                      },
                      {
                        "bin_start": 0.7000000000000001,
                        "bin_end": 0.8,
                        "count": 0
                      },
                      {
                        "bin_start": 0.8,
                        "bin_end": 0.9,
                        "count": 0
                      },
                      {
                        "bin_start": 0.9,
                        "bin_end": 1,
                        "count": 50
                      }
                    ]
                  }
                },
                {
                  "name": "_deepnote_index_column",
                  "dtype": "object"
                }
              ],
              "rows_top": [
                {
                  "sepal length": 5.1,
                  "sepal width": 3.5,
                  "petal length": 1.4,
                  "petal width": 0.2,
                  "target": 1,
                  "class_Iris-setosa": 1,
                  "class_Iris-versicolor": 0,
                  "class_Iris-virginica": 0,
                  "_deepnote_index_column": "Iris-setosa"
                },
                {
                  "sepal length": 4.9,
                  "sepal width": 3,
                  "petal length": 1.4,
                  "petal width": 0.2,
                  "target": 1,
                  "class_Iris-setosa": 1,
                  "class_Iris-versicolor": 0,
                  "class_Iris-virginica": 0,
                  "_deepnote_index_column": "Iris-setosa"
                },
                {
                  "sepal length": 4.7,
                  "sepal width": 3.2,
                  "petal length": 1.3,
                  "petal width": 0.2,
                  "target": 1,
                  "class_Iris-setosa": 1,
                  "class_Iris-versicolor": 0,
                  "class_Iris-virginica": 0,
                  "_deepnote_index_column": "Iris-setosa"
                },
                {
                  "sepal length": 4.6,
                  "sepal width": 3.1,
                  "petal length": 1.5,
                  "petal width": 0.2,
                  "target": 1,
                  "class_Iris-setosa": 1,
                  "class_Iris-versicolor": 0,
                  "class_Iris-virginica": 0,
                  "_deepnote_index_column": "Iris-setosa"
                },
                {
                  "sepal length": 5,
                  "sepal width": 3.6,
                  "petal length": 1.4,
                  "petal width": 0.2,
                  "target": 1,
                  "class_Iris-setosa": 1,
                  "class_Iris-versicolor": 0,
                  "class_Iris-virginica": 0,
                  "_deepnote_index_column": "Iris-setosa"
                },
                {
                  "sepal length": 5.4,
                  "sepal width": 3.9,
                  "petal length": 1.7,
                  "petal width": 0.4,
                  "target": 1,
                  "class_Iris-setosa": 1,
                  "class_Iris-versicolor": 0,
                  "class_Iris-virginica": 0,
                  "_deepnote_index_column": "Iris-setosa"
                },
                {
                  "sepal length": 4.6,
                  "sepal width": 3.4,
                  "petal length": 1.4,
                  "petal width": 0.3,
                  "target": 1,
                  "class_Iris-setosa": 1,
                  "class_Iris-versicolor": 0,
                  "class_Iris-virginica": 0,
                  "_deepnote_index_column": "Iris-setosa"
                },
                {
                  "sepal length": 5,
                  "sepal width": 3.4,
                  "petal length": 1.5,
                  "petal width": 0.2,
                  "target": 1,
                  "class_Iris-setosa": 1,
                  "class_Iris-versicolor": 0,
                  "class_Iris-virginica": 0,
                  "_deepnote_index_column": "Iris-setosa"
                },
                {
                  "sepal length": 4.4,
                  "sepal width": 2.9,
                  "petal length": 1.4,
                  "petal width": 0.2,
                  "target": 1,
                  "class_Iris-setosa": 1,
                  "class_Iris-versicolor": 0,
                  "class_Iris-virginica": 0,
                  "_deepnote_index_column": "Iris-setosa"
                },
                {
                  "sepal length": 4.9,
                  "sepal width": 3.1,
                  "petal length": 1.5,
                  "petal width": 0.1,
                  "target": 1,
                  "class_Iris-setosa": 1,
                  "class_Iris-versicolor": 0,
                  "class_Iris-virginica": 0,
                  "_deepnote_index_column": "Iris-setosa"
                },
                {
                  "sepal length": 5.4,
                  "sepal width": 3.7,
                  "petal length": 1.5,
                  "petal width": 0.2,
                  "target": 1,
                  "class_Iris-setosa": 1,
                  "class_Iris-versicolor": 0,
                  "class_Iris-virginica": 0,
                  "_deepnote_index_column": "Iris-setosa"
                },
                {
                  "sepal length": 4.8,
                  "sepal width": 3.4,
                  "petal length": 1.6,
                  "petal width": 0.2,
                  "target": 1,
                  "class_Iris-setosa": 1,
                  "class_Iris-versicolor": 0,
                  "class_Iris-virginica": 0,
                  "_deepnote_index_column": "Iris-setosa"
                },
                {
                  "sepal length": 4.8,
                  "sepal width": 3,
                  "petal length": 1.4,
                  "petal width": 0.1,
                  "target": 1,
                  "class_Iris-setosa": 1,
                  "class_Iris-versicolor": 0,
                  "class_Iris-virginica": 0,
                  "_deepnote_index_column": "Iris-setosa"
                },
                {
                  "sepal length": 4.3,
                  "sepal width": 3,
                  "petal length": 1.1,
                  "petal width": 0.1,
                  "target": 1,
                  "class_Iris-setosa": 1,
                  "class_Iris-versicolor": 0,
                  "class_Iris-virginica": 0,
                  "_deepnote_index_column": "Iris-setosa"
                },
                {
                  "sepal length": 5.8,
                  "sepal width": 4,
                  "petal length": 1.2,
                  "petal width": 0.2,
                  "target": 1,
                  "class_Iris-setosa": 1,
                  "class_Iris-versicolor": 0,
                  "class_Iris-virginica": 0,
                  "_deepnote_index_column": "Iris-setosa"
                },
                {
                  "sepal length": 5.7,
                  "sepal width": 4.4,
                  "petal length": 1.5,
                  "petal width": 0.4,
                  "target": 1,
                  "class_Iris-setosa": 1,
                  "class_Iris-versicolor": 0,
                  "class_Iris-virginica": 0,
                  "_deepnote_index_column": "Iris-setosa"
                },
                {
                  "sepal length": 5.4,
                  "sepal width": 3.9,
                  "petal length": 1.3,
                  "petal width": 0.4,
                  "target": 1,
                  "class_Iris-setosa": 1,
                  "class_Iris-versicolor": 0,
                  "class_Iris-virginica": 0,
                  "_deepnote_index_column": "Iris-setosa"
                },
                {
                  "sepal length": 5.1,
                  "sepal width": 3.5,
                  "petal length": 1.4,
                  "petal width": 0.3,
                  "target": 1,
                  "class_Iris-setosa": 1,
                  "class_Iris-versicolor": 0,
                  "class_Iris-virginica": 0,
                  "_deepnote_index_column": "Iris-setosa"
                },
                {
                  "sepal length": 5.7,
                  "sepal width": 3.8,
                  "petal length": 1.7,
                  "petal width": 0.3,
                  "target": 1,
                  "class_Iris-setosa": 1,
                  "class_Iris-versicolor": 0,
                  "class_Iris-virginica": 0,
                  "_deepnote_index_column": "Iris-setosa"
                },
                {
                  "sepal length": 5.1,
                  "sepal width": 3.8,
                  "petal length": 1.5,
                  "petal width": 0.3,
                  "target": 1,
                  "class_Iris-setosa": 1,
                  "class_Iris-versicolor": 0,
                  "class_Iris-virginica": 0,
                  "_deepnote_index_column": "Iris-setosa"
                },
                {
                  "sepal length": 5.4,
                  "sepal width": 3.4,
                  "petal length": 1.7,
                  "petal width": 0.2,
                  "target": 1,
                  "class_Iris-setosa": 1,
                  "class_Iris-versicolor": 0,
                  "class_Iris-virginica": 0,
                  "_deepnote_index_column": "Iris-setosa"
                },
                {
                  "sepal length": 5.1,
                  "sepal width": 3.7,
                  "petal length": 1.5,
                  "petal width": 0.4,
                  "target": 1,
                  "class_Iris-setosa": 1,
                  "class_Iris-versicolor": 0,
                  "class_Iris-virginica": 0,
                  "_deepnote_index_column": "Iris-setosa"
                },
                {
                  "sepal length": 4.6,
                  "sepal width": 3.6,
                  "petal length": 1,
                  "petal width": 0.2,
                  "target": 1,
                  "class_Iris-setosa": 1,
                  "class_Iris-versicolor": 0,
                  "class_Iris-virginica": 0,
                  "_deepnote_index_column": "Iris-setosa"
                },
                {
                  "sepal length": 5.1,
                  "sepal width": 3.3,
                  "petal length": 1.7,
                  "petal width": 0.5,
                  "target": 1,
                  "class_Iris-setosa": 1,
                  "class_Iris-versicolor": 0,
                  "class_Iris-virginica": 0,
                  "_deepnote_index_column": "Iris-setosa"
                },
                {
                  "sepal length": 4.8,
                  "sepal width": 3.4,
                  "petal length": 1.9,
                  "petal width": 0.2,
                  "target": 1,
                  "class_Iris-setosa": 1,
                  "class_Iris-versicolor": 0,
                  "class_Iris-virginica": 0,
                  "_deepnote_index_column": "Iris-setosa"
                },
                {
                  "sepal length": 5,
                  "sepal width": 3,
                  "petal length": 1.6,
                  "petal width": 0.2,
                  "target": 1,
                  "class_Iris-setosa": 1,
                  "class_Iris-versicolor": 0,
                  "class_Iris-virginica": 0,
                  "_deepnote_index_column": "Iris-setosa"
                },
                {
                  "sepal length": 5,
                  "sepal width": 3.4,
                  "petal length": 1.6,
                  "petal width": 0.4,
                  "target": 1,
                  "class_Iris-setosa": 1,
                  "class_Iris-versicolor": 0,
                  "class_Iris-virginica": 0,
                  "_deepnote_index_column": "Iris-setosa"
                },
                {
                  "sepal length": 5.2,
                  "sepal width": 3.5,
                  "petal length": 1.5,
                  "petal width": 0.2,
                  "target": 1,
                  "class_Iris-setosa": 1,
                  "class_Iris-versicolor": 0,
                  "class_Iris-virginica": 0,
                  "_deepnote_index_column": "Iris-setosa"
                },
                {
                  "sepal length": 5.2,
                  "sepal width": 3.4,
                  "petal length": 1.4,
                  "petal width": 0.2,
                  "target": 1,
                  "class_Iris-setosa": 1,
                  "class_Iris-versicolor": 0,
                  "class_Iris-virginica": 0,
                  "_deepnote_index_column": "Iris-setosa"
                },
                {
                  "sepal length": 4.7,
                  "sepal width": 3.2,
                  "petal length": 1.6,
                  "petal width": 0.2,
                  "target": 1,
                  "class_Iris-setosa": 1,
                  "class_Iris-versicolor": 0,
                  "class_Iris-virginica": 0,
                  "_deepnote_index_column": "Iris-setosa"
                },
                {
                  "sepal length": 4.8,
                  "sepal width": 3.1,
                  "petal length": 1.6,
                  "petal width": 0.2,
                  "target": 1,
                  "class_Iris-setosa": 1,
                  "class_Iris-versicolor": 0,
                  "class_Iris-virginica": 0,
                  "_deepnote_index_column": "Iris-setosa"
                },
                {
                  "sepal length": 5.4,
                  "sepal width": 3.4,
                  "petal length": 1.5,
                  "petal width": 0.4,
                  "target": 1,
                  "class_Iris-setosa": 1,
                  "class_Iris-versicolor": 0,
                  "class_Iris-virginica": 0,
                  "_deepnote_index_column": "Iris-setosa"
                },
                {
                  "sepal length": 5.2,
                  "sepal width": 4.1,
                  "petal length": 1.5,
                  "petal width": 0.1,
                  "target": 1,
                  "class_Iris-setosa": 1,
                  "class_Iris-versicolor": 0,
                  "class_Iris-virginica": 0,
                  "_deepnote_index_column": "Iris-setosa"
                },
                {
                  "sepal length": 5.5,
                  "sepal width": 4.2,
                  "petal length": 1.4,
                  "petal width": 0.2,
                  "target": 1,
                  "class_Iris-setosa": 1,
                  "class_Iris-versicolor": 0,
                  "class_Iris-virginica": 0,
                  "_deepnote_index_column": "Iris-setosa"
                },
                {
                  "sepal length": 4.9,
                  "sepal width": 3.1,
                  "petal length": 1.5,
                  "petal width": 0.1,
                  "target": 1,
                  "class_Iris-setosa": 1,
                  "class_Iris-versicolor": 0,
                  "class_Iris-virginica": 0,
                  "_deepnote_index_column": "Iris-setosa"
                },
                {
                  "sepal length": 5,
                  "sepal width": 3.2,
                  "petal length": 1.2,
                  "petal width": 0.2,
                  "target": 1,
                  "class_Iris-setosa": 1,
                  "class_Iris-versicolor": 0,
                  "class_Iris-virginica": 0,
                  "_deepnote_index_column": "Iris-setosa"
                },
                {
                  "sepal length": 5.5,
                  "sepal width": 3.5,
                  "petal length": 1.3,
                  "petal width": 0.2,
                  "target": 1,
                  "class_Iris-setosa": 1,
                  "class_Iris-versicolor": 0,
                  "class_Iris-virginica": 0,
                  "_deepnote_index_column": "Iris-setosa"
                },
                {
                  "sepal length": 4.9,
                  "sepal width": 3.1,
                  "petal length": 1.5,
                  "petal width": 0.1,
                  "target": 1,
                  "class_Iris-setosa": 1,
                  "class_Iris-versicolor": 0,
                  "class_Iris-virginica": 0,
                  "_deepnote_index_column": "Iris-setosa"
                },
                {
                  "sepal length": 4.4,
                  "sepal width": 3,
                  "petal length": 1.3,
                  "petal width": 0.2,
                  "target": 1,
                  "class_Iris-setosa": 1,
                  "class_Iris-versicolor": 0,
                  "class_Iris-virginica": 0,
                  "_deepnote_index_column": "Iris-setosa"
                },
                {
                  "sepal length": 5.1,
                  "sepal width": 3.4,
                  "petal length": 1.5,
                  "petal width": 0.2,
                  "target": 1,
                  "class_Iris-setosa": 1,
                  "class_Iris-versicolor": 0,
                  "class_Iris-virginica": 0,
                  "_deepnote_index_column": "Iris-setosa"
                },
                {
                  "sepal length": 5,
                  "sepal width": 3.5,
                  "petal length": 1.3,
                  "petal width": 0.3,
                  "target": 1,
                  "class_Iris-setosa": 1,
                  "class_Iris-versicolor": 0,
                  "class_Iris-virginica": 0,
                  "_deepnote_index_column": "Iris-setosa"
                },
                {
                  "sepal length": 4.5,
                  "sepal width": 2.3,
                  "petal length": 1.3,
                  "petal width": 0.3,
                  "target": 1,
                  "class_Iris-setosa": 1,
                  "class_Iris-versicolor": 0,
                  "class_Iris-virginica": 0,
                  "_deepnote_index_column": "Iris-setosa"
                },
                {
                  "sepal length": 4.4,
                  "sepal width": 3.2,
                  "petal length": 1.3,
                  "petal width": 0.2,
                  "target": 1,
                  "class_Iris-setosa": 1,
                  "class_Iris-versicolor": 0,
                  "class_Iris-virginica": 0,
                  "_deepnote_index_column": "Iris-setosa"
                },
                {
                  "sepal length": 5,
                  "sepal width": 3.5,
                  "petal length": 1.6,
                  "petal width": 0.6,
                  "target": 1,
                  "class_Iris-setosa": 1,
                  "class_Iris-versicolor": 0,
                  "class_Iris-virginica": 0,
                  "_deepnote_index_column": "Iris-setosa"
                },
                {
                  "sepal length": 5.1,
                  "sepal width": 3.8,
                  "petal length": 1.9,
                  "petal width": 0.4,
                  "target": 1,
                  "class_Iris-setosa": 1,
                  "class_Iris-versicolor": 0,
                  "class_Iris-virginica": 0,
                  "_deepnote_index_column": "Iris-setosa"
                },
                {
                  "sepal length": 4.8,
                  "sepal width": 3,
                  "petal length": 1.4,
                  "petal width": 0.3,
                  "target": 1,
                  "class_Iris-setosa": 1,
                  "class_Iris-versicolor": 0,
                  "class_Iris-virginica": 0,
                  "_deepnote_index_column": "Iris-setosa"
                },
                {
                  "sepal length": 5.1,
                  "sepal width": 3.8,
                  "petal length": 1.6,
                  "petal width": 0.2,
                  "target": 1,
                  "class_Iris-setosa": 1,
                  "class_Iris-versicolor": 0,
                  "class_Iris-virginica": 0,
                  "_deepnote_index_column": "Iris-setosa"
                },
                {
                  "sepal length": 4.6,
                  "sepal width": 3.2,
                  "petal length": 1.4,
                  "petal width": 0.2,
                  "target": 1,
                  "class_Iris-setosa": 1,
                  "class_Iris-versicolor": 0,
                  "class_Iris-virginica": 0,
                  "_deepnote_index_column": "Iris-setosa"
                },
                {
                  "sepal length": 5.3,
                  "sepal width": 3.7,
                  "petal length": 1.5,
                  "petal width": 0.2,
                  "target": 1,
                  "class_Iris-setosa": 1,
                  "class_Iris-versicolor": 0,
                  "class_Iris-virginica": 0,
                  "_deepnote_index_column": "Iris-setosa"
                },
                {
                  "sepal length": 5,
                  "sepal width": 3.3,
                  "petal length": 1.4,
                  "petal width": 0.2,
                  "target": 1,
                  "class_Iris-setosa": 1,
                  "class_Iris-versicolor": 0,
                  "class_Iris-virginica": 0,
                  "_deepnote_index_column": "Iris-setosa"
                },
                {
                  "sepal length": 7,
                  "sepal width": 3.2,
                  "petal length": 4.7,
                  "petal width": 1.4,
                  "target": 2,
                  "class_Iris-setosa": 0,
                  "class_Iris-versicolor": 1,
                  "class_Iris-virginica": 0,
                  "_deepnote_index_column": "Iris-versicolor"
                },
                {
                  "sepal length": 6.4,
                  "sepal width": 3.2,
                  "petal length": 4.5,
                  "petal width": 1.5,
                  "target": 2,
                  "class_Iris-setosa": 0,
                  "class_Iris-versicolor": 1,
                  "class_Iris-virginica": 0,
                  "_deepnote_index_column": "Iris-versicolor"
                },
                {
                  "sepal length": 6.9,
                  "sepal width": 3.1,
                  "petal length": 4.9,
                  "petal width": 1.5,
                  "target": 2,
                  "class_Iris-setosa": 0,
                  "class_Iris-versicolor": 1,
                  "class_Iris-virginica": 0,
                  "_deepnote_index_column": "Iris-versicolor"
                },
                {
                  "sepal length": 5.5,
                  "sepal width": 2.3,
                  "petal length": 4,
                  "petal width": 1.3,
                  "target": 2,
                  "class_Iris-setosa": 0,
                  "class_Iris-versicolor": 1,
                  "class_Iris-virginica": 0,
                  "_deepnote_index_column": "Iris-versicolor"
                },
                {
                  "sepal length": 6.5,
                  "sepal width": 2.8,
                  "petal length": 4.6,
                  "petal width": 1.5,
                  "target": 2,
                  "class_Iris-setosa": 0,
                  "class_Iris-versicolor": 1,
                  "class_Iris-virginica": 0,
                  "_deepnote_index_column": "Iris-versicolor"
                },
                {
                  "sepal length": 5.7,
                  "sepal width": 2.8,
                  "petal length": 4.5,
                  "petal width": 1.3,
                  "target": 2,
                  "class_Iris-setosa": 0,
                  "class_Iris-versicolor": 1,
                  "class_Iris-virginica": 0,
                  "_deepnote_index_column": "Iris-versicolor"
                },
                {
                  "sepal length": 6.3,
                  "sepal width": 3.3,
                  "petal length": 4.7,
                  "petal width": 1.6,
                  "target": 2,
                  "class_Iris-setosa": 0,
                  "class_Iris-versicolor": 1,
                  "class_Iris-virginica": 0,
                  "_deepnote_index_column": "Iris-versicolor"
                },
                {
                  "sepal length": 4.9,
                  "sepal width": 2.4,
                  "petal length": 3.3,
                  "petal width": 1,
                  "target": 2,
                  "class_Iris-setosa": 0,
                  "class_Iris-versicolor": 1,
                  "class_Iris-virginica": 0,
                  "_deepnote_index_column": "Iris-versicolor"
                },
                {
                  "sepal length": 6.6,
                  "sepal width": 2.9,
                  "petal length": 4.6,
                  "petal width": 1.3,
                  "target": 2,
                  "class_Iris-setosa": 0,
                  "class_Iris-versicolor": 1,
                  "class_Iris-virginica": 0,
                  "_deepnote_index_column": "Iris-versicolor"
                },
                {
                  "sepal length": 5.2,
                  "sepal width": 2.7,
                  "petal length": 3.9,
                  "petal width": 1.4,
                  "target": 2,
                  "class_Iris-setosa": 0,
                  "class_Iris-versicolor": 1,
                  "class_Iris-virginica": 0,
                  "_deepnote_index_column": "Iris-versicolor"
                },
                {
                  "sepal length": 5,
                  "sepal width": 2,
                  "petal length": 3.5,
                  "petal width": 1,
                  "target": 2,
                  "class_Iris-setosa": 0,
                  "class_Iris-versicolor": 1,
                  "class_Iris-virginica": 0,
                  "_deepnote_index_column": "Iris-versicolor"
                },
                {
                  "sepal length": 5.9,
                  "sepal width": 3,
                  "petal length": 4.2,
                  "petal width": 1.5,
                  "target": 2,
                  "class_Iris-setosa": 0,
                  "class_Iris-versicolor": 1,
                  "class_Iris-virginica": 0,
                  "_deepnote_index_column": "Iris-versicolor"
                }
              ],
              "rows_bottom": [
                {
                  "sepal length": 6.3,
                  "sepal width": 2.3,
                  "petal length": 4.4,
                  "petal width": 1.3,
                  "target": 2,
                  "class_Iris-setosa": 0,
                  "class_Iris-versicolor": 1,
                  "class_Iris-virginica": 0,
                  "_deepnote_index_column": "Iris-versicolor"
                },
                {
                  "sepal length": 5.6,
                  "sepal width": 3,
                  "petal length": 4.1,
                  "petal width": 1.3,
                  "target": 2,
                  "class_Iris-setosa": 0,
                  "class_Iris-versicolor": 1,
                  "class_Iris-virginica": 0,
                  "_deepnote_index_column": "Iris-versicolor"
                },
                {
                  "sepal length": 5.5,
                  "sepal width": 2.5,
                  "petal length": 4,
                  "petal width": 1.3,
                  "target": 2,
                  "class_Iris-setosa": 0,
                  "class_Iris-versicolor": 1,
                  "class_Iris-virginica": 0,
                  "_deepnote_index_column": "Iris-versicolor"
                },
                {
                  "sepal length": 5.5,
                  "sepal width": 2.6,
                  "petal length": 4.4,
                  "petal width": 1.2,
                  "target": 2,
                  "class_Iris-setosa": 0,
                  "class_Iris-versicolor": 1,
                  "class_Iris-virginica": 0,
                  "_deepnote_index_column": "Iris-versicolor"
                },
                {
                  "sepal length": 6.1,
                  "sepal width": 3,
                  "petal length": 4.6,
                  "petal width": 1.4,
                  "target": 2,
                  "class_Iris-setosa": 0,
                  "class_Iris-versicolor": 1,
                  "class_Iris-virginica": 0,
                  "_deepnote_index_column": "Iris-versicolor"
                },
                {
                  "sepal length": 5.8,
                  "sepal width": 2.6,
                  "petal length": 4,
                  "petal width": 1.2,
                  "target": 2,
                  "class_Iris-setosa": 0,
                  "class_Iris-versicolor": 1,
                  "class_Iris-virginica": 0,
                  "_deepnote_index_column": "Iris-versicolor"
                },
                {
                  "sepal length": 5,
                  "sepal width": 2.3,
                  "petal length": 3.3,
                  "petal width": 1,
                  "target": 2,
                  "class_Iris-setosa": 0,
                  "class_Iris-versicolor": 1,
                  "class_Iris-virginica": 0,
                  "_deepnote_index_column": "Iris-versicolor"
                },
                {
                  "sepal length": 5.6,
                  "sepal width": 2.7,
                  "petal length": 4.2,
                  "petal width": 1.3,
                  "target": 2,
                  "class_Iris-setosa": 0,
                  "class_Iris-versicolor": 1,
                  "class_Iris-virginica": 0,
                  "_deepnote_index_column": "Iris-versicolor"
                },
                {
                  "sepal length": 5.7,
                  "sepal width": 3,
                  "petal length": 4.2,
                  "petal width": 1.2,
                  "target": 2,
                  "class_Iris-setosa": 0,
                  "class_Iris-versicolor": 1,
                  "class_Iris-virginica": 0,
                  "_deepnote_index_column": "Iris-versicolor"
                },
                {
                  "sepal length": 5.7,
                  "sepal width": 2.9,
                  "petal length": 4.2,
                  "petal width": 1.3,
                  "target": 2,
                  "class_Iris-setosa": 0,
                  "class_Iris-versicolor": 1,
                  "class_Iris-virginica": 0,
                  "_deepnote_index_column": "Iris-versicolor"
                },
                {
                  "sepal length": 6.2,
                  "sepal width": 2.9,
                  "petal length": 4.3,
                  "petal width": 1.3,
                  "target": 2,
                  "class_Iris-setosa": 0,
                  "class_Iris-versicolor": 1,
                  "class_Iris-virginica": 0,
                  "_deepnote_index_column": "Iris-versicolor"
                },
                {
                  "sepal length": 5.1,
                  "sepal width": 2.5,
                  "petal length": 3,
                  "petal width": 1.1,
                  "target": 2,
                  "class_Iris-setosa": 0,
                  "class_Iris-versicolor": 1,
                  "class_Iris-virginica": 0,
                  "_deepnote_index_column": "Iris-versicolor"
                },
                {
                  "sepal length": 5.7,
                  "sepal width": 2.8,
                  "petal length": 4.1,
                  "petal width": 1.3,
                  "target": 2,
                  "class_Iris-setosa": 0,
                  "class_Iris-versicolor": 1,
                  "class_Iris-virginica": 0,
                  "_deepnote_index_column": "Iris-versicolor"
                },
                {
                  "sepal length": 6.3,
                  "sepal width": 3.3,
                  "petal length": 6,
                  "petal width": 2.5,
                  "target": 3,
                  "class_Iris-setosa": 0,
                  "class_Iris-versicolor": 0,
                  "class_Iris-virginica": 1,
                  "_deepnote_index_column": "Iris-virginica"
                },
                {
                  "sepal length": 5.8,
                  "sepal width": 2.7,
                  "petal length": 5.1,
                  "petal width": 1.9,
                  "target": 3,
                  "class_Iris-setosa": 0,
                  "class_Iris-versicolor": 0,
                  "class_Iris-virginica": 1,
                  "_deepnote_index_column": "Iris-virginica"
                },
                {
                  "sepal length": 7.1,
                  "sepal width": 3,
                  "petal length": 5.9,
                  "petal width": 2.1,
                  "target": 3,
                  "class_Iris-setosa": 0,
                  "class_Iris-versicolor": 0,
                  "class_Iris-virginica": 1,
                  "_deepnote_index_column": "Iris-virginica"
                },
                {
                  "sepal length": 6.3,
                  "sepal width": 2.9,
                  "petal length": 5.6,
                  "petal width": 1.8,
                  "target": 3,
                  "class_Iris-setosa": 0,
                  "class_Iris-versicolor": 0,
                  "class_Iris-virginica": 1,
                  "_deepnote_index_column": "Iris-virginica"
                },
                {
                  "sepal length": 6.5,
                  "sepal width": 3,
                  "petal length": 5.8,
                  "petal width": 2.2,
                  "target": 3,
                  "class_Iris-setosa": 0,
                  "class_Iris-versicolor": 0,
                  "class_Iris-virginica": 1,
                  "_deepnote_index_column": "Iris-virginica"
                },
                {
                  "sepal length": 7.6,
                  "sepal width": 3,
                  "petal length": 6.6,
                  "petal width": 2.1,
                  "target": 3,
                  "class_Iris-setosa": 0,
                  "class_Iris-versicolor": 0,
                  "class_Iris-virginica": 1,
                  "_deepnote_index_column": "Iris-virginica"
                },
                {
                  "sepal length": 4.9,
                  "sepal width": 2.5,
                  "petal length": 4.5,
                  "petal width": 1.7,
                  "target": 3,
                  "class_Iris-setosa": 0,
                  "class_Iris-versicolor": 0,
                  "class_Iris-virginica": 1,
                  "_deepnote_index_column": "Iris-virginica"
                },
                {
                  "sepal length": 7.3,
                  "sepal width": 2.9,
                  "petal length": 6.3,
                  "petal width": 1.8,
                  "target": 3,
                  "class_Iris-setosa": 0,
                  "class_Iris-versicolor": 0,
                  "class_Iris-virginica": 1,
                  "_deepnote_index_column": "Iris-virginica"
                },
                {
                  "sepal length": 6.7,
                  "sepal width": 2.5,
                  "petal length": 5.8,
                  "petal width": 1.8,
                  "target": 3,
                  "class_Iris-setosa": 0,
                  "class_Iris-versicolor": 0,
                  "class_Iris-virginica": 1,
                  "_deepnote_index_column": "Iris-virginica"
                },
                {
                  "sepal length": 7.2,
                  "sepal width": 3.6,
                  "petal length": 6.1,
                  "petal width": 2.5,
                  "target": 3,
                  "class_Iris-setosa": 0,
                  "class_Iris-versicolor": 0,
                  "class_Iris-virginica": 1,
                  "_deepnote_index_column": "Iris-virginica"
                },
                {
                  "sepal length": 6.5,
                  "sepal width": 3.2,
                  "petal length": 5.1,
                  "petal width": 2,
                  "target": 3,
                  "class_Iris-setosa": 0,
                  "class_Iris-versicolor": 0,
                  "class_Iris-virginica": 1,
                  "_deepnote_index_column": "Iris-virginica"
                },
                {
                  "sepal length": 6.4,
                  "sepal width": 2.7,
                  "petal length": 5.3,
                  "petal width": 1.9,
                  "target": 3,
                  "class_Iris-setosa": 0,
                  "class_Iris-versicolor": 0,
                  "class_Iris-virginica": 1,
                  "_deepnote_index_column": "Iris-virginica"
                },
                {
                  "sepal length": 6.8,
                  "sepal width": 3,
                  "petal length": 5.5,
                  "petal width": 2.1,
                  "target": 3,
                  "class_Iris-setosa": 0,
                  "class_Iris-versicolor": 0,
                  "class_Iris-virginica": 1,
                  "_deepnote_index_column": "Iris-virginica"
                },
                {
                  "sepal length": 5.7,
                  "sepal width": 2.5,
                  "petal length": 5,
                  "petal width": 2,
                  "target": 3,
                  "class_Iris-setosa": 0,
                  "class_Iris-versicolor": 0,
                  "class_Iris-virginica": 1,
                  "_deepnote_index_column": "Iris-virginica"
                },
                {
                  "sepal length": 5.8,
                  "sepal width": 2.8,
                  "petal length": 5.1,
                  "petal width": 2.4,
                  "target": 3,
                  "class_Iris-setosa": 0,
                  "class_Iris-versicolor": 0,
                  "class_Iris-virginica": 1,
                  "_deepnote_index_column": "Iris-virginica"
                },
                {
                  "sepal length": 6.4,
                  "sepal width": 3.2,
                  "petal length": 5.3,
                  "petal width": 2.3,
                  "target": 3,
                  "class_Iris-setosa": 0,
                  "class_Iris-versicolor": 0,
                  "class_Iris-virginica": 1,
                  "_deepnote_index_column": "Iris-virginica"
                },
                {
                  "sepal length": 6.5,
                  "sepal width": 3,
                  "petal length": 5.5,
                  "petal width": 1.8,
                  "target": 3,
                  "class_Iris-setosa": 0,
                  "class_Iris-versicolor": 0,
                  "class_Iris-virginica": 1,
                  "_deepnote_index_column": "Iris-virginica"
                },
                {
                  "sepal length": 7.7,
                  "sepal width": 3.8,
                  "petal length": 6.7,
                  "petal width": 2.2,
                  "target": 3,
                  "class_Iris-setosa": 0,
                  "class_Iris-versicolor": 0,
                  "class_Iris-virginica": 1,
                  "_deepnote_index_column": "Iris-virginica"
                },
                {
                  "sepal length": 7.7,
                  "sepal width": 2.6,
                  "petal length": 6.9,
                  "petal width": 2.3,
                  "target": 3,
                  "class_Iris-setosa": 0,
                  "class_Iris-versicolor": 0,
                  "class_Iris-virginica": 1,
                  "_deepnote_index_column": "Iris-virginica"
                },
                {
                  "sepal length": 6,
                  "sepal width": 2.2,
                  "petal length": 5,
                  "petal width": 1.5,
                  "target": 3,
                  "class_Iris-setosa": 0,
                  "class_Iris-versicolor": 0,
                  "class_Iris-virginica": 1,
                  "_deepnote_index_column": "Iris-virginica"
                },
                {
                  "sepal length": 6.9,
                  "sepal width": 3.2,
                  "petal length": 5.7,
                  "petal width": 2.3,
                  "target": 3,
                  "class_Iris-setosa": 0,
                  "class_Iris-versicolor": 0,
                  "class_Iris-virginica": 1,
                  "_deepnote_index_column": "Iris-virginica"
                },
                {
                  "sepal length": 5.6,
                  "sepal width": 2.8,
                  "petal length": 4.9,
                  "petal width": 2,
                  "target": 3,
                  "class_Iris-setosa": 0,
                  "class_Iris-versicolor": 0,
                  "class_Iris-virginica": 1,
                  "_deepnote_index_column": "Iris-virginica"
                },
                {
                  "sepal length": 7.7,
                  "sepal width": 2.8,
                  "petal length": 6.7,
                  "petal width": 2,
                  "target": 3,
                  "class_Iris-setosa": 0,
                  "class_Iris-versicolor": 0,
                  "class_Iris-virginica": 1,
                  "_deepnote_index_column": "Iris-virginica"
                },
                {
                  "sepal length": 6.3,
                  "sepal width": 2.7,
                  "petal length": 4.9,
                  "petal width": 1.8,
                  "target": 3,
                  "class_Iris-setosa": 0,
                  "class_Iris-versicolor": 0,
                  "class_Iris-virginica": 1,
                  "_deepnote_index_column": "Iris-virginica"
                },
                {
                  "sepal length": 6.7,
                  "sepal width": 3.3,
                  "petal length": 5.7,
                  "petal width": 2.1,
                  "target": 3,
                  "class_Iris-setosa": 0,
                  "class_Iris-versicolor": 0,
                  "class_Iris-virginica": 1,
                  "_deepnote_index_column": "Iris-virginica"
                },
                {
                  "sepal length": 7.2,
                  "sepal width": 3.2,
                  "petal length": 6,
                  "petal width": 1.8,
                  "target": 3,
                  "class_Iris-setosa": 0,
                  "class_Iris-versicolor": 0,
                  "class_Iris-virginica": 1,
                  "_deepnote_index_column": "Iris-virginica"
                },
                {
                  "sepal length": 6.2,
                  "sepal width": 2.8,
                  "petal length": 4.8,
                  "petal width": 1.8,
                  "target": 3,
                  "class_Iris-setosa": 0,
                  "class_Iris-versicolor": 0,
                  "class_Iris-virginica": 1,
                  "_deepnote_index_column": "Iris-virginica"
                },
                {
                  "sepal length": 6.1,
                  "sepal width": 3,
                  "petal length": 4.9,
                  "petal width": 1.8,
                  "target": 3,
                  "class_Iris-setosa": 0,
                  "class_Iris-versicolor": 0,
                  "class_Iris-virginica": 1,
                  "_deepnote_index_column": "Iris-virginica"
                },
                {
                  "sepal length": 6.4,
                  "sepal width": 2.8,
                  "petal length": 5.6,
                  "petal width": 2.1,
                  "target": 3,
                  "class_Iris-setosa": 0,
                  "class_Iris-versicolor": 0,
                  "class_Iris-virginica": 1,
                  "_deepnote_index_column": "Iris-virginica"
                },
                {
                  "sepal length": 7.2,
                  "sepal width": 3,
                  "petal length": 5.8,
                  "petal width": 1.6,
                  "target": 3,
                  "class_Iris-setosa": 0,
                  "class_Iris-versicolor": 0,
                  "class_Iris-virginica": 1,
                  "_deepnote_index_column": "Iris-virginica"
                },
                {
                  "sepal length": 7.4,
                  "sepal width": 2.8,
                  "petal length": 6.1,
                  "petal width": 1.9,
                  "target": 3,
                  "class_Iris-setosa": 0,
                  "class_Iris-versicolor": 0,
                  "class_Iris-virginica": 1,
                  "_deepnote_index_column": "Iris-virginica"
                },
                {
                  "sepal length": 7.9,
                  "sepal width": 3.8,
                  "petal length": 6.4,
                  "petal width": 2,
                  "target": 3,
                  "class_Iris-setosa": 0,
                  "class_Iris-versicolor": 0,
                  "class_Iris-virginica": 1,
                  "_deepnote_index_column": "Iris-virginica"
                },
                {
                  "sepal length": 6.4,
                  "sepal width": 2.8,
                  "petal length": 5.6,
                  "petal width": 2.2,
                  "target": 3,
                  "class_Iris-setosa": 0,
                  "class_Iris-versicolor": 0,
                  "class_Iris-virginica": 1,
                  "_deepnote_index_column": "Iris-virginica"
                },
                {
                  "sepal length": 6.3,
                  "sepal width": 2.8,
                  "petal length": 5.1,
                  "petal width": 1.5,
                  "target": 3,
                  "class_Iris-setosa": 0,
                  "class_Iris-versicolor": 0,
                  "class_Iris-virginica": 1,
                  "_deepnote_index_column": "Iris-virginica"
                },
                {
                  "sepal length": 6.1,
                  "sepal width": 2.6,
                  "petal length": 5.6,
                  "petal width": 1.4,
                  "target": 3,
                  "class_Iris-setosa": 0,
                  "class_Iris-versicolor": 0,
                  "class_Iris-virginica": 1,
                  "_deepnote_index_column": "Iris-virginica"
                },
                {
                  "sepal length": 7.7,
                  "sepal width": 3,
                  "petal length": 6.1,
                  "petal width": 2.3,
                  "target": 3,
                  "class_Iris-setosa": 0,
                  "class_Iris-versicolor": 0,
                  "class_Iris-virginica": 1,
                  "_deepnote_index_column": "Iris-virginica"
                },
                {
                  "sepal length": 6.3,
                  "sepal width": 3.4,
                  "petal length": 5.6,
                  "petal width": 2.4,
                  "target": 3,
                  "class_Iris-setosa": 0,
                  "class_Iris-versicolor": 0,
                  "class_Iris-virginica": 1,
                  "_deepnote_index_column": "Iris-virginica"
                },
                {
                  "sepal length": 6.4,
                  "sepal width": 3.1,
                  "petal length": 5.5,
                  "petal width": 1.8,
                  "target": 3,
                  "class_Iris-setosa": 0,
                  "class_Iris-versicolor": 0,
                  "class_Iris-virginica": 1,
                  "_deepnote_index_column": "Iris-virginica"
                },
                {
                  "sepal length": 6,
                  "sepal width": 3,
                  "petal length": 4.8,
                  "petal width": 1.8,
                  "target": 3,
                  "class_Iris-setosa": 0,
                  "class_Iris-versicolor": 0,
                  "class_Iris-virginica": 1,
                  "_deepnote_index_column": "Iris-virginica"
                },
                {
                  "sepal length": 6.9,
                  "sepal width": 3.1,
                  "petal length": 5.4,
                  "petal width": 2.1,
                  "target": 3,
                  "class_Iris-setosa": 0,
                  "class_Iris-versicolor": 0,
                  "class_Iris-virginica": 1,
                  "_deepnote_index_column": "Iris-virginica"
                },
                {
                  "sepal length": 6.7,
                  "sepal width": 3.1,
                  "petal length": 5.6,
                  "petal width": 2.4,
                  "target": 3,
                  "class_Iris-setosa": 0,
                  "class_Iris-versicolor": 0,
                  "class_Iris-virginica": 1,
                  "_deepnote_index_column": "Iris-virginica"
                },
                {
                  "sepal length": 6.9,
                  "sepal width": 3.1,
                  "petal length": 5.1,
                  "petal width": 2.3,
                  "target": 3,
                  "class_Iris-setosa": 0,
                  "class_Iris-versicolor": 0,
                  "class_Iris-virginica": 1,
                  "_deepnote_index_column": "Iris-virginica"
                },
                {
                  "sepal length": 5.8,
                  "sepal width": 2.7,
                  "petal length": 5.1,
                  "petal width": 1.9,
                  "target": 3,
                  "class_Iris-setosa": 0,
                  "class_Iris-versicolor": 0,
                  "class_Iris-virginica": 1,
                  "_deepnote_index_column": "Iris-virginica"
                },
                {
                  "sepal length": 6.8,
                  "sepal width": 3.2,
                  "petal length": 5.9,
                  "petal width": 2.3,
                  "target": 3,
                  "class_Iris-setosa": 0,
                  "class_Iris-versicolor": 0,
                  "class_Iris-virginica": 1,
                  "_deepnote_index_column": "Iris-virginica"
                },
                {
                  "sepal length": 6.7,
                  "sepal width": 3.3,
                  "petal length": 5.7,
                  "petal width": 2.5,
                  "target": 3,
                  "class_Iris-setosa": 0,
                  "class_Iris-versicolor": 0,
                  "class_Iris-virginica": 1,
                  "_deepnote_index_column": "Iris-virginica"
                },
                {
                  "sepal length": 6.7,
                  "sepal width": 3,
                  "petal length": 5.2,
                  "petal width": 2.3,
                  "target": 3,
                  "class_Iris-setosa": 0,
                  "class_Iris-versicolor": 0,
                  "class_Iris-virginica": 1,
                  "_deepnote_index_column": "Iris-virginica"
                },
                {
                  "sepal length": 6.3,
                  "sepal width": 2.5,
                  "petal length": 5,
                  "petal width": 1.9,
                  "target": 3,
                  "class_Iris-setosa": 0,
                  "class_Iris-versicolor": 0,
                  "class_Iris-virginica": 1,
                  "_deepnote_index_column": "Iris-virginica"
                },
                {
                  "sepal length": 6.5,
                  "sepal width": 3,
                  "petal length": 5.2,
                  "petal width": 2,
                  "target": 3,
                  "class_Iris-setosa": 0,
                  "class_Iris-versicolor": 0,
                  "class_Iris-virginica": 1,
                  "_deepnote_index_column": "Iris-virginica"
                },
                {
                  "sepal length": 6.2,
                  "sepal width": 3.4,
                  "petal length": 5.4,
                  "petal width": 2.3,
                  "target": 3,
                  "class_Iris-setosa": 0,
                  "class_Iris-versicolor": 0,
                  "class_Iris-virginica": 1,
                  "_deepnote_index_column": "Iris-virginica"
                },
                {
                  "sepal length": 5.9,
                  "sepal width": 3,
                  "petal length": 5.1,
                  "petal width": 1.8,
                  "target": 3,
                  "class_Iris-setosa": 0,
                  "class_Iris-versicolor": 0,
                  "class_Iris-virginica": 1,
                  "_deepnote_index_column": "Iris-virginica"
                }
              ]
            },
            "text/plain": "                sepal length  sepal width  petal length  petal width  target  \\\nE                                                                              \nIris-setosa              5.1          3.5           1.4          0.2       1   \nIris-setosa              4.9          3.0           1.4          0.2       1   \nIris-setosa              4.7          3.2           1.3          0.2       1   \nIris-setosa              4.6          3.1           1.5          0.2       1   \nIris-setosa              5.0          3.6           1.4          0.2       1   \n...                      ...          ...           ...          ...     ...   \nIris-virginica           6.7          3.0           5.2          2.3       3   \nIris-virginica           6.3          2.5           5.0          1.9       3   \nIris-virginica           6.5          3.0           5.2          2.0       3   \nIris-virginica           6.2          3.4           5.4          2.3       3   \nIris-virginica           5.9          3.0           5.1          1.8       3   \n\n                class_Iris-setosa  class_Iris-versicolor  class_Iris-virginica  \nE                                                                               \nIris-setosa                     1                      0                     0  \nIris-setosa                     1                      0                     0  \nIris-setosa                     1                      0                     0  \nIris-setosa                     1                      0                     0  \nIris-setosa                     1                      0                     0  \n...                           ...                    ...                   ...  \nIris-virginica                  0                      0                     1  \nIris-virginica                  0                      0                     1  \nIris-virginica                  0                      0                     1  \nIris-virginica                  0                      0                     1  \nIris-virginica                  0                      0                     1  \n\n[150 rows x 8 columns]",
            "text/html": "<div>\n<style scoped>\n    .dataframe tbody tr th:only-of-type {\n        vertical-align: middle;\n    }\n\n    .dataframe tbody tr th {\n        vertical-align: top;\n    }\n\n    .dataframe thead th {\n        text-align: right;\n    }\n</style>\n<table border=\"1\" class=\"dataframe\">\n  <thead>\n    <tr style=\"text-align: right;\">\n      <th></th>\n      <th>sepal length</th>\n      <th>sepal width</th>\n      <th>petal length</th>\n      <th>petal width</th>\n      <th>target</th>\n      <th>class_Iris-setosa</th>\n      <th>class_Iris-versicolor</th>\n      <th>class_Iris-virginica</th>\n    </tr>\n    <tr>\n      <th>E</th>\n      <th></th>\n      <th></th>\n      <th></th>\n      <th></th>\n      <th></th>\n      <th></th>\n      <th></th>\n      <th></th>\n    </tr>\n  </thead>\n  <tbody>\n    <tr>\n      <th>Iris-setosa</th>\n      <td>5.1</td>\n      <td>3.5</td>\n      <td>1.4</td>\n      <td>0.2</td>\n      <td>1</td>\n      <td>1</td>\n      <td>0</td>\n      <td>0</td>\n    </tr>\n    <tr>\n      <th>Iris-setosa</th>\n      <td>4.9</td>\n      <td>3.0</td>\n      <td>1.4</td>\n      <td>0.2</td>\n      <td>1</td>\n      <td>1</td>\n      <td>0</td>\n      <td>0</td>\n    </tr>\n    <tr>\n      <th>Iris-setosa</th>\n      <td>4.7</td>\n      <td>3.2</td>\n      <td>1.3</td>\n      <td>0.2</td>\n      <td>1</td>\n      <td>1</td>\n      <td>0</td>\n      <td>0</td>\n    </tr>\n    <tr>\n      <th>Iris-setosa</th>\n      <td>4.6</td>\n      <td>3.1</td>\n      <td>1.5</td>\n      <td>0.2</td>\n      <td>1</td>\n      <td>1</td>\n      <td>0</td>\n      <td>0</td>\n    </tr>\n    <tr>\n      <th>Iris-setosa</th>\n      <td>5.0</td>\n      <td>3.6</td>\n      <td>1.4</td>\n      <td>0.2</td>\n      <td>1</td>\n      <td>1</td>\n      <td>0</td>\n      <td>0</td>\n    </tr>\n    <tr>\n      <th>...</th>\n      <td>...</td>\n      <td>...</td>\n      <td>...</td>\n      <td>...</td>\n      <td>...</td>\n      <td>...</td>\n      <td>...</td>\n      <td>...</td>\n    </tr>\n    <tr>\n      <th>Iris-virginica</th>\n      <td>6.7</td>\n      <td>3.0</td>\n      <td>5.2</td>\n      <td>2.3</td>\n      <td>3</td>\n      <td>0</td>\n      <td>0</td>\n      <td>1</td>\n    </tr>\n    <tr>\n      <th>Iris-virginica</th>\n      <td>6.3</td>\n      <td>2.5</td>\n      <td>5.0</td>\n      <td>1.9</td>\n      <td>3</td>\n      <td>0</td>\n      <td>0</td>\n      <td>1</td>\n    </tr>\n    <tr>\n      <th>Iris-virginica</th>\n      <td>6.5</td>\n      <td>3.0</td>\n      <td>5.2</td>\n      <td>2.0</td>\n      <td>3</td>\n      <td>0</td>\n      <td>0</td>\n      <td>1</td>\n    </tr>\n    <tr>\n      <th>Iris-virginica</th>\n      <td>6.2</td>\n      <td>3.4</td>\n      <td>5.4</td>\n      <td>2.3</td>\n      <td>3</td>\n      <td>0</td>\n      <td>0</td>\n      <td>1</td>\n    </tr>\n    <tr>\n      <th>Iris-virginica</th>\n      <td>5.9</td>\n      <td>3.0</td>\n      <td>5.1</td>\n      <td>1.8</td>\n      <td>3</td>\n      <td>0</td>\n      <td>0</td>\n      <td>1</td>\n    </tr>\n  </tbody>\n</table>\n<p>150 rows × 8 columns</p>\n</div>"
          },
          "metadata": {}
        }
      ],
      "execution_count": null
    },
    {
      "cell_type": "code",
      "metadata": {
        "deletable": false,
        "editable": false,
        "nbgrader": {
          "cell_type": "code",
          "checksum": "fd1e5d3933256fa113642e421db19875",
          "grade": true,
          "grade_id": "cell-423f24383553b71a",
          "locked": true,
          "points": 1,
          "schema_version": 3,
          "solution": false,
          "task": false
        },
        "cell_id": "00018-a71d1532-6123-4268-9e70-9db054d884e8",
        "deepnote_to_be_reexecuted": false,
        "source_hash": "9c6cc7a7",
        "execution_millis": 3,
        "execution_start": 1618845928629,
        "deepnote_cell_type": "code"
      },
      "source": "ohe_data = ohe()\ndataset=ohe_data\n\nassert ohe_data.shape == (150,8)",
      "outputs": [],
      "execution_count": null
    },
    {
      "cell_type": "markdown",
      "source": "## Step 2: Setting up supervised learning problem (selecting features)\n\nFeature selection is an essential step in improving a model's perfromance. In the first version of the model we will use the **'sepal length'** and **'sepal width'** as predicting features. Later we will see the effect of adding additional features.\n\n1. Assign the values of the 'target' to Y as a numpy array\n2. Assign the remaining feature values to X as a numpy array\n3. Check the shape of X and Y. Check the first few values.\n    - Can we confirm our X and Y are created correctly?",
      "metadata": {
        "cell_id": "00019-0d23037d-b5d3-4f9c-9a1f-d9c1b8278f07",
        "deepnote_cell_type": "markdown"
      }
    },
    {
      "cell_type": "code",
      "metadata": {
        "deletable": false,
        "nbgrader": {
          "cell_type": "code",
          "checksum": "56b10067459820c4e0a12ebf6efe8b5b",
          "grade": false,
          "grade_id": "cell-c0cf28fd18447a0b",
          "locked": false,
          "schema_version": 3,
          "solution": true,
          "task": false
        },
        "cell_id": "00020-8d252de4-7b39-460c-870f-83383e248002",
        "deepnote_to_be_reexecuted": false,
        "source_hash": "1d3dac3",
        "execution_millis": 51,
        "execution_start": 1618847380587,
        "deepnote_cell_type": "code"
      },
      "source": "def target_to_numpy():\n    # YOUR CODE HERE\n    #Y=dataset[[\"class_Iris-setosa\",\"class_Iris-versicolor\",\"class_Iris-virginica\"]].to_numpy()\n    Y=dataset[[\"target\"]].to_numpy()\n    return Y.reshape(-1)\n    \n    raise NotImplementedError()\ndef data_to_numpy():\n    # YOUR CODE HERE\n    X=dataset[['sepal length','sepal width']].to_numpy()\n    return X\n    raise NotImplementedError()\ntarget_to_numpy().shape",
      "outputs": [
        {
          "output_type": "execute_result",
          "execution_count": 207,
          "data": {
            "text/plain": "(150,)"
          },
          "metadata": {}
        }
      ],
      "execution_count": null
    },
    {
      "cell_type": "code",
      "source": "",
      "metadata": {
        "tags": [],
        "cell_id": "00021-e11755e0-8004-415b-8735-9aeac6d883c9",
        "deepnote_to_be_reexecuted": false,
        "source_hash": "b623e53d",
        "execution_millis": 3,
        "execution_start": 1618847346149,
        "deepnote_cell_type": "code"
      },
      "outputs": [],
      "execution_count": null
    },
    {
      "cell_type": "code",
      "metadata": {
        "deletable": false,
        "editable": false,
        "nbgrader": {
          "cell_type": "code",
          "checksum": "97b1e0d84441ff74af70eef303cb09da",
          "grade": true,
          "grade_id": "cell-aaf03dfa38041beb",
          "locked": true,
          "points": 1,
          "schema_version": 3,
          "solution": false,
          "task": false
        },
        "cell_id": "00021-5d9e7fc4-5e4b-40ca-bcb1-3b5dbb0bc45a",
        "deepnote_to_be_reexecuted": false,
        "source_hash": "9626c8e4",
        "execution_millis": 2,
        "execution_start": 1618847397442,
        "deepnote_cell_type": "code"
      },
      "source": "Y = target_to_numpy()\nX = data_to_numpy()\nassert isinstance(Y, np.ndarray)\nassert isinstance(X, np.ndarray)\nassert X.shape == (150,2)",
      "outputs": [],
      "execution_count": null
    },
    {
      "cell_type": "code",
      "metadata": {
        "cell_id": "00022-8e270d2e-04d8-4121-8a16-9badac2bc7ce",
        "deepnote_to_be_reexecuted": false,
        "source_hash": "d902af7f",
        "execution_millis": 4,
        "execution_start": 1618847398249,
        "deepnote_cell_type": "code"
      },
      "source": "#your code here\nX = dataset[['sepal length', 'sepal width']].values\nprint(X.shape)\nX[:5]\n",
      "outputs": [],
      "execution_count": null
    },
    {
      "cell_type": "markdown",
      "source": "## Step 3: Creating the first model\n\nIn lecture we learned about creating a train and test datasets, normalizing, and fitting a model. In this step we will see how to build a simple version of this.\n\nWe have to be careful when constructing our train and test datasets. First, when we create train and test datasets we have to be careful that we always have the same datapoints in each set. Otherwise our results won't be reproduceable or we might introduce a bias into our model.\n\nWe also need to be attentive to when we normalize the data. What would be the effect of normalizing the data (i.e. with StandardScaler to a range between 0 - 1) before we create our train and test sets? Effectively we would use information in the test set to structure the values in the training set and vice versa. Therefore normalizing train and test independently is the preferred method.\n\n1. Create X_train, X_test, Y_train, Y_test using ```train_test_split()``` with an 80/20 train/test split. Look in the SKLearn documentation to understand how the function works.\n    - Inspect the first few rows of X_train.\n    - Run the cell a few times. Do the first few rows change?\n    - What option can we use in ```train_test_split()``` to stop this from happening?\n2. Normalize the train and test datasets with ```StandardScaler```\n    - We can fit the transform with ```.fit()``` and ```.transform()``` to apply it. Look in the documentation for an esample of how to do this.\n    - Does it make sense to normalize Y_train and Y_test?\n3. Initalize a ```LogisticRegression()``` model and use the ```.fit()``` method to initalize the first model.\n    - We will pass the X_train and Y_train variables to the ```.fit()``` method.\n    - Once the model is fit, use the ```.predict()``` with the X_test and save the output as predictions.",
      "metadata": {
        "cell_id": "00023-1e764930-df01-448e-bd32-8516ba9e1d4a",
        "deepnote_cell_type": "markdown"
      }
    },
    {
      "cell_type": "code",
      "metadata": {
        "deletable": false,
        "nbgrader": {
          "cell_type": "code",
          "checksum": "a1e55823f8c49a22a28af13f984d10ba",
          "grade": false,
          "grade_id": "cell-586cc3c4a3d849fa",
          "locked": false,
          "schema_version": 3,
          "solution": true,
          "task": false
        },
        "cell_id": "00024-dc0f3410-500a-4a87-9046-da71efddc554",
        "deepnote_to_be_reexecuted": false,
        "source_hash": "78cb9ae7",
        "execution_millis": 16,
        "execution_start": 1618847400677,
        "deepnote_cell_type": "code"
      },
      "source": "#split train and test data 80/20\n#your code here\nX_train, X_test, y_train, y_test = 0,0,0,0\n\nX_train, X_test, Y_train, Y_test = train_test_split(X, Y, test_size=0.20, random_state=37)\n\n# YOUR CODE HERE\n#raise NotImplementedError()\n\nprint(X_train.shape)\nprint(Y_train.shape)\nprint(X_test.shape)\nprint(Y_test.shape)\n",
      "outputs": [
        {
          "name": "stdout",
          "text": "(120, 2)\n(120,)\n(30, 2)\n(30,)\n",
          "output_type": "stream"
        }
      ],
      "execution_count": null
    },
    {
      "cell_type": "code",
      "metadata": {
        "deletable": false,
        "editable": false,
        "nbgrader": {
          "cell_type": "code",
          "checksum": "79e08b4d1d8ba96ace800f9f7544289a",
          "grade": true,
          "grade_id": "cell-4415454a211f5895",
          "locked": true,
          "points": 1,
          "schema_version": 3,
          "solution": false,
          "task": false
        },
        "cell_id": "00025-7551bf1f-d8e4-41d8-8fc7-cf2c4f3e55c6",
        "deepnote_to_be_reexecuted": false,
        "source_hash": "776514ef",
        "execution_millis": 3,
        "execution_start": 1618847402021,
        "deepnote_cell_type": "code"
      },
      "source": "assert X_train.shape == (120,2)\nassert Y_train.shape == (120,)\nassert X_test.shape  == (30,2)\nassert Y_test.shape  == (30,)",
      "outputs": [],
      "execution_count": null
    },
    {
      "cell_type": "code",
      "metadata": {
        "deletable": false,
        "nbgrader": {
          "cell_type": "code",
          "checksum": "cae2c49fb6dd8edd9da705b91681b634",
          "grade": false,
          "grade_id": "cell-d94703390548f2df",
          "locked": false,
          "schema_version": 3,
          "solution": true,
          "task": false
        },
        "cell_id": "00026-2ee18543-00ef-4ed3-8428-9b988f4e7b48",
        "deepnote_to_be_reexecuted": false,
        "source_hash": "49a2463f",
        "execution_millis": 21,
        "execution_start": 1618848867580,
        "deepnote_cell_type": "code"
      },
      "source": "#normalize the dataset\n#your code here\n\n\nX_train=sklearn.preprocessing.normalize(X_train)\nX_test=sklearn.preprocessing.normalize(X_test)\n\n#Y_train=sklearn.preprocessing.normalize(Y_train)\n#Y_test=sklearn.preprocessing.normalize(Y_test)\n\n#create and fit the scaler object on the training data\n# YOUR CODE HERE\n\nscaler=StandardScaler\nscaler=scaler.fit(X_train)\nX_train=scaler.transform(X_train)\nX_test=scaler.transform(X_test)\n\nraise NotImplementedError()\n\nX_train[:5]",
      "outputs": [
        {
          "output_type": "error",
          "ename": "TypeError",
          "evalue": "fit() missing 1 required positional argument: 'X'",
          "traceback": [
            "\u001b[0;31m---------------------------------------------------------------------------\u001b[0m",
            "\u001b[0;31mTypeError\u001b[0m                                 Traceback (most recent call last)",
            "\u001b[0;32m<ipython-input-219-4ffff9120076>\u001b[0m in \u001b[0;36m<module>\u001b[0;34m\u001b[0m\n\u001b[1;32m     13\u001b[0m \u001b[0;34m\u001b[0m\u001b[0m\n\u001b[1;32m     14\u001b[0m \u001b[0mscaler\u001b[0m\u001b[0;34m=\u001b[0m\u001b[0mStandardScaler\u001b[0m\u001b[0;34m\u001b[0m\u001b[0;34m\u001b[0m\u001b[0m\n\u001b[0;32m---> 15\u001b[0;31m \u001b[0mscaler\u001b[0m\u001b[0;34m=\u001b[0m\u001b[0mscaler\u001b[0m\u001b[0;34m.\u001b[0m\u001b[0mfit\u001b[0m\u001b[0;34m(\u001b[0m\u001b[0mX_train\u001b[0m\u001b[0;34m)\u001b[0m\u001b[0;34m\u001b[0m\u001b[0;34m\u001b[0m\u001b[0m\n\u001b[0m\u001b[1;32m     16\u001b[0m \u001b[0mX_train\u001b[0m\u001b[0;34m=\u001b[0m\u001b[0mscaler\u001b[0m\u001b[0;34m.\u001b[0m\u001b[0mtransform\u001b[0m\u001b[0;34m(\u001b[0m\u001b[0mX_train\u001b[0m\u001b[0;34m)\u001b[0m\u001b[0;34m\u001b[0m\u001b[0;34m\u001b[0m\u001b[0m\n\u001b[1;32m     17\u001b[0m \u001b[0mX_test\u001b[0m\u001b[0;34m=\u001b[0m\u001b[0mscaler\u001b[0m\u001b[0;34m.\u001b[0m\u001b[0mtransform\u001b[0m\u001b[0;34m(\u001b[0m\u001b[0mX_test\u001b[0m\u001b[0;34m)\u001b[0m\u001b[0;34m\u001b[0m\u001b[0;34m\u001b[0m\u001b[0m\n",
            "\u001b[0;31mTypeError\u001b[0m: fit() missing 1 required positional argument: 'X'"
          ]
        }
      ],
      "execution_count": null
    },
    {
      "cell_type": "code",
      "metadata": {
        "deletable": false,
        "editable": false,
        "nbgrader": {
          "cell_type": "code",
          "checksum": "94c70e4e0a35aabf275dcfc54032c506",
          "grade": true,
          "grade_id": "cell-fd525045d90798a3",
          "locked": true,
          "points": 2,
          "schema_version": 3,
          "solution": false,
          "task": false
        },
        "cell_id": "00027-f5fc8feb-6ecc-4b89-8e32-7dd104e81b48",
        "deepnote_to_be_reexecuted": false,
        "source_hash": "16776be0",
        "execution_start": 1618846945887,
        "execution_millis": 100,
        "deepnote_cell_type": "code"
      },
      "source": "assert np.amin(X_train) >= -2.5\nassert np.amax(X_train) <= 3.2\nassert np.amin(X_test) >= -2\nassert np.amin(X_test) <= 2.75",
      "outputs": [
        {
          "output_type": "error",
          "ename": "AssertionError",
          "evalue": "",
          "traceback": [
            "\u001b[0;31m---------------------------------------------------------------------------\u001b[0m",
            "\u001b[0;31mAssertionError\u001b[0m                            Traceback (most recent call last)",
            "\u001b[0;32m<ipython-input-191-faadc345742e>\u001b[0m in \u001b[0;36m<module>\u001b[0;34m\u001b[0m\n\u001b[1;32m      1\u001b[0m \u001b[0;32massert\u001b[0m \u001b[0mnp\u001b[0m\u001b[0;34m.\u001b[0m\u001b[0mamin\u001b[0m\u001b[0;34m(\u001b[0m\u001b[0mX_train\u001b[0m\u001b[0;34m)\u001b[0m \u001b[0;34m>=\u001b[0m \u001b[0;34m-\u001b[0m\u001b[0;36m2.5\u001b[0m\u001b[0;34m\u001b[0m\u001b[0;34m\u001b[0m\u001b[0m\n\u001b[0;32m----> 2\u001b[0;31m \u001b[0;32massert\u001b[0m \u001b[0mnp\u001b[0m\u001b[0;34m.\u001b[0m\u001b[0mamax\u001b[0m\u001b[0;34m(\u001b[0m\u001b[0mX_train\u001b[0m\u001b[0;34m)\u001b[0m \u001b[0;34m<=\u001b[0m \u001b[0;36m3.2\u001b[0m\u001b[0;34m\u001b[0m\u001b[0;34m\u001b[0m\u001b[0m\n\u001b[0m\u001b[1;32m      3\u001b[0m \u001b[0;32massert\u001b[0m \u001b[0mnp\u001b[0m\u001b[0;34m.\u001b[0m\u001b[0mamin\u001b[0m\u001b[0;34m(\u001b[0m\u001b[0mX_test\u001b[0m\u001b[0;34m)\u001b[0m \u001b[0;34m>=\u001b[0m \u001b[0;34m-\u001b[0m\u001b[0;36m2\u001b[0m\u001b[0;34m\u001b[0m\u001b[0;34m\u001b[0m\u001b[0m\n\u001b[1;32m      4\u001b[0m \u001b[0;32massert\u001b[0m \u001b[0mnp\u001b[0m\u001b[0;34m.\u001b[0m\u001b[0mamin\u001b[0m\u001b[0;34m(\u001b[0m\u001b[0mX_test\u001b[0m\u001b[0;34m)\u001b[0m \u001b[0;34m<=\u001b[0m \u001b[0;36m2.75\u001b[0m\u001b[0;34m\u001b[0m\u001b[0;34m\u001b[0m\u001b[0m\n",
            "\u001b[0;31mAssertionError\u001b[0m: "
          ]
        }
      ],
      "execution_count": null
    },
    {
      "cell_type": "code",
      "metadata": {
        "deletable": false,
        "nbgrader": {
          "cell_type": "code",
          "checksum": "38fcab794674e83ebb32a2828a429d4b",
          "grade": false,
          "grade_id": "cell-a91abe39c7261df3",
          "locked": false,
          "schema_version": 3,
          "solution": true,
          "task": false
        },
        "cell_id": "00028-e631e753-bee4-4e67-9399-b672e41049aa",
        "deepnote_cell_type": "code"
      },
      "source": "#initalize and fit with Logistic Regression\nprediction = 0\n#your code here\n\n#initalize the logistic regressor\n#make predictions\n# YOUR CODE HERE\nraise NotImplementedError()\n\n",
      "execution_count": null,
      "outputs": []
    },
    {
      "cell_type": "code",
      "metadata": {
        "deletable": false,
        "editable": false,
        "nbgrader": {
          "cell_type": "code",
          "checksum": "47ce21dba76593cfaa123c1ab6e3faae",
          "grade": true,
          "grade_id": "cell-61e5bc16122b7220",
          "locked": true,
          "points": 2,
          "schema_version": 3,
          "solution": false,
          "task": false
        },
        "cell_id": "00029-5adf961e-f66c-401f-9dc2-f11b6eaee2d5",
        "deepnote_cell_type": "code"
      },
      "source": "assert predictions.shape == (30,)",
      "execution_count": null,
      "outputs": []
    },
    {
      "cell_type": "markdown",
      "source": "## Step 4: Evaluate the frist model's predictions\n\nWe will learn more about how to evaluate the performance of a classifier in later lessons. For now we will use % accuracy as our metric. It is important to know that this metric only helps us understand the specific performance of our model and not, for example, where we can improve it, or where it already perfoms well.\n\n1. Use ```.score()``` to evaluate the performance of our first model.",
      "metadata": {
        "deletable": false,
        "editable": false,
        "nbgrader": {
          "cell_type": "markdown",
          "checksum": "0cf62aaed986a743938e4194ee854464",
          "grade": false,
          "grade_id": "cell-ad53c7b7761b7c33",
          "locked": true,
          "schema_version": 3,
          "solution": false,
          "task": false
        },
        "cell_id": "00030-ca4a1cfa-f92b-48a5-be5e-55bce2a24032",
        "deepnote_cell_type": "markdown"
      }
    },
    {
      "cell_type": "code",
      "metadata": {
        "deletable": false,
        "nbgrader": {
          "cell_type": "code",
          "checksum": "eee957f8a23e8bf11a08b81ca09b59de",
          "grade": false,
          "grade_id": "cell-a19f9db86d767c57",
          "locked": false,
          "schema_version": 3,
          "solution": true,
          "task": false
        },
        "cell_id": "00031-2c5be75c-485b-4b9d-9689-bec176dbde29",
        "deepnote_cell_type": "code"
      },
      "source": "score = 0\n#evaluating the performace of our first model\n#your code here\n# YOUR CODE HERE\n\nraise NotImplementedError()\n",
      "execution_count": null,
      "outputs": []
    },
    {
      "cell_type": "code",
      "metadata": {
        "deletable": false,
        "editable": false,
        "nbgrader": {
          "cell_type": "code",
          "checksum": "b0ffe44569c3d8cfd1b662cb1eee741a",
          "grade": true,
          "grade_id": "cell-300a4e426c8fcfa1",
          "locked": true,
          "points": 1,
          "schema_version": 3,
          "solution": false,
          "task": false
        },
        "cell_id": "00032-d95eab10-ba9d-48ba-96c9-0168c4caeed1",
        "deepnote_cell_type": "code"
      },
      "source": "assert score >=0.7",
      "execution_count": null,
      "outputs": []
    },
    {
      "cell_type": "code",
      "metadata": {
        "deletable": false,
        "editable": false,
        "nbgrader": {
          "cell_type": "code",
          "checksum": "f5c847b79b21710ec7f481b2e5641562",
          "grade": true,
          "grade_id": "cell-f7dbd3aa1419397f",
          "locked": true,
          "points": 1,
          "schema_version": 3,
          "solution": false,
          "task": false
        },
        "cell_id": "00033-ccc3488b-f9fe-40a6-a76d-dffe330d9df6",
        "deepnote_cell_type": "code"
      },
      "source": "assert score >=0.72",
      "execution_count": null,
      "outputs": []
    },
    {
      "cell_type": "code",
      "metadata": {
        "deletable": false,
        "editable": false,
        "nbgrader": {
          "cell_type": "code",
          "checksum": "ba1d8e7eeb90894ad0d9ad61f191cacc",
          "grade": true,
          "grade_id": "cell-3b6954a5b2f244cd",
          "locked": true,
          "points": 1,
          "schema_version": 3,
          "solution": false,
          "task": false
        },
        "cell_id": "00034-a1393164-3a3d-4a9b-846b-9e11f2e4a1b3",
        "deepnote_cell_type": "code"
      },
      "source": "assert score >=0.73",
      "execution_count": null,
      "outputs": []
    },
    {
      "cell_type": "markdown",
      "source": "## Step 5: Crossvalidation of the model\nOur first model achived ~90% accruacy. This is quite good. How do we know it is reproducable? If we run the model again and our performance is 85% which is correct? And what about improving our model? Can you think of one thing we can do to potentially improve the model?\n\n#### Crossvalidation\nCorssvalidation is when we create multiple X and Y datasets. On each dataset we train and fit the model. We then average the results and return a 'crossvalidated' accruacy.\n\n1. Initalize a new version of the model you trained above with the same paramters.\n2. Use ```cross_validate()``` to run the model with 5 crossvalidation folds. ",
      "metadata": {
        "deletable": false,
        "editable": false,
        "nbgrader": {
          "cell_type": "markdown",
          "checksum": "c79bec6a741d60a82f6bcbaf802ea63a",
          "grade": false,
          "grade_id": "cell-5606fc0823aee705",
          "locked": true,
          "schema_version": 3,
          "solution": false,
          "task": false
        },
        "cell_id": "00035-5cebb212-4ed2-4881-a979-b1be76b76d30",
        "deepnote_cell_type": "markdown"
      }
    },
    {
      "cell_type": "code",
      "metadata": {
        "deletable": false,
        "nbgrader": {
          "cell_type": "code",
          "checksum": "a94fe1023a3040a963c76b37ca85c8cb",
          "grade": false,
          "grade_id": "cell-49d1242d4949806f",
          "locked": false,
          "schema_version": 3,
          "solution": true,
          "task": false
        },
        "cell_id": "00036-2b5e1e69-81c0-495a-a65f-2588a75dfc8d",
        "deepnote_cell_type": "code"
      },
      "source": "#model with cross validation\n#your code here\n\n#cross validate the training set\nclf_cv = 0\nCV = 0\n# YOUR CODE HERE\nraise NotImplementedError()\n\ndef print_scores(cv):\n    #print out cross validation scores\n    [print('Crossvalidation fold: {}  Accruacy: {}'.format(n, score)) for n, score in enumerate(cv['test_score'])]\n    #print out the mean of the cross validation\n    print('Mean train cross validation score {}'.format(cv['test_score'].mean()))\n    \nprint_scores(cv)",
      "execution_count": null,
      "outputs": []
    },
    {
      "cell_type": "code",
      "metadata": {
        "deletable": false,
        "editable": false,
        "nbgrader": {
          "cell_type": "code",
          "checksum": "f654258178a1653e2150e77099a2517c",
          "grade": true,
          "grade_id": "cell-cbdb686462858d91",
          "locked": true,
          "points": 4,
          "schema_version": 3,
          "solution": false,
          "task": false
        },
        "cell_id": "00037-60d6e48b-a509-41d3-9070-8762aac3c9be",
        "deepnote_cell_type": "code"
      },
      "source": "assert len(cv['test_score']) == 5\nassert max(cv['test_score']) >= 0.85\nassert min(cv['test_score']) >= 0.69\nassert cv['test_score'].mean() >= 0.77",
      "execution_count": null,
      "outputs": []
    },
    {
      "cell_type": "markdown",
      "source": "## Step 6: Creating an end to end ML pipeline\nCongraulations you've trained, crossvalidated, predicted, and evaluated your frist classifier. Now that you understand the basic steps we will look at a way to combine all these steps together.\n\nBefore we go further think about what you would have to do if you wanted to change the model. Intalize a new model, change the vairables, redo the cross validation...etc. Seems like a lot. And when we have to change lots of code it is easy to make mistakes. And what if you wanted to try many models and see which one performed best? Or try changing many different features? How could you do it without writing each one out as we have?\n\nThe solution is to use SKLearn's pipeline class. A pipeline is an object that will execute the various steps in the machine learning process. We can choose what elements we want in the pipeline and those that we do not. Once setup, we can rapidly change models, or input data and have it return our results in an ordered way.\n\n\n1. Initalize a scaler and a classifer object like we did previously.\n2. Use the ```make_pipeline()``` function to construct a transofmraiton pipeline for the scaler and the classifier\n3. Input the pipeline object to the cross_validator and evaluate with 5 folds.\n4. Print out your results (hint: make a function for repetitve tasks like printing)",
      "metadata": {
        "deletable": false,
        "editable": false,
        "nbgrader": {
          "cell_type": "markdown",
          "checksum": "3715a10f14e6e81bfbdd7fff9c516566",
          "grade": false,
          "grade_id": "cell-979159550aa72926",
          "locked": true,
          "schema_version": 3,
          "solution": false,
          "task": false
        },
        "cell_id": "00038-1af55839-8cc2-4487-b38a-740942208101",
        "deepnote_cell_type": "markdown"
      }
    },
    {
      "cell_type": "code",
      "metadata": {
        "deletable": false,
        "nbgrader": {
          "cell_type": "code",
          "checksum": "c911b68feeb3cc9856690815db075f50",
          "grade": false,
          "grade_id": "cell-82685348a4b1d16a",
          "locked": false,
          "schema_version": 3,
          "solution": true,
          "task": false
        },
        "cell_id": "00039-01778870-6503-4456-b924-0116a40ffe44",
        "deepnote_cell_type": "code"
      },
      "source": "#define the scaler\n#define the classifier\n#make the pipeline\n#run the cross validation\n#print results\nscaler = 0\nclassifier = 0\npipe = 0\nscores = 0\n# YOUR CODE HERE\nraise NotImplementedError()\n",
      "execution_count": null,
      "outputs": []
    },
    {
      "cell_type": "code",
      "metadata": {
        "deletable": false,
        "editable": false,
        "nbgrader": {
          "cell_type": "code",
          "checksum": "b5c8f91e5b08221dee1527dffc0b2a25",
          "grade": true,
          "grade_id": "cell-0f5c78a78336a3c0",
          "locked": true,
          "points": 4,
          "schema_version": 3,
          "solution": false,
          "task": false
        },
        "cell_id": "00040-1c7a28ee-7184-48c8-8a14-6f7cdcb92815",
        "deepnote_cell_type": "code"
      },
      "source": "assert type(pipe) == type(make_pipeline(scaler, classifier))\nassert len(cv['test_score']) == 5\nassert max(cv['test_score']) >= 0.83\nassert min(cv['test_score']) >= 0.69\nassert cv['test_score'].mean() >= 0.74",
      "execution_count": null,
      "outputs": []
    },
    {
      "cell_type": "markdown",
      "source": "## Challenge Exercise\n\nIn this notebook we only used two features to predict the class of the flower. We also did not do any hypter parameter tuning. The challenge is to impove the prediction results. Some ideas we can try:\n1. Add features to the input and run the cross validation pipeline\n2. Investigate how to use ```GridSearchCV```, a powerful funtion that searches through hyperparmetrs and does cross validation.\n    - Hint: Input the pipeline directly into GridSearchCV\n3. Try a different models like RandomForest or SVM.",
      "metadata": {
        "cell_id": "00041-e4a42182-9dce-4eaf-8197-e4c634865f49",
        "deepnote_cell_type": "markdown"
      }
    },
    {
      "cell_type": "code",
      "metadata": {
        "deletable": false,
        "nbgrader": {
          "cell_type": "code",
          "checksum": "d9c5ac9e443f032b6d2e99fcef3fa7c3",
          "grade": false,
          "grade_id": "cell-f1ba9880447e80ec",
          "locked": false,
          "schema_version": 3,
          "solution": true,
          "task": false
        },
        "cell_id": "00042-be5e7c0b-7331-4bdc-87e5-e316f54d9af8",
        "deepnote_cell_type": "code"
      },
      "source": "# YOUR CODE HERE\nraise NotImplementedError()",
      "execution_count": null,
      "outputs": []
    },
    {
      "cell_type": "code",
      "metadata": {
        "deletable": false,
        "nbgrader": {
          "cell_type": "code",
          "checksum": "690e0a731464fb3ff622b9f4bf584a2a",
          "grade": false,
          "grade_id": "cell-71c06d508e0294b0",
          "locked": false,
          "schema_version": 3,
          "solution": true,
          "task": false
        },
        "cell_id": "00043-6c6a286f-6597-49f6-aeb2-16e929667c42",
        "deepnote_cell_type": "code"
      },
      "source": "# YOUR CODE HERE\nraise NotImplementedError()",
      "execution_count": null,
      "outputs": []
    },
    {
      "cell_type": "code",
      "metadata": {
        "deletable": false,
        "nbgrader": {
          "cell_type": "code",
          "checksum": "00a800930107c91e913f6a2e94b3f9eb",
          "grade": false,
          "grade_id": "cell-230a4548c4b43eb7",
          "locked": false,
          "schema_version": 3,
          "solution": true,
          "task": false
        },
        "cell_id": "00044-d1d5fc2f-313d-4198-a714-78eef8195e8d",
        "deepnote_cell_type": "code"
      },
      "source": "# YOUR CODE HERE\nraise NotImplementedError()",
      "execution_count": null,
      "outputs": []
    },
    {
      "cell_type": "code",
      "metadata": {
        "deletable": false,
        "nbgrader": {
          "cell_type": "code",
          "checksum": "532f0558f08bb8508d769ed40f9caea7",
          "grade": false,
          "grade_id": "cell-be4475eea0463f76",
          "locked": false,
          "schema_version": 3,
          "solution": true,
          "task": false
        },
        "cell_id": "00045-f5705a5e-2870-412c-b31d-3824bd9fa596",
        "deepnote_cell_type": "code"
      },
      "source": "# YOUR CODE HERE\nraise NotImplementedError()",
      "execution_count": null,
      "outputs": []
    },
    {
      "cell_type": "code",
      "metadata": {
        "deletable": false,
        "nbgrader": {
          "cell_type": "code",
          "checksum": "59d36e612fde5b4bb9059120c948dee4",
          "grade": false,
          "grade_id": "cell-b31a03b36b3beb45",
          "locked": false,
          "schema_version": 3,
          "solution": true,
          "task": false
        },
        "cell_id": "00046-0e9babf7-f271-4fd7-8337-5ef8367f5fb2",
        "deepnote_cell_type": "code"
      },
      "source": "# YOUR CODE HERE\nraise NotImplementedError()",
      "execution_count": null,
      "outputs": []
    },
    {
      "cell_type": "markdown",
      "source": "<a style='text-decoration:none;line-height:16px;display:flex;color:#5B5B62;padding:10px;justify-content:end;' href='https://deepnote.com?utm_source=created-in-deepnote-cell&projectId=796ba814-f632-4502-b0d7-7e2f8f9e546d' target=\"_blank\">\n<img alt='Created in deepnote.com' style='display:inline;max-height:16px;margin:0px;margin-right:7.5px;' src='data:image/svg+xml;base64,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' > </img>\nCreated in <span style='font-weight:600;margin-left:4px;'>Deepnote</span></a>",
      "metadata": {
        "tags": [],
        "created_in_deepnote_cell": true,
        "deepnote_cell_type": "markdown"
      }
    }
  ],
  "nbformat": 4,
  "nbformat_minor": 2,
  "metadata": {
    "kernelspec": {
      "display_name": "Python 3",
      "language": "python",
      "name": "python3"
    },
    "language_info": {
      "codemirror_mode": {
        "name": "ipython",
        "version": 3
      },
      "file_extension": ".py",
      "mimetype": "text/x-python",
      "name": "python",
      "nbconvert_exporter": "python",
      "pygments_lexer": "ipython3",
      "version": "3.8.8"
    },
    "deepnote_notebook_id": "e37a0ec9-e813-4a4c-b8b6-1211562b3d91",
    "deepnote": {},
    "deepnote_execution_queue": []
  }
}