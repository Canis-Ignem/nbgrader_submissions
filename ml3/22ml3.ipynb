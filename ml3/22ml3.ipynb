{
 "cells": [
  {
   "cell_type": "markdown",
   "metadata": {
    "deletable": false,
    "editable": false,
    "nbgrader": {
     "cell_type": "markdown",
     "checksum": "89eed0907f0119c6c6f6ef390cc54c08",
     "grade": false,
     "grade_id": "cell-33d26828be6e1038",
     "locked": true,
     "schema_version": 3,
     "solution": false,
     "task": false
    }
   },
   "source": [
    "# Exercise 10: Hierarchical clustering of the grain data\n",
    "\n",
    "In the video, you learnt that the SciPy `linkage()` function performs hierarchical clustering on an array of samples.  Use the `linkage()` function to obtain a hierarchical clustering of the grain samples, and use `dendrogram()` to visualize the result.  A sample of the grain measurements is provided in the array `samples`, while the variety of each grain sample is given by the list `varieties`.\n"
   ]
  },
  {
   "cell_type": "markdown",
   "metadata": {
    "deletable": false,
    "editable": false,
    "nbgrader": {
     "cell_type": "markdown",
     "checksum": "a6edca00fa71dea4330eb2c2ea98df0c",
     "grade": false,
     "grade_id": "cell-f184e018b98e7d52",
     "locked": true,
     "schema_version": 3,
     "solution": false,
     "task": false
    }
   },
   "source": [
    "**Step 1:** Import:\n",
    "\n",
    " + `linkage` and `dendrogram` from `scipy.cluster.hierarchy`.\n",
    " + `matplotlib.pyplot` as `plt`.\n",
    " + `pandas`\n",
    " + `load_iris` and `train_test_split`"
   ]
  },
  {
   "cell_type": "code",
   "execution_count": 133,
   "metadata": {},
   "outputs": [],
   "source": [
    "import pandas as pd\n",
    "import numpy as np\n",
    "\n",
    "from sklearn.datasets import load_iris\n",
    "from sklearn.model_selection import train_test_split\n",
    "from scipy.cluster.hierarchy import linkage, dendrogram\n",
    "\n",
    "import matplotlib.pyplot as plt\n",
    "import seaborn as sns\n"
   ]
  },
  {
   "cell_type": "markdown",
   "metadata": {
    "deletable": false,
    "editable": false,
    "nbgrader": {
     "cell_type": "markdown",
     "checksum": "a13bdd9c406d550c5d3a2c33173a71d4",
     "grade": false,
     "grade_id": "cell-5d407d7746dba37b",
     "locked": true,
     "schema_version": 3,
     "solution": false,
     "task": false
    }
   },
   "source": [
    "**Step 2:** Load the dataset _(done for you)_."
   ]
  },
  {
   "cell_type": "code",
   "execution_count": 19,
   "metadata": {
    "exercise": false
   },
   "outputs": [],
   "source": [
    "\n",
    "iris_data = load_iris()\n"
   ]
  },
  {
   "cell_type": "code",
   "execution_count": 32,
   "metadata": {
    "deletable": false,
    "nbgrader": {
     "cell_type": "code",
     "checksum": "f54a03afd97d0d9a682f62d00c5f8dc2",
     "grade": false,
     "grade_id": "cell-5b5863d4b8ed6db7",
     "locked": false,
     "schema_version": 3,
     "solution": true,
     "task": false
    }
   },
   "outputs": [
    {
     "output_type": "execute_result",
     "data": {
      "text/plain": [
       "     sepal length  sepal width  petal length  petal width  target       class\n",
       "112           6.8          3.0           5.5          2.1       2   virginica\n",
       "99            5.7          2.8           4.1          1.3       1  versicolor\n",
       "19            5.1          3.8           1.5          0.3       0      setosa\n",
       "21            5.1          3.7           1.5          0.4       0      setosa\n",
       "81            5.5          2.4           3.7          1.0       1  versicolor\n",
       "77            6.7          3.0           5.0          1.7       1  versicolor\n",
       "105           7.6          3.0           6.6          2.1       2   virginica\n",
       "51            6.4          3.2           4.5          1.5       1  versicolor\n",
       "46            5.1          3.8           1.6          0.2       0      setosa\n",
       "140           6.7          3.1           5.6          2.4       2   virginica"
      ],
      "text/html": "<div>\n<style scoped>\n    .dataframe tbody tr th:only-of-type {\n        vertical-align: middle;\n    }\n\n    .dataframe tbody tr th {\n        vertical-align: top;\n    }\n\n    .dataframe thead th {\n        text-align: right;\n    }\n</style>\n<table border=\"1\" class=\"dataframe\">\n  <thead>\n    <tr style=\"text-align: right;\">\n      <th></th>\n      <th>sepal length</th>\n      <th>sepal width</th>\n      <th>petal length</th>\n      <th>petal width</th>\n      <th>target</th>\n      <th>class</th>\n    </tr>\n  </thead>\n  <tbody>\n    <tr>\n      <th>112</th>\n      <td>6.8</td>\n      <td>3.0</td>\n      <td>5.5</td>\n      <td>2.1</td>\n      <td>2</td>\n      <td>virginica</td>\n    </tr>\n    <tr>\n      <th>99</th>\n      <td>5.7</td>\n      <td>2.8</td>\n      <td>4.1</td>\n      <td>1.3</td>\n      <td>1</td>\n      <td>versicolor</td>\n    </tr>\n    <tr>\n      <th>19</th>\n      <td>5.1</td>\n      <td>3.8</td>\n      <td>1.5</td>\n      <td>0.3</td>\n      <td>0</td>\n      <td>setosa</td>\n    </tr>\n    <tr>\n      <th>21</th>\n      <td>5.1</td>\n      <td>3.7</td>\n      <td>1.5</td>\n      <td>0.4</td>\n      <td>0</td>\n      <td>setosa</td>\n    </tr>\n    <tr>\n      <th>81</th>\n      <td>5.5</td>\n      <td>2.4</td>\n      <td>3.7</td>\n      <td>1.0</td>\n      <td>1</td>\n      <td>versicolor</td>\n    </tr>\n    <tr>\n      <th>77</th>\n      <td>6.7</td>\n      <td>3.0</td>\n      <td>5.0</td>\n      <td>1.7</td>\n      <td>1</td>\n      <td>versicolor</td>\n    </tr>\n    <tr>\n      <th>105</th>\n      <td>7.6</td>\n      <td>3.0</td>\n      <td>6.6</td>\n      <td>2.1</td>\n      <td>2</td>\n      <td>virginica</td>\n    </tr>\n    <tr>\n      <th>51</th>\n      <td>6.4</td>\n      <td>3.2</td>\n      <td>4.5</td>\n      <td>1.5</td>\n      <td>1</td>\n      <td>versicolor</td>\n    </tr>\n    <tr>\n      <th>46</th>\n      <td>5.1</td>\n      <td>3.8</td>\n      <td>1.6</td>\n      <td>0.2</td>\n      <td>0</td>\n      <td>setosa</td>\n    </tr>\n    <tr>\n      <th>140</th>\n      <td>6.7</td>\n      <td>3.1</td>\n      <td>5.6</td>\n      <td>2.4</td>\n      <td>2</td>\n      <td>virginica</td>\n    </tr>\n  </tbody>\n</table>\n</div>"
     },
     "metadata": {},
     "execution_count": 32
    }
   ],
   "source": [
    "#Create pd DF the same way you did the first day\n",
    "#Create the class and target columns and remove de cm from the columns names\n",
    "\n",
    "def create_df():\n",
    "    return pd.DataFrame(iris_data.data, columns=iris_data.feature_names)\n",
    "    \n",
    "\n",
    "df_iris = create_df()\n",
    "df_iris[\"target\"] = iris_data.target\n",
    "df_iris[\"class\"] = iris_data.target_names[iris_data.target]\n",
    "df_iris.columns = [col.replace(\"(cm)\", \"\").strip() for col in df_iris.columns]\n",
    "df_iris.sample(n=10)"
   ]
  },
  {
   "cell_type": "code",
   "execution_count": 33,
   "metadata": {
    "deletable": false,
    "editable": false,
    "nbgrader": {
     "cell_type": "code",
     "checksum": "ae98c53b326da8480b8a565c8014a77c",
     "grade": true,
     "grade_id": "cell-632fd0e11b776633",
     "locked": true,
     "points": 2,
     "schema_version": 3,
     "solution": false,
     "task": false
    }
   },
   "outputs": [],
   "source": [
    "assert df_iris['sepal length'].shape == (150,)\n",
    "assert df_iris['sepal width'].shape == (150,)\n",
    "assert df_iris['petal length'].shape == (150,)\n",
    "assert df_iris['petal width'].shape == (150,)\n",
    "assert df_iris['target'].shape == (150,)\n",
    "assert df_iris['class'].shape == (150,)"
   ]
  },
  {
   "cell_type": "code",
   "execution_count": 115,
   "metadata": {
    "deletable": false,
    "nbgrader": {
     "cell_type": "code",
     "checksum": "18ed50b4c210650755fa99122f5721f4",
     "grade": false,
     "grade_id": "cell-1b1da2fc006dd2f6",
     "locked": false,
     "schema_version": 3,
     "solution": true,
     "task": false
    }
   },
   "outputs": [],
   "source": [
    "\n",
    "#From our data we will only get variable columns as np.array\n",
    "x = df_iris.iloc[:, :4].values\n",
    "y = df_iris.iloc[:, 4].values"
   ]
  },
  {
   "cell_type": "code",
   "execution_count": 35,
   "metadata": {
    "deletable": false,
    "editable": false,
    "nbgrader": {
     "cell_type": "code",
     "checksum": "abfb4df775beb206b668987baad09223",
     "grade": true,
     "grade_id": "cell-81d6796d99e92aa3",
     "locked": true,
     "points": 0,
     "schema_version": 3,
     "solution": false,
     "task": false
    }
   },
   "outputs": [],
   "source": [
    "assert x.shape == (150,4)"
   ]
  },
  {
   "cell_type": "markdown",
   "metadata": {},
   "source": [
    "**Step 3:** Perform hierarchical clustering on `samples` using the `linkage()` function with the `method='complete'` keyword argument. Assign the result to `mergings`."
   ]
  },
  {
   "cell_type": "code",
   "execution_count": 38,
   "metadata": {
    "deletable": false,
    "nbgrader": {
     "cell_type": "code",
     "checksum": "a3c72f8ff20d9c274f3c8d0dfd349181",
     "grade": false,
     "grade_id": "cell-2a4681a4e740a6fe",
     "locked": false,
     "schema_version": 3,
     "solution": true,
     "task": false
    }
   },
   "outputs": [],
   "source": [
    "mergings = linkage(x, method='complete')"
   ]
  },
  {
   "cell_type": "code",
   "execution_count": 39,
   "metadata": {
    "deletable": false,
    "editable": false,
    "nbgrader": {
     "cell_type": "code",
     "checksum": "311d7567084e2d3fbc957d155aac6957",
     "grade": true,
     "grade_id": "cell-bd07f2be641ae1c5",
     "locked": true,
     "points": 3,
     "schema_version": 3,
     "solution": false,
     "task": false
    }
   },
   "outputs": [],
   "source": [
    "assert mergings.shape == (149,4)"
   ]
  },
  {
   "cell_type": "markdown",
   "metadata": {
    "deletable": false,
    "editable": false,
    "nbgrader": {
     "cell_type": "markdown",
     "checksum": "0655649d31c47a33c2de51b7316e64df",
     "grade": false,
     "grade_id": "cell-e0502f3d32a027c4",
     "locked": true,
     "schema_version": 3,
     "solution": false,
     "task": false
    }
   },
   "source": [
    "**Step 4:** Plot a dendrogram using the `dendrogram()` function on `mergings`, specifying the keyword arguments `labels=varieties`, `leaf_rotation=90`, and `leaf_font_size=6`.  Remember to call `plt.show()` afterwards, to display your plot."
   ]
  },
  {
   "cell_type": "code",
   "execution_count": 73,
   "metadata": {
    "deletable": false,
    "nbgrader": {
     "cell_type": "code",
     "checksum": "8c1a8101de48297cde138f126c6c2c63",
     "grade": false,
     "grade_id": "cell-8ba6a5e72836aa92",
     "locked": false,
     "schema_version": 3,
     "solution": true,
     "task": false
    }
   },
   "outputs": [
    {
     "output_type": "display_data",
     "data": {
      "text/plain": "<Figure size 432x288 with 1 Axes>",
      "image/svg+xml": "<?xml version=\"1.0\" encoding=\"utf-8\" standalone=\"no\"?>\r\n<!DOCTYPE svg PUBLIC \"-//W3C//DTD SVG 1.1//EN\"\r\n  \"http://www.w3.org/Graphics/SVG/1.1/DTD/svg11.dtd\">\r\n<!-- Created with matplotlib (https://matplotlib.org/) -->\r\n<svg height=\"250.2925pt\" version=\"1.1\" viewBox=\"0 0 364.349937 250.2925\" width=\"364.349937pt\" xmlns=\"http://www.w3.org/2000/svg\" xmlns:xlink=\"http://www.w3.org/1999/xlink\">\r\n <metadata>\r\n  <rdf:RDF xmlns:cc=\"http://creativecommons.org/ns#\" xmlns:dc=\"http://purl.org/dc/elements/1.1/\" xmlns:rdf=\"http://www.w3.org/1999/02/22-rdf-syntax-ns#\">\r\n   <cc:Work>\r\n    <dc:type rdf:resource=\"http://purl.org/dc/dcmitype/StillImage\"/>\r\n    <dc:date>2021-04-22T14:14:57.208298</dc:date>\r\n    <dc:format>image/svg+xml</dc:format>\r\n    <dc:creator>\r\n     <cc:Agent>\r\n      <dc:title>Matplotlib v3.3.2, https://matplotlib.org/</dc:title>\r\n     </cc:Agent>\r\n    </dc:creator>\r\n   </cc:Work>\r\n  </rdf:RDF>\r\n </metadata>\r\n <defs>\r\n  <style type=\"text/css\">*{stroke-linecap:butt;stroke-linejoin:round;}</style>\r\n </defs>\r\n <g id=\"figure_1\">\r\n  <g id=\"patch_1\">\r\n   <path d=\"M 0 250.2925 \r\nL 364.349937 250.2925 \r\nL 364.349937 0 \r\nL 0 0 \r\nz\r\n\" style=\"fill:none;\"/>\r\n  </g>\r\n  <g id=\"axes_1\">\r\n   <g id=\"patch_2\">\r\n    <path d=\"M 20.5625 224.64 \r\nL 355.3625 224.64 \r\nL 355.3625 7.2 \r\nL 20.5625 7.2 \r\nz\r\n\" style=\"fill:#ffffff;\"/>\r\n   </g>\r\n   <g id=\"matplotlib.axis_1\">\r\n    <g id=\"xtick_1\">\r\n     <g id=\"text_1\">\r\n      <!-- 107 -->\r\n      <g transform=\"translate(23.334125 243.0925)rotate(-90)scale(0.06 -0.06)\">\r\n       <defs>\r\n        <path d=\"M 12.40625 8.296875 \r\nL 28.515625 8.296875 \r\nL 28.515625 63.921875 \r\nL 10.984375 60.40625 \r\nL 10.984375 69.390625 \r\nL 28.421875 72.90625 \r\nL 38.28125 72.90625 \r\nL 38.28125 8.296875 \r\nL 54.390625 8.296875 \r\nL 54.390625 0 \r\nL 12.40625 0 \r\nz\r\n\" id=\"DejaVuSans-49\"/>\r\n        <path d=\"M 31.78125 66.40625 \r\nQ 24.171875 66.40625 20.328125 58.90625 \r\nQ 16.5 51.421875 16.5 36.375 \r\nQ 16.5 21.390625 20.328125 13.890625 \r\nQ 24.171875 6.390625 31.78125 6.390625 \r\nQ 39.453125 6.390625 43.28125 13.890625 \r\nQ 47.125 21.390625 47.125 36.375 \r\nQ 47.125 51.421875 43.28125 58.90625 \r\nQ 39.453125 66.40625 31.78125 66.40625 \r\nz\r\nM 31.78125 74.21875 \r\nQ 44.046875 74.21875 50.515625 64.515625 \r\nQ 56.984375 54.828125 56.984375 36.375 \r\nQ 56.984375 17.96875 50.515625 8.265625 \r\nQ 44.046875 -1.421875 31.78125 -1.421875 \r\nQ 19.53125 -1.421875 13.0625 8.265625 \r\nQ 6.59375 17.96875 6.59375 36.375 \r\nQ 6.59375 54.828125 13.0625 64.515625 \r\nQ 19.53125 74.21875 31.78125 74.21875 \r\nz\r\n\" id=\"DejaVuSans-48\"/>\r\n        <path d=\"M 8.203125 72.90625 \r\nL 55.078125 72.90625 \r\nL 55.078125 68.703125 \r\nL 28.609375 0 \r\nL 18.3125 0 \r\nL 43.21875 64.59375 \r\nL 8.203125 64.59375 \r\nz\r\n\" id=\"DejaVuSans-55\"/>\r\n       </defs>\r\n       <use xlink:href=\"#DejaVuSans-49\"/>\r\n       <use x=\"63.623047\" xlink:href=\"#DejaVuSans-48\"/>\r\n       <use x=\"127.246094\" xlink:href=\"#DejaVuSans-55\"/>\r\n      </g>\r\n     </g>\r\n    </g>\r\n    <g id=\"xtick_2\">\r\n     <g id=\"text_2\">\r\n      <!-- 130 -->\r\n      <g transform=\"translate(25.566125 243.0925)rotate(-90)scale(0.06 -0.06)\">\r\n       <defs>\r\n        <path d=\"M 40.578125 39.3125 \r\nQ 47.65625 37.796875 51.625 33 \r\nQ 55.609375 28.21875 55.609375 21.1875 \r\nQ 55.609375 10.40625 48.1875 4.484375 \r\nQ 40.765625 -1.421875 27.09375 -1.421875 \r\nQ 22.515625 -1.421875 17.65625 -0.515625 \r\nQ 12.796875 0.390625 7.625 2.203125 \r\nL 7.625 11.71875 \r\nQ 11.71875 9.328125 16.59375 8.109375 \r\nQ 21.484375 6.890625 26.8125 6.890625 \r\nQ 36.078125 6.890625 40.9375 10.546875 \r\nQ 45.796875 14.203125 45.796875 21.1875 \r\nQ 45.796875 27.640625 41.28125 31.265625 \r\nQ 36.765625 34.90625 28.71875 34.90625 \r\nL 20.21875 34.90625 \r\nL 20.21875 43.015625 \r\nL 29.109375 43.015625 \r\nQ 36.375 43.015625 40.234375 45.921875 \r\nQ 44.09375 48.828125 44.09375 54.296875 \r\nQ 44.09375 59.90625 40.109375 62.90625 \r\nQ 36.140625 65.921875 28.71875 65.921875 \r\nQ 24.65625 65.921875 20.015625 65.03125 \r\nQ 15.375 64.15625 9.8125 62.3125 \r\nL 9.8125 71.09375 \r\nQ 15.4375 72.65625 20.34375 73.4375 \r\nQ 25.25 74.21875 29.59375 74.21875 \r\nQ 40.828125 74.21875 47.359375 69.109375 \r\nQ 53.90625 64.015625 53.90625 55.328125 \r\nQ 53.90625 49.265625 50.4375 45.09375 \r\nQ 46.96875 40.921875 40.578125 39.3125 \r\nz\r\n\" id=\"DejaVuSans-51\"/>\r\n       </defs>\r\n       <use xlink:href=\"#DejaVuSans-49\"/>\r\n       <use x=\"63.623047\" xlink:href=\"#DejaVuSans-51\"/>\r\n       <use x=\"127.246094\" xlink:href=\"#DejaVuSans-48\"/>\r\n      </g>\r\n     </g>\r\n    </g>\r\n    <g id=\"xtick_3\">\r\n     <g id=\"text_3\">\r\n      <!-- 102 -->\r\n      <g transform=\"translate(27.798125 243.0925)rotate(-90)scale(0.06 -0.06)\">\r\n       <defs>\r\n        <path d=\"M 19.1875 8.296875 \r\nL 53.609375 8.296875 \r\nL 53.609375 0 \r\nL 7.328125 0 \r\nL 7.328125 8.296875 \r\nQ 12.9375 14.109375 22.625 23.890625 \r\nQ 32.328125 33.6875 34.8125 36.53125 \r\nQ 39.546875 41.84375 41.421875 45.53125 \r\nQ 43.3125 49.21875 43.3125 52.78125 \r\nQ 43.3125 58.59375 39.234375 62.25 \r\nQ 35.15625 65.921875 28.609375 65.921875 \r\nQ 23.96875 65.921875 18.8125 64.3125 \r\nQ 13.671875 62.703125 7.8125 59.421875 \r\nL 7.8125 69.390625 \r\nQ 13.765625 71.78125 18.9375 73 \r\nQ 24.125 74.21875 28.421875 74.21875 \r\nQ 39.75 74.21875 46.484375 68.546875 \r\nQ 53.21875 62.890625 53.21875 53.421875 \r\nQ 53.21875 48.921875 51.53125 44.890625 \r\nQ 49.859375 40.875 45.40625 35.40625 \r\nQ 44.1875 33.984375 37.640625 27.21875 \r\nQ 31.109375 20.453125 19.1875 8.296875 \r\nz\r\n\" id=\"DejaVuSans-50\"/>\r\n       </defs>\r\n       <use xlink:href=\"#DejaVuSans-49\"/>\r\n       <use x=\"63.623047\" xlink:href=\"#DejaVuSans-48\"/>\r\n       <use x=\"127.246094\" xlink:href=\"#DejaVuSans-50\"/>\r\n      </g>\r\n     </g>\r\n    </g>\r\n    <g id=\"xtick_4\">\r\n     <g id=\"text_4\">\r\n      <!-- 125 -->\r\n      <g transform=\"translate(30.030125 243.0925)rotate(-90)scale(0.06 -0.06)\">\r\n       <defs>\r\n        <path d=\"M 10.796875 72.90625 \r\nL 49.515625 72.90625 \r\nL 49.515625 64.59375 \r\nL 19.828125 64.59375 \r\nL 19.828125 46.734375 \r\nQ 21.96875 47.46875 24.109375 47.828125 \r\nQ 26.265625 48.1875 28.421875 48.1875 \r\nQ 40.625 48.1875 47.75 41.5 \r\nQ 54.890625 34.8125 54.890625 23.390625 \r\nQ 54.890625 11.625 47.5625 5.09375 \r\nQ 40.234375 -1.421875 26.90625 -1.421875 \r\nQ 22.3125 -1.421875 17.546875 -0.640625 \r\nQ 12.796875 0.140625 7.71875 1.703125 \r\nL 7.71875 11.625 \r\nQ 12.109375 9.234375 16.796875 8.0625 \r\nQ 21.484375 6.890625 26.703125 6.890625 \r\nQ 35.15625 6.890625 40.078125 11.328125 \r\nQ 45.015625 15.765625 45.015625 23.390625 \r\nQ 45.015625 31 40.078125 35.4375 \r\nQ 35.15625 39.890625 26.703125 39.890625 \r\nQ 22.75 39.890625 18.8125 39.015625 \r\nQ 14.890625 38.140625 10.796875 36.28125 \r\nz\r\n\" id=\"DejaVuSans-53\"/>\r\n       </defs>\r\n       <use xlink:href=\"#DejaVuSans-49\"/>\r\n       <use x=\"63.623047\" xlink:href=\"#DejaVuSans-50\"/>\r\n       <use x=\"127.246094\" xlink:href=\"#DejaVuSans-53\"/>\r\n      </g>\r\n     </g>\r\n    </g>\r\n    <g id=\"xtick_5\">\r\n     <g id=\"text_5\">\r\n      <!-- 129 -->\r\n      <g transform=\"translate(32.262125 243.0925)rotate(-90)scale(0.06 -0.06)\">\r\n       <defs>\r\n        <path d=\"M 10.984375 1.515625 \r\nL 10.984375 10.5 \r\nQ 14.703125 8.734375 18.5 7.8125 \r\nQ 22.3125 6.890625 25.984375 6.890625 \r\nQ 35.75 6.890625 40.890625 13.453125 \r\nQ 46.046875 20.015625 46.78125 33.40625 \r\nQ 43.953125 29.203125 39.59375 26.953125 \r\nQ 35.25 24.703125 29.984375 24.703125 \r\nQ 19.046875 24.703125 12.671875 31.3125 \r\nQ 6.296875 37.9375 6.296875 49.421875 \r\nQ 6.296875 60.640625 12.9375 67.421875 \r\nQ 19.578125 74.21875 30.609375 74.21875 \r\nQ 43.265625 74.21875 49.921875 64.515625 \r\nQ 56.59375 54.828125 56.59375 36.375 \r\nQ 56.59375 19.140625 48.40625 8.859375 \r\nQ 40.234375 -1.421875 26.421875 -1.421875 \r\nQ 22.703125 -1.421875 18.890625 -0.6875 \r\nQ 15.09375 0.046875 10.984375 1.515625 \r\nz\r\nM 30.609375 32.421875 \r\nQ 37.25 32.421875 41.125 36.953125 \r\nQ 45.015625 41.5 45.015625 49.421875 \r\nQ 45.015625 57.28125 41.125 61.84375 \r\nQ 37.25 66.40625 30.609375 66.40625 \r\nQ 23.96875 66.40625 20.09375 61.84375 \r\nQ 16.21875 57.28125 16.21875 49.421875 \r\nQ 16.21875 41.5 20.09375 36.953125 \r\nQ 23.96875 32.421875 30.609375 32.421875 \r\nz\r\n\" id=\"DejaVuSans-57\"/>\r\n       </defs>\r\n       <use xlink:href=\"#DejaVuSans-49\"/>\r\n       <use x=\"63.623047\" xlink:href=\"#DejaVuSans-50\"/>\r\n       <use x=\"127.246094\" xlink:href=\"#DejaVuSans-57\"/>\r\n      </g>\r\n     </g>\r\n    </g>\r\n    <g id=\"xtick_6\">\r\n     <g id=\"text_6\">\r\n      <!-- 118 -->\r\n      <g transform=\"translate(34.494125 243.0925)rotate(-90)scale(0.06 -0.06)\">\r\n       <defs>\r\n        <path d=\"M 31.78125 34.625 \r\nQ 24.75 34.625 20.71875 30.859375 \r\nQ 16.703125 27.09375 16.703125 20.515625 \r\nQ 16.703125 13.921875 20.71875 10.15625 \r\nQ 24.75 6.390625 31.78125 6.390625 \r\nQ 38.8125 6.390625 42.859375 10.171875 \r\nQ 46.921875 13.96875 46.921875 20.515625 \r\nQ 46.921875 27.09375 42.890625 30.859375 \r\nQ 38.875 34.625 31.78125 34.625 \r\nz\r\nM 21.921875 38.8125 \r\nQ 15.578125 40.375 12.03125 44.71875 \r\nQ 8.5 49.078125 8.5 55.328125 \r\nQ 8.5 64.0625 14.71875 69.140625 \r\nQ 20.953125 74.21875 31.78125 74.21875 \r\nQ 42.671875 74.21875 48.875 69.140625 \r\nQ 55.078125 64.0625 55.078125 55.328125 \r\nQ 55.078125 49.078125 51.53125 44.71875 \r\nQ 48 40.375 41.703125 38.8125 \r\nQ 48.828125 37.15625 52.796875 32.3125 \r\nQ 56.78125 27.484375 56.78125 20.515625 \r\nQ 56.78125 9.90625 50.3125 4.234375 \r\nQ 43.84375 -1.421875 31.78125 -1.421875 \r\nQ 19.734375 -1.421875 13.25 4.234375 \r\nQ 6.78125 9.90625 6.78125 20.515625 \r\nQ 6.78125 27.484375 10.78125 32.3125 \r\nQ 14.796875 37.15625 21.921875 38.8125 \r\nz\r\nM 18.3125 54.390625 \r\nQ 18.3125 48.734375 21.84375 45.5625 \r\nQ 25.390625 42.390625 31.78125 42.390625 \r\nQ 38.140625 42.390625 41.71875 45.5625 \r\nQ 45.3125 48.734375 45.3125 54.390625 \r\nQ 45.3125 60.0625 41.71875 63.234375 \r\nQ 38.140625 66.40625 31.78125 66.40625 \r\nQ 25.390625 66.40625 21.84375 63.234375 \r\nQ 18.3125 60.0625 18.3125 54.390625 \r\nz\r\n\" id=\"DejaVuSans-56\"/>\r\n       </defs>\r\n       <use xlink:href=\"#DejaVuSans-49\"/>\r\n       <use x=\"63.623047\" xlink:href=\"#DejaVuSans-49\"/>\r\n       <use x=\"127.246094\" xlink:href=\"#DejaVuSans-56\"/>\r\n      </g>\r\n     </g>\r\n    </g>\r\n    <g id=\"xtick_7\">\r\n     <g id=\"text_7\">\r\n      <!-- 105 -->\r\n      <g transform=\"translate(36.726125 243.0925)rotate(-90)scale(0.06 -0.06)\">\r\n       <use xlink:href=\"#DejaVuSans-49\"/>\r\n       <use x=\"63.623047\" xlink:href=\"#DejaVuSans-48\"/>\r\n       <use x=\"127.246094\" xlink:href=\"#DejaVuSans-53\"/>\r\n      </g>\r\n     </g>\r\n    </g>\r\n    <g id=\"xtick_8\">\r\n     <g id=\"text_8\">\r\n      <!-- 122 -->\r\n      <g transform=\"translate(38.958125 243.0925)rotate(-90)scale(0.06 -0.06)\">\r\n       <use xlink:href=\"#DejaVuSans-49\"/>\r\n       <use x=\"63.623047\" xlink:href=\"#DejaVuSans-50\"/>\r\n       <use x=\"127.246094\" xlink:href=\"#DejaVuSans-50\"/>\r\n      </g>\r\n     </g>\r\n    </g>\r\n    <g id=\"xtick_9\">\r\n     <g id=\"text_9\">\r\n      <!-- 117 -->\r\n      <g transform=\"translate(41.190125 243.0925)rotate(-90)scale(0.06 -0.06)\">\r\n       <use xlink:href=\"#DejaVuSans-49\"/>\r\n       <use x=\"63.623047\" xlink:href=\"#DejaVuSans-49\"/>\r\n       <use x=\"127.246094\" xlink:href=\"#DejaVuSans-55\"/>\r\n      </g>\r\n     </g>\r\n    </g>\r\n    <g id=\"xtick_10\">\r\n     <g id=\"text_10\">\r\n      <!-- 131 -->\r\n      <g transform=\"translate(43.422125 243.0925)rotate(-90)scale(0.06 -0.06)\">\r\n       <use xlink:href=\"#DejaVuSans-49\"/>\r\n       <use x=\"63.623047\" xlink:href=\"#DejaVuSans-51\"/>\r\n       <use x=\"127.246094\" xlink:href=\"#DejaVuSans-49\"/>\r\n      </g>\r\n     </g>\r\n    </g>\r\n    <g id=\"xtick_11\">\r\n     <g id=\"text_11\">\r\n      <!-- 109 -->\r\n      <g transform=\"translate(45.654125 243.0925)rotate(-90)scale(0.06 -0.06)\">\r\n       <use xlink:href=\"#DejaVuSans-49\"/>\r\n       <use x=\"63.623047\" xlink:href=\"#DejaVuSans-48\"/>\r\n       <use x=\"127.246094\" xlink:href=\"#DejaVuSans-57\"/>\r\n      </g>\r\n     </g>\r\n    </g>\r\n    <g id=\"xtick_12\">\r\n     <g id=\"text_12\">\r\n      <!-- 135 -->\r\n      <g transform=\"translate(47.886125 243.0925)rotate(-90)scale(0.06 -0.06)\">\r\n       <use xlink:href=\"#DejaVuSans-49\"/>\r\n       <use x=\"63.623047\" xlink:href=\"#DejaVuSans-51\"/>\r\n       <use x=\"127.246094\" xlink:href=\"#DejaVuSans-53\"/>\r\n      </g>\r\n     </g>\r\n    </g>\r\n    <g id=\"xtick_13\">\r\n     <g id=\"text_13\">\r\n      <!-- 140 -->\r\n      <g transform=\"translate(50.118125 243.0925)rotate(-90)scale(0.06 -0.06)\">\r\n       <defs>\r\n        <path d=\"M 37.796875 64.3125 \r\nL 12.890625 25.390625 \r\nL 37.796875 25.390625 \r\nz\r\nM 35.203125 72.90625 \r\nL 47.609375 72.90625 \r\nL 47.609375 25.390625 \r\nL 58.015625 25.390625 \r\nL 58.015625 17.1875 \r\nL 47.609375 17.1875 \r\nL 47.609375 0 \r\nL 37.796875 0 \r\nL 37.796875 17.1875 \r\nL 4.890625 17.1875 \r\nL 4.890625 26.703125 \r\nz\r\n\" id=\"DejaVuSans-52\"/>\r\n       </defs>\r\n       <use xlink:href=\"#DejaVuSans-49\"/>\r\n       <use x=\"63.623047\" xlink:href=\"#DejaVuSans-52\"/>\r\n       <use x=\"127.246094\" xlink:href=\"#DejaVuSans-48\"/>\r\n      </g>\r\n     </g>\r\n    </g>\r\n    <g id=\"xtick_14\">\r\n     <g id=\"text_14\">\r\n      <!-- 144 -->\r\n      <g transform=\"translate(52.350125 243.0925)rotate(-90)scale(0.06 -0.06)\">\r\n       <use xlink:href=\"#DejaVuSans-49\"/>\r\n       <use x=\"63.623047\" xlink:href=\"#DejaVuSans-52\"/>\r\n       <use x=\"127.246094\" xlink:href=\"#DejaVuSans-52\"/>\r\n      </g>\r\n     </g>\r\n    </g>\r\n    <g id=\"xtick_15\">\r\n     <g id=\"text_15\">\r\n      <!-- 124 -->\r\n      <g transform=\"translate(54.582125 243.0925)rotate(-90)scale(0.06 -0.06)\">\r\n       <use xlink:href=\"#DejaVuSans-49\"/>\r\n       <use x=\"63.623047\" xlink:href=\"#DejaVuSans-50\"/>\r\n       <use x=\"127.246094\" xlink:href=\"#DejaVuSans-52\"/>\r\n      </g>\r\n     </g>\r\n    </g>\r\n    <g id=\"xtick_16\">\r\n     <g id=\"text_16\">\r\n      <!-- 120 -->\r\n      <g transform=\"translate(56.814125 243.0925)rotate(-90)scale(0.06 -0.06)\">\r\n       <use xlink:href=\"#DejaVuSans-49\"/>\r\n       <use x=\"63.623047\" xlink:href=\"#DejaVuSans-50\"/>\r\n       <use x=\"127.246094\" xlink:href=\"#DejaVuSans-48\"/>\r\n      </g>\r\n     </g>\r\n    </g>\r\n    <g id=\"xtick_17\">\r\n     <g id=\"text_17\">\r\n      <!-- 143 -->\r\n      <g transform=\"translate(59.046125 243.0925)rotate(-90)scale(0.06 -0.06)\">\r\n       <use xlink:href=\"#DejaVuSans-49\"/>\r\n       <use x=\"63.623047\" xlink:href=\"#DejaVuSans-52\"/>\r\n       <use x=\"127.246094\" xlink:href=\"#DejaVuSans-51\"/>\r\n      </g>\r\n     </g>\r\n    </g>\r\n    <g id=\"xtick_18\">\r\n     <g id=\"text_18\">\r\n      <!-- 100 -->\r\n      <g transform=\"translate(61.278125 243.0925)rotate(-90)scale(0.06 -0.06)\">\r\n       <use xlink:href=\"#DejaVuSans-49\"/>\r\n       <use x=\"63.623047\" xlink:href=\"#DejaVuSans-48\"/>\r\n       <use x=\"127.246094\" xlink:href=\"#DejaVuSans-48\"/>\r\n      </g>\r\n     </g>\r\n    </g>\r\n    <g id=\"xtick_19\">\r\n     <g id=\"text_19\">\r\n      <!-- 136 -->\r\n      <g transform=\"translate(63.510125 243.0925)rotate(-90)scale(0.06 -0.06)\">\r\n       <defs>\r\n        <path d=\"M 33.015625 40.375 \r\nQ 26.375 40.375 22.484375 35.828125 \r\nQ 18.609375 31.296875 18.609375 23.390625 \r\nQ 18.609375 15.53125 22.484375 10.953125 \r\nQ 26.375 6.390625 33.015625 6.390625 \r\nQ 39.65625 6.390625 43.53125 10.953125 \r\nQ 47.40625 15.53125 47.40625 23.390625 \r\nQ 47.40625 31.296875 43.53125 35.828125 \r\nQ 39.65625 40.375 33.015625 40.375 \r\nz\r\nM 52.59375 71.296875 \r\nL 52.59375 62.3125 \r\nQ 48.875 64.0625 45.09375 64.984375 \r\nQ 41.3125 65.921875 37.59375 65.921875 \r\nQ 27.828125 65.921875 22.671875 59.328125 \r\nQ 17.53125 52.734375 16.796875 39.40625 \r\nQ 19.671875 43.65625 24.015625 45.921875 \r\nQ 28.375 48.1875 33.59375 48.1875 \r\nQ 44.578125 48.1875 50.953125 41.515625 \r\nQ 57.328125 34.859375 57.328125 23.390625 \r\nQ 57.328125 12.15625 50.6875 5.359375 \r\nQ 44.046875 -1.421875 33.015625 -1.421875 \r\nQ 20.359375 -1.421875 13.671875 8.265625 \r\nQ 6.984375 17.96875 6.984375 36.375 \r\nQ 6.984375 53.65625 15.1875 63.9375 \r\nQ 23.390625 74.21875 37.203125 74.21875 \r\nQ 40.921875 74.21875 44.703125 73.484375 \r\nQ 48.484375 72.75 52.59375 71.296875 \r\nz\r\n\" id=\"DejaVuSans-54\"/>\r\n       </defs>\r\n       <use xlink:href=\"#DejaVuSans-49\"/>\r\n       <use x=\"63.623047\" xlink:href=\"#DejaVuSans-51\"/>\r\n       <use x=\"127.246094\" xlink:href=\"#DejaVuSans-54\"/>\r\n      </g>\r\n     </g>\r\n    </g>\r\n    <g id=\"xtick_20\">\r\n     <g id=\"text_20\">\r\n      <!-- 148 -->\r\n      <g transform=\"translate(65.742125 243.0925)rotate(-90)scale(0.06 -0.06)\">\r\n       <use xlink:href=\"#DejaVuSans-49\"/>\r\n       <use x=\"63.623047\" xlink:href=\"#DejaVuSans-52\"/>\r\n       <use x=\"127.246094\" xlink:href=\"#DejaVuSans-56\"/>\r\n      </g>\r\n     </g>\r\n    </g>\r\n    <g id=\"xtick_21\">\r\n     <g id=\"text_21\">\r\n      <!-- 115 -->\r\n      <g transform=\"translate(67.974125 243.0925)rotate(-90)scale(0.06 -0.06)\">\r\n       <use xlink:href=\"#DejaVuSans-49\"/>\r\n       <use x=\"63.623047\" xlink:href=\"#DejaVuSans-49\"/>\r\n       <use x=\"127.246094\" xlink:href=\"#DejaVuSans-53\"/>\r\n      </g>\r\n     </g>\r\n    </g>\r\n    <g id=\"xtick_22\">\r\n     <g id=\"text_22\">\r\n      <!-- 110 -->\r\n      <g transform=\"translate(70.206125 243.0925)rotate(-90)scale(0.06 -0.06)\">\r\n       <use xlink:href=\"#DejaVuSans-49\"/>\r\n       <use x=\"63.623047\" xlink:href=\"#DejaVuSans-49\"/>\r\n       <use x=\"127.246094\" xlink:href=\"#DejaVuSans-48\"/>\r\n      </g>\r\n     </g>\r\n    </g>\r\n    <g id=\"xtick_23\">\r\n     <g id=\"text_23\">\r\n      <!-- 147 -->\r\n      <g transform=\"translate(72.438125 243.0925)rotate(-90)scale(0.06 -0.06)\">\r\n       <use xlink:href=\"#DejaVuSans-49\"/>\r\n       <use x=\"63.623047\" xlink:href=\"#DejaVuSans-52\"/>\r\n       <use x=\"127.246094\" xlink:href=\"#DejaVuSans-55\"/>\r\n      </g>\r\n     </g>\r\n    </g>\r\n    <g id=\"xtick_24\">\r\n     <g id=\"text_24\">\r\n      <!-- 112 -->\r\n      <g transform=\"translate(74.670125 243.0925)rotate(-90)scale(0.06 -0.06)\">\r\n       <use xlink:href=\"#DejaVuSans-49\"/>\r\n       <use x=\"63.623047\" xlink:href=\"#DejaVuSans-49\"/>\r\n       <use x=\"127.246094\" xlink:href=\"#DejaVuSans-50\"/>\r\n      </g>\r\n     </g>\r\n    </g>\r\n    <g id=\"xtick_25\">\r\n     <g id=\"text_25\">\r\n      <!-- 139 -->\r\n      <g transform=\"translate(76.902125 243.0925)rotate(-90)scale(0.06 -0.06)\">\r\n       <use xlink:href=\"#DejaVuSans-49\"/>\r\n       <use x=\"63.623047\" xlink:href=\"#DejaVuSans-51\"/>\r\n       <use x=\"127.246094\" xlink:href=\"#DejaVuSans-57\"/>\r\n      </g>\r\n     </g>\r\n    </g>\r\n    <g id=\"xtick_26\">\r\n     <g id=\"text_26\">\r\n      <!-- 141 -->\r\n      <g transform=\"translate(79.134125 243.0925)rotate(-90)scale(0.06 -0.06)\">\r\n       <use xlink:href=\"#DejaVuSans-49\"/>\r\n       <use x=\"63.623047\" xlink:href=\"#DejaVuSans-52\"/>\r\n       <use x=\"127.246094\" xlink:href=\"#DejaVuSans-49\"/>\r\n      </g>\r\n     </g>\r\n    </g>\r\n    <g id=\"xtick_27\">\r\n     <g id=\"text_27\">\r\n      <!-- 145 -->\r\n      <g transform=\"translate(81.366125 243.0925)rotate(-90)scale(0.06 -0.06)\">\r\n       <use xlink:href=\"#DejaVuSans-49\"/>\r\n       <use x=\"63.623047\" xlink:href=\"#DejaVuSans-52\"/>\r\n       <use x=\"127.246094\" xlink:href=\"#DejaVuSans-53\"/>\r\n      </g>\r\n     </g>\r\n    </g>\r\n    <g id=\"xtick_28\">\r\n     <g id=\"text_28\">\r\n      <!-- 108 -->\r\n      <g transform=\"translate(83.598125 243.0925)rotate(-90)scale(0.06 -0.06)\">\r\n       <use xlink:href=\"#DejaVuSans-49\"/>\r\n       <use x=\"63.623047\" xlink:href=\"#DejaVuSans-48\"/>\r\n       <use x=\"127.246094\" xlink:href=\"#DejaVuSans-56\"/>\r\n      </g>\r\n     </g>\r\n    </g>\r\n    <g id=\"xtick_29\">\r\n     <g id=\"text_29\">\r\n      <!-- 103 -->\r\n      <g transform=\"translate(85.830125 243.0925)rotate(-90)scale(0.06 -0.06)\">\r\n       <use xlink:href=\"#DejaVuSans-49\"/>\r\n       <use x=\"63.623047\" xlink:href=\"#DejaVuSans-48\"/>\r\n       <use x=\"127.246094\" xlink:href=\"#DejaVuSans-51\"/>\r\n      </g>\r\n     </g>\r\n    </g>\r\n    <g id=\"xtick_30\">\r\n     <g id=\"text_30\">\r\n      <!-- 116 -->\r\n      <g transform=\"translate(88.062125 243.0925)rotate(-90)scale(0.06 -0.06)\">\r\n       <use xlink:href=\"#DejaVuSans-49\"/>\r\n       <use x=\"63.623047\" xlink:href=\"#DejaVuSans-49\"/>\r\n       <use x=\"127.246094\" xlink:href=\"#DejaVuSans-54\"/>\r\n      </g>\r\n     </g>\r\n    </g>\r\n    <g id=\"xtick_31\">\r\n     <g id=\"text_31\">\r\n      <!-- 137 -->\r\n      <g transform=\"translate(90.294125 243.0925)rotate(-90)scale(0.06 -0.06)\">\r\n       <use xlink:href=\"#DejaVuSans-49\"/>\r\n       <use x=\"63.623047\" xlink:href=\"#DejaVuSans-51\"/>\r\n       <use x=\"127.246094\" xlink:href=\"#DejaVuSans-55\"/>\r\n      </g>\r\n     </g>\r\n    </g>\r\n    <g id=\"xtick_32\">\r\n     <g id=\"text_32\">\r\n      <!-- 104 -->\r\n      <g transform=\"translate(92.526125 243.0925)rotate(-90)scale(0.06 -0.06)\">\r\n       <use xlink:href=\"#DejaVuSans-49\"/>\r\n       <use x=\"63.623047\" xlink:href=\"#DejaVuSans-48\"/>\r\n       <use x=\"127.246094\" xlink:href=\"#DejaVuSans-52\"/>\r\n      </g>\r\n     </g>\r\n    </g>\r\n    <g id=\"xtick_33\">\r\n     <g id=\"text_33\">\r\n      <!-- 128 -->\r\n      <g transform=\"translate(94.758125 243.0925)rotate(-90)scale(0.06 -0.06)\">\r\n       <use xlink:href=\"#DejaVuSans-49\"/>\r\n       <use x=\"63.623047\" xlink:href=\"#DejaVuSans-50\"/>\r\n       <use x=\"127.246094\" xlink:href=\"#DejaVuSans-56\"/>\r\n      </g>\r\n     </g>\r\n    </g>\r\n    <g id=\"xtick_34\">\r\n     <g id=\"text_34\">\r\n      <!-- 132 -->\r\n      <g transform=\"translate(96.990125 243.0925)rotate(-90)scale(0.06 -0.06)\">\r\n       <use xlink:href=\"#DejaVuSans-49\"/>\r\n       <use x=\"63.623047\" xlink:href=\"#DejaVuSans-51\"/>\r\n       <use x=\"127.246094\" xlink:href=\"#DejaVuSans-50\"/>\r\n      </g>\r\n     </g>\r\n    </g>\r\n    <g id=\"xtick_35\">\r\n     <g id=\"text_35\">\r\n      <!-- 149 -->\r\n      <g transform=\"translate(99.222125 243.0925)rotate(-90)scale(0.06 -0.06)\">\r\n       <use xlink:href=\"#DejaVuSans-49\"/>\r\n       <use x=\"63.623047\" xlink:href=\"#DejaVuSans-52\"/>\r\n       <use x=\"127.246094\" xlink:href=\"#DejaVuSans-57\"/>\r\n      </g>\r\n     </g>\r\n    </g>\r\n    <g id=\"xtick_36\">\r\n     <g id=\"text_36\">\r\n      <!-- 70 -->\r\n      <g transform=\"translate(101.454125 239.275)rotate(-90)scale(0.06 -0.06)\">\r\n       <use xlink:href=\"#DejaVuSans-55\"/>\r\n       <use x=\"63.623047\" xlink:href=\"#DejaVuSans-48\"/>\r\n      </g>\r\n     </g>\r\n    </g>\r\n    <g id=\"xtick_37\">\r\n     <g id=\"text_37\">\r\n      <!-- 127 -->\r\n      <g transform=\"translate(103.686125 243.0925)rotate(-90)scale(0.06 -0.06)\">\r\n       <use xlink:href=\"#DejaVuSans-49\"/>\r\n       <use x=\"63.623047\" xlink:href=\"#DejaVuSans-50\"/>\r\n       <use x=\"127.246094\" xlink:href=\"#DejaVuSans-55\"/>\r\n      </g>\r\n     </g>\r\n    </g>\r\n    <g id=\"xtick_38\">\r\n     <g id=\"text_38\">\r\n      <!-- 138 -->\r\n      <g transform=\"translate(105.918125 243.0925)rotate(-90)scale(0.06 -0.06)\">\r\n       <use xlink:href=\"#DejaVuSans-49\"/>\r\n       <use x=\"63.623047\" xlink:href=\"#DejaVuSans-51\"/>\r\n       <use x=\"127.246094\" xlink:href=\"#DejaVuSans-56\"/>\r\n      </g>\r\n     </g>\r\n    </g>\r\n    <g id=\"xtick_39\">\r\n     <g id=\"text_39\">\r\n      <!-- 114 -->\r\n      <g transform=\"translate(108.150125 243.0925)rotate(-90)scale(0.06 -0.06)\">\r\n       <use xlink:href=\"#DejaVuSans-49\"/>\r\n       <use x=\"63.623047\" xlink:href=\"#DejaVuSans-49\"/>\r\n       <use x=\"127.246094\" xlink:href=\"#DejaVuSans-52\"/>\r\n      </g>\r\n     </g>\r\n    </g>\r\n    <g id=\"xtick_40\">\r\n     <g id=\"text_40\">\r\n      <!-- 121 -->\r\n      <g transform=\"translate(110.382125 243.0925)rotate(-90)scale(0.06 -0.06)\">\r\n       <use xlink:href=\"#DejaVuSans-49\"/>\r\n       <use x=\"63.623047\" xlink:href=\"#DejaVuSans-50\"/>\r\n       <use x=\"127.246094\" xlink:href=\"#DejaVuSans-49\"/>\r\n      </g>\r\n     </g>\r\n    </g>\r\n    <g id=\"xtick_41\">\r\n     <g id=\"text_41\">\r\n      <!-- 113 -->\r\n      <g transform=\"translate(112.614125 243.0925)rotate(-90)scale(0.06 -0.06)\">\r\n       <use xlink:href=\"#DejaVuSans-49\"/>\r\n       <use x=\"63.623047\" xlink:href=\"#DejaVuSans-49\"/>\r\n       <use x=\"127.246094\" xlink:href=\"#DejaVuSans-51\"/>\r\n      </g>\r\n     </g>\r\n    </g>\r\n    <g id=\"xtick_42\">\r\n     <g id=\"text_42\">\r\n      <!-- 101 -->\r\n      <g transform=\"translate(114.846125 243.0925)rotate(-90)scale(0.06 -0.06)\">\r\n       <use xlink:href=\"#DejaVuSans-49\"/>\r\n       <use x=\"63.623047\" xlink:href=\"#DejaVuSans-48\"/>\r\n       <use x=\"127.246094\" xlink:href=\"#DejaVuSans-49\"/>\r\n      </g>\r\n     </g>\r\n    </g>\r\n    <g id=\"xtick_43\">\r\n     <g id=\"text_43\">\r\n      <!-- 142 -->\r\n      <g transform=\"translate(117.078125 243.0925)rotate(-90)scale(0.06 -0.06)\">\r\n       <use xlink:href=\"#DejaVuSans-49\"/>\r\n       <use x=\"63.623047\" xlink:href=\"#DejaVuSans-52\"/>\r\n       <use x=\"127.246094\" xlink:href=\"#DejaVuSans-50\"/>\r\n      </g>\r\n     </g>\r\n    </g>\r\n    <g id=\"xtick_44\">\r\n     <g id=\"text_44\">\r\n      <!-- 134 -->\r\n      <g transform=\"translate(119.310125 243.0925)rotate(-90)scale(0.06 -0.06)\">\r\n       <use xlink:href=\"#DejaVuSans-49\"/>\r\n       <use x=\"63.623047\" xlink:href=\"#DejaVuSans-51\"/>\r\n       <use x=\"127.246094\" xlink:href=\"#DejaVuSans-52\"/>\r\n      </g>\r\n     </g>\r\n    </g>\r\n    <g id=\"xtick_45\">\r\n     <g id=\"text_45\">\r\n      <!-- 111 -->\r\n      <g transform=\"translate(121.542125 243.0925)rotate(-90)scale(0.06 -0.06)\">\r\n       <use xlink:href=\"#DejaVuSans-49\"/>\r\n       <use x=\"63.623047\" xlink:href=\"#DejaVuSans-49\"/>\r\n       <use x=\"127.246094\" xlink:href=\"#DejaVuSans-49\"/>\r\n      </g>\r\n     </g>\r\n    </g>\r\n    <g id=\"xtick_46\">\r\n     <g id=\"text_46\">\r\n      <!-- 146 -->\r\n      <g transform=\"translate(123.774125 243.0925)rotate(-90)scale(0.06 -0.06)\">\r\n       <use xlink:href=\"#DejaVuSans-49\"/>\r\n       <use x=\"63.623047\" xlink:href=\"#DejaVuSans-52\"/>\r\n       <use x=\"127.246094\" xlink:href=\"#DejaVuSans-54\"/>\r\n      </g>\r\n     </g>\r\n    </g>\r\n    <g id=\"xtick_47\">\r\n     <g id=\"text_47\">\r\n      <!-- 123 -->\r\n      <g transform=\"translate(126.006125 243.0925)rotate(-90)scale(0.06 -0.06)\">\r\n       <use xlink:href=\"#DejaVuSans-49\"/>\r\n       <use x=\"63.623047\" xlink:href=\"#DejaVuSans-50\"/>\r\n       <use x=\"127.246094\" xlink:href=\"#DejaVuSans-51\"/>\r\n      </g>\r\n     </g>\r\n    </g>\r\n    <g id=\"xtick_48\">\r\n     <g id=\"text_48\">\r\n      <!-- 126 -->\r\n      <g transform=\"translate(128.238125 243.0925)rotate(-90)scale(0.06 -0.06)\">\r\n       <use xlink:href=\"#DejaVuSans-49\"/>\r\n       <use x=\"63.623047\" xlink:href=\"#DejaVuSans-50\"/>\r\n       <use x=\"127.246094\" xlink:href=\"#DejaVuSans-54\"/>\r\n      </g>\r\n     </g>\r\n    </g>\r\n    <g id=\"xtick_49\">\r\n     <g id=\"text_49\">\r\n      <!-- 72 -->\r\n      <g transform=\"translate(130.470125 239.275)rotate(-90)scale(0.06 -0.06)\">\r\n       <use xlink:href=\"#DejaVuSans-55\"/>\r\n       <use x=\"63.623047\" xlink:href=\"#DejaVuSans-50\"/>\r\n      </g>\r\n     </g>\r\n    </g>\r\n    <g id=\"xtick_50\">\r\n     <g id=\"text_50\">\r\n      <!-- 83 -->\r\n      <g transform=\"translate(132.702125 239.275)rotate(-90)scale(0.06 -0.06)\">\r\n       <use xlink:href=\"#DejaVuSans-56\"/>\r\n       <use x=\"63.623047\" xlink:href=\"#DejaVuSans-51\"/>\r\n      </g>\r\n     </g>\r\n    </g>\r\n    <g id=\"xtick_51\">\r\n     <g id=\"text_51\">\r\n      <!-- 133 -->\r\n      <g transform=\"translate(134.934125 243.0925)rotate(-90)scale(0.06 -0.06)\">\r\n       <use xlink:href=\"#DejaVuSans-49\"/>\r\n       <use x=\"63.623047\" xlink:href=\"#DejaVuSans-51\"/>\r\n       <use x=\"127.246094\" xlink:href=\"#DejaVuSans-51\"/>\r\n      </g>\r\n     </g>\r\n    </g>\r\n    <g id=\"xtick_52\">\r\n     <g id=\"text_52\">\r\n      <!-- 119 -->\r\n      <g transform=\"translate(137.166125 243.0925)rotate(-90)scale(0.06 -0.06)\">\r\n       <use xlink:href=\"#DejaVuSans-49\"/>\r\n       <use x=\"63.623047\" xlink:href=\"#DejaVuSans-49\"/>\r\n       <use x=\"127.246094\" xlink:href=\"#DejaVuSans-57\"/>\r\n      </g>\r\n     </g>\r\n    </g>\r\n    <g id=\"xtick_53\">\r\n     <g id=\"text_53\">\r\n      <!-- 68 -->\r\n      <g transform=\"translate(139.398125 239.275)rotate(-90)scale(0.06 -0.06)\">\r\n       <use xlink:href=\"#DejaVuSans-54\"/>\r\n       <use x=\"63.623047\" xlink:href=\"#DejaVuSans-56\"/>\r\n      </g>\r\n     </g>\r\n    </g>\r\n    <g id=\"xtick_54\">\r\n     <g id=\"text_54\">\r\n      <!-- 87 -->\r\n      <g transform=\"translate(141.630125 239.275)rotate(-90)scale(0.06 -0.06)\">\r\n       <use xlink:href=\"#DejaVuSans-56\"/>\r\n       <use x=\"63.623047\" xlink:href=\"#DejaVuSans-55\"/>\r\n      </g>\r\n     </g>\r\n    </g>\r\n    <g id=\"xtick_55\">\r\n     <g id=\"text_55\">\r\n      <!-- 65 -->\r\n      <g transform=\"translate(143.862125 239.275)rotate(-90)scale(0.06 -0.06)\">\r\n       <use xlink:href=\"#DejaVuSans-54\"/>\r\n       <use x=\"63.623047\" xlink:href=\"#DejaVuSans-53\"/>\r\n      </g>\r\n     </g>\r\n    </g>\r\n    <g id=\"xtick_56\">\r\n     <g id=\"text_56\">\r\n      <!-- 75 -->\r\n      <g transform=\"translate(146.094125 239.275)rotate(-90)scale(0.06 -0.06)\">\r\n       <use xlink:href=\"#DejaVuSans-55\"/>\r\n       <use x=\"63.623047\" xlink:href=\"#DejaVuSans-53\"/>\r\n      </g>\r\n     </g>\r\n    </g>\r\n    <g id=\"xtick_57\">\r\n     <g id=\"text_57\">\r\n      <!-- 76 -->\r\n      <g transform=\"translate(148.326125 239.275)rotate(-90)scale(0.06 -0.06)\">\r\n       <use xlink:href=\"#DejaVuSans-55\"/>\r\n       <use x=\"63.623047\" xlink:href=\"#DejaVuSans-54\"/>\r\n      </g>\r\n     </g>\r\n    </g>\r\n    <g id=\"xtick_58\">\r\n     <g id=\"text_58\">\r\n      <!-- 54 -->\r\n      <g transform=\"translate(150.558125 239.275)rotate(-90)scale(0.06 -0.06)\">\r\n       <use xlink:href=\"#DejaVuSans-53\"/>\r\n       <use x=\"63.623047\" xlink:href=\"#DejaVuSans-52\"/>\r\n      </g>\r\n     </g>\r\n    </g>\r\n    <g id=\"xtick_59\">\r\n     <g id=\"text_59\">\r\n      <!-- 58 -->\r\n      <g transform=\"translate(152.790125 239.275)rotate(-90)scale(0.06 -0.06)\">\r\n       <use xlink:href=\"#DejaVuSans-53\"/>\r\n       <use x=\"63.623047\" xlink:href=\"#DejaVuSans-56\"/>\r\n      </g>\r\n     </g>\r\n    </g>\r\n    <g id=\"xtick_60\">\r\n     <g id=\"text_60\">\r\n      <!-- 77 -->\r\n      <g transform=\"translate(155.022125 239.275)rotate(-90)scale(0.06 -0.06)\">\r\n       <use xlink:href=\"#DejaVuSans-55\"/>\r\n       <use x=\"63.623047\" xlink:href=\"#DejaVuSans-55\"/>\r\n      </g>\r\n     </g>\r\n    </g>\r\n    <g id=\"xtick_61\">\r\n     <g id=\"text_61\">\r\n      <!-- 86 -->\r\n      <g transform=\"translate(157.254125 239.275)rotate(-90)scale(0.06 -0.06)\">\r\n       <use xlink:href=\"#DejaVuSans-56\"/>\r\n       <use x=\"63.623047\" xlink:href=\"#DejaVuSans-54\"/>\r\n      </g>\r\n     </g>\r\n    </g>\r\n    <g id=\"xtick_62\">\r\n     <g id=\"text_62\">\r\n      <!-- 50 -->\r\n      <g transform=\"translate(159.486125 239.275)rotate(-90)scale(0.06 -0.06)\">\r\n       <use xlink:href=\"#DejaVuSans-53\"/>\r\n       <use x=\"63.623047\" xlink:href=\"#DejaVuSans-48\"/>\r\n      </g>\r\n     </g>\r\n    </g>\r\n    <g id=\"xtick_63\">\r\n     <g id=\"text_63\">\r\n      <!-- 52 -->\r\n      <g transform=\"translate(161.718125 239.275)rotate(-90)scale(0.06 -0.06)\">\r\n       <use xlink:href=\"#DejaVuSans-53\"/>\r\n       <use x=\"63.623047\" xlink:href=\"#DejaVuSans-50\"/>\r\n      </g>\r\n     </g>\r\n    </g>\r\n    <g id=\"xtick_64\">\r\n     <g id=\"text_64\">\r\n      <!-- 85 -->\r\n      <g transform=\"translate(163.950125 239.275)rotate(-90)scale(0.06 -0.06)\">\r\n       <use xlink:href=\"#DejaVuSans-56\"/>\r\n       <use x=\"63.623047\" xlink:href=\"#DejaVuSans-53\"/>\r\n      </g>\r\n     </g>\r\n    </g>\r\n    <g id=\"xtick_65\">\r\n     <g id=\"text_65\">\r\n      <!-- 51 -->\r\n      <g transform=\"translate(166.182125 239.275)rotate(-90)scale(0.06 -0.06)\">\r\n       <use xlink:href=\"#DejaVuSans-53\"/>\r\n       <use x=\"63.623047\" xlink:href=\"#DejaVuSans-49\"/>\r\n      </g>\r\n     </g>\r\n    </g>\r\n    <g id=\"xtick_66\">\r\n     <g id=\"text_66\">\r\n      <!-- 56 -->\r\n      <g transform=\"translate(168.414125 239.275)rotate(-90)scale(0.06 -0.06)\">\r\n       <use xlink:href=\"#DejaVuSans-53\"/>\r\n       <use x=\"63.623047\" xlink:href=\"#DejaVuSans-54\"/>\r\n      </g>\r\n     </g>\r\n    </g>\r\n    <g id=\"xtick_67\">\r\n     <g id=\"text_67\">\r\n      <!-- 74 -->\r\n      <g transform=\"translate(170.646125 239.275)rotate(-90)scale(0.06 -0.06)\">\r\n       <use xlink:href=\"#DejaVuSans-55\"/>\r\n       <use x=\"63.623047\" xlink:href=\"#DejaVuSans-52\"/>\r\n      </g>\r\n     </g>\r\n    </g>\r\n    <g id=\"xtick_68\">\r\n     <g id=\"text_68\">\r\n      <!-- 97 -->\r\n      <g transform=\"translate(172.878125 239.275)rotate(-90)scale(0.06 -0.06)\">\r\n       <use xlink:href=\"#DejaVuSans-57\"/>\r\n       <use x=\"63.623047\" xlink:href=\"#DejaVuSans-55\"/>\r\n      </g>\r\n     </g>\r\n    </g>\r\n    <g id=\"xtick_69\">\r\n     <g id=\"text_69\">\r\n      <!-- 73 -->\r\n      <g transform=\"translate(175.110125 239.275)rotate(-90)scale(0.06 -0.06)\">\r\n       <use xlink:href=\"#DejaVuSans-55\"/>\r\n       <use x=\"63.623047\" xlink:href=\"#DejaVuSans-51\"/>\r\n      </g>\r\n     </g>\r\n    </g>\r\n    <g id=\"xtick_70\">\r\n     <g id=\"text_70\">\r\n      <!-- 78 -->\r\n      <g transform=\"translate(177.342125 239.275)rotate(-90)scale(0.06 -0.06)\">\r\n       <use xlink:href=\"#DejaVuSans-55\"/>\r\n       <use x=\"63.623047\" xlink:href=\"#DejaVuSans-56\"/>\r\n      </g>\r\n     </g>\r\n    </g>\r\n    <g id=\"xtick_71\">\r\n     <g id=\"text_71\">\r\n      <!-- 63 -->\r\n      <g transform=\"translate(179.574125 239.275)rotate(-90)scale(0.06 -0.06)\">\r\n       <use xlink:href=\"#DejaVuSans-54\"/>\r\n       <use x=\"63.623047\" xlink:href=\"#DejaVuSans-51\"/>\r\n      </g>\r\n     </g>\r\n    </g>\r\n    <g id=\"xtick_72\">\r\n     <g id=\"text_72\">\r\n      <!-- 91 -->\r\n      <g transform=\"translate(181.806125 239.275)rotate(-90)scale(0.06 -0.06)\">\r\n       <use xlink:href=\"#DejaVuSans-57\"/>\r\n       <use x=\"63.623047\" xlink:href=\"#DejaVuSans-49\"/>\r\n      </g>\r\n     </g>\r\n    </g>\r\n    <g id=\"xtick_73\">\r\n     <g id=\"text_73\">\r\n      <!-- 60 -->\r\n      <g transform=\"translate(184.038125 239.275)rotate(-90)scale(0.06 -0.06)\">\r\n       <use xlink:href=\"#DejaVuSans-54\"/>\r\n       <use x=\"63.623047\" xlink:href=\"#DejaVuSans-48\"/>\r\n      </g>\r\n     </g>\r\n    </g>\r\n    <g id=\"xtick_74\">\r\n     <g id=\"text_74\">\r\n      <!-- 98 -->\r\n      <g transform=\"translate(186.270125 239.275)rotate(-90)scale(0.06 -0.06)\">\r\n       <use xlink:href=\"#DejaVuSans-57\"/>\r\n       <use x=\"63.623047\" xlink:href=\"#DejaVuSans-56\"/>\r\n      </g>\r\n     </g>\r\n    </g>\r\n    <g id=\"xtick_75\">\r\n     <g id=\"text_75\">\r\n      <!-- 57 -->\r\n      <g transform=\"translate(188.502125 239.275)rotate(-90)scale(0.06 -0.06)\">\r\n       <use xlink:href=\"#DejaVuSans-53\"/>\r\n       <use x=\"63.623047\" xlink:href=\"#DejaVuSans-55\"/>\r\n      </g>\r\n     </g>\r\n    </g>\r\n    <g id=\"xtick_76\">\r\n     <g id=\"text_76\">\r\n      <!-- 93 -->\r\n      <g transform=\"translate(190.734125 239.275)rotate(-90)scale(0.06 -0.06)\">\r\n       <use xlink:href=\"#DejaVuSans-57\"/>\r\n       <use x=\"63.623047\" xlink:href=\"#DejaVuSans-51\"/>\r\n      </g>\r\n     </g>\r\n    </g>\r\n    <g id=\"xtick_77\">\r\n     <g id=\"text_77\">\r\n      <!-- 106 -->\r\n      <g transform=\"translate(192.966125 243.0925)rotate(-90)scale(0.06 -0.06)\">\r\n       <use xlink:href=\"#DejaVuSans-49\"/>\r\n       <use x=\"63.623047\" xlink:href=\"#DejaVuSans-48\"/>\r\n       <use x=\"127.246094\" xlink:href=\"#DejaVuSans-54\"/>\r\n      </g>\r\n     </g>\r\n    </g>\r\n    <g id=\"xtick_78\">\r\n     <g id=\"text_78\">\r\n      <!-- 66 -->\r\n      <g transform=\"translate(195.198125 239.275)rotate(-90)scale(0.06 -0.06)\">\r\n       <use xlink:href=\"#DejaVuSans-54\"/>\r\n       <use x=\"63.623047\" xlink:href=\"#DejaVuSans-54\"/>\r\n      </g>\r\n     </g>\r\n    </g>\r\n    <g id=\"xtick_79\">\r\n     <g id=\"text_79\">\r\n      <!-- 84 -->\r\n      <g transform=\"translate(197.430125 239.275)rotate(-90)scale(0.06 -0.06)\">\r\n       <use xlink:href=\"#DejaVuSans-56\"/>\r\n       <use x=\"63.623047\" xlink:href=\"#DejaVuSans-52\"/>\r\n      </g>\r\n     </g>\r\n    </g>\r\n    <g id=\"xtick_80\">\r\n     <g id=\"text_80\">\r\n      <!-- 55 -->\r\n      <g transform=\"translate(199.662125 239.275)rotate(-90)scale(0.06 -0.06)\">\r\n       <use xlink:href=\"#DejaVuSans-53\"/>\r\n       <use x=\"63.623047\" xlink:href=\"#DejaVuSans-53\"/>\r\n      </g>\r\n     </g>\r\n    </g>\r\n    <g id=\"xtick_81\">\r\n     <g id=\"text_81\">\r\n      <!-- 90 -->\r\n      <g transform=\"translate(201.894125 239.275)rotate(-90)scale(0.06 -0.06)\">\r\n       <use xlink:href=\"#DejaVuSans-57\"/>\r\n       <use x=\"63.623047\" xlink:href=\"#DejaVuSans-48\"/>\r\n      </g>\r\n     </g>\r\n    </g>\r\n    <g id=\"xtick_82\">\r\n     <g id=\"text_82\">\r\n      <!-- 61 -->\r\n      <g transform=\"translate(204.126125 239.275)rotate(-90)scale(0.06 -0.06)\">\r\n       <use xlink:href=\"#DejaVuSans-54\"/>\r\n       <use x=\"63.623047\" xlink:href=\"#DejaVuSans-49\"/>\r\n      </g>\r\n     </g>\r\n    </g>\r\n    <g id=\"xtick_83\">\r\n     <g id=\"text_83\">\r\n      <!-- 71 -->\r\n      <g transform=\"translate(206.358125 239.275)rotate(-90)scale(0.06 -0.06)\">\r\n       <use xlink:href=\"#DejaVuSans-55\"/>\r\n       <use x=\"63.623047\" xlink:href=\"#DejaVuSans-49\"/>\r\n      </g>\r\n     </g>\r\n    </g>\r\n    <g id=\"xtick_84\">\r\n     <g id=\"text_84\">\r\n      <!-- 67 -->\r\n      <g transform=\"translate(208.590125 239.275)rotate(-90)scale(0.06 -0.06)\">\r\n       <use xlink:href=\"#DejaVuSans-54\"/>\r\n       <use x=\"63.623047\" xlink:href=\"#DejaVuSans-55\"/>\r\n      </g>\r\n     </g>\r\n    </g>\r\n    <g id=\"xtick_85\">\r\n     <g id=\"text_85\">\r\n      <!-- 82 -->\r\n      <g transform=\"translate(210.822125 239.275)rotate(-90)scale(0.06 -0.06)\">\r\n       <use xlink:href=\"#DejaVuSans-56\"/>\r\n       <use x=\"63.623047\" xlink:href=\"#DejaVuSans-50\"/>\r\n      </g>\r\n     </g>\r\n    </g>\r\n    <g id=\"xtick_86\">\r\n     <g id=\"text_86\">\r\n      <!-- 92 -->\r\n      <g transform=\"translate(213.054125 239.275)rotate(-90)scale(0.06 -0.06)\">\r\n       <use xlink:href=\"#DejaVuSans-57\"/>\r\n       <use x=\"63.623047\" xlink:href=\"#DejaVuSans-50\"/>\r\n      </g>\r\n     </g>\r\n    </g>\r\n    <g id=\"xtick_87\">\r\n     <g id=\"text_87\">\r\n      <!-- 94 -->\r\n      <g transform=\"translate(215.286125 239.275)rotate(-90)scale(0.06 -0.06)\">\r\n       <use xlink:href=\"#DejaVuSans-57\"/>\r\n       <use x=\"63.623047\" xlink:href=\"#DejaVuSans-52\"/>\r\n      </g>\r\n     </g>\r\n    </g>\r\n    <g id=\"xtick_88\">\r\n     <g id=\"text_88\">\r\n      <!-- 99 -->\r\n      <g transform=\"translate(217.518125 239.275)rotate(-90)scale(0.06 -0.06)\">\r\n       <use xlink:href=\"#DejaVuSans-57\"/>\r\n       <use x=\"63.623047\" xlink:href=\"#DejaVuSans-57\"/>\r\n      </g>\r\n     </g>\r\n    </g>\r\n    <g id=\"xtick_89\">\r\n     <g id=\"text_89\">\r\n      <!-- 88 -->\r\n      <g transform=\"translate(219.750125 239.275)rotate(-90)scale(0.06 -0.06)\">\r\n       <use xlink:href=\"#DejaVuSans-56\"/>\r\n       <use x=\"63.623047\" xlink:href=\"#DejaVuSans-56\"/>\r\n      </g>\r\n     </g>\r\n    </g>\r\n    <g id=\"xtick_90\">\r\n     <g id=\"text_90\">\r\n      <!-- 95 -->\r\n      <g transform=\"translate(221.982125 239.275)rotate(-90)scale(0.06 -0.06)\">\r\n       <use xlink:href=\"#DejaVuSans-57\"/>\r\n       <use x=\"63.623047\" xlink:href=\"#DejaVuSans-53\"/>\r\n      </g>\r\n     </g>\r\n    </g>\r\n    <g id=\"xtick_91\">\r\n     <g id=\"text_91\">\r\n      <!-- 96 -->\r\n      <g transform=\"translate(224.214125 239.275)rotate(-90)scale(0.06 -0.06)\">\r\n       <use xlink:href=\"#DejaVuSans-57\"/>\r\n       <use x=\"63.623047\" xlink:href=\"#DejaVuSans-54\"/>\r\n      </g>\r\n     </g>\r\n    </g>\r\n    <g id=\"xtick_92\">\r\n     <g id=\"text_92\">\r\n      <!-- 62 -->\r\n      <g transform=\"translate(226.446125 239.275)rotate(-90)scale(0.06 -0.06)\">\r\n       <use xlink:href=\"#DejaVuSans-54\"/>\r\n       <use x=\"63.623047\" xlink:href=\"#DejaVuSans-50\"/>\r\n      </g>\r\n     </g>\r\n    </g>\r\n    <g id=\"xtick_93\">\r\n     <g id=\"text_93\">\r\n      <!-- 64 -->\r\n      <g transform=\"translate(228.678125 239.275)rotate(-90)scale(0.06 -0.06)\">\r\n       <use xlink:href=\"#DejaVuSans-54\"/>\r\n       <use x=\"63.623047\" xlink:href=\"#DejaVuSans-52\"/>\r\n      </g>\r\n     </g>\r\n    </g>\r\n    <g id=\"xtick_94\">\r\n     <g id=\"text_94\">\r\n      <!-- 79 -->\r\n      <g transform=\"translate(230.910125 239.275)rotate(-90)scale(0.06 -0.06)\">\r\n       <use xlink:href=\"#DejaVuSans-55\"/>\r\n       <use x=\"63.623047\" xlink:href=\"#DejaVuSans-57\"/>\r\n      </g>\r\n     </g>\r\n    </g>\r\n    <g id=\"xtick_95\">\r\n     <g id=\"text_95\">\r\n      <!-- 59 -->\r\n      <g transform=\"translate(233.142125 239.275)rotate(-90)scale(0.06 -0.06)\">\r\n       <use xlink:href=\"#DejaVuSans-53\"/>\r\n       <use x=\"63.623047\" xlink:href=\"#DejaVuSans-57\"/>\r\n      </g>\r\n     </g>\r\n    </g>\r\n    <g id=\"xtick_96\">\r\n     <g id=\"text_96\">\r\n      <!-- 53 -->\r\n      <g transform=\"translate(235.374125 239.275)rotate(-90)scale(0.06 -0.06)\">\r\n       <use xlink:href=\"#DejaVuSans-53\"/>\r\n       <use x=\"63.623047\" xlink:href=\"#DejaVuSans-51\"/>\r\n      </g>\r\n     </g>\r\n    </g>\r\n    <g id=\"xtick_97\">\r\n     <g id=\"text_97\">\r\n      <!-- 89 -->\r\n      <g transform=\"translate(237.606125 239.275)rotate(-90)scale(0.06 -0.06)\">\r\n       <use xlink:href=\"#DejaVuSans-56\"/>\r\n       <use x=\"63.623047\" xlink:href=\"#DejaVuSans-57\"/>\r\n      </g>\r\n     </g>\r\n    </g>\r\n    <g id=\"xtick_98\">\r\n     <g id=\"text_98\">\r\n      <!-- 69 -->\r\n      <g transform=\"translate(239.838125 239.275)rotate(-90)scale(0.06 -0.06)\">\r\n       <use xlink:href=\"#DejaVuSans-54\"/>\r\n       <use x=\"63.623047\" xlink:href=\"#DejaVuSans-57\"/>\r\n      </g>\r\n     </g>\r\n    </g>\r\n    <g id=\"xtick_99\">\r\n     <g id=\"text_99\">\r\n      <!-- 80 -->\r\n      <g transform=\"translate(242.070125 239.275)rotate(-90)scale(0.06 -0.06)\">\r\n       <use xlink:href=\"#DejaVuSans-56\"/>\r\n       <use x=\"63.623047\" xlink:href=\"#DejaVuSans-48\"/>\r\n      </g>\r\n     </g>\r\n    </g>\r\n    <g id=\"xtick_100\">\r\n     <g id=\"text_100\">\r\n      <!-- 81 -->\r\n      <g transform=\"translate(244.302125 239.275)rotate(-90)scale(0.06 -0.06)\">\r\n       <use xlink:href=\"#DejaVuSans-56\"/>\r\n       <use x=\"63.623047\" xlink:href=\"#DejaVuSans-49\"/>\r\n      </g>\r\n     </g>\r\n    </g>\r\n    <g id=\"xtick_101\">\r\n     <g id=\"text_101\">\r\n      <!-- 41 -->\r\n      <g transform=\"translate(246.534125 239.275)rotate(-90)scale(0.06 -0.06)\">\r\n       <use xlink:href=\"#DejaVuSans-52\"/>\r\n       <use x=\"63.623047\" xlink:href=\"#DejaVuSans-49\"/>\r\n      </g>\r\n     </g>\r\n    </g>\r\n    <g id=\"xtick_102\">\r\n     <g id=\"text_102\">\r\n      <!-- 29 -->\r\n      <g transform=\"translate(248.766125 239.275)rotate(-90)scale(0.06 -0.06)\">\r\n       <use xlink:href=\"#DejaVuSans-50\"/>\r\n       <use x=\"63.623047\" xlink:href=\"#DejaVuSans-57\"/>\r\n      </g>\r\n     </g>\r\n    </g>\r\n    <g id=\"xtick_103\">\r\n     <g id=\"text_103\">\r\n      <!-- 30 -->\r\n      <g transform=\"translate(250.998125 239.275)rotate(-90)scale(0.06 -0.06)\">\r\n       <use xlink:href=\"#DejaVuSans-51\"/>\r\n       <use x=\"63.623047\" xlink:href=\"#DejaVuSans-48\"/>\r\n      </g>\r\n     </g>\r\n    </g>\r\n    <g id=\"xtick_104\">\r\n     <g id=\"text_104\">\r\n      <!-- 25 -->\r\n      <g transform=\"translate(253.230125 239.275)rotate(-90)scale(0.06 -0.06)\">\r\n       <use xlink:href=\"#DejaVuSans-50\"/>\r\n       <use x=\"63.623047\" xlink:href=\"#DejaVuSans-53\"/>\r\n      </g>\r\n     </g>\r\n    </g>\r\n    <g id=\"xtick_105\">\r\n     <g id=\"text_105\">\r\n      <!-- 9 -->\r\n      <g transform=\"translate(255.462125 235.4575)rotate(-90)scale(0.06 -0.06)\">\r\n       <use xlink:href=\"#DejaVuSans-57\"/>\r\n      </g>\r\n     </g>\r\n    </g>\r\n    <g id=\"xtick_106\">\r\n     <g id=\"text_106\">\r\n      <!-- 34 -->\r\n      <g transform=\"translate(257.694125 239.275)rotate(-90)scale(0.06 -0.06)\">\r\n       <use xlink:href=\"#DejaVuSans-51\"/>\r\n       <use x=\"63.623047\" xlink:href=\"#DejaVuSans-52\"/>\r\n      </g>\r\n     </g>\r\n    </g>\r\n    <g id=\"xtick_107\">\r\n     <g id=\"text_107\">\r\n      <!-- 12 -->\r\n      <g transform=\"translate(259.926125 239.275)rotate(-90)scale(0.06 -0.06)\">\r\n       <use xlink:href=\"#DejaVuSans-49\"/>\r\n       <use x=\"63.623047\" xlink:href=\"#DejaVuSans-50\"/>\r\n      </g>\r\n     </g>\r\n    </g>\r\n    <g id=\"xtick_108\">\r\n     <g id=\"text_108\">\r\n      <!-- 1 -->\r\n      <g transform=\"translate(262.158125 235.4575)rotate(-90)scale(0.06 -0.06)\">\r\n       <use xlink:href=\"#DejaVuSans-49\"/>\r\n      </g>\r\n     </g>\r\n    </g>\r\n    <g id=\"xtick_109\">\r\n     <g id=\"text_109\">\r\n      <!-- 45 -->\r\n      <g transform=\"translate(264.390125 239.275)rotate(-90)scale(0.06 -0.06)\">\r\n       <use xlink:href=\"#DejaVuSans-52\"/>\r\n       <use x=\"63.623047\" xlink:href=\"#DejaVuSans-53\"/>\r\n      </g>\r\n     </g>\r\n    </g>\r\n    <g id=\"xtick_110\">\r\n     <g id=\"text_110\">\r\n      <!-- 35 -->\r\n      <g transform=\"translate(266.622125 239.275)rotate(-90)scale(0.06 -0.06)\">\r\n       <use xlink:href=\"#DejaVuSans-51\"/>\r\n       <use x=\"63.623047\" xlink:href=\"#DejaVuSans-53\"/>\r\n      </g>\r\n     </g>\r\n    </g>\r\n    <g id=\"xtick_111\">\r\n     <g id=\"text_111\">\r\n      <!-- 4 -->\r\n      <g transform=\"translate(268.854125 235.4575)rotate(-90)scale(0.06 -0.06)\">\r\n       <use xlink:href=\"#DejaVuSans-52\"/>\r\n      </g>\r\n     </g>\r\n    </g>\r\n    <g id=\"xtick_112\">\r\n     <g id=\"text_112\">\r\n      <!-- 37 -->\r\n      <g transform=\"translate(271.086125 239.275)rotate(-90)scale(0.06 -0.06)\">\r\n       <use xlink:href=\"#DejaVuSans-51\"/>\r\n       <use x=\"63.623047\" xlink:href=\"#DejaVuSans-55\"/>\r\n      </g>\r\n     </g>\r\n    </g>\r\n    <g id=\"xtick_113\">\r\n     <g id=\"text_113\">\r\n      <!-- 27 -->\r\n      <g transform=\"translate(273.318125 239.275)rotate(-90)scale(0.06 -0.06)\">\r\n       <use xlink:href=\"#DejaVuSans-50\"/>\r\n       <use x=\"63.623047\" xlink:href=\"#DejaVuSans-55\"/>\r\n      </g>\r\n     </g>\r\n    </g>\r\n    <g id=\"xtick_114\">\r\n     <g id=\"text_114\">\r\n      <!-- 28 -->\r\n      <g transform=\"translate(275.550125 239.275)rotate(-90)scale(0.06 -0.06)\">\r\n       <use xlink:href=\"#DejaVuSans-50\"/>\r\n       <use x=\"63.623047\" xlink:href=\"#DejaVuSans-56\"/>\r\n      </g>\r\n     </g>\r\n    </g>\r\n    <g id=\"xtick_115\">\r\n     <g id=\"text_115\">\r\n      <!-- 40 -->\r\n      <g transform=\"translate(277.782125 239.275)rotate(-90)scale(0.06 -0.06)\">\r\n       <use xlink:href=\"#DejaVuSans-52\"/>\r\n       <use x=\"63.623047\" xlink:href=\"#DejaVuSans-48\"/>\r\n      </g>\r\n     </g>\r\n    </g>\r\n    <g id=\"xtick_116\">\r\n     <g id=\"text_116\">\r\n      <!-- 0 -->\r\n      <g transform=\"translate(280.014125 235.4575)rotate(-90)scale(0.06 -0.06)\">\r\n       <use xlink:href=\"#DejaVuSans-48\"/>\r\n      </g>\r\n     </g>\r\n    </g>\r\n    <g id=\"xtick_117\">\r\n     <g id=\"text_117\">\r\n      <!-- 17 -->\r\n      <g transform=\"translate(282.246125 239.275)rotate(-90)scale(0.06 -0.06)\">\r\n       <use xlink:href=\"#DejaVuSans-49\"/>\r\n       <use x=\"63.623047\" xlink:href=\"#DejaVuSans-55\"/>\r\n      </g>\r\n     </g>\r\n    </g>\r\n    <g id=\"xtick_118\">\r\n     <g id=\"text_118\">\r\n      <!-- 49 -->\r\n      <g transform=\"translate(284.478125 239.275)rotate(-90)scale(0.06 -0.06)\">\r\n       <use xlink:href=\"#DejaVuSans-52\"/>\r\n       <use x=\"63.623047\" xlink:href=\"#DejaVuSans-57\"/>\r\n      </g>\r\n     </g>\r\n    </g>\r\n    <g id=\"xtick_119\">\r\n     <g id=\"text_119\">\r\n      <!-- 7 -->\r\n      <g transform=\"translate(286.710125 235.4575)rotate(-90)scale(0.06 -0.06)\">\r\n       <use xlink:href=\"#DejaVuSans-55\"/>\r\n      </g>\r\n     </g>\r\n    </g>\r\n    <g id=\"xtick_120\">\r\n     <g id=\"text_120\">\r\n      <!-- 39 -->\r\n      <g transform=\"translate(288.942125 239.275)rotate(-90)scale(0.06 -0.06)\">\r\n       <use xlink:href=\"#DejaVuSans-51\"/>\r\n       <use x=\"63.623047\" xlink:href=\"#DejaVuSans-57\"/>\r\n      </g>\r\n     </g>\r\n    </g>\r\n    <g id=\"xtick_121\">\r\n     <g id=\"text_121\">\r\n      <!-- 22 -->\r\n      <g transform=\"translate(291.174125 239.275)rotate(-90)scale(0.06 -0.06)\">\r\n       <use xlink:href=\"#DejaVuSans-50\"/>\r\n       <use x=\"63.623047\" xlink:href=\"#DejaVuSans-50\"/>\r\n      </g>\r\n     </g>\r\n    </g>\r\n    <g id=\"xtick_122\">\r\n     <g id=\"text_122\">\r\n      <!-- 6 -->\r\n      <g transform=\"translate(293.406125 235.4575)rotate(-90)scale(0.06 -0.06)\">\r\n       <use xlink:href=\"#DejaVuSans-54\"/>\r\n      </g>\r\n     </g>\r\n    </g>\r\n    <g id=\"xtick_123\">\r\n     <g id=\"text_123\">\r\n      <!-- 42 -->\r\n      <g transform=\"translate(295.638125 239.275)rotate(-90)scale(0.06 -0.06)\">\r\n       <use xlink:href=\"#DejaVuSans-52\"/>\r\n       <use x=\"63.623047\" xlink:href=\"#DejaVuSans-50\"/>\r\n      </g>\r\n     </g>\r\n    </g>\r\n    <g id=\"xtick_124\">\r\n     <g id=\"text_124\">\r\n      <!-- 2 -->\r\n      <g transform=\"translate(297.870125 235.4575)rotate(-90)scale(0.06 -0.06)\">\r\n       <use xlink:href=\"#DejaVuSans-50\"/>\r\n      </g>\r\n     </g>\r\n    </g>\r\n    <g id=\"xtick_125\">\r\n     <g id=\"text_125\">\r\n      <!-- 3 -->\r\n      <g transform=\"translate(300.102125 235.4575)rotate(-90)scale(0.06 -0.06)\">\r\n       <use xlink:href=\"#DejaVuSans-51\"/>\r\n      </g>\r\n     </g>\r\n    </g>\r\n    <g id=\"xtick_126\">\r\n     <g id=\"text_126\">\r\n      <!-- 47 -->\r\n      <g transform=\"translate(302.334125 239.275)rotate(-90)scale(0.06 -0.06)\">\r\n       <use xlink:href=\"#DejaVuSans-52\"/>\r\n       <use x=\"63.623047\" xlink:href=\"#DejaVuSans-55\"/>\r\n      </g>\r\n     </g>\r\n    </g>\r\n    <g id=\"xtick_127\">\r\n     <g id=\"text_127\">\r\n      <!-- 13 -->\r\n      <g transform=\"translate(304.566125 239.275)rotate(-90)scale(0.06 -0.06)\">\r\n       <use xlink:href=\"#DejaVuSans-49\"/>\r\n       <use x=\"63.623047\" xlink:href=\"#DejaVuSans-51\"/>\r\n      </g>\r\n     </g>\r\n    </g>\r\n    <g id=\"xtick_128\">\r\n     <g id=\"text_128\">\r\n      <!-- 8 -->\r\n      <g transform=\"translate(306.798125 235.4575)rotate(-90)scale(0.06 -0.06)\">\r\n       <use xlink:href=\"#DejaVuSans-56\"/>\r\n      </g>\r\n     </g>\r\n    </g>\r\n    <g id=\"xtick_129\">\r\n     <g id=\"text_129\">\r\n      <!-- 38 -->\r\n      <g transform=\"translate(309.030125 239.275)rotate(-90)scale(0.06 -0.06)\">\r\n       <use xlink:href=\"#DejaVuSans-51\"/>\r\n       <use x=\"63.623047\" xlink:href=\"#DejaVuSans-56\"/>\r\n      </g>\r\n     </g>\r\n    </g>\r\n    <g id=\"xtick_130\">\r\n     <g id=\"text_130\">\r\n      <!-- 16 -->\r\n      <g transform=\"translate(311.262125 239.275)rotate(-90)scale(0.06 -0.06)\">\r\n       <use xlink:href=\"#DejaVuSans-49\"/>\r\n       <use x=\"63.623047\" xlink:href=\"#DejaVuSans-54\"/>\r\n      </g>\r\n     </g>\r\n    </g>\r\n    <g id=\"xtick_131\">\r\n     <g id=\"text_131\">\r\n      <!-- 32 -->\r\n      <g transform=\"translate(313.494125 239.275)rotate(-90)scale(0.06 -0.06)\">\r\n       <use xlink:href=\"#DejaVuSans-51\"/>\r\n       <use x=\"63.623047\" xlink:href=\"#DejaVuSans-50\"/>\r\n      </g>\r\n     </g>\r\n    </g>\r\n    <g id=\"xtick_132\">\r\n     <g id=\"text_132\">\r\n      <!-- 33 -->\r\n      <g transform=\"translate(315.726125 239.275)rotate(-90)scale(0.06 -0.06)\">\r\n       <use xlink:href=\"#DejaVuSans-51\"/>\r\n       <use x=\"63.623047\" xlink:href=\"#DejaVuSans-51\"/>\r\n      </g>\r\n     </g>\r\n    </g>\r\n    <g id=\"xtick_133\">\r\n     <g id=\"text_133\">\r\n      <!-- 14 -->\r\n      <g transform=\"translate(317.958125 239.275)rotate(-90)scale(0.06 -0.06)\">\r\n       <use xlink:href=\"#DejaVuSans-49\"/>\r\n       <use x=\"63.623047\" xlink:href=\"#DejaVuSans-52\"/>\r\n      </g>\r\n     </g>\r\n    </g>\r\n    <g id=\"xtick_134\">\r\n     <g id=\"text_134\">\r\n      <!-- 15 -->\r\n      <g transform=\"translate(320.190125 239.275)rotate(-90)scale(0.06 -0.06)\">\r\n       <use xlink:href=\"#DejaVuSans-49\"/>\r\n       <use x=\"63.623047\" xlink:href=\"#DejaVuSans-53\"/>\r\n      </g>\r\n     </g>\r\n    </g>\r\n    <g id=\"xtick_135\">\r\n     <g id=\"text_135\">\r\n      <!-- 5 -->\r\n      <g transform=\"translate(322.422125 235.4575)rotate(-90)scale(0.06 -0.06)\">\r\n       <use xlink:href=\"#DejaVuSans-53\"/>\r\n      </g>\r\n     </g>\r\n    </g>\r\n    <g id=\"xtick_136\">\r\n     <g id=\"text_136\">\r\n      <!-- 18 -->\r\n      <g transform=\"translate(324.654125 239.275)rotate(-90)scale(0.06 -0.06)\">\r\n       <use xlink:href=\"#DejaVuSans-49\"/>\r\n       <use x=\"63.623047\" xlink:href=\"#DejaVuSans-56\"/>\r\n      </g>\r\n     </g>\r\n    </g>\r\n    <g id=\"xtick_137\">\r\n     <g id=\"text_137\">\r\n      <!-- 20 -->\r\n      <g transform=\"translate(326.886125 239.275)rotate(-90)scale(0.06 -0.06)\">\r\n       <use xlink:href=\"#DejaVuSans-50\"/>\r\n       <use x=\"63.623047\" xlink:href=\"#DejaVuSans-48\"/>\r\n      </g>\r\n     </g>\r\n    </g>\r\n    <g id=\"xtick_138\">\r\n     <g id=\"text_138\">\r\n      <!-- 31 -->\r\n      <g transform=\"translate(329.118125 239.275)rotate(-90)scale(0.06 -0.06)\">\r\n       <use xlink:href=\"#DejaVuSans-51\"/>\r\n       <use x=\"63.623047\" xlink:href=\"#DejaVuSans-49\"/>\r\n      </g>\r\n     </g>\r\n    </g>\r\n    <g id=\"xtick_139\">\r\n     <g id=\"text_139\">\r\n      <!-- 36 -->\r\n      <g transform=\"translate(331.350125 239.275)rotate(-90)scale(0.06 -0.06)\">\r\n       <use xlink:href=\"#DejaVuSans-51\"/>\r\n       <use x=\"63.623047\" xlink:href=\"#DejaVuSans-54\"/>\r\n      </g>\r\n     </g>\r\n    </g>\r\n    <g id=\"xtick_140\">\r\n     <g id=\"text_140\">\r\n      <!-- 10 -->\r\n      <g transform=\"translate(333.582125 239.275)rotate(-90)scale(0.06 -0.06)\">\r\n       <use xlink:href=\"#DejaVuSans-49\"/>\r\n       <use x=\"63.623047\" xlink:href=\"#DejaVuSans-48\"/>\r\n      </g>\r\n     </g>\r\n    </g>\r\n    <g id=\"xtick_141\">\r\n     <g id=\"text_141\">\r\n      <!-- 48 -->\r\n      <g transform=\"translate(335.814125 239.275)rotate(-90)scale(0.06 -0.06)\">\r\n       <use xlink:href=\"#DejaVuSans-52\"/>\r\n       <use x=\"63.623047\" xlink:href=\"#DejaVuSans-56\"/>\r\n      </g>\r\n     </g>\r\n    </g>\r\n    <g id=\"xtick_142\">\r\n     <g id=\"text_142\">\r\n      <!-- 44 -->\r\n      <g transform=\"translate(338.046125 239.275)rotate(-90)scale(0.06 -0.06)\">\r\n       <use xlink:href=\"#DejaVuSans-52\"/>\r\n       <use x=\"63.623047\" xlink:href=\"#DejaVuSans-52\"/>\r\n      </g>\r\n     </g>\r\n    </g>\r\n    <g id=\"xtick_143\">\r\n     <g id=\"text_143\">\r\n      <!-- 46 -->\r\n      <g transform=\"translate(340.278125 239.275)rotate(-90)scale(0.06 -0.06)\">\r\n       <use xlink:href=\"#DejaVuSans-52\"/>\r\n       <use x=\"63.623047\" xlink:href=\"#DejaVuSans-54\"/>\r\n      </g>\r\n     </g>\r\n    </g>\r\n    <g id=\"xtick_144\">\r\n     <g id=\"text_144\">\r\n      <!-- 19 -->\r\n      <g transform=\"translate(342.510125 239.275)rotate(-90)scale(0.06 -0.06)\">\r\n       <use xlink:href=\"#DejaVuSans-49\"/>\r\n       <use x=\"63.623047\" xlink:href=\"#DejaVuSans-57\"/>\r\n      </g>\r\n     </g>\r\n    </g>\r\n    <g id=\"xtick_145\">\r\n     <g id=\"text_145\">\r\n      <!-- 21 -->\r\n      <g transform=\"translate(344.742125 239.275)rotate(-90)scale(0.06 -0.06)\">\r\n       <use xlink:href=\"#DejaVuSans-50\"/>\r\n       <use x=\"63.623047\" xlink:href=\"#DejaVuSans-49\"/>\r\n      </g>\r\n     </g>\r\n    </g>\r\n    <g id=\"xtick_146\">\r\n     <g id=\"text_146\">\r\n      <!-- 43 -->\r\n      <g transform=\"translate(346.974125 239.275)rotate(-90)scale(0.06 -0.06)\">\r\n       <use xlink:href=\"#DejaVuSans-52\"/>\r\n       <use x=\"63.623047\" xlink:href=\"#DejaVuSans-51\"/>\r\n      </g>\r\n     </g>\r\n    </g>\r\n    <g id=\"xtick_147\">\r\n     <g id=\"text_147\">\r\n      <!-- 23 -->\r\n      <g transform=\"translate(349.206125 239.275)rotate(-90)scale(0.06 -0.06)\">\r\n       <use xlink:href=\"#DejaVuSans-50\"/>\r\n       <use x=\"63.623047\" xlink:href=\"#DejaVuSans-51\"/>\r\n      </g>\r\n     </g>\r\n    </g>\r\n    <g id=\"xtick_148\">\r\n     <g id=\"text_148\">\r\n      <!-- 26 -->\r\n      <g transform=\"translate(351.438125 239.275)rotate(-90)scale(0.06 -0.06)\">\r\n       <use xlink:href=\"#DejaVuSans-50\"/>\r\n       <use x=\"63.623047\" xlink:href=\"#DejaVuSans-54\"/>\r\n      </g>\r\n     </g>\r\n    </g>\r\n    <g id=\"xtick_149\">\r\n     <g id=\"text_149\">\r\n      <!-- 11 -->\r\n      <g transform=\"translate(353.670125 239.275)rotate(-90)scale(0.06 -0.06)\">\r\n       <use xlink:href=\"#DejaVuSans-49\"/>\r\n       <use x=\"63.623047\" xlink:href=\"#DejaVuSans-49\"/>\r\n      </g>\r\n     </g>\r\n    </g>\r\n    <g id=\"xtick_150\">\r\n     <g id=\"text_150\">\r\n      <!-- 24 -->\r\n      <g transform=\"translate(355.902125 239.275)rotate(-90)scale(0.06 -0.06)\">\r\n       <use xlink:href=\"#DejaVuSans-50\"/>\r\n       <use x=\"63.623047\" xlink:href=\"#DejaVuSans-52\"/>\r\n      </g>\r\n     </g>\r\n    </g>\r\n   </g>\r\n   <g id=\"matplotlib.axis_2\">\r\n    <g id=\"ytick_1\">\r\n     <g id=\"line2d_1\">\r\n      <defs>\r\n       <path d=\"M 0 0 \r\nL -3.5 0 \r\n\" id=\"m3dd433b620\" style=\"stroke:#000000;stroke-width:0.8;\"/>\r\n      </defs>\r\n      <g>\r\n       <use style=\"stroke:#000000;stroke-width:0.8;\" x=\"20.5625\" xlink:href=\"#m3dd433b620\" y=\"224.64\"/>\r\n      </g>\r\n     </g>\r\n     <g id=\"text_151\">\r\n      <!-- 0 -->\r\n      <g transform=\"translate(7.2 228.439219)scale(0.1 -0.1)\">\r\n       <use xlink:href=\"#DejaVuSans-48\"/>\r\n      </g>\r\n     </g>\r\n    </g>\r\n    <g id=\"ytick_2\">\r\n     <g id=\"line2d_2\">\r\n      <g>\r\n       <use style=\"stroke:#000000;stroke-width:0.8;\" x=\"20.5625\" xlink:href=\"#m3dd433b620\" y=\"195.412055\"/>\r\n      </g>\r\n     </g>\r\n     <g id=\"text_152\">\r\n      <!-- 1 -->\r\n      <g transform=\"translate(7.2 199.211274)scale(0.1 -0.1)\">\r\n       <use xlink:href=\"#DejaVuSans-49\"/>\r\n      </g>\r\n     </g>\r\n    </g>\r\n    <g id=\"ytick_3\">\r\n     <g id=\"line2d_3\">\r\n      <g>\r\n       <use style=\"stroke:#000000;stroke-width:0.8;\" x=\"20.5625\" xlink:href=\"#m3dd433b620\" y=\"166.18411\"/>\r\n      </g>\r\n     </g>\r\n     <g id=\"text_153\">\r\n      <!-- 2 -->\r\n      <g transform=\"translate(7.2 169.983329)scale(0.1 -0.1)\">\r\n       <use xlink:href=\"#DejaVuSans-50\"/>\r\n      </g>\r\n     </g>\r\n    </g>\r\n    <g id=\"ytick_4\">\r\n     <g id=\"line2d_4\">\r\n      <g>\r\n       <use style=\"stroke:#000000;stroke-width:0.8;\" x=\"20.5625\" xlink:href=\"#m3dd433b620\" y=\"136.956165\"/>\r\n      </g>\r\n     </g>\r\n     <g id=\"text_154\">\r\n      <!-- 3 -->\r\n      <g transform=\"translate(7.2 140.755384)scale(0.1 -0.1)\">\r\n       <use xlink:href=\"#DejaVuSans-51\"/>\r\n      </g>\r\n     </g>\r\n    </g>\r\n    <g id=\"ytick_5\">\r\n     <g id=\"line2d_5\">\r\n      <g>\r\n       <use style=\"stroke:#000000;stroke-width:0.8;\" x=\"20.5625\" xlink:href=\"#m3dd433b620\" y=\"107.72822\"/>\r\n      </g>\r\n     </g>\r\n     <g id=\"text_155\">\r\n      <!-- 4 -->\r\n      <g transform=\"translate(7.2 111.527439)scale(0.1 -0.1)\">\r\n       <use xlink:href=\"#DejaVuSans-52\"/>\r\n      </g>\r\n     </g>\r\n    </g>\r\n    <g id=\"ytick_6\">\r\n     <g id=\"line2d_6\">\r\n      <g>\r\n       <use style=\"stroke:#000000;stroke-width:0.8;\" x=\"20.5625\" xlink:href=\"#m3dd433b620\" y=\"78.500275\"/>\r\n      </g>\r\n     </g>\r\n     <g id=\"text_156\">\r\n      <!-- 5 -->\r\n      <g transform=\"translate(7.2 82.299494)scale(0.1 -0.1)\">\r\n       <use xlink:href=\"#DejaVuSans-53\"/>\r\n      </g>\r\n     </g>\r\n    </g>\r\n    <g id=\"ytick_7\">\r\n     <g id=\"line2d_7\">\r\n      <g>\r\n       <use style=\"stroke:#000000;stroke-width:0.8;\" x=\"20.5625\" xlink:href=\"#m3dd433b620\" y=\"49.27233\"/>\r\n      </g>\r\n     </g>\r\n     <g id=\"text_157\">\r\n      <!-- 6 -->\r\n      <g transform=\"translate(7.2 53.071549)scale(0.1 -0.1)\">\r\n       <use xlink:href=\"#DejaVuSans-54\"/>\r\n      </g>\r\n     </g>\r\n    </g>\r\n    <g id=\"ytick_8\">\r\n     <g id=\"line2d_8\">\r\n      <g>\r\n       <use style=\"stroke:#000000;stroke-width:0.8;\" x=\"20.5625\" xlink:href=\"#m3dd433b620\" y=\"20.044385\"/>\r\n      </g>\r\n     </g>\r\n     <g id=\"text_158\">\r\n      <!-- 7 -->\r\n      <g transform=\"translate(7.2 23.843604)scale(0.1 -0.1)\">\r\n       <use xlink:href=\"#DejaVuSans-55\"/>\r\n      </g>\r\n     </g>\r\n    </g>\r\n   </g>\r\n   <g id=\"LineCollection_1\">\r\n    <path clip-path=\"url(#p3b0dac86b2)\" d=\"M 21.6785 224.64 \r\nL 21.6785 216.907013 \r\nL 23.9105 216.907013 \r\nL 23.9105 224.64 \r\n\" style=\"fill:none;stroke:#ff7f0e;stroke-width:1.5;\"/>\r\n    <path clip-path=\"url(#p3b0dac86b2)\" d=\"M 28.3745 224.64 \r\nL 28.3745 214.515143 \r\nL 30.6065 214.515143 \r\nL 30.6065 224.64 \r\n\" style=\"fill:none;stroke:#ff7f0e;stroke-width:1.5;\"/>\r\n    <path clip-path=\"url(#p3b0dac86b2)\" d=\"M 26.1425 224.64 \r\nL 26.1425 209.452714 \r\nL 29.4905 209.452714 \r\nL 29.4905 214.515143 \r\n\" style=\"fill:none;stroke:#ff7f0e;stroke-width:1.5;\"/>\r\n    <path clip-path=\"url(#p3b0dac86b2)\" d=\"M 22.7945 216.907013 \r\nL 22.7945 208.366569 \r\nL 27.8165 208.366569 \r\nL 27.8165 209.452714 \r\n\" style=\"fill:none;stroke:#ff7f0e;stroke-width:1.5;\"/>\r\n    <path clip-path=\"url(#p3b0dac86b2)\" d=\"M 35.0705 224.64 \r\nL 35.0705 216.907013 \r\nL 37.3025 216.907013 \r\nL 37.3025 224.64 \r\n\" style=\"fill:none;stroke:#ff7f0e;stroke-width:1.5;\"/>\r\n    <path clip-path=\"url(#p3b0dac86b2)\" d=\"M 32.8385 224.64 \r\nL 32.8385 208.631195 \r\nL 36.1865 208.631195 \r\nL 36.1865 216.907013 \r\n\" style=\"fill:none;stroke:#ff7f0e;stroke-width:1.5;\"/>\r\n    <path clip-path=\"url(#p3b0dac86b2)\" d=\"M 39.5345 224.64 \r\nL 39.5345 212.58901 \r\nL 41.7665 212.58901 \r\nL 41.7665 224.64 \r\n\" style=\"fill:none;stroke:#ff7f0e;stroke-width:1.5;\"/>\r\n    <path clip-path=\"url(#p3b0dac86b2)\" d=\"M 43.9985 224.64 \r\nL 43.9985 201.075677 \r\nL 46.2305 201.075677 \r\nL 46.2305 224.64 \r\n\" style=\"fill:none;stroke:#ff7f0e;stroke-width:1.5;\"/>\r\n    <path clip-path=\"url(#p3b0dac86b2)\" d=\"M 40.6505 212.58901 \r\nL 40.6505 195.266279 \r\nL 45.1145 195.266279 \r\nL 45.1145 201.075677 \r\n\" style=\"fill:none;stroke:#ff7f0e;stroke-width:1.5;\"/>\r\n    <path clip-path=\"url(#p3b0dac86b2)\" d=\"M 34.5125 208.631195 \r\nL 34.5125 184.035241 \r\nL 42.8825 184.035241 \r\nL 42.8825 195.266279 \r\n\" style=\"fill:none;stroke:#ff7f0e;stroke-width:1.5;\"/>\r\n    <path clip-path=\"url(#p3b0dac86b2)\" d=\"M 25.3055 208.366569 \r\nL 25.3055 182.183957 \r\nL 38.6975 182.183957 \r\nL 38.6975 184.035241 \r\n\" style=\"fill:none;stroke:#ff7f0e;stroke-width:1.5;\"/>\r\n    <path clip-path=\"url(#p3b0dac86b2)\" d=\"M 48.4625 224.64 \r\nL 48.4625 217.480645 \r\nL 50.6945 217.480645 \r\nL 50.6945 224.64 \r\n\" style=\"fill:none;stroke:#ff7f0e;stroke-width:1.5;\"/>\r\n    <path clip-path=\"url(#p3b0dac86b2)\" d=\"M 55.1585 224.64 \r\nL 55.1585 218.104433 \r\nL 57.3905 218.104433 \r\nL 57.3905 224.64 \r\n\" style=\"fill:none;stroke:#ff7f0e;stroke-width:1.5;\"/>\r\n    <path clip-path=\"url(#p3b0dac86b2)\" d=\"M 52.9265 224.64 \r\nL 52.9265 215.397312 \r\nL 56.2745 215.397312 \r\nL 56.2745 218.104433 \r\n\" style=\"fill:none;stroke:#ff7f0e;stroke-width:1.5;\"/>\r\n    <path clip-path=\"url(#p3b0dac86b2)\" d=\"M 49.5785 217.480645 \r\nL 49.5785 212.948822 \r\nL 54.6005 212.948822 \r\nL 54.6005 215.397312 \r\n\" style=\"fill:none;stroke:#ff7f0e;stroke-width:1.5;\"/>\r\n    <path clip-path=\"url(#p3b0dac86b2)\" d=\"M 61.8545 224.64 \r\nL 61.8545 217.480645 \r\nL 64.0865 217.480645 \r\nL 64.0865 224.64 \r\n\" style=\"fill:none;stroke:#ff7f0e;stroke-width:1.5;\"/>\r\n    <path clip-path=\"url(#p3b0dac86b2)\" d=\"M 59.6225 224.64 \r\nL 59.6225 205.698127 \r\nL 62.9705 205.698127 \r\nL 62.9705 217.480645 \r\n\" style=\"fill:none;stroke:#ff7f0e;stroke-width:1.5;\"/>\r\n    <path clip-path=\"url(#p3b0dac86b2)\" d=\"M 52.0895 212.948822 \r\nL 52.0895 201.075677 \r\nL 61.2965 201.075677 \r\nL 61.2965 205.698127 \r\n\" style=\"fill:none;stroke:#ff7f0e;stroke-width:1.5;\"/>\r\n    <path clip-path=\"url(#p3b0dac86b2)\" d=\"M 68.5505 224.64 \r\nL 68.5505 218.104433 \r\nL 70.7825 218.104433 \r\nL 70.7825 224.64 \r\n\" style=\"fill:none;stroke:#ff7f0e;stroke-width:1.5;\"/>\r\n    <path clip-path=\"url(#p3b0dac86b2)\" d=\"M 66.3185 224.64 \r\nL 66.3185 213.320066 \r\nL 69.6665 213.320066 \r\nL 69.6665 218.104433 \r\n\" style=\"fill:none;stroke:#ff7f0e;stroke-width:1.5;\"/>\r\n    <path clip-path=\"url(#p3b0dac86b2)\" d=\"M 73.0145 224.64 \r\nL 73.0145 219.577571 \r\nL 75.2465 219.577571 \r\nL 75.2465 224.64 \r\n\" style=\"fill:none;stroke:#ff7f0e;stroke-width:1.5;\"/>\r\n    <path clip-path=\"url(#p3b0dac86b2)\" d=\"M 77.4785 224.64 \r\nL 77.4785 217.480645 \r\nL 79.7105 217.480645 \r\nL 79.7105 224.64 \r\n\" style=\"fill:none;stroke:#ff7f0e;stroke-width:1.5;\"/>\r\n    <path clip-path=\"url(#p3b0dac86b2)\" d=\"M 74.1305 219.577571 \r\nL 74.1305 210.930879 \r\nL 78.5945 210.930879 \r\nL 78.5945 217.480645 \r\n\" style=\"fill:none;stroke:#ff7f0e;stroke-width:1.5;\"/>\r\n    <path clip-path=\"url(#p3b0dac86b2)\" d=\"M 67.9925 213.320066 \r\nL 67.9925 208.366569 \r\nL 76.3625 208.366569 \r\nL 76.3625 210.930879 \r\n\" style=\"fill:none;stroke:#ff7f0e;stroke-width:1.5;\"/>\r\n    <path clip-path=\"url(#p3b0dac86b2)\" d=\"M 86.4065 224.64 \r\nL 86.4065 220.506544 \r\nL 88.6385 220.506544 \r\nL 88.6385 224.64 \r\n\" style=\"fill:none;stroke:#ff7f0e;stroke-width:1.5;\"/>\r\n    <path clip-path=\"url(#p3b0dac86b2)\" d=\"M 84.1745 224.64 \r\nL 84.1745 217.480645 \r\nL 87.5225 217.480645 \r\nL 87.5225 220.506544 \r\n\" style=\"fill:none;stroke:#ff7f0e;stroke-width:1.5;\"/>\r\n    <path clip-path=\"url(#p3b0dac86b2)\" d=\"M 93.1025 224.64 \r\nL 93.1025 221.717205 \r\nL 95.3345 221.717205 \r\nL 95.3345 224.64 \r\n\" style=\"fill:none;stroke:#ff7f0e;stroke-width:1.5;\"/>\r\n    <path clip-path=\"url(#p3b0dac86b2)\" d=\"M 90.8705 224.64 \r\nL 90.8705 215.397312 \r\nL 94.2185 215.397312 \r\nL 94.2185 221.717205 \r\n\" style=\"fill:none;stroke:#ff7f0e;stroke-width:1.5;\"/>\r\n    <path clip-path=\"url(#p3b0dac86b2)\" d=\"M 85.8485 217.480645 \r\nL 85.8485 209.452714 \r\nL 92.5445 209.452714 \r\nL 92.5445 215.397312 \r\n\" style=\"fill:none;stroke:#ff7f0e;stroke-width:1.5;\"/>\r\n    <path clip-path=\"url(#p3b0dac86b2)\" d=\"M 81.9425 224.64 \r\nL 81.9425 203.161935 \r\nL 89.1965 203.161935 \r\nL 89.1965 209.452714 \r\n\" style=\"fill:none;stroke:#ff7f0e;stroke-width:1.5;\"/>\r\n    <path clip-path=\"url(#p3b0dac86b2)\" d=\"M 72.1775 208.366569 \r\nL 72.1775 193.433094 \r\nL 85.5695 193.433094 \r\nL 85.5695 203.161935 \r\n\" style=\"fill:none;stroke:#ff7f0e;stroke-width:1.5;\"/>\r\n    <path clip-path=\"url(#p3b0dac86b2)\" d=\"M 56.693 201.075677 \r\nL 56.693 189.203 \r\nL 78.8735 189.203 \r\nL 78.8735 193.433094 \r\n\" style=\"fill:none;stroke:#ff7f0e;stroke-width:1.5;\"/>\r\n    <path clip-path=\"url(#p3b0dac86b2)\" d=\"M 102.0305 224.64 \r\nL 102.0305 220.506544 \r\nL 104.2625 220.506544 \r\nL 104.2625 224.64 \r\n\" style=\"fill:none;stroke:#ff7f0e;stroke-width:1.5;\"/>\r\n    <path clip-path=\"url(#p3b0dac86b2)\" d=\"M 99.7985 224.64 \r\nL 99.7985 215.871616 \r\nL 103.1465 215.871616 \r\nL 103.1465 220.506544 \r\n\" style=\"fill:none;stroke:#ff7f0e;stroke-width:1.5;\"/>\r\n    <path clip-path=\"url(#p3b0dac86b2)\" d=\"M 97.5665 224.64 \r\nL 97.5665 214.101715 \r\nL 101.4725 214.101715 \r\nL 101.4725 215.871616 \r\n\" style=\"fill:none;stroke:#ff7f0e;stroke-width:1.5;\"/>\r\n    <path clip-path=\"url(#p3b0dac86b2)\" d=\"M 113.1905 224.64 \r\nL 113.1905 224.64 \r\nL 115.4225 224.64 \r\nL 115.4225 224.64 \r\n\" style=\"fill:none;stroke:#ff7f0e;stroke-width:1.5;\"/>\r\n    <path clip-path=\"url(#p3b0dac86b2)\" d=\"M 110.9585 224.64 \r\nL 110.9585 216.907013 \r\nL 114.3065 216.907013 \r\nL 114.3065 224.64 \r\n\" style=\"fill:none;stroke:#ff7f0e;stroke-width:1.5;\"/>\r\n    <path clip-path=\"url(#p3b0dac86b2)\" d=\"M 108.7265 224.64 \r\nL 108.7265 214.946187 \r\nL 112.6325 214.946187 \r\nL 112.6325 216.907013 \r\n\" style=\"fill:none;stroke:#ff7f0e;stroke-width:1.5;\"/>\r\n    <path clip-path=\"url(#p3b0dac86b2)\" d=\"M 106.4945 224.64 \r\nL 106.4945 209.452714 \r\nL 110.6795 209.452714 \r\nL 110.6795 214.946187 \r\n\" style=\"fill:none;stroke:#ff7f0e;stroke-width:1.5;\"/>\r\n    <path clip-path=\"url(#p3b0dac86b2)\" d=\"M 99.5195 214.101715 \r\nL 99.5195 201.625893 \r\nL 108.587 201.625893 \r\nL 108.587 209.452714 \r\n\" style=\"fill:none;stroke:#ff7f0e;stroke-width:1.5;\"/>\r\n    <path clip-path=\"url(#p3b0dac86b2)\" d=\"M 119.8865 224.64 \r\nL 119.8865 213.703904 \r\nL 122.1185 213.703904 \r\nL 122.1185 224.64 \r\n\" style=\"fill:none;stroke:#ff7f0e;stroke-width:1.5;\"/>\r\n    <path clip-path=\"url(#p3b0dac86b2)\" d=\"M 124.3505 224.64 \r\nL 124.3505 219.577571 \r\nL 126.5825 219.577571 \r\nL 126.5825 224.64 \r\n\" style=\"fill:none;stroke:#ff7f0e;stroke-width:1.5;\"/>\r\n    <path clip-path=\"url(#p3b0dac86b2)\" d=\"M 131.0465 224.64 \r\nL 131.0465 214.946187 \r\nL 133.2785 214.946187 \r\nL 133.2785 224.64 \r\n\" style=\"fill:none;stroke:#ff7f0e;stroke-width:1.5;\"/>\r\n    <path clip-path=\"url(#p3b0dac86b2)\" d=\"M 128.8145 224.64 \r\nL 128.8145 212.239633 \r\nL 132.1625 212.239633 \r\nL 132.1625 214.946187 \r\n\" style=\"fill:none;stroke:#ff7f0e;stroke-width:1.5;\"/>\r\n    <path clip-path=\"url(#p3b0dac86b2)\" d=\"M 125.4665 219.577571 \r\nL 125.4665 211.568866 \r\nL 130.4885 211.568866 \r\nL 130.4885 212.239633 \r\n\" style=\"fill:none;stroke:#ff7f0e;stroke-width:1.5;\"/>\r\n    <path clip-path=\"url(#p3b0dac86b2)\" d=\"M 121.0025 213.703904 \r\nL 121.0025 206.861335 \r\nL 127.9775 206.861335 \r\nL 127.9775 211.568866 \r\n\" style=\"fill:none;stroke:#ff7f0e;stroke-width:1.5;\"/>\r\n    <path clip-path=\"url(#p3b0dac86b2)\" d=\"M 117.6545 224.64 \r\nL 117.6545 197.693166 \r\nL 124.49 197.693166 \r\nL 124.49 206.861335 \r\n\" style=\"fill:none;stroke:#ff7f0e;stroke-width:1.5;\"/>\r\n    <path clip-path=\"url(#p3b0dac86b2)\" d=\"M 104.05325 201.625893 \r\nL 104.05325 190.304939 \r\nL 121.07225 190.304939 \r\nL 121.07225 197.693166 \r\n\" style=\"fill:none;stroke:#ff7f0e;stroke-width:1.5;\"/>\r\n    <path clip-path=\"url(#p3b0dac86b2)\" d=\"M 137.7425 224.64 \r\nL 137.7425 216.907013 \r\nL 139.9745 216.907013 \r\nL 139.9745 224.64 \r\n\" style=\"fill:none;stroke:#ff7f0e;stroke-width:1.5;\"/>\r\n    <path clip-path=\"url(#p3b0dac86b2)\" d=\"M 135.5105 224.64 \r\nL 135.5105 203.972722 \r\nL 138.8585 203.972722 \r\nL 138.8585 216.907013 \r\n\" style=\"fill:none;stroke:#ff7f0e;stroke-width:1.5;\"/>\r\n    <path clip-path=\"url(#p3b0dac86b2)\" d=\"M 142.2065 224.64 \r\nL 142.2065 220.506544 \r\nL 144.4385 220.506544 \r\nL 144.4385 224.64 \r\n\" style=\"fill:none;stroke:#ff7f0e;stroke-width:1.5;\"/>\r\n    <path clip-path=\"url(#p3b0dac86b2)\" d=\"M 148.9025 224.64 \r\nL 148.9025 217.480645 \r\nL 151.1345 217.480645 \r\nL 151.1345 224.64 \r\n\" style=\"fill:none;stroke:#ff7f0e;stroke-width:1.5;\"/>\r\n    <path clip-path=\"url(#p3b0dac86b2)\" d=\"M 146.6705 224.64 \r\nL 146.6705 213.703904 \r\nL 150.0185 213.703904 \r\nL 150.0185 217.480645 \r\n\" style=\"fill:none;stroke:#ff7f0e;stroke-width:1.5;\"/>\r\n    <path clip-path=\"url(#p3b0dac86b2)\" d=\"M 143.3225 220.506544 \r\nL 143.3225 209.736614 \r\nL 148.3445 209.736614 \r\nL 148.3445 213.703904 \r\n\" style=\"fill:none;stroke:#ff7f0e;stroke-width:1.5;\"/>\r\n    <path clip-path=\"url(#p3b0dac86b2)\" d=\"M 157.8305 224.64 \r\nL 157.8305 216.907013 \r\nL 160.0625 216.907013 \r\nL 160.0625 224.64 \r\n\" style=\"fill:none;stroke:#ff7f0e;stroke-width:1.5;\"/>\r\n    <path clip-path=\"url(#p3b0dac86b2)\" d=\"M 155.5985 224.64 \r\nL 155.5985 214.946187 \r\nL 158.9465 214.946187 \r\nL 158.9465 216.907013 \r\n\" style=\"fill:none;stroke:#ff7f0e;stroke-width:1.5;\"/>\r\n    <path clip-path=\"url(#p3b0dac86b2)\" d=\"M 153.3665 224.64 \r\nL 153.3665 208.366569 \r\nL 157.2725 208.366569 \r\nL 157.2725 214.946187 \r\n\" style=\"fill:none;stroke:#ff7f0e;stroke-width:1.5;\"/>\r\n    <path clip-path=\"url(#p3b0dac86b2)\" d=\"M 145.8335 209.736614 \r\nL 145.8335 204.816643 \r\nL 155.3195 204.816643 \r\nL 155.3195 208.366569 \r\n\" style=\"fill:none;stroke:#ff7f0e;stroke-width:1.5;\"/>\r\n    <path clip-path=\"url(#p3b0dac86b2)\" d=\"M 164.5265 224.64 \r\nL 164.5265 216.907013 \r\nL 166.7585 216.907013 \r\nL 166.7585 224.64 \r\n\" style=\"fill:none;stroke:#ff7f0e;stroke-width:1.5;\"/>\r\n    <path clip-path=\"url(#p3b0dac86b2)\" d=\"M 162.2945 224.64 \r\nL 162.2945 211.246073 \r\nL 165.6425 211.246073 \r\nL 165.6425 216.907013 \r\n\" style=\"fill:none;stroke:#ff7f0e;stroke-width:1.5;\"/>\r\n    <path clip-path=\"url(#p3b0dac86b2)\" d=\"M 168.9905 224.64 \r\nL 168.9905 218.794411 \r\nL 171.2225 218.794411 \r\nL 171.2225 224.64 \r\n\" style=\"fill:none;stroke:#ff7f0e;stroke-width:1.5;\"/>\r\n    <path clip-path=\"url(#p3b0dac86b2)\" d=\"M 177.9185 224.64 \r\nL 177.9185 220.506544 \r\nL 180.1505 220.506544 \r\nL 180.1505 224.64 \r\n\" style=\"fill:none;stroke:#ff7f0e;stroke-width:1.5;\"/>\r\n    <path clip-path=\"url(#p3b0dac86b2)\" d=\"M 175.6865 224.64 \r\nL 175.6865 217.480645 \r\nL 179.0345 217.480645 \r\nL 179.0345 220.506544 \r\n\" style=\"fill:none;stroke:#ff7f0e;stroke-width:1.5;\"/>\r\n    <path clip-path=\"url(#p3b0dac86b2)\" d=\"M 173.4545 224.64 \r\nL 173.4545 213.320066 \r\nL 177.3605 213.320066 \r\nL 177.3605 217.480645 \r\n\" style=\"fill:none;stroke:#ff7f0e;stroke-width:1.5;\"/>\r\n    <path clip-path=\"url(#p3b0dac86b2)\" d=\"M 170.1065 218.794411 \r\nL 170.1065 209.452714 \r\nL 175.4075 209.452714 \r\nL 175.4075 213.320066 \r\n\" style=\"fill:none;stroke:#ff7f0e;stroke-width:1.5;\"/>\r\n    <path clip-path=\"url(#p3b0dac86b2)\" d=\"M 163.9685 211.246073 \r\nL 163.9685 202.573385 \r\nL 172.757 202.573385 \r\nL 172.757 209.452714 \r\n\" style=\"fill:none;stroke:#ff7f0e;stroke-width:1.5;\"/>\r\n    <path clip-path=\"url(#p3b0dac86b2)\" d=\"M 150.5765 204.816643 \r\nL 150.5765 193.433094 \r\nL 168.36275 193.433094 \r\nL 168.36275 202.573385 \r\n\" style=\"fill:none;stroke:#ff7f0e;stroke-width:1.5;\"/>\r\n    <path clip-path=\"url(#p3b0dac86b2)\" d=\"M 137.1845 203.972722 \r\nL 137.1845 182.284684 \r\nL 159.469625 182.284684 \r\nL 159.469625 193.433094 \r\n\" style=\"fill:none;stroke:#ff7f0e;stroke-width:1.5;\"/>\r\n    <path clip-path=\"url(#p3b0dac86b2)\" d=\"M 112.56275 190.304939 \r\nL 112.56275 176.082891 \r\nL 148.327063 176.082891 \r\nL 148.327063 182.284684 \r\n\" style=\"fill:none;stroke:#ff7f0e;stroke-width:1.5;\"/>\r\n    <path clip-path=\"url(#p3b0dac86b2)\" d=\"M 67.78325 189.203 \r\nL 67.78325 159.284328 \r\nL 130.444906 159.284328 \r\nL 130.444906 176.082891 \r\n\" style=\"fill:none;stroke:#ff7f0e;stroke-width:1.5;\"/>\r\n    <path clip-path=\"url(#p3b0dac86b2)\" d=\"M 32.0015 182.183957 \r\nL 32.0015 130.79144 \r\nL 99.114078 130.79144 \r\nL 99.114078 159.284328 \r\n\" style=\"fill:none;stroke:#ff7f0e;stroke-width:1.5;\"/>\r\n   </g>\r\n   <g id=\"LineCollection_2\">\r\n    <path clip-path=\"url(#p3b0dac86b2)\" d=\"M 186.8465 224.64 \r\nL 186.8465 220.506544 \r\nL 189.0785 220.506544 \r\nL 189.0785 224.64 \r\n\" style=\"fill:none;stroke:#2ca02c;stroke-width:1.5;\"/>\r\n    <path clip-path=\"url(#p3b0dac86b2)\" d=\"M 184.6145 224.64 \r\nL 184.6145 213.320066 \r\nL 187.9625 213.320066 \r\nL 187.9625 220.506544 \r\n\" style=\"fill:none;stroke:#2ca02c;stroke-width:1.5;\"/>\r\n    <path clip-path=\"url(#p3b0dac86b2)\" d=\"M 182.3825 224.64 \r\nL 182.3825 203.563429 \r\nL 186.2885 203.563429 \r\nL 186.2885 213.320066 \r\n\" style=\"fill:none;stroke:#2ca02c;stroke-width:1.5;\"/>\r\n    <path clip-path=\"url(#p3b0dac86b2)\" d=\"M 193.5425 224.64 \r\nL 193.5425 218.794411 \r\nL 195.7745 218.794411 \r\nL 195.7745 224.64 \r\n\" style=\"fill:none;stroke:#2ca02c;stroke-width:1.5;\"/>\r\n    <path clip-path=\"url(#p3b0dac86b2)\" d=\"M 198.0065 224.64 \r\nL 198.0065 215.397312 \r\nL 200.2385 215.397312 \r\nL 200.2385 224.64 \r\n\" style=\"fill:none;stroke:#2ca02c;stroke-width:1.5;\"/>\r\n    <path clip-path=\"url(#p3b0dac86b2)\" d=\"M 194.6585 218.794411 \r\nL 194.6585 209.452714 \r\nL 199.1225 209.452714 \r\nL 199.1225 215.397312 \r\n\" style=\"fill:none;stroke:#2ca02c;stroke-width:1.5;\"/>\r\n    <path clip-path=\"url(#p3b0dac86b2)\" d=\"M 202.4705 224.64 \r\nL 202.4705 212.948822 \r\nL 204.7025 212.948822 \r\nL 204.7025 224.64 \r\n\" style=\"fill:none;stroke:#2ca02c;stroke-width:1.5;\"/>\r\n    <path clip-path=\"url(#p3b0dac86b2)\" d=\"M 209.1665 224.64 \r\nL 209.1665 220.506544 \r\nL 211.3985 220.506544 \r\nL 211.3985 224.64 \r\n\" style=\"fill:none;stroke:#2ca02c;stroke-width:1.5;\"/>\r\n    <path clip-path=\"url(#p3b0dac86b2)\" d=\"M 206.9345 224.64 \r\nL 206.9345 216.373089 \r\nL 210.2825 216.373089 \r\nL 210.2825 220.506544 \r\n\" style=\"fill:none;stroke:#2ca02c;stroke-width:1.5;\"/>\r\n    <path clip-path=\"url(#p3b0dac86b2)\" d=\"M 213.6305 224.64 \r\nL 213.6305 219.577571 \r\nL 215.8625 219.577571 \r\nL 215.8625 224.64 \r\n\" style=\"fill:none;stroke:#2ca02c;stroke-width:1.5;\"/>\r\n    <path clip-path=\"url(#p3b0dac86b2)\" d=\"M 220.3265 224.64 \r\nL 220.3265 220.506544 \r\nL 222.5585 220.506544 \r\nL 222.5585 224.64 \r\n\" style=\"fill:none;stroke:#2ca02c;stroke-width:1.5;\"/>\r\n    <path clip-path=\"url(#p3b0dac86b2)\" d=\"M 218.0945 224.64 \r\nL 218.0945 219.577571 \r\nL 221.4425 219.577571 \r\nL 221.4425 220.506544 \r\n\" style=\"fill:none;stroke:#2ca02c;stroke-width:1.5;\"/>\r\n    <path clip-path=\"url(#p3b0dac86b2)\" d=\"M 214.7465 219.577571 \r\nL 214.7465 214.946187 \r\nL 219.7685 214.946187 \r\nL 219.7685 219.577571 \r\n\" style=\"fill:none;stroke:#2ca02c;stroke-width:1.5;\"/>\r\n    <path clip-path=\"url(#p3b0dac86b2)\" d=\"M 208.6085 216.373089 \r\nL 208.6085 210.930879 \r\nL 217.2575 210.930879 \r\nL 217.2575 214.946187 \r\n\" style=\"fill:none;stroke:#2ca02c;stroke-width:1.5;\"/>\r\n    <path clip-path=\"url(#p3b0dac86b2)\" d=\"M 203.5865 212.948822 \r\nL 203.5865 207.103233 \r\nL 212.933 207.103233 \r\nL 212.933 210.930879 \r\n\" style=\"fill:none;stroke:#2ca02c;stroke-width:1.5;\"/>\r\n    <path clip-path=\"url(#p3b0dac86b2)\" d=\"M 196.8905 209.452714 \r\nL 196.8905 198.17297 \r\nL 208.25975 198.17297 \r\nL 208.25975 207.103233 \r\n\" style=\"fill:none;stroke:#2ca02c;stroke-width:1.5;\"/>\r\n    <path clip-path=\"url(#p3b0dac86b2)\" d=\"M 227.0225 224.64 \r\nL 227.0225 211.568866 \r\nL 229.2545 211.568866 \r\nL 229.2545 224.64 \r\n\" style=\"fill:none;stroke:#2ca02c;stroke-width:1.5;\"/>\r\n    <path clip-path=\"url(#p3b0dac86b2)\" d=\"M 233.7185 224.64 \r\nL 233.7185 218.794411 \r\nL 235.9505 218.794411 \r\nL 235.9505 224.64 \r\n\" style=\"fill:none;stroke:#2ca02c;stroke-width:1.5;\"/>\r\n    <path clip-path=\"url(#p3b0dac86b2)\" d=\"M 240.4145 224.64 \r\nL 240.4145 220.506544 \r\nL 242.6465 220.506544 \r\nL 242.6465 224.64 \r\n\" style=\"fill:none;stroke:#2ca02c;stroke-width:1.5;\"/>\r\n    <path clip-path=\"url(#p3b0dac86b2)\" d=\"M 238.1825 224.64 \r\nL 238.1825 216.907013 \r\nL 241.5305 216.907013 \r\nL 241.5305 220.506544 \r\n\" style=\"fill:none;stroke:#2ca02c;stroke-width:1.5;\"/>\r\n    <path clip-path=\"url(#p3b0dac86b2)\" d=\"M 234.8345 218.794411 \r\nL 234.8345 211.899834 \r\nL 239.8565 211.899834 \r\nL 239.8565 216.907013 \r\n\" style=\"fill:none;stroke:#2ca02c;stroke-width:1.5;\"/>\r\n    <path clip-path=\"url(#p3b0dac86b2)\" d=\"M 231.4865 224.64 \r\nL 231.4865 206.622685 \r\nL 237.3455 206.622685 \r\nL 237.3455 211.899834 \r\n\" style=\"fill:none;stroke:#2ca02c;stroke-width:1.5;\"/>\r\n    <path clip-path=\"url(#p3b0dac86b2)\" d=\"M 228.1385 211.568866 \r\nL 228.1385 202.38066 \r\nL 234.416 202.38066 \r\nL 234.416 206.622685 \r\n\" style=\"fill:none;stroke:#2ca02c;stroke-width:1.5;\"/>\r\n    <path clip-path=\"url(#p3b0dac86b2)\" d=\"M 224.7905 224.64 \r\nL 224.7905 194.547989 \r\nL 231.27725 194.547989 \r\nL 231.27725 202.38066 \r\n\" style=\"fill:none;stroke:#2ca02c;stroke-width:1.5;\"/>\r\n    <path clip-path=\"url(#p3b0dac86b2)\" d=\"M 202.575125 198.17297 \r\nL 202.575125 188.843224 \r\nL 228.033875 188.843224 \r\nL 228.033875 194.547989 \r\n\" style=\"fill:none;stroke:#2ca02c;stroke-width:1.5;\"/>\r\n    <path clip-path=\"url(#p3b0dac86b2)\" d=\"M 191.3105 224.64 \r\nL 191.3105 181.883203 \r\nL 215.3045 181.883203 \r\nL 215.3045 188.843224 \r\n\" style=\"fill:none;stroke:#2ca02c;stroke-width:1.5;\"/>\r\n    <path clip-path=\"url(#p3b0dac86b2)\" d=\"M 184.3355 203.563429 \r\nL 184.3355 174.780861 \r\nL 203.3075 174.780861 \r\nL 203.3075 181.883203 \r\n\" style=\"fill:none;stroke:#2ca02c;stroke-width:1.5;\"/>\r\n    <path clip-path=\"url(#p3b0dac86b2)\" d=\"M 247.1105 224.64 \r\nL 247.1105 220.506544 \r\nL 249.3425 220.506544 \r\nL 249.3425 224.64 \r\n\" style=\"fill:none;stroke:#2ca02c;stroke-width:1.5;\"/>\r\n    <path clip-path=\"url(#p3b0dac86b2)\" d=\"M 253.8065 224.64 \r\nL 253.8065 221.717205 \r\nL 256.0385 221.717205 \r\nL 256.0385 224.64 \r\n\" style=\"fill:none;stroke:#2ca02c;stroke-width:1.5;\"/>\r\n    <path clip-path=\"url(#p3b0dac86b2)\" d=\"M 251.5745 224.64 \r\nL 251.5745 218.794411 \r\nL 254.9225 218.794411 \r\nL 254.9225 221.717205 \r\n\" style=\"fill:none;stroke:#2ca02c;stroke-width:1.5;\"/>\r\n    <path clip-path=\"url(#p3b0dac86b2)\" d=\"M 260.5025 224.64 \r\nL 260.5025 220.506544 \r\nL 262.7345 220.506544 \r\nL 262.7345 224.64 \r\n\" style=\"fill:none;stroke:#2ca02c;stroke-width:1.5;\"/>\r\n    <path clip-path=\"url(#p3b0dac86b2)\" d=\"M 258.2705 224.64 \r\nL 258.2705 218.794411 \r\nL 261.6185 218.794411 \r\nL 261.6185 220.506544 \r\n\" style=\"fill:none;stroke:#2ca02c;stroke-width:1.5;\"/>\r\n    <path clip-path=\"url(#p3b0dac86b2)\" d=\"M 253.2485 218.794411 \r\nL 253.2485 215.871616 \r\nL 259.9445 215.871616 \r\nL 259.9445 218.794411 \r\n\" style=\"fill:none;stroke:#2ca02c;stroke-width:1.5;\"/>\r\n    <path clip-path=\"url(#p3b0dac86b2)\" d=\"M 248.2265 220.506544 \r\nL 248.2265 214.101715 \r\nL 256.5965 214.101715 \r\nL 256.5965 215.871616 \r\n\" style=\"fill:none;stroke:#2ca02c;stroke-width:1.5;\"/>\r\n    <path clip-path=\"url(#p3b0dac86b2)\" d=\"M 267.1985 224.64 \r\nL 267.1985 220.506544 \r\nL 269.4305 220.506544 \r\nL 269.4305 224.64 \r\n\" style=\"fill:none;stroke:#2ca02c;stroke-width:1.5;\"/>\r\n    <path clip-path=\"url(#p3b0dac86b2)\" d=\"M 271.6625 224.64 \r\nL 271.6625 220.506544 \r\nL 273.8945 220.506544 \r\nL 273.8945 224.64 \r\n\" style=\"fill:none;stroke:#2ca02c;stroke-width:1.5;\"/>\r\n    <path clip-path=\"url(#p3b0dac86b2)\" d=\"M 278.3585 224.64 \r\nL 278.3585 221.717205 \r\nL 280.5905 221.717205 \r\nL 280.5905 224.64 \r\n\" style=\"fill:none;stroke:#2ca02c;stroke-width:1.5;\"/>\r\n    <path clip-path=\"url(#p3b0dac86b2)\" d=\"M 276.1265 224.64 \r\nL 276.1265 219.577571 \r\nL 279.4745 219.577571 \r\nL 279.4745 221.717205 \r\n\" style=\"fill:none;stroke:#2ca02c;stroke-width:1.5;\"/>\r\n    <path clip-path=\"url(#p3b0dac86b2)\" d=\"M 285.0545 224.64 \r\nL 285.0545 221.717205 \r\nL 287.2865 221.717205 \r\nL 287.2865 224.64 \r\n\" style=\"fill:none;stroke:#2ca02c;stroke-width:1.5;\"/>\r\n    <path clip-path=\"url(#p3b0dac86b2)\" d=\"M 282.8225 224.64 \r\nL 282.8225 219.577571 \r\nL 286.1705 219.577571 \r\nL 286.1705 221.717205 \r\n\" style=\"fill:none;stroke:#2ca02c;stroke-width:1.5;\"/>\r\n    <path clip-path=\"url(#p3b0dac86b2)\" d=\"M 277.8005 219.577571 \r\nL 277.8005 216.907013 \r\nL 284.4965 216.907013 \r\nL 284.4965 219.577571 \r\n\" style=\"fill:none;stroke:#2ca02c;stroke-width:1.5;\"/>\r\n    <path clip-path=\"url(#p3b0dac86b2)\" d=\"M 272.7785 220.506544 \r\nL 272.7785 215.871616 \r\nL 281.1485 215.871616 \r\nL 281.1485 216.907013 \r\n\" style=\"fill:none;stroke:#2ca02c;stroke-width:1.5;\"/>\r\n    <path clip-path=\"url(#p3b0dac86b2)\" d=\"M 268.3145 220.506544 \r\nL 268.3145 213.703904 \r\nL 276.9635 213.703904 \r\nL 276.9635 215.871616 \r\n\" style=\"fill:none;stroke:#2ca02c;stroke-width:1.5;\"/>\r\n    <path clip-path=\"url(#p3b0dac86b2)\" d=\"M 264.9665 224.64 \r\nL 264.9665 210.930879 \r\nL 272.639 210.930879 \r\nL 272.639 213.703904 \r\n\" style=\"fill:none;stroke:#2ca02c;stroke-width:1.5;\"/>\r\n    <path clip-path=\"url(#p3b0dac86b2)\" d=\"M 252.4115 214.101715 \r\nL 252.4115 205.473955 \r\nL 268.80275 205.473955 \r\nL 268.80275 210.930879 \r\n\" style=\"fill:none;stroke:#2ca02c;stroke-width:1.5;\"/>\r\n    <path clip-path=\"url(#p3b0dac86b2)\" d=\"M 298.4465 224.64 \r\nL 298.4465 220.506544 \r\nL 300.6785 220.506544 \r\nL 300.6785 224.64 \r\n\" style=\"fill:none;stroke:#2ca02c;stroke-width:1.5;\"/>\r\n    <path clip-path=\"url(#p3b0dac86b2)\" d=\"M 296.2145 224.64 \r\nL 296.2145 217.480645 \r\nL 299.5625 217.480645 \r\nL 299.5625 220.506544 \r\n\" style=\"fill:none;stroke:#2ca02c;stroke-width:1.5;\"/>\r\n    <path clip-path=\"url(#p3b0dac86b2)\" d=\"M 293.9825 224.64 \r\nL 293.9825 215.871616 \r\nL 297.8885 215.871616 \r\nL 297.8885 217.480645 \r\n\" style=\"fill:none;stroke:#2ca02c;stroke-width:1.5;\"/>\r\n    <path clip-path=\"url(#p3b0dac86b2)\" d=\"M 291.7505 224.64 \r\nL 291.7505 214.946187 \r\nL 295.9355 214.946187 \r\nL 295.9355 215.871616 \r\n\" style=\"fill:none;stroke:#2ca02c;stroke-width:1.5;\"/>\r\n    <path clip-path=\"url(#p3b0dac86b2)\" d=\"M 305.1425 224.64 \r\nL 305.1425 220.506544 \r\nL 307.3745 220.506544 \r\nL 307.3745 224.64 \r\n\" style=\"fill:none;stroke:#2ca02c;stroke-width:1.5;\"/>\r\n    <path clip-path=\"url(#p3b0dac86b2)\" d=\"M 302.9105 224.64 \r\nL 302.9105 214.515143 \r\nL 306.2585 214.515143 \r\nL 306.2585 220.506544 \r\n\" style=\"fill:none;stroke:#2ca02c;stroke-width:1.5;\"/>\r\n    <path clip-path=\"url(#p3b0dac86b2)\" d=\"M 293.843 214.946187 \r\nL 293.843 206.622685 \r\nL 304.5845 206.622685 \r\nL 304.5845 214.515143 \r\n\" style=\"fill:none;stroke:#2ca02c;stroke-width:1.5;\"/>\r\n    <path clip-path=\"url(#p3b0dac86b2)\" d=\"M 289.5185 224.64 \r\nL 289.5185 200.361445 \r\nL 299.21375 200.361445 \r\nL 299.21375 206.622685 \r\n\" style=\"fill:none;stroke:#2ca02c;stroke-width:1.5;\"/>\r\n    <path clip-path=\"url(#p3b0dac86b2)\" d=\"M 260.607125 205.473955 \r\nL 260.607125 192.224641 \r\nL 294.366125 192.224641 \r\nL 294.366125 200.361445 \r\n\" style=\"fill:none;stroke:#2ca02c;stroke-width:1.5;\"/>\r\n    <path clip-path=\"url(#p3b0dac86b2)\" d=\"M 244.8785 224.64 \r\nL 244.8785 183.512636 \r\nL 277.486625 183.512636 \r\nL 277.486625 192.224641 \r\n\" style=\"fill:none;stroke:#2ca02c;stroke-width:1.5;\"/>\r\n    <path clip-path=\"url(#p3b0dac86b2)\" d=\"M 311.8385 224.64 \r\nL 311.8385 214.515143 \r\nL 314.0705 214.515143 \r\nL 314.0705 224.64 \r\n\" style=\"fill:none;stroke:#2ca02c;stroke-width:1.5;\"/>\r\n    <path clip-path=\"url(#p3b0dac86b2)\" d=\"M 309.6065 224.64 \r\nL 309.6065 211.246073 \r\nL 312.9545 211.246073 \r\nL 312.9545 214.515143 \r\n\" style=\"fill:none;stroke:#2ca02c;stroke-width:1.5;\"/>\r\n    <path clip-path=\"url(#p3b0dac86b2)\" d=\"M 316.3025 224.64 \r\nL 316.3025 208.631195 \r\nL 318.5345 208.631195 \r\nL 318.5345 224.64 \r\n\" style=\"fill:none;stroke:#2ca02c;stroke-width:1.5;\"/>\r\n    <path clip-path=\"url(#p3b0dac86b2)\" d=\"M 311.2805 211.246073 \r\nL 311.2805 204.60233 \r\nL 317.4185 204.60233 \r\nL 317.4185 208.631195 \r\n\" style=\"fill:none;stroke:#2ca02c;stroke-width:1.5;\"/>\r\n    <path clip-path=\"url(#p3b0dac86b2)\" d=\"M 320.7665 224.64 \r\nL 320.7665 214.946187 \r\nL 322.9985 214.946187 \r\nL 322.9985 224.64 \r\n\" style=\"fill:none;stroke:#2ca02c;stroke-width:1.5;\"/>\r\n    <path clip-path=\"url(#p3b0dac86b2)\" d=\"M 325.2305 224.64 \r\nL 325.2305 216.373089 \r\nL 327.4625 216.373089 \r\nL 327.4625 224.64 \r\n\" style=\"fill:none;stroke:#2ca02c;stroke-width:1.5;\"/>\r\n    <path clip-path=\"url(#p3b0dac86b2)\" d=\"M 331.9265 224.64 \r\nL 331.9265 221.717205 \r\nL 334.1585 221.717205 \r\nL 334.1585 224.64 \r\n\" style=\"fill:none;stroke:#2ca02c;stroke-width:1.5;\"/>\r\n    <path clip-path=\"url(#p3b0dac86b2)\" d=\"M 329.6945 224.64 \r\nL 329.6945 214.515143 \r\nL 333.0425 214.515143 \r\nL 333.0425 221.717205 \r\n\" style=\"fill:none;stroke:#2ca02c;stroke-width:1.5;\"/>\r\n    <path clip-path=\"url(#p3b0dac86b2)\" d=\"M 326.3465 216.373089 \r\nL 326.3465 212.239633 \r\nL 331.3685 212.239633 \r\nL 331.3685 214.515143 \r\n\" style=\"fill:none;stroke:#2ca02c;stroke-width:1.5;\"/>\r\n    <path clip-path=\"url(#p3b0dac86b2)\" d=\"M 321.8825 214.946187 \r\nL 321.8825 206.861335 \r\nL 328.8575 206.861335 \r\nL 328.8575 212.239633 \r\n\" style=\"fill:none;stroke:#2ca02c;stroke-width:1.5;\"/>\r\n    <path clip-path=\"url(#p3b0dac86b2)\" d=\"M 340.8545 224.64 \r\nL 340.8545 220.506544 \r\nL 343.0865 220.506544 \r\nL 343.0865 224.64 \r\n\" style=\"fill:none;stroke:#2ca02c;stroke-width:1.5;\"/>\r\n    <path clip-path=\"url(#p3b0dac86b2)\" d=\"M 338.6225 224.64 \r\nL 338.6225 217.480645 \r\nL 341.9705 217.480645 \r\nL 341.9705 220.506544 \r\n\" style=\"fill:none;stroke:#2ca02c;stroke-width:1.5;\"/>\r\n    <path clip-path=\"url(#p3b0dac86b2)\" d=\"M 336.3905 224.64 \r\nL 336.3905 212.58901 \r\nL 340.2965 212.58901 \r\nL 340.2965 217.480645 \r\n\" style=\"fill:none;stroke:#2ca02c;stroke-width:1.5;\"/>\r\n    <path clip-path=\"url(#p3b0dac86b2)\" d=\"M 347.5505 224.64 \r\nL 347.5505 218.794411 \r\nL 349.7825 218.794411 \r\nL 349.7825 224.64 \r\n\" style=\"fill:none;stroke:#2ca02c;stroke-width:1.5;\"/>\r\n    <path clip-path=\"url(#p3b0dac86b2)\" d=\"M 345.3185 224.64 \r\nL 345.3185 216.907013 \r\nL 348.6665 216.907013 \r\nL 348.6665 218.794411 \r\n\" style=\"fill:none;stroke:#2ca02c;stroke-width:1.5;\"/>\r\n    <path clip-path=\"url(#p3b0dac86b2)\" d=\"M 352.0145 224.64 \r\nL 352.0145 215.871616 \r\nL 354.2465 215.871616 \r\nL 354.2465 224.64 \r\n\" style=\"fill:none;stroke:#2ca02c;stroke-width:1.5;\"/>\r\n    <path clip-path=\"url(#p3b0dac86b2)\" d=\"M 346.9925 216.907013 \r\nL 346.9925 208.631195 \r\nL 353.1305 208.631195 \r\nL 353.1305 215.871616 \r\n\" style=\"fill:none;stroke:#2ca02c;stroke-width:1.5;\"/>\r\n    <path clip-path=\"url(#p3b0dac86b2)\" d=\"M 338.3435 212.58901 \r\nL 338.3435 205.698127 \r\nL 350.0615 205.698127 \r\nL 350.0615 208.631195 \r\n\" style=\"fill:none;stroke:#2ca02c;stroke-width:1.5;\"/>\r\n    <path clip-path=\"url(#p3b0dac86b2)\" d=\"M 325.37 206.861335 \r\nL 325.37 195.121222 \r\nL 344.2025 195.121222 \r\nL 344.2025 205.698127 \r\n\" style=\"fill:none;stroke:#2ca02c;stroke-width:1.5;\"/>\r\n    <path clip-path=\"url(#p3b0dac86b2)\" d=\"M 314.3495 204.60233 \r\nL 314.3495 183.202236 \r\nL 334.78625 183.202236 \r\nL 334.78625 195.121222 \r\n\" style=\"fill:none;stroke:#2ca02c;stroke-width:1.5;\"/>\r\n    <path clip-path=\"url(#p3b0dac86b2)\" d=\"M 261.182563 183.512636 \r\nL 261.182563 153.645568 \r\nL 324.567875 153.645568 \r\nL 324.567875 183.202236 \r\n\" style=\"fill:none;stroke:#2ca02c;stroke-width:1.5;\"/>\r\n    <path clip-path=\"url(#p3b0dac86b2)\" d=\"M 193.8215 174.780861 \r\nL 193.8215 106.999791 \r\nL 292.875219 106.999791 \r\nL 292.875219 153.645568 \r\n\" style=\"fill:none;stroke:#2ca02c;stroke-width:1.5;\"/>\r\n   </g>\r\n   <g id=\"LineCollection_3\">\r\n    <path clip-path=\"url(#p3b0dac86b2)\" d=\"M 65.557789 130.79144 \r\nL 65.557789 17.554286 \r\nL 243.348359 17.554286 \r\nL 243.348359 106.999791 \r\n\" style=\"fill:none;stroke:#1f77b4;stroke-width:1.5;\"/>\r\n   </g>\r\n   <g id=\"patch_3\">\r\n    <path d=\"M 20.5625 224.64 \r\nL 20.5625 7.2 \r\n\" style=\"fill:none;stroke:#000000;stroke-linecap:square;stroke-linejoin:miter;stroke-width:0.8;\"/>\r\n   </g>\r\n   <g id=\"patch_4\">\r\n    <path d=\"M 355.3625 224.64 \r\nL 355.3625 7.2 \r\n\" style=\"fill:none;stroke:#000000;stroke-linecap:square;stroke-linejoin:miter;stroke-width:0.8;\"/>\r\n   </g>\r\n   <g id=\"patch_5\">\r\n    <path d=\"M 20.5625 224.64 \r\nL 355.3625 224.64 \r\n\" style=\"fill:none;stroke:#000000;stroke-linecap:square;stroke-linejoin:miter;stroke-width:0.8;\"/>\r\n   </g>\r\n   <g id=\"patch_6\">\r\n    <path d=\"M 20.5625 7.2 \r\nL 355.3625 7.2 \r\n\" style=\"fill:none;stroke:#000000;stroke-linecap:square;stroke-linejoin:miter;stroke-width:0.8;\"/>\r\n   </g>\r\n  </g>\r\n </g>\r\n <defs>\r\n  <clipPath id=\"p3b0dac86b2\">\r\n   <rect height=\"217.44\" width=\"334.8\" x=\"20.5625\" y=\"7.2\"/>\r\n  </clipPath>\r\n </defs>\r\n</svg>\r\n",
      "image/png": "[encoded data removed]"
     },
     "metadata": {
      "needs_background": "light"
     }
    }
   ],
   "source": [
    "dn = dendrogram(mergings,leaf_rotation=90,leaf_font_size=6)\n",
    "plt.show()"
   ]
  },
  {
   "cell_type": "code",
   "execution_count": 74,
   "metadata": {
    "deletable": false,
    "editable": false,
    "nbgrader": {
     "cell_type": "code",
     "checksum": "c7cafedfeaabce98514c30d6a2d53331",
     "grade": true,
     "grade_id": "cell-bc0248a8151d10ab",
     "locked": true,
     "points": 3,
     "schema_version": 3,
     "solution": false,
     "task": false
    }
   },
   "outputs": [
    {
     "output_type": "display_data",
     "data": {
      "text/plain": "<Figure size 432x288 with 1 Axes>",
      "image/svg+xml": "<?xml version=\"1.0\" encoding=\"utf-8\" standalone=\"no\"?>\r\n<!DOCTYPE svg PUBLIC \"-//W3C//DTD SVG 1.1//EN\"\r\n  \"http://www.w3.org/Graphics/SVG/1.1/DTD/svg11.dtd\">\r\n<!-- Created with matplotlib (https://matplotlib.org/) -->\r\n<svg height=\"250.45375pt\" version=\"1.1\" viewBox=\"0 0 372.103125 250.45375\" width=\"372.103125pt\" xmlns=\"http://www.w3.org/2000/svg\" xmlns:xlink=\"http://www.w3.org/1999/xlink\">\r\n <metadata>\r\n  <rdf:RDF xmlns:cc=\"http://creativecommons.org/ns#\" xmlns:dc=\"http://purl.org/dc/elements/1.1/\" xmlns:rdf=\"http://www.w3.org/1999/02/22-rdf-syntax-ns#\">\r\n   <cc:Work>\r\n    <dc:type rdf:resource=\"http://purl.org/dc/dcmitype/StillImage\"/>\r\n    <dc:date>2021-04-22T14:15:48.098210</dc:date>\r\n    <dc:format>image/svg+xml</dc:format>\r\n    <dc:creator>\r\n     <cc:Agent>\r\n      <dc:title>Matplotlib v3.3.2, https://matplotlib.org/</dc:title>\r\n     </cc:Agent>\r\n    </dc:creator>\r\n   </cc:Work>\r\n  </rdf:RDF>\r\n </metadata>\r\n <defs>\r\n  <style type=\"text/css\">*{stroke-linecap:butt;stroke-linejoin:round;}</style>\r\n </defs>\r\n <g id=\"figure_1\">\r\n  <g id=\"patch_1\">\r\n   <path d=\"M 0 250.45375 \r\nL 372.103125 250.45375 \r\nL 372.103125 0 \r\nL 0 0 \r\nz\r\n\" style=\"fill:none;\"/>\r\n  </g>\r\n  <g id=\"axes_1\">\r\n   <g id=\"patch_2\">\r\n    <path d=\"M 30.103125 224.64 \r\nL 364.903125 224.64 \r\nL 364.903125 7.2 \r\nL 30.103125 7.2 \r\nz\r\n\" style=\"fill:#ffffff;\"/>\r\n   </g>\r\n   <g id=\"matplotlib.axis_1\">\r\n    <g id=\"xtick_1\">\r\n     <g id=\"text_1\">\r\n      <!-- 0 -->\r\n      <g transform=\"translate(109.985625 240.758125)scale(0.12 -0.12)\">\r\n       <defs>\r\n        <path d=\"M 31.78125 66.40625 \r\nQ 24.171875 66.40625 20.328125 58.90625 \r\nQ 16.5 51.421875 16.5 36.375 \r\nQ 16.5 21.390625 20.328125 13.890625 \r\nQ 24.171875 6.390625 31.78125 6.390625 \r\nQ 39.453125 6.390625 43.28125 13.890625 \r\nQ 47.125 21.390625 47.125 36.375 \r\nQ 47.125 51.421875 43.28125 58.90625 \r\nQ 39.453125 66.40625 31.78125 66.40625 \r\nz\r\nM 31.78125 74.21875 \r\nQ 44.046875 74.21875 50.515625 64.515625 \r\nQ 56.984375 54.828125 56.984375 36.375 \r\nQ 56.984375 17.96875 50.515625 8.265625 \r\nQ 44.046875 -1.421875 31.78125 -1.421875 \r\nQ 19.53125 -1.421875 13.0625 8.265625 \r\nQ 6.59375 17.96875 6.59375 36.375 \r\nQ 6.59375 54.828125 13.0625 64.515625 \r\nQ 19.53125 74.21875 31.78125 74.21875 \r\nz\r\n\" id=\"DejaVuSans-48\"/>\r\n       </defs>\r\n       <use xlink:href=\"#DejaVuSans-48\"/>\r\n      </g>\r\n     </g>\r\n    </g>\r\n    <g id=\"xtick_2\">\r\n     <g id=\"text_2\">\r\n      <!-- 0 -->\r\n      <g transform=\"translate(277.385625 240.758125)scale(0.12 -0.12)\">\r\n       <use xlink:href=\"#DejaVuSans-48\"/>\r\n      </g>\r\n     </g>\r\n    </g>\r\n   </g>\r\n   <g id=\"matplotlib.axis_2\">\r\n    <g id=\"ytick_1\">\r\n     <g id=\"line2d_1\">\r\n      <defs>\r\n       <path d=\"M 0 0 \r\nL -3.5 0 \r\n\" id=\"me710dcef2d\" style=\"stroke:#000000;stroke-width:0.8;\"/>\r\n      </defs>\r\n      <g>\r\n       <use style=\"stroke:#000000;stroke-width:0.8;\" x=\"30.103125\" xlink:href=\"#me710dcef2d\" y=\"224.64\"/>\r\n      </g>\r\n     </g>\r\n     <g id=\"text_3\">\r\n      <!-- 0.0 -->\r\n      <g transform=\"translate(7.2 228.439219)scale(0.1 -0.1)\">\r\n       <defs>\r\n        <path d=\"M 10.6875 12.40625 \r\nL 21 12.40625 \r\nL 21 0 \r\nL 10.6875 0 \r\nz\r\n\" id=\"DejaVuSans-46\"/>\r\n       </defs>\r\n       <use xlink:href=\"#DejaVuSans-48\"/>\r\n       <use x=\"63.623047\" xlink:href=\"#DejaVuSans-46\"/>\r\n       <use x=\"95.410156\" xlink:href=\"#DejaVuSans-48\"/>\r\n      </g>\r\n     </g>\r\n    </g>\r\n    <g id=\"ytick_2\">\r\n     <g id=\"line2d_2\">\r\n      <g>\r\n       <use style=\"stroke:#000000;stroke-width:0.8;\" x=\"30.103125\" xlink:href=\"#me710dcef2d\" y=\"183.099987\"/>\r\n      </g>\r\n     </g>\r\n     <g id=\"text_4\">\r\n      <!-- 0.2 -->\r\n      <g transform=\"translate(7.2 186.899206)scale(0.1 -0.1)\">\r\n       <defs>\r\n        <path d=\"M 19.1875 8.296875 \r\nL 53.609375 8.296875 \r\nL 53.609375 0 \r\nL 7.328125 0 \r\nL 7.328125 8.296875 \r\nQ 12.9375 14.109375 22.625 23.890625 \r\nQ 32.328125 33.6875 34.8125 36.53125 \r\nQ 39.546875 41.84375 41.421875 45.53125 \r\nQ 43.3125 49.21875 43.3125 52.78125 \r\nQ 43.3125 58.59375 39.234375 62.25 \r\nQ 35.15625 65.921875 28.609375 65.921875 \r\nQ 23.96875 65.921875 18.8125 64.3125 \r\nQ 13.671875 62.703125 7.8125 59.421875 \r\nL 7.8125 69.390625 \r\nQ 13.765625 71.78125 18.9375 73 \r\nQ 24.125 74.21875 28.421875 74.21875 \r\nQ 39.75 74.21875 46.484375 68.546875 \r\nQ 53.21875 62.890625 53.21875 53.421875 \r\nQ 53.21875 48.921875 51.53125 44.890625 \r\nQ 49.859375 40.875 45.40625 35.40625 \r\nQ 44.1875 33.984375 37.640625 27.21875 \r\nQ 31.109375 20.453125 19.1875 8.296875 \r\nz\r\n\" id=\"DejaVuSans-50\"/>\r\n       </defs>\r\n       <use xlink:href=\"#DejaVuSans-48\"/>\r\n       <use x=\"63.623047\" xlink:href=\"#DejaVuSans-46\"/>\r\n       <use x=\"95.410156\" xlink:href=\"#DejaVuSans-50\"/>\r\n      </g>\r\n     </g>\r\n    </g>\r\n    <g id=\"ytick_3\">\r\n     <g id=\"line2d_3\">\r\n      <g>\r\n       <use style=\"stroke:#000000;stroke-width:0.8;\" x=\"30.103125\" xlink:href=\"#me710dcef2d\" y=\"141.559974\"/>\r\n      </g>\r\n     </g>\r\n     <g id=\"text_5\">\r\n      <!-- 0.4 -->\r\n      <g transform=\"translate(7.2 145.359192)scale(0.1 -0.1)\">\r\n       <defs>\r\n        <path d=\"M 37.796875 64.3125 \r\nL 12.890625 25.390625 \r\nL 37.796875 25.390625 \r\nz\r\nM 35.203125 72.90625 \r\nL 47.609375 72.90625 \r\nL 47.609375 25.390625 \r\nL 58.015625 25.390625 \r\nL 58.015625 17.1875 \r\nL 47.609375 17.1875 \r\nL 47.609375 0 \r\nL 37.796875 0 \r\nL 37.796875 17.1875 \r\nL 4.890625 17.1875 \r\nL 4.890625 26.703125 \r\nz\r\n\" id=\"DejaVuSans-52\"/>\r\n       </defs>\r\n       <use xlink:href=\"#DejaVuSans-48\"/>\r\n       <use x=\"63.623047\" xlink:href=\"#DejaVuSans-46\"/>\r\n       <use x=\"95.410156\" xlink:href=\"#DejaVuSans-52\"/>\r\n      </g>\r\n     </g>\r\n    </g>\r\n    <g id=\"ytick_4\">\r\n     <g id=\"line2d_4\">\r\n      <g>\r\n       <use style=\"stroke:#000000;stroke-width:0.8;\" x=\"30.103125\" xlink:href=\"#me710dcef2d\" y=\"100.01996\"/>\r\n      </g>\r\n     </g>\r\n     <g id=\"text_6\">\r\n      <!-- 0.6 -->\r\n      <g transform=\"translate(7.2 103.819179)scale(0.1 -0.1)\">\r\n       <defs>\r\n        <path d=\"M 33.015625 40.375 \r\nQ 26.375 40.375 22.484375 35.828125 \r\nQ 18.609375 31.296875 18.609375 23.390625 \r\nQ 18.609375 15.53125 22.484375 10.953125 \r\nQ 26.375 6.390625 33.015625 6.390625 \r\nQ 39.65625 6.390625 43.53125 10.953125 \r\nQ 47.40625 15.53125 47.40625 23.390625 \r\nQ 47.40625 31.296875 43.53125 35.828125 \r\nQ 39.65625 40.375 33.015625 40.375 \r\nz\r\nM 52.59375 71.296875 \r\nL 52.59375 62.3125 \r\nQ 48.875 64.0625 45.09375 64.984375 \r\nQ 41.3125 65.921875 37.59375 65.921875 \r\nQ 27.828125 65.921875 22.671875 59.328125 \r\nQ 17.53125 52.734375 16.796875 39.40625 \r\nQ 19.671875 43.65625 24.015625 45.921875 \r\nQ 28.375 48.1875 33.59375 48.1875 \r\nQ 44.578125 48.1875 50.953125 41.515625 \r\nQ 57.328125 34.859375 57.328125 23.390625 \r\nQ 57.328125 12.15625 50.6875 5.359375 \r\nQ 44.046875 -1.421875 33.015625 -1.421875 \r\nQ 20.359375 -1.421875 13.671875 8.265625 \r\nQ 6.984375 17.96875 6.984375 36.375 \r\nQ 6.984375 53.65625 15.1875 63.9375 \r\nQ 23.390625 74.21875 37.203125 74.21875 \r\nQ 40.921875 74.21875 44.703125 73.484375 \r\nQ 48.484375 72.75 52.59375 71.296875 \r\nz\r\n\" id=\"DejaVuSans-54\"/>\r\n       </defs>\r\n       <use xlink:href=\"#DejaVuSans-48\"/>\r\n       <use x=\"63.623047\" xlink:href=\"#DejaVuSans-46\"/>\r\n       <use x=\"95.410156\" xlink:href=\"#DejaVuSans-54\"/>\r\n      </g>\r\n     </g>\r\n    </g>\r\n    <g id=\"ytick_5\">\r\n     <g id=\"line2d_5\">\r\n      <g>\r\n       <use style=\"stroke:#000000;stroke-width:0.8;\" x=\"30.103125\" xlink:href=\"#me710dcef2d\" y=\"58.479947\"/>\r\n      </g>\r\n     </g>\r\n     <g id=\"text_7\">\r\n      <!-- 0.8 -->\r\n      <g transform=\"translate(7.2 62.279166)scale(0.1 -0.1)\">\r\n       <defs>\r\n        <path d=\"M 31.78125 34.625 \r\nQ 24.75 34.625 20.71875 30.859375 \r\nQ 16.703125 27.09375 16.703125 20.515625 \r\nQ 16.703125 13.921875 20.71875 10.15625 \r\nQ 24.75 6.390625 31.78125 6.390625 \r\nQ 38.8125 6.390625 42.859375 10.171875 \r\nQ 46.921875 13.96875 46.921875 20.515625 \r\nQ 46.921875 27.09375 42.890625 30.859375 \r\nQ 38.875 34.625 31.78125 34.625 \r\nz\r\nM 21.921875 38.8125 \r\nQ 15.578125 40.375 12.03125 44.71875 \r\nQ 8.5 49.078125 8.5 55.328125 \r\nQ 8.5 64.0625 14.71875 69.140625 \r\nQ 20.953125 74.21875 31.78125 74.21875 \r\nQ 42.671875 74.21875 48.875 69.140625 \r\nQ 55.078125 64.0625 55.078125 55.328125 \r\nQ 55.078125 49.078125 51.53125 44.71875 \r\nQ 48 40.375 41.703125 38.8125 \r\nQ 48.828125 37.15625 52.796875 32.3125 \r\nQ 56.78125 27.484375 56.78125 20.515625 \r\nQ 56.78125 9.90625 50.3125 4.234375 \r\nQ 43.84375 -1.421875 31.78125 -1.421875 \r\nQ 19.734375 -1.421875 13.25 4.234375 \r\nQ 6.78125 9.90625 6.78125 20.515625 \r\nQ 6.78125 27.484375 10.78125 32.3125 \r\nQ 14.796875 37.15625 21.921875 38.8125 \r\nz\r\nM 18.3125 54.390625 \r\nQ 18.3125 48.734375 21.84375 45.5625 \r\nQ 25.390625 42.390625 31.78125 42.390625 \r\nQ 38.140625 42.390625 41.71875 45.5625 \r\nQ 45.3125 48.734375 45.3125 54.390625 \r\nQ 45.3125 60.0625 41.71875 63.234375 \r\nQ 38.140625 66.40625 31.78125 66.40625 \r\nQ 25.390625 66.40625 21.84375 63.234375 \r\nQ 18.3125 60.0625 18.3125 54.390625 \r\nz\r\n\" id=\"DejaVuSans-56\"/>\r\n       </defs>\r\n       <use xlink:href=\"#DejaVuSans-48\"/>\r\n       <use x=\"63.623047\" xlink:href=\"#DejaVuSans-46\"/>\r\n       <use x=\"95.410156\" xlink:href=\"#DejaVuSans-56\"/>\r\n      </g>\r\n     </g>\r\n    </g>\r\n    <g id=\"ytick_6\">\r\n     <g id=\"line2d_6\">\r\n      <g>\r\n       <use style=\"stroke:#000000;stroke-width:0.8;\" x=\"30.103125\" xlink:href=\"#me710dcef2d\" y=\"16.939934\"/>\r\n      </g>\r\n     </g>\r\n     <g id=\"text_8\">\r\n      <!-- 1.0 -->\r\n      <g transform=\"translate(7.2 20.739153)scale(0.1 -0.1)\">\r\n       <defs>\r\n        <path d=\"M 12.40625 8.296875 \r\nL 28.515625 8.296875 \r\nL 28.515625 63.921875 \r\nL 10.984375 60.40625 \r\nL 10.984375 69.390625 \r\nL 28.421875 72.90625 \r\nL 38.28125 72.90625 \r\nL 38.28125 8.296875 \r\nL 54.390625 8.296875 \r\nL 54.390625 0 \r\nL 12.40625 0 \r\nz\r\n\" id=\"DejaVuSans-49\"/>\r\n       </defs>\r\n       <use xlink:href=\"#DejaVuSans-49\"/>\r\n       <use x=\"63.623047\" xlink:href=\"#DejaVuSans-46\"/>\r\n       <use x=\"95.410156\" xlink:href=\"#DejaVuSans-48\"/>\r\n      </g>\r\n     </g>\r\n    </g>\r\n   </g>\r\n   <g id=\"LineCollection_1\">\r\n    <path clip-path=\"url(#p0aed8f419d)\" d=\"M 113.803125 224.64 \r\nL 113.803125 66.377219 \r\nL 281.203125 66.377219 \r\nL 281.203125 224.64 \r\n\" style=\"fill:none;stroke:#1f77b4;stroke-width:1.5;\"/>\r\n   </g>\r\n   <g id=\"patch_3\">\r\n    <path d=\"M 30.103125 224.64 \r\nL 30.103125 7.2 \r\n\" style=\"fill:none;stroke:#000000;stroke-linecap:square;stroke-linejoin:miter;stroke-width:0.8;\"/>\r\n   </g>\r\n   <g id=\"patch_4\">\r\n    <path d=\"M 364.903125 224.64 \r\nL 364.903125 7.2 \r\n\" style=\"fill:none;stroke:#000000;stroke-linecap:square;stroke-linejoin:miter;stroke-width:0.8;\"/>\r\n   </g>\r\n   <g id=\"patch_5\">\r\n    <path d=\"M 30.103125 224.64 \r\nL 364.903125 224.64 \r\n\" style=\"fill:none;stroke:#000000;stroke-linecap:square;stroke-linejoin:miter;stroke-width:0.8;\"/>\r\n   </g>\r\n   <g id=\"patch_6\">\r\n    <path d=\"M 30.103125 7.2 \r\nL 364.903125 7.2 \r\n\" style=\"fill:none;stroke:#000000;stroke-linecap:square;stroke-linejoin:miter;stroke-width:0.8;\"/>\r\n   </g>\r\n  </g>\r\n </g>\r\n <defs>\r\n  <clipPath id=\"p0aed8f419d\">\r\n   <rect height=\"217.44\" width=\"334.8\" x=\"30.103125\" y=\"7.2\"/>\r\n  </clipPath>\r\n </defs>\r\n</svg>\r\n",
      "image/png": "[encoded data removed]"
     },
     "metadata": {
      "needs_background": "light"
     }
    }
   ],
   "source": [
    "assert type(dn) == type(dendrogram(np.random.rand(15, 4)))"
   ]
  },
  {
   "cell_type": "markdown",
   "metadata": {
    "deletable": false,
    "editable": false,
    "nbgrader": {
     "cell_type": "markdown",
     "checksum": "0359d6cc58f0adeea5ab36ea1be31ff4",
     "grade": false,
     "grade_id": "cell-6c3fb83905359f79",
     "locked": true,
     "schema_version": 3,
     "solution": false,
     "task": false
    }
   },
   "source": [
    "## K-MEANS\n",
    "\n",
    "for this next part we will use the K-Means algorithm in order to cluster your data"
   ]
  },
  {
   "cell_type": "markdown",
   "metadata": {
    "deletable": false,
    "editable": false,
    "nbgrader": {
     "cell_type": "markdown",
     "checksum": "64681468d287f185510e010c9c8f62e2",
     "grade": false,
     "grade_id": "cell-e554a1446ad626ec",
     "locked": true,
     "schema_version": 3,
     "solution": false,
     "task": false
    }
   },
   "source": [
    "**Step 1:** \n",
    "+ import `KMeans` from `sklearn.cluster`\n",
    "+ loading our new datasets"
   ]
  },
  {
   "cell_type": "code",
   "execution_count": null,
   "metadata": {},
   "outputs": [],
   "source": [
    "from sklearn.cluster import KMeans\n",
    "\n",
    "df = pd.read_csv('./datasets/ch1ex1.csv')\n",
    "points = df.values\n",
    "\n",
    "new_df = pd.read_csv('./datasets/ch1ex2.csv')\n",
    "new_points = new_df.values\n"
   ]
  },
  {
   "cell_type": "markdown",
   "metadata": {
    "deletable": false,
    "editable": false,
    "nbgrader": {
     "cell_type": "markdown",
     "checksum": "15993ab96197f3ecead1d8ff5a8830de",
     "grade": false,
     "grade_id": "cell-09b5216391582184",
     "locked": true,
     "schema_version": 3,
     "solution": false,
     "task": false
    }
   },
   "source": [
    "**Step 2:** Using `KMeans()`, create a `KMeans` instance called `model` to find `3` clusters. To specify the number of clusters, use the `n_clusters` keyword argument\n"
   ]
  },
  {
   "cell_type": "code",
   "execution_count": 78,
   "metadata": {
    "deletable": false,
    "nbgrader": {
     "cell_type": "code",
     "checksum": "788e3cefa230e6aa2df6843ca341a12a",
     "grade": false,
     "grade_id": "cell-d4136dfc2ba753ba",
     "locked": false,
     "schema_version": 3,
     "solution": true,
     "task": false
    }
   },
   "outputs": [],
   "source": [
    "model = KMeans(n_clusters=3)"
   ]
  },
  {
   "cell_type": "code",
   "execution_count": 79,
   "metadata": {
    "deletable": false,
    "editable": false,
    "nbgrader": {
     "cell_type": "code",
     "checksum": "299853ae31c16eaa5ad10a3f466137bc",
     "grade": true,
     "grade_id": "cell-a6a59ad2afd63249",
     "locked": true,
     "points": 1,
     "schema_version": 3,
     "solution": false,
     "task": false
    }
   },
   "outputs": [],
   "source": [
    "assert type(model)== type(KMeans())"
   ]
  },
  {
   "cell_type": "markdown",
   "metadata": {
    "deletable": false,
    "editable": false,
    "nbgrader": {
     "cell_type": "markdown",
     "checksum": "8cbab2680ed21b9c6d8e2eb953f283a4",
     "grade": false,
     "grade_id": "cell-3b83408ca14ce116",
     "locked": true,
     "schema_version": 3,
     "solution": false,
     "task": false
    }
   },
   "source": [
    "**Step 4:** Use the `.fit()` method of `model` to fit the model to the array of points `points`."
   ]
  },
  {
   "cell_type": "code",
   "execution_count": 80,
   "metadata": {
    "deletable": false,
    "nbgrader": {
     "cell_type": "code",
     "checksum": "c534d56e7496f8a3b795591aa651b78f",
     "grade": false,
     "grade_id": "cell-9a699df5bd74992a",
     "locked": false,
     "schema_version": 3,
     "solution": true,
     "task": false
    }
   },
   "outputs": [
    {
     "output_type": "execute_result",
     "data": {
      "text/plain": [
       "KMeans(n_clusters=3)"
      ]
     },
     "metadata": {},
     "execution_count": 80
    }
   ],
   "source": [
    "model.fit(points)"
   ]
  },
  {
   "cell_type": "markdown",
   "metadata": {
    "deletable": false,
    "editable": false,
    "nbgrader": {
     "cell_type": "markdown",
     "checksum": "30b03b4a58715fbfbcc458ffff4a9452",
     "grade": false,
     "grade_id": "cell-5f7dc6671c80bcf3",
     "locked": true,
     "schema_version": 3,
     "solution": false,
     "task": false
    }
   },
   "source": [
    "**Step 5:** Use the `.predict()` method of `model` to predict the cluster labels of `points`, assigning the result to `labels`."
   ]
  },
  {
   "cell_type": "code",
   "execution_count": 118,
   "metadata": {
    "deletable": false,
    "nbgrader": {
     "cell_type": "code",
     "checksum": "a5651a88814e14bcce46dec2a676e9c4",
     "grade": false,
     "grade_id": "cell-fe0636d9d3113913",
     "locked": false,
     "schema_version": 3,
     "solution": true,
     "task": false
    }
   },
   "outputs": [
    {
     "output_type": "stream",
     "name": "stdout",
     "text": [
      "[2 1 0 0 1 1 0 2 1 1 0 2 1 0 1 2 0 0 2 0 1 2 1 2 2 1 2 2 2 1 0 0 0 1 2 1 2\n 2 1 2 2 0 1 1 1 2 2 0 2 0 0 0 2 2 2 1 2 2 1 0 1 2 2 0 0 1 0 1 1 2 0 1 0 2\n 0 1 2 2 2 0 2 1 0 1 1 1 1 2 2 0 1 0 1 2 2 2 0 1 1 0 1 2 1 0 2 0 0 0 1 1 2\n 1 0 1 1 1 2 1 0 0 2 2 2 2 2 1 0 2 1 1 0 0 1 2 1 2 0 1 0 2 0 0 2 0 0 2 0 1\n 2 2 2 0 0 1 0 1 2 2 0 1 0 0 0 1 2 2 1 0 0 2 2 0 2 2 1 2 0 0 0 2 2 0 2 0 0\n 2 1 0 2 2 2 2 1 0 2 1 1 1 2 1 2 2 1 0 0 2 0 2 2 1 1 2 0 1 0 2 0 1 2 1 1 1\n 1 0 0 0 2 2 1 2 0 1 2 2 1 2 0 0 0 0 0 1 2 2 0 0 2 1 0 1 1 2 2 1 1 1 2 0 2\n 1 2 0 0 0 0 0 2 2 1 2 2 1 0 0 1 2 0 0 1 1 2 2 2 1 1 2 0 1 1 0 2 2 2 1 2 2\n 2 1 1 1]\n"
     ]
    }
   ],
   "source": [
    "labels = model.predict(points)\n",
    "print(labels)"
   ]
  },
  {
   "cell_type": "code",
   "execution_count": 119,
   "metadata": {
    "deletable": false,
    "editable": false,
    "nbgrader": {
     "cell_type": "code",
     "checksum": "893f043c599b2d2589ffaee908b945e2",
     "grade": true,
     "grade_id": "cell-3e790b82f9bf37fc",
     "locked": true,
     "points": 2,
     "schema_version": 3,
     "solution": false,
     "task": false
    }
   },
   "outputs": [],
   "source": [
    "assert labels[labels.argmax()] == 2\n",
    "assert labels.shape == (300,)"
   ]
  },
  {
   "cell_type": "code",
   "execution_count": 98,
   "metadata": {},
   "outputs": [
    {
     "output_type": "execute_result",
     "data": {
      "text/plain": [
       "array([[ 0.06544649, -0.76866376],\n",
       "       [-1.52901547, -0.42953079],\n",
       "       [ 1.70993371,  0.69885253],\n",
       "       [ 1.16779145,  1.01262638],\n",
       "       [-1.80110088, -0.31861296],\n",
       "       [-1.63567888, -0.02859535],\n",
       "       [ 1.21990375,  0.74643463],\n",
       "       [-0.26175155, -0.62492939],\n",
       "       [-1.61925804, -0.47983949],\n",
       "       [-1.84329582, -0.16694431],\n",
       "       [ 1.35999602,  0.94995827],\n",
       "       [ 0.42291856, -0.7349534 ],\n",
       "       [-1.68576139,  0.10686728],\n",
       "       [ 0.90629995,  1.09105162],\n",
       "       [-1.56478322, -0.84675394],\n",
       "       [-0.0257849 , -1.18672539],\n",
       "       [ 0.83027324,  1.14504612],\n",
       "       [ 1.22450432,  1.35066759],\n",
       "       [-0.15394596, -0.71704301],\n",
       "       [ 0.86358809,  1.06824613],\n",
       "       [-1.43386366, -0.2381297 ],\n",
       "       [ 0.03844769, -0.74635022],\n",
       "       [-1.58567922,  0.08499354],\n",
       "       [ 0.6359888 , -0.58477698],\n",
       "       [ 0.24417242, -0.53172465],\n",
       "       [-2.19680359,  0.49473677],\n",
       "       [ 1.0323503 , -0.55688   ],\n",
       "       [-0.28858067, -0.39972528],\n",
       "       [ 0.20597008, -0.80171536],\n",
       "       [-1.2107308 , -0.34924109],\n",
       "       [ 1.33423684,  0.7721489 ],\n",
       "       [ 1.19480152,  1.04788556],\n",
       "       [ 0.9917477 ,  0.89202008],\n",
       "       [-1.8356219 , -0.04839732],\n",
       "       [ 0.08415721, -0.71564326],\n",
       "       [-1.48970175, -0.19299604],\n",
       "       [ 0.38782418, -0.82060119],\n",
       "       [-0.01448044, -0.9779841 ],\n",
       "       [-2.0521341 , -0.02129125],\n",
       "       [ 0.10331194, -0.82162781],\n",
       "       [-0.44189315, -0.65710974],\n",
       "       [ 1.10390926,  1.02481182],\n",
       "       [-1.59227759, -0.17374038],\n",
       "       [-1.47344152, -0.02202853],\n",
       "       [-1.35514704,  0.22971067],\n",
       "       [ 0.0412337 , -1.23776622],\n",
       "       [ 0.4761517 , -1.13672124],\n",
       "       [ 1.04335676,  0.82345905],\n",
       "       [-0.07961882, -0.85677394],\n",
       "       [ 0.87065059,  1.08052841],\n",
       "       [ 1.40267313,  1.07525119],\n",
       "       [ 0.80111157,  1.28342825],\n",
       "       [-0.16527516, -1.23583804],\n",
       "       [-0.33779221, -0.59194323],\n",
       "       [ 0.80610749, -0.73752159],\n",
       "       [-1.43590032, -0.56384446],\n",
       "       [ 0.54868895, -0.95143829],\n",
       "       [ 0.46803131, -0.74973907],\n",
       "       [-1.5137129 , -0.83914323],\n",
       "       [ 0.9138436 ,  1.51126532],\n",
       "       [-1.97233903, -0.41155375],\n",
       "       [ 0.5213406 , -0.88654894],\n",
       "       [ 0.62759494, -1.18590477],\n",
       "       [ 0.94163014,  1.35399335],\n",
       "       [ 0.56994768,  1.07036606],\n",
       "       [-1.87663382,  0.14745773],\n",
       "       [ 0.90612186,  0.91084011],\n",
       "       [-1.37481454,  0.28428395],\n",
       "       [-1.80564029, -0.96710574],\n",
       "       [ 0.34307757, -0.79999275],\n",
       "       [ 0.70380566,  1.00025804],\n",
       "       [-1.68489862, -0.30564595],\n",
       "       [ 1.31473221,  0.98614978],\n",
       "       [ 0.26151216, -0.26069251],\n",
       "       [ 0.9193121 ,  0.82371485],\n",
       "       [-1.21795929, -0.20219674],\n",
       "       [-0.17722723, -1.02665245],\n",
       "       [ 0.64824862, -0.66822881],\n",
       "       [ 0.41206786, -0.28783784],\n",
       "       [ 1.01568202,  1.13481667],\n",
       "       [ 0.67900254, -0.91489502],\n",
       "       [-1.05182747, -0.01062376],\n",
       "       [ 0.61306599,  1.78210384],\n",
       "       [-1.50219748, -0.52308922],\n",
       "       [-1.72717293, -0.46173916],\n",
       "       [-1.60995631, -0.1821007 ],\n",
       "       [-1.09111021, -0.0781398 ],\n",
       "       [-0.01046978, -0.80913034],\n",
       "       [ 0.32782303, -0.80734754],\n",
       "       [ 1.22038503,  1.1959793 ],\n",
       "       [-1.33328681, -0.30001937],\n",
       "       [ 0.87959517,  1.11566491],\n",
       "       [-1.14829098, -0.30400762],\n",
       "       [-0.58019755, -1.19996018],\n",
       "       [-0.01161159, -0.78468854],\n",
       "       [ 0.17359724, -0.63398145],\n",
       "       [ 1.32738556,  0.67759969],\n",
       "       [-1.93467327,  0.30572472],\n",
       "       [-1.57761893, -0.27726365],\n",
       "       [ 0.47639   ,  1.21422648],\n",
       "       [-1.65237509, -0.6803981 ],\n",
       "       [-0.12609976, -1.04327457],\n",
       "       [-1.89607082, -0.70085502],\n",
       "       [ 0.57466899,  0.74878369],\n",
       "       [-0.16660312, -0.83110295],\n",
       "       [ 0.8013355 ,  1.22244435],\n",
       "       [ 1.18455426,  1.4346467 ],\n",
       "       [ 1.08864428,  0.64667112],\n",
       "       [-1.61158505,  0.22805725],\n",
       "       [-1.57512205, -0.09612576],\n",
       "       [ 0.0721357 , -0.69640328],\n",
       "       [-1.40054298,  0.16390598],\n",
       "       [ 1.09607713,  1.16804691],\n",
       "       [-2.54346204, -0.23089822],\n",
       "       [-1.34544875,  0.25151126],\n",
       "       [-1.35478629, -0.19103317],\n",
       "       [ 0.18368113, -1.15827725],\n",
       "       [-1.31368677, -0.376357  ],\n",
       "       [ 0.09990129,  1.22500491],\n",
       "       [ 1.17225574,  1.30835143],\n",
       "       [ 0.0865397 , -0.79714371],\n",
       "       [-0.21053923, -1.13421511],\n",
       "       [ 0.26496024, -0.94760742],\n",
       "       [-0.2557591 , -1.06266022],\n",
       "       [-0.26039757, -0.74774225],\n",
       "       [-1.91787359,  0.16434571],\n",
       "       [ 0.93021139,  0.49436331],\n",
       "       [ 0.44770467, -0.72877918],\n",
       "       [-1.63802869, -0.58925528],\n",
       "       [-1.95712763, -0.10125137],\n",
       "       [ 0.9270337 ,  0.88251423],\n",
       "       [ 1.25660093,  0.60828073],\n",
       "       [-1.72818632,  0.08416887],\n",
       "       [ 0.3499788 , -0.30490298],\n",
       "       [-1.51696082, -0.50913109],\n",
       "       [ 0.18763605, -0.55424924],\n",
       "       [ 0.89609809,  0.83551508],\n",
       "       [-1.54968857, -0.17114782],\n",
       "       [ 1.2157457 ,  1.23317728],\n",
       "       [ 0.20307745, -1.03784906],\n",
       "       [ 0.84589086,  1.03615273],\n",
       "       [ 0.53237919,  1.47362884],\n",
       "       [-0.05319044, -1.36150553],\n",
       "       [ 1.38819743,  1.11729915],\n",
       "       [ 1.00696304,  1.0367721 ],\n",
       "       [ 0.56681869, -1.09637176],\n",
       "       [ 0.86888296,  1.05248874],\n",
       "       [-1.16286609, -0.55875245],\n",
       "       [ 0.27717768, -0.83844015],\n",
       "       [ 0.16563267, -0.80306607],\n",
       "       [ 0.38263303, -0.42683241],\n",
       "       [ 1.14519807,  0.89659026],\n",
       "       [ 0.81455857,  0.67533667],\n",
       "       [-1.8603152 , -0.09537561],\n",
       "       [ 0.965641  ,  0.90295579],\n",
       "       [-1.49897451, -0.33254044],\n",
       "       [-0.1335489 , -0.80727582],\n",
       "       [ 0.12541527, -1.13354906],\n",
       "       [ 1.06062436,  1.28816358],\n",
       "       [-1.49154578, -0.2024641 ],\n",
       "       [ 1.16189032,  1.28819877],\n",
       "       [ 0.54282033,  0.75203524],\n",
       "       [ 0.89221065,  0.99211624],\n",
       "       [-1.49932011, -0.32430667],\n",
       "       [ 0.3166647 , -1.34482915],\n",
       "       [ 0.13972469, -1.22097448],\n",
       "       [-1.5499724 , -0.10782584],\n",
       "       [ 1.23846858,  1.37668804],\n",
       "       [ 1.25558954,  0.72026098],\n",
       "       [ 0.25558689, -1.28529763],\n",
       "       [ 0.45168933, -0.55952093],\n",
       "       [ 1.06202057,  1.03404604],\n",
       "       [ 0.67451908, -0.54970299],\n",
       "       [ 0.22759676, -1.02729468],\n",
       "       [-1.45835281, -0.04951074],\n",
       "       [ 0.23273501, -0.70849262],\n",
       "       [ 1.59679589,  1.11395076],\n",
       "       [ 0.80476105,  0.544627  ],\n",
       "       [ 1.15492521,  1.04352191],\n",
       "       [ 0.59632776, -1.19142897],\n",
       "       [ 0.02839068, -0.43829366],\n",
       "       [ 1.13451584,  0.5632633 ],\n",
       "       [ 0.21576204, -1.04445753],\n",
       "       [ 1.41048987,  1.02830719],\n",
       "       [ 1.12289302,  0.58029441],\n",
       "       [ 0.25200688, -0.82588436],\n",
       "       [-1.28566081, -0.07390909],\n",
       "       [ 1.52849815,  1.11822469],\n",
       "       [-0.23907858, -0.70541972],\n",
       "       [-0.25792784, -0.81825035],\n",
       "       [ 0.59367818, -0.45239915],\n",
       "       [ 0.07931909, -0.29233213],\n",
       "       [-1.27256815,  0.11630577],\n",
       "       [ 0.66930129,  1.00731481],\n",
       "       [ 0.34791546, -1.20822877],\n",
       "       [-2.11283993, -0.66897935],\n",
       "       [-1.6293824 , -0.32718222],\n",
       "       [-1.53819139, -0.01501972],\n",
       "       [-0.11988545, -0.6036339 ],\n",
       "       [-1.54418956, -0.30389844],\n",
       "       [ 0.30026614, -0.77723173],\n",
       "       [ 0.00935449, -0.53888192],\n",
       "       [-1.33424393, -0.11560431],\n",
       "       [ 0.47504489,  0.78421384],\n",
       "       [ 0.59313264,  1.232239  ],\n",
       "       [ 0.41370369, -1.35205857],\n",
       "       [ 0.55840948,  0.78831053],\n",
       "       [ 0.49855018, -0.789949  ],\n",
       "       [ 0.35675809, -0.81038693],\n",
       "       [-1.86197825, -0.59071305],\n",
       "       [-1.61977671, -0.16076687],\n",
       "       [ 0.80779295, -0.73311294],\n",
       "       [ 1.62745775,  0.62787163],\n",
       "       [-1.56993593, -0.08467567],\n",
       "       [ 1.02558561,  0.89383302],\n",
       "       [ 0.24293461, -0.6088253 ],\n",
       "       [ 1.23130242,  1.00262186],\n",
       "       [-1.9651013 , -0.15886289],\n",
       "       [ 0.42795032, -0.70384432],\n",
       "       [-1.58306818, -0.19431923],\n",
       "       [-1.57195923,  0.01413469],\n",
       "       [-0.98145373,  0.06132285],\n",
       "       [-1.48637844, -0.5746531 ],\n",
       "       [ 0.98745828,  0.69188053],\n",
       "       [ 1.28619721,  1.28128821],\n",
       "       [ 0.85850596,  0.95541481],\n",
       "       [ 0.19028286, -0.82112942],\n",
       "       [ 0.26561046, -0.04255239],\n",
       "       [-1.61897897,  0.00862372],\n",
       "       [ 0.24070183, -0.52664209],\n",
       "       [ 1.15220993,  0.43916694],\n",
       "       [-1.21967812, -0.2580313 ],\n",
       "       [ 0.33412533, -0.86117761],\n",
       "       [ 0.17131003, -0.75638965],\n",
       "       [-1.19828397, -0.73744665],\n",
       "       [-0.12245932, -0.45648879],\n",
       "       [ 1.51200698,  0.88825741],\n",
       "       [ 1.10338866,  0.92347479],\n",
       "       [ 1.30972095,  0.59066989],\n",
       "       [ 0.19964876,  1.14855889],\n",
       "       [ 0.81460515,  0.84538972],\n",
       "       [-1.6422739 , -0.42296206],\n",
       "       [ 0.01224351, -0.21247816],\n",
       "       [ 0.33709102, -0.74618065],\n",
       "       [ 0.47301054,  0.72712075],\n",
       "       [ 0.34706626,  1.23033757],\n",
       "       [-0.00393279, -0.97209694],\n",
       "       [-1.64303119,  0.05276337],\n",
       "       [ 1.44649625,  1.14217033],\n",
       "       [-1.93030087, -0.40026146],\n",
       "       [-2.37296135, -0.72633645],\n",
       "       [ 0.45860122, -1.06048953],\n",
       "       [ 0.4896361 , -1.18928313],\n",
       "       [-1.02335902, -0.17520578],\n",
       "       [-1.32761107, -0.93963549],\n",
       "       [-1.50987909, -0.09473658],\n",
       "       [ 0.02723057, -0.79870549],\n",
       "       [ 1.0169412 ,  1.26461701],\n",
       "       [ 0.47733527, -0.9898471 ],\n",
       "       [-1.27784224, -0.547416  ],\n",
       "       [ 0.49898802, -0.6237259 ],\n",
       "       [ 1.06004731,  0.86870008],\n",
       "       [ 1.00207501,  1.38293512],\n",
       "       [ 1.31161394,  0.62833956],\n",
       "       [ 1.13428443,  1.18346542],\n",
       "       [ 1.27671346,  0.96632878],\n",
       "       [-0.63342885, -0.97768251],\n",
       "       [ 0.12698779, -0.93142317],\n",
       "       [-1.34510812, -0.23754226],\n",
       "       [-0.53162278, -1.25153594],\n",
       "       [ 0.21959934, -0.90269938],\n",
       "       [-1.78997479, -0.12115748],\n",
       "       [ 1.23197473, -0.07453764],\n",
       "       [ 1.4163536 ,  1.21551752],\n",
       "       [-1.90280976, -0.1638976 ],\n",
       "       [-0.22440081, -0.75454248],\n",
       "       [ 0.59559412,  0.92414553],\n",
       "       [ 1.21930773,  1.08175284],\n",
       "       [-1.99427535, -0.37587799],\n",
       "       [-1.27818474, -0.52454551],\n",
       "       [ 0.62352689, -1.01430108],\n",
       "       [ 0.14024251, -0.428266  ],\n",
       "       [-0.16145713, -1.16359731],\n",
       "       [-1.74795865, -0.06033101],\n",
       "       [-1.16659791,  0.0902393 ],\n",
       "       [ 0.41110408, -0.8084249 ],\n",
       "       [ 1.14757168,  0.77804528],\n",
       "       [-1.65590748, -0.40105446],\n",
       "       [-1.15306865,  0.00858699],\n",
       "       [ 0.60892121,  0.68974833],\n",
       "       [-0.08434138, -0.97615256],\n",
       "       [ 0.19170053, -0.42331438],\n",
       "       [ 0.29663162, -1.13357399],\n",
       "       [-1.36893628, -0.25052124],\n",
       "       [-0.08037807, -0.56784155],\n",
       "       [ 0.35695011, -1.15064408],\n",
       "       [ 0.02482179, -0.63594828],\n",
       "       [-1.49075558, -0.2482507 ],\n",
       "       [-1.408588  ,  0.25635431],\n",
       "       [-1.98274626, -0.54584475]])"
      ]
     },
     "metadata": {},
     "execution_count": 98
    }
   ],
   "source": [
    "points"
   ]
  },
  {
   "cell_type": "code",
   "execution_count": 128,
   "metadata": {
    "deletable": false,
    "nbgrader": {
     "cell_type": "code",
     "checksum": "f52e0cd3e0456fb6e8309a557b0b5e2a",
     "grade": false,
     "grade_id": "cell-917ce87ba793a518",
     "locked": false,
     "schema_version": 3,
     "solution": true,
     "task": false
    }
   },
   "outputs": [
    {
     "output_type": "stream",
     "name": "stdout",
     "text": [
      "(94, 2)\n(95, 2)\n(111, 2)\n"
     ]
    }
   ],
   "source": [
    "# Make a function that returns 3 numpy arrays each one with the points associated for each class\n",
    "#If the label is 0 they go into data_0\n",
    "#If the label is 1 they go into data_1\n",
    "#If the label is 2 they go into data_2\n",
    "def separate_labels(labels, points):\n",
    "    data_0 = []\n",
    "    data_1 = []\n",
    "    data_2 = []\n",
    "\n",
    "\n",
    "    for i in range(labels.shape[0]):\n",
    "\n",
    "        if labels[i] == 0:\n",
    "\n",
    "           data_0.append( points[i] )\n",
    "\n",
    "        if labels[i] == 1:\n",
    "\n",
    "           data_1.append( points[i] )\n",
    "\n",
    "        if labels[i] == 2:\n",
    "\n",
    "           data_2.append( points[i] )\n",
    "\n",
    "    data_0 = np.array(data_0)\n",
    "    data_1 = np.array(data_1)\n",
    "    data_2 = np.array(data_2)\n",
    "\n",
    "    return data_0,data_1,data_2\n",
    "\n",
    "\n",
    "data_0,data_1,data_2 =separate_labels(labels, points)\n",
    "\n",
    "print(data_0.shape)\n",
    "print(data_1.shape)\n",
    "print(data_2.shape)"
   ]
  },
  {
   "cell_type": "code",
   "execution_count": 129,
   "metadata": {
    "deletable": false,
    "editable": false,
    "nbgrader": {
     "cell_type": "code",
     "checksum": "3066f6d418963a9e453d348f0b2cf930",
     "grade": true,
     "grade_id": "cell-9d19700f8e07d490",
     "locked": true,
     "points": 2,
     "schema_version": 3,
     "solution": false,
     "task": false
    }
   },
   "outputs": [],
   "source": [
    "assert abs(data_0.shape[0] - 94) <= 20\n",
    "assert abs(data_1.shape[0] - 95) <= 20\n",
    "assert abs(data_2.shape[0] - 111) <= 20"
   ]
  },
  {
   "cell_type": "code",
   "execution_count": 130,
   "metadata": {},
   "outputs": [
    {
     "output_type": "execute_result",
     "data": {
      "text/plain": [
       "array([[ 1.70993371,  0.69885253],\n",
       "       [ 1.16779145,  1.01262638],\n",
       "       [ 1.21990375,  0.74643463],\n",
       "       [ 1.35999602,  0.94995827],\n",
       "       [ 0.90629995,  1.09105162],\n",
       "       [ 0.83027324,  1.14504612],\n",
       "       [ 1.22450432,  1.35066759],\n",
       "       [ 0.86358809,  1.06824613],\n",
       "       [ 1.33423684,  0.7721489 ],\n",
       "       [ 1.19480152,  1.04788556],\n",
       "       [ 0.9917477 ,  0.89202008],\n",
       "       [ 1.10390926,  1.02481182],\n",
       "       [ 1.04335676,  0.82345905],\n",
       "       [ 0.87065059,  1.08052841],\n",
       "       [ 1.40267313,  1.07525119],\n",
       "       [ 0.80111157,  1.28342825],\n",
       "       [ 0.9138436 ,  1.51126532],\n",
       "       [ 0.94163014,  1.35399335],\n",
       "       [ 0.56994768,  1.07036606],\n",
       "       [ 0.90612186,  0.91084011],\n",
       "       [ 0.70380566,  1.00025804],\n",
       "       [ 1.31473221,  0.98614978],\n",
       "       [ 0.9193121 ,  0.82371485],\n",
       "       [ 1.01568202,  1.13481667],\n",
       "       [ 0.61306599,  1.78210384],\n",
       "       [ 1.22038503,  1.1959793 ],\n",
       "       [ 0.87959517,  1.11566491],\n",
       "       [ 1.32738556,  0.67759969],\n",
       "       [ 0.47639   ,  1.21422648],\n",
       "       [ 0.57466899,  0.74878369],\n",
       "       [ 0.8013355 ,  1.22244435],\n",
       "       [ 1.18455426,  1.4346467 ],\n",
       "       [ 1.08864428,  0.64667112],\n",
       "       [ 1.09607713,  1.16804691],\n",
       "       [ 0.09990129,  1.22500491],\n",
       "       [ 1.17225574,  1.30835143],\n",
       "       [ 0.93021139,  0.49436331],\n",
       "       [ 0.9270337 ,  0.88251423],\n",
       "       [ 1.25660093,  0.60828073],\n",
       "       [ 0.89609809,  0.83551508],\n",
       "       [ 1.2157457 ,  1.23317728],\n",
       "       [ 0.84589086,  1.03615273],\n",
       "       [ 0.53237919,  1.47362884],\n",
       "       [ 1.38819743,  1.11729915],\n",
       "       [ 1.00696304,  1.0367721 ],\n",
       "       [ 0.86888296,  1.05248874],\n",
       "       [ 1.14519807,  0.89659026],\n",
       "       [ 0.81455857,  0.67533667],\n",
       "       [ 0.965641  ,  0.90295579],\n",
       "       [ 1.06062436,  1.28816358],\n",
       "       [ 1.16189032,  1.28819877],\n",
       "       [ 0.54282033,  0.75203524],\n",
       "       [ 0.89221065,  0.99211624],\n",
       "       [ 1.23846858,  1.37668804],\n",
       "       [ 1.25558954,  0.72026098],\n",
       "       [ 1.06202057,  1.03404604],\n",
       "       [ 1.59679589,  1.11395076],\n",
       "       [ 0.80476105,  0.544627  ],\n",
       "       [ 1.15492521,  1.04352191],\n",
       "       [ 1.13451584,  0.5632633 ],\n",
       "       [ 1.41048987,  1.02830719],\n",
       "       [ 1.12289302,  0.58029441],\n",
       "       [ 1.52849815,  1.11822469],\n",
       "       [ 0.66930129,  1.00731481],\n",
       "       [ 0.47504489,  0.78421384],\n",
       "       [ 0.59313264,  1.232239  ],\n",
       "       [ 0.55840948,  0.78831053],\n",
       "       [ 1.62745775,  0.62787163],\n",
       "       [ 1.02558561,  0.89383302],\n",
       "       [ 1.23130242,  1.00262186],\n",
       "       [ 0.98745828,  0.69188053],\n",
       "       [ 1.28619721,  1.28128821],\n",
       "       [ 0.85850596,  0.95541481],\n",
       "       [ 1.15220993,  0.43916694],\n",
       "       [ 1.51200698,  0.88825741],\n",
       "       [ 1.10338866,  0.92347479],\n",
       "       [ 1.30972095,  0.59066989],\n",
       "       [ 0.19964876,  1.14855889],\n",
       "       [ 0.81460515,  0.84538972],\n",
       "       [ 0.47301054,  0.72712075],\n",
       "       [ 0.34706626,  1.23033757],\n",
       "       [ 1.44649625,  1.14217033],\n",
       "       [ 1.0169412 ,  1.26461701],\n",
       "       [ 1.06004731,  0.86870008],\n",
       "       [ 1.00207501,  1.38293512],\n",
       "       [ 1.31161394,  0.62833956],\n",
       "       [ 1.13428443,  1.18346542],\n",
       "       [ 1.27671346,  0.96632878],\n",
       "       [ 1.23197473, -0.07453764],\n",
       "       [ 1.4163536 ,  1.21551752],\n",
       "       [ 0.59559412,  0.92414553],\n",
       "       [ 1.21930773,  1.08175284],\n",
       "       [ 1.14757168,  0.77804528],\n",
       "       [ 0.60892121,  0.68974833]])"
      ]
     },
     "metadata": {},
     "execution_count": 130
    }
   ],
   "source": [
    "data_0"
   ]
  },
  {
   "cell_type": "code",
   "execution_count": 134,
   "metadata": {
    "deletable": false,
    "nbgrader": {
     "cell_type": "code",
     "checksum": "c5f4d0de3ac0acc26863e198506fa8b7",
     "grade": false,
     "grade_id": "cell-6ae9d7e6dfb48eda",
     "locked": false,
     "schema_version": 3,
     "solution": true,
     "task": false
    }
   },
   "outputs": [
    {
     "output_type": "error",
     "ename": "TypeError",
     "evalue": "lmplot() got an unexpected keyword argument 'z'",
     "traceback": [
      "\u001b[1;31m---------------------------------------------------------------------------\u001b[0m",
      "\u001b[1;31mTypeError\u001b[0m                                 Traceback (most recent call last)",
      "\u001b[1;32m<ipython-input-134-73c1ecfd7a97>\u001b[0m in \u001b[0;36m<module>\u001b[1;34m\u001b[0m\n\u001b[0;32m      1\u001b[0m \u001b[1;31m# plotting the data\u001b[0m\u001b[1;33m\u001b[0m\u001b[1;33m\u001b[0m\u001b[1;33m\u001b[0m\u001b[0m\n\u001b[1;32m----> 2\u001b[1;33m facet = sns.lmplot(data=df_iris, x='data_0', y='data_1', z='data_2', hue='labels', \n\u001b[0m\u001b[0;32m      3\u001b[0m                    fit_reg=False, legend=False)\n",
      "\u001b[1;32m~\\anaconda3\\lib\\site-packages\\seaborn\\_decorators.py\u001b[0m in \u001b[0;36minner_f\u001b[1;34m(*args, **kwargs)\u001b[0m\n\u001b[0;32m     44\u001b[0m             )\n\u001b[0;32m     45\u001b[0m         \u001b[0mkwargs\u001b[0m\u001b[1;33m.\u001b[0m\u001b[0mupdate\u001b[0m\u001b[1;33m(\u001b[0m\u001b[1;33m{\u001b[0m\u001b[0mk\u001b[0m\u001b[1;33m:\u001b[0m \u001b[0marg\u001b[0m \u001b[1;32mfor\u001b[0m \u001b[0mk\u001b[0m\u001b[1;33m,\u001b[0m \u001b[0marg\u001b[0m \u001b[1;32min\u001b[0m \u001b[0mzip\u001b[0m\u001b[1;33m(\u001b[0m\u001b[0msig\u001b[0m\u001b[1;33m.\u001b[0m\u001b[0mparameters\u001b[0m\u001b[1;33m,\u001b[0m \u001b[0margs\u001b[0m\u001b[1;33m)\u001b[0m\u001b[1;33m}\u001b[0m\u001b[1;33m)\u001b[0m\u001b[1;33m\u001b[0m\u001b[1;33m\u001b[0m\u001b[0m\n\u001b[1;32m---> 46\u001b[1;33m         \u001b[1;32mreturn\u001b[0m \u001b[0mf\u001b[0m\u001b[1;33m(\u001b[0m\u001b[1;33m**\u001b[0m\u001b[0mkwargs\u001b[0m\u001b[1;33m)\u001b[0m\u001b[1;33m\u001b[0m\u001b[1;33m\u001b[0m\u001b[0m\n\u001b[0m\u001b[0;32m     47\u001b[0m     \u001b[1;32mreturn\u001b[0m \u001b[0minner_f\u001b[0m\u001b[1;33m\u001b[0m\u001b[1;33m\u001b[0m\u001b[0m\n\u001b[0;32m     48\u001b[0m \u001b[1;33m\u001b[0m\u001b[0m\n",
      "\u001b[1;31mTypeError\u001b[0m: lmplot() got an unexpected keyword argument 'z'"
     ]
    }
   ],
   "source": [
    "# plotting the data \n",
    "facet = sns.lmplot(data=df_iris, x='data_0', y='data_1', z='data_2', hue='labels', \n",
    "                   fit_reg=False, legend=False)"
   ]
  },
  {
   "cell_type": "markdown",
   "metadata": {},
   "source": [
    "**Step 7:** Use the `.predict()` method of `model` to predict the cluster labels of `new_points`, assigning the result to `new_labels`.  Notice that KMeans can assign previously unseen points to the clusters it has already found!"
   ]
  },
  {
   "cell_type": "code",
   "execution_count": null,
   "metadata": {
    "deletable": false,
    "nbgrader": {
     "cell_type": "code",
     "checksum": "c95b4da428ab89a5469c7573568e23b7",
     "grade": false,
     "grade_id": "cell-e1c6be8c2b6c48ab",
     "locked": false,
     "schema_version": 3,
     "solution": true,
     "task": false
    }
   },
   "outputs": [],
   "source": [
    "\n",
    "# YOUR CODE HERE\n",
    "raise NotImplementedError()\n"
   ]
  },
  {
   "cell_type": "code",
   "execution_count": null,
   "metadata": {
    "deletable": false,
    "editable": false,
    "nbgrader": {
     "cell_type": "code",
     "checksum": "aa10520a3430ab954c74429812f48ee3",
     "grade": true,
     "grade_id": "cell-33a135652cf843e7",
     "locked": true,
     "points": 2,
     "schema_version": 3,
     "solution": false,
     "task": false
    }
   },
   "outputs": [],
   "source": [
    "assert new_labels[new_labels.argmax()] == 2\n",
    "assert new_labels.shape == (100,)"
   ]
  },
  {
   "cell_type": "code",
   "execution_count": null,
   "metadata": {
    "deletable": false,
    "nbgrader": {
     "cell_type": "code",
     "checksum": "1e8f9bc5a331d2950dc2f9af66927ec1",
     "grade": false,
     "grade_id": "cell-91d525783ae0a408",
     "locked": false,
     "schema_version": 3,
     "solution": true,
     "task": false
    }
   },
   "outputs": [],
   "source": [
    "#separate the data by labels like we did before\n",
    "\n",
    "new_0 = []\n",
    "new_1 = []\n",
    "new_2 = []\n",
    "\n",
    "# YOUR CODE HERE\n",
    "raise NotImplementedError()\n"
   ]
  },
  {
   "cell_type": "code",
   "execution_count": null,
   "metadata": {
    "deletable": false,
    "editable": false,
    "nbgrader": {
     "cell_type": "code",
     "checksum": "208a9cb902182bc69798e0bd2a69641c",
     "grade": true,
     "grade_id": "cell-bbb9a9b41cb01987",
     "locked": true,
     "points": 2,
     "schema_version": 3,
     "solution": false,
     "task": false
    }
   },
   "outputs": [],
   "source": [
    "assert abs(new_0.shape[0] - 34) <= 5\n",
    "assert abs(new_1.shape[0] - 34) <= 5\n",
    "assert abs(new_2.shape[0] - 34) <= 5"
   ]
  },
  {
   "cell_type": "code",
   "execution_count": null,
   "metadata": {
    "deletable": false,
    "nbgrader": {
     "cell_type": "code",
     "checksum": "6a0410e87bf245f30676043a001b9293",
     "grade": false,
     "grade_id": "cell-f0f51c7f91e8b4df",
     "locked": false,
     "schema_version": 3,
     "solution": true,
     "task": false
    }
   },
   "outputs": [],
   "source": [
    "#plot the new labels\n",
    "\n",
    "\n",
    "# YOUR CODE HERE\n",
    "raise NotImplementedError()"
   ]
  },
  {
   "cell_type": "code",
   "execution_count": null,
   "metadata": {
    "deletable": false,
    "nbgrader": {
     "cell_type": "code",
     "checksum": "30dd9068ed42010daa03e359cef86058",
     "grade": false,
     "grade_id": "cell-fb66bc887cd85537",
     "locked": false,
     "schema_version": 3,
     "solution": true,
     "task": false
    }
   },
   "outputs": [],
   "source": [
    "#plot all the points together\n",
    "\n",
    "# YOUR CODE HERE\n",
    "raise NotImplementedError()"
   ]
  }
 ],
 "metadata": {
  "kernelspec": {
   "name": "python385jvsc74a57bd0d90068d4af1695f7f29da3e0d69c645fb50c3d97a4d02163204725620501e360",
   "display_name": "Python 3.8.5 64-bit (conda)"
  },
  "language_info": {
   "codemirror_mode": {
    "name": "ipython",
    "version": 3
   },
   "file_extension": ".py",
   "mimetype": "text/x-python",
   "name": "python",
   "nbconvert_exporter": "python",
   "pygments_lexer": "ipython3",
   "version": "3.8.5"
  }
 },
 "nbformat": 4,
 "nbformat_minor": 2
}