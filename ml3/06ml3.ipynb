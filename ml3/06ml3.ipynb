{
 "cells": [
  {
   "cell_type": "markdown",
   "metadata": {
    "deletable": false,
    "editable": false,
    "nbgrader": {
     "cell_type": "markdown",
     "checksum": "89eed0907f0119c6c6f6ef390cc54c08",
     "grade": false,
     "grade_id": "cell-33d26828be6e1038",
     "locked": true,
     "schema_version": 3,
     "solution": false,
     "task": false
    }
   },
   "source": [
    "# Exercise 10: Hierarchical clustering of the grain data\n",
    "\n",
    "In the video, you learnt that the SciPy `linkage()` function performs hierarchical clustering on an array of samples.  Use the `linkage()` function to obtain a hierarchical clustering of the grain samples, and use `dendrogram()` to visualize the result.  A sample of the grain measurements is provided in the array `samples`, while the variety of each grain sample is given by the list `varieties`.\n"
   ]
  },
  {
   "cell_type": "markdown",
   "metadata": {
    "deletable": false,
    "editable": false,
    "nbgrader": {
     "cell_type": "markdown",
     "checksum": "a6edca00fa71dea4330eb2c2ea98df0c",
     "grade": false,
     "grade_id": "cell-f184e018b98e7d52",
     "locked": true,
     "schema_version": 3,
     "solution": false,
     "task": false
    }
   },
   "source": [
    "**Step 1:** Import:\n",
    "\n",
    " + `linkage` and `dendrogram` from `scipy.cluster.hierarchy`.\n",
    " + `matplotlib.pyplot` as `plt`.\n",
    " + `pandas`\n",
    " + `load_iris` and `train_test_split`"
   ]
  },
  {
   "cell_type": "code",
   "execution_count": 1,
   "metadata": {},
   "outputs": [],
   "source": [
    "import pandas as pd\n",
    "import numpy as np\n",
    "\n",
    "from sklearn.datasets import load_iris\n",
    "from sklearn.model_selection import train_test_split\n",
    "from scipy.cluster.hierarchy import linkage, dendrogram\n",
    "\n",
    "import matplotlib.pyplot as plt\n"
   ]
  },
  {
   "cell_type": "markdown",
   "metadata": {
    "deletable": false,
    "editable": false,
    "nbgrader": {
     "cell_type": "markdown",
     "checksum": "a13bdd9c406d550c5d3a2c33173a71d4",
     "grade": false,
     "grade_id": "cell-5d407d7746dba37b",
     "locked": true,
     "schema_version": 3,
     "solution": false,
     "task": false
    }
   },
   "source": [
    "**Step 2:** Load the dataset _(done for you)_."
   ]
  },
  {
   "cell_type": "code",
   "execution_count": 18,
   "metadata": {
    "exercise": false
   },
   "outputs": [],
   "source": [
    "iris_data = load_iris()"
   ]
  },
  {
   "cell_type": "code",
   "execution_count": 20,
   "metadata": {
    "deletable": false,
    "nbgrader": {
     "cell_type": "code",
     "checksum": "f54a03afd97d0d9a682f62d00c5f8dc2",
     "grade": false,
     "grade_id": "cell-5b5863d4b8ed6db7",
     "locked": false,
     "schema_version": 3,
     "solution": true,
     "task": false
    }
   },
   "outputs": [
    {
     "data": {
      "text/html": [
       "<div>\n",
       "<style scoped>\n",
       "    .dataframe tbody tr th:only-of-type {\n",
       "        vertical-align: middle;\n",
       "    }\n",
       "\n",
       "    .dataframe tbody tr th {\n",
       "        vertical-align: top;\n",
       "    }\n",
       "\n",
       "    .dataframe thead th {\n",
       "        text-align: right;\n",
       "    }\n",
       "</style>\n",
       "<table border=\"1\" class=\"dataframe\">\n",
       "  <thead>\n",
       "    <tr style=\"text-align: right;\">\n",
       "      <th></th>\n",
       "      <th>sepal length</th>\n",
       "      <th>sepal width</th>\n",
       "      <th>petal length</th>\n",
       "      <th>petal width</th>\n",
       "      <th>target</th>\n",
       "      <th>class</th>\n",
       "    </tr>\n",
       "  </thead>\n",
       "  <tbody>\n",
       "    <tr>\n",
       "      <th>68</th>\n",
       "      <td>6.2</td>\n",
       "      <td>2.2</td>\n",
       "      <td>4.5</td>\n",
       "      <td>1.5</td>\n",
       "      <td>1</td>\n",
       "      <td>versicolor</td>\n",
       "    </tr>\n",
       "    <tr>\n",
       "      <th>90</th>\n",
       "      <td>5.5</td>\n",
       "      <td>2.6</td>\n",
       "      <td>4.4</td>\n",
       "      <td>1.2</td>\n",
       "      <td>1</td>\n",
       "      <td>versicolor</td>\n",
       "    </tr>\n",
       "    <tr>\n",
       "      <th>56</th>\n",
       "      <td>6.3</td>\n",
       "      <td>3.3</td>\n",
       "      <td>4.7</td>\n",
       "      <td>1.6</td>\n",
       "      <td>1</td>\n",
       "      <td>versicolor</td>\n",
       "    </tr>\n",
       "    <tr>\n",
       "      <th>131</th>\n",
       "      <td>7.9</td>\n",
       "      <td>3.8</td>\n",
       "      <td>6.4</td>\n",
       "      <td>2.0</td>\n",
       "      <td>2</td>\n",
       "      <td>virginica</td>\n",
       "    </tr>\n",
       "    <tr>\n",
       "      <th>33</th>\n",
       "      <td>5.5</td>\n",
       "      <td>4.2</td>\n",
       "      <td>1.4</td>\n",
       "      <td>0.2</td>\n",
       "      <td>0</td>\n",
       "      <td>setosa</td>\n",
       "    </tr>\n",
       "    <tr>\n",
       "      <th>123</th>\n",
       "      <td>6.3</td>\n",
       "      <td>2.7</td>\n",
       "      <td>4.9</td>\n",
       "      <td>1.8</td>\n",
       "      <td>2</td>\n",
       "      <td>virginica</td>\n",
       "    </tr>\n",
       "    <tr>\n",
       "      <th>64</th>\n",
       "      <td>5.6</td>\n",
       "      <td>2.9</td>\n",
       "      <td>3.6</td>\n",
       "      <td>1.3</td>\n",
       "      <td>1</td>\n",
       "      <td>versicolor</td>\n",
       "    </tr>\n",
       "    <tr>\n",
       "      <th>14</th>\n",
       "      <td>5.8</td>\n",
       "      <td>4.0</td>\n",
       "      <td>1.2</td>\n",
       "      <td>0.2</td>\n",
       "      <td>0</td>\n",
       "      <td>setosa</td>\n",
       "    </tr>\n",
       "    <tr>\n",
       "      <th>96</th>\n",
       "      <td>5.7</td>\n",
       "      <td>2.9</td>\n",
       "      <td>4.2</td>\n",
       "      <td>1.3</td>\n",
       "      <td>1</td>\n",
       "      <td>versicolor</td>\n",
       "    </tr>\n",
       "    <tr>\n",
       "      <th>69</th>\n",
       "      <td>5.6</td>\n",
       "      <td>2.5</td>\n",
       "      <td>3.9</td>\n",
       "      <td>1.1</td>\n",
       "      <td>1</td>\n",
       "      <td>versicolor</td>\n",
       "    </tr>\n",
       "  </tbody>\n",
       "</table>\n",
       "</div>"
      ],
      "text/plain": [
       "     sepal length  sepal width  petal length  petal width  target       class\n",
       "68            6.2          2.2           4.5          1.5       1  versicolor\n",
       "90            5.5          2.6           4.4          1.2       1  versicolor\n",
       "56            6.3          3.3           4.7          1.6       1  versicolor\n",
       "131           7.9          3.8           6.4          2.0       2   virginica\n",
       "33            5.5          4.2           1.4          0.2       0      setosa\n",
       "123           6.3          2.7           4.9          1.8       2   virginica\n",
       "64            5.6          2.9           3.6          1.3       1  versicolor\n",
       "14            5.8          4.0           1.2          0.2       0      setosa\n",
       "96            5.7          2.9           4.2          1.3       1  versicolor\n",
       "69            5.6          2.5           3.9          1.1       1  versicolor"
      ]
     },
     "execution_count": 20,
     "metadata": {},
     "output_type": "execute_result"
    }
   ],
   "source": [
    "#Create pd DF the same way you did the first day\n",
    "#Create the class and target columns and remove de cm from the columns names\n",
    "\n",
    "def create_df():\n",
    "    df = pd.DataFrame(iris_data.data, columns=iris_data.feature_names)\n",
    "    df[\"target\"] = iris_data.target\n",
    "    df[\"class\"] = iris_data.target_names[iris_data.target]\n",
    "    df.columns = [col.replace(\"(cm)\", \"\").strip() for col in df.columns]\n",
    "    return df\n",
    "df_iris = create_df()\n",
    "df_iris.sample(n=10)"
   ]
  },
  {
   "cell_type": "code",
   "execution_count": 21,
   "metadata": {
    "deletable": false,
    "editable": false,
    "nbgrader": {
     "cell_type": "code",
     "checksum": "ae98c53b326da8480b8a565c8014a77c",
     "grade": true,
     "grade_id": "cell-632fd0e11b776633",
     "locked": true,
     "points": 2,
     "schema_version": 3,
     "solution": false,
     "task": false
    }
   },
   "outputs": [],
   "source": [
    "assert df_iris['sepal length'].shape == (150,)\n",
    "assert df_iris['sepal width'].shape == (150,)\n",
    "assert df_iris['petal length'].shape == (150,)\n",
    "assert df_iris['petal width'].shape == (150,)\n",
    "assert df_iris['target'].shape == (150,)\n",
    "assert df_iris['class'].shape == (150,)"
   ]
  },
  {
   "cell_type": "code",
   "execution_count": 25,
   "metadata": {
    "deletable": false,
    "nbgrader": {
     "cell_type": "code",
     "checksum": "18ed50b4c210650755fa99122f5721f4",
     "grade": false,
     "grade_id": "cell-1b1da2fc006dd2f6",
     "locked": false,
     "schema_version": 3,
     "solution": true,
     "task": false
    }
   },
   "outputs": [],
   "source": [
    "\n",
    "#From our data we will only get variable columns as np.array\n",
    "x = 0\n",
    "# YOUR CODE HERE\n",
    "x = df_iris.iloc[:,:4].to_numpy()"
   ]
  },
  {
   "cell_type": "code",
   "execution_count": 26,
   "metadata": {
    "deletable": false,
    "editable": false,
    "nbgrader": {
     "cell_type": "code",
     "checksum": "abfb4df775beb206b668987baad09223",
     "grade": true,
     "grade_id": "cell-81d6796d99e92aa3",
     "locked": true,
     "points": 0,
     "schema_version": 3,
     "solution": false,
     "task": false
    }
   },
   "outputs": [],
   "source": [
    "assert x.shape == (150,4)"
   ]
  },
  {
   "cell_type": "markdown",
   "metadata": {},
   "source": [
    "**Step 3:** Perform hierarchical clustering on `samples` using the `linkage()` function with the `method='complete'` keyword argument. Assign the result to `mergings`."
   ]
  },
  {
   "cell_type": "code",
   "execution_count": 29,
   "metadata": {
    "deletable": false,
    "nbgrader": {
     "cell_type": "code",
     "checksum": "a3c72f8ff20d9c274f3c8d0dfd349181",
     "grade": false,
     "grade_id": "cell-2a4681a4e740a6fe",
     "locked": false,
     "schema_version": 3,
     "solution": true,
     "task": false
    }
   },
   "outputs": [
    {
     "data": {
      "image/png": "[encoded data removed]",
      "text/plain": [
       "<Figure size 1800x720 with 1 Axes>"
      ]
     },
     "metadata": {
      "needs_background": "light"
     },
     "output_type": "display_data"
    }
   ],
   "source": [
    "mergings = 0 \n",
    "# YOUR CODE HERE\n",
    "mergings = linkage(x,'complete')"
   ]
  },
  {
   "cell_type": "code",
   "execution_count": 30,
   "metadata": {
    "deletable": false,
    "editable": false,
    "nbgrader": {
     "cell_type": "code",
     "checksum": "311d7567084e2d3fbc957d155aac6957",
     "grade": true,
     "grade_id": "cell-bd07f2be641ae1c5",
     "locked": true,
     "points": 3,
     "schema_version": 3,
     "solution": false,
     "task": false
    }
   },
   "outputs": [],
   "source": [
    "assert mergings.shape == (149,4)"
   ]
  },
  {
   "cell_type": "markdown",
   "metadata": {
    "deletable": false,
    "editable": false,
    "nbgrader": {
     "cell_type": "markdown",
     "checksum": "0655649d31c47a33c2de51b7316e64df",
     "grade": false,
     "grade_id": "cell-e0502f3d32a027c4",
     "locked": true,
     "schema_version": 3,
     "solution": false,
     "task": false
    }
   },
   "source": [
    "**Step 4:** Plot a dendrogram using the `dendrogram()` function on `mergings`, specifying the keyword arguments `labels=varieties`, `leaf_rotation=90`, and `leaf_font_size=6`.  Remember to call `plt.show()` afterwards, to display your plot."
   ]
  },
  {
   "cell_type": "code",
   "execution_count": 70,
   "metadata": {
    "deletable": false,
    "nbgrader": {
     "cell_type": "code",
     "checksum": "8c1a8101de48297cde138f126c6c2c63",
     "grade": false,
     "grade_id": "cell-8ba6a5e72836aa92",
     "locked": false,
     "schema_version": 3,
     "solution": true,
     "task": false
    }
   },
   "outputs": [
    {
     "data": {
      "image/png": "[encoded data removed]",
      "text/plain": [
       "<Figure size 1800x720 with 1 Axes>"
      ]
     },
     "metadata": {
      "needs_background": "light"
     },
     "output_type": "display_data"
    }
   ],
   "source": [
    "dn = 0\n",
    "\n",
    "# YOUR CODE HERE\n",
    "fig = plt.figure(figsize=(25,10))\n",
    "dn =dendrogram(mergings,leaf_rotation=90,leaf_font_size=6)\n",
    "plt.show()"
   ]
  },
  {
   "cell_type": "code",
   "execution_count": 32,
   "metadata": {
    "deletable": false,
    "editable": false,
    "nbgrader": {
     "cell_type": "code",
     "checksum": "c7cafedfeaabce98514c30d6a2d53331",
     "grade": true,
     "grade_id": "cell-bc0248a8151d10ab",
     "locked": true,
     "points": 3,
     "schema_version": 3,
     "solution": false,
     "task": false
    }
   },
   "outputs": [
    {
     "data": {
      "image/png": "[encoded data removed]",
      "text/plain": [
       "<Figure size 432x288 with 1 Axes>"
      ]
     },
     "metadata": {
      "needs_background": "light"
     },
     "output_type": "display_data"
    }
   ],
   "source": [
    "assert type(dn) == type(dendrogram(np.random.rand(15, 4)))"
   ]
  },
  {
   "cell_type": "markdown",
   "metadata": {
    "deletable": false,
    "editable": false,
    "nbgrader": {
     "cell_type": "markdown",
     "checksum": "0359d6cc58f0adeea5ab36ea1be31ff4",
     "grade": false,
     "grade_id": "cell-6c3fb83905359f79",
     "locked": true,
     "schema_version": 3,
     "solution": false,
     "task": false
    }
   },
   "source": [
    "## K-MEANS\n",
    "\n",
    "for this next part we will use the K-Means algorithm in order to cluster your data"
   ]
  },
  {
   "cell_type": "markdown",
   "metadata": {
    "deletable": false,
    "editable": false,
    "nbgrader": {
     "cell_type": "markdown",
     "checksum": "64681468d287f185510e010c9c8f62e2",
     "grade": false,
     "grade_id": "cell-e554a1446ad626ec",
     "locked": true,
     "schema_version": 3,
     "solution": false,
     "task": false
    }
   },
   "source": [
    "**Step 1:** \n",
    "+ import `KMeans` from `sklearn.cluster`\n",
    "+ loading our new datasets"
   ]
  },
  {
   "cell_type": "code",
   "execution_count": 59,
   "metadata": {},
   "outputs": [],
   "source": [
    "from sklearn.cluster import KMeans\n",
    "\n",
    "df = pd.read_csv('./datasets/ch1ex1.csv')\n",
    "points = df.values\n",
    "\n",
    "new_df = pd.read_csv('./datasets/ch1ex2.csv')\n",
    "new_points = new_df.values"
   ]
  },
  {
   "cell_type": "markdown",
   "metadata": {
    "deletable": false,
    "editable": false,
    "nbgrader": {
     "cell_type": "markdown",
     "checksum": "15993ab96197f3ecead1d8ff5a8830de",
     "grade": false,
     "grade_id": "cell-09b5216391582184",
     "locked": true,
     "schema_version": 3,
     "solution": false,
     "task": false
    }
   },
   "source": [
    "**Step 2:** Using `KMeans()`, create a `KMeans` instance called `model` to find `3` clusters. To specify the number of clusters, use the `n_clusters` keyword argument\n"
   ]
  },
  {
   "cell_type": "code",
   "execution_count": 60,
   "metadata": {
    "deletable": false,
    "nbgrader": {
     "cell_type": "code",
     "checksum": "788e3cefa230e6aa2df6843ca341a12a",
     "grade": false,
     "grade_id": "cell-d4136dfc2ba753ba",
     "locked": false,
     "schema_version": 3,
     "solution": true,
     "task": false
    }
   },
   "outputs": [],
   "source": [
    "model = 0\n",
    "# YOUR CODE HERE\n",
    "model = KMeans(n_clusters=3)"
   ]
  },
  {
   "cell_type": "code",
   "execution_count": 61,
   "metadata": {
    "deletable": false,
    "editable": false,
    "nbgrader": {
     "cell_type": "code",
     "checksum": "299853ae31c16eaa5ad10a3f466137bc",
     "grade": true,
     "grade_id": "cell-a6a59ad2afd63249",
     "locked": true,
     "points": 1,
     "schema_version": 3,
     "solution": false,
     "task": false
    }
   },
   "outputs": [],
   "source": [
    "assert type(model)== type(KMeans())"
   ]
  },
  {
   "cell_type": "markdown",
   "metadata": {
    "deletable": false,
    "editable": false,
    "nbgrader": {
     "cell_type": "markdown",
     "checksum": "8cbab2680ed21b9c6d8e2eb953f283a4",
     "grade": false,
     "grade_id": "cell-3b83408ca14ce116",
     "locked": true,
     "schema_version": 3,
     "solution": false,
     "task": false
    }
   },
   "source": [
    "**Step 4:** Use the `.fit()` method of `model` to fit the model to the array of points `points`."
   ]
  },
  {
   "cell_type": "code",
   "execution_count": 62,
   "metadata": {
    "deletable": false,
    "nbgrader": {
     "cell_type": "code",
     "checksum": "c534d56e7496f8a3b795591aa651b78f",
     "grade": false,
     "grade_id": "cell-9a699df5bd74992a",
     "locked": false,
     "schema_version": 3,
     "solution": true,
     "task": false
    }
   },
   "outputs": [
    {
     "data": {
      "text/plain": [
       "KMeans(n_clusters=3)"
      ]
     },
     "execution_count": 62,
     "metadata": {},
     "output_type": "execute_result"
    }
   ],
   "source": [
    "# YOUR CODE HERE\n",
    "model.fit(points)"
   ]
  },
  {
   "cell_type": "markdown",
   "metadata": {
    "deletable": false,
    "editable": false,
    "nbgrader": {
     "cell_type": "markdown",
     "checksum": "30b03b4a58715fbfbcc458ffff4a9452",
     "grade": false,
     "grade_id": "cell-5f7dc6671c80bcf3",
     "locked": true,
     "schema_version": 3,
     "solution": false,
     "task": false
    }
   },
   "source": [
    "**Step 5:** Use the `.predict()` method of `model` to predict the cluster labels of `points`, assigning the result to `labels`."
   ]
  },
  {
   "cell_type": "code",
   "execution_count": 69,
   "metadata": {
    "deletable": false,
    "nbgrader": {
     "cell_type": "code",
     "checksum": "a5651a88814e14bcce46dec2a676e9c4",
     "grade": false,
     "grade_id": "cell-fe0636d9d3113913",
     "locked": false,
     "schema_version": 3,
     "solution": true,
     "task": false
    }
   },
   "outputs": [
    {
     "name": "stdout",
     "output_type": "stream",
     "text": [
      "[1 2 0 0 2 2 0 1 2 2 0 1 2 0 2 1 0 0 1 0 2 1 2 1 1 2 1 1 1 2 0 0 0 2 1 2 1\n",
      " 1 2 1 1 0 2 2 2 1 1 0 1 0 0 0 1 1 1 2 1 1 2 0 2 1 1 0 0 2 0 2 2 1 0 2 0 1\n",
      " 0 2 1 1 1 0 1 2 0 2 2 2 2 1 1 0 2 0 2 1 1 1 0 2 2 0 2 1 2 0 1 0 0 0 2 2 1\n",
      " 2 0 2 2 2 1 2 0 0 1 1 1 1 1 2 0 1 2 2 0 0 2 1 2 1 0 2 0 1 0 0 1 0 0 1 0 2\n",
      " 1 1 1 0 0 2 0 2 1 1 0 2 0 0 0 2 1 1 2 0 0 1 1 0 1 1 2 1 0 0 0 1 1 0 1 0 0\n",
      " 1 2 0 1 1 1 1 2 0 1 2 2 2 1 2 1 1 2 0 0 1 0 1 1 2 2 1 0 2 0 1 0 2 1 2 2 2\n",
      " 2 0 0 0 1 1 2 1 0 2 1 1 2 1 0 0 0 0 0 2 1 1 0 0 1 2 0 2 2 1 1 2 2 2 1 0 1\n",
      " 2 1 0 0 0 0 0 1 1 2 1 1 2 0 0 2 1 0 0 2 2 1 1 1 2 2 1 0 2 2 0 1 1 1 2 1 1\n",
      " 1 2 2 2]\n"
     ]
    }
   ],
   "source": [
    "# YOUR CODE HERE\n",
    "labels = model.predict(points)\n",
    "print(labels)\n"
   ]
  },
  {
   "cell_type": "code",
   "execution_count": 65,
   "metadata": {
    "deletable": false,
    "editable": false,
    "nbgrader": {
     "cell_type": "code",
     "checksum": "893f043c599b2d2589ffaee908b945e2",
     "grade": true,
     "grade_id": "cell-3e790b82f9bf37fc",
     "locked": true,
     "points": 2,
     "schema_version": 3,
     "solution": false,
     "task": false
    }
   },
   "outputs": [],
   "source": [
    "assert labels[labels.argmax()] == 2\n",
    "assert labels.shape == (300,)"
   ]
  },
  {
   "cell_type": "code",
   "execution_count": 84,
   "metadata": {
    "deletable": false,
    "nbgrader": {
     "cell_type": "code",
     "checksum": "f52e0cd3e0456fb6e8309a557b0b5e2a",
     "grade": false,
     "grade_id": "cell-917ce87ba793a518",
     "locked": false,
     "schema_version": 3,
     "solution": true,
     "task": false
    }
   },
   "outputs": [
    {
     "name": "stdout",
     "output_type": "stream",
     "text": [
      "(94, 2)\n",
      "(111, 2)\n",
      "(95, 2)\n"
     ]
    }
   ],
   "source": [
    "# Make a function that returns 3 numpy arrays each one with the points associated for each class\n",
    "#If the label is 0 they go into data_0\n",
    "#If the label is 1 they go into data_1\n",
    "#If the label is 2 they go into data_2\n",
    "def separate_labels(labels, points):\n",
    "    data_0 = []\n",
    "    data_1 = []\n",
    "    data_2 = []\n",
    "    for i in range(labels.shape[0]):\n",
    "        if labels[i] == 0:\n",
    "            data_0.append(points[i]) \n",
    "        elif labels[i] == 1:\n",
    "            data_1.append(points[i]) \n",
    "        else:\n",
    "            data_2.append(points[i]) \n",
    "    # YOUR CODE HERE\n",
    "    return np.array(data_0),np.array(data_1),np.array(data_2)\n",
    "\n",
    "\n",
    "data_0,data_1,data_2 =separate_labels(labels, points)\n",
    "\n",
    "print(data_0.shape)\n",
    "print(data_1.shape)\n",
    "print(data_2.shape)"
   ]
  },
  {
   "cell_type": "code",
   "execution_count": 72,
   "metadata": {
    "deletable": false,
    "editable": false,
    "nbgrader": {
     "cell_type": "code",
     "checksum": "3066f6d418963a9e453d348f0b2cf930",
     "grade": true,
     "grade_id": "cell-9d19700f8e07d490",
     "locked": true,
     "points": 2,
     "schema_version": 3,
     "solution": false,
     "task": false
    }
   },
   "outputs": [],
   "source": [
    "assert abs(data_0.shape[0] - 94) <= 20\n",
    "assert abs(data_1.shape[0] - 95) <= 20\n",
    "assert abs(data_2.shape[0] - 111) <= 20"
   ]
  },
  {
   "cell_type": "code",
   "execution_count": 92,
   "metadata": {
    "deletable": false,
    "nbgrader": {
     "cell_type": "code",
     "checksum": "c5f4d0de3ac0acc26863e198506fa8b7",
     "grade": false,
     "grade_id": "cell-6ae9d7e6dfb48eda",
     "locked": false,
     "schema_version": 3,
     "solution": true,
     "task": false
    }
   },
   "outputs": [
    {
     "data": {
      "image/png": "[encoded data removed]",
      "text/plain": [
       "<Figure size 720x576 with 1 Axes>"
      ]
     },
     "metadata": {
      "needs_background": "light"
     },
     "output_type": "display_data"
    }
   ],
   "source": [
    "# plotting the data\n",
    "fig, ax = plt.subplots(figsize=(10,8))\n",
    "plt.scatter(data_0[:,0],data_0[:,1], color ='red')\n",
    "plt.scatter(data_1[:,0],data_1[:,1], color ='blue')\n",
    "plt.scatter(data_2[:,0],data_2[:,1], color ='green')\n",
    "plt.title('points clustered')\n",
    "plt.show()\n",
    "# YOUR CODE HERE"
   ]
  },
  {
   "cell_type": "markdown",
   "metadata": {},
   "source": [
    "**Step 7:** Use the `.predict()` method of `model` to predict the cluster labels of `new_points`, assigning the result to `new_labels`.  Notice that KMeans can assign previously unseen points to the clusters it has already found!"
   ]
  },
  {
   "cell_type": "code",
   "execution_count": 93,
   "metadata": {
    "deletable": false,
    "nbgrader": {
     "cell_type": "code",
     "checksum": "c95b4da428ab89a5469c7573568e23b7",
     "grade": false,
     "grade_id": "cell-e1c6be8c2b6c48ab",
     "locked": false,
     "schema_version": 3,
     "solution": true,
     "task": false
    }
   },
   "outputs": [
    {
     "name": "stdout",
     "output_type": "stream",
     "text": [
      "[0 0 2 2 1 1 0 1 1 2 1 1 2 1 0 0 1 0 0 1 0 0 2 0 2 1 2 0 0 0 2 1 1 2 2 0 2\n",
      " 2 2 2 0 1 2 1 2 2 1 0 2 2 0 0 1 0 1 0 2 0 2 2 2 1 1 1 2 2 1 2 1 2 0 0 0 1\n",
      " 2 1 1 1 0 1 0 1 0 1 0 2 0 1 2 1 0 0 2 2 0 0 0 2 1 2]\n"
     ]
    }
   ],
   "source": [
    "\n",
    "# YOUR CODE HERE\n",
    "new_labels = model.predict(new_points)\n",
    "print(new_labels)"
   ]
  },
  {
   "cell_type": "code",
   "execution_count": 94,
   "metadata": {
    "deletable": false,
    "editable": false,
    "nbgrader": {
     "cell_type": "code",
     "checksum": "aa10520a3430ab954c74429812f48ee3",
     "grade": true,
     "grade_id": "cell-33a135652cf843e7",
     "locked": true,
     "points": 2,
     "schema_version": 3,
     "solution": false,
     "task": false
    }
   },
   "outputs": [],
   "source": [
    "assert new_labels[new_labels.argmax()] == 2\n",
    "assert new_labels.shape == (100,)"
   ]
  },
  {
   "cell_type": "code",
   "execution_count": 95,
   "metadata": {
    "deletable": false,
    "nbgrader": {
     "cell_type": "code",
     "checksum": "1e8f9bc5a331d2950dc2f9af66927ec1",
     "grade": false,
     "grade_id": "cell-91d525783ae0a408",
     "locked": false,
     "schema_version": 3,
     "solution": true,
     "task": false
    }
   },
   "outputs": [],
   "source": [
    "#separate the data by labels like we did before\n",
    "\n",
    "new_0 = []\n",
    "new_1 = []\n",
    "new_2 = []\n",
    "\n",
    "new_0,new_1,new_2 =separate_labels(new_labels, new_points)\n"
   ]
  },
  {
   "cell_type": "code",
   "execution_count": 96,
   "metadata": {
    "deletable": false,
    "editable": false,
    "nbgrader": {
     "cell_type": "code",
     "checksum": "208a9cb902182bc69798e0bd2a69641c",
     "grade": true,
     "grade_id": "cell-bbb9a9b41cb01987",
     "locked": true,
     "points": 2,
     "schema_version": 3,
     "solution": false,
     "task": false
    }
   },
   "outputs": [],
   "source": [
    "assert abs(new_0.shape[0] - 34) <= 5\n",
    "assert abs(new_1.shape[0] - 34) <= 5\n",
    "assert abs(new_2.shape[0] - 34) <= 5"
   ]
  },
  {
   "cell_type": "code",
   "execution_count": 100,
   "metadata": {
    "deletable": false,
    "nbgrader": {
     "cell_type": "code",
     "checksum": "6a0410e87bf245f30676043a001b9293",
     "grade": false,
     "grade_id": "cell-f0f51c7f91e8b4df",
     "locked": false,
     "schema_version": 3,
     "solution": true,
     "task": false
    }
   },
   "outputs": [
    {
     "data": {
      "image/png": "[encoded data removed]",
      "text/plain": [
       "<Figure size 720x576 with 1 Axes>"
      ]
     },
     "metadata": {
      "needs_background": "light"
     },
     "output_type": "display_data"
    }
   ],
   "source": [
    "#plot the new labels\n",
    "\n",
    "\n",
    "# YOUR CODE HERE\n",
    "fig, ax = plt.subplots(figsize=(10,8))\n",
    "plt.scatter(new_0[:,0],new_0[:,1], color ='pink')\n",
    "plt.scatter(new_1[:,0],new_1[:,1], color ='steelblue')\n",
    "plt.scatter(new_2[:,0],new_2[:,1], color ='orange')\n",
    "plt.title('new_points clustered')\n",
    "plt.show()"
   ]
  },
  {
   "cell_type": "code",
   "execution_count": 102,
   "metadata": {
    "deletable": false,
    "nbgrader": {
     "cell_type": "code",
     "checksum": "30dd9068ed42010daa03e359cef86058",
     "grade": false,
     "grade_id": "cell-fb66bc887cd85537",
     "locked": false,
     "schema_version": 3,
     "solution": true,
     "task": false
    }
   },
   "outputs": [
    {
     "data": {
      "image/png": "[encoded data removed]",
      "text/plain": [
       "<Figure size 720x576 with 1 Axes>"
      ]
     },
     "metadata": {
      "needs_background": "light"
     },
     "output_type": "display_data"
    }
   ],
   "source": [
    "#plot all the points together\n",
    "\n",
    "# YOUR CODE HERE\n",
    "fig, ax = plt.subplots(figsize=(10,8))\n",
    "plt.scatter(new_0[:,0],new_0[:,1], color ='pink')\n",
    "plt.scatter(new_1[:,0],new_1[:,1], color ='steelblue')\n",
    "plt.scatter(new_2[:,0],new_2[:,1], color ='orange')\n",
    "plt.scatter(data_0[:,0],data_0[:,1], color ='red')\n",
    "plt.scatter(data_1[:,0],data_1[:,1], color ='blue')\n",
    "plt.scatter(data_2[:,0],data_2[:,1], color ='green')\n",
    "plt.title('clustered')\n",
    "plt.show()"
   ]
  }
 ],
 "metadata": {
  "kernelspec": {
   "display_name": "Python 3",
   "language": "python",
   "name": "python3"
  },
  "language_info": {
   "codemirror_mode": {
    "name": "ipython",
    "version": 3
   },
   "file_extension": ".py",
   "mimetype": "text/x-python",
   "name": "python",
   "nbconvert_exporter": "python",
   "pygments_lexer": "ipython3",
   "version": "3.8.8"
  }
 },
 "nbformat": 4,
 "nbformat_minor": 2
}
