{
  "cells": [
    {
      "cell_type": "markdown",
      "source": "***Support Vector Machines***\n    Using SVM with Python to predict whether a breast cancer tumor is malignant or benign. Exercise uses numpy, pandas, and scikitlearn and utilizes train test split, SVM, SVC,  and GridSearch to identify the best parameters for prediction.",
      "metadata": {
        "cell_id": "00000-eb1fd0e1-119a-40d7-9faa-ebd27c42dac4",
        "deepnote_cell_type": "markdown"
      }
    },
    {
      "cell_type": "code",
      "metadata": {
        "cell_id": "00001-e85a2873-436f-43f3-ad78-45590c034a26",
        "deepnote_to_be_reexecuted": false,
        "source_hash": "5e71a1f2",
        "execution_start": 1619704269633,
        "execution_millis": 1,
        "deepnote_cell_type": "code"
      },
      "source": "import pandas as pd\nimport numpy as np\nimport matplotlib.pyplot as plt\nimport seaborn as sns\n%matplotlib inline\nfrom sklearn.datasets import load_breast_cancer\nfrom sklearn.model_selection import train_test_split\nfrom sklearn import svm\nfrom sklearn.metrics import f1_score\nfrom sklearn.metrics import jaccard_score\nfrom sklearn.model_selection import GridSearchCV\nfrom sklearn.metrics import confusion_matrix",
      "execution_count": 129,
      "outputs": []
    },
    {
      "cell_type": "code",
      "metadata": {
        "tags": [],
        "cell_id": "00002-2424f1cf-6a8a-4222-8cc0-314b8d18db9a",
        "deepnote_to_be_reexecuted": false,
        "source_hash": "356d1b8d",
        "execution_start": 1619700180443,
        "execution_millis": 61,
        "deepnote_cell_type": "code"
      },
      "source": "cancer = load_breast_cancer()\ncancer.data",
      "execution_count": 7,
      "outputs": [
        {
          "output_type": "execute_result",
          "execution_count": 7,
          "data": {
            "text/plain": "array([[1.799e+01, 1.038e+01, 1.228e+02, ..., 2.654e-01, 4.601e-01,\n        1.189e-01],\n       [2.057e+01, 1.777e+01, 1.329e+02, ..., 1.860e-01, 2.750e-01,\n        8.902e-02],\n       [1.969e+01, 2.125e+01, 1.300e+02, ..., 2.430e-01, 3.613e-01,\n        8.758e-02],\n       ...,\n       [1.660e+01, 2.808e+01, 1.083e+02, ..., 1.418e-01, 2.218e-01,\n        7.820e-02],\n       [2.060e+01, 2.933e+01, 1.401e+02, ..., 2.650e-01, 4.087e-01,\n        1.240e-01],\n       [7.760e+00, 2.454e+01, 4.792e+01, ..., 0.000e+00, 2.871e-01,\n        7.039e-02]])"
          },
          "metadata": {}
        }
      ]
    },
    {
      "cell_type": "code",
      "metadata": {
        "deletable": false,
        "editable": false,
        "nbgrader": {
          "cell_type": "code",
          "checksum": "74d141316e1b1469995c19d59690e31f",
          "grade": true,
          "grade_id": "cell-89604aed63202fe9",
          "locked": true,
          "points": 1,
          "schema_version": 3,
          "solution": false,
          "task": false
        },
        "cell_id": "00004-5a0e9684-0271-4739-b5b0-2f768d291c60",
        "deepnote_to_be_reexecuted": false,
        "source_hash": "a376132b",
        "execution_start": 1619700576909,
        "execution_millis": 2,
        "deepnote_cell_type": "code"
      },
      "source": "assert cancer.data.shape == (569,30)",
      "execution_count": 31,
      "outputs": []
    },
    {
      "cell_type": "code",
      "metadata": {
        "cell_id": "00005-a84e03aa-aadf-417a-8955-8fe2cc0362c0",
        "deepnote_to_be_reexecuted": false,
        "source_hash": "b87788a9",
        "execution_start": 1619700577792,
        "execution_millis": 8,
        "deepnote_cell_type": "code"
      },
      "source": "print(cancer['DESCR'])",
      "execution_count": 32,
      "outputs": [
        {
          "name": "stdout",
          "text": ".. _breast_cancer_dataset:\n\nBreast cancer wisconsin (diagnostic) dataset\n--------------------------------------------\n\n**Data Set Characteristics:**\n\n    :Number of Instances: 569\n\n    :Number of Attributes: 30 numeric, predictive attributes and the class\n\n    :Attribute Information:\n        - radius (mean of distances from center to points on the perimeter)\n        - texture (standard deviation of gray-scale values)\n        - perimeter\n        - area\n        - smoothness (local variation in radius lengths)\n        - compactness (perimeter^2 / area - 1.0)\n        - concavity (severity of concave portions of the contour)\n        - concave points (number of concave portions of the contour)\n        - symmetry\n        - fractal dimension (\"coastline approximation\" - 1)\n\n        The mean, standard error, and \"worst\" or largest (mean of the three\n        worst/largest values) of these features were computed for each image,\n        resulting in 30 features.  For instance, field 0 is Mean Radius, field\n        10 is Radius SE, field 20 is Worst Radius.\n\n        - class:\n                - WDBC-Malignant\n                - WDBC-Benign\n\n    :Summary Statistics:\n\n    ===================================== ====== ======\n                                           Min    Max\n    ===================================== ====== ======\n    radius (mean):                        6.981  28.11\n    texture (mean):                       9.71   39.28\n    perimeter (mean):                     43.79  188.5\n    area (mean):                          143.5  2501.0\n    smoothness (mean):                    0.053  0.163\n    compactness (mean):                   0.019  0.345\n    concavity (mean):                     0.0    0.427\n    concave points (mean):                0.0    0.201\n    symmetry (mean):                      0.106  0.304\n    fractal dimension (mean):             0.05   0.097\n    radius (standard error):              0.112  2.873\n    texture (standard error):             0.36   4.885\n    perimeter (standard error):           0.757  21.98\n    area (standard error):                6.802  542.2\n    smoothness (standard error):          0.002  0.031\n    compactness (standard error):         0.002  0.135\n    concavity (standard error):           0.0    0.396\n    concave points (standard error):      0.0    0.053\n    symmetry (standard error):            0.008  0.079\n    fractal dimension (standard error):   0.001  0.03\n    radius (worst):                       7.93   36.04\n    texture (worst):                      12.02  49.54\n    perimeter (worst):                    50.41  251.2\n    area (worst):                         185.2  4254.0\n    smoothness (worst):                   0.071  0.223\n    compactness (worst):                  0.027  1.058\n    concavity (worst):                    0.0    1.252\n    concave points (worst):               0.0    0.291\n    symmetry (worst):                     0.156  0.664\n    fractal dimension (worst):            0.055  0.208\n    ===================================== ====== ======\n\n    :Missing Attribute Values: None\n\n    :Class Distribution: 212 - Malignant, 357 - Benign\n\n    :Creator:  Dr. William H. Wolberg, W. Nick Street, Olvi L. Mangasarian\n\n    :Donor: Nick Street\n\n    :Date: November, 1995\n\nThis is a copy of UCI ML Breast Cancer Wisconsin (Diagnostic) datasets.\nhttps://goo.gl/U2Uwz2\n\nFeatures are computed from a digitized image of a fine needle\naspirate (FNA) of a breast mass.  They describe\ncharacteristics of the cell nuclei present in the image.\n\nSeparating plane described above was obtained using\nMultisurface Method-Tree (MSM-T) [K. P. Bennett, \"Decision Tree\nConstruction Via Linear Programming.\" Proceedings of the 4th\nMidwest Artificial Intelligence and Cognitive Science Society,\npp. 97-101, 1992], a classification method which uses linear\nprogramming to construct a decision tree.  Relevant features\nwere selected using an exhaustive search in the space of 1-4\nfeatures and 1-3 separating planes.\n\nThe actual linear program used to obtain the separating plane\nin the 3-dimensional space is that described in:\n[K. P. Bennett and O. L. Mangasarian: \"Robust Linear\nProgramming Discrimination of Two Linearly Inseparable Sets\",\nOptimization Methods and Software 1, 1992, 23-34].\n\nThis database is also available through the UW CS ftp server:\n\nftp ftp.cs.wisc.edu\ncd math-prog/cpo-dataset/machine-learn/WDBC/\n\n.. topic:: References\n\n   - W.N. Street, W.H. Wolberg and O.L. Mangasarian. Nuclear feature extraction \n     for breast tumor diagnosis. IS&T/SPIE 1993 International Symposium on \n     Electronic Imaging: Science and Technology, volume 1905, pages 861-870,\n     San Jose, CA, 1993.\n   - O.L. Mangasarian, W.N. Street and W.H. Wolberg. Breast cancer diagnosis and \n     prognosis via linear programming. Operations Research, 43(4), pages 570-577, \n     July-August 1995.\n   - W.H. Wolberg, W.N. Street, and O.L. Mangasarian. Machine learning techniques\n     to diagnose breast cancer from fine-needle aspirates. Cancer Letters 77 (1994) \n     163-171.\n",
          "output_type": "stream"
        }
      ]
    },
    {
      "cell_type": "code",
      "metadata": {
        "cell_id": "00006-599bfab0-b125-44c0-b30c-c4c69818b5ab",
        "deepnote_to_be_reexecuted": false,
        "source_hash": "77d5fa3a",
        "execution_start": 1619700580454,
        "execution_millis": 7,
        "deepnote_cell_type": "code"
      },
      "source": "cancer['feature_names']",
      "execution_count": 33,
      "outputs": [
        {
          "output_type": "execute_result",
          "execution_count": 33,
          "data": {
            "text/plain": "array(['mean radius', 'mean texture', 'mean perimeter', 'mean area',\n       'mean smoothness', 'mean compactness', 'mean concavity',\n       'mean concave points', 'mean symmetry', 'mean fractal dimension',\n       'radius error', 'texture error', 'perimeter error', 'area error',\n       'smoothness error', 'compactness error', 'concavity error',\n       'concave points error', 'symmetry error',\n       'fractal dimension error', 'worst radius', 'worst texture',\n       'worst perimeter', 'worst area', 'worst smoothness',\n       'worst compactness', 'worst concavity', 'worst concave points',\n       'worst symmetry', 'worst fractal dimension'], dtype='<U23')"
          },
          "metadata": {}
        }
      ]
    },
    {
      "cell_type": "code",
      "metadata": {
        "deletable": false,
        "nbgrader": {
          "cell_type": "code",
          "checksum": "abd0743c6351cd80c18ffb35bc88f1e8",
          "grade": false,
          "grade_id": "cell-13eab9c14ca47094",
          "locked": false,
          "schema_version": 3,
          "solution": true,
          "task": false
        },
        "cell_id": "00007-3b2030ca-2d8e-4cfe-a020-d3597836cc3a",
        "deepnote_to_be_reexecuted": false,
        "source_hash": "fd01ebeb",
        "execution_start": 1619700581400,
        "execution_millis": 8,
        "deepnote_cell_type": "code"
      },
      "source": "# 1 point\n\n#load the data from the dataset into a pd df\n\n#output a dataframe with the data of the dataset and the column names as feature names\n#IT SHOULD NOT INCLUDE THE TARGET \n\ndf_feat = pd.DataFrame(cancer.data)\ndf_feat.columns=cancer['feature_names']\n",
      "execution_count": 34,
      "outputs": []
    },
    {
      "cell_type": "code",
      "metadata": {
        "deletable": false,
        "editable": false,
        "nbgrader": {
          "cell_type": "code",
          "checksum": "ba8d30c1430fd36e39f8f32fed6e596e",
          "grade": true,
          "grade_id": "cell-1c2998ddc5440385",
          "locked": true,
          "points": 1,
          "schema_version": 3,
          "solution": false,
          "task": false
        },
        "cell_id": "00008-19e2171e-291a-404a-acad-23d90134d47d",
        "deepnote_to_be_reexecuted": false,
        "source_hash": "e41f1dee",
        "execution_start": 1619700582733,
        "execution_millis": 2,
        "deepnote_cell_type": "code"
      },
      "source": "b = True\nfor i in cancer['feature_names']:\n    if df_feat[i].shape != (569,):\n        b = False\n        break\nassert b",
      "execution_count": 35,
      "outputs": []
    },
    {
      "cell_type": "code",
      "metadata": {
        "deletable": false,
        "nbgrader": {
          "cell_type": "code",
          "checksum": "66a83bf219a03e2efad9225cfdb948b4",
          "grade": false,
          "grade_id": "cell-58bf6e127f5d9c62",
          "locked": false,
          "schema_version": 3,
          "solution": true,
          "task": false
        },
        "cell_id": "00009-d08ff12b-8be1-49bd-b6bb-b7bba8f20cf6",
        "deepnote_to_be_reexecuted": false,
        "source_hash": "def84add",
        "execution_start": 1619700583421,
        "execution_millis": 1,
        "deepnote_cell_type": "code"
      },
      "source": "# 1 point\n\n# create a dataframe with all the targets and the column name your be 'Cancer'\n# output a single column dataframe\ndf_target = 0\n# YOUR CODE HERE\ndf_target=pd.DataFrame(cancer.target)\ndf_target.columns=['Cancer']",
      "execution_count": 36,
      "outputs": []
    },
    {
      "cell_type": "code",
      "metadata": {
        "deletable": false,
        "editable": false,
        "nbgrader": {
          "cell_type": "code",
          "checksum": "17c24d99af48f8b9682fd5786429d444",
          "grade": true,
          "grade_id": "cell-c504ee25e1401818",
          "locked": true,
          "points": 1,
          "schema_version": 3,
          "solution": false,
          "task": false
        },
        "cell_id": "00010-e0c66cb3-24a7-4343-95a8-56c186495271",
        "deepnote_to_be_reexecuted": false,
        "source_hash": "1d612519",
        "execution_start": 1619700584064,
        "execution_millis": 2,
        "deepnote_cell_type": "code"
      },
      "source": "assert df_target['Cancer'].shape == (569,)",
      "execution_count": 37,
      "outputs": []
    },
    {
      "cell_type": "code",
      "metadata": {
        "deletable": false,
        "nbgrader": {
          "cell_type": "code",
          "checksum": "0106e33d2151de4f0a30ea7b4c03d7fb",
          "grade": false,
          "grade_id": "cell-cea569421704556d",
          "locked": false,
          "schema_version": 3,
          "solution": true,
          "task": false
        },
        "cell_id": "00011-ee8e9811-cd0e-4194-bc86-e30798a6e2d8",
        "deepnote_to_be_reexecuted": false,
        "source_hash": "8f9c8245",
        "execution_start": 1619700844736,
        "execution_millis": 9,
        "deepnote_cell_type": "code"
      },
      "source": "#1 point\n# get the train test split, tested with random state 0 and test_size 0.2\n# import if needed\n# all the subsets should be numpy arrays\n# TIP carefull with the shape of the Y\n# YOUR CODE HERE\nX=df_feat\ny=df_target.to_numpy()\ny=np.reshape(y,(569,))\n\nx_train,x_test, y_train, y_test=train_test_split(X,y,random_state=0,test_size=0.2)\ny.shape\n",
      "execution_count": 51,
      "outputs": [
        {
          "output_type": "execute_result",
          "execution_count": 51,
          "data": {
            "text/plain": "(569,)"
          },
          "metadata": {}
        }
      ]
    },
    {
      "cell_type": "code",
      "metadata": {
        "deletable": false,
        "editable": false,
        "nbgrader": {
          "cell_type": "code",
          "checksum": "fdfbff27aa3ebfceec29cf2e21d05199",
          "grade": true,
          "grade_id": "cell-8557f6d20b5ebd4a",
          "locked": true,
          "points": 1,
          "schema_version": 3,
          "solution": false,
          "task": false
        },
        "cell_id": "00012-7becd399-457f-4f99-aafb-2864735153d0",
        "deepnote_to_be_reexecuted": false,
        "source_hash": "7307c439",
        "execution_start": 1619700847173,
        "execution_millis": 2,
        "deepnote_cell_type": "code"
      },
      "source": "assert x_train.shape == (455,30)\nassert x_test.shape == (114,30)\nassert y_train.shape == (455,)\nassert y_test.shape == (114,)",
      "execution_count": 52,
      "outputs": []
    },
    {
      "cell_type": "code",
      "metadata": {
        "deletable": false,
        "nbgrader": {
          "cell_type": "code",
          "checksum": "ea62971bcbfa5fa154963b73c182afd1",
          "grade": false,
          "grade_id": "cell-d569929ec688ee8f",
          "locked": false,
          "schema_version": 3,
          "solution": true,
          "task": false
        },
        "cell_id": "00013-177fb388-426d-44d7-b898-b9f1f7ff6149",
        "deepnote_to_be_reexecuted": false,
        "source_hash": "3073c856",
        "execution_start": 1619700905662,
        "execution_millis": 13,
        "deepnote_cell_type": "code"
      },
      "source": "# 2 points\n#Train the support vector classifier\n# import if needed\n\nclf = 0\n\nclf = svm.SVC(kernel='rbf') #here we choose kernelling type\nclf.fit(x_train, y_train)",
      "execution_count": 56,
      "outputs": [
        {
          "output_type": "execute_result",
          "execution_count": 56,
          "data": {
            "text/plain": "SVC()"
          },
          "metadata": {}
        }
      ]
    },
    {
      "cell_type": "code",
      "metadata": {
        "deletable": false,
        "editable": false,
        "nbgrader": {
          "cell_type": "code",
          "checksum": "8f5c6be8a8389b4869599beb3e0979fc",
          "grade": true,
          "grade_id": "cell-741670633ab66a5b",
          "locked": true,
          "points": 2,
          "schema_version": 3,
          "solution": false,
          "task": false
        },
        "cell_id": "00014-653a267e-2fc2-4380-b122-d8d0b85a3d5b",
        "deepnote_to_be_reexecuted": false,
        "source_hash": "e6ec4ca9",
        "execution_start": 1619700906888,
        "execution_millis": 2,
        "deepnote_cell_type": "code"
      },
      "source": "assert clf.support_vectors_.shape == (123,30)",
      "execution_count": 57,
      "outputs": []
    },
    {
      "cell_type": "code",
      "metadata": {
        "deletable": false,
        "nbgrader": {
          "cell_type": "code",
          "checksum": "4c02a56a8941df35ddf6e1b1e4b04cbb",
          "grade": false,
          "grade_id": "cell-ee4e7bf6bb7b13e9",
          "locked": false,
          "schema_version": 3,
          "solution": true,
          "task": false
        },
        "cell_id": "00015-86c6a8e5-61dd-41b9-a835-45f724ca7f2b",
        "deepnote_to_be_reexecuted": false,
        "source_hash": "b85f7a01",
        "execution_start": 1619701059157,
        "execution_millis": 10,
        "deepnote_cell_type": "code"
      },
      "source": "# 3 points\n# predict the testing data and get the accuracy\n# import if needed\n# output preds is the array with the predictions and acc is a float between 0 and 1\npreds = 0\nacc = 0\n# YOUR CODE HERE\n\npreds = clf.predict(x_test)\nacc=f1_score(y_test, preds, average='weighted')\nacc\n",
      "execution_count": 63,
      "outputs": [
        {
          "output_type": "execute_result",
          "execution_count": 63,
          "data": {
            "text/plain": "0.9289359763043974"
          },
          "metadata": {}
        }
      ]
    },
    {
      "cell_type": "code",
      "metadata": {
        "deletable": false,
        "editable": false,
        "nbgrader": {
          "cell_type": "code",
          "checksum": "0d913ef1f9e2c478a729aec9ec9c99d4",
          "grade": true,
          "grade_id": "cell-a8b6a273210f6822",
          "locked": true,
          "points": 2,
          "schema_version": 3,
          "solution": false,
          "task": false
        },
        "cell_id": "00016-bf188b91-36a9-4064-a25a-e247537670e6",
        "deepnote_to_be_reexecuted": false,
        "source_hash": "b1ff3eba",
        "execution_start": 1619701055571,
        "execution_millis": 1,
        "deepnote_cell_type": "code"
      },
      "source": "assert acc > 0.85\nassert preds.shape == (114,)",
      "execution_count": 62,
      "outputs": []
    },
    {
      "cell_type": "markdown",
      "source": "***Everything is being classified into a single class! Use Grid Search to search for the best parameters! (Scikitlearn GridSearchCV)***\n",
      "metadata": {
        "cell_id": "00017-d41ed6ff-7ec3-4d35-9635-68379720738c",
        "deepnote_cell_type": "markdown"
      }
    },
    {
      "cell_type": "code",
      "metadata": {
        "deletable": false,
        "nbgrader": {
          "cell_type": "code",
          "checksum": "7dd11b913a692b6e6624cec433f96ddd",
          "grade": false,
          "grade_id": "cell-43d48d4bf75c556e",
          "locked": false,
          "schema_version": 3,
          "solution": true,
          "task": false
        },
        "cell_id": "00018-5b598798-8c37-4252-9f68-44523b012df0",
        "deepnote_to_be_reexecuted": false,
        "source_hash": "4efad4f2",
        "execution_start": 1619702852373,
        "execution_millis": 1,
        "deepnote_cell_type": "code"
      },
      "source": "# 2 points\n#Set parameters\n# the parameters should be in a dict format\n\n# YOUR CODE HERE\nparams = {}\nparams = {'kernel':('linear', 'rbf'), 'C':[1,2,3,4,5,7,8,9,10]}\n",
      "execution_count": 88,
      "outputs": []
    },
    {
      "cell_type": "code",
      "metadata": {
        "deletable": false,
        "editable": false,
        "nbgrader": {
          "cell_type": "code",
          "checksum": "b48b4a40a1b6ee6a26ddfb8dae8ddbc2",
          "grade": true,
          "grade_id": "cell-28a594d468d2e212",
          "locked": true,
          "points": 2,
          "schema_version": 3,
          "solution": false,
          "task": false
        },
        "cell_id": "00019-01af9067-1923-4a0b-a7db-f9ee4824e71b",
        "deepnote_to_be_reexecuted": false,
        "source_hash": "a30230a6",
        "execution_start": 1619702852687,
        "execution_millis": 1,
        "deepnote_cell_type": "code"
      },
      "source": "assert len(params) == 2\nassert len(params['kernel']) == 2",
      "execution_count": 89,
      "outputs": []
    },
    {
      "cell_type": "code",
      "metadata": {
        "deletable": false,
        "nbgrader": {
          "cell_type": "code",
          "checksum": "b34bcd4223abf7d6e1b5ddf816870fad",
          "grade": false,
          "grade_id": "cell-8ac1a0df91772743",
          "locked": false,
          "schema_version": 3,
          "solution": true,
          "task": false
        },
        "cell_id": "00020-f7a9e4cb-efd5-4c8a-9f82-16650d865c25",
        "deepnote_to_be_reexecuted": false,
        "source_hash": "2227a10",
        "execution_start": 1619702853565,
        "execution_millis": 1,
        "deepnote_cell_type": "code"
      },
      "source": "#Fit grid (Note to self: first it runs the same loop with cross-validation to find the best parameter combination. Once it has the best combination, it runs fit again on all data passed to fit (without cross-validation), to built a single new model using the best parameter setting.)\n# 4 points\n# add an svm to the grid and train it\n# the SVM should be an untrained one\n# import if needed \n\nsvc = 0\ngrid_clf = 0\n# YOUR CODE HERE\n\nsvc = svm.SVC()\ngrid_clf = GridSearchCV(svc, params)",
      "execution_count": 90,
      "outputs": []
    },
    {
      "cell_type": "code",
      "metadata": {
        "deletable": false,
        "editable": false,
        "nbgrader": {
          "cell_type": "code",
          "checksum": "c355b61da5807573939dde9898177432",
          "grade": true,
          "grade_id": "cell-085b7fafdce47092",
          "locked": true,
          "points": 4,
          "schema_version": 3,
          "solution": false,
          "task": false
        },
        "cell_id": "00021-d69f1c34-3338-4383-bda4-ab73f9ace4fd",
        "deepnote_to_be_reexecuted": false,
        "source_hash": "a98f5331",
        "execution_start": 1619702854827,
        "execution_millis": 0,
        "deepnote_cell_type": "code"
      },
      "source": "dic = grid_clf.get_params(deep=False)\nassert type(dic['estimator']) == type(svm.SVC()) \nassert dic['pre_dispatch'] == '2*n_jobs'",
      "execution_count": 91,
      "outputs": []
    },
    {
      "cell_type": "code",
      "metadata": {
        "deletable": false,
        "nbgrader": {
          "cell_type": "code",
          "checksum": "6a0e3bb3286e365f506de53466056669",
          "grade": false,
          "grade_id": "cell-7901a09d1a9092ac",
          "locked": false,
          "schema_version": 3,
          "solution": true,
          "task": false
        },
        "cell_id": "00022-403f37d3-34e2-4ad5-9e15-599ca817e2c1",
        "deepnote_to_be_reexecuted": false,
        "source_hash": "2c32201d",
        "execution_start": 1619703085265,
        "execution_millis": 112847,
        "deepnote_cell_type": "code"
      },
      "source": "# 2 point\n#Get in a list the best parameters of the grid\n#output python list with the best parameters sorted\nbest_params = []\n# YOUR CODE HERE\ngrid_clf.fit(x_train, y_train)\nbest_params =sorted(grid_clf.cv_results_)\n",
      "execution_count": 95,
      "outputs": []
    },
    {
      "cell_type": "code",
      "metadata": {
        "deletable": false,
        "editable": false,
        "nbgrader": {
          "cell_type": "code",
          "checksum": "6b15f373798ee92b146a793df76afc20",
          "grade": true,
          "grade_id": "cell-99bb42084e0ae89b",
          "locked": true,
          "points": 2,
          "schema_version": 3,
          "solution": false,
          "task": false
        },
        "cell_id": "00023-53cc3f22-1ae6-467e-8ef9-dcd1f0d99ca4",
        "deepnote_to_be_reexecuted": false,
        "source_hash": "1907d1e0",
        "execution_start": 1619703198156,
        "execution_millis": 0,
        "deepnote_cell_type": "code"
      },
      "source": "assert best_params[0] == 'mean_fit_time'\nassert best_params[1] == 'mean_score_time'\nassert best_params[2] == 'mean_test_score'\nassert best_params[3] == 'param_C'",
      "execution_count": 96,
      "outputs": []
    },
    {
      "cell_type": "code",
      "metadata": {
        "tags": [],
        "cell_id": "00023-dee65eac-acd8-4303-b1aa-7df732133117",
        "deepnote_to_be_reexecuted": false,
        "source_hash": "7e1a98c",
        "execution_start": 1619703247033,
        "execution_millis": 13,
        "deepnote_cell_type": "code"
      },
      "source": "grid_clf.best_params_",
      "execution_count": 101,
      "outputs": [
        {
          "output_type": "execute_result",
          "execution_count": 101,
          "data": {
            "text/plain": "{'C': 1, 'kernel': 'linear'}"
          },
          "metadata": {}
        }
      ]
    },
    {
      "cell_type": "code",
      "metadata": {
        "deletable": false,
        "nbgrader": {
          "cell_type": "code",
          "checksum": "f5f35e8e0e3b90b78340b70c06f0e22c",
          "grade": false,
          "grade_id": "cell-4eb30db85584892f",
          "locked": false,
          "schema_version": 3,
          "solution": true,
          "task": false
        },
        "cell_id": "00024-5dea8087-c1b2-4bb5-971b-0e34aa7ffff4",
        "deepnote_to_be_reexecuted": false,
        "source_hash": "c24f5261",
        "execution_start": 1619704032246,
        "execution_millis": 955,
        "deepnote_cell_type": "code"
      },
      "source": "# 5 points\n# predict the testing set and get the accuracy\n# accuracy as always will be between 0 and 1\npreds = 0\nacc = 0\n# YOUR CODE HERE\nclf_new = svm.SVC(kernel='linear',C=1)\nclf_new.fit(x_train,y_train)\npreds = clf_new.predict(x_test)\nacc=f1_score(y_test, preds, average='weighted')\nacc",
      "execution_count": 128,
      "outputs": [
        {
          "output_type": "execute_result",
          "execution_count": 128,
          "data": {
            "text/plain": "0.9563163831511572"
          },
          "metadata": {}
        }
      ]
    },
    {
      "cell_type": "code",
      "metadata": {
        "deletable": false,
        "editable": false,
        "nbgrader": {
          "cell_type": "code",
          "checksum": "9870d53db4a71a0a69320553c7214f90",
          "grade": true,
          "grade_id": "cell-67663369ff5f55b0",
          "locked": true,
          "points": 5,
          "schema_version": 3,
          "solution": false,
          "task": false
        },
        "cell_id": "00025-45fdf1de-e153-43e3-acc5-3d3efa3e4420",
        "deepnote_to_be_reexecuted": false,
        "source_hash": "a3d3cb24",
        "execution_start": 1619703486004,
        "execution_millis": 1,
        "deepnote_cell_type": "code"
      },
      "source": "\nassert acc > 0.92\nassert preds[preds.argmax()] == 1\nassert preds.shape == (114,)",
      "execution_count": 104,
      "outputs": []
    },
    {
      "cell_type": "code",
      "metadata": {
        "deletable": false,
        "nbgrader": {
          "cell_type": "code",
          "checksum": "cf88a2c6b956eb7d60df33fd6b851528",
          "grade": false,
          "grade_id": "cell-b467b5e84dfff2d3",
          "locked": false,
          "schema_version": 3,
          "solution": true,
          "task": false
        },
        "cell_id": "00026-934454fe-9821-4e93-a34d-9835652660d7",
        "deepnote_to_be_reexecuted": false,
        "source_hash": "84fdd24c",
        "execution_start": 1619704021027,
        "execution_millis": 12,
        "deepnote_cell_type": "code"
      },
      "source": "# 3 points\n# get the confusion matrix\n#import if needed\nconf_mat = []\n\n# Compute confusion matrix\ny_true=y_test\nconf_mat = confusion_matrix(y_true, preds)\nnp.set_printoptions(precision=2)\n\n\na=conf_mat[0][1]\nb=conf_mat[1][0]\nconf_mat[0][1]=b\nconf_mat[1][0]=a\nconf_mat",
      "execution_count": 126,
      "outputs": [
        {
          "output_type": "execute_result",
          "execution_count": 126,
          "data": {
            "text/plain": "array([[46,  4],\n       [ 1, 63]])"
          },
          "metadata": {}
        }
      ]
    },
    {
      "cell_type": "code",
      "metadata": {
        "deletable": false,
        "editable": false,
        "nbgrader": {
          "cell_type": "code",
          "checksum": "6d7ae4ae61f3f14f88e216eb4666e4df",
          "grade": true,
          "grade_id": "cell-fd7017a6eb94325a",
          "locked": true,
          "points": 3,
          "schema_version": 3,
          "solution": false,
          "task": false
        },
        "cell_id": "00027-e5157cdb-8f23-4bf1-b94c-08c2a1778520",
        "deepnote_to_be_reexecuted": false,
        "source_hash": "7b5c319",
        "execution_start": 1619704022849,
        "execution_millis": 2,
        "deepnote_cell_type": "code"
      },
      "source": "assert conf_mat.shape == (2,2)\nassert conf_mat[0][1] < 7\nassert conf_mat[1][0] < 3\n",
      "execution_count": 127,
      "outputs": []
    },
    {
      "cell_type": "markdown",
      "source": "# Discussion of results",
      "metadata": {
        "cell_id": "00028-b272895b-6f5a-4631-9762-6dcdd12e0163",
        "deepnote_cell_type": "markdown"
      }
    },
    {
      "cell_type": "markdown",
      "source": "to be honest i loved it! i was thinking to create for loops for this matter but it seems we dont need to!",
      "metadata": {
        "tags": [],
        "cell_id": "00030-1f43e56d-b0d4-4825-9bb8-b4f04d28fc45",
        "deepnote_cell_type": "markdown"
      }
    },
    {
      "cell_type": "markdown",
      "source": "<a style='text-decoration:none;line-height:16px;display:flex;color:#5B5B62;padding:10px;justify-content:end;' href='https://deepnote.com?utm_source=created-in-deepnote-cell&projectId=796ba814-f632-4502-b0d7-7e2f8f9e546d' target=\"_blank\">\n<img alt='Created in deepnote.com' style='display:inline;max-height:16px;margin:0px;margin-right:7.5px;' src='data:image/svg+xml;base64,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' > </img>\nCreated in <span style='font-weight:600;margin-left:4px;'>Deepnote</span></a>",
      "metadata": {
        "tags": [],
        "created_in_deepnote_cell": true,
        "deepnote_cell_type": "markdown"
      }
    }
  ],
  "nbformat": 4,
  "nbformat_minor": 2,
  "metadata": {
    "kernelspec": {
      "display_name": "Python 3",
      "language": "python",
      "name": "python3"
    },
    "language_info": {
      "codemirror_mode": {
        "name": "ipython",
        "version": 3
      },
      "file_extension": ".py",
      "mimetype": "text/x-python",
      "name": "python",
      "nbconvert_exporter": "python",
      "pygments_lexer": "ipython3",
      "version": "3.7.10"
    },
    "deepnote_notebook_id": "840ee568-abb9-44c9-a69d-4f6bc0fd8319",
    "deepnote": {},
    "deepnote_execution_queue": []
  }
}