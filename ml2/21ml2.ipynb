{
 "cells": [
  {
   "cell_type": "markdown",
   "metadata": {
    "deletable": false,
    "editable": false,
    "nbgrader": {
     "cell_type": "markdown",
     "checksum": "fbfaeccba7c78624daa81efaeac3384d",
     "grade": false,
     "grade_id": "cell-9bac3e2eaf76d09a",
     "locked": true,
     "schema_version": 3,
     "solution": false,
     "task": false
    }
   },
   "source": [
    "# Linear Regression From Scratch\n",
    "In this notebook you will implement linear regression using the least squares method.\n",
    "\n",
    "The notebook will guide you in the general steps. You may use only numpy, pandas, and matplotlib for this exercise.\n",
    "\n",
    "#### Math Background\n",
    "The task is to solve linear regression for the data set of ```x``` and ```y```. That is, fit a line y to the data such that ```y = a + bx + e```. Where a and b are coefficents and e is an error term.\n",
    "\n",
    "We know that ```b = SUM ( xi - x_mean) * (yi - y_mean) / SUM (xi - x_mean)^2``` where ```xi```, and ```yi``` are the indivdual observations and ```x_mean```, ```y_mean``` are means of all ```xi``` and ```yi```.\n",
    "\n",
    "So a reasonable solution then for a fit is ```a = y_mean - b * x_mean```.\n",
    "\n",
    "\n",
    "#### Implementation Steps\n",
    "1. Load the file ```reg_data.csv```\n",
    "2. Display the data with a scatter plot. Write a markdown cell and comment on the structure of the data and what kind of line you think will fit the data. \n",
    "3. Implement a function of the least squares method.\n",
    "4. Plot the predictions from your function.\n",
    "5. Comment on the output of your function. Does it make sense? Can it be made better? If yes, how?"
   ]
  },
  {
   "cell_type": "code",
   "execution_count": 142,
   "metadata": {},
   "outputs": [],
   "source": [
    "#import the minimum packages\n",
    "import numpy as np\n",
    "import pandas as pd\n",
    "import matplotlib.pyplot as plt\n",
    "from sklearn.model_selection import train_test_split"
   ]
  },
  {
   "cell_type": "code",
   "execution_count": 328,
   "metadata": {
    "deletable": false,
    "nbgrader": {
     "cell_type": "code",
     "checksum": "2c551326ada620ac865e47a09cfd6e88",
     "grade": false,
     "grade_id": "cell-4104816f50e4844b",
     "locked": false,
     "schema_version": 3,
     "solution": true,
     "task": false
    }
   },
   "outputs": [
    {
     "output_type": "execute_result",
     "data": {
      "text/plain": [
       "            X          Y\n",
       "0   32.502345  31.707006\n",
       "1   53.426804  68.777596\n",
       "2   61.530358  62.562382\n",
       "3   47.475640  71.546632\n",
       "4   59.813208  87.230925\n",
       "..        ...        ...\n",
       "95  50.030174  81.536991\n",
       "96  49.239765  72.111832\n",
       "97  50.039576  85.232007\n",
       "98  48.149859  66.224958\n",
       "99  25.128485  53.454394\n",
       "\n",
       "[100 rows x 2 columns]"
      ],
      "text/html": "<div>\n<style scoped>\n    .dataframe tbody tr th:only-of-type {\n        vertical-align: middle;\n    }\n\n    .dataframe tbody tr th {\n        vertical-align: top;\n    }\n\n    .dataframe thead th {\n        text-align: right;\n    }\n</style>\n<table border=\"1\" class=\"dataframe\">\n  <thead>\n    <tr style=\"text-align: right;\">\n      <th></th>\n      <th>X</th>\n      <th>Y</th>\n    </tr>\n  </thead>\n  <tbody>\n    <tr>\n      <th>0</th>\n      <td>32.502345</td>\n      <td>31.707006</td>\n    </tr>\n    <tr>\n      <th>1</th>\n      <td>53.426804</td>\n      <td>68.777596</td>\n    </tr>\n    <tr>\n      <th>2</th>\n      <td>61.530358</td>\n      <td>62.562382</td>\n    </tr>\n    <tr>\n      <th>3</th>\n      <td>47.475640</td>\n      <td>71.546632</td>\n    </tr>\n    <tr>\n      <th>4</th>\n      <td>59.813208</td>\n      <td>87.230925</td>\n    </tr>\n    <tr>\n      <th>...</th>\n      <td>...</td>\n      <td>...</td>\n    </tr>\n    <tr>\n      <th>95</th>\n      <td>50.030174</td>\n      <td>81.536991</td>\n    </tr>\n    <tr>\n      <th>96</th>\n      <td>49.239765</td>\n      <td>72.111832</td>\n    </tr>\n    <tr>\n      <th>97</th>\n      <td>50.039576</td>\n      <td>85.232007</td>\n    </tr>\n    <tr>\n      <th>98</th>\n      <td>48.149859</td>\n      <td>66.224958</td>\n    </tr>\n    <tr>\n      <th>99</th>\n      <td>25.128485</td>\n      <td>53.454394</td>\n    </tr>\n  </tbody>\n</table>\n<p>100 rows × 2 columns</p>\n</div>"
     },
     "metadata": {},
     "execution_count": 328
    }
   ],
   "source": [
    "#load and inspect the data\n",
    "df = pd.read_csv(\"reg_data.csv\")\n",
    "# YOUR CODE HERE\n",
    "df\n"
   ]
  },
  {
   "cell_type": "code",
   "execution_count": 329,
   "metadata": {
    "deletable": false,
    "editable": false,
    "nbgrader": {
     "cell_type": "code",
     "checksum": "5a44bd6c555f034b17e8b48663c46fbf",
     "grade": true,
     "grade_id": "cell-3676b87d8fc79bbd",
     "locked": true,
     "points": 1,
     "schema_version": 3,
     "solution": false,
     "task": false
    }
   },
   "outputs": [],
   "source": [
    "assert df.shape == (100,2)"
   ]
  },
  {
   "cell_type": "code",
   "execution_count": 330,
   "metadata": {
    "deletable": false,
    "nbgrader": {
     "cell_type": "code",
     "checksum": "ec83d674d316f06d99e4a62881fe0d91",
     "grade": false,
     "grade_id": "cell-7f576e50392bc5e9",
     "locked": false,
     "schema_version": 3,
     "solution": true,
     "task": false
    }
   },
   "outputs": [
    {
     "output_type": "execute_result",
     "data": {
      "text/plain": [
       "<matplotlib.collections.PathCollection at 0x1d95765db50>"
      ]
     },
     "metadata": {},
     "execution_count": 330
    },
    {
     "output_type": "display_data",
     "data": {
      "text/plain": "<Figure size 432x288 with 1 Axes>",
      "image/svg+xml": "<?xml version=\"1.0\" encoding=\"utf-8\" standalone=\"no\"?>\r\n<!DOCTYPE svg PUBLIC \"-//W3C//DTD SVG 1.1//EN\"\r\n  \"http://www.w3.org/Graphics/SVG/1.1/DTD/svg11.dtd\">\r\n<!-- Created with matplotlib (https://matplotlib.org/) -->\r\n<svg height=\"248.518125pt\" version=\"1.1\" viewBox=\"0 0 375.2875 248.518125\" width=\"375.2875pt\" xmlns=\"http://www.w3.org/2000/svg\" xmlns:xlink=\"http://www.w3.org/1999/xlink\">\r\n <metadata>\r\n  <rdf:RDF xmlns:cc=\"http://creativecommons.org/ns#\" xmlns:dc=\"http://purl.org/dc/elements/1.1/\" xmlns:rdf=\"http://www.w3.org/1999/02/22-rdf-syntax-ns#\">\r\n   <cc:Work>\r\n    <dc:type rdf:resource=\"http://purl.org/dc/dcmitype/StillImage\"/>\r\n    <dc:date>2021-04-20T16:54:51.209502</dc:date>\r\n    <dc:format>image/svg+xml</dc:format>\r\n    <dc:creator>\r\n     <cc:Agent>\r\n      <dc:title>Matplotlib v3.3.2, https://matplotlib.org/</dc:title>\r\n     </cc:Agent>\r\n    </dc:creator>\r\n   </cc:Work>\r\n  </rdf:RDF>\r\n </metadata>\r\n <defs>\r\n  <style type=\"text/css\">*{stroke-linecap:butt;stroke-linejoin:round;}</style>\r\n </defs>\r\n <g id=\"figure_1\">\r\n  <g id=\"patch_1\">\r\n   <path d=\"M 0 248.518125 \r\nL 375.2875 248.518125 \r\nL 375.2875 0 \r\nL 0 0 \r\nz\r\n\" style=\"fill:none;\"/>\r\n  </g>\r\n  <g id=\"axes_1\">\r\n   <g id=\"patch_2\">\r\n    <path d=\"M 33.2875 224.64 \r\nL 368.0875 224.64 \r\nL 368.0875 7.2 \r\nL 33.2875 7.2 \r\nz\r\n\" style=\"fill:#ffffff;\"/>\r\n   </g>\r\n   <g id=\"PathCollection_1\">\r\n    <defs>\r\n     <path d=\"M 0 3 \r\nC 0.795609 3 1.55874 2.683901 2.12132 2.12132 \r\nC 2.683901 1.55874 3 0.795609 3 0 \r\nC 3 -0.795609 2.683901 -1.55874 2.12132 -2.12132 \r\nC 1.55874 -2.683901 0.795609 -3 0 -3 \r\nC -0.795609 -3 -1.55874 -2.683901 -2.12132 -2.12132 \r\nC -2.683901 -1.55874 -3 -0.795609 -3 0 \r\nC -3 0.795609 -2.683901 1.55874 -2.12132 2.12132 \r\nC -1.55874 2.683901 -0.795609 3 0 3 \r\nz\r\n\" id=\"m1c3921ec6c\" style=\"stroke:#1f77b4;\"/>\r\n    </defs>\r\n    <g clip-path=\"url(#p535c9aea2a)\">\r\n     <use style=\"fill:#1f77b4;stroke:#1f77b4;\" x=\"98.139795\" xlink:href=\"#m1c3921ec6c\" y=\"214.756364\"/>\r\n     <use style=\"fill:#1f77b4;stroke:#1f77b4;\" x=\"238.984193\" xlink:href=\"#m1c3921ec6c\" y=\"130.416015\"/>\r\n     <use style=\"fill:#1f77b4;stroke:#1f77b4;\" x=\"293.529937\" xlink:href=\"#m1c3921ec6c\" y=\"144.556424\"/>\r\n     <use style=\"fill:#1f77b4;stroke:#1f77b4;\" x=\"198.926374\" xlink:href=\"#m1c3921ec6c\" y=\"124.116103\"/>\r\n     <use style=\"fill:#1f77b4;stroke:#1f77b4;\" x=\"281.971646\" xlink:href=\"#m1c3921ec6c\" y=\"88.432324\"/>\r\n     <use style=\"fill:#1f77b4;stroke:#1f77b4;\" x=\"250.530598\" xlink:href=\"#m1c3921ec6c\" y=\"108.952632\"/>\r\n     <use style=\"fill:#1f77b4;stroke:#1f77b4;\" x=\"230.80587\" xlink:href=\"#m1c3921ec6c\" y=\"105.698164\"/>\r\n     <use style=\"fill:#1f77b4;stroke:#1f77b4;\" x=\"143.892499\" xlink:href=\"#m1c3921ec6c\" y=\"152.27114\"/>\r\n     <use style=\"fill:#1f77b4;stroke:#1f77b4;\" x=\"203.162936\" xlink:href=\"#m1c3921ec6c\" y=\"115.505629\"/>\r\n     <use style=\"fill:#1f77b4;stroke:#1f77b4;\" x=\"233.082444\" xlink:href=\"#m1c3921ec6c\" y=\"124.675221\"/>\r\n     <use style=\"fill:#1f77b4;stroke:#1f77b4;\" x=\"185.087864\" xlink:href=\"#m1c3921ec6c\" y=\"161.384877\"/>\r\n     <use style=\"fill:#1f77b4;stroke:#1f77b4;\" x=\"245.209312\" xlink:href=\"#m1c3921ec6c\" y=\"99.243912\"/>\r\n     <use style=\"fill:#1f77b4;stroke:#1f77b4;\" x=\"176.635766\" xlink:href=\"#m1c3921ec6c\" y=\"145.815614\"/>\r\n     <use style=\"fill:#1f77b4;stroke:#1f77b4;\" x=\"270.900774\" xlink:href=\"#m1c3921ec6c\" y=\"115.365417\"/>\r\n     <use style=\"fill:#1f77b4;stroke:#1f77b4;\" x=\"261.199506\" xlink:href=\"#m1c3921ec6c\" y=\"101.616085\"/>\r\n     <use style=\"fill:#1f77b4;stroke:#1f77b4;\" x=\"208.890062\" xlink:href=\"#m1c3921ec6c\" y=\"148.739884\"/>\r\n     <use style=\"fill:#1f77b4;stroke:#1f77b4;\" x=\"180.157113\" xlink:href=\"#m1c3921ec6c\" y=\"98.302789\"/>\r\n     <use style=\"fill:#1f77b4;stroke:#1f77b4;\" x=\"285.230294\" xlink:href=\"#m1c3921ec6c\" y=\"65.342112\"/>\r\n     <use style=\"fill:#1f77b4;stroke:#1f77b4;\" x=\"186.42677\" xlink:href=\"#m1c3921ec6c\" y=\"175.760329\"/>\r\n     <use style=\"fill:#1f77b4;stroke:#1f77b4;\" x=\"140.643071\" xlink:href=\"#m1c3921ec6c\" y=\"157.490913\"/>\r\n     <use style=\"fill:#1f77b4;stroke:#1f77b4;\" x=\"324.893168\" xlink:href=\"#m1c3921ec6c\" y=\"96.059374\"/>\r\n     <use style=\"fill:#1f77b4;stroke:#1f77b4;\" x=\"319.684888\" xlink:href=\"#m1c3921ec6c\" y=\"17.083636\"/>\r\n     <use style=\"fill:#1f77b4;stroke:#1f77b4;\" x=\"198.96386\" xlink:href=\"#m1c3921ec6c\" y=\"156.638636\"/>\r\n     <use style=\"fill:#1f77b4;stroke:#1f77b4;\" x=\"159.212969\" xlink:href=\"#m1c3921ec6c\" y=\"169.971059\"/>\r\n     <use style=\"fill:#1f77b4;stroke:#1f77b4;\" x=\"228.338187\" xlink:href=\"#m1c3921ec6c\" y=\"115.393217\"/>\r\n     <use style=\"fill:#1f77b4;stroke:#1f77b4;\" x=\"278.993908\" xlink:href=\"#m1c3921ec6c\" y=\"116.79262\"/>\r\n     <use style=\"fill:#1f77b4;stroke:#1f77b4;\" x=\"265.122354\" xlink:href=\"#m1c3921ec6c\" y=\"69.721378\"/>\r\n     <use style=\"fill:#1f77b4;stroke:#1f77b4;\" x=\"307.565626\" xlink:href=\"#m1c3921ec6c\" y=\"70.234845\"/>\r\n     <use style=\"fill:#1f77b4;stroke:#1f77b4;\" x=\"193.958695\" xlink:href=\"#m1c3921ec6c\" y=\"107.039504\"/>\r\n     <use style=\"fill:#1f77b4;stroke:#1f77b4;\" x=\"219.665671\" xlink:href=\"#m1c3921ec6c\" y=\"97.075204\"/>\r\n     <use style=\"fill:#1f77b4;stroke:#1f77b4;\" x=\"230.887985\" xlink:href=\"#m1c3921ec6c\" y=\"142.744493\"/>\r\n     <use style=\"fill:#1f77b4;stroke:#1f77b4;\" x=\"118.773846\" xlink:href=\"#m1c3921ec6c\" y=\"192.674243\"/>\r\n     <use style=\"fill:#1f77b4;stroke:#1f77b4;\" x=\"165.007321\" xlink:href=\"#m1c3921ec6c\" y=\"112.579589\"/>\r\n     <use style=\"fill:#1f77b4;stroke:#1f77b4;\" x=\"270.874317\" xlink:href=\"#m1c3921ec6c\" y=\"66.730692\"/>\r\n     <use style=\"fill:#1f77b4;stroke:#1f77b4;\" x=\"266.431175\" xlink:href=\"#m1c3921ec6c\" y=\"118.342969\"/>\r\n     <use style=\"fill:#1f77b4;stroke:#1f77b4;\" x=\"185.227875\" xlink:href=\"#m1c3921ec6c\" y=\"135.397299\"/>\r\n     <use style=\"fill:#1f77b4;stroke:#1f77b4;\" x=\"295.992605\" xlink:href=\"#m1c3921ec6c\" y=\"109.960595\"/>\r\n     <use style=\"fill:#1f77b4;stroke:#1f77b4;\" x=\"102.121143\" xlink:href=\"#m1c3921ec6c\" y=\"171.500298\"/>\r\n     <use style=\"fill:#1f77b4;stroke:#1f77b4;\" x=\"124.61764\" xlink:href=\"#m1c3921ec6c\" y=\"145.552501\"/>\r\n     <use style=\"fill:#1f77b4;stroke:#1f77b4;\" x=\"132.961803\" xlink:href=\"#m1c3921ec6c\" y=\"148.542757\"/>\r\n     <use style=\"fill:#1f77b4;stroke:#1f77b4;\" x=\"179.271384\" xlink:href=\"#m1c3921ec6c\" y=\"167.033324\"/>\r\n     <use style=\"fill:#1f77b4;stroke:#1f77b4;\" x=\"170.942834\" xlink:href=\"#m1c3921ec6c\" y=\"153.640005\"/>\r\n     <use style=\"fill:#1f77b4;stroke:#1f77b4;\" x=\"216.410419\" xlink:href=\"#m1c3921ec6c\" y=\"98.272126\"/>\r\n     <use style=\"fill:#1f77b4;stroke:#1f77b4;\" x=\"174.660616\" xlink:href=\"#m1c3921ec6c\" y=\"147.144775\"/>\r\n     <use style=\"fill:#1f77b4;stroke:#1f77b4;\" x=\"303.405271\" xlink:href=\"#m1c3921ec6c\" y=\"24.698637\"/>\r\n     <use style=\"fill:#1f77b4;stroke:#1f77b4;\" x=\"99.261858\" xlink:href=\"#m1c3921ec6c\" y=\"183.214934\"/>\r\n     <use style=\"fill:#1f77b4;stroke:#1f77b4;\" x=\"149.73059\" xlink:href=\"#m1c3921ec6c\" y=\"163.845707\"/>\r\n     <use style=\"fill:#1f77b4;stroke:#1f77b4;\" x=\"239.982235\" xlink:href=\"#m1c3921ec6c\" y=\"86.695201\"/>\r\n     <use style=\"fill:#1f77b4;stroke:#1f77b4;\" x=\"107.306661\" xlink:href=\"#m1c3921ec6c\" y=\"166.936606\"/>\r\n     <use style=\"fill:#1f77b4;stroke:#1f77b4;\" x=\"314.913131\" xlink:href=\"#m1c3921ec6c\" y=\"73.996195\"/>\r\n     <use style=\"fill:#1f77b4;stroke:#1f77b4;\" x=\"135.951545\" xlink:href=\"#m1c3921ec6c\" y=\"104.505309\"/>\r\n     <use style=\"fill:#1f77b4;stroke:#1f77b4;\" x=\"178.914163\" xlink:href=\"#m1c3921ec6c\" y=\"138.779124\"/>\r\n     <use style=\"fill:#1f77b4;stroke:#1f77b4;\" x=\"152.642724\" xlink:href=\"#m1c3921ec6c\" y=\"137.731223\"/>\r\n     <use style=\"fill:#1f77b4;stroke:#1f77b4;\" x=\"160.189204\" xlink:href=\"#m1c3921ec6c\" y=\"138.371477\"/>\r\n     <use style=\"fill:#1f77b4;stroke:#1f77b4;\" x=\"223.245766\" xlink:href=\"#m1c3921ec6c\" y=\"119.820639\"/>\r\n     <use style=\"fill:#1f77b4;stroke:#1f77b4;\" x=\"250.099185\" xlink:href=\"#m1c3921ec6c\" y=\"125.041862\"/>\r\n     <use style=\"fill:#1f77b4;stroke:#1f77b4;\" x=\"157.880778\" xlink:href=\"#m1c3921ec6c\" y=\"106.924784\"/>\r\n     <use style=\"fill:#1f77b4;stroke:#1f77b4;\" x=\"300.020992\" xlink:href=\"#m1c3921ec6c\" y=\"90.048545\"/>\r\n     <use style=\"fill:#1f77b4;stroke:#1f77b4;\" x=\"210.559365\" xlink:href=\"#m1c3921ec6c\" y=\"94.093361\"/>\r\n     <use style=\"fill:#1f77b4;stroke:#1f77b4;\" x=\"156.02945\" xlink:href=\"#m1c3921ec6c\" y=\"151.84487\"/>\r\n     <use style=\"fill:#1f77b4;stroke:#1f77b4;\" x=\"156.563433\" xlink:href=\"#m1c3921ec6c\" y=\"146.554771\"/>\r\n     <use style=\"fill:#1f77b4;stroke:#1f77b4;\" x=\"217.172673\" xlink:href=\"#m1c3921ec6c\" y=\"127.981609\"/>\r\n     <use style=\"fill:#1f77b4;stroke:#1f77b4;\" x=\"231.927603\" xlink:href=\"#m1c3921ec6c\" y=\"91.009212\"/>\r\n     <use style=\"fill:#1f77b4;stroke:#1f77b4;\" x=\"216.830034\" xlink:href=\"#m1c3921ec6c\" y=\"152.413677\"/>\r\n     <use style=\"fill:#1f77b4;stroke:#1f77b4;\" x=\"105.829127\" xlink:href=\"#m1c3921ec6c\" y=\"127.863127\"/>\r\n     <use style=\"fill:#1f77b4;stroke:#1f77b4;\" x=\"145.631371\" xlink:href=\"#m1c3921ec6c\" y=\"184.825948\"/>\r\n     <use style=\"fill:#1f77b4;stroke:#1f77b4;\" x=\"257.182263\" xlink:href=\"#m1c3921ec6c\" y=\"92.374797\"/>\r\n     <use style=\"fill:#1f77b4;stroke:#1f77b4;\" x=\"265.472698\" xlink:href=\"#m1c3921ec6c\" y=\"69.535651\"/>\r\n     <use style=\"fill:#1f77b4;stroke:#1f77b4;\" x=\"285.041067\" xlink:href=\"#m1c3921ec6c\" y=\"127.061706\"/>\r\n     <use style=\"fill:#1f77b4;stroke:#1f77b4;\" x=\"119.516042\" xlink:href=\"#m1c3921ec6c\" y=\"166.945159\"/>\r\n     <use style=\"fill:#1f77b4;stroke:#1f77b4;\" x=\"91.986043\" xlink:href=\"#m1c3921ec6c\" y=\"172.24408\"/>\r\n     <use style=\"fill:#1f77b4;stroke:#1f77b4;\" x=\"240.560131\" xlink:href=\"#m1c3921ec6c\" y=\"142.099248\"/>\r\n     <use style=\"fill:#1f77b4;stroke:#1f77b4;\" x=\"193.585854\" xlink:href=\"#m1c3921ec6c\" y=\"122.522105\"/>\r\n     <use style=\"fill:#1f77b4;stroke:#1f77b4;\" x=\"169.526193\" xlink:href=\"#m1c3921ec6c\" y=\"155.362986\"/>\r\n     <use style=\"fill:#1f77b4;stroke:#1f77b4;\" x=\"352.869318\" xlink:href=\"#m1c3921ec6c\" y=\"49.695589\"/>\r\n     <use style=\"fill:#1f77b4;stroke:#1f77b4;\" x=\"178.848991\" xlink:href=\"#m1c3921ec6c\" y=\"89.772158\"/>\r\n     <use style=\"fill:#1f77b4;stroke:#1f77b4;\" x=\"266.431752\" xlink:href=\"#m1c3921ec6c\" y=\"78.749713\"/>\r\n     <use style=\"fill:#1f77b4;stroke:#1f77b4;\" x=\"127.94325\" xlink:href=\"#m1c3921ec6c\" y=\"161.234755\"/>\r\n     <use style=\"fill:#1f77b4;stroke:#1f77b4;\" x=\"254.996978\" xlink:href=\"#m1c3921ec6c\" y=\"105.906421\"/>\r\n     <use style=\"fill:#1f77b4;stroke:#1f77b4;\" x=\"141.571635\" xlink:href=\"#m1c3921ec6c\" y=\"184.860909\"/>\r\n     <use style=\"fill:#1f77b4;stroke:#1f77b4;\" x=\"262.370761\" xlink:href=\"#m1c3921ec6c\" y=\"104.411465\"/>\r\n     <use style=\"fill:#1f77b4;stroke:#1f77b4;\" x=\"262.153252\" xlink:href=\"#m1c3921ec6c\" y=\"97.733448\"/>\r\n     <use style=\"fill:#1f77b4;stroke:#1f77b4;\" x=\"110.462935\" xlink:href=\"#m1c3921ec6c\" y=\"160.115783\"/>\r\n     <use style=\"fill:#1f77b4;stroke:#1f77b4;\" x=\"276.832684\" xlink:href=\"#m1c3921ec6c\" y=\"110.266145\"/>\r\n     <use style=\"fill:#1f77b4;stroke:#1f77b4;\" x=\"268.341299\" xlink:href=\"#m1c3921ec6c\" y=\"61.539194\"/>\r\n     <use style=\"fill:#1f77b4;stroke:#1f77b4;\" x=\"244.742806\" xlink:href=\"#m1c3921ec6c\" y=\"106.884249\"/>\r\n     <use style=\"fill:#1f77b4;stroke:#1f77b4;\" x=\"223.24634\" xlink:href=\"#m1c3921ec6c\" y=\"128.5702\"/>\r\n     <use style=\"fill:#1f77b4;stroke:#1f77b4;\" x=\"217.821866\" xlink:href=\"#m1c3921ec6c\" y=\"128.748557\"/>\r\n     <use style=\"fill:#1f77b4;stroke:#1f77b4;\" x=\"176.956787\" xlink:href=\"#m1c3921ec6c\" y=\"119.245208\"/>\r\n     <use style=\"fill:#1f77b4;stroke:#1f77b4;\" x=\"135.18194\" xlink:href=\"#m1c3921ec6c\" y=\"147.276289\"/>\r\n     <use style=\"fill:#1f77b4;stroke:#1f77b4;\" x=\"101.088919\" xlink:href=\"#m1c3921ec6c\" y=\"134.07201\"/>\r\n     <use style=\"fill:#1f77b4;stroke:#1f77b4;\" x=\"240.766824\" xlink:href=\"#m1c3921ec6c\" y=\"91.987717\"/>\r\n     <use style=\"fill:#1f77b4;stroke:#1f77b4;\" x=\"342.2319\" xlink:href=\"#m1c3921ec6c\" y=\"25.586578\"/>\r\n     <use style=\"fill:#1f77b4;stroke:#1f77b4;\" x=\"190.548369\" xlink:href=\"#m1c3921ec6c\" y=\"81.851181\"/>\r\n     <use style=\"fill:#1f77b4;stroke:#1f77b4;\" x=\"339.22732\" xlink:href=\"#m1c3921ec6c\" y=\"64.113715\"/>\r\n     <use style=\"fill:#1f77b4;stroke:#1f77b4;\" x=\"216.121175\" xlink:href=\"#m1c3921ec6c\" y=\"101.386755\"/>\r\n     <use style=\"fill:#1f77b4;stroke:#1f77b4;\" x=\"210.800862\" xlink:href=\"#m1c3921ec6c\" y=\"122.8302\"/>\r\n     <use style=\"fill:#1f77b4;stroke:#1f77b4;\" x=\"216.184458\" xlink:href=\"#m1c3921ec6c\" y=\"92.980119\"/>\r\n     <use style=\"fill:#1f77b4;stroke:#1f77b4;\" x=\"203.464604\" xlink:href=\"#m1c3921ec6c\" y=\"136.223594\"/>\r\n     <use style=\"fill:#1f77b4;stroke:#1f77b4;\" x=\"48.505682\" xlink:href=\"#m1c3921ec6c\" y=\"165.278265\"/>\r\n    </g>\r\n   </g>\r\n   <g id=\"matplotlib.axis_1\">\r\n    <g id=\"xtick_1\">\r\n     <g id=\"line2d_1\">\r\n      <defs>\r\n       <path d=\"M 0 0 \r\nL 0 3.5 \r\n\" id=\"m7be0fc5ecd\" style=\"stroke:#000000;stroke-width:0.8;\"/>\r\n      </defs>\r\n      <g>\r\n       <use style=\"stroke:#000000;stroke-width:0.8;\" x=\"81.296286\" xlink:href=\"#m7be0fc5ecd\" y=\"224.64\"/>\r\n      </g>\r\n     </g>\r\n     <g id=\"text_1\">\r\n      <!-- 30 -->\r\n      <g transform=\"translate(74.933786 239.238437)scale(0.1 -0.1)\">\r\n       <defs>\r\n        <path d=\"M 40.578125 39.3125 \r\nQ 47.65625 37.796875 51.625 33 \r\nQ 55.609375 28.21875 55.609375 21.1875 \r\nQ 55.609375 10.40625 48.1875 4.484375 \r\nQ 40.765625 -1.421875 27.09375 -1.421875 \r\nQ 22.515625 -1.421875 17.65625 -0.515625 \r\nQ 12.796875 0.390625 7.625 2.203125 \r\nL 7.625 11.71875 \r\nQ 11.71875 9.328125 16.59375 8.109375 \r\nQ 21.484375 6.890625 26.8125 6.890625 \r\nQ 36.078125 6.890625 40.9375 10.546875 \r\nQ 45.796875 14.203125 45.796875 21.1875 \r\nQ 45.796875 27.640625 41.28125 31.265625 \r\nQ 36.765625 34.90625 28.71875 34.90625 \r\nL 20.21875 34.90625 \r\nL 20.21875 43.015625 \r\nL 29.109375 43.015625 \r\nQ 36.375 43.015625 40.234375 45.921875 \r\nQ 44.09375 48.828125 44.09375 54.296875 \r\nQ 44.09375 59.90625 40.109375 62.90625 \r\nQ 36.140625 65.921875 28.71875 65.921875 \r\nQ 24.65625 65.921875 20.015625 65.03125 \r\nQ 15.375 64.15625 9.8125 62.3125 \r\nL 9.8125 71.09375 \r\nQ 15.4375 72.65625 20.34375 73.4375 \r\nQ 25.25 74.21875 29.59375 74.21875 \r\nQ 40.828125 74.21875 47.359375 69.109375 \r\nQ 53.90625 64.015625 53.90625 55.328125 \r\nQ 53.90625 49.265625 50.4375 45.09375 \r\nQ 46.96875 40.921875 40.578125 39.3125 \r\nz\r\n\" id=\"DejaVuSans-51\"/>\r\n        <path d=\"M 31.78125 66.40625 \r\nQ 24.171875 66.40625 20.328125 58.90625 \r\nQ 16.5 51.421875 16.5 36.375 \r\nQ 16.5 21.390625 20.328125 13.890625 \r\nQ 24.171875 6.390625 31.78125 6.390625 \r\nQ 39.453125 6.390625 43.28125 13.890625 \r\nQ 47.125 21.390625 47.125 36.375 \r\nQ 47.125 51.421875 43.28125 58.90625 \r\nQ 39.453125 66.40625 31.78125 66.40625 \r\nz\r\nM 31.78125 74.21875 \r\nQ 44.046875 74.21875 50.515625 64.515625 \r\nQ 56.984375 54.828125 56.984375 36.375 \r\nQ 56.984375 17.96875 50.515625 8.265625 \r\nQ 44.046875 -1.421875 31.78125 -1.421875 \r\nQ 19.53125 -1.421875 13.0625 8.265625 \r\nQ 6.59375 17.96875 6.59375 36.375 \r\nQ 6.59375 54.828125 13.0625 64.515625 \r\nQ 19.53125 74.21875 31.78125 74.21875 \r\nz\r\n\" id=\"DejaVuSans-48\"/>\r\n       </defs>\r\n       <use xlink:href=\"#DejaVuSans-51\"/>\r\n       <use x=\"63.623047\" xlink:href=\"#DejaVuSans-48\"/>\r\n      </g>\r\n     </g>\r\n    </g>\r\n    <g id=\"xtick_2\">\r\n     <g id=\"line2d_2\">\r\n      <g>\r\n       <use style=\"stroke:#000000;stroke-width:0.8;\" x=\"148.607178\" xlink:href=\"#m7be0fc5ecd\" y=\"224.64\"/>\r\n      </g>\r\n     </g>\r\n     <g id=\"text_2\">\r\n      <!-- 40 -->\r\n      <g transform=\"translate(142.244678 239.238437)scale(0.1 -0.1)\">\r\n       <defs>\r\n        <path d=\"M 37.796875 64.3125 \r\nL 12.890625 25.390625 \r\nL 37.796875 25.390625 \r\nz\r\nM 35.203125 72.90625 \r\nL 47.609375 72.90625 \r\nL 47.609375 25.390625 \r\nL 58.015625 25.390625 \r\nL 58.015625 17.1875 \r\nL 47.609375 17.1875 \r\nL 47.609375 0 \r\nL 37.796875 0 \r\nL 37.796875 17.1875 \r\nL 4.890625 17.1875 \r\nL 4.890625 26.703125 \r\nz\r\n\" id=\"DejaVuSans-52\"/>\r\n       </defs>\r\n       <use xlink:href=\"#DejaVuSans-52\"/>\r\n       <use x=\"63.623047\" xlink:href=\"#DejaVuSans-48\"/>\r\n      </g>\r\n     </g>\r\n    </g>\r\n    <g id=\"xtick_3\">\r\n     <g id=\"line2d_3\">\r\n      <g>\r\n       <use style=\"stroke:#000000;stroke-width:0.8;\" x=\"215.918069\" xlink:href=\"#m7be0fc5ecd\" y=\"224.64\"/>\r\n      </g>\r\n     </g>\r\n     <g id=\"text_3\">\r\n      <!-- 50 -->\r\n      <g transform=\"translate(209.555569 239.238437)scale(0.1 -0.1)\">\r\n       <defs>\r\n        <path d=\"M 10.796875 72.90625 \r\nL 49.515625 72.90625 \r\nL 49.515625 64.59375 \r\nL 19.828125 64.59375 \r\nL 19.828125 46.734375 \r\nQ 21.96875 47.46875 24.109375 47.828125 \r\nQ 26.265625 48.1875 28.421875 48.1875 \r\nQ 40.625 48.1875 47.75 41.5 \r\nQ 54.890625 34.8125 54.890625 23.390625 \r\nQ 54.890625 11.625 47.5625 5.09375 \r\nQ 40.234375 -1.421875 26.90625 -1.421875 \r\nQ 22.3125 -1.421875 17.546875 -0.640625 \r\nQ 12.796875 0.140625 7.71875 1.703125 \r\nL 7.71875 11.625 \r\nQ 12.109375 9.234375 16.796875 8.0625 \r\nQ 21.484375 6.890625 26.703125 6.890625 \r\nQ 35.15625 6.890625 40.078125 11.328125 \r\nQ 45.015625 15.765625 45.015625 23.390625 \r\nQ 45.015625 31 40.078125 35.4375 \r\nQ 35.15625 39.890625 26.703125 39.890625 \r\nQ 22.75 39.890625 18.8125 39.015625 \r\nQ 14.890625 38.140625 10.796875 36.28125 \r\nz\r\n\" id=\"DejaVuSans-53\"/>\r\n       </defs>\r\n       <use xlink:href=\"#DejaVuSans-53\"/>\r\n       <use x=\"63.623047\" xlink:href=\"#DejaVuSans-48\"/>\r\n      </g>\r\n     </g>\r\n    </g>\r\n    <g id=\"xtick_4\">\r\n     <g id=\"line2d_4\">\r\n      <g>\r\n       <use style=\"stroke:#000000;stroke-width:0.8;\" x=\"283.228961\" xlink:href=\"#m7be0fc5ecd\" y=\"224.64\"/>\r\n      </g>\r\n     </g>\r\n     <g id=\"text_4\">\r\n      <!-- 60 -->\r\n      <g transform=\"translate(276.866461 239.238437)scale(0.1 -0.1)\">\r\n       <defs>\r\n        <path d=\"M 33.015625 40.375 \r\nQ 26.375 40.375 22.484375 35.828125 \r\nQ 18.609375 31.296875 18.609375 23.390625 \r\nQ 18.609375 15.53125 22.484375 10.953125 \r\nQ 26.375 6.390625 33.015625 6.390625 \r\nQ 39.65625 6.390625 43.53125 10.953125 \r\nQ 47.40625 15.53125 47.40625 23.390625 \r\nQ 47.40625 31.296875 43.53125 35.828125 \r\nQ 39.65625 40.375 33.015625 40.375 \r\nz\r\nM 52.59375 71.296875 \r\nL 52.59375 62.3125 \r\nQ 48.875 64.0625 45.09375 64.984375 \r\nQ 41.3125 65.921875 37.59375 65.921875 \r\nQ 27.828125 65.921875 22.671875 59.328125 \r\nQ 17.53125 52.734375 16.796875 39.40625 \r\nQ 19.671875 43.65625 24.015625 45.921875 \r\nQ 28.375 48.1875 33.59375 48.1875 \r\nQ 44.578125 48.1875 50.953125 41.515625 \r\nQ 57.328125 34.859375 57.328125 23.390625 \r\nQ 57.328125 12.15625 50.6875 5.359375 \r\nQ 44.046875 -1.421875 33.015625 -1.421875 \r\nQ 20.359375 -1.421875 13.671875 8.265625 \r\nQ 6.984375 17.96875 6.984375 36.375 \r\nQ 6.984375 53.65625 15.1875 63.9375 \r\nQ 23.390625 74.21875 37.203125 74.21875 \r\nQ 40.921875 74.21875 44.703125 73.484375 \r\nQ 48.484375 72.75 52.59375 71.296875 \r\nz\r\n\" id=\"DejaVuSans-54\"/>\r\n       </defs>\r\n       <use xlink:href=\"#DejaVuSans-54\"/>\r\n       <use x=\"63.623047\" xlink:href=\"#DejaVuSans-48\"/>\r\n      </g>\r\n     </g>\r\n    </g>\r\n    <g id=\"xtick_5\">\r\n     <g id=\"line2d_5\">\r\n      <g>\r\n       <use style=\"stroke:#000000;stroke-width:0.8;\" x=\"350.539852\" xlink:href=\"#m7be0fc5ecd\" y=\"224.64\"/>\r\n      </g>\r\n     </g>\r\n     <g id=\"text_5\">\r\n      <!-- 70 -->\r\n      <g transform=\"translate(344.177352 239.238437)scale(0.1 -0.1)\">\r\n       <defs>\r\n        <path d=\"M 8.203125 72.90625 \r\nL 55.078125 72.90625 \r\nL 55.078125 68.703125 \r\nL 28.609375 0 \r\nL 18.3125 0 \r\nL 43.21875 64.59375 \r\nL 8.203125 64.59375 \r\nz\r\n\" id=\"DejaVuSans-55\"/>\r\n       </defs>\r\n       <use xlink:href=\"#DejaVuSans-55\"/>\r\n       <use x=\"63.623047\" xlink:href=\"#DejaVuSans-48\"/>\r\n      </g>\r\n     </g>\r\n    </g>\r\n   </g>\r\n   <g id=\"matplotlib.axis_2\">\r\n    <g id=\"ytick_1\">\r\n     <g id=\"line2d_6\">\r\n      <defs>\r\n       <path d=\"M 0 0 \r\nL -3.5 0 \r\n\" id=\"m92cfb93774\" style=\"stroke:#000000;stroke-width:0.8;\"/>\r\n      </defs>\r\n      <g>\r\n       <use style=\"stroke:#000000;stroke-width:0.8;\" x=\"33.2875\" xlink:href=\"#m92cfb93774\" y=\"195.888738\"/>\r\n      </g>\r\n     </g>\r\n     <g id=\"text_6\">\r\n      <!-- 40 -->\r\n      <g transform=\"translate(13.5625 199.687957)scale(0.1 -0.1)\">\r\n       <use xlink:href=\"#DejaVuSans-52\"/>\r\n       <use x=\"63.623047\" xlink:href=\"#DejaVuSans-48\"/>\r\n      </g>\r\n     </g>\r\n    </g>\r\n    <g id=\"ytick_2\">\r\n     <g id=\"line2d_7\">\r\n      <g>\r\n       <use style=\"stroke:#000000;stroke-width:0.8;\" x=\"33.2875\" xlink:href=\"#m92cfb93774\" y=\"150.386172\"/>\r\n      </g>\r\n     </g>\r\n     <g id=\"text_7\">\r\n      <!-- 60 -->\r\n      <g transform=\"translate(13.5625 154.185391)scale(0.1 -0.1)\">\r\n       <use xlink:href=\"#DejaVuSans-54\"/>\r\n       <use x=\"63.623047\" xlink:href=\"#DejaVuSans-48\"/>\r\n      </g>\r\n     </g>\r\n    </g>\r\n    <g id=\"ytick_3\">\r\n     <g id=\"line2d_8\">\r\n      <g>\r\n       <use style=\"stroke:#000000;stroke-width:0.8;\" x=\"33.2875\" xlink:href=\"#m92cfb93774\" y=\"104.883607\"/>\r\n      </g>\r\n     </g>\r\n     <g id=\"text_8\">\r\n      <!-- 80 -->\r\n      <g transform=\"translate(13.5625 108.682825)scale(0.1 -0.1)\">\r\n       <defs>\r\n        <path d=\"M 31.78125 34.625 \r\nQ 24.75 34.625 20.71875 30.859375 \r\nQ 16.703125 27.09375 16.703125 20.515625 \r\nQ 16.703125 13.921875 20.71875 10.15625 \r\nQ 24.75 6.390625 31.78125 6.390625 \r\nQ 38.8125 6.390625 42.859375 10.171875 \r\nQ 46.921875 13.96875 46.921875 20.515625 \r\nQ 46.921875 27.09375 42.890625 30.859375 \r\nQ 38.875 34.625 31.78125 34.625 \r\nz\r\nM 21.921875 38.8125 \r\nQ 15.578125 40.375 12.03125 44.71875 \r\nQ 8.5 49.078125 8.5 55.328125 \r\nQ 8.5 64.0625 14.71875 69.140625 \r\nQ 20.953125 74.21875 31.78125 74.21875 \r\nQ 42.671875 74.21875 48.875 69.140625 \r\nQ 55.078125 64.0625 55.078125 55.328125 \r\nQ 55.078125 49.078125 51.53125 44.71875 \r\nQ 48 40.375 41.703125 38.8125 \r\nQ 48.828125 37.15625 52.796875 32.3125 \r\nQ 56.78125 27.484375 56.78125 20.515625 \r\nQ 56.78125 9.90625 50.3125 4.234375 \r\nQ 43.84375 -1.421875 31.78125 -1.421875 \r\nQ 19.734375 -1.421875 13.25 4.234375 \r\nQ 6.78125 9.90625 6.78125 20.515625 \r\nQ 6.78125 27.484375 10.78125 32.3125 \r\nQ 14.796875 37.15625 21.921875 38.8125 \r\nz\r\nM 18.3125 54.390625 \r\nQ 18.3125 48.734375 21.84375 45.5625 \r\nQ 25.390625 42.390625 31.78125 42.390625 \r\nQ 38.140625 42.390625 41.71875 45.5625 \r\nQ 45.3125 48.734375 45.3125 54.390625 \r\nQ 45.3125 60.0625 41.71875 63.234375 \r\nQ 38.140625 66.40625 31.78125 66.40625 \r\nQ 25.390625 66.40625 21.84375 63.234375 \r\nQ 18.3125 60.0625 18.3125 54.390625 \r\nz\r\n\" id=\"DejaVuSans-56\"/>\r\n       </defs>\r\n       <use xlink:href=\"#DejaVuSans-56\"/>\r\n       <use x=\"63.623047\" xlink:href=\"#DejaVuSans-48\"/>\r\n      </g>\r\n     </g>\r\n    </g>\r\n    <g id=\"ytick_4\">\r\n     <g id=\"line2d_9\">\r\n      <g>\r\n       <use style=\"stroke:#000000;stroke-width:0.8;\" x=\"33.2875\" xlink:href=\"#m92cfb93774\" y=\"59.381041\"/>\r\n      </g>\r\n     </g>\r\n     <g id=\"text_9\">\r\n      <!-- 100 -->\r\n      <g transform=\"translate(7.2 63.18026)scale(0.1 -0.1)\">\r\n       <defs>\r\n        <path d=\"M 12.40625 8.296875 \r\nL 28.515625 8.296875 \r\nL 28.515625 63.921875 \r\nL 10.984375 60.40625 \r\nL 10.984375 69.390625 \r\nL 28.421875 72.90625 \r\nL 38.28125 72.90625 \r\nL 38.28125 8.296875 \r\nL 54.390625 8.296875 \r\nL 54.390625 0 \r\nL 12.40625 0 \r\nz\r\n\" id=\"DejaVuSans-49\"/>\r\n       </defs>\r\n       <use xlink:href=\"#DejaVuSans-49\"/>\r\n       <use x=\"63.623047\" xlink:href=\"#DejaVuSans-48\"/>\r\n       <use x=\"127.246094\" xlink:href=\"#DejaVuSans-48\"/>\r\n      </g>\r\n     </g>\r\n    </g>\r\n    <g id=\"ytick_5\">\r\n     <g id=\"line2d_10\">\r\n      <g>\r\n       <use style=\"stroke:#000000;stroke-width:0.8;\" x=\"33.2875\" xlink:href=\"#m92cfb93774\" y=\"13.878475\"/>\r\n      </g>\r\n     </g>\r\n     <g id=\"text_10\">\r\n      <!-- 120 -->\r\n      <g transform=\"translate(7.2 17.677694)scale(0.1 -0.1)\">\r\n       <defs>\r\n        <path d=\"M 19.1875 8.296875 \r\nL 53.609375 8.296875 \r\nL 53.609375 0 \r\nL 7.328125 0 \r\nL 7.328125 8.296875 \r\nQ 12.9375 14.109375 22.625 23.890625 \r\nQ 32.328125 33.6875 34.8125 36.53125 \r\nQ 39.546875 41.84375 41.421875 45.53125 \r\nQ 43.3125 49.21875 43.3125 52.78125 \r\nQ 43.3125 58.59375 39.234375 62.25 \r\nQ 35.15625 65.921875 28.609375 65.921875 \r\nQ 23.96875 65.921875 18.8125 64.3125 \r\nQ 13.671875 62.703125 7.8125 59.421875 \r\nL 7.8125 69.390625 \r\nQ 13.765625 71.78125 18.9375 73 \r\nQ 24.125 74.21875 28.421875 74.21875 \r\nQ 39.75 74.21875 46.484375 68.546875 \r\nQ 53.21875 62.890625 53.21875 53.421875 \r\nQ 53.21875 48.921875 51.53125 44.890625 \r\nQ 49.859375 40.875 45.40625 35.40625 \r\nQ 44.1875 33.984375 37.640625 27.21875 \r\nQ 31.109375 20.453125 19.1875 8.296875 \r\nz\r\n\" id=\"DejaVuSans-50\"/>\r\n       </defs>\r\n       <use xlink:href=\"#DejaVuSans-49\"/>\r\n       <use x=\"63.623047\" xlink:href=\"#DejaVuSans-50\"/>\r\n       <use x=\"127.246094\" xlink:href=\"#DejaVuSans-48\"/>\r\n      </g>\r\n     </g>\r\n    </g>\r\n   </g>\r\n   <g id=\"patch_3\">\r\n    <path d=\"M 33.2875 224.64 \r\nL 33.2875 7.2 \r\n\" style=\"fill:none;stroke:#000000;stroke-linecap:square;stroke-linejoin:miter;stroke-width:0.8;\"/>\r\n   </g>\r\n   <g id=\"patch_4\">\r\n    <path d=\"M 368.0875 224.64 \r\nL 368.0875 7.2 \r\n\" style=\"fill:none;stroke:#000000;stroke-linecap:square;stroke-linejoin:miter;stroke-width:0.8;\"/>\r\n   </g>\r\n   <g id=\"patch_5\">\r\n    <path d=\"M 33.2875 224.64 \r\nL 368.0875 224.64 \r\n\" style=\"fill:none;stroke:#000000;stroke-linecap:square;stroke-linejoin:miter;stroke-width:0.8;\"/>\r\n   </g>\r\n   <g id=\"patch_6\">\r\n    <path d=\"M 33.2875 7.2 \r\nL 368.0875 7.2 \r\n\" style=\"fill:none;stroke:#000000;stroke-linecap:square;stroke-linejoin:miter;stroke-width:0.8;\"/>\r\n   </g>\r\n  </g>\r\n </g>\r\n <defs>\r\n  <clipPath id=\"p535c9aea2a\">\r\n   <rect height=\"217.44\" width=\"334.8\" x=\"33.2875\" y=\"7.2\"/>\r\n  </clipPath>\r\n </defs>\r\n</svg>\r\n",
      "image/png": "[encoded data removed]"
     },
     "metadata": {
      "needs_background": "light"
     }
    }
   ],
   "source": [
    "#plot the data (scatter)\n",
    "# YOUR CODE HERE\n",
    "plt.scatter(df.X, df.Y)"
   ]
  },
  {
   "cell_type": "code",
   "execution_count": 331,
   "metadata": {},
   "outputs": [],
   "source": [
    "X =df.X\n",
    "Y= df.Y"
   ]
  },
  {
   "cell_type": "code",
   "execution_count": 332,
   "metadata": {},
   "outputs": [
    {
     "output_type": "stream",
     "name": "stdout",
     "text": [
      "(80,)\n(80,)\n(20,)\n(20,)\n"
     ]
    }
   ],
   "source": [
    "#split train and test data 80/20\n",
    "#your code here\n",
    "x_train, x_test, y_train, y_test = train_test_split(X, Y, test_size = 0.2,random_state=0)\n",
    "\n",
    "# YOUR CODE HERE\n",
    "\n",
    "\n",
    "print(x_train.shape)\n",
    "print(y_train.shape)\n",
    "print(x_test.shape)\n",
    "print(y_test.shape)"
   ]
  },
  {
   "cell_type": "code",
   "execution_count": 333,
   "metadata": {
    "deletable": false,
    "editable": false,
    "nbgrader": {
     "cell_type": "code",
     "checksum": "913a83d14800f18572c1736c6c376038",
     "grade": true,
     "grade_id": "cell-161d857ab77810d3",
     "locked": true,
     "points": 1,
     "schema_version": 3,
     "solution": false,
     "task": false
    }
   },
   "outputs": [],
   "source": [
    "assert x_train.shape == (80,)\n",
    "assert x_test.shape == (20,)\n",
    "assert y_train.shape == (80,)\n",
    "assert y_test.shape == (20,)"
   ]
  },
  {
   "source": [
    "b = SUM ( xi - x_mean) * (yi - y_mean) / SUM (xi - x_mean)^2\n",
    "a = y_mean - b * x_mean."
   ],
   "cell_type": "markdown",
   "metadata": {}
  },
  {
   "cell_type": "code",
   "execution_count": 354,
   "metadata": {},
   "outputs": [
    {
     "output_type": "execute_result",
     "data": {
      "text/plain": [
       "pandas.core.series.Series"
      ]
     },
     "metadata": {},
     "execution_count": 354
    }
   ],
   "source": [
    "type(x_train)"
   ]
  },
  {
   "cell_type": "code",
   "execution_count": 359,
   "metadata": {},
   "outputs": [
    {
     "output_type": "stream",
     "name": "stdout",
     "text": [
      "1.3450919020620415\n6.687439682550206\n"
     ]
    }
   ],
   "source": [
    "\n",
    "x_mean = np.mean(x_train)\n",
    "y_mean = np.mean(y_train)\n",
    "b_upper = 0\n",
    "b_lower = 0\n",
    "b = 0\n",
    "a = 0\n",
    "\n",
    "for i in range(x_train.shape[0]):\n",
    "    b_upper += ( x_train.values[i] - x_mean) * (y_train.values[i] - y_mean)\n",
    "    b_lower += (x_train.values[i] - x_mean)**2\n",
    "\n",
    "b = b_upper/b_lower\n",
    "a = y_mean - (b * x_mean)\n",
    "print(b)\n",
    "print(a)"
   ]
  },
  {
   "cell_type": "code",
   "execution_count": 352,
   "metadata": {},
   "outputs": [
    {
     "output_type": "stream",
     "name": "stdout",
     "text": [
      "6.687439682549962\n1.3450919020620462\n"
     ]
    }
   ],
   "source": [
    "\n",
    "x_mean = np.mean(x_train)\n",
    "y_mean = np.mean(y_train)\n",
    "b_upper = 0\n",
    "b_lower = 0\n",
    "b = 0\n",
    "a = 0\n",
    "xy = x_train.multiply(y_train)\n",
    "\n",
    "x_squared = []\n",
    "y_squared= []\n",
    "xy_sum= np.sum(xy)\n",
    "x_sum = np.sum(x_train)\n",
    "y_sum = np.sum(y_train)\n",
    "N= len(x_train)\n",
    "for i in x_train:\n",
    "    x_squared.append(i**2)\n",
    "for j in y_train:\n",
    "    y_squared.append(j**2)\n",
    "\n",
    "x_squared_sum = np.sum(x_squared)\n",
    "y_squared_sum = np.sum(y_squared)\n",
    "\n",
    "\n",
    "b_upper = (N*xy_sum) - (x_sum * y_sum)\n",
    "b_lower = (N*x_squared_sum)- (x_sum)**2\n",
    "b = b_upper/b_lower\n",
    "\n",
    "a = (y_sum - b* x_sum)/N\n",
    "print(a)\n",
    "print(b)"
   ]
  },
  {
   "cell_type": "code",
   "execution_count": 335,
   "metadata": {
    "deletable": false,
    "nbgrader": {
     "cell_type": "code",
     "checksum": "7f783828630939c2e095a32479fa8a95",
     "grade": false,
     "grade_id": "cell-d5e750d407949b20",
     "locked": false,
     "schema_version": 3,
     "solution": true,
     "task": false
    }
   },
   "outputs": [
    {
     "output_type": "stream",
     "name": "stdout",
     "text": [
      "6.687439682550192\n"
     ]
    }
   ],
   "source": [
    "#implement a least squares function to find a, b\n",
    "\n",
    "\n",
    "x_mean = x_train.mean()\n",
    "y_mean = y_train.mean()\n",
    "b_upper = (( x_train - x_mean) * (y_train - y_mean)).sum()\n",
    "b_lower = ((x_train - x_mean)**2).sum()\n",
    "b = b_upper / b_lower\n",
    "a = y_mean - (b * x_mean)\n",
    "print(a)"
   ]
  },
  {
   "cell_type": "code",
   "execution_count": 336,
   "metadata": {
    "deletable": false,
    "editable": false,
    "nbgrader": {
     "cell_type": "code",
     "checksum": "f99a446fb5ac3e0d1da4cbb9b795eacb",
     "grade": true,
     "grade_id": "cell-c7fea6e45dc92701",
     "locked": true,
     "points": 5,
     "schema_version": 3,
     "solution": false,
     "task": false
    }
   },
   "outputs": [
    {
     "output_type": "error",
     "ename": "AssertionError",
     "evalue": "",
     "traceback": [
      "\u001b[1;31m---------------------------------------------------------------------------\u001b[0m",
      "\u001b[1;31mAssertionError\u001b[0m                            Traceback (most recent call last)",
      "\u001b[1;32m<ipython-input-336-94ffca13c1d9>\u001b[0m in \u001b[0;36m<module>\u001b[1;34m\u001b[0m\n\u001b[1;32m----> 1\u001b[1;33m \u001b[1;32massert\u001b[0m \u001b[0mabs\u001b[0m\u001b[1;33m(\u001b[0m\u001b[0ma\u001b[0m \u001b[1;33m-\u001b[0m \u001b[1;36m7.72\u001b[0m\u001b[1;33m)\u001b[0m \u001b[1;33m<=\u001b[0m\u001b[1;36m0.03\u001b[0m\u001b[1;33m\u001b[0m\u001b[1;33m\u001b[0m\u001b[0m\n\u001b[0m\u001b[0;32m      2\u001b[0m \u001b[1;32massert\u001b[0m \u001b[0mabs\u001b[0m\u001b[1;33m(\u001b[0m\u001b[0mb\u001b[0m \u001b[1;33m-\u001b[0m \u001b[1;36m1.32\u001b[0m\u001b[1;33m)\u001b[0m \u001b[1;33m<=\u001b[0m\u001b[1;36m0.03\u001b[0m\u001b[1;33m\u001b[0m\u001b[1;33m\u001b[0m\u001b[0m\n",
      "\u001b[1;31mAssertionError\u001b[0m: "
     ]
    }
   ],
   "source": [
    "assert abs(a - 7.72) <=0.03\n",
    "assert abs(b - 1.32) <=0.03"
   ]
  },
  {
   "cell_type": "code",
   "execution_count": 360,
   "metadata": {
    "deletable": false,
    "nbgrader": {
     "cell_type": "code",
     "checksum": "3dfec453f61e443318a83756c5d376ed",
     "grade": false,
     "grade_id": "cell-721384e1a2152077",
     "locked": false,
     "schema_version": 3,
     "solution": true,
     "task": false
    }
   },
   "outputs": [
    {
     "output_type": "display_data",
     "data": {
      "text/plain": "<Figure size 432x288 with 1 Axes>",
      "image/svg+xml": "<?xml version=\"1.0\" encoding=\"utf-8\" standalone=\"no\"?>\r\n<!DOCTYPE svg PUBLIC \"-//W3C//DTD SVG 1.1//EN\"\r\n  \"http://www.w3.org/Graphics/SVG/1.1/DTD/svg11.dtd\">\r\n<!-- Created with matplotlib (https://matplotlib.org/) -->\r\n<svg height=\"263.63625pt\" version=\"1.1\" viewBox=\"0 0 375.2875 263.63625\" width=\"375.2875pt\" xmlns=\"http://www.w3.org/2000/svg\" xmlns:xlink=\"http://www.w3.org/1999/xlink\">\r\n <metadata>\r\n  <rdf:RDF xmlns:cc=\"http://creativecommons.org/ns#\" xmlns:dc=\"http://purl.org/dc/elements/1.1/\" xmlns:rdf=\"http://www.w3.org/1999/02/22-rdf-syntax-ns#\">\r\n   <cc:Work>\r\n    <dc:type rdf:resource=\"http://purl.org/dc/dcmitype/StillImage\"/>\r\n    <dc:date>2021-04-20T17:46:06.576922</dc:date>\r\n    <dc:format>image/svg+xml</dc:format>\r\n    <dc:creator>\r\n     <cc:Agent>\r\n      <dc:title>Matplotlib v3.3.2, https://matplotlib.org/</dc:title>\r\n     </cc:Agent>\r\n    </dc:creator>\r\n   </cc:Work>\r\n  </rdf:RDF>\r\n </metadata>\r\n <defs>\r\n  <style type=\"text/css\">*{stroke-linecap:butt;stroke-linejoin:round;}</style>\r\n </defs>\r\n <g id=\"figure_1\">\r\n  <g id=\"patch_1\">\r\n   <path d=\"M 0 263.63625 \r\nL 375.2875 263.63625 \r\nL 375.2875 0 \r\nL 0 0 \r\nz\r\n\" style=\"fill:none;\"/>\r\n  </g>\r\n  <g id=\"axes_1\">\r\n   <g id=\"patch_2\">\r\n    <path d=\"M 33.2875 239.758125 \r\nL 368.0875 239.758125 \r\nL 368.0875 22.318125 \r\nL 33.2875 22.318125 \r\nz\r\n\" style=\"fill:#ffffff;\"/>\r\n   </g>\r\n   <g id=\"PathCollection_1\">\r\n    <defs>\r\n     <path d=\"M 0 3 \r\nC 0.795609 3 1.55874 2.683901 2.12132 2.12132 \r\nC 2.683901 1.55874 3 0.795609 3 0 \r\nC 3 -0.795609 2.683901 -1.55874 2.12132 -2.12132 \r\nC 1.55874 -2.683901 0.795609 -3 0 -3 \r\nC -0.795609 -3 -1.55874 -2.683901 -2.12132 -2.12132 \r\nC -2.683901 -1.55874 -3 -0.795609 -3 0 \r\nC -3 0.795609 -2.683901 1.55874 -2.12132 2.12132 \r\nC -1.55874 2.683901 -0.795609 3 0 3 \r\nz\r\n\" id=\"m7b5e4f9d45\" style=\"stroke:#1f77b4;\"/>\r\n    </defs>\r\n    <g clip-path=\"url(#p794da06ee4)\">\r\n     <use style=\"fill:#1f77b4;stroke:#1f77b4;\" x=\"174.660616\" xlink:href=\"#m7b5e4f9d45\" y=\"162.2629\"/>\r\n     <use style=\"fill:#1f77b4;stroke:#1f77b4;\" x=\"231.927603\" xlink:href=\"#m7b5e4f9d45\" y=\"106.127337\"/>\r\n     <use style=\"fill:#1f77b4;stroke:#1f77b4;\" x=\"198.926374\" xlink:href=\"#m7b5e4f9d45\" y=\"139.234228\"/>\r\n     <use style=\"fill:#1f77b4;stroke:#1f77b4;\" x=\"240.560131\" xlink:href=\"#m7b5e4f9d45\" y=\"157.217373\"/>\r\n     <use style=\"fill:#1f77b4;stroke:#1f77b4;\" x=\"99.261858\" xlink:href=\"#m7b5e4f9d45\" y=\"198.333059\"/>\r\n     <use style=\"fill:#1f77b4;stroke:#1f77b4;\" x=\"107.306661\" xlink:href=\"#m7b5e4f9d45\" y=\"182.054731\"/>\r\n     <use style=\"fill:#1f77b4;stroke:#1f77b4;\" x=\"230.80587\" xlink:href=\"#m7b5e4f9d45\" y=\"120.816289\"/>\r\n     <use style=\"fill:#1f77b4;stroke:#1f77b4;\" x=\"48.505682\" xlink:href=\"#m7b5e4f9d45\" y=\"180.39639\"/>\r\n     <use style=\"fill:#1f77b4;stroke:#1f77b4;\" x=\"110.462935\" xlink:href=\"#m7b5e4f9d45\" y=\"175.233908\"/>\r\n     <use style=\"fill:#1f77b4;stroke:#1f77b4;\" x=\"266.431752\" xlink:href=\"#m7b5e4f9d45\" y=\"93.867838\"/>\r\n     <use style=\"fill:#1f77b4;stroke:#1f77b4;\" x=\"156.563433\" xlink:href=\"#m7b5e4f9d45\" y=\"161.672896\"/>\r\n     <use style=\"fill:#1f77b4;stroke:#1f77b4;\" x=\"262.370761\" xlink:href=\"#m7b5e4f9d45\" y=\"119.52959\"/>\r\n     <use style=\"fill:#1f77b4;stroke:#1f77b4;\" x=\"101.088919\" xlink:href=\"#m7b5e4f9d45\" y=\"149.190135\"/>\r\n     <use style=\"fill:#1f77b4;stroke:#1f77b4;\" x=\"285.041067\" xlink:href=\"#m7b5e4f9d45\" y=\"142.179831\"/>\r\n     <use style=\"fill:#1f77b4;stroke:#1f77b4;\" x=\"178.914163\" xlink:href=\"#m7b5e4f9d45\" y=\"153.897249\"/>\r\n     <use style=\"fill:#1f77b4;stroke:#1f77b4;\" x=\"307.565626\" xlink:href=\"#m7b5e4f9d45\" y=\"85.35297\"/>\r\n     <use style=\"fill:#1f77b4;stroke:#1f77b4;\" x=\"186.42677\" xlink:href=\"#m7b5e4f9d45\" y=\"190.878454\"/>\r\n     <use style=\"fill:#1f77b4;stroke:#1f77b4;\" x=\"157.880778\" xlink:href=\"#m7b5e4f9d45\" y=\"122.042909\"/>\r\n     <use style=\"fill:#1f77b4;stroke:#1f77b4;\" x=\"216.830034\" xlink:href=\"#m7b5e4f9d45\" y=\"167.531802\"/>\r\n     <use style=\"fill:#1f77b4;stroke:#1f77b4;\" x=\"352.869318\" xlink:href=\"#m7b5e4f9d45\" y=\"64.813714\"/>\r\n     <use style=\"fill:#1f77b4;stroke:#1f77b4;\" x=\"238.984193\" xlink:href=\"#m7b5e4f9d45\" y=\"145.53414\"/>\r\n     <use style=\"fill:#1f77b4;stroke:#1f77b4;\" x=\"217.172673\" xlink:href=\"#m7b5e4f9d45\" y=\"143.099734\"/>\r\n     <use style=\"fill:#1f77b4;stroke:#1f77b4;\" x=\"216.410419\" xlink:href=\"#m7b5e4f9d45\" y=\"113.390251\"/>\r\n     <use style=\"fill:#1f77b4;stroke:#1f77b4;\" x=\"170.942834\" xlink:href=\"#m7b5e4f9d45\" y=\"168.75813\"/>\r\n     <use style=\"fill:#1f77b4;stroke:#1f77b4;\" x=\"281.971646\" xlink:href=\"#m7b5e4f9d45\" y=\"103.550449\"/>\r\n     <use style=\"fill:#1f77b4;stroke:#1f77b4;\" x=\"208.890062\" xlink:href=\"#m7b5e4f9d45\" y=\"163.858009\"/>\r\n     <use style=\"fill:#1f77b4;stroke:#1f77b4;\" x=\"285.230294\" xlink:href=\"#m7b5e4f9d45\" y=\"80.460237\"/>\r\n     <use style=\"fill:#1f77b4;stroke:#1f77b4;\" x=\"179.271384\" xlink:href=\"#m7b5e4f9d45\" y=\"182.151449\"/>\r\n     <use style=\"fill:#1f77b4;stroke:#1f77b4;\" x=\"124.61764\" xlink:href=\"#m7b5e4f9d45\" y=\"160.670626\"/>\r\n     <use style=\"fill:#1f77b4;stroke:#1f77b4;\" x=\"250.530598\" xlink:href=\"#m7b5e4f9d45\" y=\"124.070757\"/>\r\n     <use style=\"fill:#1f77b4;stroke:#1f77b4;\" x=\"240.766824\" xlink:href=\"#m7b5e4f9d45\" y=\"107.105842\"/>\r\n     <use style=\"fill:#1f77b4;stroke:#1f77b4;\" x=\"156.02945\" xlink:href=\"#m7b5e4f9d45\" y=\"166.962995\"/>\r\n     <use style=\"fill:#1f77b4;stroke:#1f77b4;\" x=\"98.139795\" xlink:href=\"#m7b5e4f9d45\" y=\"229.874489\"/>\r\n     <use style=\"fill:#1f77b4;stroke:#1f77b4;\" x=\"266.431175\" xlink:href=\"#m7b5e4f9d45\" y=\"133.461094\"/>\r\n     <use style=\"fill:#1f77b4;stroke:#1f77b4;\" x=\"193.958695\" xlink:href=\"#m7b5e4f9d45\" y=\"122.157629\"/>\r\n     <use style=\"fill:#1f77b4;stroke:#1f77b4;\" x=\"135.951545\" xlink:href=\"#m7b5e4f9d45\" y=\"119.623434\"/>\r\n     <use style=\"fill:#1f77b4;stroke:#1f77b4;\" x=\"245.209312\" xlink:href=\"#m7b5e4f9d45\" y=\"114.362037\"/>\r\n     <use style=\"fill:#1f77b4;stroke:#1f77b4;\" x=\"185.227875\" xlink:href=\"#m7b5e4f9d45\" y=\"150.515424\"/>\r\n     <use style=\"fill:#1f77b4;stroke:#1f77b4;\" x=\"159.212969\" xlink:href=\"#m7b5e4f9d45\" y=\"185.089184\"/>\r\n     <use style=\"fill:#1f77b4;stroke:#1f77b4;\" x=\"152.642724\" xlink:href=\"#m7b5e4f9d45\" y=\"152.849348\"/>\r\n     <use style=\"fill:#1f77b4;stroke:#1f77b4;\" x=\"185.087864\" xlink:href=\"#m7b5e4f9d45\" y=\"176.503002\"/>\r\n     <use style=\"fill:#1f77b4;stroke:#1f77b4;\" x=\"118.773846\" xlink:href=\"#m7b5e4f9d45\" y=\"207.792368\"/>\r\n     <use style=\"fill:#1f77b4;stroke:#1f77b4;\" x=\"257.182263\" xlink:href=\"#m7b5e4f9d45\" y=\"107.492922\"/>\r\n     <use style=\"fill:#1f77b4;stroke:#1f77b4;\" x=\"300.020992\" xlink:href=\"#m7b5e4f9d45\" y=\"105.16667\"/>\r\n     <use style=\"fill:#1f77b4;stroke:#1f77b4;\" x=\"141.571635\" xlink:href=\"#m7b5e4f9d45\" y=\"199.979034\"/>\r\n     <use style=\"fill:#1f77b4;stroke:#1f77b4;\" x=\"244.742806\" xlink:href=\"#m7b5e4f9d45\" y=\"122.002374\"/>\r\n     <use style=\"fill:#1f77b4;stroke:#1f77b4;\" x=\"165.007321\" xlink:href=\"#m7b5e4f9d45\" y=\"127.697714\"/>\r\n     <use style=\"fill:#1f77b4;stroke:#1f77b4;\" x=\"268.341299\" xlink:href=\"#m7b5e4f9d45\" y=\"76.657319\"/>\r\n     <use style=\"fill:#1f77b4;stroke:#1f77b4;\" x=\"261.199506\" xlink:href=\"#m7b5e4f9d45\" y=\"116.73421\"/>\r\n     <use style=\"fill:#1f77b4;stroke:#1f77b4;\" x=\"135.18194\" xlink:href=\"#m7b5e4f9d45\" y=\"162.394414\"/>\r\n     <use style=\"fill:#1f77b4;stroke:#1f77b4;\" x=\"140.643071\" xlink:href=\"#m7b5e4f9d45\" y=\"172.609038\"/>\r\n     <use style=\"fill:#1f77b4;stroke:#1f77b4;\" x=\"219.665671\" xlink:href=\"#m7b5e4f9d45\" y=\"112.193329\"/>\r\n     <use style=\"fill:#1f77b4;stroke:#1f77b4;\" x=\"314.913131\" xlink:href=\"#m7b5e4f9d45\" y=\"89.11432\"/>\r\n     <use style=\"fill:#1f77b4;stroke:#1f77b4;\" x=\"216.184458\" xlink:href=\"#m7b5e4f9d45\" y=\"108.098244\"/>\r\n     <use style=\"fill:#1f77b4;stroke:#1f77b4;\" x=\"203.464604\" xlink:href=\"#m7b5e4f9d45\" y=\"151.341719\"/>\r\n     <use style=\"fill:#1f77b4;stroke:#1f77b4;\" x=\"119.516042\" xlink:href=\"#m7b5e4f9d45\" y=\"182.063284\"/>\r\n     <use style=\"fill:#1f77b4;stroke:#1f77b4;\" x=\"324.893168\" xlink:href=\"#m7b5e4f9d45\" y=\"111.177499\"/>\r\n     <use style=\"fill:#1f77b4;stroke:#1f77b4;\" x=\"339.22732\" xlink:href=\"#m7b5e4f9d45\" y=\"79.23184\"/>\r\n     <use style=\"fill:#1f77b4;stroke:#1f77b4;\" x=\"193.585854\" xlink:href=\"#m7b5e4f9d45\" y=\"137.64023\"/>\r\n     <use style=\"fill:#1f77b4;stroke:#1f77b4;\" x=\"127.94325\" xlink:href=\"#m7b5e4f9d45\" y=\"176.35288\"/>\r\n     <use style=\"fill:#1f77b4;stroke:#1f77b4;\" x=\"278.993908\" xlink:href=\"#m7b5e4f9d45\" y=\"131.910745\"/>\r\n     <use style=\"fill:#1f77b4;stroke:#1f77b4;\" x=\"102.121143\" xlink:href=\"#m7b5e4f9d45\" y=\"186.618423\"/>\r\n     <use style=\"fill:#1f77b4;stroke:#1f77b4;\" x=\"262.153252\" xlink:href=\"#m7b5e4f9d45\" y=\"112.851573\"/>\r\n     <use style=\"fill:#1f77b4;stroke:#1f77b4;\" x=\"149.73059\" xlink:href=\"#m7b5e4f9d45\" y=\"178.963832\"/>\r\n     <use style=\"fill:#1f77b4;stroke:#1f77b4;\" x=\"132.961803\" xlink:href=\"#m7b5e4f9d45\" y=\"163.660882\"/>\r\n     <use style=\"fill:#1f77b4;stroke:#1f77b4;\" x=\"145.631371\" xlink:href=\"#m7b5e4f9d45\" y=\"199.944073\"/>\r\n     <use style=\"fill:#1f77b4;stroke:#1f77b4;\" x=\"210.559365\" xlink:href=\"#m7b5e4f9d45\" y=\"109.211486\"/>\r\n     <use style=\"fill:#1f77b4;stroke:#1f77b4;\" x=\"176.635766\" xlink:href=\"#m7b5e4f9d45\" y=\"160.933739\"/>\r\n     <use style=\"fill:#1f77b4;stroke:#1f77b4;\" x=\"176.956787\" xlink:href=\"#m7b5e4f9d45\" y=\"134.363333\"/>\r\n     <use style=\"fill:#1f77b4;stroke:#1f77b4;\" x=\"91.986043\" xlink:href=\"#m7b5e4f9d45\" y=\"187.362205\"/>\r\n     <use style=\"fill:#1f77b4;stroke:#1f77b4;\" x=\"217.821866\" xlink:href=\"#m7b5e4f9d45\" y=\"143.866682\"/>\r\n     <use style=\"fill:#1f77b4;stroke:#1f77b4;\" x=\"295.992605\" xlink:href=\"#m7b5e4f9d45\" y=\"125.07872\"/>\r\n     <use style=\"fill:#1f77b4;stroke:#1f77b4;\" x=\"319.684888\" xlink:href=\"#m7b5e4f9d45\" y=\"32.201761\"/>\r\n     <use style=\"fill:#1f77b4;stroke:#1f77b4;\" x=\"276.832684\" xlink:href=\"#m7b5e4f9d45\" y=\"125.38427\"/>\r\n     <use style=\"fill:#1f77b4;stroke:#1f77b4;\" x=\"233.082444\" xlink:href=\"#m7b5e4f9d45\" y=\"139.793346\"/>\r\n     <use style=\"fill:#1f77b4;stroke:#1f77b4;\" x=\"210.800862\" xlink:href=\"#m7b5e4f9d45\" y=\"137.948325\"/>\r\n     <use style=\"fill:#1f77b4;stroke:#1f77b4;\" x=\"265.472698\" xlink:href=\"#m7b5e4f9d45\" y=\"84.653776\"/>\r\n     <use style=\"fill:#1f77b4;stroke:#1f77b4;\" x=\"105.829127\" xlink:href=\"#m7b5e4f9d45\" y=\"142.981252\"/>\r\n     <use style=\"fill:#1f77b4;stroke:#1f77b4;\" x=\"239.982235\" xlink:href=\"#m7b5e4f9d45\" y=\"101.813326\"/>\r\n     <use style=\"fill:#1f77b4;stroke:#1f77b4;\" x=\"303.405271\" xlink:href=\"#m7b5e4f9d45\" y=\"39.816762\"/>\r\n    </g>\r\n   </g>\r\n   <g id=\"matplotlib.axis_1\">\r\n    <g id=\"xtick_1\">\r\n     <g id=\"line2d_1\">\r\n      <path clip-path=\"url(#p794da06ee4)\" d=\"M 81.296286 239.758125 \r\nL 81.296286 22.318125 \r\n\" style=\"fill:none;stroke:#b0b0b0;stroke-linecap:square;stroke-width:0.8;\"/>\r\n     </g>\r\n     <g id=\"line2d_2\">\r\n      <defs>\r\n       <path d=\"M 0 0 \r\nL 0 3.5 \r\n\" id=\"mec1716ebcb\" style=\"stroke:#000000;stroke-width:0.8;\"/>\r\n      </defs>\r\n      <g>\r\n       <use style=\"stroke:#000000;stroke-width:0.8;\" x=\"81.296286\" xlink:href=\"#mec1716ebcb\" y=\"239.758125\"/>\r\n      </g>\r\n     </g>\r\n     <g id=\"text_1\">\r\n      <!-- 30 -->\r\n      <g transform=\"translate(74.933786 254.356563)scale(0.1 -0.1)\">\r\n       <defs>\r\n        <path d=\"M 40.578125 39.3125 \r\nQ 47.65625 37.796875 51.625 33 \r\nQ 55.609375 28.21875 55.609375 21.1875 \r\nQ 55.609375 10.40625 48.1875 4.484375 \r\nQ 40.765625 -1.421875 27.09375 -1.421875 \r\nQ 22.515625 -1.421875 17.65625 -0.515625 \r\nQ 12.796875 0.390625 7.625 2.203125 \r\nL 7.625 11.71875 \r\nQ 11.71875 9.328125 16.59375 8.109375 \r\nQ 21.484375 6.890625 26.8125 6.890625 \r\nQ 36.078125 6.890625 40.9375 10.546875 \r\nQ 45.796875 14.203125 45.796875 21.1875 \r\nQ 45.796875 27.640625 41.28125 31.265625 \r\nQ 36.765625 34.90625 28.71875 34.90625 \r\nL 20.21875 34.90625 \r\nL 20.21875 43.015625 \r\nL 29.109375 43.015625 \r\nQ 36.375 43.015625 40.234375 45.921875 \r\nQ 44.09375 48.828125 44.09375 54.296875 \r\nQ 44.09375 59.90625 40.109375 62.90625 \r\nQ 36.140625 65.921875 28.71875 65.921875 \r\nQ 24.65625 65.921875 20.015625 65.03125 \r\nQ 15.375 64.15625 9.8125 62.3125 \r\nL 9.8125 71.09375 \r\nQ 15.4375 72.65625 20.34375 73.4375 \r\nQ 25.25 74.21875 29.59375 74.21875 \r\nQ 40.828125 74.21875 47.359375 69.109375 \r\nQ 53.90625 64.015625 53.90625 55.328125 \r\nQ 53.90625 49.265625 50.4375 45.09375 \r\nQ 46.96875 40.921875 40.578125 39.3125 \r\nz\r\n\" id=\"DejaVuSans-51\"/>\r\n        <path d=\"M 31.78125 66.40625 \r\nQ 24.171875 66.40625 20.328125 58.90625 \r\nQ 16.5 51.421875 16.5 36.375 \r\nQ 16.5 21.390625 20.328125 13.890625 \r\nQ 24.171875 6.390625 31.78125 6.390625 \r\nQ 39.453125 6.390625 43.28125 13.890625 \r\nQ 47.125 21.390625 47.125 36.375 \r\nQ 47.125 51.421875 43.28125 58.90625 \r\nQ 39.453125 66.40625 31.78125 66.40625 \r\nz\r\nM 31.78125 74.21875 \r\nQ 44.046875 74.21875 50.515625 64.515625 \r\nQ 56.984375 54.828125 56.984375 36.375 \r\nQ 56.984375 17.96875 50.515625 8.265625 \r\nQ 44.046875 -1.421875 31.78125 -1.421875 \r\nQ 19.53125 -1.421875 13.0625 8.265625 \r\nQ 6.59375 17.96875 6.59375 36.375 \r\nQ 6.59375 54.828125 13.0625 64.515625 \r\nQ 19.53125 74.21875 31.78125 74.21875 \r\nz\r\n\" id=\"DejaVuSans-48\"/>\r\n       </defs>\r\n       <use xlink:href=\"#DejaVuSans-51\"/>\r\n       <use x=\"63.623047\" xlink:href=\"#DejaVuSans-48\"/>\r\n      </g>\r\n     </g>\r\n    </g>\r\n    <g id=\"xtick_2\">\r\n     <g id=\"line2d_3\">\r\n      <path clip-path=\"url(#p794da06ee4)\" d=\"M 148.607178 239.758125 \r\nL 148.607178 22.318125 \r\n\" style=\"fill:none;stroke:#b0b0b0;stroke-linecap:square;stroke-width:0.8;\"/>\r\n     </g>\r\n     <g id=\"line2d_4\">\r\n      <g>\r\n       <use style=\"stroke:#000000;stroke-width:0.8;\" x=\"148.607178\" xlink:href=\"#mec1716ebcb\" y=\"239.758125\"/>\r\n      </g>\r\n     </g>\r\n     <g id=\"text_2\">\r\n      <!-- 40 -->\r\n      <g transform=\"translate(142.244678 254.356563)scale(0.1 -0.1)\">\r\n       <defs>\r\n        <path d=\"M 37.796875 64.3125 \r\nL 12.890625 25.390625 \r\nL 37.796875 25.390625 \r\nz\r\nM 35.203125 72.90625 \r\nL 47.609375 72.90625 \r\nL 47.609375 25.390625 \r\nL 58.015625 25.390625 \r\nL 58.015625 17.1875 \r\nL 47.609375 17.1875 \r\nL 47.609375 0 \r\nL 37.796875 0 \r\nL 37.796875 17.1875 \r\nL 4.890625 17.1875 \r\nL 4.890625 26.703125 \r\nz\r\n\" id=\"DejaVuSans-52\"/>\r\n       </defs>\r\n       <use xlink:href=\"#DejaVuSans-52\"/>\r\n       <use x=\"63.623047\" xlink:href=\"#DejaVuSans-48\"/>\r\n      </g>\r\n     </g>\r\n    </g>\r\n    <g id=\"xtick_3\">\r\n     <g id=\"line2d_5\">\r\n      <path clip-path=\"url(#p794da06ee4)\" d=\"M 215.918069 239.758125 \r\nL 215.918069 22.318125 \r\n\" style=\"fill:none;stroke:#b0b0b0;stroke-linecap:square;stroke-width:0.8;\"/>\r\n     </g>\r\n     <g id=\"line2d_6\">\r\n      <g>\r\n       <use style=\"stroke:#000000;stroke-width:0.8;\" x=\"215.918069\" xlink:href=\"#mec1716ebcb\" y=\"239.758125\"/>\r\n      </g>\r\n     </g>\r\n     <g id=\"text_3\">\r\n      <!-- 50 -->\r\n      <g transform=\"translate(209.555569 254.356563)scale(0.1 -0.1)\">\r\n       <defs>\r\n        <path d=\"M 10.796875 72.90625 \r\nL 49.515625 72.90625 \r\nL 49.515625 64.59375 \r\nL 19.828125 64.59375 \r\nL 19.828125 46.734375 \r\nQ 21.96875 47.46875 24.109375 47.828125 \r\nQ 26.265625 48.1875 28.421875 48.1875 \r\nQ 40.625 48.1875 47.75 41.5 \r\nQ 54.890625 34.8125 54.890625 23.390625 \r\nQ 54.890625 11.625 47.5625 5.09375 \r\nQ 40.234375 -1.421875 26.90625 -1.421875 \r\nQ 22.3125 -1.421875 17.546875 -0.640625 \r\nQ 12.796875 0.140625 7.71875 1.703125 \r\nL 7.71875 11.625 \r\nQ 12.109375 9.234375 16.796875 8.0625 \r\nQ 21.484375 6.890625 26.703125 6.890625 \r\nQ 35.15625 6.890625 40.078125 11.328125 \r\nQ 45.015625 15.765625 45.015625 23.390625 \r\nQ 45.015625 31 40.078125 35.4375 \r\nQ 35.15625 39.890625 26.703125 39.890625 \r\nQ 22.75 39.890625 18.8125 39.015625 \r\nQ 14.890625 38.140625 10.796875 36.28125 \r\nz\r\n\" id=\"DejaVuSans-53\"/>\r\n       </defs>\r\n       <use xlink:href=\"#DejaVuSans-53\"/>\r\n       <use x=\"63.623047\" xlink:href=\"#DejaVuSans-48\"/>\r\n      </g>\r\n     </g>\r\n    </g>\r\n    <g id=\"xtick_4\">\r\n     <g id=\"line2d_7\">\r\n      <path clip-path=\"url(#p794da06ee4)\" d=\"M 283.228961 239.758125 \r\nL 283.228961 22.318125 \r\n\" style=\"fill:none;stroke:#b0b0b0;stroke-linecap:square;stroke-width:0.8;\"/>\r\n     </g>\r\n     <g id=\"line2d_8\">\r\n      <g>\r\n       <use style=\"stroke:#000000;stroke-width:0.8;\" x=\"283.228961\" xlink:href=\"#mec1716ebcb\" y=\"239.758125\"/>\r\n      </g>\r\n     </g>\r\n     <g id=\"text_4\">\r\n      <!-- 60 -->\r\n      <g transform=\"translate(276.866461 254.356563)scale(0.1 -0.1)\">\r\n       <defs>\r\n        <path d=\"M 33.015625 40.375 \r\nQ 26.375 40.375 22.484375 35.828125 \r\nQ 18.609375 31.296875 18.609375 23.390625 \r\nQ 18.609375 15.53125 22.484375 10.953125 \r\nQ 26.375 6.390625 33.015625 6.390625 \r\nQ 39.65625 6.390625 43.53125 10.953125 \r\nQ 47.40625 15.53125 47.40625 23.390625 \r\nQ 47.40625 31.296875 43.53125 35.828125 \r\nQ 39.65625 40.375 33.015625 40.375 \r\nz\r\nM 52.59375 71.296875 \r\nL 52.59375 62.3125 \r\nQ 48.875 64.0625 45.09375 64.984375 \r\nQ 41.3125 65.921875 37.59375 65.921875 \r\nQ 27.828125 65.921875 22.671875 59.328125 \r\nQ 17.53125 52.734375 16.796875 39.40625 \r\nQ 19.671875 43.65625 24.015625 45.921875 \r\nQ 28.375 48.1875 33.59375 48.1875 \r\nQ 44.578125 48.1875 50.953125 41.515625 \r\nQ 57.328125 34.859375 57.328125 23.390625 \r\nQ 57.328125 12.15625 50.6875 5.359375 \r\nQ 44.046875 -1.421875 33.015625 -1.421875 \r\nQ 20.359375 -1.421875 13.671875 8.265625 \r\nQ 6.984375 17.96875 6.984375 36.375 \r\nQ 6.984375 53.65625 15.1875 63.9375 \r\nQ 23.390625 74.21875 37.203125 74.21875 \r\nQ 40.921875 74.21875 44.703125 73.484375 \r\nQ 48.484375 72.75 52.59375 71.296875 \r\nz\r\n\" id=\"DejaVuSans-54\"/>\r\n       </defs>\r\n       <use xlink:href=\"#DejaVuSans-54\"/>\r\n       <use x=\"63.623047\" xlink:href=\"#DejaVuSans-48\"/>\r\n      </g>\r\n     </g>\r\n    </g>\r\n    <g id=\"xtick_5\">\r\n     <g id=\"line2d_9\">\r\n      <path clip-path=\"url(#p794da06ee4)\" d=\"M 350.539852 239.758125 \r\nL 350.539852 22.318125 \r\n\" style=\"fill:none;stroke:#b0b0b0;stroke-linecap:square;stroke-width:0.8;\"/>\r\n     </g>\r\n     <g id=\"line2d_10\">\r\n      <g>\r\n       <use style=\"stroke:#000000;stroke-width:0.8;\" x=\"350.539852\" xlink:href=\"#mec1716ebcb\" y=\"239.758125\"/>\r\n      </g>\r\n     </g>\r\n     <g id=\"text_5\">\r\n      <!-- 70 -->\r\n      <g transform=\"translate(344.177352 254.356563)scale(0.1 -0.1)\">\r\n       <defs>\r\n        <path d=\"M 8.203125 72.90625 \r\nL 55.078125 72.90625 \r\nL 55.078125 68.703125 \r\nL 28.609375 0 \r\nL 18.3125 0 \r\nL 43.21875 64.59375 \r\nL 8.203125 64.59375 \r\nz\r\n\" id=\"DejaVuSans-55\"/>\r\n       </defs>\r\n       <use xlink:href=\"#DejaVuSans-55\"/>\r\n       <use x=\"63.623047\" xlink:href=\"#DejaVuSans-48\"/>\r\n      </g>\r\n     </g>\r\n    </g>\r\n   </g>\r\n   <g id=\"matplotlib.axis_2\">\r\n    <g id=\"ytick_1\">\r\n     <g id=\"line2d_11\">\r\n      <path clip-path=\"url(#p794da06ee4)\" d=\"M 33.2875 211.006863 \r\nL 368.0875 211.006863 \r\n\" style=\"fill:none;stroke:#b0b0b0;stroke-linecap:square;stroke-width:0.8;\"/>\r\n     </g>\r\n     <g id=\"line2d_12\">\r\n      <defs>\r\n       <path d=\"M 0 0 \r\nL -3.5 0 \r\n\" id=\"mf2cd11c761\" style=\"stroke:#000000;stroke-width:0.8;\"/>\r\n      </defs>\r\n      <g>\r\n       <use style=\"stroke:#000000;stroke-width:0.8;\" x=\"33.2875\" xlink:href=\"#mf2cd11c761\" y=\"211.006863\"/>\r\n      </g>\r\n     </g>\r\n     <g id=\"text_6\">\r\n      <!-- 40 -->\r\n      <g transform=\"translate(13.5625 214.806082)scale(0.1 -0.1)\">\r\n       <use xlink:href=\"#DejaVuSans-52\"/>\r\n       <use x=\"63.623047\" xlink:href=\"#DejaVuSans-48\"/>\r\n      </g>\r\n     </g>\r\n    </g>\r\n    <g id=\"ytick_2\">\r\n     <g id=\"line2d_13\">\r\n      <path clip-path=\"url(#p794da06ee4)\" d=\"M 33.2875 165.504297 \r\nL 368.0875 165.504297 \r\n\" style=\"fill:none;stroke:#b0b0b0;stroke-linecap:square;stroke-width:0.8;\"/>\r\n     </g>\r\n     <g id=\"line2d_14\">\r\n      <g>\r\n       <use style=\"stroke:#000000;stroke-width:0.8;\" x=\"33.2875\" xlink:href=\"#mf2cd11c761\" y=\"165.504297\"/>\r\n      </g>\r\n     </g>\r\n     <g id=\"text_7\">\r\n      <!-- 60 -->\r\n      <g transform=\"translate(13.5625 169.303516)scale(0.1 -0.1)\">\r\n       <use xlink:href=\"#DejaVuSans-54\"/>\r\n       <use x=\"63.623047\" xlink:href=\"#DejaVuSans-48\"/>\r\n      </g>\r\n     </g>\r\n    </g>\r\n    <g id=\"ytick_3\">\r\n     <g id=\"line2d_15\">\r\n      <path clip-path=\"url(#p794da06ee4)\" d=\"M 33.2875 120.001732 \r\nL 368.0875 120.001732 \r\n\" style=\"fill:none;stroke:#b0b0b0;stroke-linecap:square;stroke-width:0.8;\"/>\r\n     </g>\r\n     <g id=\"line2d_16\">\r\n      <g>\r\n       <use style=\"stroke:#000000;stroke-width:0.8;\" x=\"33.2875\" xlink:href=\"#mf2cd11c761\" y=\"120.001732\"/>\r\n      </g>\r\n     </g>\r\n     <g id=\"text_8\">\r\n      <!-- 80 -->\r\n      <g transform=\"translate(13.5625 123.80095)scale(0.1 -0.1)\">\r\n       <defs>\r\n        <path d=\"M 31.78125 34.625 \r\nQ 24.75 34.625 20.71875 30.859375 \r\nQ 16.703125 27.09375 16.703125 20.515625 \r\nQ 16.703125 13.921875 20.71875 10.15625 \r\nQ 24.75 6.390625 31.78125 6.390625 \r\nQ 38.8125 6.390625 42.859375 10.171875 \r\nQ 46.921875 13.96875 46.921875 20.515625 \r\nQ 46.921875 27.09375 42.890625 30.859375 \r\nQ 38.875 34.625 31.78125 34.625 \r\nz\r\nM 21.921875 38.8125 \r\nQ 15.578125 40.375 12.03125 44.71875 \r\nQ 8.5 49.078125 8.5 55.328125 \r\nQ 8.5 64.0625 14.71875 69.140625 \r\nQ 20.953125 74.21875 31.78125 74.21875 \r\nQ 42.671875 74.21875 48.875 69.140625 \r\nQ 55.078125 64.0625 55.078125 55.328125 \r\nQ 55.078125 49.078125 51.53125 44.71875 \r\nQ 48 40.375 41.703125 38.8125 \r\nQ 48.828125 37.15625 52.796875 32.3125 \r\nQ 56.78125 27.484375 56.78125 20.515625 \r\nQ 56.78125 9.90625 50.3125 4.234375 \r\nQ 43.84375 -1.421875 31.78125 -1.421875 \r\nQ 19.734375 -1.421875 13.25 4.234375 \r\nQ 6.78125 9.90625 6.78125 20.515625 \r\nQ 6.78125 27.484375 10.78125 32.3125 \r\nQ 14.796875 37.15625 21.921875 38.8125 \r\nz\r\nM 18.3125 54.390625 \r\nQ 18.3125 48.734375 21.84375 45.5625 \r\nQ 25.390625 42.390625 31.78125 42.390625 \r\nQ 38.140625 42.390625 41.71875 45.5625 \r\nQ 45.3125 48.734375 45.3125 54.390625 \r\nQ 45.3125 60.0625 41.71875 63.234375 \r\nQ 38.140625 66.40625 31.78125 66.40625 \r\nQ 25.390625 66.40625 21.84375 63.234375 \r\nQ 18.3125 60.0625 18.3125 54.390625 \r\nz\r\n\" id=\"DejaVuSans-56\"/>\r\n       </defs>\r\n       <use xlink:href=\"#DejaVuSans-56\"/>\r\n       <use x=\"63.623047\" xlink:href=\"#DejaVuSans-48\"/>\r\n      </g>\r\n     </g>\r\n    </g>\r\n    <g id=\"ytick_4\">\r\n     <g id=\"line2d_17\">\r\n      <path clip-path=\"url(#p794da06ee4)\" d=\"M 33.2875 74.499166 \r\nL 368.0875 74.499166 \r\n\" style=\"fill:none;stroke:#b0b0b0;stroke-linecap:square;stroke-width:0.8;\"/>\r\n     </g>\r\n     <g id=\"line2d_18\">\r\n      <g>\r\n       <use style=\"stroke:#000000;stroke-width:0.8;\" x=\"33.2875\" xlink:href=\"#mf2cd11c761\" y=\"74.499166\"/>\r\n      </g>\r\n     </g>\r\n     <g id=\"text_9\">\r\n      <!-- 100 -->\r\n      <g transform=\"translate(7.2 78.298385)scale(0.1 -0.1)\">\r\n       <defs>\r\n        <path d=\"M 12.40625 8.296875 \r\nL 28.515625 8.296875 \r\nL 28.515625 63.921875 \r\nL 10.984375 60.40625 \r\nL 10.984375 69.390625 \r\nL 28.421875 72.90625 \r\nL 38.28125 72.90625 \r\nL 38.28125 8.296875 \r\nL 54.390625 8.296875 \r\nL 54.390625 0 \r\nL 12.40625 0 \r\nz\r\n\" id=\"DejaVuSans-49\"/>\r\n       </defs>\r\n       <use xlink:href=\"#DejaVuSans-49\"/>\r\n       <use x=\"63.623047\" xlink:href=\"#DejaVuSans-48\"/>\r\n       <use x=\"127.246094\" xlink:href=\"#DejaVuSans-48\"/>\r\n      </g>\r\n     </g>\r\n    </g>\r\n    <g id=\"ytick_5\">\r\n     <g id=\"line2d_19\">\r\n      <path clip-path=\"url(#p794da06ee4)\" d=\"M 33.2875 28.9966 \r\nL 368.0875 28.9966 \r\n\" style=\"fill:none;stroke:#b0b0b0;stroke-linecap:square;stroke-width:0.8;\"/>\r\n     </g>\r\n     <g id=\"line2d_20\">\r\n      <g>\r\n       <use style=\"stroke:#000000;stroke-width:0.8;\" x=\"33.2875\" xlink:href=\"#mf2cd11c761\" y=\"28.9966\"/>\r\n      </g>\r\n     </g>\r\n     <g id=\"text_10\">\r\n      <!-- 120 -->\r\n      <g transform=\"translate(7.2 32.795819)scale(0.1 -0.1)\">\r\n       <defs>\r\n        <path d=\"M 19.1875 8.296875 \r\nL 53.609375 8.296875 \r\nL 53.609375 0 \r\nL 7.328125 0 \r\nL 7.328125 8.296875 \r\nQ 12.9375 14.109375 22.625 23.890625 \r\nQ 32.328125 33.6875 34.8125 36.53125 \r\nQ 39.546875 41.84375 41.421875 45.53125 \r\nQ 43.3125 49.21875 43.3125 52.78125 \r\nQ 43.3125 58.59375 39.234375 62.25 \r\nQ 35.15625 65.921875 28.609375 65.921875 \r\nQ 23.96875 65.921875 18.8125 64.3125 \r\nQ 13.671875 62.703125 7.8125 59.421875 \r\nL 7.8125 69.390625 \r\nQ 13.765625 71.78125 18.9375 73 \r\nQ 24.125 74.21875 28.421875 74.21875 \r\nQ 39.75 74.21875 46.484375 68.546875 \r\nQ 53.21875 62.890625 53.21875 53.421875 \r\nQ 53.21875 48.921875 51.53125 44.890625 \r\nQ 49.859375 40.875 45.40625 35.40625 \r\nQ 44.1875 33.984375 37.640625 27.21875 \r\nQ 31.109375 20.453125 19.1875 8.296875 \r\nz\r\n\" id=\"DejaVuSans-50\"/>\r\n       </defs>\r\n       <use xlink:href=\"#DejaVuSans-49\"/>\r\n       <use x=\"63.623047\" xlink:href=\"#DejaVuSans-50\"/>\r\n       <use x=\"127.246094\" xlink:href=\"#DejaVuSans-48\"/>\r\n      </g>\r\n     </g>\r\n    </g>\r\n   </g>\r\n   <g id=\"line2d_21\">\r\n    <path clip-path=\"url(#p794da06ee4)\" d=\"M 174.660616 152.541878 \r\nL 231.927603 126.505724 \r\nL 198.926374 141.50957 \r\nL 240.560131 122.580987 \r\nL 99.261858 186.821553 \r\nL 107.306661 183.164023 \r\nL 230.80587 127.015714 \r\nL 48.505682 209.897599 \r\nL 110.462935 181.729039 \r\nL 266.431752 110.818582 \r\nL 156.563433 160.769673 \r\nL 262.370761 112.664891 \r\nL 101.088919 185.990889 \r\nL 285.041067 102.357948 \r\nL 178.914163 150.608024 \r\nL 307.565626 92.117268 \r\nL 186.42677 147.192454 \r\nL 157.880778 160.170749 \r\nL 216.830034 133.369759 \r\nL 352.869318 71.520167 \r\nL 238.984193 123.29748 \r\nL 217.172673 133.21398 \r\nL 216.410419 133.560535 \r\nL 170.942834 154.232149 \r\nL 281.971646 103.753445 \r\nL 208.890062 136.979628 \r\nL 285.230294 102.271917 \r\nL 179.271384 150.445615 \r\nL 124.61764 175.293671 \r\nL 250.530598 118.047963 \r\nL 240.766824 122.487015 \r\nL 156.02945 161.012446 \r\nL 98.139795 187.331694 \r\nL 266.431175 110.818844 \r\nL 193.958695 143.768101 \r\nL 135.951545 170.140767 \r\nL 245.209312 120.46726 \r\nL 185.227875 147.737526 \r\nL 159.212969 159.565075 \r\nL 152.642724 162.552205 \r\nL 185.087864 147.801181 \r\nL 118.773846 177.950523 \r\nL 257.182263 115.023816 \r\nL 300.020992 95.547399 \r\nL 141.571635 167.585621 \r\nL 244.742806 120.679355 \r\nL 165.007321 156.930701 \r\nL 268.341299 109.950415 \r\nL 261.199506 113.197396 \r\nL 135.18194 170.490664 \r\nL 140.643071 168.007788 \r\nL 219.665671 132.080551 \r\nL 314.913131 88.776761 \r\nL 216.184458 133.663267 \r\nL 203.464604 139.446286 \r\nL 119.516042 177.613088 \r\nL 324.893168 84.239386 \r\nL 339.22732 77.722434 \r\nL 193.585854 143.937611 \r\nL 127.94325 173.781699 \r\nL 278.993908 105.107259 \r\nL 102.121143 185.521593 \r\nL 262.153252 112.763781 \r\nL 149.73059 163.876192 \r\nL 132.961803 171.500039 \r\nL 145.631371 165.739882 \r\nL 210.559365 136.220688 \r\nL 176.635766 151.643886 \r\nL 176.956787 151.497935 \r\nL 91.986043 190.129467 \r\nL 217.821866 132.918828 \r\nL 295.992605 97.378885 \r\nL 319.684888 86.607305 \r\nL 276.832684 106.089849 \r\nL 233.082444 125.980681 \r\nL 210.800862 136.110893 \r\nL 265.472698 111.254611 \r\nL 105.829127 183.835777 \r\nL 239.982235 122.843725 \r\nL 303.405271 94.008753 \r\n\" style=\"fill:none;stroke:#ff0000;stroke-linecap:square;stroke-width:1.5;\"/>\r\n   </g>\r\n   <g id=\"patch_3\">\r\n    <path d=\"M 33.2875 239.758125 \r\nL 33.2875 22.318125 \r\n\" style=\"fill:none;stroke:#000000;stroke-linecap:square;stroke-linejoin:miter;stroke-width:0.8;\"/>\r\n   </g>\r\n   <g id=\"patch_4\">\r\n    <path d=\"M 368.0875 239.758125 \r\nL 368.0875 22.318125 \r\n\" style=\"fill:none;stroke:#000000;stroke-linecap:square;stroke-linejoin:miter;stroke-width:0.8;\"/>\r\n   </g>\r\n   <g id=\"patch_5\">\r\n    <path d=\"M 33.2875 239.758125 \r\nL 368.0875 239.758125 \r\n\" style=\"fill:none;stroke:#000000;stroke-linecap:square;stroke-linejoin:miter;stroke-width:0.8;\"/>\r\n   </g>\r\n   <g id=\"patch_6\">\r\n    <path d=\"M 33.2875 22.318125 \r\nL 368.0875 22.318125 \r\n\" style=\"fill:none;stroke:#000000;stroke-linecap:square;stroke-linejoin:miter;stroke-width:0.8;\"/>\r\n   </g>\r\n   <g id=\"text_11\">\r\n    <!-- Linear Regression -->\r\n    <g transform=\"translate(147.3175 16.318125)scale(0.12 -0.12)\">\r\n     <defs>\r\n      <path d=\"M 9.8125 72.90625 \r\nL 19.671875 72.90625 \r\nL 19.671875 8.296875 \r\nL 55.171875 8.296875 \r\nL 55.171875 0 \r\nL 9.8125 0 \r\nz\r\n\" id=\"DejaVuSans-76\"/>\r\n      <path d=\"M 9.421875 54.6875 \r\nL 18.40625 54.6875 \r\nL 18.40625 0 \r\nL 9.421875 0 \r\nz\r\nM 9.421875 75.984375 \r\nL 18.40625 75.984375 \r\nL 18.40625 64.59375 \r\nL 9.421875 64.59375 \r\nz\r\n\" id=\"DejaVuSans-105\"/>\r\n      <path d=\"M 54.890625 33.015625 \r\nL 54.890625 0 \r\nL 45.90625 0 \r\nL 45.90625 32.71875 \r\nQ 45.90625 40.484375 42.875 44.328125 \r\nQ 39.84375 48.1875 33.796875 48.1875 \r\nQ 26.515625 48.1875 22.3125 43.546875 \r\nQ 18.109375 38.921875 18.109375 30.90625 \r\nL 18.109375 0 \r\nL 9.078125 0 \r\nL 9.078125 54.6875 \r\nL 18.109375 54.6875 \r\nL 18.109375 46.1875 \r\nQ 21.34375 51.125 25.703125 53.5625 \r\nQ 30.078125 56 35.796875 56 \r\nQ 45.21875 56 50.046875 50.171875 \r\nQ 54.890625 44.34375 54.890625 33.015625 \r\nz\r\n\" id=\"DejaVuSans-110\"/>\r\n      <path d=\"M 56.203125 29.59375 \r\nL 56.203125 25.203125 \r\nL 14.890625 25.203125 \r\nQ 15.484375 15.921875 20.484375 11.0625 \r\nQ 25.484375 6.203125 34.421875 6.203125 \r\nQ 39.59375 6.203125 44.453125 7.46875 \r\nQ 49.3125 8.734375 54.109375 11.28125 \r\nL 54.109375 2.78125 \r\nQ 49.265625 0.734375 44.1875 -0.34375 \r\nQ 39.109375 -1.421875 33.890625 -1.421875 \r\nQ 20.796875 -1.421875 13.15625 6.1875 \r\nQ 5.515625 13.8125 5.515625 26.8125 \r\nQ 5.515625 40.234375 12.765625 48.109375 \r\nQ 20.015625 56 32.328125 56 \r\nQ 43.359375 56 49.78125 48.890625 \r\nQ 56.203125 41.796875 56.203125 29.59375 \r\nz\r\nM 47.21875 32.234375 \r\nQ 47.125 39.59375 43.09375 43.984375 \r\nQ 39.0625 48.390625 32.421875 48.390625 \r\nQ 24.90625 48.390625 20.390625 44.140625 \r\nQ 15.875 39.890625 15.1875 32.171875 \r\nz\r\n\" id=\"DejaVuSans-101\"/>\r\n      <path d=\"M 34.28125 27.484375 \r\nQ 23.390625 27.484375 19.1875 25 \r\nQ 14.984375 22.515625 14.984375 16.5 \r\nQ 14.984375 11.71875 18.140625 8.90625 \r\nQ 21.296875 6.109375 26.703125 6.109375 \r\nQ 34.1875 6.109375 38.703125 11.40625 \r\nQ 43.21875 16.703125 43.21875 25.484375 \r\nL 43.21875 27.484375 \r\nz\r\nM 52.203125 31.203125 \r\nL 52.203125 0 \r\nL 43.21875 0 \r\nL 43.21875 8.296875 \r\nQ 40.140625 3.328125 35.546875 0.953125 \r\nQ 30.953125 -1.421875 24.3125 -1.421875 \r\nQ 15.921875 -1.421875 10.953125 3.296875 \r\nQ 6 8.015625 6 15.921875 \r\nQ 6 25.140625 12.171875 29.828125 \r\nQ 18.359375 34.515625 30.609375 34.515625 \r\nL 43.21875 34.515625 \r\nL 43.21875 35.40625 \r\nQ 43.21875 41.609375 39.140625 45 \r\nQ 35.0625 48.390625 27.6875 48.390625 \r\nQ 23 48.390625 18.546875 47.265625 \r\nQ 14.109375 46.140625 10.015625 43.890625 \r\nL 10.015625 52.203125 \r\nQ 14.9375 54.109375 19.578125 55.046875 \r\nQ 24.21875 56 28.609375 56 \r\nQ 40.484375 56 46.34375 49.84375 \r\nQ 52.203125 43.703125 52.203125 31.203125 \r\nz\r\n\" id=\"DejaVuSans-97\"/>\r\n      <path d=\"M 41.109375 46.296875 \r\nQ 39.59375 47.171875 37.8125 47.578125 \r\nQ 36.03125 48 33.890625 48 \r\nQ 26.265625 48 22.1875 43.046875 \r\nQ 18.109375 38.09375 18.109375 28.8125 \r\nL 18.109375 0 \r\nL 9.078125 0 \r\nL 9.078125 54.6875 \r\nL 18.109375 54.6875 \r\nL 18.109375 46.1875 \r\nQ 20.953125 51.171875 25.484375 53.578125 \r\nQ 30.03125 56 36.53125 56 \r\nQ 37.453125 56 38.578125 55.875 \r\nQ 39.703125 55.765625 41.0625 55.515625 \r\nz\r\n\" id=\"DejaVuSans-114\"/>\r\n      <path id=\"DejaVuSans-32\"/>\r\n      <path d=\"M 44.390625 34.1875 \r\nQ 47.5625 33.109375 50.5625 29.59375 \r\nQ 53.5625 26.078125 56.59375 19.921875 \r\nL 66.609375 0 \r\nL 56 0 \r\nL 46.6875 18.703125 \r\nQ 43.0625 26.03125 39.671875 28.421875 \r\nQ 36.28125 30.8125 30.421875 30.8125 \r\nL 19.671875 30.8125 \r\nL 19.671875 0 \r\nL 9.8125 0 \r\nL 9.8125 72.90625 \r\nL 32.078125 72.90625 \r\nQ 44.578125 72.90625 50.734375 67.671875 \r\nQ 56.890625 62.453125 56.890625 51.90625 \r\nQ 56.890625 45.015625 53.6875 40.46875 \r\nQ 50.484375 35.9375 44.390625 34.1875 \r\nz\r\nM 19.671875 64.796875 \r\nL 19.671875 38.921875 \r\nL 32.078125 38.921875 \r\nQ 39.203125 38.921875 42.84375 42.21875 \r\nQ 46.484375 45.515625 46.484375 51.90625 \r\nQ 46.484375 58.296875 42.84375 61.546875 \r\nQ 39.203125 64.796875 32.078125 64.796875 \r\nz\r\n\" id=\"DejaVuSans-82\"/>\r\n      <path d=\"M 45.40625 27.984375 \r\nQ 45.40625 37.75 41.375 43.109375 \r\nQ 37.359375 48.484375 30.078125 48.484375 \r\nQ 22.859375 48.484375 18.828125 43.109375 \r\nQ 14.796875 37.75 14.796875 27.984375 \r\nQ 14.796875 18.265625 18.828125 12.890625 \r\nQ 22.859375 7.515625 30.078125 7.515625 \r\nQ 37.359375 7.515625 41.375 12.890625 \r\nQ 45.40625 18.265625 45.40625 27.984375 \r\nz\r\nM 54.390625 6.78125 \r\nQ 54.390625 -7.171875 48.1875 -13.984375 \r\nQ 42 -20.796875 29.203125 -20.796875 \r\nQ 24.46875 -20.796875 20.265625 -20.09375 \r\nQ 16.0625 -19.390625 12.109375 -17.921875 \r\nL 12.109375 -9.1875 \r\nQ 16.0625 -11.328125 19.921875 -12.34375 \r\nQ 23.78125 -13.375 27.78125 -13.375 \r\nQ 36.625 -13.375 41.015625 -8.765625 \r\nQ 45.40625 -4.15625 45.40625 5.171875 \r\nL 45.40625 9.625 \r\nQ 42.625 4.78125 38.28125 2.390625 \r\nQ 33.9375 0 27.875 0 \r\nQ 17.828125 0 11.671875 7.65625 \r\nQ 5.515625 15.328125 5.515625 27.984375 \r\nQ 5.515625 40.671875 11.671875 48.328125 \r\nQ 17.828125 56 27.875 56 \r\nQ 33.9375 56 38.28125 53.609375 \r\nQ 42.625 51.21875 45.40625 46.390625 \r\nL 45.40625 54.6875 \r\nL 54.390625 54.6875 \r\nz\r\n\" id=\"DejaVuSans-103\"/>\r\n      <path d=\"M 44.28125 53.078125 \r\nL 44.28125 44.578125 \r\nQ 40.484375 46.53125 36.375 47.5 \r\nQ 32.28125 48.484375 27.875 48.484375 \r\nQ 21.1875 48.484375 17.84375 46.4375 \r\nQ 14.5 44.390625 14.5 40.28125 \r\nQ 14.5 37.15625 16.890625 35.375 \r\nQ 19.28125 33.59375 26.515625 31.984375 \r\nL 29.59375 31.296875 \r\nQ 39.15625 29.25 43.1875 25.515625 \r\nQ 47.21875 21.78125 47.21875 15.09375 \r\nQ 47.21875 7.46875 41.1875 3.015625 \r\nQ 35.15625 -1.421875 24.609375 -1.421875 \r\nQ 20.21875 -1.421875 15.453125 -0.5625 \r\nQ 10.6875 0.296875 5.421875 2 \r\nL 5.421875 11.28125 \r\nQ 10.40625 8.6875 15.234375 7.390625 \r\nQ 20.0625 6.109375 24.8125 6.109375 \r\nQ 31.15625 6.109375 34.5625 8.28125 \r\nQ 37.984375 10.453125 37.984375 14.40625 \r\nQ 37.984375 18.0625 35.515625 20.015625 \r\nQ 33.0625 21.96875 24.703125 23.78125 \r\nL 21.578125 24.515625 \r\nQ 13.234375 26.265625 9.515625 29.90625 \r\nQ 5.8125 33.546875 5.8125 39.890625 \r\nQ 5.8125 47.609375 11.28125 51.796875 \r\nQ 16.75 56 26.8125 56 \r\nQ 31.78125 56 36.171875 55.265625 \r\nQ 40.578125 54.546875 44.28125 53.078125 \r\nz\r\n\" id=\"DejaVuSans-115\"/>\r\n      <path d=\"M 30.609375 48.390625 \r\nQ 23.390625 48.390625 19.1875 42.75 \r\nQ 14.984375 37.109375 14.984375 27.296875 \r\nQ 14.984375 17.484375 19.15625 11.84375 \r\nQ 23.34375 6.203125 30.609375 6.203125 \r\nQ 37.796875 6.203125 41.984375 11.859375 \r\nQ 46.1875 17.53125 46.1875 27.296875 \r\nQ 46.1875 37.015625 41.984375 42.703125 \r\nQ 37.796875 48.390625 30.609375 48.390625 \r\nz\r\nM 30.609375 56 \r\nQ 42.328125 56 49.015625 48.375 \r\nQ 55.71875 40.765625 55.71875 27.296875 \r\nQ 55.71875 13.875 49.015625 6.21875 \r\nQ 42.328125 -1.421875 30.609375 -1.421875 \r\nQ 18.84375 -1.421875 12.171875 6.21875 \r\nQ 5.515625 13.875 5.515625 27.296875 \r\nQ 5.515625 40.765625 12.171875 48.375 \r\nQ 18.84375 56 30.609375 56 \r\nz\r\n\" id=\"DejaVuSans-111\"/>\r\n     </defs>\r\n     <use xlink:href=\"#DejaVuSans-76\"/>\r\n     <use x=\"55.712891\" xlink:href=\"#DejaVuSans-105\"/>\r\n     <use x=\"83.496094\" xlink:href=\"#DejaVuSans-110\"/>\r\n     <use x=\"146.875\" xlink:href=\"#DejaVuSans-101\"/>\r\n     <use x=\"208.398438\" xlink:href=\"#DejaVuSans-97\"/>\r\n     <use x=\"269.677734\" xlink:href=\"#DejaVuSans-114\"/>\r\n     <use x=\"310.791016\" xlink:href=\"#DejaVuSans-32\"/>\r\n     <use x=\"342.578125\" xlink:href=\"#DejaVuSans-82\"/>\r\n     <use x=\"407.560547\" xlink:href=\"#DejaVuSans-101\"/>\r\n     <use x=\"469.083984\" xlink:href=\"#DejaVuSans-103\"/>\r\n     <use x=\"532.560547\" xlink:href=\"#DejaVuSans-114\"/>\r\n     <use x=\"571.423828\" xlink:href=\"#DejaVuSans-101\"/>\r\n     <use x=\"632.947266\" xlink:href=\"#DejaVuSans-115\"/>\r\n     <use x=\"685.046875\" xlink:href=\"#DejaVuSans-115\"/>\r\n     <use x=\"737.146484\" xlink:href=\"#DejaVuSans-105\"/>\r\n     <use x=\"764.929688\" xlink:href=\"#DejaVuSans-111\"/>\r\n     <use x=\"826.111328\" xlink:href=\"#DejaVuSans-110\"/>\r\n    </g>\r\n   </g>\r\n  </g>\r\n </g>\r\n <defs>\r\n  <clipPath id=\"p794da06ee4\">\r\n   <rect height=\"217.44\" width=\"334.8\" x=\"33.2875\" y=\"22.318125\"/>\r\n  </clipPath>\r\n </defs>\r\n</svg>\r\n",
      "image/png": "[encoded data removed]"
     },
     "metadata": {
      "needs_background": "light"
     }
    },
    {
     "output_type": "stream",
     "name": "stdout",
     "text": [
      "[43.87061265 52.37844622 47.47563963 53.66093226 32.66904376 33.86421497\n 52.21179669 25.12848465 34.3331247  57.5045333  41.18201611 56.9012147\n 32.94047994 60.26921439 44.50253806 63.61556125 45.61864377 41.37772653\n 50.13548549 70.34607562 53.42680403 50.18638949 50.07314563 43.31828263\n 59.81320787 48.95588857 60.29732685 44.55560838 36.43600951 55.14218841\n 53.69163957 41.10268519 32.50234527 57.50444762 46.73761941 38.11982403\n 54.35163488 45.44053073 41.57564262 40.59953838 45.41973014 35.56783005\n 56.13038882 62.49469743 38.95476907 54.28232871 42.43647694 57.78822399\n 56.72720806 38.00548801 38.81681754 50.55676015 64.70713867 50.03957594\n 48.14985889 35.67809389 66.18981661 68.31936082 46.68222865 36.93007661\n 59.37082201 33.09383174 56.86890066 40.16689901 37.67565486 39.55790122\n 49.20388754 44.1640495  44.21174175 31.588117   50.28283635 61.89622268\n 65.41605175 59.04974121 52.55001444 49.23976534 57.36205213 33.64470601\n 53.57507753 62.99748075]\n"
     ]
    }
   ],
   "source": [
    "\n",
    "x = np.array(x_train)\n",
    "y=np.array(y_train)\n",
    "\n",
    "line = b*x + a \n",
    "\n",
    "plt.scatter(x,y)\n",
    "plt.plot(x,line,color=\"red\")\n",
    "plt.title(\"Linear Regression\")\n",
    "plt.grid()\n",
    "plt.show()\n",
    "# YOUR CODE HERE\n"
   ]
  },
  {
   "cell_type": "code",
   "execution_count": 338,
   "metadata": {
    "deletable": false,
    "editable": false,
    "nbgrader": {
     "cell_type": "code",
     "checksum": "08b1f875272b06a1c8562f53f455ad9a",
     "grade": true,
     "grade_id": "cell-71f1201b79ff7e44",
     "locked": true,
     "points": 5,
     "schema_version": 3,
     "solution": false,
     "task": false
    }
   },
   "outputs": [
    {
     "output_type": "error",
     "ename": "AssertionError",
     "evalue": "",
     "traceback": [
      "\u001b[1;31m---------------------------------------------------------------------------\u001b[0m",
      "\u001b[1;31mAssertionError\u001b[0m                            Traceback (most recent call last)",
      "\u001b[1;32m<ipython-input-338-c112120a8c60>\u001b[0m in \u001b[0;36m<module>\u001b[1;34m\u001b[0m\n\u001b[1;32m----> 1\u001b[1;33m \u001b[1;32massert\u001b[0m \u001b[0mabs\u001b[0m\u001b[1;33m(\u001b[0m\u001b[0ma\u001b[0m \u001b[1;33m+\u001b[0m\u001b[1;36m3\u001b[0m\u001b[1;33m*\u001b[0m\u001b[0mb\u001b[0m \u001b[1;33m-\u001b[0m \u001b[1;36m11.69\u001b[0m\u001b[1;33m)\u001b[0m \u001b[1;33m<=\u001b[0m \u001b[1;36m0.05\u001b[0m\u001b[1;33m\u001b[0m\u001b[1;33m\u001b[0m\u001b[0m\n\u001b[0m\u001b[0;32m      2\u001b[0m \u001b[1;32massert\u001b[0m \u001b[0mabs\u001b[0m\u001b[1;33m(\u001b[0m\u001b[0ma\u001b[0m \u001b[1;33m+\u001b[0m\u001b[1;36m100\u001b[0m\u001b[1;33m*\u001b[0m\u001b[0mb\u001b[0m \u001b[1;33m-\u001b[0m \u001b[1;36m140\u001b[0m\u001b[1;33m)\u001b[0m \u001b[1;33m<=\u001b[0m \u001b[1;36m1\u001b[0m\u001b[1;33m\u001b[0m\u001b[1;33m\u001b[0m\u001b[0m\n",
      "\u001b[1;31mAssertionError\u001b[0m: "
     ]
    }
   ],
   "source": [
    "assert abs(a +3*b - 11.69) <= 0.05\n",
    "assert abs(a +100*b - 140) <= 1"
   ]
  },
  {
   "cell_type": "code",
   "execution_count": 362,
   "metadata": {
    "deletable": false,
    "nbgrader": {
     "cell_type": "code",
     "checksum": "de2e61e7563de9bf967c643b32565f9a",
     "grade": false,
     "grade_id": "cell-8b80d3f35ea3b407",
     "locked": false,
     "schema_version": 3,
     "solution": true,
     "task": false
    }
   },
   "outputs": [
    {
     "output_type": "stream",
     "name": "stdout",
     "text": [
      "(11, 2)\n(9, 2)\n"
     ]
    }
   ],
   "source": [
    "#Classify your test data in to classes\n",
    "#if the Y value for a certain X is lower than the line then the class is 0\n",
    "class_0 = []\n",
    "class_1 = []\n",
    "\n",
    "yi = y_test\n",
    "# YOUR CODE HERE\n",
    "for i in range(x_test.shape[0]):\n",
    "    if y_test.values[i] < (a + x_test.values[i]*b):\n",
    "        class_0.append((x_test.values[i],y_test.values[i]))\n",
    "    else:\n",
    "        class_1.append((x_test.values[i],y_test.values[i]))       \n",
    "    \n",
    "class_0 = np.array(class_0)\n",
    "class_1 = np.array(class_1)\n",
    "print(class_0.shape)\n",
    "print(class_1.shape)"
   ]
  },
  {
   "cell_type": "code",
   "execution_count": 364,
   "metadata": {
    "deletable": false,
    "editable": false,
    "nbgrader": {
     "cell_type": "code",
     "checksum": "1486f3e73b7a9925bfc840c4f84432e7",
     "grade": true,
     "grade_id": "cell-73e31e3494663d82",
     "locked": true,
     "points": 5,
     "schema_version": 3,
     "solution": false,
     "task": false
    }
   },
   "outputs": [],
   "source": [
    "assert 9 < class_0.shape[0] < 13\n",
    "assert 7 < class_1.shape[0] < 11"
   ]
  },
  {
   "cell_type": "code",
   "execution_count": 368,
   "metadata": {
    "deletable": false,
    "nbgrader": {
     "cell_type": "code",
     "checksum": "e91f4d245601ab07416f3122d23f9f89",
     "grade": false,
     "grade_id": "cell-db81fd9fa3a21bdf",
     "locked": false,
     "schema_version": 3,
     "solution": true,
     "task": false
    }
   },
   "outputs": [
    {
     "output_type": "display_data",
     "data": {
      "text/plain": "<Figure size 432x288 with 1 Axes>",
      "image/svg+xml": "<?xml version=\"1.0\" encoding=\"utf-8\" standalone=\"no\"?>\r\n<!DOCTYPE svg PUBLIC \"-//W3C//DTD SVG 1.1//EN\"\r\n  \"http://www.w3.org/Graphics/SVG/1.1/DTD/svg11.dtd\">\r\n<!-- Created with matplotlib (https://matplotlib.org/) -->\r\n<svg height=\"248.518125pt\" version=\"1.1\" viewBox=\"0 0 379.180867 248.518125\" width=\"379.180867pt\" xmlns=\"http://www.w3.org/2000/svg\" xmlns:xlink=\"http://www.w3.org/1999/xlink\">\r\n <metadata>\r\n  <rdf:RDF xmlns:cc=\"http://creativecommons.org/ns#\" xmlns:dc=\"http://purl.org/dc/elements/1.1/\" xmlns:rdf=\"http://www.w3.org/1999/02/22-rdf-syntax-ns#\">\r\n   <cc:Work>\r\n    <dc:type rdf:resource=\"http://purl.org/dc/dcmitype/StillImage\"/>\r\n    <dc:date>2021-04-20T18:00:43.902306</dc:date>\r\n    <dc:format>image/svg+xml</dc:format>\r\n    <dc:creator>\r\n     <cc:Agent>\r\n      <dc:title>Matplotlib v3.3.2, https://matplotlib.org/</dc:title>\r\n     </cc:Agent>\r\n    </dc:creator>\r\n   </cc:Work>\r\n  </rdf:RDF>\r\n </metadata>\r\n <defs>\r\n  <style type=\"text/css\">*{stroke-linecap:butt;stroke-linejoin:round;}</style>\r\n </defs>\r\n <g id=\"figure_1\">\r\n  <g id=\"patch_1\">\r\n   <path d=\"M 0 248.518125 \r\nL 379.180867 248.518125 \r\nL 379.180867 0 \r\nL 0 0 \r\nz\r\n\" style=\"fill:none;\"/>\r\n  </g>\r\n  <g id=\"axes_1\">\r\n   <g id=\"patch_2\">\r\n    <path d=\"M 33.2875 224.64 \r\nL 368.0875 224.64 \r\nL 368.0875 7.2 \r\nL 33.2875 7.2 \r\nz\r\n\" style=\"fill:#ffffff;\"/>\r\n   </g>\r\n   <g id=\"PathCollection_1\">\r\n    <defs>\r\n     <path d=\"M 0 3 \r\nC 0.795609 3 1.55874 2.683901 2.12132 2.12132 \r\nC 2.683901 1.55874 3 0.795609 3 0 \r\nC 3 -0.795609 2.683901 -1.55874 2.12132 -2.12132 \r\nC 1.55874 -2.683901 0.795609 -3 0 -3 \r\nC -0.795609 -3 -1.55874 -2.683901 -2.12132 -2.12132 \r\nC -2.683901 -1.55874 -3 -0.795609 -3 0 \r\nC -3 0.795609 -2.683901 1.55874 -2.12132 2.12132 \r\nC -1.55874 2.683901 -0.795609 3 0 3 \r\nz\r\n\" id=\"mcf18f15ccf\" style=\"stroke:#1f77b4;\"/>\r\n    </defs>\r\n    <g clip-path=\"url(#p8ab3c10a34)\">\r\n     <use style=\"fill:#1f77b4;stroke:#1f77b4;\" x=\"170.278883\" xlink:href=\"#mcf18f15ccf\" y=\"172.419262\"/>\r\n     <use style=\"fill:#1f77b4;stroke:#1f77b4;\" x=\"278.133253\" xlink:href=\"#mcf18f15ccf\" y=\"196.532127\"/>\r\n     <use style=\"fill:#1f77b4;stroke:#1f77b4;\" x=\"211.486175\" xlink:href=\"#mcf18f15ccf\" y=\"167.097285\"/>\r\n     <use style=\"fill:#1f77b4;stroke:#1f77b4;\" x=\"87.842114\" xlink:href=\"#mcf18f15ccf\" y=\"212.832234\"/>\r\n     <use style=\"fill:#1f77b4;stroke:#1f77b4;\" x=\"170.278002\" xlink:href=\"#mcf18f15ccf\" y=\"159.221839\"/>\r\n     <use style=\"fill:#1f77b4;stroke:#1f77b4;\" x=\"219.00213\" xlink:href=\"#mcf18f15ccf\" y=\"138.234289\"/>\r\n     <use style=\"fill:#1f77b4;stroke:#1f77b4;\" x=\"243.407453\" xlink:href=\"#mcf18f15ccf\" y=\"152.501793\"/>\r\n     <use style=\"fill:#1f77b4;stroke:#1f77b4;\" x=\"48.505682\" xlink:href=\"#mcf18f15ccf\" y=\"208.16864\"/>\r\n     <use style=\"fill:#1f77b4;stroke:#1f77b4;\" x=\"182.005443\" xlink:href=\"#mcf18f15ccf\" y=\"193.799097\"/>\r\n     <use style=\"fill:#1f77b4;stroke:#1f77b4;\" x=\"133.015969\" xlink:href=\"#mcf18f15ccf\" y=\"214.756364\"/>\r\n     <use style=\"fill:#1f77b4;stroke:#1f77b4;\" x=\"178.092625\" xlink:href=\"#mcf18f15ccf\" y=\"152.543724\"/>\r\n    </g>\r\n   </g>\r\n   <g id=\"PathCollection_2\">\r\n    <defs>\r\n     <path d=\"M 0 3 \r\nC 0.795609 3 1.55874 2.683901 2.12132 2.12132 \r\nC 2.683901 1.55874 3 0.795609 3 0 \r\nC 3 -0.795609 2.683901 -1.55874 2.12132 -2.12132 \r\nC 1.55874 -2.683901 0.795609 -3 0 -3 \r\nC -0.795609 -3 -1.55874 -2.683901 -2.12132 -2.12132 \r\nC -2.683901 -1.55874 -3 -0.795609 -3 0 \r\nC -3 0.795609 -2.683901 1.55874 -2.12132 2.12132 \r\nC -1.55874 2.683901 -0.795609 3 0 3 \r\nz\r\n\" id=\"m98388180c9\" style=\"stroke:#ff7f0e;\"/>\r\n    </defs>\r\n    <g clip-path=\"url(#p8ab3c10a34)\">\r\n     <use style=\"fill:#ff7f0e;stroke:#ff7f0e;\" x=\"234.540123\" xlink:href=\"#m98388180c9\" y=\"83.654482\"/>\r\n     <use style=\"fill:#ff7f0e;stroke:#ff7f0e;\" x=\"102.148504\" xlink:href=\"#m98388180c9\" y=\"113.898131\"/>\r\n     <use style=\"fill:#ff7f0e;stroke:#ff7f0e;\" x=\"120.101896\" xlink:href=\"#m98388180c9\" y=\"101.950504\"/>\r\n     <use style=\"fill:#ff7f0e;stroke:#ff7f0e;\" x=\"104.155895\" xlink:href=\"#m98388180c9\" y=\"126.765331\"/>\r\n     <use style=\"fill:#ff7f0e;stroke:#ff7f0e;\" x=\"159.344893\" xlink:href=\"#m98388180c9\" y=\"131.41704\"/>\r\n     <use style=\"fill:#ff7f0e;stroke:#ff7f0e;\" x=\"73.513947\" xlink:href=\"#m98388180c9\" y=\"187.203045\"/>\r\n     <use style=\"fill:#ff7f0e;stroke:#ff7f0e;\" x=\"352.869318\" xlink:href=\"#m98388180c9\" y=\"17.083636\"/>\r\n     <use style=\"fill:#ff7f0e;stroke:#ff7f0e;\" x=\"243.366852\" xlink:href=\"#m98388180c9\" y=\"79.143472\"/>\r\n     <use style=\"fill:#ff7f0e;stroke:#ff7f0e;\" x=\"139.459702\" xlink:href=\"#m98388180c9\" y=\"152.713282\"/>\r\n    </g>\r\n   </g>\r\n   <g id=\"matplotlib.axis_1\">\r\n    <g id=\"xtick_1\">\r\n     <g id=\"line2d_1\">\r\n      <defs>\r\n       <path d=\"M 0 0 \r\nL 0 3.5 \r\n\" id=\"m1891140413\" style=\"stroke:#000000;stroke-width:0.8;\"/>\r\n      </defs>\r\n      <g>\r\n       <use style=\"stroke:#000000;stroke-width:0.8;\" x=\"55.740638\" xlink:href=\"#m1891140413\" y=\"224.64\"/>\r\n      </g>\r\n     </g>\r\n     <g id=\"text_1\">\r\n      <!-- 40 -->\r\n      <g transform=\"translate(49.378138 239.238437)scale(0.1 -0.1)\">\r\n       <defs>\r\n        <path d=\"M 37.796875 64.3125 \r\nL 12.890625 25.390625 \r\nL 37.796875 25.390625 \r\nz\r\nM 35.203125 72.90625 \r\nL 47.609375 72.90625 \r\nL 47.609375 25.390625 \r\nL 58.015625 25.390625 \r\nL 58.015625 17.1875 \r\nL 47.609375 17.1875 \r\nL 47.609375 0 \r\nL 37.796875 0 \r\nL 37.796875 17.1875 \r\nL 4.890625 17.1875 \r\nL 4.890625 26.703125 \r\nz\r\n\" id=\"DejaVuSans-52\"/>\r\n        <path d=\"M 31.78125 66.40625 \r\nQ 24.171875 66.40625 20.328125 58.90625 \r\nQ 16.5 51.421875 16.5 36.375 \r\nQ 16.5 21.390625 20.328125 13.890625 \r\nQ 24.171875 6.390625 31.78125 6.390625 \r\nQ 39.453125 6.390625 43.28125 13.890625 \r\nQ 47.125 21.390625 47.125 36.375 \r\nQ 47.125 51.421875 43.28125 58.90625 \r\nQ 39.453125 66.40625 31.78125 66.40625 \r\nz\r\nM 31.78125 74.21875 \r\nQ 44.046875 74.21875 50.515625 64.515625 \r\nQ 56.984375 54.828125 56.984375 36.375 \r\nQ 56.984375 17.96875 50.515625 8.265625 \r\nQ 44.046875 -1.421875 31.78125 -1.421875 \r\nQ 19.53125 -1.421875 13.0625 8.265625 \r\nQ 6.59375 17.96875 6.59375 36.375 \r\nQ 6.59375 54.828125 13.0625 64.515625 \r\nQ 19.53125 74.21875 31.78125 74.21875 \r\nz\r\n\" id=\"DejaVuSans-48\"/>\r\n       </defs>\r\n       <use xlink:href=\"#DejaVuSans-52\"/>\r\n       <use x=\"63.623047\" xlink:href=\"#DejaVuSans-48\"/>\r\n      </g>\r\n     </g>\r\n    </g>\r\n    <g id=\"xtick_2\">\r\n     <g id=\"line2d_2\">\r\n      <g>\r\n       <use style=\"stroke:#000000;stroke-width:0.8;\" x=\"107.386926\" xlink:href=\"#m1891140413\" y=\"224.64\"/>\r\n      </g>\r\n     </g>\r\n     <g id=\"text_2\">\r\n      <!-- 45 -->\r\n      <g transform=\"translate(101.024426 239.238437)scale(0.1 -0.1)\">\r\n       <defs>\r\n        <path d=\"M 10.796875 72.90625 \r\nL 49.515625 72.90625 \r\nL 49.515625 64.59375 \r\nL 19.828125 64.59375 \r\nL 19.828125 46.734375 \r\nQ 21.96875 47.46875 24.109375 47.828125 \r\nQ 26.265625 48.1875 28.421875 48.1875 \r\nQ 40.625 48.1875 47.75 41.5 \r\nQ 54.890625 34.8125 54.890625 23.390625 \r\nQ 54.890625 11.625 47.5625 5.09375 \r\nQ 40.234375 -1.421875 26.90625 -1.421875 \r\nQ 22.3125 -1.421875 17.546875 -0.640625 \r\nQ 12.796875 0.140625 7.71875 1.703125 \r\nL 7.71875 11.625 \r\nQ 12.109375 9.234375 16.796875 8.0625 \r\nQ 21.484375 6.890625 26.703125 6.890625 \r\nQ 35.15625 6.890625 40.078125 11.328125 \r\nQ 45.015625 15.765625 45.015625 23.390625 \r\nQ 45.015625 31 40.078125 35.4375 \r\nQ 35.15625 39.890625 26.703125 39.890625 \r\nQ 22.75 39.890625 18.8125 39.015625 \r\nQ 14.890625 38.140625 10.796875 36.28125 \r\nz\r\n\" id=\"DejaVuSans-53\"/>\r\n       </defs>\r\n       <use xlink:href=\"#DejaVuSans-52\"/>\r\n       <use x=\"63.623047\" xlink:href=\"#DejaVuSans-53\"/>\r\n      </g>\r\n     </g>\r\n    </g>\r\n    <g id=\"xtick_3\">\r\n     <g id=\"line2d_3\">\r\n      <g>\r\n       <use style=\"stroke:#000000;stroke-width:0.8;\" x=\"159.033214\" xlink:href=\"#m1891140413\" y=\"224.64\"/>\r\n      </g>\r\n     </g>\r\n     <g id=\"text_3\">\r\n      <!-- 50 -->\r\n      <g transform=\"translate(152.670714 239.238437)scale(0.1 -0.1)\">\r\n       <use xlink:href=\"#DejaVuSans-53\"/>\r\n       <use x=\"63.623047\" xlink:href=\"#DejaVuSans-48\"/>\r\n      </g>\r\n     </g>\r\n    </g>\r\n    <g id=\"xtick_4\">\r\n     <g id=\"line2d_4\">\r\n      <g>\r\n       <use style=\"stroke:#000000;stroke-width:0.8;\" x=\"210.679502\" xlink:href=\"#m1891140413\" y=\"224.64\"/>\r\n      </g>\r\n     </g>\r\n     <g id=\"text_4\">\r\n      <!-- 55 -->\r\n      <g transform=\"translate(204.317002 239.238437)scale(0.1 -0.1)\">\r\n       <use xlink:href=\"#DejaVuSans-53\"/>\r\n       <use x=\"63.623047\" xlink:href=\"#DejaVuSans-53\"/>\r\n      </g>\r\n     </g>\r\n    </g>\r\n    <g id=\"xtick_5\">\r\n     <g id=\"line2d_5\">\r\n      <g>\r\n       <use style=\"stroke:#000000;stroke-width:0.8;\" x=\"262.325791\" xlink:href=\"#m1891140413\" y=\"224.64\"/>\r\n      </g>\r\n     </g>\r\n     <g id=\"text_5\">\r\n      <!-- 60 -->\r\n      <g transform=\"translate(255.963291 239.238437)scale(0.1 -0.1)\">\r\n       <defs>\r\n        <path d=\"M 33.015625 40.375 \r\nQ 26.375 40.375 22.484375 35.828125 \r\nQ 18.609375 31.296875 18.609375 23.390625 \r\nQ 18.609375 15.53125 22.484375 10.953125 \r\nQ 26.375 6.390625 33.015625 6.390625 \r\nQ 39.65625 6.390625 43.53125 10.953125 \r\nQ 47.40625 15.53125 47.40625 23.390625 \r\nQ 47.40625 31.296875 43.53125 35.828125 \r\nQ 39.65625 40.375 33.015625 40.375 \r\nz\r\nM 52.59375 71.296875 \r\nL 52.59375 62.3125 \r\nQ 48.875 64.0625 45.09375 64.984375 \r\nQ 41.3125 65.921875 37.59375 65.921875 \r\nQ 27.828125 65.921875 22.671875 59.328125 \r\nQ 17.53125 52.734375 16.796875 39.40625 \r\nQ 19.671875 43.65625 24.015625 45.921875 \r\nQ 28.375 48.1875 33.59375 48.1875 \r\nQ 44.578125 48.1875 50.953125 41.515625 \r\nQ 57.328125 34.859375 57.328125 23.390625 \r\nQ 57.328125 12.15625 50.6875 5.359375 \r\nQ 44.046875 -1.421875 33.015625 -1.421875 \r\nQ 20.359375 -1.421875 13.671875 8.265625 \r\nQ 6.984375 17.96875 6.984375 36.375 \r\nQ 6.984375 53.65625 15.1875 63.9375 \r\nQ 23.390625 74.21875 37.203125 74.21875 \r\nQ 40.921875 74.21875 44.703125 73.484375 \r\nQ 48.484375 72.75 52.59375 71.296875 \r\nz\r\n\" id=\"DejaVuSans-54\"/>\r\n       </defs>\r\n       <use xlink:href=\"#DejaVuSans-54\"/>\r\n       <use x=\"63.623047\" xlink:href=\"#DejaVuSans-48\"/>\r\n      </g>\r\n     </g>\r\n    </g>\r\n    <g id=\"xtick_6\">\r\n     <g id=\"line2d_6\">\r\n      <g>\r\n       <use style=\"stroke:#000000;stroke-width:0.8;\" x=\"313.972079\" xlink:href=\"#m1891140413\" y=\"224.64\"/>\r\n      </g>\r\n     </g>\r\n     <g id=\"text_6\">\r\n      <!-- 65 -->\r\n      <g transform=\"translate(307.609579 239.238437)scale(0.1 -0.1)\">\r\n       <use xlink:href=\"#DejaVuSans-54\"/>\r\n       <use x=\"63.623047\" xlink:href=\"#DejaVuSans-53\"/>\r\n      </g>\r\n     </g>\r\n    </g>\r\n    <g id=\"xtick_7\">\r\n     <g id=\"line2d_7\">\r\n      <g>\r\n       <use style=\"stroke:#000000;stroke-width:0.8;\" x=\"365.618367\" xlink:href=\"#m1891140413\" y=\"224.64\"/>\r\n      </g>\r\n     </g>\r\n     <g id=\"text_7\">\r\n      <!-- 70 -->\r\n      <g transform=\"translate(359.255867 239.238437)scale(0.1 -0.1)\">\r\n       <defs>\r\n        <path d=\"M 8.203125 72.90625 \r\nL 55.078125 72.90625 \r\nL 55.078125 68.703125 \r\nL 28.609375 0 \r\nL 18.3125 0 \r\nL 43.21875 64.59375 \r\nL 8.203125 64.59375 \r\nz\r\n\" id=\"DejaVuSans-55\"/>\r\n       </defs>\r\n       <use xlink:href=\"#DejaVuSans-55\"/>\r\n       <use x=\"63.623047\" xlink:href=\"#DejaVuSans-48\"/>\r\n      </g>\r\n     </g>\r\n    </g>\r\n   </g>\r\n   <g id=\"matplotlib.axis_2\">\r\n    <g id=\"ytick_1\">\r\n     <g id=\"line2d_8\">\r\n      <defs>\r\n       <path d=\"M 0 0 \r\nL -3.5 0 \r\n\" id=\"m80b9921c0a\" style=\"stroke:#000000;stroke-width:0.8;\"/>\r\n      </defs>\r\n      <g>\r\n       <use style=\"stroke:#000000;stroke-width:0.8;\" x=\"33.2875\" xlink:href=\"#m80b9921c0a\" y=\"205.325444\"/>\r\n      </g>\r\n     </g>\r\n     <g id=\"text_8\">\r\n      <!-- 60 -->\r\n      <g transform=\"translate(13.5625 209.124662)scale(0.1 -0.1)\">\r\n       <use xlink:href=\"#DejaVuSans-54\"/>\r\n       <use x=\"63.623047\" xlink:href=\"#DejaVuSans-48\"/>\r\n      </g>\r\n     </g>\r\n    </g>\r\n    <g id=\"ytick_2\">\r\n     <g id=\"line2d_9\">\r\n      <g>\r\n       <use style=\"stroke:#000000;stroke-width:0.8;\" x=\"33.2875\" xlink:href=\"#m80b9921c0a\" y=\"171.008484\"/>\r\n      </g>\r\n     </g>\r\n     <g id=\"text_9\">\r\n      <!-- 70 -->\r\n      <g transform=\"translate(13.5625 174.807703)scale(0.1 -0.1)\">\r\n       <use xlink:href=\"#DejaVuSans-55\"/>\r\n       <use x=\"63.623047\" xlink:href=\"#DejaVuSans-48\"/>\r\n      </g>\r\n     </g>\r\n    </g>\r\n    <g id=\"ytick_3\">\r\n     <g id=\"line2d_10\">\r\n      <g>\r\n       <use style=\"stroke:#000000;stroke-width:0.8;\" x=\"33.2875\" xlink:href=\"#m80b9921c0a\" y=\"136.691525\"/>\r\n      </g>\r\n     </g>\r\n     <g id=\"text_10\">\r\n      <!-- 80 -->\r\n      <g transform=\"translate(13.5625 140.490744)scale(0.1 -0.1)\">\r\n       <defs>\r\n        <path d=\"M 31.78125 34.625 \r\nQ 24.75 34.625 20.71875 30.859375 \r\nQ 16.703125 27.09375 16.703125 20.515625 \r\nQ 16.703125 13.921875 20.71875 10.15625 \r\nQ 24.75 6.390625 31.78125 6.390625 \r\nQ 38.8125 6.390625 42.859375 10.171875 \r\nQ 46.921875 13.96875 46.921875 20.515625 \r\nQ 46.921875 27.09375 42.890625 30.859375 \r\nQ 38.875 34.625 31.78125 34.625 \r\nz\r\nM 21.921875 38.8125 \r\nQ 15.578125 40.375 12.03125 44.71875 \r\nQ 8.5 49.078125 8.5 55.328125 \r\nQ 8.5 64.0625 14.71875 69.140625 \r\nQ 20.953125 74.21875 31.78125 74.21875 \r\nQ 42.671875 74.21875 48.875 69.140625 \r\nQ 55.078125 64.0625 55.078125 55.328125 \r\nQ 55.078125 49.078125 51.53125 44.71875 \r\nQ 48 40.375 41.703125 38.8125 \r\nQ 48.828125 37.15625 52.796875 32.3125 \r\nQ 56.78125 27.484375 56.78125 20.515625 \r\nQ 56.78125 9.90625 50.3125 4.234375 \r\nQ 43.84375 -1.421875 31.78125 -1.421875 \r\nQ 19.734375 -1.421875 13.25 4.234375 \r\nQ 6.78125 9.90625 6.78125 20.515625 \r\nQ 6.78125 27.484375 10.78125 32.3125 \r\nQ 14.796875 37.15625 21.921875 38.8125 \r\nz\r\nM 18.3125 54.390625 \r\nQ 18.3125 48.734375 21.84375 45.5625 \r\nQ 25.390625 42.390625 31.78125 42.390625 \r\nQ 38.140625 42.390625 41.71875 45.5625 \r\nQ 45.3125 48.734375 45.3125 54.390625 \r\nQ 45.3125 60.0625 41.71875 63.234375 \r\nQ 38.140625 66.40625 31.78125 66.40625 \r\nQ 25.390625 66.40625 21.84375 63.234375 \r\nQ 18.3125 60.0625 18.3125 54.390625 \r\nz\r\n\" id=\"DejaVuSans-56\"/>\r\n       </defs>\r\n       <use xlink:href=\"#DejaVuSans-56\"/>\r\n       <use x=\"63.623047\" xlink:href=\"#DejaVuSans-48\"/>\r\n      </g>\r\n     </g>\r\n    </g>\r\n    <g id=\"ytick_4\">\r\n     <g id=\"line2d_11\">\r\n      <g>\r\n       <use style=\"stroke:#000000;stroke-width:0.8;\" x=\"33.2875\" xlink:href=\"#m80b9921c0a\" y=\"102.374565\"/>\r\n      </g>\r\n     </g>\r\n     <g id=\"text_11\">\r\n      <!-- 90 -->\r\n      <g transform=\"translate(13.5625 106.173784)scale(0.1 -0.1)\">\r\n       <defs>\r\n        <path d=\"M 10.984375 1.515625 \r\nL 10.984375 10.5 \r\nQ 14.703125 8.734375 18.5 7.8125 \r\nQ 22.3125 6.890625 25.984375 6.890625 \r\nQ 35.75 6.890625 40.890625 13.453125 \r\nQ 46.046875 20.015625 46.78125 33.40625 \r\nQ 43.953125 29.203125 39.59375 26.953125 \r\nQ 35.25 24.703125 29.984375 24.703125 \r\nQ 19.046875 24.703125 12.671875 31.3125 \r\nQ 6.296875 37.9375 6.296875 49.421875 \r\nQ 6.296875 60.640625 12.9375 67.421875 \r\nQ 19.578125 74.21875 30.609375 74.21875 \r\nQ 43.265625 74.21875 49.921875 64.515625 \r\nQ 56.59375 54.828125 56.59375 36.375 \r\nQ 56.59375 19.140625 48.40625 8.859375 \r\nQ 40.234375 -1.421875 26.421875 -1.421875 \r\nQ 22.703125 -1.421875 18.890625 -0.6875 \r\nQ 15.09375 0.046875 10.984375 1.515625 \r\nz\r\nM 30.609375 32.421875 \r\nQ 37.25 32.421875 41.125 36.953125 \r\nQ 45.015625 41.5 45.015625 49.421875 \r\nQ 45.015625 57.28125 41.125 61.84375 \r\nQ 37.25 66.40625 30.609375 66.40625 \r\nQ 23.96875 66.40625 20.09375 61.84375 \r\nQ 16.21875 57.28125 16.21875 49.421875 \r\nQ 16.21875 41.5 20.09375 36.953125 \r\nQ 23.96875 32.421875 30.609375 32.421875 \r\nz\r\n\" id=\"DejaVuSans-57\"/>\r\n       </defs>\r\n       <use xlink:href=\"#DejaVuSans-57\"/>\r\n       <use x=\"63.623047\" xlink:href=\"#DejaVuSans-48\"/>\r\n      </g>\r\n     </g>\r\n    </g>\r\n    <g id=\"ytick_5\">\r\n     <g id=\"line2d_12\">\r\n      <g>\r\n       <use style=\"stroke:#000000;stroke-width:0.8;\" x=\"33.2875\" xlink:href=\"#m80b9921c0a\" y=\"68.057606\"/>\r\n      </g>\r\n     </g>\r\n     <g id=\"text_12\">\r\n      <!-- 100 -->\r\n      <g transform=\"translate(7.2 71.856825)scale(0.1 -0.1)\">\r\n       <defs>\r\n        <path d=\"M 12.40625 8.296875 \r\nL 28.515625 8.296875 \r\nL 28.515625 63.921875 \r\nL 10.984375 60.40625 \r\nL 10.984375 69.390625 \r\nL 28.421875 72.90625 \r\nL 38.28125 72.90625 \r\nL 38.28125 8.296875 \r\nL 54.390625 8.296875 \r\nL 54.390625 0 \r\nL 12.40625 0 \r\nz\r\n\" id=\"DejaVuSans-49\"/>\r\n       </defs>\r\n       <use xlink:href=\"#DejaVuSans-49\"/>\r\n       <use x=\"63.623047\" xlink:href=\"#DejaVuSans-48\"/>\r\n       <use x=\"127.246094\" xlink:href=\"#DejaVuSans-48\"/>\r\n      </g>\r\n     </g>\r\n    </g>\r\n    <g id=\"ytick_6\">\r\n     <g id=\"line2d_13\">\r\n      <g>\r\n       <use style=\"stroke:#000000;stroke-width:0.8;\" x=\"33.2875\" xlink:href=\"#m80b9921c0a\" y=\"33.740647\"/>\r\n      </g>\r\n     </g>\r\n     <g id=\"text_13\">\r\n      <!-- 110 -->\r\n      <g transform=\"translate(7.2 37.539865)scale(0.1 -0.1)\">\r\n       <use xlink:href=\"#DejaVuSans-49\"/>\r\n       <use x=\"63.623047\" xlink:href=\"#DejaVuSans-49\"/>\r\n       <use x=\"127.246094\" xlink:href=\"#DejaVuSans-48\"/>\r\n      </g>\r\n     </g>\r\n    </g>\r\n   </g>\r\n   <g id=\"patch_3\">\r\n    <path d=\"M 33.2875 224.64 \r\nL 33.2875 7.2 \r\n\" style=\"fill:none;stroke:#000000;stroke-linecap:square;stroke-linejoin:miter;stroke-width:0.8;\"/>\r\n   </g>\r\n   <g id=\"patch_4\">\r\n    <path d=\"M 368.0875 224.64 \r\nL 368.0875 7.2 \r\n\" style=\"fill:none;stroke:#000000;stroke-linecap:square;stroke-linejoin:miter;stroke-width:0.8;\"/>\r\n   </g>\r\n   <g id=\"patch_5\">\r\n    <path d=\"M 33.2875 224.64 \r\nL 368.0875 224.64 \r\n\" style=\"fill:none;stroke:#000000;stroke-linecap:square;stroke-linejoin:miter;stroke-width:0.8;\"/>\r\n   </g>\r\n   <g id=\"patch_6\">\r\n    <path d=\"M 33.2875 7.2 \r\nL 368.0875 7.2 \r\n\" style=\"fill:none;stroke:#000000;stroke-linecap:square;stroke-linejoin:miter;stroke-width:0.8;\"/>\r\n   </g>\r\n  </g>\r\n </g>\r\n <defs>\r\n  <clipPath id=\"p8ab3c10a34\">\r\n   <rect height=\"217.44\" width=\"334.8\" x=\"33.2875\" y=\"7.2\"/>\r\n  </clipPath>\r\n </defs>\r\n</svg>\r\n",
      "image/png": "[encoded data removed]"
     },
     "metadata": {
      "needs_background": "light"
     }
    }
   ],
   "source": [
    "# YOUR CODE HERE\n",
    "plt.scatter(class_0[:,0],class_0[:,1])\n",
    "plt.scatter(class_1[:,0],class_1[:,1])\n",
    "\n",
    "plt.show()"
   ]
  },
  {
   "cell_type": "code",
   "execution_count": 370,
   "metadata": {
    "deletable": false,
    "nbgrader": {
     "cell_type": "code",
     "checksum": "82e87b2d597a41e300a05cd1ed82557b",
     "grade": false,
     "grade_id": "cell-ee8df562ed62329a",
     "locked": false,
     "schema_version": 3,
     "solution": true,
     "task": false
    }
   },
   "outputs": [
    {
     "output_type": "stream",
     "name": "stdout",
     "text": [
      "201.82447860643398\n"
     ]
    }
   ],
   "source": [
    "# get the total error for the classes\n",
    "\n",
    "err = 0\n",
    "# YOUR CODE HERE\n",
    "for i in range(x_test.shape[0]):\n",
    "\n",
    "    err+= abs(   y_test.values[i] - (a + x_test.values[i]*b)  )\n",
    "print(err)\n"
   ]
  },
  {
   "cell_type": "code",
   "execution_count": null,
   "metadata": {
    "deletable": false,
    "editable": false,
    "nbgrader": {
     "cell_type": "code",
     "checksum": "feb3a49adcd3bb6769f5dc468b838fc8",
     "grade": true,
     "grade_id": "cell-bbe692ec61946f5c",
     "locked": true,
     "points": 5,
     "schema_version": 3,
     "solution": false,
     "task": false
    }
   },
   "outputs": [],
   "source": [
    "assert err - 201 < 20"
   ]
  }
 ],
 "metadata": {
  "kernelspec": {
   "name": "python385jvsc74a57bd0b3ba2566441a7c06988d0923437866b63cedc61552a5af99d1f4fb67d367b25f",
   "display_name": "Python 3.8.5 64-bit ('base': conda)"
  },
  "language_info": {
   "codemirror_mode": {
    "name": "ipython",
    "version": 3
   },
   "file_extension": ".py",
   "mimetype": "text/x-python",
   "name": "python",
   "nbconvert_exporter": "python",
   "pygments_lexer": "ipython3",
   "version": "3.8.5"
  }
 },
 "nbformat": 4,
 "nbformat_minor": 2
}