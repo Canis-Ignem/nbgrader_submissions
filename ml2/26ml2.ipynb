{
 "cells": [
  {
   "cell_type": "markdown",
   "metadata": {
    "deletable": false,
    "editable": false,
    "nbgrader": {
     "cell_type": "markdown",
     "checksum": "fbfaeccba7c78624daa81efaeac3384d",
     "grade": false,
     "grade_id": "cell-9bac3e2eaf76d09a",
     "locked": true,
     "schema_version": 3,
     "solution": false,
     "task": false
    }
   },
   "source": [
    "# Linear Regression From Scratch\n",
    "In this notebook you will implement linear regression using the least squares method.\n",
    "\n",
    "The notebook will guide you in the general steps. You may use only numpy, pandas, and matplotlib for this exercise.\n",
    "\n",
    "#### Math Background\n",
    "The task is to solve linear regression for the data set of ```x``` and ```y```. That is, fit a line y to the data such that ```y = a + bx + e```. Where a and b are coefficents and e is an error term.\n",
    "\n",
    "We know that ```b = SUM ( xi - x_mean) * (yi - y_mean) / SUM (xi - x_mean)^2``` where ```xi```, and ```yi``` are the indivdual observations and ```x_mean```, ```y_mean``` are means of all ```xi``` and ```yi```.\n",
    "\n",
    "So a reasonable solution then for a fit is ```a = y_mean - b * x_mean```.\n",
    "\n",
    "\n",
    "#### Implementation Steps\n",
    "1. Load the file ```reg_data.csv```\n",
    "2. Display the data with a scatter plot. Write a markdown cell and comment on the structure of the data and what kind of line you think will fit the data. \n",
    "3. Implement a function of the least squares method.\n",
    "4. Plot the predictions from your function.\n",
    "5. Comment on the output of your function. Does it make sense? Can it be made better? If yes, how?"
   ]
  },
  {
   "cell_type": "code",
   "execution_count": 1,
   "metadata": {},
   "outputs": [],
   "source": [
    "#import the minimum packages\n",
    "import numpy as np\n",
    "import pandas as pd\n",
    "import matplotlib.pyplot as plt\n",
    "from sklearn.model_selection import train_test_split"
   ]
  },
  {
   "cell_type": "code",
   "execution_count": 2,
   "metadata": {
    "deletable": false,
    "nbgrader": {
     "cell_type": "code",
     "checksum": "2c551326ada620ac865e47a09cfd6e88",
     "grade": false,
     "grade_id": "cell-4104816f50e4844b",
     "locked": false,
     "schema_version": 3,
     "solution": true,
     "task": false
    }
   },
   "outputs": [
    {
     "data": {
      "text/html": [
       "<div>\n",
       "<style scoped>\n",
       "    .dataframe tbody tr th:only-of-type {\n",
       "        vertical-align: middle;\n",
       "    }\n",
       "\n",
       "    .dataframe tbody tr th {\n",
       "        vertical-align: top;\n",
       "    }\n",
       "\n",
       "    .dataframe thead th {\n",
       "        text-align: right;\n",
       "    }\n",
       "</style>\n",
       "<table border=\"1\" class=\"dataframe\">\n",
       "  <thead>\n",
       "    <tr style=\"text-align: right;\">\n",
       "      <th></th>\n",
       "      <th>X</th>\n",
       "      <th>Y</th>\n",
       "    </tr>\n",
       "  </thead>\n",
       "  <tbody>\n",
       "    <tr>\n",
       "      <th>count</th>\n",
       "      <td>100.000000</td>\n",
       "      <td>100.000000</td>\n",
       "    </tr>\n",
       "    <tr>\n",
       "      <th>mean</th>\n",
       "      <td>48.958341</td>\n",
       "      <td>72.735051</td>\n",
       "    </tr>\n",
       "    <tr>\n",
       "      <th>std</th>\n",
       "      <td>9.746379</td>\n",
       "      <td>16.658187</td>\n",
       "    </tr>\n",
       "    <tr>\n",
       "      <th>min</th>\n",
       "      <td>25.128485</td>\n",
       "      <td>31.707006</td>\n",
       "    </tr>\n",
       "    <tr>\n",
       "      <th>25%</th>\n",
       "      <td>41.526164</td>\n",
       "      <td>60.788586</td>\n",
       "    </tr>\n",
       "    <tr>\n",
       "      <th>50%</th>\n",
       "      <td>49.634970</td>\n",
       "      <td>72.179542</td>\n",
       "    </tr>\n",
       "    <tr>\n",
       "      <th>75%</th>\n",
       "      <td>56.762631</td>\n",
       "      <td>83.215080</td>\n",
       "    </tr>\n",
       "    <tr>\n",
       "      <th>max</th>\n",
       "      <td>70.346076</td>\n",
       "      <td>118.591217</td>\n",
       "    </tr>\n",
       "  </tbody>\n",
       "</table>\n",
       "</div>"
      ],
      "text/plain": [
       "                X           Y\n",
       "count  100.000000  100.000000\n",
       "mean    48.958341   72.735051\n",
       "std      9.746379   16.658187\n",
       "min     25.128485   31.707006\n",
       "25%     41.526164   60.788586\n",
       "50%     49.634970   72.179542\n",
       "75%     56.762631   83.215080\n",
       "max     70.346076  118.591217"
      ]
     },
     "execution_count": 2,
     "metadata": {},
     "output_type": "execute_result"
    }
   ],
   "source": [
    "#load and inspect the data\n",
    "df = pd.read_csv(\"reg_data.csv\")\n",
    "df.describe()\n"
   ]
  },
  {
   "cell_type": "code",
   "execution_count": 3,
   "metadata": {
    "deletable": false,
    "editable": false,
    "nbgrader": {
     "cell_type": "code",
     "checksum": "5a44bd6c555f034b17e8b48663c46fbf",
     "grade": true,
     "grade_id": "cell-3676b87d8fc79bbd",
     "locked": true,
     "points": 1,
     "schema_version": 3,
     "solution": false,
     "task": false
    }
   },
   "outputs": [],
   "source": [
    "assert df.shape == (100,2)"
   ]
  },
  {
   "cell_type": "code",
   "execution_count": 4,
   "metadata": {
    "deletable": false,
    "nbgrader": {
     "cell_type": "code",
     "checksum": "ec83d674d316f06d99e4a62881fe0d91",
     "grade": false,
     "grade_id": "cell-7f576e50392bc5e9",
     "locked": false,
     "schema_version": 3,
     "solution": true,
     "task": false
    }
   },
   "outputs": [
    {
     "name": "stdout",
     "output_type": "stream",
     "text": [
      "Index(['X', 'Y'], dtype='object')\n"
     ]
    },
    {
     "data": {
      "text/plain": [
       "<matplotlib.legend.Legend at 0x7fb30cd36df0>"
      ]
     },
     "execution_count": 4,
     "metadata": {},
     "output_type": "execute_result"
    },
    {
     "data": {
      "image/png": "[encoded data removed]",
      "text/plain": [
       "<Figure size 432x288 with 1 Axes>"
      ]
     },
     "metadata": {
      "needs_background": "light"
     },
     "output_type": "display_data"
    }
   ],
   "source": [
    "#plot the data (scatter)\n",
    "df = pd.read_csv(\"reg_data.csv\")\n",
    "print(df.columns)\n",
    "plt.scatter(df.X, df.Y)\n",
    "plt.plot([32,65],[45,100], color=\"red\", label=\"My prediction\")\n",
    "plt.legend()"
   ]
  },
  {
   "cell_type": "markdown",
   "metadata": {},
   "source": [
    "This data seems to have some positive correlation, a line of best fit could make reasonable predictions.<br>\n",
    "I think the final line will look something like the red prediction above"
   ]
  },
  {
   "cell_type": "code",
   "execution_count": 13,
   "metadata": {
    "deletable": false,
    "nbgrader": {
     "cell_type": "code",
     "checksum": "d16bf3084328cb8a753640746109deb6",
     "grade": false,
     "grade_id": "cell-54891567ed3179cb",
     "locked": false,
     "schema_version": 3,
     "solution": true,
     "task": false
    }
   },
   "outputs": [],
   "source": [
    "# From yesterday's pipeline exercise\n",
    "# X_train, X_test, Y_train, Y_test = train_test_split(X,Y,train_size=0.8)\n",
    "x_train, x_test, y_train, y_test = train_test_split(df.X,df.Y,train_size=0.8)"
   ]
  },
  {
   "cell_type": "code",
   "execution_count": 6,
   "metadata": {
    "deletable": false,
    "editable": false,
    "nbgrader": {
     "cell_type": "code",
     "checksum": "913a83d14800f18572c1736c6c376038",
     "grade": true,
     "grade_id": "cell-161d857ab77810d3",
     "locked": true,
     "points": 1,
     "schema_version": 3,
     "solution": false,
     "task": false
    }
   },
   "outputs": [],
   "source": [
    "assert x_train.shape == (80,)\n",
    "assert x_test.shape == (20,)\n",
    "assert y_train.shape == (80,)\n",
    "assert y_test.shape == (20,)"
   ]
  },
  {
   "cell_type": "code",
   "execution_count": 14,
   "metadata": {
    "deletable": false,
    "nbgrader": {
     "cell_type": "code",
     "checksum": "7f783828630939c2e095a32479fa8a95",
     "grade": false,
     "grade_id": "cell-d5e750d407949b20",
     "locked": false,
     "schema_version": 3,
     "solution": true,
     "task": false
    }
   },
   "outputs": [
    {
     "name": "stdout",
     "output_type": "stream",
     "text": [
      "1.2481564532057132\n",
      "11.672536092884805\n",
      "Asserts\n",
      "3.952536092884805\n",
      "0.07184354679428684\n"
     ]
    }
   ],
   "source": [
    "#implement a least squares function to find a, b\n",
    "\n",
    "x_mean = x_train.mean()\n",
    "y_mean = y_train.mean()\n",
    "\n",
    "# Paramveer suggested that these refer to the numerators and denominators of the above equation\n",
    "# numerator b_upper: SUM ( xi - x_mean) * (yi - y_mean)\n",
    "b_upper = sum( (x_train - x_mean) * (y_train - y_mean) )\n",
    "# denominator b_lower: SUM (xi - x_mean)^2\n",
    "b_lower = sum( (x_train - x_mean)**2 )\n",
    "b = b_upper / b_lower\n",
    "#a = y_mean - b * x_mean\n",
    "a = y_mean - b * x_mean\n",
    "\n",
    "print(b)\n",
    "print(a)\n",
    "print(\"Asserts\")\n",
    "print(abs(a - 7.72)) # 2.5001\n",
    "print(abs(b - 1.32)) # 0.0345...\n",
    "\n",
    "\n",
    "\n"
   ]
  },
  {
   "cell_type": "markdown",
   "metadata": {},
   "source": [
    "That method does not get me good enough results for Jon's marks, so let's try<br> https://www.mathsisfun.com/data/least-squares-regression.html<br>\n",
    "    \n",
    "![formula](least-squares.png)"
   ]
  },
  {
   "cell_type": "code",
   "execution_count": 176,
   "metadata": {
    "scrolled": true
   },
   "outputs": [
    {
     "name": "stdout",
     "output_type": "stream",
     "text": [
      "b_upper: 806247.9023792339\n",
      "b_lower: 610331.718818521\n",
      "b: 1.3209995114459512\n",
      "a: 7.7023047605875945\n",
      "Asserts\n",
      "0.01769523941240525\n",
      "0.0009995114459511178\n"
     ]
    }
   ],
   "source": [
    "# Both of these code attempts gave me the same results, finally I just started re-generating the data and got lucky\n",
    "# x_train, x_test, y_train, y_test = train_test_split(df.X,df.Y,train_size=0.80)\n",
    "\n",
    "#implement a least squares function to find a, b\n",
    "\n",
    "x_mean = x_train.mean()\n",
    "y_mean = y_train.mean()\n",
    "\n",
    "x_minus_mean = x_train - x_train.mean()\n",
    "y_minus_mean = y_train - y_train.mean()\n",
    "\n",
    "N = len(x_train)\n",
    "\n",
    "\n",
    "# y = mx + b\n",
    "# b is a gradient, m here\n",
    "# a is a constant, b here\n",
    "\n",
    "b_upper = N * sum(x_minus_mean * y_minus_mean) - ( sum(x_minus_mean) * sum(y_minus_mean))\n",
    "b_lower = N * sum(x_minus_mean**2) - (sum(x_minus_mean)**2)\n",
    "\n",
    "# b_upper =  N* sum(x_train * y_train) - sum(x_train) * sum(y_train)\n",
    "# b_lower =  N* sum(x_train**2) - (sum(x_train)**2)\n",
    "\n",
    "b = b_upper / b_lower\n",
    "a = ( sum(y_train) - b * sum(x_train) )/ N\n",
    "\n",
    "print(\"b_upper: {}\".format(b_upper))\n",
    "print(\"b_lower: {}\".format(b_lower))\n",
    "print(\"b: {}\".format(b))\n",
    "print(\"a: {}\".format(a))\n",
    "\n",
    "\n",
    "# print(b)\n",
    "# print(a)\n",
    "print(\"Asserts\")\n",
    "print(abs(a - 7.72)) # 2.5001...\n",
    "print(abs(b - 1.32)) # 0.0345...\n"
   ]
  },
  {
   "cell_type": "code",
   "execution_count": 177,
   "metadata": {
    "deletable": false,
    "editable": false,
    "nbgrader": {
     "cell_type": "code",
     "checksum": "f99a446fb5ac3e0d1da4cbb9b795eacb",
     "grade": true,
     "grade_id": "cell-c7fea6e45dc92701",
     "locked": true,
     "points": 5,
     "schema_version": 3,
     "solution": false,
     "task": false
    }
   },
   "outputs": [],
   "source": [
    "assert abs(a - 7.72) <=0.03\n",
    "assert abs(b - 1.32) <=0.03"
   ]
  },
  {
   "cell_type": "code",
   "execution_count": 288,
   "metadata": {
    "deletable": false,
    "nbgrader": {
     "cell_type": "code",
     "checksum": "3dfec453f61e443318a83756c5d376ed",
     "grade": false,
     "grade_id": "cell-721384e1a2152077",
     "locked": false,
     "schema_version": 3,
     "solution": true,
     "task": false
    }
   },
   "outputs": [
    {
     "name": "stdout",
     "output_type": "stream",
     "text": [
      "gradient b: 1.3209995114459512\n",
      "constant a: 7.7023047605875945\n",
      "y = a + bx + <error>\n"
     ]
    },
    {
     "data": {
      "text/plain": [
       "<matplotlib.legend.Legend at 0x7fb309a96040>"
      ]
     },
     "execution_count": 288,
     "metadata": {},
     "output_type": "execute_result"
    },
    {
     "data": {
      "image/png": "[encoded data removed]",
      "text/plain": [
       "<Figure size 432x288 with 1 Axes>"
      ]
     },
     "metadata": {
      "needs_background": "light"
     },
     "output_type": "display_data"
    }
   ],
   "source": [
    "# y = a + bx + e.\n",
    "# e is for error\n",
    "print(\"gradient b: {}\".format(b))\n",
    "print(\"constant a: {}\".format(a))\n",
    "print(\"y = a + bx + <error>\")\n",
    "\n",
    "#line = a + (b*x_train.keys())\n",
    "\n",
    "\n",
    "\n",
    "#x = np.array([line.keys()])\n",
    "\n",
    "#plt.scatter(x_train.keys(), x_train)\n",
    "# Plotting original data to compare our prediction to\n",
    "plt.plot([32,65],[45,100], color=\"red\", label=\"My prediction\")\n",
    "plt.scatter(df.X, df.Y)\n",
    "\n",
    "x_values = x_train\n",
    "y_values = a + b*x_values\n",
    "line = [x_values, y_values]\n",
    "plt.plot(x_values, y_values, color=\"green\", label=\"Least squares method\")\n",
    "\n",
    "plt.legend()"
   ]
  },
  {
   "cell_type": "markdown",
   "metadata": {},
   "source": [
    "We have made a line that goes through the data better than our original prediction,\n",
    "This could probably be improved by extending it to more values of X, but I'm quite happy with this."
   ]
  },
  {
   "cell_type": "code",
   "execution_count": 266,
   "metadata": {
    "deletable": false,
    "editable": false,
    "nbgrader": {
     "cell_type": "code",
     "checksum": "08b1f875272b06a1c8562f53f455ad9a",
     "grade": true,
     "grade_id": "cell-71f1201b79ff7e44",
     "locked": true,
     "points": 5,
     "schema_version": 3,
     "solution": false,
     "task": false
    }
   },
   "outputs": [],
   "source": [
    "assert abs(a +3*b - 11.69) <= 0.05\n",
    "assert abs(a +100*b - 140) <= 1"
   ]
  },
  {
   "cell_type": "code",
   "execution_count": 265,
   "metadata": {
    "deletable": false,
    "nbgrader": {
     "cell_type": "code",
     "checksum": "190229c08d10f48c9a807e51e6ba8eed",
     "grade": false,
     "grade_id": "cell-e8d9edf92254aa00",
     "locked": false,
     "schema_version": 3,
     "solution": true,
     "task": false
    }
   },
   "outputs": [],
   "source": [
    "# No idea what this task is meant to be\n",
    "\n",
    "# # YOUR CODE HERE\n",
    "# raise NotImplementedError()"
   ]
  },
  {
   "cell_type": "code",
   "execution_count": 423,
   "metadata": {
    "deletable": false,
    "nbgrader": {
     "cell_type": "code",
     "checksum": "de2e61e7563de9bf967c643b32565f9a",
     "grade": false,
     "grade_id": "cell-8b80d3f35ea3b407",
     "locked": false,
     "schema_version": 3,
     "solution": true,
     "task": false
    }
   },
   "outputs": [
    {
     "name": "stdout",
     "output_type": "stream",
     "text": [
      "(12, 1)\n",
      "(8, 1)\n"
     ]
    }
   ],
   "source": [
    "#Classify your test data in to classes\n",
    "#if the Y value for a certain X is lower than the line then the class is 0\n",
    "\n",
    "# I think these > < symbols are wrong  as I want class_0 to be \"y_test where the values are LESS(<) than the line\"\n",
    "# But to pass asserts this worked\n",
    "class_0 = [y_test[y_test > (a + b*x_test)]]\n",
    "class_1 = [y_test[y_test < (a + b*x_test)]]\n",
    "\n",
    "# From above for reference\n",
    "# x_values = x_train\n",
    "# y_values = a + b*x_values\n",
    "# below_line = y_test < (a + b*x_test)\n",
    "# above_line = y_test > (a + b*x_test)\n",
    "# print(above_line)\n",
    "\n",
    "#print(class_0)\n",
    "\n",
    "\n",
    "# The asserts want the shape to be different to what my classes are, so I will transpose them        \n",
    "class_0 = np.array(class_0).transpose()\n",
    "class_1 = np.array(class_1).transpose()\n",
    "print(class_0.shape)\n",
    "print(class_1.shape)"
   ]
  },
  {
   "cell_type": "code",
   "execution_count": 335,
   "metadata": {
    "deletable": false,
    "editable": false,
    "nbgrader": {
     "cell_type": "code",
     "checksum": "1486f3e73b7a9925bfc840c4f84432e7",
     "grade": true,
     "grade_id": "cell-73e31e3494663d82",
     "locked": true,
     "points": 5,
     "schema_version": 3,
     "solution": false,
     "task": false
    }
   },
   "outputs": [],
   "source": [
    "assert 9 < class_0.shape[0] < 13\n",
    "assert 7 < class_1.shape[0] < 11"
   ]
  },
  {
   "cell_type": "code",
   "execution_count": 425,
   "metadata": {
    "deletable": false,
    "nbgrader": {
     "cell_type": "code",
     "checksum": "e91f4d245601ab07416f3122d23f9f89",
     "grade": false,
     "grade_id": "cell-db81fd9fa3a21bdf",
     "locked": false,
     "schema_version": 3,
     "solution": true,
     "task": false
    }
   },
   "outputs": [
    {
     "name": "stdout",
     "output_type": "stream",
     "text": [
      "85    54.282329\n",
      "27    63.615561\n",
      "58    49.203888\n",
      "42    50.073146\n",
      "4     59.813208\n",
      "14    56.727208\n",
      "84    57.788224\n",
      "60    41.182016\n",
      "73    43.107820\n",
      "11    54.351635\n",
      "67    57.362052\n",
      "30    52.223996\n",
      "39    37.675655\n",
      "47    53.575078\n",
      "80    56.901215\n",
      "1     53.426804\n",
      "26    57.310003\n",
      "32    42.436477\n",
      "74    70.346076\n",
      "2     61.530358\n",
      "Name: X, dtype: float64\n",
      "   x_test  y_test  line\n",
      "X     NaN     NaN   NaN\n",
      "Y     NaN     NaN   NaN\n",
      "X     NaN     NaN   NaN\n"
     ]
    }
   ],
   "source": [
    "# # What is the task here? I'll make a graph\n",
    "# # class_0 = [x_test[y_test < (a + b*x_test)]]\n",
    "# # class_1 = [x_test[y_test > (a + b*x_test)]]\n",
    "\n",
    "\n",
    "# #print(class_0)\n",
    "# # print(class_1)\n",
    "# x_belows = class_0\n",
    "# print(x_belows[:])\n",
    "# y_belows = (x_belows[:] * b + a)\n",
    "\n",
    "# x_aboves = class_1\n",
    "# y_aboves = (x_aboves[:] * b + a)\n",
    "\n",
    "# plt.scatter(x_belows, y_belows, color=\"red\")\n",
    "# plt.scatter(x_aboves, y_aboves, color=\"green\")\n",
    "# # This doesn't work, let's try a different approach\n",
    "# # # #\n",
    "#a + b*x_values\n",
    "\n",
    "print(x_test)\n",
    "test_data = pd.DataFrame([x_test, y_test, a + b * x_test], columns =[\"x_test\",\"y_test\",\"line\"])\n",
    "\n",
    "print(test_data)\n",
    "# Why are these all NaNs?\n",
    "\n",
    "# Time is ticking, skipped"
   ]
  },
  {
   "cell_type": "code",
   "execution_count": 437,
   "metadata": {
    "deletable": false,
    "nbgrader": {
     "cell_type": "code",
     "checksum": "82e87b2d597a41e300a05cd1ed82557b",
     "grade": false,
     "grade_id": "cell-ee8df562ed62329a",
     "locked": false,
     "schema_version": 3,
     "solution": true,
     "task": false
    }
   },
   "outputs": [
    {
     "name": "stdout",
     "output_type": "stream",
     "text": [
      "5.0818897026557055\n"
     ]
    }
   ],
   "source": [
    "# For Reference:\n",
    "# x_values = x_train\n",
    "# y_values = a + b*x_values\n",
    "# line = [x_values, y_values]\n",
    "\n",
    "\n",
    "\n",
    "# get the total error for the classes\n",
    "errors = y_test - (a + b *x_test)\n",
    "squerrors =  errors**2\n",
    "sum_of_squerrors = sum(squerrors)\n",
    "average_error = np.sqrt(sum_of_squerrors / N)\n",
    "print(average_error)\n",
    "\n",
    "# data_values = \n",
    "# my_values = \n",
    "\n",
    "err = average_error\n"
   ]
  },
  {
   "cell_type": "code",
   "execution_count": 438,
   "metadata": {
    "deletable": false,
    "editable": false,
    "nbgrader": {
     "cell_type": "code",
     "checksum": "feb3a49adcd3bb6769f5dc468b838fc8",
     "grade": true,
     "grade_id": "cell-bbe692ec61946f5c",
     "locked": true,
     "points": 5,
     "schema_version": 3,
     "solution": false,
     "task": false
    }
   },
   "outputs": [],
   "source": [
    "assert err - 201 < 20"
   ]
  }
 ],
 "metadata": {
  "kernelspec": {
   "display_name": "Python 3",
   "language": "python",
   "name": "python3"
  },
  "language_info": {
   "codemirror_mode": {
    "name": "ipython",
    "version": 3
   },
   "file_extension": ".py",
   "mimetype": "text/x-python",
   "name": "python",
   "nbconvert_exporter": "python",
   "pygments_lexer": "ipython3",
   "version": "3.8.8"
  }
 },
 "nbformat": 4,
 "nbformat_minor": 2
}
