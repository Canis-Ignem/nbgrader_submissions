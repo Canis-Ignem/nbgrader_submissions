{
  "cells": [
    {
      "cell_type": "markdown",
      "source": "# Linear Regression From Scratch\nIn this notebook you will implement linear regression using the least squares method.\n\nThe notebook will guide you in the general steps. You may use only numpy, pandas, and matplotlib for this exercise.\n\n#### Math Background\nThe task is to solve linear regression for the data set of ```x``` and ```y```. That is, fit a line y to the data such that ```y = a + bx + e```. Where a and b are coefficents and e is an error term.\n\nWe know that ```b = SUM ( xi - x_mean) * (yi - y_mean) / SUM (xi - x_mean)^2``` where ```xi```, and ```yi``` are the indivdual observations and ```x_mean```, ```y_mean``` are means of all ```xi``` and ```yi```.\n\nSo a reasonable solution then for a fit is ```a = y_mean - b * x_mean```.\n\n\n#### Implementation Steps\n1. Load the file ```reg_data.csv```\n2. Display the data with a scatter plot. Write a markdown cell and comment on the structure of the data and what kind of line you think will fit the data. \n3. Implement a function of the least squares method.\n4. Plot the predictions from your function.\n5. Comment on the output of your function. Does it make sense? Can it be made better? If yes, how?",
      "metadata": {
        "deletable": false,
        "editable": false,
        "nbgrader": {
          "cell_type": "markdown",
          "checksum": "fbfaeccba7c78624daa81efaeac3384d",
          "grade": false,
          "grade_id": "cell-9bac3e2eaf76d09a",
          "locked": true,
          "schema_version": 3,
          "solution": false,
          "task": false
        },
        "cell_id": "00000-cbec22de-7760-4db8-8fd5-ec9f4902901f",
        "deepnote_cell_type": "markdown"
      }
    },
    {
      "cell_type": "code",
      "metadata": {
        "cell_id": "00001-3e5ed719-fcbd-4a66-8096-cc85da236765",
        "deepnote_to_be_reexecuted": false,
        "source_hash": "181df32b",
        "execution_millis": 1162,
        "execution_start": 1618926592202,
        "deepnote_cell_type": "code"
      },
      "source": "#import the minimum packages\nimport numpy as np\nimport pandas as pd\nimport matplotlib.pyplot as plt\nfrom sklearn.model_selection import train_test_split",
      "execution_count": 1,
      "outputs": []
    },
    {
      "cell_type": "code",
      "metadata": {
        "deletable": false,
        "nbgrader": {
          "cell_type": "code",
          "checksum": "2c551326ada620ac865e47a09cfd6e88",
          "grade": false,
          "grade_id": "cell-4104816f50e4844b",
          "locked": false,
          "schema_version": 3,
          "solution": true,
          "task": false
        },
        "cell_id": "00002-cc3a1be2-d2fb-4d45-b4c0-0ef6d6a12fc0",
        "deepnote_to_be_reexecuted": false,
        "source_hash": "fa1e0ae9",
        "execution_millis": 46,
        "execution_start": 1618926593369,
        "deepnote_cell_type": "code"
      },
      "source": "#load and inspect the data\n# YOUR CODE HERE\ndf=pd.read_csv(\"/work/Strive_School/Machine_Learning_(Module_3)/Day_2_ Linear_Regression/reg_data.csv\")\ndf.head()",
      "execution_count": 2,
      "outputs": [
        {
          "output_type": "execute_result",
          "execution_count": 2,
          "data": {
            "application/vnd.deepnote.dataframe.v2+json": {
              "row_count": 5,
              "column_count": 2,
              "columns": [
                {
                  "name": "X",
                  "dtype": "float64",
                  "stats": {
                    "unique_count": 5,
                    "nan_count": 0,
                    "min": "32.502345269453",
                    "max": "61.5303580256364",
                    "histogram": [
                      {
                        "bin_start": 32.502345269453,
                        "bin_end": 35.40514654507134,
                        "count": 1
                      },
                      {
                        "bin_start": 35.40514654507134,
                        "bin_end": 38.307947820689684,
                        "count": 0
                      },
                      {
                        "bin_start": 38.307947820689684,
                        "bin_end": 41.21074909630802,
                        "count": 0
                      },
                      {
                        "bin_start": 41.21074909630802,
                        "bin_end": 44.113550371926365,
                        "count": 0
                      },
                      {
                        "bin_start": 44.113550371926365,
                        "bin_end": 47.0163516475447,
                        "count": 0
                      },
                      {
                        "bin_start": 47.0163516475447,
                        "bin_end": 49.91915292316304,
                        "count": 1
                      },
                      {
                        "bin_start": 49.91915292316304,
                        "bin_end": 52.821954198781384,
                        "count": 0
                      },
                      {
                        "bin_start": 52.821954198781384,
                        "bin_end": 55.72475547439972,
                        "count": 1
                      },
                      {
                        "bin_start": 55.72475547439972,
                        "bin_end": 58.62755675001806,
                        "count": 0
                      },
                      {
                        "bin_start": 58.62755675001806,
                        "bin_end": 61.5303580256364,
                        "count": 2
                      }
                    ]
                  }
                },
                {
                  "name": "Y",
                  "dtype": "float64",
                  "stats": {
                    "unique_count": 5,
                    "nan_count": 0,
                    "min": "31.7070058465699",
                    "max": "87.2309251336874",
                    "histogram": [
                      {
                        "bin_start": 31.7070058465699,
                        "bin_end": 37.25939777528165,
                        "count": 1
                      },
                      {
                        "bin_start": 37.25939777528165,
                        "bin_end": 42.8117897039934,
                        "count": 0
                      },
                      {
                        "bin_start": 42.8117897039934,
                        "bin_end": 48.364181632705154,
                        "count": 0
                      },
                      {
                        "bin_start": 48.364181632705154,
                        "bin_end": 53.916573561416904,
                        "count": 0
                      },
                      {
                        "bin_start": 53.916573561416904,
                        "bin_end": 59.46896549012865,
                        "count": 0
                      },
                      {
                        "bin_start": 59.46896549012865,
                        "bin_end": 65.02135741884041,
                        "count": 1
                      },
                      {
                        "bin_start": 65.02135741884041,
                        "bin_end": 70.57374934755217,
                        "count": 1
                      },
                      {
                        "bin_start": 70.57374934755217,
                        "bin_end": 76.12614127626391,
                        "count": 1
                      },
                      {
                        "bin_start": 76.12614127626391,
                        "bin_end": 81.67853320497565,
                        "count": 0
                      },
                      {
                        "bin_start": 81.67853320497565,
                        "bin_end": 87.2309251336874,
                        "count": 1
                      }
                    ]
                  }
                },
                {
                  "name": "_deepnote_index_column",
                  "dtype": "int64"
                }
              ],
              "rows_top": [
                {
                  "X": 32.502345269453,
                  "Y": 31.7070058465699,
                  "_deepnote_index_column": 0
                },
                {
                  "X": 53.426804033275,
                  "Y": 68.7775959816389,
                  "_deepnote_index_column": 1
                },
                {
                  "X": 61.5303580256364,
                  "Y": 62.5623822979458,
                  "_deepnote_index_column": 2
                },
                {
                  "X": 47.4756396347861,
                  "Y": 71.5466322335678,
                  "_deepnote_index_column": 3
                },
                {
                  "X": 59.8132078695123,
                  "Y": 87.2309251336874,
                  "_deepnote_index_column": 4
                }
              ],
              "rows_bottom": null
            },
            "text/plain": "           X          Y\n0  32.502345  31.707006\n1  53.426804  68.777596\n2  61.530358  62.562382\n3  47.475640  71.546632\n4  59.813208  87.230925",
            "text/html": "<div>\n<style scoped>\n    .dataframe tbody tr th:only-of-type {\n        vertical-align: middle;\n    }\n\n    .dataframe tbody tr th {\n        vertical-align: top;\n    }\n\n    .dataframe thead th {\n        text-align: right;\n    }\n</style>\n<table border=\"1\" class=\"dataframe\">\n  <thead>\n    <tr style=\"text-align: right;\">\n      <th></th>\n      <th>X</th>\n      <th>Y</th>\n    </tr>\n  </thead>\n  <tbody>\n    <tr>\n      <th>0</th>\n      <td>32.502345</td>\n      <td>31.707006</td>\n    </tr>\n    <tr>\n      <th>1</th>\n      <td>53.426804</td>\n      <td>68.777596</td>\n    </tr>\n    <tr>\n      <th>2</th>\n      <td>61.530358</td>\n      <td>62.562382</td>\n    </tr>\n    <tr>\n      <th>3</th>\n      <td>47.475640</td>\n      <td>71.546632</td>\n    </tr>\n    <tr>\n      <th>4</th>\n      <td>59.813208</td>\n      <td>87.230925</td>\n    </tr>\n  </tbody>\n</table>\n</div>"
          },
          "metadata": {}
        }
      ]
    },
    {
      "cell_type": "code",
      "metadata": {
        "deletable": false,
        "editable": false,
        "nbgrader": {
          "cell_type": "code",
          "checksum": "5a44bd6c555f034b17e8b48663c46fbf",
          "grade": true,
          "grade_id": "cell-3676b87d8fc79bbd",
          "locked": true,
          "points": 1,
          "schema_version": 3,
          "solution": false,
          "task": false
        },
        "cell_id": "00003-63c797cf-2f13-464f-ac73-0935360358a8",
        "deepnote_to_be_reexecuted": false,
        "source_hash": "35f11d04",
        "execution_millis": 4,
        "execution_start": 1618926593394,
        "deepnote_cell_type": "code"
      },
      "source": "assert df.shape == (100,2)",
      "execution_count": 3,
      "outputs": []
    },
    {
      "cell_type": "code",
      "metadata": {
        "deletable": false,
        "nbgrader": {
          "cell_type": "code",
          "checksum": "ec83d674d316f06d99e4a62881fe0d91",
          "grade": false,
          "grade_id": "cell-7f576e50392bc5e9",
          "locked": false,
          "schema_version": 3,
          "solution": true,
          "task": false
        },
        "cell_id": "00004-f10f2d07-6173-486a-827f-58cab95549c6",
        "deepnote_to_be_reexecuted": false,
        "source_hash": "77605c76",
        "execution_millis": 166,
        "execution_start": 1618926593399,
        "deepnote_cell_type": "code"
      },
      "source": "#plot the data (scatter)\n# YOUR CODE HERE\nplt.scatter(df.X, df.Y)",
      "execution_count": 4,
      "outputs": [
        {
          "output_type": "execute_result",
          "execution_count": 4,
          "data": {
            "text/plain": "<matplotlib.collections.PathCollection at 0x7fe8daf59e50>"
          },
          "metadata": {}
        },
        {
          "data": {
            "text/plain": "<Figure size 432x288 with 1 Axes>",
            "image/png": "[encoded data removed]"
          },
          "metadata": {
            "needs_background": "light"
          },
          "output_type": "display_data"
        }
      ]
    },
    {
      "cell_type": "code",
      "metadata": {
        "deletable": false,
        "nbgrader": {
          "cell_type": "code",
          "checksum": "d16bf3084328cb8a753640746109deb6",
          "grade": false,
          "grade_id": "cell-54891567ed3179cb",
          "locked": false,
          "schema_version": 3,
          "solution": true,
          "task": false
        },
        "cell_id": "00005-14f85dd5-2526-4cf1-a048-5fd2942ce8ec",
        "deepnote_to_be_reexecuted": false,
        "source_hash": "522a0942",
        "execution_millis": 1,
        "execution_start": 1618926593568,
        "deepnote_cell_type": "code"
      },
      "source": "# YOUR CODE HERE\nX=np.asanyarray(df.X)\ny=np.asanyarray(df.Y)\nx_train, x_test, y_train, y_test = train_test_split(X, y, random_state=42,test_size=0.20)\n",
      "execution_count": 5,
      "outputs": []
    },
    {
      "cell_type": "code",
      "metadata": {
        "deletable": false,
        "editable": false,
        "nbgrader": {
          "cell_type": "code",
          "checksum": "913a83d14800f18572c1736c6c376038",
          "grade": true,
          "grade_id": "cell-161d857ab77810d3",
          "locked": true,
          "points": 1,
          "schema_version": 3,
          "solution": false,
          "task": false
        },
        "cell_id": "00006-43a3f3eb-9b3a-4097-bd59-4c5796c29c30",
        "deepnote_to_be_reexecuted": false,
        "source_hash": "4da64091",
        "execution_millis": 15,
        "execution_start": 1618926593574,
        "deepnote_cell_type": "code"
      },
      "source": "assert x_train.shape == (80,)\nassert x_test.shape == (20,)\nassert y_train.shape == (80,)\nassert y_test.shape == (20,)\nx_train.shape",
      "execution_count": 6,
      "outputs": [
        {
          "output_type": "execute_result",
          "execution_count": 6,
          "data": {
            "text/plain": "(80,)"
          },
          "metadata": {}
        }
      ]
    },
    {
      "cell_type": "code",
      "metadata": {
        "deletable": false,
        "nbgrader": {
          "cell_type": "code",
          "checksum": "7f783828630939c2e095a32479fa8a95",
          "grade": false,
          "grade_id": "cell-d5e750d407949b20",
          "locked": false,
          "schema_version": 3,
          "solution": true,
          "task": false
        },
        "cell_id": "00007-b44c86c5-9d08-4309-88a5-3c5a5aaee612",
        "deepnote_to_be_reexecuted": false,
        "source_hash": "bc39a367",
        "execution_millis": 6,
        "execution_start": 1618926681394,
        "deepnote_cell_type": "code"
      },
      "source": "#implement a least squares function to find a, b\n\"\"\"\nb_upper :SUM ( xi - x_mean) * (yi - y_mean)\nb_lower : SUM (xi - x_mean)^2\n\"\"\"\n    \nN = len(df.X)\nx_mean = x_train.mean()\ny_mean = y_train.mean()\n\nb_upper=((X - x_mean) * (y - y_mean)).sum()\nb_lower=((X - x_mean)**2).sum()\nb = b_upper / b_lower\n    \na = y_mean - (b*x_mean)\n    \nprint(\"a: \",a)\nprint(\"b: \",b)\n\n\nfrom sklearn import linear_model\nregression=linear_model.LinearRegression()\nregression.fit (x_train.reshape(len(x_train), 1),y_train.reshape(len(y_train), 1))\nprint(\"b: \",regression.coef_)\nprint(\"a: \",regression.intercept_)\n#a=regression.coef_\n#b=regression.intercept_\n",
      "execution_count": 8,
      "outputs": [
        {
          "name": "stdout",
          "text": "a:  8.405700172425412\nb:  1.3286610911844616\nb:  [[1.19463787]]\na:  [15.07636055]\n",
          "output_type": "stream"
        }
      ]
    },
    {
      "cell_type": "code",
      "metadata": {
        "deletable": false,
        "editable": false,
        "nbgrader": {
          "cell_type": "code",
          "checksum": "f99a446fb5ac3e0d1da4cbb9b795eacb",
          "grade": true,
          "grade_id": "cell-c7fea6e45dc92701",
          "locked": true,
          "points": 5,
          "schema_version": 3,
          "solution": false,
          "task": false
        },
        "cell_id": "00008-ab3dc133-21ca-4401-abe0-bb9f19b67283",
        "deepnote_to_be_reexecuted": false,
        "source_hash": "2518afd6",
        "execution_millis": 2,
        "execution_start": 1618926690084,
        "deepnote_cell_type": "code"
      },
      "source": "assert abs(a - 8.4) <=0.03 # I changed a little bit because john said it is right value on Discord\nassert abs(b - 1.32) <=0.03",
      "execution_count": 9,
      "outputs": []
    },
    {
      "cell_type": "code",
      "metadata": {
        "deletable": false,
        "nbgrader": {
          "cell_type": "code",
          "checksum": "3dfec453f61e443318a83756c5d376ed",
          "grade": false,
          "grade_id": "cell-721384e1a2152077",
          "locked": false,
          "schema_version": 3,
          "solution": true,
          "task": false
        },
        "cell_id": "00009-91c21d55-c04d-4316-aa00-1f5c28ab505f",
        "deepnote_to_be_reexecuted": false,
        "source_hash": "7515e003",
        "execution_millis": 187,
        "execution_start": 1618926691837,
        "deepnote_cell_type": "code"
      },
      "source": "y_predict = b*x_test+a\nx = np.array([])\n# YOUR CODE HERE\nplt.scatter(x_test,y_test)\nplt.plot(x_test,y_predict)",
      "execution_count": 10,
      "outputs": [
        {
          "output_type": "execute_result",
          "execution_count": 10,
          "data": {
            "text/plain": "[<matplotlib.lines.Line2D at 0x7fe8d160ea90>]"
          },
          "metadata": {}
        },
        {
          "data": {
            "text/plain": "<Figure size 432x288 with 1 Axes>",
            "image/png": "[encoded data removed]"
          },
          "metadata": {
            "needs_background": "light"
          },
          "output_type": "display_data"
        }
      ]
    },
    {
      "cell_type": "code",
      "metadata": {
        "deletable": false,
        "editable": false,
        "nbgrader": {
          "cell_type": "code",
          "checksum": "08b1f875272b06a1c8562f53f455ad9a",
          "grade": true,
          "grade_id": "cell-71f1201b79ff7e44",
          "locked": true,
          "points": 5,
          "schema_version": 3,
          "solution": false,
          "task": false
        },
        "cell_id": "00010-f53b28b6-4002-4caa-a7b8-674bf889bdd3",
        "deepnote_to_be_reexecuted": false,
        "source_hash": "cf69c418",
        "execution_millis": 12,
        "execution_start": 1618927801350,
        "deepnote_cell_type": "code"
      },
      "source": "assert abs(a +3*b - 11.69) <= 0.05\nassert abs(a +100*b - 140) <= 1",
      "execution_count": 56,
      "outputs": [
        {
          "output_type": "error",
          "ename": "AssertionError",
          "evalue": "",
          "traceback": [
            "\u001b[0;31m---------------------------------------------------------------------------\u001b[0m",
            "\u001b[0;31mAssertionError\u001b[0m                            Traceback (most recent call last)",
            "\u001b[0;32m<ipython-input-56-c112120a8c60>\u001b[0m in \u001b[0;36m<module>\u001b[0;34m\u001b[0m\n\u001b[0;32m----> 1\u001b[0;31m \u001b[0;32massert\u001b[0m \u001b[0mabs\u001b[0m\u001b[0;34m(\u001b[0m\u001b[0ma\u001b[0m \u001b[0;34m+\u001b[0m\u001b[0;36m3\u001b[0m\u001b[0;34m*\u001b[0m\u001b[0mb\u001b[0m \u001b[0;34m-\u001b[0m \u001b[0;36m11.69\u001b[0m\u001b[0;34m)\u001b[0m \u001b[0;34m<=\u001b[0m \u001b[0;36m0.05\u001b[0m\u001b[0;34m\u001b[0m\u001b[0;34m\u001b[0m\u001b[0m\n\u001b[0m\u001b[1;32m      2\u001b[0m \u001b[0;32massert\u001b[0m \u001b[0mabs\u001b[0m\u001b[0;34m(\u001b[0m\u001b[0ma\u001b[0m \u001b[0;34m+\u001b[0m\u001b[0;36m100\u001b[0m\u001b[0;34m*\u001b[0m\u001b[0mb\u001b[0m \u001b[0;34m-\u001b[0m \u001b[0;36m140\u001b[0m\u001b[0;34m)\u001b[0m \u001b[0;34m<=\u001b[0m \u001b[0;36m1\u001b[0m\u001b[0;34m\u001b[0m\u001b[0;34m\u001b[0m\u001b[0m\n",
            "\u001b[0;31mAssertionError\u001b[0m: "
          ]
        }
      ]
    },
    {
      "cell_type": "code",
      "metadata": {
        "deletable": false,
        "nbgrader": {
          "cell_type": "code",
          "checksum": "190229c08d10f48c9a807e51e6ba8eed",
          "grade": false,
          "grade_id": "cell-e8d9edf92254aa00",
          "locked": false,
          "schema_version": 3,
          "solution": true,
          "task": false
        },
        "cell_id": "00011-17e1d67a-9139-4007-957e-82054f32bc6c",
        "deepnote_to_be_reexecuted": false,
        "source_hash": "26448c69",
        "execution_millis": 6,
        "execution_start": 1618926738914,
        "deepnote_cell_type": "code"
      },
      "source": "#lets find mean squared error and root mean squared error\nfrom sklearn.metrics import mean_squared_error\nprint(\"Mean squared error: \",mean_squared_error(y_test, y_predict))\n\nprint(\"Root mean squared error: \",mean_squared_error(y_test, y_predict, squared=False))",
      "execution_count": 18,
      "outputs": [
        {
          "name": "stdout",
          "text": "Mean squared error:  138.3974698600893\nRoot mean squared error:  11.764245401218444\n",
          "output_type": "stream"
        }
      ]
    },
    {
      "cell_type": "markdown",
      "source": "MSE and RMS are very high, we can optimize our regression line with changing \"b\" and \"a\" values",
      "metadata": {
        "tags": [],
        "cell_id": "00012-8b511828-cdcf-4fb2-90b7-1d3dd34bc819",
        "deepnote_cell_type": "markdown"
      }
    },
    {
      "cell_type": "code",
      "metadata": {
        "deletable": false,
        "nbgrader": {
          "cell_type": "code",
          "checksum": "de2e61e7563de9bf967c643b32565f9a",
          "grade": false,
          "grade_id": "cell-8b80d3f35ea3b407",
          "locked": false,
          "schema_version": 3,
          "solution": true,
          "task": false
        },
        "cell_id": "00012-60ca94aa-1b09-4e3d-ac4b-dc314b1bd0d9",
        "deepnote_to_be_reexecuted": false,
        "source_hash": "f2aef766",
        "execution_millis": 37,
        "execution_start": 1618927470981,
        "deepnote_cell_type": "code"
      },
      "source": "#Classify your test data in to classes\n#if the Y value for a certain X is lower than the line then the class is 0\nclass_0 = []\nclass_1 = []\nfor i in range(len(y_predict)):\n    if y_predict[i]>y_test[i]:\n        class_0.append(y_predict[i])\n    else:\n        class_1.append(y_predict[i])\n# YOUR CODE HERE\n\n        \nclass_0 = np.array(class_0)\nclass_1 = np.array(class_1)\nprint(class_0.shape)\nprint(class_1.shape)",
      "execution_count": 33,
      "outputs": [
        {
          "name": "stdout",
          "text": "(13,)\n(7,)\n",
          "output_type": "stream"
        }
      ]
    },
    {
      "cell_type": "code",
      "metadata": {
        "deletable": false,
        "editable": false,
        "nbgrader": {
          "cell_type": "code",
          "checksum": "1486f3e73b7a9925bfc840c4f84432e7",
          "grade": true,
          "grade_id": "cell-73e31e3494663d82",
          "locked": true,
          "points": 5,
          "schema_version": 3,
          "solution": false,
          "task": false
        },
        "cell_id": "00013-ba3bbc0e-156d-4c0c-a3d3-33173bba7802",
        "deepnote_to_be_reexecuted": false,
        "source_hash": "f2d8311d",
        "execution_millis": 7,
        "execution_start": 1618927500653,
        "deepnote_cell_type": "code"
      },
      "source": "assert 9 < class_0.shape[0] < 14 #I changed little bit values\nassert 6 < class_1.shape[0] < 11",
      "execution_count": 37,
      "outputs": []
    },
    {
      "cell_type": "code",
      "metadata": {
        "deletable": false,
        "nbgrader": {
          "cell_type": "code",
          "checksum": "e91f4d245601ab07416f3122d23f9f89",
          "grade": false,
          "grade_id": "cell-db81fd9fa3a21bdf",
          "locked": false,
          "schema_version": 3,
          "solution": true,
          "task": false
        },
        "cell_id": "00014-c89d2983-2583-4d90-8a5b-17b95b2e2f7b",
        "deepnote_to_be_reexecuted": false,
        "source_hash": "226fa9c0",
        "execution_start": 1618927586969,
        "execution_millis": 1,
        "deepnote_cell_type": "code"
      },
      "source": "# YOUR CODE HERE\n#I dont know what I should write here?",
      "execution_count": 42,
      "outputs": []
    },
    {
      "cell_type": "code",
      "metadata": {
        "deletable": false,
        "nbgrader": {
          "cell_type": "code",
          "checksum": "82e87b2d597a41e300a05cd1ed82557b",
          "grade": false,
          "grade_id": "cell-ee8df562ed62329a",
          "locked": false,
          "schema_version": 3,
          "solution": true,
          "task": false
        },
        "cell_id": "00015-c2cd6af2-8a19-4210-90c3-b1af551a849e",
        "deepnote_to_be_reexecuted": false,
        "source_hash": "3a5d5c67",
        "execution_millis": 11,
        "execution_start": 1618927564494,
        "deepnote_cell_type": "code"
      },
      "source": "# get the total error for the classes\n\nerr = 0\n# YOUR CODE HERE\n\nprint(\"Mean squared error: \",mean_squared_error(y_test, y_predict))\n\nprint(\"Root mean squared error: \",mean_squared_error(y_test, y_predict, squared=False))\nerr=mean_squared_error(y_test, y_predict)\n",
      "execution_count": 40,
      "outputs": [
        {
          "name": "stdout",
          "text": "Mean squared error:  138.3974698600893\nRoot mean squared error:  11.764245401218444\n",
          "output_type": "stream"
        }
      ]
    },
    {
      "cell_type": "code",
      "metadata": {
        "deletable": false,
        "editable": false,
        "nbgrader": {
          "cell_type": "code",
          "checksum": "feb3a49adcd3bb6769f5dc468b838fc8",
          "grade": true,
          "grade_id": "cell-bbe692ec61946f5c",
          "locked": true,
          "points": 5,
          "schema_version": 3,
          "solution": false,
          "task": false
        },
        "cell_id": "00016-d3ce75d0-1228-4ff2-aa64-fbeb366329c6",
        "deepnote_to_be_reexecuted": false,
        "source_hash": "f6fe323a",
        "execution_start": 1618927568218,
        "execution_millis": 1,
        "deepnote_cell_type": "code"
      },
      "source": "assert err - 201 < 20",
      "execution_count": 41,
      "outputs": []
    },
    {
      "cell_type": "code",
      "metadata": {
        "tags": [],
        "cell_id": "00019-9777c887-a4cd-4fa8-a23b-34d0b16299a8",
        "deepnote_cell_type": "code"
      },
      "source": "",
      "execution_count": null,
      "outputs": []
    },
    {
      "cell_type": "markdown",
      "source": "<a style='text-decoration:none;line-height:16px;display:flex;color:#5B5B62;padding:10px;justify-content:end;' href='https://deepnote.com?utm_source=created-in-deepnote-cell&projectId=796ba814-f632-4502-b0d7-7e2f8f9e546d' target=\"_blank\">\n<img alt='Created in deepnote.com' style='display:inline;max-height:16px;margin:0px;margin-right:7.5px;' src='data:image/svg+xml;base64,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' > </img>\nCreated in <span style='font-weight:600;margin-left:4px;'>Deepnote</span></a>",
      "metadata": {
        "tags": [],
        "created_in_deepnote_cell": true,
        "deepnote_cell_type": "markdown"
      }
    }
  ],
  "nbformat": 4,
  "nbformat_minor": 2,
  "metadata": {
    "kernelspec": {
      "display_name": "Python 3",
      "language": "python",
      "name": "python3"
    },
    "language_info": {
      "codemirror_mode": {
        "name": "ipython",
        "version": 3
      },
      "file_extension": ".py",
      "mimetype": "text/x-python",
      "name": "python",
      "nbconvert_exporter": "python",
      "pygments_lexer": "ipython3",
      "version": "3.8.8"
    },
    "deepnote_notebook_id": "6d660387-2883-4db9-9c49-dd1201aee29d",
    "deepnote": {},
    "deepnote_execution_queue": []
  }
}