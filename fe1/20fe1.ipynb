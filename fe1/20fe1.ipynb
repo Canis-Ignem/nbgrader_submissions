{
 "cells": [
  {
   "cell_type": "markdown",
   "metadata": {},
   "source": [
    "## Imports"
   ]
  },
  {
   "cell_type": "code",
   "execution_count": null,
   "metadata": {},
   "outputs": [],
   "source": [
    "# pip install --upgrade scikit-learn"
   ]
  },
  {
   "cell_type": "code",
   "execution_count": 2,
   "metadata": {
    "colab": {},
    "colab_type": "code",
    "id": "mjnuJ19dJV7v"
   },
   "outputs": [
    {
     "output_type": "stream",
     "name": "stdout",
     "text": [
      "Pandas   1.2.4\nSklearn  0.24.1\n"
     ]
    }
   ],
   "source": [
    "import time\n",
    "from IPython.display import clear_output\n",
    "import numpy    as np\n",
    "import pandas   as pd\n",
    "import seaborn  as sb\n",
    "import matplotlib.pyplot as plt\n",
    "import sklearn  as skl\n",
    "\n",
    "from sklearn import pipeline      # Pipeline\n",
    "from sklearn import preprocessing # OrdinalEncoder, LabelEncoder\n",
    "from sklearn import impute\n",
    "from sklearn import compose\n",
    "from sklearn import model_selection # train_test_split\n",
    "from sklearn import metrics         # accuracy_score, balanced_accuracy_score, plot_confusion_matrix\n",
    "from sklearn import set_config\n",
    "\n",
    "set_config(display='diagram') # Useful for display the pipeline\n",
    "\n",
    "print(\"Pandas  \", pd.__version__)\n",
    "print(\"Sklearn \", skl.__version__) # Try to use 0.24"
   ]
  },
  {
   "cell_type": "markdown",
   "metadata": {},
   "source": [
    "## Get the dataset\n",
    "- **CLOUD = True**: Download dataset from Kaggle. Necesary for cloud enviroments like COLAB. **Specify your [kaggle credentials](https://www.kaggle.com/docs/api)**.\n",
    "- **CLOUD = False**: Get the dataset from your local machine. **Specify the data path**."
   ]
  },
  {
   "cell_type": "code",
   "execution_count": 3,
   "metadata": {},
   "outputs": [],
   "source": [
    "CLOUD = False\n",
    "\n",
    "if CLOUD:\n",
    "    import os\n",
    "    os.environ['KAGGLE_USERNAME'] = \"your_kaggle_username\"\n",
    "    os.environ['KAGGLE_KEY']      = \"your_kaggle_api_key\"  # See https://www.kaggle.com/docs/api\n",
    "    !pip install --upgrade kaggle\n",
    "    !kaggle competitions download -c titanic\n",
    "    DATA_PATH = \"./\"\n",
    "\n",
    "else:\n",
    "    DATA_PATH = \"../../Datasets/Tabular/titanic/\""
   ]
  },
  {
   "cell_type": "markdown",
   "metadata": {},
   "source": [
    "## Load data"
   ]
  },
  {
   "cell_type": "code",
   "execution_count": 4,
   "metadata": {
    "colab": {},
    "colab_type": "code",
    "id": "wAy8TnVPJV8S"
   },
   "outputs": [
    {
     "output_type": "stream",
     "name": "stdout",
     "text": [
      "Train DataFrame: (891, 11)\nTest DataFrame:  (418, 10)\n"
     ]
    },
    {
     "output_type": "execute_result",
     "data": {
      "text/plain": [
       "             Survived  Pclass  \\\n",
       "PassengerId                     \n",
       "1                   0       3   \n",
       "2                   1       1   \n",
       "3                   1       3   \n",
       "4                   1       1   \n",
       "5                   0       3   \n",
       "\n",
       "                                                          Name     Sex   Age  \\\n",
       "PassengerId                                                                    \n",
       "1                                      Braund, Mr. Owen Harris    male  22.0   \n",
       "2            Cumings, Mrs. John Bradley (Florence Briggs Th...  female  38.0   \n",
       "3                                       Heikkinen, Miss. Laina  female  26.0   \n",
       "4                 Futrelle, Mrs. Jacques Heath (Lily May Peel)  female  35.0   \n",
       "5                                     Allen, Mr. William Henry    male  35.0   \n",
       "\n",
       "             SibSp  Parch            Ticket     Fare Cabin Embarked  \n",
       "PassengerId                                                          \n",
       "1                1      0         A/5 21171   7.2500   NaN        S  \n",
       "2                1      0          PC 17599  71.2833   C85        C  \n",
       "3                0      0  STON/O2. 3101282   7.9250   NaN        S  \n",
       "4                1      0            113803  53.1000  C123        S  \n",
       "5                0      0            373450   8.0500   NaN        S  "
      ],
      "text/html": "<div>\n<style scoped>\n    .dataframe tbody tr th:only-of-type {\n        vertical-align: middle;\n    }\n\n    .dataframe tbody tr th {\n        vertical-align: top;\n    }\n\n    .dataframe thead th {\n        text-align: right;\n    }\n</style>\n<table border=\"1\" class=\"dataframe\">\n  <thead>\n    <tr style=\"text-align: right;\">\n      <th></th>\n      <th>Survived</th>\n      <th>Pclass</th>\n      <th>Name</th>\n      <th>Sex</th>\n      <th>Age</th>\n      <th>SibSp</th>\n      <th>Parch</th>\n      <th>Ticket</th>\n      <th>Fare</th>\n      <th>Cabin</th>\n      <th>Embarked</th>\n    </tr>\n    <tr>\n      <th>PassengerId</th>\n      <th></th>\n      <th></th>\n      <th></th>\n      <th></th>\n      <th></th>\n      <th></th>\n      <th></th>\n      <th></th>\n      <th></th>\n      <th></th>\n      <th></th>\n    </tr>\n  </thead>\n  <tbody>\n    <tr>\n      <th>1</th>\n      <td>0</td>\n      <td>3</td>\n      <td>Braund, Mr. Owen Harris</td>\n      <td>male</td>\n      <td>22.0</td>\n      <td>1</td>\n      <td>0</td>\n      <td>A/5 21171</td>\n      <td>7.2500</td>\n      <td>NaN</td>\n      <td>S</td>\n    </tr>\n    <tr>\n      <th>2</th>\n      <td>1</td>\n      <td>1</td>\n      <td>Cumings, Mrs. John Bradley (Florence Briggs Th...</td>\n      <td>female</td>\n      <td>38.0</td>\n      <td>1</td>\n      <td>0</td>\n      <td>PC 17599</td>\n      <td>71.2833</td>\n      <td>C85</td>\n      <td>C</td>\n    </tr>\n    <tr>\n      <th>3</th>\n      <td>1</td>\n      <td>3</td>\n      <td>Heikkinen, Miss. Laina</td>\n      <td>female</td>\n      <td>26.0</td>\n      <td>0</td>\n      <td>0</td>\n      <td>STON/O2. 3101282</td>\n      <td>7.9250</td>\n      <td>NaN</td>\n      <td>S</td>\n    </tr>\n    <tr>\n      <th>4</th>\n      <td>1</td>\n      <td>1</td>\n      <td>Futrelle, Mrs. Jacques Heath (Lily May Peel)</td>\n      <td>female</td>\n      <td>35.0</td>\n      <td>1</td>\n      <td>0</td>\n      <td>113803</td>\n      <td>53.1000</td>\n      <td>C123</td>\n      <td>S</td>\n    </tr>\n    <tr>\n      <th>5</th>\n      <td>0</td>\n      <td>3</td>\n      <td>Allen, Mr. William Henry</td>\n      <td>male</td>\n      <td>35.0</td>\n      <td>0</td>\n      <td>0</td>\n      <td>373450</td>\n      <td>8.0500</td>\n      <td>NaN</td>\n      <td>S</td>\n    </tr>\n  </tbody>\n</table>\n</div>"
     },
     "metadata": {},
     "execution_count": 4
    }
   ],
   "source": [
    "df      = pd.read_csv(DATA_PATH + \"train.csv\", index_col='PassengerId')\n",
    "df_test = pd.read_csv(DATA_PATH + \"test.csv\",  index_col='PassengerId')\n",
    "\n",
    "print(\"Train DataFrame:\", df.shape)\n",
    "print(\"Test DataFrame: \", df_test.shape)\n",
    "df.head()"
   ]
  },
  {
   "cell_type": "markdown",
   "metadata": {},
   "source": [
    "## Check missings"
   ]
  },
  {
   "cell_type": "code",
   "execution_count": 5,
   "metadata": {},
   "outputs": [
    {
     "output_type": "execute_result",
     "data": {
      "text/plain": [
       "Survived    0.000000\n",
       "Pclass      0.000000\n",
       "Name        0.000000\n",
       "Sex         0.000000\n",
       "Age         0.198653\n",
       "SibSp       0.000000\n",
       "Parch       0.000000\n",
       "Ticket      0.000000\n",
       "Fare        0.000000\n",
       "Cabin       0.771044\n",
       "Embarked    0.002245\n",
       "dtype: float64"
      ]
     },
     "metadata": {},
     "execution_count": 5
    }
   ],
   "source": [
    "df.isnull().sum() / len(df) #Embark is missing in full data (Calculating percentage missing)"
   ]
  },
  {
   "cell_type": "code",
   "execution_count": 6,
   "metadata": {},
   "outputs": [
    {
     "output_type": "execute_result",
     "data": {
      "text/plain": [
       "Pclass      0.000000\n",
       "Name        0.000000\n",
       "Sex         0.000000\n",
       "Age         0.096521\n",
       "SibSp       0.000000\n",
       "Parch       0.000000\n",
       "Ticket      0.000000\n",
       "Fare        0.001122\n",
       "Cabin       0.367003\n",
       "Embarked    0.000000\n",
       "dtype: float64"
      ]
     },
     "metadata": {},
     "execution_count": 6
    }
   ],
   "source": [
    "df_test.isnull().sum() / len(df) #Fare is missing in test data (calculating the percentage missing)"
   ]
  },
  {
   "cell_type": "markdown",
   "metadata": {},
   "source": [
    "# Exercise 1 (2pts):\n",
    "Extract the title (Mr, Mrs, ... ) from the \"Name\" column.\n",
    "\n",
    "Tips:\n",
    "- split(',')[1] to get the 2nd part, and remove the surnamename\n",
    "- split('.')[0] to get the 1str part, and remove the name"
   ]
  },
  {
   "cell_type": "code",
   "execution_count": 7,
   "metadata": {
    "deletable": false,
    "nbgrader": {
     "cell_type": "code",
     "checksum": "cac1de4ed2d966fcdf707a8bfd131fba",
     "grade": false,
     "grade_id": "cell-d56107842f0f54d2",
     "locked": false,
     "schema_version": 3,
     "solution": true,
     "task": false
    }
   },
   "outputs": [],
   "source": [
    "# CODE HERE get_Title_from_Name funtion\n",
    "# Create this function using lambda (not def)\n",
    "\n",
    "get_Title_from_Name = lambda x: x.split(',')[1].split('.')[0].strip()\n",
    "\n",
    "# YOUR CODE HERE\n",
    "\n",
    "#raise NotImplementedError()\n",
    "\n",
    "df['Title']      = df['Name'].map(get_Title_from_Name)\n",
    "df_test['Title'] = df_test['Name'].map(get_Title_from_Name)"
   ]
  },
  {
   "cell_type": "code",
   "execution_count": 8,
   "metadata": {
    "deletable": false,
    "editable": false,
    "nbgrader": {
     "cell_type": "code",
     "checksum": "f23c4d567e5fb4f4b69a001df14c6f7c",
     "grade": true,
     "grade_id": "cell-f3d989a17018344b",
     "locked": true,
     "points": 2,
     "schema_version": 3,
     "solution": false,
     "task": false
    }
   },
   "outputs": [],
   "source": [
    "assert df['Title'].values[0] == \"Mr\"\n",
    "assert df['Title'].values[1] == \"Mrs\"\n",
    "assert df['Title'].values[2] == \"Miss\"\n",
    "\n",
    "assert df_test['Title'].values[0] == \"Mr\"\n",
    "assert df_test['Title'].values[1] == \"Mrs\"\n",
    "assert df_test['Title'].values[414] == \"Dona\""
   ]
  },
  {
   "cell_type": "markdown",
   "metadata": {},
   "source": [
    "# Exercise 2 (1pts):\n",
    "Apply the title_dictionary to get a better information about the title. You have to overwrite the Title variable."
   ]
  },
  {
   "cell_type": "code",
   "execution_count": 9,
   "metadata": {},
   "outputs": [],
   "source": [
    "title_dictionary = {\n",
    "    \"Capt\": \"Officer\",\n",
    "    \"Col\": \"Officer\",\n",
    "    \"Major\": \"Officer\",\n",
    "    \"Jonkheer\": \"Royalty\",\n",
    "    \"Don\": \"Royalty\",\n",
    "    \"Sir\" : \"Royalty\",\n",
    "    \"Dr\": \"Officer\",\n",
    "    \"Rev\": \"Officer\",\n",
    "    \"the Countess\":\"Royalty\",\n",
    "    \"Mme\": \"Mrs\",\n",
    "    \"Mlle\": \"Miss\",\n",
    "    \"Ms\": \"Mrs\",\n",
    "    \"Mr\" : \"Mr\",\n",
    "    \"Mrs\" : \"Mrs\",\n",
    "    \"Miss\" : \"Miss\",\n",
    "    \"Master\" : \"Master\",\n",
    "    \"Lady\" : \"Royalty\"\n",
    "}"
   ]
  },
  {
   "cell_type": "code",
   "execution_count": 10,
   "metadata": {
    "deletable": false,
    "nbgrader": {
     "cell_type": "code",
     "checksum": "da7233548e7218eded680b5edb7963de",
     "grade": false,
     "grade_id": "cell-5c6a842c812fafda",
     "locked": false,
     "schema_version": 3,
     "solution": true,
     "task": false
    }
   },
   "outputs": [],
   "source": [
    "# Use map to apply the prevous dict\n",
    "\n",
    "\n",
    "# YOUR CODE HERE\n",
    "\n",
    "df[\"Title\"] = df.Title.map(title_dictionary)\n",
    "df_test[\"Title\"] = df_test.Title.map(title_dictionary)\n",
    "#raise NotImplementedError()"
   ]
  },
  {
   "cell_type": "code",
   "execution_count": 11,
   "metadata": {
    "deletable": false,
    "editable": false,
    "nbgrader": {
     "cell_type": "code",
     "checksum": "96a09f1cde63b704ff2f391309c30690",
     "grade": true,
     "grade_id": "cell-669f5a637e57e835",
     "locked": true,
     "points": 1,
     "schema_version": 3,
     "solution": false,
     "task": false
    }
   },
   "outputs": [],
   "source": [
    "assert df['Title'].values[886] == \"Officer\"\n",
    "assert df_test['Title'].values[417] == \"Master\""
   ]
  },
  {
   "cell_type": "markdown",
   "metadata": {},
   "source": [
    "# Exercise OPTINAL (0pts):\n",
    "Try to extract some information from the feature **Ticket**. Search on Internet if that colum has some kind of information."
   ]
  },
  {
   "cell_type": "code",
   "execution_count": 45,
   "metadata": {},
   "outputs": [],
   "source": [
    "df_test['Ticket']"
   ]
  },
  {
   "cell_type": "markdown",
   "metadata": {},
   "source": [
    "# Exercise OPTIONAL (0pts):\n",
    "Try to extract some information from the feature **Cabin**. Search on Internet if that colum has some kind of information."
   ]
  },
  {
   "cell_type": "code",
   "execution_count": null,
   "metadata": {},
   "outputs": [],
   "source": [
    "df_test['Cabin']"
   ]
  },
  {
   "cell_type": "markdown",
   "metadata": {},
   "source": [
    "# Preprocessing\n",
    "For X data, notice that...\n",
    "- We drop Survived because is the target variable\n",
    "- We drop Name because we have extracted the Title: Mr, Mrs, ...\n",
    "- We drop Ticket because it has no information -> see df.Ticket.nunique()\n",
    "- We drop Cabin because it has a lot of missings (77% are missings)\n",
    "\n",
    "Then, we identify **numerical** variables and **categorical** variables,"
   ]
  },
  {
   "cell_type": "code",
   "execution_count": 12,
   "metadata": {},
   "outputs": [],
   "source": [
    "x = df.drop(columns=[\"Survived\", 'Name', 'Ticket', 'Cabin']) # X DATA (WILL BE TRAIN+VALID DATA)\n",
    "y = df[\"Survived\"] # 0 = No, 1 = Yes\n",
    "\n",
    "x_test = df_test.drop(columns=['Name', 'Ticket', 'Cabin']) # # X_TEST DATA (NEW DATA)"
   ]
  },
  {
   "cell_type": "code",
   "execution_count": 13,
   "metadata": {},
   "outputs": [
    {
     "output_type": "stream",
     "name": "stdout",
     "text": [
      "\nNumerical features:\n ['Pclass', 'SibSp', 'Parch', 'Fare', 'Age']\n\nCategorical features:\n ['Sex', 'Embarked', 'Title']\n"
     ]
    }
   ],
   "source": [
    "cat_vars  = ['Sex', 'Embarked', 'Title']         # x.select_dtypes(include=[object]).columns.values.tolist()\n",
    "num_vars  = ['Pclass', 'SibSp', 'Parch', 'Fare', 'Age'] # x.select_dtypes(exclude=[object]).columns.values.tolist()\n",
    "\n",
    "print(\"\\nNumerical features:\\n\", num_vars)\n",
    "print(\"\\nCategorical features:\\n\", cat_vars)"
   ]
  },
  {
   "cell_type": "markdown",
   "metadata": {},
   "source": [
    "# Exercise 3 (2pts):\n",
    "Create a **ColumnTransformer for Tree Models**. You need to create 2 pipelines (one for numerical and other for categories). Remember:\n",
    "- Categorical pipeline: Some SimpleImputer -> Some Encoder\n",
    "- Numerical pipeline: Some SimpleImputer -> NO Encoder"
   ]
  },
  {
   "cell_type": "code",
   "execution_count": 26,
   "metadata": {
    "deletable": false,
    "nbgrader": {
     "cell_type": "code",
     "checksum": "4a99fc5ecc693dc549b0e1560c568eea",
     "grade": false,
     "grade_id": "cell-c607e75fb38ea248",
     "locked": false,
     "schema_version": 3,
     "solution": true,
     "task": false
    }
   },
   "outputs": [
    {
     "output_type": "execute_result",
     "data": {
      "text/plain": [
       "ColumnTransformer(transformers=[('num',\n",
       "                                 Pipeline(steps=[('imputer',\n",
       "                                                  SimpleImputer(fill_value=-9999,\n",
       "                                                                strategy='constant'))]),\n",
       "                                 ['Pclass', 'SibSp', 'Parch', 'Fare', 'Age']),\n",
       "                                ('cat',\n",
       "                                 Pipeline(steps=[('imputer',\n",
       "                                                  SimpleImputer(fill_value='missing',\n",
       "                                                                strategy='constant')),\n",
       "                                                 ('OrdinalEncoder',\n",
       "                                                  OrdinalEncoder(handle_unknown='use_encoder_value'))]),\n",
       "                                 ['Sex', 'Embarked', 'Title'])])"
      ],
      "text/html": "<style>div.sk-top-container {color: black;background-color: white;}div.sk-toggleable {background-color: white;}label.sk-toggleable__label {cursor: pointer;display: block;width: 100%;margin-bottom: 0;padding: 0.2em 0.3em;box-sizing: border-box;text-align: center;}div.sk-toggleable__content {max-height: 0;max-width: 0;overflow: hidden;text-align: left;background-color: #f0f8ff;}div.sk-toggleable__content pre {margin: 0.2em;color: black;border-radius: 0.25em;background-color: #f0f8ff;}input.sk-toggleable__control:checked~div.sk-toggleable__content {max-height: 200px;max-width: 100%;overflow: auto;}div.sk-estimator input.sk-toggleable__control:checked~label.sk-toggleable__label {background-color: #d4ebff;}div.sk-label input.sk-toggleable__control:checked~label.sk-toggleable__label {background-color: #d4ebff;}input.sk-hidden--visually {border: 0;clip: rect(1px 1px 1px 1px);clip: rect(1px, 1px, 1px, 1px);height: 1px;margin: -1px;overflow: hidden;padding: 0;position: absolute;width: 1px;}div.sk-estimator {font-family: monospace;background-color: #f0f8ff;margin: 0.25em 0.25em;border: 1px dotted black;border-radius: 0.25em;box-sizing: border-box;}div.sk-estimator:hover {background-color: #d4ebff;}div.sk-parallel-item::after {content: \"\";width: 100%;border-bottom: 1px solid gray;flex-grow: 1;}div.sk-label:hover label.sk-toggleable__label {background-color: #d4ebff;}div.sk-serial::before {content: \"\";position: absolute;border-left: 1px solid gray;box-sizing: border-box;top: 2em;bottom: 0;left: 50%;}div.sk-serial {display: flex;flex-direction: column;align-items: center;background-color: white;}div.sk-item {z-index: 1;}div.sk-parallel {display: flex;align-items: stretch;justify-content: center;background-color: white;}div.sk-parallel-item {display: flex;flex-direction: column;position: relative;background-color: white;}div.sk-parallel-item:first-child::after {align-self: flex-end;width: 50%;}div.sk-parallel-item:last-child::after {align-self: flex-start;width: 50%;}div.sk-parallel-item:only-child::after {width: 0;}div.sk-dashed-wrapped {border: 1px dashed gray;margin: 0.2em;box-sizing: border-box;padding-bottom: 0.1em;background-color: white;position: relative;}div.sk-label label {font-family: monospace;font-weight: bold;background-color: white;display: inline-block;line-height: 1.2em;}div.sk-label-container {position: relative;z-index: 2;text-align: center;}div.sk-container {display: inline-block;position: relative;}</style><div class=\"sk-top-container\"><div class=\"sk-container\"><div class=\"sk-item sk-dashed-wrapped\"><div class=\"sk-label-container\"><div class=\"sk-label sk-toggleable\"><input class=\"sk-toggleable__control sk-hidden--visually\" id=\"2595bc83-adca-4a83-b5b2-9076696de273\" type=\"checkbox\" ><label class=\"sk-toggleable__label\" for=\"2595bc83-adca-4a83-b5b2-9076696de273\">ColumnTransformer</label><div class=\"sk-toggleable__content\"><pre>ColumnTransformer(transformers=[('num',\n                                 Pipeline(steps=[('imputer',\n                                                  SimpleImputer(fill_value=-9999,\n                                                                strategy='constant'))]),\n                                 ['Pclass', 'SibSp', 'Parch', 'Fare', 'Age']),\n                                ('cat',\n                                 Pipeline(steps=[('imputer',\n                                                  SimpleImputer(fill_value='missing',\n                                                                strategy='constant')),\n                                                 ('OrdinalEncoder',\n                                                  OrdinalEncoder(handle_unknown='use_encoder_value'))]),\n                                 ['Sex', 'Embarked', 'Title'])])</pre></div></div></div><div class=\"sk-parallel\"><div class=\"sk-parallel-item\"><div class=\"sk-item\"><div class=\"sk-label-container\"><div class=\"sk-label sk-toggleable\"><input class=\"sk-toggleable__control sk-hidden--visually\" id=\"e2f04b72-4f07-4e56-b388-61b2076709c4\" type=\"checkbox\" ><label class=\"sk-toggleable__label\" for=\"e2f04b72-4f07-4e56-b388-61b2076709c4\">num</label><div class=\"sk-toggleable__content\"><pre>['Pclass', 'SibSp', 'Parch', 'Fare', 'Age']</pre></div></div></div><div class=\"sk-serial\"><div class=\"sk-item\"><div class=\"sk-serial\"><div class=\"sk-item\"><div class=\"sk-estimator sk-toggleable\"><input class=\"sk-toggleable__control sk-hidden--visually\" id=\"48963cf2-6335-4678-b3db-a361aef057b7\" type=\"checkbox\" ><label class=\"sk-toggleable__label\" for=\"48963cf2-6335-4678-b3db-a361aef057b7\">SimpleImputer</label><div class=\"sk-toggleable__content\"><pre>SimpleImputer(fill_value=-9999, strategy='constant')</pre></div></div></div></div></div></div></div></div><div class=\"sk-parallel-item\"><div class=\"sk-item\"><div class=\"sk-label-container\"><div class=\"sk-label sk-toggleable\"><input class=\"sk-toggleable__control sk-hidden--visually\" id=\"73e18e9f-391f-4675-af5c-913ecd7f1c1d\" type=\"checkbox\" ><label class=\"sk-toggleable__label\" for=\"73e18e9f-391f-4675-af5c-913ecd7f1c1d\">cat</label><div class=\"sk-toggleable__content\"><pre>['Sex', 'Embarked', 'Title']</pre></div></div></div><div class=\"sk-serial\"><div class=\"sk-item\"><div class=\"sk-serial\"><div class=\"sk-item\"><div class=\"sk-estimator sk-toggleable\"><input class=\"sk-toggleable__control sk-hidden--visually\" id=\"7870285c-c8bc-4132-88b0-b6dc7a4e5aa3\" type=\"checkbox\" ><label class=\"sk-toggleable__label\" for=\"7870285c-c8bc-4132-88b0-b6dc7a4e5aa3\">SimpleImputer</label><div class=\"sk-toggleable__content\"><pre>SimpleImputer(fill_value='missing', strategy='constant')</pre></div></div></div><div class=\"sk-item\"><div class=\"sk-estimator sk-toggleable\"><input class=\"sk-toggleable__control sk-hidden--visually\" id=\"eb2dc94d-7c4f-4fb3-bb00-1697041ba293\" type=\"checkbox\" ><label class=\"sk-toggleable__label\" for=\"eb2dc94d-7c4f-4fb3-bb00-1697041ba293\">OrdinalEncoder</label><div class=\"sk-toggleable__content\"><pre>OrdinalEncoder(handle_unknown='use_encoder_value')</pre></div></div></div></div></div></div></div></div></div></div></div></div>"
     },
     "metadata": {},
     "execution_count": 26
    }
   ],
   "source": [
    "# YOUR CODE HERE\n",
    "\n",
    "num_4_treeModels = pipeline.Pipeline(steps=[\n",
    "  ('imputer', impute.SimpleImputer(strategy='constant', fill_value=-9999))\n",
    "])\n",
    "\n",
    "cat_4_treeModels = pipeline.Pipeline(steps=[\n",
    "   ('imputer', impute.SimpleImputer(strategy='constant', fill_value='missing')),\n",
    "    ('OrdinalEncoder', preprocessing.OrdinalEncoder(handle_unknown='use_encoder_value')) # specify unknowns \n",
    "])\n",
    "\n",
    "tree_prepro = compose.ColumnTransformer(transformers=[\n",
    "    ('num', num_4_treeModels, num_vars),\n",
    "    ('cat', cat_4_treeModels, cat_vars),\n",
    "], remainder='drop') # Drop other vars not specified in num_vars or cat_vars\n",
    "\n",
    "tree_prepro\n",
    "#raise NotImplementedError()"
   ]
  },
  {
   "cell_type": "code",
   "execution_count": 27,
   "metadata": {
    "deletable": false,
    "editable": false,
    "nbgrader": {
     "cell_type": "code",
     "checksum": "00bde840843413a4f57c4480f8930ef0",
     "grade": true,
     "grade_id": "cell-e636558135fb5975",
     "locked": true,
     "points": 2,
     "schema_version": 3,
     "solution": false,
     "task": false
    }
   },
   "outputs": [],
   "source": [
    "assert type(tree_prepro)      is compose._column_transformer.ColumnTransformer\n",
    "assert type(num_4_treeModels) is pipeline.Pipeline\n",
    "assert type(cat_4_treeModels) is pipeline.Pipeline\n",
    "assert len(num_4_treeModels) == 1\n",
    "assert len(cat_4_treeModels) == 2"
   ]
  },
  {
   "cell_type": "markdown",
   "metadata": {},
   "source": [
    "# Exercise 4 (1pts):\n",
    "1. Complete the diccionary with some Tree Models.\n",
    "2. Then we put each model in a Pipeline where:\n",
    "   - first is the prepocessing with the column Transformer\n",
    "   - Then is the Tree model\n",
    "3. Display the fullpipeline of the LGBMClassifier"
   ]
  },
  {
   "cell_type": "code",
   "execution_count": 28,
   "metadata": {},
   "outputs": [],
   "source": [
    "from sklearn.tree          import DecisionTreeClassifier\n",
    "from sklearn.ensemble      import RandomForestClassifier\n",
    "from sklearn.ensemble      import ExtraTreesClassifier\n",
    "from sklearn.ensemble      import AdaBoostClassifier\n",
    "from sklearn.ensemble      import GradientBoostingClassifier\n",
    "from sklearn.experimental  import enable_hist_gradient_boosting # Necesary for HistGradientBoostingClassifier\n",
    "from sklearn.ensemble      import HistGradientBoostingClassifier\n",
    "from xgboost               import XGBClassifier\n",
    "from lightgbm              import LGBMClassifier\n",
    "from catboost              import CatBoostClassifier"
   ]
  },
  {
   "cell_type": "code",
   "execution_count": 24,
   "metadata": {
    "deletable": false,
    "nbgrader": {
     "cell_type": "code",
     "checksum": "f23af11f3af791efa5687477c0a4c9d6",
     "grade": false,
     "grade_id": "cell-76a3be8223730c5a",
     "locked": false,
     "schema_version": 3,
     "solution": true,
     "task": false
    }
   },
   "outputs": [
    {
     "output_type": "execute_result",
     "data": {
      "text/plain": [
       "Pipeline(steps=[('columntransformer',\n",
       "                 ColumnTransformer(transformers=[('num',\n",
       "                                                  Pipeline(steps=[('imputer',\n",
       "                                                                   SimpleImputer(fill_value=-9999,\n",
       "                                                                                 strategy='constant'))]),\n",
       "                                                  ['Pclass', 'SibSp', 'Parch',\n",
       "                                                   'Fare', 'Age']),\n",
       "                                                 ('cat',\n",
       "                                                  Pipeline(steps=[('imputer',\n",
       "                                                                   SimpleImputer(fill_value='missing',\n",
       "                                                                                 strategy='constant')),\n",
       "                                                                  ('onehot',\n",
       "                                                                   OneHotEncoder(handle_unknown='ignore'))]),\n",
       "                                                  ['Sex', 'Embarked',\n",
       "                                                   'Title'])])),\n",
       "                ('lgbmclassifier', LGBMClassifier())])"
      ],
      "text/html": "<style>div.sk-top-container {color: black;background-color: white;}div.sk-toggleable {background-color: white;}label.sk-toggleable__label {cursor: pointer;display: block;width: 100%;margin-bottom: 0;padding: 0.2em 0.3em;box-sizing: border-box;text-align: center;}div.sk-toggleable__content {max-height: 0;max-width: 0;overflow: hidden;text-align: left;background-color: #f0f8ff;}div.sk-toggleable__content pre {margin: 0.2em;color: black;border-radius: 0.25em;background-color: #f0f8ff;}input.sk-toggleable__control:checked~div.sk-toggleable__content {max-height: 200px;max-width: 100%;overflow: auto;}div.sk-estimator input.sk-toggleable__control:checked~label.sk-toggleable__label {background-color: #d4ebff;}div.sk-label input.sk-toggleable__control:checked~label.sk-toggleable__label {background-color: #d4ebff;}input.sk-hidden--visually {border: 0;clip: rect(1px 1px 1px 1px);clip: rect(1px, 1px, 1px, 1px);height: 1px;margin: -1px;overflow: hidden;padding: 0;position: absolute;width: 1px;}div.sk-estimator {font-family: monospace;background-color: #f0f8ff;margin: 0.25em 0.25em;border: 1px dotted black;border-radius: 0.25em;box-sizing: border-box;}div.sk-estimator:hover {background-color: #d4ebff;}div.sk-parallel-item::after {content: \"\";width: 100%;border-bottom: 1px solid gray;flex-grow: 1;}div.sk-label:hover label.sk-toggleable__label {background-color: #d4ebff;}div.sk-serial::before {content: \"\";position: absolute;border-left: 1px solid gray;box-sizing: border-box;top: 2em;bottom: 0;left: 50%;}div.sk-serial {display: flex;flex-direction: column;align-items: center;background-color: white;}div.sk-item {z-index: 1;}div.sk-parallel {display: flex;align-items: stretch;justify-content: center;background-color: white;}div.sk-parallel-item {display: flex;flex-direction: column;position: relative;background-color: white;}div.sk-parallel-item:first-child::after {align-self: flex-end;width: 50%;}div.sk-parallel-item:last-child::after {align-self: flex-start;width: 50%;}div.sk-parallel-item:only-child::after {width: 0;}div.sk-dashed-wrapped {border: 1px dashed gray;margin: 0.2em;box-sizing: border-box;padding-bottom: 0.1em;background-color: white;position: relative;}div.sk-label label {font-family: monospace;font-weight: bold;background-color: white;display: inline-block;line-height: 1.2em;}div.sk-label-container {position: relative;z-index: 2;text-align: center;}div.sk-container {display: inline-block;position: relative;}</style><div class=\"sk-top-container\"><div class=\"sk-container\"><div class=\"sk-item sk-dashed-wrapped\"><div class=\"sk-label-container\"><div class=\"sk-label sk-toggleable\"><input class=\"sk-toggleable__control sk-hidden--visually\" id=\"d56c82b8-13d1-4714-95d6-222ac7c5c1b6\" type=\"checkbox\" ><label class=\"sk-toggleable__label\" for=\"d56c82b8-13d1-4714-95d6-222ac7c5c1b6\">Pipeline</label><div class=\"sk-toggleable__content\"><pre>Pipeline(steps=[('columntransformer',\n                 ColumnTransformer(transformers=[('num',\n                                                  Pipeline(steps=[('imputer',\n                                                                   SimpleImputer(fill_value=-9999,\n                                                                                 strategy='constant'))]),\n                                                  ['Pclass', 'SibSp', 'Parch',\n                                                   'Fare', 'Age']),\n                                                 ('cat',\n                                                  Pipeline(steps=[('imputer',\n                                                                   SimpleImputer(fill_value='missing',\n                                                                                 strategy='constant')),\n                                                                  ('onehot',\n                                                                   OneHotEncoder(handle_unknown='ignore'))]),\n                                                  ['Sex', 'Embarked',\n                                                   'Title'])])),\n                ('lgbmclassifier', LGBMClassifier())])</pre></div></div></div><div class=\"sk-serial\"><div class=\"sk-item sk-dashed-wrapped\"><div class=\"sk-label-container\"><div class=\"sk-label sk-toggleable\"><input class=\"sk-toggleable__control sk-hidden--visually\" id=\"d97afa72-eeb6-43ad-be96-9346da806ed5\" type=\"checkbox\" ><label class=\"sk-toggleable__label\" for=\"d97afa72-eeb6-43ad-be96-9346da806ed5\">columntransformer: ColumnTransformer</label><div class=\"sk-toggleable__content\"><pre>ColumnTransformer(transformers=[('num',\n                                 Pipeline(steps=[('imputer',\n                                                  SimpleImputer(fill_value=-9999,\n                                                                strategy='constant'))]),\n                                 ['Pclass', 'SibSp', 'Parch', 'Fare', 'Age']),\n                                ('cat',\n                                 Pipeline(steps=[('imputer',\n                                                  SimpleImputer(fill_value='missing',\n                                                                strategy='constant')),\n                                                 ('onehot',\n                                                  OneHotEncoder(handle_unknown='ignore'))]),\n                                 ['Sex', 'Embarked', 'Title'])])</pre></div></div></div><div class=\"sk-parallel\"><div class=\"sk-parallel-item\"><div class=\"sk-item\"><div class=\"sk-label-container\"><div class=\"sk-label sk-toggleable\"><input class=\"sk-toggleable__control sk-hidden--visually\" id=\"b714f4de-7d7a-4d91-b1aa-f57c650e2e63\" type=\"checkbox\" ><label class=\"sk-toggleable__label\" for=\"b714f4de-7d7a-4d91-b1aa-f57c650e2e63\">num</label><div class=\"sk-toggleable__content\"><pre>['Pclass', 'SibSp', 'Parch', 'Fare', 'Age']</pre></div></div></div><div class=\"sk-serial\"><div class=\"sk-item\"><div class=\"sk-serial\"><div class=\"sk-item\"><div class=\"sk-estimator sk-toggleable\"><input class=\"sk-toggleable__control sk-hidden--visually\" id=\"e09a3372-6064-462a-a508-a75ec8a4bc4b\" type=\"checkbox\" ><label class=\"sk-toggleable__label\" for=\"e09a3372-6064-462a-a508-a75ec8a4bc4b\">SimpleImputer</label><div class=\"sk-toggleable__content\"><pre>SimpleImputer(fill_value=-9999, strategy='constant')</pre></div></div></div></div></div></div></div></div><div class=\"sk-parallel-item\"><div class=\"sk-item\"><div class=\"sk-label-container\"><div class=\"sk-label sk-toggleable\"><input class=\"sk-toggleable__control sk-hidden--visually\" id=\"e0a3fe5a-4d11-4ca4-87e9-0efa619e5a9b\" type=\"checkbox\" ><label class=\"sk-toggleable__label\" for=\"e0a3fe5a-4d11-4ca4-87e9-0efa619e5a9b\">cat</label><div class=\"sk-toggleable__content\"><pre>['Sex', 'Embarked', 'Title']</pre></div></div></div><div class=\"sk-serial\"><div class=\"sk-item\"><div class=\"sk-serial\"><div class=\"sk-item\"><div class=\"sk-estimator sk-toggleable\"><input class=\"sk-toggleable__control sk-hidden--visually\" id=\"390a29f3-bf0e-47a3-be93-e94b96c7dee5\" type=\"checkbox\" ><label class=\"sk-toggleable__label\" for=\"390a29f3-bf0e-47a3-be93-e94b96c7dee5\">SimpleImputer</label><div class=\"sk-toggleable__content\"><pre>SimpleImputer(fill_value='missing', strategy='constant')</pre></div></div></div><div class=\"sk-item\"><div class=\"sk-estimator sk-toggleable\"><input class=\"sk-toggleable__control sk-hidden--visually\" id=\"09d7c42c-2b32-4f72-81b5-71d672723170\" type=\"checkbox\" ><label class=\"sk-toggleable__label\" for=\"09d7c42c-2b32-4f72-81b5-71d672723170\">OneHotEncoder</label><div class=\"sk-toggleable__content\"><pre>OneHotEncoder(handle_unknown='ignore')</pre></div></div></div></div></div></div></div></div></div></div><div class=\"sk-item\"><div class=\"sk-estimator sk-toggleable\"><input class=\"sk-toggleable__control sk-hidden--visually\" id=\"4dd7a8af-4a2d-485f-8083-2017e64c58d2\" type=\"checkbox\" ><label class=\"sk-toggleable__label\" for=\"4dd7a8af-4a2d-485f-8083-2017e64c58d2\">LGBMClassifier</label><div class=\"sk-toggleable__content\"><pre>LGBMClassifier()</pre></div></div></div></div></div></div></div>"
     },
     "metadata": {},
     "execution_count": 24
    }
   ],
   "source": [
    "\n",
    "# YOUR CODE HERE\n",
    "\n",
    "tree_classifiers = {\n",
    "  \"Decision Tree\": DecisionTreeClassifier(),\n",
    "  \"Extra Trees\":   ExtraTreesClassifier(n_estimators=100),\n",
    "  \"Random Forest\": RandomForestClassifier(n_estimators=100),\n",
    "  \"AdaBoost\":      AdaBoostClassifier(n_estimators=100),\n",
    "  \"Skl GBM\":       GradientBoostingClassifier(n_estimators=100),\n",
    "  \"Skl HistGBM\":   HistGradientBoostingClassifier(max_iter=100),\n",
    "  \"XGBoost\":       XGBClassifier(n_estimators=100),\n",
    "  \"LightGBM\":      LGBMClassifier(n_estimators=100),\n",
    "  \"CatBoost\":      CatBoostClassifier(n_estimators=100),\n",
    "} \n",
    "\n",
    "\n",
    "#raise NotImplementedError()\n",
    "\n",
    "tree_classifiers = {name: pipeline.make_pipeline(tree_prepro, model) for name, model in tree_classifiers.items()}\n",
    "\n",
    "tree_classifiers[\"LightGBM\"]"
   ]
  },
  {
   "cell_type": "code",
   "execution_count": 29,
   "metadata": {
    "deletable": false,
    "editable": false,
    "nbgrader": {
     "cell_type": "code",
     "checksum": "2355552b3ce823e44fdaea06394e054c",
     "grade": true,
     "grade_id": "cell-d4744022b37e2e9b",
     "locked": true,
     "points": 1,
     "schema_version": 3,
     "solution": false,
     "task": false
    }
   },
   "outputs": [],
   "source": [
    "for pipe in tree_classifiers.values():\n",
    "    assert type(pipe) is pipeline.Pipeline"
   ]
  },
  {
   "cell_type": "markdown",
   "metadata": {},
   "source": [
    "# Exercise 5 (3pts):\n",
    "Define a simple split validation strategy with:\n",
    "- 80% for train\n",
    "- 20% for validation\n",
    "- With stratification\n",
    "- random_state=0\n",
    "\n",
    "And train all the models in a for loop"
   ]
  },
  {
   "cell_type": "code",
   "execution_count": 30,
   "metadata": {
    "colab": {
     "base_uri": "https://localhost:8080/",
     "height": 173
    },
    "colab_type": "code",
    "deletable": false,
    "id": "kY1uWk6-OcLw",
    "nbgrader": {
     "cell_type": "code",
     "checksum": "e48597a78f468a95abf116052e9f68e6",
     "grade": false,
     "grade_id": "cell-64f17e0d448bca7e",
     "locked": false,
     "schema_version": 3,
     "solution": true,
     "task": false
    },
    "outputId": "3562463f-3197-424c-dc82-b07ad579e9cc"
   },
   "outputs": [
    {
     "output_type": "stream",
     "name": "stderr",
     "text": [
      "/Users/olatunde/opt/anaconda3/envs/Tuns_/lib/python3.8/site-packages/xgboost/sklearn.py:1146: UserWarning: The use of label encoder in XGBClassifier is deprecated and will be removed in a future release. To remove this warning, do the following: 1) Pass option use_label_encoder=False when constructing XGBClassifier object; and 2) Encode your labels (y) as integers starting with 0, i.e. 0, 1, 2, ..., [num_class - 1].\n",
      "  warnings.warn(label_encoder_deprecation_msg, UserWarning)\n",
      "[17:22:55] WARNING: /Users/travis/build/dmlc/xgboost/src/learner.cc:1095: Starting in XGBoost 1.3.0, the default evaluation metric used with the objective 'binary:logistic' was changed from 'error' to 'logloss'. Explicitly set eval_metric if you'd like to restore the old behavior.\n",
      "Learning rate set to 0.073611\n",
      "0:\tlearn: 0.6682963\ttotal: 1.73ms\tremaining: 171ms\n",
      "1:\tlearn: 0.6468979\ttotal: 3.11ms\tremaining: 152ms\n",
      "2:\tlearn: 0.6244752\ttotal: 4.82ms\tremaining: 156ms\n",
      "3:\tlearn: 0.6043446\ttotal: 5.76ms\tremaining: 138ms\n",
      "4:\tlearn: 0.5887822\ttotal: 6.54ms\tremaining: 124ms\n",
      "5:\tlearn: 0.5727134\ttotal: 8.09ms\tremaining: 127ms\n",
      "6:\tlearn: 0.5584710\ttotal: 9.16ms\tremaining: 122ms\n",
      "7:\tlearn: 0.5442384\ttotal: 10.2ms\tremaining: 117ms\n",
      "8:\tlearn: 0.5313387\ttotal: 11.3ms\tremaining: 114ms\n",
      "9:\tlearn: 0.5206598\ttotal: 13.1ms\tremaining: 118ms\n",
      "10:\tlearn: 0.5105335\ttotal: 14.9ms\tremaining: 120ms\n",
      "11:\tlearn: 0.5015384\ttotal: 17.1ms\tremaining: 125ms\n",
      "12:\tlearn: 0.4950929\ttotal: 26.1ms\tremaining: 175ms\n",
      "13:\tlearn: 0.4877274\ttotal: 30.8ms\tremaining: 189ms\n",
      "14:\tlearn: 0.4819678\ttotal: 31.9ms\tremaining: 181ms\n",
      "15:\tlearn: 0.4749300\ttotal: 33.2ms\tremaining: 174ms\n",
      "16:\tlearn: 0.4687799\ttotal: 34.3ms\tremaining: 168ms\n",
      "17:\tlearn: 0.4639781\ttotal: 35.6ms\tremaining: 162ms\n",
      "18:\tlearn: 0.4587636\ttotal: 36.7ms\tremaining: 157ms\n",
      "19:\tlearn: 0.4538518\ttotal: 37.9ms\tremaining: 152ms\n",
      "20:\tlearn: 0.4505611\ttotal: 39.4ms\tremaining: 148ms\n",
      "21:\tlearn: 0.4473599\ttotal: 41.2ms\tremaining: 146ms\n",
      "22:\tlearn: 0.4447370\ttotal: 42.7ms\tremaining: 143ms\n",
      "23:\tlearn: 0.4427515\ttotal: 43.2ms\tremaining: 137ms\n",
      "24:\tlearn: 0.4392738\ttotal: 45.2ms\tremaining: 136ms\n",
      "25:\tlearn: 0.4362405\ttotal: 49.6ms\tremaining: 141ms\n",
      "26:\tlearn: 0.4333427\ttotal: 51.2ms\tremaining: 138ms\n",
      "27:\tlearn: 0.4318809\ttotal: 52.3ms\tremaining: 134ms\n",
      "28:\tlearn: 0.4296182\ttotal: 53.5ms\tremaining: 131ms\n",
      "29:\tlearn: 0.4265870\ttotal: 54.5ms\tremaining: 127ms\n",
      "30:\tlearn: 0.4244635\ttotal: 55.5ms\tremaining: 124ms\n",
      "31:\tlearn: 0.4216367\ttotal: 56.6ms\tremaining: 120ms\n",
      "32:\tlearn: 0.4204769\ttotal: 57.6ms\tremaining: 117ms\n",
      "33:\tlearn: 0.4179512\ttotal: 58.7ms\tremaining: 114ms\n",
      "34:\tlearn: 0.4159269\ttotal: 59.7ms\tremaining: 111ms\n",
      "35:\tlearn: 0.4134382\ttotal: 61ms\tremaining: 108ms\n",
      "36:\tlearn: 0.4121822\ttotal: 62.2ms\tremaining: 106ms\n",
      "37:\tlearn: 0.4104349\ttotal: 63.6ms\tremaining: 104ms\n",
      "38:\tlearn: 0.4086794\ttotal: 68.8ms\tremaining: 108ms\n",
      "39:\tlearn: 0.4077566\ttotal: 69.6ms\tremaining: 104ms\n",
      "40:\tlearn: 0.4070230\ttotal: 76.7ms\tremaining: 110ms\n",
      "41:\tlearn: 0.4061464\ttotal: 78ms\tremaining: 108ms\n",
      "42:\tlearn: 0.4045131\ttotal: 81.5ms\tremaining: 108ms\n",
      "43:\tlearn: 0.4030171\ttotal: 82.5ms\tremaining: 105ms\n",
      "44:\tlearn: 0.4015024\ttotal: 83.8ms\tremaining: 102ms\n",
      "45:\tlearn: 0.4005640\ttotal: 85.1ms\tremaining: 99.9ms\n",
      "46:\tlearn: 0.3991201\ttotal: 87ms\tremaining: 98.1ms\n",
      "47:\tlearn: 0.3976699\ttotal: 88.2ms\tremaining: 95.5ms\n",
      "48:\tlearn: 0.3966123\ttotal: 89.2ms\tremaining: 92.9ms\n",
      "49:\tlearn: 0.3956478\ttotal: 90.3ms\tremaining: 90.3ms\n",
      "50:\tlearn: 0.3948476\ttotal: 91.2ms\tremaining: 87.7ms\n",
      "51:\tlearn: 0.3936862\ttotal: 95.1ms\tremaining: 87.8ms\n",
      "52:\tlearn: 0.3929415\ttotal: 97.4ms\tremaining: 86.4ms\n",
      "53:\tlearn: 0.3918174\ttotal: 98.9ms\tremaining: 84.3ms\n",
      "54:\tlearn: 0.3907364\ttotal: 100ms\tremaining: 82ms\n",
      "55:\tlearn: 0.3904662\ttotal: 101ms\tremaining: 79.1ms\n",
      "56:\tlearn: 0.3894135\ttotal: 102ms\tremaining: 76.8ms\n",
      "57:\tlearn: 0.3885709\ttotal: 103ms\tremaining: 74.6ms\n",
      "58:\tlearn: 0.3878233\ttotal: 104ms\tremaining: 72.4ms\n",
      "59:\tlearn: 0.3871981\ttotal: 105ms\tremaining: 70.3ms\n",
      "60:\tlearn: 0.3865145\ttotal: 107ms\tremaining: 68.2ms\n",
      "61:\tlearn: 0.3855172\ttotal: 108ms\tremaining: 65.9ms\n",
      "62:\tlearn: 0.3843856\ttotal: 109ms\tremaining: 64.1ms\n",
      "63:\tlearn: 0.3833514\ttotal: 111ms\tremaining: 62.2ms\n",
      "64:\tlearn: 0.3826631\ttotal: 113ms\tremaining: 60.6ms\n",
      "65:\tlearn: 0.3821609\ttotal: 113ms\tremaining: 58.4ms\n",
      "66:\tlearn: 0.3811511\ttotal: 114ms\tremaining: 56.4ms\n",
      "67:\tlearn: 0.3810256\ttotal: 115ms\tremaining: 54.1ms\n",
      "68:\tlearn: 0.3802932\ttotal: 116ms\tremaining: 52.2ms\n",
      "69:\tlearn: 0.3794014\ttotal: 117ms\tremaining: 50.2ms\n",
      "70:\tlearn: 0.3785139\ttotal: 119ms\tremaining: 48.5ms\n",
      "71:\tlearn: 0.3781720\ttotal: 120ms\tremaining: 46.6ms\n",
      "72:\tlearn: 0.3775793\ttotal: 121ms\tremaining: 44.8ms\n",
      "73:\tlearn: 0.3768598\ttotal: 123ms\tremaining: 43.2ms\n",
      "74:\tlearn: 0.3759281\ttotal: 126ms\tremaining: 42.1ms\n",
      "75:\tlearn: 0.3751348\ttotal: 127ms\tremaining: 40.2ms\n",
      "76:\tlearn: 0.3745013\ttotal: 129ms\tremaining: 38.5ms\n",
      "77:\tlearn: 0.3743870\ttotal: 129ms\tremaining: 36.5ms\n",
      "78:\tlearn: 0.3738106\ttotal: 131ms\tremaining: 34.7ms\n",
      "79:\tlearn: 0.3731806\ttotal: 132ms\tremaining: 32.9ms\n",
      "80:\tlearn: 0.3725449\ttotal: 133ms\tremaining: 31.1ms\n",
      "81:\tlearn: 0.3720586\ttotal: 134ms\tremaining: 29.3ms\n",
      "82:\tlearn: 0.3712842\ttotal: 137ms\tremaining: 28.1ms\n",
      "83:\tlearn: 0.3706649\ttotal: 139ms\tremaining: 26.4ms\n",
      "84:\tlearn: 0.3700470\ttotal: 140ms\tremaining: 24.7ms\n",
      "85:\tlearn: 0.3695653\ttotal: 141ms\tremaining: 23ms\n",
      "86:\tlearn: 0.3693563\ttotal: 142ms\tremaining: 21.3ms\n",
      "87:\tlearn: 0.3688752\ttotal: 144ms\tremaining: 19.7ms\n",
      "88:\tlearn: 0.3683412\ttotal: 145ms\tremaining: 18ms\n",
      "89:\tlearn: 0.3674917\ttotal: 146ms\tremaining: 16.3ms\n",
      "90:\tlearn: 0.3671121\ttotal: 148ms\tremaining: 14.6ms\n",
      "91:\tlearn: 0.3665123\ttotal: 150ms\tremaining: 13.1ms\n",
      "92:\tlearn: 0.3658086\ttotal: 152ms\tremaining: 11.4ms\n",
      "93:\tlearn: 0.3653161\ttotal: 153ms\tremaining: 9.76ms\n",
      "94:\tlearn: 0.3651467\ttotal: 160ms\tremaining: 8.41ms\n",
      "95:\tlearn: 0.3648957\ttotal: 161ms\tremaining: 6.7ms\n",
      "96:\tlearn: 0.3640255\ttotal: 162ms\tremaining: 5ms\n",
      "97:\tlearn: 0.3635425\ttotal: 186ms\tremaining: 3.8ms\n",
      "98:\tlearn: 0.3631888\ttotal: 188ms\tremaining: 1.9ms\n",
      "99:\tlearn: 0.3626650\ttotal: 189ms\tremaining: 0us\n"
     ]
    },
    {
     "output_type": "execute_result",
     "data": {
      "text/plain": [
       "<pandas.io.formats.style.Styler at 0x7fc3bd70b8e0>"
      ],
      "text/html": "<style  type=\"text/css\" >\n#T_2c750_row0_col1{\n            width:  10em;\n             height:  80%;\n            background:  linear-gradient(90deg,#5fba7d 88.3%, transparent 88.3%);\n        }#T_2c750_row0_col2{\n            width:  10em;\n             height:  80%;\n            background:  linear-gradient(90deg,#5fba7d 86.9%, transparent 86.9%);\n        }#T_2c750_row1_col1{\n            width:  10em;\n             height:  80%;\n            background:  linear-gradient(90deg,#5fba7d 85.5%, transparent 85.5%);\n        }#T_2c750_row1_col2,#T_2c750_row4_col1,#T_2c750_row5_col1{\n            width:  10em;\n             height:  80%;\n            background:  linear-gradient(90deg,#5fba7d 84.4%, transparent 84.4%);\n        }#T_2c750_row2_col1,#T_2c750_row3_col1{\n            width:  10em;\n             height:  80%;\n            background:  linear-gradient(90deg,#5fba7d 84.9%, transparent 84.9%);\n        }#T_2c750_row2_col2{\n            width:  10em;\n             height:  80%;\n            background:  linear-gradient(90deg,#5fba7d 84.2%, transparent 84.2%);\n        }#T_2c750_row3_col2{\n            width:  10em;\n             height:  80%;\n            background:  linear-gradient(90deg,#5fba7d 83.7%, transparent 83.7%);\n        }#T_2c750_row4_col2,#T_2c750_row6_col1{\n            width:  10em;\n             height:  80%;\n            background:  linear-gradient(90deg,#5fba7d 83.2%, transparent 83.2%);\n        }#T_2c750_row5_col2{\n            width:  10em;\n             height:  80%;\n            background:  linear-gradient(90deg,#5fba7d 82.7%, transparent 82.7%);\n        }#T_2c750_row6_col2{\n            width:  10em;\n             height:  80%;\n            background:  linear-gradient(90deg,#5fba7d 81.8%, transparent 81.8%);\n        }#T_2c750_row7_col1{\n            width:  10em;\n             height:  80%;\n            background:  linear-gradient(90deg,#5fba7d 81.6%, transparent 81.6%);\n        }#T_2c750_row7_col2{\n            width:  10em;\n             height:  80%;\n            background:  linear-gradient(90deg,#5fba7d 81.2%, transparent 81.2%);\n        }#T_2c750_row8_col1{\n            width:  10em;\n             height:  80%;\n            background:  linear-gradient(90deg,#5fba7d 80.4%, transparent 80.4%);\n        }#T_2c750_row8_col2{\n            width:  10em;\n             height:  80%;\n            background:  linear-gradient(90deg,#5fba7d 79.2%, transparent 79.2%);\n        }</style><table id=\"T_2c750_\" ><thead>    <tr>        <th class=\"blank level0\" ></th>        <th class=\"col_heading level0 col0\" >Model</th>        <th class=\"col_heading level0 col1\" >Accuracy</th>        <th class=\"col_heading level0 col2\" >Bal Acc.</th>        <th class=\"col_heading level0 col3\" >Time</th>    </tr></thead><tbody>\n                <tr>\n                        <th id=\"T_2c750_level0_row0\" class=\"row_heading level0 row0\" >1</th>\n                        <td id=\"T_2c750_row0_col0\" class=\"data row0 col0\" >XGBoost</td>\n                        <td id=\"T_2c750_row0_col1\" class=\"data row0 col1\" >88.268156</td>\n                        <td id=\"T_2c750_row0_col2\" class=\"data row0 col2\" >86.943347</td>\n                        <td id=\"T_2c750_row0_col3\" class=\"data row0 col3\" >0.434039</td>\n            </tr>\n            <tr>\n                        <th id=\"T_2c750_level0_row1\" class=\"row_heading level0 row1\" >2</th>\n                        <td id=\"T_2c750_row1_col0\" class=\"data row1 col0\" >LightGBM</td>\n                        <td id=\"T_2c750_row1_col1\" class=\"data row1 col1\" >85.474860</td>\n                        <td id=\"T_2c750_row1_col2\" class=\"data row1 col2\" >84.400527</td>\n                        <td id=\"T_2c750_row1_col3\" class=\"data row1 col3\" >0.190929</td>\n            </tr>\n            <tr>\n                        <th id=\"T_2c750_level0_row2\" class=\"row_heading level0 row2\" >3</th>\n                        <td id=\"T_2c750_row2_col0\" class=\"data row2 col0\" >AdaBoost</td>\n                        <td id=\"T_2c750_row2_col1\" class=\"data row2 col1\" >84.916201</td>\n                        <td id=\"T_2c750_row2_col2\" class=\"data row2 col2\" >84.216074</td>\n                        <td id=\"T_2c750_row2_col3\" class=\"data row2 col3\" >0.385639</td>\n            </tr>\n            <tr>\n                        <th id=\"T_2c750_level0_row3\" class=\"row_heading level0 row3\" >4</th>\n                        <td id=\"T_2c750_row3_col0\" class=\"data row3 col0\" >Skl HistGBM</td>\n                        <td id=\"T_2c750_row3_col1\" class=\"data row3 col1\" >84.916201</td>\n                        <td id=\"T_2c750_row3_col2\" class=\"data row3 col2\" >83.675889</td>\n                        <td id=\"T_2c750_row3_col3\" class=\"data row3 col3\" >1.217274</td>\n            </tr>\n            <tr>\n                        <th id=\"T_2c750_level0_row4\" class=\"row_heading level0 row4\" >5</th>\n                        <td id=\"T_2c750_row4_col0\" class=\"data row4 col0\" >Skl GBM</td>\n                        <td id=\"T_2c750_row4_col1\" class=\"data row4 col1\" >84.357542</td>\n                        <td id=\"T_2c750_row4_col2\" class=\"data row4 col2\" >83.221344</td>\n                        <td id=\"T_2c750_row4_col3\" class=\"data row4 col3\" >0.190249</td>\n            </tr>\n            <tr>\n                        <th id=\"T_2c750_level0_row5\" class=\"row_heading level0 row5\" >6</th>\n                        <td id=\"T_2c750_row5_col0\" class=\"data row5 col0\" >CatBoost</td>\n                        <td id=\"T_2c750_row5_col1\" class=\"data row5 col1\" >84.357542</td>\n                        <td id=\"T_2c750_row5_col2\" class=\"data row5 col2\" >82.681159</td>\n                        <td id=\"T_2c750_row5_col3\" class=\"data row5 col3\" >0.348230</td>\n            </tr>\n            <tr>\n                        <th id=\"T_2c750_level0_row6\" class=\"row_heading level0 row6\" >7</th>\n                        <td id=\"T_2c750_row6_col0\" class=\"data row6 col0\" >Random Forest</td>\n                        <td id=\"T_2c750_row6_col1\" class=\"data row6 col1\" >83.240223</td>\n                        <td id=\"T_2c750_row6_col2\" class=\"data row6 col2\" >81.772069</td>\n                        <td id=\"T_2c750_row6_col3\" class=\"data row6 col3\" >0.316593</td>\n            </tr>\n            <tr>\n                        <th id=\"T_2c750_level0_row7\" class=\"row_heading level0 row7\" >8</th>\n                        <td id=\"T_2c750_row7_col0\" class=\"data row7 col0\" >Decision Tree</td>\n                        <td id=\"T_2c750_row7_col1\" class=\"data row7 col1\" >81.564246</td>\n                        <td id=\"T_2c750_row7_col2\" class=\"data row7 col2\" >81.218709</td>\n                        <td id=\"T_2c750_row7_col3\" class=\"data row7 col3\" >0.125943</td>\n            </tr>\n            <tr>\n                        <th id=\"T_2c750_level0_row8\" class=\"row_heading level0 row8\" >9</th>\n                        <td id=\"T_2c750_row8_col0\" class=\"data row8 col0\" >Extra Trees</td>\n                        <td id=\"T_2c750_row8_col1\" class=\"data row8 col1\" >80.446927</td>\n                        <td id=\"T_2c750_row8_col2\" class=\"data row8 col2\" >79.229249</td>\n                        <td id=\"T_2c750_row8_col3\" class=\"data row8 col3\" >0.343031</td>\n            </tr>\n    </tbody></table>"
     },
     "metadata": {},
     "execution_count": 30
    }
   ],
   "source": [
    "\"\"\"\n",
    "x_train, x_val, y_train, y_val = model_selection.train_test_split(\n",
    "    # CODE HERE\n",
    ")\n",
    "\"\"\"\n",
    "# YOUR CODE HERE\n",
    "x_train, x_val, y_train, y_val = model_selection.train_test_split(\n",
    "    x, y,\n",
    "    test_size=0.2,\n",
    "    stratify = y,   \n",
    "    random_state=4  \n",
    ")\n",
    "#raise NotImplementedError()\n",
    "\n",
    "\n",
    "results = pd.DataFrame({'Model': [], 'Accuracy': [], 'Bal Acc.': [], 'Time': []})\n",
    "\n",
    "\n",
    "for model_name, model in tree_classifiers.items():\n",
    "    start_time = time.time()\n",
    "    \n",
    "    # FOR EVERY PIPELINE (PREPRO + MODEL) -> TRAIN WITH TRAIN DATA (x_train)\n",
    "    model.fit(x_train, y_train)\n",
    "    # GET PREDICTIONS USING x_val\n",
    "    pred = model.predict(x_val)\n",
    "\n",
    "    total_time = time.time() - start_time\n",
    "\n",
    "    results = results.append({\"Model\":    model_name,\n",
    "                              \"Accuracy\": metrics.accuracy_score(y_val, pred)*100,\n",
    "                              \"Bal Acc.\": metrics.balanced_accuracy_score(y_val, pred)*100,\n",
    "                              \"Time\":     total_time},\n",
    "                              ignore_index=True)\n",
    "\n",
    "# YOUR CODE HERE\n",
    "#raise NotImplementedError()\n",
    "\n",
    "\n",
    "results_ord = results.sort_values(by=['Accuracy'], ascending=False, ignore_index=True)\n",
    "results_ord.index += 1 \n",
    "results_ord.style.bar(subset=['Accuracy', 'Bal Acc.'], vmin=0, vmax=100, color='#5fba7d')"
   ]
  },
  {
   "cell_type": "code",
   "execution_count": 33,
   "metadata": {
    "deletable": false,
    "editable": false,
    "nbgrader": {
     "cell_type": "code",
     "checksum": "dde6f91a6185745a813882e0c1f997bc",
     "grade": true,
     "grade_id": "cell-af27b33fe88ad384",
     "locked": true,
     "points": 3,
     "schema_version": 3,
     "solution": false,
     "task": false
    }
   },
   "outputs": [],
   "source": [
    "assert results_ord[\"Accuracy\"].min() > 75\n",
    "assert results_ord[\"Bal Acc.\"].min() > 75\n",
    "assert len(results_ord) == 9"
   ]
  },
  {
   "cell_type": "markdown",
   "metadata": {},
   "source": [
    "# Exercise 6 (3pts):\n",
    "Define a 10 Fold cross validation strategy with:\n",
    "- With stratification\n",
    "- shuffle=True\n",
    "- random_state=0\n",
    "\n",
    "And train all the models in a for loop.\n",
    "\n",
    "Tip you can use **[cross_val_predict](https://scikit-learn.org/stable/modules/generated/sklearn.model_selection.cross_val_predict.html)** for both training and predict with "
   ]
  },
  {
   "cell_type": "code",
   "execution_count": 34,
   "metadata": {
    "deletable": false,
    "nbgrader": {
     "cell_type": "code",
     "checksum": "b9238f7916249fc81179a78b5492e5d4",
     "grade": false,
     "grade_id": "cell-37bf16dc25b43732",
     "locked": false,
     "schema_version": 3,
     "solution": true,
     "task": false
    },
    "tags": [
     "outputPrepend"
    ]
   },
   "outputs": [
    {
     "output_type": "stream",
     "name": "stderr",
     "text": [
      "s\n",
      "17:\tlearn: 0.4497651\ttotal: 27.2ms\tremaining: 124ms\n",
      "18:\tlearn: 0.4444018\ttotal: 28.5ms\tremaining: 121ms\n",
      "19:\tlearn: 0.4390476\ttotal: 29.5ms\tremaining: 118ms\n",
      "20:\tlearn: 0.4351984\ttotal: 30.5ms\tremaining: 115ms\n",
      "21:\tlearn: 0.4315537\ttotal: 33.8ms\tremaining: 120ms\n",
      "22:\tlearn: 0.4293651\ttotal: 35.9ms\tremaining: 120ms\n",
      "23:\tlearn: 0.4248839\ttotal: 39.4ms\tremaining: 125ms\n",
      "24:\tlearn: 0.4232964\ttotal: 40.4ms\tremaining: 121ms\n",
      "25:\tlearn: 0.4200897\ttotal: 41.8ms\tremaining: 119ms\n",
      "26:\tlearn: 0.4171460\ttotal: 43.9ms\tremaining: 119ms\n",
      "27:\tlearn: 0.4154904\ttotal: 45.4ms\tremaining: 117ms\n",
      "28:\tlearn: 0.4128861\ttotal: 47.5ms\tremaining: 116ms\n",
      "29:\tlearn: 0.4099351\ttotal: 48.6ms\tremaining: 113ms\n",
      "30:\tlearn: 0.4074888\ttotal: 49.6ms\tremaining: 110ms\n",
      "31:\tlearn: 0.4050633\ttotal: 50.5ms\tremaining: 107ms\n",
      "32:\tlearn: 0.4025727\ttotal: 51.6ms\tremaining: 105ms\n",
      "33:\tlearn: 0.4002960\ttotal: 53.3ms\tremaining: 103ms\n",
      "34:\tlearn: 0.3981457\ttotal: 54.5ms\tremaining: 101ms\n",
      "35:\tlearn: 0.3957543\ttotal: 55.9ms\tremaining: 99.3ms\n",
      "36:\tlearn: 0.3945562\ttotal: 57ms\tremaining: 97ms\n",
      "37:\tlearn: 0.3927637\ttotal: 58.5ms\tremaining: 95.4ms\n",
      "38:\tlearn: 0.3909703\ttotal: 59.7ms\tremaining: 93.3ms\n",
      "39:\tlearn: 0.3890063\ttotal: 61.9ms\tremaining: 92.9ms\n",
      "40:\tlearn: 0.3874535\ttotal: 63.1ms\tremaining: 90.8ms\n",
      "41:\tlearn: 0.3858349\ttotal: 64.2ms\tremaining: 88.7ms\n",
      "42:\tlearn: 0.3839247\ttotal: 66.3ms\tremaining: 87.9ms\n",
      "43:\tlearn: 0.3829826\ttotal: 67.9ms\tremaining: 86.4ms\n",
      "44:\tlearn: 0.3814158\ttotal: 70.4ms\tremaining: 86.1ms\n",
      "45:\tlearn: 0.3799858\ttotal: 72.2ms\tremaining: 84.7ms\n",
      "46:\tlearn: 0.3788931\ttotal: 73.3ms\tremaining: 82.6ms\n",
      "47:\tlearn: 0.3772297\ttotal: 74.4ms\tremaining: 80.6ms\n",
      "48:\tlearn: 0.3754994\ttotal: 75.5ms\tremaining: 78.6ms\n",
      "49:\tlearn: 0.3744825\ttotal: 76.3ms\tremaining: 76.3ms\n",
      "50:\tlearn: 0.3737361\ttotal: 77.3ms\tremaining: 74.3ms\n",
      "51:\tlearn: 0.3729248\ttotal: 79ms\tremaining: 72.9ms\n",
      "52:\tlearn: 0.3718548\ttotal: 80.1ms\tremaining: 71ms\n",
      "53:\tlearn: 0.3706456\ttotal: 81ms\tremaining: 69ms\n",
      "54:\tlearn: 0.3699471\ttotal: 82.2ms\tremaining: 67.2ms\n",
      "55:\tlearn: 0.3690951\ttotal: 83.2ms\tremaining: 65.4ms\n",
      "56:\tlearn: 0.3681806\ttotal: 84.3ms\tremaining: 63.6ms\n",
      "57:\tlearn: 0.3671276\ttotal: 87.3ms\tremaining: 63.2ms\n",
      "58:\tlearn: 0.3663430\ttotal: 88.4ms\tremaining: 61.4ms\n",
      "59:\tlearn: 0.3655004\ttotal: 89.6ms\tremaining: 59.7ms\n",
      "60:\tlearn: 0.3647919\ttotal: 91.7ms\tremaining: 58.6ms\n",
      "61:\tlearn: 0.3638047\ttotal: 93.3ms\tremaining: 57.2ms\n",
      "62:\tlearn: 0.3634979\ttotal: 94.6ms\tremaining: 55.5ms\n",
      "63:\tlearn: 0.3630935\ttotal: 95.5ms\tremaining: 53.7ms\n",
      "64:\tlearn: 0.3626944\ttotal: 96.6ms\tremaining: 52ms\n",
      "65:\tlearn: 0.3618386\ttotal: 97.7ms\tremaining: 50.3ms\n",
      "66:\tlearn: 0.3616166\ttotal: 98.7ms\tremaining: 48.6ms\n",
      "67:\tlearn: 0.3610438\ttotal: 100ms\tremaining: 47ms\n",
      "68:\tlearn: 0.3605439\ttotal: 101ms\tremaining: 45.5ms\n",
      "69:\tlearn: 0.3599346\ttotal: 102ms\tremaining: 43.9ms\n",
      "70:\tlearn: 0.3589794\ttotal: 104ms\tremaining: 42.3ms\n",
      "71:\tlearn: 0.3587102\ttotal: 105ms\tremaining: 40.7ms\n",
      "72:\tlearn: 0.3581234\ttotal: 107ms\tremaining: 39.5ms\n",
      "73:\tlearn: 0.3576419\ttotal: 108ms\tremaining: 37.9ms\n",
      "74:\tlearn: 0.3575920\ttotal: 109ms\tremaining: 36.2ms\n",
      "75:\tlearn: 0.3570069\ttotal: 110ms\tremaining: 34.6ms\n",
      "76:\tlearn: 0.3565179\ttotal: 111ms\tremaining: 33.1ms\n",
      "77:\tlearn: 0.3563264\ttotal: 112ms\tremaining: 31.6ms\n",
      "78:\tlearn: 0.3559527\ttotal: 114ms\tremaining: 30.3ms\n",
      "79:\tlearn: 0.3552146\ttotal: 116ms\tremaining: 28.9ms\n",
      "80:\tlearn: 0.3548242\ttotal: 117ms\tremaining: 27.5ms\n",
      "81:\tlearn: 0.3545464\ttotal: 119ms\tremaining: 26.2ms\n",
      "82:\tlearn: 0.3540811\ttotal: 121ms\tremaining: 24.7ms\n",
      "83:\tlearn: 0.3534810\ttotal: 122ms\tremaining: 23.3ms\n",
      "84:\tlearn: 0.3531964\ttotal: 125ms\tremaining: 22ms\n",
      "85:\tlearn: 0.3526091\ttotal: 126ms\tremaining: 20.6ms\n",
      "86:\tlearn: 0.3522029\ttotal: 128ms\tremaining: 19.2ms\n",
      "87:\tlearn: 0.3517775\ttotal: 130ms\tremaining: 17.7ms\n",
      "88:\tlearn: 0.3513606\ttotal: 131ms\tremaining: 16.2ms\n",
      "89:\tlearn: 0.3508485\ttotal: 133ms\tremaining: 14.7ms\n",
      "90:\tlearn: 0.3505462\ttotal: 136ms\tremaining: 13.4ms\n",
      "91:\tlearn: 0.3496244\ttotal: 137ms\tremaining: 11.9ms\n",
      "92:\tlearn: 0.3481449\ttotal: 138ms\tremaining: 10.4ms\n",
      "93:\tlearn: 0.3480253\ttotal: 140ms\tremaining: 8.91ms\n",
      "94:\tlearn: 0.3473002\ttotal: 141ms\tremaining: 7.42ms\n",
      "95:\tlearn: 0.3467884\ttotal: 143ms\tremaining: 5.95ms\n",
      "96:\tlearn: 0.3467232\ttotal: 144ms\tremaining: 4.46ms\n",
      "97:\tlearn: 0.3463627\ttotal: 146ms\tremaining: 2.98ms\n",
      "98:\tlearn: 0.3460531\ttotal: 147ms\tremaining: 1.49ms\n",
      "99:\tlearn: 0.3458400\ttotal: 149ms\tremaining: 0us\n",
      "Learning rate set to 0.077449\n",
      "0:\tlearn: 0.6663233\ttotal: 1.58ms\tremaining: 156ms\n",
      "1:\tlearn: 0.6430191\ttotal: 2.83ms\tremaining: 139ms\n",
      "2:\tlearn: 0.6200640\ttotal: 3.56ms\tremaining: 115ms\n",
      "3:\tlearn: 0.5987485\ttotal: 4.72ms\tremaining: 113ms\n",
      "4:\tlearn: 0.5817155\ttotal: 5.8ms\tremaining: 110ms\n",
      "5:\tlearn: 0.5658436\ttotal: 6.78ms\tremaining: 106ms\n",
      "6:\tlearn: 0.5518739\ttotal: 7.84ms\tremaining: 104ms\n",
      "7:\tlearn: 0.5375873\ttotal: 8.87ms\tremaining: 102ms\n",
      "8:\tlearn: 0.5265230\ttotal: 10.7ms\tremaining: 108ms\n",
      "9:\tlearn: 0.5159083\ttotal: 12.2ms\tremaining: 110ms\n",
      "10:\tlearn: 0.5059075\ttotal: 14.2ms\tremaining: 115ms\n",
      "11:\tlearn: 0.4971208\ttotal: 15.4ms\tremaining: 113ms\n",
      "12:\tlearn: 0.4905278\ttotal: 17.1ms\tremaining: 114ms\n",
      "13:\tlearn: 0.4823499\ttotal: 19.8ms\tremaining: 122ms\n",
      "14:\tlearn: 0.4763009\ttotal: 21ms\tremaining: 119ms\n",
      "15:\tlearn: 0.4700565\ttotal: 22.5ms\tremaining: 118ms\n",
      "16:\tlearn: 0.4638597\ttotal: 23.7ms\tremaining: 116ms\n",
      "17:\tlearn: 0.4593294\ttotal: 25.3ms\tremaining: 115ms\n",
      "18:\tlearn: 0.4549852\ttotal: 26.6ms\tremaining: 113ms\n",
      "19:\tlearn: 0.4499450\ttotal: 27.7ms\tremaining: 111ms\n",
      "20:\tlearn: 0.4462038\ttotal: 29.2ms\tremaining: 110ms\n",
      "21:\tlearn: 0.4430673\ttotal: 30.3ms\tremaining: 108ms\n",
      "22:\tlearn: 0.4406015\ttotal: 31.8ms\tremaining: 107ms\n",
      "23:\tlearn: 0.4374772\ttotal: 32.6ms\tremaining: 103ms\n",
      "24:\tlearn: 0.4359596\ttotal: 33.2ms\tremaining: 99.5ms\n",
      "25:\tlearn: 0.4328862\ttotal: 34.4ms\tremaining: 97.8ms\n",
      "26:\tlearn: 0.4298677\ttotal: 35.8ms\tremaining: 96.7ms\n",
      "27:\tlearn: 0.4280213\ttotal: 36.6ms\tremaining: 94ms\n",
      "28:\tlearn: 0.4251507\ttotal: 37.8ms\tremaining: 92.5ms\n",
      "29:\tlearn: 0.4226107\ttotal: 38.9ms\tremaining: 90.9ms\n",
      "30:\tlearn: 0.4218514\ttotal: 39.6ms\tremaining: 88.1ms\n",
      "31:\tlearn: 0.4203910\ttotal: 40.9ms\tremaining: 86.9ms\n",
      "32:\tlearn: 0.4184994\ttotal: 45.4ms\tremaining: 92.1ms\n",
      "33:\tlearn: 0.4165096\ttotal: 46.5ms\tremaining: 90.2ms\n",
      "34:\tlearn: 0.4149278\ttotal: 47.6ms\tremaining: 88.4ms\n",
      "35:\tlearn: 0.4129644\ttotal: 49.6ms\tremaining: 88.1ms\n",
      "36:\tlearn: 0.4110552\ttotal: 50.7ms\tremaining: 86.4ms\n",
      "37:\tlearn: 0.4092898\ttotal: 51.8ms\tremaining: 84.5ms\n",
      "38:\tlearn: 0.4078094\ttotal: 53ms\tremaining: 82.8ms\n",
      "39:\tlearn: 0.4066186\ttotal: 53.7ms\tremaining: 80.5ms\n",
      "40:\tlearn: 0.4055056\ttotal: 55.9ms\tremaining: 80.4ms\n",
      "41:\tlearn: 0.4048665\ttotal: 56.9ms\tremaining: 78.6ms\n",
      "42:\tlearn: 0.4040910\ttotal: 57.5ms\tremaining: 76.3ms\n",
      "43:\tlearn: 0.4030756\ttotal: 58.9ms\tremaining: 74.9ms\n",
      "44:\tlearn: 0.4019290\ttotal: 60ms\tremaining: 73.4ms\n",
      "45:\tlearn: 0.4012080\ttotal: 62ms\tremaining: 72.8ms\n",
      "46:\tlearn: 0.4002444\ttotal: 63.3ms\tremaining: 71.4ms\n",
      "47:\tlearn: 0.3985458\ttotal: 64.5ms\tremaining: 69.9ms\n",
      "48:\tlearn: 0.3974485\ttotal: 65.5ms\tremaining: 68.1ms\n",
      "49:\tlearn: 0.3961345\ttotal: 66.8ms\tremaining: 66.8ms\n",
      "50:\tlearn: 0.3947705\ttotal: 68.9ms\tremaining: 66.2ms\n",
      "51:\tlearn: 0.3939117\ttotal: 70ms\tremaining: 64.6ms\n",
      "52:\tlearn: 0.3932279\ttotal: 71.2ms\tremaining: 63.1ms\n",
      "53:\tlearn: 0.3928586\ttotal: 72ms\tremaining: 61.3ms\n",
      "54:\tlearn: 0.3917635\ttotal: 73.2ms\tremaining: 59.9ms\n",
      "55:\tlearn: 0.3908773\ttotal: 75.1ms\tremaining: 59ms\n",
      "56:\tlearn: 0.3900523\ttotal: 76.1ms\tremaining: 57.4ms\n",
      "57:\tlearn: 0.3892615\ttotal: 77.6ms\tremaining: 56.2ms\n",
      "58:\tlearn: 0.3883788\ttotal: 78.8ms\tremaining: 54.8ms\n",
      "59:\tlearn: 0.3874113\ttotal: 80ms\tremaining: 53.3ms\n",
      "60:\tlearn: 0.3871296\ttotal: 81ms\tremaining: 51.8ms\n",
      "61:\tlearn: 0.3862874\ttotal: 82ms\tremaining: 50.3ms\n",
      "62:\tlearn: 0.3856132\ttotal: 83.1ms\tremaining: 48.8ms\n",
      "63:\tlearn: 0.3843497\ttotal: 84.1ms\tremaining: 47.3ms\n",
      "64:\tlearn: 0.3838705\ttotal: 85.1ms\tremaining: 45.8ms\n",
      "65:\tlearn: 0.3830455\ttotal: 86.1ms\tremaining: 44.3ms\n",
      "66:\tlearn: 0.3823970\ttotal: 87.4ms\tremaining: 43.1ms\n",
      "67:\tlearn: 0.3818888\ttotal: 88.4ms\tremaining: 41.6ms\n",
      "68:\tlearn: 0.3813610\ttotal: 89.5ms\tremaining: 40.2ms\n",
      "69:\tlearn: 0.3809451\ttotal: 90.9ms\tremaining: 39ms\n",
      "70:\tlearn: 0.3801480\ttotal: 91.9ms\tremaining: 37.5ms\n",
      "71:\tlearn: 0.3794773\ttotal: 93ms\tremaining: 36.2ms\n",
      "72:\tlearn: 0.3791003\ttotal: 95.7ms\tremaining: 35.4ms\n",
      "73:\tlearn: 0.3785499\ttotal: 98.6ms\tremaining: 34.6ms\n",
      "74:\tlearn: 0.3775063\ttotal: 99.8ms\tremaining: 33.3ms\n",
      "75:\tlearn: 0.3770599\ttotal: 101ms\tremaining: 31.9ms\n",
      "76:\tlearn: 0.3764579\ttotal: 103ms\tremaining: 30.7ms\n",
      "77:\tlearn: 0.3760111\ttotal: 104ms\tremaining: 29.3ms\n",
      "78:\tlearn: 0.3753284\ttotal: 105ms\tremaining: 28ms\n",
      "79:\tlearn: 0.3752298\ttotal: 106ms\tremaining: 26.5ms\n",
      "80:\tlearn: 0.3744521\ttotal: 108ms\tremaining: 25.3ms\n",
      "81:\tlearn: 0.3738701\ttotal: 112ms\tremaining: 24.5ms\n",
      "82:\tlearn: 0.3733831\ttotal: 123ms\tremaining: 25.2ms\n",
      "83:\tlearn: 0.3730352\ttotal: 124ms\tremaining: 23.6ms\n",
      "84:\tlearn: 0.3723238\ttotal: 128ms\tremaining: 22.5ms\n",
      "85:\tlearn: 0.3717877\ttotal: 131ms\tremaining: 21.3ms\n",
      "86:\tlearn: 0.3710716\ttotal: 132ms\tremaining: 19.8ms\n",
      "87:\tlearn: 0.3706110\ttotal: 134ms\tremaining: 18.2ms\n",
      "88:\tlearn: 0.3703998\ttotal: 138ms\tremaining: 17.1ms\n",
      "89:\tlearn: 0.3700197\ttotal: 140ms\tremaining: 15.6ms\n",
      "90:\tlearn: 0.3695651\ttotal: 142ms\tremaining: 14ms\n",
      "91:\tlearn: 0.3693025\ttotal: 151ms\tremaining: 13.2ms\n",
      "92:\tlearn: 0.3688602\ttotal: 156ms\tremaining: 11.7ms\n",
      "93:\tlearn: 0.3686400\ttotal: 174ms\tremaining: 11.1ms\n",
      "94:\tlearn: 0.3684587\ttotal: 178ms\tremaining: 9.38ms\n",
      "95:\tlearn: 0.3672390\ttotal: 179ms\tremaining: 7.47ms\n",
      "96:\tlearn: 0.3670756\ttotal: 181ms\tremaining: 5.59ms\n",
      "97:\tlearn: 0.3664265\ttotal: 182ms\tremaining: 3.71ms\n",
      "98:\tlearn: 0.3660748\ttotal: 183ms\tremaining: 1.84ms\n",
      "99:\tlearn: 0.3654566\ttotal: 184ms\tremaining: 0us\n",
      "Learning rate set to 0.077449\n",
      "0:\tlearn: 0.6647473\ttotal: 1.06ms\tremaining: 105ms\n",
      "1:\tlearn: 0.6411203\ttotal: 1.97ms\tremaining: 96.6ms\n",
      "2:\tlearn: 0.6167255\ttotal: 2.95ms\tremaining: 95.5ms\n",
      "3:\tlearn: 0.5948521\ttotal: 4.51ms\tremaining: 108ms\n",
      "4:\tlearn: 0.5780854\ttotal: 7.15ms\tremaining: 136ms\n",
      "5:\tlearn: 0.5615208\ttotal: 8.99ms\tremaining: 141ms\n",
      "6:\tlearn: 0.5456063\ttotal: 11.2ms\tremaining: 149ms\n",
      "7:\tlearn: 0.5314967\ttotal: 12.9ms\tremaining: 149ms\n",
      "8:\tlearn: 0.5188846\ttotal: 14.1ms\tremaining: 143ms\n",
      "9:\tlearn: 0.5077212\ttotal: 17.2ms\tremaining: 154ms\n",
      "10:\tlearn: 0.4976029\ttotal: 18.6ms\tremaining: 150ms\n",
      "11:\tlearn: 0.4906875\ttotal: 19.5ms\tremaining: 143ms\n",
      "12:\tlearn: 0.4808960\ttotal: 20.5ms\tremaining: 137ms\n",
      "13:\tlearn: 0.4737598\ttotal: 21.4ms\tremaining: 132ms\n",
      "14:\tlearn: 0.4678795\ttotal: 22.4ms\tremaining: 127ms\n",
      "15:\tlearn: 0.4613517\ttotal: 24.1ms\tremaining: 127ms\n",
      "16:\tlearn: 0.4554315\ttotal: 24.8ms\tremaining: 121ms\n",
      "17:\tlearn: 0.4493016\ttotal: 25.9ms\tremaining: 118ms\n",
      "18:\tlearn: 0.4445313\ttotal: 26.7ms\tremaining: 114ms\n",
      "19:\tlearn: 0.4417069\ttotal: 27.5ms\tremaining: 110ms\n",
      "20:\tlearn: 0.4371260\ttotal: 28.9ms\tremaining: 109ms\n",
      "21:\tlearn: 0.4331021\ttotal: 29.9ms\tremaining: 106ms\n",
      "22:\tlearn: 0.4284830\ttotal: 34ms\tremaining: 114ms\n",
      "23:\tlearn: 0.4246410\ttotal: 36.2ms\tremaining: 115ms\n",
      "24:\tlearn: 0.4208815\ttotal: 39ms\tremaining: 117ms\n",
      "25:\tlearn: 0.4178439\ttotal: 41.4ms\tremaining: 118ms\n",
      "26:\tlearn: 0.4149775\ttotal: 42.7ms\tremaining: 115ms\n",
      "27:\tlearn: 0.4114055\ttotal: 43.7ms\tremaining: 112ms\n",
      "28:\tlearn: 0.4093855\ttotal: 44.8ms\tremaining: 110ms\n",
      "29:\tlearn: 0.4082759\ttotal: 45.9ms\tremaining: 107ms\n",
      "30:\tlearn: 0.4061885\ttotal: 46.9ms\tremaining: 104ms\n",
      "31:\tlearn: 0.4049394\ttotal: 48ms\tremaining: 102ms\n",
      "32:\tlearn: 0.4040744\ttotal: 49.1ms\tremaining: 99.6ms\n",
      "33:\tlearn: 0.4027916\ttotal: 50.2ms\tremaining: 97.5ms\n",
      "34:\tlearn: 0.4009446\ttotal: 52.4ms\tremaining: 97.3ms\n",
      "35:\tlearn: 0.3987859\ttotal: 53.5ms\tremaining: 95.1ms\n",
      "36:\tlearn: 0.3968821\ttotal: 54.5ms\tremaining: 92.9ms\n",
      "37:\tlearn: 0.3951468\ttotal: 55.5ms\tremaining: 90.6ms\n",
      "38:\tlearn: 0.3938424\ttotal: 56.5ms\tremaining: 88.4ms\n",
      "39:\tlearn: 0.3927705\ttotal: 57.1ms\tremaining: 85.7ms\n",
      "40:\tlearn: 0.3916172\ttotal: 58.8ms\tremaining: 84.7ms\n",
      "41:\tlearn: 0.3899550\ttotal: 62.7ms\tremaining: 86.6ms\n",
      "42:\tlearn: 0.3884397\ttotal: 64.6ms\tremaining: 85.6ms\n",
      "43:\tlearn: 0.3868640\ttotal: 66.1ms\tremaining: 84.2ms\n",
      "44:\tlearn: 0.3863293\ttotal: 67.1ms\tremaining: 82ms\n",
      "45:\tlearn: 0.3852684\ttotal: 69.9ms\tremaining: 82ms\n",
      "46:\tlearn: 0.3839696\ttotal: 73.1ms\tremaining: 82.5ms\n",
      "47:\tlearn: 0.3830845\ttotal: 74.5ms\tremaining: 80.7ms\n",
      "48:\tlearn: 0.3820836\ttotal: 75.5ms\tremaining: 78.6ms\n",
      "49:\tlearn: 0.3809769\ttotal: 76.6ms\tremaining: 76.6ms\n",
      "50:\tlearn: 0.3802069\ttotal: 77.6ms\tremaining: 74.6ms\n",
      "51:\tlearn: 0.3793019\ttotal: 79.7ms\tremaining: 73.5ms\n",
      "52:\tlearn: 0.3786065\ttotal: 89.3ms\tremaining: 79.2ms\n",
      "53:\tlearn: 0.3777470\ttotal: 98.4ms\tremaining: 83.8ms\n",
      "54:\tlearn: 0.3770184\ttotal: 100ms\tremaining: 82ms\n",
      "55:\tlearn: 0.3760674\ttotal: 101ms\tremaining: 79.4ms\n",
      "56:\tlearn: 0.3751040\ttotal: 102ms\tremaining: 77.3ms\n",
      "57:\tlearn: 0.3749058\ttotal: 104ms\tremaining: 75ms\n",
      "58:\tlearn: 0.3734592\ttotal: 105ms\tremaining: 72.7ms\n",
      "59:\tlearn: 0.3728429\ttotal: 106ms\tremaining: 70.7ms\n",
      "60:\tlearn: 0.3725325\ttotal: 107ms\tremaining: 68.3ms\n",
      "61:\tlearn: 0.3719442\ttotal: 108ms\tremaining: 66.4ms\n",
      "62:\tlearn: 0.3708500\ttotal: 111ms\tremaining: 65.3ms\n",
      "63:\tlearn: 0.3703520\ttotal: 112ms\tremaining: 63.1ms\n",
      "64:\tlearn: 0.3696441\ttotal: 114ms\tremaining: 61.4ms\n",
      "65:\tlearn: 0.3688147\ttotal: 117ms\tremaining: 60.2ms\n",
      "66:\tlearn: 0.3681980\ttotal: 120ms\tremaining: 59ms\n",
      "67:\tlearn: 0.3676197\ttotal: 121ms\tremaining: 56.9ms\n",
      "68:\tlearn: 0.3668359\ttotal: 122ms\tremaining: 54.8ms\n",
      "69:\tlearn: 0.3662283\ttotal: 123ms\tremaining: 52.7ms\n",
      "70:\tlearn: 0.3657173\ttotal: 124ms\tremaining: 50.8ms\n",
      "71:\tlearn: 0.3649160\ttotal: 126ms\tremaining: 48.9ms\n",
      "72:\tlearn: 0.3641808\ttotal: 127ms\tremaining: 47ms\n",
      "73:\tlearn: 0.3632967\ttotal: 128ms\tremaining: 45ms\n",
      "74:\tlearn: 0.3627154\ttotal: 129ms\tremaining: 43ms\n",
      "75:\tlearn: 0.3624670\ttotal: 131ms\tremaining: 41.4ms\n",
      "76:\tlearn: 0.3618484\ttotal: 132ms\tremaining: 39.5ms\n",
      "77:\tlearn: 0.3611927\ttotal: 133ms\tremaining: 37.6ms\n",
      "78:\tlearn: 0.3608699\ttotal: 134ms\tremaining: 35.7ms\n",
      "79:\tlearn: 0.3601833\ttotal: 136ms\tremaining: 33.9ms\n",
      "80:\tlearn: 0.3596174\ttotal: 139ms\tremaining: 32.6ms\n",
      "81:\tlearn: 0.3593978\ttotal: 142ms\tremaining: 31.2ms\n",
      "82:\tlearn: 0.3585230\ttotal: 178ms\tremaining: 36.4ms\n",
      "83:\tlearn: 0.3579860\ttotal: 179ms\tremaining: 34.1ms\n",
      "84:\tlearn: 0.3576047\ttotal: 190ms\tremaining: 33.6ms\n",
      "85:\tlearn: 0.3567808\ttotal: 198ms\tremaining: 32.2ms\n",
      "86:\tlearn: 0.3560003\ttotal: 200ms\tremaining: 29.8ms\n",
      "87:\tlearn: 0.3555976\ttotal: 210ms\tremaining: 28.7ms\n",
      "88:\tlearn: 0.3550147\ttotal: 212ms\tremaining: 26.2ms\n",
      "89:\tlearn: 0.3549867\ttotal: 217ms\tremaining: 24.1ms\n",
      "90:\tlearn: 0.3546491\ttotal: 219ms\tremaining: 21.7ms\n",
      "91:\tlearn: 0.3541688\ttotal: 220ms\tremaining: 19.2ms\n",
      "92:\tlearn: 0.3534809\ttotal: 222ms\tremaining: 16.7ms\n",
      "93:\tlearn: 0.3530657\ttotal: 224ms\tremaining: 14.3ms\n",
      "94:\tlearn: 0.3528535\ttotal: 225ms\tremaining: 11.8ms\n",
      "95:\tlearn: 0.3523020\ttotal: 227ms\tremaining: 9.44ms\n",
      "96:\tlearn: 0.3519985\ttotal: 230ms\tremaining: 7.13ms\n",
      "97:\tlearn: 0.3516131\ttotal: 233ms\tremaining: 4.76ms\n",
      "98:\tlearn: 0.3512808\ttotal: 235ms\tremaining: 2.37ms\n",
      "99:\tlearn: 0.3510577\ttotal: 237ms\tremaining: 0us\n",
      "Learning rate set to 0.077449\n",
      "0:\tlearn: 0.6649900\ttotal: 1.71ms\tremaining: 170ms\n",
      "1:\tlearn: 0.6412114\ttotal: 3.6ms\tremaining: 176ms\n",
      "2:\tlearn: 0.6177424\ttotal: 4.71ms\tremaining: 152ms\n",
      "3:\tlearn: 0.5965063\ttotal: 6.96ms\tremaining: 167ms\n",
      "4:\tlearn: 0.5794530\ttotal: 8.37ms\tremaining: 159ms\n",
      "5:\tlearn: 0.5622844\ttotal: 9.56ms\tremaining: 150ms\n",
      "6:\tlearn: 0.5469377\ttotal: 10.7ms\tremaining: 143ms\n",
      "7:\tlearn: 0.5337780\ttotal: 11.8ms\tremaining: 135ms\n",
      "8:\tlearn: 0.5218055\ttotal: 13.1ms\tremaining: 132ms\n",
      "9:\tlearn: 0.5109244\ttotal: 14.4ms\tremaining: 129ms\n",
      "10:\tlearn: 0.4997867\ttotal: 15.4ms\tremaining: 125ms\n",
      "11:\tlearn: 0.4929265\ttotal: 16.3ms\tremaining: 120ms\n",
      "12:\tlearn: 0.4859433\ttotal: 17ms\tremaining: 114ms\n",
      "13:\tlearn: 0.4784451\ttotal: 21.7ms\tremaining: 134ms\n",
      "14:\tlearn: 0.4711113\ttotal: 22.6ms\tremaining: 128ms\n",
      "15:\tlearn: 0.4635633\ttotal: 23.8ms\tremaining: 125ms\n",
      "16:\tlearn: 0.4582118\ttotal: 24.9ms\tremaining: 121ms\n",
      "17:\tlearn: 0.4521825\ttotal: 25.9ms\tremaining: 118ms\n",
      "18:\tlearn: 0.4468056\ttotal: 27.6ms\tremaining: 118ms\n",
      "19:\tlearn: 0.4414673\ttotal: 30ms\tremaining: 120ms\n",
      "20:\tlearn: 0.4373108\ttotal: 31.2ms\tremaining: 117ms\n",
      "21:\tlearn: 0.4337058\ttotal: 34.5ms\tremaining: 122ms\n",
      "22:\tlearn: 0.4306955\ttotal: 38.3ms\tremaining: 128ms\n",
      "23:\tlearn: 0.4264167\ttotal: 39.2ms\tremaining: 124ms\n",
      "24:\tlearn: 0.4248612\ttotal: 39.8ms\tremaining: 120ms\n",
      "25:\tlearn: 0.4216482\ttotal: 41ms\tremaining: 117ms\n",
      "26:\tlearn: 0.4188320\ttotal: 43.2ms\tremaining: 117ms\n",
      "27:\tlearn: 0.4162943\ttotal: 44.2ms\tremaining: 114ms\n",
      "28:\tlearn: 0.4132758\ttotal: 45.3ms\tremaining: 111ms\n",
      "29:\tlearn: 0.4104038\ttotal: 46.6ms\tremaining: 109ms\n",
      "30:\tlearn: 0.4082547\ttotal: 51.8ms\tremaining: 115ms\n",
      "31:\tlearn: 0.4058292\ttotal: 53ms\tremaining: 113ms\n",
      "32:\tlearn: 0.4039861\ttotal: 54.2ms\tremaining: 110ms\n",
      "33:\tlearn: 0.4017882\ttotal: 55.7ms\tremaining: 108ms\n",
      "34:\tlearn: 0.3995385\ttotal: 57.1ms\tremaining: 106ms\n",
      "35:\tlearn: 0.3975518\ttotal: 58.5ms\tremaining: 104ms\n",
      "36:\tlearn: 0.3964675\ttotal: 60.4ms\tremaining: 103ms\n",
      "37:\tlearn: 0.3951619\ttotal: 61.7ms\tremaining: 101ms\n",
      "38:\tlearn: 0.3933019\ttotal: 63.9ms\tremaining: 100ms\n",
      "39:\tlearn: 0.3922654\ttotal: 65.1ms\tremaining: 97.6ms\n",
      "40:\tlearn: 0.3916669\ttotal: 66.3ms\tremaining: 95.5ms\n",
      "41:\tlearn: 0.3907016\ttotal: 67.7ms\tremaining: 93.5ms\n",
      "42:\tlearn: 0.3894361\ttotal: 68.8ms\tremaining: 91.2ms\n",
      "43:\tlearn: 0.3886043\ttotal: 71.3ms\tremaining: 90.7ms\n",
      "44:\tlearn: 0.3874928\ttotal: 72.4ms\tremaining: 88.5ms\n",
      "45:\tlearn: 0.3865265\ttotal: 73.5ms\tremaining: 86.2ms\n",
      "46:\tlearn: 0.3854234\ttotal: 74.5ms\tremaining: 84ms\n",
      "47:\tlearn: 0.3836523\ttotal: 75.7ms\tremaining: 82ms\n",
      "48:\tlearn: 0.3829578\ttotal: 77.4ms\tremaining: 80.6ms\n",
      "49:\tlearn: 0.3819892\ttotal: 78.6ms\tremaining: 78.6ms\n",
      "50:\tlearn: 0.3814430\ttotal: 80.1ms\tremaining: 76.9ms\n",
      "51:\tlearn: 0.3801120\ttotal: 81.7ms\tremaining: 75.4ms\n",
      "52:\tlearn: 0.3795116\ttotal: 85.8ms\tremaining: 76.1ms\n",
      "53:\tlearn: 0.3784588\ttotal: 87.4ms\tremaining: 74.5ms\n",
      "54:\tlearn: 0.3771741\ttotal: 92.7ms\tremaining: 75.8ms\n",
      "55:\tlearn: 0.3768875\ttotal: 97.9ms\tremaining: 76.9ms\n",
      "56:\tlearn: 0.3758703\ttotal: 101ms\tremaining: 76.5ms\n",
      "57:\tlearn: 0.3748594\ttotal: 104ms\tremaining: 75.4ms\n",
      "58:\tlearn: 0.3746078\ttotal: 105ms\tremaining: 72.9ms\n",
      "59:\tlearn: 0.3739747\ttotal: 106ms\tremaining: 70.7ms\n",
      "60:\tlearn: 0.3728649\ttotal: 107ms\tremaining: 68.5ms\n",
      "61:\tlearn: 0.3723401\ttotal: 108ms\tremaining: 66.2ms\n",
      "62:\tlearn: 0.3713451\ttotal: 110ms\tremaining: 64.5ms\n",
      "63:\tlearn: 0.3710149\ttotal: 111ms\tremaining: 62.7ms\n",
      "64:\tlearn: 0.3707134\ttotal: 113ms\tremaining: 60.6ms\n",
      "65:\tlearn: 0.3700864\ttotal: 114ms\tremaining: 58.7ms\n",
      "66:\tlearn: 0.3695437\ttotal: 116ms\tremaining: 57.1ms\n",
      "67:\tlearn: 0.3685946\ttotal: 118ms\tremaining: 55.6ms\n",
      "68:\tlearn: 0.3682019\ttotal: 119ms\tremaining: 53.6ms\n",
      "69:\tlearn: 0.3676863\ttotal: 120ms\tremaining: 51.6ms\n",
      "70:\tlearn: 0.3671596\ttotal: 121ms\tremaining: 49.6ms\n",
      "71:\tlearn: 0.3660231\ttotal: 122ms\tremaining: 47.6ms\n",
      "72:\tlearn: 0.3655519\ttotal: 124ms\tremaining: 45.8ms\n",
      "73:\tlearn: 0.3651463\ttotal: 125ms\tremaining: 43.9ms\n",
      "74:\tlearn: 0.3643813\ttotal: 126ms\tremaining: 42ms\n",
      "75:\tlearn: 0.3639319\ttotal: 127ms\tremaining: 40.1ms\n",
      "76:\tlearn: 0.3635531\ttotal: 128ms\tremaining: 38.2ms\n",
      "77:\tlearn: 0.3631109\ttotal: 129ms\tremaining: 36.3ms\n",
      "78:\tlearn: 0.3626086\ttotal: 130ms\tremaining: 34.6ms\n",
      "79:\tlearn: 0.3615773\ttotal: 132ms\tremaining: 33ms\n",
      "80:\tlearn: 0.3609852\ttotal: 133ms\tremaining: 31.2ms\n",
      "81:\tlearn: 0.3607870\ttotal: 134ms\tremaining: 29.5ms\n",
      "82:\tlearn: 0.3599766\ttotal: 135ms\tremaining: 27.8ms\n",
      "83:\tlearn: 0.3590581\ttotal: 138ms\tremaining: 26.3ms\n",
      "84:\tlearn: 0.3589228\ttotal: 139ms\tremaining: 24.6ms\n",
      "85:\tlearn: 0.3588973\ttotal: 140ms\tremaining: 22.8ms\n",
      "86:\tlearn: 0.3582414\ttotal: 141ms\tremaining: 21.1ms\n",
      "87:\tlearn: 0.3570242\ttotal: 143ms\tremaining: 19.5ms\n",
      "88:\tlearn: 0.3568327\ttotal: 144ms\tremaining: 17.8ms\n",
      "89:\tlearn: 0.3566289\ttotal: 146ms\tremaining: 16.2ms\n",
      "90:\tlearn: 0.3562464\ttotal: 148ms\tremaining: 14.6ms\n",
      "91:\tlearn: 0.3554740\ttotal: 149ms\tremaining: 13ms\n",
      "92:\tlearn: 0.3548570\ttotal: 151ms\tremaining: 11.4ms\n",
      "93:\tlearn: 0.3545772\ttotal: 152ms\tremaining: 9.72ms\n",
      "94:\tlearn: 0.3540797\ttotal: 153ms\tremaining: 8.07ms\n",
      "95:\tlearn: 0.3536905\ttotal: 155ms\tremaining: 6.47ms\n",
      "96:\tlearn: 0.3530067\ttotal: 156ms\tremaining: 4.83ms\n",
      "97:\tlearn: 0.3520194\ttotal: 157ms\tremaining: 3.21ms\n",
      "98:\tlearn: 0.3516009\ttotal: 159ms\tremaining: 1.61ms\n",
      "99:\tlearn: 0.3512572\ttotal: 160ms\tremaining: 0us\n"
     ]
    },
    {
     "output_type": "execute_result",
     "data": {
      "text/plain": [
       "<pandas.io.formats.style.Styler at 0x7fc3bd774190>"
      ],
      "text/html": "<style  type=\"text/css\" >\n#T_9b625_row0_col1{\n            width:  10em;\n             height:  80%;\n            background:  linear-gradient(90deg,#5fba7d 83.7%, transparent 83.7%);\n        }#T_9b625_row0_col2{\n            width:  10em;\n             height:  80%;\n            background:  linear-gradient(90deg,#5fba7d 82.0%, transparent 82.0%);\n        }#T_9b625_row1_col1{\n            width:  10em;\n             height:  80%;\n            background:  linear-gradient(90deg,#5fba7d 82.8%, transparent 82.8%);\n        }#T_9b625_row1_col2,#T_9b625_row7_col1{\n            width:  10em;\n             height:  80%;\n            background:  linear-gradient(90deg,#5fba7d 81.3%, transparent 81.3%);\n        }#T_9b625_row2_col1{\n            width:  10em;\n             height:  80%;\n            background:  linear-gradient(90deg,#5fba7d 82.6%, transparent 82.6%);\n        }#T_9b625_row2_col2{\n            width:  10em;\n             height:  80%;\n            background:  linear-gradient(90deg,#5fba7d 81.1%, transparent 81.1%);\n        }#T_9b625_row3_col1{\n            width:  10em;\n             height:  80%;\n            background:  linear-gradient(90deg,#5fba7d 82.4%, transparent 82.4%);\n        }#T_9b625_row3_col2{\n            width:  10em;\n             height:  80%;\n            background:  linear-gradient(90deg,#5fba7d 80.0%, transparent 80.0%);\n        }#T_9b625_row4_col1{\n            width:  10em;\n             height:  80%;\n            background:  linear-gradient(90deg,#5fba7d 82.2%, transparent 82.2%);\n        }#T_9b625_row4_col2{\n            width:  10em;\n             height:  80%;\n            background:  linear-gradient(90deg,#5fba7d 80.9%, transparent 80.9%);\n        }#T_9b625_row5_col1{\n            width:  10em;\n             height:  80%;\n            background:  linear-gradient(90deg,#5fba7d 81.8%, transparent 81.8%);\n        }#T_9b625_row5_col2,#T_9b625_row6_col2{\n            width:  10em;\n             height:  80%;\n            background:  linear-gradient(90deg,#5fba7d 80.4%, transparent 80.4%);\n        }#T_9b625_row6_col1{\n            width:  10em;\n             height:  80%;\n            background:  linear-gradient(90deg,#5fba7d 81.4%, transparent 81.4%);\n        }#T_9b625_row7_col2,#T_9b625_row8_col1{\n            width:  10em;\n             height:  80%;\n            background:  linear-gradient(90deg,#5fba7d 80.2%, transparent 80.2%);\n        }#T_9b625_row8_col2{\n            width:  10em;\n             height:  80%;\n            background:  linear-gradient(90deg,#5fba7d 78.8%, transparent 78.8%);\n        }</style><table id=\"T_9b625_\" ><thead>    <tr>        <th class=\"blank level0\" ></th>        <th class=\"col_heading level0 col0\" >Model</th>        <th class=\"col_heading level0 col1\" >Accuracy</th>        <th class=\"col_heading level0 col2\" >Bal Acc.</th>        <th class=\"col_heading level0 col3\" >Time</th>    </tr></thead><tbody>\n                <tr>\n                        <th id=\"T_9b625_level0_row0\" class=\"row_heading level0 row0\" >1</th>\n                        <td id=\"T_9b625_row0_col0\" class=\"data row0 col0\" >Skl GBM</td>\n                        <td id=\"T_9b625_row0_col1\" class=\"data row0 col1\" >83.726150</td>\n                        <td id=\"T_9b625_row0_col2\" class=\"data row0 col2\" >81.998370</td>\n                        <td id=\"T_9b625_row0_col3\" class=\"data row0 col3\" >2.828816</td>\n            </tr>\n            <tr>\n                        <th id=\"T_9b625_level0_row1\" class=\"row_heading level0 row1\" >2</th>\n                        <td id=\"T_9b625_row1_col0\" class=\"data row1 col0\" >Skl HistGBM</td>\n                        <td id=\"T_9b625_row1_col1\" class=\"data row1 col1\" >82.828283</td>\n                        <td id=\"T_9b625_row1_col2\" class=\"data row1 col2\" >81.324897</td>\n                        <td id=\"T_9b625_row1_col3\" class=\"data row1 col3\" >16.088139</td>\n            </tr>\n            <tr>\n                        <th id=\"T_9b625_level0_row2\" class=\"row_heading level0 row2\" >3</th>\n                        <td id=\"T_9b625_row2_col0\" class=\"data row2 col0\" >LightGBM</td>\n                        <td id=\"T_9b625_row2_col1\" class=\"data row2 col1\" >82.603816</td>\n                        <td id=\"T_9b625_row2_col2\" class=\"data row2 col2\" >81.142748</td>\n                        <td id=\"T_9b625_row2_col3\" class=\"data row2 col3\" >1.942335</td>\n            </tr>\n            <tr>\n                        <th id=\"T_9b625_level0_row3\" class=\"row_heading level0 row3\" >4</th>\n                        <td id=\"T_9b625_row3_col0\" class=\"data row3 col0\" >CatBoost</td>\n                        <td id=\"T_9b625_row3_col1\" class=\"data row3 col1\" >82.379349</td>\n                        <td id=\"T_9b625_row3_col2\" class=\"data row3 col2\" >79.968364</td>\n                        <td id=\"T_9b625_row3_col3\" class=\"data row3 col3\" >3.024142</td>\n            </tr>\n            <tr>\n                        <th id=\"T_9b625_level0_row4\" class=\"row_heading level0 row4\" >5</th>\n                        <td id=\"T_9b625_row4_col0\" class=\"data row4 col0\" >Random Forest</td>\n                        <td id=\"T_9b625_row4_col1\" class=\"data row4 col1\" >82.154882</td>\n                        <td id=\"T_9b625_row4_col2\" class=\"data row4 col2\" >80.888697</td>\n                        <td id=\"T_9b625_row4_col3\" class=\"data row4 col3\" >3.212516</td>\n            </tr>\n            <tr>\n                        <th id=\"T_9b625_level0_row5\" class=\"row_heading level0 row5\" >6</th>\n                        <td id=\"T_9b625_row5_col0\" class=\"data row5 col0\" >XGBoost</td>\n                        <td id=\"T_9b625_row5_col1\" class=\"data row5 col1\" >81.818182</td>\n                        <td id=\"T_9b625_row5_col2\" class=\"data row5 col2\" >80.394977</td>\n                        <td id=\"T_9b625_row5_col3\" class=\"data row5 col3\" >3.377670</td>\n            </tr>\n            <tr>\n                        <th id=\"T_9b625_level0_row6\" class=\"row_heading level0 row6\" >7</th>\n                        <td id=\"T_9b625_row6_col0\" class=\"data row6 col0\" >AdaBoost</td>\n                        <td id=\"T_9b625_row6_col1\" class=\"data row6 col1\" >81.369248</td>\n                        <td id=\"T_9b625_row6_col2\" class=\"data row6 col2\" >80.361423</td>\n                        <td id=\"T_9b625_row6_col3\" class=\"data row6 col3\" >5.785335</td>\n            </tr>\n            <tr>\n                        <th id=\"T_9b625_level0_row7\" class=\"row_heading level0 row7\" >8</th>\n                        <td id=\"T_9b625_row7_col0\" class=\"data row7 col0\" >Decision Tree</td>\n                        <td id=\"T_9b625_row7_col1\" class=\"data row7 col1\" >81.257015</td>\n                        <td id=\"T_9b625_row7_col2\" class=\"data row7 col2\" >80.215224</td>\n                        <td id=\"T_9b625_row7_col3\" class=\"data row7 col3\" >0.528466</td>\n            </tr>\n            <tr>\n                        <th id=\"T_9b625_level0_row8\" class=\"row_heading level0 row8\" >9</th>\n                        <td id=\"T_9b625_row8_col0\" class=\"data row8 col0\" >Extra Trees</td>\n                        <td id=\"T_9b625_row8_col1\" class=\"data row8 col1\" >80.246914</td>\n                        <td id=\"T_9b625_row8_col2\" class=\"data row8 col2\" >78.844310</td>\n                        <td id=\"T_9b625_row8_col3\" class=\"data row8 col3\" >2.987730</td>\n            </tr>\n    </tbody></table>"
     },
     "metadata": {},
     "execution_count": 34
    }
   ],
   "source": [
    "skf = model_selection.StratifiedKFold(\n",
    "    n_splits=10, shuffle=True, random_state=0\n",
    ")\n",
    "\n",
    "# YOUR CODE HERE\n",
    "#raise NotImplementedError()\n",
    "\n",
    "results = pd.DataFrame({'Model': [], 'Accuracy': [], 'Bal Acc.': [], 'Time': []})\n",
    "\n",
    "for model_name, model in tree_classifiers.items():\n",
    "    start_time = time.time()\n",
    "        \n",
    "    # TRAIN AND GET PREDICTIONS USING cross_val_predict() and x,y\n",
    "    pred = model_selection.cross_val_predict(model, x, y, cv=skf)\n",
    "\n",
    "    total_time = time.time() - start_time\n",
    "\n",
    "    results = results.append({\"Model\":    model_name,\n",
    "                              \"Accuracy\": metrics.accuracy_score(y, pred)*100,\n",
    "                              \"Bal Acc.\": metrics.balanced_accuracy_score(y, pred)*100,\n",
    "                              \"Time\":     total_time},\n",
    "                              ignore_index=True)\n",
    "                              \n",
    "                              \n",
    "\n",
    "# YOUR CODE HERE\n",
    "#raise NotImplementedError()\n",
    "\n",
    "\n",
    "results_ord = results.sort_values(by=['Accuracy'], ascending=False, ignore_index=True)\n",
    "results_ord.index += 1 \n",
    "results_ord.style.bar(subset=['Accuracy', 'Bal Acc.'], vmin=0, vmax=100, color='#5fba7d')"
   ]
  },
  {
   "cell_type": "code",
   "execution_count": 35,
   "metadata": {
    "deletable": false,
    "editable": false,
    "nbgrader": {
     "cell_type": "code",
     "checksum": "355f8e8321aae7be679a8d16b25172f2",
     "grade": true,
     "grade_id": "cell-57cc085faad513cf",
     "locked": true,
     "points": 3,
     "schema_version": 3,
     "solution": false,
     "task": false
    }
   },
   "outputs": [],
   "source": [
    "assert results_ord[\"Accuracy\"].min() > 75\n",
    "assert results_ord[\"Bal Acc.\"].min() > 75\n",
    "assert len(results_ord) == 9"
   ]
  },
  {
   "cell_type": "markdown",
   "metadata": {},
   "source": [
    "# Exercise 7.1\n",
    "Train with all data the best model"
   ]
  },
  {
   "cell_type": "code",
   "execution_count": 36,
   "metadata": {
    "colab": {},
    "colab_type": "code",
    "deletable": false,
    "id": "monuuQhHL7B_",
    "nbgrader": {
     "cell_type": "code",
     "checksum": "088ae511ec2eb947de2bff002e75d460",
     "grade": false,
     "grade_id": "cell-031a656e1e811717",
     "locked": false,
     "schema_version": 3,
     "solution": true,
     "task": false
    }
   },
   "outputs": [
    {
     "output_type": "execute_result",
     "data": {
      "text/plain": [
       "Pipeline(steps=[('columntransformer',\n",
       "                 ColumnTransformer(transformers=[('num',\n",
       "                                                  Pipeline(steps=[('imputer',\n",
       "                                                                   SimpleImputer(fill_value=-9999,\n",
       "                                                                                 strategy='constant'))]),\n",
       "                                                  ['Pclass', 'SibSp', 'Parch',\n",
       "                                                   'Fare', 'Age']),\n",
       "                                                 ('cat',\n",
       "                                                  Pipeline(steps=[('imputer',\n",
       "                                                                   SimpleImputer(fill_value='missing',\n",
       "                                                                                 strategy='constant')),\n",
       "                                                                  ('onehot',\n",
       "                                                                   OneHotEncoder(handle_unknown='ignore'))]),\n",
       "                                                  ['Sex', 'Embarked',\n",
       "                                                   'Title'])])),\n",
       "                ('gradientboostingclassifier', GradientBoostingClassifier())])"
      ],
      "text/html": "<style>div.sk-top-container {color: black;background-color: white;}div.sk-toggleable {background-color: white;}label.sk-toggleable__label {cursor: pointer;display: block;width: 100%;margin-bottom: 0;padding: 0.2em 0.3em;box-sizing: border-box;text-align: center;}div.sk-toggleable__content {max-height: 0;max-width: 0;overflow: hidden;text-align: left;background-color: #f0f8ff;}div.sk-toggleable__content pre {margin: 0.2em;color: black;border-radius: 0.25em;background-color: #f0f8ff;}input.sk-toggleable__control:checked~div.sk-toggleable__content {max-height: 200px;max-width: 100%;overflow: auto;}div.sk-estimator input.sk-toggleable__control:checked~label.sk-toggleable__label {background-color: #d4ebff;}div.sk-label input.sk-toggleable__control:checked~label.sk-toggleable__label {background-color: #d4ebff;}input.sk-hidden--visually {border: 0;clip: rect(1px 1px 1px 1px);clip: rect(1px, 1px, 1px, 1px);height: 1px;margin: -1px;overflow: hidden;padding: 0;position: absolute;width: 1px;}div.sk-estimator {font-family: monospace;background-color: #f0f8ff;margin: 0.25em 0.25em;border: 1px dotted black;border-radius: 0.25em;box-sizing: border-box;}div.sk-estimator:hover {background-color: #d4ebff;}div.sk-parallel-item::after {content: \"\";width: 100%;border-bottom: 1px solid gray;flex-grow: 1;}div.sk-label:hover label.sk-toggleable__label {background-color: #d4ebff;}div.sk-serial::before {content: \"\";position: absolute;border-left: 1px solid gray;box-sizing: border-box;top: 2em;bottom: 0;left: 50%;}div.sk-serial {display: flex;flex-direction: column;align-items: center;background-color: white;}div.sk-item {z-index: 1;}div.sk-parallel {display: flex;align-items: stretch;justify-content: center;background-color: white;}div.sk-parallel-item {display: flex;flex-direction: column;position: relative;background-color: white;}div.sk-parallel-item:first-child::after {align-self: flex-end;width: 50%;}div.sk-parallel-item:last-child::after {align-self: flex-start;width: 50%;}div.sk-parallel-item:only-child::after {width: 0;}div.sk-dashed-wrapped {border: 1px dashed gray;margin: 0.2em;box-sizing: border-box;padding-bottom: 0.1em;background-color: white;position: relative;}div.sk-label label {font-family: monospace;font-weight: bold;background-color: white;display: inline-block;line-height: 1.2em;}div.sk-label-container {position: relative;z-index: 2;text-align: center;}div.sk-container {display: inline-block;position: relative;}</style><div class=\"sk-top-container\"><div class=\"sk-container\"><div class=\"sk-item sk-dashed-wrapped\"><div class=\"sk-label-container\"><div class=\"sk-label sk-toggleable\"><input class=\"sk-toggleable__control sk-hidden--visually\" id=\"08114713-2ee4-4a1d-b575-5808c5cc7ee5\" type=\"checkbox\" ><label class=\"sk-toggleable__label\" for=\"08114713-2ee4-4a1d-b575-5808c5cc7ee5\">Pipeline</label><div class=\"sk-toggleable__content\"><pre>Pipeline(steps=[('columntransformer',\n                 ColumnTransformer(transformers=[('num',\n                                                  Pipeline(steps=[('imputer',\n                                                                   SimpleImputer(fill_value=-9999,\n                                                                                 strategy='constant'))]),\n                                                  ['Pclass', 'SibSp', 'Parch',\n                                                   'Fare', 'Age']),\n                                                 ('cat',\n                                                  Pipeline(steps=[('imputer',\n                                                                   SimpleImputer(fill_value='missing',\n                                                                                 strategy='constant')),\n                                                                  ('onehot',\n                                                                   OneHotEncoder(handle_unknown='ignore'))]),\n                                                  ['Sex', 'Embarked',\n                                                   'Title'])])),\n                ('gradientboostingclassifier', GradientBoostingClassifier())])</pre></div></div></div><div class=\"sk-serial\"><div class=\"sk-item sk-dashed-wrapped\"><div class=\"sk-label-container\"><div class=\"sk-label sk-toggleable\"><input class=\"sk-toggleable__control sk-hidden--visually\" id=\"880ec289-6ccb-474d-96f4-515bbd284df0\" type=\"checkbox\" ><label class=\"sk-toggleable__label\" for=\"880ec289-6ccb-474d-96f4-515bbd284df0\">columntransformer: ColumnTransformer</label><div class=\"sk-toggleable__content\"><pre>ColumnTransformer(transformers=[('num',\n                                 Pipeline(steps=[('imputer',\n                                                  SimpleImputer(fill_value=-9999,\n                                                                strategy='constant'))]),\n                                 ['Pclass', 'SibSp', 'Parch', 'Fare', 'Age']),\n                                ('cat',\n                                 Pipeline(steps=[('imputer',\n                                                  SimpleImputer(fill_value='missing',\n                                                                strategy='constant')),\n                                                 ('onehot',\n                                                  OneHotEncoder(handle_unknown='ignore'))]),\n                                 ['Sex', 'Embarked', 'Title'])])</pre></div></div></div><div class=\"sk-parallel\"><div class=\"sk-parallel-item\"><div class=\"sk-item\"><div class=\"sk-label-container\"><div class=\"sk-label sk-toggleable\"><input class=\"sk-toggleable__control sk-hidden--visually\" id=\"2691819f-1819-4475-92c8-e886a50988c5\" type=\"checkbox\" ><label class=\"sk-toggleable__label\" for=\"2691819f-1819-4475-92c8-e886a50988c5\">num</label><div class=\"sk-toggleable__content\"><pre>['Pclass', 'SibSp', 'Parch', 'Fare', 'Age']</pre></div></div></div><div class=\"sk-serial\"><div class=\"sk-item\"><div class=\"sk-serial\"><div class=\"sk-item\"><div class=\"sk-estimator sk-toggleable\"><input class=\"sk-toggleable__control sk-hidden--visually\" id=\"61272ea8-9315-4813-841b-9dc70585e8ae\" type=\"checkbox\" ><label class=\"sk-toggleable__label\" for=\"61272ea8-9315-4813-841b-9dc70585e8ae\">SimpleImputer</label><div class=\"sk-toggleable__content\"><pre>SimpleImputer(fill_value=-9999, strategy='constant')</pre></div></div></div></div></div></div></div></div><div class=\"sk-parallel-item\"><div class=\"sk-item\"><div class=\"sk-label-container\"><div class=\"sk-label sk-toggleable\"><input class=\"sk-toggleable__control sk-hidden--visually\" id=\"145a5a20-a2a2-4703-8346-9953a74ae025\" type=\"checkbox\" ><label class=\"sk-toggleable__label\" for=\"145a5a20-a2a2-4703-8346-9953a74ae025\">cat</label><div class=\"sk-toggleable__content\"><pre>['Sex', 'Embarked', 'Title']</pre></div></div></div><div class=\"sk-serial\"><div class=\"sk-item\"><div class=\"sk-serial\"><div class=\"sk-item\"><div class=\"sk-estimator sk-toggleable\"><input class=\"sk-toggleable__control sk-hidden--visually\" id=\"7ce087fe-924b-48b2-98d4-d56be236f317\" type=\"checkbox\" ><label class=\"sk-toggleable__label\" for=\"7ce087fe-924b-48b2-98d4-d56be236f317\">SimpleImputer</label><div class=\"sk-toggleable__content\"><pre>SimpleImputer(fill_value='missing', strategy='constant')</pre></div></div></div><div class=\"sk-item\"><div class=\"sk-estimator sk-toggleable\"><input class=\"sk-toggleable__control sk-hidden--visually\" id=\"e0e15534-c361-42dd-aeff-955b39f67f94\" type=\"checkbox\" ><label class=\"sk-toggleable__label\" for=\"e0e15534-c361-42dd-aeff-955b39f67f94\">OneHotEncoder</label><div class=\"sk-toggleable__content\"><pre>OneHotEncoder(handle_unknown='ignore')</pre></div></div></div></div></div></div></div></div></div></div><div class=\"sk-item\"><div class=\"sk-estimator sk-toggleable\"><input class=\"sk-toggleable__control sk-hidden--visually\" id=\"b9c4b5ee-9642-48c8-bf77-cab7003076c8\" type=\"checkbox\" ><label class=\"sk-toggleable__label\" for=\"b9c4b5ee-9642-48c8-bf77-cab7003076c8\">GradientBoostingClassifier</label><div class=\"sk-toggleable__content\"><pre>GradientBoostingClassifier()</pre></div></div></div></div></div></div></div>"
     },
     "metadata": {},
     "execution_count": 36
    }
   ],
   "source": [
    "best_model = tree_classifiers[\"Skl GBM\"]\n",
    "\n",
    "# Fit best model with all data\n",
    "best_model.fit(x,y)\n",
    "\n",
    "#raise NotImplementedError()"
   ]
  },
  {
   "cell_type": "markdown",
   "metadata": {},
   "source": [
    "# Exercise 7.2 (2pts)\n",
    "With your best model, generate the predicitions for test data (x_test)"
   ]
  },
  {
   "cell_type": "code",
   "execution_count": 37,
   "metadata": {
    "deletable": false,
    "nbgrader": {
     "cell_type": "code",
     "checksum": "031ab122b02b5833236370a53d148daf",
     "grade": false,
     "grade_id": "cell-44b93a0dbd4eb6fc",
     "locked": false,
     "schema_version": 3,
     "solution": true,
     "task": false
    }
   },
   "outputs": [],
   "source": [
    "test_pred = best_model.predict(x_test)\n",
    "\n",
    "# YOUR CODE HERE\n",
    "#raise NotImplementedError()"
   ]
  },
  {
   "cell_type": "code",
   "execution_count": 38,
   "metadata": {
    "deletable": false,
    "editable": false,
    "nbgrader": {
     "cell_type": "code",
     "checksum": "180b37cf4a0276bdf509220b1706a8aa",
     "grade": true,
     "grade_id": "cell-a29fc8d24284520e",
     "locked": true,
     "points": 2,
     "schema_version": 3,
     "solution": false,
     "task": false
    }
   },
   "outputs": [],
   "source": [
    "assert len(test_pred) == 418\n",
    "assert np.unique(test_pred).tolist() == [0,1]"
   ]
  },
  {
   "cell_type": "markdown",
   "metadata": {},
   "source": [
    "# Exercise 7.3\n",
    "\n",
    "Submit to kaggle.\n",
    "\n",
    "- You can use the kaggle command line app. Check https://github.com/Kaggle/kaggle-api"
   ]
  },
  {
   "cell_type": "code",
   "execution_count": 39,
   "metadata": {},
   "outputs": [
    {
     "output_type": "execute_result",
     "data": {
      "text/plain": [
       "             Survived\n",
       "PassengerId          \n",
       "892                 0\n",
       "893                 0\n",
       "894                 0\n",
       "895                 0\n",
       "896                 0"
      ],
      "text/html": "<div>\n<style scoped>\n    .dataframe tbody tr th:only-of-type {\n        vertical-align: middle;\n    }\n\n    .dataframe tbody tr th {\n        vertical-align: top;\n    }\n\n    .dataframe thead th {\n        text-align: right;\n    }\n</style>\n<table border=\"1\" class=\"dataframe\">\n  <thead>\n    <tr style=\"text-align: right;\">\n      <th></th>\n      <th>Survived</th>\n    </tr>\n    <tr>\n      <th>PassengerId</th>\n      <th></th>\n    </tr>\n  </thead>\n  <tbody>\n    <tr>\n      <th>892</th>\n      <td>0</td>\n    </tr>\n    <tr>\n      <th>893</th>\n      <td>0</td>\n    </tr>\n    <tr>\n      <th>894</th>\n      <td>0</td>\n    </tr>\n    <tr>\n      <th>895</th>\n      <td>0</td>\n    </tr>\n    <tr>\n      <th>896</th>\n      <td>0</td>\n    </tr>\n  </tbody>\n</table>\n</div>"
     },
     "metadata": {},
     "execution_count": 39
    }
   ],
   "source": [
    "sub = pd.DataFrame(test_pred, index=x_test.index, columns=[\"Survived\"])\n",
    "sub.head()"
   ]
  },
  {
   "cell_type": "code",
   "execution_count": 40,
   "metadata": {},
   "outputs": [],
   "source": [
    "sub.to_csv(\"sub.csv\")"
   ]
  },
  {
   "cell_type": "code",
   "execution_count": 41,
   "metadata": {},
   "outputs": [
    {
     "output_type": "stream",
     "name": "stdout",
     "text": [
      "zsh:1: command not found: kaggle\n"
     ]
    }
   ],
   "source": [
    "!kaggle competitions submit -c titanic -f sub.csv -m \"My submission message\""
   ]
  },
  {
   "cell_type": "code",
   "execution_count": null,
   "metadata": {},
   "outputs": [],
   "source": []
  }
 ],
 "metadata": {
  "anaconda-cloud": {},
  "colab": {
   "collapsed_sections": [],
   "name": "Titanic LogReg.ipynb",
   "provenance": []
  },
  "kernelspec": {
   "name": "python388jvsc74a57bd0cf555a535db7017a6b948d32903ad36250485fd978ed311011af4dda9c2a4394",
   "display_name": "Python 3.8.8 64-bit ('Tuns_': conda)"
  },
  "language_info": {
   "codemirror_mode": {
    "name": "ipython",
    "version": 3
   },
   "file_extension": ".py",
   "mimetype": "text/x-python",
   "name": "python",
   "nbconvert_exporter": "python",
   "pygments_lexer": "ipython3",
   "version": "3.8.8"
  },
  "name": "seminar13_optional_practice_trees_titanic.ipynb"
 },
 "nbformat": 4,
 "nbformat_minor": 4
}