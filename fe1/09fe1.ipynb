{
 "cells": [
  {
   "cell_type": "markdown",
   "metadata": {},
   "source": [
    "## Imports"
   ]
  },
  {
   "cell_type": "code",
   "execution_count": 1,
   "metadata": {
    "colab": {},
    "colab_type": "code",
    "id": "mjnuJ19dJV7v"
   },
   "outputs": [
    {
     "output_type": "stream",
     "name": "stdout",
     "text": [
      "Pandas   1.2.4\nSklearn  0.24.2\n"
     ]
    }
   ],
   "source": [
    "import time\n",
    "from IPython.display import clear_output\n",
    "import numpy    as np\n",
    "import pandas   as pd\n",
    "import seaborn  as sb\n",
    "import matplotlib.pyplot as plt\n",
    "import sklearn  as skl\n",
    "\n",
    "from sklearn import pipeline      # Pipeline\n",
    "from sklearn import preprocessing # OrdinalEncoder, LabelEncoder\n",
    "from sklearn import impute\n",
    "from sklearn import compose\n",
    "from sklearn import model_selection # train_test_split\n",
    "from sklearn import metrics         # accuracy_score, balanced_accuracy_score, plot_confusion_matrix\n",
    "from sklearn import set_config\n",
    "\n",
    "set_config(display='diagram') # Useful for display the pipeline\n",
    "\n",
    "print(\"Pandas  \", pd.__version__)\n",
    "print(\"Sklearn \", skl.__version__) # Try to use 0.24"
   ]
  },
  {
   "cell_type": "markdown",
   "metadata": {},
   "source": [
    "## Get the dataset\n",
    "- **CLOUD = True**: Download dataset from Kaggle. Necesary for cloud enviroments like COLAB. **Specify your [kaggle credentials](https://www.kaggle.com/docs/api)**.\n",
    "- **CLOUD = False**: Get the dataset from your local machine. **Specify the data path**."
   ]
  },
  {
   "cell_type": "code",
   "execution_count": 2,
   "metadata": {},
   "outputs": [
    {
     "output_type": "stream",
     "name": "stdout",
     "text": [
      "Requirement already satisfied: kaggle in c:\\users\\gabri\\anaconda3\\envs\\machinelearning\\lib\\site-packages (1.5.12)\n",
      "Requirement already satisfied: certifi in c:\\users\\gabri\\anaconda3\\envs\\machinelearning\\lib\\site-packages (from kaggle) (2020.12.5)\n",
      "Requirement already satisfied: python-slugify in c:\\users\\gabri\\anaconda3\\envs\\machinelearning\\lib\\site-packages (from kaggle) (4.0.1)\n",
      "Requirement already satisfied: urllib3 in c:\\users\\gabri\\anaconda3\\envs\\machinelearning\\lib\\site-packages (from kaggle) (1.26.4)\n",
      "Requirement already satisfied: tqdm in c:\\users\\gabri\\anaconda3\\envs\\machinelearning\\lib\\site-packages (from kaggle) (4.60.0)\n",
      "Requirement already satisfied: python-dateutil in c:\\users\\gabri\\anaconda3\\envs\\machinelearning\\lib\\site-packages (from kaggle) (2.8.1)\n",
      "Requirement already satisfied: six>=1.10 in c:\\users\\gabri\\anaconda3\\envs\\machinelearning\\lib\\site-packages (from kaggle) (1.15.0)\n",
      "Requirement already satisfied: requests in c:\\users\\gabri\\anaconda3\\envs\\machinelearning\\lib\\site-packages (from kaggle) (2.25.1)\n",
      "Requirement already satisfied: text-unidecode>=1.3 in c:\\users\\gabri\\anaconda3\\envs\\machinelearning\\lib\\site-packages (from python-slugify->kaggle) (1.3)\n",
      "Requirement already satisfied: idna<3,>=2.5 in c:\\users\\gabri\\anaconda3\\envs\\machinelearning\\lib\\site-packages (from requests->kaggle) (2.10)\n",
      "Requirement already satisfied: chardet<5,>=3.0.2 in c:\\users\\gabri\\anaconda3\\envs\\machinelearning\\lib\\site-packages (from requests->kaggle) (4.0.0)\n",
      "titanic.zip: Skipping, found more recently modified local copy (use --force to force download)\n"
     ]
    }
   ],
   "source": [
    "CLOUD = True\n",
    "\n",
    "if CLOUD:\n",
    "    import os\n",
    "    os.environ['KAGGLE_USERNAME'] = \"gmpasca\"\n",
    "    os.environ['KAGGLE_KEY']      = \"1042e3b34b09dca71f74971187d8c04c\"  \n",
    "    !pip install --upgrade kaggle\n",
    "    !kaggle competitions download -c titanic\n",
    "    DATA_PATH = \"./\"\n",
    "\n",
    "else:\n",
    "    DATA_PATH = \"../../Datasets/Tabular/titanic/\""
   ]
  },
  {
   "cell_type": "markdown",
   "metadata": {},
   "source": [
    "## Load data"
   ]
  },
  {
   "cell_type": "code",
   "execution_count": 3,
   "metadata": {
    "colab": {},
    "colab_type": "code",
    "id": "wAy8TnVPJV8S"
   },
   "outputs": [
    {
     "output_type": "stream",
     "name": "stdout",
     "text": [
      "Train DataFrame: (891, 11)\nTest DataFrame:  (418, 10)\n"
     ]
    }
   ],
   "source": [
    "df      = pd.read_csv(DATA_PATH + \"train.csv\", index_col='PassengerId')\n",
    "df_test = pd.read_csv(DATA_PATH + \"test.csv\",  index_col='PassengerId')\n",
    "\n",
    "print(\"Train DataFrame:\", df.shape)\n",
    "print(\"Test DataFrame: \", df_test.shape)"
   ]
  },
  {
   "cell_type": "markdown",
   "metadata": {},
   "source": [
    "## Check missings"
   ]
  },
  {
   "cell_type": "code",
   "execution_count": 91,
   "metadata": {},
   "outputs": [],
   "source": [
    "# df.isnull().sum()"
   ]
  },
  {
   "cell_type": "code",
   "execution_count": null,
   "metadata": {},
   "outputs": [],
   "source": [
    "# df_test.isnull().sum()"
   ]
  },
  {
   "cell_type": "markdown",
   "metadata": {},
   "source": [
    "# Exercise 1 (2pts):\n",
    "Extract the title (Mr, Mrs, ... ) from the \"Name\" column.\n",
    "\n",
    "Tips:\n",
    "- split(',')[1] to get the 2nd part, and remove the surnamename\n",
    "- split('.')[0] to get the 1str part, and remove the name"
   ]
  },
  {
   "cell_type": "code",
   "execution_count": 4,
   "metadata": {
    "deletable": false,
    "nbgrader": {
     "cell_type": "code",
     "checksum": "cac1de4ed2d966fcdf707a8bfd131fba",
     "grade": false,
     "grade_id": "cell-d56107842f0f54d2",
     "locked": false,
     "schema_version": 3,
     "solution": true,
     "task": false
    }
   },
   "outputs": [],
   "source": [
    "# CODE HERE get_Title_from_Name funtion\n",
    "# Create this function using lambda (not def)\n",
    "\n",
    "get_Title_from_Name = lambda name: name.split(',')[1].split('.')[0].strip()\n",
    "\n",
    "df['Title']      = df['Name'].map(get_Title_from_Name)\n",
    "df_test['Title'] = df_test['Name'].map(get_Title_from_Name)"
   ]
  },
  {
   "cell_type": "code",
   "execution_count": 5,
   "metadata": {
    "deletable": false,
    "editable": false,
    "nbgrader": {
     "cell_type": "code",
     "checksum": "f23c4d567e5fb4f4b69a001df14c6f7c",
     "grade": true,
     "grade_id": "cell-f3d989a17018344b",
     "locked": true,
     "points": 2,
     "schema_version": 3,
     "solution": false,
     "task": false
    }
   },
   "outputs": [],
   "source": [
    "assert df['Title'].values[0] == \"Mr\"\n",
    "assert df['Title'].values[1] == \"Mrs\"\n",
    "assert df['Title'].values[2] == \"Miss\"\n",
    "\n",
    "assert df_test['Title'].values[0] == \"Mr\"\n",
    "assert df_test['Title'].values[1] == \"Mrs\"\n",
    "assert df_test['Title'].values[414] == \"Dona\""
   ]
  },
  {
   "cell_type": "markdown",
   "metadata": {},
   "source": [
    "# Exercise 2 (1pts):\n",
    "Apply the title_dictionary to get a better information about the title. You have to overwrite the Title variable."
   ]
  },
  {
   "cell_type": "code",
   "execution_count": 6,
   "metadata": {},
   "outputs": [],
   "source": [
    "title_dictionary = {\n",
    "    \"Capt\": \"Officer\",\n",
    "    \"Col\": \"Officer\",\n",
    "    \"Major\": \"Officer\",\n",
    "    \"Jonkheer\": \"Royalty\",\n",
    "    \"Don\": \"Royalty\",\n",
    "    \"Sir\" : \"Royalty\",\n",
    "    \"Dr\": \"Officer\",\n",
    "    \"Rev\": \"Officer\",\n",
    "    \"the Countess\":\"Royalty\",\n",
    "    \"Mme\": \"Mrs\",\n",
    "    \"Mlle\": \"Miss\",\n",
    "    \"Ms\": \"Mrs\",\n",
    "    \"Mr\" : \"Mr\",\n",
    "    \"Mrs\" : \"Mrs\",\n",
    "    \"Miss\" : \"Miss\",\n",
    "    \"Master\" : \"Master\",\n",
    "    \"Lady\" : \"Royalty\"\n",
    "}"
   ]
  },
  {
   "cell_type": "code",
   "execution_count": 7,
   "metadata": {
    "deletable": false,
    "nbgrader": {
     "cell_type": "code",
     "checksum": "da7233548e7218eded680b5edb7963de",
     "grade": false,
     "grade_id": "cell-5c6a842c812fafda",
     "locked": false,
     "schema_version": 3,
     "solution": true,
     "task": false
    }
   },
   "outputs": [],
   "source": [
    "# Use map to apply the prevous dict\n",
    "\n",
    "df[\"Title\"] = df.Title.map(title_dictionary) \n",
    "df_test[\"Title\"] = df_test.Title.map(title_dictionary)\n"
   ]
  },
  {
   "cell_type": "code",
   "execution_count": 8,
   "metadata": {
    "deletable": false,
    "editable": false,
    "nbgrader": {
     "cell_type": "code",
     "checksum": "96a09f1cde63b704ff2f391309c30690",
     "grade": true,
     "grade_id": "cell-669f5a637e57e835",
     "locked": true,
     "points": 1,
     "schema_version": 3,
     "solution": false,
     "task": false
    }
   },
   "outputs": [],
   "source": [
    "assert df['Title'].values[886] == \"Officer\"\n",
    "assert df_test['Title'].values[417] == \"Master\""
   ]
  },
  {
   "cell_type": "markdown",
   "metadata": {},
   "source": [
    "# Exercise OPTINAL (0pts):\n",
    "Try to extract some information from the feature **Ticket**. Search on Internet if that colum has some kind of information."
   ]
  },
  {
   "cell_type": "code",
   "execution_count": 9,
   "metadata": {},
   "outputs": [
    {
     "output_type": "execute_result",
     "data": {
      "text/plain": [
       "PassengerId\n",
       "892                 330911\n",
       "893                 363272\n",
       "894                 240276\n",
       "895                 315154\n",
       "896                3101298\n",
       "               ...        \n",
       "1305             A.5. 3236\n",
       "1306              PC 17758\n",
       "1307    SOTON/O.Q. 3101262\n",
       "1308                359309\n",
       "1309                  2668\n",
       "Name: Ticket, Length: 418, dtype: object"
      ]
     },
     "metadata": {},
     "execution_count": 9
    }
   ],
   "source": [
    "df_test['Ticket']"
   ]
  },
  {
   "cell_type": "markdown",
   "metadata": {},
   "source": [
    "# Exercise OPTIONAL (0pts):\n",
    "Try to extract some information from the feature **Cabin**. Search on Internet if that colum has some kind of information."
   ]
  },
  {
   "cell_type": "code",
   "execution_count": 10,
   "metadata": {},
   "outputs": [
    {
     "output_type": "execute_result",
     "data": {
      "text/plain": [
       "PassengerId\n",
       "892      NaN\n",
       "893      NaN\n",
       "894      NaN\n",
       "895      NaN\n",
       "896      NaN\n",
       "        ... \n",
       "1305     NaN\n",
       "1306    C105\n",
       "1307     NaN\n",
       "1308     NaN\n",
       "1309     NaN\n",
       "Name: Cabin, Length: 418, dtype: object"
      ]
     },
     "metadata": {},
     "execution_count": 10
    }
   ],
   "source": [
    "df_test['Cabin']"
   ]
  },
  {
   "cell_type": "markdown",
   "metadata": {},
   "source": [
    "# Preprocessing\n",
    "For X data, notice that...\n",
    "- We drop Survived because is the target variable\n",
    "- We drop Name because we have extracted the Title: Mr, Mrs, ...\n",
    "- We drop Ticket because it has no information -> see df.Ticket.nunique()\n",
    "- We drop Cabin because it has a lot of missings (77% are missings)\n",
    "\n",
    "Then, we identify **numerical** variables and **categorical** variables,"
   ]
  },
  {
   "cell_type": "code",
   "execution_count": 11,
   "metadata": {},
   "outputs": [],
   "source": [
    "x = df.drop(columns=[\"Survived\", 'Name', 'Ticket', 'Cabin']) # X DATA (WILL BE TRAIN+VALID DATA)\n",
    "y = df[\"Survived\"] # 0 = No, 1 = Yes\n",
    "\n",
    "x_test = df_test.drop(columns=['Name', 'Ticket', 'Cabin']) # X_TEST DATA (NEW DATA)"
   ]
  },
  {
   "cell_type": "code",
   "execution_count": 12,
   "metadata": {},
   "outputs": [
    {
     "output_type": "stream",
     "name": "stdout",
     "text": [
      "\nNumerical features:\n ['Pclass', 'SibSp', 'Parch', 'Fare', 'Age']\n\nCategorical features:\n ['Sex', 'Embarked', 'Title']\n"
     ]
    }
   ],
   "source": [
    "cat_vars  = ['Sex', 'Embarked', 'Title']         # x.select_dtypes(include=[object]).columns.values.tolist()\n",
    "num_vars  = ['Pclass', 'SibSp', 'Parch', 'Fare', 'Age'] # x.select_dtypes(exclude=[object]).columns.values.tolist()\n",
    "\n",
    "print(\"\\nNumerical features:\\n\", num_vars)\n",
    "print(\"\\nCategorical features:\\n\", cat_vars)"
   ]
  },
  {
   "cell_type": "markdown",
   "metadata": {},
   "source": [
    "# Exercise 3 (2pts):\n",
    "Create a **ColumnTransformer for Tree Models**. You need to create 2 pipelines (one for numerical and other for categories). Remember:\n",
    "- Categorical pipeline: Some SimpleImputer -> Some Encoder\n",
    "- Numerical pipeline: Some SimpleImputer -> NO Encoder"
   ]
  },
  {
   "cell_type": "code",
   "execution_count": 13,
   "metadata": {
    "deletable": false,
    "nbgrader": {
     "cell_type": "code",
     "checksum": "4a99fc5ecc693dc549b0e1560c568eea",
     "grade": false,
     "grade_id": "cell-c607e75fb38ea248",
     "locked": false,
     "schema_version": 3,
     "solution": true,
     "task": false
    }
   },
   "outputs": [
    {
     "output_type": "execute_result",
     "data": {
      "text/plain": [
       "ColumnTransformer(transformers=[('num',\n",
       "                                 Pipeline(steps=[('imputer', SimpleImputer())]),\n",
       "                                 ['Pclass', 'SibSp', 'Parch', 'Fare', 'Age']),\n",
       "                                ('cat',\n",
       "                                 Pipeline(steps=[('imputer',\n",
       "                                                  SimpleImputer(fill_value='missing',\n",
       "                                                                strategy='constant')),\n",
       "                                                 ('onehot',\n",
       "                                                  OneHotEncoder(handle_unknown='ignore'))]),\n",
       "                                 ['Sex', 'Embarked', 'Title'])])"
      ],
      "text/html": "<style>#sk-d58a9817-1e95-4a70-81f5-a7cb8147a6c0 {color: black;background-color: white;}#sk-d58a9817-1e95-4a70-81f5-a7cb8147a6c0 pre{padding: 0;}#sk-d58a9817-1e95-4a70-81f5-a7cb8147a6c0 div.sk-toggleable {background-color: white;}#sk-d58a9817-1e95-4a70-81f5-a7cb8147a6c0 label.sk-toggleable__label {cursor: pointer;display: block;width: 100%;margin-bottom: 0;padding: 0.2em 0.3em;box-sizing: border-box;text-align: center;}#sk-d58a9817-1e95-4a70-81f5-a7cb8147a6c0 div.sk-toggleable__content {max-height: 0;max-width: 0;overflow: hidden;text-align: left;background-color: #f0f8ff;}#sk-d58a9817-1e95-4a70-81f5-a7cb8147a6c0 div.sk-toggleable__content pre {margin: 0.2em;color: black;border-radius: 0.25em;background-color: #f0f8ff;}#sk-d58a9817-1e95-4a70-81f5-a7cb8147a6c0 input.sk-toggleable__control:checked~div.sk-toggleable__content {max-height: 200px;max-width: 100%;overflow: auto;}#sk-d58a9817-1e95-4a70-81f5-a7cb8147a6c0 div.sk-estimator input.sk-toggleable__control:checked~label.sk-toggleable__label {background-color: #d4ebff;}#sk-d58a9817-1e95-4a70-81f5-a7cb8147a6c0 div.sk-label input.sk-toggleable__control:checked~label.sk-toggleable__label {background-color: #d4ebff;}#sk-d58a9817-1e95-4a70-81f5-a7cb8147a6c0 input.sk-hidden--visually {border: 0;clip: rect(1px 1px 1px 1px);clip: rect(1px, 1px, 1px, 1px);height: 1px;margin: -1px;overflow: hidden;padding: 0;position: absolute;width: 1px;}#sk-d58a9817-1e95-4a70-81f5-a7cb8147a6c0 div.sk-estimator {font-family: monospace;background-color: #f0f8ff;margin: 0.25em 0.25em;border: 1px dotted black;border-radius: 0.25em;box-sizing: border-box;}#sk-d58a9817-1e95-4a70-81f5-a7cb8147a6c0 div.sk-estimator:hover {background-color: #d4ebff;}#sk-d58a9817-1e95-4a70-81f5-a7cb8147a6c0 div.sk-parallel-item::after {content: \"\";width: 100%;border-bottom: 1px solid gray;flex-grow: 1;}#sk-d58a9817-1e95-4a70-81f5-a7cb8147a6c0 div.sk-label:hover label.sk-toggleable__label {background-color: #d4ebff;}#sk-d58a9817-1e95-4a70-81f5-a7cb8147a6c0 div.sk-serial::before {content: \"\";position: absolute;border-left: 1px solid gray;box-sizing: border-box;top: 2em;bottom: 0;left: 50%;}#sk-d58a9817-1e95-4a70-81f5-a7cb8147a6c0 div.sk-serial {display: flex;flex-direction: column;align-items: center;background-color: white;}#sk-d58a9817-1e95-4a70-81f5-a7cb8147a6c0 div.sk-item {z-index: 1;}#sk-d58a9817-1e95-4a70-81f5-a7cb8147a6c0 div.sk-parallel {display: flex;align-items: stretch;justify-content: center;background-color: white;}#sk-d58a9817-1e95-4a70-81f5-a7cb8147a6c0 div.sk-parallel-item {display: flex;flex-direction: column;position: relative;background-color: white;}#sk-d58a9817-1e95-4a70-81f5-a7cb8147a6c0 div.sk-parallel-item:first-child::after {align-self: flex-end;width: 50%;}#sk-d58a9817-1e95-4a70-81f5-a7cb8147a6c0 div.sk-parallel-item:last-child::after {align-self: flex-start;width: 50%;}#sk-d58a9817-1e95-4a70-81f5-a7cb8147a6c0 div.sk-parallel-item:only-child::after {width: 0;}#sk-d58a9817-1e95-4a70-81f5-a7cb8147a6c0 div.sk-dashed-wrapped {border: 1px dashed gray;margin: 0.2em;box-sizing: border-box;padding-bottom: 0.1em;background-color: white;position: relative;}#sk-d58a9817-1e95-4a70-81f5-a7cb8147a6c0 div.sk-label label {font-family: monospace;font-weight: bold;background-color: white;display: inline-block;line-height: 1.2em;}#sk-d58a9817-1e95-4a70-81f5-a7cb8147a6c0 div.sk-label-container {position: relative;z-index: 2;text-align: center;}#sk-d58a9817-1e95-4a70-81f5-a7cb8147a6c0 div.sk-container {display: inline-block;position: relative;}</style><div id=\"sk-d58a9817-1e95-4a70-81f5-a7cb8147a6c0\" class\"sk-top-container\"><div class=\"sk-container\"><div class=\"sk-item sk-dashed-wrapped\"><div class=\"sk-label-container\"><div class=\"sk-label sk-toggleable\"><input class=\"sk-toggleable__control sk-hidden--visually\" id=\"a8dddc17-3903-45f5-8c1a-4785dd8a852e\" type=\"checkbox\" ><label class=\"sk-toggleable__label\" for=\"a8dddc17-3903-45f5-8c1a-4785dd8a852e\">ColumnTransformer</label><div class=\"sk-toggleable__content\"><pre>ColumnTransformer(transformers=[('num',\n                                 Pipeline(steps=[('imputer', SimpleImputer())]),\n                                 ['Pclass', 'SibSp', 'Parch', 'Fare', 'Age']),\n                                ('cat',\n                                 Pipeline(steps=[('imputer',\n                                                  SimpleImputer(fill_value='missing',\n                                                                strategy='constant')),\n                                                 ('onehot',\n                                                  OneHotEncoder(handle_unknown='ignore'))]),\n                                 ['Sex', 'Embarked', 'Title'])])</pre></div></div></div><div class=\"sk-parallel\"><div class=\"sk-parallel-item\"><div class=\"sk-item\"><div class=\"sk-label-container\"><div class=\"sk-label sk-toggleable\"><input class=\"sk-toggleable__control sk-hidden--visually\" id=\"3469f68a-856a-43ec-a1cb-f6a0655eddab\" type=\"checkbox\" ><label class=\"sk-toggleable__label\" for=\"3469f68a-856a-43ec-a1cb-f6a0655eddab\">num</label><div class=\"sk-toggleable__content\"><pre>['Pclass', 'SibSp', 'Parch', 'Fare', 'Age']</pre></div></div></div><div class=\"sk-serial\"><div class=\"sk-item\"><div class=\"sk-serial\"><div class=\"sk-item\"><div class=\"sk-estimator sk-toggleable\"><input class=\"sk-toggleable__control sk-hidden--visually\" id=\"06ff5087-956c-400d-9b3f-5a5883b6e76c\" type=\"checkbox\" ><label class=\"sk-toggleable__label\" for=\"06ff5087-956c-400d-9b3f-5a5883b6e76c\">SimpleImputer</label><div class=\"sk-toggleable__content\"><pre>SimpleImputer()</pre></div></div></div></div></div></div></div></div><div class=\"sk-parallel-item\"><div class=\"sk-item\"><div class=\"sk-label-container\"><div class=\"sk-label sk-toggleable\"><input class=\"sk-toggleable__control sk-hidden--visually\" id=\"86c87984-3676-44d5-9248-be5ffacf75e4\" type=\"checkbox\" ><label class=\"sk-toggleable__label\" for=\"86c87984-3676-44d5-9248-be5ffacf75e4\">cat</label><div class=\"sk-toggleable__content\"><pre>['Sex', 'Embarked', 'Title']</pre></div></div></div><div class=\"sk-serial\"><div class=\"sk-item\"><div class=\"sk-serial\"><div class=\"sk-item\"><div class=\"sk-estimator sk-toggleable\"><input class=\"sk-toggleable__control sk-hidden--visually\" id=\"db6a2ac6-0783-4312-919e-80ba61e54258\" type=\"checkbox\" ><label class=\"sk-toggleable__label\" for=\"db6a2ac6-0783-4312-919e-80ba61e54258\">SimpleImputer</label><div class=\"sk-toggleable__content\"><pre>SimpleImputer(fill_value='missing', strategy='constant')</pre></div></div></div><div class=\"sk-item\"><div class=\"sk-estimator sk-toggleable\"><input class=\"sk-toggleable__control sk-hidden--visually\" id=\"4b657f3d-5428-4117-851f-d8739e4d8958\" type=\"checkbox\" ><label class=\"sk-toggleable__label\" for=\"4b657f3d-5428-4117-851f-d8739e4d8958\">OneHotEncoder</label><div class=\"sk-toggleable__content\"><pre>OneHotEncoder(handle_unknown='ignore')</pre></div></div></div></div></div></div></div></div></div></div></div></div>"
     },
     "metadata": {},
     "execution_count": 13
    }
   ],
   "source": [
    "\n",
    "num_4_treeModels = pipeline.Pipeline(steps=[\n",
    "  ('imputer', impute.SimpleImputer(strategy='mean', add_indicator=False))\n",
    "])\n",
    "\n",
    "cat_4_treeModels = pipeline.Pipeline(steps=[\n",
    "  ('imputer', impute.SimpleImputer(strategy='constant', fill_value='missing')),\n",
    "  ('onehot', preprocessing.OneHotEncoder(handle_unknown='ignore'))\n",
    "])\n",
    "\n",
    "tree_prepro = compose.ColumnTransformer(transformers=[\n",
    "    ('num', num_4_treeModels, num_vars),\n",
    "    ('cat', cat_4_treeModels, cat_vars),\n",
    "], remainder='drop') # Drop other vars not specified in num_vars or cat_vars\n",
    "\n",
    "tree_prepro\n"
   ]
  },
  {
   "cell_type": "code",
   "execution_count": 14,
   "metadata": {
    "deletable": false,
    "editable": false,
    "nbgrader": {
     "cell_type": "code",
     "checksum": "00bde840843413a4f57c4480f8930ef0",
     "grade": true,
     "grade_id": "cell-e636558135fb5975",
     "locked": true,
     "points": 2,
     "schema_version": 3,
     "solution": false,
     "task": false
    }
   },
   "outputs": [],
   "source": [
    "assert type(tree_prepro)      is compose._column_transformer.ColumnTransformer\n",
    "assert type(num_4_treeModels) is pipeline.Pipeline\n",
    "assert type(cat_4_treeModels) is pipeline.Pipeline\n",
    "assert len(num_4_treeModels) == 1\n",
    "assert len(cat_4_treeModels) == 2"
   ]
  },
  {
   "cell_type": "code",
   "execution_count": 15,
   "metadata": {},
   "outputs": [
    {
     "output_type": "stream",
     "name": "stdout",
     "text": [
      "Requirement already satisfied: lightgbm==3.2.1 in c:\\users\\gabri\\anaconda3\\envs\\machinelearning\\lib\\site-packages (3.2.1)\nRequirement already satisfied: scikit-learn!=0.22.0 in c:\\users\\gabri\\anaconda3\\envs\\machinelearning\\lib\\site-packages (from lightgbm==3.2.1) (0.24.2)\nRequirement already satisfied: numpy in c:\\users\\gabri\\anaconda3\\envs\\machinelearning\\lib\\site-packages (from lightgbm==3.2.1) (1.19.2)\nRequirement already satisfied: scipy in c:\\users\\gabri\\anaconda3\\envs\\machinelearning\\lib\\site-packages (from lightgbm==3.2.1) (1.6.2)\nRequirement already satisfied: wheel in c:\\users\\gabri\\anaconda3\\envs\\machinelearning\\lib\\site-packages (from lightgbm==3.2.1) (0.36.2)\nRequirement already satisfied: threadpoolctl>=2.0.0 in c:\\users\\gabri\\anaconda3\\envs\\machinelearning\\lib\\site-packages (from scikit-learn!=0.22.0->lightgbm==3.2.1) (2.1.0)\nRequirement already satisfied: joblib>=0.11 in c:\\users\\gabri\\anaconda3\\envs\\machinelearning\\lib\\site-packages (from scikit-learn!=0.22.0->lightgbm==3.2.1) (1.0.1)\n"
     ]
    }
   ],
   "source": [
    "!pip install lightgbm==3.2.1\n"
   ]
  },
  {
   "cell_type": "markdown",
   "metadata": {},
   "source": [
    "# Exercise 4 (1pts):\n",
    "1. Complete the dictionary with some Tree Models.\n",
    "2. Then we put each model in a Pipeline where:\n",
    "   - first is the prepocessing with the column Transformer\n",
    "   - Then is the Tree model\n",
    "3. Display the fullpipeline of the LGBMClassifier"
   ]
  },
  {
   "cell_type": "code",
   "execution_count": 16,
   "metadata": {},
   "outputs": [],
   "source": [
    "from sklearn.tree          import DecisionTreeClassifier\n",
    "from sklearn.ensemble      import RandomForestClassifier\n",
    "from sklearn.ensemble      import ExtraTreesClassifier\n",
    "from sklearn.ensemble      import AdaBoostClassifier\n",
    "from sklearn.ensemble      import GradientBoostingClassifier\n",
    "from sklearn.experimental  import enable_hist_gradient_boosting # Necesary for HistGradientBoostingClassifier\n",
    "from sklearn.ensemble      import HistGradientBoostingClassifier\n",
    "from xgboost               import XGBClassifier\n",
    "from lightgbm              import LGBMClassifier\n",
    "from catboost              import CatBoostClassifier"
   ]
  },
  {
   "cell_type": "code",
   "execution_count": 17,
   "metadata": {
    "deletable": false,
    "nbgrader": {
     "cell_type": "code",
     "checksum": "f23af11f3af791efa5687477c0a4c9d6",
     "grade": false,
     "grade_id": "cell-76a3be8223730c5a",
     "locked": false,
     "schema_version": 3,
     "solution": true,
     "task": false
    }
   },
   "outputs": [
    {
     "output_type": "execute_result",
     "data": {
      "text/plain": [
       "Pipeline(steps=[('columntransformer',\n",
       "                 ColumnTransformer(transformers=[('num',\n",
       "                                                  Pipeline(steps=[('imputer',\n",
       "                                                                   SimpleImputer())]),\n",
       "                                                  ['Pclass', 'SibSp', 'Parch',\n",
       "                                                   'Fare', 'Age']),\n",
       "                                                 ('cat',\n",
       "                                                  Pipeline(steps=[('imputer',\n",
       "                                                                   SimpleImputer(fill_value='missing',\n",
       "                                                                                 strategy='constant')),\n",
       "                                                                  ('onehot',\n",
       "                                                                   OneHotEncoder(handle_unknown='ignore'))]),\n",
       "                                                  ['Sex', 'Embarked',\n",
       "                                                   'Title'])])),\n",
       "                ('lgbmclassifier', LGBMClassifier())])"
      ],
      "text/html": "<style>#sk-fb128e4a-7f8c-4253-a3c9-cabf3b1a83fa {color: black;background-color: white;}#sk-fb128e4a-7f8c-4253-a3c9-cabf3b1a83fa pre{padding: 0;}#sk-fb128e4a-7f8c-4253-a3c9-cabf3b1a83fa div.sk-toggleable {background-color: white;}#sk-fb128e4a-7f8c-4253-a3c9-cabf3b1a83fa label.sk-toggleable__label {cursor: pointer;display: block;width: 100%;margin-bottom: 0;padding: 0.2em 0.3em;box-sizing: border-box;text-align: center;}#sk-fb128e4a-7f8c-4253-a3c9-cabf3b1a83fa div.sk-toggleable__content {max-height: 0;max-width: 0;overflow: hidden;text-align: left;background-color: #f0f8ff;}#sk-fb128e4a-7f8c-4253-a3c9-cabf3b1a83fa div.sk-toggleable__content pre {margin: 0.2em;color: black;border-radius: 0.25em;background-color: #f0f8ff;}#sk-fb128e4a-7f8c-4253-a3c9-cabf3b1a83fa input.sk-toggleable__control:checked~div.sk-toggleable__content {max-height: 200px;max-width: 100%;overflow: auto;}#sk-fb128e4a-7f8c-4253-a3c9-cabf3b1a83fa div.sk-estimator input.sk-toggleable__control:checked~label.sk-toggleable__label {background-color: #d4ebff;}#sk-fb128e4a-7f8c-4253-a3c9-cabf3b1a83fa div.sk-label input.sk-toggleable__control:checked~label.sk-toggleable__label {background-color: #d4ebff;}#sk-fb128e4a-7f8c-4253-a3c9-cabf3b1a83fa input.sk-hidden--visually {border: 0;clip: rect(1px 1px 1px 1px);clip: rect(1px, 1px, 1px, 1px);height: 1px;margin: -1px;overflow: hidden;padding: 0;position: absolute;width: 1px;}#sk-fb128e4a-7f8c-4253-a3c9-cabf3b1a83fa div.sk-estimator {font-family: monospace;background-color: #f0f8ff;margin: 0.25em 0.25em;border: 1px dotted black;border-radius: 0.25em;box-sizing: border-box;}#sk-fb128e4a-7f8c-4253-a3c9-cabf3b1a83fa div.sk-estimator:hover {background-color: #d4ebff;}#sk-fb128e4a-7f8c-4253-a3c9-cabf3b1a83fa div.sk-parallel-item::after {content: \"\";width: 100%;border-bottom: 1px solid gray;flex-grow: 1;}#sk-fb128e4a-7f8c-4253-a3c9-cabf3b1a83fa div.sk-label:hover label.sk-toggleable__label {background-color: #d4ebff;}#sk-fb128e4a-7f8c-4253-a3c9-cabf3b1a83fa div.sk-serial::before {content: \"\";position: absolute;border-left: 1px solid gray;box-sizing: border-box;top: 2em;bottom: 0;left: 50%;}#sk-fb128e4a-7f8c-4253-a3c9-cabf3b1a83fa div.sk-serial {display: flex;flex-direction: column;align-items: center;background-color: white;}#sk-fb128e4a-7f8c-4253-a3c9-cabf3b1a83fa div.sk-item {z-index: 1;}#sk-fb128e4a-7f8c-4253-a3c9-cabf3b1a83fa div.sk-parallel {display: flex;align-items: stretch;justify-content: center;background-color: white;}#sk-fb128e4a-7f8c-4253-a3c9-cabf3b1a83fa div.sk-parallel-item {display: flex;flex-direction: column;position: relative;background-color: white;}#sk-fb128e4a-7f8c-4253-a3c9-cabf3b1a83fa div.sk-parallel-item:first-child::after {align-self: flex-end;width: 50%;}#sk-fb128e4a-7f8c-4253-a3c9-cabf3b1a83fa div.sk-parallel-item:last-child::after {align-self: flex-start;width: 50%;}#sk-fb128e4a-7f8c-4253-a3c9-cabf3b1a83fa div.sk-parallel-item:only-child::after {width: 0;}#sk-fb128e4a-7f8c-4253-a3c9-cabf3b1a83fa div.sk-dashed-wrapped {border: 1px dashed gray;margin: 0.2em;box-sizing: border-box;padding-bottom: 0.1em;background-color: white;position: relative;}#sk-fb128e4a-7f8c-4253-a3c9-cabf3b1a83fa div.sk-label label {font-family: monospace;font-weight: bold;background-color: white;display: inline-block;line-height: 1.2em;}#sk-fb128e4a-7f8c-4253-a3c9-cabf3b1a83fa div.sk-label-container {position: relative;z-index: 2;text-align: center;}#sk-fb128e4a-7f8c-4253-a3c9-cabf3b1a83fa div.sk-container {display: inline-block;position: relative;}</style><div id=\"sk-fb128e4a-7f8c-4253-a3c9-cabf3b1a83fa\" class\"sk-top-container\"><div class=\"sk-container\"><div class=\"sk-item sk-dashed-wrapped\"><div class=\"sk-label-container\"><div class=\"sk-label sk-toggleable\"><input class=\"sk-toggleable__control sk-hidden--visually\" id=\"214fe870-3347-4dff-89ff-ab746e9753f2\" type=\"checkbox\" ><label class=\"sk-toggleable__label\" for=\"214fe870-3347-4dff-89ff-ab746e9753f2\">Pipeline</label><div class=\"sk-toggleable__content\"><pre>Pipeline(steps=[('columntransformer',\n                 ColumnTransformer(transformers=[('num',\n                                                  Pipeline(steps=[('imputer',\n                                                                   SimpleImputer())]),\n                                                  ['Pclass', 'SibSp', 'Parch',\n                                                   'Fare', 'Age']),\n                                                 ('cat',\n                                                  Pipeline(steps=[('imputer',\n                                                                   SimpleImputer(fill_value='missing',\n                                                                                 strategy='constant')),\n                                                                  ('onehot',\n                                                                   OneHotEncoder(handle_unknown='ignore'))]),\n                                                  ['Sex', 'Embarked',\n                                                   'Title'])])),\n                ('lgbmclassifier', LGBMClassifier())])</pre></div></div></div><div class=\"sk-serial\"><div class=\"sk-item sk-dashed-wrapped\"><div class=\"sk-label-container\"><div class=\"sk-label sk-toggleable\"><input class=\"sk-toggleable__control sk-hidden--visually\" id=\"d1060dee-cda3-4043-a6dd-0659e4ea846d\" type=\"checkbox\" ><label class=\"sk-toggleable__label\" for=\"d1060dee-cda3-4043-a6dd-0659e4ea846d\">columntransformer: ColumnTransformer</label><div class=\"sk-toggleable__content\"><pre>ColumnTransformer(transformers=[('num',\n                                 Pipeline(steps=[('imputer', SimpleImputer())]),\n                                 ['Pclass', 'SibSp', 'Parch', 'Fare', 'Age']),\n                                ('cat',\n                                 Pipeline(steps=[('imputer',\n                                                  SimpleImputer(fill_value='missing',\n                                                                strategy='constant')),\n                                                 ('onehot',\n                                                  OneHotEncoder(handle_unknown='ignore'))]),\n                                 ['Sex', 'Embarked', 'Title'])])</pre></div></div></div><div class=\"sk-parallel\"><div class=\"sk-parallel-item\"><div class=\"sk-item\"><div class=\"sk-label-container\"><div class=\"sk-label sk-toggleable\"><input class=\"sk-toggleable__control sk-hidden--visually\" id=\"99f82e7b-f670-4e4d-a79f-6bcb345c0ebe\" type=\"checkbox\" ><label class=\"sk-toggleable__label\" for=\"99f82e7b-f670-4e4d-a79f-6bcb345c0ebe\">num</label><div class=\"sk-toggleable__content\"><pre>['Pclass', 'SibSp', 'Parch', 'Fare', 'Age']</pre></div></div></div><div class=\"sk-serial\"><div class=\"sk-item\"><div class=\"sk-serial\"><div class=\"sk-item\"><div class=\"sk-estimator sk-toggleable\"><input class=\"sk-toggleable__control sk-hidden--visually\" id=\"e2696962-9fae-4146-a37f-dac3a8d091a3\" type=\"checkbox\" ><label class=\"sk-toggleable__label\" for=\"e2696962-9fae-4146-a37f-dac3a8d091a3\">SimpleImputer</label><div class=\"sk-toggleable__content\"><pre>SimpleImputer()</pre></div></div></div></div></div></div></div></div><div class=\"sk-parallel-item\"><div class=\"sk-item\"><div class=\"sk-label-container\"><div class=\"sk-label sk-toggleable\"><input class=\"sk-toggleable__control sk-hidden--visually\" id=\"5a5e0eba-0d55-4d94-a307-fc88602f36ce\" type=\"checkbox\" ><label class=\"sk-toggleable__label\" for=\"5a5e0eba-0d55-4d94-a307-fc88602f36ce\">cat</label><div class=\"sk-toggleable__content\"><pre>['Sex', 'Embarked', 'Title']</pre></div></div></div><div class=\"sk-serial\"><div class=\"sk-item\"><div class=\"sk-serial\"><div class=\"sk-item\"><div class=\"sk-estimator sk-toggleable\"><input class=\"sk-toggleable__control sk-hidden--visually\" id=\"d0a6b3ee-2bdd-4a4b-a997-6744058cd6f8\" type=\"checkbox\" ><label class=\"sk-toggleable__label\" for=\"d0a6b3ee-2bdd-4a4b-a997-6744058cd6f8\">SimpleImputer</label><div class=\"sk-toggleable__content\"><pre>SimpleImputer(fill_value='missing', strategy='constant')</pre></div></div></div><div class=\"sk-item\"><div class=\"sk-estimator sk-toggleable\"><input class=\"sk-toggleable__control sk-hidden--visually\" id=\"f47b7dc6-ce94-4bb4-b898-f367376f7e9f\" type=\"checkbox\" ><label class=\"sk-toggleable__label\" for=\"f47b7dc6-ce94-4bb4-b898-f367376f7e9f\">OneHotEncoder</label><div class=\"sk-toggleable__content\"><pre>OneHotEncoder(handle_unknown='ignore')</pre></div></div></div></div></div></div></div></div></div></div><div class=\"sk-item\"><div class=\"sk-estimator sk-toggleable\"><input class=\"sk-toggleable__control sk-hidden--visually\" id=\"26868514-eef1-4ca8-b8c2-74e868834352\" type=\"checkbox\" ><label class=\"sk-toggleable__label\" for=\"26868514-eef1-4ca8-b8c2-74e868834352\">LGBMClassifier</label><div class=\"sk-toggleable__content\"><pre>LGBMClassifier()</pre></div></div></div></div></div></div></div>"
     },
     "metadata": {},
     "execution_count": 17
    }
   ],
   "source": [
    "tree_classifiers = {\n",
    "  \"Decision Tree\": DecisionTreeClassifier(),\n",
    "  \"Extra Trees\":ExtraTreesClassifier(),\n",
    "  \"Random Forest\":RandomForestClassifier(),\n",
    "  \"AdaBoost\":AdaBoostClassifier(),\n",
    "  \"Skl GBM\":GradientBoostingClassifier(),\n",
    "  \"Skl HistGBM\":GradientBoostingClassifier(),\n",
    "  \"XGBoost\":XGBClassifier(),\n",
    "  \"LightGBM\":LGBMClassifier(),\n",
    "  \"CatBoost\":CatBoostClassifier()\n",
    "}\n",
    "tree_classifiers = {name: pipeline.make_pipeline(tree_prepro, model) for name, model in tree_classifiers.items()}\n",
    "tree_classifiers[\"LightGBM\"]\n"
   ]
  },
  {
   "cell_type": "code",
   "execution_count": 18,
   "metadata": {
    "deletable": false,
    "editable": false,
    "nbgrader": {
     "cell_type": "code",
     "checksum": "2355552b3ce823e44fdaea06394e054c",
     "grade": true,
     "grade_id": "cell-d4744022b37e2e9b",
     "locked": true,
     "points": 1,
     "schema_version": 3,
     "solution": false,
     "task": false
    }
   },
   "outputs": [],
   "source": [
    "for pipe in tree_classifiers.values():\n",
    "    assert type(pipe) is pipeline.Pipeline"
   ]
  },
  {
   "source": [
    "# Exercise 5 (3pts):\n",
    "Define a simple split validation strategy with:\n",
    "- 80% for train\n",
    "- 20% for validation\n",
    "- With stratification\n",
    "- random_state=0\n",
    "\n",
    "And train all the models in a for loop"
   ],
   "cell_type": "code",
   "metadata": {},
   "execution_count": null,
   "outputs": []
  },
  {
   "cell_type": "code",
   "execution_count": 19,
   "metadata": {
    "colab": {
     "base_uri": "https://localhost:8080/",
     "height": 173
    },
    "colab_type": "code",
    "deletable": false,
    "id": "kY1uWk6-OcLw",
    "nbgrader": {
     "cell_type": "code",
     "checksum": "e48597a78f468a95abf116052e9f68e6",
     "grade": false,
     "grade_id": "cell-64f17e0d448bca7e",
     "locked": false,
     "schema_version": 3,
     "solution": true,
     "task": false
    },
    "outputId": "3562463f-3197-424c-dc82-b07ad579e9cc",
    "tags": [
     "outputPrepend"
    ]
   },
   "outputs": [
    {
     "output_type": "stream",
     "name": "stderr",
     "text": [
      "3231011\ttotal: 1.56s\tremaining: 971ms\n",
      "616:\tlearn: 0.3229018\ttotal: 1.56s\tremaining: 968ms\n",
      "617:\tlearn: 0.3226934\ttotal: 1.56s\tremaining: 965ms\n",
      "618:\tlearn: 0.3226679\ttotal: 1.56s\tremaining: 962ms\n",
      "619:\tlearn: 0.3224384\ttotal: 1.56s\tremaining: 958ms\n",
      "620:\tlearn: 0.3222797\ttotal: 1.56s\tremaining: 956ms\n",
      "621:\tlearn: 0.3221968\ttotal: 1.57s\tremaining: 952ms\n",
      "622:\tlearn: 0.3221056\ttotal: 1.57s\tremaining: 949ms\n",
      "623:\tlearn: 0.3220152\ttotal: 1.57s\tremaining: 946ms\n",
      "624:\tlearn: 0.3216825\ttotal: 1.57s\tremaining: 943ms\n",
      "625:\tlearn: 0.3216729\ttotal: 1.57s\tremaining: 940ms\n",
      "626:\tlearn: 0.3215428\ttotal: 1.57s\tremaining: 937ms\n",
      "627:\tlearn: 0.3213518\ttotal: 1.57s\tremaining: 933ms\n",
      "628:\tlearn: 0.3211542\ttotal: 1.58s\tremaining: 930ms\n",
      "629:\tlearn: 0.3210773\ttotal: 1.58s\tremaining: 927ms\n",
      "630:\tlearn: 0.3209931\ttotal: 1.58s\tremaining: 924ms\n",
      "631:\tlearn: 0.3209187\ttotal: 1.58s\tremaining: 921ms\n",
      "632:\tlearn: 0.3207711\ttotal: 1.58s\tremaining: 918ms\n",
      "633:\tlearn: 0.3205822\ttotal: 1.58s\tremaining: 915ms\n",
      "634:\tlearn: 0.3205237\ttotal: 1.59s\tremaining: 912ms\n",
      "635:\tlearn: 0.3204768\ttotal: 1.59s\tremaining: 909ms\n",
      "636:\tlearn: 0.3203831\ttotal: 1.59s\tremaining: 906ms\n",
      "637:\tlearn: 0.3203519\ttotal: 1.59s\tremaining: 903ms\n",
      "638:\tlearn: 0.3202068\ttotal: 1.59s\tremaining: 900ms\n",
      "639:\tlearn: 0.3201873\ttotal: 1.59s\tremaining: 897ms\n",
      "640:\tlearn: 0.3200130\ttotal: 1.59s\tremaining: 894ms\n",
      "641:\tlearn: 0.3199202\ttotal: 1.6s\tremaining: 891ms\n",
      "642:\tlearn: 0.3198245\ttotal: 1.6s\tremaining: 888ms\n",
      "643:\tlearn: 0.3197703\ttotal: 1.6s\tremaining: 885ms\n",
      "644:\tlearn: 0.3196071\ttotal: 1.6s\tremaining: 882ms\n",
      "645:\tlearn: 0.3195051\ttotal: 1.6s\tremaining: 879ms\n",
      "646:\tlearn: 0.3193927\ttotal: 1.61s\tremaining: 876ms\n",
      "647:\tlearn: 0.3191539\ttotal: 1.61s\tremaining: 874ms\n",
      "648:\tlearn: 0.3190506\ttotal: 1.61s\tremaining: 871ms\n",
      "649:\tlearn: 0.3188992\ttotal: 1.61s\tremaining: 868ms\n",
      "650:\tlearn: 0.3186625\ttotal: 1.61s\tremaining: 865ms\n",
      "651:\tlearn: 0.3184947\ttotal: 1.61s\tremaining: 862ms\n",
      "652:\tlearn: 0.3183623\ttotal: 1.62s\tremaining: 859ms\n",
      "653:\tlearn: 0.3181425\ttotal: 1.62s\tremaining: 857ms\n",
      "654:\tlearn: 0.3178608\ttotal: 1.62s\tremaining: 854ms\n",
      "655:\tlearn: 0.3178417\ttotal: 1.62s\tremaining: 851ms\n",
      "656:\tlearn: 0.3177446\ttotal: 1.63s\tremaining: 848ms\n",
      "657:\tlearn: 0.3176423\ttotal: 1.63s\tremaining: 846ms\n",
      "658:\tlearn: 0.3174492\ttotal: 1.63s\tremaining: 844ms\n",
      "659:\tlearn: 0.3172955\ttotal: 1.63s\tremaining: 841ms\n",
      "660:\tlearn: 0.3172647\ttotal: 1.63s\tremaining: 837ms\n",
      "661:\tlearn: 0.3171652\ttotal: 1.64s\tremaining: 835ms\n",
      "662:\tlearn: 0.3169394\ttotal: 1.64s\tremaining: 833ms\n",
      "663:\tlearn: 0.3168104\ttotal: 1.64s\tremaining: 829ms\n",
      "664:\tlearn: 0.3167249\ttotal: 1.64s\tremaining: 827ms\n",
      "665:\tlearn: 0.3164847\ttotal: 1.65s\tremaining: 826ms\n",
      "666:\tlearn: 0.3164294\ttotal: 1.65s\tremaining: 823ms\n",
      "667:\tlearn: 0.3162577\ttotal: 1.65s\tremaining: 820ms\n",
      "668:\tlearn: 0.3160689\ttotal: 1.65s\tremaining: 817ms\n",
      "669:\tlearn: 0.3160265\ttotal: 1.65s\tremaining: 814ms\n",
      "670:\tlearn: 0.3159449\ttotal: 1.65s\tremaining: 811ms\n",
      "671:\tlearn: 0.3159431\ttotal: 1.66s\tremaining: 808ms\n",
      "672:\tlearn: 0.3158280\ttotal: 1.66s\tremaining: 806ms\n",
      "673:\tlearn: 0.3157158\ttotal: 1.66s\tremaining: 803ms\n",
      "674:\tlearn: 0.3156126\ttotal: 1.66s\tremaining: 800ms\n",
      "675:\tlearn: 0.3155251\ttotal: 1.66s\tremaining: 797ms\n",
      "676:\tlearn: 0.3154969\ttotal: 1.66s\tremaining: 794ms\n",
      "677:\tlearn: 0.3154617\ttotal: 1.67s\tremaining: 791ms\n",
      "678:\tlearn: 0.3153468\ttotal: 1.67s\tremaining: 788ms\n",
      "679:\tlearn: 0.3152642\ttotal: 1.67s\tremaining: 785ms\n",
      "680:\tlearn: 0.3151557\ttotal: 1.67s\tremaining: 783ms\n",
      "681:\tlearn: 0.3149859\ttotal: 1.67s\tremaining: 781ms\n",
      "682:\tlearn: 0.3148795\ttotal: 1.68s\tremaining: 779ms\n",
      "683:\tlearn: 0.3147696\ttotal: 1.68s\tremaining: 776ms\n",
      "684:\tlearn: 0.3146821\ttotal: 1.68s\tremaining: 773ms\n",
      "685:\tlearn: 0.3146245\ttotal: 1.68s\tremaining: 770ms\n",
      "686:\tlearn: 0.3145318\ttotal: 1.69s\tremaining: 769ms\n",
      "687:\tlearn: 0.3144494\ttotal: 1.69s\tremaining: 766ms\n",
      "688:\tlearn: 0.3144108\ttotal: 1.69s\tremaining: 764ms\n",
      "689:\tlearn: 0.3143532\ttotal: 1.7s\tremaining: 762ms\n",
      "690:\tlearn: 0.3142708\ttotal: 1.7s\tremaining: 759ms\n",
      "691:\tlearn: 0.3141687\ttotal: 1.7s\tremaining: 756ms\n",
      "692:\tlearn: 0.3140676\ttotal: 1.7s\tremaining: 754ms\n",
      "693:\tlearn: 0.3139733\ttotal: 1.7s\tremaining: 751ms\n",
      "694:\tlearn: 0.3139086\ttotal: 1.7s\tremaining: 748ms\n",
      "695:\tlearn: 0.3138403\ttotal: 1.71s\tremaining: 745ms\n",
      "696:\tlearn: 0.3136933\ttotal: 1.71s\tremaining: 742ms\n",
      "697:\tlearn: 0.3136272\ttotal: 1.71s\tremaining: 740ms\n",
      "698:\tlearn: 0.3135691\ttotal: 1.71s\tremaining: 737ms\n",
      "699:\tlearn: 0.3133767\ttotal: 1.71s\tremaining: 734ms\n",
      "700:\tlearn: 0.3133090\ttotal: 1.72s\tremaining: 732ms\n",
      "701:\tlearn: 0.3131349\ttotal: 1.72s\tremaining: 729ms\n",
      "702:\tlearn: 0.3130780\ttotal: 1.72s\tremaining: 726ms\n",
      "703:\tlearn: 0.3130474\ttotal: 1.72s\tremaining: 724ms\n",
      "704:\tlearn: 0.3129236\ttotal: 1.72s\tremaining: 721ms\n",
      "705:\tlearn: 0.3128435\ttotal: 1.73s\tremaining: 718ms\n",
      "706:\tlearn: 0.3126629\ttotal: 1.73s\tremaining: 716ms\n",
      "707:\tlearn: 0.3124744\ttotal: 1.73s\tremaining: 714ms\n",
      "708:\tlearn: 0.3124215\ttotal: 1.73s\tremaining: 711ms\n",
      "709:\tlearn: 0.3123590\ttotal: 1.74s\tremaining: 709ms\n",
      "710:\tlearn: 0.3123083\ttotal: 1.74s\tremaining: 706ms\n",
      "711:\tlearn: 0.3122545\ttotal: 1.74s\tremaining: 703ms\n",
      "712:\tlearn: 0.3122288\ttotal: 1.74s\tremaining: 701ms\n",
      "713:\tlearn: 0.3119330\ttotal: 1.74s\tremaining: 698ms\n",
      "714:\tlearn: 0.3118827\ttotal: 1.74s\tremaining: 695ms\n",
      "715:\tlearn: 0.3118037\ttotal: 1.75s\tremaining: 692ms\n",
      "716:\tlearn: 0.3116881\ttotal: 1.75s\tremaining: 690ms\n",
      "717:\tlearn: 0.3116381\ttotal: 1.75s\tremaining: 687ms\n",
      "718:\tlearn: 0.3114561\ttotal: 1.75s\tremaining: 684ms\n",
      "719:\tlearn: 0.3113070\ttotal: 1.75s\tremaining: 682ms\n",
      "720:\tlearn: 0.3111825\ttotal: 1.75s\tremaining: 679ms\n",
      "721:\tlearn: 0.3111126\ttotal: 1.76s\tremaining: 676ms\n",
      "722:\tlearn: 0.3109797\ttotal: 1.76s\tremaining: 674ms\n",
      "723:\tlearn: 0.3108736\ttotal: 1.76s\tremaining: 671ms\n",
      "724:\tlearn: 0.3107859\ttotal: 1.76s\tremaining: 669ms\n",
      "725:\tlearn: 0.3105880\ttotal: 1.76s\tremaining: 666ms\n",
      "726:\tlearn: 0.3104571\ttotal: 1.77s\tremaining: 663ms\n",
      "727:\tlearn: 0.3104161\ttotal: 1.77s\tremaining: 660ms\n",
      "728:\tlearn: 0.3103389\ttotal: 1.77s\tremaining: 658ms\n",
      "729:\tlearn: 0.3103231\ttotal: 1.77s\tremaining: 655ms\n",
      "730:\tlearn: 0.3102530\ttotal: 1.77s\tremaining: 652ms\n",
      "731:\tlearn: 0.3101686\ttotal: 1.77s\tremaining: 650ms\n",
      "732:\tlearn: 0.3099878\ttotal: 1.78s\tremaining: 648ms\n",
      "733:\tlearn: 0.3098953\ttotal: 1.78s\tremaining: 645ms\n",
      "734:\tlearn: 0.3096508\ttotal: 1.78s\tremaining: 643ms\n",
      "735:\tlearn: 0.3094635\ttotal: 1.79s\tremaining: 641ms\n",
      "736:\tlearn: 0.3092685\ttotal: 1.79s\tremaining: 640ms\n",
      "737:\tlearn: 0.3091751\ttotal: 1.79s\tremaining: 637ms\n",
      "738:\tlearn: 0.3091493\ttotal: 1.8s\tremaining: 635ms\n",
      "739:\tlearn: 0.3090366\ttotal: 1.8s\tremaining: 632ms\n",
      "740:\tlearn: 0.3089280\ttotal: 1.8s\tremaining: 629ms\n",
      "741:\tlearn: 0.3088014\ttotal: 1.8s\tremaining: 627ms\n",
      "742:\tlearn: 0.3084586\ttotal: 1.8s\tremaining: 624ms\n",
      "743:\tlearn: 0.3083734\ttotal: 1.81s\tremaining: 622ms\n",
      "744:\tlearn: 0.3082807\ttotal: 1.81s\tremaining: 619ms\n",
      "745:\tlearn: 0.3082458\ttotal: 1.81s\tremaining: 616ms\n",
      "746:\tlearn: 0.3081274\ttotal: 1.81s\tremaining: 614ms\n",
      "747:\tlearn: 0.3079663\ttotal: 1.81s\tremaining: 611ms\n",
      "748:\tlearn: 0.3079123\ttotal: 1.82s\tremaining: 609ms\n",
      "749:\tlearn: 0.3076756\ttotal: 1.82s\tremaining: 607ms\n",
      "750:\tlearn: 0.3076710\ttotal: 1.82s\tremaining: 604ms\n",
      "751:\tlearn: 0.3075965\ttotal: 1.82s\tremaining: 602ms\n",
      "752:\tlearn: 0.3075177\ttotal: 1.83s\tremaining: 599ms\n",
      "753:\tlearn: 0.3073854\ttotal: 1.83s\tremaining: 597ms\n",
      "754:\tlearn: 0.3073545\ttotal: 1.83s\tremaining: 594ms\n",
      "755:\tlearn: 0.3070440\ttotal: 1.83s\tremaining: 591ms\n",
      "756:\tlearn: 0.3069476\ttotal: 1.83s\tremaining: 589ms\n",
      "757:\tlearn: 0.3069156\ttotal: 1.83s\tremaining: 586ms\n",
      "758:\tlearn: 0.3067151\ttotal: 1.84s\tremaining: 583ms\n",
      "759:\tlearn: 0.3066641\ttotal: 1.84s\tremaining: 581ms\n",
      "760:\tlearn: 0.3066365\ttotal: 1.84s\tremaining: 578ms\n",
      "761:\tlearn: 0.3066299\ttotal: 1.84s\tremaining: 575ms\n",
      "762:\tlearn: 0.3065589\ttotal: 1.84s\tremaining: 573ms\n",
      "763:\tlearn: 0.3064410\ttotal: 1.84s\tremaining: 570ms\n",
      "764:\tlearn: 0.3063052\ttotal: 1.85s\tremaining: 567ms\n",
      "765:\tlearn: 0.3061704\ttotal: 1.85s\tremaining: 565ms\n",
      "766:\tlearn: 0.3059936\ttotal: 1.85s\tremaining: 563ms\n",
      "767:\tlearn: 0.3059510\ttotal: 1.85s\tremaining: 560ms\n",
      "768:\tlearn: 0.3059222\ttotal: 1.86s\tremaining: 558ms\n",
      "769:\tlearn: 0.3058438\ttotal: 1.86s\tremaining: 555ms\n",
      "770:\tlearn: 0.3057967\ttotal: 1.86s\tremaining: 553ms\n",
      "771:\tlearn: 0.3056694\ttotal: 1.86s\tremaining: 550ms\n",
      "772:\tlearn: 0.3055839\ttotal: 1.86s\tremaining: 548ms\n",
      "773:\tlearn: 0.3055157\ttotal: 1.87s\tremaining: 545ms\n",
      "774:\tlearn: 0.3055014\ttotal: 1.87s\tremaining: 543ms\n",
      "775:\tlearn: 0.3053514\ttotal: 1.87s\tremaining: 540ms\n",
      "776:\tlearn: 0.3052674\ttotal: 1.87s\tremaining: 538ms\n",
      "777:\tlearn: 0.3051428\ttotal: 1.88s\tremaining: 535ms\n",
      "778:\tlearn: 0.3050241\ttotal: 1.88s\tremaining: 533ms\n",
      "779:\tlearn: 0.3048594\ttotal: 1.88s\tremaining: 530ms\n",
      "780:\tlearn: 0.3047742\ttotal: 1.88s\tremaining: 528ms\n",
      "781:\tlearn: 0.3046664\ttotal: 1.88s\tremaining: 525ms\n",
      "782:\tlearn: 0.3043766\ttotal: 1.89s\tremaining: 523ms\n",
      "783:\tlearn: 0.3043315\ttotal: 1.89s\tremaining: 520ms\n",
      "784:\tlearn: 0.3042562\ttotal: 1.89s\tremaining: 518ms\n",
      "785:\tlearn: 0.3042261\ttotal: 1.89s\tremaining: 515ms\n",
      "786:\tlearn: 0.3039679\ttotal: 1.9s\tremaining: 513ms\n",
      "787:\tlearn: 0.3039120\ttotal: 1.9s\tremaining: 510ms\n",
      "788:\tlearn: 0.3038378\ttotal: 1.9s\tremaining: 508ms\n",
      "789:\tlearn: 0.3037926\ttotal: 1.9s\tremaining: 505ms\n",
      "790:\tlearn: 0.3037414\ttotal: 1.9s\tremaining: 503ms\n",
      "791:\tlearn: 0.3036416\ttotal: 1.9s\tremaining: 500ms\n",
      "792:\tlearn: 0.3036131\ttotal: 1.91s\tremaining: 497ms\n",
      "793:\tlearn: 0.3034863\ttotal: 1.91s\tremaining: 495ms\n",
      "794:\tlearn: 0.3033551\ttotal: 1.91s\tremaining: 492ms\n",
      "795:\tlearn: 0.3032940\ttotal: 1.91s\tremaining: 490ms\n",
      "796:\tlearn: 0.3032163\ttotal: 1.91s\tremaining: 487ms\n",
      "797:\tlearn: 0.3031375\ttotal: 1.91s\tremaining: 484ms\n",
      "798:\tlearn: 0.3030459\ttotal: 1.92s\tremaining: 482ms\n",
      "799:\tlearn: 0.3029896\ttotal: 1.92s\tremaining: 479ms\n",
      "800:\tlearn: 0.3027531\ttotal: 1.92s\tremaining: 477ms\n",
      "801:\tlearn: 0.3026153\ttotal: 1.92s\tremaining: 474ms\n",
      "802:\tlearn: 0.3023930\ttotal: 1.92s\tremaining: 471ms\n",
      "803:\tlearn: 0.3022268\ttotal: 1.92s\tremaining: 469ms\n",
      "804:\tlearn: 0.3021225\ttotal: 1.92s\tremaining: 466ms\n",
      "805:\tlearn: 0.3018582\ttotal: 1.93s\tremaining: 464ms\n",
      "806:\tlearn: 0.3018004\ttotal: 1.93s\tremaining: 461ms\n",
      "807:\tlearn: 0.3016919\ttotal: 1.93s\tremaining: 459ms\n",
      "808:\tlearn: 0.3015007\ttotal: 1.93s\tremaining: 456ms\n",
      "809:\tlearn: 0.3013828\ttotal: 1.93s\tremaining: 454ms\n",
      "810:\tlearn: 0.3011830\ttotal: 1.94s\tremaining: 451ms\n",
      "811:\tlearn: 0.3010872\ttotal: 1.94s\tremaining: 449ms\n",
      "812:\tlearn: 0.3009811\ttotal: 1.94s\tremaining: 447ms\n",
      "813:\tlearn: 0.3007508\ttotal: 1.95s\tremaining: 445ms\n",
      "814:\tlearn: 0.3005480\ttotal: 1.95s\tremaining: 442ms\n",
      "815:\tlearn: 0.3003082\ttotal: 1.95s\tremaining: 440ms\n",
      "816:\tlearn: 0.3002272\ttotal: 1.95s\tremaining: 437ms\n",
      "817:\tlearn: 0.3001832\ttotal: 1.95s\tremaining: 435ms\n",
      "818:\tlearn: 0.3001529\ttotal: 1.96s\tremaining: 432ms\n",
      "819:\tlearn: 0.3001083\ttotal: 1.96s\tremaining: 430ms\n",
      "820:\tlearn: 0.2998720\ttotal: 1.96s\tremaining: 427ms\n",
      "821:\tlearn: 0.2997991\ttotal: 1.96s\tremaining: 425ms\n",
      "822:\tlearn: 0.2996552\ttotal: 1.96s\tremaining: 422ms\n",
      "823:\tlearn: 0.2994864\ttotal: 1.97s\tremaining: 420ms\n",
      "824:\tlearn: 0.2994202\ttotal: 1.97s\tremaining: 417ms\n",
      "825:\tlearn: 0.2993233\ttotal: 1.97s\tremaining: 415ms\n",
      "826:\tlearn: 0.2992880\ttotal: 1.97s\tremaining: 412ms\n",
      "827:\tlearn: 0.2992654\ttotal: 1.97s\tremaining: 410ms\n",
      "828:\tlearn: 0.2991172\ttotal: 1.98s\tremaining: 407ms\n",
      "829:\tlearn: 0.2990408\ttotal: 1.98s\tremaining: 405ms\n",
      "830:\tlearn: 0.2989697\ttotal: 1.98s\tremaining: 402ms\n",
      "831:\tlearn: 0.2988655\ttotal: 1.98s\tremaining: 400ms\n",
      "832:\tlearn: 0.2988210\ttotal: 1.99s\tremaining: 398ms\n",
      "833:\tlearn: 0.2987706\ttotal: 1.99s\tremaining: 396ms\n",
      "834:\tlearn: 0.2985850\ttotal: 1.99s\tremaining: 393ms\n",
      "835:\tlearn: 0.2983609\ttotal: 1.99s\tremaining: 391ms\n",
      "836:\tlearn: 0.2982989\ttotal: 1.99s\tremaining: 388ms\n",
      "837:\tlearn: 0.2982058\ttotal: 2s\tremaining: 386ms\n",
      "838:\tlearn: 0.2979871\ttotal: 2s\tremaining: 384ms\n",
      "839:\tlearn: 0.2979280\ttotal: 2s\tremaining: 381ms\n",
      "840:\tlearn: 0.2977358\ttotal: 2s\tremaining: 379ms\n",
      "841:\tlearn: 0.2975781\ttotal: 2s\tremaining: 376ms\n",
      "842:\tlearn: 0.2975222\ttotal: 2.01s\tremaining: 374ms\n",
      "843:\tlearn: 0.2975020\ttotal: 2.01s\tremaining: 371ms\n",
      "844:\tlearn: 0.2972359\ttotal: 2.01s\tremaining: 369ms\n",
      "845:\tlearn: 0.2971766\ttotal: 2.01s\tremaining: 366ms\n",
      "846:\tlearn: 0.2970622\ttotal: 2.02s\tremaining: 364ms\n",
      "847:\tlearn: 0.2968132\ttotal: 2.02s\tremaining: 362ms\n",
      "848:\tlearn: 0.2967528\ttotal: 2.02s\tremaining: 359ms\n",
      "849:\tlearn: 0.2966941\ttotal: 2.02s\tremaining: 357ms\n",
      "850:\tlearn: 0.2965722\ttotal: 2.02s\tremaining: 354ms\n",
      "851:\tlearn: 0.2965225\ttotal: 2.02s\tremaining: 352ms\n",
      "852:\tlearn: 0.2963938\ttotal: 2.03s\tremaining: 349ms\n",
      "853:\tlearn: 0.2963124\ttotal: 2.03s\tremaining: 347ms\n",
      "854:\tlearn: 0.2959874\ttotal: 2.03s\tremaining: 344ms\n",
      "855:\tlearn: 0.2959244\ttotal: 2.03s\tremaining: 342ms\n",
      "856:\tlearn: 0.2958688\ttotal: 2.04s\tremaining: 340ms\n",
      "857:\tlearn: 0.2956189\ttotal: 2.04s\tremaining: 337ms\n",
      "858:\tlearn: 0.2954714\ttotal: 2.04s\tremaining: 335ms\n",
      "859:\tlearn: 0.2953886\ttotal: 2.04s\tremaining: 332ms\n",
      "860:\tlearn: 0.2953091\ttotal: 2.04s\tremaining: 330ms\n",
      "861:\tlearn: 0.2951947\ttotal: 2.04s\tremaining: 327ms\n",
      "862:\tlearn: 0.2950326\ttotal: 2.05s\tremaining: 325ms\n",
      "863:\tlearn: 0.2948674\ttotal: 2.05s\tremaining: 322ms\n",
      "864:\tlearn: 0.2947274\ttotal: 2.05s\tremaining: 320ms\n",
      "865:\tlearn: 0.2944843\ttotal: 2.05s\tremaining: 317ms\n",
      "866:\tlearn: 0.2943519\ttotal: 2.05s\tremaining: 315ms\n",
      "867:\tlearn: 0.2943061\ttotal: 2.06s\tremaining: 313ms\n",
      "868:\tlearn: 0.2940256\ttotal: 2.06s\tremaining: 310ms\n",
      "869:\tlearn: 0.2938491\ttotal: 2.06s\tremaining: 308ms\n",
      "870:\tlearn: 0.2937995\ttotal: 2.06s\tremaining: 306ms\n",
      "871:\tlearn: 0.2936654\ttotal: 2.06s\tremaining: 303ms\n",
      "872:\tlearn: 0.2934201\ttotal: 2.07s\tremaining: 301ms\n",
      "873:\tlearn: 0.2931601\ttotal: 2.07s\tremaining: 298ms\n",
      "874:\tlearn: 0.2931517\ttotal: 2.07s\tremaining: 296ms\n",
      "875:\tlearn: 0.2931274\ttotal: 2.07s\tremaining: 294ms\n",
      "876:\tlearn: 0.2929454\ttotal: 2.08s\tremaining: 291ms\n",
      "877:\tlearn: 0.2928531\ttotal: 2.08s\tremaining: 289ms\n",
      "878:\tlearn: 0.2925483\ttotal: 2.08s\tremaining: 286ms\n",
      "879:\tlearn: 0.2924084\ttotal: 2.08s\tremaining: 284ms\n",
      "880:\tlearn: 0.2922713\ttotal: 2.08s\tremaining: 282ms\n",
      "881:\tlearn: 0.2922030\ttotal: 2.09s\tremaining: 279ms\n",
      "882:\tlearn: 0.2921019\ttotal: 2.11s\tremaining: 279ms\n",
      "883:\tlearn: 0.2918105\ttotal: 2.12s\tremaining: 278ms\n",
      "884:\tlearn: 0.2917669\ttotal: 2.12s\tremaining: 276ms\n",
      "885:\tlearn: 0.2916875\ttotal: 2.12s\tremaining: 273ms\n",
      "886:\tlearn: 0.2914775\ttotal: 2.12s\tremaining: 271ms\n",
      "887:\tlearn: 0.2914172\ttotal: 2.13s\tremaining: 268ms\n",
      "888:\tlearn: 0.2912789\ttotal: 2.13s\tremaining: 266ms\n",
      "889:\tlearn: 0.2911669\ttotal: 2.13s\tremaining: 263ms\n",
      "890:\tlearn: 0.2911222\ttotal: 2.13s\tremaining: 261ms\n",
      "891:\tlearn: 0.2910793\ttotal: 2.13s\tremaining: 258ms\n",
      "892:\tlearn: 0.2909103\ttotal: 2.13s\tremaining: 256ms\n",
      "893:\tlearn: 0.2907124\ttotal: 2.14s\tremaining: 253ms\n",
      "894:\tlearn: 0.2905953\ttotal: 2.14s\tremaining: 251ms\n",
      "895:\tlearn: 0.2905413\ttotal: 2.14s\tremaining: 248ms\n",
      "896:\tlearn: 0.2902436\ttotal: 2.14s\tremaining: 246ms\n",
      "897:\tlearn: 0.2901573\ttotal: 2.14s\tremaining: 244ms\n",
      "898:\tlearn: 0.2901161\ttotal: 2.15s\tremaining: 241ms\n",
      "899:\tlearn: 0.2900175\ttotal: 2.16s\tremaining: 240ms\n",
      "900:\tlearn: 0.2897729\ttotal: 2.16s\tremaining: 237ms\n",
      "901:\tlearn: 0.2897065\ttotal: 2.16s\tremaining: 235ms\n",
      "902:\tlearn: 0.2896279\ttotal: 2.16s\tremaining: 232ms\n",
      "903:\tlearn: 0.2895873\ttotal: 2.17s\tremaining: 230ms\n",
      "904:\tlearn: 0.2893651\ttotal: 2.17s\tremaining: 228ms\n",
      "905:\tlearn: 0.2892498\ttotal: 2.17s\tremaining: 225ms\n",
      "906:\tlearn: 0.2890693\ttotal: 2.17s\tremaining: 223ms\n",
      "907:\tlearn: 0.2888373\ttotal: 2.18s\tremaining: 221ms\n",
      "908:\tlearn: 0.2886210\ttotal: 2.18s\tremaining: 218ms\n",
      "909:\tlearn: 0.2885223\ttotal: 2.18s\tremaining: 216ms\n",
      "910:\tlearn: 0.2884594\ttotal: 2.18s\tremaining: 213ms\n",
      "911:\tlearn: 0.2884277\ttotal: 2.19s\tremaining: 211ms\n",
      "912:\tlearn: 0.2881080\ttotal: 2.19s\tremaining: 208ms\n",
      "913:\tlearn: 0.2880343\ttotal: 2.19s\tremaining: 206ms\n",
      "914:\tlearn: 0.2879636\ttotal: 2.19s\tremaining: 204ms\n",
      "915:\tlearn: 0.2877047\ttotal: 2.19s\tremaining: 201ms\n",
      "916:\tlearn: 0.2876302\ttotal: 2.21s\tremaining: 200ms\n",
      "917:\tlearn: 0.2873985\ttotal: 2.21s\tremaining: 198ms\n",
      "918:\tlearn: 0.2873215\ttotal: 2.21s\tremaining: 195ms\n",
      "919:\tlearn: 0.2872336\ttotal: 2.22s\tremaining: 193ms\n",
      "920:\tlearn: 0.2870761\ttotal: 2.22s\tremaining: 190ms\n",
      "921:\tlearn: 0.2869721\ttotal: 2.22s\tremaining: 188ms\n",
      "922:\tlearn: 0.2869378\ttotal: 2.22s\tremaining: 185ms\n",
      "923:\tlearn: 0.2867092\ttotal: 2.23s\tremaining: 183ms\n",
      "924:\tlearn: 0.2865679\ttotal: 2.23s\tremaining: 181ms\n",
      "925:\tlearn: 0.2865009\ttotal: 2.23s\tremaining: 178ms\n",
      "926:\tlearn: 0.2864102\ttotal: 2.23s\tremaining: 176ms\n",
      "927:\tlearn: 0.2863686\ttotal: 2.23s\tremaining: 173ms\n",
      "928:\tlearn: 0.2862775\ttotal: 2.24s\tremaining: 171ms\n",
      "929:\tlearn: 0.2860844\ttotal: 2.24s\tremaining: 169ms\n",
      "930:\tlearn: 0.2860356\ttotal: 2.24s\tremaining: 166ms\n",
      "931:\tlearn: 0.2859997\ttotal: 2.27s\tremaining: 165ms\n",
      "932:\tlearn: 0.2857520\ttotal: 2.27s\tremaining: 163ms\n",
      "933:\tlearn: 0.2857170\ttotal: 2.27s\tremaining: 160ms\n",
      "934:\tlearn: 0.2854669\ttotal: 2.27s\tremaining: 158ms\n",
      "935:\tlearn: 0.2853513\ttotal: 2.27s\tremaining: 156ms\n",
      "936:\tlearn: 0.2852005\ttotal: 2.28s\tremaining: 153ms\n",
      "937:\tlearn: 0.2851563\ttotal: 2.28s\tremaining: 151ms\n",
      "938:\tlearn: 0.2848913\ttotal: 2.28s\tremaining: 148ms\n",
      "939:\tlearn: 0.2848420\ttotal: 2.28s\tremaining: 146ms\n",
      "940:\tlearn: 0.2847693\ttotal: 2.29s\tremaining: 143ms\n",
      "941:\tlearn: 0.2847031\ttotal: 2.29s\tremaining: 141ms\n",
      "942:\tlearn: 0.2846117\ttotal: 2.29s\tremaining: 138ms\n",
      "943:\tlearn: 0.2845591\ttotal: 2.29s\tremaining: 136ms\n",
      "944:\tlearn: 0.2844313\ttotal: 2.29s\tremaining: 134ms\n",
      "945:\tlearn: 0.2843587\ttotal: 2.3s\tremaining: 131ms\n",
      "946:\tlearn: 0.2842279\ttotal: 2.3s\tremaining: 129ms\n",
      "947:\tlearn: 0.2839536\ttotal: 2.31s\tremaining: 127ms\n",
      "948:\tlearn: 0.2838064\ttotal: 2.31s\tremaining: 124ms\n",
      "949:\tlearn: 0.2835915\ttotal: 2.31s\tremaining: 122ms\n",
      "950:\tlearn: 0.2835221\ttotal: 2.31s\tremaining: 119ms\n",
      "951:\tlearn: 0.2834916\ttotal: 2.31s\tremaining: 117ms\n",
      "952:\tlearn: 0.2834052\ttotal: 2.31s\tremaining: 114ms\n",
      "953:\tlearn: 0.2832247\ttotal: 2.32s\tremaining: 112ms\n",
      "954:\tlearn: 0.2829711\ttotal: 2.32s\tremaining: 109ms\n",
      "955:\tlearn: 0.2827891\ttotal: 2.32s\tremaining: 107ms\n",
      "956:\tlearn: 0.2827725\ttotal: 2.33s\tremaining: 104ms\n",
      "957:\tlearn: 0.2826808\ttotal: 2.33s\tremaining: 102ms\n",
      "958:\tlearn: 0.2826218\ttotal: 2.33s\tremaining: 99.6ms\n",
      "959:\tlearn: 0.2825523\ttotal: 2.33s\tremaining: 97.2ms\n",
      "960:\tlearn: 0.2824705\ttotal: 2.33s\tremaining: 94.7ms\n",
      "961:\tlearn: 0.2824655\ttotal: 2.33s\tremaining: 92.3ms\n",
      "962:\tlearn: 0.2822064\ttotal: 2.35s\tremaining: 90.2ms\n",
      "963:\tlearn: 0.2819293\ttotal: 2.35s\tremaining: 87.7ms\n",
      "964:\tlearn: 0.2816648\ttotal: 2.35s\tremaining: 85.3ms\n",
      "965:\tlearn: 0.2815487\ttotal: 2.35s\tremaining: 82.8ms\n",
      "966:\tlearn: 0.2814554\ttotal: 2.35s\tremaining: 80.4ms\n",
      "967:\tlearn: 0.2812699\ttotal: 2.36s\tremaining: 78ms\n",
      "968:\tlearn: 0.2811175\ttotal: 2.36s\tremaining: 75.5ms\n",
      "969:\tlearn: 0.2810233\ttotal: 2.36s\tremaining: 73ms\n",
      "970:\tlearn: 0.2808404\ttotal: 2.36s\tremaining: 70.6ms\n",
      "971:\tlearn: 0.2807407\ttotal: 2.37s\tremaining: 68.2ms\n",
      "972:\tlearn: 0.2805633\ttotal: 2.37s\tremaining: 65.7ms\n",
      "973:\tlearn: 0.2803294\ttotal: 2.37s\tremaining: 63.2ms\n",
      "974:\tlearn: 0.2800937\ttotal: 2.37s\tremaining: 60.8ms\n",
      "975:\tlearn: 0.2799861\ttotal: 2.37s\tremaining: 58.4ms\n",
      "976:\tlearn: 0.2799326\ttotal: 2.38s\tremaining: 55.9ms\n",
      "977:\tlearn: 0.2797098\ttotal: 2.38s\tremaining: 53.5ms\n",
      "978:\tlearn: 0.2796257\ttotal: 2.41s\tremaining: 51.7ms\n",
      "979:\tlearn: 0.2794838\ttotal: 2.41s\tremaining: 49.2ms\n",
      "980:\tlearn: 0.2793074\ttotal: 2.41s\tremaining: 46.8ms\n",
      "981:\tlearn: 0.2792303\ttotal: 2.42s\tremaining: 44.3ms\n",
      "982:\tlearn: 0.2792044\ttotal: 2.42s\tremaining: 41.8ms\n",
      "983:\tlearn: 0.2791010\ttotal: 2.42s\tremaining: 39.3ms\n",
      "984:\tlearn: 0.2788953\ttotal: 2.42s\tremaining: 36.9ms\n",
      "985:\tlearn: 0.2787943\ttotal: 2.42s\tremaining: 34.4ms\n",
      "986:\tlearn: 0.2786741\ttotal: 2.42s\tremaining: 31.9ms\n",
      "987:\tlearn: 0.2785410\ttotal: 2.43s\tremaining: 29.5ms\n",
      "988:\tlearn: 0.2783661\ttotal: 2.43s\tremaining: 27ms\n",
      "989:\tlearn: 0.2783398\ttotal: 2.43s\tremaining: 24.6ms\n",
      "990:\tlearn: 0.2781132\ttotal: 2.43s\tremaining: 22.1ms\n",
      "991:\tlearn: 0.2779877\ttotal: 2.44s\tremaining: 19.7ms\n",
      "992:\tlearn: 0.2778349\ttotal: 2.44s\tremaining: 17.2ms\n",
      "993:\tlearn: 0.2777145\ttotal: 2.44s\tremaining: 14.7ms\n",
      "994:\tlearn: 0.2775846\ttotal: 2.44s\tremaining: 12.3ms\n",
      "995:\tlearn: 0.2774968\ttotal: 2.45s\tremaining: 9.84ms\n",
      "996:\tlearn: 0.2774175\ttotal: 2.45s\tremaining: 7.38ms\n",
      "997:\tlearn: 0.2772648\ttotal: 2.45s\tremaining: 4.92ms\n",
      "998:\tlearn: 0.2771755\ttotal: 2.46s\tremaining: 2.46ms\n",
      "999:\tlearn: 0.2770979\ttotal: 2.46s\tremaining: 0us\n"
     ]
    },
    {
     "output_type": "execute_result",
     "data": {
      "text/plain": [
       "<pandas.io.formats.style.Styler at 0x2785702b6a0>"
      ],
      "text/html": "<style  type=\"text/css\" >\n#T_46df9_row0_col1{\n            width:  10em;\n             height:  80%;\n            background:  linear-gradient(90deg,#5fba7d 86.6%, transparent 86.6%);\n        }#T_46df9_row0_col2{\n            width:  10em;\n             height:  80%;\n            background:  linear-gradient(90deg,#5fba7d 84.8%, transparent 84.8%);\n        }#T_46df9_row1_col1,#T_46df9_row2_col1{\n            width:  10em;\n             height:  80%;\n            background:  linear-gradient(90deg,#5fba7d 86.0%, transparent 86.0%);\n        }#T_46df9_row1_col2,#T_46df9_row2_col2{\n            width:  10em;\n             height:  80%;\n            background:  linear-gradient(90deg,#5fba7d 84.0%, transparent 84.0%);\n        }#T_46df9_row3_col1{\n            width:  10em;\n             height:  80%;\n            background:  linear-gradient(90deg,#5fba7d 84.9%, transparent 84.9%);\n        }#T_46df9_row3_col2{\n            width:  10em;\n             height:  80%;\n            background:  linear-gradient(90deg,#5fba7d 84.2%, transparent 84.2%);\n        }#T_46df9_row4_col1{\n            width:  10em;\n             height:  80%;\n            background:  linear-gradient(90deg,#5fba7d 83.8%, transparent 83.8%);\n        }#T_46df9_row4_col2{\n            width:  10em;\n             height:  80%;\n            background:  linear-gradient(90deg,#5fba7d 83.0%, transparent 83.0%);\n        }#T_46df9_row5_col1{\n            width:  10em;\n             height:  80%;\n            background:  linear-gradient(90deg,#5fba7d 83.2%, transparent 83.2%);\n        }#T_46df9_row5_col2{\n            width:  10em;\n             height:  80%;\n            background:  linear-gradient(90deg,#5fba7d 82.0%, transparent 82.0%);\n        }#T_46df9_row6_col1{\n            width:  10em;\n             height:  80%;\n            background:  linear-gradient(90deg,#5fba7d 81.0%, transparent 81.0%);\n        }#T_46df9_row6_col2{\n            width:  10em;\n             height:  80%;\n            background:  linear-gradient(90deg,#5fba7d 79.4%, transparent 79.4%);\n        }#T_46df9_row7_col1{\n            width:  10em;\n             height:  80%;\n            background:  linear-gradient(90deg,#5fba7d 79.3%, transparent 79.3%);\n        }#T_46df9_row7_col2{\n            width:  10em;\n             height:  80%;\n            background:  linear-gradient(90deg,#5fba7d 77.5%, transparent 77.5%);\n        }#T_46df9_row8_col1{\n            width:  10em;\n             height:  80%;\n            background:  linear-gradient(90deg,#5fba7d 76.5%, transparent 76.5%);\n        }#T_46df9_row8_col2{\n            width:  10em;\n             height:  80%;\n            background:  linear-gradient(90deg,#5fba7d 75.8%, transparent 75.8%);\n        }</style><table id=\"T_46df9_\" ><thead>    <tr>        <th class=\"blank level0\" ></th>        <th class=\"col_heading level0 col0\" >Model</th>        <th class=\"col_heading level0 col1\" >Accuracy</th>        <th class=\"col_heading level0 col2\" >Bal Acc.</th>        <th class=\"col_heading level0 col3\" >Time</th>    </tr></thead><tbody>\n                <tr>\n                        <th id=\"T_46df9_level0_row0\" class=\"row_heading level0 row0\" >1</th>\n                        <td id=\"T_46df9_row0_col0\" class=\"data row0 col0\" >CatBoost</td>\n                        <td id=\"T_46df9_row0_col1\" class=\"data row0 col1\" >86.592179</td>\n                        <td id=\"T_46df9_row0_col2\" class=\"data row0 col2\" >84.769433</td>\n                        <td id=\"T_46df9_row0_col3\" class=\"data row0 col3\" >3.034558</td>\n            </tr>\n            <tr>\n                        <th id=\"T_46df9_level0_row1\" class=\"row_heading level0 row1\" >2</th>\n                        <td id=\"T_46df9_row1_col0\" class=\"data row1 col0\" >Skl GBM</td>\n                        <td id=\"T_46df9_row1_col1\" class=\"data row1 col1\" >86.033520</td>\n                        <td id=\"T_46df9_row1_col2\" class=\"data row1 col2\" >84.044796</td>\n                        <td id=\"T_46df9_row1_col3\" class=\"data row1 col3\" >0.192995</td>\n            </tr>\n            <tr>\n                        <th id=\"T_46df9_level0_row2\" class=\"row_heading level0 row2\" >3</th>\n                        <td id=\"T_46df9_row2_col0\" class=\"data row2 col0\" >Skl HistGBM</td>\n                        <td id=\"T_46df9_row2_col1\" class=\"data row2 col1\" >86.033520</td>\n                        <td id=\"T_46df9_row2_col2\" class=\"data row2 col2\" >84.044796</td>\n                        <td id=\"T_46df9_row2_col3\" class=\"data row2 col3\" >0.265291</td>\n            </tr>\n            <tr>\n                        <th id=\"T_46df9_level0_row3\" class=\"row_heading level0 row3\" >4</th>\n                        <td id=\"T_46df9_row3_col0\" class=\"data row3 col0\" >XGBoost</td>\n                        <td id=\"T_46df9_row3_col1\" class=\"data row3 col1\" >84.916201</td>\n                        <td id=\"T_46df9_row3_col2\" class=\"data row3 col2\" >84.216074</td>\n                        <td id=\"T_46df9_row3_col3\" class=\"data row3 col3\" >0.336894</td>\n            </tr>\n            <tr>\n                        <th id=\"T_46df9_level0_row4\" class=\"row_heading level0 row4\" >5</th>\n                        <td id=\"T_46df9_row4_col0\" class=\"data row4 col0\" >AdaBoost</td>\n                        <td id=\"T_46df9_row4_col1\" class=\"data row4 col1\" >83.798883</td>\n                        <td id=\"T_46df9_row4_col2\" class=\"data row4 col2\" >83.036891</td>\n                        <td id=\"T_46df9_row4_col3\" class=\"data row4 col3\" >0.165077</td>\n            </tr>\n            <tr>\n                        <th id=\"T_46df9_level0_row5\" class=\"row_heading level0 row5\" >6</th>\n                        <td id=\"T_46df9_row5_col0\" class=\"data row5 col0\" >LightGBM</td>\n                        <td id=\"T_46df9_row5_col1\" class=\"data row5 col1\" >83.240223</td>\n                        <td id=\"T_46df9_row5_col2\" class=\"data row5 col2\" >82.042161</td>\n                        <td id=\"T_46df9_row5_col3\" class=\"data row5 col3\" >0.161997</td>\n            </tr>\n            <tr>\n                        <th id=\"T_46df9_level0_row6\" class=\"row_heading level0 row6\" >7</th>\n                        <td id=\"T_46df9_row6_col0\" class=\"data row6 col0\" >Random Forest</td>\n                        <td id=\"T_46df9_row6_col1\" class=\"data row6 col1\" >81.005587</td>\n                        <td id=\"T_46df9_row6_col2\" class=\"data row6 col2\" >79.413702</td>\n                        <td id=\"T_46df9_row6_col3\" class=\"data row6 col3\" >0.262809</td>\n            </tr>\n            <tr>\n                        <th id=\"T_46df9_level0_row7\" class=\"row_heading level0 row7\" >8</th>\n                        <td id=\"T_46df9_row7_col0\" class=\"data row7 col0\" >Extra Trees</td>\n                        <td id=\"T_46df9_row7_col1\" class=\"data row7 col1\" >79.329609</td>\n                        <td id=\"T_46df9_row7_col2\" class=\"data row7 col2\" >77.509881</td>\n                        <td id=\"T_46df9_row7_col3\" class=\"data row7 col3\" >0.200486</td>\n            </tr>\n            <tr>\n                        <th id=\"T_46df9_level0_row8\" class=\"row_heading level0 row8\" >9</th>\n                        <td id=\"T_46df9_row8_col0\" class=\"data row8 col0\" >Decision Tree</td>\n                        <td id=\"T_46df9_row8_col1\" class=\"data row8 col1\" >76.536313</td>\n                        <td id=\"T_46df9_row8_col2\" class=\"data row8 col2\" >75.777339</td>\n                        <td id=\"T_46df9_row8_col3\" class=\"data row8 col3\" >0.016954</td>\n            </tr>\n    </tbody></table>"
     },
     "metadata": {},
     "execution_count": 19
    }
   ],
   "source": [
    "x_train, x_val, y_train, y_val = model_selection.train_test_split(\n",
    "    x, y,\n",
    "    test_size=0.2,\n",
    "    stratify = y,   \n",
    "    random_state=4 )\n",
    "\n",
    "results = pd.DataFrame({'Model': [], 'Accuracy': [], 'Bal Acc.': [], 'Time': []})\n",
    "\n",
    "for model_name, model in tree_classifiers.items():\n",
    "\n",
    "    start_time = time.time()\n",
    "    model.fit(x_train, y_train)\n",
    "    total_time = time.time() - start_time\n",
    "    \n",
    "    pred = model.predict(x_val)\n",
    "    \n",
    "    results = results.append({\"Model\":    model_name,\n",
    "                              \"Accuracy\": metrics.accuracy_score(y_val, pred)*100,\n",
    "                              \"Bal Acc.\": metrics.balanced_accuracy_score(y_val, pred)*100,\n",
    "                              \"Time\":     total_time},\n",
    "                              ignore_index=True)\n",
    "\n",
    "\n",
    "results_ord = results.sort_values(by=['Accuracy'], ascending=False, ignore_index=True)\n",
    "results_ord.index += 1 \n",
    "results_ord.style.bar(subset=['Accuracy', 'Bal Acc.'], vmin=0, vmax=100, color='#5fba7d')"
   ]
  },
  {
   "cell_type": "code",
   "execution_count": 20,
   "metadata": {
    "deletable": false,
    "editable": false,
    "nbgrader": {
     "cell_type": "code",
     "checksum": "dde6f91a6185745a813882e0c1f997bc",
     "grade": true,
     "grade_id": "cell-af27b33fe88ad384",
     "locked": true,
     "points": 3,
     "schema_version": 3,
     "solution": false,
     "task": false
    }
   },
   "outputs": [],
   "source": [
    "assert results_ord[\"Accuracy\"].min() > 75\n",
    "assert results_ord[\"Bal Acc.\"].min() > 75\n",
    "assert len(results_ord) == 9"
   ]
  },
  {
   "cell_type": "code",
   "execution_count": null,
   "metadata": {},
   "outputs": [],
   "source": []
  },
  {
   "cell_type": "markdown",
   "metadata": {},
   "source": [
    "# Exercise 6 (3pts):\n",
    "Define a 10 Fold cross validation strategy with:\n",
    "- With stratification\n",
    "- shuffle=True\n",
    "- random_state=0\n",
    "\n",
    "And train all the models in a for loop.\n",
    "\n",
    "Tip you can use **[cross_val_predict](https://scikit-learn.org/stable/modules/generated/sklearn.model_selection.cross_val_predict.html)** for both training and predict with "
   ]
  },
  {
   "cell_type": "code",
   "execution_count": 21,
   "metadata": {},
   "outputs": [],
   "source": [
    "from sklearn.model_selection import cross_val_predict"
   ]
  },
  {
   "cell_type": "code",
   "execution_count": 24,
   "metadata": {
    "deletable": false,
    "nbgrader": {
     "cell_type": "code",
     "checksum": "b9238f7916249fc81179a78b5492e5d4",
     "grade": false,
     "grade_id": "cell-37bf16dc25b43732",
     "locked": false,
     "schema_version": 3,
     "solution": true,
     "task": false
    },
    "tags": []
   },
   "outputs": [
    {
     "output_type": "stream",
     "name": "stderr",
     "text": [
      "rn: 0.2794315\ttotal: 711ms\tremaining: 441ms\n",
      "617:\tlearn: 0.2792471\ttotal: 712ms\tremaining: 440ms\n",
      "618:\tlearn: 0.2790865\ttotal: 713ms\tremaining: 439ms\n",
      "619:\tlearn: 0.2788939\ttotal: 713ms\tremaining: 437ms\n",
      "620:\tlearn: 0.2785579\ttotal: 714ms\tremaining: 436ms\n",
      "621:\tlearn: 0.2781121\ttotal: 716ms\tremaining: 435ms\n",
      "622:\tlearn: 0.2779372\ttotal: 717ms\tremaining: 434ms\n",
      "623:\tlearn: 0.2778096\ttotal: 718ms\tremaining: 433ms\n",
      "624:\tlearn: 0.2774727\ttotal: 719ms\tremaining: 431ms\n",
      "625:\tlearn: 0.2771707\ttotal: 720ms\tremaining: 430ms\n",
      "626:\tlearn: 0.2770181\ttotal: 721ms\tremaining: 429ms\n",
      "627:\tlearn: 0.2767000\ttotal: 722ms\tremaining: 428ms\n",
      "628:\tlearn: 0.2765669\ttotal: 723ms\tremaining: 426ms\n",
      "629:\tlearn: 0.2764439\ttotal: 723ms\tremaining: 425ms\n",
      "630:\tlearn: 0.2762478\ttotal: 725ms\tremaining: 424ms\n",
      "631:\tlearn: 0.2761229\ttotal: 726ms\tremaining: 422ms\n",
      "632:\tlearn: 0.2760050\ttotal: 727ms\tremaining: 421ms\n",
      "633:\tlearn: 0.2758291\ttotal: 727ms\tremaining: 420ms\n",
      "634:\tlearn: 0.2757673\ttotal: 728ms\tremaining: 418ms\n",
      "635:\tlearn: 0.2754973\ttotal: 729ms\tremaining: 417ms\n",
      "636:\tlearn: 0.2752161\ttotal: 730ms\tremaining: 416ms\n",
      "637:\tlearn: 0.2750806\ttotal: 731ms\tremaining: 415ms\n",
      "638:\tlearn: 0.2746608\ttotal: 732ms\tremaining: 414ms\n",
      "639:\tlearn: 0.2744422\ttotal: 733ms\tremaining: 412ms\n",
      "640:\tlearn: 0.2742112\ttotal: 734ms\tremaining: 411ms\n",
      "641:\tlearn: 0.2740640\ttotal: 736ms\tremaining: 410ms\n",
      "642:\tlearn: 0.2739637\ttotal: 736ms\tremaining: 409ms\n",
      "643:\tlearn: 0.2737966\ttotal: 737ms\tremaining: 407ms\n",
      "644:\tlearn: 0.2736559\ttotal: 738ms\tremaining: 406ms\n",
      "645:\tlearn: 0.2734971\ttotal: 739ms\tremaining: 405ms\n",
      "646:\tlearn: 0.2733185\ttotal: 740ms\tremaining: 404ms\n",
      "647:\tlearn: 0.2731865\ttotal: 740ms\tremaining: 402ms\n",
      "648:\tlearn: 0.2730863\ttotal: 741ms\tremaining: 401ms\n",
      "649:\tlearn: 0.2729123\ttotal: 742ms\tremaining: 399ms\n",
      "650:\tlearn: 0.2726888\ttotal: 743ms\tremaining: 398ms\n",
      "651:\tlearn: 0.2726090\ttotal: 745ms\tremaining: 398ms\n",
      "652:\tlearn: 0.2724808\ttotal: 746ms\tremaining: 396ms\n",
      "653:\tlearn: 0.2723368\ttotal: 746ms\tremaining: 395ms\n",
      "654:\tlearn: 0.2719267\ttotal: 747ms\tremaining: 394ms\n",
      "655:\tlearn: 0.2717144\ttotal: 749ms\tremaining: 393ms\n",
      "656:\tlearn: 0.2716269\ttotal: 750ms\tremaining: 391ms\n",
      "657:\tlearn: 0.2714205\ttotal: 750ms\tremaining: 390ms\n",
      "658:\tlearn: 0.2713036\ttotal: 751ms\tremaining: 389ms\n",
      "659:\tlearn: 0.2711762\ttotal: 752ms\tremaining: 387ms\n",
      "660:\tlearn: 0.2710109\ttotal: 753ms\tremaining: 386ms\n",
      "661:\tlearn: 0.2709439\ttotal: 753ms\tremaining: 385ms\n",
      "662:\tlearn: 0.2708048\ttotal: 754ms\tremaining: 383ms\n",
      "663:\tlearn: 0.2706446\ttotal: 755ms\tremaining: 382ms\n",
      "664:\tlearn: 0.2703552\ttotal: 756ms\tremaining: 381ms\n",
      "665:\tlearn: 0.2702332\ttotal: 757ms\tremaining: 379ms\n",
      "666:\tlearn: 0.2701447\ttotal: 757ms\tremaining: 378ms\n",
      "667:\tlearn: 0.2700049\ttotal: 759ms\tremaining: 377ms\n",
      "668:\tlearn: 0.2698472\ttotal: 760ms\tremaining: 376ms\n",
      "669:\tlearn: 0.2697607\ttotal: 761ms\tremaining: 375ms\n",
      "670:\tlearn: 0.2696427\ttotal: 762ms\tremaining: 374ms\n",
      "671:\tlearn: 0.2694725\ttotal: 763ms\tremaining: 372ms\n",
      "672:\tlearn: 0.2693318\ttotal: 765ms\tremaining: 372ms\n",
      "673:\tlearn: 0.2692758\ttotal: 766ms\tremaining: 370ms\n",
      "674:\tlearn: 0.2691654\ttotal: 766ms\tremaining: 369ms\n",
      "675:\tlearn: 0.2689761\ttotal: 767ms\tremaining: 368ms\n",
      "676:\tlearn: 0.2689472\ttotal: 768ms\tremaining: 366ms\n",
      "677:\tlearn: 0.2685834\ttotal: 769ms\tremaining: 365ms\n",
      "678:\tlearn: 0.2682838\ttotal: 770ms\tremaining: 364ms\n",
      "679:\tlearn: 0.2682407\ttotal: 771ms\tremaining: 363ms\n",
      "680:\tlearn: 0.2680471\ttotal: 772ms\tremaining: 362ms\n",
      "681:\tlearn: 0.2678999\ttotal: 773ms\tremaining: 361ms\n",
      "682:\tlearn: 0.2676249\ttotal: 775ms\tremaining: 360ms\n",
      "683:\tlearn: 0.2675489\ttotal: 776ms\tremaining: 358ms\n",
      "684:\tlearn: 0.2674566\ttotal: 777ms\tremaining: 357ms\n",
      "685:\tlearn: 0.2672742\ttotal: 778ms\tremaining: 356ms\n",
      "686:\tlearn: 0.2670112\ttotal: 779ms\tremaining: 355ms\n",
      "687:\tlearn: 0.2667308\ttotal: 780ms\tremaining: 354ms\n",
      "688:\tlearn: 0.2665957\ttotal: 781ms\tremaining: 352ms\n",
      "689:\tlearn: 0.2664433\ttotal: 781ms\tremaining: 351ms\n",
      "690:\tlearn: 0.2661730\ttotal: 782ms\tremaining: 350ms\n",
      "691:\tlearn: 0.2659662\ttotal: 783ms\tremaining: 349ms\n",
      "692:\tlearn: 0.2658336\ttotal: 784ms\tremaining: 348ms\n",
      "693:\tlearn: 0.2656535\ttotal: 785ms\tremaining: 346ms\n",
      "694:\tlearn: 0.2652737\ttotal: 786ms\tremaining: 345ms\n",
      "695:\tlearn: 0.2651499\ttotal: 787ms\tremaining: 344ms\n",
      "696:\tlearn: 0.2650643\ttotal: 788ms\tremaining: 343ms\n",
      "697:\tlearn: 0.2649631\ttotal: 789ms\tremaining: 341ms\n",
      "698:\tlearn: 0.2648075\ttotal: 790ms\tremaining: 340ms\n",
      "699:\tlearn: 0.2647487\ttotal: 791ms\tremaining: 339ms\n",
      "700:\tlearn: 0.2645724\ttotal: 792ms\tremaining: 338ms\n",
      "701:\tlearn: 0.2643051\ttotal: 793ms\tremaining: 337ms\n",
      "702:\tlearn: 0.2640009\ttotal: 794ms\tremaining: 335ms\n",
      "703:\tlearn: 0.2639764\ttotal: 795ms\tremaining: 334ms\n",
      "704:\tlearn: 0.2638334\ttotal: 796ms\tremaining: 333ms\n",
      "705:\tlearn: 0.2637578\ttotal: 797ms\tremaining: 332ms\n",
      "706:\tlearn: 0.2637223\ttotal: 798ms\tremaining: 331ms\n",
      "707:\tlearn: 0.2636832\ttotal: 798ms\tremaining: 329ms\n",
      "708:\tlearn: 0.2635184\ttotal: 799ms\tremaining: 328ms\n",
      "709:\tlearn: 0.2633349\ttotal: 801ms\tremaining: 327ms\n",
      "710:\tlearn: 0.2632537\ttotal: 802ms\tremaining: 326ms\n",
      "711:\tlearn: 0.2631376\ttotal: 803ms\tremaining: 325ms\n",
      "712:\tlearn: 0.2630000\ttotal: 805ms\tremaining: 324ms\n",
      "713:\tlearn: 0.2628723\ttotal: 806ms\tremaining: 323ms\n",
      "714:\tlearn: 0.2627362\ttotal: 807ms\tremaining: 322ms\n",
      "715:\tlearn: 0.2627151\ttotal: 808ms\tremaining: 320ms\n",
      "716:\tlearn: 0.2625893\ttotal: 809ms\tremaining: 319ms\n",
      "717:\tlearn: 0.2625176\ttotal: 811ms\tremaining: 318ms\n",
      "718:\tlearn: 0.2624862\ttotal: 812ms\tremaining: 317ms\n",
      "719:\tlearn: 0.2623283\ttotal: 813ms\tremaining: 316ms\n",
      "720:\tlearn: 0.2622442\ttotal: 814ms\tremaining: 315ms\n",
      "721:\tlearn: 0.2621303\ttotal: 817ms\tremaining: 315ms\n",
      "722:\tlearn: 0.2620335\ttotal: 821ms\tremaining: 315ms\n",
      "723:\tlearn: 0.2619531\ttotal: 824ms\tremaining: 314ms\n",
      "724:\tlearn: 0.2617960\ttotal: 825ms\tremaining: 313ms\n",
      "725:\tlearn: 0.2617461\ttotal: 826ms\tremaining: 312ms\n",
      "726:\tlearn: 0.2615722\ttotal: 827ms\tremaining: 311ms\n",
      "727:\tlearn: 0.2614421\ttotal: 835ms\tremaining: 312ms\n",
      "728:\tlearn: 0.2613686\ttotal: 836ms\tremaining: 311ms\n",
      "729:\tlearn: 0.2613012\ttotal: 838ms\tremaining: 310ms\n",
      "730:\tlearn: 0.2612412\ttotal: 839ms\tremaining: 309ms\n",
      "731:\tlearn: 0.2610964\ttotal: 841ms\tremaining: 308ms\n",
      "732:\tlearn: 0.2609698\ttotal: 842ms\tremaining: 307ms\n",
      "733:\tlearn: 0.2608564\ttotal: 845ms\tremaining: 306ms\n",
      "734:\tlearn: 0.2607184\ttotal: 849ms\tremaining: 306ms\n",
      "735:\tlearn: 0.2606804\ttotal: 850ms\tremaining: 305ms\n",
      "736:\tlearn: 0.2605731\ttotal: 852ms\tremaining: 304ms\n",
      "737:\tlearn: 0.2604667\ttotal: 853ms\tremaining: 303ms\n",
      "738:\tlearn: 0.2601622\ttotal: 854ms\tremaining: 302ms\n",
      "739:\tlearn: 0.2600127\ttotal: 855ms\tremaining: 300ms\n",
      "740:\tlearn: 0.2599715\ttotal: 856ms\tremaining: 299ms\n",
      "741:\tlearn: 0.2599614\ttotal: 856ms\tremaining: 298ms\n",
      "742:\tlearn: 0.2599026\ttotal: 857ms\tremaining: 296ms\n",
      "743:\tlearn: 0.2598360\ttotal: 858ms\tremaining: 295ms\n",
      "744:\tlearn: 0.2597387\ttotal: 859ms\tremaining: 294ms\n",
      "745:\tlearn: 0.2596423\ttotal: 861ms\tremaining: 293ms\n",
      "746:\tlearn: 0.2595229\ttotal: 862ms\tremaining: 292ms\n",
      "747:\tlearn: 0.2593587\ttotal: 863ms\tremaining: 291ms\n",
      "748:\tlearn: 0.2590940\ttotal: 864ms\tremaining: 290ms\n",
      "749:\tlearn: 0.2588530\ttotal: 865ms\tremaining: 288ms\n",
      "750:\tlearn: 0.2587282\ttotal: 866ms\tremaining: 287ms\n",
      "751:\tlearn: 0.2586481\ttotal: 867ms\tremaining: 286ms\n",
      "752:\tlearn: 0.2585800\ttotal: 868ms\tremaining: 285ms\n",
      "753:\tlearn: 0.2584987\ttotal: 868ms\tremaining: 283ms\n",
      "754:\tlearn: 0.2583530\ttotal: 869ms\tremaining: 282ms\n",
      "755:\tlearn: 0.2582345\ttotal: 870ms\tremaining: 281ms\n",
      "756:\tlearn: 0.2581216\ttotal: 871ms\tremaining: 279ms\n",
      "757:\tlearn: 0.2580032\ttotal: 873ms\tremaining: 279ms\n",
      "758:\tlearn: 0.2579480\ttotal: 874ms\tremaining: 277ms\n",
      "759:\tlearn: 0.2577574\ttotal: 875ms\tremaining: 276ms\n",
      "760:\tlearn: 0.2576327\ttotal: 876ms\tremaining: 275ms\n",
      "761:\tlearn: 0.2575022\ttotal: 877ms\tremaining: 274ms\n",
      "762:\tlearn: 0.2574021\ttotal: 878ms\tremaining: 273ms\n",
      "763:\tlearn: 0.2572265\ttotal: 879ms\tremaining: 271ms\n",
      "764:\tlearn: 0.2571952\ttotal: 879ms\tremaining: 270ms\n",
      "765:\tlearn: 0.2571200\ttotal: 880ms\tremaining: 269ms\n",
      "766:\tlearn: 0.2571096\ttotal: 881ms\tremaining: 267ms\n",
      "767:\tlearn: 0.2570388\ttotal: 881ms\tremaining: 266ms\n",
      "768:\tlearn: 0.2569330\ttotal: 882ms\tremaining: 265ms\n",
      "769:\tlearn: 0.2567362\ttotal: 883ms\tremaining: 264ms\n",
      "770:\tlearn: 0.2565282\ttotal: 884ms\tremaining: 262ms\n",
      "771:\tlearn: 0.2564787\ttotal: 884ms\tremaining: 261ms\n",
      "772:\tlearn: 0.2564442\ttotal: 885ms\tremaining: 260ms\n",
      "773:\tlearn: 0.2562866\ttotal: 886ms\tremaining: 259ms\n",
      "774:\tlearn: 0.2561610\ttotal: 887ms\tremaining: 258ms\n",
      "775:\tlearn: 0.2560590\ttotal: 888ms\tremaining: 256ms\n",
      "776:\tlearn: 0.2558616\ttotal: 889ms\tremaining: 255ms\n",
      "777:\tlearn: 0.2557106\ttotal: 890ms\tremaining: 254ms\n",
      "778:\tlearn: 0.2555065\ttotal: 891ms\tremaining: 253ms\n",
      "779:\tlearn: 0.2552368\ttotal: 892ms\tremaining: 252ms\n",
      "780:\tlearn: 0.2551509\ttotal: 893ms\tremaining: 251ms\n",
      "781:\tlearn: 0.2549396\ttotal: 894ms\tremaining: 249ms\n",
      "782:\tlearn: 0.2547910\ttotal: 895ms\tremaining: 248ms\n",
      "783:\tlearn: 0.2546922\ttotal: 896ms\tremaining: 247ms\n",
      "784:\tlearn: 0.2546199\ttotal: 896ms\tremaining: 246ms\n",
      "785:\tlearn: 0.2544121\ttotal: 897ms\tremaining: 244ms\n",
      "786:\tlearn: 0.2542402\ttotal: 898ms\tremaining: 243ms\n",
      "787:\tlearn: 0.2540712\ttotal: 899ms\tremaining: 242ms\n",
      "788:\tlearn: 0.2537116\ttotal: 901ms\tremaining: 241ms\n",
      "789:\tlearn: 0.2535501\ttotal: 903ms\tremaining: 240ms\n",
      "790:\tlearn: 0.2533952\ttotal: 904ms\tremaining: 239ms\n",
      "791:\tlearn: 0.2532562\ttotal: 905ms\tremaining: 238ms\n",
      "792:\tlearn: 0.2531369\ttotal: 907ms\tremaining: 237ms\n",
      "793:\tlearn: 0.2530374\ttotal: 908ms\tremaining: 236ms\n",
      "794:\tlearn: 0.2529462\ttotal: 909ms\tremaining: 234ms\n",
      "795:\tlearn: 0.2528356\ttotal: 909ms\tremaining: 233ms\n",
      "796:\tlearn: 0.2527320\ttotal: 910ms\tremaining: 232ms\n",
      "797:\tlearn: 0.2526749\ttotal: 911ms\tremaining: 231ms\n",
      "798:\tlearn: 0.2525499\ttotal: 912ms\tremaining: 229ms\n",
      "799:\tlearn: 0.2524198\ttotal: 913ms\tremaining: 228ms\n",
      "800:\tlearn: 0.2523556\ttotal: 915ms\tremaining: 227ms\n",
      "801:\tlearn: 0.2523002\ttotal: 916ms\tremaining: 226ms\n",
      "802:\tlearn: 0.2522245\ttotal: 917ms\tremaining: 225ms\n",
      "803:\tlearn: 0.2521836\ttotal: 918ms\tremaining: 224ms\n",
      "804:\tlearn: 0.2521344\ttotal: 919ms\tremaining: 223ms\n",
      "805:\tlearn: 0.2520852\ttotal: 920ms\tremaining: 221ms\n",
      "806:\tlearn: 0.2519366\ttotal: 920ms\tremaining: 220ms\n",
      "807:\tlearn: 0.2518105\ttotal: 921ms\tremaining: 219ms\n",
      "808:\tlearn: 0.2517168\ttotal: 922ms\tremaining: 218ms\n",
      "809:\tlearn: 0.2516089\ttotal: 923ms\tremaining: 216ms\n",
      "810:\tlearn: 0.2515149\ttotal: 923ms\tremaining: 215ms\n",
      "811:\tlearn: 0.2514068\ttotal: 924ms\tremaining: 214ms\n",
      "812:\tlearn: 0.2512785\ttotal: 925ms\tremaining: 213ms\n",
      "813:\tlearn: 0.2509286\ttotal: 925ms\tremaining: 211ms\n",
      "814:\tlearn: 0.2508363\ttotal: 926ms\tremaining: 210ms\n",
      "815:\tlearn: 0.2507746\ttotal: 927ms\tremaining: 209ms\n",
      "816:\tlearn: 0.2506937\ttotal: 928ms\tremaining: 208ms\n",
      "817:\tlearn: 0.2505848\ttotal: 929ms\tremaining: 207ms\n",
      "818:\tlearn: 0.2504216\ttotal: 930ms\tremaining: 205ms\n",
      "819:\tlearn: 0.2503166\ttotal: 931ms\tremaining: 204ms\n",
      "820:\tlearn: 0.2499847\ttotal: 932ms\tremaining: 203ms\n",
      "821:\tlearn: 0.2499629\ttotal: 932ms\tremaining: 202ms\n",
      "822:\tlearn: 0.2499138\ttotal: 933ms\tremaining: 201ms\n",
      "823:\tlearn: 0.2497189\ttotal: 934ms\tremaining: 199ms\n",
      "824:\tlearn: 0.2495929\ttotal: 935ms\tremaining: 198ms\n",
      "825:\tlearn: 0.2492926\ttotal: 935ms\tremaining: 197ms\n",
      "826:\tlearn: 0.2490135\ttotal: 936ms\tremaining: 196ms\n",
      "827:\tlearn: 0.2487896\ttotal: 937ms\tremaining: 195ms\n",
      "828:\tlearn: 0.2486902\ttotal: 938ms\tremaining: 193ms\n",
      "829:\tlearn: 0.2482988\ttotal: 939ms\tremaining: 192ms\n",
      "830:\tlearn: 0.2482862\ttotal: 939ms\tremaining: 191ms\n",
      "831:\tlearn: 0.2480121\ttotal: 942ms\tremaining: 190ms\n",
      "832:\tlearn: 0.2478449\ttotal: 943ms\tremaining: 189ms\n",
      "833:\tlearn: 0.2476985\ttotal: 944ms\tremaining: 188ms\n",
      "834:\tlearn: 0.2475808\ttotal: 945ms\tremaining: 187ms\n",
      "835:\tlearn: 0.2474852\ttotal: 947ms\tremaining: 186ms\n",
      "836:\tlearn: 0.2473715\ttotal: 948ms\tremaining: 185ms\n",
      "837:\tlearn: 0.2472966\ttotal: 948ms\tremaining: 183ms\n",
      "838:\tlearn: 0.2471281\ttotal: 949ms\tremaining: 182ms\n",
      "839:\tlearn: 0.2469708\ttotal: 950ms\tremaining: 181ms\n",
      "840:\tlearn: 0.2469189\ttotal: 951ms\tremaining: 180ms\n",
      "841:\tlearn: 0.2468131\ttotal: 952ms\tremaining: 179ms\n",
      "842:\tlearn: 0.2467694\ttotal: 952ms\tremaining: 177ms\n",
      "843:\tlearn: 0.2466396\ttotal: 954ms\tremaining: 176ms\n",
      "844:\tlearn: 0.2465488\ttotal: 958ms\tremaining: 176ms\n",
      "845:\tlearn: 0.2463784\ttotal: 959ms\tremaining: 175ms\n",
      "846:\tlearn: 0.2463218\ttotal: 961ms\tremaining: 174ms\n",
      "847:\tlearn: 0.2461581\ttotal: 963ms\tremaining: 173ms\n",
      "848:\tlearn: 0.2460660\ttotal: 964ms\tremaining: 172ms\n",
      "849:\tlearn: 0.2460559\ttotal: 965ms\tremaining: 170ms\n",
      "850:\tlearn: 0.2458399\ttotal: 966ms\tremaining: 169ms\n",
      "851:\tlearn: 0.2455662\ttotal: 967ms\tremaining: 168ms\n",
      "852:\tlearn: 0.2454987\ttotal: 967ms\tremaining: 167ms\n",
      "853:\tlearn: 0.2452838\ttotal: 969ms\tremaining: 166ms\n",
      "854:\tlearn: 0.2452135\ttotal: 971ms\tremaining: 165ms\n",
      "855:\tlearn: 0.2450047\ttotal: 972ms\tremaining: 163ms\n",
      "856:\tlearn: 0.2448376\ttotal: 973ms\tremaining: 162ms\n",
      "857:\tlearn: 0.2447274\ttotal: 974ms\tremaining: 161ms\n",
      "858:\tlearn: 0.2444229\ttotal: 975ms\tremaining: 160ms\n",
      "859:\tlearn: 0.2443476\ttotal: 976ms\tremaining: 159ms\n",
      "860:\tlearn: 0.2442354\ttotal: 977ms\tremaining: 158ms\n",
      "861:\tlearn: 0.2440376\ttotal: 978ms\tremaining: 157ms\n",
      "862:\tlearn: 0.2439165\ttotal: 979ms\tremaining: 155ms\n",
      "863:\tlearn: 0.2438014\ttotal: 980ms\tremaining: 154ms\n",
      "864:\tlearn: 0.2437922\ttotal: 982ms\tremaining: 153ms\n",
      "865:\tlearn: 0.2436153\ttotal: 984ms\tremaining: 152ms\n",
      "866:\tlearn: 0.2435258\ttotal: 985ms\tremaining: 151ms\n",
      "867:\tlearn: 0.2433857\ttotal: 986ms\tremaining: 150ms\n",
      "868:\tlearn: 0.2433074\ttotal: 988ms\tremaining: 149ms\n",
      "869:\tlearn: 0.2429431\ttotal: 989ms\tremaining: 148ms\n",
      "870:\tlearn: 0.2428172\ttotal: 990ms\tremaining: 147ms\n",
      "871:\tlearn: 0.2427188\ttotal: 991ms\tremaining: 145ms\n",
      "872:\tlearn: 0.2425662\ttotal: 992ms\tremaining: 144ms\n",
      "873:\tlearn: 0.2423426\ttotal: 993ms\tremaining: 143ms\n",
      "874:\tlearn: 0.2422808\ttotal: 995ms\tremaining: 142ms\n",
      "875:\tlearn: 0.2421369\ttotal: 995ms\tremaining: 141ms\n",
      "876:\tlearn: 0.2420378\ttotal: 997ms\tremaining: 140ms\n",
      "877:\tlearn: 0.2419152\ttotal: 999ms\tremaining: 139ms\n",
      "878:\tlearn: 0.2417880\ttotal: 1000ms\tremaining: 138ms\n",
      "879:\tlearn: 0.2416538\ttotal: 1s\tremaining: 136ms\n",
      "880:\tlearn: 0.2415220\ttotal: 1s\tremaining: 135ms\n",
      "881:\tlearn: 0.2414629\ttotal: 1s\tremaining: 134ms\n",
      "882:\tlearn: 0.2413939\ttotal: 1s\tremaining: 133ms\n",
      "883:\tlearn: 0.2412458\ttotal: 1s\tremaining: 132ms\n",
      "884:\tlearn: 0.2411006\ttotal: 1.01s\tremaining: 131ms\n",
      "885:\tlearn: 0.2410620\ttotal: 1.01s\tremaining: 130ms\n",
      "886:\tlearn: 0.2408174\ttotal: 1.01s\tremaining: 128ms\n",
      "887:\tlearn: 0.2407078\ttotal: 1.01s\tremaining: 127ms\n",
      "888:\tlearn: 0.2405154\ttotal: 1.01s\tremaining: 126ms\n",
      "889:\tlearn: 0.2404001\ttotal: 1.01s\tremaining: 125ms\n",
      "890:\tlearn: 0.2403273\ttotal: 1.01s\tremaining: 124ms\n",
      "891:\tlearn: 0.2402428\ttotal: 1.01s\tremaining: 123ms\n",
      "892:\tlearn: 0.2400368\ttotal: 1.02s\tremaining: 122ms\n",
      "893:\tlearn: 0.2399296\ttotal: 1.02s\tremaining: 121ms\n",
      "894:\tlearn: 0.2399024\ttotal: 1.02s\tremaining: 120ms\n",
      "895:\tlearn: 0.2397886\ttotal: 1.02s\tremaining: 119ms\n",
      "896:\tlearn: 0.2397351\ttotal: 1.02s\tremaining: 118ms\n",
      "897:\tlearn: 0.2396644\ttotal: 1.03s\tremaining: 117ms\n",
      "898:\tlearn: 0.2396055\ttotal: 1.03s\tremaining: 116ms\n",
      "899:\tlearn: 0.2395300\ttotal: 1.03s\tremaining: 115ms\n",
      "900:\tlearn: 0.2394714\ttotal: 1.03s\tremaining: 114ms\n",
      "901:\tlearn: 0.2392491\ttotal: 1.03s\tremaining: 113ms\n",
      "902:\tlearn: 0.2391995\ttotal: 1.04s\tremaining: 111ms\n",
      "903:\tlearn: 0.2391709\ttotal: 1.04s\tremaining: 110ms\n",
      "904:\tlearn: 0.2389586\ttotal: 1.04s\tremaining: 109ms\n",
      "905:\tlearn: 0.2388027\ttotal: 1.04s\tremaining: 108ms\n",
      "906:\tlearn: 0.2387978\ttotal: 1.04s\tremaining: 107ms\n",
      "907:\tlearn: 0.2387466\ttotal: 1.04s\tremaining: 106ms\n",
      "908:\tlearn: 0.2385413\ttotal: 1.04s\tremaining: 105ms\n",
      "909:\tlearn: 0.2384672\ttotal: 1.05s\tremaining: 104ms\n",
      "910:\tlearn: 0.2383225\ttotal: 1.05s\tremaining: 103ms\n",
      "911:\tlearn: 0.2381583\ttotal: 1.05s\tremaining: 101ms\n",
      "912:\tlearn: 0.2380355\ttotal: 1.05s\tremaining: 100ms\n",
      "913:\tlearn: 0.2379291\ttotal: 1.05s\tremaining: 99.1ms\n",
      "914:\tlearn: 0.2378412\ttotal: 1.05s\tremaining: 98ms\n",
      "915:\tlearn: 0.2377190\ttotal: 1.05s\tremaining: 96.8ms\n",
      "916:\tlearn: 0.2374627\ttotal: 1.06s\tremaining: 95.7ms\n",
      "917:\tlearn: 0.2373047\ttotal: 1.06s\tremaining: 94.5ms\n",
      "918:\tlearn: 0.2371919\ttotal: 1.06s\tremaining: 93.4ms\n",
      "919:\tlearn: 0.2370892\ttotal: 1.06s\tremaining: 92.3ms\n",
      "920:\tlearn: 0.2369238\ttotal: 1.06s\tremaining: 91.1ms\n",
      "921:\tlearn: 0.2368049\ttotal: 1.06s\tremaining: 90ms\n",
      "922:\tlearn: 0.2367767\ttotal: 1.06s\tremaining: 88.9ms\n",
      "923:\tlearn: 0.2366487\ttotal: 1.07s\tremaining: 87.8ms\n",
      "924:\tlearn: 0.2364891\ttotal: 1.07s\tremaining: 86.6ms\n",
      "925:\tlearn: 0.2363924\ttotal: 1.07s\tremaining: 85.5ms\n",
      "926:\tlearn: 0.2362794\ttotal: 1.07s\tremaining: 84.3ms\n",
      "927:\tlearn: 0.2360830\ttotal: 1.07s\tremaining: 83.3ms\n",
      "928:\tlearn: 0.2360279\ttotal: 1.07s\tremaining: 82.1ms\n",
      "929:\tlearn: 0.2358319\ttotal: 1.07s\tremaining: 81ms\n",
      "930:\tlearn: 0.2355874\ttotal: 1.08s\tremaining: 79.9ms\n",
      "931:\tlearn: 0.2353181\ttotal: 1.1s\tremaining: 80.6ms\n",
      "932:\tlearn: 0.2352794\ttotal: 1.1s\tremaining: 79.3ms\n",
      "933:\tlearn: 0.2351444\ttotal: 1.1s\tremaining: 78.2ms\n",
      "934:\tlearn: 0.2350680\ttotal: 1.11s\tremaining: 77ms\n",
      "935:\tlearn: 0.2348691\ttotal: 1.11s\tremaining: 75.8ms\n",
      "936:\tlearn: 0.2347939\ttotal: 1.11s\tremaining: 74.7ms\n",
      "937:\tlearn: 0.2346629\ttotal: 1.11s\tremaining: 73.6ms\n",
      "938:\tlearn: 0.2345975\ttotal: 1.11s\tremaining: 72.4ms\n",
      "939:\tlearn: 0.2345180\ttotal: 1.11s\tremaining: 71.2ms\n",
      "940:\tlearn: 0.2344475\ttotal: 1.12s\tremaining: 70ms\n",
      "941:\tlearn: 0.2342140\ttotal: 1.12s\tremaining: 68.8ms\n",
      "942:\tlearn: 0.2341097\ttotal: 1.12s\tremaining: 67.6ms\n",
      "943:\tlearn: 0.2340391\ttotal: 1.12s\tremaining: 66.4ms\n",
      "944:\tlearn: 0.2338482\ttotal: 1.12s\tremaining: 65.2ms\n",
      "945:\tlearn: 0.2337670\ttotal: 1.12s\tremaining: 64ms\n",
      "946:\tlearn: 0.2336912\ttotal: 1.12s\tremaining: 62.8ms\n",
      "947:\tlearn: 0.2336563\ttotal: 1.12s\tremaining: 61.6ms\n",
      "948:\tlearn: 0.2334591\ttotal: 1.12s\tremaining: 60.4ms\n",
      "949:\tlearn: 0.2332392\ttotal: 1.13s\tremaining: 59.2ms\n",
      "950:\tlearn: 0.2332114\ttotal: 1.13s\tremaining: 58ms\n",
      "951:\tlearn: 0.2330874\ttotal: 1.13s\tremaining: 56.9ms\n",
      "952:\tlearn: 0.2330187\ttotal: 1.13s\tremaining: 55.7ms\n",
      "953:\tlearn: 0.2328537\ttotal: 1.13s\tremaining: 54.5ms\n",
      "954:\tlearn: 0.2327715\ttotal: 1.13s\tremaining: 53.3ms\n",
      "955:\tlearn: 0.2327015\ttotal: 1.13s\tremaining: 52.1ms\n",
      "956:\tlearn: 0.2326119\ttotal: 1.13s\tremaining: 50.9ms\n",
      "957:\tlearn: 0.2325446\ttotal: 1.13s\tremaining: 49.8ms\n",
      "958:\tlearn: 0.2324439\ttotal: 1.18s\tremaining: 50.6ms\n",
      "959:\tlearn: 0.2323126\ttotal: 1.19s\tremaining: 49.4ms\n",
      "960:\tlearn: 0.2322923\ttotal: 1.19s\tremaining: 48.1ms\n",
      "961:\tlearn: 0.2321928\ttotal: 1.19s\tremaining: 47ms\n",
      "962:\tlearn: 0.2320015\ttotal: 1.19s\tremaining: 45.7ms\n",
      "963:\tlearn: 0.2318246\ttotal: 1.19s\tremaining: 44.5ms\n",
      "964:\tlearn: 0.2317465\ttotal: 1.19s\tremaining: 43.2ms\n",
      "965:\tlearn: 0.2315904\ttotal: 1.19s\tremaining: 42ms\n",
      "966:\tlearn: 0.2314859\ttotal: 1.19s\tremaining: 40.8ms\n",
      "967:\tlearn: 0.2312507\ttotal: 1.2s\tremaining: 39.5ms\n",
      "968:\tlearn: 0.2309520\ttotal: 1.2s\tremaining: 38.3ms\n",
      "969:\tlearn: 0.2309048\ttotal: 1.2s\tremaining: 37.1ms\n",
      "970:\tlearn: 0.2307125\ttotal: 1.2s\tremaining: 35.8ms\n",
      "971:\tlearn: 0.2305694\ttotal: 1.2s\tremaining: 34.6ms\n",
      "972:\tlearn: 0.2303315\ttotal: 1.2s\tremaining: 33.4ms\n",
      "973:\tlearn: 0.2302176\ttotal: 1.21s\tremaining: 32.2ms\n",
      "974:\tlearn: 0.2301783\ttotal: 1.21s\tremaining: 30.9ms\n",
      "975:\tlearn: 0.2300621\ttotal: 1.21s\tremaining: 29.7ms\n",
      "976:\tlearn: 0.2300354\ttotal: 1.21s\tremaining: 28.5ms\n",
      "977:\tlearn: 0.2299465\ttotal: 1.21s\tremaining: 27.2ms\n",
      "978:\tlearn: 0.2298632\ttotal: 1.21s\tremaining: 26ms\n",
      "979:\tlearn: 0.2298189\ttotal: 1.21s\tremaining: 24.8ms\n",
      "980:\tlearn: 0.2296387\ttotal: 1.22s\tremaining: 23.6ms\n",
      "981:\tlearn: 0.2295941\ttotal: 1.22s\tremaining: 22.3ms\n",
      "982:\tlearn: 0.2295267\ttotal: 1.25s\tremaining: 21.7ms\n",
      "983:\tlearn: 0.2293626\ttotal: 1.26s\tremaining: 20.4ms\n",
      "984:\tlearn: 0.2292447\ttotal: 1.26s\tremaining: 19.2ms\n",
      "985:\tlearn: 0.2291602\ttotal: 1.26s\tremaining: 17.9ms\n",
      "986:\tlearn: 0.2290910\ttotal: 1.26s\tremaining: 16.6ms\n",
      "987:\tlearn: 0.2288429\ttotal: 1.26s\tremaining: 15.4ms\n",
      "988:\tlearn: 0.2286113\ttotal: 1.27s\tremaining: 14.1ms\n",
      "989:\tlearn: 0.2285226\ttotal: 1.27s\tremaining: 12.8ms\n",
      "990:\tlearn: 0.2284719\ttotal: 1.27s\tremaining: 11.5ms\n",
      "991:\tlearn: 0.2283681\ttotal: 1.27s\tremaining: 10.2ms\n",
      "992:\tlearn: 0.2283135\ttotal: 1.27s\tremaining: 8.96ms\n",
      "993:\tlearn: 0.2282394\ttotal: 1.27s\tremaining: 7.68ms\n",
      "994:\tlearn: 0.2282049\ttotal: 1.27s\tremaining: 6.4ms\n",
      "995:\tlearn: 0.2281010\ttotal: 1.28s\tremaining: 5.13ms\n",
      "996:\tlearn: 0.2279369\ttotal: 1.28s\tremaining: 3.85ms\n",
      "997:\tlearn: 0.2278257\ttotal: 1.28s\tremaining: 2.57ms\n",
      "998:\tlearn: 0.2277140\ttotal: 1.28s\tremaining: 1.28ms\n",
      "999:\tlearn: 0.2276049\ttotal: 1.28s\tremaining: 0us\n"
     ]
    },
    {
     "output_type": "execute_result",
     "data": {
      "text/plain": [
       "<pandas.io.formats.style.Styler at 0x27859849b50>"
      ],
      "text/html": "<style  type=\"text/css\" >\n#T_d432f_row0_col1{\n            width:  10em;\n             height:  80%;\n            background:  linear-gradient(90deg,#5fba7d 82.7%, transparent 82.7%);\n        }#T_d432f_row0_col2,#T_d432f_row1_col1{\n            width:  10em;\n             height:  80%;\n            background:  linear-gradient(90deg,#5fba7d 81.6%, transparent 81.6%);\n        }#T_d432f_row1_col2{\n            width:  10em;\n             height:  80%;\n            background:  linear-gradient(90deg,#5fba7d 79.6%, transparent 79.6%);\n        }#T_d432f_row2_col1,#T_d432f_row3_col1,#T_d432f_row4_col1{\n            width:  10em;\n             height:  80%;\n            background:  linear-gradient(90deg,#5fba7d 81.0%, transparent 81.0%);\n        }#T_d432f_row2_col2{\n            width:  10em;\n             height:  80%;\n            background:  linear-gradient(90deg,#5fba7d 79.7%, transparent 79.7%);\n        }#T_d432f_row3_col2{\n            width:  10em;\n             height:  80%;\n            background:  linear-gradient(90deg,#5fba7d 79.1%, transparent 79.1%);\n        }#T_d432f_row4_col2{\n            width:  10em;\n             height:  80%;\n            background:  linear-gradient(90deg,#5fba7d 78.9%, transparent 78.9%);\n        }#T_d432f_row5_col1{\n            width:  10em;\n             height:  80%;\n            background:  linear-gradient(90deg,#5fba7d 80.4%, transparent 80.4%);\n        }#T_d432f_row5_col2{\n            width:  10em;\n             height:  80%;\n            background:  linear-gradient(90deg,#5fba7d 79.2%, transparent 79.2%);\n        }#T_d432f_row6_col1{\n            width:  10em;\n             height:  80%;\n            background:  linear-gradient(90deg,#5fba7d 79.3%, transparent 79.3%);\n        }#T_d432f_row6_col2{\n            width:  10em;\n             height:  80%;\n            background:  linear-gradient(90deg,#5fba7d 77.5%, transparent 77.5%);\n        }#T_d432f_row7_col1{\n            width:  10em;\n             height:  80%;\n            background:  linear-gradient(90deg,#5fba7d 77.7%, transparent 77.7%);\n        }#T_d432f_row7_col2{\n            width:  10em;\n             height:  80%;\n            background:  linear-gradient(90deg,#5fba7d 76.1%, transparent 76.1%);\n        }#T_d432f_row8_col1{\n            width:  10em;\n             height:  80%;\n            background:  linear-gradient(90deg,#5fba7d 69.8%, transparent 69.8%);\n        }#T_d432f_row8_col2{\n            width:  10em;\n             height:  80%;\n            background:  linear-gradient(90deg,#5fba7d 68.4%, transparent 68.4%);\n        }</style><table id=\"T_d432f_\" ><thead>    <tr>        <th class=\"blank level0\" ></th>        <th class=\"col_heading level0 col0\" >Model</th>        <th class=\"col_heading level0 col1\" >Accuracy</th>        <th class=\"col_heading level0 col2\" >Bal Acc.</th>        <th class=\"col_heading level0 col3\" >Time</th>    </tr></thead><tbody>\n                <tr>\n                        <th id=\"T_d432f_level0_row0\" class=\"row_heading level0 row0\" >1</th>\n                        <td id=\"T_d432f_row0_col0\" class=\"data row0 col0\" >Decision Tree</td>\n                        <td id=\"T_d432f_row0_col1\" class=\"data row0 col1\" >82.681564</td>\n                        <td id=\"T_d432f_row0_col2\" class=\"data row0 col2\" >81.587615</td>\n                        <td id=\"T_d432f_row0_col3\" class=\"data row0 col3\" >0.016949</td>\n            </tr>\n            <tr>\n                        <th id=\"T_d432f_level0_row1\" class=\"row_heading level0 row1\" >2</th>\n                        <td id=\"T_d432f_row1_col0\" class=\"data row1 col0\" >CatBoost</td>\n                        <td id=\"T_d432f_row1_col1\" class=\"data row1 col1\" >81.564246</td>\n                        <td id=\"T_d432f_row1_col2\" class=\"data row1 col2\" >79.598155</td>\n                        <td id=\"T_d432f_row1_col3\" class=\"data row1 col3\" >2.269317</td>\n            </tr>\n            <tr>\n                        <th id=\"T_d432f_level0_row2\" class=\"row_heading level0 row2\" >3</th>\n                        <td id=\"T_d432f_row2_col0\" class=\"data row2 col0\" >Skl GBM</td>\n                        <td id=\"T_d432f_row2_col1\" class=\"data row2 col1\" >81.005587</td>\n                        <td id=\"T_d432f_row2_col2\" class=\"data row2 col2\" >79.683794</td>\n                        <td id=\"T_d432f_row2_col3\" class=\"data row2 col3\" >0.133642</td>\n            </tr>\n            <tr>\n                        <th id=\"T_d432f_level0_row3\" class=\"row_heading level0 row3\" >4</th>\n                        <td id=\"T_d432f_row3_col0\" class=\"data row3 col0\" >XGBoost</td>\n                        <td id=\"T_d432f_row3_col1\" class=\"data row3 col1\" >81.005587</td>\n                        <td id=\"T_d432f_row3_col2\" class=\"data row3 col2\" >79.143610</td>\n                        <td id=\"T_d432f_row3_col3\" class=\"data row3 col3\" >0.210437</td>\n            </tr>\n            <tr>\n                        <th id=\"T_d432f_level0_row4\" class=\"row_heading level0 row4\" >5</th>\n                        <td id=\"T_d432f_row4_col0\" class=\"data row4 col0\" >LightGBM</td>\n                        <td id=\"T_d432f_row4_col1\" class=\"data row4 col1\" >81.005587</td>\n                        <td id=\"T_d432f_row4_col2\" class=\"data row4 col2\" >78.873518</td>\n                        <td id=\"T_d432f_row4_col3\" class=\"data row4 col3\" >0.089758</td>\n            </tr>\n            <tr>\n                        <th id=\"T_d432f_level0_row5\" class=\"row_heading level0 row5\" >6</th>\n                        <td id=\"T_d432f_row5_col0\" class=\"data row5 col0\" >Skl HistGBM</td>\n                        <td id=\"T_d432f_row5_col1\" class=\"data row5 col1\" >80.446927</td>\n                        <td id=\"T_d432f_row5_col2\" class=\"data row5 col2\" >79.229249</td>\n                        <td id=\"T_d432f_row5_col3\" class=\"data row5 col3\" >0.166681</td>\n            </tr>\n            <tr>\n                        <th id=\"T_d432f_level0_row6\" class=\"row_heading level0 row6\" >7</th>\n                        <td id=\"T_d432f_row6_col0\" class=\"data row6 col0\" >Random Forest</td>\n                        <td id=\"T_d432f_row6_col1\" class=\"data row6 col1\" >79.329609</td>\n                        <td id=\"T_d432f_row6_col2\" class=\"data row6 col2\" >77.509881</td>\n                        <td id=\"T_d432f_row6_col3\" class=\"data row6 col3\" >0.289140</td>\n            </tr>\n            <tr>\n                        <th id=\"T_d432f_level0_row7\" class=\"row_heading level0 row7\" >8</th>\n                        <td id=\"T_d432f_row7_col0\" class=\"data row7 col0\" >Extra Trees</td>\n                        <td id=\"T_d432f_row7_col1\" class=\"data row7 col1\" >77.653631</td>\n                        <td id=\"T_d432f_row7_col2\" class=\"data row7 col2\" >76.146245</td>\n                        <td id=\"T_d432f_row7_col3\" class=\"data row7 col3\" >0.203958</td>\n            </tr>\n            <tr>\n                        <th id=\"T_d432f_level0_row8\" class=\"row_heading level0 row8\" >9</th>\n                        <td id=\"T_d432f_row8_col0\" class=\"data row8 col0\" >AdaBoost</td>\n                        <td id=\"T_d432f_row8_col1\" class=\"data row8 col1\" >69.832402</td>\n                        <td id=\"T_d432f_row8_col2\" class=\"data row8 col2\" >68.432148</td>\n                        <td id=\"T_d432f_row8_col3\" class=\"data row8 col3\" >0.123186</td>\n            </tr>\n    </tbody></table>"
     },
     "metadata": {},
     "execution_count": 24
    }
   ],
   "source": [
    "\n",
    "from sklearn.model_selection import cross_val_predict\n",
    "\n",
    "skf = model_selection.StratifiedKFold(\n",
    "    n_splits= 10,\n",
    "    shuffle=True,\n",
    "    random_state = 0\n",
    ")\n",
    "\n",
    "# YOUR CODE HERE\n",
    "#raise NotImplementedError()\n",
    "\n",
    "\n",
    "results = pd.DataFrame({'Model': [], 'Accuracy': [], 'Bal Acc.': [], 'Time': []})\n",
    "\n",
    "\n",
    "for model_name, model in tree_classifiers.items():\n",
    "\n",
    "    start_time = time.time()\n",
    "    model.fit(x_train, y_train)\n",
    "    total_time = time.time() - start_time\n",
    "    \n",
    "    pred = cross_val_predict(model, x, y, cv=5)\n",
    "    \n",
    "    results = results.append({\"Model\":    model_name,\n",
    "                              \"Accuracy\": metrics.accuracy_score(y, pred)*100,\n",
    "                              \"Bal Acc.\": metrics.balanced_accuracy_score(y, pred)*100,\n",
    "                              \"Time\":     total_time},\n",
    "                              ignore_index=True)\n",
    "\n",
    "                              \n",
    "\n",
    "\n",
    "# YOUR CODE HERE\n",
    "#raise NotImplementedError()\n",
    "\n",
    "\n",
    "results_ord = results.sort_values(by=['Accuracy'], ascending=False, ignore_index=True)\n",
    "results_ord.index += 1 \n",
    "results_ord.style.bar(subset=['Accuracy', 'Bal Acc.'], vmin=0, vmax=100, color='#5fba7d')\n",
    "\n"
   ]
  },
  {
   "cell_type": "code",
   "execution_count": 25,
   "metadata": {
    "deletable": false,
    "editable": false,
    "nbgrader": {
     "cell_type": "code",
     "checksum": "355f8e8321aae7be679a8d16b25172f2",
     "grade": true,
     "grade_id": "cell-57cc085faad513cf",
     "locked": true,
     "points": 3,
     "schema_version": 3,
     "solution": false,
     "task": false
    }
   },
   "outputs": [
    {
     "output_type": "error",
     "ename": "AssertionError",
     "evalue": "",
     "traceback": [
      "\u001b[1;31m---------------------------------------------------------------------------\u001b[0m",
      "\u001b[1;31mAssertionError\u001b[0m                            Traceback (most recent call last)",
      "\u001b[1;32m<ipython-input-25-50685871c2e2>\u001b[0m in \u001b[0;36m<module>\u001b[1;34m\u001b[0m\n\u001b[1;32m----> 1\u001b[1;33m \u001b[1;32massert\u001b[0m \u001b[0mresults_ord\u001b[0m\u001b[1;33m[\u001b[0m\u001b[1;34m\"Accuracy\"\u001b[0m\u001b[1;33m]\u001b[0m\u001b[1;33m.\u001b[0m\u001b[0mmin\u001b[0m\u001b[1;33m(\u001b[0m\u001b[1;33m)\u001b[0m \u001b[1;33m>\u001b[0m \u001b[1;36m75\u001b[0m\u001b[1;33m\u001b[0m\u001b[1;33m\u001b[0m\u001b[0m\n\u001b[0m\u001b[0;32m      2\u001b[0m \u001b[1;32massert\u001b[0m \u001b[0mresults_ord\u001b[0m\u001b[1;33m[\u001b[0m\u001b[1;34m\"Bal Acc.\"\u001b[0m\u001b[1;33m]\u001b[0m\u001b[1;33m.\u001b[0m\u001b[0mmin\u001b[0m\u001b[1;33m(\u001b[0m\u001b[1;33m)\u001b[0m \u001b[1;33m>\u001b[0m \u001b[1;36m75\u001b[0m\u001b[1;33m\u001b[0m\u001b[1;33m\u001b[0m\u001b[0m\n\u001b[0;32m      3\u001b[0m \u001b[1;32massert\u001b[0m \u001b[0mlen\u001b[0m\u001b[1;33m(\u001b[0m\u001b[0mresults_ord\u001b[0m\u001b[1;33m)\u001b[0m \u001b[1;33m==\u001b[0m \u001b[1;36m9\u001b[0m\u001b[1;33m\u001b[0m\u001b[1;33m\u001b[0m\u001b[0m\n",
      "\u001b[1;31mAssertionError\u001b[0m: "
     ]
    }
   ],
   "source": [
    "assert results_ord[\"Accuracy\"].min() > 75\n",
    "assert results_ord[\"Bal Acc.\"].min() > 75\n",
    "assert len(results_ord) == 9"
   ]
  },
  {
   "cell_type": "markdown",
   "metadata": {},
   "source": [
    "# Exercise 7.1\n",
    "Train with all data the best model"
   ]
  },
  {
   "cell_type": "code",
   "execution_count": 26,
   "metadata": {
    "colab": {},
    "colab_type": "code",
    "deletable": false,
    "id": "monuuQhHL7B_",
    "nbgrader": {
     "cell_type": "code",
     "checksum": "088ae511ec2eb947de2bff002e75d460",
     "grade": false,
     "grade_id": "cell-031a656e1e811717",
     "locked": false,
     "schema_version": 3,
     "solution": true,
     "task": false
    }
   },
   "outputs": [
    {
     "output_type": "execute_result",
     "data": {
      "text/plain": [
       "Pipeline(steps=[('columntransformer',\n",
       "                 ColumnTransformer(transformers=[('num',\n",
       "                                                  Pipeline(steps=[('imputer',\n",
       "                                                                   SimpleImputer())]),\n",
       "                                                  ['Pclass', 'SibSp', 'Parch',\n",
       "                                                   'Fare', 'Age']),\n",
       "                                                 ('cat',\n",
       "                                                  Pipeline(steps=[('imputer',\n",
       "                                                                   SimpleImputer(fill_value='missing',\n",
       "                                                                                 strategy='constant')),\n",
       "                                                                  ('onehot',\n",
       "                                                                   OneHotEncoder(handle_unknown='ignore'))]),\n",
       "                                                  ['Sex', 'Embarked',\n",
       "                                                   'Title'])])),\n",
       "                ('gradientboostingclassifier', GradientBoostingClassifier())])"
      ],
      "text/html": "<style>#sk-65bc6d2e-146f-42d9-a8db-b8cc21907b3b {color: black;background-color: white;}#sk-65bc6d2e-146f-42d9-a8db-b8cc21907b3b pre{padding: 0;}#sk-65bc6d2e-146f-42d9-a8db-b8cc21907b3b div.sk-toggleable {background-color: white;}#sk-65bc6d2e-146f-42d9-a8db-b8cc21907b3b label.sk-toggleable__label {cursor: pointer;display: block;width: 100%;margin-bottom: 0;padding: 0.2em 0.3em;box-sizing: border-box;text-align: center;}#sk-65bc6d2e-146f-42d9-a8db-b8cc21907b3b div.sk-toggleable__content {max-height: 0;max-width: 0;overflow: hidden;text-align: left;background-color: #f0f8ff;}#sk-65bc6d2e-146f-42d9-a8db-b8cc21907b3b div.sk-toggleable__content pre {margin: 0.2em;color: black;border-radius: 0.25em;background-color: #f0f8ff;}#sk-65bc6d2e-146f-42d9-a8db-b8cc21907b3b input.sk-toggleable__control:checked~div.sk-toggleable__content {max-height: 200px;max-width: 100%;overflow: auto;}#sk-65bc6d2e-146f-42d9-a8db-b8cc21907b3b div.sk-estimator input.sk-toggleable__control:checked~label.sk-toggleable__label {background-color: #d4ebff;}#sk-65bc6d2e-146f-42d9-a8db-b8cc21907b3b div.sk-label input.sk-toggleable__control:checked~label.sk-toggleable__label {background-color: #d4ebff;}#sk-65bc6d2e-146f-42d9-a8db-b8cc21907b3b input.sk-hidden--visually {border: 0;clip: rect(1px 1px 1px 1px);clip: rect(1px, 1px, 1px, 1px);height: 1px;margin: -1px;overflow: hidden;padding: 0;position: absolute;width: 1px;}#sk-65bc6d2e-146f-42d9-a8db-b8cc21907b3b div.sk-estimator {font-family: monospace;background-color: #f0f8ff;margin: 0.25em 0.25em;border: 1px dotted black;border-radius: 0.25em;box-sizing: border-box;}#sk-65bc6d2e-146f-42d9-a8db-b8cc21907b3b div.sk-estimator:hover {background-color: #d4ebff;}#sk-65bc6d2e-146f-42d9-a8db-b8cc21907b3b div.sk-parallel-item::after {content: \"\";width: 100%;border-bottom: 1px solid gray;flex-grow: 1;}#sk-65bc6d2e-146f-42d9-a8db-b8cc21907b3b div.sk-label:hover label.sk-toggleable__label {background-color: #d4ebff;}#sk-65bc6d2e-146f-42d9-a8db-b8cc21907b3b div.sk-serial::before {content: \"\";position: absolute;border-left: 1px solid gray;box-sizing: border-box;top: 2em;bottom: 0;left: 50%;}#sk-65bc6d2e-146f-42d9-a8db-b8cc21907b3b div.sk-serial {display: flex;flex-direction: column;align-items: center;background-color: white;}#sk-65bc6d2e-146f-42d9-a8db-b8cc21907b3b div.sk-item {z-index: 1;}#sk-65bc6d2e-146f-42d9-a8db-b8cc21907b3b div.sk-parallel {display: flex;align-items: stretch;justify-content: center;background-color: white;}#sk-65bc6d2e-146f-42d9-a8db-b8cc21907b3b div.sk-parallel-item {display: flex;flex-direction: column;position: relative;background-color: white;}#sk-65bc6d2e-146f-42d9-a8db-b8cc21907b3b div.sk-parallel-item:first-child::after {align-self: flex-end;width: 50%;}#sk-65bc6d2e-146f-42d9-a8db-b8cc21907b3b div.sk-parallel-item:last-child::after {align-self: flex-start;width: 50%;}#sk-65bc6d2e-146f-42d9-a8db-b8cc21907b3b div.sk-parallel-item:only-child::after {width: 0;}#sk-65bc6d2e-146f-42d9-a8db-b8cc21907b3b div.sk-dashed-wrapped {border: 1px dashed gray;margin: 0.2em;box-sizing: border-box;padding-bottom: 0.1em;background-color: white;position: relative;}#sk-65bc6d2e-146f-42d9-a8db-b8cc21907b3b div.sk-label label {font-family: monospace;font-weight: bold;background-color: white;display: inline-block;line-height: 1.2em;}#sk-65bc6d2e-146f-42d9-a8db-b8cc21907b3b div.sk-label-container {position: relative;z-index: 2;text-align: center;}#sk-65bc6d2e-146f-42d9-a8db-b8cc21907b3b div.sk-container {display: inline-block;position: relative;}</style><div id=\"sk-65bc6d2e-146f-42d9-a8db-b8cc21907b3b\" class\"sk-top-container\"><div class=\"sk-container\"><div class=\"sk-item sk-dashed-wrapped\"><div class=\"sk-label-container\"><div class=\"sk-label sk-toggleable\"><input class=\"sk-toggleable__control sk-hidden--visually\" id=\"44b653c2-3f14-4310-bbee-808836faca9e\" type=\"checkbox\" ><label class=\"sk-toggleable__label\" for=\"44b653c2-3f14-4310-bbee-808836faca9e\">Pipeline</label><div class=\"sk-toggleable__content\"><pre>Pipeline(steps=[('columntransformer',\n                 ColumnTransformer(transformers=[('num',\n                                                  Pipeline(steps=[('imputer',\n                                                                   SimpleImputer())]),\n                                                  ['Pclass', 'SibSp', 'Parch',\n                                                   'Fare', 'Age']),\n                                                 ('cat',\n                                                  Pipeline(steps=[('imputer',\n                                                                   SimpleImputer(fill_value='missing',\n                                                                                 strategy='constant')),\n                                                                  ('onehot',\n                                                                   OneHotEncoder(handle_unknown='ignore'))]),\n                                                  ['Sex', 'Embarked',\n                                                   'Title'])])),\n                ('gradientboostingclassifier', GradientBoostingClassifier())])</pre></div></div></div><div class=\"sk-serial\"><div class=\"sk-item sk-dashed-wrapped\"><div class=\"sk-label-container\"><div class=\"sk-label sk-toggleable\"><input class=\"sk-toggleable__control sk-hidden--visually\" id=\"21031187-9f0d-435b-878e-05cdad9fcd65\" type=\"checkbox\" ><label class=\"sk-toggleable__label\" for=\"21031187-9f0d-435b-878e-05cdad9fcd65\">columntransformer: ColumnTransformer</label><div class=\"sk-toggleable__content\"><pre>ColumnTransformer(transformers=[('num',\n                                 Pipeline(steps=[('imputer', SimpleImputer())]),\n                                 ['Pclass', 'SibSp', 'Parch', 'Fare', 'Age']),\n                                ('cat',\n                                 Pipeline(steps=[('imputer',\n                                                  SimpleImputer(fill_value='missing',\n                                                                strategy='constant')),\n                                                 ('onehot',\n                                                  OneHotEncoder(handle_unknown='ignore'))]),\n                                 ['Sex', 'Embarked', 'Title'])])</pre></div></div></div><div class=\"sk-parallel\"><div class=\"sk-parallel-item\"><div class=\"sk-item\"><div class=\"sk-label-container\"><div class=\"sk-label sk-toggleable\"><input class=\"sk-toggleable__control sk-hidden--visually\" id=\"304bfd07-8fce-4c7f-9568-e74bbae6628c\" type=\"checkbox\" ><label class=\"sk-toggleable__label\" for=\"304bfd07-8fce-4c7f-9568-e74bbae6628c\">num</label><div class=\"sk-toggleable__content\"><pre>['Pclass', 'SibSp', 'Parch', 'Fare', 'Age']</pre></div></div></div><div class=\"sk-serial\"><div class=\"sk-item\"><div class=\"sk-serial\"><div class=\"sk-item\"><div class=\"sk-estimator sk-toggleable\"><input class=\"sk-toggleable__control sk-hidden--visually\" id=\"6c6b0c3e-1005-40ca-8c80-fdd3280c62bd\" type=\"checkbox\" ><label class=\"sk-toggleable__label\" for=\"6c6b0c3e-1005-40ca-8c80-fdd3280c62bd\">SimpleImputer</label><div class=\"sk-toggleable__content\"><pre>SimpleImputer()</pre></div></div></div></div></div></div></div></div><div class=\"sk-parallel-item\"><div class=\"sk-item\"><div class=\"sk-label-container\"><div class=\"sk-label sk-toggleable\"><input class=\"sk-toggleable__control sk-hidden--visually\" id=\"36aefb62-c521-49c1-8ea0-0e880c210ccd\" type=\"checkbox\" ><label class=\"sk-toggleable__label\" for=\"36aefb62-c521-49c1-8ea0-0e880c210ccd\">cat</label><div class=\"sk-toggleable__content\"><pre>['Sex', 'Embarked', 'Title']</pre></div></div></div><div class=\"sk-serial\"><div class=\"sk-item\"><div class=\"sk-serial\"><div class=\"sk-item\"><div class=\"sk-estimator sk-toggleable\"><input class=\"sk-toggleable__control sk-hidden--visually\" id=\"11bcc7f2-55dd-49a5-a565-b3d7d606198c\" type=\"checkbox\" ><label class=\"sk-toggleable__label\" for=\"11bcc7f2-55dd-49a5-a565-b3d7d606198c\">SimpleImputer</label><div class=\"sk-toggleable__content\"><pre>SimpleImputer(fill_value='missing', strategy='constant')</pre></div></div></div><div class=\"sk-item\"><div class=\"sk-estimator sk-toggleable\"><input class=\"sk-toggleable__control sk-hidden--visually\" id=\"b37e8509-7a0c-4afd-90b7-ad6d768ae2a6\" type=\"checkbox\" ><label class=\"sk-toggleable__label\" for=\"b37e8509-7a0c-4afd-90b7-ad6d768ae2a6\">OneHotEncoder</label><div class=\"sk-toggleable__content\"><pre>OneHotEncoder(handle_unknown='ignore')</pre></div></div></div></div></div></div></div></div></div></div><div class=\"sk-item\"><div class=\"sk-estimator sk-toggleable\"><input class=\"sk-toggleable__control sk-hidden--visually\" id=\"7cc6b78c-9127-4222-b2c7-f8cbc9a2ad96\" type=\"checkbox\" ><label class=\"sk-toggleable__label\" for=\"7cc6b78c-9127-4222-b2c7-f8cbc9a2ad96\">GradientBoostingClassifier</label><div class=\"sk-toggleable__content\"><pre>GradientBoostingClassifier()</pre></div></div></div></div></div></div></div>"
     },
     "metadata": {},
     "execution_count": 26
    }
   ],
   "source": [
    "# best_model = tree_classifiers[\"SELECT MY BEST MODEL HERE\"]\n",
    "\n",
    "# Fit best model with all data\n",
    "\n",
    "best_model = tree_classifiers[\"Skl GBM\"]\n",
    "best_model.fit(x,y)"
   ]
  },
  {
   "cell_type": "markdown",
   "metadata": {},
   "source": [
    "# Exercise 7.2 (2pts)\n",
    "With your best model, generate the predicitions for test data (x_test)"
   ]
  },
  {
   "cell_type": "code",
   "execution_count": 27,
   "metadata": {
    "deletable": false,
    "nbgrader": {
     "cell_type": "code",
     "checksum": "031ab122b02b5833236370a53d148daf",
     "grade": false,
     "grade_id": "cell-44b93a0dbd4eb6fc",
     "locked": false,
     "schema_version": 3,
     "solution": true,
     "task": false
    }
   },
   "outputs": [],
   "source": [
    "test_pred = best_model.predict(x_test)"
   ]
  },
  {
   "cell_type": "code",
   "execution_count": 28,
   "metadata": {
    "deletable": false,
    "editable": false,
    "nbgrader": {
     "cell_type": "code",
     "checksum": "180b37cf4a0276bdf509220b1706a8aa",
     "grade": true,
     "grade_id": "cell-a29fc8d24284520e",
     "locked": true,
     "points": 2,
     "schema_version": 3,
     "solution": false,
     "task": false
    }
   },
   "outputs": [],
   "source": [
    "assert len(test_pred) == 418\n",
    "assert np.unique(test_pred).tolist() == [0,1]"
   ]
  },
  {
   "cell_type": "markdown",
   "metadata": {},
   "source": [
    "# Exercise 7.3\n",
    "\n",
    "Submit to kaggle.\n",
    "\n",
    "- You can use the kaggle command line app. Check https://github.com/Kaggle/kaggle-api"
   ]
  },
  {
   "cell_type": "code",
   "execution_count": 29,
   "metadata": {},
   "outputs": [
    {
     "output_type": "execute_result",
     "data": {
      "text/plain": [
       "             Survived\n",
       "PassengerId          \n",
       "892                 0\n",
       "893                 0\n",
       "894                 0\n",
       "895                 0\n",
       "896                 1"
      ],
      "text/html": "<div>\n<style scoped>\n    .dataframe tbody tr th:only-of-type {\n        vertical-align: middle;\n    }\n\n    .dataframe tbody tr th {\n        vertical-align: top;\n    }\n\n    .dataframe thead th {\n        text-align: right;\n    }\n</style>\n<table border=\"1\" class=\"dataframe\">\n  <thead>\n    <tr style=\"text-align: right;\">\n      <th></th>\n      <th>Survived</th>\n    </tr>\n    <tr>\n      <th>PassengerId</th>\n      <th></th>\n    </tr>\n  </thead>\n  <tbody>\n    <tr>\n      <th>892</th>\n      <td>0</td>\n    </tr>\n    <tr>\n      <th>893</th>\n      <td>0</td>\n    </tr>\n    <tr>\n      <th>894</th>\n      <td>0</td>\n    </tr>\n    <tr>\n      <th>895</th>\n      <td>0</td>\n    </tr>\n    <tr>\n      <th>896</th>\n      <td>1</td>\n    </tr>\n  </tbody>\n</table>\n</div>"
     },
     "metadata": {},
     "execution_count": 29
    }
   ],
   "source": [
    "sub = pd.DataFrame(test_pred, index=x_test.index, columns=[\"Survived\"])\n",
    "sub.head()"
   ]
  },
  {
   "cell_type": "code",
   "execution_count": 30,
   "metadata": {},
   "outputs": [],
   "source": [
    "sub.to_csv(\"sub.csv\")"
   ]
  },
  {
   "cell_type": "code",
   "execution_count": 31,
   "metadata": {},
   "outputs": [
    {
     "output_type": "stream",
     "name": "stdout",
     "text": [
      "Successfully submitted to Titanic - Machine Learning from Disaster\n",
      "  0%|          | 0.00/3.18k [00:00<?, ?B/s]\n",
      "100%|██████████| 3.18k/3.18k [00:00<00:00, 31.4kB/s]\n",
      "100%|██████████| 3.18k/3.18k [00:02<00:00, 1.21kB/s]\n",
      "\n"
     ]
    }
   ],
   "source": [
    "!kaggle competitions submit -c titanic -f sub.csv -m \"My submission message\""
   ]
  }
 ],
 "metadata": {
  "anaconda-cloud": {},
  "colab": {
   "collapsed_sections": [],
   "name": "Titanic LogReg.ipynb",
   "provenance": []
  },
  "kernelspec": {
   "name": "python388jvsc74a57bd09585f2201de5fc0a451fec81a1738fa5b6e12bf7469ab8f0da807a0622c17ea2",
   "display_name": "Python 3.8.8 64-bit ('MachineLearning': conda)"
  },
  "language_info": {
   "codemirror_mode": {
    "name": "ipython",
    "version": 3
   },
   "file_extension": ".py",
   "mimetype": "text/x-python",
   "name": "python",
   "nbconvert_exporter": "python",
   "pygments_lexer": "ipython3",
   "version": "3.8.8"
  },
  "name": "seminar13_optional_practice_trees_titanic.ipynb"
 },
 "nbformat": 4,
 "nbformat_minor": 4
}