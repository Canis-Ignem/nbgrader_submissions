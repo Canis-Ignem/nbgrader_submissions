{
 "cells": [
  {
   "cell_type": "markdown",
   "metadata": {},
   "source": [
    "## Imports"
   ]
  },
  {
   "cell_type": "code",
   "execution_count": 1,
   "metadata": {},
   "outputs": [],
   "source": [
    "# pip install --upgrade scikit-learn"
   ]
  },
  {
   "cell_type": "code",
   "execution_count": 2,
   "metadata": {
    "colab": {},
    "colab_type": "code",
    "id": "mjnuJ19dJV7v"
   },
   "outputs": [
    {
     "output_type": "stream",
     "name": "stdout",
     "text": [
      "Pandas   1.2.4\nSklearn  0.24.1\n"
     ]
    }
   ],
   "source": [
    "import time\n",
    "from IPython.display import clear_output\n",
    "import numpy    as np\n",
    "import pandas   as pd\n",
    "import seaborn  as sb\n",
    "import matplotlib.pyplot as plt\n",
    "import sklearn  as skl\n",
    "\n",
    "from sklearn import pipeline      # Pipeline\n",
    "from sklearn import preprocessing # OrdinalEncoder, LabelEncoder\n",
    "from sklearn import impute\n",
    "from sklearn import compose\n",
    "from sklearn import model_selection # train_test_split\n",
    "from sklearn import metrics         # accuracy_score, balanced_accuracy_score, plot_confusion_matrix\n",
    "from sklearn import set_config\n",
    "\n",
    "set_config(display='diagram') # Useful for display the pipeline\n",
    "\n",
    "print(\"Pandas  \", pd.__version__)\n",
    "print(\"Sklearn \", skl.__version__) # Try to use 0.24"
   ]
  },
  {
   "cell_type": "markdown",
   "metadata": {},
   "source": [
    "## Get the dataset\n",
    "- **CLOUD = True**: Download dataset from Kaggle. Necesary for cloud enviroments like COLAB. **Specify your [kaggle credentials](https://www.kaggle.com/docs/api)**.\n",
    "- **CLOUD = False**: Get the dataset from your local machine. **Specify the data path**."
   ]
  },
  {
   "cell_type": "code",
   "execution_count": 3,
   "metadata": {},
   "outputs": [],
   "source": [
    "CLOUD = False\n",
    "\n",
    "if CLOUD:\n",
    "    import os\n",
    "    os.environ['KAGGLE_USERNAME'] = \"fistadev\"\n",
    "    os.environ['KAGGLE_KEY']      = \"2df550e4ca2cb04c44a9129466438160\"  # See https://www.kaggle.com/docs/api\n",
    "    # !pip install --upgrade kaggle\n",
    "    # !kaggle competitions download -c titanic\n",
    "    DATA_PATH = \"./\"\n",
    "\n",
    "else:\n",
    "    # DATA_PATH = \"../../datasets/titanic/\"\n",
    "    DATA_PATH = \"./titanic/\""
   ]
  },
  {
   "cell_type": "markdown",
   "metadata": {},
   "source": [
    "## Load data"
   ]
  },
  {
   "cell_type": "code",
   "execution_count": 4,
   "metadata": {
    "colab": {},
    "colab_type": "code",
    "id": "wAy8TnVPJV8S"
   },
   "outputs": [
    {
     "output_type": "stream",
     "name": "stdout",
     "text": [
      "Train DataFrame: (891, 11)\nTest DataFrame:  (418, 10)\n"
     ]
    }
   ],
   "source": [
    "df      = pd.read_csv(DATA_PATH + \"train.csv\", index_col='PassengerId')\n",
    "df_test = pd.read_csv(DATA_PATH + \"test.csv\",  index_col='PassengerId')\n",
    "\n",
    "print(\"Train DataFrame:\", df.shape)\n",
    "print(\"Test DataFrame: \", df_test.shape)"
   ]
  },
  {
   "cell_type": "markdown",
   "metadata": {},
   "source": [
    "## Check missings"
   ]
  },
  {
   "cell_type": "code",
   "execution_count": 5,
   "metadata": {},
   "outputs": [
    {
     "output_type": "execute_result",
     "data": {
      "text/plain": [
       "Survived      0\n",
       "Pclass        0\n",
       "Name          0\n",
       "Sex           0\n",
       "Age         177\n",
       "SibSp         0\n",
       "Parch         0\n",
       "Ticket        0\n",
       "Fare          0\n",
       "Cabin       687\n",
       "Embarked      2\n",
       "dtype: int64"
      ]
     },
     "metadata": {},
     "execution_count": 5
    }
   ],
   "source": [
    "df.isnull().sum()"
   ]
  },
  {
   "cell_type": "code",
   "execution_count": 6,
   "metadata": {},
   "outputs": [
    {
     "output_type": "execute_result",
     "data": {
      "text/plain": [
       "Pclass        0\n",
       "Name          0\n",
       "Sex           0\n",
       "Age          86\n",
       "SibSp         0\n",
       "Parch         0\n",
       "Ticket        0\n",
       "Fare          1\n",
       "Cabin       327\n",
       "Embarked      0\n",
       "dtype: int64"
      ]
     },
     "metadata": {},
     "execution_count": 6
    }
   ],
   "source": [
    "df_test.isnull().sum()"
   ]
  },
  {
   "cell_type": "markdown",
   "metadata": {},
   "source": [
    "# Exercise 1 (2pts):\n",
    "Extract the title (Mr, Mrs, ... ) from the \"Name\" column.\n",
    "\n",
    "Tips:\n",
    "- split(',')[1] to get the 2nd part, and remove the surnamename\n",
    "- split('.')[0] to get the 1str part, and remove the name"
   ]
  },
  {
   "cell_type": "code",
   "execution_count": 7,
   "metadata": {
    "deletable": false,
    "nbgrader": {
     "cell_type": "code",
     "checksum": "cac1de4ed2d966fcdf707a8bfd131fba",
     "grade": false,
     "grade_id": "cell-d56107842f0f54d2",
     "locked": false,
     "schema_version": 3,
     "solution": true,
     "task": false
    }
   },
   "outputs": [],
   "source": [
    "# get_Title_from_Name funtion\n",
    "# Create this function using lambda (not def)\n",
    "\n",
    "# get_Title_from_Name = None\n",
    "\n",
    "\n",
    "get_Title_from_Name = lambda name: name.split(',')[1].split('.')[0].strip()\n",
    "\n",
    "\n",
    "df['Title']      = df['Name'].map(get_Title_from_Name)\n",
    "df_test['Title'] = df_test['Name'].map(get_Title_from_Name)"
   ]
  },
  {
   "cell_type": "code",
   "execution_count": 8,
   "metadata": {
    "deletable": false,
    "editable": false,
    "nbgrader": {
     "cell_type": "code",
     "checksum": "f23c4d567e5fb4f4b69a001df14c6f7c",
     "grade": true,
     "grade_id": "cell-f3d989a17018344b",
     "locked": true,
     "points": 2,
     "schema_version": 3,
     "solution": false,
     "task": false
    }
   },
   "outputs": [],
   "source": [
    "assert df['Title'].values[0] == \"Mr\"\n",
    "assert df['Title'].values[1] == \"Mrs\"\n",
    "assert df['Title'].values[2] == \"Miss\"\n",
    "\n",
    "assert df_test['Title'].values[0] == \"Mr\"\n",
    "assert df_test['Title'].values[1] == \"Mrs\"\n",
    "assert df_test['Title'].values[414] == \"Dona\""
   ]
  },
  {
   "cell_type": "markdown",
   "metadata": {},
   "source": [
    "# Exercise 2 (1pts):\n",
    "Apply the title_dictionary to get a better information about the title. You have to overwrite the Title variable."
   ]
  },
  {
   "cell_type": "code",
   "execution_count": 9,
   "metadata": {},
   "outputs": [],
   "source": [
    "title_dictionary = {\n",
    "    \"Capt\": \"Officer\",\n",
    "    \"Col\": \"Officer\",\n",
    "    \"Major\": \"Officer\",\n",
    "    \"Jonkheer\": \"Royalty\",\n",
    "    \"Don\": \"Royalty\",\n",
    "    \"Sir\" : \"Royalty\",\n",
    "    \"Dr\": \"Officer\",\n",
    "    \"Rev\": \"Officer\",\n",
    "    \"the Countess\":\"Royalty\",\n",
    "    \"Mme\": \"Mrs\",\n",
    "    \"Mlle\": \"Miss\",\n",
    "    \"Ms\": \"Mrs\",\n",
    "    \"Mr\" : \"Mr\",\n",
    "    \"Mrs\" : \"Mrs\",\n",
    "    \"Miss\" : \"Miss\",\n",
    "    \"Master\" : \"Master\",\n",
    "    \"Lady\" : \"Royalty\"\n",
    "}"
   ]
  },
  {
   "cell_type": "code",
   "execution_count": 10,
   "metadata": {
    "deletable": false,
    "nbgrader": {
     "cell_type": "code",
     "checksum": "da7233548e7218eded680b5edb7963de",
     "grade": false,
     "grade_id": "cell-5c6a842c812fafda",
     "locked": false,
     "schema_version": 3,
     "solution": true,
     "task": false
    }
   },
   "outputs": [],
   "source": [
    "# Use map to apply the prevous dict\n",
    "\n",
    "df[\"Title\"] = df.Title.map(title_dictionary) \n",
    "df_test[\"Title\"] = df_test.Title.map(title_dictionary)\n"
   ]
  },
  {
   "cell_type": "code",
   "execution_count": 11,
   "metadata": {
    "deletable": false,
    "editable": false,
    "nbgrader": {
     "cell_type": "code",
     "checksum": "96a09f1cde63b704ff2f391309c30690",
     "grade": true,
     "grade_id": "cell-669f5a637e57e835",
     "locked": true,
     "points": 1,
     "schema_version": 3,
     "solution": false,
     "task": false
    }
   },
   "outputs": [],
   "source": [
    "assert df['Title'].values[886] == \"Officer\"\n",
    "assert df_test['Title'].values[417] == \"Master\""
   ]
  },
  {
   "cell_type": "markdown",
   "metadata": {},
   "source": [
    "# Exercise OPTINAL (0pts):\n",
    "Try to extract some information from the feature **Ticket**. Search on Internet if that colum has some kind of information."
   ]
  },
  {
   "cell_type": "code",
   "execution_count": 12,
   "metadata": {},
   "outputs": [
    {
     "output_type": "execute_result",
     "data": {
      "text/plain": [
       "PassengerId\n",
       "892                 330911\n",
       "893                 363272\n",
       "894                 240276\n",
       "895                 315154\n",
       "896                3101298\n",
       "               ...        \n",
       "1305             A.5. 3236\n",
       "1306              PC 17758\n",
       "1307    SOTON/O.Q. 3101262\n",
       "1308                359309\n",
       "1309                  2668\n",
       "Name: Ticket, Length: 418, dtype: object"
      ]
     },
     "metadata": {},
     "execution_count": 12
    }
   ],
   "source": [
    "df_test['Ticket']"
   ]
  },
  {
   "cell_type": "markdown",
   "metadata": {},
   "source": [
    "# Exercise OPTIONAL (0pts):\n",
    "Try to extract some information from the feature **Cabin**. Search on Internet if that colum has some kind of information."
   ]
  },
  {
   "cell_type": "code",
   "execution_count": 13,
   "metadata": {},
   "outputs": [
    {
     "output_type": "execute_result",
     "data": {
      "text/plain": [
       "PassengerId\n",
       "892      NaN\n",
       "893      NaN\n",
       "894      NaN\n",
       "895      NaN\n",
       "896      NaN\n",
       "        ... \n",
       "1305     NaN\n",
       "1306    C105\n",
       "1307     NaN\n",
       "1308     NaN\n",
       "1309     NaN\n",
       "Name: Cabin, Length: 418, dtype: object"
      ]
     },
     "metadata": {},
     "execution_count": 13
    }
   ],
   "source": [
    "df_test['Cabin']"
   ]
  },
  {
   "cell_type": "markdown",
   "metadata": {},
   "source": [
    "# Preprocessing\n",
    "For X data, notice that...\n",
    "- We drop Survived because is the target variable\n",
    "- We drop Name because we have extracted the Title: Mr, Mrs, ...\n",
    "- We drop Ticket because it has no information -> see df.Ticket.nunique()\n",
    "- We drop Cabin because it has a lot of missings (77% are missings)\n",
    "\n",
    "Then, we identify **numerical** variables and **categorical** variables,"
   ]
  },
  {
   "cell_type": "code",
   "execution_count": 14,
   "metadata": {},
   "outputs": [],
   "source": [
    "x = df.drop(columns=[\"Survived\", 'Name', 'Ticket', 'Cabin']) # X DATA (WILL BE TRAIN+VALID DATA)\n",
    "y = df[\"Survived\"] # 0 = No, 1 = Yes\n",
    "\n",
    "x_test = df_test.drop(columns=['Name', 'Ticket', 'Cabin']) # # X_TEST DATA (NEW DATA)"
   ]
  },
  {
   "cell_type": "code",
   "execution_count": 15,
   "metadata": {},
   "outputs": [
    {
     "output_type": "stream",
     "name": "stdout",
     "text": [
      "\nNumerical features:\n ['Pclass', 'SibSp', 'Parch', 'Fare', 'Age']\n\nCategorical features:\n ['Sex', 'Embarked', 'Title']\n"
     ]
    }
   ],
   "source": [
    "cat_vars  = ['Sex', 'Embarked', 'Title']         # x.select_dtypes(include=[object]).columns.values.tolist()\n",
    "num_vars  = ['Pclass', 'SibSp', 'Parch', 'Fare', 'Age'] # x.select_dtypes(exclude=[object]).columns.values.tolist()\n",
    "\n",
    "print(\"\\nNumerical features:\\n\", num_vars)\n",
    "print(\"\\nCategorical features:\\n\", cat_vars)"
   ]
  },
  {
   "cell_type": "markdown",
   "metadata": {},
   "source": [
    "# Exercise 3 (2pts):\n",
    "Create a **ColumnTransformer for Tree Models**. You need to create 2 pipelines (one for numerical and other for categories). Remember:\n",
    "- Categorical pipeline: Some SimpleImputer -> Some Encoder\n",
    "- Numerical pipeline: Some SimpleImputer -> NO Encoder"
   ]
  },
  {
   "cell_type": "code",
   "execution_count": 16,
   "metadata": {
    "deletable": false,
    "nbgrader": {
     "cell_type": "code",
     "checksum": "4a99fc5ecc693dc549b0e1560c568eea",
     "grade": false,
     "grade_id": "cell-c607e75fb38ea248",
     "locked": false,
     "schema_version": 3,
     "solution": true,
     "task": false
    }
   },
   "outputs": [
    {
     "output_type": "execute_result",
     "data": {
      "text/plain": [
       "ColumnTransformer(transformers=[('num',\n",
       "                                 Pipeline(steps=[('imputer', SimpleImputer())]),\n",
       "                                 ['Pclass', 'SibSp', 'Parch', 'Fare', 'Age']),\n",
       "                                ('cat',\n",
       "                                 Pipeline(steps=[('imputer',\n",
       "                                                  SimpleImputer(fill_value='missing',\n",
       "                                                                strategy='constant')),\n",
       "                                                 ('onehot',\n",
       "                                                  OneHotEncoder(handle_unknown='ignore'))]),\n",
       "                                 ['Sex', 'Embarked', 'Title'])])"
      ],
      "text/html": "<style>div.sk-top-container {color: black;background-color: white;}div.sk-toggleable {background-color: white;}label.sk-toggleable__label {cursor: pointer;display: block;width: 100%;margin-bottom: 0;padding: 0.2em 0.3em;box-sizing: border-box;text-align: center;}div.sk-toggleable__content {max-height: 0;max-width: 0;overflow: hidden;text-align: left;background-color: #f0f8ff;}div.sk-toggleable__content pre {margin: 0.2em;color: black;border-radius: 0.25em;background-color: #f0f8ff;}input.sk-toggleable__control:checked~div.sk-toggleable__content {max-height: 200px;max-width: 100%;overflow: auto;}div.sk-estimator input.sk-toggleable__control:checked~label.sk-toggleable__label {background-color: #d4ebff;}div.sk-label input.sk-toggleable__control:checked~label.sk-toggleable__label {background-color: #d4ebff;}input.sk-hidden--visually {border: 0;clip: rect(1px 1px 1px 1px);clip: rect(1px, 1px, 1px, 1px);height: 1px;margin: -1px;overflow: hidden;padding: 0;position: absolute;width: 1px;}div.sk-estimator {font-family: monospace;background-color: #f0f8ff;margin: 0.25em 0.25em;border: 1px dotted black;border-radius: 0.25em;box-sizing: border-box;}div.sk-estimator:hover {background-color: #d4ebff;}div.sk-parallel-item::after {content: \"\";width: 100%;border-bottom: 1px solid gray;flex-grow: 1;}div.sk-label:hover label.sk-toggleable__label {background-color: #d4ebff;}div.sk-serial::before {content: \"\";position: absolute;border-left: 1px solid gray;box-sizing: border-box;top: 2em;bottom: 0;left: 50%;}div.sk-serial {display: flex;flex-direction: column;align-items: center;background-color: white;}div.sk-item {z-index: 1;}div.sk-parallel {display: flex;align-items: stretch;justify-content: center;background-color: white;}div.sk-parallel-item {display: flex;flex-direction: column;position: relative;background-color: white;}div.sk-parallel-item:first-child::after {align-self: flex-end;width: 50%;}div.sk-parallel-item:last-child::after {align-self: flex-start;width: 50%;}div.sk-parallel-item:only-child::after {width: 0;}div.sk-dashed-wrapped {border: 1px dashed gray;margin: 0.2em;box-sizing: border-box;padding-bottom: 0.1em;background-color: white;position: relative;}div.sk-label label {font-family: monospace;font-weight: bold;background-color: white;display: inline-block;line-height: 1.2em;}div.sk-label-container {position: relative;z-index: 2;text-align: center;}div.sk-container {display: inline-block;position: relative;}</style><div class=\"sk-top-container\"><div class=\"sk-container\"><div class=\"sk-item sk-dashed-wrapped\"><div class=\"sk-label-container\"><div class=\"sk-label sk-toggleable\"><input class=\"sk-toggleable__control sk-hidden--visually\" id=\"2081be76-0702-4b43-a514-8b75aac6e934\" type=\"checkbox\" ><label class=\"sk-toggleable__label\" for=\"2081be76-0702-4b43-a514-8b75aac6e934\">ColumnTransformer</label><div class=\"sk-toggleable__content\"><pre>ColumnTransformer(transformers=[('num',\n                                 Pipeline(steps=[('imputer', SimpleImputer())]),\n                                 ['Pclass', 'SibSp', 'Parch', 'Fare', 'Age']),\n                                ('cat',\n                                 Pipeline(steps=[('imputer',\n                                                  SimpleImputer(fill_value='missing',\n                                                                strategy='constant')),\n                                                 ('onehot',\n                                                  OneHotEncoder(handle_unknown='ignore'))]),\n                                 ['Sex', 'Embarked', 'Title'])])</pre></div></div></div><div class=\"sk-parallel\"><div class=\"sk-parallel-item\"><div class=\"sk-item\"><div class=\"sk-label-container\"><div class=\"sk-label sk-toggleable\"><input class=\"sk-toggleable__control sk-hidden--visually\" id=\"87224dcf-b92a-415a-9499-c79e0a07d692\" type=\"checkbox\" ><label class=\"sk-toggleable__label\" for=\"87224dcf-b92a-415a-9499-c79e0a07d692\">num</label><div class=\"sk-toggleable__content\"><pre>['Pclass', 'SibSp', 'Parch', 'Fare', 'Age']</pre></div></div></div><div class=\"sk-serial\"><div class=\"sk-item\"><div class=\"sk-serial\"><div class=\"sk-item\"><div class=\"sk-estimator sk-toggleable\"><input class=\"sk-toggleable__control sk-hidden--visually\" id=\"f338a9f4-af62-402a-bc56-63c53a4f8275\" type=\"checkbox\" ><label class=\"sk-toggleable__label\" for=\"f338a9f4-af62-402a-bc56-63c53a4f8275\">SimpleImputer</label><div class=\"sk-toggleable__content\"><pre>SimpleImputer()</pre></div></div></div></div></div></div></div></div><div class=\"sk-parallel-item\"><div class=\"sk-item\"><div class=\"sk-label-container\"><div class=\"sk-label sk-toggleable\"><input class=\"sk-toggleable__control sk-hidden--visually\" id=\"31141092-1be0-4a57-8400-02d6cd62ce48\" type=\"checkbox\" ><label class=\"sk-toggleable__label\" for=\"31141092-1be0-4a57-8400-02d6cd62ce48\">cat</label><div class=\"sk-toggleable__content\"><pre>['Sex', 'Embarked', 'Title']</pre></div></div></div><div class=\"sk-serial\"><div class=\"sk-item\"><div class=\"sk-serial\"><div class=\"sk-item\"><div class=\"sk-estimator sk-toggleable\"><input class=\"sk-toggleable__control sk-hidden--visually\" id=\"7dda8739-d444-4918-acd9-167af91903c9\" type=\"checkbox\" ><label class=\"sk-toggleable__label\" for=\"7dda8739-d444-4918-acd9-167af91903c9\">SimpleImputer</label><div class=\"sk-toggleable__content\"><pre>SimpleImputer(fill_value='missing', strategy='constant')</pre></div></div></div><div class=\"sk-item\"><div class=\"sk-estimator sk-toggleable\"><input class=\"sk-toggleable__control sk-hidden--visually\" id=\"d2276e42-ad6a-41e2-9f8c-98abf59993a5\" type=\"checkbox\" ><label class=\"sk-toggleable__label\" for=\"d2276e42-ad6a-41e2-9f8c-98abf59993a5\">OneHotEncoder</label><div class=\"sk-toggleable__content\"><pre>OneHotEncoder(handle_unknown='ignore')</pre></div></div></div></div></div></div></div></div></div></div></div></div>"
     },
     "metadata": {},
     "execution_count": 16
    }
   ],
   "source": [
    "num_4_treeModels = pipeline.Pipeline(steps=[\n",
    "   ('imputer', impute.SimpleImputer(strategy='mean', add_indicator=False)), # mean, median\n",
    "])\n",
    "\n",
    "cat_4_treeModels = pipeline.Pipeline(steps=[\n",
    "   ('imputer', impute.SimpleImputer(strategy='constant', fill_value='missing')),\n",
    "    ('onehot', preprocessing.OneHotEncoder(handle_unknown='ignore'))\n",
    "])\n",
    "\n",
    "tree_prepro = compose.ColumnTransformer(transformers=[\n",
    "    ('num', num_4_treeModels, num_vars),\n",
    "    ('cat', cat_4_treeModels, cat_vars),\n",
    "], remainder='drop') # Drop other vars not specified in num_vars or cat_vars\n",
    "\n",
    "tree_prepro\n"
   ]
  },
  {
   "cell_type": "code",
   "execution_count": 17,
   "metadata": {
    "deletable": false,
    "editable": false,
    "nbgrader": {
     "cell_type": "code",
     "checksum": "00bde840843413a4f57c4480f8930ef0",
     "grade": true,
     "grade_id": "cell-e636558135fb5975",
     "locked": true,
     "points": 2,
     "schema_version": 3,
     "solution": false,
     "task": false
    }
   },
   "outputs": [],
   "source": [
    "assert type(tree_prepro)      is compose._column_transformer.ColumnTransformer\n",
    "assert type(num_4_treeModels) is pipeline.Pipeline\n",
    "assert type(cat_4_treeModels) is pipeline.Pipeline\n",
    "assert len(num_4_treeModels) == 1\n",
    "assert len(cat_4_treeModels) == 2"
   ]
  },
  {
   "cell_type": "markdown",
   "metadata": {},
   "source": [
    "# Exercise 4 (1pts):\n",
    "1. Complete the diccionary with some Tree Models.\n",
    "2. Then we put each model in a Pipeline where:\n",
    "   - first is the prepocessing with the column Transformer\n",
    "   - Then is the Tree model\n",
    "3. Display the fullpipeline of the LGBMClassifier"
   ]
  },
  {
   "cell_type": "code",
   "execution_count": 18,
   "metadata": {},
   "outputs": [],
   "source": [
    "from sklearn.tree          import DecisionTreeClassifier\n",
    "from sklearn.ensemble      import RandomForestClassifier\n",
    "from sklearn.ensemble      import ExtraTreesClassifier\n",
    "from sklearn.ensemble      import AdaBoostClassifier\n",
    "from sklearn.ensemble      import GradientBoostingClassifier\n",
    "from sklearn.experimental  import enable_hist_gradient_boosting # Necesary for HistGradientBoostingClassifier\n",
    "from sklearn.ensemble      import HistGradientBoostingClassifier\n",
    "from xgboost               import XGBClassifier\n",
    "from lightgbm              import LGBMClassifier\n",
    "from catboost              import CatBoostClassifier"
   ]
  },
  {
   "cell_type": "code",
   "execution_count": 19,
   "metadata": {
    "deletable": false,
    "nbgrader": {
     "cell_type": "code",
     "checksum": "f23af11f3af791efa5687477c0a4c9d6",
     "grade": false,
     "grade_id": "cell-76a3be8223730c5a",
     "locked": false,
     "schema_version": 3,
     "solution": true,
     "task": false
    }
   },
   "outputs": [
    {
     "output_type": "execute_result",
     "data": {
      "text/plain": [
       "Pipeline(steps=[('columntransformer',\n",
       "                 ColumnTransformer(transformers=[('num',\n",
       "                                                  Pipeline(steps=[('imputer',\n",
       "                                                                   SimpleImputer())]),\n",
       "                                                  ['Pclass', 'SibSp', 'Parch',\n",
       "                                                   'Fare', 'Age']),\n",
       "                                                 ('cat',\n",
       "                                                  Pipeline(steps=[('imputer',\n",
       "                                                                   SimpleImputer(fill_value='missing',\n",
       "                                                                                 strategy='constant')),\n",
       "                                                                  ('onehot',\n",
       "                                                                   OneHotEncoder(handle_unknown='ignore'))]),\n",
       "                                                  ['Sex', 'Embarked',\n",
       "                                                   'Title'])])),\n",
       "                ('lgbmclassifier', LGBMClassifier())])"
      ],
      "text/html": "<style>div.sk-top-container {color: black;background-color: white;}div.sk-toggleable {background-color: white;}label.sk-toggleable__label {cursor: pointer;display: block;width: 100%;margin-bottom: 0;padding: 0.2em 0.3em;box-sizing: border-box;text-align: center;}div.sk-toggleable__content {max-height: 0;max-width: 0;overflow: hidden;text-align: left;background-color: #f0f8ff;}div.sk-toggleable__content pre {margin: 0.2em;color: black;border-radius: 0.25em;background-color: #f0f8ff;}input.sk-toggleable__control:checked~div.sk-toggleable__content {max-height: 200px;max-width: 100%;overflow: auto;}div.sk-estimator input.sk-toggleable__control:checked~label.sk-toggleable__label {background-color: #d4ebff;}div.sk-label input.sk-toggleable__control:checked~label.sk-toggleable__label {background-color: #d4ebff;}input.sk-hidden--visually {border: 0;clip: rect(1px 1px 1px 1px);clip: rect(1px, 1px, 1px, 1px);height: 1px;margin: -1px;overflow: hidden;padding: 0;position: absolute;width: 1px;}div.sk-estimator {font-family: monospace;background-color: #f0f8ff;margin: 0.25em 0.25em;border: 1px dotted black;border-radius: 0.25em;box-sizing: border-box;}div.sk-estimator:hover {background-color: #d4ebff;}div.sk-parallel-item::after {content: \"\";width: 100%;border-bottom: 1px solid gray;flex-grow: 1;}div.sk-label:hover label.sk-toggleable__label {background-color: #d4ebff;}div.sk-serial::before {content: \"\";position: absolute;border-left: 1px solid gray;box-sizing: border-box;top: 2em;bottom: 0;left: 50%;}div.sk-serial {display: flex;flex-direction: column;align-items: center;background-color: white;}div.sk-item {z-index: 1;}div.sk-parallel {display: flex;align-items: stretch;justify-content: center;background-color: white;}div.sk-parallel-item {display: flex;flex-direction: column;position: relative;background-color: white;}div.sk-parallel-item:first-child::after {align-self: flex-end;width: 50%;}div.sk-parallel-item:last-child::after {align-self: flex-start;width: 50%;}div.sk-parallel-item:only-child::after {width: 0;}div.sk-dashed-wrapped {border: 1px dashed gray;margin: 0.2em;box-sizing: border-box;padding-bottom: 0.1em;background-color: white;position: relative;}div.sk-label label {font-family: monospace;font-weight: bold;background-color: white;display: inline-block;line-height: 1.2em;}div.sk-label-container {position: relative;z-index: 2;text-align: center;}div.sk-container {display: inline-block;position: relative;}</style><div class=\"sk-top-container\"><div class=\"sk-container\"><div class=\"sk-item sk-dashed-wrapped\"><div class=\"sk-label-container\"><div class=\"sk-label sk-toggleable\"><input class=\"sk-toggleable__control sk-hidden--visually\" id=\"c62d9c96-dcb2-4986-a75d-366f6c3435e9\" type=\"checkbox\" ><label class=\"sk-toggleable__label\" for=\"c62d9c96-dcb2-4986-a75d-366f6c3435e9\">Pipeline</label><div class=\"sk-toggleable__content\"><pre>Pipeline(steps=[('columntransformer',\n                 ColumnTransformer(transformers=[('num',\n                                                  Pipeline(steps=[('imputer',\n                                                                   SimpleImputer())]),\n                                                  ['Pclass', 'SibSp', 'Parch',\n                                                   'Fare', 'Age']),\n                                                 ('cat',\n                                                  Pipeline(steps=[('imputer',\n                                                                   SimpleImputer(fill_value='missing',\n                                                                                 strategy='constant')),\n                                                                  ('onehot',\n                                                                   OneHotEncoder(handle_unknown='ignore'))]),\n                                                  ['Sex', 'Embarked',\n                                                   'Title'])])),\n                ('lgbmclassifier', LGBMClassifier())])</pre></div></div></div><div class=\"sk-serial\"><div class=\"sk-item sk-dashed-wrapped\"><div class=\"sk-label-container\"><div class=\"sk-label sk-toggleable\"><input class=\"sk-toggleable__control sk-hidden--visually\" id=\"2b54c801-e1de-4f24-a9c7-c3e5144c2dd8\" type=\"checkbox\" ><label class=\"sk-toggleable__label\" for=\"2b54c801-e1de-4f24-a9c7-c3e5144c2dd8\">columntransformer: ColumnTransformer</label><div class=\"sk-toggleable__content\"><pre>ColumnTransformer(transformers=[('num',\n                                 Pipeline(steps=[('imputer', SimpleImputer())]),\n                                 ['Pclass', 'SibSp', 'Parch', 'Fare', 'Age']),\n                                ('cat',\n                                 Pipeline(steps=[('imputer',\n                                                  SimpleImputer(fill_value='missing',\n                                                                strategy='constant')),\n                                                 ('onehot',\n                                                  OneHotEncoder(handle_unknown='ignore'))]),\n                                 ['Sex', 'Embarked', 'Title'])])</pre></div></div></div><div class=\"sk-parallel\"><div class=\"sk-parallel-item\"><div class=\"sk-item\"><div class=\"sk-label-container\"><div class=\"sk-label sk-toggleable\"><input class=\"sk-toggleable__control sk-hidden--visually\" id=\"a36d7e6f-f1c4-459f-8c7a-f9c1890ac30a\" type=\"checkbox\" ><label class=\"sk-toggleable__label\" for=\"a36d7e6f-f1c4-459f-8c7a-f9c1890ac30a\">num</label><div class=\"sk-toggleable__content\"><pre>['Pclass', 'SibSp', 'Parch', 'Fare', 'Age']</pre></div></div></div><div class=\"sk-serial\"><div class=\"sk-item\"><div class=\"sk-serial\"><div class=\"sk-item\"><div class=\"sk-estimator sk-toggleable\"><input class=\"sk-toggleable__control sk-hidden--visually\" id=\"742730b4-b396-4292-9259-c6150acf479f\" type=\"checkbox\" ><label class=\"sk-toggleable__label\" for=\"742730b4-b396-4292-9259-c6150acf479f\">SimpleImputer</label><div class=\"sk-toggleable__content\"><pre>SimpleImputer()</pre></div></div></div></div></div></div></div></div><div class=\"sk-parallel-item\"><div class=\"sk-item\"><div class=\"sk-label-container\"><div class=\"sk-label sk-toggleable\"><input class=\"sk-toggleable__control sk-hidden--visually\" id=\"04b840c3-26f9-4e39-924a-ad96260ecc2d\" type=\"checkbox\" ><label class=\"sk-toggleable__label\" for=\"04b840c3-26f9-4e39-924a-ad96260ecc2d\">cat</label><div class=\"sk-toggleable__content\"><pre>['Sex', 'Embarked', 'Title']</pre></div></div></div><div class=\"sk-serial\"><div class=\"sk-item\"><div class=\"sk-serial\"><div class=\"sk-item\"><div class=\"sk-estimator sk-toggleable\"><input class=\"sk-toggleable__control sk-hidden--visually\" id=\"73dc9b25-157b-46da-ad1d-4ed7b1ba9437\" type=\"checkbox\" ><label class=\"sk-toggleable__label\" for=\"73dc9b25-157b-46da-ad1d-4ed7b1ba9437\">SimpleImputer</label><div class=\"sk-toggleable__content\"><pre>SimpleImputer(fill_value='missing', strategy='constant')</pre></div></div></div><div class=\"sk-item\"><div class=\"sk-estimator sk-toggleable\"><input class=\"sk-toggleable__control sk-hidden--visually\" id=\"0c750b2c-2e59-4f3d-9649-eb5e7cbb13f5\" type=\"checkbox\" ><label class=\"sk-toggleable__label\" for=\"0c750b2c-2e59-4f3d-9649-eb5e7cbb13f5\">OneHotEncoder</label><div class=\"sk-toggleable__content\"><pre>OneHotEncoder(handle_unknown='ignore')</pre></div></div></div></div></div></div></div></div></div></div><div class=\"sk-item\"><div class=\"sk-estimator sk-toggleable\"><input class=\"sk-toggleable__control sk-hidden--visually\" id=\"e7392320-966c-4ed7-bffb-aaf7cc9cbd66\" type=\"checkbox\" ><label class=\"sk-toggleable__label\" for=\"e7392320-966c-4ed7-bffb-aaf7cc9cbd66\">LGBMClassifier</label><div class=\"sk-toggleable__content\"><pre>LGBMClassifier()</pre></div></div></div></div></div></div></div>"
     },
     "metadata": {},
     "execution_count": 19
    }
   ],
   "source": [
    "tree_classifiers = {\n",
    "  \"Decision Tree\": DecisionTreeClassifier(),\n",
    "  \"Extra Trees\":ExtraTreesClassifier(),\n",
    "  \"Random Forest\":RandomForestClassifier(),\n",
    "  \"AdaBoost\":AdaBoostClassifier(),\n",
    "  \"Skl GBM\":GradientBoostingClassifier(),\n",
    "  \"Skl HistGBM\":GradientBoostingClassifier(),\n",
    "  \"XGBoost\":XGBClassifier(),\n",
    "  \"LightGBM\":LGBMClassifier(),\n",
    "  \"CatBoost\":CatBoostClassifier()\n",
    "}\n",
    "tree_classifiers = {name: pipeline.make_pipeline(tree_prepro, model) for name, model in tree_classifiers.items()}\n",
    "tree_classifiers[\"LightGBM\"]\n",
    "\n"
   ]
  },
  {
   "cell_type": "code",
   "execution_count": 20,
   "metadata": {
    "deletable": false,
    "editable": false,
    "nbgrader": {
     "cell_type": "code",
     "checksum": "2355552b3ce823e44fdaea06394e054c",
     "grade": true,
     "grade_id": "cell-d4744022b37e2e9b",
     "locked": true,
     "points": 1,
     "schema_version": 3,
     "solution": false,
     "task": false
    }
   },
   "outputs": [],
   "source": [
    "for pipe in tree_classifiers.values():\n",
    "    assert type(pipe) is pipeline.Pipeline"
   ]
  },
  {
   "source": [
    "# Exercise 5 (3pts):\n",
    "Define a simple split validation strategy with:\n",
    "- 80% for train\n",
    "- 20% for validation\n",
    "- With stratification\n",
    "- random_state=0\n",
    "\n",
    "And train all the models in a for loop"
   ],
   "cell_type": "markdown",
   "metadata": {}
  },
  {
   "cell_type": "code",
   "execution_count": 21,
   "metadata": {
    "colab": {
     "base_uri": "https://localhost:8080/",
     "height": 173
    },
    "colab_type": "code",
    "deletable": false,
    "id": "kY1uWk6-OcLw",
    "nbgrader": {
     "cell_type": "code",
     "checksum": "e48597a78f468a95abf116052e9f68e6",
     "grade": false,
     "grade_id": "cell-64f17e0d448bca7e",
     "locked": false,
     "schema_version": 3,
     "solution": true,
     "task": false
    },
    "outputId": "3562463f-3197-424c-dc82-b07ad579e9cc",
    "tags": [
     "outputPrepend"
    ]
   },
   "outputs": [
    {
     "output_type": "stream",
     "name": "stderr",
     "text": [
      "earn: 0.3231792\ttotal: 8.18s\tremaining: 5.12s\n",
      "615:\tlearn: 0.3231011\ttotal: 8.19s\tremaining: 5.1s\n",
      "616:\tlearn: 0.3229018\ttotal: 8.19s\tremaining: 5.08s\n",
      "617:\tlearn: 0.3226934\ttotal: 8.19s\tremaining: 5.06s\n",
      "618:\tlearn: 0.3226679\ttotal: 8.21s\tremaining: 5.06s\n",
      "619:\tlearn: 0.3224384\ttotal: 8.32s\tremaining: 5.1s\n",
      "620:\tlearn: 0.3222797\ttotal: 8.35s\tremaining: 5.1s\n",
      "621:\tlearn: 0.3221968\ttotal: 8.36s\tremaining: 5.08s\n",
      "622:\tlearn: 0.3221056\ttotal: 8.36s\tremaining: 5.06s\n",
      "623:\tlearn: 0.3220152\ttotal: 8.36s\tremaining: 5.04s\n",
      "624:\tlearn: 0.3216825\ttotal: 8.37s\tremaining: 5.02s\n",
      "625:\tlearn: 0.3216729\ttotal: 8.37s\tremaining: 5s\n",
      "626:\tlearn: 0.3215428\ttotal: 8.37s\tremaining: 4.98s\n",
      "627:\tlearn: 0.3213518\ttotal: 8.37s\tremaining: 4.96s\n",
      "628:\tlearn: 0.3211542\ttotal: 8.38s\tremaining: 4.94s\n",
      "629:\tlearn: 0.3210773\ttotal: 8.38s\tremaining: 4.92s\n",
      "630:\tlearn: 0.3209931\ttotal: 8.39s\tremaining: 4.91s\n",
      "631:\tlearn: 0.3209187\ttotal: 8.39s\tremaining: 4.89s\n",
      "632:\tlearn: 0.3207711\ttotal: 8.39s\tremaining: 4.87s\n",
      "633:\tlearn: 0.3205822\ttotal: 8.4s\tremaining: 4.85s\n",
      "634:\tlearn: 0.3205237\ttotal: 8.4s\tremaining: 4.83s\n",
      "635:\tlearn: 0.3204768\ttotal: 8.4s\tremaining: 4.81s\n",
      "636:\tlearn: 0.3203831\ttotal: 8.41s\tremaining: 4.79s\n",
      "637:\tlearn: 0.3203519\ttotal: 8.41s\tremaining: 4.77s\n",
      "638:\tlearn: 0.3202068\ttotal: 8.41s\tremaining: 4.75s\n",
      "639:\tlearn: 0.3201873\ttotal: 8.42s\tremaining: 4.73s\n",
      "640:\tlearn: 0.3200130\ttotal: 8.42s\tremaining: 4.71s\n",
      "641:\tlearn: 0.3199202\ttotal: 8.42s\tremaining: 4.7s\n",
      "642:\tlearn: 0.3198245\ttotal: 8.43s\tremaining: 4.68s\n",
      "643:\tlearn: 0.3197703\ttotal: 8.43s\tremaining: 4.66s\n",
      "644:\tlearn: 0.3196071\ttotal: 8.43s\tremaining: 4.64s\n",
      "645:\tlearn: 0.3195051\ttotal: 8.67s\tremaining: 4.75s\n",
      "646:\tlearn: 0.3193927\ttotal: 8.67s\tremaining: 4.73s\n",
      "647:\tlearn: 0.3191539\ttotal: 8.68s\tremaining: 4.72s\n",
      "648:\tlearn: 0.3190506\ttotal: 8.69s\tremaining: 4.7s\n",
      "649:\tlearn: 0.3188992\ttotal: 8.69s\tremaining: 4.68s\n",
      "650:\tlearn: 0.3186625\ttotal: 8.7s\tremaining: 4.67s\n",
      "651:\tlearn: 0.3184947\ttotal: 8.71s\tremaining: 4.65s\n",
      "652:\tlearn: 0.3183623\ttotal: 8.72s\tremaining: 4.63s\n",
      "653:\tlearn: 0.3181425\ttotal: 8.72s\tremaining: 4.61s\n",
      "654:\tlearn: 0.3178608\ttotal: 8.73s\tremaining: 4.6s\n",
      "655:\tlearn: 0.3178417\ttotal: 8.74s\tremaining: 4.58s\n",
      "656:\tlearn: 0.3177446\ttotal: 8.74s\tremaining: 4.56s\n",
      "657:\tlearn: 0.3176423\ttotal: 8.74s\tremaining: 4.54s\n",
      "658:\tlearn: 0.3174492\ttotal: 8.74s\tremaining: 4.53s\n",
      "659:\tlearn: 0.3172955\ttotal: 8.75s\tremaining: 4.51s\n",
      "660:\tlearn: 0.3172647\ttotal: 8.76s\tremaining: 4.49s\n",
      "661:\tlearn: 0.3171652\ttotal: 8.76s\tremaining: 4.47s\n",
      "662:\tlearn: 0.3169394\ttotal: 8.78s\tremaining: 4.46s\n",
      "663:\tlearn: 0.3168104\ttotal: 9s\tremaining: 4.56s\n",
      "664:\tlearn: 0.3167249\ttotal: 9.01s\tremaining: 4.54s\n",
      "665:\tlearn: 0.3164847\ttotal: 9.02s\tremaining: 4.53s\n",
      "666:\tlearn: 0.3164294\ttotal: 9.03s\tremaining: 4.51s\n",
      "667:\tlearn: 0.3162577\ttotal: 9.03s\tremaining: 4.49s\n",
      "668:\tlearn: 0.3160689\ttotal: 9.04s\tremaining: 4.47s\n",
      "669:\tlearn: 0.3160265\ttotal: 9.05s\tremaining: 4.46s\n",
      "670:\tlearn: 0.3159449\ttotal: 9.06s\tremaining: 4.44s\n",
      "671:\tlearn: 0.3159431\ttotal: 9.09s\tremaining: 4.43s\n",
      "672:\tlearn: 0.3158280\ttotal: 9.09s\tremaining: 4.42s\n",
      "673:\tlearn: 0.3157158\ttotal: 9.1s\tremaining: 4.4s\n",
      "674:\tlearn: 0.3156126\ttotal: 9.1s\tremaining: 4.38s\n",
      "675:\tlearn: 0.3155251\ttotal: 9.1s\tremaining: 4.36s\n",
      "676:\tlearn: 0.3154969\ttotal: 9.1s\tremaining: 4.34s\n",
      "677:\tlearn: 0.3154617\ttotal: 9.11s\tremaining: 4.33s\n",
      "678:\tlearn: 0.3153468\ttotal: 9.12s\tremaining: 4.31s\n",
      "679:\tlearn: 0.3152642\ttotal: 9.12s\tremaining: 4.29s\n",
      "680:\tlearn: 0.3151557\ttotal: 9.13s\tremaining: 4.27s\n",
      "681:\tlearn: 0.3149859\ttotal: 9.13s\tremaining: 4.26s\n",
      "682:\tlearn: 0.3148795\ttotal: 9.13s\tremaining: 4.24s\n",
      "683:\tlearn: 0.3147696\ttotal: 9.14s\tremaining: 4.22s\n",
      "684:\tlearn: 0.3146821\ttotal: 9.15s\tremaining: 4.21s\n",
      "685:\tlearn: 0.3146245\ttotal: 9.35s\tremaining: 4.28s\n",
      "686:\tlearn: 0.3145318\ttotal: 9.37s\tremaining: 4.27s\n",
      "687:\tlearn: 0.3144494\ttotal: 9.37s\tremaining: 4.25s\n",
      "688:\tlearn: 0.3144108\ttotal: 9.4s\tremaining: 4.24s\n",
      "689:\tlearn: 0.3143532\ttotal: 9.4s\tremaining: 4.22s\n",
      "690:\tlearn: 0.3142708\ttotal: 9.41s\tremaining: 4.21s\n",
      "691:\tlearn: 0.3141687\ttotal: 9.41s\tremaining: 4.19s\n",
      "692:\tlearn: 0.3140676\ttotal: 9.42s\tremaining: 4.17s\n",
      "693:\tlearn: 0.3139733\ttotal: 9.42s\tremaining: 4.15s\n",
      "694:\tlearn: 0.3139086\ttotal: 9.42s\tremaining: 4.13s\n",
      "695:\tlearn: 0.3138403\ttotal: 9.43s\tremaining: 4.12s\n",
      "696:\tlearn: 0.3136933\ttotal: 9.43s\tremaining: 4.1s\n",
      "697:\tlearn: 0.3136272\ttotal: 9.43s\tremaining: 4.08s\n",
      "698:\tlearn: 0.3135691\ttotal: 9.44s\tremaining: 4.06s\n",
      "699:\tlearn: 0.3133767\ttotal: 9.44s\tremaining: 4.05s\n",
      "700:\tlearn: 0.3133090\ttotal: 9.44s\tremaining: 4.03s\n",
      "701:\tlearn: 0.3131349\ttotal: 9.45s\tremaining: 4.01s\n",
      "702:\tlearn: 0.3130780\ttotal: 9.45s\tremaining: 3.99s\n",
      "703:\tlearn: 0.3130474\ttotal: 9.45s\tremaining: 3.97s\n",
      "704:\tlearn: 0.3129236\ttotal: 9.46s\tremaining: 3.96s\n",
      "705:\tlearn: 0.3128435\ttotal: 9.46s\tremaining: 3.94s\n",
      "706:\tlearn: 0.3126629\ttotal: 9.47s\tremaining: 3.92s\n",
      "707:\tlearn: 0.3124744\ttotal: 9.47s\tremaining: 3.91s\n",
      "708:\tlearn: 0.3124215\ttotal: 9.47s\tremaining: 3.89s\n",
      "709:\tlearn: 0.3123590\ttotal: 9.48s\tremaining: 3.87s\n",
      "710:\tlearn: 0.3123083\ttotal: 9.48s\tremaining: 3.85s\n",
      "711:\tlearn: 0.3122545\ttotal: 9.48s\tremaining: 3.83s\n",
      "712:\tlearn: 0.3122288\ttotal: 9.49s\tremaining: 3.82s\n",
      "713:\tlearn: 0.3119330\ttotal: 9.49s\tremaining: 3.8s\n",
      "714:\tlearn: 0.3118827\ttotal: 9.5s\tremaining: 3.79s\n",
      "715:\tlearn: 0.3118037\ttotal: 9.5s\tremaining: 3.77s\n",
      "716:\tlearn: 0.3116881\ttotal: 9.5s\tremaining: 3.75s\n",
      "717:\tlearn: 0.3116381\ttotal: 9.5s\tremaining: 3.73s\n",
      "718:\tlearn: 0.3114561\ttotal: 9.51s\tremaining: 3.71s\n",
      "719:\tlearn: 0.3113070\ttotal: 9.51s\tremaining: 3.7s\n",
      "720:\tlearn: 0.3111825\ttotal: 9.8s\tremaining: 3.79s\n",
      "721:\tlearn: 0.3111126\ttotal: 9.8s\tremaining: 3.77s\n",
      "722:\tlearn: 0.3109797\ttotal: 9.81s\tremaining: 3.76s\n",
      "723:\tlearn: 0.3108736\ttotal: 9.82s\tremaining: 3.74s\n",
      "724:\tlearn: 0.3107859\ttotal: 9.82s\tremaining: 3.73s\n",
      "725:\tlearn: 0.3105880\ttotal: 9.83s\tremaining: 3.71s\n",
      "726:\tlearn: 0.3104571\ttotal: 9.84s\tremaining: 3.7s\n",
      "727:\tlearn: 0.3104161\ttotal: 9.86s\tremaining: 3.68s\n",
      "728:\tlearn: 0.3103389\ttotal: 9.96s\tremaining: 3.7s\n",
      "729:\tlearn: 0.3103231\ttotal: 9.96s\tremaining: 3.69s\n",
      "730:\tlearn: 0.3102530\ttotal: 10s\tremaining: 3.68s\n",
      "731:\tlearn: 0.3101686\ttotal: 10s\tremaining: 3.67s\n",
      "732:\tlearn: 0.3099878\ttotal: 10s\tremaining: 3.65s\n",
      "733:\tlearn: 0.3098953\ttotal: 10s\tremaining: 3.63s\n",
      "734:\tlearn: 0.3096508\ttotal: 10s\tremaining: 3.62s\n",
      "735:\tlearn: 0.3094635\ttotal: 10s\tremaining: 3.6s\n",
      "736:\tlearn: 0.3092685\ttotal: 10s\tremaining: 3.58s\n",
      "737:\tlearn: 0.3091751\ttotal: 10s\tremaining: 3.57s\n",
      "738:\tlearn: 0.3091493\ttotal: 10.1s\tremaining: 3.55s\n",
      "739:\tlearn: 0.3090366\ttotal: 10.1s\tremaining: 3.53s\n",
      "740:\tlearn: 0.3089280\ttotal: 10.1s\tremaining: 3.52s\n",
      "741:\tlearn: 0.3088014\ttotal: 10.1s\tremaining: 3.5s\n",
      "742:\tlearn: 0.3084586\ttotal: 10.1s\tremaining: 3.48s\n",
      "743:\tlearn: 0.3083734\ttotal: 10.1s\tremaining: 3.46s\n",
      "744:\tlearn: 0.3082807\ttotal: 10.1s\tremaining: 3.45s\n",
      "745:\tlearn: 0.3082458\ttotal: 10.1s\tremaining: 3.43s\n",
      "746:\tlearn: 0.3081274\ttotal: 10.1s\tremaining: 3.42s\n",
      "747:\tlearn: 0.3079663\ttotal: 10.1s\tremaining: 3.4s\n",
      "748:\tlearn: 0.3079123\ttotal: 10.1s\tremaining: 3.39s\n",
      "749:\tlearn: 0.3076756\ttotal: 10.1s\tremaining: 3.37s\n",
      "750:\tlearn: 0.3076710\ttotal: 10.1s\tremaining: 3.36s\n",
      "751:\tlearn: 0.3075965\ttotal: 10.2s\tremaining: 3.35s\n",
      "752:\tlearn: 0.3075177\ttotal: 10.2s\tremaining: 3.33s\n",
      "753:\tlearn: 0.3073854\ttotal: 10.2s\tremaining: 3.32s\n",
      "754:\tlearn: 0.3073545\ttotal: 10.2s\tremaining: 3.31s\n",
      "755:\tlearn: 0.3070440\ttotal: 10.2s\tremaining: 3.29s\n",
      "756:\tlearn: 0.3069476\ttotal: 10.2s\tremaining: 3.27s\n",
      "757:\tlearn: 0.3069156\ttotal: 10.2s\tremaining: 3.26s\n",
      "758:\tlearn: 0.3067151\ttotal: 10.2s\tremaining: 3.24s\n",
      "759:\tlearn: 0.3066641\ttotal: 10.2s\tremaining: 3.22s\n",
      "760:\tlearn: 0.3066365\ttotal: 10.2s\tremaining: 3.21s\n",
      "761:\tlearn: 0.3066299\ttotal: 10.2s\tremaining: 3.19s\n",
      "762:\tlearn: 0.3065589\ttotal: 10.2s\tremaining: 3.17s\n",
      "763:\tlearn: 0.3064410\ttotal: 10.2s\tremaining: 3.16s\n",
      "764:\tlearn: 0.3063052\ttotal: 10.2s\tremaining: 3.14s\n",
      "765:\tlearn: 0.3061704\ttotal: 10.2s\tremaining: 3.13s\n",
      "766:\tlearn: 0.3059936\ttotal: 10.4s\tremaining: 3.17s\n",
      "767:\tlearn: 0.3059510\ttotal: 10.5s\tremaining: 3.16s\n",
      "768:\tlearn: 0.3059222\ttotal: 10.5s\tremaining: 3.15s\n",
      "769:\tlearn: 0.3058438\ttotal: 10.5s\tremaining: 3.13s\n",
      "770:\tlearn: 0.3057967\ttotal: 10.5s\tremaining: 3.12s\n",
      "771:\tlearn: 0.3056694\ttotal: 10.5s\tremaining: 3.11s\n",
      "772:\tlearn: 0.3055839\ttotal: 10.5s\tremaining: 3.09s\n",
      "773:\tlearn: 0.3055157\ttotal: 10.5s\tremaining: 3.08s\n",
      "774:\tlearn: 0.3055014\ttotal: 10.5s\tremaining: 3.06s\n",
      "775:\tlearn: 0.3053514\ttotal: 10.5s\tremaining: 3.04s\n",
      "776:\tlearn: 0.3052674\ttotal: 10.5s\tremaining: 3.03s\n",
      "777:\tlearn: 0.3051428\ttotal: 10.5s\tremaining: 3.01s\n",
      "778:\tlearn: 0.3050241\ttotal: 10.6s\tremaining: 2.99s\n",
      "779:\tlearn: 0.3048594\ttotal: 10.6s\tremaining: 2.98s\n",
      "780:\tlearn: 0.3047742\ttotal: 10.6s\tremaining: 2.96s\n",
      "781:\tlearn: 0.3046664\ttotal: 10.6s\tremaining: 2.94s\n",
      "782:\tlearn: 0.3043766\ttotal: 10.6s\tremaining: 2.93s\n",
      "783:\tlearn: 0.3043315\ttotal: 10.6s\tremaining: 2.91s\n",
      "784:\tlearn: 0.3042562\ttotal: 10.6s\tremaining: 2.9s\n",
      "785:\tlearn: 0.3042261\ttotal: 10.6s\tremaining: 2.88s\n",
      "786:\tlearn: 0.3039679\ttotal: 10.6s\tremaining: 2.86s\n",
      "787:\tlearn: 0.3039120\ttotal: 10.6s\tremaining: 2.85s\n",
      "788:\tlearn: 0.3038378\ttotal: 10.6s\tremaining: 2.83s\n",
      "789:\tlearn: 0.3037926\ttotal: 10.6s\tremaining: 2.81s\n",
      "790:\tlearn: 0.3037414\ttotal: 10.6s\tremaining: 2.8s\n",
      "791:\tlearn: 0.3036416\ttotal: 10.8s\tremaining: 2.85s\n",
      "792:\tlearn: 0.3036131\ttotal: 10.8s\tremaining: 2.83s\n",
      "793:\tlearn: 0.3034863\ttotal: 10.9s\tremaining: 2.81s\n",
      "794:\tlearn: 0.3033551\ttotal: 10.9s\tremaining: 2.8s\n",
      "795:\tlearn: 0.3032940\ttotal: 10.9s\tremaining: 2.79s\n",
      "796:\tlearn: 0.3032163\ttotal: 10.9s\tremaining: 2.77s\n",
      "797:\tlearn: 0.3031375\ttotal: 10.9s\tremaining: 2.76s\n",
      "798:\tlearn: 0.3030459\ttotal: 10.9s\tremaining: 2.74s\n",
      "799:\tlearn: 0.3029896\ttotal: 10.9s\tremaining: 2.73s\n",
      "800:\tlearn: 0.3027531\ttotal: 10.9s\tremaining: 2.71s\n",
      "801:\tlearn: 0.3026153\ttotal: 10.9s\tremaining: 2.7s\n",
      "802:\tlearn: 0.3023930\ttotal: 11.1s\tremaining: 2.72s\n",
      "803:\tlearn: 0.3022268\ttotal: 11.1s\tremaining: 2.7s\n",
      "804:\tlearn: 0.3021225\ttotal: 11.1s\tremaining: 2.69s\n",
      "805:\tlearn: 0.3018582\ttotal: 11.1s\tremaining: 2.67s\n",
      "806:\tlearn: 0.3018004\ttotal: 11.1s\tremaining: 2.65s\n",
      "807:\tlearn: 0.3016919\ttotal: 11.1s\tremaining: 2.64s\n",
      "808:\tlearn: 0.3015007\ttotal: 11.1s\tremaining: 2.62s\n",
      "809:\tlearn: 0.3013828\ttotal: 11.1s\tremaining: 2.61s\n",
      "810:\tlearn: 0.3011830\ttotal: 11.1s\tremaining: 2.59s\n",
      "811:\tlearn: 0.3010872\ttotal: 11.1s\tremaining: 2.57s\n",
      "812:\tlearn: 0.3009811\ttotal: 11.1s\tremaining: 2.56s\n",
      "813:\tlearn: 0.3007508\ttotal: 11.1s\tremaining: 2.54s\n",
      "814:\tlearn: 0.3005480\ttotal: 11.1s\tremaining: 2.53s\n",
      "815:\tlearn: 0.3003082\ttotal: 11.1s\tremaining: 2.51s\n",
      "816:\tlearn: 0.3002272\ttotal: 11.1s\tremaining: 2.5s\n",
      "817:\tlearn: 0.3001832\ttotal: 11.1s\tremaining: 2.48s\n",
      "818:\tlearn: 0.3001529\ttotal: 11.1s\tremaining: 2.46s\n",
      "819:\tlearn: 0.3001083\ttotal: 11.1s\tremaining: 2.45s\n",
      "820:\tlearn: 0.2998720\ttotal: 11.2s\tremaining: 2.43s\n",
      "821:\tlearn: 0.2997991\ttotal: 11.2s\tremaining: 2.42s\n",
      "822:\tlearn: 0.2996552\ttotal: 11.2s\tremaining: 2.4s\n",
      "823:\tlearn: 0.2994864\ttotal: 11.2s\tremaining: 2.38s\n",
      "824:\tlearn: 0.2994202\ttotal: 11.2s\tremaining: 2.37s\n",
      "825:\tlearn: 0.2993233\ttotal: 11.2s\tremaining: 2.35s\n",
      "826:\tlearn: 0.2992880\ttotal: 11.2s\tremaining: 2.34s\n",
      "827:\tlearn: 0.2992654\ttotal: 11.2s\tremaining: 2.32s\n",
      "828:\tlearn: 0.2991172\ttotal: 11.2s\tremaining: 2.31s\n",
      "829:\tlearn: 0.2990408\ttotal: 11.4s\tremaining: 2.33s\n",
      "830:\tlearn: 0.2989697\ttotal: 11.4s\tremaining: 2.32s\n",
      "831:\tlearn: 0.2988655\ttotal: 11.4s\tremaining: 2.3s\n",
      "832:\tlearn: 0.2988210\ttotal: 11.4s\tremaining: 2.29s\n",
      "833:\tlearn: 0.2987706\ttotal: 11.4s\tremaining: 2.28s\n",
      "834:\tlearn: 0.2985850\ttotal: 11.4s\tremaining: 2.26s\n",
      "835:\tlearn: 0.2983609\ttotal: 11.5s\tremaining: 2.25s\n",
      "836:\tlearn: 0.2982989\ttotal: 11.5s\tremaining: 2.23s\n",
      "837:\tlearn: 0.2982058\ttotal: 11.5s\tremaining: 2.21s\n",
      "838:\tlearn: 0.2979871\ttotal: 11.5s\tremaining: 2.2s\n",
      "839:\tlearn: 0.2979280\ttotal: 11.5s\tremaining: 2.18s\n",
      "840:\tlearn: 0.2977358\ttotal: 11.5s\tremaining: 2.17s\n",
      "841:\tlearn: 0.2975781\ttotal: 11.5s\tremaining: 2.15s\n",
      "842:\tlearn: 0.2975222\ttotal: 11.5s\tremaining: 2.14s\n",
      "843:\tlearn: 0.2975020\ttotal: 11.5s\tremaining: 2.12s\n",
      "844:\tlearn: 0.2972359\ttotal: 11.5s\tremaining: 2.11s\n",
      "845:\tlearn: 0.2971766\ttotal: 11.5s\tremaining: 2.09s\n",
      "846:\tlearn: 0.2970622\ttotal: 11.5s\tremaining: 2.08s\n",
      "847:\tlearn: 0.2968132\ttotal: 11.5s\tremaining: 2.06s\n",
      "848:\tlearn: 0.2967528\ttotal: 11.5s\tremaining: 2.05s\n",
      "849:\tlearn: 0.2966941\ttotal: 11.5s\tremaining: 2.03s\n",
      "850:\tlearn: 0.2965722\ttotal: 11.5s\tremaining: 2.02s\n",
      "851:\tlearn: 0.2965225\ttotal: 11.5s\tremaining: 2s\n",
      "852:\tlearn: 0.2963938\ttotal: 11.5s\tremaining: 1.98s\n",
      "853:\tlearn: 0.2963124\ttotal: 11.5s\tremaining: 1.97s\n",
      "854:\tlearn: 0.2959874\ttotal: 11.5s\tremaining: 1.95s\n",
      "855:\tlearn: 0.2959244\ttotal: 11.5s\tremaining: 1.94s\n",
      "856:\tlearn: 0.2958688\ttotal: 11.5s\tremaining: 1.92s\n",
      "857:\tlearn: 0.2956189\ttotal: 11.5s\tremaining: 1.91s\n",
      "858:\tlearn: 0.2954714\ttotal: 11.5s\tremaining: 1.89s\n",
      "859:\tlearn: 0.2953886\ttotal: 11.8s\tremaining: 1.91s\n",
      "860:\tlearn: 0.2953091\ttotal: 11.8s\tremaining: 1.9s\n",
      "861:\tlearn: 0.2951947\ttotal: 11.8s\tremaining: 1.88s\n",
      "862:\tlearn: 0.2950326\ttotal: 11.8s\tremaining: 1.87s\n",
      "863:\tlearn: 0.2948674\ttotal: 11.8s\tremaining: 1.85s\n",
      "864:\tlearn: 0.2947274\ttotal: 11.8s\tremaining: 1.84s\n",
      "865:\tlearn: 0.2944843\ttotal: 11.8s\tremaining: 1.82s\n",
      "866:\tlearn: 0.2943519\ttotal: 11.8s\tremaining: 1.81s\n",
      "867:\tlearn: 0.2943061\ttotal: 11.8s\tremaining: 1.79s\n",
      "868:\tlearn: 0.2940256\ttotal: 11.8s\tremaining: 1.78s\n",
      "869:\tlearn: 0.2938491\ttotal: 11.8s\tremaining: 1.76s\n",
      "870:\tlearn: 0.2937995\ttotal: 11.8s\tremaining: 1.75s\n",
      "871:\tlearn: 0.2936654\ttotal: 11.8s\tremaining: 1.74s\n",
      "872:\tlearn: 0.2934201\ttotal: 11.8s\tremaining: 1.72s\n",
      "873:\tlearn: 0.2931601\ttotal: 11.8s\tremaining: 1.7s\n",
      "874:\tlearn: 0.2931517\ttotal: 11.8s\tremaining: 1.69s\n",
      "875:\tlearn: 0.2931274\ttotal: 11.8s\tremaining: 1.68s\n",
      "876:\tlearn: 0.2929454\ttotal: 11.8s\tremaining: 1.66s\n",
      "877:\tlearn: 0.2928531\ttotal: 11.8s\tremaining: 1.65s\n",
      "878:\tlearn: 0.2925483\ttotal: 11.8s\tremaining: 1.63s\n",
      "879:\tlearn: 0.2924084\ttotal: 11.8s\tremaining: 1.61s\n",
      "880:\tlearn: 0.2922713\ttotal: 11.9s\tremaining: 1.6s\n",
      "881:\tlearn: 0.2922030\ttotal: 11.9s\tremaining: 1.59s\n",
      "882:\tlearn: 0.2921019\ttotal: 11.9s\tremaining: 1.57s\n",
      "883:\tlearn: 0.2918105\ttotal: 11.9s\tremaining: 1.56s\n",
      "884:\tlearn: 0.2917669\ttotal: 12.1s\tremaining: 1.57s\n",
      "885:\tlearn: 0.2916875\ttotal: 12.1s\tremaining: 1.55s\n",
      "886:\tlearn: 0.2914775\ttotal: 12.1s\tremaining: 1.54s\n",
      "887:\tlearn: 0.2914172\ttotal: 12.1s\tremaining: 1.52s\n",
      "888:\tlearn: 0.2912789\ttotal: 12.1s\tremaining: 1.51s\n",
      "889:\tlearn: 0.2911669\ttotal: 12.1s\tremaining: 1.49s\n",
      "890:\tlearn: 0.2911222\ttotal: 12.1s\tremaining: 1.48s\n",
      "891:\tlearn: 0.2910793\ttotal: 12.1s\tremaining: 1.47s\n",
      "892:\tlearn: 0.2909103\ttotal: 12.2s\tremaining: 1.46s\n",
      "893:\tlearn: 0.2907124\ttotal: 12.2s\tremaining: 1.45s\n",
      "894:\tlearn: 0.2905953\ttotal: 12.2s\tremaining: 1.44s\n",
      "895:\tlearn: 0.2905413\ttotal: 12.2s\tremaining: 1.42s\n",
      "896:\tlearn: 0.2902436\ttotal: 12.2s\tremaining: 1.41s\n",
      "897:\tlearn: 0.2901573\ttotal: 12.2s\tremaining: 1.39s\n",
      "898:\tlearn: 0.2901161\ttotal: 12.3s\tremaining: 1.38s\n",
      "899:\tlearn: 0.2900175\ttotal: 12.3s\tremaining: 1.36s\n",
      "900:\tlearn: 0.2897729\ttotal: 12.3s\tremaining: 1.35s\n",
      "901:\tlearn: 0.2897065\ttotal: 12.3s\tremaining: 1.33s\n",
      "902:\tlearn: 0.2896279\ttotal: 12.3s\tremaining: 1.32s\n",
      "903:\tlearn: 0.2895873\ttotal: 12.3s\tremaining: 1.3s\n",
      "904:\tlearn: 0.2893651\ttotal: 12.3s\tremaining: 1.29s\n",
      "905:\tlearn: 0.2892498\ttotal: 12.3s\tremaining: 1.27s\n",
      "906:\tlearn: 0.2890693\ttotal: 12.3s\tremaining: 1.26s\n",
      "907:\tlearn: 0.2888373\ttotal: 12.4s\tremaining: 1.25s\n",
      "908:\tlearn: 0.2886210\ttotal: 12.4s\tremaining: 1.24s\n",
      "909:\tlearn: 0.2885223\ttotal: 12.4s\tremaining: 1.22s\n",
      "910:\tlearn: 0.2884594\ttotal: 12.4s\tremaining: 1.21s\n",
      "911:\tlearn: 0.2884277\ttotal: 12.4s\tremaining: 1.19s\n",
      "912:\tlearn: 0.2881080\ttotal: 12.4s\tremaining: 1.18s\n",
      "913:\tlearn: 0.2880343\ttotal: 12.4s\tremaining: 1.16s\n",
      "914:\tlearn: 0.2879636\ttotal: 12.4s\tremaining: 1.15s\n",
      "915:\tlearn: 0.2877047\ttotal: 12.4s\tremaining: 1.14s\n",
      "916:\tlearn: 0.2876302\ttotal: 12.4s\tremaining: 1.12s\n",
      "917:\tlearn: 0.2873985\ttotal: 12.5s\tremaining: 1.12s\n",
      "918:\tlearn: 0.2873215\ttotal: 12.6s\tremaining: 1.11s\n",
      "919:\tlearn: 0.2872336\ttotal: 12.6s\tremaining: 1.09s\n",
      "920:\tlearn: 0.2870761\ttotal: 12.6s\tremaining: 1.08s\n",
      "921:\tlearn: 0.2869721\ttotal: 12.6s\tremaining: 1.06s\n",
      "922:\tlearn: 0.2869378\ttotal: 12.6s\tremaining: 1.05s\n",
      "923:\tlearn: 0.2867092\ttotal: 12.6s\tremaining: 1.03s\n",
      "924:\tlearn: 0.2865679\ttotal: 12.6s\tremaining: 1.02s\n",
      "925:\tlearn: 0.2865009\ttotal: 12.6s\tremaining: 1.01s\n",
      "926:\tlearn: 0.2864102\ttotal: 12.6s\tremaining: 993ms\n",
      "927:\tlearn: 0.2863686\ttotal: 12.6s\tremaining: 978ms\n",
      "928:\tlearn: 0.2862775\ttotal: 12.7s\tremaining: 972ms\n",
      "929:\tlearn: 0.2860844\ttotal: 12.7s\tremaining: 958ms\n",
      "930:\tlearn: 0.2860356\ttotal: 12.7s\tremaining: 944ms\n",
      "931:\tlearn: 0.2859997\ttotal: 12.7s\tremaining: 930ms\n",
      "932:\tlearn: 0.2857520\ttotal: 12.7s\tremaining: 915ms\n",
      "933:\tlearn: 0.2857170\ttotal: 12.8s\tremaining: 903ms\n",
      "934:\tlearn: 0.2854669\ttotal: 12.8s\tremaining: 889ms\n",
      "935:\tlearn: 0.2853513\ttotal: 12.8s\tremaining: 875ms\n",
      "936:\tlearn: 0.2852005\ttotal: 12.8s\tremaining: 860ms\n",
      "937:\tlearn: 0.2851563\ttotal: 12.8s\tremaining: 846ms\n",
      "938:\tlearn: 0.2848913\ttotal: 12.8s\tremaining: 831ms\n",
      "939:\tlearn: 0.2848420\ttotal: 12.8s\tremaining: 817ms\n",
      "940:\tlearn: 0.2847693\ttotal: 12.8s\tremaining: 803ms\n",
      "941:\tlearn: 0.2847031\ttotal: 12.8s\tremaining: 789ms\n",
      "942:\tlearn: 0.2846117\ttotal: 12.8s\tremaining: 774ms\n",
      "943:\tlearn: 0.2845591\ttotal: 12.8s\tremaining: 760ms\n",
      "944:\tlearn: 0.2844313\ttotal: 12.8s\tremaining: 746ms\n",
      "945:\tlearn: 0.2843587\ttotal: 13.1s\tremaining: 747ms\n",
      "946:\tlearn: 0.2842279\ttotal: 13.1s\tremaining: 732ms\n",
      "947:\tlearn: 0.2839536\ttotal: 13.1s\tremaining: 718ms\n",
      "948:\tlearn: 0.2838064\ttotal: 13.1s\tremaining: 704ms\n",
      "949:\tlearn: 0.2835915\ttotal: 13.1s\tremaining: 690ms\n",
      "950:\tlearn: 0.2835221\ttotal: 13.1s\tremaining: 675ms\n",
      "951:\tlearn: 0.2834916\ttotal: 13.1s\tremaining: 661ms\n",
      "952:\tlearn: 0.2834052\ttotal: 13.1s\tremaining: 647ms\n",
      "953:\tlearn: 0.2832247\ttotal: 13.1s\tremaining: 632ms\n",
      "954:\tlearn: 0.2829711\ttotal: 13.1s\tremaining: 618ms\n",
      "955:\tlearn: 0.2827891\ttotal: 13.1s\tremaining: 604ms\n",
      "956:\tlearn: 0.2827725\ttotal: 13.1s\tremaining: 590ms\n",
      "957:\tlearn: 0.2826808\ttotal: 13.1s\tremaining: 575ms\n",
      "958:\tlearn: 0.2826218\ttotal: 13.1s\tremaining: 561ms\n",
      "959:\tlearn: 0.2825523\ttotal: 13.1s\tremaining: 547ms\n",
      "960:\tlearn: 0.2824705\ttotal: 13.1s\tremaining: 533ms\n",
      "961:\tlearn: 0.2824655\ttotal: 13.1s\tremaining: 519ms\n",
      "962:\tlearn: 0.2822064\ttotal: 13.1s\tremaining: 505ms\n",
      "963:\tlearn: 0.2819293\ttotal: 13.1s\tremaining: 491ms\n",
      "964:\tlearn: 0.2816648\ttotal: 13.2s\tremaining: 477ms\n",
      "965:\tlearn: 0.2815487\ttotal: 13.2s\tremaining: 463ms\n",
      "966:\tlearn: 0.2814554\ttotal: 13.2s\tremaining: 449ms\n",
      "967:\tlearn: 0.2812699\ttotal: 13.2s\tremaining: 435ms\n",
      "968:\tlearn: 0.2811175\ttotal: 13.2s\tremaining: 421ms\n",
      "969:\tlearn: 0.2810233\ttotal: 13.2s\tremaining: 407ms\n",
      "970:\tlearn: 0.2808404\ttotal: 13.2s\tremaining: 393ms\n",
      "971:\tlearn: 0.2807407\ttotal: 13.2s\tremaining: 379ms\n",
      "972:\tlearn: 0.2805633\ttotal: 13.5s\tremaining: 373ms\n",
      "973:\tlearn: 0.2803294\ttotal: 13.5s\tremaining: 360ms\n",
      "974:\tlearn: 0.2800937\ttotal: 13.5s\tremaining: 346ms\n",
      "975:\tlearn: 0.2799861\ttotal: 13.5s\tremaining: 333ms\n",
      "976:\tlearn: 0.2799326\ttotal: 13.5s\tremaining: 319ms\n",
      "977:\tlearn: 0.2797098\ttotal: 13.5s\tremaining: 305ms\n",
      "978:\tlearn: 0.2796257\ttotal: 13.5s\tremaining: 291ms\n",
      "979:\tlearn: 0.2794838\ttotal: 13.5s\tremaining: 276ms\n",
      "980:\tlearn: 0.2793074\ttotal: 13.6s\tremaining: 263ms\n",
      "981:\tlearn: 0.2792303\ttotal: 13.7s\tremaining: 251ms\n",
      "982:\tlearn: 0.2792044\ttotal: 13.7s\tremaining: 237ms\n",
      "983:\tlearn: 0.2791010\ttotal: 13.7s\tremaining: 223ms\n",
      "984:\tlearn: 0.2788953\ttotal: 13.7s\tremaining: 209ms\n",
      "985:\tlearn: 0.2787943\ttotal: 13.7s\tremaining: 195ms\n",
      "986:\tlearn: 0.2786741\ttotal: 13.7s\tremaining: 180ms\n",
      "987:\tlearn: 0.2785410\ttotal: 13.7s\tremaining: 166ms\n",
      "988:\tlearn: 0.2783661\ttotal: 13.7s\tremaining: 152ms\n",
      "989:\tlearn: 0.2783398\ttotal: 13.7s\tremaining: 139ms\n",
      "990:\tlearn: 0.2781132\ttotal: 13.7s\tremaining: 125ms\n",
      "991:\tlearn: 0.2779877\ttotal: 13.7s\tremaining: 111ms\n",
      "992:\tlearn: 0.2778349\ttotal: 13.7s\tremaining: 96.7ms\n",
      "993:\tlearn: 0.2777145\ttotal: 13.7s\tremaining: 82.9ms\n",
      "994:\tlearn: 0.2775846\ttotal: 13.7s\tremaining: 69ms\n",
      "995:\tlearn: 0.2774968\ttotal: 13.7s\tremaining: 55.2ms\n",
      "996:\tlearn: 0.2774175\ttotal: 13.7s\tremaining: 41.4ms\n",
      "997:\tlearn: 0.2772648\ttotal: 13.8s\tremaining: 27.6ms\n",
      "998:\tlearn: 0.2771755\ttotal: 13.8s\tremaining: 13.8ms\n",
      "999:\tlearn: 0.2770979\ttotal: 13.8s\tremaining: 0us\n"
     ]
    },
    {
     "output_type": "execute_result",
     "data": {
      "text/plain": [
       "<pandas.io.formats.style.Styler at 0x1179fb790>"
      ],
      "text/html": "<style  type=\"text/css\" >\n#T_f8416_row0_col1{\n            width:  10em;\n             height:  80%;\n            background:  linear-gradient(90deg,#5fba7d 86.6%, transparent 86.6%);\n        }#T_f8416_row0_col2{\n            width:  10em;\n             height:  80%;\n            background:  linear-gradient(90deg,#5fba7d 84.8%, transparent 84.8%);\n        }#T_f8416_row1_col1,#T_f8416_row2_col1{\n            width:  10em;\n             height:  80%;\n            background:  linear-gradient(90deg,#5fba7d 86.0%, transparent 86.0%);\n        }#T_f8416_row1_col2,#T_f8416_row2_col2{\n            width:  10em;\n             height:  80%;\n            background:  linear-gradient(90deg,#5fba7d 84.0%, transparent 84.0%);\n        }#T_f8416_row3_col1{\n            width:  10em;\n             height:  80%;\n            background:  linear-gradient(90deg,#5fba7d 84.9%, transparent 84.9%);\n        }#T_f8416_row3_col2{\n            width:  10em;\n             height:  80%;\n            background:  linear-gradient(90deg,#5fba7d 84.2%, transparent 84.2%);\n        }#T_f8416_row4_col1{\n            width:  10em;\n             height:  80%;\n            background:  linear-gradient(90deg,#5fba7d 83.8%, transparent 83.8%);\n        }#T_f8416_row4_col2{\n            width:  10em;\n             height:  80%;\n            background:  linear-gradient(90deg,#5fba7d 83.0%, transparent 83.0%);\n        }#T_f8416_row5_col1{\n            width:  10em;\n             height:  80%;\n            background:  linear-gradient(90deg,#5fba7d 83.2%, transparent 83.2%);\n        }#T_f8416_row5_col2{\n            width:  10em;\n             height:  80%;\n            background:  linear-gradient(90deg,#5fba7d 82.0%, transparent 82.0%);\n        }#T_f8416_row6_col1{\n            width:  10em;\n             height:  80%;\n            background:  linear-gradient(90deg,#5fba7d 81.6%, transparent 81.6%);\n        }#T_f8416_row6_col2{\n            width:  10em;\n             height:  80%;\n            background:  linear-gradient(90deg,#5fba7d 80.1%, transparent 80.1%);\n        }#T_f8416_row7_col1{\n            width:  10em;\n             height:  80%;\n            background:  linear-gradient(90deg,#5fba7d 78.8%, transparent 78.8%);\n        }#T_f8416_row7_col2{\n            width:  10em;\n             height:  80%;\n            background:  linear-gradient(90deg,#5fba7d 77.3%, transparent 77.3%);\n        }#T_f8416_row8_col1{\n            width:  10em;\n             height:  80%;\n            background:  linear-gradient(90deg,#5fba7d 76.5%, transparent 76.5%);\n        }#T_f8416_row8_col2{\n            width:  10em;\n             height:  80%;\n            background:  linear-gradient(90deg,#5fba7d 75.5%, transparent 75.5%);\n        }</style><table id=\"T_f8416_\" ><thead>    <tr>        <th class=\"blank level0\" ></th>        <th class=\"col_heading level0 col0\" >Model</th>        <th class=\"col_heading level0 col1\" >Accuracy</th>        <th class=\"col_heading level0 col2\" >Bal Acc.</th>        <th class=\"col_heading level0 col3\" >Time</th>    </tr></thead><tbody>\n                <tr>\n                        <th id=\"T_f8416_level0_row0\" class=\"row_heading level0 row0\" >1</th>\n                        <td id=\"T_f8416_row0_col0\" class=\"data row0 col0\" >CatBoost</td>\n                        <td id=\"T_f8416_row0_col1\" class=\"data row0 col1\" >86.592179</td>\n                        <td id=\"T_f8416_row0_col2\" class=\"data row0 col2\" >84.769433</td>\n                        <td id=\"T_f8416_row0_col3\" class=\"data row0 col3\" >18.227093</td>\n            </tr>\n            <tr>\n                        <th id=\"T_f8416_level0_row1\" class=\"row_heading level0 row1\" >2</th>\n                        <td id=\"T_f8416_row1_col0\" class=\"data row1 col0\" >Skl GBM</td>\n                        <td id=\"T_f8416_row1_col1\" class=\"data row1 col1\" >86.033520</td>\n                        <td id=\"T_f8416_row1_col2\" class=\"data row1 col2\" >84.044796</td>\n                        <td id=\"T_f8416_row1_col3\" class=\"data row1 col3\" >1.930076</td>\n            </tr>\n            <tr>\n                        <th id=\"T_f8416_level0_row2\" class=\"row_heading level0 row2\" >3</th>\n                        <td id=\"T_f8416_row2_col0\" class=\"data row2 col0\" >Skl HistGBM</td>\n                        <td id=\"T_f8416_row2_col1\" class=\"data row2 col1\" >86.033520</td>\n                        <td id=\"T_f8416_row2_col2\" class=\"data row2 col2\" >84.044796</td>\n                        <td id=\"T_f8416_row2_col3\" class=\"data row2 col3\" >2.032097</td>\n            </tr>\n            <tr>\n                        <th id=\"T_f8416_level0_row3\" class=\"row_heading level0 row3\" >4</th>\n                        <td id=\"T_f8416_row3_col0\" class=\"data row3 col0\" >XGBoost</td>\n                        <td id=\"T_f8416_row3_col1\" class=\"data row3 col1\" >84.916201</td>\n                        <td id=\"T_f8416_row3_col2\" class=\"data row3 col2\" >84.216074</td>\n                        <td id=\"T_f8416_row3_col3\" class=\"data row3 col3\" >33.391421</td>\n            </tr>\n            <tr>\n                        <th id=\"T_f8416_level0_row4\" class=\"row_heading level0 row4\" >5</th>\n                        <td id=\"T_f8416_row4_col0\" class=\"data row4 col0\" >AdaBoost</td>\n                        <td id=\"T_f8416_row4_col1\" class=\"data row4 col1\" >83.798883</td>\n                        <td id=\"T_f8416_row4_col2\" class=\"data row4 col2\" >83.036891</td>\n                        <td id=\"T_f8416_row4_col3\" class=\"data row4 col3\" >1.720003</td>\n            </tr>\n            <tr>\n                        <th id=\"T_f8416_level0_row5\" class=\"row_heading level0 row5\" >6</th>\n                        <td id=\"T_f8416_row5_col0\" class=\"data row5 col0\" >LightGBM</td>\n                        <td id=\"T_f8416_row5_col1\" class=\"data row5 col1\" >83.240223</td>\n                        <td id=\"T_f8416_row5_col2\" class=\"data row5 col2\" >82.042161</td>\n                        <td id=\"T_f8416_row5_col3\" class=\"data row5 col3\" >115.506342</td>\n            </tr>\n            <tr>\n                        <th id=\"T_f8416_level0_row6\" class=\"row_heading level0 row6\" >7</th>\n                        <td id=\"T_f8416_row6_col0\" class=\"data row6 col0\" >Random Forest</td>\n                        <td id=\"T_f8416_row6_col1\" class=\"data row6 col1\" >81.564246</td>\n                        <td id=\"T_f8416_row6_col2\" class=\"data row6 col2\" >80.138340</td>\n                        <td id=\"T_f8416_row6_col3\" class=\"data row6 col3\" >4.394389</td>\n            </tr>\n            <tr>\n                        <th id=\"T_f8416_level0_row7\" class=\"row_heading level0 row7\" >8</th>\n                        <td id=\"T_f8416_row7_col0\" class=\"data row7 col0\" >Extra Trees</td>\n                        <td id=\"T_f8416_row7_col1\" class=\"data row7 col1\" >78.770950</td>\n                        <td id=\"T_f8416_row7_col2\" class=\"data row7 col2\" >77.325428</td>\n                        <td id=\"T_f8416_row7_col3\" class=\"data row7 col3\" >4.506011</td>\n            </tr>\n            <tr>\n                        <th id=\"T_f8416_level0_row8\" class=\"row_heading level0 row8\" >9</th>\n                        <td id=\"T_f8416_row8_col0\" class=\"data row8 col0\" >Decision Tree</td>\n                        <td id=\"T_f8416_row8_col1\" class=\"data row8 col1\" >76.536313</td>\n                        <td id=\"T_f8416_row8_col2\" class=\"data row8 col2\" >75.507246</td>\n                        <td id=\"T_f8416_row8_col3\" class=\"data row8 col3\" >0.329743</td>\n            </tr>\n    </tbody></table>"
     },
     "metadata": {},
     "execution_count": 21
    }
   ],
   "source": [
    "x_train, x_val, y_train, y_val = model_selection.train_test_split(\n",
    "    x, y,\n",
    "    test_size=0.2,\n",
    "    stratify = y,   \n",
    "    random_state=4 )\n",
    "\n",
    "results = pd.DataFrame({'Model': [], 'Accuracy': [], 'Bal Acc.': [], 'Time': []})\n",
    "\n",
    "for model_name, model in tree_classifiers.items():\n",
    "\n",
    "    start_time = time.time()\n",
    "    model.fit(x_train, y_train)\n",
    "    total_time = time.time() - start_time\n",
    "    \n",
    "    pred = model.predict(x_val)\n",
    "    \n",
    "    results = results.append({\"Model\":    model_name,\n",
    "                              \"Accuracy\": metrics.accuracy_score(y_val, pred)*100,\n",
    "                              \"Bal Acc.\": metrics.balanced_accuracy_score(y_val, pred)*100,\n",
    "                              \"Time\":     total_time},\n",
    "                              ignore_index=True)\n",
    "    \n",
    "\n",
    "\n",
    "results_ord = results.sort_values(by=['Accuracy'], ascending=False, ignore_index=True)\n",
    "results_ord.index += 1 \n",
    "results_ord.style.bar(subset=['Accuracy', 'Bal Acc.'], vmin=0, vmax=100, color='#5fba7d')"
   ]
  },
  {
   "cell_type": "code",
   "execution_count": 22,
   "metadata": {
    "deletable": false,
    "editable": false,
    "nbgrader": {
     "cell_type": "code",
     "checksum": "dde6f91a6185745a813882e0c1f997bc",
     "grade": true,
     "grade_id": "cell-af27b33fe88ad384",
     "locked": true,
     "points": 3,
     "schema_version": 3,
     "solution": false,
     "task": false
    }
   },
   "outputs": [],
   "source": [
    "assert results_ord[\"Accuracy\"].min() > 75\n",
    "assert results_ord[\"Bal Acc.\"].min() > 75\n",
    "assert len(results_ord) == 9"
   ]
  },
  {
   "cell_type": "markdown",
   "metadata": {},
   "source": [
    "# Exercise 6 (3pts):\n",
    "Define a 10 Fold cross validation strategy with:\n",
    "- With stratification\n",
    "- shuffle=True\n",
    "- random_state=0\n",
    "\n",
    "And train all the models in a for loop.\n",
    "\n",
    "Tip you can use **[cross_val_predict](https://scikit-learn.org/stable/modules/generated/sklearn.model_selection.cross_val_predict.html)** for both training and predict with "
   ]
  },
  {
   "cell_type": "code",
   "execution_count": 24,
   "metadata": {
    "deletable": false,
    "nbgrader": {
     "cell_type": "code",
     "checksum": "b9238f7916249fc81179a78b5492e5d4",
     "grade": false,
     "grade_id": "cell-37bf16dc25b43732",
     "locked": false,
     "schema_version": 3,
     "solution": true,
     "task": false
    }
   },
   "outputs": [
    {
     "output_type": "error",
     "ename": "NameError",
     "evalue": "name 'cross_val_predict' is not defined",
     "traceback": [
      "\u001b[0;31m---------------------------------------------------------------------------\u001b[0m",
      "\u001b[0;31mNameError\u001b[0m                                 Traceback (most recent call last)",
      "\u001b[0;32m<ipython-input-24-c4fdd36aef15>\u001b[0m in \u001b[0;36m<module>\u001b[0;34m\u001b[0m\n\u001b[1;32m     18\u001b[0m \u001b[0;34m\u001b[0m\u001b[0m\n\u001b[1;32m     19\u001b[0m     \u001b[0;31m# TRAIN AND GET PREDICTIONS USING cross_val_predict() and x,y\u001b[0m\u001b[0;34m\u001b[0m\u001b[0;34m\u001b[0m\u001b[0;34m\u001b[0m\u001b[0m\n\u001b[0;32m---> 20\u001b[0;31m     \u001b[0mpred\u001b[0m \u001b[0;34m=\u001b[0m \u001b[0mcross_val_predict\u001b[0m\u001b[0;34m(\u001b[0m\u001b[0mmodel\u001b[0m\u001b[0;34m,\u001b[0m \u001b[0mx\u001b[0m\u001b[0;34m,\u001b[0m\u001b[0my\u001b[0m\u001b[0;34m,\u001b[0m \u001b[0mcv\u001b[0m\u001b[0;34m=\u001b[0m\u001b[0mskf\u001b[0m\u001b[0;34m)\u001b[0m\u001b[0;34m\u001b[0m\u001b[0;34m\u001b[0m\u001b[0m\n\u001b[0m\u001b[1;32m     21\u001b[0m \u001b[0;34m\u001b[0m\u001b[0m\n\u001b[1;32m     22\u001b[0m     \u001b[0mtotal_time\u001b[0m \u001b[0;34m=\u001b[0m \u001b[0mtime\u001b[0m\u001b[0;34m.\u001b[0m\u001b[0mtime\u001b[0m\u001b[0;34m(\u001b[0m\u001b[0;34m)\u001b[0m \u001b[0;34m-\u001b[0m \u001b[0mstart_time\u001b[0m\u001b[0;34m\u001b[0m\u001b[0;34m\u001b[0m\u001b[0m\n",
      "\u001b[0;31mNameError\u001b[0m: name 'cross_val_predict' is not defined"
     ]
    }
   ],
   "source": [
    "# from sklearn.model_selection import cross_val_predict\n",
    "\n",
    "skf = model_selection.StratifiedKFold(n_splits=10, random_state=0, shuffle=True)\n",
    "\n",
    "\n",
    "\n",
    "\n",
    "results = pd.DataFrame({'Model': [], 'Accuracy': [], 'Bal Acc.': [], 'Time': []})\n",
    "\n",
    "\n",
    "\n",
    "\n",
    "\n",
    "for model_name, model in tree_classifiers.items():\n",
    "    start_time = time.time()\n",
    "\n",
    "\n",
    "        \n",
    "    # TRAIN AND GET PREDICTIONS USING cross_val_predict() and x,y\n",
    "    pred = cross_val_predict(model, x,y, cv=skf)\n",
    "\n",
    "    total_time = time.time() - start_time\n",
    "\n",
    "    results = results.append({\"Model\":    model_name,\n",
    "                              \"Accuracy\": metrics.accuracy_score(y, pred)*100,\n",
    "                              \"Bal Acc.\": metrics.balanced_accuracy_score(y, pred)*100,\n",
    "                              \"Time\":     total_time},\n",
    "                              ignore_index=True)\n",
    "\n",
    "\n",
    "results_ord = results.sort_values(by=['Accuracy'], ascending=False, ignore_index=True)\n",
    "results_ord.index += 1 \n",
    "results_ord.style.bar(subset=['Accuracy', 'Bal Acc.'], vmin=0, vmax=100, color='#5fba7d')"
   ]
  },
  {
   "cell_type": "code",
   "execution_count": null,
   "metadata": {
    "deletable": false,
    "editable": false,
    "nbgrader": {
     "cell_type": "code",
     "checksum": "355f8e8321aae7be679a8d16b25172f2",
     "grade": true,
     "grade_id": "cell-57cc085faad513cf",
     "locked": true,
     "points": 3,
     "schema_version": 3,
     "solution": false,
     "task": false
    }
   },
   "outputs": [],
   "source": [
    "assert results_ord[\"Accuracy\"].min() > 75\n",
    "assert results_ord[\"Bal Acc.\"].min() > 75\n",
    "assert len(results_ord) == 9"
   ]
  },
  {
   "cell_type": "markdown",
   "metadata": {},
   "source": [
    "# Exercise 7.1\n",
    "Train with all data the best model"
   ]
  },
  {
   "cell_type": "code",
   "execution_count": null,
   "metadata": {
    "colab": {},
    "colab_type": "code",
    "deletable": false,
    "id": "monuuQhHL7B_",
    "nbgrader": {
     "cell_type": "code",
     "checksum": "088ae511ec2eb947de2bff002e75d460",
     "grade": false,
     "grade_id": "cell-031a656e1e811717",
     "locked": false,
     "schema_version": 3,
     "solution": true,
     "task": false
    }
   },
   "outputs": [
    {
     "output_type": "error",
     "ename": "Error",
     "evalue": "Pip module Unable to parse debugpy output, please log an issue with https://github.com/microsoft/vscode-jupyter is required for debugging cells. You will need to install it to debug cells.",
     "traceback": [
      "Error: Pip module Unable to parse debugpy output, please log an issue with https://github.com/microsoft/vscode-jupyter is required for debugging cells. You will need to install it to debug cells.",
      "at b.parseConnectInfo (/Users/fabiofistarol/.vscode/extensions/ms-toolsai.jupyter-2021.5.745244803/out/client/extension.js:49:478177)",
      "at b.connectToLocal (/Users/fabiofistarol/.vscode/extensions/ms-toolsai.jupyter-2021.5.745244803/out/client/extension.js:49:478704)",
      "at async b.connect (/Users/fabiofistarol/.vscode/extensions/ms-toolsai.jupyter-2021.5.745244803/out/client/extension.js:49:476581)",
      "at async b.startDebugSession (/Users/fabiofistarol/.vscode/extensions/ms-toolsai.jupyter-2021.5.745244803/out/client/extension.js:49:475728)",
      "at async T.submitCode (/Users/fabiofistarol/.vscode/extensions/ms-toolsai.jupyter-2021.5.745244803/out/client/extension.js:32:663261)",
      "at async T.handleRunByLine (/Users/fabiofistarol/.vscode/extensions/ms-toolsai.jupyter-2021.5.745244803/out/client/extension.js:32:651205)"
     ]
    }
   ],
   "source": [
    "# best_model = tree_classifiers[\"SELECT MY BEST MODEL HERE\"]\n",
    "\n",
    "# Fit best model with all data\n",
    "\n",
    "best_model =   tree_classifiers[\"LightGBM\"] \n",
    "best_model.fit(x,y)"
   ]
  },
  {
   "cell_type": "markdown",
   "metadata": {},
   "source": [
    "# Exercise 7.2 (2pts)\n",
    "With your best model, generate the predicitions for test data (x_test)"
   ]
  },
  {
   "cell_type": "code",
   "execution_count": null,
   "metadata": {
    "deletable": false,
    "nbgrader": {
     "cell_type": "code",
     "checksum": "031ab122b02b5833236370a53d148daf",
     "grade": false,
     "grade_id": "cell-44b93a0dbd4eb6fc",
     "locked": false,
     "schema_version": 3,
     "solution": true,
     "task": false
    }
   },
   "outputs": [],
   "source": [
    "# test_pred = # Get the predictions for x_test\n",
    "\n",
    "test_pred = best_model.predict(x_test)"
   ]
  },
  {
   "cell_type": "code",
   "execution_count": null,
   "metadata": {
    "deletable": false,
    "editable": false,
    "nbgrader": {
     "cell_type": "code",
     "checksum": "180b37cf4a0276bdf509220b1706a8aa",
     "grade": true,
     "grade_id": "cell-a29fc8d24284520e",
     "locked": true,
     "points": 2,
     "schema_version": 3,
     "solution": false,
     "task": false
    }
   },
   "outputs": [],
   "source": [
    "assert len(test_pred) == 418\n",
    "assert np.unique(test_pred).tolist() == [0,1]"
   ]
  },
  {
   "cell_type": "markdown",
   "metadata": {},
   "source": [
    "# Exercise 7.3\n",
    "\n",
    "Submit to kaggle.\n",
    "\n",
    "- You can use the kaggle command line app. Check https://github.com/Kaggle/kaggle-api"
   ]
  },
  {
   "cell_type": "code",
   "execution_count": null,
   "metadata": {},
   "outputs": [],
   "source": [
    "sub = pd.DataFrame(test_pred, index=x_test.index, columns=[\"Survived\"])\n",
    "sub.head()"
   ]
  },
  {
   "cell_type": "code",
   "execution_count": null,
   "metadata": {},
   "outputs": [],
   "source": [
    "sub.to_csv(\"sub.csv\")"
   ]
  },
  {
   "cell_type": "code",
   "execution_count": null,
   "metadata": {},
   "outputs": [],
   "source": [
    "!kaggle competitions submit -c titanic -f sub.csv -m \"My submission message\""
   ]
  }
 ],
 "metadata": {
  "anaconda-cloud": {},
  "colab": {
   "collapsed_sections": [],
   "name": "Titanic LogReg.ipynb",
   "provenance": []
  },
  "kernelspec": {
   "name": "python388jvsc74a57bd02d78e359ff02d0c79ca305c8815f63c63e3b9beac7f2ccf04f89f33a94ce9080",
   "display_name": "Python 3.8.8 64-bit ('machine_learning': conda)"
  },
  "language_info": {
   "codemirror_mode": {
    "name": "ipython",
    "version": 3
   },
   "file_extension": ".py",
   "mimetype": "text/x-python",
   "name": "python",
   "nbconvert_exporter": "python",
   "pygments_lexer": "ipython3",
   "version": "3.8.8"
  },
  "name": "seminar13_optional_practice_trees_titanic.ipynb"
 },
 "nbformat": 4,
 "nbformat_minor": 4
}