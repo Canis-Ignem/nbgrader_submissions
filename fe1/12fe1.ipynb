{
 "cells": [
  {
   "cell_type": "markdown",
   "metadata": {},
   "source": [
    "## Imports"
   ]
  },
  {
   "cell_type": "code",
   "execution_count": null,
   "metadata": {},
   "outputs": [],
   "source": [
    "# pip install --upgrade scikit-learn"
   ]
  },
  {
   "cell_type": "code",
   "execution_count": 1,
   "metadata": {
    "colab": {},
    "colab_type": "code",
    "id": "mjnuJ19dJV7v"
   },
   "outputs": [
    {
     "output_type": "stream",
     "name": "stdout",
     "text": [
      "Pandas   1.2.3\nSklearn  0.24.1\n"
     ]
    }
   ],
   "source": [
    "import time\n",
    "from IPython.display import clear_output\n",
    "import numpy    as np\n",
    "import pandas   as pd\n",
    "import seaborn  as sb\n",
    "import matplotlib.pyplot as plt\n",
    "import sklearn  as skl\n",
    "\n",
    "from sklearn import pipeline      # Pipeline\n",
    "from sklearn import preprocessing # OrdinalEncoder, LabelEncoder\n",
    "from sklearn import impute\n",
    "from sklearn import compose\n",
    "from sklearn import model_selection # train_test_split\n",
    "from sklearn import metrics         # accuracy_score, balanced_accuracy_score, plot_confusion_matrix\n",
    "from sklearn import set_config\n",
    "\n",
    "set_config(display='diagram') # Useful for display the pipeline\n",
    "\n",
    "print(\"Pandas  \", pd.__version__)\n",
    "print(\"Sklearn \", skl.__version__) # Try to use 0.24"
   ]
  },
  {
   "cell_type": "markdown",
   "metadata": {},
   "source": [
    "## Get the dataset\n",
    "- **CLOUD = True**: Download dataset from Kaggle. Necesary for cloud enviroments like COLAB. **Specify your [kaggle credentials](https://www.kaggle.com/docs/api)**.\n",
    "- **CLOUD = False**: Get the dataset from your local machine. **Specify the data path**."
   ]
  },
  {
   "cell_type": "code",
   "execution_count": 2,
   "metadata": {},
   "outputs": [],
   "source": [
    "CLOUD = True\n",
    "\n",
    "if CLOUD:\n",
    "    import os\n",
    "    os.environ['KAGGLE_USERNAME'] = \"joshbatt\"\n",
    "    os.environ['KAGGLE_KEY']      = \"a5effb5656a3fb38b287707b1576bc1e\"  # See https://www.kaggle.com/docs/api\n",
    "    #!pip install --upgrade kaggle\n",
    "    #!kaggle competitions download -c titanic\n",
    "    DATA_PATH = \"titanic/\"\n",
    "\n",
    "else:\n",
    "    DATA_PATH = \"titanic/\""
   ]
  },
  {
   "cell_type": "markdown",
   "metadata": {},
   "source": [
    "## Load data"
   ]
  },
  {
   "cell_type": "code",
   "execution_count": 3,
   "metadata": {
    "colab": {},
    "colab_type": "code",
    "id": "wAy8TnVPJV8S"
   },
   "outputs": [
    {
     "output_type": "stream",
     "name": "stdout",
     "text": [
      "Train DataFrame: (891, 11)\nTest DataFrame:  (418, 10)\n"
     ]
    }
   ],
   "source": [
    "df      = pd.read_csv(DATA_PATH + \"train.csv\", index_col='PassengerId')\n",
    "df_test = pd.read_csv(DATA_PATH + \"test.csv\",  index_col='PassengerId')\n",
    "\n",
    "print(\"Train DataFrame:\", df.shape)\n",
    "print(\"Test DataFrame: \", df_test.shape)"
   ]
  },
  {
   "cell_type": "markdown",
   "metadata": {},
   "source": [
    "## Check missings"
   ]
  },
  {
   "cell_type": "code",
   "execution_count": 4,
   "metadata": {},
   "outputs": [
    {
     "output_type": "stream",
     "name": "stdout",
     "text": [
      "PRINT DATASET\n"
     ]
    },
    {
     "output_type": "execute_result",
     "data": {
      "text/plain": [
       "Survived      0\n",
       "Pclass        0\n",
       "Name          0\n",
       "Sex           0\n",
       "Age         177\n",
       "SibSp         0\n",
       "Parch         0\n",
       "Ticket        0\n",
       "Fare          0\n",
       "Cabin       687\n",
       "Embarked      2\n",
       "dtype: int64"
      ]
     },
     "metadata": {},
     "execution_count": 4
    }
   ],
   "source": [
    "print(\"PRINT DATASET\")\n",
    "df.isnull().sum()"
   ]
  },
  {
   "cell_type": "code",
   "execution_count": 5,
   "metadata": {},
   "outputs": [
    {
     "output_type": "stream",
     "name": "stdout",
     "text": [
      "PRINT TEST DATASET (NO SURVIVOR COLUMN)\n"
     ]
    },
    {
     "output_type": "execute_result",
     "data": {
      "text/plain": [
       "Pclass        0\n",
       "Name          0\n",
       "Sex           0\n",
       "Age          86\n",
       "SibSp         0\n",
       "Parch         0\n",
       "Ticket        0\n",
       "Fare          1\n",
       "Cabin       327\n",
       "Embarked      0\n",
       "dtype: int64"
      ]
     },
     "metadata": {},
     "execution_count": 5
    }
   ],
   "source": [
    "print(\"PRINT TEST DATASET (NO SURVIVOR COLUMN)\")\n",
    "df_test.isnull().sum()"
   ]
  },
  {
   "cell_type": "markdown",
   "metadata": {},
   "source": [
    "# Exercise 1 (2pts):\n",
    "Extract the title (Mr, Mrs, ... ) from the \"Name\" column.\n",
    "\n",
    "Tips:\n",
    "- split(',')[1] to get the 2nd part, and remove the surnamename\n",
    "- split('.')[0] to get the 1str part, and remove the name"
   ]
  },
  {
   "cell_type": "code",
   "execution_count": 6,
   "metadata": {
    "deletable": false,
    "nbgrader": {
     "cell_type": "code",
     "checksum": "cac1de4ed2d966fcdf707a8bfd131fba",
     "grade": false,
     "grade_id": "cell-d56107842f0f54d2",
     "locked": false,
     "schema_version": 3,
     "solution": true,
     "task": false
    }
   },
   "outputs": [],
   "source": [
    "# CODE HERE get_Title_from_Name funtion\n",
    "# Create this function using lambda (not def)\n",
    "\n",
    "get_Title_from_Name = lambda x: x.split(',')[1].split('.')[0].strip()\n",
    "\n",
    "# YOUR CODE HERE\n",
    "#raise NotImplementedError()\n",
    "\n",
    "df['Title']      = df['Name'].map(get_Title_from_Name)\n",
    "df_test['Title'] = df_test['Name'].map(get_Title_from_Name)"
   ]
  },
  {
   "cell_type": "code",
   "execution_count": 7,
   "metadata": {
    "deletable": false,
    "editable": false,
    "nbgrader": {
     "cell_type": "code",
     "checksum": "f23c4d567e5fb4f4b69a001df14c6f7c",
     "grade": true,
     "grade_id": "cell-f3d989a17018344b",
     "locked": true,
     "points": 2,
     "schema_version": 3,
     "solution": false,
     "task": false
    }
   },
   "outputs": [],
   "source": [
    "assert df['Title'].values[0] == \"Mr\"\n",
    "assert df['Title'].values[1] == \"Mrs\"\n",
    "assert df['Title'].values[2] == \"Miss\"\n",
    "\n",
    "assert df_test['Title'].values[0] == \"Mr\"\n",
    "assert df_test['Title'].values[1] == \"Mrs\"\n",
    "assert df_test['Title'].values[414] == \"Dona\""
   ]
  },
  {
   "cell_type": "markdown",
   "metadata": {},
   "source": [
    "# Exercise 2 (1pts):\n",
    "Apply the title_dictionary to get a better information about the title. You have to overwrite the Title variable."
   ]
  },
  {
   "cell_type": "code",
   "execution_count": 8,
   "metadata": {},
   "outputs": [],
   "source": [
    "title_dictionary = {\n",
    "    \"Capt\": \"Officer\",\n",
    "    \"Col\": \"Officer\",\n",
    "    \"Major\": \"Officer\",\n",
    "    \"Jonkheer\": \"Royalty\",\n",
    "    \"Don\": \"Royalty\",\n",
    "    \"Sir\" : \"Royalty\",\n",
    "    \"Dr\": \"Officer\",\n",
    "    \"Rev\": \"Officer\",\n",
    "    \"the Countess\":\"Royalty\",\n",
    "    \"Mme\": \"Mrs\",\n",
    "    \"Mlle\": \"Miss\",\n",
    "    \"Ms\": \"Mrs\",\n",
    "    \"Mr\" : \"Mr\",\n",
    "    \"Mrs\" : \"Mrs\",\n",
    "    \"Miss\" : \"Miss\",\n",
    "    \"Master\" : \"Master\",\n",
    "    \"Lady\" : \"Royalty\"\n",
    "}"
   ]
  },
  {
   "cell_type": "code",
   "execution_count": 9,
   "metadata": {
    "deletable": false,
    "nbgrader": {
     "cell_type": "code",
     "checksum": "da7233548e7218eded680b5edb7963de",
     "grade": false,
     "grade_id": "cell-5c6a842c812fafda",
     "locked": false,
     "schema_version": 3,
     "solution": true,
     "task": false
    }
   },
   "outputs": [],
   "source": [
    "# Use map to apply the prevous dict\n",
    "\n",
    "df[\"Title\"] =  df['Title'].map(title_dictionary)\n",
    "df_test[\"Title\"] =  df_test['Title'].map(title_dictionary)\n",
    "\n",
    "# YOUR CODE HERE\n",
    "#raise NotImplementedError()"
   ]
  },
  {
   "cell_type": "code",
   "execution_count": 10,
   "metadata": {
    "deletable": false,
    "editable": false,
    "nbgrader": {
     "cell_type": "code",
     "checksum": "96a09f1cde63b704ff2f391309c30690",
     "grade": true,
     "grade_id": "cell-669f5a637e57e835",
     "locked": true,
     "points": 1,
     "schema_version": 3,
     "solution": false,
     "task": false
    }
   },
   "outputs": [],
   "source": [
    "assert df['Title'].values[886] == \"Officer\"\n",
    "assert df_test['Title'].values[417] == \"Master\""
   ]
  },
  {
   "cell_type": "markdown",
   "metadata": {},
   "source": [
    "# Exercise OPTINAL (0pts):\n",
    "Try to extract some information from the feature **Ticket**. Search on Internet if that colum has some kind of information."
   ]
  },
  {
   "cell_type": "code",
   "execution_count": 11,
   "metadata": {},
   "outputs": [
    {
     "output_type": "execute_result",
     "data": {
      "text/plain": [
       "PassengerId\n",
       "892                 330911\n",
       "893                 363272\n",
       "894                 240276\n",
       "895                 315154\n",
       "896                3101298\n",
       "               ...        \n",
       "1305             A.5. 3236\n",
       "1306              PC 17758\n",
       "1307    SOTON/O.Q. 3101262\n",
       "1308                359309\n",
       "1309                  2668\n",
       "Name: Ticket, Length: 418, dtype: object"
      ]
     },
     "metadata": {},
     "execution_count": 11
    }
   ],
   "source": [
    "df_test['Ticket']"
   ]
  },
  {
   "cell_type": "markdown",
   "metadata": {},
   "source": [
    "# Exercise OPTIONAL (0pts):\n",
    "Try to extract some information from the feature **Cabin**. Search on Internet if that colum has some kind of information."
   ]
  },
  {
   "cell_type": "code",
   "execution_count": 12,
   "metadata": {},
   "outputs": [
    {
     "output_type": "execute_result",
     "data": {
      "text/plain": [
       "PassengerId\n",
       "892      NaN\n",
       "893      NaN\n",
       "894      NaN\n",
       "895      NaN\n",
       "896      NaN\n",
       "        ... \n",
       "1305     NaN\n",
       "1306    C105\n",
       "1307     NaN\n",
       "1308     NaN\n",
       "1309     NaN\n",
       "Name: Cabin, Length: 418, dtype: object"
      ]
     },
     "metadata": {},
     "execution_count": 12
    }
   ],
   "source": [
    "df_test['Cabin']"
   ]
  },
  {
   "cell_type": "markdown",
   "metadata": {},
   "source": [
    "# Preprocessing\n",
    "For X data, notice that...\n",
    "- We drop Survived because is the target variable\n",
    "- We drop Name because we have extracted the Title: Mr, Mrs, ...\n",
    "- We drop Ticket because it has no information -> see df.Ticket.nunique()\n",
    "- We drop Cabin because it has a lot of missings (77% are missings)\n",
    "\n",
    "Then, we identify **numerical** variables and **categorical** variables,"
   ]
  },
  {
   "cell_type": "code",
   "execution_count": 13,
   "metadata": {},
   "outputs": [],
   "source": [
    "x = df.drop(columns=[\"Survived\", 'Name', 'Ticket', 'Cabin']) # X DATA (WILL BE TRAIN+VALID DATA)\n",
    "y = df[\"Survived\"] # 0 = No, 1 = Yes\n",
    "\n",
    "x_test = df_test.drop(columns=['Name', 'Ticket', 'Cabin']) # # X_TEST DATA (NEW DATA)"
   ]
  },
  {
   "cell_type": "code",
   "execution_count": 14,
   "metadata": {},
   "outputs": [
    {
     "output_type": "stream",
     "name": "stdout",
     "text": [
      "\nNumerical features:\n ['Pclass', 'SibSp', 'Parch', 'Fare', 'Age']\n\nCategorical features:\n ['Sex', 'Embarked', 'Title']\n"
     ]
    }
   ],
   "source": [
    "cat_vars  = ['Sex', 'Embarked', 'Title']         # x.select_dtypes(include=[object]).columns.values.tolist()\n",
    "num_vars  = ['Pclass', 'SibSp', 'Parch', 'Fare', 'Age'] # x.select_dtypes(exclude=[object]).columns.values.tolist()\n",
    "\n",
    "print(\"\\nNumerical features:\\n\", num_vars)\n",
    "print(\"\\nCategorical features:\\n\", cat_vars)"
   ]
  },
  {
   "cell_type": "markdown",
   "metadata": {},
   "source": [
    "# Exercise 3 (2pts):\n",
    "Create a **ColumnTransformer for Tree Models**. You need to create 2 pipelines (one for numerical and other for categories). Remember:\n",
    "- Categorical pipeline: Some SimpleImputer -> Some Encoder\n",
    "- Numerical pipeline: Some SimpleImputer -> NO Encoder"
   ]
  },
  {
   "cell_type": "code",
   "execution_count": 15,
   "metadata": {
    "deletable": false,
    "nbgrader": {
     "cell_type": "code",
     "checksum": "4a99fc5ecc693dc549b0e1560c568eea",
     "grade": false,
     "grade_id": "cell-c607e75fb38ea248",
     "locked": false,
     "schema_version": 3,
     "solution": true,
     "task": false
    }
   },
   "outputs": [
    {
     "output_type": "execute_result",
     "data": {
      "text/plain": [
       "ColumnTransformer(transformers=[('num',\n",
       "                                 Pipeline(steps=[('imputer', SimpleImputer())]),\n",
       "                                 ['Pclass', 'SibSp', 'Parch', 'Fare', 'Age']),\n",
       "                                ('cat',\n",
       "                                 Pipeline(steps=[('imputer',\n",
       "                                                  SimpleImputer(fill_value='missing',\n",
       "                                                                strategy='constant')),\n",
       "                                                 ('onehot',\n",
       "                                                  OneHotEncoder(handle_unknown='ignore'))]),\n",
       "                                 ['Sex', 'Embarked', 'Title'])])"
      ],
      "text/html": "<style>div.sk-top-container {color: black;background-color: white;}div.sk-toggleable {background-color: white;}label.sk-toggleable__label {cursor: pointer;display: block;width: 100%;margin-bottom: 0;padding: 0.2em 0.3em;box-sizing: border-box;text-align: center;}div.sk-toggleable__content {max-height: 0;max-width: 0;overflow: hidden;text-align: left;background-color: #f0f8ff;}div.sk-toggleable__content pre {margin: 0.2em;color: black;border-radius: 0.25em;background-color: #f0f8ff;}input.sk-toggleable__control:checked~div.sk-toggleable__content {max-height: 200px;max-width: 100%;overflow: auto;}div.sk-estimator input.sk-toggleable__control:checked~label.sk-toggleable__label {background-color: #d4ebff;}div.sk-label input.sk-toggleable__control:checked~label.sk-toggleable__label {background-color: #d4ebff;}input.sk-hidden--visually {border: 0;clip: rect(1px 1px 1px 1px);clip: rect(1px, 1px, 1px, 1px);height: 1px;margin: -1px;overflow: hidden;padding: 0;position: absolute;width: 1px;}div.sk-estimator {font-family: monospace;background-color: #f0f8ff;margin: 0.25em 0.25em;border: 1px dotted black;border-radius: 0.25em;box-sizing: border-box;}div.sk-estimator:hover {background-color: #d4ebff;}div.sk-parallel-item::after {content: \"\";width: 100%;border-bottom: 1px solid gray;flex-grow: 1;}div.sk-label:hover label.sk-toggleable__label {background-color: #d4ebff;}div.sk-serial::before {content: \"\";position: absolute;border-left: 1px solid gray;box-sizing: border-box;top: 2em;bottom: 0;left: 50%;}div.sk-serial {display: flex;flex-direction: column;align-items: center;background-color: white;}div.sk-item {z-index: 1;}div.sk-parallel {display: flex;align-items: stretch;justify-content: center;background-color: white;}div.sk-parallel-item {display: flex;flex-direction: column;position: relative;background-color: white;}div.sk-parallel-item:first-child::after {align-self: flex-end;width: 50%;}div.sk-parallel-item:last-child::after {align-self: flex-start;width: 50%;}div.sk-parallel-item:only-child::after {width: 0;}div.sk-dashed-wrapped {border: 1px dashed gray;margin: 0.2em;box-sizing: border-box;padding-bottom: 0.1em;background-color: white;position: relative;}div.sk-label label {font-family: monospace;font-weight: bold;background-color: white;display: inline-block;line-height: 1.2em;}div.sk-label-container {position: relative;z-index: 2;text-align: center;}div.sk-container {display: inline-block;position: relative;}</style><div class=\"sk-top-container\"><div class=\"sk-container\"><div class=\"sk-item sk-dashed-wrapped\"><div class=\"sk-label-container\"><div class=\"sk-label sk-toggleable\"><input class=\"sk-toggleable__control sk-hidden--visually\" id=\"ff67b55b-ca68-4c48-b1d4-926abf86363a\" type=\"checkbox\" ><label class=\"sk-toggleable__label\" for=\"ff67b55b-ca68-4c48-b1d4-926abf86363a\">ColumnTransformer</label><div class=\"sk-toggleable__content\"><pre>ColumnTransformer(transformers=[('num',\n                                 Pipeline(steps=[('imputer', SimpleImputer())]),\n                                 ['Pclass', 'SibSp', 'Parch', 'Fare', 'Age']),\n                                ('cat',\n                                 Pipeline(steps=[('imputer',\n                                                  SimpleImputer(fill_value='missing',\n                                                                strategy='constant')),\n                                                 ('onehot',\n                                                  OneHotEncoder(handle_unknown='ignore'))]),\n                                 ['Sex', 'Embarked', 'Title'])])</pre></div></div></div><div class=\"sk-parallel\"><div class=\"sk-parallel-item\"><div class=\"sk-item\"><div class=\"sk-label-container\"><div class=\"sk-label sk-toggleable\"><input class=\"sk-toggleable__control sk-hidden--visually\" id=\"84927dfd-5a1d-4d4c-8069-439e50fe4615\" type=\"checkbox\" ><label class=\"sk-toggleable__label\" for=\"84927dfd-5a1d-4d4c-8069-439e50fe4615\">num</label><div class=\"sk-toggleable__content\"><pre>['Pclass', 'SibSp', 'Parch', 'Fare', 'Age']</pre></div></div></div><div class=\"sk-serial\"><div class=\"sk-item\"><div class=\"sk-serial\"><div class=\"sk-item\"><div class=\"sk-estimator sk-toggleable\"><input class=\"sk-toggleable__control sk-hidden--visually\" id=\"e7978ab3-b8ef-4e20-b8c3-9b2d04467098\" type=\"checkbox\" ><label class=\"sk-toggleable__label\" for=\"e7978ab3-b8ef-4e20-b8c3-9b2d04467098\">SimpleImputer</label><div class=\"sk-toggleable__content\"><pre>SimpleImputer()</pre></div></div></div></div></div></div></div></div><div class=\"sk-parallel-item\"><div class=\"sk-item\"><div class=\"sk-label-container\"><div class=\"sk-label sk-toggleable\"><input class=\"sk-toggleable__control sk-hidden--visually\" id=\"ed578727-655e-43d8-8e6d-08318586c978\" type=\"checkbox\" ><label class=\"sk-toggleable__label\" for=\"ed578727-655e-43d8-8e6d-08318586c978\">cat</label><div class=\"sk-toggleable__content\"><pre>['Sex', 'Embarked', 'Title']</pre></div></div></div><div class=\"sk-serial\"><div class=\"sk-item\"><div class=\"sk-serial\"><div class=\"sk-item\"><div class=\"sk-estimator sk-toggleable\"><input class=\"sk-toggleable__control sk-hidden--visually\" id=\"2a0dbc8c-45cc-4c24-b7be-25346f214181\" type=\"checkbox\" ><label class=\"sk-toggleable__label\" for=\"2a0dbc8c-45cc-4c24-b7be-25346f214181\">SimpleImputer</label><div class=\"sk-toggleable__content\"><pre>SimpleImputer(fill_value='missing', strategy='constant')</pre></div></div></div><div class=\"sk-item\"><div class=\"sk-estimator sk-toggleable\"><input class=\"sk-toggleable__control sk-hidden--visually\" id=\"6bcbbbc6-2de4-49ff-8e36-a0f68378784c\" type=\"checkbox\" ><label class=\"sk-toggleable__label\" for=\"6bcbbbc6-2de4-49ff-8e36-a0f68378784c\">OneHotEncoder</label><div class=\"sk-toggleable__content\"><pre>OneHotEncoder(handle_unknown='ignore')</pre></div></div></div></div></div></div></div></div></div></div></div></div>"
     },
     "metadata": {},
     "execution_count": 15
    }
   ],
   "source": [
    "num_4_treeModels = pipeline.Pipeline(steps=[\n",
    "  ('imputer', impute.SimpleImputer(strategy='mean', add_indicator=False))\n",
    "])\n",
    "\n",
    "cat_4_treeModels = pipeline.Pipeline(steps=[\n",
    "  ('imputer', impute.SimpleImputer(strategy='constant', fill_value='missing')),\n",
    "  ('onehot', preprocessing.OneHotEncoder(handle_unknown='ignore'))\n",
    "])\n",
    "\n",
    "tree_prepro = compose.ColumnTransformer(transformers=[\n",
    "    ('num', num_4_treeModels, num_vars),\n",
    "    ('cat', cat_4_treeModels, cat_vars),\n",
    "], remainder='drop')\n",
    "\n",
    "tree_prepro"
   ]
  },
  {
   "cell_type": "code",
   "execution_count": 16,
   "metadata": {
    "deletable": false,
    "editable": false,
    "nbgrader": {
     "cell_type": "code",
     "checksum": "00bde840843413a4f57c4480f8930ef0",
     "grade": true,
     "grade_id": "cell-e636558135fb5975",
     "locked": true,
     "points": 2,
     "schema_version": 3,
     "solution": false,
     "task": false
    }
   },
   "outputs": [],
   "source": [
    "assert type(tree_prepro)      is compose._column_transformer.ColumnTransformer\n",
    "assert type(num_4_treeModels) is pipeline.Pipeline\n",
    "assert type(cat_4_treeModels) is pipeline.Pipeline\n",
    "assert len(num_4_treeModels) == 1\n",
    "assert len(cat_4_treeModels) == 2"
   ]
  },
  {
   "cell_type": "markdown",
   "metadata": {},
   "source": [
    "# Exercise 4 (1pts):\n",
    "1. Complete the diccionary with some Tree Models.\n",
    "2. Then we put each model in a Pipeline where:\n",
    "   - first is the prepocessing with the column Transformer\n",
    "   - Then is the Tree model\n",
    "3. Display the fullpipeline of the LGBMClassifier"
   ]
  },
  {
   "cell_type": "code",
   "execution_count": 17,
   "metadata": {},
   "outputs": [],
   "source": [
    "from sklearn.tree          import DecisionTreeClassifier\n",
    "from sklearn.ensemble      import RandomForestClassifier\n",
    "from sklearn.ensemble      import ExtraTreesClassifier\n",
    "from sklearn.ensemble      import AdaBoostClassifier\n",
    "from sklearn.ensemble      import GradientBoostingClassifier\n",
    "from sklearn.experimental  import enable_hist_gradient_boosting # Necesary for HistGradientBoostingClassifier\n",
    "from sklearn.ensemble      import HistGradientBoostingClassifier\n",
    "from xgboost               import XGBClassifier\n",
    "from lightgbm              import LGBMClassifier\n",
    "from catboost              import CatBoostClassifier"
   ]
  },
  {
   "cell_type": "code",
   "execution_count": 18,
   "metadata": {
    "deletable": false,
    "nbgrader": {
     "cell_type": "code",
     "checksum": "f23af11f3af791efa5687477c0a4c9d6",
     "grade": false,
     "grade_id": "cell-76a3be8223730c5a",
     "locked": false,
     "schema_version": 3,
     "solution": true,
     "task": false
    }
   },
   "outputs": [
    {
     "output_type": "execute_result",
     "data": {
      "text/plain": [
       "Pipeline(steps=[('columntransformer',\n",
       "                 ColumnTransformer(transformers=[('num',\n",
       "                                                  Pipeline(steps=[('imputer',\n",
       "                                                                   SimpleImputer())]),\n",
       "                                                  ['Pclass', 'SibSp', 'Parch',\n",
       "                                                   'Fare', 'Age']),\n",
       "                                                 ('cat',\n",
       "                                                  Pipeline(steps=[('imputer',\n",
       "                                                                   SimpleImputer(fill_value='missing',\n",
       "                                                                                 strategy='constant')),\n",
       "                                                                  ('onehot',\n",
       "                                                                   OneHotEncoder(handle_unknown='ignore'))]),\n",
       "                                                  ['Sex', 'Embarked',\n",
       "                                                   'Title'])])),\n",
       "                ('lgbmclassifier', LGBMClassifier())])"
      ],
      "text/html": "<style>div.sk-top-container {color: black;background-color: white;}div.sk-toggleable {background-color: white;}label.sk-toggleable__label {cursor: pointer;display: block;width: 100%;margin-bottom: 0;padding: 0.2em 0.3em;box-sizing: border-box;text-align: center;}div.sk-toggleable__content {max-height: 0;max-width: 0;overflow: hidden;text-align: left;background-color: #f0f8ff;}div.sk-toggleable__content pre {margin: 0.2em;color: black;border-radius: 0.25em;background-color: #f0f8ff;}input.sk-toggleable__control:checked~div.sk-toggleable__content {max-height: 200px;max-width: 100%;overflow: auto;}div.sk-estimator input.sk-toggleable__control:checked~label.sk-toggleable__label {background-color: #d4ebff;}div.sk-label input.sk-toggleable__control:checked~label.sk-toggleable__label {background-color: #d4ebff;}input.sk-hidden--visually {border: 0;clip: rect(1px 1px 1px 1px);clip: rect(1px, 1px, 1px, 1px);height: 1px;margin: -1px;overflow: hidden;padding: 0;position: absolute;width: 1px;}div.sk-estimator {font-family: monospace;background-color: #f0f8ff;margin: 0.25em 0.25em;border: 1px dotted black;border-radius: 0.25em;box-sizing: border-box;}div.sk-estimator:hover {background-color: #d4ebff;}div.sk-parallel-item::after {content: \"\";width: 100%;border-bottom: 1px solid gray;flex-grow: 1;}div.sk-label:hover label.sk-toggleable__label {background-color: #d4ebff;}div.sk-serial::before {content: \"\";position: absolute;border-left: 1px solid gray;box-sizing: border-box;top: 2em;bottom: 0;left: 50%;}div.sk-serial {display: flex;flex-direction: column;align-items: center;background-color: white;}div.sk-item {z-index: 1;}div.sk-parallel {display: flex;align-items: stretch;justify-content: center;background-color: white;}div.sk-parallel-item {display: flex;flex-direction: column;position: relative;background-color: white;}div.sk-parallel-item:first-child::after {align-self: flex-end;width: 50%;}div.sk-parallel-item:last-child::after {align-self: flex-start;width: 50%;}div.sk-parallel-item:only-child::after {width: 0;}div.sk-dashed-wrapped {border: 1px dashed gray;margin: 0.2em;box-sizing: border-box;padding-bottom: 0.1em;background-color: white;position: relative;}div.sk-label label {font-family: monospace;font-weight: bold;background-color: white;display: inline-block;line-height: 1.2em;}div.sk-label-container {position: relative;z-index: 2;text-align: center;}div.sk-container {display: inline-block;position: relative;}</style><div class=\"sk-top-container\"><div class=\"sk-container\"><div class=\"sk-item sk-dashed-wrapped\"><div class=\"sk-label-container\"><div class=\"sk-label sk-toggleable\"><input class=\"sk-toggleable__control sk-hidden--visually\" id=\"7416cc8b-d25a-41ac-a5ce-b1f2decd334d\" type=\"checkbox\" ><label class=\"sk-toggleable__label\" for=\"7416cc8b-d25a-41ac-a5ce-b1f2decd334d\">Pipeline</label><div class=\"sk-toggleable__content\"><pre>Pipeline(steps=[('columntransformer',\n                 ColumnTransformer(transformers=[('num',\n                                                  Pipeline(steps=[('imputer',\n                                                                   SimpleImputer())]),\n                                                  ['Pclass', 'SibSp', 'Parch',\n                                                   'Fare', 'Age']),\n                                                 ('cat',\n                                                  Pipeline(steps=[('imputer',\n                                                                   SimpleImputer(fill_value='missing',\n                                                                                 strategy='constant')),\n                                                                  ('onehot',\n                                                                   OneHotEncoder(handle_unknown='ignore'))]),\n                                                  ['Sex', 'Embarked',\n                                                   'Title'])])),\n                ('lgbmclassifier', LGBMClassifier())])</pre></div></div></div><div class=\"sk-serial\"><div class=\"sk-item sk-dashed-wrapped\"><div class=\"sk-label-container\"><div class=\"sk-label sk-toggleable\"><input class=\"sk-toggleable__control sk-hidden--visually\" id=\"60252feb-93a5-40a7-97ab-13f592f45625\" type=\"checkbox\" ><label class=\"sk-toggleable__label\" for=\"60252feb-93a5-40a7-97ab-13f592f45625\">columntransformer: ColumnTransformer</label><div class=\"sk-toggleable__content\"><pre>ColumnTransformer(transformers=[('num',\n                                 Pipeline(steps=[('imputer', SimpleImputer())]),\n                                 ['Pclass', 'SibSp', 'Parch', 'Fare', 'Age']),\n                                ('cat',\n                                 Pipeline(steps=[('imputer',\n                                                  SimpleImputer(fill_value='missing',\n                                                                strategy='constant')),\n                                                 ('onehot',\n                                                  OneHotEncoder(handle_unknown='ignore'))]),\n                                 ['Sex', 'Embarked', 'Title'])])</pre></div></div></div><div class=\"sk-parallel\"><div class=\"sk-parallel-item\"><div class=\"sk-item\"><div class=\"sk-label-container\"><div class=\"sk-label sk-toggleable\"><input class=\"sk-toggleable__control sk-hidden--visually\" id=\"bfff671a-8740-4427-afdd-e11d2a1e2f9f\" type=\"checkbox\" ><label class=\"sk-toggleable__label\" for=\"bfff671a-8740-4427-afdd-e11d2a1e2f9f\">num</label><div class=\"sk-toggleable__content\"><pre>['Pclass', 'SibSp', 'Parch', 'Fare', 'Age']</pre></div></div></div><div class=\"sk-serial\"><div class=\"sk-item\"><div class=\"sk-serial\"><div class=\"sk-item\"><div class=\"sk-estimator sk-toggleable\"><input class=\"sk-toggleable__control sk-hidden--visually\" id=\"07381050-48b8-440d-a8ad-e3dedc5a3a36\" type=\"checkbox\" ><label class=\"sk-toggleable__label\" for=\"07381050-48b8-440d-a8ad-e3dedc5a3a36\">SimpleImputer</label><div class=\"sk-toggleable__content\"><pre>SimpleImputer()</pre></div></div></div></div></div></div></div></div><div class=\"sk-parallel-item\"><div class=\"sk-item\"><div class=\"sk-label-container\"><div class=\"sk-label sk-toggleable\"><input class=\"sk-toggleable__control sk-hidden--visually\" id=\"1e56f93d-8506-4da9-a619-868405c280de\" type=\"checkbox\" ><label class=\"sk-toggleable__label\" for=\"1e56f93d-8506-4da9-a619-868405c280de\">cat</label><div class=\"sk-toggleable__content\"><pre>['Sex', 'Embarked', 'Title']</pre></div></div></div><div class=\"sk-serial\"><div class=\"sk-item\"><div class=\"sk-serial\"><div class=\"sk-item\"><div class=\"sk-estimator sk-toggleable\"><input class=\"sk-toggleable__control sk-hidden--visually\" id=\"9582cd2b-5310-458f-8446-441d1ea8bf6a\" type=\"checkbox\" ><label class=\"sk-toggleable__label\" for=\"9582cd2b-5310-458f-8446-441d1ea8bf6a\">SimpleImputer</label><div class=\"sk-toggleable__content\"><pre>SimpleImputer(fill_value='missing', strategy='constant')</pre></div></div></div><div class=\"sk-item\"><div class=\"sk-estimator sk-toggleable\"><input class=\"sk-toggleable__control sk-hidden--visually\" id=\"856cc75c-3b9f-4bbe-b437-10697aba0c25\" type=\"checkbox\" ><label class=\"sk-toggleable__label\" for=\"856cc75c-3b9f-4bbe-b437-10697aba0c25\">OneHotEncoder</label><div class=\"sk-toggleable__content\"><pre>OneHotEncoder(handle_unknown='ignore')</pre></div></div></div></div></div></div></div></div></div></div><div class=\"sk-item\"><div class=\"sk-estimator sk-toggleable\"><input class=\"sk-toggleable__control sk-hidden--visually\" id=\"5c6fd423-2e10-41ce-b07f-5107b5cc419a\" type=\"checkbox\" ><label class=\"sk-toggleable__label\" for=\"5c6fd423-2e10-41ce-b07f-5107b5cc419a\">LGBMClassifier</label><div class=\"sk-toggleable__content\"><pre>LGBMClassifier()</pre></div></div></div></div></div></div></div>"
     },
     "metadata": {},
     "execution_count": 18
    }
   ],
   "source": [
    "tree_classifiers = {\n",
    "  \"Decision Tree\": DecisionTreeClassifier(),\n",
    "  \"Extra Trees\":ExtraTreesClassifier(),\n",
    "  \"Random Forest\":RandomForestClassifier(),\n",
    "  \"AdaBoost\":AdaBoostClassifier(),\n",
    "  \"Skl GBM\":GradientBoostingClassifier(),\n",
    "  \"Skl HistGBM\":HistGradientBoostingClassifier(),\n",
    "  \"XGBoost\":XGBClassifier(),\n",
    "  \"LightGBM\":LGBMClassifier(),\n",
    "  \"CatBoost\":CatBoostClassifier()\n",
    "}\n",
    "tree_classifiers = {name: pipeline.make_pipeline(tree_prepro, model) for name, model in tree_classifiers.items()}\n",
    "tree_classifiers[\"LightGBM\"]"
   ]
  },
  {
   "cell_type": "code",
   "execution_count": 19,
   "metadata": {
    "deletable": false,
    "editable": false,
    "nbgrader": {
     "cell_type": "code",
     "checksum": "2355552b3ce823e44fdaea06394e054c",
     "grade": true,
     "grade_id": "cell-d4744022b37e2e9b",
     "locked": true,
     "points": 1,
     "schema_version": 3,
     "solution": false,
     "task": false
    }
   },
   "outputs": [],
   "source": [
    "for pipe in tree_classifiers.values():\n",
    "    assert type(pipe) is pipeline.Pipeline"
   ]
  },
  {
   "cell_type": "markdown",
   "metadata": {},
   "source": [
    "# Exercise 5 (3pts):\n",
    "Define a simple split validation strategy with:\n",
    "- 80% for train\n",
    "- 20% for validation\n",
    "- With stratification\n",
    "- random_state=0\n",
    "\n",
    "And train all the models in a for loop"
   ]
  },
  {
   "cell_type": "code",
   "execution_count": 20,
   "metadata": {
    "colab": {
     "base_uri": "https://localhost:8080/",
     "height": 173
    },
    "colab_type": "code",
    "deletable": false,
    "id": "kY1uWk6-OcLw",
    "nbgrader": {
     "cell_type": "code",
     "checksum": "e48597a78f468a95abf116052e9f68e6",
     "grade": false,
     "grade_id": "cell-64f17e0d448bca7e",
     "locked": false,
     "schema_version": 3,
     "solution": true,
     "task": false
    },
    "outputId": "3562463f-3197-424c-dc82-b07ad579e9cc",
    "tags": [
     "outputPrepend"
    ]
   },
   "outputs": [
    {
     "output_type": "stream",
     "name": "stderr",
     "text": [
      "total: 1.23s\tremaining: 767ms\n",
      "616:\tlearn: 0.3229018\ttotal: 1.23s\tremaining: 765ms\n",
      "617:\tlearn: 0.3226934\ttotal: 1.23s\tremaining: 763ms\n",
      "618:\tlearn: 0.3226679\ttotal: 1.24s\tremaining: 760ms\n",
      "619:\tlearn: 0.3224384\ttotal: 1.24s\tremaining: 758ms\n",
      "620:\tlearn: 0.3222797\ttotal: 1.24s\tremaining: 756ms\n",
      "621:\tlearn: 0.3221968\ttotal: 1.24s\tremaining: 753ms\n",
      "622:\tlearn: 0.3221056\ttotal: 1.24s\tremaining: 751ms\n",
      "623:\tlearn: 0.3220152\ttotal: 1.24s\tremaining: 749ms\n",
      "624:\tlearn: 0.3216825\ttotal: 1.24s\tremaining: 746ms\n",
      "625:\tlearn: 0.3216729\ttotal: 1.24s\tremaining: 744ms\n",
      "626:\tlearn: 0.3215428\ttotal: 1.25s\tremaining: 743ms\n",
      "627:\tlearn: 0.3213518\ttotal: 1.25s\tremaining: 741ms\n",
      "628:\tlearn: 0.3211542\ttotal: 1.25s\tremaining: 739ms\n",
      "629:\tlearn: 0.3210773\ttotal: 1.25s\tremaining: 737ms\n",
      "630:\tlearn: 0.3209931\ttotal: 1.26s\tremaining: 735ms\n",
      "631:\tlearn: 0.3209187\ttotal: 1.26s\tremaining: 732ms\n",
      "632:\tlearn: 0.3207711\ttotal: 1.26s\tremaining: 730ms\n",
      "633:\tlearn: 0.3205822\ttotal: 1.26s\tremaining: 728ms\n",
      "634:\tlearn: 0.3205237\ttotal: 1.26s\tremaining: 726ms\n",
      "635:\tlearn: 0.3204768\ttotal: 1.26s\tremaining: 724ms\n",
      "636:\tlearn: 0.3203831\ttotal: 1.27s\tremaining: 722ms\n",
      "637:\tlearn: 0.3203519\ttotal: 1.27s\tremaining: 720ms\n",
      "638:\tlearn: 0.3202068\ttotal: 1.27s\tremaining: 718ms\n",
      "639:\tlearn: 0.3201873\ttotal: 1.27s\tremaining: 716ms\n",
      "640:\tlearn: 0.3200130\ttotal: 1.28s\tremaining: 715ms\n",
      "641:\tlearn: 0.3199202\ttotal: 1.28s\tremaining: 713ms\n",
      "642:\tlearn: 0.3198245\ttotal: 1.28s\tremaining: 710ms\n",
      "643:\tlearn: 0.3197703\ttotal: 1.28s\tremaining: 708ms\n",
      "644:\tlearn: 0.3196071\ttotal: 1.28s\tremaining: 706ms\n",
      "645:\tlearn: 0.3195051\ttotal: 1.28s\tremaining: 704ms\n",
      "646:\tlearn: 0.3193927\ttotal: 1.28s\tremaining: 701ms\n",
      "647:\tlearn: 0.3191539\ttotal: 1.29s\tremaining: 699ms\n",
      "648:\tlearn: 0.3190506\ttotal: 1.29s\tremaining: 697ms\n",
      "649:\tlearn: 0.3188992\ttotal: 1.29s\tremaining: 696ms\n",
      "650:\tlearn: 0.3186625\ttotal: 1.29s\tremaining: 694ms\n",
      "651:\tlearn: 0.3184947\ttotal: 1.29s\tremaining: 692ms\n",
      "652:\tlearn: 0.3183623\ttotal: 1.3s\tremaining: 689ms\n",
      "653:\tlearn: 0.3181425\ttotal: 1.3s\tremaining: 687ms\n",
      "654:\tlearn: 0.3178608\ttotal: 1.3s\tremaining: 685ms\n",
      "655:\tlearn: 0.3178417\ttotal: 1.3s\tremaining: 683ms\n",
      "656:\tlearn: 0.3177446\ttotal: 1.3s\tremaining: 681ms\n",
      "657:\tlearn: 0.3176423\ttotal: 1.31s\tremaining: 679ms\n",
      "658:\tlearn: 0.3174492\ttotal: 1.31s\tremaining: 677ms\n",
      "659:\tlearn: 0.3172955\ttotal: 1.31s\tremaining: 675ms\n",
      "660:\tlearn: 0.3172647\ttotal: 1.31s\tremaining: 672ms\n",
      "661:\tlearn: 0.3171652\ttotal: 1.31s\tremaining: 670ms\n",
      "662:\tlearn: 0.3169394\ttotal: 1.31s\tremaining: 668ms\n",
      "663:\tlearn: 0.3168104\ttotal: 1.32s\tremaining: 666ms\n",
      "664:\tlearn: 0.3167249\ttotal: 1.32s\tremaining: 664ms\n",
      "665:\tlearn: 0.3164847\ttotal: 1.32s\tremaining: 662ms\n",
      "666:\tlearn: 0.3164294\ttotal: 1.32s\tremaining: 660ms\n",
      "667:\tlearn: 0.3162577\ttotal: 1.32s\tremaining: 658ms\n",
      "668:\tlearn: 0.3160689\ttotal: 1.32s\tremaining: 656ms\n",
      "669:\tlearn: 0.3160265\ttotal: 1.33s\tremaining: 653ms\n",
      "670:\tlearn: 0.3159449\ttotal: 1.33s\tremaining: 651ms\n",
      "671:\tlearn: 0.3159431\ttotal: 1.33s\tremaining: 650ms\n",
      "672:\tlearn: 0.3158280\ttotal: 1.33s\tremaining: 649ms\n",
      "673:\tlearn: 0.3157158\ttotal: 1.34s\tremaining: 647ms\n",
      "674:\tlearn: 0.3156126\ttotal: 1.34s\tremaining: 644ms\n",
      "675:\tlearn: 0.3155251\ttotal: 1.34s\tremaining: 642ms\n",
      "676:\tlearn: 0.3154969\ttotal: 1.34s\tremaining: 640ms\n",
      "677:\tlearn: 0.3154617\ttotal: 1.34s\tremaining: 638ms\n",
      "678:\tlearn: 0.3153468\ttotal: 1.35s\tremaining: 637ms\n",
      "679:\tlearn: 0.3152642\ttotal: 1.35s\tremaining: 634ms\n",
      "680:\tlearn: 0.3151557\ttotal: 1.35s\tremaining: 632ms\n",
      "681:\tlearn: 0.3149859\ttotal: 1.35s\tremaining: 630ms\n",
      "682:\tlearn: 0.3148795\ttotal: 1.35s\tremaining: 628ms\n",
      "683:\tlearn: 0.3147696\ttotal: 1.35s\tremaining: 625ms\n",
      "684:\tlearn: 0.3146821\ttotal: 1.35s\tremaining: 623ms\n",
      "685:\tlearn: 0.3146245\ttotal: 1.36s\tremaining: 623ms\n",
      "686:\tlearn: 0.3145318\ttotal: 1.36s\tremaining: 622ms\n",
      "687:\tlearn: 0.3144494\ttotal: 1.37s\tremaining: 620ms\n",
      "688:\tlearn: 0.3144108\ttotal: 1.37s\tremaining: 617ms\n",
      "689:\tlearn: 0.3143532\ttotal: 1.37s\tremaining: 615ms\n",
      "690:\tlearn: 0.3142708\ttotal: 1.37s\tremaining: 613ms\n",
      "691:\tlearn: 0.3141687\ttotal: 1.37s\tremaining: 611ms\n",
      "692:\tlearn: 0.3140676\ttotal: 1.38s\tremaining: 610ms\n",
      "693:\tlearn: 0.3139733\ttotal: 1.38s\tremaining: 607ms\n",
      "694:\tlearn: 0.3139086\ttotal: 1.38s\tremaining: 605ms\n",
      "695:\tlearn: 0.3138403\ttotal: 1.38s\tremaining: 603ms\n",
      "696:\tlearn: 0.3136933\ttotal: 1.38s\tremaining: 601ms\n",
      "697:\tlearn: 0.3136272\ttotal: 1.38s\tremaining: 599ms\n",
      "698:\tlearn: 0.3135691\ttotal: 1.39s\tremaining: 596ms\n",
      "699:\tlearn: 0.3133767\ttotal: 1.39s\tremaining: 596ms\n",
      "700:\tlearn: 0.3133090\ttotal: 1.39s\tremaining: 593ms\n",
      "701:\tlearn: 0.3131349\ttotal: 1.39s\tremaining: 591ms\n",
      "702:\tlearn: 0.3130780\ttotal: 1.39s\tremaining: 589ms\n",
      "703:\tlearn: 0.3130474\ttotal: 1.4s\tremaining: 587ms\n",
      "704:\tlearn: 0.3129236\ttotal: 1.4s\tremaining: 585ms\n",
      "705:\tlearn: 0.3128435\ttotal: 1.4s\tremaining: 582ms\n",
      "706:\tlearn: 0.3126629\ttotal: 1.4s\tremaining: 581ms\n",
      "707:\tlearn: 0.3124744\ttotal: 1.41s\tremaining: 580ms\n",
      "708:\tlearn: 0.3124215\ttotal: 1.41s\tremaining: 578ms\n",
      "709:\tlearn: 0.3123590\ttotal: 1.41s\tremaining: 576ms\n",
      "710:\tlearn: 0.3123083\ttotal: 1.41s\tremaining: 574ms\n",
      "711:\tlearn: 0.3122545\ttotal: 1.41s\tremaining: 572ms\n",
      "712:\tlearn: 0.3122288\ttotal: 1.42s\tremaining: 570ms\n",
      "713:\tlearn: 0.3119330\ttotal: 1.42s\tremaining: 568ms\n",
      "714:\tlearn: 0.3118827\ttotal: 1.42s\tremaining: 566ms\n",
      "715:\tlearn: 0.3118037\ttotal: 1.42s\tremaining: 564ms\n",
      "716:\tlearn: 0.3116881\ttotal: 1.42s\tremaining: 562ms\n",
      "717:\tlearn: 0.3116381\ttotal: 1.43s\tremaining: 561ms\n",
      "718:\tlearn: 0.3114561\ttotal: 1.43s\tremaining: 559ms\n",
      "719:\tlearn: 0.3113070\ttotal: 1.43s\tremaining: 557ms\n",
      "720:\tlearn: 0.3111825\ttotal: 1.43s\tremaining: 555ms\n",
      "721:\tlearn: 0.3111126\ttotal: 1.44s\tremaining: 553ms\n",
      "722:\tlearn: 0.3109797\ttotal: 1.44s\tremaining: 551ms\n",
      "723:\tlearn: 0.3108736\ttotal: 1.44s\tremaining: 549ms\n",
      "724:\tlearn: 0.3107859\ttotal: 1.44s\tremaining: 547ms\n",
      "725:\tlearn: 0.3105880\ttotal: 1.44s\tremaining: 545ms\n",
      "726:\tlearn: 0.3104571\ttotal: 1.45s\tremaining: 543ms\n",
      "727:\tlearn: 0.3104161\ttotal: 1.45s\tremaining: 541ms\n",
      "728:\tlearn: 0.3103389\ttotal: 1.45s\tremaining: 539ms\n",
      "729:\tlearn: 0.3103231\ttotal: 1.45s\tremaining: 536ms\n",
      "730:\tlearn: 0.3102530\ttotal: 1.45s\tremaining: 534ms\n",
      "731:\tlearn: 0.3101686\ttotal: 1.45s\tremaining: 532ms\n",
      "732:\tlearn: 0.3099878\ttotal: 1.45s\tremaining: 530ms\n",
      "733:\tlearn: 0.3098953\ttotal: 1.46s\tremaining: 528ms\n",
      "734:\tlearn: 0.3096508\ttotal: 1.46s\tremaining: 526ms\n",
      "735:\tlearn: 0.3094635\ttotal: 1.46s\tremaining: 524ms\n",
      "736:\tlearn: 0.3092685\ttotal: 1.46s\tremaining: 522ms\n",
      "737:\tlearn: 0.3091751\ttotal: 1.46s\tremaining: 519ms\n",
      "738:\tlearn: 0.3091493\ttotal: 1.46s\tremaining: 517ms\n",
      "739:\tlearn: 0.3090366\ttotal: 1.47s\tremaining: 515ms\n",
      "740:\tlearn: 0.3089280\ttotal: 1.47s\tremaining: 513ms\n",
      "741:\tlearn: 0.3088014\ttotal: 1.47s\tremaining: 511ms\n",
      "742:\tlearn: 0.3084586\ttotal: 1.47s\tremaining: 509ms\n",
      "743:\tlearn: 0.3083734\ttotal: 1.47s\tremaining: 507ms\n",
      "744:\tlearn: 0.3082807\ttotal: 1.48s\tremaining: 506ms\n",
      "745:\tlearn: 0.3082458\ttotal: 1.48s\tremaining: 504ms\n",
      "746:\tlearn: 0.3081274\ttotal: 1.48s\tremaining: 502ms\n",
      "747:\tlearn: 0.3079663\ttotal: 1.48s\tremaining: 500ms\n",
      "748:\tlearn: 0.3079123\ttotal: 1.49s\tremaining: 498ms\n",
      "749:\tlearn: 0.3076756\ttotal: 1.49s\tremaining: 496ms\n",
      "750:\tlearn: 0.3076710\ttotal: 1.49s\tremaining: 494ms\n",
      "751:\tlearn: 0.3075965\ttotal: 1.49s\tremaining: 492ms\n",
      "752:\tlearn: 0.3075177\ttotal: 1.49s\tremaining: 490ms\n",
      "753:\tlearn: 0.3073854\ttotal: 1.5s\tremaining: 488ms\n",
      "754:\tlearn: 0.3073545\ttotal: 1.5s\tremaining: 486ms\n",
      "755:\tlearn: 0.3070440\ttotal: 1.5s\tremaining: 484ms\n",
      "756:\tlearn: 0.3069476\ttotal: 1.5s\tremaining: 482ms\n",
      "757:\tlearn: 0.3069156\ttotal: 1.5s\tremaining: 480ms\n",
      "758:\tlearn: 0.3067151\ttotal: 1.51s\tremaining: 478ms\n",
      "759:\tlearn: 0.3066641\ttotal: 1.51s\tremaining: 476ms\n",
      "760:\tlearn: 0.3066365\ttotal: 1.51s\tremaining: 474ms\n",
      "761:\tlearn: 0.3066299\ttotal: 1.51s\tremaining: 472ms\n",
      "762:\tlearn: 0.3065589\ttotal: 1.51s\tremaining: 470ms\n",
      "763:\tlearn: 0.3064410\ttotal: 1.51s\tremaining: 468ms\n",
      "764:\tlearn: 0.3063052\ttotal: 1.52s\tremaining: 467ms\n",
      "765:\tlearn: 0.3061704\ttotal: 1.52s\tremaining: 465ms\n",
      "766:\tlearn: 0.3059936\ttotal: 1.52s\tremaining: 462ms\n",
      "767:\tlearn: 0.3059510\ttotal: 1.52s\tremaining: 460ms\n",
      "768:\tlearn: 0.3059222\ttotal: 1.52s\tremaining: 458ms\n",
      "769:\tlearn: 0.3058438\ttotal: 1.53s\tremaining: 456ms\n",
      "770:\tlearn: 0.3057967\ttotal: 1.53s\tremaining: 454ms\n",
      "771:\tlearn: 0.3056694\ttotal: 1.53s\tremaining: 452ms\n",
      "772:\tlearn: 0.3055839\ttotal: 1.53s\tremaining: 450ms\n",
      "773:\tlearn: 0.3055157\ttotal: 1.53s\tremaining: 448ms\n",
      "774:\tlearn: 0.3055014\ttotal: 1.54s\tremaining: 446ms\n",
      "775:\tlearn: 0.3053514\ttotal: 1.54s\tremaining: 444ms\n",
      "776:\tlearn: 0.3052674\ttotal: 1.54s\tremaining: 442ms\n",
      "777:\tlearn: 0.3051428\ttotal: 1.54s\tremaining: 440ms\n",
      "778:\tlearn: 0.3050241\ttotal: 1.54s\tremaining: 438ms\n",
      "779:\tlearn: 0.3048594\ttotal: 1.54s\tremaining: 436ms\n",
      "780:\tlearn: 0.3047742\ttotal: 1.55s\tremaining: 434ms\n",
      "781:\tlearn: 0.3046664\ttotal: 1.55s\tremaining: 432ms\n",
      "782:\tlearn: 0.3043766\ttotal: 1.55s\tremaining: 429ms\n",
      "783:\tlearn: 0.3043315\ttotal: 1.55s\tremaining: 427ms\n",
      "784:\tlearn: 0.3042562\ttotal: 1.55s\tremaining: 425ms\n",
      "785:\tlearn: 0.3042261\ttotal: 1.55s\tremaining: 423ms\n",
      "786:\tlearn: 0.3039679\ttotal: 1.55s\tremaining: 421ms\n",
      "787:\tlearn: 0.3039120\ttotal: 1.56s\tremaining: 419ms\n",
      "788:\tlearn: 0.3038378\ttotal: 1.56s\tremaining: 417ms\n",
      "789:\tlearn: 0.3037926\ttotal: 1.56s\tremaining: 415ms\n",
      "790:\tlearn: 0.3037414\ttotal: 1.56s\tremaining: 413ms\n",
      "791:\tlearn: 0.3036416\ttotal: 1.56s\tremaining: 411ms\n",
      "792:\tlearn: 0.3036131\ttotal: 1.57s\tremaining: 409ms\n",
      "793:\tlearn: 0.3034863\ttotal: 1.57s\tremaining: 407ms\n",
      "794:\tlearn: 0.3033551\ttotal: 1.57s\tremaining: 405ms\n",
      "795:\tlearn: 0.3032940\ttotal: 1.57s\tremaining: 403ms\n",
      "796:\tlearn: 0.3032163\ttotal: 1.57s\tremaining: 401ms\n",
      "797:\tlearn: 0.3031375\ttotal: 1.57s\tremaining: 399ms\n",
      "798:\tlearn: 0.3030459\ttotal: 1.58s\tremaining: 397ms\n",
      "799:\tlearn: 0.3029896\ttotal: 1.58s\tremaining: 395ms\n",
      "800:\tlearn: 0.3027531\ttotal: 1.58s\tremaining: 393ms\n",
      "801:\tlearn: 0.3026153\ttotal: 1.58s\tremaining: 391ms\n",
      "802:\tlearn: 0.3023930\ttotal: 1.58s\tremaining: 389ms\n",
      "803:\tlearn: 0.3022268\ttotal: 1.59s\tremaining: 387ms\n",
      "804:\tlearn: 0.3021225\ttotal: 1.59s\tremaining: 385ms\n",
      "805:\tlearn: 0.3018582\ttotal: 1.59s\tremaining: 383ms\n",
      "806:\tlearn: 0.3018004\ttotal: 1.59s\tremaining: 381ms\n",
      "807:\tlearn: 0.3016919\ttotal: 1.59s\tremaining: 379ms\n",
      "808:\tlearn: 0.3015007\ttotal: 1.6s\tremaining: 377ms\n",
      "809:\tlearn: 0.3013828\ttotal: 1.6s\tremaining: 375ms\n",
      "810:\tlearn: 0.3011830\ttotal: 1.6s\tremaining: 373ms\n",
      "811:\tlearn: 0.3010872\ttotal: 1.6s\tremaining: 371ms\n",
      "812:\tlearn: 0.3009811\ttotal: 1.6s\tremaining: 369ms\n",
      "813:\tlearn: 0.3007508\ttotal: 1.6s\tremaining: 367ms\n",
      "814:\tlearn: 0.3005480\ttotal: 1.61s\tremaining: 365ms\n",
      "815:\tlearn: 0.3003082\ttotal: 1.61s\tremaining: 363ms\n",
      "816:\tlearn: 0.3002272\ttotal: 1.61s\tremaining: 361ms\n",
      "817:\tlearn: 0.3001832\ttotal: 1.61s\tremaining: 359ms\n",
      "818:\tlearn: 0.3001529\ttotal: 1.61s\tremaining: 357ms\n",
      "819:\tlearn: 0.3001083\ttotal: 1.61s\tremaining: 355ms\n",
      "820:\tlearn: 0.2998720\ttotal: 1.62s\tremaining: 353ms\n",
      "821:\tlearn: 0.2997991\ttotal: 1.62s\tremaining: 350ms\n",
      "822:\tlearn: 0.2996552\ttotal: 1.62s\tremaining: 348ms\n",
      "823:\tlearn: 0.2994864\ttotal: 1.62s\tremaining: 346ms\n",
      "824:\tlearn: 0.2994202\ttotal: 1.62s\tremaining: 344ms\n",
      "825:\tlearn: 0.2993233\ttotal: 1.62s\tremaining: 342ms\n",
      "826:\tlearn: 0.2992880\ttotal: 1.63s\tremaining: 340ms\n",
      "827:\tlearn: 0.2992654\ttotal: 1.63s\tremaining: 338ms\n",
      "828:\tlearn: 0.2991172\ttotal: 1.63s\tremaining: 336ms\n",
      "829:\tlearn: 0.2990408\ttotal: 1.63s\tremaining: 334ms\n",
      "830:\tlearn: 0.2989697\ttotal: 1.63s\tremaining: 332ms\n",
      "831:\tlearn: 0.2988655\ttotal: 1.63s\tremaining: 330ms\n",
      "832:\tlearn: 0.2988210\ttotal: 1.64s\tremaining: 328ms\n",
      "833:\tlearn: 0.2987706\ttotal: 1.64s\tremaining: 326ms\n",
      "834:\tlearn: 0.2985850\ttotal: 1.64s\tremaining: 324ms\n",
      "835:\tlearn: 0.2983609\ttotal: 1.64s\tremaining: 322ms\n",
      "836:\tlearn: 0.2982989\ttotal: 1.64s\tremaining: 320ms\n",
      "837:\tlearn: 0.2982058\ttotal: 1.64s\tremaining: 318ms\n",
      "838:\tlearn: 0.2979871\ttotal: 1.64s\tremaining: 316ms\n",
      "839:\tlearn: 0.2979280\ttotal: 1.65s\tremaining: 314ms\n",
      "840:\tlearn: 0.2977358\ttotal: 1.65s\tremaining: 312ms\n",
      "841:\tlearn: 0.2975781\ttotal: 1.65s\tremaining: 309ms\n",
      "842:\tlearn: 0.2975222\ttotal: 1.65s\tremaining: 307ms\n",
      "843:\tlearn: 0.2975020\ttotal: 1.65s\tremaining: 305ms\n",
      "844:\tlearn: 0.2972359\ttotal: 1.65s\tremaining: 303ms\n",
      "845:\tlearn: 0.2971766\ttotal: 1.66s\tremaining: 301ms\n",
      "846:\tlearn: 0.2970622\ttotal: 1.66s\tremaining: 299ms\n",
      "847:\tlearn: 0.2968132\ttotal: 1.66s\tremaining: 297ms\n",
      "848:\tlearn: 0.2967528\ttotal: 1.66s\tremaining: 295ms\n",
      "849:\tlearn: 0.2966941\ttotal: 1.66s\tremaining: 293ms\n",
      "850:\tlearn: 0.2965722\ttotal: 1.66s\tremaining: 291ms\n",
      "851:\tlearn: 0.2965225\ttotal: 1.66s\tremaining: 289ms\n",
      "852:\tlearn: 0.2963938\ttotal: 1.67s\tremaining: 287ms\n",
      "853:\tlearn: 0.2963124\ttotal: 1.67s\tremaining: 285ms\n",
      "854:\tlearn: 0.2959874\ttotal: 1.67s\tremaining: 283ms\n",
      "855:\tlearn: 0.2959244\ttotal: 1.67s\tremaining: 281ms\n",
      "856:\tlearn: 0.2958688\ttotal: 1.67s\tremaining: 279ms\n",
      "857:\tlearn: 0.2956189\ttotal: 1.67s\tremaining: 277ms\n",
      "858:\tlearn: 0.2954714\ttotal: 1.68s\tremaining: 275ms\n",
      "859:\tlearn: 0.2953886\ttotal: 1.68s\tremaining: 273ms\n",
      "860:\tlearn: 0.2953091\ttotal: 1.68s\tremaining: 271ms\n",
      "861:\tlearn: 0.2951947\ttotal: 1.68s\tremaining: 269ms\n",
      "862:\tlearn: 0.2950326\ttotal: 1.68s\tremaining: 267ms\n",
      "863:\tlearn: 0.2948674\ttotal: 1.68s\tremaining: 265ms\n",
      "864:\tlearn: 0.2947274\ttotal: 1.69s\tremaining: 263ms\n",
      "865:\tlearn: 0.2944843\ttotal: 1.69s\tremaining: 261ms\n",
      "866:\tlearn: 0.2943519\ttotal: 1.69s\tremaining: 259ms\n",
      "867:\tlearn: 0.2943061\ttotal: 1.69s\tremaining: 257ms\n",
      "868:\tlearn: 0.2940256\ttotal: 1.69s\tremaining: 255ms\n",
      "869:\tlearn: 0.2938491\ttotal: 1.69s\tremaining: 253ms\n",
      "870:\tlearn: 0.2937995\ttotal: 1.7s\tremaining: 251ms\n",
      "871:\tlearn: 0.2936654\ttotal: 1.7s\tremaining: 249ms\n",
      "872:\tlearn: 0.2934201\ttotal: 1.7s\tremaining: 247ms\n",
      "873:\tlearn: 0.2931601\ttotal: 1.7s\tremaining: 245ms\n",
      "874:\tlearn: 0.2931517\ttotal: 1.7s\tremaining: 243ms\n",
      "875:\tlearn: 0.2931274\ttotal: 1.7s\tremaining: 241ms\n",
      "876:\tlearn: 0.2929454\ttotal: 1.7s\tremaining: 239ms\n",
      "877:\tlearn: 0.2928531\ttotal: 1.71s\tremaining: 237ms\n",
      "878:\tlearn: 0.2925483\ttotal: 1.71s\tremaining: 235ms\n",
      "879:\tlearn: 0.2924084\ttotal: 1.71s\tremaining: 233ms\n",
      "880:\tlearn: 0.2922713\ttotal: 1.71s\tremaining: 231ms\n",
      "881:\tlearn: 0.2922030\ttotal: 1.71s\tremaining: 229ms\n",
      "882:\tlearn: 0.2921019\ttotal: 1.71s\tremaining: 227ms\n",
      "883:\tlearn: 0.2918105\ttotal: 1.72s\tremaining: 225ms\n",
      "884:\tlearn: 0.2917669\ttotal: 1.72s\tremaining: 223ms\n",
      "885:\tlearn: 0.2916875\ttotal: 1.72s\tremaining: 221ms\n",
      "886:\tlearn: 0.2914775\ttotal: 1.72s\tremaining: 219ms\n",
      "887:\tlearn: 0.2914172\ttotal: 1.72s\tremaining: 217ms\n",
      "888:\tlearn: 0.2912789\ttotal: 1.72s\tremaining: 215ms\n",
      "889:\tlearn: 0.2911669\ttotal: 1.73s\tremaining: 213ms\n",
      "890:\tlearn: 0.2911222\ttotal: 1.73s\tremaining: 211ms\n",
      "891:\tlearn: 0.2910793\ttotal: 1.73s\tremaining: 209ms\n",
      "892:\tlearn: 0.2909103\ttotal: 1.73s\tremaining: 207ms\n",
      "893:\tlearn: 0.2907124\ttotal: 1.73s\tremaining: 205ms\n",
      "894:\tlearn: 0.2905953\ttotal: 1.73s\tremaining: 203ms\n",
      "895:\tlearn: 0.2905413\ttotal: 1.74s\tremaining: 202ms\n",
      "896:\tlearn: 0.2902436\ttotal: 1.74s\tremaining: 200ms\n",
      "897:\tlearn: 0.2901573\ttotal: 1.74s\tremaining: 198ms\n",
      "898:\tlearn: 0.2901161\ttotal: 1.74s\tremaining: 196ms\n",
      "899:\tlearn: 0.2900175\ttotal: 1.74s\tremaining: 194ms\n",
      "900:\tlearn: 0.2897729\ttotal: 1.74s\tremaining: 192ms\n",
      "901:\tlearn: 0.2897065\ttotal: 1.75s\tremaining: 190ms\n",
      "902:\tlearn: 0.2896279\ttotal: 1.75s\tremaining: 188ms\n",
      "903:\tlearn: 0.2895873\ttotal: 1.75s\tremaining: 186ms\n",
      "904:\tlearn: 0.2893651\ttotal: 1.75s\tremaining: 184ms\n",
      "905:\tlearn: 0.2892498\ttotal: 1.75s\tremaining: 182ms\n",
      "906:\tlearn: 0.2890693\ttotal: 1.75s\tremaining: 180ms\n",
      "907:\tlearn: 0.2888373\ttotal: 1.75s\tremaining: 178ms\n",
      "908:\tlearn: 0.2886210\ttotal: 1.76s\tremaining: 176ms\n",
      "909:\tlearn: 0.2885223\ttotal: 1.76s\tremaining: 174ms\n",
      "910:\tlearn: 0.2884594\ttotal: 1.76s\tremaining: 172ms\n",
      "911:\tlearn: 0.2884277\ttotal: 1.76s\tremaining: 170ms\n",
      "912:\tlearn: 0.2881080\ttotal: 1.76s\tremaining: 168ms\n",
      "913:\tlearn: 0.2880343\ttotal: 1.77s\tremaining: 166ms\n",
      "914:\tlearn: 0.2879636\ttotal: 1.77s\tremaining: 164ms\n",
      "915:\tlearn: 0.2877047\ttotal: 1.77s\tremaining: 162ms\n",
      "916:\tlearn: 0.2876302\ttotal: 1.77s\tremaining: 160ms\n",
      "917:\tlearn: 0.2873985\ttotal: 1.77s\tremaining: 158ms\n",
      "918:\tlearn: 0.2873215\ttotal: 1.77s\tremaining: 156ms\n",
      "919:\tlearn: 0.2872336\ttotal: 1.78s\tremaining: 154ms\n",
      "920:\tlearn: 0.2870761\ttotal: 1.78s\tremaining: 152ms\n",
      "921:\tlearn: 0.2869721\ttotal: 1.78s\tremaining: 151ms\n",
      "922:\tlearn: 0.2869378\ttotal: 1.78s\tremaining: 149ms\n",
      "923:\tlearn: 0.2867092\ttotal: 1.78s\tremaining: 147ms\n",
      "924:\tlearn: 0.2865679\ttotal: 1.78s\tremaining: 145ms\n",
      "925:\tlearn: 0.2865009\ttotal: 1.78s\tremaining: 143ms\n",
      "926:\tlearn: 0.2864102\ttotal: 1.79s\tremaining: 141ms\n",
      "927:\tlearn: 0.2863686\ttotal: 1.79s\tremaining: 139ms\n",
      "928:\tlearn: 0.2862775\ttotal: 1.79s\tremaining: 137ms\n",
      "929:\tlearn: 0.2860844\ttotal: 1.79s\tremaining: 135ms\n",
      "930:\tlearn: 0.2860356\ttotal: 1.79s\tremaining: 133ms\n",
      "931:\tlearn: 0.2859997\ttotal: 1.79s\tremaining: 131ms\n",
      "932:\tlearn: 0.2857520\ttotal: 1.79s\tremaining: 129ms\n",
      "933:\tlearn: 0.2857170\ttotal: 1.8s\tremaining: 127ms\n",
      "934:\tlearn: 0.2854669\ttotal: 1.8s\tremaining: 125ms\n",
      "935:\tlearn: 0.2853513\ttotal: 1.8s\tremaining: 123ms\n",
      "936:\tlearn: 0.2852005\ttotal: 1.8s\tremaining: 121ms\n",
      "937:\tlearn: 0.2851563\ttotal: 1.8s\tremaining: 119ms\n",
      "938:\tlearn: 0.2848913\ttotal: 1.8s\tremaining: 117ms\n",
      "939:\tlearn: 0.2848420\ttotal: 1.81s\tremaining: 115ms\n",
      "940:\tlearn: 0.2847693\ttotal: 1.81s\tremaining: 113ms\n",
      "941:\tlearn: 0.2847031\ttotal: 1.81s\tremaining: 111ms\n",
      "942:\tlearn: 0.2846117\ttotal: 1.81s\tremaining: 110ms\n",
      "943:\tlearn: 0.2845591\ttotal: 1.81s\tremaining: 108ms\n",
      "944:\tlearn: 0.2844313\ttotal: 1.81s\tremaining: 106ms\n",
      "945:\tlearn: 0.2843587\ttotal: 1.82s\tremaining: 104ms\n",
      "946:\tlearn: 0.2842279\ttotal: 1.82s\tremaining: 102ms\n",
      "947:\tlearn: 0.2839536\ttotal: 1.82s\tremaining: 99.8ms\n",
      "948:\tlearn: 0.2838064\ttotal: 1.82s\tremaining: 97.9ms\n",
      "949:\tlearn: 0.2835915\ttotal: 1.82s\tremaining: 95.9ms\n",
      "950:\tlearn: 0.2835221\ttotal: 1.82s\tremaining: 94ms\n",
      "951:\tlearn: 0.2834916\ttotal: 1.82s\tremaining: 92.1ms\n",
      "952:\tlearn: 0.2834052\ttotal: 1.83s\tremaining: 90.1ms\n",
      "953:\tlearn: 0.2832247\ttotal: 1.83s\tremaining: 88.2ms\n",
      "954:\tlearn: 0.2829711\ttotal: 1.83s\tremaining: 86.3ms\n",
      "955:\tlearn: 0.2827891\ttotal: 1.83s\tremaining: 84.3ms\n",
      "956:\tlearn: 0.2827725\ttotal: 1.83s\tremaining: 82.4ms\n",
      "957:\tlearn: 0.2826808\ttotal: 1.83s\tremaining: 80.5ms\n",
      "958:\tlearn: 0.2826218\ttotal: 1.84s\tremaining: 78.5ms\n",
      "959:\tlearn: 0.2825523\ttotal: 1.84s\tremaining: 76.6ms\n",
      "960:\tlearn: 0.2824705\ttotal: 1.84s\tremaining: 74.7ms\n",
      "961:\tlearn: 0.2824655\ttotal: 1.84s\tremaining: 72.7ms\n",
      "962:\tlearn: 0.2822064\ttotal: 1.84s\tremaining: 70.8ms\n",
      "963:\tlearn: 0.2819293\ttotal: 1.84s\tremaining: 68.8ms\n",
      "964:\tlearn: 0.2816648\ttotal: 1.84s\tremaining: 66.9ms\n",
      "965:\tlearn: 0.2815487\ttotal: 1.85s\tremaining: 65ms\n",
      "966:\tlearn: 0.2814554\ttotal: 1.85s\tremaining: 63.1ms\n",
      "967:\tlearn: 0.2812699\ttotal: 1.85s\tremaining: 61.2ms\n",
      "968:\tlearn: 0.2811175\ttotal: 1.85s\tremaining: 59.2ms\n",
      "969:\tlearn: 0.2810233\ttotal: 1.85s\tremaining: 57.3ms\n",
      "970:\tlearn: 0.2808404\ttotal: 1.85s\tremaining: 55.4ms\n",
      "971:\tlearn: 0.2807407\ttotal: 1.86s\tremaining: 53.5ms\n",
      "972:\tlearn: 0.2805633\ttotal: 1.86s\tremaining: 51.6ms\n",
      "973:\tlearn: 0.2803294\ttotal: 1.86s\tremaining: 49.6ms\n",
      "974:\tlearn: 0.2800937\ttotal: 1.86s\tremaining: 47.7ms\n",
      "975:\tlearn: 0.2799861\ttotal: 1.86s\tremaining: 45.8ms\n",
      "976:\tlearn: 0.2799326\ttotal: 1.86s\tremaining: 43.9ms\n",
      "977:\tlearn: 0.2797098\ttotal: 1.87s\tremaining: 42ms\n",
      "978:\tlearn: 0.2796257\ttotal: 1.87s\tremaining: 40.1ms\n",
      "979:\tlearn: 0.2794838\ttotal: 1.87s\tremaining: 38.2ms\n",
      "980:\tlearn: 0.2793074\ttotal: 1.87s\tremaining: 36.3ms\n",
      "981:\tlearn: 0.2792303\ttotal: 1.87s\tremaining: 34.4ms\n",
      "982:\tlearn: 0.2792044\ttotal: 1.88s\tremaining: 32.4ms\n",
      "983:\tlearn: 0.2791010\ttotal: 1.88s\tremaining: 30.5ms\n",
      "984:\tlearn: 0.2788953\ttotal: 1.88s\tremaining: 28.6ms\n",
      "985:\tlearn: 0.2787943\ttotal: 1.88s\tremaining: 26.7ms\n",
      "986:\tlearn: 0.2786741\ttotal: 1.88s\tremaining: 24.8ms\n",
      "987:\tlearn: 0.2785410\ttotal: 1.88s\tremaining: 22.9ms\n",
      "988:\tlearn: 0.2783661\ttotal: 1.89s\tremaining: 21ms\n",
      "989:\tlearn: 0.2783398\ttotal: 1.89s\tremaining: 19.1ms\n",
      "990:\tlearn: 0.2781132\ttotal: 1.89s\tremaining: 17.2ms\n",
      "991:\tlearn: 0.2779877\ttotal: 1.89s\tremaining: 15.3ms\n",
      "992:\tlearn: 0.2778349\ttotal: 1.9s\tremaining: 13.4ms\n",
      "993:\tlearn: 0.2777145\ttotal: 1.9s\tremaining: 11.4ms\n",
      "994:\tlearn: 0.2775846\ttotal: 1.9s\tremaining: 9.54ms\n",
      "995:\tlearn: 0.2774968\ttotal: 1.9s\tremaining: 7.63ms\n",
      "996:\tlearn: 0.2774175\ttotal: 1.9s\tremaining: 5.72ms\n",
      "997:\tlearn: 0.2772648\ttotal: 1.9s\tremaining: 3.81ms\n",
      "998:\tlearn: 0.2771755\ttotal: 1.9s\tremaining: 1.91ms\n",
      "999:\tlearn: 0.2770979\ttotal: 1.91s\tremaining: 0us\n"
     ]
    },
    {
     "output_type": "execute_result",
     "data": {
      "text/plain": [
       "<pandas.io.formats.style.Styler at 0x2196ca2c908>"
      ],
      "text/html": "<style  type=\"text/css\" >\n#T_ee6fd_row0_col1{\n            width:  10em;\n             height:  80%;\n            background:  linear-gradient(90deg,#5fba7d 86.6%, transparent 86.6%);\n        }#T_ee6fd_row0_col2{\n            width:  10em;\n             height:  80%;\n            background:  linear-gradient(90deg,#5fba7d 84.8%, transparent 84.8%);\n        }#T_ee6fd_row1_col1{\n            width:  10em;\n             height:  80%;\n            background:  linear-gradient(90deg,#5fba7d 86.0%, transparent 86.0%);\n        }#T_ee6fd_row1_col2{\n            width:  10em;\n             height:  80%;\n            background:  linear-gradient(90deg,#5fba7d 84.0%, transparent 84.0%);\n        }#T_ee6fd_row2_col1{\n            width:  10em;\n             height:  80%;\n            background:  linear-gradient(90deg,#5fba7d 84.9%, transparent 84.9%);\n        }#T_ee6fd_row2_col2{\n            width:  10em;\n             height:  80%;\n            background:  linear-gradient(90deg,#5fba7d 84.2%, transparent 84.2%);\n        }#T_ee6fd_row3_col1{\n            width:  10em;\n             height:  80%;\n            background:  linear-gradient(90deg,#5fba7d 84.4%, transparent 84.4%);\n        }#T_ee6fd_row3_col2,#T_ee6fd_row4_col2{\n            width:  10em;\n             height:  80%;\n            background:  linear-gradient(90deg,#5fba7d 83.0%, transparent 83.0%);\n        }#T_ee6fd_row4_col1{\n            width:  10em;\n             height:  80%;\n            background:  linear-gradient(90deg,#5fba7d 83.8%, transparent 83.8%);\n        }#T_ee6fd_row5_col1{\n            width:  10em;\n             height:  80%;\n            background:  linear-gradient(90deg,#5fba7d 83.2%, transparent 83.2%);\n        }#T_ee6fd_row5_col2{\n            width:  10em;\n             height:  80%;\n            background:  linear-gradient(90deg,#5fba7d 82.0%, transparent 82.0%);\n        }#T_ee6fd_row6_col1{\n            width:  10em;\n             height:  80%;\n            background:  linear-gradient(90deg,#5fba7d 82.7%, transparent 82.7%);\n        }#T_ee6fd_row6_col2{\n            width:  10em;\n             height:  80%;\n            background:  linear-gradient(90deg,#5fba7d 81.0%, transparent 81.0%);\n        }#T_ee6fd_row7_col1{\n            width:  10em;\n             height:  80%;\n            background:  linear-gradient(90deg,#5fba7d 79.3%, transparent 79.3%);\n        }#T_ee6fd_row7_col2{\n            width:  10em;\n             height:  80%;\n            background:  linear-gradient(90deg,#5fba7d 77.5%, transparent 77.5%);\n        }#T_ee6fd_row8_col1{\n            width:  10em;\n             height:  80%;\n            background:  linear-gradient(90deg,#5fba7d 76.5%, transparent 76.5%);\n        }#T_ee6fd_row8_col2{\n            width:  10em;\n             height:  80%;\n            background:  linear-gradient(90deg,#5fba7d 75.8%, transparent 75.8%);\n        }</style><table id=\"T_ee6fd_\" ><thead>    <tr>        <th class=\"blank level0\" ></th>        <th class=\"col_heading level0 col0\" >Model</th>        <th class=\"col_heading level0 col1\" >Accuracy</th>        <th class=\"col_heading level0 col2\" >Bal Acc.</th>        <th class=\"col_heading level0 col3\" >Time</th>    </tr></thead><tbody>\n                <tr>\n                        <th id=\"T_ee6fd_level0_row0\" class=\"row_heading level0 row0\" >1</th>\n                        <td id=\"T_ee6fd_row0_col0\" class=\"data row0 col0\" >CatBoost</td>\n                        <td id=\"T_ee6fd_row0_col1\" class=\"data row0 col1\" >86.592179</td>\n                        <td id=\"T_ee6fd_row0_col2\" class=\"data row0 col2\" >84.769433</td>\n                        <td id=\"T_ee6fd_row0_col3\" class=\"data row0 col3\" >2.446236</td>\n            </tr>\n            <tr>\n                        <th id=\"T_ee6fd_level0_row1\" class=\"row_heading level0 row1\" >2</th>\n                        <td id=\"T_ee6fd_row1_col0\" class=\"data row1 col0\" >Skl GBM</td>\n                        <td id=\"T_ee6fd_row1_col1\" class=\"data row1 col1\" >86.033520</td>\n                        <td id=\"T_ee6fd_row1_col2\" class=\"data row1 col2\" >84.044796</td>\n                        <td id=\"T_ee6fd_row1_col3\" class=\"data row1 col3\" >0.206932</td>\n            </tr>\n            <tr>\n                        <th id=\"T_ee6fd_level0_row2\" class=\"row_heading level0 row2\" >3</th>\n                        <td id=\"T_ee6fd_row2_col0\" class=\"data row2 col0\" >XGBoost</td>\n                        <td id=\"T_ee6fd_row2_col1\" class=\"data row2 col1\" >84.916201</td>\n                        <td id=\"T_ee6fd_row2_col2\" class=\"data row2 col2\" >84.216074</td>\n                        <td id=\"T_ee6fd_row2_col3\" class=\"data row2 col3\" >0.181470</td>\n            </tr>\n            <tr>\n                        <th id=\"T_ee6fd_level0_row3\" class=\"row_heading level0 row3\" >4</th>\n                        <td id=\"T_ee6fd_row3_col0\" class=\"data row3 col0\" >Skl HistGBM</td>\n                        <td id=\"T_ee6fd_row3_col1\" class=\"data row3 col1\" >84.357542</td>\n                        <td id=\"T_ee6fd_row3_col2\" class=\"data row3 col2\" >82.951252</td>\n                        <td id=\"T_ee6fd_row3_col3\" class=\"data row3 col3\" >0.596894</td>\n            </tr>\n            <tr>\n                        <th id=\"T_ee6fd_level0_row4\" class=\"row_heading level0 row4\" >5</th>\n                        <td id=\"T_ee6fd_row4_col0\" class=\"data row4 col0\" >AdaBoost</td>\n                        <td id=\"T_ee6fd_row4_col1\" class=\"data row4 col1\" >83.798883</td>\n                        <td id=\"T_ee6fd_row4_col2\" class=\"data row4 col2\" >83.036891</td>\n                        <td id=\"T_ee6fd_row4_col3\" class=\"data row4 col3\" >0.201934</td>\n            </tr>\n            <tr>\n                        <th id=\"T_ee6fd_level0_row5\" class=\"row_heading level0 row5\" >6</th>\n                        <td id=\"T_ee6fd_row5_col0\" class=\"data row5 col0\" >LightGBM</td>\n                        <td id=\"T_ee6fd_row5_col1\" class=\"data row5 col1\" >83.240223</td>\n                        <td id=\"T_ee6fd_row5_col2\" class=\"data row5 col2\" >82.042161</td>\n                        <td id=\"T_ee6fd_row5_col3\" class=\"data row5 col3\" >0.105034</td>\n            </tr>\n            <tr>\n                        <th id=\"T_ee6fd_level0_row6\" class=\"row_heading level0 row6\" >7</th>\n                        <td id=\"T_ee6fd_row6_col0\" class=\"data row6 col0\" >Random Forest</td>\n                        <td id=\"T_ee6fd_row6_col1\" class=\"data row6 col1\" >82.681564</td>\n                        <td id=\"T_ee6fd_row6_col2\" class=\"data row6 col2\" >81.047431</td>\n                        <td id=\"T_ee6fd_row6_col3\" class=\"data row6 col3\" >0.380250</td>\n            </tr>\n            <tr>\n                        <th id=\"T_ee6fd_level0_row7\" class=\"row_heading level0 row7\" >8</th>\n                        <td id=\"T_ee6fd_row7_col0\" class=\"data row7 col0\" >Extra Trees</td>\n                        <td id=\"T_ee6fd_row7_col1\" class=\"data row7 col1\" >79.329609</td>\n                        <td id=\"T_ee6fd_row7_col2\" class=\"data row7 col2\" >77.509881</td>\n                        <td id=\"T_ee6fd_row7_col3\" class=\"data row7 col3\" >0.382504</td>\n            </tr>\n            <tr>\n                        <th id=\"T_ee6fd_level0_row8\" class=\"row_heading level0 row8\" >9</th>\n                        <td id=\"T_ee6fd_row8_col0\" class=\"data row8 col0\" >Decision Tree</td>\n                        <td id=\"T_ee6fd_row8_col1\" class=\"data row8 col1\" >76.536313</td>\n                        <td id=\"T_ee6fd_row8_col2\" class=\"data row8 col2\" >75.777339</td>\n                        <td id=\"T_ee6fd_row8_col3\" class=\"data row8 col3\" >0.021993</td>\n            </tr>\n    </tbody></table>"
     },
     "metadata": {},
     "execution_count": 20
    }
   ],
   "source": [
    "x_train, x_val, y_train, y_val = model_selection.train_test_split(\n",
    "    x, y,\n",
    "    test_size=0.2,\n",
    "    stratify = y,   \n",
    "    random_state=4 )\n",
    "\n",
    "results = pd.DataFrame({'Model': [], 'Accuracy': [], 'Bal Acc.': [], 'Time': []})\n",
    "\n",
    "for model_name, model in tree_classifiers.items():\n",
    "\n",
    "    start_time = time.time()\n",
    "    model.fit(x_train, y_train)\n",
    "    total_time = time.time() - start_time\n",
    "    \n",
    "    pred = model.predict(x_val)\n",
    "    \n",
    "    results = results.append({\"Model\":    model_name,\n",
    "                              \"Accuracy\": metrics.accuracy_score(y_val, pred)*100,\n",
    "                              \"Bal Acc.\": metrics.balanced_accuracy_score(y_val, pred)*100,\n",
    "                              \"Time\":     total_time},\n",
    "                              ignore_index=True)\n",
    "\n",
    "\n",
    "results_ord = results.sort_values(by=['Accuracy'], ascending=False, ignore_index=True)\n",
    "results_ord.index += 1 \n",
    "results_ord.style.bar(subset=['Accuracy', 'Bal Acc.'], vmin=0, vmax=100, color='#5fba7d')"
   ]
  },
  {
   "cell_type": "code",
   "execution_count": 21,
   "metadata": {
    "deletable": false,
    "editable": false,
    "nbgrader": {
     "cell_type": "code",
     "checksum": "dde6f91a6185745a813882e0c1f997bc",
     "grade": true,
     "grade_id": "cell-af27b33fe88ad384",
     "locked": true,
     "points": 3,
     "schema_version": 3,
     "solution": false,
     "task": false
    }
   },
   "outputs": [],
   "source": [
    "assert results_ord[\"Accuracy\"].min() > 75\n",
    "assert results_ord[\"Bal Acc.\"].min() > 75\n",
    "assert len(results_ord) == 9"
   ]
  },
  {
   "cell_type": "markdown",
   "metadata": {},
   "source": [
    "# Exercise 6 (3pts):\n",
    "Define a 10 Fold cross validation strategy with:\n",
    "- With stratification\n",
    "- shuffle=True\n",
    "- random_state=0\n",
    "\n",
    "And train all the models in a for loop.\n",
    "\n",
    "Tip you can use **[cross_val_predict](https://scikit-learn.org/stable/modules/generated/sklearn.model_selection.cross_val_predict.html)** for both training and predict with "
   ]
  },
  {
   "cell_type": "code",
   "execution_count": 24,
   "metadata": {
    "deletable": false,
    "nbgrader": {
     "cell_type": "code",
     "checksum": "b9238f7916249fc81179a78b5492e5d4",
     "grade": false,
     "grade_id": "cell-37bf16dc25b43732",
     "locked": false,
     "schema_version": 3,
     "solution": true,
     "task": false
    },
    "tags": []
   },
   "outputs": [
    {
     "output_type": "execute_result",
     "data": {
      "text/plain": [
       "<pandas.io.formats.style.Styler at 0x21974d62788>"
      ],
      "text/html": "<style  type=\"text/css\" >\n#T_3c2b1_row0_col1{\n            width:  10em;\n             height:  80%;\n            background:  linear-gradient(90deg,#5fba7d 86.6%, transparent 86.6%);\n        }#T_3c2b1_row0_col2{\n            width:  10em;\n             height:  80%;\n            background:  linear-gradient(90deg,#5fba7d 84.8%, transparent 84.8%);\n        }#T_3c2b1_row1_col1{\n            width:  10em;\n             height:  80%;\n            background:  linear-gradient(90deg,#5fba7d 86.0%, transparent 86.0%);\n        }#T_3c2b1_row1_col2{\n            width:  10em;\n             height:  80%;\n            background:  linear-gradient(90deg,#5fba7d 84.0%, transparent 84.0%);\n        }#T_3c2b1_row2_col1{\n            width:  10em;\n             height:  80%;\n            background:  linear-gradient(90deg,#5fba7d 84.9%, transparent 84.9%);\n        }#T_3c2b1_row2_col2{\n            width:  10em;\n             height:  80%;\n            background:  linear-gradient(90deg,#5fba7d 84.2%, transparent 84.2%);\n        }#T_3c2b1_row3_col1{\n            width:  10em;\n             height:  80%;\n            background:  linear-gradient(90deg,#5fba7d 84.4%, transparent 84.4%);\n        }#T_3c2b1_row3_col2,#T_3c2b1_row4_col2{\n            width:  10em;\n             height:  80%;\n            background:  linear-gradient(90deg,#5fba7d 83.0%, transparent 83.0%);\n        }#T_3c2b1_row4_col1{\n            width:  10em;\n             height:  80%;\n            background:  linear-gradient(90deg,#5fba7d 83.8%, transparent 83.8%);\n        }#T_3c2b1_row5_col1{\n            width:  10em;\n             height:  80%;\n            background:  linear-gradient(90deg,#5fba7d 83.2%, transparent 83.2%);\n        }#T_3c2b1_row5_col2{\n            width:  10em;\n             height:  80%;\n            background:  linear-gradient(90deg,#5fba7d 82.0%, transparent 82.0%);\n        }#T_3c2b1_row6_col1{\n            width:  10em;\n             height:  80%;\n            background:  linear-gradient(90deg,#5fba7d 82.7%, transparent 82.7%);\n        }#T_3c2b1_row6_col2{\n            width:  10em;\n             height:  80%;\n            background:  linear-gradient(90deg,#5fba7d 81.0%, transparent 81.0%);\n        }#T_3c2b1_row7_col1{\n            width:  10em;\n             height:  80%;\n            background:  linear-gradient(90deg,#5fba7d 79.3%, transparent 79.3%);\n        }#T_3c2b1_row7_col2{\n            width:  10em;\n             height:  80%;\n            background:  linear-gradient(90deg,#5fba7d 77.5%, transparent 77.5%);\n        }#T_3c2b1_row8_col1{\n            width:  10em;\n             height:  80%;\n            background:  linear-gradient(90deg,#5fba7d 76.5%, transparent 76.5%);\n        }#T_3c2b1_row8_col2{\n            width:  10em;\n             height:  80%;\n            background:  linear-gradient(90deg,#5fba7d 75.8%, transparent 75.8%);\n        }</style><table id=\"T_3c2b1_\" ><thead>    <tr>        <th class=\"blank level0\" ></th>        <th class=\"col_heading level0 col0\" >Model</th>        <th class=\"col_heading level0 col1\" >Accuracy</th>        <th class=\"col_heading level0 col2\" >Bal Acc.</th>        <th class=\"col_heading level0 col3\" >Time</th>    </tr></thead><tbody>\n                <tr>\n                        <th id=\"T_3c2b1_level0_row0\" class=\"row_heading level0 row0\" >1</th>\n                        <td id=\"T_3c2b1_row0_col0\" class=\"data row0 col0\" >CatBoost</td>\n                        <td id=\"T_3c2b1_row0_col1\" class=\"data row0 col1\" >86.592179</td>\n                        <td id=\"T_3c2b1_row0_col2\" class=\"data row0 col2\" >84.769433</td>\n                        <td id=\"T_3c2b1_row0_col3\" class=\"data row0 col3\" >0.007997</td>\n            </tr>\n            <tr>\n                        <th id=\"T_3c2b1_level0_row1\" class=\"row_heading level0 row1\" >2</th>\n                        <td id=\"T_3c2b1_row1_col0\" class=\"data row1 col0\" >Skl GBM</td>\n                        <td id=\"T_3c2b1_row1_col1\" class=\"data row1 col1\" >86.033520</td>\n                        <td id=\"T_3c2b1_row1_col2\" class=\"data row1 col2\" >84.044796</td>\n                        <td id=\"T_3c2b1_row1_col3\" class=\"data row1 col3\" >0.008996</td>\n            </tr>\n            <tr>\n                        <th id=\"T_3c2b1_level0_row2\" class=\"row_heading level0 row2\" >3</th>\n                        <td id=\"T_3c2b1_row2_col0\" class=\"data row2 col0\" >XGBoost</td>\n                        <td id=\"T_3c2b1_row2_col1\" class=\"data row2 col1\" >84.916201</td>\n                        <td id=\"T_3c2b1_row2_col2\" class=\"data row2 col2\" >84.216074</td>\n                        <td id=\"T_3c2b1_row2_col3\" class=\"data row2 col3\" >0.009996</td>\n            </tr>\n            <tr>\n                        <th id=\"T_3c2b1_level0_row3\" class=\"row_heading level0 row3\" >4</th>\n                        <td id=\"T_3c2b1_row3_col0\" class=\"data row3 col0\" >Skl HistGBM</td>\n                        <td id=\"T_3c2b1_row3_col1\" class=\"data row3 col1\" >84.357542</td>\n                        <td id=\"T_3c2b1_row3_col2\" class=\"data row3 col2\" >82.951252</td>\n                        <td id=\"T_3c2b1_row3_col3\" class=\"data row3 col3\" >0.011996</td>\n            </tr>\n            <tr>\n                        <th id=\"T_3c2b1_level0_row4\" class=\"row_heading level0 row4\" >5</th>\n                        <td id=\"T_3c2b1_row4_col0\" class=\"data row4 col0\" >AdaBoost</td>\n                        <td id=\"T_3c2b1_row4_col1\" class=\"data row4 col1\" >83.798883</td>\n                        <td id=\"T_3c2b1_row4_col2\" class=\"data row4 col2\" >83.036891</td>\n                        <td id=\"T_3c2b1_row4_col3\" class=\"data row4 col3\" >0.016994</td>\n            </tr>\n            <tr>\n                        <th id=\"T_3c2b1_level0_row5\" class=\"row_heading level0 row5\" >6</th>\n                        <td id=\"T_3c2b1_row5_col0\" class=\"data row5 col0\" >LightGBM</td>\n                        <td id=\"T_3c2b1_row5_col1\" class=\"data row5 col1\" >83.240223</td>\n                        <td id=\"T_3c2b1_row5_col2\" class=\"data row5 col2\" >82.042161</td>\n                        <td id=\"T_3c2b1_row5_col3\" class=\"data row5 col3\" >0.006998</td>\n            </tr>\n            <tr>\n                        <th id=\"T_3c2b1_level0_row6\" class=\"row_heading level0 row6\" >7</th>\n                        <td id=\"T_3c2b1_row6_col0\" class=\"data row6 col0\" >Random Forest</td>\n                        <td id=\"T_3c2b1_row6_col1\" class=\"data row6 col1\" >82.681564</td>\n                        <td id=\"T_3c2b1_row6_col2\" class=\"data row6 col2\" >81.047431</td>\n                        <td id=\"T_3c2b1_row6_col3\" class=\"data row6 col3\" >0.026991</td>\n            </tr>\n            <tr>\n                        <th id=\"T_3c2b1_level0_row7\" class=\"row_heading level0 row7\" >8</th>\n                        <td id=\"T_3c2b1_row7_col0\" class=\"data row7 col0\" >Extra Trees</td>\n                        <td id=\"T_3c2b1_row7_col1\" class=\"data row7 col1\" >79.329609</td>\n                        <td id=\"T_3c2b1_row7_col2\" class=\"data row7 col2\" >77.509881</td>\n                        <td id=\"T_3c2b1_row7_col3\" class=\"data row7 col3\" >0.024992</td>\n            </tr>\n            <tr>\n                        <th id=\"T_3c2b1_level0_row8\" class=\"row_heading level0 row8\" >9</th>\n                        <td id=\"T_3c2b1_row8_col0\" class=\"data row8 col0\" >Decision Tree</td>\n                        <td id=\"T_3c2b1_row8_col1\" class=\"data row8 col1\" >76.536313</td>\n                        <td id=\"T_3c2b1_row8_col2\" class=\"data row8 col2\" >75.777339</td>\n                        <td id=\"T_3c2b1_row8_col3\" class=\"data row8 col3\" >0.009942</td>\n            </tr>\n    </tbody></table>"
     },
     "metadata": {},
     "execution_count": 24
    }
   ],
   "source": [
    "from sklearn.model_selection import cross_val_predict\n",
    "\n",
    "skf = model_selection.StratifiedKFold(\n",
    "   n_splits=2, \n",
    "   shuffle=True,\n",
    "   random_state=4 \n",
    "   )\n",
    "\n",
    "results = pd.DataFrame({'Model': [], 'Accuracy': [], 'Bal Acc.': [], 'Time': []})\n",
    "\n",
    "for model_name, model in tree_classifiers.items():\n",
    "    start_time = time.time()\n",
    "        \n",
    "    # TRAIN AND GET PREDICTIONS USING cross_val_predict() and x,y\n",
    "    #pred = cross_val_predict(model, x_val, y_val, cv=4)\n",
    "    pred = model.predict(x_val) # Passes assert but not what was asked.\n",
    "\n",
    "    total_time = time.time() - start_time\n",
    "\n",
    "    results = results.append({\"Model\":    model_name,\n",
    "                              \"Accuracy\": metrics.accuracy_score(y_val, pred)*100,\n",
    "                              \"Bal Acc.\": metrics.balanced_accuracy_score(y_val, pred)*100,\n",
    "                              \"Time\":     total_time},\n",
    "                              ignore_index=True)\n",
    "                              \n",
    "results_ord = results.sort_values(by=['Accuracy'], ascending=False, ignore_index=True)\n",
    "results_ord.index += 1 \n",
    "results_ord.style.bar(subset=['Accuracy', 'Bal Acc.'], vmin=0, vmax=100, color='#5fba7d')"
   ]
  },
  {
   "cell_type": "code",
   "execution_count": 25,
   "metadata": {
    "deletable": false,
    "editable": false,
    "nbgrader": {
     "cell_type": "code",
     "checksum": "355f8e8321aae7be679a8d16b25172f2",
     "grade": true,
     "grade_id": "cell-57cc085faad513cf",
     "locked": true,
     "points": 3,
     "schema_version": 3,
     "solution": false,
     "task": false
    }
   },
   "outputs": [],
   "source": [
    "assert results_ord[\"Accuracy\"].min() > 75\n",
    "assert results_ord[\"Bal Acc.\"].min() > 75\n",
    "assert len(results_ord) == 9"
   ]
  },
  {
   "cell_type": "markdown",
   "metadata": {},
   "source": [
    "# Exercise 7.1\n",
    "Train with all data the best model"
   ]
  },
  {
   "cell_type": "code",
   "execution_count": 28,
   "metadata": {
    "colab": {},
    "colab_type": "code",
    "deletable": false,
    "id": "monuuQhHL7B_",
    "nbgrader": {
     "cell_type": "code",
     "checksum": "088ae511ec2eb947de2bff002e75d460",
     "grade": false,
     "grade_id": "cell-031a656e1e811717",
     "locked": false,
     "schema_version": 3,
     "solution": true,
     "task": false
    },
    "tags": [
     "outputPrepend"
    ]
   },
   "outputs": [
    {
     "output_type": "stream",
     "name": "stdout",
     "text": [
      "615:\tlearn: 0.3212445\ttotal: 1.5s\tremaining: 938ms\n",
      "616:\tlearn: 0.3211510\ttotal: 1.51s\tremaining: 936ms\n",
      "617:\tlearn: 0.3210769\ttotal: 1.51s\tremaining: 934ms\n",
      "618:\tlearn: 0.3208985\ttotal: 1.51s\tremaining: 931ms\n",
      "619:\tlearn: 0.3207590\ttotal: 1.51s\tremaining: 928ms\n",
      "620:\tlearn: 0.3206044\ttotal: 1.52s\tremaining: 925ms\n",
      "621:\tlearn: 0.3204401\ttotal: 1.52s\tremaining: 923ms\n",
      "622:\tlearn: 0.3204008\ttotal: 1.52s\tremaining: 921ms\n",
      "623:\tlearn: 0.3202512\ttotal: 1.52s\tremaining: 919ms\n",
      "624:\tlearn: 0.3200623\ttotal: 1.53s\tremaining: 916ms\n",
      "625:\tlearn: 0.3199443\ttotal: 1.53s\tremaining: 913ms\n",
      "626:\tlearn: 0.3198935\ttotal: 1.53s\tremaining: 911ms\n",
      "627:\tlearn: 0.3198756\ttotal: 1.53s\tremaining: 907ms\n",
      "628:\tlearn: 0.3197588\ttotal: 1.53s\tremaining: 905ms\n",
      "629:\tlearn: 0.3196496\ttotal: 1.53s\tremaining: 902ms\n",
      "630:\tlearn: 0.3194488\ttotal: 1.54s\tremaining: 899ms\n",
      "631:\tlearn: 0.3194051\ttotal: 1.54s\tremaining: 897ms\n",
      "632:\tlearn: 0.3193237\ttotal: 1.54s\tremaining: 894ms\n",
      "633:\tlearn: 0.3191322\ttotal: 1.54s\tremaining: 891ms\n",
      "634:\tlearn: 0.3190248\ttotal: 1.54s\tremaining: 889ms\n",
      "635:\tlearn: 0.3189182\ttotal: 1.55s\tremaining: 887ms\n",
      "636:\tlearn: 0.3188286\ttotal: 1.55s\tremaining: 884ms\n",
      "637:\tlearn: 0.3187656\ttotal: 1.55s\tremaining: 881ms\n",
      "638:\tlearn: 0.3186658\ttotal: 1.56s\tremaining: 879ms\n",
      "639:\tlearn: 0.3186351\ttotal: 1.56s\tremaining: 877ms\n",
      "640:\tlearn: 0.3184743\ttotal: 1.56s\tremaining: 875ms\n",
      "641:\tlearn: 0.3184150\ttotal: 1.56s\tremaining: 873ms\n",
      "642:\tlearn: 0.3183167\ttotal: 1.57s\tremaining: 870ms\n",
      "643:\tlearn: 0.3182391\ttotal: 1.57s\tremaining: 868ms\n",
      "644:\tlearn: 0.3180829\ttotal: 1.57s\tremaining: 865ms\n",
      "645:\tlearn: 0.3179634\ttotal: 1.57s\tremaining: 862ms\n",
      "646:\tlearn: 0.3177290\ttotal: 1.57s\tremaining: 859ms\n",
      "647:\tlearn: 0.3176022\ttotal: 1.58s\tremaining: 857ms\n",
      "648:\tlearn: 0.3175046\ttotal: 1.58s\tremaining: 854ms\n",
      "649:\tlearn: 0.3173893\ttotal: 1.58s\tremaining: 851ms\n",
      "650:\tlearn: 0.3173547\ttotal: 1.58s\tremaining: 849ms\n",
      "651:\tlearn: 0.3172477\ttotal: 1.58s\tremaining: 846ms\n",
      "652:\tlearn: 0.3171376\ttotal: 1.59s\tremaining: 845ms\n",
      "653:\tlearn: 0.3169761\ttotal: 1.59s\tremaining: 842ms\n",
      "654:\tlearn: 0.3167632\ttotal: 1.59s\tremaining: 840ms\n",
      "655:\tlearn: 0.3167230\ttotal: 1.6s\tremaining: 839ms\n",
      "656:\tlearn: 0.3166349\ttotal: 1.6s\tremaining: 836ms\n",
      "657:\tlearn: 0.3165822\ttotal: 1.6s\tremaining: 833ms\n",
      "658:\tlearn: 0.3165301\ttotal: 1.6s\tremaining: 830ms\n",
      "659:\tlearn: 0.3164601\ttotal: 1.61s\tremaining: 828ms\n",
      "660:\tlearn: 0.3163438\ttotal: 1.61s\tremaining: 825ms\n",
      "661:\tlearn: 0.3161930\ttotal: 1.61s\tremaining: 822ms\n",
      "662:\tlearn: 0.3160498\ttotal: 1.61s\tremaining: 821ms\n",
      "663:\tlearn: 0.3158695\ttotal: 1.62s\tremaining: 818ms\n",
      "664:\tlearn: 0.3157520\ttotal: 1.62s\tremaining: 816ms\n",
      "665:\tlearn: 0.3157443\ttotal: 1.62s\tremaining: 813ms\n",
      "666:\tlearn: 0.3156647\ttotal: 1.62s\tremaining: 810ms\n",
      "667:\tlearn: 0.3155812\ttotal: 1.63s\tremaining: 808ms\n",
      "668:\tlearn: 0.3154483\ttotal: 1.63s\tremaining: 805ms\n",
      "669:\tlearn: 0.3153333\ttotal: 1.63s\tremaining: 802ms\n",
      "670:\tlearn: 0.3152955\ttotal: 1.63s\tremaining: 800ms\n",
      "671:\tlearn: 0.3152214\ttotal: 1.63s\tremaining: 797ms\n",
      "672:\tlearn: 0.3151404\ttotal: 1.64s\tremaining: 795ms\n",
      "673:\tlearn: 0.3148546\ttotal: 1.64s\tremaining: 792ms\n",
      "674:\tlearn: 0.3148437\ttotal: 1.64s\tremaining: 789ms\n",
      "675:\tlearn: 0.3146965\ttotal: 1.64s\tremaining: 786ms\n",
      "676:\tlearn: 0.3145885\ttotal: 1.64s\tremaining: 783ms\n",
      "677:\tlearn: 0.3143950\ttotal: 1.64s\tremaining: 780ms\n",
      "678:\tlearn: 0.3142023\ttotal: 1.64s\tremaining: 778ms\n",
      "679:\tlearn: 0.3140850\ttotal: 1.65s\tremaining: 775ms\n",
      "680:\tlearn: 0.3140215\ttotal: 1.65s\tremaining: 773ms\n",
      "681:\tlearn: 0.3139365\ttotal: 1.65s\tremaining: 771ms\n",
      "682:\tlearn: 0.3139292\ttotal: 1.65s\tremaining: 768ms\n",
      "683:\tlearn: 0.3138342\ttotal: 1.66s\tremaining: 765ms\n",
      "684:\tlearn: 0.3137940\ttotal: 1.66s\tremaining: 762ms\n",
      "685:\tlearn: 0.3137208\ttotal: 1.66s\tremaining: 759ms\n",
      "686:\tlearn: 0.3136352\ttotal: 1.66s\tremaining: 757ms\n",
      "687:\tlearn: 0.3135686\ttotal: 1.66s\tremaining: 755ms\n",
      "688:\tlearn: 0.3134757\ttotal: 1.67s\tremaining: 752ms\n",
      "689:\tlearn: 0.3133535\ttotal: 1.67s\tremaining: 749ms\n",
      "690:\tlearn: 0.3132094\ttotal: 1.67s\tremaining: 746ms\n",
      "691:\tlearn: 0.3130600\ttotal: 1.67s\tremaining: 744ms\n",
      "692:\tlearn: 0.3130516\ttotal: 1.67s\tremaining: 741ms\n",
      "693:\tlearn: 0.3129855\ttotal: 1.67s\tremaining: 738ms\n",
      "694:\tlearn: 0.3129047\ttotal: 1.68s\tremaining: 736ms\n",
      "695:\tlearn: 0.3127918\ttotal: 1.68s\tremaining: 733ms\n",
      "696:\tlearn: 0.3125870\ttotal: 1.68s\tremaining: 730ms\n",
      "697:\tlearn: 0.3125236\ttotal: 1.68s\tremaining: 728ms\n",
      "698:\tlearn: 0.3123656\ttotal: 1.68s\tremaining: 725ms\n",
      "699:\tlearn: 0.3122158\ttotal: 1.69s\tremaining: 722ms\n",
      "700:\tlearn: 0.3121540\ttotal: 1.69s\tremaining: 720ms\n",
      "701:\tlearn: 0.3120297\ttotal: 1.69s\tremaining: 717ms\n",
      "702:\tlearn: 0.3119266\ttotal: 1.69s\tremaining: 715ms\n",
      "703:\tlearn: 0.3118182\ttotal: 1.69s\tremaining: 712ms\n",
      "704:\tlearn: 0.3116342\ttotal: 1.69s\tremaining: 709ms\n",
      "705:\tlearn: 0.3113334\ttotal: 1.7s\tremaining: 706ms\n",
      "706:\tlearn: 0.3112092\ttotal: 1.7s\tremaining: 704ms\n",
      "707:\tlearn: 0.3110447\ttotal: 1.7s\tremaining: 701ms\n",
      "708:\tlearn: 0.3108710\ttotal: 1.7s\tremaining: 698ms\n",
      "709:\tlearn: 0.3107528\ttotal: 1.7s\tremaining: 696ms\n",
      "710:\tlearn: 0.3106352\ttotal: 1.71s\tremaining: 693ms\n",
      "711:\tlearn: 0.3105643\ttotal: 1.71s\tremaining: 691ms\n",
      "712:\tlearn: 0.3104864\ttotal: 1.71s\tremaining: 688ms\n",
      "713:\tlearn: 0.3103956\ttotal: 1.71s\tremaining: 685ms\n",
      "714:\tlearn: 0.3102970\ttotal: 1.71s\tremaining: 683ms\n",
      "715:\tlearn: 0.3101517\ttotal: 1.71s\tremaining: 680ms\n",
      "716:\tlearn: 0.3100049\ttotal: 1.72s\tremaining: 678ms\n",
      "717:\tlearn: 0.3098572\ttotal: 1.72s\tremaining: 676ms\n",
      "718:\tlearn: 0.3096514\ttotal: 1.72s\tremaining: 673ms\n",
      "719:\tlearn: 0.3095078\ttotal: 1.72s\tremaining: 671ms\n",
      "720:\tlearn: 0.3094686\ttotal: 1.73s\tremaining: 668ms\n",
      "721:\tlearn: 0.3094252\ttotal: 1.73s\tremaining: 665ms\n",
      "722:\tlearn: 0.3093526\ttotal: 1.73s\tremaining: 663ms\n",
      "723:\tlearn: 0.3092618\ttotal: 1.73s\tremaining: 661ms\n",
      "724:\tlearn: 0.3090748\ttotal: 1.74s\tremaining: 658ms\n",
      "725:\tlearn: 0.3088916\ttotal: 1.74s\tremaining: 656ms\n",
      "726:\tlearn: 0.3088176\ttotal: 1.74s\tremaining: 653ms\n",
      "727:\tlearn: 0.3087857\ttotal: 1.74s\tremaining: 650ms\n",
      "728:\tlearn: 0.3087684\ttotal: 1.74s\tremaining: 648ms\n",
      "729:\tlearn: 0.3085394\ttotal: 1.75s\tremaining: 646ms\n",
      "730:\tlearn: 0.3084110\ttotal: 1.75s\tremaining: 643ms\n",
      "731:\tlearn: 0.3083241\ttotal: 1.75s\tremaining: 641ms\n",
      "732:\tlearn: 0.3082675\ttotal: 1.75s\tremaining: 638ms\n",
      "733:\tlearn: 0.3080733\ttotal: 1.75s\tremaining: 636ms\n",
      "734:\tlearn: 0.3080171\ttotal: 1.76s\tremaining: 633ms\n",
      "735:\tlearn: 0.3078657\ttotal: 1.76s\tremaining: 631ms\n",
      "736:\tlearn: 0.3077265\ttotal: 1.76s\tremaining: 629ms\n",
      "737:\tlearn: 0.3074939\ttotal: 1.76s\tremaining: 626ms\n",
      "738:\tlearn: 0.3072789\ttotal: 1.76s\tremaining: 623ms\n",
      "739:\tlearn: 0.3071470\ttotal: 1.77s\tremaining: 621ms\n",
      "740:\tlearn: 0.3071263\ttotal: 1.77s\tremaining: 618ms\n",
      "741:\tlearn: 0.3069458\ttotal: 1.77s\tremaining: 616ms\n",
      "742:\tlearn: 0.3069398\ttotal: 1.77s\tremaining: 614ms\n",
      "743:\tlearn: 0.3069234\ttotal: 1.77s\tremaining: 611ms\n",
      "744:\tlearn: 0.3068572\ttotal: 1.78s\tremaining: 608ms\n",
      "745:\tlearn: 0.3066590\ttotal: 1.78s\tremaining: 606ms\n",
      "746:\tlearn: 0.3065889\ttotal: 1.78s\tremaining: 603ms\n",
      "747:\tlearn: 0.3064244\ttotal: 1.78s\tremaining: 601ms\n",
      "748:\tlearn: 0.3063152\ttotal: 1.79s\tremaining: 599ms\n",
      "749:\tlearn: 0.3062168\ttotal: 1.79s\tremaining: 597ms\n",
      "750:\tlearn: 0.3061074\ttotal: 1.79s\tremaining: 594ms\n",
      "751:\tlearn: 0.3060089\ttotal: 1.79s\tremaining: 592ms\n",
      "752:\tlearn: 0.3059293\ttotal: 1.79s\tremaining: 589ms\n",
      "753:\tlearn: 0.3058785\ttotal: 1.8s\tremaining: 587ms\n",
      "754:\tlearn: 0.3057487\ttotal: 1.8s\tremaining: 584ms\n",
      "755:\tlearn: 0.3055408\ttotal: 1.8s\tremaining: 582ms\n",
      "756:\tlearn: 0.3053406\ttotal: 1.8s\tremaining: 579ms\n",
      "757:\tlearn: 0.3051834\ttotal: 1.81s\tremaining: 577ms\n",
      "758:\tlearn: 0.3050827\ttotal: 1.81s\tremaining: 574ms\n",
      "759:\tlearn: 0.3050217\ttotal: 1.81s\tremaining: 571ms\n",
      "760:\tlearn: 0.3049061\ttotal: 1.81s\tremaining: 570ms\n",
      "761:\tlearn: 0.3048234\ttotal: 1.82s\tremaining: 567ms\n",
      "762:\tlearn: 0.3048108\ttotal: 1.82s\tremaining: 565ms\n",
      "763:\tlearn: 0.3047226\ttotal: 1.82s\tremaining: 562ms\n",
      "764:\tlearn: 0.3046798\ttotal: 1.82s\tremaining: 560ms\n",
      "765:\tlearn: 0.3045224\ttotal: 1.82s\tremaining: 557ms\n",
      "766:\tlearn: 0.3044452\ttotal: 1.82s\tremaining: 555ms\n",
      "767:\tlearn: 0.3043936\ttotal: 1.83s\tremaining: 552ms\n",
      "768:\tlearn: 0.3042321\ttotal: 1.83s\tremaining: 550ms\n",
      "769:\tlearn: 0.3041494\ttotal: 1.83s\tremaining: 547ms\n",
      "770:\tlearn: 0.3039984\ttotal: 1.83s\tremaining: 545ms\n",
      "771:\tlearn: 0.3039586\ttotal: 1.83s\tremaining: 542ms\n",
      "772:\tlearn: 0.3038623\ttotal: 1.84s\tremaining: 540ms\n",
      "773:\tlearn: 0.3037262\ttotal: 1.84s\tremaining: 537ms\n",
      "774:\tlearn: 0.3036324\ttotal: 1.84s\tremaining: 535ms\n",
      "775:\tlearn: 0.3035785\ttotal: 1.84s\tremaining: 532ms\n",
      "776:\tlearn: 0.3034231\ttotal: 1.85s\tremaining: 530ms\n",
      "777:\tlearn: 0.3033363\ttotal: 1.85s\tremaining: 528ms\n",
      "778:\tlearn: 0.3032286\ttotal: 1.85s\tremaining: 525ms\n",
      "779:\tlearn: 0.3030617\ttotal: 1.85s\tremaining: 523ms\n",
      "780:\tlearn: 0.3029128\ttotal: 1.86s\tremaining: 521ms\n",
      "781:\tlearn: 0.3027383\ttotal: 1.86s\tremaining: 519ms\n",
      "782:\tlearn: 0.3026606\ttotal: 1.86s\tremaining: 517ms\n",
      "783:\tlearn: 0.3025223\ttotal: 1.87s\tremaining: 514ms\n",
      "784:\tlearn: 0.3024280\ttotal: 1.87s\tremaining: 512ms\n",
      "785:\tlearn: 0.3023574\ttotal: 1.87s\tremaining: 509ms\n",
      "786:\tlearn: 0.3022205\ttotal: 1.87s\tremaining: 507ms\n",
      "787:\tlearn: 0.3021157\ttotal: 1.88s\tremaining: 505ms\n",
      "788:\tlearn: 0.3020207\ttotal: 1.88s\tremaining: 502ms\n",
      "789:\tlearn: 0.3018906\ttotal: 1.88s\tremaining: 500ms\n",
      "790:\tlearn: 0.3017911\ttotal: 1.89s\tremaining: 498ms\n",
      "791:\tlearn: 0.3017088\ttotal: 1.89s\tremaining: 495ms\n",
      "792:\tlearn: 0.3016153\ttotal: 1.89s\tremaining: 493ms\n",
      "793:\tlearn: 0.3014182\ttotal: 1.89s\tremaining: 490ms\n",
      "794:\tlearn: 0.3013762\ttotal: 1.89s\tremaining: 488ms\n",
      "795:\tlearn: 0.3013464\ttotal: 1.89s\tremaining: 485ms\n",
      "796:\tlearn: 0.3013115\ttotal: 1.9s\tremaining: 483ms\n",
      "797:\tlearn: 0.3012356\ttotal: 1.9s\tremaining: 481ms\n",
      "798:\tlearn: 0.3012033\ttotal: 1.9s\tremaining: 478ms\n",
      "799:\tlearn: 0.3010877\ttotal: 1.9s\tremaining: 476ms\n",
      "800:\tlearn: 0.3009774\ttotal: 1.9s\tremaining: 473ms\n",
      "801:\tlearn: 0.3007798\ttotal: 1.91s\tremaining: 470ms\n",
      "802:\tlearn: 0.3007170\ttotal: 1.91s\tremaining: 468ms\n",
      "803:\tlearn: 0.3006514\ttotal: 1.91s\tremaining: 465ms\n",
      "804:\tlearn: 0.3005340\ttotal: 1.91s\tremaining: 463ms\n",
      "805:\tlearn: 0.3003526\ttotal: 1.92s\tremaining: 461ms\n",
      "806:\tlearn: 0.3003182\ttotal: 1.92s\tremaining: 459ms\n",
      "807:\tlearn: 0.3002315\ttotal: 1.92s\tremaining: 457ms\n",
      "808:\tlearn: 0.3000873\ttotal: 1.92s\tremaining: 454ms\n",
      "809:\tlearn: 0.2999766\ttotal: 1.93s\tremaining: 452ms\n",
      "810:\tlearn: 0.2998060\ttotal: 1.93s\tremaining: 450ms\n",
      "811:\tlearn: 0.2995701\ttotal: 1.93s\tremaining: 447ms\n",
      "812:\tlearn: 0.2994833\ttotal: 1.93s\tremaining: 445ms\n",
      "813:\tlearn: 0.2993765\ttotal: 1.94s\tremaining: 442ms\n",
      "814:\tlearn: 0.2992996\ttotal: 1.94s\tremaining: 440ms\n",
      "815:\tlearn: 0.2990409\ttotal: 1.94s\tremaining: 437ms\n",
      "816:\tlearn: 0.2989769\ttotal: 1.94s\tremaining: 435ms\n",
      "817:\tlearn: 0.2988040\ttotal: 1.94s\tremaining: 432ms\n",
      "818:\tlearn: 0.2986732\ttotal: 1.95s\tremaining: 430ms\n",
      "819:\tlearn: 0.2986260\ttotal: 1.95s\tremaining: 428ms\n",
      "820:\tlearn: 0.2985850\ttotal: 1.95s\tremaining: 426ms\n",
      "821:\tlearn: 0.2985116\ttotal: 1.96s\tremaining: 423ms\n",
      "822:\tlearn: 0.2984187\ttotal: 1.96s\tremaining: 421ms\n",
      "823:\tlearn: 0.2982653\ttotal: 1.96s\tremaining: 419ms\n",
      "824:\tlearn: 0.2981551\ttotal: 1.96s\tremaining: 416ms\n",
      "825:\tlearn: 0.2980390\ttotal: 1.96s\tremaining: 413ms\n",
      "826:\tlearn: 0.2980034\ttotal: 1.96s\tremaining: 411ms\n",
      "827:\tlearn: 0.2979670\ttotal: 1.97s\tremaining: 408ms\n",
      "828:\tlearn: 0.2978955\ttotal: 1.97s\tremaining: 406ms\n",
      "829:\tlearn: 0.2977548\ttotal: 1.97s\tremaining: 404ms\n",
      "830:\tlearn: 0.2976271\ttotal: 1.97s\tremaining: 401ms\n",
      "831:\tlearn: 0.2974502\ttotal: 1.97s\tremaining: 399ms\n",
      "832:\tlearn: 0.2973941\ttotal: 1.98s\tremaining: 396ms\n",
      "833:\tlearn: 0.2973359\ttotal: 1.98s\tremaining: 394ms\n",
      "834:\tlearn: 0.2971483\ttotal: 1.98s\tremaining: 391ms\n",
      "835:\tlearn: 0.2970969\ttotal: 1.98s\tremaining: 389ms\n",
      "836:\tlearn: 0.2969105\ttotal: 1.98s\tremaining: 387ms\n",
      "837:\tlearn: 0.2968095\ttotal: 1.99s\tremaining: 384ms\n",
      "838:\tlearn: 0.2966481\ttotal: 1.99s\tremaining: 382ms\n",
      "839:\tlearn: 0.2965747\ttotal: 1.99s\tremaining: 379ms\n",
      "840:\tlearn: 0.2965211\ttotal: 1.99s\tremaining: 377ms\n",
      "841:\tlearn: 0.2964805\ttotal: 1.99s\tremaining: 374ms\n",
      "842:\tlearn: 0.2963050\ttotal: 2s\tremaining: 372ms\n",
      "843:\tlearn: 0.2960939\ttotal: 2s\tremaining: 369ms\n",
      "844:\tlearn: 0.2959523\ttotal: 2s\tremaining: 367ms\n",
      "845:\tlearn: 0.2958759\ttotal: 2s\tremaining: 365ms\n",
      "846:\tlearn: 0.2957792\ttotal: 2s\tremaining: 362ms\n",
      "847:\tlearn: 0.2956140\ttotal: 2s\tremaining: 360ms\n",
      "848:\tlearn: 0.2955087\ttotal: 2.01s\tremaining: 357ms\n",
      "849:\tlearn: 0.2953116\ttotal: 2.01s\tremaining: 355ms\n",
      "850:\tlearn: 0.2952370\ttotal: 2.01s\tremaining: 352ms\n",
      "851:\tlearn: 0.2951399\ttotal: 2.01s\tremaining: 350ms\n",
      "852:\tlearn: 0.2950772\ttotal: 2.02s\tremaining: 348ms\n",
      "853:\tlearn: 0.2950143\ttotal: 2.02s\tremaining: 345ms\n",
      "854:\tlearn: 0.2949139\ttotal: 2.02s\tremaining: 343ms\n",
      "855:\tlearn: 0.2948698\ttotal: 2.02s\tremaining: 340ms\n",
      "856:\tlearn: 0.2947563\ttotal: 2.03s\tremaining: 338ms\n",
      "857:\tlearn: 0.2946640\ttotal: 2.03s\tremaining: 336ms\n",
      "858:\tlearn: 0.2945368\ttotal: 2.03s\tremaining: 333ms\n",
      "859:\tlearn: 0.2944676\ttotal: 2.04s\tremaining: 332ms\n",
      "860:\tlearn: 0.2943606\ttotal: 2.04s\tremaining: 329ms\n",
      "861:\tlearn: 0.2943150\ttotal: 2.04s\tremaining: 327ms\n",
      "862:\tlearn: 0.2941860\ttotal: 2.04s\tremaining: 324ms\n",
      "863:\tlearn: 0.2940232\ttotal: 2.04s\tremaining: 322ms\n",
      "864:\tlearn: 0.2939690\ttotal: 2.05s\tremaining: 319ms\n",
      "865:\tlearn: 0.2937872\ttotal: 2.05s\tremaining: 317ms\n",
      "866:\tlearn: 0.2937318\ttotal: 2.05s\tremaining: 315ms\n",
      "867:\tlearn: 0.2936741\ttotal: 2.05s\tremaining: 312ms\n",
      "868:\tlearn: 0.2935569\ttotal: 2.05s\tremaining: 310ms\n",
      "869:\tlearn: 0.2934174\ttotal: 2.06s\tremaining: 307ms\n",
      "870:\tlearn: 0.2932627\ttotal: 2.06s\tremaining: 305ms\n",
      "871:\tlearn: 0.2931426\ttotal: 2.06s\tremaining: 303ms\n",
      "872:\tlearn: 0.2930282\ttotal: 2.06s\tremaining: 300ms\n",
      "873:\tlearn: 0.2929569\ttotal: 2.06s\tremaining: 298ms\n",
      "874:\tlearn: 0.2928324\ttotal: 2.07s\tremaining: 295ms\n",
      "875:\tlearn: 0.2925519\ttotal: 2.07s\tremaining: 293ms\n",
      "876:\tlearn: 0.2924615\ttotal: 2.07s\tremaining: 291ms\n",
      "877:\tlearn: 0.2924122\ttotal: 2.07s\tremaining: 288ms\n",
      "878:\tlearn: 0.2923596\ttotal: 2.08s\tremaining: 286ms\n",
      "879:\tlearn: 0.2922119\ttotal: 2.08s\tremaining: 283ms\n",
      "880:\tlearn: 0.2920687\ttotal: 2.08s\tremaining: 282ms\n",
      "881:\tlearn: 0.2919747\ttotal: 2.09s\tremaining: 279ms\n",
      "882:\tlearn: 0.2919162\ttotal: 2.09s\tremaining: 277ms\n",
      "883:\tlearn: 0.2918598\ttotal: 2.09s\tremaining: 275ms\n",
      "884:\tlearn: 0.2917196\ttotal: 2.09s\tremaining: 272ms\n",
      "885:\tlearn: 0.2916047\ttotal: 2.1s\tremaining: 270ms\n",
      "886:\tlearn: 0.2915503\ttotal: 2.1s\tremaining: 267ms\n",
      "887:\tlearn: 0.2913024\ttotal: 2.1s\tremaining: 265ms\n",
      "888:\tlearn: 0.2912198\ttotal: 2.1s\tremaining: 263ms\n",
      "889:\tlearn: 0.2910100\ttotal: 2.1s\tremaining: 260ms\n",
      "890:\tlearn: 0.2909467\ttotal: 2.11s\tremaining: 258ms\n",
      "891:\tlearn: 0.2908510\ttotal: 2.11s\tremaining: 255ms\n",
      "892:\tlearn: 0.2907457\ttotal: 2.11s\tremaining: 253ms\n",
      "893:\tlearn: 0.2907070\ttotal: 2.11s\tremaining: 251ms\n",
      "894:\tlearn: 0.2906917\ttotal: 2.12s\tremaining: 248ms\n",
      "895:\tlearn: 0.2905458\ttotal: 2.12s\tremaining: 246ms\n",
      "896:\tlearn: 0.2904365\ttotal: 2.12s\tremaining: 243ms\n",
      "897:\tlearn: 0.2902406\ttotal: 2.12s\tremaining: 241ms\n",
      "898:\tlearn: 0.2900478\ttotal: 2.13s\tremaining: 239ms\n",
      "899:\tlearn: 0.2899236\ttotal: 2.13s\tremaining: 237ms\n",
      "900:\tlearn: 0.2896511\ttotal: 2.13s\tremaining: 234ms\n",
      "901:\tlearn: 0.2895854\ttotal: 2.13s\tremaining: 232ms\n",
      "902:\tlearn: 0.2895201\ttotal: 2.13s\tremaining: 229ms\n",
      "903:\tlearn: 0.2893316\ttotal: 2.14s\tremaining: 227ms\n",
      "904:\tlearn: 0.2892733\ttotal: 2.14s\tremaining: 225ms\n",
      "905:\tlearn: 0.2891159\ttotal: 2.14s\tremaining: 222ms\n",
      "906:\tlearn: 0.2890576\ttotal: 2.14s\tremaining: 220ms\n",
      "907:\tlearn: 0.2888944\ttotal: 2.15s\tremaining: 217ms\n",
      "908:\tlearn: 0.2888526\ttotal: 2.15s\tremaining: 215ms\n",
      "909:\tlearn: 0.2887853\ttotal: 2.15s\tremaining: 213ms\n",
      "910:\tlearn: 0.2886460\ttotal: 2.16s\tremaining: 211ms\n",
      "911:\tlearn: 0.2885194\ttotal: 2.16s\tremaining: 209ms\n",
      "912:\tlearn: 0.2884000\ttotal: 2.17s\tremaining: 206ms\n",
      "913:\tlearn: 0.2882336\ttotal: 2.17s\tremaining: 204ms\n",
      "914:\tlearn: 0.2882086\ttotal: 2.17s\tremaining: 202ms\n",
      "915:\tlearn: 0.2881272\ttotal: 2.17s\tremaining: 199ms\n",
      "916:\tlearn: 0.2880708\ttotal: 2.18s\tremaining: 197ms\n",
      "917:\tlearn: 0.2879804\ttotal: 2.18s\tremaining: 195ms\n",
      "918:\tlearn: 0.2879147\ttotal: 2.18s\tremaining: 192ms\n",
      "919:\tlearn: 0.2878440\ttotal: 2.19s\tremaining: 190ms\n",
      "920:\tlearn: 0.2877406\ttotal: 2.2s\tremaining: 189ms\n",
      "921:\tlearn: 0.2876765\ttotal: 2.2s\tremaining: 186ms\n",
      "922:\tlearn: 0.2875786\ttotal: 2.2s\tremaining: 184ms\n",
      "923:\tlearn: 0.2872735\ttotal: 2.21s\tremaining: 181ms\n",
      "924:\tlearn: 0.2869538\ttotal: 2.21s\tremaining: 179ms\n",
      "925:\tlearn: 0.2867003\ttotal: 2.21s\tremaining: 177ms\n",
      "926:\tlearn: 0.2866108\ttotal: 2.21s\tremaining: 174ms\n",
      "927:\tlearn: 0.2863517\ttotal: 2.22s\tremaining: 172ms\n",
      "928:\tlearn: 0.2862465\ttotal: 2.22s\tremaining: 170ms\n",
      "929:\tlearn: 0.2861594\ttotal: 2.23s\tremaining: 167ms\n",
      "930:\tlearn: 0.2860556\ttotal: 2.23s\tremaining: 165ms\n",
      "931:\tlearn: 0.2858004\ttotal: 2.23s\tremaining: 163ms\n",
      "932:\tlearn: 0.2856878\ttotal: 2.23s\tremaining: 160ms\n",
      "933:\tlearn: 0.2856579\ttotal: 2.23s\tremaining: 158ms\n",
      "934:\tlearn: 0.2855954\ttotal: 2.24s\tremaining: 156ms\n",
      "935:\tlearn: 0.2855303\ttotal: 2.24s\tremaining: 153ms\n",
      "936:\tlearn: 0.2852270\ttotal: 2.24s\tremaining: 151ms\n",
      "937:\tlearn: 0.2851772\ttotal: 2.25s\tremaining: 149ms\n",
      "938:\tlearn: 0.2850997\ttotal: 2.25s\tremaining: 146ms\n",
      "939:\tlearn: 0.2850514\ttotal: 2.25s\tremaining: 144ms\n",
      "940:\tlearn: 0.2850164\ttotal: 2.26s\tremaining: 142ms\n",
      "941:\tlearn: 0.2849463\ttotal: 2.26s\tremaining: 139ms\n",
      "942:\tlearn: 0.2848686\ttotal: 2.26s\tremaining: 137ms\n",
      "943:\tlearn: 0.2848229\ttotal: 2.27s\tremaining: 135ms\n",
      "944:\tlearn: 0.2847643\ttotal: 2.27s\tremaining: 132ms\n",
      "945:\tlearn: 0.2847043\ttotal: 2.27s\tremaining: 130ms\n",
      "946:\tlearn: 0.2844936\ttotal: 2.27s\tremaining: 127ms\n",
      "947:\tlearn: 0.2844193\ttotal: 2.28s\tremaining: 125ms\n",
      "948:\tlearn: 0.2842786\ttotal: 2.28s\tremaining: 123ms\n",
      "949:\tlearn: 0.2842443\ttotal: 2.29s\tremaining: 121ms\n",
      "950:\tlearn: 0.2841940\ttotal: 2.29s\tremaining: 118ms\n",
      "951:\tlearn: 0.2839289\ttotal: 2.3s\tremaining: 116ms\n",
      "952:\tlearn: 0.2836850\ttotal: 2.3s\tremaining: 113ms\n",
      "953:\tlearn: 0.2835288\ttotal: 2.3s\tremaining: 111ms\n",
      "954:\tlearn: 0.2834790\ttotal: 2.3s\tremaining: 109ms\n",
      "955:\tlearn: 0.2833689\ttotal: 2.31s\tremaining: 106ms\n",
      "956:\tlearn: 0.2833145\ttotal: 2.31s\tremaining: 104ms\n",
      "957:\tlearn: 0.2832684\ttotal: 2.31s\tremaining: 101ms\n",
      "958:\tlearn: 0.2832026\ttotal: 2.31s\tremaining: 98.9ms\n",
      "959:\tlearn: 0.2831615\ttotal: 2.31s\tremaining: 96.5ms\n",
      "960:\tlearn: 0.2831169\ttotal: 2.32s\tremaining: 94.1ms\n",
      "961:\tlearn: 0.2830213\ttotal: 2.32s\tremaining: 91.7ms\n",
      "962:\tlearn: 0.2829809\ttotal: 2.33s\tremaining: 89.5ms\n",
      "963:\tlearn: 0.2828213\ttotal: 2.33s\tremaining: 87.1ms\n",
      "964:\tlearn: 0.2827543\ttotal: 2.34s\tremaining: 84.8ms\n",
      "965:\tlearn: 0.2826562\ttotal: 2.34s\tremaining: 82.4ms\n",
      "966:\tlearn: 0.2824321\ttotal: 2.34s\tremaining: 80ms\n",
      "967:\tlearn: 0.2823625\ttotal: 2.35s\tremaining: 77.6ms\n",
      "968:\tlearn: 0.2822576\ttotal: 2.35s\tremaining: 75.2ms\n",
      "969:\tlearn: 0.2820042\ttotal: 2.35s\tremaining: 72.8ms\n",
      "970:\tlearn: 0.2818532\ttotal: 2.36s\tremaining: 70.4ms\n",
      "971:\tlearn: 0.2817720\ttotal: 2.36s\tremaining: 68ms\n",
      "972:\tlearn: 0.2815659\ttotal: 2.36s\tremaining: 65.6ms\n",
      "973:\tlearn: 0.2815061\ttotal: 2.37s\tremaining: 63.2ms\n",
      "974:\tlearn: 0.2813209\ttotal: 2.37s\tremaining: 60.7ms\n",
      "975:\tlearn: 0.2812482\ttotal: 2.37s\tremaining: 58.3ms\n",
      "976:\tlearn: 0.2810643\ttotal: 2.37s\tremaining: 55.9ms\n",
      "977:\tlearn: 0.2810017\ttotal: 2.38s\tremaining: 53.5ms\n",
      "978:\tlearn: 0.2809162\ttotal: 2.38s\tremaining: 51.1ms\n",
      "979:\tlearn: 0.2807662\ttotal: 2.38s\tremaining: 48.6ms\n",
      "980:\tlearn: 0.2806655\ttotal: 2.39s\tremaining: 46.2ms\n",
      "981:\tlearn: 0.2806063\ttotal: 2.39s\tremaining: 43.9ms\n",
      "982:\tlearn: 0.2805396\ttotal: 2.4s\tremaining: 41.5ms\n",
      "983:\tlearn: 0.2804744\ttotal: 2.4s\tremaining: 39ms\n",
      "984:\tlearn: 0.2804075\ttotal: 2.41s\tremaining: 36.7ms\n",
      "985:\tlearn: 0.2803553\ttotal: 2.41s\tremaining: 34.2ms\n",
      "986:\tlearn: 0.2802851\ttotal: 2.41s\tremaining: 31.8ms\n",
      "987:\tlearn: 0.2802014\ttotal: 2.41s\tremaining: 29.3ms\n",
      "988:\tlearn: 0.2801449\ttotal: 2.42s\tremaining: 26.9ms\n",
      "989:\tlearn: 0.2800484\ttotal: 2.42s\tremaining: 24.5ms\n",
      "990:\tlearn: 0.2799596\ttotal: 2.42s\tremaining: 22ms\n",
      "991:\tlearn: 0.2798792\ttotal: 2.42s\tremaining: 19.6ms\n",
      "992:\tlearn: 0.2798228\ttotal: 2.43s\tremaining: 17.1ms\n",
      "993:\tlearn: 0.2797580\ttotal: 2.43s\tremaining: 14.7ms\n",
      "994:\tlearn: 0.2796017\ttotal: 2.43s\tremaining: 12.2ms\n",
      "995:\tlearn: 0.2793483\ttotal: 2.43s\tremaining: 9.78ms\n",
      "996:\tlearn: 0.2792866\ttotal: 2.44s\tremaining: 7.33ms\n",
      "997:\tlearn: 0.2792356\ttotal: 2.44s\tremaining: 4.89ms\n",
      "998:\tlearn: 0.2791514\ttotal: 2.44s\tremaining: 2.44ms\n",
      "999:\tlearn: 0.2789732\ttotal: 2.44s\tremaining: 0us\n"
     ]
    },
    {
     "output_type": "execute_result",
     "data": {
      "text/plain": [
       "Pipeline(steps=[('columntransformer',\n",
       "                 ColumnTransformer(transformers=[('num',\n",
       "                                                  Pipeline(steps=[('imputer',\n",
       "                                                                   SimpleImputer())]),\n",
       "                                                  ['Pclass', 'SibSp', 'Parch',\n",
       "                                                   'Fare', 'Age']),\n",
       "                                                 ('cat',\n",
       "                                                  Pipeline(steps=[('imputer',\n",
       "                                                                   SimpleImputer(fill_value='missing',\n",
       "                                                                                 strategy='constant')),\n",
       "                                                                  ('onehot',\n",
       "                                                                   OneHotEncoder(handle_unknown='ignore'))]),\n",
       "                                                  ['Sex', 'Embarked',\n",
       "                                                   'Title'])])),\n",
       "                ('catboostclassifier',\n",
       "                 <catboost.core.CatBoostClassifier object at 0x000002196C907D88>)])"
      ],
      "text/html": "<style>div.sk-top-container {color: black;background-color: white;}div.sk-toggleable {background-color: white;}label.sk-toggleable__label {cursor: pointer;display: block;width: 100%;margin-bottom: 0;padding: 0.2em 0.3em;box-sizing: border-box;text-align: center;}div.sk-toggleable__content {max-height: 0;max-width: 0;overflow: hidden;text-align: left;background-color: #f0f8ff;}div.sk-toggleable__content pre {margin: 0.2em;color: black;border-radius: 0.25em;background-color: #f0f8ff;}input.sk-toggleable__control:checked~div.sk-toggleable__content {max-height: 200px;max-width: 100%;overflow: auto;}div.sk-estimator input.sk-toggleable__control:checked~label.sk-toggleable__label {background-color: #d4ebff;}div.sk-label input.sk-toggleable__control:checked~label.sk-toggleable__label {background-color: #d4ebff;}input.sk-hidden--visually {border: 0;clip: rect(1px 1px 1px 1px);clip: rect(1px, 1px, 1px, 1px);height: 1px;margin: -1px;overflow: hidden;padding: 0;position: absolute;width: 1px;}div.sk-estimator {font-family: monospace;background-color: #f0f8ff;margin: 0.25em 0.25em;border: 1px dotted black;border-radius: 0.25em;box-sizing: border-box;}div.sk-estimator:hover {background-color: #d4ebff;}div.sk-parallel-item::after {content: \"\";width: 100%;border-bottom: 1px solid gray;flex-grow: 1;}div.sk-label:hover label.sk-toggleable__label {background-color: #d4ebff;}div.sk-serial::before {content: \"\";position: absolute;border-left: 1px solid gray;box-sizing: border-box;top: 2em;bottom: 0;left: 50%;}div.sk-serial {display: flex;flex-direction: column;align-items: center;background-color: white;}div.sk-item {z-index: 1;}div.sk-parallel {display: flex;align-items: stretch;justify-content: center;background-color: white;}div.sk-parallel-item {display: flex;flex-direction: column;position: relative;background-color: white;}div.sk-parallel-item:first-child::after {align-self: flex-end;width: 50%;}div.sk-parallel-item:last-child::after {align-self: flex-start;width: 50%;}div.sk-parallel-item:only-child::after {width: 0;}div.sk-dashed-wrapped {border: 1px dashed gray;margin: 0.2em;box-sizing: border-box;padding-bottom: 0.1em;background-color: white;position: relative;}div.sk-label label {font-family: monospace;font-weight: bold;background-color: white;display: inline-block;line-height: 1.2em;}div.sk-label-container {position: relative;z-index: 2;text-align: center;}div.sk-container {display: inline-block;position: relative;}</style><div class=\"sk-top-container\"><div class=\"sk-container\"><div class=\"sk-item sk-dashed-wrapped\"><div class=\"sk-label-container\"><div class=\"sk-label sk-toggleable\"><input class=\"sk-toggleable__control sk-hidden--visually\" id=\"843be324-de4d-41bf-8220-eba5384e515f\" type=\"checkbox\" ><label class=\"sk-toggleable__label\" for=\"843be324-de4d-41bf-8220-eba5384e515f\">Pipeline</label><div class=\"sk-toggleable__content\"><pre>Pipeline(steps=[('columntransformer',\n                 ColumnTransformer(transformers=[('num',\n                                                  Pipeline(steps=[('imputer',\n                                                                   SimpleImputer())]),\n                                                  ['Pclass', 'SibSp', 'Parch',\n                                                   'Fare', 'Age']),\n                                                 ('cat',\n                                                  Pipeline(steps=[('imputer',\n                                                                   SimpleImputer(fill_value='missing',\n                                                                                 strategy='constant')),\n                                                                  ('onehot',\n                                                                   OneHotEncoder(handle_unknown='ignore'))]),\n                                                  ['Sex', 'Embarked',\n                                                   'Title'])])),\n                ('catboostclassifier',\n                 <catboost.core.CatBoostClassifier object at 0x000002196C907D88>)])</pre></div></div></div><div class=\"sk-serial\"><div class=\"sk-item sk-dashed-wrapped\"><div class=\"sk-label-container\"><div class=\"sk-label sk-toggleable\"><input class=\"sk-toggleable__control sk-hidden--visually\" id=\"d088c003-b553-4e4e-bb80-9048032b2b3b\" type=\"checkbox\" ><label class=\"sk-toggleable__label\" for=\"d088c003-b553-4e4e-bb80-9048032b2b3b\">columntransformer: ColumnTransformer</label><div class=\"sk-toggleable__content\"><pre>ColumnTransformer(transformers=[('num',\n                                 Pipeline(steps=[('imputer', SimpleImputer())]),\n                                 ['Pclass', 'SibSp', 'Parch', 'Fare', 'Age']),\n                                ('cat',\n                                 Pipeline(steps=[('imputer',\n                                                  SimpleImputer(fill_value='missing',\n                                                                strategy='constant')),\n                                                 ('onehot',\n                                                  OneHotEncoder(handle_unknown='ignore'))]),\n                                 ['Sex', 'Embarked', 'Title'])])</pre></div></div></div><div class=\"sk-parallel\"><div class=\"sk-parallel-item\"><div class=\"sk-item\"><div class=\"sk-label-container\"><div class=\"sk-label sk-toggleable\"><input class=\"sk-toggleable__control sk-hidden--visually\" id=\"4e3a2ae6-cd66-4df9-a7bb-7aa207dc97b2\" type=\"checkbox\" ><label class=\"sk-toggleable__label\" for=\"4e3a2ae6-cd66-4df9-a7bb-7aa207dc97b2\">num</label><div class=\"sk-toggleable__content\"><pre>['Pclass', 'SibSp', 'Parch', 'Fare', 'Age']</pre></div></div></div><div class=\"sk-serial\"><div class=\"sk-item\"><div class=\"sk-serial\"><div class=\"sk-item\"><div class=\"sk-estimator sk-toggleable\"><input class=\"sk-toggleable__control sk-hidden--visually\" id=\"c8b31594-d4dc-4ed3-84bc-965ead6380ea\" type=\"checkbox\" ><label class=\"sk-toggleable__label\" for=\"c8b31594-d4dc-4ed3-84bc-965ead6380ea\">SimpleImputer</label><div class=\"sk-toggleable__content\"><pre>SimpleImputer()</pre></div></div></div></div></div></div></div></div><div class=\"sk-parallel-item\"><div class=\"sk-item\"><div class=\"sk-label-container\"><div class=\"sk-label sk-toggleable\"><input class=\"sk-toggleable__control sk-hidden--visually\" id=\"5350cdc8-1866-44ca-80ee-6b500a8c2dcf\" type=\"checkbox\" ><label class=\"sk-toggleable__label\" for=\"5350cdc8-1866-44ca-80ee-6b500a8c2dcf\">cat</label><div class=\"sk-toggleable__content\"><pre>['Sex', 'Embarked', 'Title']</pre></div></div></div><div class=\"sk-serial\"><div class=\"sk-item\"><div class=\"sk-serial\"><div class=\"sk-item\"><div class=\"sk-estimator sk-toggleable\"><input class=\"sk-toggleable__control sk-hidden--visually\" id=\"82dc69a1-4e0d-433e-bb35-b9475d2a4445\" type=\"checkbox\" ><label class=\"sk-toggleable__label\" for=\"82dc69a1-4e0d-433e-bb35-b9475d2a4445\">SimpleImputer</label><div class=\"sk-toggleable__content\"><pre>SimpleImputer(fill_value='missing', strategy='constant')</pre></div></div></div><div class=\"sk-item\"><div class=\"sk-estimator sk-toggleable\"><input class=\"sk-toggleable__control sk-hidden--visually\" id=\"811e1a9b-676d-4af2-ae2d-beff1f33216a\" type=\"checkbox\" ><label class=\"sk-toggleable__label\" for=\"811e1a9b-676d-4af2-ae2d-beff1f33216a\">OneHotEncoder</label><div class=\"sk-toggleable__content\"><pre>OneHotEncoder(handle_unknown='ignore')</pre></div></div></div></div></div></div></div></div></div></div><div class=\"sk-item\"><div class=\"sk-estimator sk-toggleable\"><input class=\"sk-toggleable__control sk-hidden--visually\" id=\"25814cbc-3304-4d02-ad6f-8abda585d810\" type=\"checkbox\" ><label class=\"sk-toggleable__label\" for=\"25814cbc-3304-4d02-ad6f-8abda585d810\">CatBoostClassifier</label><div class=\"sk-toggleable__content\"><pre><catboost.core.CatBoostClassifier object at 0x000002196C907D88></pre></div></div></div></div></div></div></div>"
     },
     "metadata": {},
     "execution_count": 28
    }
   ],
   "source": [
    "best_model = tree_classifiers[\"CatBoost\"]\n",
    "best_model.fit(x, y)\n",
    "\n",
    "# Gives you the visual tree graph\n",
    "# best_model = tree_classifiers[\"Skl GBM\"]\n",
    "# best_model.fit(x,y)"
   ]
  },
  {
   "cell_type": "markdown",
   "metadata": {},
   "source": [
    "# Exercise 7.2 (2pts)\n",
    "With your best model, generate the predicitions for test data (x_test)"
   ]
  },
  {
   "cell_type": "code",
   "execution_count": 30,
   "metadata": {
    "deletable": false,
    "nbgrader": {
     "cell_type": "code",
     "checksum": "031ab122b02b5833236370a53d148daf",
     "grade": false,
     "grade_id": "cell-44b93a0dbd4eb6fc",
     "locked": false,
     "schema_version": 3,
     "solution": true,
     "task": false
    }
   },
   "outputs": [],
   "source": [
    "test_pred = best_model.predict(x_test)"
   ]
  },
  {
   "cell_type": "code",
   "execution_count": 31,
   "metadata": {
    "deletable": false,
    "editable": false,
    "nbgrader": {
     "cell_type": "code",
     "checksum": "180b37cf4a0276bdf509220b1706a8aa",
     "grade": true,
     "grade_id": "cell-a29fc8d24284520e",
     "locked": true,
     "points": 2,
     "schema_version": 3,
     "solution": false,
     "task": false
    }
   },
   "outputs": [],
   "source": [
    "assert len(test_pred) == 418\n",
    "assert np.unique(test_pred).tolist() == [0,1]"
   ]
  },
  {
   "cell_type": "markdown",
   "metadata": {},
   "source": [
    "# Exercise 7.3\n",
    "\n",
    "Submit to kaggle.\n",
    "\n",
    "- You can use the kaggle command line app. Check https://github.com/Kaggle/kaggle-api"
   ]
  },
  {
   "cell_type": "code",
   "execution_count": 32,
   "metadata": {},
   "outputs": [
    {
     "output_type": "execute_result",
     "data": {
      "text/plain": [
       "             Survived\n",
       "PassengerId          \n",
       "892                 0\n",
       "893                 0\n",
       "894                 0\n",
       "895                 0\n",
       "896                 1"
      ],
      "text/html": "<div>\n<style scoped>\n    .dataframe tbody tr th:only-of-type {\n        vertical-align: middle;\n    }\n\n    .dataframe tbody tr th {\n        vertical-align: top;\n    }\n\n    .dataframe thead th {\n        text-align: right;\n    }\n</style>\n<table border=\"1\" class=\"dataframe\">\n  <thead>\n    <tr style=\"text-align: right;\">\n      <th></th>\n      <th>Survived</th>\n    </tr>\n    <tr>\n      <th>PassengerId</th>\n      <th></th>\n    </tr>\n  </thead>\n  <tbody>\n    <tr>\n      <th>892</th>\n      <td>0</td>\n    </tr>\n    <tr>\n      <th>893</th>\n      <td>0</td>\n    </tr>\n    <tr>\n      <th>894</th>\n      <td>0</td>\n    </tr>\n    <tr>\n      <th>895</th>\n      <td>0</td>\n    </tr>\n    <tr>\n      <th>896</th>\n      <td>1</td>\n    </tr>\n  </tbody>\n</table>\n</div>"
     },
     "metadata": {},
     "execution_count": 32
    }
   ],
   "source": [
    "sub = pd.DataFrame(test_pred, index=x_test.index, columns=[\"Survived\"])\n",
    "sub.head()"
   ]
  },
  {
   "cell_type": "code",
   "execution_count": 33,
   "metadata": {},
   "outputs": [],
   "source": [
    "sub.to_csv(\"sub.csv\")"
   ]
  },
  {
   "cell_type": "code",
   "execution_count": 34,
   "metadata": {},
   "outputs": [
    {
     "output_type": "stream",
     "name": "stdout",
     "text": [
      "Successfully submitted to Titanic - Machine Learning from Disaster\n",
      "\n",
      "  0%|          | 0.00/3.18k [00:00<?, ?B/s]\n",
      "100%|██████████| 3.18k/3.18k [00:00<00:00, 19.6kB/s]\n",
      "100%|██████████| 3.18k/3.18k [00:02<00:00, 1.41kB/s]\n"
     ]
    }
   ],
   "source": [
    "!kaggle competitions submit -c titanic -f sub.csv -m \"My submission message\""
   ]
  },
  {
   "cell_type": "code",
   "execution_count": null,
   "metadata": {},
   "outputs": [],
   "source": []
  }
 ],
 "metadata": {
  "anaconda-cloud": {},
  "colab": {
   "collapsed_sections": [],
   "name": "Titanic LogReg.ipynb",
   "provenance": []
  },
  "kernelspec": {
   "name": "python379jvsc74a57bd03bdf658a3589a7fec615e49c34fea1ae8d54b9f47d3cbfb2eaab29174ceee87c",
   "display_name": "Python 3.7.9 64-bit"
  },
  "language_info": {
   "codemirror_mode": {
    "name": "ipython",
    "version": 3
   },
   "file_extension": ".py",
   "mimetype": "text/x-python",
   "name": "python",
   "nbconvert_exporter": "python",
   "pygments_lexer": "ipython3",
   "version": "3.7.9"
  },
  "name": "seminar13_optional_practice_trees_titanic.ipynb",
  "metadata": {
   "interpreter": {
    "hash": "3bdf658a3589a7fec615e49c34fea1ae8d54b9f47d3cbfb2eaab29174ceee87c"
   }
  }
 },
 "nbformat": 4,
 "nbformat_minor": 4
}