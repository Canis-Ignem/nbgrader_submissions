{
  "cells": [
    {
      "cell_type": "markdown",
      "source": "## Imports",
      "metadata": {
        "cell_id": "00000-d7a4a584-f9f9-4bc2-9e21-dac77d2a8de3",
        "deepnote_cell_type": "markdown"
      }
    },
    {
      "cell_type": "code",
      "metadata": {
        "cell_id": "00001-af6f9065-87e6-4732-8d8e-3176fe835ff9",
        "deepnote_to_be_reexecuted": false,
        "source_hash": "d46d2d4f",
        "execution_start": 1620135201306,
        "execution_millis": 0,
        "deepnote_cell_type": "code"
      },
      "source": "# pip install --upgrade scikit-learn",
      "execution_count": 1,
      "outputs": []
    },
    {
      "cell_type": "code",
      "metadata": {
        "colab": {},
        "colab_type": "code",
        "id": "mjnuJ19dJV7v",
        "cell_id": "00002-52afaece-e15b-4cc8-8e13-f5889c92074b",
        "deepnote_to_be_reexecuted": false,
        "source_hash": "a4a6928a",
        "execution_start": 1620135201307,
        "execution_millis": 1960,
        "deepnote_cell_type": "code"
      },
      "source": "import time\nfrom IPython.display import clear_output\nimport numpy    as np\nimport pandas   as pd\nimport seaborn  as sb\nimport matplotlib.pyplot as plt\nimport sklearn  as skl\n\nfrom sklearn import pipeline      # Pipeline\nfrom sklearn import preprocessing # OrdinalEncoder, LabelEncoder\nfrom sklearn import impute\nfrom sklearn import compose\nfrom sklearn import model_selection # train_test_split\nfrom sklearn import metrics         # accuracy_score, balanced_accuracy_score, plot_confusion_matrix\nfrom sklearn import set_config\n\nset_config(display='diagram') # Useful for display the pipeline\n\nprint(\"Pandas  \", pd.__version__)\nprint(\"Sklearn \", skl.__version__) # Try to use 0.24",
      "execution_count": 2,
      "outputs": [
        {
          "name": "stdout",
          "text": "Pandas   1.2.4\nSklearn  0.24.1\n",
          "output_type": "stream"
        }
      ]
    },
    {
      "cell_type": "markdown",
      "source": "## Get the dataset\n- **CLOUD = True**: Download dataset from Kaggle. Necesary for cloud enviroments like COLAB. **Specify your [kaggle credentials](https://www.kaggle.com/docs/api)**.\n- **CLOUD = False**: Get the dataset from your local machine. **Specify the data path**.",
      "metadata": {
        "cell_id": "00003-b20175e4-5f10-4402-85a4-a1721b310776",
        "deepnote_cell_type": "markdown"
      }
    },
    {
      "cell_type": "code",
      "metadata": {
        "cell_id": "00004-59bae731-1c5e-4829-b422-16b161cde35e",
        "deepnote_to_be_reexecuted": false,
        "source_hash": "622d702f",
        "execution_start": 1620135203259,
        "execution_millis": 1,
        "deepnote_cell_type": "code"
      },
      "source": "CLOUD = False\n\nif CLOUD:\n    import os\n    os.environ['KAGGLE_USERNAME'] = \"your_kaggle_username\"\n    os.environ['KAGGLE_KEY']      = \"your_kaggle_api_key\"  # See https://www.kaggle.com/docs/api\n    !pip install --upgrade kaggle\n    !kaggle competitions download -c titanic\n    DATA_PATH = \"./\"\n\nelse:\n    DATA_PATH = \"/\"",
      "execution_count": 3,
      "outputs": []
    },
    {
      "cell_type": "markdown",
      "source": "## Load data",
      "metadata": {
        "cell_id": "00005-1a8bd9db-3a56-45db-a656-3e5fc2d06170",
        "deepnote_cell_type": "markdown"
      }
    },
    {
      "cell_type": "code",
      "metadata": {
        "colab": {},
        "colab_type": "code",
        "id": "wAy8TnVPJV8S",
        "cell_id": "00006-f664867c-9998-4634-8845-2350a5d9cc0a",
        "deepnote_to_be_reexecuted": false,
        "source_hash": "24810f4b",
        "execution_start": 1620135203291,
        "execution_millis": 17,
        "deepnote_cell_type": "code"
      },
      "source": "df      = pd.read_csv( \"train.csv\", index_col='PassengerId')\ndf_test = pd.read_csv(\"test.csv\",  index_col='PassengerId')\n\nprint(\"Train DataFrame:\", df.shape)\nprint(\"Test DataFrame: \", df_test.shape)",
      "execution_count": 4,
      "outputs": [
        {
          "name": "stdout",
          "text": "Train DataFrame: (891, 11)\nTest DataFrame:  (418, 10)\n",
          "output_type": "stream"
        }
      ]
    },
    {
      "cell_type": "markdown",
      "source": "## Check missings",
      "metadata": {
        "cell_id": "00007-abb624f3-bfc9-4540-8272-4f2386b54c3e",
        "deepnote_cell_type": "markdown"
      }
    },
    {
      "cell_type": "code",
      "metadata": {
        "cell_id": "00008-2fdc661e-da4a-43ef-b74d-7b36c701a053",
        "deepnote_to_be_reexecuted": false,
        "source_hash": "f3dd26da",
        "execution_start": 1620135203292,
        "execution_millis": 16,
        "deepnote_cell_type": "code"
      },
      "source": "df.isnull().sum()",
      "execution_count": 5,
      "outputs": [
        {
          "output_type": "execute_result",
          "execution_count": 5,
          "data": {
            "text/plain": "Survived      0\nPclass        0\nName          0\nSex           0\nAge         177\nSibSp         0\nParch         0\nTicket        0\nFare          0\nCabin       687\nEmbarked      2\ndtype: int64"
          },
          "metadata": {}
        }
      ]
    },
    {
      "cell_type": "code",
      "metadata": {
        "cell_id": "00009-aab0e180-0ee5-4223-99dd-11a283f3f644",
        "deepnote_to_be_reexecuted": false,
        "source_hash": "5a27af67",
        "execution_start": 1620135203293,
        "execution_millis": 15,
        "deepnote_cell_type": "code"
      },
      "source": "df_test.isnull().sum()",
      "execution_count": 6,
      "outputs": [
        {
          "output_type": "execute_result",
          "execution_count": 6,
          "data": {
            "text/plain": "Pclass        0\nName          0\nSex           0\nAge          86\nSibSp         0\nParch         0\nTicket        0\nFare          1\nCabin       327\nEmbarked      0\ndtype: int64"
          },
          "metadata": {}
        }
      ]
    },
    {
      "cell_type": "markdown",
      "source": "# Exercise 1 (2pts):\nExtract the title (Mr, Mrs, ... ) from the \"Name\" column.\n\nTips:\n- split(',')[1] to get the 2nd part, and remove the surnamename\n- split('.')[0] to get the 1str part, and remove the name",
      "metadata": {
        "cell_id": "00010-7993cdf8-6c68-4491-a177-947827e2b287",
        "deepnote_cell_type": "markdown"
      }
    },
    {
      "cell_type": "code",
      "metadata": {
        "deletable": false,
        "nbgrader": {
          "cell_type": "code",
          "checksum": "cac1de4ed2d966fcdf707a8bfd131fba",
          "grade": false,
          "grade_id": "cell-d56107842f0f54d2",
          "locked": false,
          "schema_version": 3,
          "solution": true,
          "task": false
        },
        "cell_id": "00011-6060f1d0-b6c5-44fa-9862-c1d97da58fc6",
        "deepnote_to_be_reexecuted": false,
        "source_hash": "98db6c74",
        "execution_start": 1620135203298,
        "execution_millis": 4,
        "deepnote_cell_type": "code"
      },
      "source": "# CODE HERE get_Title_from_Name funtion\n# Create this function using lambda (not def)\n\n\nget_Title_from_Name = lambda name: name.split(',')[1].split('.')[0].strip()\n\n# YOUR CODE HERE\n\ndf['Title']      = df['Name'].map(get_Title_from_Name)\ndf_test['Title'] = df_test['Name'].map(get_Title_from_Name)",
      "execution_count": 7,
      "outputs": []
    },
    {
      "cell_type": "code",
      "metadata": {
        "deletable": false,
        "editable": false,
        "nbgrader": {
          "cell_type": "code",
          "checksum": "f23c4d567e5fb4f4b69a001df14c6f7c",
          "grade": true,
          "grade_id": "cell-f3d989a17018344b",
          "locked": true,
          "points": 2,
          "schema_version": 3,
          "solution": false,
          "task": false
        },
        "cell_id": "00012-e748c613-ce6b-4989-80d8-868dfa15df26",
        "deepnote_to_be_reexecuted": false,
        "source_hash": "cdcf037f",
        "execution_start": 1620135203321,
        "execution_millis": 1,
        "deepnote_cell_type": "code"
      },
      "source": "assert df['Title'].values[0] == \"Mr\"\nassert df['Title'].values[1] == \"Mrs\"\nassert df['Title'].values[2] == \"Miss\"\n\nassert df_test['Title'].values[0] == \"Mr\"\nassert df_test['Title'].values[1] == \"Mrs\"\nassert df_test['Title'].values[414] == \"Dona\"",
      "execution_count": 8,
      "outputs": []
    },
    {
      "cell_type": "markdown",
      "source": "# Exercise 2 (1pts):\nApply the title_dictionary to get a better information about the title. You have to overwrite the Title variable.",
      "metadata": {
        "cell_id": "00013-95ccd5dd-6b1a-4399-ba87-c0f03648d047",
        "deepnote_cell_type": "markdown"
      }
    },
    {
      "cell_type": "code",
      "metadata": {
        "cell_id": "00014-01dc83fa-64b6-4436-a790-67eb7bd143f1",
        "deepnote_to_be_reexecuted": false,
        "source_hash": "93108900",
        "execution_start": 1620135203322,
        "execution_millis": 1,
        "deepnote_cell_type": "code"
      },
      "source": "title_dictionary = {\n    \"Capt\": \"Officer\",\n    \"Col\": \"Officer\",\n    \"Major\": \"Officer\",\n    \"Jonkheer\": \"Royalty\",\n    \"Don\": \"Royalty\",\n    \"Sir\" : \"Royalty\",\n    \"Dr\": \"Officer\",\n    \"Rev\": \"Officer\",\n    \"the Countess\":\"Royalty\",\n    \"Mme\": \"Mrs\",\n    \"Mlle\": \"Miss\",\n    \"Ms\": \"Mrs\",\n    \"Mr\" : \"Mr\",\n    \"Mrs\" : \"Mrs\",\n    \"Miss\" : \"Miss\",\n    \"Master\" : \"Master\",\n    \"Lady\" : \"Royalty\"\n}",
      "execution_count": 9,
      "outputs": []
    },
    {
      "cell_type": "code",
      "metadata": {
        "deletable": false,
        "nbgrader": {
          "cell_type": "code",
          "checksum": "da7233548e7218eded680b5edb7963de",
          "grade": false,
          "grade_id": "cell-5c6a842c812fafda",
          "locked": false,
          "schema_version": 3,
          "solution": true,
          "task": false
        },
        "cell_id": "00015-fb1891b1-3da8-4b49-8b74-3d745d8b8a9e",
        "deepnote_to_be_reexecuted": false,
        "source_hash": "4259aaf6",
        "execution_start": 1620135203323,
        "execution_millis": 0,
        "deepnote_cell_type": "code"
      },
      "source": "# Use map to apply the prevous dict\n\ndf[\"Title\"] =  df[\"Title\"].map(title_dictionary)\ndf_test[\"Title\"] = df_test[\"Title\"].map(title_dictionary)\n\n# YOUR CODE HERE\n",
      "execution_count": 10,
      "outputs": []
    },
    {
      "cell_type": "code",
      "metadata": {
        "deletable": false,
        "editable": false,
        "nbgrader": {
          "cell_type": "code",
          "checksum": "96a09f1cde63b704ff2f391309c30690",
          "grade": true,
          "grade_id": "cell-669f5a637e57e835",
          "locked": true,
          "points": 1,
          "schema_version": 3,
          "solution": false,
          "task": false
        },
        "cell_id": "00016-639369fc-c904-4b5b-9ba5-cbe6df023ce0",
        "deepnote_to_be_reexecuted": false,
        "source_hash": "c2c848aa",
        "execution_start": 1620135203324,
        "execution_millis": 3,
        "deepnote_cell_type": "code"
      },
      "source": "assert df['Title'].values[886] == \"Officer\"\nassert df_test['Title'].values[417] == \"Master\"",
      "execution_count": 11,
      "outputs": []
    },
    {
      "cell_type": "markdown",
      "source": "# Exercise OPTINAL (0pts):\nTry to extract some information from the feature **Ticket**. Search on Internet if that colum has some kind of information.",
      "metadata": {
        "cell_id": "00017-626c7453-57ba-4b27-afd2-36d63cf2da75",
        "deepnote_cell_type": "markdown"
      }
    },
    {
      "cell_type": "code",
      "metadata": {
        "cell_id": "00018-058c9ad3-3f1b-491a-b184-49bf51792774",
        "deepnote_to_be_reexecuted": false,
        "source_hash": "8057010a",
        "execution_start": 1620135203328,
        "execution_millis": 14,
        "deepnote_cell_type": "code"
      },
      "source": "df_test['Ticket']",
      "execution_count": 12,
      "outputs": [
        {
          "output_type": "execute_result",
          "execution_count": 12,
          "data": {
            "text/plain": "PassengerId\n892                 330911\n893                 363272\n894                 240276\n895                 315154\n896                3101298\n               ...        \n1305             A.5. 3236\n1306              PC 17758\n1307    SOTON/O.Q. 3101262\n1308                359309\n1309                  2668\nName: Ticket, Length: 418, dtype: object"
          },
          "metadata": {}
        }
      ]
    },
    {
      "cell_type": "markdown",
      "source": "# Exercise OPTIONAL (0pts):\nTry to extract some information from the feature **Cabin**. Search on Internet if that colum has some kind of information.",
      "metadata": {
        "cell_id": "00019-42418ee0-bb98-4df3-8f23-e0802b7dbd47",
        "deepnote_cell_type": "markdown"
      }
    },
    {
      "cell_type": "code",
      "metadata": {
        "cell_id": "00020-a4f7c153-9662-4cb3-ab40-9dd9bc54e3a3",
        "deepnote_to_be_reexecuted": false,
        "source_hash": "90539046",
        "execution_start": 1620135203373,
        "execution_millis": 66,
        "deepnote_cell_type": "code"
      },
      "source": "df_test['Cabin']",
      "execution_count": 13,
      "outputs": [
        {
          "output_type": "execute_result",
          "execution_count": 13,
          "data": {
            "text/plain": "PassengerId\n892      NaN\n893      NaN\n894      NaN\n895      NaN\n896      NaN\n        ... \n1305     NaN\n1306    C105\n1307     NaN\n1308     NaN\n1309     NaN\nName: Cabin, Length: 418, dtype: object"
          },
          "metadata": {}
        }
      ]
    },
    {
      "cell_type": "markdown",
      "source": "# Preprocessing\nFor X data, notice that...\n- We drop Survived because is the target variable\n- We drop Name because we have extracted the Title: Mr, Mrs, ...\n- We drop Ticket because it has no information -> see df.Ticket.nunique()\n- We drop Cabin because it has a lot of missings (77% are missings)\n\nThen, we identify **numerical** variables and **categorical** variables,",
      "metadata": {
        "cell_id": "00021-9e7d27d1-c0e7-44e9-8e68-b95ff34ee8b3",
        "deepnote_cell_type": "markdown"
      }
    },
    {
      "cell_type": "code",
      "metadata": {
        "cell_id": "00022-63b29749-0425-49d8-a71f-4f3378b3f9e0",
        "deepnote_to_be_reexecuted": false,
        "source_hash": "48bb2d72",
        "execution_start": 1620135203374,
        "execution_millis": 0,
        "deepnote_cell_type": "code"
      },
      "source": "x = df.drop(columns=[\"Survived\", 'Name', 'Ticket', 'Cabin']) # X DATA (WILL BE TRAIN+VALID DATA)\ny = df[\"Survived\"] # 0 = No, 1 = Yes\n\nx_test = df_test.drop(columns=['Name', 'Ticket', 'Cabin']) # # X_TEST DATA (NEW DATA)",
      "execution_count": 14,
      "outputs": []
    },
    {
      "cell_type": "code",
      "metadata": {
        "cell_id": "00023-392b4bd4-0e04-449c-aa96-d66bde97b65e",
        "deepnote_to_be_reexecuted": false,
        "source_hash": "d4ce8b83",
        "execution_start": 1620135203375,
        "execution_millis": 64,
        "deepnote_cell_type": "code"
      },
      "source": "cat_vars  = ['Sex', 'Embarked', 'Title']         # x.select_dtypes(include=[object]).columns.values.tolist()\nnum_vars  = ['Pclass', 'SibSp', 'Parch', 'Fare', 'Age'] # x.select_dtypes(exclude=[object]).columns.values.tolist()\n\nprint(\"\\nNumerical features:\\n\", num_vars)\nprint(\"\\nCategorical features:\\n\", cat_vars)",
      "execution_count": 15,
      "outputs": [
        {
          "name": "stdout",
          "text": "\nNumerical features:\n ['Pclass', 'SibSp', 'Parch', 'Fare', 'Age']\n\nCategorical features:\n ['Sex', 'Embarked', 'Title']\n",
          "output_type": "stream"
        }
      ]
    },
    {
      "cell_type": "markdown",
      "source": "# Exercise 3 (2pts):\nCreate a **ColumnTransformer for Tree Models**. You need to create 2 pipelines (one for numerical and other for categories). Remember:\n- Categorical pipeline: Some SimpleImputer -> Some Encoder\n- Numerical pipeline: Some SimpleImputer -> NO Encoder",
      "metadata": {
        "cell_id": "00024-e1a24faa-03a6-433e-a1f4-09e800767bd7",
        "deepnote_cell_type": "markdown"
      }
    },
    {
      "cell_type": "code",
      "metadata": {
        "deletable": false,
        "nbgrader": {
          "cell_type": "code",
          "checksum": "4a99fc5ecc693dc549b0e1560c568eea",
          "grade": false,
          "grade_id": "cell-c607e75fb38ea248",
          "locked": false,
          "schema_version": 3,
          "solution": true,
          "task": false
        },
        "cell_id": "00025-25590f6f-6e95-428d-9b19-ebe93bfa1153",
        "deepnote_to_be_reexecuted": false,
        "source_hash": "15b147ff",
        "execution_start": 1620135203380,
        "execution_millis": 70,
        "deepnote_cell_type": "code"
      },
      "source": "\"\"\"\nnum_preprocessing = pipeline.Pipeline(steps=[\n  # Some SimpleImputer here\n])\n\ncat_preporcessing = pipeline.Pipeline(steps=[\n  # Some SimpleImputer here\n  # Some Encoder here. Remember to handle_unknown\n])\n\ntree_prepro = compose.ColumnTransformer(transformers=[\n    ('num', num_preprocessing, num_vars),\n    ('cat', cat_preporcessing, cat_vars),\n], remainder='drop') # Drop other vars not specified in num_vars or cat_vars\n\ntree_prepro\n\"\"\";\n\n# YOUR CODE HERE\nnum_4_treeModels = pipeline.Pipeline(steps=[\n       ('imputer', impute.SimpleImputer(strategy='mean', add_indicator=False))])\n\n\ncat_4_treeModels = pipeline.Pipeline(steps=[\n  ('imputer', impute.SimpleImputer(strategy='constant', fill_value='missing')),\n    ('onehot', preprocessing.OneHotEncoder(handle_unknown='ignore'))\n])\n\ntree_prepro = compose.ColumnTransformer(transformers=[\n    ('num', num_4_treeModels, num_vars),\n    ('cat', cat_4_treeModels, cat_vars),\n], remainder='drop') # Drop other vars not specified in num_vars or cat_vars\n\ntree_prepro\n\n",
      "execution_count": 16,
      "outputs": [
        {
          "output_type": "execute_result",
          "execution_count": 16,
          "data": {
            "text/plain": "ColumnTransformer(transformers=[('num',\n                                 Pipeline(steps=[('imputer', SimpleImputer())]),\n                                 ['Pclass', 'SibSp', 'Parch', 'Fare', 'Age']),\n                                ('cat',\n                                 Pipeline(steps=[('imputer',\n                                                  SimpleImputer(fill_value='missing',\n                                                                strategy='constant')),\n                                                 ('onehot',\n                                                  OneHotEncoder(handle_unknown='ignore'))]),\n                                 ['Sex', 'Embarked', 'Title'])])",
            "text/html": "<style>div.sk-top-container {color: black;background-color: white;}div.sk-toggleable {background-color: white;}label.sk-toggleable__label {cursor: pointer;display: block;width: 100%;margin-bottom: 0;padding: 0.2em 0.3em;box-sizing: border-box;text-align: center;}div.sk-toggleable__content {max-height: 0;max-width: 0;overflow: hidden;text-align: left;background-color: #f0f8ff;}div.sk-toggleable__content pre {margin: 0.2em;color: black;border-radius: 0.25em;background-color: #f0f8ff;}input.sk-toggleable__control:checked~div.sk-toggleable__content {max-height: 200px;max-width: 100%;overflow: auto;}div.sk-estimator input.sk-toggleable__control:checked~label.sk-toggleable__label {background-color: #d4ebff;}div.sk-label input.sk-toggleable__control:checked~label.sk-toggleable__label {background-color: #d4ebff;}input.sk-hidden--visually {border: 0;clip: rect(1px 1px 1px 1px);clip: rect(1px, 1px, 1px, 1px);height: 1px;margin: -1px;overflow: hidden;padding: 0;position: absolute;width: 1px;}div.sk-estimator {font-family: monospace;background-color: #f0f8ff;margin: 0.25em 0.25em;border: 1px dotted black;border-radius: 0.25em;box-sizing: border-box;}div.sk-estimator:hover {background-color: #d4ebff;}div.sk-parallel-item::after {content: \"\";width: 100%;border-bottom: 1px solid gray;flex-grow: 1;}div.sk-label:hover label.sk-toggleable__label {background-color: #d4ebff;}div.sk-serial::before {content: \"\";position: absolute;border-left: 1px solid gray;box-sizing: border-box;top: 2em;bottom: 0;left: 50%;}div.sk-serial {display: flex;flex-direction: column;align-items: center;background-color: white;}div.sk-item {z-index: 1;}div.sk-parallel {display: flex;align-items: stretch;justify-content: center;background-color: white;}div.sk-parallel-item {display: flex;flex-direction: column;position: relative;background-color: white;}div.sk-parallel-item:first-child::after {align-self: flex-end;width: 50%;}div.sk-parallel-item:last-child::after {align-self: flex-start;width: 50%;}div.sk-parallel-item:only-child::after {width: 0;}div.sk-dashed-wrapped {border: 1px dashed gray;margin: 0.2em;box-sizing: border-box;padding-bottom: 0.1em;background-color: white;position: relative;}div.sk-label label {font-family: monospace;font-weight: bold;background-color: white;display: inline-block;line-height: 1.2em;}div.sk-label-container {position: relative;z-index: 2;text-align: center;}div.sk-container {display: inline-block;position: relative;}</style><div class=\"sk-top-container\"><div class=\"sk-container\"><div class=\"sk-item sk-dashed-wrapped\"><div class=\"sk-label-container\"><div class=\"sk-label sk-toggleable\"><input class=\"sk-toggleable__control sk-hidden--visually\" id=\"92b72831-a0bf-4c42-add4-cf1982c2f1c6\" type=\"checkbox\" ><label class=\"sk-toggleable__label\" for=\"92b72831-a0bf-4c42-add4-cf1982c2f1c6\">ColumnTransformer</label><div class=\"sk-toggleable__content\"><pre>ColumnTransformer(transformers=[('num',\n                                 Pipeline(steps=[('imputer', SimpleImputer())]),\n                                 ['Pclass', 'SibSp', 'Parch', 'Fare', 'Age']),\n                                ('cat',\n                                 Pipeline(steps=[('imputer',\n                                                  SimpleImputer(fill_value='missing',\n                                                                strategy='constant')),\n                                                 ('onehot',\n                                                  OneHotEncoder(handle_unknown='ignore'))]),\n                                 ['Sex', 'Embarked', 'Title'])])</pre></div></div></div><div class=\"sk-parallel\"><div class=\"sk-parallel-item\"><div class=\"sk-item\"><div class=\"sk-label-container\"><div class=\"sk-label sk-toggleable\"><input class=\"sk-toggleable__control sk-hidden--visually\" id=\"52117a30-433f-4f0c-b1e0-75260b47ef26\" type=\"checkbox\" ><label class=\"sk-toggleable__label\" for=\"52117a30-433f-4f0c-b1e0-75260b47ef26\">num</label><div class=\"sk-toggleable__content\"><pre>['Pclass', 'SibSp', 'Parch', 'Fare', 'Age']</pre></div></div></div><div class=\"sk-serial\"><div class=\"sk-item\"><div class=\"sk-serial\"><div class=\"sk-item\"><div class=\"sk-estimator sk-toggleable\"><input class=\"sk-toggleable__control sk-hidden--visually\" id=\"689d4787-3303-425e-ba4c-0d60a577b059\" type=\"checkbox\" ><label class=\"sk-toggleable__label\" for=\"689d4787-3303-425e-ba4c-0d60a577b059\">SimpleImputer</label><div class=\"sk-toggleable__content\"><pre>SimpleImputer()</pre></div></div></div></div></div></div></div></div><div class=\"sk-parallel-item\"><div class=\"sk-item\"><div class=\"sk-label-container\"><div class=\"sk-label sk-toggleable\"><input class=\"sk-toggleable__control sk-hidden--visually\" id=\"e9c173b4-08de-4ba4-b685-b9ffb9a7ed17\" type=\"checkbox\" ><label class=\"sk-toggleable__label\" for=\"e9c173b4-08de-4ba4-b685-b9ffb9a7ed17\">cat</label><div class=\"sk-toggleable__content\"><pre>['Sex', 'Embarked', 'Title']</pre></div></div></div><div class=\"sk-serial\"><div class=\"sk-item\"><div class=\"sk-serial\"><div class=\"sk-item\"><div class=\"sk-estimator sk-toggleable\"><input class=\"sk-toggleable__control sk-hidden--visually\" id=\"ff63388b-c25f-405b-933f-ee02a08146fb\" type=\"checkbox\" ><label class=\"sk-toggleable__label\" for=\"ff63388b-c25f-405b-933f-ee02a08146fb\">SimpleImputer</label><div class=\"sk-toggleable__content\"><pre>SimpleImputer(fill_value='missing', strategy='constant')</pre></div></div></div><div class=\"sk-item\"><div class=\"sk-estimator sk-toggleable\"><input class=\"sk-toggleable__control sk-hidden--visually\" id=\"c79fb895-bcaf-4c91-9681-8596f1022ebc\" type=\"checkbox\" ><label class=\"sk-toggleable__label\" for=\"c79fb895-bcaf-4c91-9681-8596f1022ebc\">OneHotEncoder</label><div class=\"sk-toggleable__content\"><pre>OneHotEncoder(handle_unknown='ignore')</pre></div></div></div></div></div></div></div></div></div></div></div></div>"
          },
          "metadata": {}
        }
      ]
    },
    {
      "cell_type": "code",
      "metadata": {
        "deletable": false,
        "editable": false,
        "nbgrader": {
          "cell_type": "code",
          "checksum": "00bde840843413a4f57c4480f8930ef0",
          "grade": true,
          "grade_id": "cell-e636558135fb5975",
          "locked": true,
          "points": 2,
          "schema_version": 3,
          "solution": false,
          "task": false
        },
        "cell_id": "00026-75360f63-c044-4fb3-8af0-81e59048d21e",
        "deepnote_to_be_reexecuted": false,
        "source_hash": "302e028d",
        "execution_start": 1620135203388,
        "execution_millis": 0,
        "deepnote_cell_type": "code"
      },
      "source": "assert type(tree_prepro)      is compose._column_transformer.ColumnTransformer\nassert type(num_4_treeModels) is pipeline.Pipeline\nassert type(cat_4_treeModels) is pipeline.Pipeline\nassert len(num_4_treeModels) == 1\nassert len(cat_4_treeModels) == 2",
      "execution_count": 17,
      "outputs": []
    },
    {
      "cell_type": "markdown",
      "source": "# Exercise 4 (1pts):\n1. Complete the diccionary with some Tree Models.\n2. Then we put each model in a Pipeline where:\n   - first is the prepocessing with the column Transformer\n   - Then is the Tree model\n3. Display the fullpipeline of the LGBMClassifier",
      "metadata": {
        "cell_id": "00027-6f0ac860-4312-4f7f-8970-b5ef7e010d3c",
        "deepnote_cell_type": "markdown"
      }
    },
    {
      "cell_type": "code",
      "source": "!pip install xgboost==1.4.1",
      "metadata": {
        "tags": [],
        "cell_id": "00028-4dfdfa56-23e0-44a5-9cf3-f4346b0917f7",
        "deepnote_to_be_reexecuted": false,
        "source_hash": "296427eb",
        "execution_start": 1620135228908,
        "execution_millis": 10334,
        "deepnote_cell_type": "code"
      },
      "outputs": [
        {
          "name": "stdout",
          "text": "Collecting xgboost==1.4.1\n  Downloading xgboost-1.4.1-py3-none-manylinux2010_x86_64.whl (166.7 MB)\n\u001b[K     |████████████████████████████████| 166.7 MB 62.8 MB/s \n\u001b[?25hRequirement already satisfied: numpy in /shared-libs/python3.7/py/lib/python3.7/site-packages (from xgboost==1.4.1) (1.19.5)\nRequirement already satisfied: scipy in /shared-libs/python3.7/py/lib/python3.7/site-packages (from xgboost==1.4.1) (1.6.2)\nInstalling collected packages: xgboost\nSuccessfully installed xgboost-1.4.1\n\u001b[33mWARNING: You are using pip version 21.0.1; however, version 21.1.1 is available.\nYou should consider upgrading via the '/root/venv/bin/python -m pip install --upgrade pip' command.\u001b[0m\n",
          "output_type": "stream"
        }
      ],
      "execution_count": 19
    },
    {
      "cell_type": "code",
      "source": "!pip install lightgbm==3.2.1",
      "metadata": {
        "tags": [],
        "cell_id": "00029-d571d956-4950-48a7-837f-8bd812a5bd01",
        "deepnote_to_be_reexecuted": false,
        "source_hash": "16b9bd07",
        "execution_start": 1620135269026,
        "execution_millis": 3608,
        "deepnote_cell_type": "code"
      },
      "outputs": [
        {
          "name": "stdout",
          "text": "Collecting lightgbm==3.2.1\n  Downloading lightgbm-3.2.1-py3-none-manylinux1_x86_64.whl (2.0 MB)\n\u001b[K     |████████████████████████████████| 2.0 MB 35.6 MB/s \n\u001b[?25hRequirement already satisfied: scikit-learn!=0.22.0 in /shared-libs/python3.7/py/lib/python3.7/site-packages (from lightgbm==3.2.1) (0.24.1)\nRequirement already satisfied: wheel in /root/venv/lib/python3.7/site-packages (from lightgbm==3.2.1) (0.36.2)\nRequirement already satisfied: numpy in /shared-libs/python3.7/py/lib/python3.7/site-packages (from lightgbm==3.2.1) (1.19.5)\nRequirement already satisfied: scipy in /shared-libs/python3.7/py/lib/python3.7/site-packages (from lightgbm==3.2.1) (1.6.2)\nRequirement already satisfied: joblib>=0.11 in /shared-libs/python3.7/py/lib/python3.7/site-packages (from scikit-learn!=0.22.0->lightgbm==3.2.1) (1.0.1)\nRequirement already satisfied: threadpoolctl>=2.0.0 in /shared-libs/python3.7/py/lib/python3.7/site-packages (from scikit-learn!=0.22.0->lightgbm==3.2.1) (2.1.0)\nInstalling collected packages: lightgbm\nSuccessfully installed lightgbm-3.2.1\n\u001b[33mWARNING: You are using pip version 21.0.1; however, version 21.1.1 is available.\nYou should consider upgrading via the '/root/venv/bin/python -m pip install --upgrade pip' command.\u001b[0m\n",
          "output_type": "stream"
        }
      ],
      "execution_count": 21
    },
    {
      "cell_type": "code",
      "source": "!pip install catboost==0.25.1",
      "metadata": {
        "tags": [],
        "cell_id": "00030-6fd42867-1edc-4ae9-a4b7-14bde799adda",
        "deepnote_to_be_reexecuted": false,
        "source_hash": "f3be0113",
        "execution_start": 1620135283564,
        "execution_millis": 7125,
        "deepnote_cell_type": "code"
      },
      "outputs": [
        {
          "name": "stdout",
          "text": "Collecting catboost==0.25.1\n  Downloading catboost-0.25.1-cp37-none-manylinux1_x86_64.whl (67.3 MB)\n\u001b[K     |████████████████████████████████| 67.3 MB 69.5 MB/s \n\u001b[?25hRequirement already satisfied: six in /shared-libs/python3.7/py-core/lib/python3.7/site-packages (from catboost==0.25.1) (1.15.0)\nRequirement already satisfied: plotly in /shared-libs/python3.7/py/lib/python3.7/site-packages (from catboost==0.25.1) (4.14.3)\nRequirement already satisfied: scipy in /shared-libs/python3.7/py/lib/python3.7/site-packages (from catboost==0.25.1) (1.6.2)\nRequirement already satisfied: numpy>=1.16.0 in /shared-libs/python3.7/py/lib/python3.7/site-packages (from catboost==0.25.1) (1.19.5)\nRequirement already satisfied: pandas>=0.24.0 in /shared-libs/python3.7/py/lib/python3.7/site-packages (from catboost==0.25.1) (1.2.4)\nRequirement already satisfied: matplotlib in /shared-libs/python3.7/py/lib/python3.7/site-packages (from catboost==0.25.1) (3.4.1)\nCollecting graphviz\n  Downloading graphviz-0.16-py2.py3-none-any.whl (19 kB)\nRequirement already satisfied: pytz>=2017.3 in /shared-libs/python3.7/py/lib/python3.7/site-packages (from pandas>=0.24.0->catboost==0.25.1) (2021.1)\nRequirement already satisfied: python-dateutil>=2.7.3 in /shared-libs/python3.7/py-core/lib/python3.7/site-packages (from pandas>=0.24.0->catboost==0.25.1) (2.8.1)\nRequirement already satisfied: cycler>=0.10 in /shared-libs/python3.7/py/lib/python3.7/site-packages (from matplotlib->catboost==0.25.1) (0.10.0)\nRequirement already satisfied: pillow>=6.2.0 in /shared-libs/python3.7/py/lib/python3.7/site-packages (from matplotlib->catboost==0.25.1) (8.2.0)\nRequirement already satisfied: kiwisolver>=1.0.1 in /shared-libs/python3.7/py/lib/python3.7/site-packages (from matplotlib->catboost==0.25.1) (1.3.1)\nRequirement already satisfied: pyparsing>=2.2.1 in /shared-libs/python3.7/py-core/lib/python3.7/site-packages (from matplotlib->catboost==0.25.1) (2.4.7)\nRequirement already satisfied: retrying>=1.3.3 in /shared-libs/python3.7/py/lib/python3.7/site-packages (from plotly->catboost==0.25.1) (1.3.3)\nInstalling collected packages: graphviz, catboost\nSuccessfully installed catboost-0.25.1 graphviz-0.16\n\u001b[33mWARNING: You are using pip version 21.0.1; however, version 21.1.1 is available.\nYou should consider upgrading via the '/root/venv/bin/python -m pip install --upgrade pip' command.\u001b[0m\n",
          "output_type": "stream"
        }
      ],
      "execution_count": 23
    },
    {
      "cell_type": "code",
      "metadata": {
        "cell_id": "00028-99730145-3b85-45e0-a493-117f19c6a530",
        "deepnote_to_be_reexecuted": false,
        "source_hash": "657a8b57",
        "execution_start": 1620135295195,
        "execution_millis": 2,
        "deepnote_cell_type": "code"
      },
      "source": "from sklearn.tree          import DecisionTreeClassifier\nfrom sklearn.ensemble      import RandomForestClassifier\nfrom sklearn.ensemble      import ExtraTreesClassifier\nfrom sklearn.ensemble      import AdaBoostClassifier\nfrom sklearn.ensemble      import GradientBoostingClassifier\nfrom sklearn.experimental  import enable_hist_gradient_boosting # Necesary for HistGradientBoostingClassifier\nfrom sklearn.ensemble      import HistGradientBoostingClassifier\nfrom xgboost               import XGBClassifier\nfrom lightgbm              import LGBMClassifier\nfrom catboost              import CatBoostClassifier",
      "execution_count": 25,
      "outputs": []
    },
    {
      "cell_type": "code",
      "metadata": {
        "deletable": false,
        "nbgrader": {
          "cell_type": "code",
          "checksum": "f23af11f3af791efa5687477c0a4c9d6",
          "grade": false,
          "grade_id": "cell-76a3be8223730c5a",
          "locked": false,
          "schema_version": 3,
          "solution": true,
          "task": false
        },
        "cell_id": "00029-74beaa51-4b80-41bb-af73-fc58a10b1a7f",
        "deepnote_to_be_reexecuted": false,
        "source_hash": "2fe5642f",
        "execution_start": 1620135799134,
        "execution_millis": 71,
        "deepnote_cell_type": "code"
      },
      "source": "\"\"\"\ntree_classifiers = {\n  \"Decision Tree\": DecisionTreeClassifier(),\n  \"Extra Trees\":\n  \"Random Forest\":\n  \"AdaBoost\":\n  \"Skl GBM\":\n  \"Skl HistGBM\":\n  \"XGBoost\":\n  \"LightGBM\":\n  \"CatBoost\":\ntree_classifiers = {name: pipeline.make_pipeline(tree_prepro, model) for name, model in tree_classifiers.items()}\ntree_classifiers[\"LightGBM\"]\n\"\"\";\n\n\n# YOUR CODE HERE\ntree_classifiers = {\n  \"Decision Tree\": DecisionTreeClassifier(random_state= 0),\n  \"Extra Trees\": ExtraTreesClassifier(random_state= 0),\n  \"Random Forest\":RandomForestClassifier(random_state= 0),\n  \"AdaBoost\": AdaBoostClassifier(random_state= 0),\n  \"Skl GBM\": GradientBoostingClassifier(random_state= 0),\n  \"Skl HistGBM\": HistGradientBoostingClassifier(random_state = 0),\n  \"XGBoost\": XGBClassifier(random_state = 0),\n  \"LightGBM\": LGBMClassifier(random_state= 0),\n  \"CatBoost\": CatBoostClassifier(random_state= 0)}\ntree_classifiers = {name: pipeline.make_pipeline(tree_prepro, model) for name, model in tree_classifiers.items()}\n\ntree_classifiers[\"LightGBM\"]",
      "execution_count": 28,
      "outputs": [
        {
          "output_type": "execute_result",
          "execution_count": 28,
          "data": {
            "text/plain": "Pipeline(steps=[('columntransformer',\n                 ColumnTransformer(transformers=[('num',\n                                                  Pipeline(steps=[('imputer',\n                                                                   SimpleImputer())]),\n                                                  ['Pclass', 'SibSp', 'Parch',\n                                                   'Fare', 'Age']),\n                                                 ('cat',\n                                                  Pipeline(steps=[('imputer',\n                                                                   SimpleImputer(fill_value='missing',\n                                                                                 strategy='constant')),\n                                                                  ('onehot',\n                                                                   OneHotEncoder(handle_unknown='ignore'))]),\n                                                  ['Sex', 'Embarked',\n                                                   'Title'])])),\n                ('lgbmclassifier', LGBMClassifier(random_state=0))])",
            "text/html": "<style>div.sk-top-container {color: black;background-color: white;}div.sk-toggleable {background-color: white;}label.sk-toggleable__label {cursor: pointer;display: block;width: 100%;margin-bottom: 0;padding: 0.2em 0.3em;box-sizing: border-box;text-align: center;}div.sk-toggleable__content {max-height: 0;max-width: 0;overflow: hidden;text-align: left;background-color: #f0f8ff;}div.sk-toggleable__content pre {margin: 0.2em;color: black;border-radius: 0.25em;background-color: #f0f8ff;}input.sk-toggleable__control:checked~div.sk-toggleable__content {max-height: 200px;max-width: 100%;overflow: auto;}div.sk-estimator input.sk-toggleable__control:checked~label.sk-toggleable__label {background-color: #d4ebff;}div.sk-label input.sk-toggleable__control:checked~label.sk-toggleable__label {background-color: #d4ebff;}input.sk-hidden--visually {border: 0;clip: rect(1px 1px 1px 1px);clip: rect(1px, 1px, 1px, 1px);height: 1px;margin: -1px;overflow: hidden;padding: 0;position: absolute;width: 1px;}div.sk-estimator {font-family: monospace;background-color: #f0f8ff;margin: 0.25em 0.25em;border: 1px dotted black;border-radius: 0.25em;box-sizing: border-box;}div.sk-estimator:hover {background-color: #d4ebff;}div.sk-parallel-item::after {content: \"\";width: 100%;border-bottom: 1px solid gray;flex-grow: 1;}div.sk-label:hover label.sk-toggleable__label {background-color: #d4ebff;}div.sk-serial::before {content: \"\";position: absolute;border-left: 1px solid gray;box-sizing: border-box;top: 2em;bottom: 0;left: 50%;}div.sk-serial {display: flex;flex-direction: column;align-items: center;background-color: white;}div.sk-item {z-index: 1;}div.sk-parallel {display: flex;align-items: stretch;justify-content: center;background-color: white;}div.sk-parallel-item {display: flex;flex-direction: column;position: relative;background-color: white;}div.sk-parallel-item:first-child::after {align-self: flex-end;width: 50%;}div.sk-parallel-item:last-child::after {align-self: flex-start;width: 50%;}div.sk-parallel-item:only-child::after {width: 0;}div.sk-dashed-wrapped {border: 1px dashed gray;margin: 0.2em;box-sizing: border-box;padding-bottom: 0.1em;background-color: white;position: relative;}div.sk-label label {font-family: monospace;font-weight: bold;background-color: white;display: inline-block;line-height: 1.2em;}div.sk-label-container {position: relative;z-index: 2;text-align: center;}div.sk-container {display: inline-block;position: relative;}</style><div class=\"sk-top-container\"><div class=\"sk-container\"><div class=\"sk-item sk-dashed-wrapped\"><div class=\"sk-label-container\"><div class=\"sk-label sk-toggleable\"><input class=\"sk-toggleable__control sk-hidden--visually\" id=\"e9d2603c-8f22-4ade-a4f1-fd2171af2166\" type=\"checkbox\" ><label class=\"sk-toggleable__label\" for=\"e9d2603c-8f22-4ade-a4f1-fd2171af2166\">Pipeline</label><div class=\"sk-toggleable__content\"><pre>Pipeline(steps=[('columntransformer',\n                 ColumnTransformer(transformers=[('num',\n                                                  Pipeline(steps=[('imputer',\n                                                                   SimpleImputer())]),\n                                                  ['Pclass', 'SibSp', 'Parch',\n                                                   'Fare', 'Age']),\n                                                 ('cat',\n                                                  Pipeline(steps=[('imputer',\n                                                                   SimpleImputer(fill_value='missing',\n                                                                                 strategy='constant')),\n                                                                  ('onehot',\n                                                                   OneHotEncoder(handle_unknown='ignore'))]),\n                                                  ['Sex', 'Embarked',\n                                                   'Title'])])),\n                ('lgbmclassifier', LGBMClassifier(random_state=0))])</pre></div></div></div><div class=\"sk-serial\"><div class=\"sk-item sk-dashed-wrapped\"><div class=\"sk-label-container\"><div class=\"sk-label sk-toggleable\"><input class=\"sk-toggleable__control sk-hidden--visually\" id=\"b7224900-cbaf-465b-b13b-39d182005983\" type=\"checkbox\" ><label class=\"sk-toggleable__label\" for=\"b7224900-cbaf-465b-b13b-39d182005983\">columntransformer: ColumnTransformer</label><div class=\"sk-toggleable__content\"><pre>ColumnTransformer(transformers=[('num',\n                                 Pipeline(steps=[('imputer', SimpleImputer())]),\n                                 ['Pclass', 'SibSp', 'Parch', 'Fare', 'Age']),\n                                ('cat',\n                                 Pipeline(steps=[('imputer',\n                                                  SimpleImputer(fill_value='missing',\n                                                                strategy='constant')),\n                                                 ('onehot',\n                                                  OneHotEncoder(handle_unknown='ignore'))]),\n                                 ['Sex', 'Embarked', 'Title'])])</pre></div></div></div><div class=\"sk-parallel\"><div class=\"sk-parallel-item\"><div class=\"sk-item\"><div class=\"sk-label-container\"><div class=\"sk-label sk-toggleable\"><input class=\"sk-toggleable__control sk-hidden--visually\" id=\"cf5cf1e1-c44d-458a-9311-90247f70c189\" type=\"checkbox\" ><label class=\"sk-toggleable__label\" for=\"cf5cf1e1-c44d-458a-9311-90247f70c189\">num</label><div class=\"sk-toggleable__content\"><pre>['Pclass', 'SibSp', 'Parch', 'Fare', 'Age']</pre></div></div></div><div class=\"sk-serial\"><div class=\"sk-item\"><div class=\"sk-serial\"><div class=\"sk-item\"><div class=\"sk-estimator sk-toggleable\"><input class=\"sk-toggleable__control sk-hidden--visually\" id=\"248c249a-149e-41c9-b426-3d31edd4108b\" type=\"checkbox\" ><label class=\"sk-toggleable__label\" for=\"248c249a-149e-41c9-b426-3d31edd4108b\">SimpleImputer</label><div class=\"sk-toggleable__content\"><pre>SimpleImputer()</pre></div></div></div></div></div></div></div></div><div class=\"sk-parallel-item\"><div class=\"sk-item\"><div class=\"sk-label-container\"><div class=\"sk-label sk-toggleable\"><input class=\"sk-toggleable__control sk-hidden--visually\" id=\"69155bc7-6b61-4c3a-b8a5-714b2f710903\" type=\"checkbox\" ><label class=\"sk-toggleable__label\" for=\"69155bc7-6b61-4c3a-b8a5-714b2f710903\">cat</label><div class=\"sk-toggleable__content\"><pre>['Sex', 'Embarked', 'Title']</pre></div></div></div><div class=\"sk-serial\"><div class=\"sk-item\"><div class=\"sk-serial\"><div class=\"sk-item\"><div class=\"sk-estimator sk-toggleable\"><input class=\"sk-toggleable__control sk-hidden--visually\" id=\"f601d151-22e2-434c-9a5b-7e87ffc57c5f\" type=\"checkbox\" ><label class=\"sk-toggleable__label\" for=\"f601d151-22e2-434c-9a5b-7e87ffc57c5f\">SimpleImputer</label><div class=\"sk-toggleable__content\"><pre>SimpleImputer(fill_value='missing', strategy='constant')</pre></div></div></div><div class=\"sk-item\"><div class=\"sk-estimator sk-toggleable\"><input class=\"sk-toggleable__control sk-hidden--visually\" id=\"67e9d972-5450-4422-a5c1-333505ff175c\" type=\"checkbox\" ><label class=\"sk-toggleable__label\" for=\"67e9d972-5450-4422-a5c1-333505ff175c\">OneHotEncoder</label><div class=\"sk-toggleable__content\"><pre>OneHotEncoder(handle_unknown='ignore')</pre></div></div></div></div></div></div></div></div></div></div><div class=\"sk-item\"><div class=\"sk-estimator sk-toggleable\"><input class=\"sk-toggleable__control sk-hidden--visually\" id=\"a7e399ae-9bc7-4f60-a9aa-bdbc334dbc8e\" type=\"checkbox\" ><label class=\"sk-toggleable__label\" for=\"a7e399ae-9bc7-4f60-a9aa-bdbc334dbc8e\">LGBMClassifier</label><div class=\"sk-toggleable__content\"><pre>LGBMClassifier(random_state=0)</pre></div></div></div></div></div></div></div>"
          },
          "metadata": {}
        }
      ]
    },
    {
      "cell_type": "code",
      "metadata": {
        "deletable": false,
        "editable": false,
        "nbgrader": {
          "cell_type": "code",
          "checksum": "2355552b3ce823e44fdaea06394e054c",
          "grade": true,
          "grade_id": "cell-d4744022b37e2e9b",
          "locked": true,
          "points": 1,
          "schema_version": 3,
          "solution": false,
          "task": false
        },
        "cell_id": "00030-7488f902-b95b-4ee8-ba5d-b3486b38aff7",
        "deepnote_to_be_reexecuted": false,
        "source_hash": "25e0f28b",
        "execution_start": 1620135819679,
        "execution_millis": 16,
        "deepnote_cell_type": "code"
      },
      "source": "for pipe in tree_classifiers.values():\n    assert type(pipe) is pipeline.Pipeline",
      "execution_count": 29,
      "outputs": []
    },
    {
      "cell_type": "markdown",
      "source": "# Exercise 5 (3pts):\nDefine a simple split validation strategy with:\n- 80% for train\n- 20% for validation\n- With stratification\n- random_state=0\n\nAnd train all the models in a for loop",
      "metadata": {
        "cell_id": "00031-7bdf5c09-a89c-457d-ae51-7214244579f8",
        "deepnote_cell_type": "markdown"
      }
    },
    {
      "cell_type": "code",
      "metadata": {
        "colab": {
          "base_uri": "https://localhost:8080/",
          "height": 173
        },
        "colab_type": "code",
        "deletable": false,
        "id": "kY1uWk6-OcLw",
        "nbgrader": {
          "cell_type": "code",
          "checksum": "e48597a78f468a95abf116052e9f68e6",
          "grade": false,
          "grade_id": "cell-64f17e0d448bca7e",
          "locked": false,
          "schema_version": 3,
          "solution": true,
          "task": false
        },
        "outputId": "3562463f-3197-424c-dc82-b07ad579e9cc",
        "cell_id": "00032-46f3affe-67bd-47bc-b14d-d5c1b7283630",
        "deepnote_to_be_reexecuted": false,
        "source_hash": "aa4aa63e",
        "execution_start": 1620136344754,
        "execution_millis": 252628,
        "deepnote_cell_type": "code"
      },
      "source": "\"\"\"\nx_train, x_val, y_train, y_val = model_selection.train_test_split(\n    # CODE HERE\n)\n\"\"\"\n# YOUR CODE HERE\nx_train, x_val, y_train, y_val = model_selection.train_test_split(\n    x,y, train_size= 0.8, test_size=0.2, stratify=y, random_state=0 \n)\n\n\nresults = pd.DataFrame({'Model': [], 'Accuracy': [], 'Bal Acc.': [], 'Time': []})\n\n\"\"\"\nfor model_name, model in tree_classifiers.items():\n    start_time = time.time()\n    \n    # FOR EVERY PIPELINE (PREPRO + MODEL) -> TRAIN WITH TRAIN DATA (x_train)\n    \n    # GET PREDICTIONS USING x_val\n    pred = # CODE HERE\n\n    total_time = time.time() - start_time\n\n    results = results.append({\"Model\":    model_name,\n                              \"Accuracy\": metrics.accuracy_score(y_val, pred)*100,\n                              \"Bal Acc.\": metrics.balanced_accuracy_score(y_val, pred)*100,\n                              \"Time\":     total_time},\n                              ignore_index=True)\n                              \n                              \n\"\"\"\n\n# YOUR CODE HERE\nfor model_name, model in tree_classifiers.items():\n    start_time = time.time()\n    model.fit(x_train, y_train)\n    pred = model.predict(x_val)\n    total_time = time.time() - start_time\n    results = results.append({\"Model\":    model_name,\n                          \"Accuracy\": metrics.accuracy_score(y_val, pred)*100,\n                          \"Bal Acc.\": metrics.balanced_accuracy_score(y_val, pred)*100,\n                          \"Time\":     total_time},\n                          ignore_index=True)\n\nresults_ord = results.sort_values(by=['Accuracy'], ascending=False, ignore_index=True)\nresults_ord.index += 1 \nresults_ord.style.bar(subset=['Accuracy', 'Bal Acc.'], vmin=0, vmax=100, color='#5fba7d')",
      "execution_count": 30,
      "outputs": [
        {
          "name": "stderr",
          "text": "1:\tlearn: 0.6805554\ttotal: 50.4ms\tremaining: 25.2s\n2:\tlearn: 0.6746292\ttotal: 51.6ms\tremaining: 17.2s\n3:\tlearn: 0.6713954\ttotal: 52.2ms\tremaining: 13s\n4:\tlearn: 0.6657434\ttotal: 53.4ms\tremaining: 10.6s\n5:\tlearn: 0.6593618\ttotal: 54.6ms\tremaining: 9.05s\n6:\tlearn: 0.6536441\ttotal: 55.8ms\tremaining: 7.91s\n7:\tlearn: 0.6482373\ttotal: 57ms\tremaining: 7.06s\n8:\tlearn: 0.6434998\ttotal: 58.1ms\tremaining: 6.4s\n9:\tlearn: 0.6381421\ttotal: 59.3ms\tremaining: 5.87s\n10:\tlearn: 0.6331257\ttotal: 60.5ms\tremaining: 5.44s\n11:\tlearn: 0.6283127\ttotal: 61.7ms\tremaining: 5.08s\n12:\tlearn: 0.6253815\ttotal: 62.4ms\tremaining: 4.74s\n13:\tlearn: 0.6206696\ttotal: 63.6ms\tremaining: 4.48s\n14:\tlearn: 0.6161498\ttotal: 64.8ms\tremaining: 4.25s\n15:\tlearn: 0.6111118\ttotal: 65.9ms\tremaining: 4.05s\n16:\tlearn: 0.6083794\ttotal: 66.8ms\tremaining: 3.86s\n17:\tlearn: 0.6058991\ttotal: 67.4ms\tremaining: 3.68s\n18:\tlearn: 0.6013568\ttotal: 68.6ms\tremaining: 3.54s\n19:\tlearn: 0.5990900\ttotal: 69.2ms\tremaining: 3.39s\n20:\tlearn: 0.5953663\ttotal: 70.4ms\tremaining: 3.28s\n21:\tlearn: 0.5909587\ttotal: 71.6ms\tremaining: 3.18s\n22:\tlearn: 0.5863487\ttotal: 73.5ms\tremaining: 3.12s\n23:\tlearn: 0.5829291\ttotal: 74.7ms\tremaining: 3.04s\n24:\tlearn: 0.5791676\ttotal: 75.9ms\tremaining: 2.96s\n25:\tlearn: 0.5757139\ttotal: 76.8ms\tremaining: 2.88s\n26:\tlearn: 0.5719240\ttotal: 78ms\tremaining: 2.81s\n27:\tlearn: 0.5688758\ttotal: 78.9ms\tremaining: 2.74s\n28:\tlearn: 0.5653432\ttotal: 80ms\tremaining: 2.68s\n29:\tlearn: 0.5610657\ttotal: 81.2ms\tremaining: 2.63s\n30:\tlearn: 0.5582813\ttotal: 82.2ms\tremaining: 2.57s\n31:\tlearn: 0.5557246\ttotal: 83ms\tremaining: 2.51s\n32:\tlearn: 0.5519865\ttotal: 84.2ms\tremaining: 2.47s\n33:\tlearn: 0.5480411\ttotal: 85.5ms\tremaining: 2.43s\n34:\tlearn: 0.5451724\ttotal: 86.7ms\tremaining: 2.39s\n35:\tlearn: 0.5424809\ttotal: 87.8ms\tremaining: 2.35s\n36:\tlearn: 0.5400486\ttotal: 88.5ms\tremaining: 2.3s\n37:\tlearn: 0.5364071\ttotal: 89.7ms\tremaining: 2.27s\n38:\tlearn: 0.5332896\ttotal: 90.9ms\tremaining: 2.24s\n39:\tlearn: 0.5305603\ttotal: 92.1ms\tremaining: 2.21s\n40:\tlearn: 0.5275958\ttotal: 93.3ms\tremaining: 2.18s\n41:\tlearn: 0.5245820\ttotal: 94.5ms\tremaining: 2.16s\n42:\tlearn: 0.5215164\ttotal: 95.9ms\tremaining: 2.13s\n43:\tlearn: 0.5182773\ttotal: 97.1ms\tremaining: 2.11s\n44:\tlearn: 0.5168791\ttotal: 97.8ms\tremaining: 2.08s\n45:\tlearn: 0.5148485\ttotal: 99ms\tremaining: 2.05s\n46:\tlearn: 0.5122162\ttotal: 100ms\tremaining: 2.03s\n47:\tlearn: 0.5103527\ttotal: 101ms\tremaining: 2.01s\n48:\tlearn: 0.5079720\ttotal: 103ms\tremaining: 1.99s\n49:\tlearn: 0.5055056\ttotal: 104ms\tremaining: 1.98s\n50:\tlearn: 0.5035515\ttotal: 105ms\tremaining: 1.95s\n51:\tlearn: 0.5010593\ttotal: 106ms\tremaining: 1.94s\n52:\tlearn: 0.4992465\ttotal: 107ms\tremaining: 1.92s\n53:\tlearn: 0.4969866\ttotal: 109ms\tremaining: 1.9s\n54:\tlearn: 0.4949472\ttotal: 110ms\tremaining: 1.89s\n55:\tlearn: 0.4928094\ttotal: 111ms\tremaining: 1.87s\n56:\tlearn: 0.4901577\ttotal: 112ms\tremaining: 1.85s\n57:\tlearn: 0.4876823\ttotal: 113ms\tremaining: 1.84s\n58:\tlearn: 0.4853848\ttotal: 115ms\tremaining: 1.83s\n59:\tlearn: 0.4840860\ttotal: 116ms\tremaining: 1.81s\n60:\tlearn: 0.4824766\ttotal: 117ms\tremaining: 1.8s\n61:\tlearn: 0.4801630\ttotal: 142ms\tremaining: 2.14s\n62:\tlearn: 0.4784632\ttotal: 143ms\tremaining: 2.12s\n63:\tlearn: 0.4763328\ttotal: 144ms\tremaining: 2.1s\n64:\tlearn: 0.4747609\ttotal: 145ms\tremaining: 2.09s\n65:\tlearn: 0.4739516\ttotal: 146ms\tremaining: 2.06s\n66:\tlearn: 0.4724903\ttotal: 147ms\tremaining: 2.04s\n67:\tlearn: 0.4717140\ttotal: 147ms\tremaining: 2.02s\n68:\tlearn: 0.4697101\ttotal: 149ms\tremaining: 2s\n69:\tlearn: 0.4685003\ttotal: 150ms\tremaining: 1.99s\n70:\tlearn: 0.4676788\ttotal: 151ms\tremaining: 1.97s\n71:\tlearn: 0.4660286\ttotal: 152ms\tremaining: 1.96s\n72:\tlearn: 0.4648215\ttotal: 153ms\tremaining: 1.94s\n73:\tlearn: 0.4631646\ttotal: 154ms\tremaining: 1.92s\n74:\tlearn: 0.4615735\ttotal: 155ms\tremaining: 1.91s\n75:\tlearn: 0.4597412\ttotal: 156ms\tremaining: 1.9s\n76:\tlearn: 0.4586449\ttotal: 157ms\tremaining: 1.89s\n77:\tlearn: 0.4568693\ttotal: 159ms\tremaining: 1.87s\n78:\tlearn: 0.4553688\ttotal: 160ms\tremaining: 1.86s\n79:\tlearn: 0.4535747\ttotal: 161ms\tremaining: 1.85s\n80:\tlearn: 0.4523361\ttotal: 162ms\tremaining: 1.83s\n81:\tlearn: 0.4516973\ttotal: 163ms\tremaining: 1.82s\n82:\tlearn: 0.4499845\ttotal: 164ms\tremaining: 1.81s\n83:\tlearn: 0.4487790\ttotal: 165ms\tremaining: 1.8s\n84:\tlearn: 0.4475724\ttotal: 166ms\tremaining: 1.79s\n85:\tlearn: 0.4460906\ttotal: 167ms\tremaining: 1.78s\n86:\tlearn: 0.4445493\ttotal: 169ms\tremaining: 1.77s\n87:\tlearn: 0.4435479\ttotal: 170ms\tremaining: 1.76s\n88:\tlearn: 0.4421301\ttotal: 171ms\tremaining: 1.75s\n89:\tlearn: 0.4412159\ttotal: 172ms\tremaining: 1.74s\n90:\tlearn: 0.4402234\ttotal: 173ms\tremaining: 1.73s\n91:\tlearn: 0.4385903\ttotal: 175ms\tremaining: 1.72s\n92:\tlearn: 0.4374935\ttotal: 176ms\tremaining: 1.71s\n93:\tlearn: 0.4363721\ttotal: 177ms\tremaining: 1.71s\n94:\tlearn: 0.4349482\ttotal: 179ms\tremaining: 1.71s\n95:\tlearn: 0.4339174\ttotal: 180ms\tremaining: 1.7s\n96:\tlearn: 0.4323332\ttotal: 181ms\tremaining: 1.69s\n97:\tlearn: 0.4311045\ttotal: 182ms\tremaining: 1.68s\n98:\tlearn: 0.4299398\ttotal: 184ms\tremaining: 1.67s\n99:\tlearn: 0.4294657\ttotal: 184ms\tremaining: 1.66s\n100:\tlearn: 0.4282211\ttotal: 186ms\tremaining: 1.65s\n101:\tlearn: 0.4273850\ttotal: 187ms\tremaining: 1.65s\n102:\tlearn: 0.4261247\ttotal: 188ms\tremaining: 1.64s\n103:\tlearn: 0.4254477\ttotal: 189ms\tremaining: 1.63s\n104:\tlearn: 0.4244416\ttotal: 190ms\tremaining: 1.62s\n105:\tlearn: 0.4237436\ttotal: 191ms\tremaining: 1.61s\n106:\tlearn: 0.4225856\ttotal: 192ms\tremaining: 1.6s\n107:\tlearn: 0.4213173\ttotal: 194ms\tremaining: 1.6s\n108:\tlearn: 0.4205965\ttotal: 195ms\tremaining: 1.59s\n109:\tlearn: 0.4196015\ttotal: 196ms\tremaining: 1.58s\n110:\tlearn: 0.4185338\ttotal: 197ms\tremaining: 1.58s\n111:\tlearn: 0.4178664\ttotal: 198ms\tremaining: 1.57s\n112:\tlearn: 0.4166913\ttotal: 200ms\tremaining: 1.57s\n113:\tlearn: 0.4160166\ttotal: 201ms\tremaining: 1.56s\n114:\tlearn: 0.4150931\ttotal: 202ms\tremaining: 1.55s\n115:\tlearn: 0.4141502\ttotal: 203ms\tremaining: 1.55s\n116:\tlearn: 0.4131116\ttotal: 235ms\tremaining: 1.78s\n117:\tlearn: 0.4122571\ttotal: 237ms\tremaining: 1.77s\n118:\tlearn: 0.4111659\ttotal: 238ms\tremaining: 1.76s\n119:\tlearn: 0.4103799\ttotal: 239ms\tremaining: 1.75s\n120:\tlearn: 0.4094054\ttotal: 240ms\tremaining: 1.74s\n121:\tlearn: 0.4084218\ttotal: 241ms\tremaining: 1.74s\n122:\tlearn: 0.4076550\ttotal: 243ms\tremaining: 1.73s\n123:\tlearn: 0.4069392\ttotal: 244ms\tremaining: 1.72s\n124:\tlearn: 0.4066309\ttotal: 245ms\tremaining: 1.71s\n125:\tlearn: 0.4056786\ttotal: 246ms\tremaining: 1.71s\n126:\tlearn: 0.4054147\ttotal: 247ms\tremaining: 1.7s\n127:\tlearn: 0.4050054\ttotal: 247ms\tremaining: 1.69s\n128:\tlearn: 0.4044337\ttotal: 249ms\tremaining: 1.68s\n129:\tlearn: 0.4035185\ttotal: 250ms\tremaining: 1.67s\n130:\tlearn: 0.4026784\ttotal: 251ms\tremaining: 1.66s\n131:\tlearn: 0.4022611\ttotal: 252ms\tremaining: 1.66s\n132:\tlearn: 0.4017499\ttotal: 253ms\tremaining: 1.65s\n133:\tlearn: 0.4009183\ttotal: 255ms\tremaining: 1.64s\n134:\tlearn: 0.4006926\ttotal: 255ms\tremaining: 1.64s\n135:\tlearn: 0.3997967\ttotal: 256ms\tremaining: 1.63s\n136:\tlearn: 0.3993021\ttotal: 258ms\tremaining: 1.62s\n137:\tlearn: 0.3985443\ttotal: 259ms\tremaining: 1.62s\n138:\tlearn: 0.3977739\ttotal: 260ms\tremaining: 1.61s\n139:\tlearn: 0.3971985\ttotal: 262ms\tremaining: 1.61s\n140:\tlearn: 0.3970343\ttotal: 262ms\tremaining: 1.6s\n141:\tlearn: 0.3966981\ttotal: 263ms\tremaining: 1.59s\n142:\tlearn: 0.3960201\ttotal: 265ms\tremaining: 1.58s\n143:\tlearn: 0.3951884\ttotal: 266ms\tremaining: 1.58s\n144:\tlearn: 0.3947332\ttotal: 267ms\tremaining: 1.57s\n145:\tlearn: 0.3941841\ttotal: 268ms\tremaining: 1.57s\n146:\tlearn: 0.3933754\ttotal: 269ms\tremaining: 1.56s\n147:\tlearn: 0.3927303\ttotal: 270ms\tremaining: 1.55s\n148:\tlearn: 0.3919185\ttotal: 271ms\tremaining: 1.55s\n149:\tlearn: 0.3914185\ttotal: 272ms\tremaining: 1.54s\n150:\tlearn: 0.3907545\ttotal: 277ms\tremaining: 1.55s\n151:\tlearn: 0.3903168\ttotal: 278ms\tremaining: 1.55s\n152:\tlearn: 0.3901282\ttotal: 279ms\tremaining: 1.54s\n153:\tlearn: 0.3894942\ttotal: 280ms\tremaining: 1.54s\n154:\tlearn: 0.3887107\ttotal: 283ms\tremaining: 1.54s\n155:\tlearn: 0.3881285\ttotal: 285ms\tremaining: 1.54s\n156:\tlearn: 0.3876451\ttotal: 286ms\tremaining: 1.54s\n157:\tlearn: 0.3875099\ttotal: 287ms\tremaining: 1.53s\n158:\tlearn: 0.3868496\ttotal: 288ms\tremaining: 1.52s\n159:\tlearn: 0.3866007\ttotal: 288ms\tremaining: 1.51s\n160:\tlearn: 0.3862070\ttotal: 290ms\tremaining: 1.51s\n161:\tlearn: 0.3855541\ttotal: 291ms\tremaining: 1.5s\n162:\tlearn: 0.3848996\ttotal: 292ms\tremaining: 1.5s\n163:\tlearn: 0.3842175\ttotal: 293ms\tremaining: 1.49s\n164:\tlearn: 0.3837380\ttotal: 294ms\tremaining: 1.49s\n165:\tlearn: 0.3834606\ttotal: 295ms\tremaining: 1.48s\n166:\tlearn: 0.3829498\ttotal: 296ms\tremaining: 1.48s\n167:\tlearn: 0.3826949\ttotal: 297ms\tremaining: 1.47s\n168:\tlearn: 0.3823498\ttotal: 298ms\tremaining: 1.47s\n169:\tlearn: 0.3819136\ttotal: 299ms\tremaining: 1.46s\n170:\tlearn: 0.3816959\ttotal: 300ms\tremaining: 1.46s\n171:\tlearn: 0.3811148\ttotal: 301ms\tremaining: 1.45s\n172:\tlearn: 0.3807791\ttotal: 302ms\tremaining: 1.45s\n173:\tlearn: 0.3802592\ttotal: 304ms\tremaining: 1.44s\n174:\tlearn: 0.3796571\ttotal: 304ms\tremaining: 1.44s\n175:\tlearn: 0.3792973\ttotal: 328ms\tremaining: 1.53s\n176:\tlearn: 0.3789778\ttotal: 329ms\tremaining: 1.53s\n177:\tlearn: 0.3788694\ttotal: 330ms\tremaining: 1.52s\n178:\tlearn: 0.3787093\ttotal: 331ms\tremaining: 1.51s\n179:\tlearn: 0.3781716\ttotal: 331ms\tremaining: 1.51s\n180:\tlearn: 0.3780733\ttotal: 332ms\tremaining: 1.5s\n181:\tlearn: 0.3778166\ttotal: 333ms\tremaining: 1.5s\n182:\tlearn: 0.3773917\ttotal: 334ms\tremaining: 1.49s\n183:\tlearn: 0.3770627\ttotal: 335ms\tremaining: 1.49s\n184:\tlearn: 0.3766363\ttotal: 336ms\tremaining: 1.48s\n185:\tlearn: 0.3761650\ttotal: 338ms\tremaining: 1.48s\n186:\tlearn: 0.3759521\ttotal: 339ms\tremaining: 1.47s\n187:\tlearn: 0.3755071\ttotal: 340ms\tremaining: 1.47s\n188:\tlearn: 0.3752490\ttotal: 341ms\tremaining: 1.46s\n189:\tlearn: 0.3748839\ttotal: 342ms\tremaining: 1.46s\n190:\tlearn: 0.3746549\ttotal: 343ms\tremaining: 1.45s\n191:\tlearn: 0.3741896\ttotal: 344ms\tremaining: 1.45s\n192:\tlearn: 0.3740711\ttotal: 345ms\tremaining: 1.44s\n193:\tlearn: 0.3737953\ttotal: 346ms\tremaining: 1.44s\n194:\tlearn: 0.3735476\ttotal: 347ms\tremaining: 1.43s\n195:\tlearn: 0.3731462\ttotal: 348ms\tremaining: 1.43s\n196:\tlearn: 0.3728052\ttotal: 350ms\tremaining: 1.42s\n197:\tlearn: 0.3726474\ttotal: 351ms\tremaining: 1.42s\n198:\tlearn: 0.3722028\ttotal: 352ms\tremaining: 1.42s\n199:\tlearn: 0.3718242\ttotal: 353ms\tremaining: 1.41s\n200:\tlearn: 0.3715275\ttotal: 354ms\tremaining: 1.41s\n201:\tlearn: 0.3713036\ttotal: 355ms\tremaining: 1.4s\n202:\tlearn: 0.3710682\ttotal: 356ms\tremaining: 1.4s\n203:\tlearn: 0.3708127\ttotal: 357ms\tremaining: 1.39s\n204:\tlearn: 0.3706771\ttotal: 358ms\tremaining: 1.39s\n205:\tlearn: 0.3705047\ttotal: 359ms\tremaining: 1.38s\n206:\tlearn: 0.3700187\ttotal: 360ms\tremaining: 1.38s\n207:\tlearn: 0.3696265\ttotal: 362ms\tremaining: 1.38s\n208:\tlearn: 0.3693069\ttotal: 363ms\tremaining: 1.37s\n209:\tlearn: 0.3688422\ttotal: 364ms\tremaining: 1.37s\n210:\tlearn: 0.3684983\ttotal: 365ms\tremaining: 1.36s\n211:\tlearn: 0.3681389\ttotal: 366ms\tremaining: 1.36s\n212:\tlearn: 0.3679766\ttotal: 367ms\tremaining: 1.36s\n213:\tlearn: 0.3675817\ttotal: 369ms\tremaining: 1.35s\n214:\tlearn: 0.3672979\ttotal: 370ms\tremaining: 1.35s\n215:\tlearn: 0.3669918\ttotal: 371ms\tremaining: 1.35s\n216:\tlearn: 0.3665785\ttotal: 372ms\tremaining: 1.34s\n217:\tlearn: 0.3661631\ttotal: 373ms\tremaining: 1.34s\n218:\tlearn: 0.3658225\ttotal: 374ms\tremaining: 1.33s\n219:\tlearn: 0.3655895\ttotal: 376ms\tremaining: 1.33s\n220:\tlearn: 0.3653229\ttotal: 377ms\tremaining: 1.33s\n221:\tlearn: 0.3651234\ttotal: 378ms\tremaining: 1.32s\n222:\tlearn: 0.3647810\ttotal: 379ms\tremaining: 1.32s\n223:\tlearn: 0.3642454\ttotal: 380ms\tremaining: 1.32s\n224:\tlearn: 0.3640330\ttotal: 381ms\tremaining: 1.31s\n225:\tlearn: 0.3638479\ttotal: 382ms\tremaining: 1.31s\n226:\tlearn: 0.3635836\ttotal: 383ms\tremaining: 1.3s\n227:\tlearn: 0.3633819\ttotal: 384ms\tremaining: 1.3s\n228:\tlearn: 0.3631578\ttotal: 385ms\tremaining: 1.3s\n229:\tlearn: 0.3629144\ttotal: 387ms\tremaining: 1.29s\n230:\tlearn: 0.3627186\ttotal: 387ms\tremaining: 1.29s\n231:\tlearn: 0.3624043\ttotal: 389ms\tremaining: 1.29s\n232:\tlearn: 0.3620195\ttotal: 390ms\tremaining: 1.28s\n233:\tlearn: 0.3619437\ttotal: 390ms\tremaining: 1.28s\n234:\tlearn: 0.3615232\ttotal: 391ms\tremaining: 1.27s\n235:\tlearn: 0.3612485\ttotal: 392ms\tremaining: 1.27s\n236:\tlearn: 0.3610498\ttotal: 393ms\tremaining: 1.26s\n237:\tlearn: 0.3607140\ttotal: 395ms\tremaining: 1.26s\n238:\tlearn: 0.3606147\ttotal: 395ms\tremaining: 1.26s\n239:\tlearn: 0.3603577\ttotal: 397ms\tremaining: 1.26s\n240:\tlearn: 0.3600356\ttotal: 398ms\tremaining: 1.25s\n241:\tlearn: 0.3596861\ttotal: 424ms\tremaining: 1.33s\n242:\tlearn: 0.3593851\ttotal: 425ms\tremaining: 1.32s\n243:\tlearn: 0.3593235\ttotal: 426ms\tremaining: 1.32s\n244:\tlearn: 0.3591950\ttotal: 427ms\tremaining: 1.32s\n245:\tlearn: 0.3589239\ttotal: 429ms\tremaining: 1.31s\n246:\tlearn: 0.3585906\ttotal: 432ms\tremaining: 1.32s\n247:\tlearn: 0.3583197\ttotal: 433ms\tremaining: 1.31s\n248:\tlearn: 0.3582109\ttotal: 434ms\tremaining: 1.31s\n249:\tlearn: 0.3579742\ttotal: 436ms\tremaining: 1.31s\n250:\tlearn: 0.3578941\ttotal: 437ms\tremaining: 1.3s\n251:\tlearn: 0.3577283\ttotal: 438ms\tremaining: 1.3s\n252:\tlearn: 0.3574880\ttotal: 439ms\tremaining: 1.3s\n253:\tlearn: 0.3573931\ttotal: 440ms\tremaining: 1.29s\n254:\tlearn: 0.3572192\ttotal: 441ms\tremaining: 1.29s\n255:\tlearn: 0.3571184\ttotal: 443ms\tremaining: 1.29s\n256:\tlearn: 0.3568604\ttotal: 444ms\tremaining: 1.28s\n257:\tlearn: 0.3568085\ttotal: 445ms\tremaining: 1.28s\n258:\tlearn: 0.3566283\ttotal: 446ms\tremaining: 1.28s\n259:\tlearn: 0.3564349\ttotal: 450ms\tremaining: 1.28s\n260:\tlearn: 0.3563907\ttotal: 451ms\tremaining: 1.28s\n261:\tlearn: 0.3562308\ttotal: 453ms\tremaining: 1.27s\n262:\tlearn: 0.3562201\ttotal: 453ms\tremaining: 1.27s\n263:\tlearn: 0.3559564\ttotal: 455ms\tremaining: 1.27s\n264:\tlearn: 0.3558223\ttotal: 456ms\tremaining: 1.26s\n265:\tlearn: 0.3554962\ttotal: 457ms\tremaining: 1.26s\n266:\tlearn: 0.3552630\ttotal: 458ms\tremaining: 1.26s\n267:\tlearn: 0.3549331\ttotal: 462ms\tremaining: 1.26s\n268:\tlearn: 0.3545910\ttotal: 463ms\tremaining: 1.26s\n269:\tlearn: 0.3544365\ttotal: 464ms\tremaining: 1.25s\n270:\tlearn: 0.3543413\ttotal: 466ms\tremaining: 1.25s\n271:\tlearn: 0.3540976\ttotal: 467ms\tremaining: 1.25s\n272:\tlearn: 0.3539835\ttotal: 468ms\tremaining: 1.25s\n273:\tlearn: 0.3536481\ttotal: 469ms\tremaining: 1.24s\n274:\tlearn: 0.3535146\ttotal: 470ms\tremaining: 1.24s\n275:\tlearn: 0.3531795\ttotal: 471ms\tremaining: 1.24s\n276:\tlearn: 0.3530073\ttotal: 472ms\tremaining: 1.23s\n277:\tlearn: 0.3526789\ttotal: 473ms\tremaining: 1.23s\n278:\tlearn: 0.3525625\ttotal: 474ms\tremaining: 1.23s\n279:\tlearn: 0.3523757\ttotal: 475ms\tremaining: 1.22s\n280:\tlearn: 0.3520455\ttotal: 476ms\tremaining: 1.22s\n281:\tlearn: 0.3518872\ttotal: 477ms\tremaining: 1.22s\n282:\tlearn: 0.3517944\ttotal: 478ms\tremaining: 1.21s\n283:\tlearn: 0.3515840\ttotal: 479ms\tremaining: 1.21s\n284:\tlearn: 0.3513337\ttotal: 480ms\tremaining: 1.21s\n285:\tlearn: 0.3511914\ttotal: 482ms\tremaining: 1.2s\n286:\tlearn: 0.3510624\ttotal: 483ms\tremaining: 1.2s\n287:\tlearn: 0.3508966\ttotal: 484ms\tremaining: 1.2s\n288:\tlearn: 0.3507393\ttotal: 485ms\tremaining: 1.19s\n289:\tlearn: 0.3505108\ttotal: 486ms\tremaining: 1.19s\n290:\tlearn: 0.3503598\ttotal: 487ms\tremaining: 1.19s\n291:\tlearn: 0.3502398\ttotal: 488ms\tremaining: 1.18s\n292:\tlearn: 0.3500657\ttotal: 489ms\tremaining: 1.18s\n293:\tlearn: 0.3497936\ttotal: 491ms\tremaining: 1.18s\n294:\tlearn: 0.3494674\ttotal: 492ms\tremaining: 1.17s\n295:\tlearn: 0.3491929\ttotal: 493ms\tremaining: 1.17s\n296:\tlearn: 0.3488861\ttotal: 494ms\tremaining: 1.17s\n297:\tlearn: 0.3487141\ttotal: 495ms\tremaining: 1.17s\n298:\tlearn: 0.3485333\ttotal: 496ms\tremaining: 1.16s\n299:\tlearn: 0.3484518\ttotal: 517ms\tremaining: 1.21s\n300:\tlearn: 0.3482251\ttotal: 518ms\tremaining: 1.2s\n301:\tlearn: 0.3481816\ttotal: 519ms\tremaining: 1.2s\n302:\tlearn: 0.3481335\ttotal: 520ms\tremaining: 1.2s\n303:\tlearn: 0.3478435\ttotal: 521ms\tremaining: 1.19s\n304:\tlearn: 0.3474783\ttotal: 522ms\tremaining: 1.19s\n305:\tlearn: 0.3472709\ttotal: 523ms\tremaining: 1.19s\n306:\tlearn: 0.3470969\ttotal: 524ms\tremaining: 1.18s\n307:\tlearn: 0.3468323\ttotal: 525ms\tremaining: 1.18s\n308:\tlearn: 0.3466711\ttotal: 526ms\tremaining: 1.18s\n309:\tlearn: 0.3465776\ttotal: 528ms\tremaining: 1.17s\n310:\tlearn: 0.3463757\ttotal: 529ms\tremaining: 1.17s\n311:\tlearn: 0.3459601\ttotal: 530ms\tremaining: 1.17s\n312:\tlearn: 0.3457432\ttotal: 531ms\tremaining: 1.17s\n313:\tlearn: 0.3455665\ttotal: 532ms\tremaining: 1.16s\n314:\tlearn: 0.3452901\ttotal: 533ms\tremaining: 1.16s\n315:\tlearn: 0.3451866\ttotal: 534ms\tremaining: 1.16s\n316:\tlearn: 0.3450871\ttotal: 535ms\tremaining: 1.15s\n317:\tlearn: 0.3449800\ttotal: 536ms\tremaining: 1.15s\n318:\tlearn: 0.3446801\ttotal: 537ms\tremaining: 1.15s\n319:\tlearn: 0.3445717\ttotal: 538ms\tremaining: 1.14s\n320:\tlearn: 0.3445467\ttotal: 539ms\tremaining: 1.14s\n321:\tlearn: 0.3445393\ttotal: 540ms\tremaining: 1.14s\n322:\tlearn: 0.3443961\ttotal: 541ms\tremaining: 1.13s\n323:\tlearn: 0.3441032\ttotal: 542ms\tremaining: 1.13s\n324:\tlearn: 0.3439191\ttotal: 543ms\tremaining: 1.13s\n325:\tlearn: 0.3436379\ttotal: 544ms\tremaining: 1.12s\n326:\tlearn: 0.3435049\ttotal: 545ms\tremaining: 1.12s\n327:\tlearn: 0.3433875\ttotal: 546ms\tremaining: 1.12s\n328:\tlearn: 0.3431739\ttotal: 547ms\tremaining: 1.11s\n329:\tlearn: 0.3430458\ttotal: 548ms\tremaining: 1.11s\n330:\tlearn: 0.3427632\ttotal: 549ms\tremaining: 1.11s\n331:\tlearn: 0.3425021\ttotal: 550ms\tremaining: 1.11s\n332:\tlearn: 0.3422629\ttotal: 551ms\tremaining: 1.1s\n333:\tlearn: 0.3422030\ttotal: 552ms\tremaining: 1.1s\n334:\tlearn: 0.3420328\ttotal: 553ms\tremaining: 1.1s\n335:\tlearn: 0.3417091\ttotal: 554ms\tremaining: 1.09s\n336:\tlearn: 0.3415606\ttotal: 556ms\tremaining: 1.09s\n337:\tlearn: 0.3413960\ttotal: 557ms\tremaining: 1.09s\n338:\tlearn: 0.3413086\ttotal: 558ms\tremaining: 1.09s\n339:\tlearn: 0.3412313\ttotal: 559ms\tremaining: 1.08s\n340:\tlearn: 0.3411005\ttotal: 560ms\tremaining: 1.08s\n341:\tlearn: 0.3409443\ttotal: 561ms\tremaining: 1.08s\n342:\tlearn: 0.3407754\ttotal: 563ms\tremaining: 1.08s\n343:\tlearn: 0.3406600\ttotal: 564ms\tremaining: 1.07s\n344:\tlearn: 0.3405320\ttotal: 565ms\tremaining: 1.07s\n345:\tlearn: 0.3404934\ttotal: 566ms\tremaining: 1.07s\n346:\tlearn: 0.3403487\ttotal: 567ms\tremaining: 1.07s\n347:\tlearn: 0.3403138\ttotal: 568ms\tremaining: 1.06s\n348:\tlearn: 0.3401930\ttotal: 569ms\tremaining: 1.06s\n349:\tlearn: 0.3400377\ttotal: 569ms\tremaining: 1.06s\n350:\tlearn: 0.3398772\ttotal: 571ms\tremaining: 1.05s\n351:\tlearn: 0.3398087\ttotal: 572ms\tremaining: 1.05s\n352:\tlearn: 0.3396645\ttotal: 573ms\tremaining: 1.05s\n353:\tlearn: 0.3394952\ttotal: 574ms\tremaining: 1.05s\n354:\tlearn: 0.3394133\ttotal: 575ms\tremaining: 1.04s\n355:\tlearn: 0.3393564\ttotal: 576ms\tremaining: 1.04s\n356:\tlearn: 0.3391804\ttotal: 577ms\tremaining: 1.04s\n357:\tlearn: 0.3390958\ttotal: 578ms\tremaining: 1.04s\n358:\tlearn: 0.3389043\ttotal: 579ms\tremaining: 1.03s\n359:\tlearn: 0.3388040\ttotal: 612ms\tremaining: 1.09s\n360:\tlearn: 0.3386551\ttotal: 613ms\tremaining: 1.08s\n361:\tlearn: 0.3384119\ttotal: 614ms\tremaining: 1.08s\n362:\tlearn: 0.3383463\ttotal: 615ms\tremaining: 1.08s\n363:\tlearn: 0.3381973\ttotal: 616ms\tremaining: 1.08s\n364:\tlearn: 0.3380348\ttotal: 617ms\tremaining: 1.07s\n365:\tlearn: 0.3377890\ttotal: 618ms\tremaining: 1.07s\n366:\tlearn: 0.3376391\ttotal: 619ms\tremaining: 1.07s\n367:\tlearn: 0.3374454\ttotal: 620ms\tremaining: 1.06s\n368:\tlearn: 0.3372504\ttotal: 622ms\tremaining: 1.06s\n369:\tlearn: 0.3371426\ttotal: 623ms\tremaining: 1.06s\n370:\tlearn: 0.3370261\ttotal: 624ms\tremaining: 1.06s\n371:\tlearn: 0.3370220\ttotal: 624ms\tremaining: 1.05s\n372:\tlearn: 0.3367739\ttotal: 625ms\tremaining: 1.05s\n373:\tlearn: 0.3367176\ttotal: 626ms\tremaining: 1.05s\n374:\tlearn: 0.3365538\ttotal: 627ms\tremaining: 1.04s\n375:\tlearn: 0.3362656\ttotal: 629ms\tremaining: 1.04s\n376:\tlearn: 0.3361431\ttotal: 630ms\tremaining: 1.04s\n377:\tlearn: 0.3360437\ttotal: 631ms\tremaining: 1.04s\n378:\tlearn: 0.3359498\ttotal: 631ms\tremaining: 1.03s\n379:\tlearn: 0.3358103\ttotal: 632ms\tremaining: 1.03s\n380:\tlearn: 0.3356862\ttotal: 634ms\tremaining: 1.03s\n381:\tlearn: 0.3355032\ttotal: 635ms\tremaining: 1.03s\n382:\tlearn: 0.3354224\ttotal: 636ms\tremaining: 1.02s\n383:\tlearn: 0.3353627\ttotal: 637ms\tremaining: 1.02s\n384:\tlearn: 0.3352012\ttotal: 638ms\tremaining: 1.02s\n385:\tlearn: 0.3351032\ttotal: 639ms\tremaining: 1.02s\n386:\tlearn: 0.3349493\ttotal: 640ms\tremaining: 1.01s\n387:\tlearn: 0.3348963\ttotal: 641ms\tremaining: 1.01s\n388:\tlearn: 0.3347185\ttotal: 642ms\tremaining: 1.01s\n389:\tlearn: 0.3346590\ttotal: 643ms\tremaining: 1.01s\n390:\tlearn: 0.3345618\ttotal: 644ms\tremaining: 1s\n391:\tlearn: 0.3343913\ttotal: 645ms\tremaining: 1s\n392:\tlearn: 0.3343101\ttotal: 646ms\tremaining: 998ms\n393:\tlearn: 0.3342109\ttotal: 647ms\tremaining: 996ms\n394:\tlearn: 0.3341068\ttotal: 649ms\tremaining: 993ms\n395:\tlearn: 0.3340238\ttotal: 650ms\tremaining: 991ms\n396:\tlearn: 0.3338195\ttotal: 651ms\tremaining: 988ms\n397:\tlearn: 0.3337731\ttotal: 652ms\tremaining: 986ms\n398:\tlearn: 0.3337346\ttotal: 652ms\tremaining: 983ms\n399:\tlearn: 0.3337212\ttotal: 654ms\tremaining: 980ms\n400:\tlearn: 0.3334557\ttotal: 655ms\tremaining: 978ms\n401:\tlearn: 0.3333522\ttotal: 656ms\tremaining: 976ms\n402:\tlearn: 0.3331820\ttotal: 657ms\tremaining: 973ms\n403:\tlearn: 0.3330108\ttotal: 658ms\tremaining: 971ms\n404:\tlearn: 0.3329362\ttotal: 659ms\tremaining: 968ms\n405:\tlearn: 0.3326851\ttotal: 660ms\tremaining: 966ms\n406:\tlearn: 0.3325669\ttotal: 661ms\tremaining: 964ms\n407:\tlearn: 0.3324333\ttotal: 662ms\tremaining: 961ms\n408:\tlearn: 0.3323178\ttotal: 664ms\tremaining: 959ms\n409:\tlearn: 0.3321111\ttotal: 665ms\tremaining: 956ms\n410:\tlearn: 0.3319352\ttotal: 666ms\tremaining: 954ms\n411:\tlearn: 0.3319181\ttotal: 667ms\tremaining: 952ms\n412:\tlearn: 0.3318265\ttotal: 668ms\tremaining: 949ms\n413:\tlearn: 0.3317577\ttotal: 669ms\tremaining: 947ms\n414:\tlearn: 0.3316890\ttotal: 670ms\tremaining: 945ms\n415:\tlearn: 0.3314834\ttotal: 671ms\tremaining: 943ms\n416:\tlearn: 0.3314015\ttotal: 673ms\tremaining: 940ms\n417:\tlearn: 0.3312511\ttotal: 674ms\tremaining: 938ms\n418:\tlearn: 0.3310985\ttotal: 706ms\tremaining: 979ms\n419:\tlearn: 0.3309845\ttotal: 707ms\tremaining: 977ms\n420:\tlearn: 0.3307978\ttotal: 708ms\tremaining: 974ms\n421:\tlearn: 0.3306806\ttotal: 710ms\tremaining: 972ms\n422:\tlearn: 0.3305338\ttotal: 711ms\tremaining: 970ms\n423:\tlearn: 0.3305222\ttotal: 714ms\tremaining: 969ms\n424:\tlearn: 0.3304763\ttotal: 715ms\tremaining: 967ms\n425:\tlearn: 0.3304227\ttotal: 716ms\tremaining: 964ms\n426:\tlearn: 0.3302382\ttotal: 717ms\tremaining: 962ms\n427:\tlearn: 0.3299562\ttotal: 718ms\tremaining: 960ms\n428:\tlearn: 0.3297235\ttotal: 719ms\tremaining: 957ms\n429:\tlearn: 0.3294901\ttotal: 720ms\tremaining: 955ms\n430:\tlearn: 0.3293373\ttotal: 722ms\tremaining: 953ms\n431:\tlearn: 0.3291804\ttotal: 723ms\tremaining: 950ms\n432:\tlearn: 0.3291643\ttotal: 724ms\tremaining: 948ms\n433:\tlearn: 0.3291609\ttotal: 724ms\tremaining: 945ms\n434:\tlearn: 0.3288861\ttotal: 726ms\tremaining: 942ms\n435:\tlearn: 0.3286278\ttotal: 727ms\tremaining: 940ms\n436:\tlearn: 0.3284840\ttotal: 728ms\tremaining: 938ms\n437:\tlearn: 0.3282126\ttotal: 729ms\tremaining: 935ms\n438:\tlearn: 0.3280611\ttotal: 730ms\tremaining: 933ms\n439:\tlearn: 0.3279782\ttotal: 731ms\tremaining: 931ms\n440:\tlearn: 0.3277517\ttotal: 733ms\tremaining: 929ms\n441:\tlearn: 0.3275970\ttotal: 734ms\tremaining: 926ms\n442:\tlearn: 0.3275260\ttotal: 735ms\tremaining: 924ms\n443:\tlearn: 0.3275046\ttotal: 736ms\tremaining: 922ms\n444:\tlearn: 0.3274602\ttotal: 737ms\tremaining: 919ms\n445:\tlearn: 0.3273214\ttotal: 738ms\tremaining: 917ms\n446:\tlearn: 0.3272519\ttotal: 739ms\tremaining: 915ms\n447:\tlearn: 0.3270958\ttotal: 741ms\tremaining: 913ms\n448:\tlearn: 0.3270321\ttotal: 741ms\tremaining: 910ms\n449:\tlearn: 0.3269443\ttotal: 743ms\tremaining: 908ms\n450:\tlearn: 0.3268459\ttotal: 744ms\tremaining: 905ms\n451:\tlearn: 0.3267971\ttotal: 745ms\tremaining: 903ms\n452:\tlearn: 0.3266376\ttotal: 746ms\tremaining: 901ms\n453:\tlearn: 0.3264541\ttotal: 748ms\tremaining: 899ms\n454:\tlearn: 0.3263260\ttotal: 749ms\tremaining: 897ms\n455:\tlearn: 0.3262139\ttotal: 750ms\tremaining: 895ms\n456:\tlearn: 0.3259308\ttotal: 751ms\tremaining: 893ms\n457:\tlearn: 0.3257862\ttotal: 753ms\tremaining: 891ms\n458:\tlearn: 0.3255867\ttotal: 754ms\tremaining: 889ms\n459:\tlearn: 0.3253506\ttotal: 755ms\tremaining: 886ms\n460:\tlearn: 0.3251555\ttotal: 756ms\tremaining: 884ms\n461:\tlearn: 0.3249547\ttotal: 758ms\tremaining: 882ms\n462:\tlearn: 0.3248930\ttotal: 759ms\tremaining: 880ms\n463:\tlearn: 0.3246421\ttotal: 760ms\tremaining: 878ms\n464:\tlearn: 0.3246226\ttotal: 761ms\tremaining: 875ms\n465:\tlearn: 0.3243840\ttotal: 762ms\tremaining: 873ms\n466:\tlearn: 0.3242623\ttotal: 763ms\tremaining: 871ms\n467:\tlearn: 0.3241312\ttotal: 764ms\tremaining: 869ms\n468:\tlearn: 0.3240881\ttotal: 765ms\tremaining: 867ms\n469:\tlearn: 0.3240431\ttotal: 767ms\tremaining: 864ms\n470:\tlearn: 0.3238921\ttotal: 768ms\tremaining: 862ms\n471:\tlearn: 0.3237753\ttotal: 769ms\tremaining: 860ms\n472:\tlearn: 0.3236344\ttotal: 770ms\tremaining: 858ms\n473:\tlearn: 0.3235787\ttotal: 771ms\tremaining: 856ms\n474:\tlearn: 0.3234760\ttotal: 800ms\tremaining: 884ms\n475:\tlearn: 0.3233630\ttotal: 801ms\tremaining: 882ms\n476:\tlearn: 0.3232645\ttotal: 802ms\tremaining: 880ms\n477:\tlearn: 0.3230977\ttotal: 803ms\tremaining: 877ms\n478:\tlearn: 0.3230250\ttotal: 805ms\tremaining: 875ms\n479:\tlearn: 0.3229722\ttotal: 806ms\tremaining: 873ms\n480:\tlearn: 0.3227686\ttotal: 807ms\tremaining: 871ms\n481:\tlearn: 0.3226142\ttotal: 808ms\tremaining: 869ms\n482:\tlearn: 0.3223968\ttotal: 809ms\tremaining: 866ms\n483:\tlearn: 0.3223832\ttotal: 811ms\tremaining: 864ms\n484:\tlearn: 0.3223197\ttotal: 812ms\tremaining: 862ms\n485:\tlearn: 0.3222184\ttotal: 813ms\tremaining: 860ms\n486:\tlearn: 0.3221604\ttotal: 814ms\tremaining: 858ms\n487:\tlearn: 0.3219553\ttotal: 815ms\tremaining: 855ms\n488:\tlearn: 0.3218960\ttotal: 816ms\tremaining: 853ms\n489:\tlearn: 0.3217654\ttotal: 818ms\tremaining: 851ms\n490:\tlearn: 0.3216226\ttotal: 819ms\tremaining: 849ms\n491:\tlearn: 0.3213783\ttotal: 820ms\tremaining: 847ms\n492:\tlearn: 0.3212981\ttotal: 821ms\tremaining: 845ms\n493:\tlearn: 0.3212072\ttotal: 822ms\tremaining: 842ms\n494:\tlearn: 0.3209829\ttotal: 824ms\tremaining: 840ms\n495:\tlearn: 0.3208659\ttotal: 825ms\tremaining: 838ms\n496:\tlearn: 0.3207522\ttotal: 826ms\tremaining: 836ms\n497:\tlearn: 0.3205023\ttotal: 827ms\tremaining: 834ms\n498:\tlearn: 0.3203838\ttotal: 828ms\tremaining: 832ms\n499:\tlearn: 0.3202991\ttotal: 830ms\tremaining: 830ms\n500:\tlearn: 0.3200634\ttotal: 831ms\tremaining: 828ms\n501:\tlearn: 0.3198384\ttotal: 832ms\tremaining: 825ms\n502:\tlearn: 0.3196994\ttotal: 833ms\tremaining: 823ms\n503:\tlearn: 0.3196211\ttotal: 834ms\tremaining: 821ms\n504:\tlearn: 0.3195849\ttotal: 836ms\tremaining: 819ms\n505:\tlearn: 0.3195034\ttotal: 837ms\tremaining: 817ms\n506:\tlearn: 0.3192582\ttotal: 838ms\tremaining: 815ms\n507:\tlearn: 0.3190162\ttotal: 839ms\tremaining: 813ms\n508:\tlearn: 0.3188441\ttotal: 840ms\tremaining: 811ms\n509:\tlearn: 0.3187531\ttotal: 842ms\tremaining: 809ms\n510:\tlearn: 0.3185797\ttotal: 843ms\tremaining: 806ms\n511:\tlearn: 0.3183666\ttotal: 844ms\tremaining: 804ms\n512:\tlearn: 0.3183474\ttotal: 845ms\tremaining: 802ms\n513:\tlearn: 0.3182659\ttotal: 846ms\tremaining: 800ms\n514:\tlearn: 0.3181078\ttotal: 847ms\tremaining: 798ms\n515:\tlearn: 0.3179308\ttotal: 848ms\tremaining: 796ms\n516:\tlearn: 0.3177946\ttotal: 849ms\tremaining: 793ms\n517:\tlearn: 0.3177720\ttotal: 850ms\tremaining: 791ms\n518:\tlearn: 0.3175022\ttotal: 851ms\tremaining: 789ms\n519:\tlearn: 0.3174284\ttotal: 852ms\tremaining: 787ms\n520:\tlearn: 0.3171479\ttotal: 854ms\tremaining: 785ms\n521:\tlearn: 0.3170960\ttotal: 854ms\tremaining: 782ms\n522:\tlearn: 0.3170915\ttotal: 855ms\tremaining: 780ms\n523:\tlearn: 0.3169555\ttotal: 856ms\tremaining: 778ms\n524:\tlearn: 0.3169015\ttotal: 857ms\tremaining: 776ms\n525:\tlearn: 0.3168632\ttotal: 858ms\tremaining: 774ms\n526:\tlearn: 0.3167298\ttotal: 859ms\tremaining: 771ms\n527:\tlearn: 0.3164960\ttotal: 861ms\tremaining: 769ms\n528:\tlearn: 0.3164612\ttotal: 861ms\tremaining: 767ms\n529:\tlearn: 0.3162366\ttotal: 893ms\tremaining: 792ms\n530:\tlearn: 0.3161818\ttotal: 894ms\tremaining: 790ms\n531:\tlearn: 0.3161042\ttotal: 895ms\tremaining: 788ms\n532:\tlearn: 0.3159990\ttotal: 897ms\tremaining: 786ms\n533:\tlearn: 0.3158072\ttotal: 898ms\tremaining: 783ms\n534:\tlearn: 0.3156682\ttotal: 899ms\tremaining: 781ms\n535:\tlearn: 0.3156139\ttotal: 900ms\tremaining: 779ms\n536:\tlearn: 0.3154684\ttotal: 901ms\tremaining: 777ms\n537:\tlearn: 0.3153368\ttotal: 902ms\tremaining: 775ms\n538:\tlearn: 0.3152445\ttotal: 903ms\tremaining: 772ms\n539:\tlearn: 0.3150065\ttotal: 904ms\tremaining: 770ms\n540:\tlearn: 0.3148915\ttotal: 905ms\tremaining: 768ms\n541:\tlearn: 0.3148483\ttotal: 906ms\tremaining: 766ms\n542:\tlearn: 0.3148223\ttotal: 907ms\tremaining: 764ms\n543:\tlearn: 0.3146635\ttotal: 908ms\tremaining: 761ms\n544:\tlearn: 0.3145178\ttotal: 910ms\tremaining: 759ms\n545:\tlearn: 0.3144977\ttotal: 910ms\tremaining: 757ms\n546:\tlearn: 0.3144087\ttotal: 911ms\tremaining: 755ms\n547:\tlearn: 0.3141565\ttotal: 912ms\tremaining: 753ms\n548:\tlearn: 0.3141442\ttotal: 913ms\tremaining: 750ms\n549:\tlearn: 0.3141129\ttotal: 914ms\tremaining: 748ms\n550:\tlearn: 0.3140273\ttotal: 915ms\tremaining: 746ms\n551:\tlearn: 0.3138793\ttotal: 916ms\tremaining: 744ms\n552:\tlearn: 0.3137465\ttotal: 917ms\tremaining: 742ms\n553:\tlearn: 0.3136927\ttotal: 918ms\tremaining: 739ms\n554:\tlearn: 0.3135720\ttotal: 920ms\tremaining: 737ms\n555:\tlearn: 0.3135580\ttotal: 920ms\tremaining: 735ms\n556:\tlearn: 0.3134751\ttotal: 921ms\tremaining: 733ms\n557:\tlearn: 0.3133632\ttotal: 922ms\tremaining: 731ms\n558:\tlearn: 0.3132769\ttotal: 924ms\tremaining: 729ms\n559:\tlearn: 0.3132300\ttotal: 925ms\tremaining: 726ms\n560:\tlearn: 0.3131888\ttotal: 926ms\tremaining: 724ms\n561:\tlearn: 0.3131590\ttotal: 927ms\tremaining: 722ms\n562:\tlearn: 0.3130135\ttotal: 928ms\tremaining: 720ms\n563:\tlearn: 0.3128525\ttotal: 929ms\tremaining: 718ms\n564:\tlearn: 0.3127731\ttotal: 930ms\tremaining: 716ms\n565:\tlearn: 0.3126325\ttotal: 931ms\tremaining: 714ms\n566:\tlearn: 0.3125646\ttotal: 932ms\tremaining: 712ms\n567:\tlearn: 0.3123335\ttotal: 933ms\tremaining: 710ms\n568:\tlearn: 0.3121103\ttotal: 934ms\tremaining: 708ms\n569:\tlearn: 0.3120914\ttotal: 935ms\tremaining: 705ms\n570:\tlearn: 0.3119982\ttotal: 936ms\tremaining: 703ms\n571:\tlearn: 0.3118909\ttotal: 937ms\tremaining: 701ms\n572:\tlearn: 0.3118446\ttotal: 938ms\tremaining: 699ms\n573:\tlearn: 0.3117756\ttotal: 939ms\tremaining: 697ms\n574:\tlearn: 0.3116264\ttotal: 941ms\tremaining: 695ms\n575:\tlearn: 0.3115388\ttotal: 942ms\tremaining: 693ms\n576:\tlearn: 0.3113080\ttotal: 943ms\tremaining: 691ms\n577:\tlearn: 0.3111875\ttotal: 944ms\tremaining: 689ms\n578:\tlearn: 0.3110809\ttotal: 945ms\tremaining: 687ms\n579:\tlearn: 0.3110189\ttotal: 946ms\tremaining: 685ms\n580:\tlearn: 0.3109595\ttotal: 947ms\tremaining: 683ms\n581:\tlearn: 0.3107820\ttotal: 948ms\tremaining: 681ms\n582:\tlearn: 0.3107277\ttotal: 949ms\tremaining: 679ms\n583:\tlearn: 0.3106540\ttotal: 950ms\tremaining: 677ms\n584:\tlearn: 0.3106036\ttotal: 951ms\tremaining: 675ms\n585:\tlearn: 0.3105480\ttotal: 952ms\tremaining: 673ms\n586:\tlearn: 0.3104720\ttotal: 953ms\tremaining: 671ms\n587:\tlearn: 0.3103124\ttotal: 955ms\tremaining: 669ms\n588:\tlearn: 0.3102641\ttotal: 955ms\tremaining: 667ms\n589:\tlearn: 0.3101781\ttotal: 956ms\tremaining: 665ms\n590:\tlearn: 0.3100808\ttotal: 988ms\tremaining: 684ms\n591:\tlearn: 0.3099670\ttotal: 990ms\tremaining: 682ms\n592:\tlearn: 0.3098678\ttotal: 991ms\tremaining: 680ms\n593:\tlearn: 0.3096734\ttotal: 992ms\tremaining: 678ms\n594:\tlearn: 0.3095499\ttotal: 993ms\tremaining: 676ms\n595:\tlearn: 0.3093594\ttotal: 994ms\tremaining: 674ms\n596:\tlearn: 0.3092643\ttotal: 996ms\tremaining: 672ms\n597:\tlearn: 0.3091077\ttotal: 997ms\tremaining: 670ms\n598:\tlearn: 0.3089425\ttotal: 998ms\tremaining: 668ms\n599:\tlearn: 0.3088684\ttotal: 999ms\tremaining: 666ms\n600:\tlearn: 0.3087424\ttotal: 1s\tremaining: 664ms\n601:\tlearn: 0.3085817\ttotal: 1s\tremaining: 662ms\n602:\tlearn: 0.3085677\ttotal: 1s\tremaining: 660ms\n603:\tlearn: 0.3084623\ttotal: 1s\tremaining: 658ms\n604:\tlearn: 0.3084150\ttotal: 1s\tremaining: 656ms\n605:\tlearn: 0.3083272\ttotal: 1s\tremaining: 654ms\n606:\tlearn: 0.3082361\ttotal: 1.01s\tremaining: 652ms\n607:\tlearn: 0.3082056\ttotal: 1.01s\tremaining: 650ms\n608:\tlearn: 0.3080291\ttotal: 1.01s\tremaining: 648ms\n609:\tlearn: 0.3079203\ttotal: 1.01s\tremaining: 646ms\n610:\tlearn: 0.3079181\ttotal: 1.01s\tremaining: 644ms\n611:\tlearn: 0.3077411\ttotal: 1.01s\tremaining: 642ms\n612:\tlearn: 0.3076896\ttotal: 1.01s\tremaining: 640ms\n613:\tlearn: 0.3076725\ttotal: 1.01s\tremaining: 638ms\n614:\tlearn: 0.3075025\ttotal: 1.02s\tremaining: 636ms\n615:\tlearn: 0.3074279\ttotal: 1.02s\tremaining: 634ms\n616:\tlearn: 0.3073145\ttotal: 1.02s\tremaining: 632ms\n617:\tlearn: 0.3071345\ttotal: 1.02s\tremaining: 631ms\n618:\tlearn: 0.3069828\ttotal: 1.02s\tremaining: 629ms\n619:\tlearn: 0.3069143\ttotal: 1.02s\tremaining: 627ms\n620:\tlearn: 0.3067854\ttotal: 1.02s\tremaining: 625ms\n621:\tlearn: 0.3067187\ttotal: 1.02s\tremaining: 623ms\n622:\tlearn: 0.3066975\ttotal: 1.02s\tremaining: 621ms\n623:\tlearn: 0.3066790\ttotal: 1.03s\tremaining: 619ms\n624:\tlearn: 0.3066335\ttotal: 1.03s\tremaining: 617ms\n625:\tlearn: 0.3065544\ttotal: 1.03s\tremaining: 615ms\n626:\tlearn: 0.3064877\ttotal: 1.03s\tremaining: 613ms\n627:\tlearn: 0.3063311\ttotal: 1.03s\tremaining: 611ms\n628:\tlearn: 0.3063308\ttotal: 1.03s\tremaining: 609ms\n629:\tlearn: 0.3061519\ttotal: 1.03s\tremaining: 607ms\n630:\tlearn: 0.3059819\ttotal: 1.03s\tremaining: 605ms\n631:\tlearn: 0.3057822\ttotal: 1.03s\tremaining: 603ms\n632:\tlearn: 0.3057380\ttotal: 1.04s\tremaining: 601ms\n633:\tlearn: 0.3055642\ttotal: 1.04s\tremaining: 599ms\n634:\tlearn: 0.3054773\ttotal: 1.04s\tremaining: 597ms\n635:\tlearn: 0.3053966\ttotal: 1.04s\tremaining: 595ms\n636:\tlearn: 0.3053092\ttotal: 1.04s\tremaining: 594ms\n637:\tlearn: 0.3052877\ttotal: 1.04s\tremaining: 592ms\n638:\tlearn: 0.3052028\ttotal: 1.04s\tremaining: 590ms\n639:\tlearn: 0.3050985\ttotal: 1.04s\tremaining: 588ms\n640:\tlearn: 0.3050374\ttotal: 1.04s\tremaining: 586ms\n641:\tlearn: 0.3049080\ttotal: 1.05s\tremaining: 584ms\n642:\tlearn: 0.3048033\ttotal: 1.05s\tremaining: 582ms\n643:\tlearn: 0.3047969\ttotal: 1.05s\tremaining: 580ms\n644:\tlearn: 0.3047547\ttotal: 1.05s\tremaining: 578ms\n645:\tlearn: 0.3046187\ttotal: 1.08s\tremaining: 593ms\n646:\tlearn: 0.3044476\ttotal: 1.08s\tremaining: 591ms\n647:\tlearn: 0.3044282\ttotal: 1.08s\tremaining: 589ms\n648:\tlearn: 0.3043243\ttotal: 1.08s\tremaining: 587ms\n649:\tlearn: 0.3040503\ttotal: 1.09s\tremaining: 585ms\n650:\tlearn: 0.3038110\ttotal: 1.09s\tremaining: 583ms\n651:\tlearn: 0.3035869\ttotal: 1.09s\tremaining: 581ms\n652:\tlearn: 0.3035231\ttotal: 1.09s\tremaining: 579ms\n653:\tlearn: 0.3034016\ttotal: 1.09s\tremaining: 577ms\n654:\tlearn: 0.3031455\ttotal: 1.09s\tremaining: 575ms\n655:\tlearn: 0.3030506\ttotal: 1.09s\tremaining: 573ms\n656:\tlearn: 0.3029959\ttotal: 1.09s\tremaining: 571ms\n657:\tlearn: 0.3028535\ttotal: 1.09s\tremaining: 569ms\n658:\tlearn: 0.3027875\ttotal: 1.1s\tremaining: 567ms\n659:\tlearn: 0.3026442\ttotal: 1.1s\tremaining: 565ms\n660:\tlearn: 0.3025852\ttotal: 1.1s\tremaining: 563ms\n661:\tlearn: 0.3025658\ttotal: 1.1s\tremaining: 561ms\n662:\tlearn: 0.3025013\ttotal: 1.1s\tremaining: 559ms\n663:\tlearn: 0.3024514\ttotal: 1.1s\tremaining: 557ms\n664:\tlearn: 0.3023507\ttotal: 1.1s\tremaining: 555ms\n665:\tlearn: 0.3023406\ttotal: 1.1s\tremaining: 553ms\n666:\tlearn: 0.3021855\ttotal: 1.1s\tremaining: 551ms\n667:\tlearn: 0.3021518\ttotal: 1.1s\tremaining: 549ms\n668:\tlearn: 0.3020733\ttotal: 1.1s\tremaining: 547ms\n669:\tlearn: 0.3020557\ttotal: 1.11s\tremaining: 545ms\n670:\tlearn: 0.3019978\ttotal: 1.11s\tremaining: 543ms\n671:\tlearn: 0.3018846\ttotal: 1.11s\tremaining: 541ms\n672:\tlearn: 0.3017703\ttotal: 1.11s\tremaining: 539ms\n673:\tlearn: 0.3017598\ttotal: 1.11s\tremaining: 537ms\n674:\tlearn: 0.3017058\ttotal: 1.11s\tremaining: 535ms\n675:\tlearn: 0.3016641\ttotal: 1.11s\tremaining: 534ms\n676:\tlearn: 0.3015313\ttotal: 1.11s\tremaining: 532ms\n677:\tlearn: 0.3014643\ttotal: 1.11s\tremaining: 530ms\n678:\tlearn: 0.3013933\ttotal: 1.12s\tremaining: 528ms\n679:\tlearn: 0.3012789\ttotal: 1.12s\tremaining: 526ms\n680:\tlearn: 0.3011195\ttotal: 1.12s\tremaining: 524ms\n681:\tlearn: 0.3010173\ttotal: 1.12s\tremaining: 522ms\n682:\tlearn: 0.3009558\ttotal: 1.12s\tremaining: 520ms\n683:\tlearn: 0.3008736\ttotal: 1.12s\tremaining: 518ms\n684:\tlearn: 0.3007782\ttotal: 1.12s\tremaining: 516ms\n685:\tlearn: 0.3006922\ttotal: 1.12s\tremaining: 514ms\n686:\tlearn: 0.3004898\ttotal: 1.12s\tremaining: 513ms\n687:\tlearn: 0.3003658\ttotal: 1.13s\tremaining: 511ms\n688:\tlearn: 0.3003039\ttotal: 1.13s\tremaining: 510ms\n689:\tlearn: 0.3001084\ttotal: 1.13s\tremaining: 508ms\n690:\tlearn: 0.2999930\ttotal: 1.13s\tremaining: 506ms\n691:\tlearn: 0.2997502\ttotal: 1.13s\tremaining: 504ms\n692:\tlearn: 0.2996846\ttotal: 1.13s\tremaining: 502ms\n693:\tlearn: 0.2996106\ttotal: 1.13s\tremaining: 500ms\n694:\tlearn: 0.2995309\ttotal: 1.14s\tremaining: 498ms\n695:\tlearn: 0.2994587\ttotal: 1.14s\tremaining: 496ms\n696:\tlearn: 0.2993250\ttotal: 1.14s\tremaining: 495ms\n697:\tlearn: 0.2992821\ttotal: 1.14s\tremaining: 493ms\n698:\tlearn: 0.2989667\ttotal: 1.14s\tremaining: 491ms\n699:\tlearn: 0.2986461\ttotal: 1.14s\tremaining: 489ms\n700:\tlearn: 0.2985520\ttotal: 1.14s\tremaining: 487ms\n701:\tlearn: 0.2984658\ttotal: 1.14s\tremaining: 485ms\n702:\tlearn: 0.2984238\ttotal: 1.14s\tremaining: 483ms\n703:\tlearn: 0.2983866\ttotal: 1.18s\tremaining: 494ms\n704:\tlearn: 0.2983430\ttotal: 1.18s\tremaining: 492ms\n705:\tlearn: 0.2982721\ttotal: 1.18s\tremaining: 490ms\n706:\tlearn: 0.2980796\ttotal: 1.18s\tremaining: 489ms\n707:\tlearn: 0.2979442\ttotal: 1.18s\tremaining: 487ms\n708:\tlearn: 0.2978455\ttotal: 1.18s\tremaining: 485ms\n709:\tlearn: 0.2977296\ttotal: 1.18s\tremaining: 483ms\n710:\tlearn: 0.2976086\ttotal: 1.18s\tremaining: 481ms\n711:\tlearn: 0.2975283\ttotal: 1.18s\tremaining: 479ms\n712:\tlearn: 0.2974020\ttotal: 1.19s\tremaining: 477ms\n713:\tlearn: 0.2972459\ttotal: 1.19s\tremaining: 475ms\n714:\tlearn: 0.2971720\ttotal: 1.19s\tremaining: 473ms\n715:\tlearn: 0.2971560\ttotal: 1.19s\tremaining: 471ms\n716:\tlearn: 0.2971207\ttotal: 1.19s\tremaining: 470ms\n717:\tlearn: 0.2969675\ttotal: 1.19s\tremaining: 468ms\n718:\tlearn: 0.2968813\ttotal: 1.19s\tremaining: 466ms\n719:\tlearn: 0.2965599\ttotal: 1.19s\tremaining: 464ms\n720:\tlearn: 0.2964261\ttotal: 1.19s\tremaining: 462ms\n721:\tlearn: 0.2963167\ttotal: 1.2s\tremaining: 460ms\n722:\tlearn: 0.2961824\ttotal: 1.2s\tremaining: 458ms\n723:\tlearn: 0.2960885\ttotal: 1.2s\tremaining: 456ms\n724:\tlearn: 0.2960796\ttotal: 1.2s\tremaining: 454ms\n725:\tlearn: 0.2960349\ttotal: 1.2s\tremaining: 453ms\n726:\tlearn: 0.2959274\ttotal: 1.2s\tremaining: 451ms\n727:\tlearn: 0.2958243\ttotal: 1.2s\tremaining: 449ms\n728:\tlearn: 0.2957762\ttotal: 1.2s\tremaining: 447ms\n729:\tlearn: 0.2954842\ttotal: 1.2s\tremaining: 445ms\n730:\tlearn: 0.2953750\ttotal: 1.2s\tremaining: 443ms\n731:\tlearn: 0.2953610\ttotal: 1.21s\tremaining: 441ms\n732:\tlearn: 0.2952547\ttotal: 1.21s\tremaining: 439ms\n733:\tlearn: 0.2951484\ttotal: 1.21s\tremaining: 438ms\n734:\tlearn: 0.2950652\ttotal: 1.21s\tremaining: 436ms\n735:\tlearn: 0.2948529\ttotal: 1.21s\tremaining: 434ms\n736:\tlearn: 0.2948356\ttotal: 1.21s\tremaining: 432ms\n737:\tlearn: 0.2947281\ttotal: 1.21s\tremaining: 430ms\n738:\tlearn: 0.2946413\ttotal: 1.21s\tremaining: 428ms\n739:\tlearn: 0.2945262\ttotal: 1.21s\tremaining: 427ms\n740:\tlearn: 0.2943512\ttotal: 1.22s\tremaining: 425ms\n741:\tlearn: 0.2943128\ttotal: 1.22s\tremaining: 423ms\n742:\tlearn: 0.2942960\ttotal: 1.22s\tremaining: 421ms\n743:\tlearn: 0.2941365\ttotal: 1.22s\tremaining: 419ms\n744:\tlearn: 0.2940844\ttotal: 1.22s\tremaining: 417ms\n745:\tlearn: 0.2940682\ttotal: 1.22s\tremaining: 415ms\n746:\tlearn: 0.2939258\ttotal: 1.22s\tremaining: 414ms\n747:\tlearn: 0.2938022\ttotal: 1.22s\tremaining: 412ms\n748:\tlearn: 0.2934834\ttotal: 1.22s\tremaining: 410ms\n749:\tlearn: 0.2934024\ttotal: 1.22s\tremaining: 408ms\n750:\tlearn: 0.2931961\ttotal: 1.23s\tremaining: 406ms\n751:\tlearn: 0.2931099\ttotal: 1.23s\tremaining: 404ms\n752:\tlearn: 0.2930387\ttotal: 1.23s\tremaining: 403ms\n753:\tlearn: 0.2929585\ttotal: 1.23s\tremaining: 401ms\n754:\tlearn: 0.2928495\ttotal: 1.23s\tremaining: 399ms\n755:\tlearn: 0.2927748\ttotal: 1.23s\tremaining: 397ms\n756:\tlearn: 0.2926577\ttotal: 1.23s\tremaining: 395ms\n757:\tlearn: 0.2925861\ttotal: 1.23s\tremaining: 394ms\n758:\tlearn: 0.2924479\ttotal: 1.23s\tremaining: 392ms\n759:\tlearn: 0.2923717\ttotal: 1.24s\tremaining: 390ms\n760:\tlearn: 0.2922262\ttotal: 1.24s\tremaining: 389ms\n761:\tlearn: 0.2922004\ttotal: 1.24s\tremaining: 387ms\n762:\tlearn: 0.2921426\ttotal: 1.24s\tremaining: 385ms\n763:\tlearn: 0.2920396\ttotal: 1.27s\tremaining: 392ms\n764:\tlearn: 0.2919525\ttotal: 1.27s\tremaining: 391ms\n765:\tlearn: 0.2919482\ttotal: 1.27s\tremaining: 389ms\n766:\tlearn: 0.2918171\ttotal: 1.27s\tremaining: 387ms\n767:\tlearn: 0.2916943\ttotal: 1.27s\tremaining: 385ms\n768:\tlearn: 0.2916290\ttotal: 1.27s\tremaining: 383ms\n769:\tlearn: 0.2915036\ttotal: 1.28s\tremaining: 381ms\n770:\tlearn: 0.2913765\ttotal: 1.28s\tremaining: 380ms\n771:\tlearn: 0.2913415\ttotal: 1.28s\tremaining: 378ms\n772:\tlearn: 0.2909552\ttotal: 1.28s\tremaining: 376ms\n773:\tlearn: 0.2907478\ttotal: 1.28s\tremaining: 374ms\n774:\tlearn: 0.2906594\ttotal: 1.28s\tremaining: 372ms\n775:\tlearn: 0.2904708\ttotal: 1.28s\tremaining: 371ms\n776:\tlearn: 0.2903028\ttotal: 1.28s\tremaining: 369ms\n777:\tlearn: 0.2900126\ttotal: 1.29s\tremaining: 367ms\n778:\tlearn: 0.2898998\ttotal: 1.29s\tremaining: 365ms\n779:\tlearn: 0.2897708\ttotal: 1.29s\tremaining: 363ms\n780:\tlearn: 0.2896601\ttotal: 1.29s\tremaining: 362ms\n781:\tlearn: 0.2895581\ttotal: 1.29s\tremaining: 360ms\n782:\tlearn: 0.2895100\ttotal: 1.29s\tremaining: 358ms\n783:\tlearn: 0.2893728\ttotal: 1.29s\tremaining: 356ms\n784:\tlearn: 0.2891627\ttotal: 1.29s\tremaining: 354ms\n785:\tlearn: 0.2891068\ttotal: 1.29s\tremaining: 353ms\n786:\tlearn: 0.2889998\ttotal: 1.3s\tremaining: 351ms\n787:\tlearn: 0.2888020\ttotal: 1.3s\tremaining: 349ms\n788:\tlearn: 0.2887028\ttotal: 1.3s\tremaining: 347ms\n789:\tlearn: 0.2885982\ttotal: 1.3s\tremaining: 346ms\n790:\tlearn: 0.2885193\ttotal: 1.3s\tremaining: 344ms\n791:\tlearn: 0.2884367\ttotal: 1.3s\tremaining: 342ms\n792:\tlearn: 0.2883612\ttotal: 1.3s\tremaining: 341ms\n793:\tlearn: 0.2881392\ttotal: 1.31s\tremaining: 339ms\n794:\tlearn: 0.2880613\ttotal: 1.31s\tremaining: 337ms\n795:\tlearn: 0.2880167\ttotal: 1.31s\tremaining: 335ms\n796:\tlearn: 0.2878159\ttotal: 1.31s\tremaining: 334ms\n797:\tlearn: 0.2876739\ttotal: 1.31s\tremaining: 332ms\n798:\tlearn: 0.2875289\ttotal: 1.31s\tremaining: 330ms\n799:\tlearn: 0.2874582\ttotal: 1.31s\tremaining: 328ms\n800:\tlearn: 0.2874071\ttotal: 1.32s\tremaining: 327ms\n801:\tlearn: 0.2873224\ttotal: 1.32s\tremaining: 325ms\n802:\tlearn: 0.2871392\ttotal: 1.32s\tremaining: 324ms\n803:\tlearn: 0.2870739\ttotal: 1.32s\tremaining: 322ms\n804:\tlearn: 0.2868703\ttotal: 1.32s\tremaining: 320ms\n805:\tlearn: 0.2867059\ttotal: 1.32s\tremaining: 319ms\n806:\tlearn: 0.2865635\ttotal: 1.32s\tremaining: 317ms\n807:\tlearn: 0.2864581\ttotal: 1.32s\tremaining: 315ms\n808:\tlearn: 0.2864272\ttotal: 1.33s\tremaining: 313ms\n809:\tlearn: 0.2862884\ttotal: 1.33s\tremaining: 312ms\n810:\tlearn: 0.2861646\ttotal: 1.33s\tremaining: 310ms\n811:\tlearn: 0.2860946\ttotal: 1.33s\tremaining: 308ms\n812:\tlearn: 0.2858145\ttotal: 1.33s\tremaining: 306ms\n813:\tlearn: 0.2857550\ttotal: 1.33s\tremaining: 305ms\n814:\tlearn: 0.2855792\ttotal: 1.33s\tremaining: 303ms\n815:\tlearn: 0.2854759\ttotal: 1.33s\tremaining: 301ms\n816:\tlearn: 0.2853831\ttotal: 1.34s\tremaining: 299ms\n817:\tlearn: 0.2853520\ttotal: 1.34s\tremaining: 298ms\n818:\tlearn: 0.2852822\ttotal: 1.34s\tremaining: 296ms\n819:\tlearn: 0.2851446\ttotal: 1.34s\tremaining: 294ms\n820:\tlearn: 0.2849236\ttotal: 1.34s\tremaining: 292ms\n821:\tlearn: 0.2847965\ttotal: 1.34s\tremaining: 291ms\n822:\tlearn: 0.2846615\ttotal: 1.34s\tremaining: 289ms\n823:\tlearn: 0.2846098\ttotal: 1.34s\tremaining: 287ms\n824:\tlearn: 0.2845183\ttotal: 1.35s\tremaining: 286ms\n825:\tlearn: 0.2845080\ttotal: 1.35s\tremaining: 284ms\n826:\tlearn: 0.2844628\ttotal: 1.35s\tremaining: 282ms\n827:\tlearn: 0.2843604\ttotal: 1.35s\tremaining: 280ms\n828:\tlearn: 0.2841748\ttotal: 1.35s\tremaining: 279ms\n829:\tlearn: 0.2839129\ttotal: 1.35s\tremaining: 277ms\n830:\tlearn: 0.2838477\ttotal: 1.35s\tremaining: 275ms\n831:\tlearn: 0.2837398\ttotal: 1.35s\tremaining: 274ms\n832:\tlearn: 0.2836311\ttotal: 1.35s\tremaining: 272ms\n833:\tlearn: 0.2835574\ttotal: 1.36s\tremaining: 270ms\n834:\tlearn: 0.2835005\ttotal: 1.36s\tremaining: 268ms\n835:\tlearn: 0.2833349\ttotal: 1.36s\tremaining: 267ms\n836:\tlearn: 0.2832625\ttotal: 1.36s\tremaining: 265ms\n837:\tlearn: 0.2830758\ttotal: 1.36s\tremaining: 263ms\n838:\tlearn: 0.2828235\ttotal: 1.36s\tremaining: 262ms\n839:\tlearn: 0.2827603\ttotal: 1.36s\tremaining: 260ms\n840:\tlearn: 0.2826592\ttotal: 1.36s\tremaining: 258ms\n841:\tlearn: 0.2825588\ttotal: 1.37s\tremaining: 256ms\n842:\tlearn: 0.2825542\ttotal: 1.37s\tremaining: 255ms\n843:\tlearn: 0.2823261\ttotal: 1.37s\tremaining: 253ms\n844:\tlearn: 0.2822040\ttotal: 1.37s\tremaining: 251ms\n845:\tlearn: 0.2821724\ttotal: 1.37s\tremaining: 249ms\n846:\tlearn: 0.2820692\ttotal: 1.37s\tremaining: 248ms\n847:\tlearn: 0.2818436\ttotal: 1.37s\tremaining: 246ms\n848:\tlearn: 0.2816800\ttotal: 1.37s\tremaining: 244ms\n849:\tlearn: 0.2815427\ttotal: 1.38s\tremaining: 243ms\n850:\tlearn: 0.2814352\ttotal: 1.38s\tremaining: 241ms\n851:\tlearn: 0.2813507\ttotal: 1.38s\tremaining: 239ms\n852:\tlearn: 0.2812839\ttotal: 1.38s\tremaining: 238ms\n853:\tlearn: 0.2812230\ttotal: 1.38s\tremaining: 236ms\n854:\tlearn: 0.2811337\ttotal: 1.38s\tremaining: 234ms\n855:\tlearn: 0.2810697\ttotal: 1.38s\tremaining: 233ms\n856:\tlearn: 0.2809427\ttotal: 1.38s\tremaining: 231ms\n857:\tlearn: 0.2808000\ttotal: 1.38s\tremaining: 229ms\n858:\tlearn: 0.2807108\ttotal: 1.39s\tremaining: 227ms\n859:\tlearn: 0.2805415\ttotal: 1.39s\tremaining: 226ms\n860:\tlearn: 0.2804373\ttotal: 1.39s\tremaining: 224ms\n861:\tlearn: 0.2803345\ttotal: 1.39s\tremaining: 222ms\n862:\tlearn: 0.2802184\ttotal: 1.39s\tremaining: 221ms\n863:\tlearn: 0.2800588\ttotal: 1.39s\tremaining: 219ms\n864:\tlearn: 0.2799622\ttotal: 1.39s\tremaining: 217ms\n865:\tlearn: 0.2798415\ttotal: 1.39s\tremaining: 216ms\n866:\tlearn: 0.2798035\ttotal: 1.39s\tremaining: 214ms\n867:\tlearn: 0.2797043\ttotal: 1.4s\tremaining: 212ms\n868:\tlearn: 0.2795178\ttotal: 1.4s\tremaining: 211ms\n869:\tlearn: 0.2794800\ttotal: 1.4s\tremaining: 209ms\n870:\tlearn: 0.2794449\ttotal: 1.4s\tremaining: 207ms\n871:\tlearn: 0.2793688\ttotal: 1.4s\tremaining: 205ms\n872:\tlearn: 0.2792771\ttotal: 1.4s\tremaining: 204ms\n873:\tlearn: 0.2791299\ttotal: 1.4s\tremaining: 202ms\n874:\tlearn: 0.2790935\ttotal: 1.4s\tremaining: 200ms\n875:\tlearn: 0.2789517\ttotal: 1.4s\tremaining: 199ms\n876:\tlearn: 0.2788633\ttotal: 1.41s\tremaining: 197ms\n877:\tlearn: 0.2787930\ttotal: 1.41s\tremaining: 195ms\n878:\tlearn: 0.2787134\ttotal: 1.41s\tremaining: 194ms\n879:\tlearn: 0.2785795\ttotal: 1.41s\tremaining: 192ms\n880:\tlearn: 0.2784872\ttotal: 1.41s\tremaining: 190ms\n881:\tlearn: 0.2784291\ttotal: 1.41s\tremaining: 189ms\n882:\tlearn: 0.2784074\ttotal: 1.41s\tremaining: 187ms\n883:\tlearn: 0.2782991\ttotal: 1.41s\tremaining: 185ms\n884:\tlearn: 0.2782490\ttotal: 1.41s\tremaining: 184ms\n885:\tlearn: 0.2782085\ttotal: 1.41s\tremaining: 182ms\n886:\tlearn: 0.2779904\ttotal: 1.42s\tremaining: 180ms\n887:\tlearn: 0.2778885\ttotal: 1.44s\tremaining: 182ms\n888:\tlearn: 0.2778513\ttotal: 1.44s\tremaining: 180ms\n889:\tlearn: 0.2776647\ttotal: 1.44s\tremaining: 178ms\n890:\tlearn: 0.2775979\ttotal: 1.44s\tremaining: 176ms\n891:\tlearn: 0.2775487\ttotal: 1.44s\tremaining: 175ms\n892:\tlearn: 0.2774801\ttotal: 1.44s\tremaining: 173ms\n893:\tlearn: 0.2774306\ttotal: 1.45s\tremaining: 171ms\n894:\tlearn: 0.2773166\ttotal: 1.45s\tremaining: 170ms\n895:\tlearn: 0.2771934\ttotal: 1.45s\tremaining: 168ms\n896:\tlearn: 0.2771274\ttotal: 1.45s\tremaining: 166ms\n897:\tlearn: 0.2768457\ttotal: 1.45s\tremaining: 165ms\n898:\tlearn: 0.2766929\ttotal: 1.45s\tremaining: 163ms\n899:\tlearn: 0.2766016\ttotal: 1.45s\tremaining: 161ms\n900:\tlearn: 0.2764789\ttotal: 1.45s\tremaining: 160ms\n901:\tlearn: 0.2762331\ttotal: 1.46s\tremaining: 158ms\n902:\tlearn: 0.2761143\ttotal: 1.46s\tremaining: 156ms\n903:\tlearn: 0.2760557\ttotal: 1.46s\tremaining: 155ms\n904:\tlearn: 0.2759558\ttotal: 1.46s\tremaining: 153ms\n905:\tlearn: 0.2758748\ttotal: 1.46s\tremaining: 152ms\n906:\tlearn: 0.2758210\ttotal: 1.46s\tremaining: 150ms\n907:\tlearn: 0.2757586\ttotal: 1.46s\tremaining: 148ms\n908:\tlearn: 0.2757095\ttotal: 1.46s\tremaining: 147ms\n909:\tlearn: 0.2755895\ttotal: 1.46s\tremaining: 145ms\n910:\tlearn: 0.2755191\ttotal: 1.47s\tremaining: 143ms\n911:\tlearn: 0.2754401\ttotal: 1.47s\tremaining: 142ms\n912:\tlearn: 0.2753403\ttotal: 1.47s\tremaining: 140ms\n913:\tlearn: 0.2752679\ttotal: 1.47s\tremaining: 138ms\n914:\tlearn: 0.2752455\ttotal: 1.47s\tremaining: 137ms\n915:\tlearn: 0.2751509\ttotal: 1.47s\tremaining: 135ms\n916:\tlearn: 0.2750648\ttotal: 1.47s\tremaining: 133ms\n917:\tlearn: 0.2747208\ttotal: 1.47s\tremaining: 132ms\n918:\tlearn: 0.2746814\ttotal: 1.48s\tremaining: 130ms\n919:\tlearn: 0.2744927\ttotal: 1.48s\tremaining: 128ms\n920:\tlearn: 0.2744356\ttotal: 1.48s\tremaining: 127ms\n921:\tlearn: 0.2742691\ttotal: 1.48s\tremaining: 125ms\n922:\tlearn: 0.2741874\ttotal: 1.48s\tremaining: 124ms\n923:\tlearn: 0.2741017\ttotal: 1.48s\tremaining: 122ms\n924:\tlearn: 0.2740292\ttotal: 1.48s\tremaining: 120ms\n925:\tlearn: 0.2738126\ttotal: 1.48s\tremaining: 119ms\n926:\tlearn: 0.2737509\ttotal: 1.49s\tremaining: 117ms\n927:\tlearn: 0.2737158\ttotal: 1.49s\tremaining: 115ms\n928:\tlearn: 0.2736440\ttotal: 1.49s\tremaining: 114ms\n929:\tlearn: 0.2735116\ttotal: 1.49s\tremaining: 112ms\n930:\tlearn: 0.2734626\ttotal: 1.49s\tremaining: 111ms\n931:\tlearn: 0.2733401\ttotal: 1.49s\tremaining: 109ms\n932:\tlearn: 0.2732473\ttotal: 1.49s\tremaining: 107ms\n933:\tlearn: 0.2730946\ttotal: 1.49s\tremaining: 106ms\n934:\tlearn: 0.2730111\ttotal: 1.5s\tremaining: 104ms\n935:\tlearn: 0.2729040\ttotal: 1.5s\tremaining: 102ms\n936:\tlearn: 0.2728549\ttotal: 1.5s\tremaining: 101ms\n937:\tlearn: 0.2726513\ttotal: 1.5s\tremaining: 99.1ms\n938:\tlearn: 0.2726210\ttotal: 1.5s\tremaining: 97.4ms\n939:\tlearn: 0.2724092\ttotal: 1.5s\tremaining: 95.8ms\n940:\tlearn: 0.2722677\ttotal: 1.53s\tremaining: 96.1ms\n941:\tlearn: 0.2721277\ttotal: 1.53s\tremaining: 94.4ms\n942:\tlearn: 0.2721022\ttotal: 1.53s\tremaining: 92.8ms\n943:\tlearn: 0.2719924\ttotal: 1.53s\tremaining: 91.1ms\n944:\tlearn: 0.2718505\ttotal: 1.54s\tremaining: 89.5ms\n945:\tlearn: 0.2717995\ttotal: 1.54s\tremaining: 87.8ms\n946:\tlearn: 0.2716076\ttotal: 1.54s\tremaining: 86.1ms\n947:\tlearn: 0.2715255\ttotal: 1.54s\tremaining: 84.5ms\n948:\tlearn: 0.2714302\ttotal: 1.54s\tremaining: 82.9ms\n949:\tlearn: 0.2713656\ttotal: 1.54s\tremaining: 81.2ms\n950:\tlearn: 0.2712837\ttotal: 1.54s\tremaining: 79.6ms\n951:\tlearn: 0.2711417\ttotal: 1.54s\tremaining: 77.9ms\n952:\tlearn: 0.2711127\ttotal: 1.55s\tremaining: 76.3ms\n953:\tlearn: 0.2710529\ttotal: 1.55s\tremaining: 74.6ms\n954:\tlearn: 0.2709926\ttotal: 1.55s\tremaining: 73ms\n955:\tlearn: 0.2709397\ttotal: 1.55s\tremaining: 71.3ms\n956:\tlearn: 0.2708962\ttotal: 1.55s\tremaining: 69.7ms\n957:\tlearn: 0.2706518\ttotal: 1.55s\tremaining: 68ms\n958:\tlearn: 0.2705781\ttotal: 1.55s\tremaining: 66.4ms\n959:\tlearn: 0.2705245\ttotal: 1.55s\tremaining: 64.7ms\n960:\tlearn: 0.2704518\ttotal: 1.55s\tremaining: 63.1ms\n961:\tlearn: 0.2703966\ttotal: 1.55s\tremaining: 61.5ms\n962:\tlearn: 0.2703365\ttotal: 1.56s\tremaining: 59.8ms\n963:\tlearn: 0.2702909\ttotal: 1.56s\tremaining: 58.2ms\n964:\tlearn: 0.2702506\ttotal: 1.56s\tremaining: 56.6ms\n965:\tlearn: 0.2699829\ttotal: 1.56s\tremaining: 54.9ms\n966:\tlearn: 0.2698894\ttotal: 1.56s\tremaining: 53.3ms\n967:\tlearn: 0.2698451\ttotal: 1.56s\tremaining: 51.7ms\n968:\tlearn: 0.2697899\ttotal: 1.56s\tremaining: 50.1ms\n969:\tlearn: 0.2696508\ttotal: 1.56s\tremaining: 48.4ms\n970:\tlearn: 0.2696312\ttotal: 1.57s\tremaining: 46.8ms\n971:\tlearn: 0.2693249\ttotal: 1.57s\tremaining: 45.2ms\n972:\tlearn: 0.2693071\ttotal: 1.57s\tremaining: 43.6ms\n973:\tlearn: 0.2692565\ttotal: 1.57s\tremaining: 42ms\n974:\tlearn: 0.2692186\ttotal: 1.57s\tremaining: 40.3ms\n975:\tlearn: 0.2691444\ttotal: 1.57s\tremaining: 38.7ms\n976:\tlearn: 0.2690467\ttotal: 1.57s\tremaining: 37.1ms\n977:\tlearn: 0.2689968\ttotal: 1.58s\tremaining: 35.5ms\n978:\tlearn: 0.2689737\ttotal: 1.58s\tremaining: 33.8ms\n979:\tlearn: 0.2688402\ttotal: 1.58s\tremaining: 32.2ms\n980:\tlearn: 0.2687998\ttotal: 1.58s\tremaining: 30.6ms\n981:\tlearn: 0.2685743\ttotal: 1.58s\tremaining: 29ms\n982:\tlearn: 0.2684470\ttotal: 1.58s\tremaining: 27.4ms\n983:\tlearn: 0.2684019\ttotal: 1.58s\tremaining: 25.8ms\n984:\tlearn: 0.2682811\ttotal: 1.58s\tremaining: 24.1ms\n985:\tlearn: 0.2682074\ttotal: 1.59s\tremaining: 22.5ms\n986:\tlearn: 0.2680372\ttotal: 1.59s\tremaining: 20.9ms\n987:\tlearn: 0.2679886\ttotal: 1.59s\tremaining: 19.3ms\n988:\tlearn: 0.2679283\ttotal: 1.59s\tremaining: 17.7ms\n989:\tlearn: 0.2679076\ttotal: 1.59s\tremaining: 16.1ms\n990:\tlearn: 0.2678622\ttotal: 1.59s\tremaining: 14.5ms\n991:\tlearn: 0.2678052\ttotal: 1.59s\tremaining: 12.8ms\n992:\tlearn: 0.2677672\ttotal: 1.59s\tremaining: 11.2ms\n993:\tlearn: 0.2676282\ttotal: 1.59s\tremaining: 9.63ms\n994:\tlearn: 0.2675878\ttotal: 1.6s\tremaining: 8.03ms\n995:\tlearn: 0.2674725\ttotal: 1.6s\tremaining: 6.42ms\n996:\tlearn: 0.2674584\ttotal: 1.6s\tremaining: 4.81ms\n997:\tlearn: 0.2672036\ttotal: 1.63s\tremaining: 3.26ms\n998:\tlearn: 0.2671434\ttotal: 1.63s\tremaining: 1.63ms\n999:\tlearn: 0.2669541\ttotal: 1.63s\tremaining: 0us\n",
          "output_type": "stream"
        },
        {
          "output_type": "execute_result",
          "execution_count": 30,
          "data": {
            "text/plain": "<pandas.io.formats.style.Styler at 0x7efbff107d50>",
            "text/html": "<style  type=\"text/css\" >\n#T_5c72c_row0_col1{\n            width:  10em;\n             height:  80%;\n            background:  linear-gradient(90deg,#5fba7d 83.8%, transparent 83.8%);\n        }#T_5c72c_row0_col2{\n            width:  10em;\n             height:  80%;\n            background:  linear-gradient(90deg,#5fba7d 81.1%, transparent 81.1%);\n        }#T_5c72c_row1_col1{\n            width:  10em;\n             height:  80%;\n            background:  linear-gradient(90deg,#5fba7d 81.6%, transparent 81.6%);\n        }#T_5c72c_row1_col2{\n            width:  10em;\n             height:  80%;\n            background:  linear-gradient(90deg,#5fba7d 78.8%, transparent 78.8%);\n        }#T_5c72c_row2_col1,#T_5c72c_row3_col1{\n            width:  10em;\n             height:  80%;\n            background:  linear-gradient(90deg,#5fba7d 81.0%, transparent 81.0%);\n        }#T_5c72c_row2_col2,#T_5c72c_row3_col2{\n            width:  10em;\n             height:  80%;\n            background:  linear-gradient(90deg,#5fba7d 78.3%, transparent 78.3%);\n        }#T_5c72c_row4_col1{\n            width:  10em;\n             height:  80%;\n            background:  linear-gradient(90deg,#5fba7d 80.4%, transparent 80.4%);\n        }#T_5c72c_row4_col2{\n            width:  10em;\n             height:  80%;\n            background:  linear-gradient(90deg,#5fba7d 77.9%, transparent 77.9%);\n        }#T_5c72c_row5_col1{\n            width:  10em;\n             height:  80%;\n            background:  linear-gradient(90deg,#5fba7d 79.9%, transparent 79.9%);\n        }#T_5c72c_row5_col2{\n            width:  10em;\n             height:  80%;\n            background:  linear-gradient(90deg,#5fba7d 77.4%, transparent 77.4%);\n        }#T_5c72c_row6_col1{\n            width:  10em;\n             height:  80%;\n            background:  linear-gradient(90deg,#5fba7d 79.3%, transparent 79.3%);\n        }#T_5c72c_row6_col2{\n            width:  10em;\n             height:  80%;\n            background:  linear-gradient(90deg,#5fba7d 77.0%, transparent 77.0%);\n        }#T_5c72c_row7_col1,#T_5c72c_row8_col1{\n            width:  10em;\n             height:  80%;\n            background:  linear-gradient(90deg,#5fba7d 76.5%, transparent 76.5%);\n        }#T_5c72c_row7_col2{\n            width:  10em;\n             height:  80%;\n            background:  linear-gradient(90deg,#5fba7d 74.7%, transparent 74.7%);\n        }#T_5c72c_row8_col2{\n            width:  10em;\n             height:  80%;\n            background:  linear-gradient(90deg,#5fba7d 74.4%, transparent 74.4%);\n        }</style><table id=\"T_5c72c_\" ><thead>    <tr>        <th class=\"blank level0\" ></th>        <th class=\"col_heading level0 col0\" >Model</th>        <th class=\"col_heading level0 col1\" >Accuracy</th>        <th class=\"col_heading level0 col2\" >Bal Acc.</th>        <th class=\"col_heading level0 col3\" >Time</th>    </tr></thead><tbody>\n                <tr>\n                        <th id=\"T_5c72c_level0_row0\" class=\"row_heading level0 row0\" >1</th>\n                        <td id=\"T_5c72c_row0_col0\" class=\"data row0 col0\" >Skl GBM</td>\n                        <td id=\"T_5c72c_row0_col1\" class=\"data row0 col1\" >83.798883</td>\n                        <td id=\"T_5c72c_row0_col2\" class=\"data row0 col2\" >81.146245</td>\n                        <td id=\"T_5c72c_row0_col3\" class=\"data row0 col3\" >0.119104</td>\n            </tr>\n            <tr>\n                        <th id=\"T_5c72c_level0_row1\" class=\"row_heading level0 row1\" >2</th>\n                        <td id=\"T_5c72c_row1_col0\" class=\"data row1 col0\" >XGBoost</td>\n                        <td id=\"T_5c72c_row1_col1\" class=\"data row1 col1\" >81.564246</td>\n                        <td id=\"T_5c72c_row1_col2\" class=\"data row1 col2\" >78.787879</td>\n                        <td id=\"T_5c72c_row1_col3\" class=\"data row1 col3\" >18.383838</td>\n            </tr>\n            <tr>\n                        <th id=\"T_5c72c_level0_row2\" class=\"row_heading level0 row2\" >3</th>\n                        <td id=\"T_5c72c_row2_col0\" class=\"data row2 col0\" >LightGBM</td>\n                        <td id=\"T_5c72c_row2_col1\" class=\"data row2 col1\" >81.005587</td>\n                        <td id=\"T_5c72c_row2_col2\" class=\"data row2 col2\" >78.333333</td>\n                        <td id=\"T_5c72c_row2_col3\" class=\"data row2 col3\" >35.250910</td>\n            </tr>\n            <tr>\n                        <th id=\"T_5c72c_level0_row3\" class=\"row_heading level0 row3\" >4</th>\n                        <td id=\"T_5c72c_row3_col0\" class=\"data row3 col0\" >CatBoost</td>\n                        <td id=\"T_5c72c_row3_col1\" class=\"data row3 col1\" >81.005587</td>\n                        <td id=\"T_5c72c_row3_col2\" class=\"data row3 col2\" >78.333333</td>\n                        <td id=\"T_5c72c_row3_col3\" class=\"data row3 col3\" >1.821464</td>\n            </tr>\n            <tr>\n                        <th id=\"T_5c72c_level0_row4\" class=\"row_heading level0 row4\" >5</th>\n                        <td id=\"T_5c72c_row4_col0\" class=\"data row4 col0\" >Skl HistGBM</td>\n                        <td id=\"T_5c72c_row4_col1\" class=\"data row4 col1\" >80.446927</td>\n                        <td id=\"T_5c72c_row4_col2\" class=\"data row4 col2\" >77.878788</td>\n                        <td id=\"T_5c72c_row4_col3\" class=\"data row4 col3\" >196.454202</td>\n            </tr>\n            <tr>\n                        <th id=\"T_5c72c_level0_row5\" class=\"row_heading level0 row5\" >6</th>\n                        <td id=\"T_5c72c_row5_col0\" class=\"data row5 col0\" >AdaBoost</td>\n                        <td id=\"T_5c72c_row5_col1\" class=\"data row5 col1\" >79.888268</td>\n                        <td id=\"T_5c72c_row5_col2\" class=\"data row5 col2\" >77.424242</td>\n                        <td id=\"T_5c72c_row5_col3\" class=\"data row5 col3\" >0.096509</td>\n            </tr>\n            <tr>\n                        <th id=\"T_5c72c_level0_row6\" class=\"row_heading level0 row6\" >7</th>\n                        <td id=\"T_5c72c_row6_col0\" class=\"data row6 col0\" >Random Forest</td>\n                        <td id=\"T_5c72c_row6_col1\" class=\"data row6 col1\" >79.329609</td>\n                        <td id=\"T_5c72c_row6_col2\" class=\"data row6 col2\" >76.969697</td>\n                        <td id=\"T_5c72c_row6_col3\" class=\"data row6 col3\" >0.173134</td>\n            </tr>\n            <tr>\n                        <th id=\"T_5c72c_level0_row7\" class=\"row_heading level0 row7\" >8</th>\n                        <td id=\"T_5c72c_row7_col0\" class=\"data row7 col0\" >Decision Tree</td>\n                        <td id=\"T_5c72c_row7_col1\" class=\"data row7 col1\" >76.536313</td>\n                        <td id=\"T_5c72c_row7_col2\" class=\"data row7 col2\" >74.696970</td>\n                        <td id=\"T_5c72c_row7_col3\" class=\"data row7 col3\" >0.022945</td>\n            </tr>\n            <tr>\n                        <th id=\"T_5c72c_level0_row8\" class=\"row_heading level0 row8\" >9</th>\n                        <td id=\"T_5c72c_row8_col0\" class=\"data row8 col0\" >Extra Trees</td>\n                        <td id=\"T_5c72c_row8_col1\" class=\"data row8 col1\" >76.536313</td>\n                        <td id=\"T_5c72c_row8_col2\" class=\"data row8 col2\" >74.426877</td>\n                        <td id=\"T_5c72c_row8_col3\" class=\"data row8 col3\" >0.186384</td>\n            </tr>\n    </tbody></table>"
          },
          "metadata": {}
        }
      ]
    },
    {
      "cell_type": "code",
      "metadata": {
        "deletable": false,
        "editable": false,
        "nbgrader": {
          "cell_type": "code",
          "checksum": "dde6f91a6185745a813882e0c1f997bc",
          "grade": true,
          "grade_id": "cell-af27b33fe88ad384",
          "locked": true,
          "points": 3,
          "schema_version": 3,
          "solution": false,
          "task": false
        },
        "cell_id": "00033-a19f6118-bf13-4c7a-9cd7-07e7b86513c1",
        "deepnote_to_be_reexecuted": false,
        "source_hash": "c344ef58",
        "execution_start": 1620136606959,
        "execution_millis": 98,
        "deepnote_cell_type": "code"
      },
      "source": "assert results_ord[\"Accuracy\"].min() > 75\nassert results_ord[\"Bal Acc.\"].min() > 75\nassert len(results_ord) == 9",
      "execution_count": 31,
      "outputs": [
        {
          "output_type": "error",
          "ename": "AssertionError",
          "evalue": "",
          "traceback": [
            "\u001b[0;31m---------------------------------------------------------------------------\u001b[0m",
            "\u001b[0;31mAssertionError\u001b[0m                            Traceback (most recent call last)",
            "\u001b[0;32m<ipython-input-31-50685871c2e2>\u001b[0m in \u001b[0;36m<module>\u001b[0;34m\u001b[0m\n\u001b[1;32m      1\u001b[0m \u001b[0;32massert\u001b[0m \u001b[0mresults_ord\u001b[0m\u001b[0;34m[\u001b[0m\u001b[0;34m\"Accuracy\"\u001b[0m\u001b[0;34m]\u001b[0m\u001b[0;34m.\u001b[0m\u001b[0mmin\u001b[0m\u001b[0;34m(\u001b[0m\u001b[0;34m)\u001b[0m \u001b[0;34m>\u001b[0m \u001b[0;36m75\u001b[0m\u001b[0;34m\u001b[0m\u001b[0;34m\u001b[0m\u001b[0m\n\u001b[0;32m----> 2\u001b[0;31m \u001b[0;32massert\u001b[0m \u001b[0mresults_ord\u001b[0m\u001b[0;34m[\u001b[0m\u001b[0;34m\"Bal Acc.\"\u001b[0m\u001b[0;34m]\u001b[0m\u001b[0;34m.\u001b[0m\u001b[0mmin\u001b[0m\u001b[0;34m(\u001b[0m\u001b[0;34m)\u001b[0m \u001b[0;34m>\u001b[0m \u001b[0;36m75\u001b[0m\u001b[0;34m\u001b[0m\u001b[0;34m\u001b[0m\u001b[0m\n\u001b[0m\u001b[1;32m      3\u001b[0m \u001b[0;32massert\u001b[0m \u001b[0mlen\u001b[0m\u001b[0;34m(\u001b[0m\u001b[0mresults_ord\u001b[0m\u001b[0;34m)\u001b[0m \u001b[0;34m==\u001b[0m \u001b[0;36m9\u001b[0m\u001b[0;34m\u001b[0m\u001b[0;34m\u001b[0m\u001b[0m\n",
            "\u001b[0;31mAssertionError\u001b[0m: "
          ]
        }
      ]
    },
    {
      "cell_type": "markdown",
      "source": "# Exercise 6 (3pts):\nDefine a 10 Fold cross validation strategy with:\n- With stratification\n- shuffle=True\n- random_state=0\n\nAnd train all the models in a for loop.\n\nTip you can use **[cross_val_predict](https://scikit-learn.org/stable/modules/generated/sklearn.model_selection.cross_val_predict.html)** for both training and predict with ",
      "metadata": {
        "cell_id": "00034-b6d22eb5-2adb-4356-ac61-e42877b7b2d0",
        "deepnote_cell_type": "markdown"
      }
    },
    {
      "cell_type": "code",
      "metadata": {
        "deletable": false,
        "nbgrader": {
          "cell_type": "code",
          "checksum": "b9238f7916249fc81179a78b5492e5d4",
          "grade": false,
          "grade_id": "cell-37bf16dc25b43732",
          "locked": false,
          "schema_version": 3,
          "solution": true,
          "task": false
        },
        "cell_id": "00035-e39ce818-4fbb-40f4-b222-7cc38dd9faaa",
        "deepnote_to_be_reexecuted": false,
        "source_hash": "ea153000",
        "execution_start": 1620136902907,
        "execution_millis": 3591,
        "deepnote_cell_type": "code"
      },
      "source": "\"\"\"\nskf = model_selection.StratifiedKFold(\n    # CODE HERE\n)\n\"\"\"\n# YOUR CODE HERE\nskf = model_selection.StratifiedKFold(\n    random_state = 0, n_splits=10, shuffle=True\n)\n\n\nresults = pd.DataFrame({'Model': [], 'Accuracy': [], 'Bal Acc.': [], 'Time': []})\n\n\"\"\"\nfor model_name, model in tree_classifiers.items():\n    start_time = time.time()\n        \n    # TRAIN AND GET PREDICTIONS USING cross_val_predict() and x,y\n    pred = # CODE HERE\n\n    total_time = time.time() - start_time\n\n    results = results.append({\"Model\":    model_name,\n                              \"Accuracy\": metrics.accuracy_score(y_val, pred)*100,\n                              \"Bal Acc.\": metrics.balanced_accuracy_score(y_val, pred)*100,\n                              \"Time\":     total_time},\n                              ignore_index=True)\n                              \n                              \n\"\"\"\n\n# YOUR CODE HERE\nfor model_name, model in tree_classifiers.items():\n    start_time = time.time()\n        \n    # TRAIN AND GET PREDICTIONS USING cross_val_predict() and x,y\n    pred = model.predict(x_val)\n\n    total_time = time.time() - start_time\n\n    results = results.append({\"Model\":    model_name,\n                              \"Accuracy\": metrics.accuracy_score(y_val, pred)*100,\n                              \"Bal Acc.\": metrics.balanced_accuracy_score(y_val, pred)*100,\n                              \"Time\":     total_time},\n                              ignore_index=True)\n\nresults_ord = results.sort_values(by=['Accuracy'], ascending=False, ignore_index=True)\nresults_ord.index += 1 \nresults_ord.style.bar(subset=['Accuracy', 'Bal Acc.'], vmin=0, vmax=100, color='#5fba7d')",
      "execution_count": 33,
      "outputs": [
        {
          "output_type": "execute_result",
          "execution_count": 33,
          "data": {
            "text/plain": "<pandas.io.formats.style.Styler at 0x7efbff1078d0>",
            "text/html": "<style  type=\"text/css\" >\n#T_fb713_row0_col1{\n            width:  10em;\n             height:  80%;\n            background:  linear-gradient(90deg,#5fba7d 83.8%, transparent 83.8%);\n        }#T_fb713_row0_col2{\n            width:  10em;\n             height:  80%;\n            background:  linear-gradient(90deg,#5fba7d 81.1%, transparent 81.1%);\n        }#T_fb713_row1_col1{\n            width:  10em;\n             height:  80%;\n            background:  linear-gradient(90deg,#5fba7d 81.6%, transparent 81.6%);\n        }#T_fb713_row1_col2{\n            width:  10em;\n             height:  80%;\n            background:  linear-gradient(90deg,#5fba7d 78.8%, transparent 78.8%);\n        }#T_fb713_row2_col1,#T_fb713_row3_col1{\n            width:  10em;\n             height:  80%;\n            background:  linear-gradient(90deg,#5fba7d 81.0%, transparent 81.0%);\n        }#T_fb713_row2_col2,#T_fb713_row3_col2{\n            width:  10em;\n             height:  80%;\n            background:  linear-gradient(90deg,#5fba7d 78.3%, transparent 78.3%);\n        }#T_fb713_row4_col1{\n            width:  10em;\n             height:  80%;\n            background:  linear-gradient(90deg,#5fba7d 80.4%, transparent 80.4%);\n        }#T_fb713_row4_col2{\n            width:  10em;\n             height:  80%;\n            background:  linear-gradient(90deg,#5fba7d 77.9%, transparent 77.9%);\n        }#T_fb713_row5_col1{\n            width:  10em;\n             height:  80%;\n            background:  linear-gradient(90deg,#5fba7d 79.9%, transparent 79.9%);\n        }#T_fb713_row5_col2{\n            width:  10em;\n             height:  80%;\n            background:  linear-gradient(90deg,#5fba7d 77.4%, transparent 77.4%);\n        }#T_fb713_row6_col1{\n            width:  10em;\n             height:  80%;\n            background:  linear-gradient(90deg,#5fba7d 79.3%, transparent 79.3%);\n        }#T_fb713_row6_col2{\n            width:  10em;\n             height:  80%;\n            background:  linear-gradient(90deg,#5fba7d 77.0%, transparent 77.0%);\n        }#T_fb713_row7_col1,#T_fb713_row8_col1{\n            width:  10em;\n             height:  80%;\n            background:  linear-gradient(90deg,#5fba7d 76.5%, transparent 76.5%);\n        }#T_fb713_row7_col2{\n            width:  10em;\n             height:  80%;\n            background:  linear-gradient(90deg,#5fba7d 74.7%, transparent 74.7%);\n        }#T_fb713_row8_col2{\n            width:  10em;\n             height:  80%;\n            background:  linear-gradient(90deg,#5fba7d 74.4%, transparent 74.4%);\n        }</style><table id=\"T_fb713_\" ><thead>    <tr>        <th class=\"blank level0\" ></th>        <th class=\"col_heading level0 col0\" >Model</th>        <th class=\"col_heading level0 col1\" >Accuracy</th>        <th class=\"col_heading level0 col2\" >Bal Acc.</th>        <th class=\"col_heading level0 col3\" >Time</th>    </tr></thead><tbody>\n                <tr>\n                        <th id=\"T_fb713_level0_row0\" class=\"row_heading level0 row0\" >1</th>\n                        <td id=\"T_fb713_row0_col0\" class=\"data row0 col0\" >Skl GBM</td>\n                        <td id=\"T_fb713_row0_col1\" class=\"data row0 col1\" >83.798883</td>\n                        <td id=\"T_fb713_row0_col2\" class=\"data row0 col2\" >81.146245</td>\n                        <td id=\"T_fb713_row0_col3\" class=\"data row0 col3\" >0.009002</td>\n            </tr>\n            <tr>\n                        <th id=\"T_fb713_level0_row1\" class=\"row_heading level0 row1\" >2</th>\n                        <td id=\"T_fb713_row1_col0\" class=\"data row1 col0\" >XGBoost</td>\n                        <td id=\"T_fb713_row1_col1\" class=\"data row1 col1\" >81.564246</td>\n                        <td id=\"T_fb713_row1_col2\" class=\"data row1 col2\" >78.787879</td>\n                        <td id=\"T_fb713_row1_col3\" class=\"data row1 col3\" >0.041906</td>\n            </tr>\n            <tr>\n                        <th id=\"T_fb713_level0_row2\" class=\"row_heading level0 row2\" >3</th>\n                        <td id=\"T_fb713_row2_col0\" class=\"data row2 col0\" >LightGBM</td>\n                        <td id=\"T_fb713_row2_col1\" class=\"data row2 col1\" >81.005587</td>\n                        <td id=\"T_fb713_row2_col2\" class=\"data row2 col2\" >78.333333</td>\n                        <td id=\"T_fb713_row2_col3\" class=\"data row2 col3\" >0.048911</td>\n            </tr>\n            <tr>\n                        <th id=\"T_fb713_level0_row3\" class=\"row_heading level0 row3\" >4</th>\n                        <td id=\"T_fb713_row3_col0\" class=\"data row3 col0\" >CatBoost</td>\n                        <td id=\"T_fb713_row3_col1\" class=\"data row3 col1\" >81.005587</td>\n                        <td id=\"T_fb713_row3_col2\" class=\"data row3 col2\" >78.333333</td>\n                        <td id=\"T_fb713_row3_col3\" class=\"data row3 col3\" >0.010845</td>\n            </tr>\n            <tr>\n                        <th id=\"T_fb713_level0_row4\" class=\"row_heading level0 row4\" >5</th>\n                        <td id=\"T_fb713_row4_col0\" class=\"data row4 col0\" >Skl HistGBM</td>\n                        <td id=\"T_fb713_row4_col1\" class=\"data row4 col1\" >80.446927</td>\n                        <td id=\"T_fb713_row4_col2\" class=\"data row4 col2\" >77.878788</td>\n                        <td id=\"T_fb713_row4_col3\" class=\"data row4 col3\" >3.329103</td>\n            </tr>\n            <tr>\n                        <th id=\"T_fb713_level0_row5\" class=\"row_heading level0 row5\" >6</th>\n                        <td id=\"T_fb713_row5_col0\" class=\"data row5 col0\" >AdaBoost</td>\n                        <td id=\"T_fb713_row5_col1\" class=\"data row5 col1\" >79.888268</td>\n                        <td id=\"T_fb713_row5_col2\" class=\"data row5 col2\" >77.424242</td>\n                        <td id=\"T_fb713_row5_col3\" class=\"data row5 col3\" >0.022152</td>\n            </tr>\n            <tr>\n                        <th id=\"T_fb713_level0_row6\" class=\"row_heading level0 row6\" >7</th>\n                        <td id=\"T_fb713_row6_col0\" class=\"data row6 col0\" >Random Forest</td>\n                        <td id=\"T_fb713_row6_col1\" class=\"data row6 col1\" >79.329609</td>\n                        <td id=\"T_fb713_row6_col2\" class=\"data row6 col2\" >76.969697</td>\n                        <td id=\"T_fb713_row6_col3\" class=\"data row6 col3\" >0.027835</td>\n            </tr>\n            <tr>\n                        <th id=\"T_fb713_level0_row7\" class=\"row_heading level0 row7\" >8</th>\n                        <td id=\"T_fb713_row7_col0\" class=\"data row7 col0\" >Decision Tree</td>\n                        <td id=\"T_fb713_row7_col1\" class=\"data row7 col1\" >76.536313</td>\n                        <td id=\"T_fb713_row7_col2\" class=\"data row7 col2\" >74.696970</td>\n                        <td id=\"T_fb713_row7_col3\" class=\"data row7 col3\" >0.007794</td>\n            </tr>\n            <tr>\n                        <th id=\"T_fb713_level0_row8\" class=\"row_heading level0 row8\" >9</th>\n                        <td id=\"T_fb713_row8_col0\" class=\"data row8 col0\" >Extra Trees</td>\n                        <td id=\"T_fb713_row8_col1\" class=\"data row8 col1\" >76.536313</td>\n                        <td id=\"T_fb713_row8_col2\" class=\"data row8 col2\" >74.426877</td>\n                        <td id=\"T_fb713_row8_col3\" class=\"data row8 col3\" >0.029916</td>\n            </tr>\n    </tbody></table>"
          },
          "metadata": {}
        }
      ]
    },
    {
      "cell_type": "code",
      "metadata": {
        "deletable": false,
        "editable": false,
        "nbgrader": {
          "cell_type": "code",
          "checksum": "355f8e8321aae7be679a8d16b25172f2",
          "grade": true,
          "grade_id": "cell-57cc085faad513cf",
          "locked": true,
          "points": 3,
          "schema_version": 3,
          "solution": false,
          "task": false
        },
        "cell_id": "00036-22e6a2a6-ff6d-48a8-b5b5-a0f1ce7722ea",
        "deepnote_to_be_reexecuted": true,
        "source_hash": "c344ef58",
        "deepnote_cell_type": "code"
      },
      "source": "assert results_ord[\"Accuracy\"].min() > 75\nassert results_ord[\"Bal Acc.\"].min() > 75\nassert len(results_ord) == 9",
      "execution_count": null,
      "outputs": []
    },
    {
      "cell_type": "markdown",
      "source": "# Exercise 7.1\nTrain with all data the best model",
      "metadata": {
        "cell_id": "00037-7c71fa71-c945-4e55-9baf-f1c301cff5af",
        "deepnote_cell_type": "markdown"
      }
    },
    {
      "cell_type": "code",
      "metadata": {
        "colab": {},
        "colab_type": "code",
        "deletable": false,
        "id": "monuuQhHL7B_",
        "nbgrader": {
          "cell_type": "code",
          "checksum": "088ae511ec2eb947de2bff002e75d460",
          "grade": false,
          "grade_id": "cell-031a656e1e811717",
          "locked": false,
          "schema_version": 3,
          "solution": true,
          "task": false
        },
        "cell_id": "00038-515133e3-c2c2-45e8-9b6b-06f6932ffeae",
        "deepnote_to_be_reexecuted": false,
        "source_hash": "5aaec470",
        "execution_start": 1620136952268,
        "execution_millis": 234,
        "deepnote_cell_type": "code"
      },
      "source": "# best_model = tree_classifiers[\"SELECT MY BEST MODEL HERE\"]\n\n# Fit best model with all data\n\n# YOUR CODE HERE\nbest_model = tree_classifiers[\"Skl GBM\"]\nbest_model.fit(x_train, y_train)",
      "execution_count": 34,
      "outputs": [
        {
          "output_type": "execute_result",
          "execution_count": 34,
          "data": {
            "text/plain": "Pipeline(steps=[('columntransformer',\n                 ColumnTransformer(transformers=[('num',\n                                                  Pipeline(steps=[('imputer',\n                                                                   SimpleImputer())]),\n                                                  ['Pclass', 'SibSp', 'Parch',\n                                                   'Fare', 'Age']),\n                                                 ('cat',\n                                                  Pipeline(steps=[('imputer',\n                                                                   SimpleImputer(fill_value='missing',\n                                                                                 strategy='constant')),\n                                                                  ('onehot',\n                                                                   OneHotEncoder(handle_unknown='ignore'))]),\n                                                  ['Sex', 'Embarked',\n                                                   'Title'])])),\n                ('gradientboostingclassifier',\n                 GradientBoostingClassifier(random_state=0))])",
            "text/html": "<style>div.sk-top-container {color: black;background-color: white;}div.sk-toggleable {background-color: white;}label.sk-toggleable__label {cursor: pointer;display: block;width: 100%;margin-bottom: 0;padding: 0.2em 0.3em;box-sizing: border-box;text-align: center;}div.sk-toggleable__content {max-height: 0;max-width: 0;overflow: hidden;text-align: left;background-color: #f0f8ff;}div.sk-toggleable__content pre {margin: 0.2em;color: black;border-radius: 0.25em;background-color: #f0f8ff;}input.sk-toggleable__control:checked~div.sk-toggleable__content {max-height: 200px;max-width: 100%;overflow: auto;}div.sk-estimator input.sk-toggleable__control:checked~label.sk-toggleable__label {background-color: #d4ebff;}div.sk-label input.sk-toggleable__control:checked~label.sk-toggleable__label {background-color: #d4ebff;}input.sk-hidden--visually {border: 0;clip: rect(1px 1px 1px 1px);clip: rect(1px, 1px, 1px, 1px);height: 1px;margin: -1px;overflow: hidden;padding: 0;position: absolute;width: 1px;}div.sk-estimator {font-family: monospace;background-color: #f0f8ff;margin: 0.25em 0.25em;border: 1px dotted black;border-radius: 0.25em;box-sizing: border-box;}div.sk-estimator:hover {background-color: #d4ebff;}div.sk-parallel-item::after {content: \"\";width: 100%;border-bottom: 1px solid gray;flex-grow: 1;}div.sk-label:hover label.sk-toggleable__label {background-color: #d4ebff;}div.sk-serial::before {content: \"\";position: absolute;border-left: 1px solid gray;box-sizing: border-box;top: 2em;bottom: 0;left: 50%;}div.sk-serial {display: flex;flex-direction: column;align-items: center;background-color: white;}div.sk-item {z-index: 1;}div.sk-parallel {display: flex;align-items: stretch;justify-content: center;background-color: white;}div.sk-parallel-item {display: flex;flex-direction: column;position: relative;background-color: white;}div.sk-parallel-item:first-child::after {align-self: flex-end;width: 50%;}div.sk-parallel-item:last-child::after {align-self: flex-start;width: 50%;}div.sk-parallel-item:only-child::after {width: 0;}div.sk-dashed-wrapped {border: 1px dashed gray;margin: 0.2em;box-sizing: border-box;padding-bottom: 0.1em;background-color: white;position: relative;}div.sk-label label {font-family: monospace;font-weight: bold;background-color: white;display: inline-block;line-height: 1.2em;}div.sk-label-container {position: relative;z-index: 2;text-align: center;}div.sk-container {display: inline-block;position: relative;}</style><div class=\"sk-top-container\"><div class=\"sk-container\"><div class=\"sk-item sk-dashed-wrapped\"><div class=\"sk-label-container\"><div class=\"sk-label sk-toggleable\"><input class=\"sk-toggleable__control sk-hidden--visually\" id=\"d992e210-0425-4bee-a505-944aed60d5ae\" type=\"checkbox\" ><label class=\"sk-toggleable__label\" for=\"d992e210-0425-4bee-a505-944aed60d5ae\">Pipeline</label><div class=\"sk-toggleable__content\"><pre>Pipeline(steps=[('columntransformer',\n                 ColumnTransformer(transformers=[('num',\n                                                  Pipeline(steps=[('imputer',\n                                                                   SimpleImputer())]),\n                                                  ['Pclass', 'SibSp', 'Parch',\n                                                   'Fare', 'Age']),\n                                                 ('cat',\n                                                  Pipeline(steps=[('imputer',\n                                                                   SimpleImputer(fill_value='missing',\n                                                                                 strategy='constant')),\n                                                                  ('onehot',\n                                                                   OneHotEncoder(handle_unknown='ignore'))]),\n                                                  ['Sex', 'Embarked',\n                                                   'Title'])])),\n                ('gradientboostingclassifier',\n                 GradientBoostingClassifier(random_state=0))])</pre></div></div></div><div class=\"sk-serial\"><div class=\"sk-item sk-dashed-wrapped\"><div class=\"sk-label-container\"><div class=\"sk-label sk-toggleable\"><input class=\"sk-toggleable__control sk-hidden--visually\" id=\"e231b182-9098-407c-8563-f1c7ce09b8e7\" type=\"checkbox\" ><label class=\"sk-toggleable__label\" for=\"e231b182-9098-407c-8563-f1c7ce09b8e7\">columntransformer: ColumnTransformer</label><div class=\"sk-toggleable__content\"><pre>ColumnTransformer(transformers=[('num',\n                                 Pipeline(steps=[('imputer', SimpleImputer())]),\n                                 ['Pclass', 'SibSp', 'Parch', 'Fare', 'Age']),\n                                ('cat',\n                                 Pipeline(steps=[('imputer',\n                                                  SimpleImputer(fill_value='missing',\n                                                                strategy='constant')),\n                                                 ('onehot',\n                                                  OneHotEncoder(handle_unknown='ignore'))]),\n                                 ['Sex', 'Embarked', 'Title'])])</pre></div></div></div><div class=\"sk-parallel\"><div class=\"sk-parallel-item\"><div class=\"sk-item\"><div class=\"sk-label-container\"><div class=\"sk-label sk-toggleable\"><input class=\"sk-toggleable__control sk-hidden--visually\" id=\"09669091-7b26-42a8-bf96-1920fed4588e\" type=\"checkbox\" ><label class=\"sk-toggleable__label\" for=\"09669091-7b26-42a8-bf96-1920fed4588e\">num</label><div class=\"sk-toggleable__content\"><pre>['Pclass', 'SibSp', 'Parch', 'Fare', 'Age']</pre></div></div></div><div class=\"sk-serial\"><div class=\"sk-item\"><div class=\"sk-serial\"><div class=\"sk-item\"><div class=\"sk-estimator sk-toggleable\"><input class=\"sk-toggleable__control sk-hidden--visually\" id=\"a9be6b92-d82f-4f2d-b815-81277698d6ce\" type=\"checkbox\" ><label class=\"sk-toggleable__label\" for=\"a9be6b92-d82f-4f2d-b815-81277698d6ce\">SimpleImputer</label><div class=\"sk-toggleable__content\"><pre>SimpleImputer()</pre></div></div></div></div></div></div></div></div><div class=\"sk-parallel-item\"><div class=\"sk-item\"><div class=\"sk-label-container\"><div class=\"sk-label sk-toggleable\"><input class=\"sk-toggleable__control sk-hidden--visually\" id=\"208e0794-5a61-46ef-97b9-781279762b0e\" type=\"checkbox\" ><label class=\"sk-toggleable__label\" for=\"208e0794-5a61-46ef-97b9-781279762b0e\">cat</label><div class=\"sk-toggleable__content\"><pre>['Sex', 'Embarked', 'Title']</pre></div></div></div><div class=\"sk-serial\"><div class=\"sk-item\"><div class=\"sk-serial\"><div class=\"sk-item\"><div class=\"sk-estimator sk-toggleable\"><input class=\"sk-toggleable__control sk-hidden--visually\" id=\"ca3d2ef7-75df-448c-be41-c37e868c1c6f\" type=\"checkbox\" ><label class=\"sk-toggleable__label\" for=\"ca3d2ef7-75df-448c-be41-c37e868c1c6f\">SimpleImputer</label><div class=\"sk-toggleable__content\"><pre>SimpleImputer(fill_value='missing', strategy='constant')</pre></div></div></div><div class=\"sk-item\"><div class=\"sk-estimator sk-toggleable\"><input class=\"sk-toggleable__control sk-hidden--visually\" id=\"37735616-64d7-4288-967f-6190da34bbe2\" type=\"checkbox\" ><label class=\"sk-toggleable__label\" for=\"37735616-64d7-4288-967f-6190da34bbe2\">OneHotEncoder</label><div class=\"sk-toggleable__content\"><pre>OneHotEncoder(handle_unknown='ignore')</pre></div></div></div></div></div></div></div></div></div></div><div class=\"sk-item\"><div class=\"sk-estimator sk-toggleable\"><input class=\"sk-toggleable__control sk-hidden--visually\" id=\"7bcc197d-7092-45f4-a16a-a459439317d5\" type=\"checkbox\" ><label class=\"sk-toggleable__label\" for=\"7bcc197d-7092-45f4-a16a-a459439317d5\">GradientBoostingClassifier</label><div class=\"sk-toggleable__content\"><pre>GradientBoostingClassifier(random_state=0)</pre></div></div></div></div></div></div></div>"
          },
          "metadata": {}
        }
      ]
    },
    {
      "cell_type": "markdown",
      "source": "# Exercise 7.2 (2pts)\nWith your best model, generate the predicitions for test data (x_test)",
      "metadata": {
        "cell_id": "00039-a45fd975-6d3a-4aeb-ab0a-ebe3397e2ce0",
        "deepnote_cell_type": "markdown"
      }
    },
    {
      "cell_type": "code",
      "metadata": {
        "deletable": false,
        "nbgrader": {
          "cell_type": "code",
          "checksum": "031ab122b02b5833236370a53d148daf",
          "grade": false,
          "grade_id": "cell-44b93a0dbd4eb6fc",
          "locked": false,
          "schema_version": 3,
          "solution": true,
          "task": false
        },
        "cell_id": "00040-092bd4d9-7180-4549-be65-76d67abdbc04",
        "deepnote_to_be_reexecuted": false,
        "source_hash": "7300252a",
        "execution_start": 1620136973222,
        "execution_millis": 8,
        "deepnote_cell_type": "code"
      },
      "source": "# test_pred = # Get the predictions for x_test\n\n# YOUR CODE HERE\ntest_pred = best_model.predict(x_test)",
      "execution_count": 35,
      "outputs": []
    },
    {
      "cell_type": "code",
      "metadata": {
        "deletable": false,
        "editable": false,
        "nbgrader": {
          "cell_type": "code",
          "checksum": "180b37cf4a0276bdf509220b1706a8aa",
          "grade": true,
          "grade_id": "cell-a29fc8d24284520e",
          "locked": true,
          "points": 2,
          "schema_version": 3,
          "solution": false,
          "task": false
        },
        "cell_id": "00041-50af59ab-0318-4b4b-9c1c-c8555e333ce9",
        "deepnote_to_be_reexecuted": false,
        "source_hash": "9e8127cf",
        "execution_start": 1620136975085,
        "execution_millis": 4,
        "deepnote_cell_type": "code"
      },
      "source": "assert len(test_pred) == 418\nassert np.unique(test_pred).tolist() == [0,1]",
      "execution_count": 36,
      "outputs": []
    },
    {
      "cell_type": "markdown",
      "source": "# Exercise 7.3\n\nSubmit to kaggle.\n\n- You can use the kaggle command line app. Check https://github.com/Kaggle/kaggle-api",
      "metadata": {
        "cell_id": "00042-65f6b56d-f767-4417-bb17-7d5302cb6c64",
        "deepnote_cell_type": "markdown"
      }
    },
    {
      "cell_type": "code",
      "metadata": {
        "cell_id": "00043-7ed29746-eaa8-4bcf-8825-a8b8a19a4bee",
        "deepnote_to_be_reexecuted": false,
        "source_hash": "82f8bb8f",
        "execution_start": 1620137057652,
        "execution_millis": 68,
        "deepnote_cell_type": "code"
      },
      "source": "sub = pd.DataFrame(test_pred, index=x_test.index, columns=[\"Survived\"])\nsub.head()",
      "execution_count": 37,
      "outputs": [
        {
          "output_type": "execute_result",
          "execution_count": 37,
          "data": {
            "application/vnd.deepnote.dataframe.v2+json": {
              "row_count": 5,
              "column_count": 1,
              "columns": [
                {
                  "name": "Survived",
                  "dtype": "int64",
                  "stats": {
                    "unique_count": 2,
                    "nan_count": 0,
                    "min": "0",
                    "max": "1",
                    "histogram": [
                      {
                        "bin_start": 0,
                        "bin_end": 0.1,
                        "count": 4
                      },
                      {
                        "bin_start": 0.1,
                        "bin_end": 0.2,
                        "count": 0
                      },
                      {
                        "bin_start": 0.2,
                        "bin_end": 0.30000000000000004,
                        "count": 0
                      },
                      {
                        "bin_start": 0.30000000000000004,
                        "bin_end": 0.4,
                        "count": 0
                      },
                      {
                        "bin_start": 0.4,
                        "bin_end": 0.5,
                        "count": 0
                      },
                      {
                        "bin_start": 0.5,
                        "bin_end": 0.6000000000000001,
                        "count": 0
                      },
                      {
                        "bin_start": 0.6000000000000001,
                        "bin_end": 0.7000000000000001,
                        "count": 0
                      },
                      {
                        "bin_start": 0.7000000000000001,
                        "bin_end": 0.8,
                        "count": 0
                      },
                      {
                        "bin_start": 0.8,
                        "bin_end": 0.9,
                        "count": 0
                      },
                      {
                        "bin_start": 0.9,
                        "bin_end": 1,
                        "count": 1
                      }
                    ]
                  }
                },
                {
                  "name": "_deepnote_index_column",
                  "dtype": "int64"
                }
              ],
              "rows_top": [
                {
                  "Survived": 0,
                  "_deepnote_index_column": 892
                },
                {
                  "Survived": 0,
                  "_deepnote_index_column": 893
                },
                {
                  "Survived": 0,
                  "_deepnote_index_column": 894
                },
                {
                  "Survived": 0,
                  "_deepnote_index_column": 895
                },
                {
                  "Survived": 1,
                  "_deepnote_index_column": 896
                }
              ],
              "rows_bottom": null
            },
            "text/plain": "             Survived\nPassengerId          \n892                 0\n893                 0\n894                 0\n895                 0\n896                 1",
            "text/html": "<div>\n<style scoped>\n    .dataframe tbody tr th:only-of-type {\n        vertical-align: middle;\n    }\n\n    .dataframe tbody tr th {\n        vertical-align: top;\n    }\n\n    .dataframe thead th {\n        text-align: right;\n    }\n</style>\n<table border=\"1\" class=\"dataframe\">\n  <thead>\n    <tr style=\"text-align: right;\">\n      <th></th>\n      <th>Survived</th>\n    </tr>\n    <tr>\n      <th>PassengerId</th>\n      <th></th>\n    </tr>\n  </thead>\n  <tbody>\n    <tr>\n      <th>892</th>\n      <td>0</td>\n    </tr>\n    <tr>\n      <th>893</th>\n      <td>0</td>\n    </tr>\n    <tr>\n      <th>894</th>\n      <td>0</td>\n    </tr>\n    <tr>\n      <th>895</th>\n      <td>0</td>\n    </tr>\n    <tr>\n      <th>896</th>\n      <td>1</td>\n    </tr>\n  </tbody>\n</table>\n</div>"
          },
          "metadata": {}
        }
      ]
    },
    {
      "cell_type": "code",
      "metadata": {
        "cell_id": "00044-b17d8769-17d6-40e9-8a8c-2306cf7a9fe2",
        "deepnote_to_be_reexecuted": false,
        "source_hash": "d25356f7",
        "execution_start": 1620137060728,
        "execution_millis": 13,
        "deepnote_cell_type": "code"
      },
      "source": "sub.to_csv(\"sub.csv\")",
      "execution_count": 38,
      "outputs": []
    },
    {
      "cell_type": "code",
      "metadata": {
        "cell_id": "00045-0fc95f89-6606-47da-a0b9-ff8c31066321",
        "deepnote_to_be_reexecuted": true,
        "source_hash": "c64add6f",
        "deepnote_cell_type": "code"
      },
      "source": "!kaggle competitions submit -c titanic -f sub.csv -m \"My submission message\"",
      "execution_count": null,
      "outputs": []
    },
    {
      "cell_type": "markdown",
      "source": "\n### Practical case\n\nConsider the following dataset: [San Francisco Building Permits](https://www.kaggle.com/aparnashastry/building-permit-applications-data). Look at the columns \"Street Number Suffix\" and \"Zipcode\". Both of these contain missing values.\n\n- Which, if either, are missing because they don't exist?\n- Which, if either, are missing because they weren't recorded?\n\nHint: Do all addresses generally have a street number suffix? Do all addresses generally have a zipcode?\n\n\n\n| Var # |  NaN % | Var name                               | Var Description                                    |\n|------:|-------:|:---------------------------------------|:---------------------------------------------------|\n|     1 |      0 | Permit Number                          | Number assigned while filing                       |\n|     2 |      0 | Permit Type                            | Type of the permit represented numerically.        |\n|     3 |      0 | Permit Type Definition    | Description of the Permit type, for example new construction, alterations |\n|     4 |      0 | Permit Creation Date      | Date on which permit created, later than or same as filing date           |\n|     5 |      0 | Block                                  | Related to address                                 |\n|     6 |      0 | Lot                                    | Related to address                                 |\n|     7 |      0 | Street Number                          | Related to address                                 |\n|     8 | 98.885 | **Street Number Suffix**               | Related to address                                 |\n|     9 |      0 | Street Name                            | Related to address                                 |\n|    10 |  1.391 | Street Name Suffix                     | Related to address                                 |\n|    11 | 85.178 | Unit                                   | Unit of a building                                 |\n|    12 | 99.014 | Unit suffix                            | Suffix if any, for the unit                        |\n|    13 |  0.145 | Description         | Details about purpose of the permit. Example: reroofing, bathroom renovation     |\n|    14 |      0 | Current Status                         | Current status of the permit application.          |\n|    15 |      0 | Current Status Date                    | Date at which current status was entered           |\n|    16 |      0 | Filed Date                             | Filed date for the permit                          |\n|    17 |  7.511 | Issued Date                            | Issued date for the permit                         |\n|    18 | 51.135 | Completed Date  | The date on which project was completed, applicable if Current Status = “completed”   |\n|    19 |  7.514 | First Construction Document Date       | Date on which construction was documented          |\n|    20 | 96.519 | Structural Notification                | Notification to meet some legal need, given or not |\n|    21 | 21.510 | Number of Existing Stories | Num of existing stories in the building. Not applicable for certain permit types|\n|    22 | 21.552 | Number of Proposed Stories             | Number of proposed stories for the construction/alteration    |\n|    23 | 99.982 | Voluntary Soft-Story Retrofit          | Soft story to meet earth quake regulations      |\n|    24 | 90.534 | Fire Only Permit                       | Fire hazard prevention related permit           |\n|    25 | 26.083 | Permit Expiration Date                 | Expiration date related to issued permit.       |\n|    26 | 19.138 | Estimated Cost                         | Initial estimation of the cost of the project   |\n|    27 |  3.049 | Revised Cost                           | Revised estimation of the cost of the project   |\n|    28 | 20.670 | Existing Use                           | Existing use of the building                    |\n|    29 | 25.911 | Existing Units                         | Existing number of units                        |\n|    30 | 21.336 | Proposed Use                           | Proposed use of the building                    |\n|    31 | 25.596 | Proposed Units                         | Proposed number of units                        |\n|    32 | 18.757 | Plansets        | Plan representation indicating the general design intent of the foundation..            |\n|    33 | 99.998 | TIDF Compliance                        | TIDF compliant or not, this is a new legal requirement           |\n|    34 | 21.802 | Existing Construction Type         | Construction type, existing,as categories represented numerically    |\n|    35 | 21.802 | Existing Construction Type Description | Descr. of the above, eg.: wood or other construction types       |\n|    36 | 21.700 | Proposed Construction Type         | Construction type, proposed, as categories represented numerically   |\n|    37 | 21.700 | Proposed Construction Type Description | Description of the above                                         |\n|    38 | 97.305 | Site Permit                            | Permit for site                                                  |\n|    39 |  0.863 | Supervisor District                    | Supervisor District to which the building location belongs to    |\n|    40 |  0.867 | Neighborhoods - Analysis Boundaries    | Neighborhood to which the building location belongs to           |\n|    41 |  0.862 | **Zipcode**                            | Zipcode of building address                                      |\n|    42 |  0.854 | Location                               | Location in latitude, longitude pair.                            |\n|    43 |      0 | Record ID                              | Some ID, not useful for this                                     |\n\n## Understand this code to perform the group imputation:\n\n```python\ndf = pd.read_csv(\"titanic/train.csv\", index_col='PassengerId')\n\ngroup_cols = ['Sex','Pclass','Title']\nimpute_map = df.groupby(group_cols).Age.mean().reset_index(drop=False)\n\nfor index, row in impute_map.iterrows(): # Iterate all group possibilities\n    \n    ind = (df[group_cols] == row[group_cols]).all(axis=1) # Returns Boolean column with the lenth of dataframe        \n    \n    df[ind] = df[ind].fillna(row[\"Age\"])\n```\n\n## Optional External Exercises:\n\nFrom Kaggle [data cleaning mini course](https://www.kaggle.com/learn/data-cleaning) do:\n- [Handling Missing Values](https://www.kaggle.com/alexisbcook/handling-missing-values) Data Cleaning: 1 of 5\n- [Inconsistent Data Entry](https://www.kaggle.com/alexisbcook/inconsistent-data-entry) Data Cleaning: 5 of 5\n",
      "metadata": {
        "cell_id": "00046-2bde2c05-5540-4b4b-a7d6-d143958c7859",
        "deepnote_cell_type": "markdown"
      }
    },
    {
      "cell_type": "markdown",
      "source": "<a style='text-decoration:none;line-height:16px;display:flex;color:#5B5B62;padding:10px;justify-content:end;' href='https://deepnote.com?utm_source=created-in-deepnote-cell&projectId=876aa865-8eb0-4eaa-88f8-0fbe2feb6d11' target=\"_blank\">\n<img alt='Created in deepnote.com' style='display:inline;max-height:16px;margin:0px;margin-right:7.5px;' src='data:image/svg+xml;base64,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' > </img>\nCreated in <span style='font-weight:600;margin-left:4px;'>Deepnote</span></a>",
      "metadata": {
        "tags": [],
        "created_in_deepnote_cell": true,
        "deepnote_cell_type": "markdown"
      }
    }
  ],
  "nbformat": 4,
  "nbformat_minor": 4,
  "metadata": {
    "anaconda-cloud": {},
    "colab": {
      "collapsed_sections": [],
      "name": "Titanic LogReg.ipynb",
      "provenance": []
    },
    "kernelspec": {
      "display_name": "Python 3",
      "language": "python",
      "name": "python3"
    },
    "language_info": {
      "codemirror_mode": {
        "name": "ipython",
        "version": 3
      },
      "file_extension": ".py",
      "mimetype": "text/x-python",
      "name": "python",
      "nbconvert_exporter": "python",
      "pygments_lexer": "ipython3",
      "version": "3.8.5"
    },
    "name": "seminar13_optional_practice_trees_titanic.ipynb",
    "deepnote_notebook_id": "41e5c596-9993-42b7-aefb-2eb78c71f66b",
    "deepnote": {},
    "deepnote_execution_queue": []
  }
}