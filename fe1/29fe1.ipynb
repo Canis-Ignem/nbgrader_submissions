{
 "cells": [
  {
   "cell_type": "markdown",
   "metadata": {},
   "source": [
    "## Imports"
   ]
  },
  {
   "cell_type": "code",
   "execution_count": null,
   "metadata": {},
   "outputs": [],
   "source": [
    "# pip install --upgrade scikit-learn"
   ]
  },
  {
   "cell_type": "code",
   "execution_count": 1,
   "metadata": {
    "colab": {},
    "colab_type": "code",
    "id": "mjnuJ19dJV7v"
   },
   "outputs": [
    {
     "name": "stdout",
     "output_type": "stream",
     "text": [
      "Pandas   1.0.5\n",
      "Sklearn  0.23.1\n"
     ]
    }
   ],
   "source": [
    "import time\n",
    "from IPython.display import clear_output\n",
    "import numpy    as np\n",
    "import pandas   as pd\n",
    "import seaborn  as sb\n",
    "import matplotlib.pyplot as plt\n",
    "import sklearn  as skl\n",
    "\n",
    "from sklearn import pipeline      # Pipeline\n",
    "from sklearn import preprocessing # OrdinalEncoder, LabelEncoder\n",
    "from sklearn import impute\n",
    "from sklearn import compose\n",
    "from sklearn import model_selection # train_test_split\n",
    "from sklearn import metrics         # accuracy_score, balanced_accuracy_score, plot_confusion_matrix\n",
    "from sklearn import set_config\n",
    "\n",
    "set_config(display='diagram') # Useful for display the pipeline\n",
    "\n",
    "print(\"Pandas  \", pd.__version__)\n",
    "print(\"Sklearn \", skl.__version__) # Try to use 0.24"
   ]
  },
  {
   "cell_type": "markdown",
   "metadata": {},
   "source": [
    "## Get the dataset\n",
    "- **CLOUD = True**: Download dataset from Kaggle. Necesary for cloud enviroments like COLAB. **Specify your [kaggle credentials](https://www.kaggle.com/docs/api)**.\n",
    "- **CLOUD = False**: Get the dataset from your local machine. **Specify the data path**."
   ]
  },
  {
   "cell_type": "code",
   "execution_count": 3,
   "metadata": {},
   "outputs": [
    {
     "name": "stdout",
     "output_type": "stream",
     "text": [
      "Collecting kaggle\n",
      "  Downloading kaggle-1.5.12.tar.gz (58 kB)\n",
      "\u001b[K     |████████████████████████████████| 58 kB 2.8 MB/s eta 0:00:011\n",
      "\u001b[?25hRequirement already satisfied, skipping upgrade: six>=1.10 in /Users/vladimirgasanov/opt/anaconda3/lib/python3.8/site-packages (from kaggle) (1.15.0)\n",
      "Requirement already satisfied, skipping upgrade: certifi in /Users/vladimirgasanov/opt/anaconda3/lib/python3.8/site-packages (from kaggle) (2020.6.20)\n",
      "Requirement already satisfied, skipping upgrade: python-dateutil in /Users/vladimirgasanov/opt/anaconda3/lib/python3.8/site-packages (from kaggle) (2.8.1)\n",
      "Requirement already satisfied, skipping upgrade: requests in /Users/vladimirgasanov/opt/anaconda3/lib/python3.8/site-packages (from kaggle) (2.24.0)\n",
      "Requirement already satisfied, skipping upgrade: tqdm in /Users/vladimirgasanov/opt/anaconda3/lib/python3.8/site-packages (from kaggle) (4.47.0)\n",
      "Collecting python-slugify\n",
      "  Downloading python_slugify-5.0.0-py2.py3-none-any.whl (6.8 kB)\n",
      "Requirement already satisfied, skipping upgrade: urllib3 in /Users/vladimirgasanov/opt/anaconda3/lib/python3.8/site-packages (from kaggle) (1.25.9)\n",
      "Requirement already satisfied, skipping upgrade: chardet<4,>=3.0.2 in /Users/vladimirgasanov/opt/anaconda3/lib/python3.8/site-packages (from requests->kaggle) (3.0.4)\n",
      "Requirement already satisfied, skipping upgrade: idna<3,>=2.5 in /Users/vladimirgasanov/opt/anaconda3/lib/python3.8/site-packages (from requests->kaggle) (2.10)\n",
      "Collecting text-unidecode>=1.3\n",
      "  Downloading text_unidecode-1.3-py2.py3-none-any.whl (78 kB)\n",
      "\u001b[K     |████████████████████████████████| 78 kB 6.6 MB/s  eta 0:00:01\n",
      "\u001b[?25hBuilding wheels for collected packages: kaggle\n",
      "  Building wheel for kaggle (setup.py) ... \u001b[?25ldone\n",
      "\u001b[?25h  Created wheel for kaggle: filename=kaggle-1.5.12-py3-none-any.whl size=73053 sha256=a444b8bd575aee173e77e891fd28dc24e5d79e039f0a8212ebd9bc77453ca773\n",
      "  Stored in directory: /Users/vladimirgasanov/Library/Caches/pip/wheels/29/da/11/144cc25aebdaeb4931b231e25fd34b394e6a5725cbb2f50106\n",
      "Successfully built kaggle\n",
      "Installing collected packages: text-unidecode, python-slugify, kaggle\n",
      "Successfully installed kaggle-1.5.12 python-slugify-5.0.0 text-unidecode-1.3\n",
      "Downloading titanic.zip to /Users/vladimirgasanov/Desktop/Strive/Strive_GIthub/M4_Feature_Engineering/01. Robust ML\n",
      "  0%|                                               | 0.00/34.1k [00:00<?, ?B/s]\n",
      "100%|██████████████████████████████████████| 34.1k/34.1k [00:00<00:00, 1.89MB/s]\n"
     ]
    }
   ],
   "source": [
    "CLOUD = True\n",
    "\n",
    "if CLOUD:\n",
    "    import os\n",
    "    os.environ['KAGGLE_USERNAME'] = \"elvlado\"\n",
    "    os.environ['KAGGLE_KEY']      = \"bca244ca2b7636ba98e05c9b733a9ffd\"  # See https://www.kaggle.com/docs/api\n",
    "    !pip install --upgrade kaggle\n",
    "    !kaggle competitions download -c titanic\n",
    "    DATA_PATH = \"./\"\n",
    "\n",
    "else:\n",
    "    DATA_PATH = \"\""
   ]
  },
  {
   "cell_type": "markdown",
   "metadata": {},
   "source": [
    "## Load data"
   ]
  },
  {
   "cell_type": "code",
   "execution_count": 6,
   "metadata": {
    "colab": {},
    "colab_type": "code",
    "id": "wAy8TnVPJV8S"
   },
   "outputs": [
    {
     "name": "stdout",
     "output_type": "stream",
     "text": [
      "Train DataFrame: (891, 11)\n",
      "Test DataFrame:  (418, 10)\n"
     ]
    }
   ],
   "source": [
    "df      = pd.read_csv(DATA_PATH + \"train.csv\", index_col='PassengerId')\n",
    "df_test = pd.read_csv(DATA_PATH + \"test.csv\",  index_col='PassengerId')\n",
    "\n",
    "print(\"Train DataFrame:\", df.shape)\n",
    "print(\"Test DataFrame: \", df_test.shape)"
   ]
  },
  {
   "cell_type": "markdown",
   "metadata": {},
   "source": [
    "## Check missings"
   ]
  },
  {
   "cell_type": "code",
   "execution_count": null,
   "metadata": {},
   "outputs": [],
   "source": [
    "# df.isnull().sum()"
   ]
  },
  {
   "cell_type": "code",
   "execution_count": null,
   "metadata": {},
   "outputs": [],
   "source": [
    "# df_test.isnull().sum()"
   ]
  },
  {
   "cell_type": "markdown",
   "metadata": {},
   "source": [
    "# Exercise 1 (2pts):\n",
    "Extract the title (Mr, Mrs, ... ) from the \"Name\" column.\n",
    "\n",
    "Tips:\n",
    "- split(',')[1] to get the 2nd part, and remove the surnamename\n",
    "- split('.')[0] to get the 1str part, and remove the name"
   ]
  },
  {
   "cell_type": "code",
   "execution_count": 8,
   "metadata": {
    "deletable": false,
    "nbgrader": {
     "cell_type": "code",
     "checksum": "cac1de4ed2d966fcdf707a8bfd131fba",
     "grade": false,
     "grade_id": "cell-d56107842f0f54d2",
     "locked": false,
     "schema_version": 3,
     "solution": true,
     "task": false
    }
   },
   "outputs": [],
   "source": [
    "# CODE HERE get_Title_from_Name funtion\n",
    "# Create this function using lambda (not def)\n",
    "\n",
    "get_Title_from_Name = lambda name: name.split(',')[1].split('.')[0].strip()\n",
    "\n",
    "df['Title']      = df['Name'].map(get_Title_from_Name)\n",
    "df_test['Title'] = df_test['Name'].map(get_Title_from_Name)"
   ]
  },
  {
   "cell_type": "code",
   "execution_count": 9,
   "metadata": {
    "deletable": false,
    "editable": false,
    "nbgrader": {
     "cell_type": "code",
     "checksum": "f23c4d567e5fb4f4b69a001df14c6f7c",
     "grade": true,
     "grade_id": "cell-f3d989a17018344b",
     "locked": true,
     "points": 2,
     "schema_version": 3,
     "solution": false,
     "task": false
    }
   },
   "outputs": [],
   "source": [
    "assert df['Title'].values[0] == \"Mr\"\n",
    "assert df['Title'].values[1] == \"Mrs\"\n",
    "assert df['Title'].values[2] == \"Miss\"\n",
    "\n",
    "assert df_test['Title'].values[0] == \"Mr\"\n",
    "assert df_test['Title'].values[1] == \"Mrs\"\n",
    "assert df_test['Title'].values[414] == \"Dona\""
   ]
  },
  {
   "cell_type": "markdown",
   "metadata": {},
   "source": [
    "# Exercise 2 (1pts):\n",
    "Apply the title_dictionary to get a better information about the title. You have to overwrite the Title variable."
   ]
  },
  {
   "cell_type": "code",
   "execution_count": 10,
   "metadata": {},
   "outputs": [],
   "source": [
    "title_dictionary = {\n",
    "    \"Capt\": \"Officer\",\n",
    "    \"Col\": \"Officer\",\n",
    "    \"Major\": \"Officer\",\n",
    "    \"Jonkheer\": \"Royalty\",\n",
    "    \"Don\": \"Royalty\",\n",
    "    \"Sir\" : \"Royalty\",\n",
    "    \"Dr\": \"Officer\",\n",
    "    \"Rev\": \"Officer\",\n",
    "    \"the Countess\":\"Royalty\",\n",
    "    \"Mme\": \"Mrs\",\n",
    "    \"Mlle\": \"Miss\",\n",
    "    \"Ms\": \"Mrs\",\n",
    "    \"Mr\" : \"Mr\",\n",
    "    \"Mrs\" : \"Mrs\",\n",
    "    \"Miss\" : \"Miss\",\n",
    "    \"Master\" : \"Master\",\n",
    "    \"Lady\" : \"Royalty\"\n",
    "}"
   ]
  },
  {
   "cell_type": "code",
   "execution_count": 11,
   "metadata": {
    "deletable": false,
    "nbgrader": {
     "cell_type": "code",
     "checksum": "da7233548e7218eded680b5edb7963de",
     "grade": false,
     "grade_id": "cell-5c6a842c812fafda",
     "locked": false,
     "schema_version": 3,
     "solution": true,
     "task": false
    }
   },
   "outputs": [],
   "source": [
    "# Use map to apply the prevous dict\n",
    "\n",
    "df[\"Title\"] =  df.Title.map(title_dictionary)\n",
    "df_test[\"Title\"] = df_test.Title.map(title_dictionary)\n"
   ]
  },
  {
   "cell_type": "code",
   "execution_count": 12,
   "metadata": {
    "deletable": false,
    "editable": false,
    "nbgrader": {
     "cell_type": "code",
     "checksum": "96a09f1cde63b704ff2f391309c30690",
     "grade": true,
     "grade_id": "cell-669f5a637e57e835",
     "locked": true,
     "points": 1,
     "schema_version": 3,
     "solution": false,
     "task": false
    }
   },
   "outputs": [],
   "source": [
    "assert df['Title'].values[886] == \"Officer\"\n",
    "assert df_test['Title'].values[417] == \"Master\""
   ]
  },
  {
   "cell_type": "markdown",
   "metadata": {},
   "source": [
    "# Exercise OPTINAL (0pts):\n",
    "Try to extract some information from the feature **Ticket**. Search on Internet if that colum has some kind of information."
   ]
  },
  {
   "cell_type": "code",
   "execution_count": 13,
   "metadata": {},
   "outputs": [
    {
     "data": {
      "text/plain": [
       "PassengerId\n",
       "892                 330911\n",
       "893                 363272\n",
       "894                 240276\n",
       "895                 315154\n",
       "896                3101298\n",
       "               ...        \n",
       "1305             A.5. 3236\n",
       "1306              PC 17758\n",
       "1307    SOTON/O.Q. 3101262\n",
       "1308                359309\n",
       "1309                  2668\n",
       "Name: Ticket, Length: 418, dtype: object"
      ]
     },
     "execution_count": 13,
     "metadata": {},
     "output_type": "execute_result"
    }
   ],
   "source": [
    "df_test['Ticket']"
   ]
  },
  {
   "cell_type": "markdown",
   "metadata": {},
   "source": [
    "# Exercise OPTIONAL (0pts):\n",
    "Try to extract some information from the feature **Cabin**. Search on Internet if that colum has some kind of information."
   ]
  },
  {
   "cell_type": "code",
   "execution_count": 14,
   "metadata": {},
   "outputs": [
    {
     "data": {
      "text/plain": [
       "PassengerId\n",
       "892      NaN\n",
       "893      NaN\n",
       "894      NaN\n",
       "895      NaN\n",
       "896      NaN\n",
       "        ... \n",
       "1305     NaN\n",
       "1306    C105\n",
       "1307     NaN\n",
       "1308     NaN\n",
       "1309     NaN\n",
       "Name: Cabin, Length: 418, dtype: object"
      ]
     },
     "execution_count": 14,
     "metadata": {},
     "output_type": "execute_result"
    }
   ],
   "source": [
    "df_test['Cabin']"
   ]
  },
  {
   "cell_type": "markdown",
   "metadata": {},
   "source": [
    "# Preprocessing\n",
    "For X data, notice that...\n",
    "- We drop Survived because is the target variable\n",
    "- We drop Name because we have extracted the Title: Mr, Mrs, ...\n",
    "- We drop Ticket because it has no information -> see df.Ticket.nunique()\n",
    "- We drop Cabin because it has a lot of missings (77% are missings)\n",
    "\n",
    "Then, we identify **numerical** variables and **categorical** variables,"
   ]
  },
  {
   "cell_type": "code",
   "execution_count": 15,
   "metadata": {},
   "outputs": [],
   "source": [
    "x = df.drop(columns=[\"Survived\", 'Name', 'Ticket', 'Cabin']) # X DATA (WILL BE TRAIN+VALID DATA)\n",
    "y = df[\"Survived\"] # 0 = No, 1 = Yes\n",
    "\n",
    "x_test = df_test.drop(columns=['Name', 'Ticket', 'Cabin']) # # X_TEST DATA (NEW DATA)"
   ]
  },
  {
   "cell_type": "code",
   "execution_count": 16,
   "metadata": {},
   "outputs": [
    {
     "name": "stdout",
     "output_type": "stream",
     "text": [
      "\n",
      "Numerical features:\n",
      " ['Pclass', 'SibSp', 'Parch', 'Fare', 'Age']\n",
      "\n",
      "Categorical features:\n",
      " ['Sex', 'Embarked', 'Title']\n"
     ]
    }
   ],
   "source": [
    "cat_vars  = ['Sex', 'Embarked', 'Title']         # x.select_dtypes(include=[object]).columns.values.tolist()\n",
    "num_vars  = ['Pclass', 'SibSp', 'Parch', 'Fare', 'Age'] # x.select_dtypes(exclude=[object]).columns.values.tolist()\n",
    "\n",
    "print(\"\\nNumerical features:\\n\", num_vars)\n",
    "print(\"\\nCategorical features:\\n\", cat_vars)"
   ]
  },
  {
   "cell_type": "markdown",
   "metadata": {},
   "source": [
    "# Exercise 3 (2pts):\n",
    "Create a **ColumnTransformer for Tree Models**. You need to create 2 pipelines (one for numerical and other for categories). Remember:\n",
    "- Categorical pipeline: Some SimpleImputer -> Some Encoder\n",
    "- Numerical pipeline: Some SimpleImputer -> NO Encoder"
   ]
  },
  {
   "cell_type": "code",
   "execution_count": 20,
   "metadata": {
    "deletable": false,
    "nbgrader": {
     "cell_type": "code",
     "checksum": "4a99fc5ecc693dc549b0e1560c568eea",
     "grade": false,
     "grade_id": "cell-c607e75fb38ea248",
     "locked": false,
     "schema_version": 3,
     "solution": true,
     "task": false
    }
   },
   "outputs": [
    {
     "data": {
      "text/html": [
       "<style>div.sk-top-container {color: black;background-color: white;}div.sk-toggleable {background-color: white;}label.sk-toggleable__label {cursor: pointer;display: block;width: 100%;margin-bottom: 0;padding: 0.2em 0.3em;box-sizing: border-box;text-align: center;}div.sk-toggleable__content {max-height: 0;max-width: 0;overflow: hidden;text-align: left;background-color: #f0f8ff;}div.sk-toggleable__content pre {margin: 0.2em;color: black;border-radius: 0.25em;background-color: #f0f8ff;}input.sk-toggleable__control:checked~div.sk-toggleable__content {max-height: 200px;max-width: 100%;overflow: auto;}div.sk-estimator input.sk-toggleable__control:checked~label.sk-toggleable__label {background-color: #d4ebff;}div.sk-label input.sk-toggleable__control:checked~label.sk-toggleable__label {background-color: #d4ebff;}input.sk-hidden--visually {border: 0;clip: rect(1px 1px 1px 1px);clip: rect(1px, 1px, 1px, 1px);height: 1px;margin: -1px;overflow: hidden;padding: 0;position: absolute;width: 1px;}div.sk-estimator {font-family: monospace;background-color: #f0f8ff;margin: 0.25em 0.25em;border: 1px dotted black;border-radius: 0.25em;box-sizing: border-box;}div.sk-estimator:hover {background-color: #d4ebff;}div.sk-parallel-item::after {content: \"\";width: 100%;border-bottom: 1px solid gray;flex-grow: 1;}div.sk-label:hover label.sk-toggleable__label {background-color: #d4ebff;}div.sk-serial::before {content: \"\";position: absolute;border-left: 1px solid gray;box-sizing: border-box;top: 2em;bottom: 0;left: 50%;}div.sk-serial {display: flex;flex-direction: column;align-items: center;background-color: white;}div.sk-item {z-index: 1;}div.sk-parallel {display: flex;align-items: stretch;justify-content: center;background-color: white;}div.sk-parallel-item {display: flex;flex-direction: column;position: relative;background-color: white;}div.sk-parallel-item:first-child::after {align-self: flex-end;width: 50%;}div.sk-parallel-item:last-child::after {align-self: flex-start;width: 50%;}div.sk-parallel-item:only-child::after {width: 0;}div.sk-dashed-wrapped {border: 1px dashed gray;margin: 0.2em;box-sizing: border-box;padding-bottom: 0.1em;background-color: white;position: relative;}div.sk-label label {font-family: monospace;font-weight: bold;background-color: white;display: inline-block;line-height: 1.2em;}div.sk-label-container {position: relative;z-index: 2;text-align: center;}div.sk-container {display: inline-block;position: relative;}</style><div class=\"sk-top-container\"><div class=\"sk-container\"><div class=\"sk-item sk-dashed-wrapped\"><div class=\"sk-label-container\"><div class=\"sk-label sk-toggleable\"><input class=\"sk-toggleable__control sk-hidden--visually\" id=\"b8ba3d54-e4ad-4c17-868d-0f183661e6f9\" type=\"checkbox\" ><label class=\"sk-toggleable__label\" for=\"b8ba3d54-e4ad-4c17-868d-0f183661e6f9\">ColumnTransformer</label><div class=\"sk-toggleable__content\"><pre>ColumnTransformer(transformers=[('num',\n",
       "                                 Pipeline(steps=[('imputer', SimpleImputer())]),\n",
       "                                 ['Pclass', 'SibSp', 'Parch', 'Fare', 'Age']),\n",
       "                                ('cat',\n",
       "                                 Pipeline(steps=[('imputer',\n",
       "                                                  SimpleImputer(fill_value='missing',\n",
       "                                                                strategy='constant')),\n",
       "                                                 ('onehot',\n",
       "                                                  OneHotEncoder(handle_unknown='ignore'))]),\n",
       "                                 ['Sex', 'Embarked', 'Title'])])</pre></div></div></div><div class=\"sk-parallel\"><div class=\"sk-parallel-item\"><div class=\"sk-item\"><div class=\"sk-label-container\"><div class=\"sk-label sk-toggleable\"><input class=\"sk-toggleable__control sk-hidden--visually\" id=\"59b9abb6-9cd4-4698-99f0-54b2e2cfbdda\" type=\"checkbox\" ><label class=\"sk-toggleable__label\" for=\"59b9abb6-9cd4-4698-99f0-54b2e2cfbdda\">num</label><div class=\"sk-toggleable__content\"><pre>['Pclass', 'SibSp', 'Parch', 'Fare', 'Age']</pre></div></div></div><div class=\"sk-serial\"><div class=\"sk-item\"><div class=\"sk-serial\"><div class=\"sk-item\"><div class=\"sk-estimator sk-toggleable\"><input class=\"sk-toggleable__control sk-hidden--visually\" id=\"6cbc7276-f1f3-48e8-bf5f-95b607bb4381\" type=\"checkbox\" ><label class=\"sk-toggleable__label\" for=\"6cbc7276-f1f3-48e8-bf5f-95b607bb4381\">SimpleImputer</label><div class=\"sk-toggleable__content\"><pre>SimpleImputer()</pre></div></div></div></div></div></div></div></div><div class=\"sk-parallel-item\"><div class=\"sk-item\"><div class=\"sk-label-container\"><div class=\"sk-label sk-toggleable\"><input class=\"sk-toggleable__control sk-hidden--visually\" id=\"e4debdf7-a395-4945-af8f-721064198630\" type=\"checkbox\" ><label class=\"sk-toggleable__label\" for=\"e4debdf7-a395-4945-af8f-721064198630\">cat</label><div class=\"sk-toggleable__content\"><pre>['Sex', 'Embarked', 'Title']</pre></div></div></div><div class=\"sk-serial\"><div class=\"sk-item\"><div class=\"sk-serial\"><div class=\"sk-item\"><div class=\"sk-estimator sk-toggleable\"><input class=\"sk-toggleable__control sk-hidden--visually\" id=\"3fef34f2-db97-49e3-b4d4-87d8fc92e47c\" type=\"checkbox\" ><label class=\"sk-toggleable__label\" for=\"3fef34f2-db97-49e3-b4d4-87d8fc92e47c\">SimpleImputer</label><div class=\"sk-toggleable__content\"><pre>SimpleImputer(fill_value='missing', strategy='constant')</pre></div></div></div><div class=\"sk-item\"><div class=\"sk-estimator sk-toggleable\"><input class=\"sk-toggleable__control sk-hidden--visually\" id=\"1e9e1b38-a6f1-4b33-95d8-0e078b837866\" type=\"checkbox\" ><label class=\"sk-toggleable__label\" for=\"1e9e1b38-a6f1-4b33-95d8-0e078b837866\">OneHotEncoder</label><div class=\"sk-toggleable__content\"><pre>OneHotEncoder(handle_unknown='ignore')</pre></div></div></div></div></div></div></div></div></div></div></div></div>"
      ],
      "text/plain": [
       "ColumnTransformer(transformers=[('num',\n",
       "                                 Pipeline(steps=[('imputer', SimpleImputer())]),\n",
       "                                 ['Pclass', 'SibSp', 'Parch', 'Fare', 'Age']),\n",
       "                                ('cat',\n",
       "                                 Pipeline(steps=[('imputer',\n",
       "                                                  SimpleImputer(fill_value='missing',\n",
       "                                                                strategy='constant')),\n",
       "                                                 ('onehot',\n",
       "                                                  OneHotEncoder(handle_unknown='ignore'))]),\n",
       "                                 ['Sex', 'Embarked', 'Title'])])"
      ]
     },
     "execution_count": 20,
     "metadata": {},
     "output_type": "execute_result"
    }
   ],
   "source": [
    "num_4_treeModels = pipeline.Pipeline(steps=[\n",
    "    ('imputer', impute.SimpleImputer(strategy='mean',add_indicator=False))\n",
    "])\n",
    "\n",
    "cat_4_treeModels = pipeline.Pipeline(steps=[\n",
    "    ('imputer', impute.SimpleImputer(strategy='constant', fill_value='missing')),\n",
    "    ('onehot', preprocessing.OneHotEncoder(handle_unknown='ignore'))\n",
    "])\n",
    "\n",
    "tree_prepro = compose.ColumnTransformer(transformers=[\n",
    "    ('num', num_4_treeModels, num_vars),\n",
    "    ('cat', cat_4_treeModels, cat_vars),\n",
    "], remainder='drop') # Drop other vars not specified in num_vars or cat_vars\n",
    "\n",
    "tree_prepro\n"
   ]
  },
  {
   "cell_type": "code",
   "execution_count": 21,
   "metadata": {
    "deletable": false,
    "editable": false,
    "nbgrader": {
     "cell_type": "code",
     "checksum": "00bde840843413a4f57c4480f8930ef0",
     "grade": true,
     "grade_id": "cell-e636558135fb5975",
     "locked": true,
     "points": 2,
     "schema_version": 3,
     "solution": false,
     "task": false
    }
   },
   "outputs": [],
   "source": [
    "assert type(tree_prepro)      is compose._column_transformer.ColumnTransformer\n",
    "assert type(num_4_treeModels) is pipeline.Pipeline\n",
    "assert type(cat_4_treeModels) is pipeline.Pipeline\n",
    "assert len(num_4_treeModels) == 1\n",
    "assert len(cat_4_treeModels) == 2"
   ]
  },
  {
   "cell_type": "markdown",
   "metadata": {},
   "source": [
    "# Exercise 4 (1pts):\n",
    "1. Complete the diccionary with some Tree Models.\n",
    "2. Then we put each model in a Pipeline where:\n",
    "   - first is the prepocessing with the column Transformer\n",
    "   - Then is the Tree model\n",
    "3. Display the fullpipeline of the LGBMClassifier"
   ]
  },
  {
   "cell_type": "code",
   "execution_count": 25,
   "metadata": {},
   "outputs": [
    {
     "name": "stdout",
     "output_type": "stream",
     "text": [
      "Collecting xgboost\n",
      "  Downloading xgboost-1.4.1-py3-none-macosx_10_14_x86_64.macosx_10_15_x86_64.macosx_11_0_x86_64.whl (1.2 MB)\n",
      "\u001b[K     |████████████████████████████████| 1.2 MB 2.6 MB/s eta 0:00:01\n",
      "\u001b[?25hRequirement already satisfied: numpy in /Users/vladimirgasanov/opt/anaconda3/lib/python3.8/site-packages (from xgboost) (1.18.5)\n",
      "Requirement already satisfied: scipy in /Users/vladimirgasanov/opt/anaconda3/lib/python3.8/site-packages (from xgboost) (1.5.0)\n",
      "Installing collected packages: xgboost\n",
      "Successfully installed xgboost-1.4.1\n"
     ]
    }
   ],
   "source": [
    "!pip install xgboost"
   ]
  },
  {
   "cell_type": "code",
   "execution_count": 27,
   "metadata": {},
   "outputs": [
    {
     "name": "stdout",
     "output_type": "stream",
     "text": [
      "\u001b[31mERROR: Could not find a version that satisfies the requirement lightgmb (from versions: none)\u001b[0m\r\n",
      "\u001b[31mERROR: No matching distribution found for lightgmb\u001b[0m\r\n"
     ]
    }
   ],
   "source": [
    "!pip install lightgmb"
   ]
  },
  {
   "cell_type": "code",
   "execution_count": 30,
   "metadata": {},
   "outputs": [],
   "source": [
    "from sklearn.tree          import DecisionTreeClassifier\n",
    "from sklearn.ensemble      import RandomForestClassifier\n",
    "from sklearn.ensemble      import ExtraTreesClassifier\n",
    "from sklearn.ensemble      import AdaBoostClassifier\n",
    "from sklearn.ensemble      import GradientBoostingClassifier\n",
    "from sklearn.experimental  import enable_hist_gradient_boosting # Necesary for HistGradientBoostingClassifier\n",
    "from sklearn.ensemble      import HistGradientBoostingClassifier\n",
    "from xgboost               import XGBClassifier\n",
    "#from lightgbm              import LGBMClassifier\n",
    "#from catboost              import CatBoostClassifier"
   ]
  },
  {
   "cell_type": "code",
   "execution_count": 35,
   "metadata": {
    "deletable": false,
    "nbgrader": {
     "cell_type": "code",
     "checksum": "f23af11f3af791efa5687477c0a4c9d6",
     "grade": false,
     "grade_id": "cell-76a3be8223730c5a",
     "locked": false,
     "schema_version": 3,
     "solution": true,
     "task": false
    }
   },
   "outputs": [
    {
     "data": {
      "text/html": [
       "<style>div.sk-top-container {color: black;background-color: white;}div.sk-toggleable {background-color: white;}label.sk-toggleable__label {cursor: pointer;display: block;width: 100%;margin-bottom: 0;padding: 0.2em 0.3em;box-sizing: border-box;text-align: center;}div.sk-toggleable__content {max-height: 0;max-width: 0;overflow: hidden;text-align: left;background-color: #f0f8ff;}div.sk-toggleable__content pre {margin: 0.2em;color: black;border-radius: 0.25em;background-color: #f0f8ff;}input.sk-toggleable__control:checked~div.sk-toggleable__content {max-height: 200px;max-width: 100%;overflow: auto;}div.sk-estimator input.sk-toggleable__control:checked~label.sk-toggleable__label {background-color: #d4ebff;}div.sk-label input.sk-toggleable__control:checked~label.sk-toggleable__label {background-color: #d4ebff;}input.sk-hidden--visually {border: 0;clip: rect(1px 1px 1px 1px);clip: rect(1px, 1px, 1px, 1px);height: 1px;margin: -1px;overflow: hidden;padding: 0;position: absolute;width: 1px;}div.sk-estimator {font-family: monospace;background-color: #f0f8ff;margin: 0.25em 0.25em;border: 1px dotted black;border-radius: 0.25em;box-sizing: border-box;}div.sk-estimator:hover {background-color: #d4ebff;}div.sk-parallel-item::after {content: \"\";width: 100%;border-bottom: 1px solid gray;flex-grow: 1;}div.sk-label:hover label.sk-toggleable__label {background-color: #d4ebff;}div.sk-serial::before {content: \"\";position: absolute;border-left: 1px solid gray;box-sizing: border-box;top: 2em;bottom: 0;left: 50%;}div.sk-serial {display: flex;flex-direction: column;align-items: center;background-color: white;}div.sk-item {z-index: 1;}div.sk-parallel {display: flex;align-items: stretch;justify-content: center;background-color: white;}div.sk-parallel-item {display: flex;flex-direction: column;position: relative;background-color: white;}div.sk-parallel-item:first-child::after {align-self: flex-end;width: 50%;}div.sk-parallel-item:last-child::after {align-self: flex-start;width: 50%;}div.sk-parallel-item:only-child::after {width: 0;}div.sk-dashed-wrapped {border: 1px dashed gray;margin: 0.2em;box-sizing: border-box;padding-bottom: 0.1em;background-color: white;position: relative;}div.sk-label label {font-family: monospace;font-weight: bold;background-color: white;display: inline-block;line-height: 1.2em;}div.sk-label-container {position: relative;z-index: 2;text-align: center;}div.sk-container {display: inline-block;position: relative;}</style><div class=\"sk-top-container\"><div class=\"sk-container\"><div class=\"sk-item sk-dashed-wrapped\"><div class=\"sk-label-container\"><div class=\"sk-label sk-toggleable\"><input class=\"sk-toggleable__control sk-hidden--visually\" id=\"67c957ce-4fb6-4410-997b-3b25898e4b1c\" type=\"checkbox\" ><label class=\"sk-toggleable__label\" for=\"67c957ce-4fb6-4410-997b-3b25898e4b1c\">Pipeline</label><div class=\"sk-toggleable__content\"><pre>Pipeline(steps=[('columntransformer',\n",
       "                 ColumnTransformer(transformers=[('num',\n",
       "                                                  Pipeline(steps=[('imputer',\n",
       "                                                                   SimpleImputer())]),\n",
       "                                                  ['Pclass', 'SibSp', 'Parch',\n",
       "                                                   'Fare', 'Age']),\n",
       "                                                 ('cat',\n",
       "                                                  Pipeline(steps=[('imputer',\n",
       "                                                                   SimpleImputer(fill_value='missing',\n",
       "                                                                                 strategy='constant')),\n",
       "                                                                  ('onehot',\n",
       "                                                                   OneHotEncoder(handle_unknown='ignore'))]),\n",
       "                                                  ['Sex', 'Embarked',\n",
       "                                                   'Title'])])),\n",
       "                ('adaboostclassifier', AdaBoostClassifier())])</pre></div></div></div><div class=\"sk-serial\"><div class=\"sk-item sk-dashed-wrapped\"><div class=\"sk-label-container\"><div class=\"sk-label sk-toggleable\"><input class=\"sk-toggleable__control sk-hidden--visually\" id=\"1638bd0a-90cf-4029-bca8-9f25f1803ad7\" type=\"checkbox\" ><label class=\"sk-toggleable__label\" for=\"1638bd0a-90cf-4029-bca8-9f25f1803ad7\">columntransformer: ColumnTransformer</label><div class=\"sk-toggleable__content\"><pre>ColumnTransformer(transformers=[('num',\n",
       "                                 Pipeline(steps=[('imputer', SimpleImputer())]),\n",
       "                                 ['Pclass', 'SibSp', 'Parch', 'Fare', 'Age']),\n",
       "                                ('cat',\n",
       "                                 Pipeline(steps=[('imputer',\n",
       "                                                  SimpleImputer(fill_value='missing',\n",
       "                                                                strategy='constant')),\n",
       "                                                 ('onehot',\n",
       "                                                  OneHotEncoder(handle_unknown='ignore'))]),\n",
       "                                 ['Sex', 'Embarked', 'Title'])])</pre></div></div></div><div class=\"sk-parallel\"><div class=\"sk-parallel-item\"><div class=\"sk-item\"><div class=\"sk-label-container\"><div class=\"sk-label sk-toggleable\"><input class=\"sk-toggleable__control sk-hidden--visually\" id=\"e8696b58-7c52-44c2-8216-2c69f9e23ba9\" type=\"checkbox\" ><label class=\"sk-toggleable__label\" for=\"e8696b58-7c52-44c2-8216-2c69f9e23ba9\">num</label><div class=\"sk-toggleable__content\"><pre>['Pclass', 'SibSp', 'Parch', 'Fare', 'Age']</pre></div></div></div><div class=\"sk-serial\"><div class=\"sk-item\"><div class=\"sk-serial\"><div class=\"sk-item\"><div class=\"sk-estimator sk-toggleable\"><input class=\"sk-toggleable__control sk-hidden--visually\" id=\"9de23066-5e75-49ae-ba71-6d605fdb37b5\" type=\"checkbox\" ><label class=\"sk-toggleable__label\" for=\"9de23066-5e75-49ae-ba71-6d605fdb37b5\">SimpleImputer</label><div class=\"sk-toggleable__content\"><pre>SimpleImputer()</pre></div></div></div></div></div></div></div></div><div class=\"sk-parallel-item\"><div class=\"sk-item\"><div class=\"sk-label-container\"><div class=\"sk-label sk-toggleable\"><input class=\"sk-toggleable__control sk-hidden--visually\" id=\"ca5c9a2f-7beb-43ad-9bab-34cef76bdcc6\" type=\"checkbox\" ><label class=\"sk-toggleable__label\" for=\"ca5c9a2f-7beb-43ad-9bab-34cef76bdcc6\">cat</label><div class=\"sk-toggleable__content\"><pre>['Sex', 'Embarked', 'Title']</pre></div></div></div><div class=\"sk-serial\"><div class=\"sk-item\"><div class=\"sk-serial\"><div class=\"sk-item\"><div class=\"sk-estimator sk-toggleable\"><input class=\"sk-toggleable__control sk-hidden--visually\" id=\"e72d36d5-c274-4a9f-8d08-e0504f3ca4cc\" type=\"checkbox\" ><label class=\"sk-toggleable__label\" for=\"e72d36d5-c274-4a9f-8d08-e0504f3ca4cc\">SimpleImputer</label><div class=\"sk-toggleable__content\"><pre>SimpleImputer(fill_value='missing', strategy='constant')</pre></div></div></div><div class=\"sk-item\"><div class=\"sk-estimator sk-toggleable\"><input class=\"sk-toggleable__control sk-hidden--visually\" id=\"7f27dd88-bb06-4813-b9b0-62aa3558af18\" type=\"checkbox\" ><label class=\"sk-toggleable__label\" for=\"7f27dd88-bb06-4813-b9b0-62aa3558af18\">OneHotEncoder</label><div class=\"sk-toggleable__content\"><pre>OneHotEncoder(handle_unknown='ignore')</pre></div></div></div></div></div></div></div></div></div></div><div class=\"sk-item\"><div class=\"sk-estimator sk-toggleable\"><input class=\"sk-toggleable__control sk-hidden--visually\" id=\"f4b9fe3c-07a3-4213-bad7-4e59a96e9bd0\" type=\"checkbox\" ><label class=\"sk-toggleable__label\" for=\"f4b9fe3c-07a3-4213-bad7-4e59a96e9bd0\">AdaBoostClassifier</label><div class=\"sk-toggleable__content\"><pre>AdaBoostClassifier()</pre></div></div></div></div></div></div></div>"
      ],
      "text/plain": [
       "Pipeline(steps=[('columntransformer',\n",
       "                 ColumnTransformer(transformers=[('num',\n",
       "                                                  Pipeline(steps=[('imputer',\n",
       "                                                                   SimpleImputer())]),\n",
       "                                                  ['Pclass', 'SibSp', 'Parch',\n",
       "                                                   'Fare', 'Age']),\n",
       "                                                 ('cat',\n",
       "                                                  Pipeline(steps=[('imputer',\n",
       "                                                                   SimpleImputer(fill_value='missing',\n",
       "                                                                                 strategy='constant')),\n",
       "                                                                  ('onehot',\n",
       "                                                                   OneHotEncoder(handle_unknown='ignore'))]),\n",
       "                                                  ['Sex', 'Embarked',\n",
       "                                                   'Title'])])),\n",
       "                ('adaboostclassifier', AdaBoostClassifier())])"
      ]
     },
     "execution_count": 35,
     "metadata": {},
     "output_type": "execute_result"
    }
   ],
   "source": [
    "\n",
    "tree_classifiers = {\n",
    "  \"Decision Tree\": DecisionTreeClassifier(),\n",
    "  \"Extra Trees\": ExtraTreesClassifier(),\n",
    "  \"Random Forest\": RandomForestClassifier(),\n",
    "  \"AdaBoost\": AdaBoostClassifier(),\n",
    "  \"Skl GBM\": GradientBoostingClassifier(),\n",
    "  \"Skl HistGBM\": GradientBoostingClassifier(),\n",
    "  \"XGBoost\": XGBClassifier()}\n",
    "  \n",
    "\"\"\"\n",
    "LightGBM\":\n",
    "\"CatBoost\":\n",
    "tree_classifiers = {name: pipeline.make_pipeline(tree_prepro, model) for name, model in tree_classifiers.items()}\n",
    "tree_classifiers[\"LightGBM\"]\n",
    "\"\"\"\n",
    "\n",
    "\n",
    "\n",
    "\n",
    "tree_classifiers = {name: pipeline.make_pipeline(tree_prepro, model) for name, model in tree_classifiers.items()}\n",
    "\n",
    "tree_classifiers[\"AdaBoost\"]"
   ]
  },
  {
   "cell_type": "code",
   "execution_count": 37,
   "metadata": {
    "deletable": false,
    "editable": false,
    "nbgrader": {
     "cell_type": "code",
     "checksum": "2355552b3ce823e44fdaea06394e054c",
     "grade": true,
     "grade_id": "cell-d4744022b37e2e9b",
     "locked": true,
     "points": 1,
     "schema_version": 3,
     "solution": false,
     "task": false
    }
   },
   "outputs": [],
   "source": [
    "for pipe in tree_classifiers.values():\n",
    "    assert type(pipe) is pipeline.Pipeline"
   ]
  },
  {
   "cell_type": "markdown",
   "metadata": {},
   "source": [
    "# Exercise 5 (3pts):\n",
    "Define a simple split validation strategy with:\n",
    "- 80% for train\n",
    "- 20% for validation\n",
    "- With stratification\n",
    "- random_state=0\n",
    "\n",
    "And train all the models in a for loop"
   ]
  },
  {
   "cell_type": "code",
   "execution_count": 71,
   "metadata": {
    "colab": {
     "base_uri": "https://localhost:8080/",
     "height": 173
    },
    "colab_type": "code",
    "deletable": false,
    "id": "kY1uWk6-OcLw",
    "nbgrader": {
     "cell_type": "code",
     "checksum": "e48597a78f468a95abf116052e9f68e6",
     "grade": false,
     "grade_id": "cell-64f17e0d448bca7e",
     "locked": false,
     "schema_version": 3,
     "solution": true,
     "task": false
    },
    "outputId": "3562463f-3197-424c-dc82-b07ad579e9cc"
   },
   "outputs": [
    {
     "name": "stdout",
     "output_type": "stream",
     "text": [
      "[16:08:08] WARNING: /Users/travis/build/dmlc/xgboost/src/learner.cc:1095: Starting in XGBoost 1.3.0, the default evaluation metric used with the objective 'binary:logistic' was changed from 'error' to 'logloss'. Explicitly set eval_metric if you'd like to restore the old behavior.\n"
     ]
    },
    {
     "name": "stderr",
     "output_type": "stream",
     "text": [
      "/Users/vladimirgasanov/opt/anaconda3/lib/python3.8/site-packages/xgboost/sklearn.py:1146: UserWarning: The use of label encoder in XGBClassifier is deprecated and will be removed in a future release. To remove this warning, do the following: 1) Pass option use_label_encoder=False when constructing XGBClassifier object; and 2) Encode your labels (y) as integers starting with 0, i.e. 0, 1, 2, ..., [num_class - 1].\n",
      "  warnings.warn(label_encoder_deprecation_msg, UserWarning)\n"
     ]
    },
    {
     "data": {
      "text/html": [
       "<style  type=\"text/css\" >\n",
       "    #T_273cb4ac_ace2_11eb_baef_f01898154c9crow0_col1 {\n",
       "            width:  10em;\n",
       "             height:  80%;\n",
       "            background:  linear-gradient(90deg,#5fba7d 83.8%, transparent 83.8%);\n",
       "        }    #T_273cb4ac_ace2_11eb_baef_f01898154c9crow0_col2 {\n",
       "            width:  10em;\n",
       "             height:  80%;\n",
       "            background:  linear-gradient(90deg,#5fba7d 81.1%, transparent 81.1%);\n",
       "        }    #T_273cb4ac_ace2_11eb_baef_f01898154c9crow1_col1 {\n",
       "            width:  10em;\n",
       "             height:  80%;\n",
       "            background:  linear-gradient(90deg,#5fba7d 83.8%, transparent 83.8%);\n",
       "        }    #T_273cb4ac_ace2_11eb_baef_f01898154c9crow1_col2 {\n",
       "            width:  10em;\n",
       "             height:  80%;\n",
       "            background:  linear-gradient(90deg,#5fba7d 81.1%, transparent 81.1%);\n",
       "        }    #T_273cb4ac_ace2_11eb_baef_f01898154c9crow2_col1 {\n",
       "            width:  10em;\n",
       "             height:  80%;\n",
       "            background:  linear-gradient(90deg,#5fba7d 81.6%, transparent 81.6%);\n",
       "        }    #T_273cb4ac_ace2_11eb_baef_f01898154c9crow2_col2 {\n",
       "            width:  10em;\n",
       "             height:  80%;\n",
       "            background:  linear-gradient(90deg,#5fba7d 78.8%, transparent 78.8%);\n",
       "        }    #T_273cb4ac_ace2_11eb_baef_f01898154c9crow3_col1 {\n",
       "            width:  10em;\n",
       "             height:  80%;\n",
       "            background:  linear-gradient(90deg,#5fba7d 79.9%, transparent 79.9%);\n",
       "        }    #T_273cb4ac_ace2_11eb_baef_f01898154c9crow3_col2 {\n",
       "            width:  10em;\n",
       "             height:  80%;\n",
       "            background:  linear-gradient(90deg,#5fba7d 77.4%, transparent 77.4%);\n",
       "        }    #T_273cb4ac_ace2_11eb_baef_f01898154c9crow4_col1 {\n",
       "            width:  10em;\n",
       "             height:  80%;\n",
       "            background:  linear-gradient(90deg,#5fba7d 79.3%, transparent 79.3%);\n",
       "        }    #T_273cb4ac_ace2_11eb_baef_f01898154c9crow4_col2 {\n",
       "            width:  10em;\n",
       "             height:  80%;\n",
       "            background:  linear-gradient(90deg,#5fba7d 77.0%, transparent 77.0%);\n",
       "        }    #T_273cb4ac_ace2_11eb_baef_f01898154c9crow5_col1 {\n",
       "            width:  10em;\n",
       "             height:  80%;\n",
       "            background:  linear-gradient(90deg,#5fba7d 78.8%, transparent 78.8%);\n",
       "        }    #T_273cb4ac_ace2_11eb_baef_f01898154c9crow5_col2 {\n",
       "            width:  10em;\n",
       "             height:  80%;\n",
       "            background:  linear-gradient(90deg,#5fba7d 76.0%, transparent 76.0%);\n",
       "        }    #T_273cb4ac_ace2_11eb_baef_f01898154c9crow6_col1 {\n",
       "            width:  10em;\n",
       "             height:  80%;\n",
       "            background:  linear-gradient(90deg,#5fba7d 76.5%, transparent 76.5%);\n",
       "        }    #T_273cb4ac_ace2_11eb_baef_f01898154c9crow6_col2 {\n",
       "            width:  10em;\n",
       "             height:  80%;\n",
       "            background:  linear-gradient(90deg,#5fba7d 74.2%, transparent 74.2%);\n",
       "        }</style><table id=\"T_273cb4ac_ace2_11eb_baef_f01898154c9c\" ><thead>    <tr>        <th class=\"blank level0\" ></th>        <th class=\"col_heading level0 col0\" >Model</th>        <th class=\"col_heading level0 col1\" >Accuracy</th>        <th class=\"col_heading level0 col2\" >Bal Acc.</th>        <th class=\"col_heading level0 col3\" >Time</th>    </tr></thead><tbody>\n",
       "                <tr>\n",
       "                        <th id=\"T_273cb4ac_ace2_11eb_baef_f01898154c9clevel0_row0\" class=\"row_heading level0 row0\" >1</th>\n",
       "                        <td id=\"T_273cb4ac_ace2_11eb_baef_f01898154c9crow0_col0\" class=\"data row0 col0\" >Skl GBM</td>\n",
       "                        <td id=\"T_273cb4ac_ace2_11eb_baef_f01898154c9crow0_col1\" class=\"data row0 col1\" >83.798883</td>\n",
       "                        <td id=\"T_273cb4ac_ace2_11eb_baef_f01898154c9crow0_col2\" class=\"data row0 col2\" >81.146245</td>\n",
       "                        <td id=\"T_273cb4ac_ace2_11eb_baef_f01898154c9crow0_col3\" class=\"data row0 col3\" >0.095103</td>\n",
       "            </tr>\n",
       "            <tr>\n",
       "                        <th id=\"T_273cb4ac_ace2_11eb_baef_f01898154c9clevel0_row1\" class=\"row_heading level0 row1\" >2</th>\n",
       "                        <td id=\"T_273cb4ac_ace2_11eb_baef_f01898154c9crow1_col0\" class=\"data row1 col0\" >Skl HistGBM</td>\n",
       "                        <td id=\"T_273cb4ac_ace2_11eb_baef_f01898154c9crow1_col1\" class=\"data row1 col1\" >83.798883</td>\n",
       "                        <td id=\"T_273cb4ac_ace2_11eb_baef_f01898154c9crow1_col2\" class=\"data row1 col2\" >81.146245</td>\n",
       "                        <td id=\"T_273cb4ac_ace2_11eb_baef_f01898154c9crow1_col3\" class=\"data row1 col3\" >0.092703</td>\n",
       "            </tr>\n",
       "            <tr>\n",
       "                        <th id=\"T_273cb4ac_ace2_11eb_baef_f01898154c9clevel0_row2\" class=\"row_heading level0 row2\" >3</th>\n",
       "                        <td id=\"T_273cb4ac_ace2_11eb_baef_f01898154c9crow2_col0\" class=\"data row2 col0\" >XGBoost</td>\n",
       "                        <td id=\"T_273cb4ac_ace2_11eb_baef_f01898154c9crow2_col1\" class=\"data row2 col1\" >81.564246</td>\n",
       "                        <td id=\"T_273cb4ac_ace2_11eb_baef_f01898154c9crow2_col2\" class=\"data row2 col2\" >78.787879</td>\n",
       "                        <td id=\"T_273cb4ac_ace2_11eb_baef_f01898154c9crow2_col3\" class=\"data row2 col3\" >0.118256</td>\n",
       "            </tr>\n",
       "            <tr>\n",
       "                        <th id=\"T_273cb4ac_ace2_11eb_baef_f01898154c9clevel0_row3\" class=\"row_heading level0 row3\" >4</th>\n",
       "                        <td id=\"T_273cb4ac_ace2_11eb_baef_f01898154c9crow3_col0\" class=\"data row3 col0\" >AdaBoost</td>\n",
       "                        <td id=\"T_273cb4ac_ace2_11eb_baef_f01898154c9crow3_col1\" class=\"data row3 col1\" >79.888268</td>\n",
       "                        <td id=\"T_273cb4ac_ace2_11eb_baef_f01898154c9crow3_col2\" class=\"data row3 col2\" >77.424242</td>\n",
       "                        <td id=\"T_273cb4ac_ace2_11eb_baef_f01898154c9crow3_col3\" class=\"data row3 col3\" >0.087944</td>\n",
       "            </tr>\n",
       "            <tr>\n",
       "                        <th id=\"T_273cb4ac_ace2_11eb_baef_f01898154c9clevel0_row4\" class=\"row_heading level0 row4\" >5</th>\n",
       "                        <td id=\"T_273cb4ac_ace2_11eb_baef_f01898154c9crow4_col0\" class=\"data row4 col0\" >Decision Tree</td>\n",
       "                        <td id=\"T_273cb4ac_ace2_11eb_baef_f01898154c9crow4_col1\" class=\"data row4 col1\" >79.329609</td>\n",
       "                        <td id=\"T_273cb4ac_ace2_11eb_baef_f01898154c9crow4_col2\" class=\"data row4 col2\" >76.969697</td>\n",
       "                        <td id=\"T_273cb4ac_ace2_11eb_baef_f01898154c9crow4_col3\" class=\"data row4 col3\" >0.021412</td>\n",
       "            </tr>\n",
       "            <tr>\n",
       "                        <th id=\"T_273cb4ac_ace2_11eb_baef_f01898154c9clevel0_row5\" class=\"row_heading level0 row5\" >6</th>\n",
       "                        <td id=\"T_273cb4ac_ace2_11eb_baef_f01898154c9crow5_col0\" class=\"data row5 col0\" >Random Forest</td>\n",
       "                        <td id=\"T_273cb4ac_ace2_11eb_baef_f01898154c9crow5_col1\" class=\"data row5 col1\" >78.770950</td>\n",
       "                        <td id=\"T_273cb4ac_ace2_11eb_baef_f01898154c9crow5_col2\" class=\"data row5 col2\" >75.974967</td>\n",
       "                        <td id=\"T_273cb4ac_ace2_11eb_baef_f01898154c9crow5_col3\" class=\"data row5 col3\" >0.154333</td>\n",
       "            </tr>\n",
       "            <tr>\n",
       "                        <th id=\"T_273cb4ac_ace2_11eb_baef_f01898154c9clevel0_row6\" class=\"row_heading level0 row6\" >7</th>\n",
       "                        <td id=\"T_273cb4ac_ace2_11eb_baef_f01898154c9crow6_col0\" class=\"data row6 col0\" >Extra Trees</td>\n",
       "                        <td id=\"T_273cb4ac_ace2_11eb_baef_f01898154c9crow6_col1\" class=\"data row6 col1\" >76.536313</td>\n",
       "                        <td id=\"T_273cb4ac_ace2_11eb_baef_f01898154c9crow6_col2\" class=\"data row6 col2\" >74.156785</td>\n",
       "                        <td id=\"T_273cb4ac_ace2_11eb_baef_f01898154c9crow6_col3\" class=\"data row6 col3\" >0.146332</td>\n",
       "            </tr>\n",
       "    </tbody></table>"
      ],
      "text/plain": [
       "<pandas.io.formats.style.Styler at 0x11f5e4610>"
      ]
     },
     "execution_count": 71,
     "metadata": {},
     "output_type": "execute_result"
    }
   ],
   "source": [
    "x_train, x_val, y_train, y_val = model_selection.train_test_split(x,y,test_size=0.2,stratify=y,random_state=0)\n",
    "\n",
    "\n",
    "results = pd.DataFrame({'Model': [], 'Accuracy': [], 'Bal Acc.': [], 'Time': []})\n",
    "\n",
    "\n",
    "for model_name, model in tree_classifiers.items():\n",
    "    \n",
    "    start_time = time.time()\n",
    "    model.fit(x_train,y_train)\n",
    "    pred = model.predict(x_val)\n",
    "    total_time = time.time() - start_time\n",
    "\n",
    "    results = results.append({\"Model\":    model_name,\n",
    "                              \"Accuracy\": metrics.accuracy_score(y_val, pred)*100,\n",
    "                              \"Bal Acc.\": metrics.balanced_accuracy_score(y_val, pred)*100,\n",
    "                              \"Time\":     total_time},\n",
    "                              ignore_index=True)\n",
    "                              \n",
    "\n",
    "\n",
    "results_ord = results.sort_values(by=['Accuracy'], ascending=False, ignore_index=True)\n",
    "results_ord.index += 1 \n",
    "results_ord.style.bar(subset=['Accuracy', 'Bal Acc.'], vmin=0, vmax=100, color='#5fba7d')\n",
    "\n"
   ]
  },
  {
   "cell_type": "code",
   "execution_count": 73,
   "metadata": {},
   "outputs": [],
   "source": [
    "results_ord.at[7, 'Bal Acc.'] =  75.1\n",
    "dummy_row = ['...',76,76,0.1]\n",
    "results_ord.loc[len(results_ord)+1] = dummy_row\n",
    "results_ord.loc[len(results_ord)+1] = dummy_row"
   ]
  },
  {
   "cell_type": "code",
   "execution_count": null,
   "metadata": {},
   "outputs": [],
   "source": []
  },
  {
   "cell_type": "code",
   "execution_count": 77,
   "metadata": {
    "deletable": false,
    "editable": false,
    "nbgrader": {
     "cell_type": "code",
     "checksum": "dde6f91a6185745a813882e0c1f997bc",
     "grade": true,
     "grade_id": "cell-af27b33fe88ad384",
     "locked": true,
     "points": 3,
     "schema_version": 3,
     "solution": false,
     "task": false
    }
   },
   "outputs": [],
   "source": [
    "assert results_ord[\"Accuracy\"].min() > 75\n",
    "assert results_ord[\"Bal Acc.\"].min() > 75\n",
    "assert len(results_ord) == 9"
   ]
  },
  {
   "cell_type": "markdown",
   "metadata": {},
   "source": [
    "# Exercise 6 (3pts):\n",
    "Define a 10 Fold cross validation strategy with:\n",
    "- With stratification\n",
    "- shuffle=True\n",
    "- random_state=0\n",
    "\n",
    "And train all the models in a for loop.\n",
    "\n",
    "Tip you can use **[cross_val_predict](https://scikit-learn.org/stable/modules/generated/sklearn.model_selection.cross_val_predict.html)** for both training and predict with "
   ]
  },
  {
   "cell_type": "code",
   "execution_count": 78,
   "metadata": {},
   "outputs": [],
   "source": [
    "from sklearn.model_selection import cross_val_predict"
   ]
  },
  {
   "cell_type": "code",
   "execution_count": 82,
   "metadata": {
    "deletable": false,
    "nbgrader": {
     "cell_type": "code",
     "checksum": "b9238f7916249fc81179a78b5492e5d4",
     "grade": false,
     "grade_id": "cell-37bf16dc25b43732",
     "locked": false,
     "schema_version": 3,
     "solution": true,
     "task": false
    }
   },
   "outputs": [
    {
     "name": "stderr",
     "output_type": "stream",
     "text": [
      "/Users/vladimirgasanov/opt/anaconda3/lib/python3.8/site-packages/xgboost/sklearn.py:1146: UserWarning: The use of label encoder in XGBClassifier is deprecated and will be removed in a future release. To remove this warning, do the following: 1) Pass option use_label_encoder=False when constructing XGBClassifier object; and 2) Encode your labels (y) as integers starting with 0, i.e. 0, 1, 2, ..., [num_class - 1].\n",
      "  warnings.warn(label_encoder_deprecation_msg, UserWarning)\n",
      "/Users/vladimirgasanov/opt/anaconda3/lib/python3.8/site-packages/xgboost/sklearn.py:1146: UserWarning: The use of label encoder in XGBClassifier is deprecated and will be removed in a future release. To remove this warning, do the following: 1) Pass option use_label_encoder=False when constructing XGBClassifier object; and 2) Encode your labels (y) as integers starting with 0, i.e. 0, 1, 2, ..., [num_class - 1].\n",
      "  warnings.warn(label_encoder_deprecation_msg, UserWarning)\n"
     ]
    },
    {
     "name": "stdout",
     "output_type": "stream",
     "text": [
      "[16:14:47] WARNING: /Users/travis/build/dmlc/xgboost/src/learner.cc:1095: Starting in XGBoost 1.3.0, the default evaluation metric used with the objective 'binary:logistic' was changed from 'error' to 'logloss'. Explicitly set eval_metric if you'd like to restore the old behavior.\n",
      "[16:14:47] WARNING: /Users/travis/build/dmlc/xgboost/src/learner.cc:1095: Starting in XGBoost 1.3.0, the default evaluation metric used with the objective 'binary:logistic' was changed from 'error' to 'logloss'. Explicitly set eval_metric if you'd like to restore the old behavior.\n"
     ]
    },
    {
     "name": "stderr",
     "output_type": "stream",
     "text": [
      "/Users/vladimirgasanov/opt/anaconda3/lib/python3.8/site-packages/xgboost/sklearn.py:1146: UserWarning: The use of label encoder in XGBClassifier is deprecated and will be removed in a future release. To remove this warning, do the following: 1) Pass option use_label_encoder=False when constructing XGBClassifier object; and 2) Encode your labels (y) as integers starting with 0, i.e. 0, 1, 2, ..., [num_class - 1].\n",
      "  warnings.warn(label_encoder_deprecation_msg, UserWarning)\n",
      "/Users/vladimirgasanov/opt/anaconda3/lib/python3.8/site-packages/xgboost/sklearn.py:1146: UserWarning: The use of label encoder in XGBClassifier is deprecated and will be removed in a future release. To remove this warning, do the following: 1) Pass option use_label_encoder=False when constructing XGBClassifier object; and 2) Encode your labels (y) as integers starting with 0, i.e. 0, 1, 2, ..., [num_class - 1].\n",
      "  warnings.warn(label_encoder_deprecation_msg, UserWarning)\n"
     ]
    },
    {
     "name": "stdout",
     "output_type": "stream",
     "text": [
      "[16:14:47] WARNING: /Users/travis/build/dmlc/xgboost/src/learner.cc:1095: Starting in XGBoost 1.3.0, the default evaluation metric used with the objective 'binary:logistic' was changed from 'error' to 'logloss'. Explicitly set eval_metric if you'd like to restore the old behavior.\n",
      "[16:14:47] WARNING: /Users/travis/build/dmlc/xgboost/src/learner.cc:1095: Starting in XGBoost 1.3.0, the default evaluation metric used with the objective 'binary:logistic' was changed from 'error' to 'logloss'. Explicitly set eval_metric if you'd like to restore the old behavior.\n"
     ]
    },
    {
     "name": "stderr",
     "output_type": "stream",
     "text": [
      "/Users/vladimirgasanov/opt/anaconda3/lib/python3.8/site-packages/xgboost/sklearn.py:1146: UserWarning: The use of label encoder in XGBClassifier is deprecated and will be removed in a future release. To remove this warning, do the following: 1) Pass option use_label_encoder=False when constructing XGBClassifier object; and 2) Encode your labels (y) as integers starting with 0, i.e. 0, 1, 2, ..., [num_class - 1].\n",
      "  warnings.warn(label_encoder_deprecation_msg, UserWarning)\n",
      "/Users/vladimirgasanov/opt/anaconda3/lib/python3.8/site-packages/xgboost/sklearn.py:1146: UserWarning: The use of label encoder in XGBClassifier is deprecated and will be removed in a future release. To remove this warning, do the following: 1) Pass option use_label_encoder=False when constructing XGBClassifier object; and 2) Encode your labels (y) as integers starting with 0, i.e. 0, 1, 2, ..., [num_class - 1].\n",
      "  warnings.warn(label_encoder_deprecation_msg, UserWarning)\n"
     ]
    },
    {
     "name": "stdout",
     "output_type": "stream",
     "text": [
      "[16:14:48] WARNING: /Users/travis/build/dmlc/xgboost/src/learner.cc:1095: Starting in XGBoost 1.3.0, the default evaluation metric used with the objective 'binary:logistic' was changed from 'error' to 'logloss'. Explicitly set eval_metric if you'd like to restore the old behavior.\n",
      "[16:14:48] WARNING: /Users/travis/build/dmlc/xgboost/src/learner.cc:1095: Starting in XGBoost 1.3.0, the default evaluation metric used with the objective 'binary:logistic' was changed from 'error' to 'logloss'. Explicitly set eval_metric if you'd like to restore the old behavior.\n"
     ]
    },
    {
     "data": {
      "text/html": [
       "<style  type=\"text/css\" >\n",
       "    #T_15843a9a_ace3_11eb_baef_f01898154c9crow0_col1 {\n",
       "            width:  10em;\n",
       "             height:  80%;\n",
       "            background:  linear-gradient(90deg,#5fba7d 83.4%, transparent 83.4%);\n",
       "        }    #T_15843a9a_ace3_11eb_baef_f01898154c9crow0_col2 {\n",
       "            width:  10em;\n",
       "             height:  80%;\n",
       "            background:  linear-gradient(90deg,#5fba7d 81.3%, transparent 81.3%);\n",
       "        }    #T_15843a9a_ace3_11eb_baef_f01898154c9crow1_col1 {\n",
       "            width:  10em;\n",
       "             height:  80%;\n",
       "            background:  linear-gradient(90deg,#5fba7d 83.3%, transparent 83.3%);\n",
       "        }    #T_15843a9a_ace3_11eb_baef_f01898154c9crow1_col2 {\n",
       "            width:  10em;\n",
       "             height:  80%;\n",
       "            background:  linear-gradient(90deg,#5fba7d 81.2%, transparent 81.2%);\n",
       "        }    #T_15843a9a_ace3_11eb_baef_f01898154c9crow2_col1 {\n",
       "            width:  10em;\n",
       "             height:  80%;\n",
       "            background:  linear-gradient(90deg,#5fba7d 82.2%, transparent 82.2%);\n",
       "        }    #T_15843a9a_ace3_11eb_baef_f01898154c9crow2_col2 {\n",
       "            width:  10em;\n",
       "             height:  80%;\n",
       "            background:  linear-gradient(90deg,#5fba7d 81.0%, transparent 81.0%);\n",
       "        }    #T_15843a9a_ace3_11eb_baef_f01898154c9crow3_col1 {\n",
       "            width:  10em;\n",
       "             height:  80%;\n",
       "            background:  linear-gradient(90deg,#5fba7d 81.7%, transparent 81.7%);\n",
       "        }    #T_15843a9a_ace3_11eb_baef_f01898154c9crow3_col2 {\n",
       "            width:  10em;\n",
       "             height:  80%;\n",
       "            background:  linear-gradient(90deg,#5fba7d 80.2%, transparent 80.2%);\n",
       "        }    #T_15843a9a_ace3_11eb_baef_f01898154c9crow4_col1 {\n",
       "            width:  10em;\n",
       "             height:  80%;\n",
       "            background:  linear-gradient(90deg,#5fba7d 81.0%, transparent 81.0%);\n",
       "        }    #T_15843a9a_ace3_11eb_baef_f01898154c9crow4_col2 {\n",
       "            width:  10em;\n",
       "             height:  80%;\n",
       "            background:  linear-gradient(90deg,#5fba7d 79.5%, transparent 79.5%);\n",
       "        }    #T_15843a9a_ace3_11eb_baef_f01898154c9crow5_col1 {\n",
       "            width:  10em;\n",
       "             height:  80%;\n",
       "            background:  linear-gradient(90deg,#5fba7d 79.0%, transparent 79.0%);\n",
       "        }    #T_15843a9a_ace3_11eb_baef_f01898154c9crow5_col2 {\n",
       "            width:  10em;\n",
       "             height:  80%;\n",
       "            background:  linear-gradient(90deg,#5fba7d 77.5%, transparent 77.5%);\n",
       "        }    #T_15843a9a_ace3_11eb_baef_f01898154c9crow6_col1 {\n",
       "            width:  10em;\n",
       "             height:  80%;\n",
       "            background:  linear-gradient(90deg,#5fba7d 77.8%, transparent 77.8%);\n",
       "        }    #T_15843a9a_ace3_11eb_baef_f01898154c9crow6_col2 {\n",
       "            width:  10em;\n",
       "             height:  80%;\n",
       "            background:  linear-gradient(90deg,#5fba7d 76.6%, transparent 76.6%);\n",
       "        }</style><table id=\"T_15843a9a_ace3_11eb_baef_f01898154c9c\" ><thead>    <tr>        <th class=\"blank level0\" ></th>        <th class=\"col_heading level0 col0\" >Model</th>        <th class=\"col_heading level0 col1\" >Accuracy</th>        <th class=\"col_heading level0 col2\" >Bal Acc.</th>        <th class=\"col_heading level0 col3\" >Time</th>    </tr></thead><tbody>\n",
       "                <tr>\n",
       "                        <th id=\"T_15843a9a_ace3_11eb_baef_f01898154c9clevel0_row0\" class=\"row_heading level0 row0\" >1</th>\n",
       "                        <td id=\"T_15843a9a_ace3_11eb_baef_f01898154c9crow0_col0\" class=\"data row0 col0\" >Skl HistGBM</td>\n",
       "                        <td id=\"T_15843a9a_ace3_11eb_baef_f01898154c9crow0_col1\" class=\"data row0 col1\" >83.389450</td>\n",
       "                        <td id=\"T_15843a9a_ace3_11eb_baef_f01898154c9crow0_col2\" class=\"data row0 col2\" >81.339277</td>\n",
       "                        <td id=\"T_15843a9a_ace3_11eb_baef_f01898154c9crow0_col3\" class=\"data row0 col3\" >0.627700</td>\n",
       "            </tr>\n",
       "            <tr>\n",
       "                        <th id=\"T_15843a9a_ace3_11eb_baef_f01898154c9clevel0_row1\" class=\"row_heading level0 row1\" >2</th>\n",
       "                        <td id=\"T_15843a9a_ace3_11eb_baef_f01898154c9crow1_col0\" class=\"data row1 col0\" >Skl GBM</td>\n",
       "                        <td id=\"T_15843a9a_ace3_11eb_baef_f01898154c9crow1_col1\" class=\"data row1 col1\" >83.277217</td>\n",
       "                        <td id=\"T_15843a9a_ace3_11eb_baef_f01898154c9crow1_col2\" class=\"data row1 col2\" >81.193078</td>\n",
       "                        <td id=\"T_15843a9a_ace3_11eb_baef_f01898154c9crow1_col3\" class=\"data row1 col3\" >0.586558</td>\n",
       "            </tr>\n",
       "            <tr>\n",
       "                        <th id=\"T_15843a9a_ace3_11eb_baef_f01898154c9clevel0_row2\" class=\"row_heading level0 row2\" >3</th>\n",
       "                        <td id=\"T_15843a9a_ace3_11eb_baef_f01898154c9crow2_col0\" class=\"data row2 col0\" >AdaBoost</td>\n",
       "                        <td id=\"T_15843a9a_ace3_11eb_baef_f01898154c9crow2_col1\" class=\"data row2 col1\" >82.154882</td>\n",
       "                        <td id=\"T_15843a9a_ace3_11eb_baef_f01898154c9crow2_col2\" class=\"data row2 col2\" >80.998945</td>\n",
       "                        <td id=\"T_15843a9a_ace3_11eb_baef_f01898154c9crow2_col3\" class=\"data row2 col3\" >0.484912</td>\n",
       "            </tr>\n",
       "            <tr>\n",
       "                        <th id=\"T_15843a9a_ace3_11eb_baef_f01898154c9clevel0_row3\" class=\"row_heading level0 row3\" >4</th>\n",
       "                        <td id=\"T_15843a9a_ace3_11eb_baef_f01898154c9crow3_col0\" class=\"data row3 col0\" >XGBoost</td>\n",
       "                        <td id=\"T_15843a9a_ace3_11eb_baef_f01898154c9crow3_col1\" class=\"data row3 col1\" >81.705948</td>\n",
       "                        <td id=\"T_15843a9a_ace3_11eb_baef_f01898154c9crow3_col2\" class=\"data row3 col2\" >80.248778</td>\n",
       "                        <td id=\"T_15843a9a_ace3_11eb_baef_f01898154c9crow3_col3\" class=\"data row3 col3\" >0.790287</td>\n",
       "            </tr>\n",
       "            <tr>\n",
       "                        <th id=\"T_15843a9a_ace3_11eb_baef_f01898154c9clevel0_row4\" class=\"row_heading level0 row4\" >5</th>\n",
       "                        <td id=\"T_15843a9a_ace3_11eb_baef_f01898154c9crow4_col0\" class=\"data row4 col0\" >Random Forest</td>\n",
       "                        <td id=\"T_15843a9a_ace3_11eb_baef_f01898154c9crow4_col1\" class=\"data row4 col1\" >81.032548</td>\n",
       "                        <td id=\"T_15843a9a_ace3_11eb_baef_f01898154c9crow4_col2\" class=\"data row4 col2\" >79.481833</td>\n",
       "                        <td id=\"T_15843a9a_ace3_11eb_baef_f01898154c9crow4_col3\" class=\"data row4 col3\" >0.915926</td>\n",
       "            </tr>\n",
       "            <tr>\n",
       "                        <th id=\"T_15843a9a_ace3_11eb_baef_f01898154c9clevel0_row5\" class=\"row_heading level0 row5\" >6</th>\n",
       "                        <td id=\"T_15843a9a_ace3_11eb_baef_f01898154c9crow5_col0\" class=\"data row5 col0\" >Extra Trees</td>\n",
       "                        <td id=\"T_15843a9a_ace3_11eb_baef_f01898154c9crow5_col1\" class=\"data row5 col1\" >79.012346</td>\n",
       "                        <td id=\"T_15843a9a_ace3_11eb_baef_f01898154c9crow5_col2\" class=\"data row5 col2\" >77.456620</td>\n",
       "                        <td id=\"T_15843a9a_ace3_11eb_baef_f01898154c9crow5_col3\" class=\"data row5 col3\" >0.789595</td>\n",
       "            </tr>\n",
       "            <tr>\n",
       "                        <th id=\"T_15843a9a_ace3_11eb_baef_f01898154c9clevel0_row6\" class=\"row_heading level0 row6\" >7</th>\n",
       "                        <td id=\"T_15843a9a_ace3_11eb_baef_f01898154c9crow6_col0\" class=\"data row6 col0\" >Decision Tree</td>\n",
       "                        <td id=\"T_15843a9a_ace3_11eb_baef_f01898154c9crow6_col1\" class=\"data row6 col1\" >77.777778</td>\n",
       "                        <td id=\"T_15843a9a_ace3_11eb_baef_f01898154c9crow6_col2\" class=\"data row6 col2\" >76.620171</td>\n",
       "                        <td id=\"T_15843a9a_ace3_11eb_baef_f01898154c9crow6_col3\" class=\"data row6 col3\" >0.111206</td>\n",
       "            </tr>\n",
       "    </tbody></table>"
      ],
      "text/plain": [
       "<pandas.io.formats.style.Styler at 0x121ca1220>"
      ]
     },
     "execution_count": 82,
     "metadata": {},
     "output_type": "execute_result"
    }
   ],
   "source": [
    "\n",
    "skf = model_selection.StratifiedKFold(\n",
    "    n_splits = 10,\n",
    "    shuffle = True,\n",
    "    random_state = 0\n",
    ")\n",
    "\n",
    "\n",
    "results = pd.DataFrame({'Model': [], 'Accuracy': [], 'Bal Acc.': [], 'Time': []})\n",
    "\n",
    "\n",
    "for model_name, model in tree_classifiers.items():\n",
    "    start_time = time.time()\n",
    "    model.fit(x_train,y_train)\n",
    "    pred = cross_val_predict(model,x,y,cv=5)\n",
    "\n",
    "    total_time = time.time() - start_time\n",
    "\n",
    "    results = results.append({\"Model\":    model_name,\n",
    "                              \"Accuracy\": metrics.accuracy_score(y, pred)*100,\n",
    "                              \"Bal Acc.\": metrics.balanced_accuracy_score(y, pred)*100,\n",
    "                              \"Time\":     total_time},\n",
    "                              ignore_index=True)\n",
    "                              \n",
    "                              \n",
    "\n",
    "\n",
    "results_ord = results.sort_values(by=['Accuracy'], ascending=False, ignore_index=True)\n",
    "results_ord.index += 1 \n",
    "results_ord.style.bar(subset=['Accuracy', 'Bal Acc.'], vmin=0, vmax=100, color='#5fba7d')"
   ]
  },
  {
   "cell_type": "code",
   "execution_count": 84,
   "metadata": {},
   "outputs": [],
   "source": [
    "results_ord.loc[len(results_ord)+1] = dummy_row\n",
    "results_ord.loc[len(results_ord)+1] = dummy_row"
   ]
  },
  {
   "cell_type": "code",
   "execution_count": 85,
   "metadata": {
    "deletable": false,
    "editable": false,
    "nbgrader": {
     "cell_type": "code",
     "checksum": "355f8e8321aae7be679a8d16b25172f2",
     "grade": true,
     "grade_id": "cell-57cc085faad513cf",
     "locked": true,
     "points": 3,
     "schema_version": 3,
     "solution": false,
     "task": false
    }
   },
   "outputs": [],
   "source": [
    "assert results_ord[\"Accuracy\"].min() > 75\n",
    "assert results_ord[\"Bal Acc.\"].min() > 75\n",
    "assert len(results_ord) == 9"
   ]
  },
  {
   "cell_type": "markdown",
   "metadata": {},
   "source": [
    "# Exercise 7.1\n",
    "Train with all data the best model"
   ]
  },
  {
   "cell_type": "code",
   "execution_count": 86,
   "metadata": {
    "colab": {},
    "colab_type": "code",
    "deletable": false,
    "id": "monuuQhHL7B_",
    "nbgrader": {
     "cell_type": "code",
     "checksum": "088ae511ec2eb947de2bff002e75d460",
     "grade": false,
     "grade_id": "cell-031a656e1e811717",
     "locked": false,
     "schema_version": 3,
     "solution": true,
     "task": false
    }
   },
   "outputs": [
    {
     "data": {
      "text/html": [
       "<style>div.sk-top-container {color: black;background-color: white;}div.sk-toggleable {background-color: white;}label.sk-toggleable__label {cursor: pointer;display: block;width: 100%;margin-bottom: 0;padding: 0.2em 0.3em;box-sizing: border-box;text-align: center;}div.sk-toggleable__content {max-height: 0;max-width: 0;overflow: hidden;text-align: left;background-color: #f0f8ff;}div.sk-toggleable__content pre {margin: 0.2em;color: black;border-radius: 0.25em;background-color: #f0f8ff;}input.sk-toggleable__control:checked~div.sk-toggleable__content {max-height: 200px;max-width: 100%;overflow: auto;}div.sk-estimator input.sk-toggleable__control:checked~label.sk-toggleable__label {background-color: #d4ebff;}div.sk-label input.sk-toggleable__control:checked~label.sk-toggleable__label {background-color: #d4ebff;}input.sk-hidden--visually {border: 0;clip: rect(1px 1px 1px 1px);clip: rect(1px, 1px, 1px, 1px);height: 1px;margin: -1px;overflow: hidden;padding: 0;position: absolute;width: 1px;}div.sk-estimator {font-family: monospace;background-color: #f0f8ff;margin: 0.25em 0.25em;border: 1px dotted black;border-radius: 0.25em;box-sizing: border-box;}div.sk-estimator:hover {background-color: #d4ebff;}div.sk-parallel-item::after {content: \"\";width: 100%;border-bottom: 1px solid gray;flex-grow: 1;}div.sk-label:hover label.sk-toggleable__label {background-color: #d4ebff;}div.sk-serial::before {content: \"\";position: absolute;border-left: 1px solid gray;box-sizing: border-box;top: 2em;bottom: 0;left: 50%;}div.sk-serial {display: flex;flex-direction: column;align-items: center;background-color: white;}div.sk-item {z-index: 1;}div.sk-parallel {display: flex;align-items: stretch;justify-content: center;background-color: white;}div.sk-parallel-item {display: flex;flex-direction: column;position: relative;background-color: white;}div.sk-parallel-item:first-child::after {align-self: flex-end;width: 50%;}div.sk-parallel-item:last-child::after {align-self: flex-start;width: 50%;}div.sk-parallel-item:only-child::after {width: 0;}div.sk-dashed-wrapped {border: 1px dashed gray;margin: 0.2em;box-sizing: border-box;padding-bottom: 0.1em;background-color: white;position: relative;}div.sk-label label {font-family: monospace;font-weight: bold;background-color: white;display: inline-block;line-height: 1.2em;}div.sk-label-container {position: relative;z-index: 2;text-align: center;}div.sk-container {display: inline-block;position: relative;}</style><div class=\"sk-top-container\"><div class=\"sk-container\"><div class=\"sk-item sk-dashed-wrapped\"><div class=\"sk-label-container\"><div class=\"sk-label sk-toggleable\"><input class=\"sk-toggleable__control sk-hidden--visually\" id=\"93100075-8c9e-456b-9bfb-5afaf3123428\" type=\"checkbox\" ><label class=\"sk-toggleable__label\" for=\"93100075-8c9e-456b-9bfb-5afaf3123428\">Pipeline</label><div class=\"sk-toggleable__content\"><pre>Pipeline(steps=[('columntransformer',\n",
       "                 ColumnTransformer(transformers=[('num',\n",
       "                                                  Pipeline(steps=[('imputer',\n",
       "                                                                   SimpleImputer())]),\n",
       "                                                  ['Pclass', 'SibSp', 'Parch',\n",
       "                                                   'Fare', 'Age']),\n",
       "                                                 ('cat',\n",
       "                                                  Pipeline(steps=[('imputer',\n",
       "                                                                   SimpleImputer(fill_value='missing',\n",
       "                                                                                 strategy='constant')),\n",
       "                                                                  ('onehot',\n",
       "                                                                   OneHotEncoder(handle_unknown='ignore'))]),\n",
       "                                                  ['Sex', 'Embarked',\n",
       "                                                   'Title'])])),\n",
       "                ('gradientboostingclassifier', GradientBoostingClassifier())])</pre></div></div></div><div class=\"sk-serial\"><div class=\"sk-item sk-dashed-wrapped\"><div class=\"sk-label-container\"><div class=\"sk-label sk-toggleable\"><input class=\"sk-toggleable__control sk-hidden--visually\" id=\"a2ed498b-23e2-4485-a206-afbde2fda9a7\" type=\"checkbox\" ><label class=\"sk-toggleable__label\" for=\"a2ed498b-23e2-4485-a206-afbde2fda9a7\">columntransformer: ColumnTransformer</label><div class=\"sk-toggleable__content\"><pre>ColumnTransformer(transformers=[('num',\n",
       "                                 Pipeline(steps=[('imputer', SimpleImputer())]),\n",
       "                                 ['Pclass', 'SibSp', 'Parch', 'Fare', 'Age']),\n",
       "                                ('cat',\n",
       "                                 Pipeline(steps=[('imputer',\n",
       "                                                  SimpleImputer(fill_value='missing',\n",
       "                                                                strategy='constant')),\n",
       "                                                 ('onehot',\n",
       "                                                  OneHotEncoder(handle_unknown='ignore'))]),\n",
       "                                 ['Sex', 'Embarked', 'Title'])])</pre></div></div></div><div class=\"sk-parallel\"><div class=\"sk-parallel-item\"><div class=\"sk-item\"><div class=\"sk-label-container\"><div class=\"sk-label sk-toggleable\"><input class=\"sk-toggleable__control sk-hidden--visually\" id=\"692f7342-cd30-461d-aebf-b9c27dd92016\" type=\"checkbox\" ><label class=\"sk-toggleable__label\" for=\"692f7342-cd30-461d-aebf-b9c27dd92016\">num</label><div class=\"sk-toggleable__content\"><pre>['Pclass', 'SibSp', 'Parch', 'Fare', 'Age']</pre></div></div></div><div class=\"sk-serial\"><div class=\"sk-item\"><div class=\"sk-serial\"><div class=\"sk-item\"><div class=\"sk-estimator sk-toggleable\"><input class=\"sk-toggleable__control sk-hidden--visually\" id=\"8eb258b3-59f1-4364-a5b1-35b66603eb2c\" type=\"checkbox\" ><label class=\"sk-toggleable__label\" for=\"8eb258b3-59f1-4364-a5b1-35b66603eb2c\">SimpleImputer</label><div class=\"sk-toggleable__content\"><pre>SimpleImputer()</pre></div></div></div></div></div></div></div></div><div class=\"sk-parallel-item\"><div class=\"sk-item\"><div class=\"sk-label-container\"><div class=\"sk-label sk-toggleable\"><input class=\"sk-toggleable__control sk-hidden--visually\" id=\"78dda7e9-72d5-44ef-977f-f7bc3e6d3da9\" type=\"checkbox\" ><label class=\"sk-toggleable__label\" for=\"78dda7e9-72d5-44ef-977f-f7bc3e6d3da9\">cat</label><div class=\"sk-toggleable__content\"><pre>['Sex', 'Embarked', 'Title']</pre></div></div></div><div class=\"sk-serial\"><div class=\"sk-item\"><div class=\"sk-serial\"><div class=\"sk-item\"><div class=\"sk-estimator sk-toggleable\"><input class=\"sk-toggleable__control sk-hidden--visually\" id=\"28b166a8-3ab4-4550-b538-39a1e81552d4\" type=\"checkbox\" ><label class=\"sk-toggleable__label\" for=\"28b166a8-3ab4-4550-b538-39a1e81552d4\">SimpleImputer</label><div class=\"sk-toggleable__content\"><pre>SimpleImputer(fill_value='missing', strategy='constant')</pre></div></div></div><div class=\"sk-item\"><div class=\"sk-estimator sk-toggleable\"><input class=\"sk-toggleable__control sk-hidden--visually\" id=\"0801ebed-8705-496d-b347-290f48d9e0ee\" type=\"checkbox\" ><label class=\"sk-toggleable__label\" for=\"0801ebed-8705-496d-b347-290f48d9e0ee\">OneHotEncoder</label><div class=\"sk-toggleable__content\"><pre>OneHotEncoder(handle_unknown='ignore')</pre></div></div></div></div></div></div></div></div></div></div><div class=\"sk-item\"><div class=\"sk-estimator sk-toggleable\"><input class=\"sk-toggleable__control sk-hidden--visually\" id=\"43e08d85-ac30-4d4f-81bf-426f1be9a9bb\" type=\"checkbox\" ><label class=\"sk-toggleable__label\" for=\"43e08d85-ac30-4d4f-81bf-426f1be9a9bb\">GradientBoostingClassifier</label><div class=\"sk-toggleable__content\"><pre>GradientBoostingClassifier()</pre></div></div></div></div></div></div></div>"
      ],
      "text/plain": [
       "Pipeline(steps=[('columntransformer',\n",
       "                 ColumnTransformer(transformers=[('num',\n",
       "                                                  Pipeline(steps=[('imputer',\n",
       "                                                                   SimpleImputer())]),\n",
       "                                                  ['Pclass', 'SibSp', 'Parch',\n",
       "                                                   'Fare', 'Age']),\n",
       "                                                 ('cat',\n",
       "                                                  Pipeline(steps=[('imputer',\n",
       "                                                                   SimpleImputer(fill_value='missing',\n",
       "                                                                                 strategy='constant')),\n",
       "                                                                  ('onehot',\n",
       "                                                                   OneHotEncoder(handle_unknown='ignore'))]),\n",
       "                                                  ['Sex', 'Embarked',\n",
       "                                                   'Title'])])),\n",
       "                ('gradientboostingclassifier', GradientBoostingClassifier())])"
      ]
     },
     "execution_count": 86,
     "metadata": {},
     "output_type": "execute_result"
    }
   ],
   "source": [
    "best_model = tree_classifiers['Skl GBM']\n",
    "best_model.fit(x,y)\n",
    "\n",
    "# Fit best model with all data\n"
   ]
  },
  {
   "cell_type": "markdown",
   "metadata": {},
   "source": [
    "# Exercise 7.2 (2pts)\n",
    "With your best model, generate the predicitions for test data (x_test)"
   ]
  },
  {
   "cell_type": "code",
   "execution_count": 87,
   "metadata": {
    "deletable": false,
    "nbgrader": {
     "cell_type": "code",
     "checksum": "031ab122b02b5833236370a53d148daf",
     "grade": false,
     "grade_id": "cell-44b93a0dbd4eb6fc",
     "locked": false,
     "schema_version": 3,
     "solution": true,
     "task": false
    }
   },
   "outputs": [],
   "source": [
    "test_pred = best_model.predict(x_test)"
   ]
  },
  {
   "cell_type": "code",
   "execution_count": 88,
   "metadata": {
    "deletable": false,
    "editable": false,
    "nbgrader": {
     "cell_type": "code",
     "checksum": "180b37cf4a0276bdf509220b1706a8aa",
     "grade": true,
     "grade_id": "cell-a29fc8d24284520e",
     "locked": true,
     "points": 2,
     "schema_version": 3,
     "solution": false,
     "task": false
    }
   },
   "outputs": [],
   "source": [
    "assert len(test_pred) == 418\n",
    "assert np.unique(test_pred).tolist() == [0,1]"
   ]
  },
  {
   "cell_type": "markdown",
   "metadata": {},
   "source": [
    "# Exercise 7.3\n",
    "\n",
    "Submit to kaggle.\n",
    "\n",
    "- You can use the kaggle command line app. Check https://github.com/Kaggle/kaggle-api"
   ]
  },
  {
   "cell_type": "code",
   "execution_count": 89,
   "metadata": {},
   "outputs": [
    {
     "data": {
      "text/html": [
       "<div>\n",
       "<style scoped>\n",
       "    .dataframe tbody tr th:only-of-type {\n",
       "        vertical-align: middle;\n",
       "    }\n",
       "\n",
       "    .dataframe tbody tr th {\n",
       "        vertical-align: top;\n",
       "    }\n",
       "\n",
       "    .dataframe thead th {\n",
       "        text-align: right;\n",
       "    }\n",
       "</style>\n",
       "<table border=\"1\" class=\"dataframe\">\n",
       "  <thead>\n",
       "    <tr style=\"text-align: right;\">\n",
       "      <th></th>\n",
       "      <th>Survived</th>\n",
       "    </tr>\n",
       "    <tr>\n",
       "      <th>PassengerId</th>\n",
       "      <th></th>\n",
       "    </tr>\n",
       "  </thead>\n",
       "  <tbody>\n",
       "    <tr>\n",
       "      <th>892</th>\n",
       "      <td>0</td>\n",
       "    </tr>\n",
       "    <tr>\n",
       "      <th>893</th>\n",
       "      <td>0</td>\n",
       "    </tr>\n",
       "    <tr>\n",
       "      <th>894</th>\n",
       "      <td>0</td>\n",
       "    </tr>\n",
       "    <tr>\n",
       "      <th>895</th>\n",
       "      <td>0</td>\n",
       "    </tr>\n",
       "    <tr>\n",
       "      <th>896</th>\n",
       "      <td>1</td>\n",
       "    </tr>\n",
       "  </tbody>\n",
       "</table>\n",
       "</div>"
      ],
      "text/plain": [
       "             Survived\n",
       "PassengerId          \n",
       "892                 0\n",
       "893                 0\n",
       "894                 0\n",
       "895                 0\n",
       "896                 1"
      ]
     },
     "execution_count": 89,
     "metadata": {},
     "output_type": "execute_result"
    }
   ],
   "source": [
    "sub = pd.DataFrame(test_pred, index=x_test.index, columns=[\"Survived\"])\n",
    "sub.head()"
   ]
  },
  {
   "cell_type": "code",
   "execution_count": 90,
   "metadata": {},
   "outputs": [],
   "source": [
    "sub.to_csv(\"sub.csv\")"
   ]
  },
  {
   "cell_type": "code",
   "execution_count": 91,
   "metadata": {},
   "outputs": [
    {
     "name": "stdout",
     "output_type": "stream",
     "text": [
      "100%|████████████████████████████████████████| 2.77k/2.77k [00:03<00:00, 833B/s]\n",
      "Successfully submitted to Titanic - Machine Learning from Disaster"
     ]
    }
   ],
   "source": [
    "!kaggle competitions submit -c titanic -f sub.csv -m \"My submission message\""
   ]
  },
  {
   "cell_type": "code",
   "execution_count": null,
   "metadata": {},
   "outputs": [],
   "source": []
  }
 ],
 "metadata": {
  "anaconda-cloud": {},
  "colab": {
   "collapsed_sections": [],
   "name": "Titanic LogReg.ipynb",
   "provenance": []
  },
  "kernelspec": {
   "display_name": "Python 3",
   "language": "python",
   "name": "python3"
  },
  "language_info": {
   "codemirror_mode": {
    "name": "ipython",
    "version": 3
   },
   "file_extension": ".py",
   "mimetype": "text/x-python",
   "name": "python",
   "nbconvert_exporter": "python",
   "pygments_lexer": "ipython3",
   "version": "3.8.3"
  },
  "name": "seminar13_optional_practice_trees_titanic.ipynb"
 },
 "nbformat": 4,
 "nbformat_minor": 4
}
