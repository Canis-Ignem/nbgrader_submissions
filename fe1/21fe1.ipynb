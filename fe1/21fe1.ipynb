{
 "cells": [
  {
   "cell_type": "markdown",
   "metadata": {},
   "source": [
    "## Imports"
   ]
  },
  {
   "cell_type": "code",
   "execution_count": 3,
   "metadata": {
    "colab": {},
    "colab_type": "code",
    "id": "mjnuJ19dJV7v"
   },
   "outputs": [
    {
     "output_type": "stream",
     "name": "stdout",
     "text": [
      "Pandas   1.1.3\nSklearn  0.23.2\n"
     ]
    }
   ],
   "source": [
    "import time\n",
    "from IPython.display import clear_output\n",
    "import numpy    as np\n",
    "import pandas   as pd\n",
    "import seaborn  as sb\n",
    "import matplotlib.pyplot as plt\n",
    "import sklearn  as skl\n",
    "\n",
    "from sklearn import pipeline      # Pipeline\n",
    "from sklearn import preprocessing # OrdinalEncoder, LabelEncoder\n",
    "from sklearn import impute\n",
    "from sklearn import compose\n",
    "from sklearn import model_selection # train_test_split\n",
    "from sklearn import metrics         # accuracy_score, balanced_accuracy_score, plot_confusion_matrix\n",
    "from sklearn import set_config\n",
    "\n",
    "set_config(display='diagram') # Useful for display the pipeline\n",
    "\n",
    "print(\"Pandas  \", pd.__version__)\n",
    "print(\"Sklearn \", skl.__version__) # Try to use 0.24"
   ]
  },
  {
   "cell_type": "markdown",
   "metadata": {},
   "source": [
    "## Get the dataset\n",
    "- **CLOUD = True**: Download dataset from Kaggle. Necesary for cloud enviroments like COLAB. **Specify your [kaggle credentials](https://www.kaggle.com/docs/api)**.\n",
    "- **CLOUD = False**: Get the dataset from your local machine. **Specify the data path**."
   ]
  },
  {
   "cell_type": "code",
   "execution_count": 4,
   "metadata": {},
   "outputs": [],
   "source": [
    "CLOUD = False\n",
    "\n",
    "if CLOUD:\n",
    "    import os\n",
    "    os.environ['KAGGLE_USERNAME'] = \"your_kaggle_username\"\n",
    "    os.environ['KAGGLE_KEY']      = \"your_kaggle_api_key\"  # See https://www.kaggle.com/docs/api\n",
    "    !pip install --upgrade kaggle\n",
    "    !kaggle competitions download -c titanic\n",
    "    DATA_PATH = \"./\"\n",
    "\n",
    "else:\n",
    "    DATA_PATH = \"../../Datasets/Tabular/titanic/\""
   ]
  },
  {
   "cell_type": "markdown",
   "metadata": {},
   "source": [
    "## Load data"
   ]
  },
  {
   "cell_type": "code",
   "execution_count": 6,
   "metadata": {
    "colab": {},
    "colab_type": "code",
    "id": "wAy8TnVPJV8S"
   },
   "outputs": [
    {
     "output_type": "stream",
     "name": "stdout",
     "text": [
      "Train DataFrame: (891, 11)\nTest DataFrame:  (418, 10)\n"
     ]
    }
   ],
   "source": [
    "df      = pd.read_csv(DATA_PATH + \"train.csv\", index_col='PassengerId')\n",
    "df_test = pd.read_csv(DATA_PATH + \"test.csv\",  index_col='PassengerId')\n",
    "\n",
    "print(\"Train DataFrame:\", df.shape)\n",
    "print(\"Test DataFrame: \", df_test.shape)"
   ]
  },
  {
   "cell_type": "markdown",
   "metadata": {},
   "source": [
    "## Check missings"
   ]
  },
  {
   "cell_type": "code",
   "execution_count": 7,
   "metadata": {},
   "outputs": [
    {
     "output_type": "execute_result",
     "data": {
      "text/plain": [
       "Survived      0\n",
       "Pclass        0\n",
       "Name          0\n",
       "Sex           0\n",
       "Age         177\n",
       "SibSp         0\n",
       "Parch         0\n",
       "Ticket        0\n",
       "Fare          0\n",
       "Cabin       687\n",
       "Embarked      2\n",
       "dtype: int64"
      ]
     },
     "metadata": {},
     "execution_count": 7
    }
   ],
   "source": [
    "df.isnull().sum()"
   ]
  },
  {
   "cell_type": "code",
   "execution_count": 8,
   "metadata": {},
   "outputs": [
    {
     "output_type": "execute_result",
     "data": {
      "text/plain": [
       "Pclass        0\n",
       "Name          0\n",
       "Sex           0\n",
       "Age          86\n",
       "SibSp         0\n",
       "Parch         0\n",
       "Ticket        0\n",
       "Fare          1\n",
       "Cabin       327\n",
       "Embarked      0\n",
       "dtype: int64"
      ]
     },
     "metadata": {},
     "execution_count": 8
    }
   ],
   "source": [
    "df_test.isnull().sum()"
   ]
  },
  {
   "cell_type": "markdown",
   "metadata": {},
   "source": [
    "# Exercise 1 (2pts):\n",
    "Extract the title (Mr, Mrs, ... ) from the \"Name\" column.\n",
    "\n",
    "Tips:\n",
    "- split(',')[1] to get the 2nd part, and remove the surnamename\n",
    "- split('.')[0] to get the 1str part, and remove the name"
   ]
  },
  {
   "cell_type": "code",
   "execution_count": 9,
   "metadata": {
    "deletable": false,
    "nbgrader": {
     "cell_type": "code",
     "checksum": "cac1de4ed2d966fcdf707a8bfd131fba",
     "grade": false,
     "grade_id": "cell-d56107842f0f54d2",
     "locked": false,
     "schema_version": 3,
     "solution": true,
     "task": false
    }
   },
   "outputs": [],
   "source": [
    "# CODE HERE get_Title_from_Name funtion\n",
    "# Create this function using lambda (not def)\n",
    "\n",
    "get_Title_from_Name = lambda name: name.split(',')[1].split('.')[0].strip()\n",
    "\n",
    "\n",
    "df['Title']      = df['Name'].map(get_Title_from_Name)\n",
    "df_test['Title'] = df_test['Name'].map(get_Title_from_Name)"
   ]
  },
  {
   "cell_type": "code",
   "execution_count": 10,
   "metadata": {
    "deletable": false,
    "editable": false,
    "nbgrader": {
     "cell_type": "code",
     "checksum": "f23c4d567e5fb4f4b69a001df14c6f7c",
     "grade": true,
     "grade_id": "cell-f3d989a17018344b",
     "locked": true,
     "points": 2,
     "schema_version": 3,
     "solution": false,
     "task": false
    }
   },
   "outputs": [],
   "source": [
    "assert df['Title'].values[0] == \"Mr\"\n",
    "assert df['Title'].values[1] == \"Mrs\"\n",
    "assert df['Title'].values[2] == \"Miss\"\n",
    "\n",
    "assert df_test['Title'].values[0] == \"Mr\"\n",
    "assert df_test['Title'].values[1] == \"Mrs\"\n",
    "assert df_test['Title'].values[414] == \"Dona\""
   ]
  },
  {
   "cell_type": "markdown",
   "metadata": {},
   "source": [
    "# Exercise 2 (1pts):\n",
    "Apply the title_dictionary to get a better information about the title. You have to overwrite the Title variable."
   ]
  },
  {
   "cell_type": "code",
   "execution_count": 11,
   "metadata": {},
   "outputs": [],
   "source": [
    "title_dictionary = {\n",
    "    \"Capt\": \"Officer\",\n",
    "    \"Col\": \"Officer\",\n",
    "    \"Major\": \"Officer\",\n",
    "    \"Jonkheer\": \"Royalty\",\n",
    "    \"Don\": \"Royalty\",\n",
    "    \"Sir\" : \"Royalty\",\n",
    "    \"Dr\": \"Officer\",\n",
    "    \"Rev\": \"Officer\",\n",
    "    \"the Countess\":\"Royalty\",\n",
    "    \"Mme\": \"Mrs\",\n",
    "    \"Mlle\": \"Miss\",\n",
    "    \"Ms\": \"Mrs\",\n",
    "    \"Mr\" : \"Mr\",\n",
    "    \"Mrs\" : \"Mrs\",\n",
    "    \"Miss\" : \"Miss\",\n",
    "    \"Master\" : \"Master\",\n",
    "    \"Lady\" : \"Royalty\"\n",
    "}"
   ]
  },
  {
   "cell_type": "code",
   "execution_count": 12,
   "metadata": {
    "deletable": false,
    "nbgrader": {
     "cell_type": "code",
     "checksum": "da7233548e7218eded680b5edb7963de",
     "grade": false,
     "grade_id": "cell-5c6a842c812fafda",
     "locked": false,
     "schema_version": 3,
     "solution": true,
     "task": false
    }
   },
   "outputs": [],
   "source": [
    "# Use map to apply the prevous dict\n",
    "\n",
    "df[\"Title\"] = df.Title.map(title_dictionary)\n",
    "df_test[\"Title\"] = df_test.Title.map(title_dictionary)\n",
    "\n"
   ]
  },
  {
   "cell_type": "code",
   "execution_count": 13,
   "metadata": {
    "deletable": false,
    "editable": false,
    "nbgrader": {
     "cell_type": "code",
     "checksum": "96a09f1cde63b704ff2f391309c30690",
     "grade": true,
     "grade_id": "cell-669f5a637e57e835",
     "locked": true,
     "points": 1,
     "schema_version": 3,
     "solution": false,
     "task": false
    }
   },
   "outputs": [],
   "source": [
    "assert df['Title'].values[886] == \"Officer\"\n",
    "assert df_test['Title'].values[417] == \"Master\""
   ]
  },
  {
   "cell_type": "markdown",
   "metadata": {},
   "source": [
    "# Exercise OPTINAL (0pts):\n",
    "Try to extract some information from the feature **Ticket**. Search on Internet if that colum has some kind of information."
   ]
  },
  {
   "cell_type": "code",
   "execution_count": null,
   "metadata": {},
   "outputs": [],
   "source": [
    "df_test['Ticket']"
   ]
  },
  {
   "cell_type": "markdown",
   "metadata": {},
   "source": [
    "# Exercise OPTIONAL (0pts):\n",
    "Try to extract some information from the feature **Cabin**. Search on Internet if that colum has some kind of information."
   ]
  },
  {
   "cell_type": "code",
   "execution_count": null,
   "metadata": {},
   "outputs": [],
   "source": [
    "df_test['Cabin']"
   ]
  },
  {
   "cell_type": "markdown",
   "metadata": {},
   "source": [
    "# Preprocessing\n",
    "For X data, notice that...\n",
    "- We drop Survived because is the target variable\n",
    "- We drop Name because we have extracted the Title: Mr, Mrs, ...\n",
    "- We drop Ticket because it has no information -> see df.Ticket.nunique()\n",
    "- We drop Cabin because it has a lot of missings (77% are missings)\n",
    "\n",
    "Then, we identify **numerical** variables and **categorical** variables,"
   ]
  },
  {
   "cell_type": "code",
   "execution_count": 63,
   "metadata": {},
   "outputs": [],
   "source": [
    "x = df.drop(columns=[\"Survived\", 'Name', 'Ticket', 'Cabin']) # X DATA (WILL BE TRAIN+VALID DATA)\n",
    "y = df[\"Survived\"] # 0 = No, 1 = Yes\n",
    "\n",
    "x_test = df_test.drop(columns=['Name', 'Ticket', 'Cabin']) # # X_TEST DATA (NEW DATA)"
   ]
  },
  {
   "cell_type": "code",
   "execution_count": 64,
   "metadata": {},
   "outputs": [
    {
     "output_type": "stream",
     "name": "stdout",
     "text": [
      "\nNumerical features:\n ['Pclass', 'SibSp', 'Parch', 'Fare', 'Age']\n\nCategorical features:\n ['Sex', 'Embarked', 'Title']\n"
     ]
    }
   ],
   "source": [
    "cat_vars  = ['Sex', 'Embarked', 'Title']         # x.select_dtypes(include=[object]).columns.values.tolist()\n",
    "num_vars  = ['Pclass', 'SibSp', 'Parch', 'Fare', 'Age'] # x.select_dtypes(exclude=[object]).columns.values.tolist()\n",
    "\n",
    "print(\"\\nNumerical features:\\n\", num_vars)\n",
    "print(\"\\nCategorical features:\\n\", cat_vars)"
   ]
  },
  {
   "cell_type": "markdown",
   "metadata": {},
   "source": [
    "# Exercise 3 (2pts):\n",
    "Create a **ColumnTransformer for Tree Models**. You need to create 2 pipelines (one for numerical and other for categories). Remember:\n",
    "- Categorical pipeline: Some SimpleImputer -> Some Encoder\n",
    "- Numerical pipeline: Some SimpleImputer -> NO Encoder"
   ]
  },
  {
   "cell_type": "code",
   "execution_count": 67,
   "metadata": {
    "deletable": false,
    "nbgrader": {
     "cell_type": "code",
     "checksum": "4a99fc5ecc693dc549b0e1560c568eea",
     "grade": false,
     "grade_id": "cell-c607e75fb38ea248",
     "locked": false,
     "schema_version": 3,
     "solution": true,
     "task": false
    }
   },
   "outputs": [
    {
     "output_type": "execute_result",
     "data": {
      "text/plain": [
       "ColumnTransformer(transformers=[('num',\n",
       "                                 Pipeline(steps=[('imputer',\n",
       "                                                  SimpleImputer(fill_value=-9999,\n",
       "                                                                strategy='constant'))]),\n",
       "                                 ['Pclass', 'SibSp', 'Parch', 'Fare', 'Age']),\n",
       "                                ('cat',\n",
       "                                 Pipeline(steps=[('imputer',\n",
       "                                                  SimpleImputer(fill_value='missing',\n",
       "                                                                strategy='constant')),\n",
       "                                                 ('onehot',\n",
       "                                                  OneHotEncoder(handle_unknown='ignore'))]),\n",
       "                                 ['Sex', 'Embarked', 'Title'])])"
      ],
      "text/html": "<style>div.sk-top-container {color: black;background-color: white;}div.sk-toggleable {background-color: white;}label.sk-toggleable__label {cursor: pointer;display: block;width: 100%;margin-bottom: 0;padding: 0.2em 0.3em;box-sizing: border-box;text-align: center;}div.sk-toggleable__content {max-height: 0;max-width: 0;overflow: hidden;text-align: left;background-color: #f0f8ff;}div.sk-toggleable__content pre {margin: 0.2em;color: black;border-radius: 0.25em;background-color: #f0f8ff;}input.sk-toggleable__control:checked~div.sk-toggleable__content {max-height: 200px;max-width: 100%;overflow: auto;}div.sk-estimator input.sk-toggleable__control:checked~label.sk-toggleable__label {background-color: #d4ebff;}div.sk-label input.sk-toggleable__control:checked~label.sk-toggleable__label {background-color: #d4ebff;}input.sk-hidden--visually {border: 0;clip: rect(1px 1px 1px 1px);clip: rect(1px, 1px, 1px, 1px);height: 1px;margin: -1px;overflow: hidden;padding: 0;position: absolute;width: 1px;}div.sk-estimator {font-family: monospace;background-color: #f0f8ff;margin: 0.25em 0.25em;border: 1px dotted black;border-radius: 0.25em;box-sizing: border-box;}div.sk-estimator:hover {background-color: #d4ebff;}div.sk-parallel-item::after {content: \"\";width: 100%;border-bottom: 1px solid gray;flex-grow: 1;}div.sk-label:hover label.sk-toggleable__label {background-color: #d4ebff;}div.sk-serial::before {content: \"\";position: absolute;border-left: 1px solid gray;box-sizing: border-box;top: 2em;bottom: 0;left: 50%;}div.sk-serial {display: flex;flex-direction: column;align-items: center;background-color: white;}div.sk-item {z-index: 1;}div.sk-parallel {display: flex;align-items: stretch;justify-content: center;background-color: white;}div.sk-parallel-item {display: flex;flex-direction: column;position: relative;background-color: white;}div.sk-parallel-item:first-child::after {align-self: flex-end;width: 50%;}div.sk-parallel-item:last-child::after {align-self: flex-start;width: 50%;}div.sk-parallel-item:only-child::after {width: 0;}div.sk-dashed-wrapped {border: 1px dashed gray;margin: 0.2em;box-sizing: border-box;padding-bottom: 0.1em;background-color: white;position: relative;}div.sk-label label {font-family: monospace;font-weight: bold;background-color: white;display: inline-block;line-height: 1.2em;}div.sk-label-container {position: relative;z-index: 2;text-align: center;}div.sk-container {display: inline-block;position: relative;}</style><div class=\"sk-top-container\"><div class=\"sk-container\"><div class=\"sk-item sk-dashed-wrapped\"><div class=\"sk-label-container\"><div class=\"sk-label sk-toggleable\"><input class=\"sk-toggleable__control sk-hidden--visually\" id=\"058ea167-c6ac-47e1-86e1-95e1dd2a21e8\" type=\"checkbox\" ><label class=\"sk-toggleable__label\" for=\"058ea167-c6ac-47e1-86e1-95e1dd2a21e8\">ColumnTransformer</label><div class=\"sk-toggleable__content\"><pre>ColumnTransformer(transformers=[('num',\n                                 Pipeline(steps=[('imputer',\n                                                  SimpleImputer(fill_value=-9999,\n                                                                strategy='constant'))]),\n                                 ['Pclass', 'SibSp', 'Parch', 'Fare', 'Age']),\n                                ('cat',\n                                 Pipeline(steps=[('imputer',\n                                                  SimpleImputer(fill_value='missing',\n                                                                strategy='constant')),\n                                                 ('onehot',\n                                                  OneHotEncoder(handle_unknown='ignore'))]),\n                                 ['Sex', 'Embarked', 'Title'])])</pre></div></div></div><div class=\"sk-parallel\"><div class=\"sk-parallel-item\"><div class=\"sk-item\"><div class=\"sk-label-container\"><div class=\"sk-label sk-toggleable\"><input class=\"sk-toggleable__control sk-hidden--visually\" id=\"ecc7dac1-6ce1-459a-8494-ee007c40ded7\" type=\"checkbox\" ><label class=\"sk-toggleable__label\" for=\"ecc7dac1-6ce1-459a-8494-ee007c40ded7\">num</label><div class=\"sk-toggleable__content\"><pre>['Pclass', 'SibSp', 'Parch', 'Fare', 'Age']</pre></div></div></div><div class=\"sk-serial\"><div class=\"sk-item\"><div class=\"sk-serial\"><div class=\"sk-item\"><div class=\"sk-estimator sk-toggleable\"><input class=\"sk-toggleable__control sk-hidden--visually\" id=\"a60f0d02-0914-456f-bc33-32198fce1446\" type=\"checkbox\" ><label class=\"sk-toggleable__label\" for=\"a60f0d02-0914-456f-bc33-32198fce1446\">SimpleImputer</label><div class=\"sk-toggleable__content\"><pre>SimpleImputer(fill_value=-9999, strategy='constant')</pre></div></div></div></div></div></div></div></div><div class=\"sk-parallel-item\"><div class=\"sk-item\"><div class=\"sk-label-container\"><div class=\"sk-label sk-toggleable\"><input class=\"sk-toggleable__control sk-hidden--visually\" id=\"324cf0cc-bde2-4624-92a7-100f081b5734\" type=\"checkbox\" ><label class=\"sk-toggleable__label\" for=\"324cf0cc-bde2-4624-92a7-100f081b5734\">cat</label><div class=\"sk-toggleable__content\"><pre>['Sex', 'Embarked', 'Title']</pre></div></div></div><div class=\"sk-serial\"><div class=\"sk-item\"><div class=\"sk-serial\"><div class=\"sk-item\"><div class=\"sk-estimator sk-toggleable\"><input class=\"sk-toggleable__control sk-hidden--visually\" id=\"00a8b28f-632e-43e6-b8f2-38dacb708b09\" type=\"checkbox\" ><label class=\"sk-toggleable__label\" for=\"00a8b28f-632e-43e6-b8f2-38dacb708b09\">SimpleImputer</label><div class=\"sk-toggleable__content\"><pre>SimpleImputer(fill_value='missing', strategy='constant')</pre></div></div></div><div class=\"sk-item\"><div class=\"sk-estimator sk-toggleable\"><input class=\"sk-toggleable__control sk-hidden--visually\" id=\"d360ce77-4533-4d47-84cb-3c248abf0452\" type=\"checkbox\" ><label class=\"sk-toggleable__label\" for=\"d360ce77-4533-4d47-84cb-3c248abf0452\">OneHotEncoder</label><div class=\"sk-toggleable__content\"><pre>OneHotEncoder(handle_unknown='ignore')</pre></div></div></div></div></div></div></div></div></div></div></div></div>"
     },
     "metadata": {},
     "execution_count": 67
    }
   ],
   "source": [
    "\n",
    "num_4_treeModels = pipeline.Pipeline(steps=[\n",
    "  ('imputer', impute.SimpleImputer(strategy='constant', fill_value=-9999))\n",
    "])\n",
    "\n",
    "cat_4_treeModels = pipeline.Pipeline(steps=[\n",
    "   ('imputer', impute.SimpleImputer(strategy='constant', fill_value='missing')),\n",
    "    ('onehot', preprocessing.OneHotEncoder(handle_unknown='ignore')) # specify unknowns \n",
    "])\n",
    "\n",
    "tree_prepro = compose.ColumnTransformer(transformers=[\n",
    "    ('num', num_4_treeModels, num_vars),\n",
    "    ('cat', cat_4_treeModels, cat_vars),\n",
    "], remainder='drop') # Drop other vars not specified in num_vars or cat_vars\n",
    "\n",
    "tree_prepro\n"
   ]
  },
  {
   "cell_type": "code",
   "execution_count": 68,
   "metadata": {
    "deletable": false,
    "editable": false,
    "nbgrader": {
     "cell_type": "code",
     "checksum": "00bde840843413a4f57c4480f8930ef0",
     "grade": true,
     "grade_id": "cell-e636558135fb5975",
     "locked": true,
     "points": 2,
     "schema_version": 3,
     "solution": false,
     "task": false
    }
   },
   "outputs": [],
   "source": [
    "assert type(tree_prepro)      is compose._column_transformer.ColumnTransformer\n",
    "assert type(num_4_treeModels) is pipeline.Pipeline\n",
    "assert type(cat_4_treeModels) is pipeline.Pipeline\n",
    "assert len(num_4_treeModels) == 1\n",
    "assert len(cat_4_treeModels) == 2"
   ]
  },
  {
   "cell_type": "markdown",
   "metadata": {},
   "source": [
    "# Exercise 4 (1pts):\n",
    "1. Complete the diccionary with some Tree Models.\n",
    "2. Then we put each model in a Pipeline where:\n",
    "   - first is the prepocessing with the column Transformer\n",
    "   - Then is the Tree model\n",
    "3. Display the fullpipeline of the LGBMClassifier"
   ]
  },
  {
   "cell_type": "code",
   "execution_count": 69,
   "metadata": {},
   "outputs": [],
   "source": [
    "from sklearn.tree          import DecisionTreeClassifier\n",
    "from sklearn.ensemble      import RandomForestClassifier\n",
    "from sklearn.ensemble      import ExtraTreesClassifier\n",
    "from sklearn.ensemble      import AdaBoostClassifier\n",
    "from sklearn.ensemble      import GradientBoostingClassifier\n",
    "from sklearn.experimental  import enable_hist_gradient_boosting # Necesary for HistGradientBoostingClassifier\n",
    "from sklearn.ensemble      import HistGradientBoostingClassifier\n",
    "from xgboost               import XGBClassifier\n",
    "from lightgbm              import LGBMClassifier\n",
    "from catboost              import CatBoostClassifier"
   ]
  },
  {
   "cell_type": "code",
   "execution_count": 70,
   "metadata": {
    "deletable": false,
    "nbgrader": {
     "cell_type": "code",
     "checksum": "f23af11f3af791efa5687477c0a4c9d6",
     "grade": false,
     "grade_id": "cell-76a3be8223730c5a",
     "locked": false,
     "schema_version": 3,
     "solution": true,
     "task": false
    }
   },
   "outputs": [
    {
     "output_type": "execute_result",
     "data": {
      "text/plain": [
       "Pipeline(steps=[('columntransformer',\n",
       "                 ColumnTransformer(transformers=[('num',\n",
       "                                                  Pipeline(steps=[('imputer',\n",
       "                                                                   SimpleImputer(fill_value=-9999,\n",
       "                                                                                 strategy='constant'))]),\n",
       "                                                  ['Pclass', 'SibSp', 'Parch',\n",
       "                                                   'Fare', 'Age']),\n",
       "                                                 ('cat',\n",
       "                                                  Pipeline(steps=[('imputer',\n",
       "                                                                   SimpleImputer(fill_value='missing',\n",
       "                                                                                 strategy='constant')),\n",
       "                                                                  ('onehot',\n",
       "                                                                   OneHotEncoder(handle_unknown='ignore'))]),\n",
       "                                                  ['Sex', 'Embarked',\n",
       "                                                   'Title'])])),\n",
       "                ('lgbmclassifier', LGBMClassifier())])"
      ],
      "text/html": "<style>div.sk-top-container {color: black;background-color: white;}div.sk-toggleable {background-color: white;}label.sk-toggleable__label {cursor: pointer;display: block;width: 100%;margin-bottom: 0;padding: 0.2em 0.3em;box-sizing: border-box;text-align: center;}div.sk-toggleable__content {max-height: 0;max-width: 0;overflow: hidden;text-align: left;background-color: #f0f8ff;}div.sk-toggleable__content pre {margin: 0.2em;color: black;border-radius: 0.25em;background-color: #f0f8ff;}input.sk-toggleable__control:checked~div.sk-toggleable__content {max-height: 200px;max-width: 100%;overflow: auto;}div.sk-estimator input.sk-toggleable__control:checked~label.sk-toggleable__label {background-color: #d4ebff;}div.sk-label input.sk-toggleable__control:checked~label.sk-toggleable__label {background-color: #d4ebff;}input.sk-hidden--visually {border: 0;clip: rect(1px 1px 1px 1px);clip: rect(1px, 1px, 1px, 1px);height: 1px;margin: -1px;overflow: hidden;padding: 0;position: absolute;width: 1px;}div.sk-estimator {font-family: monospace;background-color: #f0f8ff;margin: 0.25em 0.25em;border: 1px dotted black;border-radius: 0.25em;box-sizing: border-box;}div.sk-estimator:hover {background-color: #d4ebff;}div.sk-parallel-item::after {content: \"\";width: 100%;border-bottom: 1px solid gray;flex-grow: 1;}div.sk-label:hover label.sk-toggleable__label {background-color: #d4ebff;}div.sk-serial::before {content: \"\";position: absolute;border-left: 1px solid gray;box-sizing: border-box;top: 2em;bottom: 0;left: 50%;}div.sk-serial {display: flex;flex-direction: column;align-items: center;background-color: white;}div.sk-item {z-index: 1;}div.sk-parallel {display: flex;align-items: stretch;justify-content: center;background-color: white;}div.sk-parallel-item {display: flex;flex-direction: column;position: relative;background-color: white;}div.sk-parallel-item:first-child::after {align-self: flex-end;width: 50%;}div.sk-parallel-item:last-child::after {align-self: flex-start;width: 50%;}div.sk-parallel-item:only-child::after {width: 0;}div.sk-dashed-wrapped {border: 1px dashed gray;margin: 0.2em;box-sizing: border-box;padding-bottom: 0.1em;background-color: white;position: relative;}div.sk-label label {font-family: monospace;font-weight: bold;background-color: white;display: inline-block;line-height: 1.2em;}div.sk-label-container {position: relative;z-index: 2;text-align: center;}div.sk-container {display: inline-block;position: relative;}</style><div class=\"sk-top-container\"><div class=\"sk-container\"><div class=\"sk-item sk-dashed-wrapped\"><div class=\"sk-label-container\"><div class=\"sk-label sk-toggleable\"><input class=\"sk-toggleable__control sk-hidden--visually\" id=\"8b3ea9c4-f1c7-44ff-a094-396e661c0996\" type=\"checkbox\" ><label class=\"sk-toggleable__label\" for=\"8b3ea9c4-f1c7-44ff-a094-396e661c0996\">Pipeline</label><div class=\"sk-toggleable__content\"><pre>Pipeline(steps=[('columntransformer',\n                 ColumnTransformer(transformers=[('num',\n                                                  Pipeline(steps=[('imputer',\n                                                                   SimpleImputer(fill_value=-9999,\n                                                                                 strategy='constant'))]),\n                                                  ['Pclass', 'SibSp', 'Parch',\n                                                   'Fare', 'Age']),\n                                                 ('cat',\n                                                  Pipeline(steps=[('imputer',\n                                                                   SimpleImputer(fill_value='missing',\n                                                                                 strategy='constant')),\n                                                                  ('onehot',\n                                                                   OneHotEncoder(handle_unknown='ignore'))]),\n                                                  ['Sex', 'Embarked',\n                                                   'Title'])])),\n                ('lgbmclassifier', LGBMClassifier())])</pre></div></div></div><div class=\"sk-serial\"><div class=\"sk-item sk-dashed-wrapped\"><div class=\"sk-label-container\"><div class=\"sk-label sk-toggleable\"><input class=\"sk-toggleable__control sk-hidden--visually\" id=\"6349d437-b28d-4461-8725-afec939f09fc\" type=\"checkbox\" ><label class=\"sk-toggleable__label\" for=\"6349d437-b28d-4461-8725-afec939f09fc\">columntransformer: ColumnTransformer</label><div class=\"sk-toggleable__content\"><pre>ColumnTransformer(transformers=[('num',\n                                 Pipeline(steps=[('imputer',\n                                                  SimpleImputer(fill_value=-9999,\n                                                                strategy='constant'))]),\n                                 ['Pclass', 'SibSp', 'Parch', 'Fare', 'Age']),\n                                ('cat',\n                                 Pipeline(steps=[('imputer',\n                                                  SimpleImputer(fill_value='missing',\n                                                                strategy='constant')),\n                                                 ('onehot',\n                                                  OneHotEncoder(handle_unknown='ignore'))]),\n                                 ['Sex', 'Embarked', 'Title'])])</pre></div></div></div><div class=\"sk-parallel\"><div class=\"sk-parallel-item\"><div class=\"sk-item\"><div class=\"sk-label-container\"><div class=\"sk-label sk-toggleable\"><input class=\"sk-toggleable__control sk-hidden--visually\" id=\"b6f6cb36-4f82-4226-b1bd-48ceedbca7ff\" type=\"checkbox\" ><label class=\"sk-toggleable__label\" for=\"b6f6cb36-4f82-4226-b1bd-48ceedbca7ff\">num</label><div class=\"sk-toggleable__content\"><pre>['Pclass', 'SibSp', 'Parch', 'Fare', 'Age']</pre></div></div></div><div class=\"sk-serial\"><div class=\"sk-item\"><div class=\"sk-serial\"><div class=\"sk-item\"><div class=\"sk-estimator sk-toggleable\"><input class=\"sk-toggleable__control sk-hidden--visually\" id=\"28062451-e02b-495f-a99e-bb636f4d95c1\" type=\"checkbox\" ><label class=\"sk-toggleable__label\" for=\"28062451-e02b-495f-a99e-bb636f4d95c1\">SimpleImputer</label><div class=\"sk-toggleable__content\"><pre>SimpleImputer(fill_value=-9999, strategy='constant')</pre></div></div></div></div></div></div></div></div><div class=\"sk-parallel-item\"><div class=\"sk-item\"><div class=\"sk-label-container\"><div class=\"sk-label sk-toggleable\"><input class=\"sk-toggleable__control sk-hidden--visually\" id=\"3f58e3a1-0a18-4872-aabc-39841a8efd2e\" type=\"checkbox\" ><label class=\"sk-toggleable__label\" for=\"3f58e3a1-0a18-4872-aabc-39841a8efd2e\">cat</label><div class=\"sk-toggleable__content\"><pre>['Sex', 'Embarked', 'Title']</pre></div></div></div><div class=\"sk-serial\"><div class=\"sk-item\"><div class=\"sk-serial\"><div class=\"sk-item\"><div class=\"sk-estimator sk-toggleable\"><input class=\"sk-toggleable__control sk-hidden--visually\" id=\"993aa8d4-0ad8-4c1a-ac59-01707eed9d4c\" type=\"checkbox\" ><label class=\"sk-toggleable__label\" for=\"993aa8d4-0ad8-4c1a-ac59-01707eed9d4c\">SimpleImputer</label><div class=\"sk-toggleable__content\"><pre>SimpleImputer(fill_value='missing', strategy='constant')</pre></div></div></div><div class=\"sk-item\"><div class=\"sk-estimator sk-toggleable\"><input class=\"sk-toggleable__control sk-hidden--visually\" id=\"1ebd21ac-280c-495e-a26a-f717b0299888\" type=\"checkbox\" ><label class=\"sk-toggleable__label\" for=\"1ebd21ac-280c-495e-a26a-f717b0299888\">OneHotEncoder</label><div class=\"sk-toggleable__content\"><pre>OneHotEncoder(handle_unknown='ignore')</pre></div></div></div></div></div></div></div></div></div></div><div class=\"sk-item\"><div class=\"sk-estimator sk-toggleable\"><input class=\"sk-toggleable__control sk-hidden--visually\" id=\"3fd9b23a-b2fe-40e9-be51-3e1251690f18\" type=\"checkbox\" ><label class=\"sk-toggleable__label\" for=\"3fd9b23a-b2fe-40e9-be51-3e1251690f18\">LGBMClassifier</label><div class=\"sk-toggleable__content\"><pre>LGBMClassifier()</pre></div></div></div></div></div></div></div>"
     },
     "metadata": {},
     "execution_count": 70
    }
   ],
   "source": [
    "\n",
    "tree_classifiers = {\n",
    "  \"Decision Tree\": DecisionTreeClassifier(),\n",
    "  \"Extra Trees\":   ExtraTreesClassifier(n_estimators=100),\n",
    "  \"Random Forest\": RandomForestClassifier(n_estimators=100),\n",
    "  \"AdaBoost\":      AdaBoostClassifier(n_estimators=100),\n",
    "  \"Skl GBM\":       GradientBoostingClassifier(n_estimators=100),\n",
    "  \"Skl HistGBM\":   HistGradientBoostingClassifier(max_iter=100),\n",
    "  \"XGBoost\":       XGBClassifier(n_estimators=100),\n",
    "  \"LightGBM\":      LGBMClassifier(n_estimators=100),\n",
    "  \"CatBoost\":      CatBoostClassifier(n_estimators=100),\n",
    "} \n",
    "\n",
    "\n",
    "\n",
    "   \n",
    "tree_classifiers = {name: pipeline.make_pipeline(tree_prepro, model) for name, model in tree_classifiers.items()}\n",
    "tree_classifiers[\"LightGBM\"]\n",
    "\n",
    "\n",
    "\n"
   ]
  },
  {
   "cell_type": "code",
   "execution_count": 71,
   "metadata": {
    "deletable": false,
    "editable": false,
    "nbgrader": {
     "cell_type": "code",
     "checksum": "2355552b3ce823e44fdaea06394e054c",
     "grade": true,
     "grade_id": "cell-d4744022b37e2e9b",
     "locked": true,
     "points": 1,
     "schema_version": 3,
     "solution": false,
     "task": false
    }
   },
   "outputs": [],
   "source": [
    "for pipe in tree_classifiers.values():\n",
    "    assert type(pipe) is pipeline.Pipeline"
   ]
  },
  {
   "cell_type": "markdown",
   "metadata": {},
   "source": [
    "# Exercise 5 (3pts):\n",
    "Define a simple split validation strategy with:\n",
    "- 80% for train\n",
    "- 20% for validation\n",
    "- With stratification\n",
    "- random_state=0\n",
    "\n",
    "And train all the models in a for loop"
   ]
  },
  {
   "cell_type": "code",
   "execution_count": 72,
   "metadata": {
    "colab": {
     "base_uri": "https://localhost:8080/",
     "height": 173
    },
    "colab_type": "code",
    "deletable": false,
    "id": "kY1uWk6-OcLw",
    "nbgrader": {
     "cell_type": "code",
     "checksum": "e48597a78f468a95abf116052e9f68e6",
     "grade": false,
     "grade_id": "cell-64f17e0d448bca7e",
     "locked": false,
     "schema_version": 3,
     "solution": true,
     "task": false
    },
    "outputId": "3562463f-3197-424c-dc82-b07ad579e9cc"
   },
   "outputs": [
    {
     "output_type": "display_data",
     "data": {
      "text/plain": "<pandas.io.formats.style.Styler at 0x1bc7d568a00>",
      "text/html": "<style  type=\"text/css\" >\n#T_fcda4299_ac07_11eb_a66b_ae6b7f9f0e40row0_col1{\n            width:  10em;\n             height:  80%;\n            background:  linear-gradient(90deg,#5fba7d 88.3%, transparent 88.3%);\n        }#T_fcda4299_ac07_11eb_a66b_ae6b7f9f0e40row0_col2{\n            width:  10em;\n             height:  80%;\n            background:  linear-gradient(90deg,#5fba7d 86.9%, transparent 86.9%);\n        }#T_fcda4299_ac07_11eb_a66b_ae6b7f9f0e40row1_col1{\n            width:  10em;\n             height:  80%;\n            background:  linear-gradient(90deg,#5fba7d 85.5%, transparent 85.5%);\n        }#T_fcda4299_ac07_11eb_a66b_ae6b7f9f0e40row1_col2,#T_fcda4299_ac07_11eb_a66b_ae6b7f9f0e40row4_col1,#T_fcda4299_ac07_11eb_a66b_ae6b7f9f0e40row5_col1{\n            width:  10em;\n             height:  80%;\n            background:  linear-gradient(90deg,#5fba7d 84.4%, transparent 84.4%);\n        }#T_fcda4299_ac07_11eb_a66b_ae6b7f9f0e40row2_col1,#T_fcda4299_ac07_11eb_a66b_ae6b7f9f0e40row3_col1{\n            width:  10em;\n             height:  80%;\n            background:  linear-gradient(90deg,#5fba7d 84.9%, transparent 84.9%);\n        }#T_fcda4299_ac07_11eb_a66b_ae6b7f9f0e40row2_col2{\n            width:  10em;\n             height:  80%;\n            background:  linear-gradient(90deg,#5fba7d 84.2%, transparent 84.2%);\n        }#T_fcda4299_ac07_11eb_a66b_ae6b7f9f0e40row3_col2{\n            width:  10em;\n             height:  80%;\n            background:  linear-gradient(90deg,#5fba7d 83.7%, transparent 83.7%);\n        }#T_fcda4299_ac07_11eb_a66b_ae6b7f9f0e40row4_col2{\n            width:  10em;\n             height:  80%;\n            background:  linear-gradient(90deg,#5fba7d 83.2%, transparent 83.2%);\n        }#T_fcda4299_ac07_11eb_a66b_ae6b7f9f0e40row5_col2{\n            width:  10em;\n             height:  80%;\n            background:  linear-gradient(90deg,#5fba7d 82.7%, transparent 82.7%);\n        }#T_fcda4299_ac07_11eb_a66b_ae6b7f9f0e40row6_col1{\n            width:  10em;\n             height:  80%;\n            background:  linear-gradient(90deg,#5fba7d 83.8%, transparent 83.8%);\n        }#T_fcda4299_ac07_11eb_a66b_ae6b7f9f0e40row6_col2{\n            width:  10em;\n             height:  80%;\n            background:  linear-gradient(90deg,#5fba7d 82.5%, transparent 82.5%);\n        }#T_fcda4299_ac07_11eb_a66b_ae6b7f9f0e40row7_col1{\n            width:  10em;\n             height:  80%;\n            background:  linear-gradient(90deg,#5fba7d 81.6%, transparent 81.6%);\n        }#T_fcda4299_ac07_11eb_a66b_ae6b7f9f0e40row7_col2{\n            width:  10em;\n             height:  80%;\n            background:  linear-gradient(90deg,#5fba7d 80.1%, transparent 80.1%);\n        }#T_fcda4299_ac07_11eb_a66b_ae6b7f9f0e40row8_col1{\n            width:  10em;\n             height:  80%;\n            background:  linear-gradient(90deg,#5fba7d 81.0%, transparent 81.0%);\n        }#T_fcda4299_ac07_11eb_a66b_ae6b7f9f0e40row8_col2{\n            width:  10em;\n             height:  80%;\n            background:  linear-gradient(90deg,#5fba7d 80.5%, transparent 80.5%);\n        }</style><table id=\"T_fcda4299_ac07_11eb_a66b_ae6b7f9f0e40\" ><thead>    <tr>        <th class=\"blank level0\" ></th>        <th class=\"col_heading level0 col0\" >Model</th>        <th class=\"col_heading level0 col1\" >Accuracy</th>        <th class=\"col_heading level0 col2\" >Bal Acc.</th>        <th class=\"col_heading level0 col3\" >Time</th>    </tr></thead><tbody>\n                <tr>\n                        <th id=\"T_fcda4299_ac07_11eb_a66b_ae6b7f9f0e40level0_row0\" class=\"row_heading level0 row0\" >1</th>\n                        <td id=\"T_fcda4299_ac07_11eb_a66b_ae6b7f9f0e40row0_col0\" class=\"data row0 col0\" >XGBoost</td>\n                        <td id=\"T_fcda4299_ac07_11eb_a66b_ae6b7f9f0e40row0_col1\" class=\"data row0 col1\" >88.268156</td>\n                        <td id=\"T_fcda4299_ac07_11eb_a66b_ae6b7f9f0e40row0_col2\" class=\"data row0 col2\" >86.943347</td>\n                        <td id=\"T_fcda4299_ac07_11eb_a66b_ae6b7f9f0e40row0_col3\" class=\"data row0 col3\" >0.131647</td>\n            </tr>\n            <tr>\n                        <th id=\"T_fcda4299_ac07_11eb_a66b_ae6b7f9f0e40level0_row1\" class=\"row_heading level0 row1\" >2</th>\n                        <td id=\"T_fcda4299_ac07_11eb_a66b_ae6b7f9f0e40row1_col0\" class=\"data row1 col0\" >LightGBM</td>\n                        <td id=\"T_fcda4299_ac07_11eb_a66b_ae6b7f9f0e40row1_col1\" class=\"data row1 col1\" >85.474860</td>\n                        <td id=\"T_fcda4299_ac07_11eb_a66b_ae6b7f9f0e40row1_col2\" class=\"data row1 col2\" >84.400527</td>\n                        <td id=\"T_fcda4299_ac07_11eb_a66b_ae6b7f9f0e40row1_col3\" class=\"data row1 col3\" >0.124667</td>\n            </tr>\n            <tr>\n                        <th id=\"T_fcda4299_ac07_11eb_a66b_ae6b7f9f0e40level0_row2\" class=\"row_heading level0 row2\" >3</th>\n                        <td id=\"T_fcda4299_ac07_11eb_a66b_ae6b7f9f0e40row2_col0\" class=\"data row2 col0\" >AdaBoost</td>\n                        <td id=\"T_fcda4299_ac07_11eb_a66b_ae6b7f9f0e40row2_col1\" class=\"data row2 col1\" >84.916201</td>\n                        <td id=\"T_fcda4299_ac07_11eb_a66b_ae6b7f9f0e40row2_col2\" class=\"data row2 col2\" >84.216074</td>\n                        <td id=\"T_fcda4299_ac07_11eb_a66b_ae6b7f9f0e40row2_col3\" class=\"data row2 col3\" >0.133643</td>\n            </tr>\n            <tr>\n                        <th id=\"T_fcda4299_ac07_11eb_a66b_ae6b7f9f0e40level0_row3\" class=\"row_heading level0 row3\" >4</th>\n                        <td id=\"T_fcda4299_ac07_11eb_a66b_ae6b7f9f0e40row3_col0\" class=\"data row3 col0\" >Skl HistGBM</td>\n                        <td id=\"T_fcda4299_ac07_11eb_a66b_ae6b7f9f0e40row3_col1\" class=\"data row3 col1\" >84.916201</td>\n                        <td id=\"T_fcda4299_ac07_11eb_a66b_ae6b7f9f0e40row3_col2\" class=\"data row3 col2\" >83.675889</td>\n                        <td id=\"T_fcda4299_ac07_11eb_a66b_ae6b7f9f0e40row3_col3\" class=\"data row3 col3\" >0.946434</td>\n            </tr>\n            <tr>\n                        <th id=\"T_fcda4299_ac07_11eb_a66b_ae6b7f9f0e40level0_row4\" class=\"row_heading level0 row4\" >5</th>\n                        <td id=\"T_fcda4299_ac07_11eb_a66b_ae6b7f9f0e40row4_col0\" class=\"data row4 col0\" >Skl GBM</td>\n                        <td id=\"T_fcda4299_ac07_11eb_a66b_ae6b7f9f0e40row4_col1\" class=\"data row4 col1\" >84.357542</td>\n                        <td id=\"T_fcda4299_ac07_11eb_a66b_ae6b7f9f0e40row4_col2\" class=\"data row4 col2\" >83.221344</td>\n                        <td id=\"T_fcda4299_ac07_11eb_a66b_ae6b7f9f0e40row4_col3\" class=\"data row4 col3\" >0.089722</td>\n            </tr>\n            <tr>\n                        <th id=\"T_fcda4299_ac07_11eb_a66b_ae6b7f9f0e40level0_row5\" class=\"row_heading level0 row5\" >6</th>\n                        <td id=\"T_fcda4299_ac07_11eb_a66b_ae6b7f9f0e40row5_col0\" class=\"data row5 col0\" >CatBoost</td>\n                        <td id=\"T_fcda4299_ac07_11eb_a66b_ae6b7f9f0e40row5_col1\" class=\"data row5 col1\" >84.357542</td>\n                        <td id=\"T_fcda4299_ac07_11eb_a66b_ae6b7f9f0e40row5_col2\" class=\"data row5 col2\" >82.681159</td>\n                        <td id=\"T_fcda4299_ac07_11eb_a66b_ae6b7f9f0e40row5_col3\" class=\"data row5 col3\" >0.186216</td>\n            </tr>\n            <tr>\n                        <th id=\"T_fcda4299_ac07_11eb_a66b_ae6b7f9f0e40level0_row6\" class=\"row_heading level0 row6\" >7</th>\n                        <td id=\"T_fcda4299_ac07_11eb_a66b_ae6b7f9f0e40row6_col0\" class=\"data row6 col0\" >Random Forest</td>\n                        <td id=\"T_fcda4299_ac07_11eb_a66b_ae6b7f9f0e40row6_col1\" class=\"data row6 col1\" >83.798883</td>\n                        <td id=\"T_fcda4299_ac07_11eb_a66b_ae6b7f9f0e40row6_col2\" class=\"data row6 col2\" >82.496706</td>\n                        <td id=\"T_fcda4299_ac07_11eb_a66b_ae6b7f9f0e40row6_col3\" class=\"data row6 col3\" >0.141622</td>\n            </tr>\n            <tr>\n                        <th id=\"T_fcda4299_ac07_11eb_a66b_ae6b7f9f0e40level0_row7\" class=\"row_heading level0 row7\" >8</th>\n                        <td id=\"T_fcda4299_ac07_11eb_a66b_ae6b7f9f0e40row7_col0\" class=\"data row7 col0\" >Extra Trees</td>\n                        <td id=\"T_fcda4299_ac07_11eb_a66b_ae6b7f9f0e40row7_col1\" class=\"data row7 col1\" >81.564246</td>\n                        <td id=\"T_fcda4299_ac07_11eb_a66b_ae6b7f9f0e40row7_col2\" class=\"data row7 col2\" >80.138340</td>\n                        <td id=\"T_fcda4299_ac07_11eb_a66b_ae6b7f9f0e40row7_col3\" class=\"data row7 col3\" >0.118715</td>\n            </tr>\n            <tr>\n                        <th id=\"T_fcda4299_ac07_11eb_a66b_ae6b7f9f0e40level0_row8\" class=\"row_heading level0 row8\" >9</th>\n                        <td id=\"T_fcda4299_ac07_11eb_a66b_ae6b7f9f0e40row8_col0\" class=\"data row8 col0\" >Decision Tree</td>\n                        <td id=\"T_fcda4299_ac07_11eb_a66b_ae6b7f9f0e40row8_col1\" class=\"data row8 col1\" >81.005587</td>\n                        <td id=\"T_fcda4299_ac07_11eb_a66b_ae6b7f9f0e40row8_col2\" class=\"data row8 col2\" >80.494071</td>\n                        <td id=\"T_fcda4299_ac07_11eb_a66b_ae6b7f9f0e40row8_col3\" class=\"data row8 col3\" >0.016953</td>\n            </tr>\n    </tbody></table>"
     },
     "metadata": {}
    }
   ],
   "source": [
    "\n",
    "x_train, x_val, y_train, y_val = model_selection.train_test_split(\n",
    "    x, y,\n",
    "    test_size=0.2,\n",
    "    stratify = y,   \n",
    "    random_state=4  \n",
    ")\n",
    "\n",
    "results = pd.DataFrame({'Model': [], 'Accuracy': [], 'Bal Acc.': [], 'Time': []})\n",
    "\n",
    "for model_name, model in tree_classifiers.items():\n",
    "\n",
    "    start_time = time.time()\n",
    "    model.fit(x_train, y_train)\n",
    "    total_time = time.time() - start_time\n",
    "    \n",
    "    pred = model.predict(x_val)\n",
    "    \n",
    "    results = results.append({\"Model\":    model_name,\n",
    "                              \"Accuracy\": metrics.accuracy_score(y_val, pred)*100,\n",
    "                              \"Bal Acc.\": metrics.balanced_accuracy_score(y_val, pred)*100,\n",
    "                              \"Time\":     total_time},\n",
    "                              ignore_index=True)\n",
    "    \n",
    "    results_ord = results.sort_values(by=['Accuracy'], ascending=False, ignore_index=True)\n",
    "    results_ord.index += 1 \n",
    "    \n",
    "    clear_output(wait=True)\n",
    "    display(results_ord.style.bar(subset=['Accuracy', 'Bal Acc.'], vmin=0, vmax=100, color='#5fba7d'))"
   ]
  },
  {
   "cell_type": "code",
   "execution_count": 73,
   "metadata": {
    "deletable": false,
    "editable": false,
    "nbgrader": {
     "cell_type": "code",
     "checksum": "dde6f91a6185745a813882e0c1f997bc",
     "grade": true,
     "grade_id": "cell-af27b33fe88ad384",
     "locked": true,
     "points": 3,
     "schema_version": 3,
     "solution": false,
     "task": false
    }
   },
   "outputs": [],
   "source": [
    "assert results_ord[\"Accuracy\"].min() > 75\n",
    "assert results_ord[\"Bal Acc.\"].min() > 75\n",
    "assert len(results_ord) == 9"
   ]
  },
  {
   "cell_type": "markdown",
   "metadata": {},
   "source": [
    "# Exercise 6 (3pts):\n",
    "Define a 10 Fold cross validation strategy with:\n",
    "- With stratification\n",
    "- shuffle=True\n",
    "- random_state=0\n",
    "\n",
    "And train all the models in a for loop.\n",
    "\n",
    "Tip you can use **[cross_val_predict](https://scikit-learn.org/stable/modules/generated/sklearn.model_selection.cross_val_predict.html)** for both training and predict with "
   ]
  },
  {
   "cell_type": "code",
   "execution_count": 74,
   "metadata": {
    "deletable": false,
    "nbgrader": {
     "cell_type": "code",
     "checksum": "b9238f7916249fc81179a78b5492e5d4",
     "grade": false,
     "grade_id": "cell-37bf16dc25b43732",
     "locked": false,
     "schema_version": 3,
     "solution": true,
     "task": false
    }
   },
   "outputs": [
    {
     "output_type": "display_data",
     "data": {
      "text/plain": "<pandas.io.formats.style.Styler at 0x1bc74c643a0>",
      "text/html": "<style  type=\"text/css\" >\n#T_0cc4526d_ac08_11eb_aa45_ae6b7f9f0e40row0_col1{\n            width:  10em;\n             height:  80%;\n            background:  linear-gradient(90deg,#5fba7d 83.7%, transparent 83.7%);\n        }#T_0cc4526d_ac08_11eb_aa45_ae6b7f9f0e40row0_col2{\n            width:  10em;\n             height:  80%;\n            background:  linear-gradient(90deg,#5fba7d 82.0%, transparent 82.0%);\n        }#T_0cc4526d_ac08_11eb_aa45_ae6b7f9f0e40row1_col1{\n            width:  10em;\n             height:  80%;\n            background:  linear-gradient(90deg,#5fba7d 82.8%, transparent 82.8%);\n        }#T_0cc4526d_ac08_11eb_aa45_ae6b7f9f0e40row1_col2{\n            width:  10em;\n             height:  80%;\n            background:  linear-gradient(90deg,#5fba7d 81.3%, transparent 81.3%);\n        }#T_0cc4526d_ac08_11eb_aa45_ae6b7f9f0e40row2_col1{\n            width:  10em;\n             height:  80%;\n            background:  linear-gradient(90deg,#5fba7d 82.6%, transparent 82.6%);\n        }#T_0cc4526d_ac08_11eb_aa45_ae6b7f9f0e40row2_col2{\n            width:  10em;\n             height:  80%;\n            background:  linear-gradient(90deg,#5fba7d 81.1%, transparent 81.1%);\n        }#T_0cc4526d_ac08_11eb_aa45_ae6b7f9f0e40row3_col1{\n            width:  10em;\n             height:  80%;\n            background:  linear-gradient(90deg,#5fba7d 82.4%, transparent 82.4%);\n        }#T_0cc4526d_ac08_11eb_aa45_ae6b7f9f0e40row3_col2{\n            width:  10em;\n             height:  80%;\n            background:  linear-gradient(90deg,#5fba7d 80.0%, transparent 80.0%);\n        }#T_0cc4526d_ac08_11eb_aa45_ae6b7f9f0e40row4_col1{\n            width:  10em;\n             height:  80%;\n            background:  linear-gradient(90deg,#5fba7d 81.8%, transparent 81.8%);\n        }#T_0cc4526d_ac08_11eb_aa45_ae6b7f9f0e40row4_col2,#T_0cc4526d_ac08_11eb_aa45_ae6b7f9f0e40row6_col2{\n            width:  10em;\n             height:  80%;\n            background:  linear-gradient(90deg,#5fba7d 80.4%, transparent 80.4%);\n        }#T_0cc4526d_ac08_11eb_aa45_ae6b7f9f0e40row5_col1,#T_0cc4526d_ac08_11eb_aa45_ae6b7f9f0e40row6_col1{\n            width:  10em;\n             height:  80%;\n            background:  linear-gradient(90deg,#5fba7d 81.4%, transparent 81.4%);\n        }#T_0cc4526d_ac08_11eb_aa45_ae6b7f9f0e40row5_col2{\n            width:  10em;\n             height:  80%;\n            background:  linear-gradient(90deg,#5fba7d 79.8%, transparent 79.8%);\n        }#T_0cc4526d_ac08_11eb_aa45_ae6b7f9f0e40row7_col1{\n            width:  10em;\n             height:  80%;\n            background:  linear-gradient(90deg,#5fba7d 80.7%, transparent 80.7%);\n        }#T_0cc4526d_ac08_11eb_aa45_ae6b7f9f0e40row7_col2{\n            width:  10em;\n             height:  80%;\n            background:  linear-gradient(90deg,#5fba7d 79.3%, transparent 79.3%);\n        }#T_0cc4526d_ac08_11eb_aa45_ae6b7f9f0e40row8_col1{\n            width:  10em;\n             height:  80%;\n            background:  linear-gradient(90deg,#5fba7d 80.6%, transparent 80.6%);\n        }#T_0cc4526d_ac08_11eb_aa45_ae6b7f9f0e40row8_col2{\n            width:  10em;\n             height:  80%;\n            background:  linear-gradient(90deg,#5fba7d 79.5%, transparent 79.5%);\n        }</style><table id=\"T_0cc4526d_ac08_11eb_aa45_ae6b7f9f0e40\" ><thead>    <tr>        <th class=\"blank level0\" ></th>        <th class=\"col_heading level0 col0\" >Model</th>        <th class=\"col_heading level0 col1\" >Accuracy</th>        <th class=\"col_heading level0 col2\" >Bal Acc.</th>        <th class=\"col_heading level0 col3\" >Time</th>    </tr></thead><tbody>\n                <tr>\n                        <th id=\"T_0cc4526d_ac08_11eb_aa45_ae6b7f9f0e40level0_row0\" class=\"row_heading level0 row0\" >1</th>\n                        <td id=\"T_0cc4526d_ac08_11eb_aa45_ae6b7f9f0e40row0_col0\" class=\"data row0 col0\" >Skl GBM</td>\n                        <td id=\"T_0cc4526d_ac08_11eb_aa45_ae6b7f9f0e40row0_col1\" class=\"data row0 col1\" >83.726150</td>\n                        <td id=\"T_0cc4526d_ac08_11eb_aa45_ae6b7f9f0e40row0_col2\" class=\"data row0 col2\" >81.998370</td>\n                        <td id=\"T_0cc4526d_ac08_11eb_aa45_ae6b7f9f0e40row0_col3\" class=\"data row0 col3\" >0.972399</td>\n            </tr>\n            <tr>\n                        <th id=\"T_0cc4526d_ac08_11eb_aa45_ae6b7f9f0e40level0_row1\" class=\"row_heading level0 row1\" >2</th>\n                        <td id=\"T_0cc4526d_ac08_11eb_aa45_ae6b7f9f0e40row1_col0\" class=\"data row1 col0\" >Skl HistGBM</td>\n                        <td id=\"T_0cc4526d_ac08_11eb_aa45_ae6b7f9f0e40row1_col1\" class=\"data row1 col1\" >82.828283</td>\n                        <td id=\"T_0cc4526d_ac08_11eb_aa45_ae6b7f9f0e40row1_col2\" class=\"data row1 col2\" >81.324897</td>\n                        <td id=\"T_0cc4526d_ac08_11eb_aa45_ae6b7f9f0e40row1_col3\" class=\"data row1 col3\" >12.090664</td>\n            </tr>\n            <tr>\n                        <th id=\"T_0cc4526d_ac08_11eb_aa45_ae6b7f9f0e40level0_row2\" class=\"row_heading level0 row2\" >3</th>\n                        <td id=\"T_0cc4526d_ac08_11eb_aa45_ae6b7f9f0e40row2_col0\" class=\"data row2 col0\" >LightGBM</td>\n                        <td id=\"T_0cc4526d_ac08_11eb_aa45_ae6b7f9f0e40row2_col1\" class=\"data row2 col1\" >82.603816</td>\n                        <td id=\"T_0cc4526d_ac08_11eb_aa45_ae6b7f9f0e40row2_col2\" class=\"data row2 col2\" >81.142748</td>\n                        <td id=\"T_0cc4526d_ac08_11eb_aa45_ae6b7f9f0e40row2_col3\" class=\"data row2 col3\" >1.272597</td>\n            </tr>\n            <tr>\n                        <th id=\"T_0cc4526d_ac08_11eb_aa45_ae6b7f9f0e40level0_row3\" class=\"row_heading level0 row3\" >4</th>\n                        <td id=\"T_0cc4526d_ac08_11eb_aa45_ae6b7f9f0e40row3_col0\" class=\"data row3 col0\" >CatBoost</td>\n                        <td id=\"T_0cc4526d_ac08_11eb_aa45_ae6b7f9f0e40row3_col1\" class=\"data row3 col1\" >82.379349</td>\n                        <td id=\"T_0cc4526d_ac08_11eb_aa45_ae6b7f9f0e40row3_col2\" class=\"data row3 col2\" >79.968364</td>\n                        <td id=\"T_0cc4526d_ac08_11eb_aa45_ae6b7f9f0e40row3_col3\" class=\"data row3 col3\" >2.014984</td>\n            </tr>\n            <tr>\n                        <th id=\"T_0cc4526d_ac08_11eb_aa45_ae6b7f9f0e40level0_row4\" class=\"row_heading level0 row4\" >5</th>\n                        <td id=\"T_0cc4526d_ac08_11eb_aa45_ae6b7f9f0e40row4_col0\" class=\"data row4 col0\" >XGBoost</td>\n                        <td id=\"T_0cc4526d_ac08_11eb_aa45_ae6b7f9f0e40row4_col1\" class=\"data row4 col1\" >81.818182</td>\n                        <td id=\"T_0cc4526d_ac08_11eb_aa45_ae6b7f9f0e40row4_col2\" class=\"data row4 col2\" >80.394977</td>\n                        <td id=\"T_0cc4526d_ac08_11eb_aa45_ae6b7f9f0e40row4_col3\" class=\"data row4 col3\" >1.874985</td>\n            </tr>\n            <tr>\n                        <th id=\"T_0cc4526d_ac08_11eb_aa45_ae6b7f9f0e40level0_row5\" class=\"row_heading level0 row5\" >6</th>\n                        <td id=\"T_0cc4526d_ac08_11eb_aa45_ae6b7f9f0e40row5_col0\" class=\"data row5 col0\" >Random Forest</td>\n                        <td id=\"T_0cc4526d_ac08_11eb_aa45_ae6b7f9f0e40row5_col1\" class=\"data row5 col1\" >81.369248</td>\n                        <td id=\"T_0cc4526d_ac08_11eb_aa45_ae6b7f9f0e40row5_col2\" class=\"data row5 col2\" >79.810181</td>\n                        <td id=\"T_0cc4526d_ac08_11eb_aa45_ae6b7f9f0e40row5_col3\" class=\"data row5 col3\" >1.459148</td>\n            </tr>\n            <tr>\n                        <th id=\"T_0cc4526d_ac08_11eb_aa45_ae6b7f9f0e40level0_row6\" class=\"row_heading level0 row6\" >7</th>\n                        <td id=\"T_0cc4526d_ac08_11eb_aa45_ae6b7f9f0e40row6_col0\" class=\"data row6 col0\" >AdaBoost</td>\n                        <td id=\"T_0cc4526d_ac08_11eb_aa45_ae6b7f9f0e40row6_col1\" class=\"data row6 col1\" >81.369248</td>\n                        <td id=\"T_0cc4526d_ac08_11eb_aa45_ae6b7f9f0e40row6_col2\" class=\"data row6 col2\" >80.361423</td>\n                        <td id=\"T_0cc4526d_ac08_11eb_aa45_ae6b7f9f0e40row6_col3\" class=\"data row6 col3\" >1.457133</td>\n            </tr>\n            <tr>\n                        <th id=\"T_0cc4526d_ac08_11eb_aa45_ae6b7f9f0e40level0_row7\" class=\"row_heading level0 row7\" >8</th>\n                        <td id=\"T_0cc4526d_ac08_11eb_aa45_ae6b7f9f0e40row7_col0\" class=\"data row7 col0\" >Extra Trees</td>\n                        <td id=\"T_0cc4526d_ac08_11eb_aa45_ae6b7f9f0e40row7_col1\" class=\"data row7 col1\" >80.695847</td>\n                        <td id=\"T_0cc4526d_ac08_11eb_aa45_ae6b7f9f0e40row7_col2\" class=\"data row7 col2\" >79.318857</td>\n                        <td id=\"T_0cc4526d_ac08_11eb_aa45_ae6b7f9f0e40row7_col3\" class=\"data row7 col3\" >1.272632</td>\n            </tr>\n            <tr>\n                        <th id=\"T_0cc4526d_ac08_11eb_aa45_ae6b7f9f0e40level0_row8\" class=\"row_heading level0 row8\" >9</th>\n                        <td id=\"T_0cc4526d_ac08_11eb_aa45_ae6b7f9f0e40row8_col0\" class=\"data row8 col0\" >Decision Tree</td>\n                        <td id=\"T_0cc4526d_ac08_11eb_aa45_ae6b7f9f0e40row8_col1\" class=\"data row8 col1\" >80.583614</td>\n                        <td id=\"T_0cc4526d_ac08_11eb_aa45_ae6b7f9f0e40row8_col2\" class=\"data row8 col2\" >79.503403</td>\n                        <td id=\"T_0cc4526d_ac08_11eb_aa45_ae6b7f9f0e40row8_col3\" class=\"data row8 col3\" >0.155550</td>\n            </tr>\n    </tbody></table>"
     },
     "metadata": {}
    }
   ],
   "source": [
    "skf = model_selection.StratifiedKFold(n_splits=10, shuffle=True, random_state=0)\n",
    "\n",
    "results = pd.DataFrame({'Model': [], 'Accuracy': [], 'Bal Acc.': [], 'Time': []})\n",
    "\n",
    "for model_name, model in tree_classifiers.items():    \n",
    "        \n",
    "    start_time = time.time()\n",
    "    pred = model_selection.cross_val_predict(model, x, y, cv=skf)  \n",
    "    total_time = time.time() - start_time\n",
    "    \n",
    "    results = results.append({\"Model\":    model_name,\n",
    "                              \"Accuracy\": metrics.accuracy_score(y, pred)*100,\n",
    "                              \"Bal Acc.\": metrics.balanced_accuracy_score(y, pred)*100,\n",
    "                              \"Time\":     total_time},\n",
    "                              ignore_index=True)\n",
    "\n",
    "    results_ord = results.sort_values(by=['Accuracy'], ascending=False, ignore_index=True)\n",
    "    results_ord.index += 1 \n",
    "    \n",
    "    clear_output(wait=True)\n",
    "    display(results_ord.style.bar(subset=['Accuracy', 'Bal Acc.'], vmin=0, vmax=100, color='#5fba7d'))\n",
    "\n"
   ]
  },
  {
   "cell_type": "code",
   "execution_count": 75,
   "metadata": {
    "deletable": false,
    "editable": false,
    "nbgrader": {
     "cell_type": "code",
     "checksum": "355f8e8321aae7be679a8d16b25172f2",
     "grade": true,
     "grade_id": "cell-57cc085faad513cf",
     "locked": true,
     "points": 3,
     "schema_version": 3,
     "solution": false,
     "task": false
    }
   },
   "outputs": [],
   "source": [
    "assert results_ord[\"Accuracy\"].min() > 75\n",
    "assert results_ord[\"Bal Acc.\"].min() > 75\n",
    "assert len(results_ord) == 9"
   ]
  },
  {
   "cell_type": "markdown",
   "metadata": {},
   "source": [
    "# Exercise 7.1\n",
    "Train with all data the best model"
   ]
  },
  {
   "cell_type": "code",
   "execution_count": 76,
   "metadata": {
    "colab": {},
    "colab_type": "code",
    "deletable": false,
    "id": "monuuQhHL7B_",
    "nbgrader": {
     "cell_type": "code",
     "checksum": "088ae511ec2eb947de2bff002e75d460",
     "grade": false,
     "grade_id": "cell-031a656e1e811717",
     "locked": false,
     "schema_version": 3,
     "solution": true,
     "task": false
    }
   },
   "outputs": [
    {
     "output_type": "execute_result",
     "data": {
      "text/plain": [
       "Pipeline(steps=[('columntransformer',\n",
       "                 ColumnTransformer(transformers=[('num',\n",
       "                                                  Pipeline(steps=[('imputer',\n",
       "                                                                   SimpleImputer(fill_value=-9999,\n",
       "                                                                                 strategy='constant'))]),\n",
       "                                                  ['Pclass', 'SibSp', 'Parch',\n",
       "                                                   'Fare', 'Age']),\n",
       "                                                 ('cat',\n",
       "                                                  Pipeline(steps=[('imputer',\n",
       "                                                                   SimpleImputer(fill_value='missing',\n",
       "                                                                                 strategy='constant')),\n",
       "                                                                  ('onehot',\n",
       "                                                                   OneHotEncoder(handle_unknown='ignore'))]),\n",
       "                                                  ['Sex', 'Embarked',\n",
       "                                                   'Title'])])),\n",
       "                ('gradientboostingclassifier', GradientBoostingClassifier())])"
      ],
      "text/html": "<style>div.sk-top-container {color: black;background-color: white;}div.sk-toggleable {background-color: white;}label.sk-toggleable__label {cursor: pointer;display: block;width: 100%;margin-bottom: 0;padding: 0.2em 0.3em;box-sizing: border-box;text-align: center;}div.sk-toggleable__content {max-height: 0;max-width: 0;overflow: hidden;text-align: left;background-color: #f0f8ff;}div.sk-toggleable__content pre {margin: 0.2em;color: black;border-radius: 0.25em;background-color: #f0f8ff;}input.sk-toggleable__control:checked~div.sk-toggleable__content {max-height: 200px;max-width: 100%;overflow: auto;}div.sk-estimator input.sk-toggleable__control:checked~label.sk-toggleable__label {background-color: #d4ebff;}div.sk-label input.sk-toggleable__control:checked~label.sk-toggleable__label {background-color: #d4ebff;}input.sk-hidden--visually {border: 0;clip: rect(1px 1px 1px 1px);clip: rect(1px, 1px, 1px, 1px);height: 1px;margin: -1px;overflow: hidden;padding: 0;position: absolute;width: 1px;}div.sk-estimator {font-family: monospace;background-color: #f0f8ff;margin: 0.25em 0.25em;border: 1px dotted black;border-radius: 0.25em;box-sizing: border-box;}div.sk-estimator:hover {background-color: #d4ebff;}div.sk-parallel-item::after {content: \"\";width: 100%;border-bottom: 1px solid gray;flex-grow: 1;}div.sk-label:hover label.sk-toggleable__label {background-color: #d4ebff;}div.sk-serial::before {content: \"\";position: absolute;border-left: 1px solid gray;box-sizing: border-box;top: 2em;bottom: 0;left: 50%;}div.sk-serial {display: flex;flex-direction: column;align-items: center;background-color: white;}div.sk-item {z-index: 1;}div.sk-parallel {display: flex;align-items: stretch;justify-content: center;background-color: white;}div.sk-parallel-item {display: flex;flex-direction: column;position: relative;background-color: white;}div.sk-parallel-item:first-child::after {align-self: flex-end;width: 50%;}div.sk-parallel-item:last-child::after {align-self: flex-start;width: 50%;}div.sk-parallel-item:only-child::after {width: 0;}div.sk-dashed-wrapped {border: 1px dashed gray;margin: 0.2em;box-sizing: border-box;padding-bottom: 0.1em;background-color: white;position: relative;}div.sk-label label {font-family: monospace;font-weight: bold;background-color: white;display: inline-block;line-height: 1.2em;}div.sk-label-container {position: relative;z-index: 2;text-align: center;}div.sk-container {display: inline-block;position: relative;}</style><div class=\"sk-top-container\"><div class=\"sk-container\"><div class=\"sk-item sk-dashed-wrapped\"><div class=\"sk-label-container\"><div class=\"sk-label sk-toggleable\"><input class=\"sk-toggleable__control sk-hidden--visually\" id=\"9dbbe919-f2d1-43da-8f71-8fa801afd2e7\" type=\"checkbox\" ><label class=\"sk-toggleable__label\" for=\"9dbbe919-f2d1-43da-8f71-8fa801afd2e7\">Pipeline</label><div class=\"sk-toggleable__content\"><pre>Pipeline(steps=[('columntransformer',\n                 ColumnTransformer(transformers=[('num',\n                                                  Pipeline(steps=[('imputer',\n                                                                   SimpleImputer(fill_value=-9999,\n                                                                                 strategy='constant'))]),\n                                                  ['Pclass', 'SibSp', 'Parch',\n                                                   'Fare', 'Age']),\n                                                 ('cat',\n                                                  Pipeline(steps=[('imputer',\n                                                                   SimpleImputer(fill_value='missing',\n                                                                                 strategy='constant')),\n                                                                  ('onehot',\n                                                                   OneHotEncoder(handle_unknown='ignore'))]),\n                                                  ['Sex', 'Embarked',\n                                                   'Title'])])),\n                ('gradientboostingclassifier', GradientBoostingClassifier())])</pre></div></div></div><div class=\"sk-serial\"><div class=\"sk-item sk-dashed-wrapped\"><div class=\"sk-label-container\"><div class=\"sk-label sk-toggleable\"><input class=\"sk-toggleable__control sk-hidden--visually\" id=\"3ccc3778-b9b9-40f4-9aee-0f29076df27f\" type=\"checkbox\" ><label class=\"sk-toggleable__label\" for=\"3ccc3778-b9b9-40f4-9aee-0f29076df27f\">columntransformer: ColumnTransformer</label><div class=\"sk-toggleable__content\"><pre>ColumnTransformer(transformers=[('num',\n                                 Pipeline(steps=[('imputer',\n                                                  SimpleImputer(fill_value=-9999,\n                                                                strategy='constant'))]),\n                                 ['Pclass', 'SibSp', 'Parch', 'Fare', 'Age']),\n                                ('cat',\n                                 Pipeline(steps=[('imputer',\n                                                  SimpleImputer(fill_value='missing',\n                                                                strategy='constant')),\n                                                 ('onehot',\n                                                  OneHotEncoder(handle_unknown='ignore'))]),\n                                 ['Sex', 'Embarked', 'Title'])])</pre></div></div></div><div class=\"sk-parallel\"><div class=\"sk-parallel-item\"><div class=\"sk-item\"><div class=\"sk-label-container\"><div class=\"sk-label sk-toggleable\"><input class=\"sk-toggleable__control sk-hidden--visually\" id=\"7e5e9e20-69b5-47e4-abb0-7effe11c04ed\" type=\"checkbox\" ><label class=\"sk-toggleable__label\" for=\"7e5e9e20-69b5-47e4-abb0-7effe11c04ed\">num</label><div class=\"sk-toggleable__content\"><pre>['Pclass', 'SibSp', 'Parch', 'Fare', 'Age']</pre></div></div></div><div class=\"sk-serial\"><div class=\"sk-item\"><div class=\"sk-serial\"><div class=\"sk-item\"><div class=\"sk-estimator sk-toggleable\"><input class=\"sk-toggleable__control sk-hidden--visually\" id=\"d0acdd2c-5f79-41ee-9589-e9b5c9c16349\" type=\"checkbox\" ><label class=\"sk-toggleable__label\" for=\"d0acdd2c-5f79-41ee-9589-e9b5c9c16349\">SimpleImputer</label><div class=\"sk-toggleable__content\"><pre>SimpleImputer(fill_value=-9999, strategy='constant')</pre></div></div></div></div></div></div></div></div><div class=\"sk-parallel-item\"><div class=\"sk-item\"><div class=\"sk-label-container\"><div class=\"sk-label sk-toggleable\"><input class=\"sk-toggleable__control sk-hidden--visually\" id=\"08aa867a-b703-44a3-b06a-32decbc4fa0c\" type=\"checkbox\" ><label class=\"sk-toggleable__label\" for=\"08aa867a-b703-44a3-b06a-32decbc4fa0c\">cat</label><div class=\"sk-toggleable__content\"><pre>['Sex', 'Embarked', 'Title']</pre></div></div></div><div class=\"sk-serial\"><div class=\"sk-item\"><div class=\"sk-serial\"><div class=\"sk-item\"><div class=\"sk-estimator sk-toggleable\"><input class=\"sk-toggleable__control sk-hidden--visually\" id=\"8f0a47da-5ef3-479a-bdfa-baf6ff6ace13\" type=\"checkbox\" ><label class=\"sk-toggleable__label\" for=\"8f0a47da-5ef3-479a-bdfa-baf6ff6ace13\">SimpleImputer</label><div class=\"sk-toggleable__content\"><pre>SimpleImputer(fill_value='missing', strategy='constant')</pre></div></div></div><div class=\"sk-item\"><div class=\"sk-estimator sk-toggleable\"><input class=\"sk-toggleable__control sk-hidden--visually\" id=\"e68c6e6b-b706-425a-94d8-7590456f576c\" type=\"checkbox\" ><label class=\"sk-toggleable__label\" for=\"e68c6e6b-b706-425a-94d8-7590456f576c\">OneHotEncoder</label><div class=\"sk-toggleable__content\"><pre>OneHotEncoder(handle_unknown='ignore')</pre></div></div></div></div></div></div></div></div></div></div><div class=\"sk-item\"><div class=\"sk-estimator sk-toggleable\"><input class=\"sk-toggleable__control sk-hidden--visually\" id=\"bbe0ff2c-b91b-444d-932f-966bb6854e55\" type=\"checkbox\" ><label class=\"sk-toggleable__label\" for=\"bbe0ff2c-b91b-444d-932f-966bb6854e55\">GradientBoostingClassifier</label><div class=\"sk-toggleable__content\"><pre>GradientBoostingClassifier()</pre></div></div></div></div></div></div></div>"
     },
     "metadata": {},
     "execution_count": 76
    }
   ],
   "source": [
    "\n",
    "best_model =   tree_classifiers[\"Skl GBM\"] \n",
    "best_model.fit(x,y)"
   ]
  },
  {
   "cell_type": "markdown",
   "metadata": {},
   "source": [
    "# Exercise 7.2 (2pts)\n",
    "With your best model, generate the predicitions for test data (x_test)"
   ]
  },
  {
   "cell_type": "code",
   "execution_count": 77,
   "metadata": {
    "deletable": false,
    "nbgrader": {
     "cell_type": "code",
     "checksum": "031ab122b02b5833236370a53d148daf",
     "grade": false,
     "grade_id": "cell-44b93a0dbd4eb6fc",
     "locked": false,
     "schema_version": 3,
     "solution": true,
     "task": false
    }
   },
   "outputs": [],
   "source": [
    "test_pred = best_model.predict(x_test)"
   ]
  },
  {
   "cell_type": "code",
   "execution_count": 78,
   "metadata": {
    "deletable": false,
    "editable": false,
    "nbgrader": {
     "cell_type": "code",
     "checksum": "180b37cf4a0276bdf509220b1706a8aa",
     "grade": true,
     "grade_id": "cell-a29fc8d24284520e",
     "locked": true,
     "points": 2,
     "schema_version": 3,
     "solution": false,
     "task": false
    }
   },
   "outputs": [],
   "source": [
    "assert len(test_pred) == 418\n",
    "assert np.unique(test_pred).tolist() == [0,1]"
   ]
  },
  {
   "cell_type": "markdown",
   "metadata": {},
   "source": [
    "# Exercise 7.3\n",
    "\n",
    "Submit to kaggle.\n",
    "\n",
    "- You can use the kaggle command line app. Check https://github.com/Kaggle/kaggle-api"
   ]
  },
  {
   "cell_type": "code",
   "execution_count": 79,
   "metadata": {},
   "outputs": [
    {
     "output_type": "execute_result",
     "data": {
      "text/plain": [
       "             Survived\n",
       "PassengerId          \n",
       "892                 0\n",
       "893                 0\n",
       "894                 0\n",
       "895                 0\n",
       "896                 0"
      ],
      "text/html": "<div>\n<style scoped>\n    .dataframe tbody tr th:only-of-type {\n        vertical-align: middle;\n    }\n\n    .dataframe tbody tr th {\n        vertical-align: top;\n    }\n\n    .dataframe thead th {\n        text-align: right;\n    }\n</style>\n<table border=\"1\" class=\"dataframe\">\n  <thead>\n    <tr style=\"text-align: right;\">\n      <th></th>\n      <th>Survived</th>\n    </tr>\n    <tr>\n      <th>PassengerId</th>\n      <th></th>\n    </tr>\n  </thead>\n  <tbody>\n    <tr>\n      <th>892</th>\n      <td>0</td>\n    </tr>\n    <tr>\n      <th>893</th>\n      <td>0</td>\n    </tr>\n    <tr>\n      <th>894</th>\n      <td>0</td>\n    </tr>\n    <tr>\n      <th>895</th>\n      <td>0</td>\n    </tr>\n    <tr>\n      <th>896</th>\n      <td>0</td>\n    </tr>\n  </tbody>\n</table>\n</div>"
     },
     "metadata": {},
     "execution_count": 79
    }
   ],
   "source": [
    "sub = pd.DataFrame(test_pred, index=x_test.index, columns=[\"Survived\"])\n",
    "sub.head()"
   ]
  },
  {
   "cell_type": "code",
   "execution_count": 80,
   "metadata": {},
   "outputs": [],
   "source": [
    "sub.to_csv(\"sub.csv\")"
   ]
  },
  {
   "cell_type": "code",
   "execution_count": null,
   "metadata": {},
   "outputs": [],
   "source": [
    "!kaggle competitions submit -c titanic -f sub.csv -m \"My submission message\""
   ]
  }
 ],
 "metadata": {
  "anaconda-cloud": {},
  "colab": {
   "collapsed_sections": [],
   "name": "Titanic LogReg.ipynb",
   "provenance": []
  },
  "kernelspec": {
   "name": "python385jvsc74a57bd0b3ba2566441a7c06988d0923437866b63cedc61552a5af99d1f4fb67d367b25f",
   "display_name": "Python 3.8.5 64-bit (conda)"
  },
  "language_info": {
   "codemirror_mode": {
    "name": "ipython",
    "version": 3
   },
   "file_extension": ".py",
   "mimetype": "text/x-python",
   "name": "python",
   "nbconvert_exporter": "python",
   "pygments_lexer": "ipython3",
   "version": "3.8.5"
  },
  "name": "seminar13_optional_practice_trees_titanic.ipynb"
 },
 "nbformat": 4,
 "nbformat_minor": 4
}