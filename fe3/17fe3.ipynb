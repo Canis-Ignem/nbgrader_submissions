{
 "cells": [
  {
   "cell_type": "code",
   "execution_count": 1,
   "metadata": {},
   "outputs": [
    {
     "name": "stdout",
     "output_type": "stream",
     "text": [
      "Pandas   1.2.4\n",
      "Sklearn  0.24.1\n"
     ]
    }
   ],
   "source": [
    "import pandas as pd\n",
    "import matplotlib.pyplot as plt\n",
    "import numpy as np\n",
    "#import seaborn as sb\n",
    "import sklearn as skl\n",
    "import time\n",
    "from IPython.display import display, clear_output\n",
    "\n",
    "import sklearn\n",
    "from sklearn import pipeline      # Pipeline\n",
    "from sklearn import preprocessing # OrdinalEncoder, LabelEncoder\n",
    "from sklearn import impute\n",
    "from sklearn import compose\n",
    "from sklearn import model_selection # train_test_split\n",
    "from sklearn import metrics         # accuracy_score, balanced_accuracy_score, plot_confusion_matrix\n",
    "from sklearn import set_config\n",
    "\n",
    "set_config(display='diagram') # Useful for display the pipeline\n",
    "\n",
    "print(\"Pandas  \", pd.__version__)\n",
    "print(\"Sklearn \", skl.__version__) # Try to use 0.24"
   ]
  },
  {
   "cell_type": "code",
   "execution_count": 2,
   "metadata": {
    "deletable": false,
    "editable": false,
    "nbgrader": {
     "cell_type": "code",
     "checksum": "ba64a626f4514047c1f189598c684da9",
     "grade": false,
     "grade_id": "cell-c9956bc3084ab64e",
     "locked": true,
     "schema_version": 3,
     "solution": false,
     "task": false
    }
   },
   "outputs": [
    {
     "name": "stdout",
     "output_type": "stream",
     "text": [
      "'Complete solution.ipynb'   sample_submission.csv   test.csv   train.csv\r\n"
     ]
    }
   ],
   "source": [
    "path = \"./tabular-playground-feb21/\"\n",
    "!ls $path"
   ]
  },
  {
   "cell_type": "markdown",
   "metadata": {},
   "source": [
    "### Load data"
   ]
  },
  {
   "cell_type": "code",
   "execution_count": 3,
   "metadata": {
    "deletable": false,
    "nbgrader": {
     "cell_type": "code",
     "checksum": "4ea3a25f357a30f495f76db4dfa4e6a9",
     "grade": false,
     "grade_id": "cell-52a8794a601f4d0e",
     "locked": false,
     "schema_version": 3,
     "solution": true,
     "task": false
    }
   },
   "outputs": [
    {
     "name": "stdout",
     "output_type": "stream",
     "text": [
      "Train dataframe: (300000, 25)\n",
      "Test dataframe: (200000, 24)\n"
     ]
    },
    {
     "data": {
      "text/html": [
       "<div>\n",
       "<style scoped>\n",
       "    .dataframe tbody tr th:only-of-type {\n",
       "        vertical-align: middle;\n",
       "    }\n",
       "\n",
       "    .dataframe tbody tr th {\n",
       "        vertical-align: top;\n",
       "    }\n",
       "\n",
       "    .dataframe thead th {\n",
       "        text-align: right;\n",
       "    }\n",
       "</style>\n",
       "<table border=\"1\" class=\"dataframe\">\n",
       "  <thead>\n",
       "    <tr style=\"text-align: right;\">\n",
       "      <th></th>\n",
       "      <th>cat0</th>\n",
       "      <th>cat1</th>\n",
       "      <th>cat2</th>\n",
       "      <th>cat3</th>\n",
       "      <th>cat4</th>\n",
       "      <th>cat5</th>\n",
       "      <th>cat6</th>\n",
       "      <th>cat7</th>\n",
       "      <th>cat8</th>\n",
       "      <th>cat9</th>\n",
       "      <th>...</th>\n",
       "      <th>cont5</th>\n",
       "      <th>cont6</th>\n",
       "      <th>cont7</th>\n",
       "      <th>cont8</th>\n",
       "      <th>cont9</th>\n",
       "      <th>cont10</th>\n",
       "      <th>cont11</th>\n",
       "      <th>cont12</th>\n",
       "      <th>cont13</th>\n",
       "      <th>target</th>\n",
       "    </tr>\n",
       "    <tr>\n",
       "      <th>id</th>\n",
       "      <th></th>\n",
       "      <th></th>\n",
       "      <th></th>\n",
       "      <th></th>\n",
       "      <th></th>\n",
       "      <th></th>\n",
       "      <th></th>\n",
       "      <th></th>\n",
       "      <th></th>\n",
       "      <th></th>\n",
       "      <th></th>\n",
       "      <th></th>\n",
       "      <th></th>\n",
       "      <th></th>\n",
       "      <th></th>\n",
       "      <th></th>\n",
       "      <th></th>\n",
       "      <th></th>\n",
       "      <th></th>\n",
       "      <th></th>\n",
       "      <th></th>\n",
       "    </tr>\n",
       "  </thead>\n",
       "  <tbody>\n",
       "    <tr>\n",
       "      <th>1</th>\n",
       "      <td>A</td>\n",
       "      <td>B</td>\n",
       "      <td>A</td>\n",
       "      <td>A</td>\n",
       "      <td>B</td>\n",
       "      <td>D</td>\n",
       "      <td>A</td>\n",
       "      <td>E</td>\n",
       "      <td>C</td>\n",
       "      <td>I</td>\n",
       "      <td>...</td>\n",
       "      <td>0.881122</td>\n",
       "      <td>0.421650</td>\n",
       "      <td>0.741413</td>\n",
       "      <td>0.895799</td>\n",
       "      <td>0.802461</td>\n",
       "      <td>0.724417</td>\n",
       "      <td>0.701915</td>\n",
       "      <td>0.877618</td>\n",
       "      <td>0.719903</td>\n",
       "      <td>6.994023</td>\n",
       "    </tr>\n",
       "    <tr>\n",
       "      <th>2</th>\n",
       "      <td>B</td>\n",
       "      <td>A</td>\n",
       "      <td>A</td>\n",
       "      <td>A</td>\n",
       "      <td>B</td>\n",
       "      <td>B</td>\n",
       "      <td>A</td>\n",
       "      <td>E</td>\n",
       "      <td>A</td>\n",
       "      <td>F</td>\n",
       "      <td>...</td>\n",
       "      <td>0.440011</td>\n",
       "      <td>0.346230</td>\n",
       "      <td>0.278495</td>\n",
       "      <td>0.593413</td>\n",
       "      <td>0.546056</td>\n",
       "      <td>0.613252</td>\n",
       "      <td>0.741289</td>\n",
       "      <td>0.326679</td>\n",
       "      <td>0.808464</td>\n",
       "      <td>8.071256</td>\n",
       "    </tr>\n",
       "    <tr>\n",
       "      <th>3</th>\n",
       "      <td>A</td>\n",
       "      <td>A</td>\n",
       "      <td>A</td>\n",
       "      <td>C</td>\n",
       "      <td>B</td>\n",
       "      <td>D</td>\n",
       "      <td>A</td>\n",
       "      <td>B</td>\n",
       "      <td>C</td>\n",
       "      <td>N</td>\n",
       "      <td>...</td>\n",
       "      <td>0.914155</td>\n",
       "      <td>0.369602</td>\n",
       "      <td>0.832564</td>\n",
       "      <td>0.865620</td>\n",
       "      <td>0.825251</td>\n",
       "      <td>0.264104</td>\n",
       "      <td>0.695561</td>\n",
       "      <td>0.869133</td>\n",
       "      <td>0.828352</td>\n",
       "      <td>5.760456</td>\n",
       "    </tr>\n",
       "    <tr>\n",
       "      <th>4</th>\n",
       "      <td>A</td>\n",
       "      <td>A</td>\n",
       "      <td>A</td>\n",
       "      <td>C</td>\n",
       "      <td>B</td>\n",
       "      <td>D</td>\n",
       "      <td>A</td>\n",
       "      <td>E</td>\n",
       "      <td>G</td>\n",
       "      <td>K</td>\n",
       "      <td>...</td>\n",
       "      <td>0.934138</td>\n",
       "      <td>0.578930</td>\n",
       "      <td>0.407313</td>\n",
       "      <td>0.868099</td>\n",
       "      <td>0.794402</td>\n",
       "      <td>0.494269</td>\n",
       "      <td>0.698125</td>\n",
       "      <td>0.809799</td>\n",
       "      <td>0.614766</td>\n",
       "      <td>7.806457</td>\n",
       "    </tr>\n",
       "    <tr>\n",
       "      <th>6</th>\n",
       "      <td>A</td>\n",
       "      <td>B</td>\n",
       "      <td>A</td>\n",
       "      <td>A</td>\n",
       "      <td>B</td>\n",
       "      <td>B</td>\n",
       "      <td>A</td>\n",
       "      <td>E</td>\n",
       "      <td>C</td>\n",
       "      <td>F</td>\n",
       "      <td>...</td>\n",
       "      <td>0.382600</td>\n",
       "      <td>0.705940</td>\n",
       "      <td>0.325193</td>\n",
       "      <td>0.440967</td>\n",
       "      <td>0.462146</td>\n",
       "      <td>0.724447</td>\n",
       "      <td>0.683073</td>\n",
       "      <td>0.343457</td>\n",
       "      <td>0.297743</td>\n",
       "      <td>6.868974</td>\n",
       "    </tr>\n",
       "  </tbody>\n",
       "</table>\n",
       "<p>5 rows × 25 columns</p>\n",
       "</div>"
      ],
      "text/plain": [
       "   cat0 cat1 cat2 cat3 cat4 cat5 cat6 cat7 cat8 cat9  ...     cont5     cont6  \\\n",
       "id                                                    ...                       \n",
       "1     A    B    A    A    B    D    A    E    C    I  ...  0.881122  0.421650   \n",
       "2     B    A    A    A    B    B    A    E    A    F  ...  0.440011  0.346230   \n",
       "3     A    A    A    C    B    D    A    B    C    N  ...  0.914155  0.369602   \n",
       "4     A    A    A    C    B    D    A    E    G    K  ...  0.934138  0.578930   \n",
       "6     A    B    A    A    B    B    A    E    C    F  ...  0.382600  0.705940   \n",
       "\n",
       "       cont7     cont8     cont9    cont10    cont11    cont12    cont13  \\\n",
       "id                                                                         \n",
       "1   0.741413  0.895799  0.802461  0.724417  0.701915  0.877618  0.719903   \n",
       "2   0.278495  0.593413  0.546056  0.613252  0.741289  0.326679  0.808464   \n",
       "3   0.832564  0.865620  0.825251  0.264104  0.695561  0.869133  0.828352   \n",
       "4   0.407313  0.868099  0.794402  0.494269  0.698125  0.809799  0.614766   \n",
       "6   0.325193  0.440967  0.462146  0.724447  0.683073  0.343457  0.297743   \n",
       "\n",
       "      target  \n",
       "id            \n",
       "1   6.994023  \n",
       "2   8.071256  \n",
       "3   5.760456  \n",
       "4   7.806457  \n",
       "6   6.868974  \n",
       "\n",
       "[5 rows x 25 columns]"
      ]
     },
     "execution_count": 3,
     "metadata": {},
     "output_type": "execute_result"
    }
   ],
   "source": [
    "# 1 point \n",
    " #load the train, test and sample_submission data using the is as the index column\n",
    "df = pd.read_csv(path+\"train.csv\")\n",
    "df.set_index('id', inplace=True)\n",
    "df_t = pd.read_csv(path+\"test.csv\")\n",
    "df_t.set_index('id', inplace=True)\n",
    "sub = pd.read_csv(path+\"sample_submission.csv\")\n",
    "sub.set_index('id', inplace=True)\n",
    "# YOUR CODE HERE\n",
    "\n",
    "\n",
    "print(\"Train dataframe:\", df.shape)\n",
    "print(\"Test dataframe:\", df_t.shape)\n",
    "df.head()"
   ]
  },
  {
   "cell_type": "code",
   "execution_count": 4,
   "metadata": {
    "deletable": false,
    "editable": false,
    "nbgrader": {
     "cell_type": "code",
     "checksum": "283057813be21d0e38dbf98f96fa6b75",
     "grade": true,
     "grade_id": "cell-63c54563653a95db",
     "locked": true,
     "points": 1,
     "schema_version": 3,
     "solution": false,
     "task": false
    }
   },
   "outputs": [
    {
     "name": "stdout",
     "output_type": "stream",
     "text": [
      "(200000, 1)\n"
     ]
    }
   ],
   "source": [
    "print(sub.shape)\n",
    "assert df.shape == (300000,25) \n",
    "assert df_t.shape == (200000,24) \n",
    "assert sub.shape == (200000,1) "
   ]
  },
  {
   "cell_type": "markdown",
   "metadata": {},
   "source": [
    "### Subsample the data"
   ]
  },
  {
   "cell_type": "code",
   "execution_count": 5,
   "metadata": {
    "deletable": false,
    "nbgrader": {
     "cell_type": "code",
     "checksum": "48b8af006c0502ef277ad7f9f51bae73",
     "grade": false,
     "grade_id": "cell-af0fe9c9d53bb080",
     "locked": false,
     "schema_version": 3,
     "solution": true,
     "task": false
    }
   },
   "outputs": [],
   "source": [
    "#1 point\n",
    "# get a random sample of size 50k, tested with random state 0\n",
    "dfs = df.sample(50000, random_state=0)\n",
    "# YOUR CODE HERE"
   ]
  },
  {
   "cell_type": "code",
   "execution_count": 6,
   "metadata": {
    "deletable": false,
    "editable": false,
    "nbgrader": {
     "cell_type": "code",
     "checksum": "3a65c53efee5c6fb13a948c4a711c409",
     "grade": true,
     "grade_id": "cell-6d044ab7181322e1",
     "locked": true,
     "points": 1,
     "schema_version": 3,
     "solution": false,
     "task": false
    }
   },
   "outputs": [],
   "source": [
    "assert dfs.shape == (50000,25)"
   ]
  },
  {
   "cell_type": "markdown",
   "metadata": {},
   "source": [
    "### There are no missings in this dataset"
   ]
  },
  {
   "cell_type": "code",
   "execution_count": 7,
   "metadata": {},
   "outputs": [
    {
     "data": {
      "text/plain": [
       "(0, 0)"
      ]
     },
     "execution_count": 7,
     "metadata": {},
     "output_type": "execute_result"
    }
   ],
   "source": [
    "df.isna().sum().sum(), df_t.isna().sum().sum()"
   ]
  },
  {
   "cell_type": "code",
   "execution_count": 8,
   "metadata": {},
   "outputs": [
    {
     "data": {
      "text/plain": [
       "Index(['cat0', 'cat1', 'cat2', 'cat3', 'cat4', 'cat5', 'cat6', 'cat7', 'cat8',\n",
       "       'cat9', 'cont0', 'cont1', 'cont2', 'cont3', 'cont4', 'cont5', 'cont6',\n",
       "       'cont7', 'cont8', 'cont9', 'cont10', 'cont11', 'cont12', 'cont13',\n",
       "       'target'],\n",
       "      dtype='object')"
      ]
     },
     "execution_count": 8,
     "metadata": {},
     "output_type": "execute_result"
    }
   ],
   "source": [
    "df.columns"
   ]
  },
  {
   "cell_type": "markdown",
   "metadata": {},
   "source": [
    "### Define variables for x and y"
   ]
  },
  {
   "cell_type": "code",
   "execution_count": 9,
   "metadata": {
    "deletable": false,
    "nbgrader": {
     "cell_type": "code",
     "checksum": "9da5eb270c24b61b947f95901ab01244",
     "grade": false,
     "grade_id": "cell-798649ceac290b47",
     "locked": false,
     "schema_version": 3,
     "solution": true,
     "task": false
    }
   },
   "outputs": [],
   "source": [
    "cat_vars = ['cat0', 'cat1', 'cat2', 'cat3', 'cat4', 'cat5', 'cat6', 'cat7', 'cat8', 'cat9']\n",
    "num_vars = ['cont0', 'cont1', 'cont2', 'cont3',  'cont4',  'cont5',  'cont6',\n",
    "            'cont7', 'cont8', 'cont9', 'cont10', 'cont11', 'cont12', 'cont13']\n",
    "\n",
    "# 1 point \n",
    "# store in X all the categorical and numerical columns\n",
    "# store in Y the target\n",
    "\n",
    "x = dfs.drop(['target'], axis=1)\n",
    "y = dfs['target']\n",
    "# YOUR CODE HERE\n"
   ]
  },
  {
   "cell_type": "code",
   "execution_count": 10,
   "metadata": {
    "deletable": false,
    "editable": false,
    "nbgrader": {
     "cell_type": "code",
     "checksum": "d43a4e2c399b56436b32dbc7502477e0",
     "grade": true,
     "grade_id": "cell-a12e77048aa686c4",
     "locked": true,
     "points": 1,
     "schema_version": 3,
     "solution": false,
     "task": false
    }
   },
   "outputs": [],
   "source": [
    "assert x.shape == (50000,24)\n",
    "assert y.shape == (50000,)"
   ]
  },
  {
   "cell_type": "markdown",
   "metadata": {},
   "source": [
    "### See the target variable ([The metric is RMSE](https://www.kaggle.com/c/tabular-playground-series-feb-2021/overview/evaluation))"
   ]
  },
  {
   "cell_type": "code",
   "execution_count": 11,
   "metadata": {},
   "outputs": [
    {
     "data": {
      "image/png": "[encoded data removed]",
      "text/plain": [
       "<Figure size 432x288 with 1 Axes>"
      ]
     },
     "metadata": {
      "needs_background": "light"
     },
     "output_type": "display_data"
    }
   ],
   "source": [
    "df.target.plot.hist(bins=500);"
   ]
  },
  {
   "cell_type": "markdown",
   "metadata": {},
   "source": [
    "### See the numerical variables"
   ]
  },
  {
   "cell_type": "code",
   "execution_count": 12,
   "metadata": {},
   "outputs": [
    {
     "data": {
      "image/png": "[encoded data removed]",
      "text/plain": [
       "<Figure size 432x288 with 1 Axes>"
      ]
     },
     "metadata": {
      "needs_background": "light"
     },
     "output_type": "display_data"
    },
    {
     "data": {
      "image/png": "[encoded data removed]",
      "text/plain": [
       "<Figure size 432x288 with 1 Axes>"
      ]
     },
     "metadata": {
      "needs_background": "light"
     },
     "output_type": "display_data"
    },
    {
     "data": {
      "image/png": "[encoded data removed]",
      "text/plain": [
       "<Figure size 432x288 with 1 Axes>"
      ]
     },
     "metadata": {
      "needs_background": "light"
     },
     "output_type": "display_data"
    },
    {
     "data": {
      "image/png": "[encoded data removed]",
      "text/plain": [
       "<Figure size 432x288 with 1 Axes>"
      ]
     },
     "metadata": {
      "needs_background": "light"
     },
     "output_type": "display_data"
    },
    {
     "data": {
      "image/png": "[encoded data removed]",
      "text/plain": [
       "<Figure size 432x288 with 1 Axes>"
      ]
     },
     "metadata": {
      "needs_background": "light"
     },
     "output_type": "display_data"
    },
    {
     "data": {
      "image/png": "[encoded data removed]",
      "text/plain": [
       "<Figure size 432x288 with 1 Axes>"
      ]
     },
     "metadata": {
      "needs_background": "light"
     },
     "output_type": "display_data"
    },
    {
     "data": {
      "image/png": "[encoded data removed]",
      "text/plain": [
       "<Figure size 432x288 with 1 Axes>"
      ]
     },
     "metadata": {
      "needs_background": "light"
     },
     "output_type": "display_data"
    },
    {
     "data": {
      "image/png": "[encoded data removed]",
      "text/plain": [
       "<Figure size 432x288 with 1 Axes>"
      ]
     },
     "metadata": {
      "needs_background": "light"
     },
     "output_type": "display_data"
    },
    {
     "data": {
      "image/png": "[encoded data removed]",
      "text/plain": [
       "<Figure size 432x288 with 1 Axes>"
      ]
     },
     "metadata": {
      "needs_background": "light"
     },
     "output_type": "display_data"
    },
    {
     "data": {
      "image/png": "[encoded data removed]",
      "text/plain": [
       "<Figure size 432x288 with 1 Axes>"
      ]
     },
     "metadata": {
      "needs_background": "light"
     },
     "output_type": "display_data"
    },
    {
     "data": {
      "image/png": "[encoded data removed]",
      "text/plain": [
       "<Figure size 432x288 with 1 Axes>"
      ]
     },
     "metadata": {
      "needs_background": "light"
     },
     "output_type": "display_data"
    },
    {
     "data": {
      "image/png": "[encoded data removed]",
      "text/plain": [
       "<Figure size 432x288 with 1 Axes>"
      ]
     },
     "metadata": {
      "needs_background": "light"
     },
     "output_type": "display_data"
    },
    {
     "data": {
      "image/png": "[encoded data removed]",
      "text/plain": [
       "<Figure size 432x288 with 1 Axes>"
      ]
     },
     "metadata": {
      "needs_background": "light"
     },
     "output_type": "display_data"
    },
    {
     "data": {
      "image/png": "[encoded data removed]",
      "text/plain": [
       "<Figure size 432x288 with 1 Axes>"
      ]
     },
     "metadata": {
      "needs_background": "light"
     },
     "output_type": "display_data"
    }
   ],
   "source": [
    "for var in num_vars:\n",
    "    df[var].plot.hist(bins=500)\n",
    "    plt.show();"
   ]
  },
  {
   "cell_type": "markdown",
   "metadata": {},
   "source": [
    "### See the categorical variables (ypu can use `bar()`, `barh()` or `.pie()`)"
   ]
  },
  {
   "cell_type": "code",
   "execution_count": 13,
   "metadata": {},
   "outputs": [
    {
     "data": {
      "image/png": "[encoded data removed]",
      "text/plain": [
       "<Figure size 432x288 with 1 Axes>"
      ]
     },
     "metadata": {
      "needs_background": "light"
     },
     "output_type": "display_data"
    },
    {
     "data": {
      "image/png": "[encoded data removed]",
      "text/plain": [
       "<Figure size 432x288 with 1 Axes>"
      ]
     },
     "metadata": {
      "needs_background": "light"
     },
     "output_type": "display_data"
    },
    {
     "data": {
      "image/png": "[encoded data removed]",
      "text/plain": [
       "<Figure size 432x288 with 1 Axes>"
      ]
     },
     "metadata": {
      "needs_background": "light"
     },
     "output_type": "display_data"
    },
    {
     "data": {
      "image/png": "[encoded data removed]",
      "text/plain": [
       "<Figure size 432x288 with 1 Axes>"
      ]
     },
     "metadata": {
      "needs_background": "light"
     },
     "output_type": "display_data"
    },
    {
     "data": {
      "image/png": "[encoded data removed]",
      "text/plain": [
       "<Figure size 432x288 with 1 Axes>"
      ]
     },
     "metadata": {
      "needs_background": "light"
     },
     "output_type": "display_data"
    },
    {
     "data": {
      "image/png": "[encoded data removed]",
      "text/plain": [
       "<Figure size 432x288 with 1 Axes>"
      ]
     },
     "metadata": {
      "needs_background": "light"
     },
     "output_type": "display_data"
    },
    {
     "data": {
      "image/png": "[encoded data removed]",
      "text/plain": [
       "<Figure size 432x288 with 1 Axes>"
      ]
     },
     "metadata": {
      "needs_background": "light"
     },
     "output_type": "display_data"
    },
    {
     "data": {
      "image/png": "[encoded data removed]",
      "text/plain": [
       "<Figure size 432x288 with 1 Axes>"
      ]
     },
     "metadata": {
      "needs_background": "light"
     },
     "output_type": "display_data"
    },
    {
     "data": {
      "image/png": "[encoded data removed]",
      "text/plain": [
       "<Figure size 432x288 with 1 Axes>"
      ]
     },
     "metadata": {
      "needs_background": "light"
     },
     "output_type": "display_data"
    },
    {
     "data": {
      "image/png": "[encoded data removed]",
      "text/plain": [
       "<Figure size 432x288 with 1 Axes>"
      ]
     },
     "metadata": {
      "needs_background": "light"
     },
     "output_type": "display_data"
    }
   ],
   "source": [
    "for var in cat_vars:\n",
    "    df[var].value_counts().plot.bar()\n",
    "    #df[var].value_counts().plot.barh()\n",
    "    #df[var].value_counts().plot.pie()\n",
    "    plt.show();"
   ]
  },
  {
   "cell_type": "markdown",
   "metadata": {},
   "source": [
    "# Exercise 1 (2 pts)\n",
    "\n",
    "Create the `ColumTransformer` for **models based on multiplications and distances**:\n",
    "- Pipeline for numerical variables (`num_vars`): `Standardscaler()` or `QuantileTransformer(n_quantiles=100, output_distribution='normal')`\n",
    "- Pipeline for categorical variables (`cat_vars`): `OneHotEncoder(handle_unknown='ignore')`"
   ]
  },
  {
   "cell_type": "code",
   "execution_count": 14,
   "metadata": {
    "deletable": false,
    "nbgrader": {
     "cell_type": "code",
     "checksum": "10d603101a3a872dc52bf1a241871cf9",
     "grade": false,
     "grade_id": "cell-1bcb9c03884767e0",
     "locked": false,
     "schema_version": 3,
     "solution": true,
     "task": false
    }
   },
   "outputs": [],
   "source": [
    "# YOUR CODE HERE\n",
    "mult_num_var = pipeline.Pipeline(steps=[\n",
    "    ('STANDARDSCALER',  preprocessing.StandardScaler()),\n",
    "    ])\n",
    "\n",
    "mult_cat_var = pipeline.Pipeline(steps=[\n",
    "    ('ONEHOTENCODER', preprocessing.OneHotEncoder(handle_unknown='ignore'))\n",
    "    ])\n",
    "\n",
    "mult_prepro = compose.ColumnTransformer(transformers=[\n",
    "    (\"MULT_NUM_VAR\", mult_num_var, num_vars),\n",
    "    (\"MULT_CAT_VAR\", mult_cat_var, cat_vars),\n",
    "    ], remainder='passthrough')"
   ]
  },
  {
   "cell_type": "code",
   "execution_count": 18,
   "metadata": {
    "deletable": false,
    "editable": false,
    "nbgrader": {
     "cell_type": "code",
     "checksum": "84e1dc4290931eeee92c3c7fdc67732f",
     "grade": true,
     "grade_id": "cell-25faeb14cfb1e048",
     "locked": true,
     "points": 2,
     "schema_version": 3,
     "solution": false,
     "task": false
    }
   },
   "outputs": [],
   "source": [
    "assert type(tree_prepro) is sklearn.compose._column_transformer.ColumnTransformer"
   ]
  },
  {
   "cell_type": "markdown",
   "metadata": {},
   "source": [
    "# Exercise 2 (2 pts)\n",
    "\n",
    "Create the `ColumTransformer` for **models based on trees**:\n",
    "- Pipeline for numerical variables (`num_vars`): **Do nothing**. Tip: You can use `remainder='passthrough'` when you create the `ColumTransformer`.\n",
    "- Pipeline for categorical variables (`cat_vars`): `OrdinalEncoder(handle_unknown='use_encoded_value', unknown_value=-1)[source]`"
   ]
  },
  {
   "cell_type": "code",
   "execution_count": 17,
   "metadata": {
    "deletable": false,
    "nbgrader": {
     "cell_type": "code",
     "checksum": "1cd4cdd16f7ac771b2014244d76bc9b9",
     "grade": false,
     "grade_id": "cell-d5bc34b399dc8b7a",
     "locked": false,
     "schema_version": 3,
     "solution": true,
     "task": false
    }
   },
   "outputs": [],
   "source": [
    "# tree_num_var = pipeline.Pipeline(steps=[\n",
    "#     ], remainder='passthrough')\n",
    "\n",
    "tree_cat_var = pipeline.Pipeline(steps=[\n",
    "    ('ONEHOTENCODER', preprocessing.OrdinalEncoder(handle_unknown='use_encoded_value', unknown_value=-1)),\n",
    "    ])\n",
    "\n",
    "tree_prepro = compose.ColumnTransformer(transformers=[\n",
    "    #(\"TREE_NUM_VAR\", tree_num_var, num_vars),\n",
    "    (\"TREE_CAT_VAR\", tree_cat_var, cat_vars),\n",
    "    ], remainder='passthrough')\n"
   ]
  },
  {
   "cell_type": "code",
   "execution_count": 16,
   "metadata": {
    "deletable": false,
    "editable": false,
    "nbgrader": {
     "cell_type": "code",
     "checksum": "4b130d0f54fb35850e5bcea2bfd6794b",
     "grade": true,
     "grade_id": "cell-5938715b631f6081",
     "locked": true,
     "points": 2,
     "schema_version": 3,
     "solution": false,
     "task": false
    }
   },
   "outputs": [],
   "source": [
    "assert type(mult_prepro) is sklearn.compose._column_transformer.ColumnTransformer"
   ]
  },
  {
   "cell_type": "markdown",
   "metadata": {},
   "source": [
    "## Exercise 3 (2pts)\n",
    "Reasearch about som models and its hyperparamters"
   ]
  },
  {
   "cell_type": "code",
   "execution_count": 19,
   "metadata": {
    "deletable": false,
    "nbgrader": {
     "cell_type": "code",
     "checksum": "d7adbff0db3e9d7dd7008bbde13d756c",
     "grade": false,
     "grade_id": "cell-b3793d6c01aa98b1",
     "locked": false,
     "schema_version": 3,
     "solution": true,
     "task": false
    }
   },
   "outputs": [
    {
     "name": "stdout",
     "output_type": "stream",
     "text": [
      "11\n"
     ]
    }
   ],
   "source": [
    "\n",
    "from sklearn.tree           import DecisionTreeRegressor\n",
    "from sklearn.ensemble       import ExtraTreesRegressor, AdaBoostRegressor, RandomForestRegressor, GradientBoostingRegressor\n",
    "from sklearn.neural_network import MLPRegressor\n",
    "from sklearn.svm            import SVR\n",
    "from sklearn.linear_model   import Ridge, Lasso, SGDRegressor, BayesianRidge\n",
    "from sklearn.neighbors      import KNeighborsRegressor, RadiusNeighborsRegressor\n",
    "from sklearn.experimental   import enable_hist_gradient_boosting \n",
    "from sklearn.ensemble       import HistGradientBoostingRegressor\n",
    "from catboost               import CatBoostRegressor\n",
    "from lightgbm               import LGBMRegressor\n",
    "tree_classifiers = {\n",
    "    \"Decision_tree_regressor\": DecisionTreeRegressor(),\n",
    "    \"AdaBoost_regressor\": AdaBoostRegressor(),\n",
    "    \"Extra_trees_regressor\": ExtraTreesRegressor(),\n",
    "    #\"Random_forest_regressor\": RandomForestRegressor(), # Takes 55 seconds\n",
    "    #\"GBM_regressor\": GradientBoostingRegressor(), Takes forever\n",
    "    \"HGB_regressor\": HistGradientBoostingRegressor(),\n",
    "    \"CATBoost_regressor\": CatBoostRegressor(verbose=0),\n",
    "    \"lightgbm_regressor\": LGBMRegressor(),\n",
    "        }\n",
    "\n",
    "mult_classifiers = {\n",
    "    #\"Linear_regression\": LinearRegression(), ### Dont use results were awful\n",
    "    \"Ridge_regressor\": Ridge(),\n",
    "    #\"SVM_regressor\": SVR(), # Takes 150  seconds\n",
    "    \"MLP_regressor\": MLPRegressor(),\n",
    "    \"SGD_regressor\": SGDRegressor(),\n",
    "    \"KNN_regressor\": KNeighborsRegressor(),\n",
    "    \"BR_regressor\" : BayesianRidge(),\n",
    "    #\"RNN_regressor\": RadiusNeighborsRegressor(), # Predicts NaN's :S\n",
    "    \n",
    "        }\n",
    "tree_pipes = {name: pipeline.make_pipeline(tree_prepro, model) for name, model in tree_classifiers.items()}\n",
    "mult_pipes = {name: pipeline.make_pipeline(mult_prepro, model) for name, model in mult_classifiers.items()}\n",
    "all_pipelines = {**tree_pipes,**mult_pipes}\n",
    "print(len(all_pipelines))"
   ]
  },
  {
   "cell_type": "code",
   "execution_count": 21,
   "metadata": {
    "deletable": false,
    "nbgrader": {
     "cell_type": "code",
     "checksum": "8e9749823b5f8d1003f7dce809b6939c",
     "grade": false,
     "grade_id": "cell-b2aa9f758935ebbf",
     "locked": false,
     "schema_version": 3,
     "solution": true,
     "task": false
    }
   },
   "outputs": [
    {
     "data": {
      "text/html": [
       "<style  type=\"text/css\" >\n",
       "#T_acc66_row0_col1,#T_acc66_row1_col1{\n",
       "            width:  10em;\n",
       "             height:  80%;\n",
       "            background:  linear-gradient(90deg,#5fba7d 47.2%, transparent 47.2%);\n",
       "        }#T_acc66_row0_col2,#T_acc66_row1_col2{\n",
       "            width:  10em;\n",
       "             height:  80%;\n",
       "            background:  linear-gradient(90deg,#5fba7d 68.7%, transparent 68.7%);\n",
       "        }#T_acc66_row2_col1{\n",
       "            width:  10em;\n",
       "             height:  80%;\n",
       "            background:  linear-gradient(90deg,#5fba7d 47.4%, transparent 47.4%);\n",
       "        }#T_acc66_row2_col2{\n",
       "            width:  10em;\n",
       "             height:  80%;\n",
       "            background:  linear-gradient(90deg,#5fba7d 68.8%, transparent 68.8%);\n",
       "        }#T_acc66_row3_col1,#T_acc66_row4_col1{\n",
       "            width:  10em;\n",
       "             height:  80%;\n",
       "            background:  linear-gradient(90deg,#5fba7d 48.2%, transparent 48.2%);\n",
       "        }#T_acc66_row3_col2,#T_acc66_row4_col2{\n",
       "            width:  10em;\n",
       "             height:  80%;\n",
       "            background:  linear-gradient(90deg,#5fba7d 69.4%, transparent 69.4%);\n",
       "        }#T_acc66_row5_col1{\n",
       "            width:  10em;\n",
       "             height:  80%;\n",
       "            background:  linear-gradient(90deg,#5fba7d 48.6%, transparent 48.6%);\n",
       "        }#T_acc66_row5_col2{\n",
       "            width:  10em;\n",
       "             height:  80%;\n",
       "            background:  linear-gradient(90deg,#5fba7d 69.7%, transparent 69.7%);\n",
       "        }#T_acc66_row6_col1{\n",
       "            width:  10em;\n",
       "             height:  80%;\n",
       "            background:  linear-gradient(90deg,#5fba7d 48.8%, transparent 48.8%);\n",
       "        }#T_acc66_row6_col2{\n",
       "            width:  10em;\n",
       "             height:  80%;\n",
       "            background:  linear-gradient(90deg,#5fba7d 69.9%, transparent 69.9%);\n",
       "        }#T_acc66_row7_col1{\n",
       "            width:  10em;\n",
       "             height:  80%;\n",
       "            background:  linear-gradient(90deg,#5fba7d 49.7%, transparent 49.7%);\n",
       "        }#T_acc66_row7_col2{\n",
       "            width:  10em;\n",
       "             height:  80%;\n",
       "            background:  linear-gradient(90deg,#5fba7d 70.5%, transparent 70.5%);\n",
       "        }#T_acc66_row8_col1{\n",
       "            width:  10em;\n",
       "             height:  80%;\n",
       "            background:  linear-gradient(90deg,#5fba7d 53.3%, transparent 53.3%);\n",
       "        }#T_acc66_row8_col2{\n",
       "            width:  10em;\n",
       "             height:  80%;\n",
       "            background:  linear-gradient(90deg,#5fba7d 73.0%, transparent 73.0%);\n",
       "        }#T_acc66_row9_col1{\n",
       "            width:  10em;\n",
       "             height:  80%;\n",
       "            background:  linear-gradient(90deg,#5fba7d 58.0%, transparent 58.0%);\n",
       "        }#T_acc66_row9_col2{\n",
       "            width:  10em;\n",
       "             height:  80%;\n",
       "            background:  linear-gradient(90deg,#5fba7d 76.1%, transparent 76.1%);\n",
       "        }#T_acc66_row10_col1,#T_acc66_row10_col2{\n",
       "            width:  10em;\n",
       "             height:  80%;\n",
       "            background:  linear-gradient(90deg,#5fba7d 100.0%, transparent 100.0%);\n",
       "        }</style><table id=\"T_acc66_\" ><thead>    <tr>        <th class=\"blank level0\" ></th>        <th class=\"col_heading level0 col0\" >Model</th>        <th class=\"col_heading level0 col1\" >MSE</th>        <th class=\"col_heading level0 col2\" >RMSE</th>        <th class=\"col_heading level0 col3\" >Time</th>    </tr></thead><tbody>\n",
       "                <tr>\n",
       "                        <th id=\"T_acc66_level0_row0\" class=\"row_heading level0 row0\" >1</th>\n",
       "                        <td id=\"T_acc66_row0_col0\" class=\"data row0 col0\" >lightgbm_regressor</td>\n",
       "                        <td id=\"T_acc66_row0_col1\" class=\"data row0 col1\" >0.724787</td>\n",
       "                        <td id=\"T_acc66_row0_col2\" class=\"data row0 col2\" >0.851344</td>\n",
       "                        <td id=\"T_acc66_row0_col3\" class=\"data row0 col3\" >0.611339</td>\n",
       "            </tr>\n",
       "            <tr>\n",
       "                        <th id=\"T_acc66_level0_row1\" class=\"row_heading level0 row1\" >2</th>\n",
       "                        <td id=\"T_acc66_row1_col0\" class=\"data row1 col0\" >HGB_regressor</td>\n",
       "                        <td id=\"T_acc66_row1_col1\" class=\"data row1 col1\" >0.725411</td>\n",
       "                        <td id=\"T_acc66_row1_col2\" class=\"data row1 col2\" >0.851711</td>\n",
       "                        <td id=\"T_acc66_row1_col3\" class=\"data row1 col3\" >1.150980</td>\n",
       "            </tr>\n",
       "            <tr>\n",
       "                        <th id=\"T_acc66_level0_row2\" class=\"row_heading level0 row2\" >3</th>\n",
       "                        <td id=\"T_acc66_row2_col0\" class=\"data row2 col0\" >CATBoost_regressor</td>\n",
       "                        <td id=\"T_acc66_row2_col1\" class=\"data row2 col1\" >0.728015</td>\n",
       "                        <td id=\"T_acc66_row2_col2\" class=\"data row2 col2\" >0.853238</td>\n",
       "                        <td id=\"T_acc66_row2_col3\" class=\"data row2 col3\" >5.755068</td>\n",
       "            </tr>\n",
       "            <tr>\n",
       "                        <th id=\"T_acc66_level0_row3\" class=\"row_heading level0 row3\" >4</th>\n",
       "                        <td id=\"T_acc66_row3_col0\" class=\"data row3 col0\" >BR_regressor</td>\n",
       "                        <td id=\"T_acc66_row3_col1\" class=\"data row3 col1\" >0.739746</td>\n",
       "                        <td id=\"T_acc66_row3_col2\" class=\"data row3 col2\" >0.860085</td>\n",
       "                        <td id=\"T_acc66_row3_col3\" class=\"data row3 col3\" >0.246082</td>\n",
       "            </tr>\n",
       "            <tr>\n",
       "                        <th id=\"T_acc66_level0_row4\" class=\"row_heading level0 row4\" >5</th>\n",
       "                        <td id=\"T_acc66_row4_col0\" class=\"data row4 col0\" >Ridge_regressor</td>\n",
       "                        <td id=\"T_acc66_row4_col1\" class=\"data row4 col1\" >0.739838</td>\n",
       "                        <td id=\"T_acc66_row4_col2\" class=\"data row4 col2\" >0.860139</td>\n",
       "                        <td id=\"T_acc66_row4_col3\" class=\"data row4 col3\" >0.229857</td>\n",
       "            </tr>\n",
       "            <tr>\n",
       "                        <th id=\"T_acc66_level0_row5\" class=\"row_heading level0 row5\" >6</th>\n",
       "                        <td id=\"T_acc66_row5_col0\" class=\"data row5 col0\" >SGD_regressor</td>\n",
       "                        <td id=\"T_acc66_row5_col1\" class=\"data row5 col1\" >0.747233</td>\n",
       "                        <td id=\"T_acc66_row5_col2\" class=\"data row5 col2\" >0.864426</td>\n",
       "                        <td id=\"T_acc66_row5_col3\" class=\"data row5 col3\" >0.293533</td>\n",
       "            </tr>\n",
       "            <tr>\n",
       "                        <th id=\"T_acc66_level0_row6\" class=\"row_heading level0 row6\" >7</th>\n",
       "                        <td id=\"T_acc66_row6_col0\" class=\"data row6 col0\" >Extra_trees_regressor</td>\n",
       "                        <td id=\"T_acc66_row6_col1\" class=\"data row6 col1\" >0.749978</td>\n",
       "                        <td id=\"T_acc66_row6_col2\" class=\"data row6 col2\" >0.866013</td>\n",
       "                        <td id=\"T_acc66_row6_col3\" class=\"data row6 col3\" >18.075851</td>\n",
       "            </tr>\n",
       "            <tr>\n",
       "                        <th id=\"T_acc66_level0_row7\" class=\"row_heading level0 row7\" >8</th>\n",
       "                        <td id=\"T_acc66_row7_col0\" class=\"data row7 col0\" >AdaBoost_regressor</td>\n",
       "                        <td id=\"T_acc66_row7_col1\" class=\"data row7 col1\" >0.763178</td>\n",
       "                        <td id=\"T_acc66_row7_col2\" class=\"data row7 col2\" >0.873601</td>\n",
       "                        <td id=\"T_acc66_row7_col3\" class=\"data row7 col3\" >3.676517</td>\n",
       "            </tr>\n",
       "            <tr>\n",
       "                        <th id=\"T_acc66_level0_row8\" class=\"row_heading level0 row8\" >9</th>\n",
       "                        <td id=\"T_acc66_row8_col0\" class=\"data row8 col0\" >MLP_regressor</td>\n",
       "                        <td id=\"T_acc66_row8_col1\" class=\"data row8 col1\" >0.818246</td>\n",
       "                        <td id=\"T_acc66_row8_col2\" class=\"data row8 col2\" >0.904570</td>\n",
       "                        <td id=\"T_acc66_row8_col3\" class=\"data row8 col3\" >27.790927</td>\n",
       "            </tr>\n",
       "            <tr>\n",
       "                        <th id=\"T_acc66_level0_row9\" class=\"row_heading level0 row9\" >10</th>\n",
       "                        <td id=\"T_acc66_row9_col0\" class=\"data row9 col0\" >KNN_regressor</td>\n",
       "                        <td id=\"T_acc66_row9_col1\" class=\"data row9 col1\" >0.890417</td>\n",
       "                        <td id=\"T_acc66_row9_col2\" class=\"data row9 col2\" >0.943619</td>\n",
       "                        <td id=\"T_acc66_row9_col3\" class=\"data row9 col3\" >10.653461</td>\n",
       "            </tr>\n",
       "            <tr>\n",
       "                        <th id=\"T_acc66_level0_row10\" class=\"row_heading level0 row10\" >11</th>\n",
       "                        <td id=\"T_acc66_row10_col0\" class=\"data row10 col0\" >Decision_tree_regressor</td>\n",
       "                        <td id=\"T_acc66_row10_col1\" class=\"data row10 col1\" >1.536150</td>\n",
       "                        <td id=\"T_acc66_row10_col2\" class=\"data row10 col2\" >1.239415</td>\n",
       "                        <td id=\"T_acc66_row10_col3\" class=\"data row10 col3\" >1.049198</td>\n",
       "            </tr>\n",
       "    </tbody></table>"
      ],
      "text/plain": [
       "<pandas.io.formats.style.Styler at 0x7f55cabf2af0>"
      ]
     },
     "metadata": {},
     "output_type": "display_data"
    },
    {
     "name": "stdout",
     "output_type": "stream",
     "text": [
      "Finished\n"
     ]
    }
   ],
   "source": [
    "x_train, x_valid, y_train, y_valid = model_selection.train_test_split(x, y, test_size=0.4, random_state=0)\n",
    "\n",
    "results = pd.DataFrame({'Model': [], 'MSE': [], 'RMSE': [], 'Time': []})\n",
    "\n",
    "for name, pipe in all_pipelines.items():\n",
    "    print(f\"Working on {name}....\")\n",
    "    start_time = time.time()\n",
    "    pipe.fit(x_train, y_train)\n",
    "    preds = pipe.predict(x_valid)\n",
    "    total_time = time.time() - start_time\n",
    "\n",
    "    results = results.append({\"Model\": name,\n",
    "                              \"MSE\":   metrics.mean_squared_error(y_valid, preds, squared=True),\n",
    "                              \"RMSE\":  metrics.mean_squared_error(y_valid, preds, squared=False),\n",
    "                              \"Time\":  total_time},\n",
    "                              ignore_index=True)\n",
    "    \n",
    "    results_ord = results.sort_values(by=['RMSE'], ascending=True, ignore_index=True)\n",
    "    results_ord.index += 1 \n",
    "    clear_output()\n",
    "    display(results_ord.style.bar(subset=['MSE', 'RMSE'], vmin=0, color='#5fba7d'))\n",
    "print(\"Finished\")"
   ]
  },
  {
   "cell_type": "code",
   "execution_count": 22,
   "metadata": {
    "deletable": false,
    "editable": false,
    "nbgrader": {
     "cell_type": "code",
     "checksum": "c8e143a5d4336a2f22d05d9c54d50b92",
     "grade": true,
     "grade_id": "cell-56489e8dd6257a2a",
     "locked": true,
     "points": 3,
     "schema_version": 3,
     "solution": false,
     "task": false
    }
   },
   "outputs": [],
   "source": [
    "assert results_ord['MSE'].max() < 2\n",
    "assert results_ord['MSE'].min() < 0.8\n",
    "assert results_ord['RMSE'].max() < 1.5\n",
    "assert results_ord['RMSE'].min() < 0.9"
   ]
  },
  {
   "cell_type": "markdown",
   "metadata": {},
   "source": [
    "### Optional Exercise (optional because it takes a lot of time of computation)\n",
    "Train with a more realable validation data the best models (maybe the best 5 models). You can:\n",
    "- Use all training data (without subsample)\n",
    "- Use Crosvalidation (`KFold`)(using 3, 5 or 7 folds) instead of `train_test_split`"
   ]
  },
  {
   "cell_type": "code",
   "execution_count": 23,
   "metadata": {},
   "outputs": [
    {
     "data": {
      "text/html": [
       "<style  type=\"text/css\" >\n",
       "#T_57bd1_row0_col1{\n",
       "            width:  10em;\n",
       "             height:  80%;\n",
       "            background:  linear-gradient(90deg,#5fba7d 95.7%, transparent 95.7%);\n",
       "        }#T_57bd1_row0_col2{\n",
       "            width:  10em;\n",
       "             height:  80%;\n",
       "            background:  linear-gradient(90deg,#5fba7d 97.8%, transparent 97.8%);\n",
       "        }#T_57bd1_row1_col1,#T_57bd1_row2_col1{\n",
       "            width:  10em;\n",
       "             height:  80%;\n",
       "            background:  linear-gradient(90deg,#5fba7d 96.2%, transparent 96.2%);\n",
       "        }#T_57bd1_row1_col2,#T_57bd1_row2_col2{\n",
       "            width:  10em;\n",
       "             height:  80%;\n",
       "            background:  linear-gradient(90deg,#5fba7d 98.1%, transparent 98.1%);\n",
       "        }#T_57bd1_row3_col1,#T_57bd1_row3_col2,#T_57bd1_row4_col1,#T_57bd1_row4_col2{\n",
       "            width:  10em;\n",
       "             height:  80%;\n",
       "            background:  linear-gradient(90deg,#5fba7d 100.0%, transparent 100.0%);\n",
       "        }</style><table id=\"T_57bd1_\" ><thead>    <tr>        <th class=\"blank level0\" ></th>        <th class=\"col_heading level0 col0\" >Model</th>        <th class=\"col_heading level0 col1\" >MSE</th>        <th class=\"col_heading level0 col2\" >RMSE</th>        <th class=\"col_heading level0 col3\" >Time</th>    </tr></thead><tbody>\n",
       "                <tr>\n",
       "                        <th id=\"T_57bd1_level0_row0\" class=\"row_heading level0 row0\" >1</th>\n",
       "                        <td id=\"T_57bd1_row0_col0\" class=\"data row0 col0\" >CATBoost_regressor</td>\n",
       "                        <td id=\"T_57bd1_row0_col1\" class=\"data row0 col1\" >0.713957</td>\n",
       "                        <td id=\"T_57bd1_row0_col2\" class=\"data row0 col2\" >0.844960</td>\n",
       "                        <td id=\"T_57bd1_row0_col3\" class=\"data row0 col3\" >24.480187</td>\n",
       "            </tr>\n",
       "            <tr>\n",
       "                        <th id=\"T_57bd1_level0_row1\" class=\"row_heading level0 row1\" >2</th>\n",
       "                        <td id=\"T_57bd1_row1_col0\" class=\"data row1 col0\" >HGB_regressor</td>\n",
       "                        <td id=\"T_57bd1_row1_col1\" class=\"data row1 col1\" >0.717395</td>\n",
       "                        <td id=\"T_57bd1_row1_col2\" class=\"data row1 col2\" >0.846992</td>\n",
       "                        <td id=\"T_57bd1_row1_col3\" class=\"data row1 col3\" >6.358797</td>\n",
       "            </tr>\n",
       "            <tr>\n",
       "                        <th id=\"T_57bd1_level0_row2\" class=\"row_heading level0 row2\" >3</th>\n",
       "                        <td id=\"T_57bd1_row2_col0\" class=\"data row2 col0\" >lightgbm_regressor</td>\n",
       "                        <td id=\"T_57bd1_row2_col1\" class=\"data row2 col1\" >0.717631</td>\n",
       "                        <td id=\"T_57bd1_row2_col2\" class=\"data row2 col2\" >0.847131</td>\n",
       "                        <td id=\"T_57bd1_row2_col3\" class=\"data row2 col3\" >3.999641</td>\n",
       "            </tr>\n",
       "            <tr>\n",
       "                        <th id=\"T_57bd1_level0_row3\" class=\"row_heading level0 row3\" >4</th>\n",
       "                        <td id=\"T_57bd1_row3_col0\" class=\"data row3 col0\" >BR_regressor</td>\n",
       "                        <td id=\"T_57bd1_row3_col1\" class=\"data row3 col1\" >0.745627</td>\n",
       "                        <td id=\"T_57bd1_row3_col2\" class=\"data row3 col2\" >0.863497</td>\n",
       "                        <td id=\"T_57bd1_row3_col3\" class=\"data row3 col3\" >1.692759</td>\n",
       "            </tr>\n",
       "            <tr>\n",
       "                        <th id=\"T_57bd1_level0_row4\" class=\"row_heading level0 row4\" >5</th>\n",
       "                        <td id=\"T_57bd1_row4_col0\" class=\"data row4 col0\" >Ridge_regressor</td>\n",
       "                        <td id=\"T_57bd1_row4_col1\" class=\"data row4 col1\" >0.745773</td>\n",
       "                        <td id=\"T_57bd1_row4_col2\" class=\"data row4 col2\" >0.863581</td>\n",
       "                        <td id=\"T_57bd1_row4_col3\" class=\"data row4 col3\" >0.922369</td>\n",
       "            </tr>\n",
       "    </tbody></table>"
      ],
      "text/plain": [
       "<pandas.io.formats.style.Styler at 0x7f55ca9c53a0>"
      ]
     },
     "metadata": {},
     "output_type": "display_data"
    },
    {
     "name": "stdout",
     "output_type": "stream",
     "text": [
      "Finished\n"
     ]
    }
   ],
   "source": [
    "best_five = list(results_ord['Model'].head(5))\n",
    "\n",
    "b5_pipelines ={}\n",
    "# from the best 5 models, create new pipelines to iterate through\n",
    "for m in best_five:\n",
    "    if m in tree_classifiers.keys():\n",
    "        b5_pipelines[m] = pipeline.make_pipeline(tree_prepro, tree_classifiers[m])\n",
    "    elif m in mult_classifiers.keys():\n",
    "        b5_pipelines[m] = pipeline.make_pipeline(mult_prepro, mult_classifiers[m])\n",
    "    else:\n",
    "        print(\"Can't find model\")\n",
    "print(len(b5_pipelines))\n",
    "\n",
    "\n",
    "### Split the data the whole dataset\n",
    "adf = pd.read_csv(path+\"train.csv\", index_col=\"id\")\n",
    "print(\"Using all data with\", len(adf), \"rows\")\n",
    "xx = adf[cat_vars+num_vars]\n",
    "yy = adf[\"target\"]\n",
    "xx_train, xx_valid, yy_train, yy_valid = model_selection.train_test_split(xx, yy, test_size=0.3, random_state=0)\n",
    "\n",
    "b5_results = pd.DataFrame({'Model': [], 'MSE': [], 'RMSE': [], 'Time': []})\n",
    "\n",
    "for name, pipe in b5_pipelines.items():\n",
    "    print(f\"Working on {name}....\")\n",
    "    start_time = time.time()\n",
    "    pipe.fit(xx_train, yy_train)\n",
    "    preds = pipe.predict(xx_valid)\n",
    "    total_time = time.time() - start_time\n",
    "\n",
    "    b5_results = b5_results.append({\"Model\": name,\n",
    "                              \"MSE\":   metrics.mean_squared_error(yy_valid, preds, squared=True),\n",
    "                              \"RMSE\":  metrics.mean_squared_error(yy_valid, preds, squared=False),\n",
    "                              \"Time\":  total_time},\n",
    "                              ignore_index=True)\n",
    "    \n",
    "    b5_results_ord = b5_results.sort_values(by=['RMSE'], ascending=True, ignore_index=True)\n",
    "    b5_results_ord.index += 1 \n",
    "    clear_output()\n",
    "    display(b5_results_ord.style.bar(subset=['MSE', 'RMSE'], vmin=0, color='#5fba7d'))\n",
    "print(\"Finished\")"
   ]
  },
  {
   "cell_type": "code",
   "execution_count": 24,
   "metadata": {
    "deletable": false,
    "nbgrader": {
     "cell_type": "code",
     "checksum": "7e555af7bbf548a2dc42d6d50df469e2",
     "grade": false,
     "grade_id": "cell-2f06f87cae93f9e9",
     "locked": false,
     "schema_version": 3,
     "solution": true,
     "task": false
    }
   },
   "outputs": [
    {
     "data": {
      "text/html": [
       "<div>\n",
       "<style scoped>\n",
       "    .dataframe tbody tr th:only-of-type {\n",
       "        vertical-align: middle;\n",
       "    }\n",
       "\n",
       "    .dataframe tbody tr th {\n",
       "        vertical-align: top;\n",
       "    }\n",
       "\n",
       "    .dataframe thead th {\n",
       "        text-align: right;\n",
       "    }\n",
       "</style>\n",
       "<table border=\"1\" class=\"dataframe\">\n",
       "  <thead>\n",
       "    <tr style=\"text-align: right;\">\n",
       "      <th></th>\n",
       "      <th>Model</th>\n",
       "      <th>AVG_MSE</th>\n",
       "      <th>AVG_RMSE</th>\n",
       "      <th>MSE</th>\n",
       "      <th>RMSE</th>\n",
       "      <th>Time</th>\n",
       "    </tr>\n",
       "  </thead>\n",
       "  <tbody>\n",
       "    <tr>\n",
       "      <th>1</th>\n",
       "      <td>Ridge_regressor</td>\n",
       "      <td>-0.746055</td>\n",
       "      <td>-0.863744</td>\n",
       "      <td>[-0.7440118181637095, -0.7472794464034761, -0....</td>\n",
       "      <td>[-0.8625611967644438, -0.864453264441448, -0.8...</td>\n",
       "      <td>5.950717</td>\n",
       "    </tr>\n",
       "    <tr>\n",
       "      <th>2</th>\n",
       "      <td>BR_regressor</td>\n",
       "      <td>-0.746022</td>\n",
       "      <td>-0.863725</td>\n",
       "      <td>[-0.7439319125777325, -0.7471801099232817, -0....</td>\n",
       "      <td>[-0.8625148767283568, -0.8643958062851078, -0....</td>\n",
       "      <td>10.728364</td>\n",
       "    </tr>\n",
       "    <tr>\n",
       "      <th>3</th>\n",
       "      <td>HGB_regressor</td>\n",
       "      <td>-0.716765</td>\n",
       "      <td>-0.846619</td>\n",
       "      <td>[-0.7157074602663974, -0.7163248654011767, -0....</td>\n",
       "      <td>[-0.8459949528610661, -0.8463597730286906, -0....</td>\n",
       "      <td>28.872987</td>\n",
       "    </tr>\n",
       "    <tr>\n",
       "      <th>4</th>\n",
       "      <td>lightgbm_regressor</td>\n",
       "      <td>-0.716455</td>\n",
       "      <td>-0.846436</td>\n",
       "      <td>[-0.7154245852091442, -0.715933414076851, -0.7...</td>\n",
       "      <td>[-0.8458277515009449, -0.8461284855604679, -0....</td>\n",
       "      <td>20.784494</td>\n",
       "    </tr>\n",
       "    <tr>\n",
       "      <th>5</th>\n",
       "      <td>CATBoost_regressor</td>\n",
       "      <td>-0.712277</td>\n",
       "      <td>-0.843965</td>\n",
       "      <td>[-0.7121366125354038, -0.7114135461043515, -0....</td>\n",
       "      <td>[-0.8438818711972689, -0.8434533455410272, -0....</td>\n",
       "      <td>198.822494</td>\n",
       "    </tr>\n",
       "  </tbody>\n",
       "</table>\n",
       "</div>"
      ],
      "text/plain": [
       "                Model   AVG_MSE  AVG_RMSE  \\\n",
       "1     Ridge_regressor -0.746055 -0.863744   \n",
       "2        BR_regressor -0.746022 -0.863725   \n",
       "3       HGB_regressor -0.716765 -0.846619   \n",
       "4  lightgbm_regressor -0.716455 -0.846436   \n",
       "5  CATBoost_regressor -0.712277 -0.843965   \n",
       "\n",
       "                                                 MSE  \\\n",
       "1  [-0.7440118181637095, -0.7472794464034761, -0....   \n",
       "2  [-0.7439319125777325, -0.7471801099232817, -0....   \n",
       "3  [-0.7157074602663974, -0.7163248654011767, -0....   \n",
       "4  [-0.7154245852091442, -0.715933414076851, -0.7...   \n",
       "5  [-0.7121366125354038, -0.7114135461043515, -0....   \n",
       "\n",
       "                                                RMSE        Time  \n",
       "1  [-0.8625611967644438, -0.864453264441448, -0.8...    5.950717  \n",
       "2  [-0.8625148767283568, -0.8643958062851078, -0....   10.728364  \n",
       "3  [-0.8459949528610661, -0.8463597730286906, -0....   28.872987  \n",
       "4  [-0.8458277515009449, -0.8461284855604679, -0....   20.784494  \n",
       "5  [-0.8438818711972689, -0.8434533455410272, -0....  198.822494  "
      ]
     },
     "metadata": {},
     "output_type": "display_data"
    },
    {
     "name": "stdout",
     "output_type": "stream",
     "text": [
      "Finished\n"
     ]
    }
   ],
   "source": [
    "# IMPLEMENT SOMETHING SIMILAR TO THE PROCESS BEFORE\n",
    "# BUT USE KFOLD\n",
    "print(\"Starting\")\n",
    "cvb5_results = pd.DataFrame({'Model': [],\"AVG_MSE\": [], \"AVG_RMSE\": [], 'MSE': [], 'RMSE': [], 'Time': []})\n",
    "\n",
    "for name, pipe in b5_pipelines.items():\n",
    "    #if name != \"GBM_regressor\" and name != \"CATBoost_regressor\":\n",
    "    print(f\"Working on {name}....\")\n",
    "    start_time = time.time()\n",
    "    cv_results = model_selection.cross_validate(pipe, xx, yy, cv=5,\n",
    "                                               scoring=(\"neg_mean_squared_error\",\"neg_root_mean_squared_error\"))\n",
    "    total_time = time.time() - start_time\n",
    "\n",
    "\n",
    "    cvb5_results = cvb5_results.append({\"Model\": name,\n",
    "                              \"AVG_MSE\": np.mean(cv_results['test_neg_mean_squared_error']),\n",
    "                              \"AVG_RMSE\": np.mean(cv_results['test_neg_root_mean_squared_error']),\n",
    "                              \"MSE\":   cv_results['test_neg_mean_squared_error'],\n",
    "                              \"RMSE\":  cv_results['test_neg_root_mean_squared_error'],\n",
    "                              \"Time\":  total_time},\n",
    "                              ignore_index=True)\n",
    "    \n",
    "    cvb5_results_ord = cvb5_results.sort_values(by=['AVG_RMSE'], ascending=True, ignore_index=True)\n",
    "    cvb5_results_ord.index += 1 \n",
    "    clear_output()\n",
    "    display(cvb5_results_ord)\n",
    "    #display(cvb5_results_ord.style.bar(subset=[\"AVG_MSE\", 'AVG_MSE'], vmin=0, color='#5fba7d'))\n",
    "\n",
    "print(\"Finished\")"
   ]
  },
  {
   "cell_type": "markdown",
   "metadata": {},
   "source": [
    "# Find correct hyper parameters for the best model"
   ]
  },
  {
   "cell_type": "code",
   "execution_count": 25,
   "metadata": {},
   "outputs": [
    {
     "name": "stdout",
     "output_type": "stream",
     "text": [
      "{'catboostregressor__learning_rate': 0.01}\n"
     ]
    }
   ],
   "source": [
    "CBR_params = {\n",
    "    \"catboostregressor__learning_rate\": [0.1, 0.01, 0.001, 0.0001]\n",
    "}\n",
    "#{'catboostregressor__learning_rate': 0.01}\n",
    "pl = pipeline.make_pipeline(tree_prepro, CatBoostRegressor(verbose=0))\n",
    "grid_search = model_selection.GridSearchCV(pl, param_grid=CBR_params)\n",
    "# fit with sample data first (x, y)\n",
    "grid_score = grid_search.fit(x,y)\n",
    "\n",
    "print(grid_score.best_params_)"
   ]
  },
  {
   "cell_type": "code",
   "execution_count": 26,
   "metadata": {},
   "outputs": [
    {
     "data": {
      "text/html": [
       "<div>\n",
       "<style scoped>\n",
       "    .dataframe tbody tr th:only-of-type {\n",
       "        vertical-align: middle;\n",
       "    }\n",
       "\n",
       "    .dataframe tbody tr th {\n",
       "        vertical-align: top;\n",
       "    }\n",
       "\n",
       "    .dataframe thead th {\n",
       "        text-align: right;\n",
       "    }\n",
       "</style>\n",
       "<table border=\"1\" class=\"dataframe\">\n",
       "  <thead>\n",
       "    <tr style=\"text-align: right;\">\n",
       "      <th></th>\n",
       "      <th>Model</th>\n",
       "      <th>AVG_MSE</th>\n",
       "      <th>AVG_RMSE</th>\n",
       "      <th>MSE</th>\n",
       "      <th>RMSE</th>\n",
       "      <th>Time</th>\n",
       "    </tr>\n",
       "  </thead>\n",
       "  <tbody>\n",
       "    <tr>\n",
       "      <th>0</th>\n",
       "      <td>Ridge_regressor</td>\n",
       "      <td>-0.723866</td>\n",
       "      <td>-0.850798</td>\n",
       "      <td>[-0.7149791518519274, -0.7297408781589994, -0....</td>\n",
       "      <td>[-0.8455643984061341, -0.8542487214851417, -0....</td>\n",
       "      <td>331.56542</td>\n",
       "    </tr>\n",
       "  </tbody>\n",
       "</table>\n",
       "</div>"
      ],
      "text/plain": [
       "             Model   AVG_MSE  AVG_RMSE  \\\n",
       "0  Ridge_regressor -0.723866 -0.850798   \n",
       "\n",
       "                                                 MSE  \\\n",
       "0  [-0.7149791518519274, -0.7297408781589994, -0....   \n",
       "\n",
       "                                                RMSE       Time  \n",
       "0  [-0.8455643984061341, -0.8542487214851417, -0....  331.56542  "
      ]
     },
     "metadata": {},
     "output_type": "display_data"
    }
   ],
   "source": [
    "\n",
    "catboost_df = pd.DataFrame({'Model': [],\"AVG_MSE\": [], \"AVG_RMSE\": [], 'MSE': [], 'RMSE': [], 'Time': []})\n",
    "cbr_pl = pipeline.make_pipeline(tree_prepro, CatBoostRegressor(verbose=0, learning_rate=0.01))\n",
    "start_time = time.time()\n",
    "cv_results = model_selection.cross_validate(cbr_pl, xx, yy, cv=10,\n",
    "                                           scoring=(\"neg_mean_squared_error\",\"neg_root_mean_squared_error\"))\n",
    "total_time = time.time() - start_time\n",
    "\n",
    "\n",
    "catboost_df = catboost_df.append({\"Model\": name,\n",
    "                          \"AVG_MSE\": np.mean(cv_results['test_neg_mean_squared_error']),\n",
    "                          \"AVG_RMSE\": np.mean(cv_results['test_neg_root_mean_squared_error']),\n",
    "                          \"MSE\":   cv_results['test_neg_mean_squared_error'],\n",
    "                          \"RMSE\":  cv_results['test_neg_root_mean_squared_error'],\n",
    "                          \"Time\":  total_time},\n",
    "                          ignore_index=True)\n",
    "\n",
    "display(catboost_df)\n"
   ]
  },
  {
   "cell_type": "code",
   "execution_count": 27,
   "metadata": {},
   "outputs": [
    {
     "name": "stdout",
     "output_type": "stream",
     "text": [
      "Fit done\n"
     ]
    }
   ],
   "source": [
    "cbr_pl.fit(xx, yy)\n",
    "print(\"Fit done\")\n"
   ]
  },
  {
   "cell_type": "code",
   "execution_count": 28,
   "metadata": {},
   "outputs": [],
   "source": [
    "predictions = cbr_pl.predict(df_t)\n"
   ]
  },
  {
   "cell_type": "code",
   "execution_count": 35,
   "metadata": {},
   "outputs": [
    {
     "name": "stdout",
     "output_type": "stream",
     "text": [
      "   cat0 cat1 cat2 cat3 cat4 cat5 cat6 cat7 cat8 cat9  ...     cont5     cont6  \\\n",
      "id                                                    ...                       \n",
      "0     A    B    A    C    B    D    A    E    E    G  ...  0.595507  0.286912   \n",
      "5     A    B    A    C    B    D    A    E    C    L  ...  0.479552  0.397436   \n",
      "15    A    B    A    C    B    D    A    E    C    F  ...  0.676395  0.695284   \n",
      "16    A    A    B    A    B    D    A    E    E    F  ...  0.759875  0.240049   \n",
      "17    A    B    A    A    B    B    A    E    E    I  ...  0.210232  0.329851   \n",
      "\n",
      "       cont7     cont8     cont9    cont10    cont11    cont12    cont13  \\\n",
      "id                                                                         \n",
      "0   0.279884  0.202234  0.242654  0.285147  0.264308  0.653654  0.302448   \n",
      "5   0.476742  0.857073  0.516393  0.562065  0.730542  0.318492  0.736251   \n",
      "15  0.253316  0.586934  0.548555  0.836193  0.759788  0.333572  0.273905   \n",
      "16  0.298074  0.442475  0.596746  0.414131  0.255382  0.589080  0.311625   \n",
      "17  0.616663  0.170475  0.263235  0.710961  0.224045  0.285860  0.794931   \n",
      "\n",
      "      target  \n",
      "id            \n",
      "0   7.522474  \n",
      "5   7.818788  \n",
      "15  7.635243  \n",
      "16  7.440087  \n",
      "17  7.353162  \n",
      "\n",
      "[5 rows x 25 columns]\n"
     ]
    }
   ],
   "source": [
    "df_t['target'] = predictions\n"
   ]
  },
  {
   "cell_type": "code",
   "execution_count": 37,
   "metadata": {},
   "outputs": [
    {
     "name": "stdout",
     "output_type": "stream",
     "text": [
      "id\n",
      "0     7.522474\n",
      "5     7.818788\n",
      "15    7.635243\n",
      "16    7.440087\n",
      "17    7.353162\n",
      "Name: target, dtype: float64\n"
     ]
    }
   ],
   "source": [
    "\n",
    "submission = df_t['target']\n",
    "\n",
    "submission.to_csv('result_checks.csv')\n",
    "print(submission.head())"
   ]
  },
  {
   "cell_type": "code",
   "execution_count": null,
   "metadata": {},
   "outputs": [],
   "source": []
  }
 ],
 "metadata": {
  "kernelspec": {
   "display_name": "Python 3",
   "language": "python",
   "name": "python3"
  },
  "language_info": {
   "codemirror_mode": {
    "name": "ipython",
    "version": 3
   },
   "file_extension": ".py",
   "mimetype": "text/x-python",
   "name": "python",
   "nbconvert_exporter": "python",
   "pygments_lexer": "ipython3",
   "version": "3.8.8"
  }
 },
 "nbformat": 4,
 "nbformat_minor": 4
}
