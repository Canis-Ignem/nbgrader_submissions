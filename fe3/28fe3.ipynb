{
  "cells": [
    {
      "cell_type": "code",
      "metadata": {
        "cell_id": "00000-156d4dec-fb3a-427d-8c3a-be73d1ebf6fb",
        "deepnote_to_be_reexecuted": false,
        "source_hash": "f16d8dc0",
        "execution_start": 1620220069666,
        "execution_millis": 11,
        "deepnote_cell_type": "code"
      },
      "source": "import pandas as pd\nimport numpy as np\nimport matplotlib.pyplot as plt\n#import seaborn as sb\nimport sklearn as skl\nimport time\nfrom IPython.display import display, clear_output\n\nimport sklearn\nfrom sklearn import pipeline      # Pipeline\nfrom sklearn import preprocessing # OrdinalEncoder, LabelEncoder\nfrom sklearn import impute\nfrom sklearn import compose\nfrom sklearn import model_selection # train_test_split\nfrom sklearn import metrics         # accuracy_score, balanced_accuracy_score, plot_confusion_matrix\nfrom sklearn import set_config\n\nfrom sklearn.metrics import mean_squared_error\n\n\nfrom sklearn.preprocessing import MinMaxScaler\nfrom sklearn.preprocessing import MaxAbsScaler\nfrom sklearn.preprocessing import StandardScaler\nfrom sklearn.preprocessing import RobustScaler\nfrom sklearn.preprocessing import Normalizer\nfrom sklearn.preprocessing import QuantileTransformer\nfrom sklearn.preprocessing import PowerTransformer\n\nset_config(display='diagram') # Useful for display the pipeline\n\nprint(\"Pandas  \", pd.__version__)\nprint(\"Sklearn \", skl.__version__) # Try to use 0.24\n\n",
      "execution_count": 75,
      "outputs": [
        {
          "name": "stdout",
          "text": "Pandas   1.2.4\nSklearn  0.24.1\n",
          "output_type": "stream"
        }
      ]
    },
    {
      "cell_type": "markdown",
      "source": "### Data Importing",
      "metadata": {
        "tags": [],
        "cell_id": "00001-79df0e44-b280-4074-8087-d974bbfcaa7f",
        "deepnote_cell_type": "markdown"
      }
    },
    {
      "cell_type": "code",
      "source": "import os\nos.environ['KAGGLE_USERNAME'] = \"umutakta\"\nos.environ['KAGGLE_KEY']      = \"a471e5474add8d57cadac3cc5ff2b1d6\"\n#!kaggle competitions download -c tabular-playground-series-feb-2021",
      "metadata": {
        "tags": [],
        "cell_id": "00001-242f02c8-62e5-402b-bcfd-45ea39920b25",
        "deepnote_to_be_reexecuted": false,
        "source_hash": "b94d6f54",
        "execution_start": 1620216395151,
        "execution_millis": 2848,
        "deepnote_cell_type": "code"
      },
      "outputs": [
        {
          "name": "stdout",
          "text": "Downloading tabular-playground-series-feb-2021.zip to /work/Strive_School/Feature_Engineering_(Module_4)/Day_3_Numerical_Encoding/2. Notebooks\n 93%|███████████████████████████████████▎  | 61.0M/65.7M [00:00<00:00, 91.8MB/s]\n100%|██████████████████████████████████████| 65.7M/65.7M [00:00<00:00, 83.0MB/s]\n",
          "output_type": "stream"
        }
      ],
      "execution_count": 11
    },
    {
      "cell_type": "code",
      "metadata": {
        "deletable": false,
        "editable": false,
        "nbgrader": {
          "cell_type": "code",
          "checksum": "ba64a626f4514047c1f189598c684da9",
          "grade": false,
          "grade_id": "cell-c9956bc3084ab64e",
          "locked": true,
          "schema_version": 3,
          "solution": false,
          "task": false
        },
        "cell_id": "00001-4dc9d8ab-38d6-465c-8d39-f657f10e47de",
        "deepnote_to_be_reexecuted": false,
        "source_hash": "233420ab",
        "execution_start": 1620216466161,
        "execution_millis": 953,
        "deepnote_cell_type": "code"
      },
      "source": "path = \"./tabular-playground-feb21/\"\n#path= \"/work/Strive_School/Feature_Engineering_(Module_4)/Day_3_Numerical_Encoding/2. Notebooks/tabular-playground-series-feb-2021\"\n!ls $path",
      "execution_count": 13,
      "outputs": [
        {
          "name": "stdout",
          "text": "/bin/bash: -c: line 0: syntax error near unexpected token `('\r\n/bin/bash: -c: line 0: `ls /work/Strive_School/Feature_Engineering_(Module_4)/Day_3_Numerical_Encoding/2. Notebooks/tabular-playground-series-feb-2021'\r\n",
          "output_type": "stream"
        }
      ]
    },
    {
      "cell_type": "markdown",
      "source": "### Load data",
      "metadata": {
        "cell_id": "00002-40b5dd8e-9683-4ca2-ac84-fede2702d6a4",
        "deepnote_cell_type": "markdown"
      }
    },
    {
      "cell_type": "code",
      "metadata": {
        "deletable": false,
        "nbgrader": {
          "cell_type": "code",
          "checksum": "4ea3a25f357a30f495f76db4dfa4e6a9",
          "grade": false,
          "grade_id": "cell-52a8794a601f4d0e",
          "locked": false,
          "schema_version": 3,
          "solution": true,
          "task": false
        },
        "cell_id": "00003-cc571299-ead1-402e-b45d-35f5d49a209c",
        "deepnote_to_be_reexecuted": false,
        "source_hash": "89ea2db4",
        "execution_start": 1620217881637,
        "execution_millis": 4115,
        "deepnote_cell_type": "code"
      },
      "source": "# 1 point \n #load the train, test and sample_submission data using the is as the index column\ndf = pd.read_csv(path+\"/train.csv\")\ndf_t = pd.read_csv(path+\"/test.csv\")\nsub = pd.read_csv(path+\"/sample_submission.csv\")\ndf=df.drop(\"id\",axis=1)\ndf_t=df_t.drop(\"id\",axis=1)\nsub=sub.drop(\"id\",axis=1)\n\nprint(\"Train dataframe:\", df.shape)\nprint(\"Test dataframe:\", df_t.shape)\ndf.head()",
      "execution_count": 32,
      "outputs": [
        {
          "name": "stdout",
          "text": "Train dataframe: (300000, 25)\nTest dataframe: (200000, 24)\n",
          "output_type": "stream"
        },
        {
          "output_type": "execute_result",
          "execution_count": 32,
          "data": {
            "application/vnd.deepnote.dataframe.v2+json": {
              "row_count": 5,
              "column_count": 25,
              "columns": [
                {
                  "name": "cat0",
                  "dtype": "object",
                  "stats": {
                    "unique_count": 2,
                    "nan_count": 0,
                    "categories": [
                      {
                        "name": "A",
                        "count": 4
                      },
                      {
                        "name": "B",
                        "count": 1
                      }
                    ]
                  }
                },
                {
                  "name": "cat1",
                  "dtype": "object",
                  "stats": {
                    "unique_count": 2,
                    "nan_count": 0,
                    "categories": [
                      {
                        "name": "A",
                        "count": 3
                      },
                      {
                        "name": "B",
                        "count": 2
                      }
                    ]
                  }
                },
                {
                  "name": "cat2",
                  "dtype": "object",
                  "stats": {
                    "unique_count": 1,
                    "nan_count": 0,
                    "categories": [
                      {
                        "name": "A",
                        "count": 5
                      }
                    ]
                  }
                },
                {
                  "name": "cat3",
                  "dtype": "object",
                  "stats": {
                    "unique_count": 2,
                    "nan_count": 0,
                    "categories": [
                      {
                        "name": "A",
                        "count": 3
                      },
                      {
                        "name": "C",
                        "count": 2
                      }
                    ]
                  }
                },
                {
                  "name": "cat4",
                  "dtype": "object",
                  "stats": {
                    "unique_count": 1,
                    "nan_count": 0,
                    "categories": [
                      {
                        "name": "B",
                        "count": 5
                      }
                    ]
                  }
                },
                {
                  "name": "cat5",
                  "dtype": "object",
                  "stats": {
                    "unique_count": 2,
                    "nan_count": 0,
                    "categories": [
                      {
                        "name": "D",
                        "count": 3
                      },
                      {
                        "name": "B",
                        "count": 2
                      }
                    ]
                  }
                },
                {
                  "name": "cat6",
                  "dtype": "object",
                  "stats": {
                    "unique_count": 1,
                    "nan_count": 0,
                    "categories": [
                      {
                        "name": "A",
                        "count": 5
                      }
                    ]
                  }
                },
                {
                  "name": "cat7",
                  "dtype": "object",
                  "stats": {
                    "unique_count": 2,
                    "nan_count": 0,
                    "categories": [
                      {
                        "name": "E",
                        "count": 4
                      },
                      {
                        "name": "B",
                        "count": 1
                      }
                    ]
                  }
                },
                {
                  "name": "cat8",
                  "dtype": "object",
                  "stats": {
                    "unique_count": 3,
                    "nan_count": 0,
                    "categories": [
                      {
                        "name": "C",
                        "count": 3
                      },
                      {
                        "name": "A",
                        "count": 1
                      },
                      {
                        "name": "G",
                        "count": 1
                      }
                    ]
                  }
                },
                {
                  "name": "cat9",
                  "dtype": "object",
                  "stats": {
                    "unique_count": 4,
                    "nan_count": 0,
                    "categories": [
                      {
                        "name": "F",
                        "count": 2
                      },
                      {
                        "name": "I",
                        "count": 1
                      },
                      {
                        "name": "2 others",
                        "count": 2
                      }
                    ]
                  }
                },
                {
                  "name": "cont0",
                  "dtype": "float64",
                  "stats": {
                    "unique_count": 5,
                    "nan_count": 0,
                    "min": "0.4376273493011995",
                    "max": "0.9231905532961956",
                    "histogram": [
                      {
                        "bin_start": 0.4376273493011995,
                        "bin_end": 0.4861836697006991,
                        "count": 2
                      },
                      {
                        "bin_start": 0.4861836697006991,
                        "bin_end": 0.5347399901001987,
                        "count": 0
                      },
                      {
                        "bin_start": 0.5347399901001987,
                        "bin_end": 0.5832963104996983,
                        "count": 0
                      },
                      {
                        "bin_start": 0.5832963104996983,
                        "bin_end": 0.631852630899198,
                        "count": 0
                      },
                      {
                        "bin_start": 0.631852630899198,
                        "bin_end": 0.6804089512986975,
                        "count": 0
                      },
                      {
                        "bin_start": 0.6804089512986975,
                        "bin_end": 0.7289652716981971,
                        "count": 1
                      },
                      {
                        "bin_start": 0.7289652716981971,
                        "bin_end": 0.7775215920976968,
                        "count": 1
                      },
                      {
                        "bin_start": 0.7775215920976968,
                        "bin_end": 0.8260779124971964,
                        "count": 0
                      },
                      {
                        "bin_start": 0.8260779124971964,
                        "bin_end": 0.874634232896696,
                        "count": 0
                      },
                      {
                        "bin_start": 0.874634232896696,
                        "bin_end": 0.9231905532961956,
                        "count": 1
                      }
                    ]
                  }
                },
                {
                  "name": "cont1",
                  "dtype": "float64",
                  "stats": {
                    "unique_count": 5,
                    "nan_count": 0,
                    "min": "0.0142130223611504",
                    "max": "0.7716782515601588",
                    "histogram": [
                      {
                        "bin_start": 0.0142130223611504,
                        "bin_end": 0.08995954528105124,
                        "count": 1
                      },
                      {
                        "bin_start": 0.08995954528105124,
                        "bin_end": 0.16570606820095207,
                        "count": 0
                      },
                      {
                        "bin_start": 0.16570606820095207,
                        "bin_end": 0.2414525911208529,
                        "count": 0
                      },
                      {
                        "bin_start": 0.2414525911208529,
                        "bin_end": 0.31719911404075374,
                        "count": 0
                      },
                      {
                        "bin_start": 0.31719911404075374,
                        "bin_end": 0.39294563696065454,
                        "count": 0
                      },
                      {
                        "bin_start": 0.39294563696065454,
                        "bin_end": 0.4686921598805554,
                        "count": 0
                      },
                      {
                        "bin_start": 0.4686921598805554,
                        "bin_end": 0.5444386828004563,
                        "count": 0
                      },
                      {
                        "bin_start": 0.5444386828004563,
                        "bin_end": 0.6201852057203571,
                        "count": 0
                      },
                      {
                        "bin_start": 0.6201852057203571,
                        "bin_end": 0.6959317286402579,
                        "count": 2
                      },
                      {
                        "bin_start": 0.6959317286402579,
                        "bin_end": 0.7716782515601588,
                        "count": 2
                      }
                    ]
                  }
                },
                {
                  "name": "cont2",
                  "dtype": "float64",
                  "stats": {
                    "unique_count": 5,
                    "nan_count": 0,
                    "min": "0.1244535913682793",
                    "max": "0.4962124675496179",
                    "histogram": [
                      {
                        "bin_start": 0.1244535913682793,
                        "bin_end": 0.16162947898641317,
                        "count": 2
                      },
                      {
                        "bin_start": 0.16162947898641317,
                        "bin_end": 0.198805366604547,
                        "count": 0
                      },
                      {
                        "bin_start": 0.198805366604547,
                        "bin_end": 0.23598125422268088,
                        "count": 0
                      },
                      {
                        "bin_start": 0.23598125422268088,
                        "bin_end": 0.27315714184081474,
                        "count": 0
                      },
                      {
                        "bin_start": 0.27315714184081474,
                        "bin_end": 0.3103330294589486,
                        "count": 0
                      },
                      {
                        "bin_start": 0.3103330294589486,
                        "bin_end": 0.3475089170770824,
                        "count": 0
                      },
                      {
                        "bin_start": 0.3475089170770824,
                        "bin_end": 0.3846848046952164,
                        "count": 1
                      },
                      {
                        "bin_start": 0.3846848046952164,
                        "bin_end": 0.4218606923133502,
                        "count": 0
                      },
                      {
                        "bin_start": 0.4218606923133502,
                        "bin_end": 0.45903657993148406,
                        "count": 1
                      },
                      {
                        "bin_start": 0.45903657993148406,
                        "bin_end": 0.4962124675496179,
                        "count": 1
                      }
                    ]
                  }
                },
                {
                  "name": "cont3",
                  "dtype": "float64",
                  "stats": {
                    "unique_count": 5,
                    "nan_count": 0,
                    "min": "0.2178862997233316",
                    "max": "0.8461267049747274",
                    "histogram": [
                      {
                        "bin_start": 0.2178862997233316,
                        "bin_end": 0.2807103402484712,
                        "count": 1
                      },
                      {
                        "bin_start": 0.2807103402484712,
                        "bin_end": 0.34353438077361076,
                        "count": 0
                      },
                      {
                        "bin_start": 0.34353438077361076,
                        "bin_end": 0.4063584212987503,
                        "count": 1
                      },
                      {
                        "bin_start": 0.4063584212987503,
                        "bin_end": 0.4691824618238899,
                        "count": 0
                      },
                      {
                        "bin_start": 0.4691824618238899,
                        "bin_end": 0.5320065023490295,
                        "count": 0
                      },
                      {
                        "bin_start": 0.5320065023490295,
                        "bin_end": 0.5948305428741691,
                        "count": 0
                      },
                      {
                        "bin_start": 0.5948305428741691,
                        "bin_end": 0.6576545833993087,
                        "count": 0
                      },
                      {
                        "bin_start": 0.6576545833993087,
                        "bin_end": 0.7204786239244483,
                        "count": 0
                      },
                      {
                        "bin_start": 0.7204786239244483,
                        "bin_end": 0.7833026644495878,
                        "count": 1
                      },
                      {
                        "bin_start": 0.7833026644495878,
                        "bin_end": 0.8461267049747274,
                        "count": 2
                      }
                    ]
                  }
                },
                {
                  "name": "cont4",
                  "dtype": "float64",
                  "stats": {
                    "unique_count": 5,
                    "nan_count": 0,
                    "min": "0.2791052771945682",
                    "max": "0.7697848796518671",
                    "histogram": [
                      {
                        "bin_start": 0.2791052771945682,
                        "bin_end": 0.3281732374402981,
                        "count": 4
                      },
                      {
                        "bin_start": 0.3281732374402981,
                        "bin_end": 0.377241197686028,
                        "count": 0
                      },
                      {
                        "bin_start": 0.377241197686028,
                        "bin_end": 0.42630915793175783,
                        "count": 0
                      },
                      {
                        "bin_start": 0.42630915793175783,
                        "bin_end": 0.47537711817748773,
                        "count": 0
                      },
                      {
                        "bin_start": 0.47537711817748773,
                        "bin_end": 0.5244450784232176,
                        "count": 0
                      },
                      {
                        "bin_start": 0.5244450784232176,
                        "bin_end": 0.5735130386689475,
                        "count": 0
                      },
                      {
                        "bin_start": 0.5735130386689475,
                        "bin_end": 0.6225809989146774,
                        "count": 0
                      },
                      {
                        "bin_start": 0.6225809989146774,
                        "bin_end": 0.6716489591604073,
                        "count": 0
                      },
                      {
                        "bin_start": 0.6716489591604073,
                        "bin_end": 0.7207169194061372,
                        "count": 0
                      },
                      {
                        "bin_start": 0.7207169194061372,
                        "bin_end": 0.7697848796518671,
                        "count": 1
                      }
                    ]
                  }
                },
                {
                  "name": "cont5",
                  "dtype": "float64",
                  "stats": {
                    "unique_count": 5,
                    "nan_count": 0,
                    "min": "0.382599692488609",
                    "max": "0.9341375246924604",
                    "histogram": [
                      {
                        "bin_start": 0.382599692488609,
                        "bin_end": 0.4377534757089941,
                        "count": 1
                      },
                      {
                        "bin_start": 0.4377534757089941,
                        "bin_end": 0.49290725892937926,
                        "count": 1
                      },
                      {
                        "bin_start": 0.49290725892937926,
                        "bin_end": 0.5480610421497644,
                        "count": 0
                      },
                      {
                        "bin_start": 0.5480610421497644,
                        "bin_end": 0.6032148253701495,
                        "count": 0
                      },
                      {
                        "bin_start": 0.6032148253701495,
                        "bin_end": 0.6583686085905347,
                        "count": 0
                      },
                      {
                        "bin_start": 0.6583686085905347,
                        "bin_end": 0.7135223918109197,
                        "count": 0
                      },
                      {
                        "bin_start": 0.7135223918109197,
                        "bin_end": 0.7686761750313049,
                        "count": 0
                      },
                      {
                        "bin_start": 0.7686761750313049,
                        "bin_end": 0.82382995825169,
                        "count": 0
                      },
                      {
                        "bin_start": 0.82382995825169,
                        "bin_end": 0.8789837414720751,
                        "count": 0
                      },
                      {
                        "bin_start": 0.8789837414720751,
                        "bin_end": 0.9341375246924604,
                        "count": 3
                      }
                    ]
                  }
                },
                {
                  "name": "cont6",
                  "dtype": "float64",
                  "stats": {
                    "unique_count": 5,
                    "nan_count": 0,
                    "min": "0.3462296232318922",
                    "max": "0.7059400327615131",
                    "histogram": [
                      {
                        "bin_start": 0.3462296232318922,
                        "bin_end": 0.3822006641848543,
                        "count": 2
                      },
                      {
                        "bin_start": 0.3822006641848543,
                        "bin_end": 0.4181717051378164,
                        "count": 0
                      },
                      {
                        "bin_start": 0.4181717051378164,
                        "bin_end": 0.4541427460907785,
                        "count": 1
                      },
                      {
                        "bin_start": 0.4541427460907785,
                        "bin_end": 0.49011378704374053,
                        "count": 0
                      },
                      {
                        "bin_start": 0.49011378704374053,
                        "bin_end": 0.5260848279967026,
                        "count": 0
                      },
                      {
                        "bin_start": 0.5260848279967026,
                        "bin_end": 0.5620558689496647,
                        "count": 0
                      },
                      {
                        "bin_start": 0.5620558689496647,
                        "bin_end": 0.5980269099026267,
                        "count": 1
                      },
                      {
                        "bin_start": 0.5980269099026267,
                        "bin_end": 0.6339979508555889,
                        "count": 0
                      },
                      {
                        "bin_start": 0.6339979508555889,
                        "bin_end": 0.669968991808551,
                        "count": 0
                      },
                      {
                        "bin_start": 0.669968991808551,
                        "bin_end": 0.7059400327615131,
                        "count": 1
                      }
                    ]
                  }
                },
                {
                  "name": "cont7",
                  "dtype": "float64",
                  "stats": {
                    "unique_count": 5,
                    "nan_count": 0,
                    "min": "0.2784948726175908",
                    "max": "0.8325644700649786",
                    "histogram": [
                      {
                        "bin_start": 0.2784948726175908,
                        "bin_end": 0.33390183236232956,
                        "count": 2
                      },
                      {
                        "bin_start": 0.33390183236232956,
                        "bin_end": 0.38930879210706837,
                        "count": 0
                      },
                      {
                        "bin_start": 0.38930879210706837,
                        "bin_end": 0.4447157518518071,
                        "count": 1
                      },
                      {
                        "bin_start": 0.4447157518518071,
                        "bin_end": 0.5001227115965459,
                        "count": 0
                      },
                      {
                        "bin_start": 0.5001227115965459,
                        "bin_end": 0.5555296713412847,
                        "count": 0
                      },
                      {
                        "bin_start": 0.5555296713412847,
                        "bin_end": 0.6109366310860234,
                        "count": 0
                      },
                      {
                        "bin_start": 0.6109366310860234,
                        "bin_end": 0.6663435908307622,
                        "count": 0
                      },
                      {
                        "bin_start": 0.6663435908307622,
                        "bin_end": 0.721750550575501,
                        "count": 0
                      },
                      {
                        "bin_start": 0.721750550575501,
                        "bin_end": 0.7771575103202397,
                        "count": 1
                      },
                      {
                        "bin_start": 0.7771575103202397,
                        "bin_end": 0.8325644700649786,
                        "count": 1
                      }
                    ]
                  }
                },
                {
                  "name": "cont8",
                  "dtype": "float64",
                  "stats": {
                    "unique_count": 5,
                    "nan_count": 0,
                    "min": "0.4409671383892113",
                    "max": "0.8957994783149412",
                    "histogram": [
                      {
                        "bin_start": 0.4409671383892113,
                        "bin_end": 0.4864503723817843,
                        "count": 1
                      },
                      {
                        "bin_start": 0.4864503723817843,
                        "bin_end": 0.5319336063743573,
                        "count": 0
                      },
                      {
                        "bin_start": 0.5319336063743573,
                        "bin_end": 0.5774168403669303,
                        "count": 0
                      },
                      {
                        "bin_start": 0.5774168403669303,
                        "bin_end": 0.6229000743595032,
                        "count": 1
                      },
                      {
                        "bin_start": 0.6229000743595032,
                        "bin_end": 0.6683833083520763,
                        "count": 0
                      },
                      {
                        "bin_start": 0.6683833083520763,
                        "bin_end": 0.7138665423446493,
                        "count": 0
                      },
                      {
                        "bin_start": 0.7138665423446493,
                        "bin_end": 0.7593497763372223,
                        "count": 0
                      },
                      {
                        "bin_start": 0.7593497763372223,
                        "bin_end": 0.8048330103297953,
                        "count": 0
                      },
                      {
                        "bin_start": 0.8048330103297953,
                        "bin_end": 0.8503162443223682,
                        "count": 0
                      },
                      {
                        "bin_start": 0.8503162443223682,
                        "bin_end": 0.8957994783149412,
                        "count": 3
                      }
                    ]
                  }
                },
                {
                  "name": "cont9",
                  "dtype": "float64",
                  "stats": {
                    "unique_count": 5,
                    "nan_count": 0,
                    "min": "0.4621459946175901",
                    "max": "0.8252514470475938",
                    "histogram": [
                      {
                        "bin_start": 0.4621459946175901,
                        "bin_end": 0.49845653986059046,
                        "count": 1
                      },
                      {
                        "bin_start": 0.49845653986059046,
                        "bin_end": 0.5347670851035908,
                        "count": 0
                      },
                      {
                        "bin_start": 0.5347670851035908,
                        "bin_end": 0.5710776303465912,
                        "count": 1
                      },
                      {
                        "bin_start": 0.5710776303465912,
                        "bin_end": 0.6073881755895916,
                        "count": 0
                      },
                      {
                        "bin_start": 0.6073881755895916,
                        "bin_end": 0.6436987208325919,
                        "count": 0
                      },
                      {
                        "bin_start": 0.6436987208325919,
                        "bin_end": 0.6800092660755923,
                        "count": 0
                      },
                      {
                        "bin_start": 0.6800092660755923,
                        "bin_end": 0.7163198113185927,
                        "count": 0
                      },
                      {
                        "bin_start": 0.7163198113185927,
                        "bin_end": 0.752630356561593,
                        "count": 0
                      },
                      {
                        "bin_start": 0.752630356561593,
                        "bin_end": 0.7889409018045934,
                        "count": 0
                      },
                      {
                        "bin_start": 0.7889409018045934,
                        "bin_end": 0.8252514470475938,
                        "count": 3
                      }
                    ]
                  }
                },
                {
                  "name": "cont10",
                  "dtype": "float64",
                  "stats": {
                    "unique_count": 5,
                    "nan_count": 0,
                    "min": "0.2641037582107835",
                    "max": "0.7244472417704731",
                    "histogram": [
                      {
                        "bin_start": 0.2641037582107835,
                        "bin_end": 0.3101381065667525,
                        "count": 1
                      },
                      {
                        "bin_start": 0.3101381065667525,
                        "bin_end": 0.3561724549227214,
                        "count": 0
                      },
                      {
                        "bin_start": 0.3561724549227214,
                        "bin_end": 0.4022068032786904,
                        "count": 0
                      },
                      {
                        "bin_start": 0.4022068032786904,
                        "bin_end": 0.4482411516346594,
                        "count": 0
                      },
                      {
                        "bin_start": 0.4482411516346594,
                        "bin_end": 0.49427549999062836,
                        "count": 1
                      },
                      {
                        "bin_start": 0.49427549999062836,
                        "bin_end": 0.5403098483465973,
                        "count": 0
                      },
                      {
                        "bin_start": 0.5403098483465973,
                        "bin_end": 0.5863441967025662,
                        "count": 0
                      },
                      {
                        "bin_start": 0.5863441967025662,
                        "bin_end": 0.6323785450585353,
                        "count": 1
                      },
                      {
                        "bin_start": 0.6323785450585353,
                        "bin_end": 0.6784128934145042,
                        "count": 0
                      },
                      {
                        "bin_start": 0.6784128934145042,
                        "bin_end": 0.7244472417704731,
                        "count": 2
                      }
                    ]
                  }
                },
                {
                  "name": "cont11",
                  "dtype": "float64",
                  "stats": {
                    "unique_count": 5,
                    "nan_count": 0,
                    "min": "0.6830731438086716",
                    "max": "0.7412892342594564",
                    "histogram": [
                      {
                        "bin_start": 0.6830731438086716,
                        "bin_end": 0.68889475285375,
                        "count": 1
                      },
                      {
                        "bin_start": 0.68889475285375,
                        "bin_end": 0.6947163618988286,
                        "count": 0
                      },
                      {
                        "bin_start": 0.6947163618988286,
                        "bin_end": 0.700537970943907,
                        "count": 2
                      },
                      {
                        "bin_start": 0.700537970943907,
                        "bin_end": 0.7063595799889855,
                        "count": 1
                      },
                      {
                        "bin_start": 0.7063595799889855,
                        "bin_end": 0.7121811890340639,
                        "count": 0
                      },
                      {
                        "bin_start": 0.7121811890340639,
                        "bin_end": 0.7180027980791425,
                        "count": 0
                      },
                      {
                        "bin_start": 0.7180027980791425,
                        "bin_end": 0.7238244071242209,
                        "count": 0
                      },
                      {
                        "bin_start": 0.7238244071242209,
                        "bin_end": 0.7296460161692994,
                        "count": 0
                      },
                      {
                        "bin_start": 0.7296460161692994,
                        "bin_end": 0.7354676252143779,
                        "count": 0
                      },
                      {
                        "bin_start": 0.7354676252143779,
                        "bin_end": 0.7412892342594564,
                        "count": 1
                      }
                    ]
                  }
                },
                {
                  "name": "cont12",
                  "dtype": "float64",
                  "stats": {
                    "unique_count": 5,
                    "nan_count": 0,
                    "min": "0.326678696122427",
                    "max": "0.8776181954988187",
                    "histogram": [
                      {
                        "bin_start": 0.326678696122427,
                        "bin_end": 0.38177264606006617,
                        "count": 2
                      },
                      {
                        "bin_start": 0.38177264606006617,
                        "bin_end": 0.43686659599770533,
                        "count": 0
                      },
                      {
                        "bin_start": 0.43686659599770533,
                        "bin_end": 0.4919605459353445,
                        "count": 0
                      },
                      {
                        "bin_start": 0.4919605459353445,
                        "bin_end": 0.5470544958729837,
                        "count": 0
                      },
                      {
                        "bin_start": 0.5470544958729837,
                        "bin_end": 0.6021484458106228,
                        "count": 0
                      },
                      {
                        "bin_start": 0.6021484458106228,
                        "bin_end": 0.657242395748262,
                        "count": 0
                      },
                      {
                        "bin_start": 0.657242395748262,
                        "bin_end": 0.7123363456859011,
                        "count": 0
                      },
                      {
                        "bin_start": 0.7123363456859011,
                        "bin_end": 0.7674302956235404,
                        "count": 0
                      },
                      {
                        "bin_start": 0.7674302956235404,
                        "bin_end": 0.8225242455611794,
                        "count": 1
                      },
                      {
                        "bin_start": 0.8225242455611794,
                        "bin_end": 0.8776181954988187,
                        "count": 2
                      }
                    ]
                  }
                },
                {
                  "name": "cont13",
                  "dtype": "float64",
                  "stats": {
                    "unique_count": 5,
                    "nan_count": 0,
                    "min": "0.2977434168196609",
                    "max": "0.8283516037771875",
                    "histogram": [
                      {
                        "bin_start": 0.2977434168196609,
                        "bin_end": 0.35080423551541356,
                        "count": 1
                      },
                      {
                        "bin_start": 0.35080423551541356,
                        "bin_end": 0.4038650542111662,
                        "count": 0
                      },
                      {
                        "bin_start": 0.4038650542111662,
                        "bin_end": 0.4569258729069189,
                        "count": 0
                      },
                      {
                        "bin_start": 0.4569258729069189,
                        "bin_end": 0.5099866916026715,
                        "count": 0
                      },
                      {
                        "bin_start": 0.5099866916026715,
                        "bin_end": 0.5630475102984243,
                        "count": 0
                      },
                      {
                        "bin_start": 0.5630475102984243,
                        "bin_end": 0.6161083289941769,
                        "count": 1
                      },
                      {
                        "bin_start": 0.6161083289941769,
                        "bin_end": 0.6691691476899295,
                        "count": 0
                      },
                      {
                        "bin_start": 0.6691691476899295,
                        "bin_end": 0.7222299663856822,
                        "count": 1
                      },
                      {
                        "bin_start": 0.7222299663856822,
                        "bin_end": 0.7752907850814349,
                        "count": 0
                      },
                      {
                        "bin_start": 0.7752907850814349,
                        "bin_end": 0.8283516037771875,
                        "count": 2
                      }
                    ]
                  }
                },
                {
                  "name": "target",
                  "dtype": "float64",
                  "stats": {
                    "unique_count": 5,
                    "nan_count": 0,
                    "min": "5.760455653644145",
                    "max": "8.071256056994837",
                    "histogram": [
                      {
                        "bin_start": 5.760455653644145,
                        "bin_end": 5.991535693979214,
                        "count": 1
                      },
                      {
                        "bin_start": 5.991535693979214,
                        "bin_end": 6.222615734314283,
                        "count": 0
                      },
                      {
                        "bin_start": 6.222615734314283,
                        "bin_end": 6.453695774649352,
                        "count": 0
                      },
                      {
                        "bin_start": 6.453695774649352,
                        "bin_end": 6.684775814984422,
                        "count": 0
                      },
                      {
                        "bin_start": 6.684775814984422,
                        "bin_end": 6.915855855319491,
                        "count": 1
                      },
                      {
                        "bin_start": 6.915855855319491,
                        "bin_end": 7.14693589565456,
                        "count": 1
                      },
                      {
                        "bin_start": 7.14693589565456,
                        "bin_end": 7.378015935989629,
                        "count": 0
                      },
                      {
                        "bin_start": 7.378015935989629,
                        "bin_end": 7.609095976324699,
                        "count": 0
                      },
                      {
                        "bin_start": 7.609095976324699,
                        "bin_end": 7.840176016659768,
                        "count": 1
                      },
                      {
                        "bin_start": 7.840176016659768,
                        "bin_end": 8.071256056994837,
                        "count": 1
                      }
                    ]
                  }
                },
                {
                  "name": "_deepnote_index_column",
                  "dtype": "int64"
                }
              ],
              "rows_top": [
                {
                  "cat0": "A",
                  "cat1": "B",
                  "cat2": "A",
                  "cat3": "A",
                  "cat4": "B",
                  "cat5": "D",
                  "cat6": "A",
                  "cat7": "E",
                  "cat8": "C",
                  "cat9": "I",
                  "cont0": 0.9231905532961956,
                  "cont1": 0.6849683209193232,
                  "cont2": 0.1244535913682793,
                  "cont3": 0.2178862997233316,
                  "cont4": 0.2814212891113367,
                  "cont5": 0.8811221447083947,
                  "cont6": 0.4216503694548104,
                  "cont7": 0.7414131470380283,
                  "cont8": 0.8957994783149412,
                  "cont9": 0.8024605621118054,
                  "cont10": 0.7244167511375598,
                  "cont11": 0.7019154376947166,
                  "cont12": 0.8776181954988187,
                  "cont13": 0.7199028510670258,
                  "target": 6.994022554611728,
                  "_deepnote_index_column": 0
                },
                {
                  "cat0": "B",
                  "cat1": "A",
                  "cat2": "A",
                  "cat3": "A",
                  "cat4": "B",
                  "cat5": "B",
                  "cat6": "A",
                  "cat7": "E",
                  "cat8": "A",
                  "cat9": "F",
                  "cont0": 0.4376273493011995,
                  "cont1": 0.0142130223611504,
                  "cont2": 0.3574379809777704,
                  "cont3": 0.8461267049747274,
                  "cont4": 0.2823539978698745,
                  "cont5": 0.4400106876739779,
                  "cont6": 0.3462296232318922,
                  "cont7": 0.2784948726175908,
                  "cont8": 0.593413297150756,
                  "cont9": 0.5460562232934362,
                  "cont10": 0.6132521355858089,
                  "cont11": 0.7412892342594564,
                  "cont12": 0.326678696122427,
                  "cont13": 0.8084643570851451,
                  "target": 8.071256056994837,
                  "_deepnote_index_column": 1
                },
                {
                  "cat0": "A",
                  "cat1": "A",
                  "cat2": "A",
                  "cat3": "C",
                  "cat4": "B",
                  "cat5": "D",
                  "cat6": "A",
                  "cat7": "B",
                  "cat8": "C",
                  "cat9": "N",
                  "cont0": 0.7322085684360234,
                  "cont1": 0.7601220397848099,
                  "cont2": 0.4546439356312624,
                  "cont3": 0.8129903217977429,
                  "cont4": 0.2937562691270103,
                  "cont5": 0.9141547023946132,
                  "cont6": 0.3696015902215768,
                  "cont7": 0.8325644700649786,
                  "cont8": 0.8656196934768817,
                  "cont9": 0.8252514470475938,
                  "cont10": 0.2641037582107835,
                  "cont11": 0.6955613880926892,
                  "cont12": 0.8691325356777109,
                  "cont13": 0.8283516037771875,
                  "target": 5.760455653644145,
                  "_deepnote_index_column": 2
                },
                {
                  "cat0": "A",
                  "cat1": "A",
                  "cat2": "A",
                  "cat3": "C",
                  "cat4": "B",
                  "cat5": "D",
                  "cat6": "A",
                  "cat7": "E",
                  "cat8": "G",
                  "cat9": "K",
                  "cont0": 0.7051416980694408,
                  "cont1": 0.7716782515601588,
                  "cont2": 0.1537353029887317,
                  "cont3": 0.7328933127581979,
                  "cont4": 0.7697848796518671,
                  "cont5": 0.9341375246924604,
                  "cont6": 0.5789300516632971,
                  "cont7": 0.4073126019295212,
                  "cont8": 0.868099438625062,
                  "cont9": 0.7944016040067676,
                  "cont10": 0.4942691057940123,
                  "cont11": 0.6981252630692696,
                  "cont12": 0.8097988097804755,
                  "cont13": 0.6147663111504925,
                  "target": 7.806456965797237,
                  "_deepnote_index_column": 3
                },
                {
                  "cat0": "A",
                  "cat1": "B",
                  "cat2": "A",
                  "cat3": "A",
                  "cat4": "B",
                  "cat5": "B",
                  "cat6": "A",
                  "cat7": "E",
                  "cat8": "C",
                  "cat9": "F",
                  "cont0": 0.4860631333058962,
                  "cont1": 0.6393485097316489,
                  "cont2": 0.4962124675496179,
                  "cont3": 0.3541858161801454,
                  "cont4": 0.2791052771945682,
                  "cont5": 0.382599692488609,
                  "cont6": 0.7059400327615131,
                  "cont7": 0.3251931238558244,
                  "cont8": 0.4409671383892113,
                  "cont9": 0.4621459946175901,
                  "cont10": 0.7244472417704731,
                  "cont11": 0.6830731438086716,
                  "cont12": 0.343456509807682,
                  "cont13": 0.2977434168196609,
                  "target": 6.868974207542201,
                  "_deepnote_index_column": 4
                }
              ],
              "rows_bottom": null
            },
            "text/plain": "  cat0 cat1 cat2 cat3 cat4 cat5 cat6 cat7 cat8 cat9  ...     cont5     cont6  \\\n0    A    B    A    A    B    D    A    E    C    I  ...  0.881122  0.421650   \n1    B    A    A    A    B    B    A    E    A    F  ...  0.440011  0.346230   \n2    A    A    A    C    B    D    A    B    C    N  ...  0.914155  0.369602   \n3    A    A    A    C    B    D    A    E    G    K  ...  0.934138  0.578930   \n4    A    B    A    A    B    B    A    E    C    F  ...  0.382600  0.705940   \n\n      cont7     cont8     cont9    cont10    cont11    cont12    cont13  \\\n0  0.741413  0.895799  0.802461  0.724417  0.701915  0.877618  0.719903   \n1  0.278495  0.593413  0.546056  0.613252  0.741289  0.326679  0.808464   \n2  0.832564  0.865620  0.825251  0.264104  0.695561  0.869133  0.828352   \n3  0.407313  0.868099  0.794402  0.494269  0.698125  0.809799  0.614766   \n4  0.325193  0.440967  0.462146  0.724447  0.683073  0.343457  0.297743   \n\n     target  \n0  6.994023  \n1  8.071256  \n2  5.760456  \n3  7.806457  \n4  6.868974  \n\n[5 rows x 25 columns]",
            "text/html": "<div>\n<style scoped>\n    .dataframe tbody tr th:only-of-type {\n        vertical-align: middle;\n    }\n\n    .dataframe tbody tr th {\n        vertical-align: top;\n    }\n\n    .dataframe thead th {\n        text-align: right;\n    }\n</style>\n<table border=\"1\" class=\"dataframe\">\n  <thead>\n    <tr style=\"text-align: right;\">\n      <th></th>\n      <th>cat0</th>\n      <th>cat1</th>\n      <th>cat2</th>\n      <th>cat3</th>\n      <th>cat4</th>\n      <th>cat5</th>\n      <th>cat6</th>\n      <th>cat7</th>\n      <th>cat8</th>\n      <th>cat9</th>\n      <th>...</th>\n      <th>cont5</th>\n      <th>cont6</th>\n      <th>cont7</th>\n      <th>cont8</th>\n      <th>cont9</th>\n      <th>cont10</th>\n      <th>cont11</th>\n      <th>cont12</th>\n      <th>cont13</th>\n      <th>target</th>\n    </tr>\n  </thead>\n  <tbody>\n    <tr>\n      <th>0</th>\n      <td>A</td>\n      <td>B</td>\n      <td>A</td>\n      <td>A</td>\n      <td>B</td>\n      <td>D</td>\n      <td>A</td>\n      <td>E</td>\n      <td>C</td>\n      <td>I</td>\n      <td>...</td>\n      <td>0.881122</td>\n      <td>0.421650</td>\n      <td>0.741413</td>\n      <td>0.895799</td>\n      <td>0.802461</td>\n      <td>0.724417</td>\n      <td>0.701915</td>\n      <td>0.877618</td>\n      <td>0.719903</td>\n      <td>6.994023</td>\n    </tr>\n    <tr>\n      <th>1</th>\n      <td>B</td>\n      <td>A</td>\n      <td>A</td>\n      <td>A</td>\n      <td>B</td>\n      <td>B</td>\n      <td>A</td>\n      <td>E</td>\n      <td>A</td>\n      <td>F</td>\n      <td>...</td>\n      <td>0.440011</td>\n      <td>0.346230</td>\n      <td>0.278495</td>\n      <td>0.593413</td>\n      <td>0.546056</td>\n      <td>0.613252</td>\n      <td>0.741289</td>\n      <td>0.326679</td>\n      <td>0.808464</td>\n      <td>8.071256</td>\n    </tr>\n    <tr>\n      <th>2</th>\n      <td>A</td>\n      <td>A</td>\n      <td>A</td>\n      <td>C</td>\n      <td>B</td>\n      <td>D</td>\n      <td>A</td>\n      <td>B</td>\n      <td>C</td>\n      <td>N</td>\n      <td>...</td>\n      <td>0.914155</td>\n      <td>0.369602</td>\n      <td>0.832564</td>\n      <td>0.865620</td>\n      <td>0.825251</td>\n      <td>0.264104</td>\n      <td>0.695561</td>\n      <td>0.869133</td>\n      <td>0.828352</td>\n      <td>5.760456</td>\n    </tr>\n    <tr>\n      <th>3</th>\n      <td>A</td>\n      <td>A</td>\n      <td>A</td>\n      <td>C</td>\n      <td>B</td>\n      <td>D</td>\n      <td>A</td>\n      <td>E</td>\n      <td>G</td>\n      <td>K</td>\n      <td>...</td>\n      <td>0.934138</td>\n      <td>0.578930</td>\n      <td>0.407313</td>\n      <td>0.868099</td>\n      <td>0.794402</td>\n      <td>0.494269</td>\n      <td>0.698125</td>\n      <td>0.809799</td>\n      <td>0.614766</td>\n      <td>7.806457</td>\n    </tr>\n    <tr>\n      <th>4</th>\n      <td>A</td>\n      <td>B</td>\n      <td>A</td>\n      <td>A</td>\n      <td>B</td>\n      <td>B</td>\n      <td>A</td>\n      <td>E</td>\n      <td>C</td>\n      <td>F</td>\n      <td>...</td>\n      <td>0.382600</td>\n      <td>0.705940</td>\n      <td>0.325193</td>\n      <td>0.440967</td>\n      <td>0.462146</td>\n      <td>0.724447</td>\n      <td>0.683073</td>\n      <td>0.343457</td>\n      <td>0.297743</td>\n      <td>6.868974</td>\n    </tr>\n  </tbody>\n</table>\n<p>5 rows × 25 columns</p>\n</div>"
          },
          "metadata": {}
        }
      ]
    },
    {
      "cell_type": "code",
      "metadata": {
        "deletable": false,
        "editable": false,
        "nbgrader": {
          "cell_type": "code",
          "checksum": "283057813be21d0e38dbf98f96fa6b75",
          "grade": true,
          "grade_id": "cell-63c54563653a95db",
          "locked": true,
          "points": 1,
          "schema_version": 3,
          "solution": false,
          "task": false
        },
        "cell_id": "00004-8be211ec-9501-4777-b238-c11338e5efdf",
        "deepnote_to_be_reexecuted": false,
        "source_hash": "d2814531",
        "execution_start": 1620217890488,
        "execution_millis": 5,
        "deepnote_cell_type": "code"
      },
      "source": "print(sub.shape)\nassert df.shape == (300000,25) \nassert df_t.shape == (200000,24) \nassert sub.shape == (200000,1) ",
      "execution_count": 33,
      "outputs": [
        {
          "name": "stdout",
          "text": "(200000, 1)\n",
          "output_type": "stream"
        }
      ]
    },
    {
      "cell_type": "markdown",
      "source": "### Subsample the data",
      "metadata": {
        "cell_id": "00005-d5f2ec27-8877-4471-ba86-ad42bba08669",
        "deepnote_cell_type": "markdown"
      }
    },
    {
      "cell_type": "code",
      "metadata": {
        "deletable": false,
        "nbgrader": {
          "cell_type": "code",
          "checksum": "48b8af006c0502ef277ad7f9f51bae73",
          "grade": false,
          "grade_id": "cell-af0fe9c9d53bb080",
          "locked": false,
          "schema_version": 3,
          "solution": true,
          "task": false
        },
        "cell_id": "00006-df2c704a-695a-42c9-afbf-f135323bb454",
        "deepnote_to_be_reexecuted": false,
        "source_hash": "cd34fdaa",
        "execution_start": 1620217894847,
        "execution_millis": 302,
        "deepnote_cell_type": "code"
      },
      "source": "#1 point\n# get a random sample of size 50k, tested with random state 0\ndfs = None\n# YOUR CODE HERE\ndfs=df.loc[:50000-1]\ndfs",
      "execution_count": 34,
      "outputs": [
        {
          "output_type": "execute_result",
          "execution_count": 34,
          "data": {
            "application/vnd.deepnote.dataframe.v2+json": {
              "row_count": 50000,
              "column_count": 25,
              "columns": [
                {
                  "name": "cat0",
                  "dtype": "object",
                  "stats": {
                    "unique_count": 2,
                    "nan_count": 0,
                    "categories": [
                      {
                        "name": "A",
                        "count": 46868
                      },
                      {
                        "name": "B",
                        "count": 3132
                      }
                    ]
                  }
                },
                {
                  "name": "cat1",
                  "dtype": "object",
                  "stats": {
                    "unique_count": 2,
                    "nan_count": 0,
                    "categories": [
                      {
                        "name": "A",
                        "count": 27375
                      },
                      {
                        "name": "B",
                        "count": 22625
                      }
                    ]
                  }
                },
                {
                  "name": "cat2",
                  "dtype": "object"
                },
                {
                  "name": "cat3",
                  "dtype": "object"
                },
                {
                  "name": "cat4",
                  "dtype": "object"
                },
                {
                  "name": "cat5",
                  "dtype": "object"
                },
                {
                  "name": "cat6",
                  "dtype": "object"
                },
                {
                  "name": "cat7",
                  "dtype": "object"
                },
                {
                  "name": "cat8",
                  "dtype": "object"
                },
                {
                  "name": "cat9",
                  "dtype": "object"
                },
                {
                  "name": "cont0",
                  "dtype": "float64"
                },
                {
                  "name": "cont1",
                  "dtype": "float64"
                },
                {
                  "name": "cont2",
                  "dtype": "float64"
                },
                {
                  "name": "cont3",
                  "dtype": "float64"
                },
                {
                  "name": "cont4",
                  "dtype": "float64"
                },
                {
                  "name": "cont5",
                  "dtype": "float64"
                },
                {
                  "name": "cont6",
                  "dtype": "float64"
                },
                {
                  "name": "cont7",
                  "dtype": "float64"
                },
                {
                  "name": "cont8",
                  "dtype": "float64"
                },
                {
                  "name": "cont9",
                  "dtype": "float64"
                },
                {
                  "name": "cont10",
                  "dtype": "float64"
                },
                {
                  "name": "cont11",
                  "dtype": "float64"
                },
                {
                  "name": "cont12",
                  "dtype": "float64"
                },
                {
                  "name": "cont13",
                  "dtype": "float64"
                },
                {
                  "name": "target",
                  "dtype": "float64"
                },
                {
                  "name": "_deepnote_index_column",
                  "dtype": "int64"
                }
              ],
              "rows_top": [
                {
                  "cat0": "A",
                  "cat1": "B",
                  "cat2": "A",
                  "cat3": "A",
                  "cat4": "B",
                  "cat5": "D",
                  "cat6": "A",
                  "cat7": "E",
                  "cat8": "C",
                  "cat9": "I",
                  "cont0": 0.9231905532961956,
                  "cont1": 0.6849683209193232,
                  "cont2": 0.1244535913682793,
                  "cont3": 0.2178862997233316,
                  "cont4": 0.2814212891113367,
                  "cont5": 0.8811221447083947,
                  "cont6": 0.4216503694548104,
                  "cont7": 0.7414131470380283,
                  "cont8": 0.8957994783149412,
                  "cont9": 0.8024605621118054,
                  "cont10": 0.7244167511375598,
                  "cont11": 0.7019154376947166,
                  "cont12": 0.8776181954988187,
                  "cont13": 0.7199028510670258,
                  "target": 6.994022554611728,
                  "_deepnote_index_column": 0
                },
                {
                  "cat0": "B",
                  "cat1": "A",
                  "cat2": "A",
                  "cat3": "A",
                  "cat4": "B",
                  "cat5": "B",
                  "cat6": "A",
                  "cat7": "E",
                  "cat8": "A",
                  "cat9": "F",
                  "cont0": 0.4376273493011995,
                  "cont1": 0.0142130223611504,
                  "cont2": 0.3574379809777704,
                  "cont3": 0.8461267049747274,
                  "cont4": 0.2823539978698745,
                  "cont5": 0.4400106876739779,
                  "cont6": 0.3462296232318922,
                  "cont7": 0.2784948726175908,
                  "cont8": 0.593413297150756,
                  "cont9": 0.5460562232934362,
                  "cont10": 0.6132521355858089,
                  "cont11": 0.7412892342594564,
                  "cont12": 0.326678696122427,
                  "cont13": 0.8084643570851451,
                  "target": 8.071256056994837,
                  "_deepnote_index_column": 1
                },
                {
                  "cat0": "A",
                  "cat1": "A",
                  "cat2": "A",
                  "cat3": "C",
                  "cat4": "B",
                  "cat5": "D",
                  "cat6": "A",
                  "cat7": "B",
                  "cat8": "C",
                  "cat9": "N",
                  "cont0": 0.7322085684360234,
                  "cont1": 0.7601220397848099,
                  "cont2": 0.4546439356312624,
                  "cont3": 0.8129903217977429,
                  "cont4": 0.2937562691270103,
                  "cont5": 0.9141547023946132,
                  "cont6": 0.3696015902215768,
                  "cont7": 0.8325644700649786,
                  "cont8": 0.8656196934768817,
                  "cont9": 0.8252514470475938,
                  "cont10": 0.2641037582107835,
                  "cont11": 0.6955613880926892,
                  "cont12": 0.8691325356777109,
                  "cont13": 0.8283516037771875,
                  "target": 5.760455653644145,
                  "_deepnote_index_column": 2
                },
                {
                  "cat0": "A",
                  "cat1": "A",
                  "cat2": "A",
                  "cat3": "C",
                  "cat4": "B",
                  "cat5": "D",
                  "cat6": "A",
                  "cat7": "E",
                  "cat8": "G",
                  "cat9": "K",
                  "cont0": 0.7051416980694408,
                  "cont1": 0.7716782515601588,
                  "cont2": 0.1537353029887317,
                  "cont3": 0.7328933127581979,
                  "cont4": 0.7697848796518671,
                  "cont5": 0.9341375246924604,
                  "cont6": 0.5789300516632971,
                  "cont7": 0.4073126019295212,
                  "cont8": 0.868099438625062,
                  "cont9": 0.7944016040067676,
                  "cont10": 0.4942691057940123,
                  "cont11": 0.6981252630692696,
                  "cont12": 0.8097988097804755,
                  "cont13": 0.6147663111504925,
                  "target": 7.806456965797237,
                  "_deepnote_index_column": 3
                },
                {
                  "cat0": "A",
                  "cat1": "B",
                  "cat2": "A",
                  "cat3": "A",
                  "cat4": "B",
                  "cat5": "B",
                  "cat6": "A",
                  "cat7": "E",
                  "cat8": "C",
                  "cat9": "F",
                  "cont0": 0.4860631333058962,
                  "cont1": 0.6393485097316489,
                  "cont2": 0.4962124675496179,
                  "cont3": 0.3541858161801454,
                  "cont4": 0.2791052771945682,
                  "cont5": 0.382599692488609,
                  "cont6": 0.7059400327615131,
                  "cont7": 0.3251931238558244,
                  "cont8": 0.4409671383892113,
                  "cont9": 0.4621459946175901,
                  "cont10": 0.7244472417704731,
                  "cont11": 0.6830731438086716,
                  "cont12": 0.343456509807682,
                  "cont13": 0.2977434168196609,
                  "target": 6.868974207542201,
                  "_deepnote_index_column": 4
                },
                {
                  "cat0": "A",
                  "cat1": "A",
                  "cat2": "A",
                  "cat3": "C",
                  "cat4": "B",
                  "cat5": "B",
                  "cat6": "A",
                  "cat7": "E",
                  "cat8": "E",
                  "cat9": "B",
                  "cont0": 0.3197232748779705,
                  "cont1": 0.7415066881547131,
                  "cont2": 0.6489461659085171,
                  "cont3": 0.4348440131218671,
                  "cont4": 0.2806912849832809,
                  "cont5": 0.2455600291947909,
                  "cont6": 0.2173622658419901,
                  "cont7": 0.6062980071867707,
                  "cont8": 0.3452824024096702,
                  "cont9": 0.3512348101996826,
                  "cont10": 0.3719397387325932,
                  "cont11": 0.2227821732934491,
                  "cont12": 0.2792273188670134,
                  "cont13": 0.7735999522625412,
                  "target": 7.060652267139981,
                  "_deepnote_index_column": 5
                },
                {
                  "cat0": "A",
                  "cat1": "B",
                  "cat2": "A",
                  "cat3": "C",
                  "cat4": "B",
                  "cat5": "D",
                  "cat6": "A",
                  "cat7": "E",
                  "cat8": "G",
                  "cat9": "F",
                  "cont0": 0.867227288772115,
                  "cont1": 0.0674491161638317,
                  "cont2": 0.1991449634249264,
                  "cont3": 0.8409787236949972,
                  "cont4": 0.2780683266925729,
                  "cont5": 0.9312660060503124,
                  "cont6": 0.6331567126061607,
                  "cont7": 0.7841851371924841,
                  "cont8": 0.9127042865665456,
                  "cont9": 0.8011535962344724,
                  "cont10": 0.599785845441211,
                  "cont11": 0.9016564512272373,
                  "cont12": 0.8374741336203172,
                  "cont13": 0.6744767985930173,
                  "target": 6.165491027043411,
                  "_deepnote_index_column": 6
                },
                {
                  "cat0": "B",
                  "cat1": "A",
                  "cat2": "B",
                  "cat3": "C",
                  "cat4": "B",
                  "cat5": "B",
                  "cat6": "A",
                  "cat7": "E",
                  "cat8": "C",
                  "cat9": "L",
                  "cont0": 0.3482035312397218,
                  "cont1": 0.6198190256686906,
                  "cont2": 0.5508461361541476,
                  "cont3": 0.1824647872230178,
                  "cont4": 0.7842940028622096,
                  "cont5": 0.3631296517344791,
                  "cont6": 0.3493241948262567,
                  "cont7": 0.2527341880765587,
                  "cont8": 0.4741695621130767,
                  "cont9": 0.4340621803092569,
                  "cont10": 0.7295849591849826,
                  "cont11": 0.5754552671348899,
                  "cont12": 0.6951245696247857,
                  "cont13": 0.224309914753807,
                  "target": 8.100109508185984,
                  "_deepnote_index_column": 7
                },
                {
                  "cat0": "A",
                  "cat1": "B",
                  "cat2": "B",
                  "cat3": "A",
                  "cat4": "B",
                  "cat5": "D",
                  "cat6": "A",
                  "cat7": "E",
                  "cat8": "E",
                  "cat9": "F",
                  "cont0": 0.9209952120646842,
                  "cont1": 0.4869926581375322,
                  "cont2": 0.2446549224993109,
                  "cont3": 0.1965582236045766,
                  "cont4": 0.2789934631058817,
                  "cont5": 0.9496765390756368,
                  "cont6": 0.5329241846432116,
                  "cont7": 0.7223103925838917,
                  "cont8": 0.9244946367167144,
                  "cont9": 0.8126236021127585,
                  "cont10": 0.5941729519127146,
                  "cont11": 0.8842716822476134,
                  "cont12": 0.816702039407927,
                  "cont13": 0.7775379790297064,
                  "target": 8.180235551334896,
                  "_deepnote_index_column": 8
                },
                {
                  "cat0": "A",
                  "cat1": "B",
                  "cat2": "A",
                  "cat3": "C",
                  "cat4": "B",
                  "cat5": "D",
                  "cat6": "A",
                  "cat7": "E",
                  "cat8": "E",
                  "cat9": "G",
                  "cont0": 0.8531316600301564,
                  "cont1": 0.3531981542614079,
                  "cont2": 0.1898637141836006,
                  "cont3": 0.2492988370513943,
                  "cont4": 0.2812667107416713,
                  "cont5": 0.8257218325744059,
                  "cont6": 0.6260832107854128,
                  "cont7": 0.3108008266718708,
                  "cont8": 0.9440502990141872,
                  "cont9": 0.4916945305984128,
                  "cont10": 0.5623090330956984,
                  "cont11": 0.5550270068426041,
                  "cont12": 0.6155976027815739,
                  "cont13": 0.4841170022264688,
                  "target": 6.589763672900057,
                  "_deepnote_index_column": 9
                },
                {
                  "cat0": "A",
                  "cat1": "B",
                  "cat2": "A",
                  "cat3": "A",
                  "cat4": "B",
                  "cat5": "D",
                  "cat6": "A",
                  "cat7": "E",
                  "cat8": "C",
                  "cat9": "H",
                  "cont0": 0.1262571970012082,
                  "cont1": 0.7468917210105762,
                  "cont2": 0.5507579388502563,
                  "cont3": 0.3409539642151349,
                  "cont4": 0.2796072514878934,
                  "cont5": 0.6112341645761397,
                  "cont6": 0.5992402139986088,
                  "cont7": 0.3504373014448766,
                  "cont8": 0.3122958923793128,
                  "cont9": 0.5565736109430257,
                  "cont10": 0.6114300796591828,
                  "cont11": 0.6561432432602751,
                  "cont12": 0.6827808910036489,
                  "cont13": 0.6771825930324143,
                  "target": 7.589316415241804,
                  "_deepnote_index_column": 10
                },
                {
                  "cat0": "A",
                  "cat1": "A",
                  "cat2": "B",
                  "cat3": "C",
                  "cat4": "B",
                  "cat5": "B",
                  "cat6": "A",
                  "cat7": "E",
                  "cat8": "C",
                  "cat9": "K",
                  "cont0": 0.5182785986509277,
                  "cont1": 0.6378786057139424,
                  "cont2": 0.6311652073437767,
                  "cont3": 0.3385598450259843,
                  "cont4": 0.4590181722459765,
                  "cont5": 0.2041110910792457,
                  "cont6": 0.7861676439837084,
                  "cont7": 0.3594180736338685,
                  "cont8": 0.4086369451908586,
                  "cont9": 0.407619333019065,
                  "cont10": 0.4724350400382253,
                  "cont11": 0.4334752505960301,
                  "cont12": 0.3405175628220253,
                  "cont13": 0.2838086709654203,
                  "target": 7.030701295686563,
                  "_deepnote_index_column": 11
                },
                {
                  "cat0": "A",
                  "cat1": "A",
                  "cat2": "A",
                  "cat3": "C",
                  "cat4": "B",
                  "cat5": "B",
                  "cat6": "A",
                  "cat7": "E",
                  "cat8": "E",
                  "cat9": "F",
                  "cont0": 0.4335379080501037,
                  "cont1": 0.6496641917395334,
                  "cont2": 0.4842628346789637,
                  "cont3": 0.2222513534795385,
                  "cont4": 0.6648662771392254,
                  "cont5": 0.2355578689187283,
                  "cont6": 0.6108709950155771,
                  "cont7": 0.2871174776006697,
                  "cont8": 0.1455390153374705,
                  "cont9": 0.4047551610084664,
                  "cont10": 0.3770550434532172,
                  "cont11": 0.3562620345017183,
                  "cont12": 0.3793719290350871,
                  "cont13": 0.2374789344154615,
                  "target": 8.464311378821892,
                  "_deepnote_index_column": 12
                },
                {
                  "cat0": "A",
                  "cat1": "B",
                  "cat2": "A",
                  "cat3": "C",
                  "cat4": "B",
                  "cat5": "B",
                  "cat6": "A",
                  "cat7": "D",
                  "cat8": "E",
                  "cat9": "L",
                  "cont0": 0.4975308005302987,
                  "cont1": 0.6488880654554394,
                  "cont2": 0.6969572748025231,
                  "cont3": 0.1948849511637809,
                  "cont4": 0.7631860981362409,
                  "cont5": 0.3321126230607832,
                  "cont6": 0.4470809094872182,
                  "cont7": 0.2485649399118056,
                  "cont8": 0.3583753276072782,
                  "cont9": 0.4349945447994352,
                  "cont10": 0.3343253746793142,
                  "cont11": 0.3533444124084187,
                  "cont12": 0.3556981136627296,
                  "cont13": 0.8317912523680968,
                  "target": 8.523925857849264,
                  "_deepnote_index_column": 13
                },
                {
                  "cat0": "A",
                  "cat1": "A",
                  "cat2": "A",
                  "cat3": "A",
                  "cat4": "B",
                  "cat5": "B",
                  "cat6": "A",
                  "cat7": "E",
                  "cat8": "C",
                  "cat9": "F",
                  "cont0": 0.4427449281098249,
                  "cont1": 0.6673106812577251,
                  "cont2": 0.698699272598829,
                  "cont3": 0.378549204823924,
                  "cont4": 0.2339123456504855,
                  "cont5": 0.3723521111244053,
                  "cont6": 0.7994379732083703,
                  "cont7": 0.2462971665196261,
                  "cont8": 0.472777435036809,
                  "cont9": 0.7237088247399773,
                  "cont10": 0.7126208568461373,
                  "cont11": 0.7710743475905686,
                  "cont12": 0.3379257463911268,
                  "cont13": 0.7491558667304569,
                  "target": 7.212612151354061,
                  "_deepnote_index_column": 14
                },
                {
                  "cat0": "A",
                  "cat1": "B",
                  "cat2": "B",
                  "cat3": "A",
                  "cat4": "B",
                  "cat5": "B",
                  "cat6": "A",
                  "cat7": "E",
                  "cat8": "E",
                  "cat9": "F",
                  "cont0": 0.4760290244398656,
                  "cont1": 0.084489833962525,
                  "cont2": 0.6926500061404878,
                  "cont3": 0.2794529087958969,
                  "cont4": 0.2797612671426241,
                  "cont5": 0.3613127950688085,
                  "cont6": 0.3743855681551824,
                  "cont7": 0.2932369853197351,
                  "cont8": 0.4010121745577366,
                  "cont9": 0.2981397272176455,
                  "cont10": 0.3677343931639997,
                  "cont11": 0.4025567598288801,
                  "cont12": 0.3497390318092214,
                  "cont13": 0.7526457628512109,
                  "target": 7.6756967714321584,
                  "_deepnote_index_column": 15
                },
                {
                  "cat0": "A",
                  "cat1": "A",
                  "cat2": "A",
                  "cat3": "C",
                  "cat4": "B",
                  "cat5": "D",
                  "cat6": "A",
                  "cat7": "D",
                  "cat8": "C",
                  "cat9": "F",
                  "cont0": 0.492683570044672,
                  "cont1": 0.7412948051444593,
                  "cont2": 0.4963647239253437,
                  "cont3": 0.1660948859803785,
                  "cont4": 0.2787925741676183,
                  "cont5": 0.4528003196011242,
                  "cont6": 0.8365587269931012,
                  "cont7": 0.4896127184993588,
                  "cont8": 0.4566820579276556,
                  "cont9": 0.6261645820171617,
                  "cont10": 0.674107212437746,
                  "cont11": 0.7094203572840427,
                  "cont12": 0.6943692079287208,
                  "cont13": 0.3764246854929001,
                  "target": 5.479104758581864,
                  "_deepnote_index_column": 16
                },
                {
                  "cat0": "A",
                  "cat1": "A",
                  "cat2": "A",
                  "cat3": "A",
                  "cat4": "B",
                  "cat5": "B",
                  "cat6": "A",
                  "cat7": "E",
                  "cat8": "C",
                  "cat9": "F",
                  "cont0": 0.5056105227445616,
                  "cont1": 0.6170489088173572,
                  "cont2": 0.461770978276841,
                  "cont3": 0.2580329650664807,
                  "cont4": 0.3283095767806245,
                  "cont5": 0.297075416922796,
                  "cont6": 0.9040858717247928,
                  "cont7": 0.2482178791436503,
                  "cont8": 0.0698415776733779,
                  "cont9": 0.5698243437361848,
                  "cont10": 0.3805650892326811,
                  "cont11": 0.7955551262261455,
                  "cont12": 0.330912701618425,
                  "cont13": 0.489293952621757,
                  "target": 7.273782865004046,
                  "_deepnote_index_column": 17
                },
                {
                  "cat0": "A",
                  "cat1": "B",
                  "cat2": "A",
                  "cat3": "A",
                  "cat4": "B",
                  "cat5": "B",
                  "cat6": "A",
                  "cat7": "E",
                  "cat8": "E",
                  "cat9": "I",
                  "cont0": 0.3090108551719977,
                  "cont1": 0.2939753640981322,
                  "cont2": 0.4543050168746315,
                  "cont3": 0.3531490499045201,
                  "cont4": 0.4174983252144,
                  "cont5": 0.2020510850492328,
                  "cont6": 0.4127143092777808,
                  "cont7": 0.6774595626030915,
                  "cont8": 0.3033395410586216,
                  "cont9": 0.2376503005423425,
                  "cont10": 0.3040749022984656,
                  "cont11": 0.248345441091284,
                  "cont12": 0.2741384935947537,
                  "cont13": 0.2110636789215112,
                  "target": 7.380379126234424,
                  "_deepnote_index_column": 18
                },
                {
                  "cat0": "A",
                  "cat1": "B",
                  "cat2": "A",
                  "cat3": "D",
                  "cat4": "B",
                  "cat5": "D",
                  "cat6": "A",
                  "cat7": "E",
                  "cat8": "E",
                  "cat9": "F",
                  "cont0": 0.2848265243178193,
                  "cont1": 0.774400821045748,
                  "cont2": 0.4870124223986512,
                  "cont3": 0.6384750877790422,
                  "cont4": 0.2796246853805646,
                  "cont5": 0.7521383684596316,
                  "cont6": 0.3424735419864986,
                  "cont7": 0.6621972135456686,
                  "cont8": 0.1740558983837336,
                  "cont9": 0.2773661741000928,
                  "cont10": 0.5356555496973106,
                  "cont11": 0.4941614699744584,
                  "cont12": 0.8232060698255681,
                  "cont13": 0.2748247717069813,
                  "target": 7.819202494438308,
                  "_deepnote_index_column": 19
                }
              ],
              "rows_bottom": [
                {
                  "cat0": "B",
                  "cat1": "B",
                  "cat2": "A",
                  "cat3": "C",
                  "cat4": "B",
                  "cat5": "C",
                  "cat6": "A",
                  "cat7": "E",
                  "cat8": "C",
                  "cat9": "I",
                  "cont0": 0.3052387774022873,
                  "cont1": 0.7709394709272261,
                  "cont2": 0.5502349876977629,
                  "cont3": 0.3936548635427273,
                  "cont4": 0.5812815962202201,
                  "cont5": 0.5171381740261356,
                  "cont6": 0.3218530280370352,
                  "cont7": 0.3165195844771651,
                  "cont8": 0.6028401628551475,
                  "cont9": 0.6841791481336609,
                  "cont10": 0.3288414299446936,
                  "cont11": 0.4429405149316335,
                  "cont12": 0.2911237945659123,
                  "cont13": 0.2097922047524067,
                  "target": 8.091888287777092,
                  "_deepnote_index_column": 49980
                },
                {
                  "cat0": "A",
                  "cat1": "B",
                  "cat2": "A",
                  "cat3": "A",
                  "cat4": "B",
                  "cat5": "B",
                  "cat6": "A",
                  "cat7": "E",
                  "cat8": "E",
                  "cat9": "H",
                  "cont0": 0.3828040201425173,
                  "cont1": 0.5525885674374977,
                  "cont2": 0.4643704853454134,
                  "cont3": 0.8041829988717505,
                  "cont4": 0.5076818674088521,
                  "cont5": 0.2662421838127869,
                  "cont6": 0.3074462769793819,
                  "cont7": 0.2226674377526524,
                  "cont8": 0.0302897982097518,
                  "cont9": 0.0834070091812548,
                  "cont10": 0.3283225103017643,
                  "cont11": 0.084510926732072,
                  "cont12": 0.299856308869865,
                  "cont13": 0.3252964517910384,
                  "target": 5.758088002120616,
                  "_deepnote_index_column": 49981
                },
                {
                  "cat0": "A",
                  "cat1": "B",
                  "cat2": "A",
                  "cat3": "C",
                  "cat4": "B",
                  "cat5": "D",
                  "cat6": "A",
                  "cat7": "E",
                  "cat8": "E",
                  "cat9": "H",
                  "cont0": 0.3262490508777038,
                  "cont1": 0.0348136973728722,
                  "cont2": 0.3738493620910641,
                  "cont3": 0.212179222747927,
                  "cont4": 0.3724093884857118,
                  "cont5": 0.3987424096907941,
                  "cont6": 0.3310253822527971,
                  "cont7": 0.3039173302948874,
                  "cont8": 0.500838071341137,
                  "cont9": 0.4371646071316769,
                  "cont10": 0.6556265948482344,
                  "cont11": 0.3301783140422577,
                  "cont12": 0.6064986588630192,
                  "cont13": 0.6334996835250134,
                  "target": 7.925961820756515,
                  "_deepnote_index_column": 49982
                },
                {
                  "cat0": "A",
                  "cat1": "A",
                  "cat2": "A",
                  "cat3": "C",
                  "cat4": "B",
                  "cat5": "B",
                  "cat6": "A",
                  "cat7": "E",
                  "cat8": "E",
                  "cat9": "O",
                  "cont0": 0.1212773270746055,
                  "cont1": 0.4213054051389565,
                  "cont2": 0.4807064184987818,
                  "cont3": 0.4497283186348305,
                  "cont4": 0.5113809979434627,
                  "cont5": 0.1990646474990141,
                  "cont6": 0.4258962277364465,
                  "cont7": 0.4612814261337858,
                  "cont8": 0.2934162970433972,
                  "cont9": 0.3149082579289001,
                  "cont10": 0.3012105248907078,
                  "cont11": 0.1986316227484924,
                  "cont12": 0.2964940179130746,
                  "cont13": 0.8361238690156663,
                  "target": 6.703419185930947,
                  "_deepnote_index_column": 49983
                },
                {
                  "cat0": "A",
                  "cat1": "B",
                  "cat2": "A",
                  "cat3": "A",
                  "cat4": "B",
                  "cat5": "D",
                  "cat6": "A",
                  "cat7": "E",
                  "cat8": "C",
                  "cat9": "F",
                  "cont0": 0.7836824084700441,
                  "cont1": 0.6595827826392834,
                  "cont2": 0.3882299863922181,
                  "cont3": 0.1961531540710396,
                  "cont4": 0.4393359994273209,
                  "cont5": 0.3862170974517751,
                  "cont6": 0.4516155683017374,
                  "cont7": 0.7293335123350847,
                  "cont8": 0.4054196267975906,
                  "cont9": 0.6473247515461531,
                  "cont10": 0.6806282129916466,
                  "cont11": 0.7204040057674124,
                  "cont12": 0.5865174187388793,
                  "cont13": 0.4549759015203552,
                  "target": 8.308599046499165,
                  "_deepnote_index_column": 49984
                },
                {
                  "cat0": "A",
                  "cat1": "A",
                  "cat2": "A",
                  "cat3": "A",
                  "cat4": "B",
                  "cat5": "B",
                  "cat6": "A",
                  "cat7": "E",
                  "cat8": "E",
                  "cat9": "G",
                  "cont0": 0.4662697572844787,
                  "cont1": 0.0386217645882917,
                  "cont2": 0.4274572480341051,
                  "cont3": 0.4544135841350228,
                  "cont4": 0.4218889852946441,
                  "cont5": 0.2545661009373797,
                  "cont6": 0.2205894820446308,
                  "cont7": 0.6324469002844668,
                  "cont8": 0.0645387672139731,
                  "cont9": 0.3227175025804266,
                  "cont10": 0.902617632808656,
                  "cont11": 0.1190465519289391,
                  "cont12": 0.2676371287963722,
                  "cont13": 0.279936101378764,
                  "target": 8.47984587955494,
                  "_deepnote_index_column": 49985
                },
                {
                  "cat0": "A",
                  "cat1": "A",
                  "cat2": "A",
                  "cat3": "C",
                  "cat4": "B",
                  "cat5": "D",
                  "cat6": "A",
                  "cat7": "E",
                  "cat8": "A",
                  "cat9": "F",
                  "cont0": 0.7475039917815395,
                  "cont1": 0.2951534060894204,
                  "cont2": 0.2064191050885215,
                  "cont3": 0.6965317431041184,
                  "cont4": 0.3555923345569525,
                  "cont5": 0.8271752274958736,
                  "cont6": 0.918812217474186,
                  "cont7": 0.6459151102488182,
                  "cont8": 0.8487257513719033,
                  "cont9": 0.7991383851058387,
                  "cont10": 0.7401295727938978,
                  "cont11": 0.7745042671591145,
                  "cont12": 0.8419580969007621,
                  "cont13": 0.6255123273411236,
                  "target": 7.834363366531304,
                  "_deepnote_index_column": 49986
                },
                {
                  "cat0": "B",
                  "cat1": "B",
                  "cat2": "A",
                  "cat3": "C",
                  "cat4": "B",
                  "cat5": "B",
                  "cat6": "A",
                  "cat7": "E",
                  "cat8": "E",
                  "cat9": "F",
                  "cont0": 0.314876347672433,
                  "cont1": 0.0257261518657216,
                  "cont2": 0.1606665638831632,
                  "cont3": 0.8602869167229452,
                  "cont4": 0.4149963274041653,
                  "cont5": 0.4219346209371929,
                  "cont6": 0.3879860698384831,
                  "cont7": 0.4320036282076085,
                  "cont8": 0.1647247065208091,
                  "cont9": 0.5562764825968828,
                  "cont10": 0.5529195985149493,
                  "cont11": 0.3499752866556388,
                  "cont12": 0.3010178216322587,
                  "cont13": 0.6793484872688613,
                  "target": 7.096659536959122,
                  "_deepnote_index_column": 49987
                },
                {
                  "cat0": "B",
                  "cat1": "A",
                  "cat2": "A",
                  "cat3": "A",
                  "cat4": "B",
                  "cat5": "B",
                  "cat6": "A",
                  "cat7": "E",
                  "cat8": "C",
                  "cat9": "I",
                  "cont0": 0.5097945292193488,
                  "cont1": 0.2966362792496055,
                  "cont2": 0.4763087194496311,
                  "cont3": 0.2211483684442164,
                  "cont4": 0.2795644856419157,
                  "cont5": 0.5554131676514527,
                  "cont6": 0.7267489710641988,
                  "cont7": 0.3408155125696945,
                  "cont8": 0.4124304331744323,
                  "cont9": 0.4462021167507045,
                  "cont10": 0.4656667363268357,
                  "cont11": 0.701656146176275,
                  "cont12": 0.353680830637495,
                  "cont13": 0.2183456141585128,
                  "target": 6.564489327975438,
                  "_deepnote_index_column": 49988
                },
                {
                  "cat0": "A",
                  "cat1": "B",
                  "cat2": "A",
                  "cat3": "C",
                  "cat4": "B",
                  "cat5": "B",
                  "cat6": "A",
                  "cat7": "E",
                  "cat8": "C",
                  "cat9": "H",
                  "cont0": 0.5191581547833009,
                  "cont1": 0.355691749917984,
                  "cont2": 0.6250680162119775,
                  "cont3": 0.1803228124214593,
                  "cont4": 0.7117022044951942,
                  "cont5": 0.4425876745799607,
                  "cont6": 0.3619566914621765,
                  "cont7": 0.3695130523664142,
                  "cont8": 0.246062918037192,
                  "cont9": 0.4400205104970845,
                  "cont10": 0.4752842426675733,
                  "cont11": 0.4289440214686657,
                  "cont12": 0.3996583249516841,
                  "cont13": 0.1890146119800851,
                  "target": 6.894269613806086,
                  "_deepnote_index_column": 49989
                },
                {
                  "cat0": "A",
                  "cat1": "B",
                  "cat2": "A",
                  "cat3": "A",
                  "cat4": "B",
                  "cat5": "D",
                  "cat6": "A",
                  "cat7": "E",
                  "cat8": "C",
                  "cat9": "L",
                  "cont0": 0.8751491750790875,
                  "cont1": 0.7636877170968267,
                  "cont2": 0.329734547639988,
                  "cont3": 0.2061056544555347,
                  "cont4": 0.2790866458820759,
                  "cont5": 0.8409547924533916,
                  "cont6": 0.7739878053829043,
                  "cont7": 0.9175471463184506,
                  "cont8": 0.6603903498322661,
                  "cont9": 0.7953862178058583,
                  "cont10": 0.7207781404030681,
                  "cont11": 0.8065985143512371,
                  "cont12": 0.7975927568513317,
                  "cont13": 0.5801456447003929,
                  "target": 8.209239459497285,
                  "_deepnote_index_column": 49990
                },
                {
                  "cat0": "A",
                  "cat1": "B",
                  "cat2": "A",
                  "cat3": "A",
                  "cat4": "B",
                  "cat5": "B",
                  "cat6": "A",
                  "cat7": "E",
                  "cat8": "E",
                  "cat9": "L",
                  "cont0": 0.3070442987952669,
                  "cont1": 0.6831888963308492,
                  "cont2": 0.4684589517386613,
                  "cont3": 0.3498472955287245,
                  "cont4": 0.6620041717455409,
                  "cont5": 0.3846908568213372,
                  "cont6": 0.9551143269496464,
                  "cont7": 0.3520303168109089,
                  "cont8": 0.3721682431384918,
                  "cont9": 0.3640734799280113,
                  "cont10": 0.4359457749660082,
                  "cont11": 0.352273499499369,
                  "cont12": 0.3401244536017943,
                  "cont13": 0.8178846237362486,
                  "target": 8.366042126927999,
                  "_deepnote_index_column": 49991
                },
                {
                  "cat0": "B",
                  "cat1": "A",
                  "cat2": "A",
                  "cat3": "A",
                  "cat4": "B",
                  "cat5": "D",
                  "cat6": "A",
                  "cat7": "E",
                  "cat8": "E",
                  "cat9": "F",
                  "cont0": 0.4702492427777928,
                  "cont1": 0.4204093734189773,
                  "cont2": 0.5029741471210015,
                  "cont3": 0.2221909449422196,
                  "cont4": 0.2802696068735509,
                  "cont5": 0.6042149981072231,
                  "cont6": 0.2634901051227897,
                  "cont7": 0.7348103837148291,
                  "cont8": 0.5145584986713525,
                  "cont9": 0.3385628878274061,
                  "cont10": 0.7356462395142622,
                  "cont11": 0.3701158308050786,
                  "cont12": 0.6977863775137148,
                  "cont13": 0.2410414106444303,
                  "target": 7.054373706200286,
                  "_deepnote_index_column": 49992
                },
                {
                  "cat0": "A",
                  "cat1": "A",
                  "cat2": "A",
                  "cat3": "A",
                  "cat4": "A",
                  "cat5": "D",
                  "cat6": "A",
                  "cat7": "E",
                  "cat8": "C",
                  "cat9": "H",
                  "cont0": 0.4852181496164617,
                  "cont1": 0.7358330068985927,
                  "cont2": 0.5685429359652225,
                  "cont3": 0.2021657562643748,
                  "cont4": 0.4203629083039389,
                  "cont5": 0.6916052632207237,
                  "cont6": 0.3928910868185707,
                  "cont7": 0.250552981504322,
                  "cont8": 0.4405091013220309,
                  "cont9": 0.9059872595065208,
                  "cont10": 0.4799679033162833,
                  "cont11": 0.3884367433209064,
                  "cont12": 0.6746491350929581,
                  "cont13": 0.200149336687923,
                  "target": 7.148774497378732,
                  "_deepnote_index_column": 49993
                },
                {
                  "cat0": "A",
                  "cat1": "A",
                  "cat2": "A",
                  "cat3": "A",
                  "cat4": "B",
                  "cat5": "B",
                  "cat6": "A",
                  "cat7": "E",
                  "cat8": "C",
                  "cat9": "I",
                  "cont0": 0.5049561731531692,
                  "cont1": 0.7553303994434811,
                  "cont2": 0.3977708671766238,
                  "cont3": 0.3820497023758609,
                  "cont4": 0.2804520978797904,
                  "cont5": 0.4397120359641576,
                  "cont6": 0.7168303781828703,
                  "cont7": 0.3344899943145652,
                  "cont8": 0.4481472018162959,
                  "cont9": 0.5005847794741287,
                  "cont10": 0.5836611675525516,
                  "cont11": 0.8057123524789889,
                  "cont12": 0.3188377323234841,
                  "cont13": 0.8003021262697699,
                  "target": 6.794917044844299,
                  "_deepnote_index_column": 49994
                },
                {
                  "cat0": "A",
                  "cat1": "B",
                  "cat2": "A",
                  "cat3": "A",
                  "cat4": "B",
                  "cat5": "B",
                  "cat6": "A",
                  "cat7": "E",
                  "cat8": "E",
                  "cat9": "F",
                  "cont0": 0.2674054704869228,
                  "cont1": 0.6546257836163775,
                  "cont2": 0.50830508603209,
                  "cont3": 0.2299465760698923,
                  "cont4": 0.7577704889570126,
                  "cont5": 0.2569709000138624,
                  "cont6": 0.336571378287495,
                  "cont7": 0.7413555820857998,
                  "cont8": 0.2563413973114564,
                  "cont9": 0.3186649005979559,
                  "cont10": 0.3545033352717716,
                  "cont11": 0.7282791771631985,
                  "cont12": 0.2547454484974951,
                  "cont13": 0.807722358407086,
                  "target": 7.682357086708842,
                  "_deepnote_index_column": 49995
                },
                {
                  "cat0": "A",
                  "cat1": "A",
                  "cat2": "A",
                  "cat3": "C",
                  "cat4": "B",
                  "cat5": "B",
                  "cat6": "A",
                  "cat7": "E",
                  "cat8": "C",
                  "cat9": "F",
                  "cont0": 0.4970449727305849,
                  "cont1": 0.4839560717697208,
                  "cont2": 0.7094743484258513,
                  "cont3": 0.2226044601316236,
                  "cont4": 0.2796354508127125,
                  "cont5": 0.3582574033706001,
                  "cont6": 0.4051087969470583,
                  "cont7": 0.3493586130876188,
                  "cont8": 0.4247985684152692,
                  "cont9": 0.6485999979887133,
                  "cont10": 0.6972095770755677,
                  "cont11": 0.2047423856333293,
                  "cont12": 0.356191236352844,
                  "cont13": 0.6723983666645148,
                  "target": 7.777741899852443,
                  "_deepnote_index_column": 49996
                },
                {
                  "cat0": "A",
                  "cat1": "B",
                  "cat2": "A",
                  "cat3": "A",
                  "cat4": "B",
                  "cat5": "D",
                  "cat6": "A",
                  "cat7": "E",
                  "cat8": "E",
                  "cat9": "F",
                  "cont0": 0.1104686974977313,
                  "cont1": 0.4201768648885388,
                  "cont2": 0.262292443927332,
                  "cont3": 0.4209666034668008,
                  "cont4": 0.2840407179523621,
                  "cont5": 0.911445980638096,
                  "cont6": 0.2209750267601098,
                  "cont7": 0.6663411678504899,
                  "cont8": 0.3190338097106154,
                  "cont9": 0.1469329392104721,
                  "cont10": 0.3588083592138181,
                  "cont11": 0.2469612272780793,
                  "cont12": 0.4941667181405349,
                  "cont13": 0.6714261447744081,
                  "target": 7.983617797952085,
                  "_deepnote_index_column": 49997
                },
                {
                  "cat0": "A",
                  "cat1": "B",
                  "cat2": "A",
                  "cat3": "D",
                  "cat4": "B",
                  "cat5": "D",
                  "cat6": "A",
                  "cat7": "E",
                  "cat8": "G",
                  "cat9": "L",
                  "cont0": 0.4595394339212849,
                  "cont1": 0.7651503545388448,
                  "cont2": 0.5625867943864505,
                  "cont3": 0.2500454392014061,
                  "cont4": 0.2796310447537955,
                  "cont5": 0.6956200604139555,
                  "cont6": 0.3988524732650005,
                  "cont7": 0.6435994206450398,
                  "cont8": 0.3136637330481503,
                  "cont9": 0.5874184618685608,
                  "cont10": 0.3035316780061411,
                  "cont11": 0.6780209289101865,
                  "cont12": 0.3727876523648712,
                  "cont13": 0.2737255548736997,
                  "target": 7.001852077505769,
                  "_deepnote_index_column": 49998
                },
                {
                  "cat0": "A",
                  "cat1": "B",
                  "cat2": "B",
                  "cat3": "C",
                  "cat4": "B",
                  "cat5": "D",
                  "cat6": "A",
                  "cat7": "D",
                  "cat8": "C",
                  "cat9": "I",
                  "cont0": 0.5107457789542724,
                  "cont1": 0.7189671445937513,
                  "cont2": 0.6708250727876165,
                  "cont3": 0.392730523441217,
                  "cont4": 0.2783518638122276,
                  "cont5": 0.3873573365481204,
                  "cont6": 0.5912010162944705,
                  "cont7": 0.2929434037100806,
                  "cont8": 0.5288110455298115,
                  "cont9": 0.3710244055875128,
                  "cont10": 0.7218779282599374,
                  "cont11": 0.7330996710916388,
                  "cont12": 0.7233078657263539,
                  "cont13": 0.7999812339093497,
                  "target": 9.15109293131735,
                  "_deepnote_index_column": 49999
                }
              ]
            },
            "text/plain": "      cat0 cat1 cat2 cat3 cat4 cat5 cat6 cat7 cat8 cat9  ...     cont5  \\\n0        A    B    A    A    B    D    A    E    C    I  ...  0.881122   \n1        B    A    A    A    B    B    A    E    A    F  ...  0.440011   \n2        A    A    A    C    B    D    A    B    C    N  ...  0.914155   \n3        A    A    A    C    B    D    A    E    G    K  ...  0.934138   \n4        A    B    A    A    B    B    A    E    C    F  ...  0.382600   \n...    ...  ...  ...  ...  ...  ...  ...  ...  ...  ...  ...       ...   \n49995    A    B    A    A    B    B    A    E    E    F  ...  0.256971   \n49996    A    A    A    C    B    B    A    E    C    F  ...  0.358257   \n49997    A    B    A    A    B    D    A    E    E    F  ...  0.911446   \n49998    A    B    A    D    B    D    A    E    G    L  ...  0.695620   \n49999    A    B    B    C    B    D    A    D    C    I  ...  0.387357   \n\n          cont6     cont7     cont8     cont9    cont10    cont11    cont12  \\\n0      0.421650  0.741413  0.895799  0.802461  0.724417  0.701915  0.877618   \n1      0.346230  0.278495  0.593413  0.546056  0.613252  0.741289  0.326679   \n2      0.369602  0.832564  0.865620  0.825251  0.264104  0.695561  0.869133   \n3      0.578930  0.407313  0.868099  0.794402  0.494269  0.698125  0.809799   \n4      0.705940  0.325193  0.440967  0.462146  0.724447  0.683073  0.343457   \n...         ...       ...       ...       ...       ...       ...       ...   \n49995  0.336571  0.741356  0.256341  0.318665  0.354503  0.728279  0.254745   \n49996  0.405109  0.349359  0.424799  0.648600  0.697210  0.204742  0.356191   \n49997  0.220975  0.666341  0.319034  0.146933  0.358808  0.246961  0.494167   \n49998  0.398852  0.643599  0.313664  0.587418  0.303532  0.678021  0.372788   \n49999  0.591201  0.292943  0.528811  0.371024  0.721878  0.733100  0.723308   \n\n         cont13    target  \n0      0.719903  6.994023  \n1      0.808464  8.071256  \n2      0.828352  5.760456  \n3      0.614766  7.806457  \n4      0.297743  6.868974  \n...         ...       ...  \n49995  0.807722  7.682357  \n49996  0.672398  7.777742  \n49997  0.671426  7.983618  \n49998  0.273726  7.001852  \n49999  0.799981  9.151093  \n\n[50000 rows x 25 columns]",
            "text/html": "<div>\n<style scoped>\n    .dataframe tbody tr th:only-of-type {\n        vertical-align: middle;\n    }\n\n    .dataframe tbody tr th {\n        vertical-align: top;\n    }\n\n    .dataframe thead th {\n        text-align: right;\n    }\n</style>\n<table border=\"1\" class=\"dataframe\">\n  <thead>\n    <tr style=\"text-align: right;\">\n      <th></th>\n      <th>cat0</th>\n      <th>cat1</th>\n      <th>cat2</th>\n      <th>cat3</th>\n      <th>cat4</th>\n      <th>cat5</th>\n      <th>cat6</th>\n      <th>cat7</th>\n      <th>cat8</th>\n      <th>cat9</th>\n      <th>...</th>\n      <th>cont5</th>\n      <th>cont6</th>\n      <th>cont7</th>\n      <th>cont8</th>\n      <th>cont9</th>\n      <th>cont10</th>\n      <th>cont11</th>\n      <th>cont12</th>\n      <th>cont13</th>\n      <th>target</th>\n    </tr>\n  </thead>\n  <tbody>\n    <tr>\n      <th>0</th>\n      <td>A</td>\n      <td>B</td>\n      <td>A</td>\n      <td>A</td>\n      <td>B</td>\n      <td>D</td>\n      <td>A</td>\n      <td>E</td>\n      <td>C</td>\n      <td>I</td>\n      <td>...</td>\n      <td>0.881122</td>\n      <td>0.421650</td>\n      <td>0.741413</td>\n      <td>0.895799</td>\n      <td>0.802461</td>\n      <td>0.724417</td>\n      <td>0.701915</td>\n      <td>0.877618</td>\n      <td>0.719903</td>\n      <td>6.994023</td>\n    </tr>\n    <tr>\n      <th>1</th>\n      <td>B</td>\n      <td>A</td>\n      <td>A</td>\n      <td>A</td>\n      <td>B</td>\n      <td>B</td>\n      <td>A</td>\n      <td>E</td>\n      <td>A</td>\n      <td>F</td>\n      <td>...</td>\n      <td>0.440011</td>\n      <td>0.346230</td>\n      <td>0.278495</td>\n      <td>0.593413</td>\n      <td>0.546056</td>\n      <td>0.613252</td>\n      <td>0.741289</td>\n      <td>0.326679</td>\n      <td>0.808464</td>\n      <td>8.071256</td>\n    </tr>\n    <tr>\n      <th>2</th>\n      <td>A</td>\n      <td>A</td>\n      <td>A</td>\n      <td>C</td>\n      <td>B</td>\n      <td>D</td>\n      <td>A</td>\n      <td>B</td>\n      <td>C</td>\n      <td>N</td>\n      <td>...</td>\n      <td>0.914155</td>\n      <td>0.369602</td>\n      <td>0.832564</td>\n      <td>0.865620</td>\n      <td>0.825251</td>\n      <td>0.264104</td>\n      <td>0.695561</td>\n      <td>0.869133</td>\n      <td>0.828352</td>\n      <td>5.760456</td>\n    </tr>\n    <tr>\n      <th>3</th>\n      <td>A</td>\n      <td>A</td>\n      <td>A</td>\n      <td>C</td>\n      <td>B</td>\n      <td>D</td>\n      <td>A</td>\n      <td>E</td>\n      <td>G</td>\n      <td>K</td>\n      <td>...</td>\n      <td>0.934138</td>\n      <td>0.578930</td>\n      <td>0.407313</td>\n      <td>0.868099</td>\n      <td>0.794402</td>\n      <td>0.494269</td>\n      <td>0.698125</td>\n      <td>0.809799</td>\n      <td>0.614766</td>\n      <td>7.806457</td>\n    </tr>\n    <tr>\n      <th>4</th>\n      <td>A</td>\n      <td>B</td>\n      <td>A</td>\n      <td>A</td>\n      <td>B</td>\n      <td>B</td>\n      <td>A</td>\n      <td>E</td>\n      <td>C</td>\n      <td>F</td>\n      <td>...</td>\n      <td>0.382600</td>\n      <td>0.705940</td>\n      <td>0.325193</td>\n      <td>0.440967</td>\n      <td>0.462146</td>\n      <td>0.724447</td>\n      <td>0.683073</td>\n      <td>0.343457</td>\n      <td>0.297743</td>\n      <td>6.868974</td>\n    </tr>\n    <tr>\n      <th>...</th>\n      <td>...</td>\n      <td>...</td>\n      <td>...</td>\n      <td>...</td>\n      <td>...</td>\n      <td>...</td>\n      <td>...</td>\n      <td>...</td>\n      <td>...</td>\n      <td>...</td>\n      <td>...</td>\n      <td>...</td>\n      <td>...</td>\n      <td>...</td>\n      <td>...</td>\n      <td>...</td>\n      <td>...</td>\n      <td>...</td>\n      <td>...</td>\n      <td>...</td>\n      <td>...</td>\n    </tr>\n    <tr>\n      <th>49995</th>\n      <td>A</td>\n      <td>B</td>\n      <td>A</td>\n      <td>A</td>\n      <td>B</td>\n      <td>B</td>\n      <td>A</td>\n      <td>E</td>\n      <td>E</td>\n      <td>F</td>\n      <td>...</td>\n      <td>0.256971</td>\n      <td>0.336571</td>\n      <td>0.741356</td>\n      <td>0.256341</td>\n      <td>0.318665</td>\n      <td>0.354503</td>\n      <td>0.728279</td>\n      <td>0.254745</td>\n      <td>0.807722</td>\n      <td>7.682357</td>\n    </tr>\n    <tr>\n      <th>49996</th>\n      <td>A</td>\n      <td>A</td>\n      <td>A</td>\n      <td>C</td>\n      <td>B</td>\n      <td>B</td>\n      <td>A</td>\n      <td>E</td>\n      <td>C</td>\n      <td>F</td>\n      <td>...</td>\n      <td>0.358257</td>\n      <td>0.405109</td>\n      <td>0.349359</td>\n      <td>0.424799</td>\n      <td>0.648600</td>\n      <td>0.697210</td>\n      <td>0.204742</td>\n      <td>0.356191</td>\n      <td>0.672398</td>\n      <td>7.777742</td>\n    </tr>\n    <tr>\n      <th>49997</th>\n      <td>A</td>\n      <td>B</td>\n      <td>A</td>\n      <td>A</td>\n      <td>B</td>\n      <td>D</td>\n      <td>A</td>\n      <td>E</td>\n      <td>E</td>\n      <td>F</td>\n      <td>...</td>\n      <td>0.911446</td>\n      <td>0.220975</td>\n      <td>0.666341</td>\n      <td>0.319034</td>\n      <td>0.146933</td>\n      <td>0.358808</td>\n      <td>0.246961</td>\n      <td>0.494167</td>\n      <td>0.671426</td>\n      <td>7.983618</td>\n    </tr>\n    <tr>\n      <th>49998</th>\n      <td>A</td>\n      <td>B</td>\n      <td>A</td>\n      <td>D</td>\n      <td>B</td>\n      <td>D</td>\n      <td>A</td>\n      <td>E</td>\n      <td>G</td>\n      <td>L</td>\n      <td>...</td>\n      <td>0.695620</td>\n      <td>0.398852</td>\n      <td>0.643599</td>\n      <td>0.313664</td>\n      <td>0.587418</td>\n      <td>0.303532</td>\n      <td>0.678021</td>\n      <td>0.372788</td>\n      <td>0.273726</td>\n      <td>7.001852</td>\n    </tr>\n    <tr>\n      <th>49999</th>\n      <td>A</td>\n      <td>B</td>\n      <td>B</td>\n      <td>C</td>\n      <td>B</td>\n      <td>D</td>\n      <td>A</td>\n      <td>D</td>\n      <td>C</td>\n      <td>I</td>\n      <td>...</td>\n      <td>0.387357</td>\n      <td>0.591201</td>\n      <td>0.292943</td>\n      <td>0.528811</td>\n      <td>0.371024</td>\n      <td>0.721878</td>\n      <td>0.733100</td>\n      <td>0.723308</td>\n      <td>0.799981</td>\n      <td>9.151093</td>\n    </tr>\n  </tbody>\n</table>\n<p>50000 rows × 25 columns</p>\n</div>"
          },
          "metadata": {}
        }
      ]
    },
    {
      "cell_type": "code",
      "metadata": {
        "deletable": false,
        "editable": false,
        "nbgrader": {
          "cell_type": "code",
          "checksum": "3a65c53efee5c6fb13a948c4a711c409",
          "grade": true,
          "grade_id": "cell-6d044ab7181322e1",
          "locked": true,
          "points": 1,
          "schema_version": 3,
          "solution": false,
          "task": false
        },
        "cell_id": "00007-176a8ab5-c167-4946-af6d-3f0df02eaccb",
        "deepnote_to_be_reexecuted": false,
        "source_hash": "ea4c6212",
        "execution_start": 1620217897084,
        "execution_millis": 20,
        "deepnote_cell_type": "code"
      },
      "source": "assert dfs.shape == (50000,25)",
      "execution_count": 35,
      "outputs": []
    },
    {
      "cell_type": "markdown",
      "source": "### There are no missings in this dataset",
      "metadata": {
        "cell_id": "00008-9be30b0a-51e1-4fc4-bc20-d2fefd459475",
        "deepnote_cell_type": "markdown"
      }
    },
    {
      "cell_type": "code",
      "metadata": {
        "cell_id": "00009-af71340b-b70e-4aa4-b820-cc807fd6985e",
        "deepnote_to_be_reexecuted": false,
        "source_hash": "1c0c1492",
        "execution_start": 1620217921121,
        "execution_millis": 478,
        "deepnote_cell_type": "code"
      },
      "source": "df.isna().sum().sum(), df_t.isna().sum().sum()",
      "execution_count": 36,
      "outputs": [
        {
          "output_type": "execute_result",
          "execution_count": 36,
          "data": {
            "text/plain": "(0, 0)"
          },
          "metadata": {}
        }
      ]
    },
    {
      "cell_type": "code",
      "metadata": {
        "cell_id": "00010-a27825a8-adae-4870-aeaa-3ed6b5de94b7",
        "deepnote_to_be_reexecuted": false,
        "source_hash": "25d43fa0",
        "execution_start": 1620217923189,
        "execution_millis": 39,
        "deepnote_cell_type": "code"
      },
      "source": "df.columns",
      "execution_count": 37,
      "outputs": [
        {
          "output_type": "execute_result",
          "execution_count": 37,
          "data": {
            "text/plain": "Index(['cat0', 'cat1', 'cat2', 'cat3', 'cat4', 'cat5', 'cat6', 'cat7', 'cat8',\n       'cat9', 'cont0', 'cont1', 'cont2', 'cont3', 'cont4', 'cont5', 'cont6',\n       'cont7', 'cont8', 'cont9', 'cont10', 'cont11', 'cont12', 'cont13',\n       'target'],\n      dtype='object')"
          },
          "metadata": {}
        }
      ]
    },
    {
      "cell_type": "markdown",
      "source": "### Define variables for x and y",
      "metadata": {
        "cell_id": "00011-ebd00fa9-946b-477a-b503-962ab33960ad",
        "deepnote_cell_type": "markdown"
      }
    },
    {
      "cell_type": "code",
      "metadata": {
        "deletable": false,
        "nbgrader": {
          "cell_type": "code",
          "checksum": "9da5eb270c24b61b947f95901ab01244",
          "grade": false,
          "grade_id": "cell-798649ceac290b47",
          "locked": false,
          "schema_version": 3,
          "solution": true,
          "task": false
        },
        "cell_id": "00012-a3b04284-b52e-4197-9f55-4cb5d3b15e9e",
        "deepnote_to_be_reexecuted": false,
        "source_hash": "66f9fb5f",
        "execution_start": 1620218277119,
        "execution_millis": 22,
        "deepnote_cell_type": "code"
      },
      "source": "cat_vars = ['cat0', 'cat1', 'cat2', 'cat3', 'cat4', 'cat5', 'cat6', 'cat7', 'cat8', 'cat9']\nnum_vars = ['cont0', 'cont1', 'cont2', 'cont3',  'cont4',  'cont5',  'cont6',\n            'cont7', 'cont8', 'cont9', 'cont10', 'cont11', 'cont12', 'cont13']\n\n# 1 point \n# store in X all the categorical and numerical columns\n# store in Y the target\n\n\n# YOUR CODE HERE\nx = dfs[cat_vars+num_vars]\ny = dfs[[\"target\"]].to_numpy()\ny=np.reshape(y,(50000,))\ny.shape",
      "execution_count": 51,
      "outputs": [
        {
          "output_type": "execute_result",
          "execution_count": 51,
          "data": {
            "text/plain": "(50000,)"
          },
          "metadata": {}
        }
      ]
    },
    {
      "cell_type": "code",
      "metadata": {
        "deletable": false,
        "editable": false,
        "nbgrader": {
          "cell_type": "code",
          "checksum": "d43a4e2c399b56436b32dbc7502477e0",
          "grade": true,
          "grade_id": "cell-a12e77048aa686c4",
          "locked": true,
          "points": 1,
          "schema_version": 3,
          "solution": false,
          "task": false
        },
        "cell_id": "00013-1303bdbb-af7d-4c2e-b6c5-b8e5f1f7ae55",
        "deepnote_to_be_reexecuted": false,
        "source_hash": "e13f21dc",
        "execution_start": 1620218278458,
        "execution_millis": 0,
        "deepnote_cell_type": "code"
      },
      "source": "assert x.shape == (50000,24)\nassert y.shape == (50000,)",
      "execution_count": 52,
      "outputs": []
    },
    {
      "cell_type": "markdown",
      "source": "### See the target variable ([The metric is RMSE](https://www.kaggle.com/c/tabular-playground-series-feb-2021/overview/evaluation))",
      "metadata": {
        "cell_id": "00014-eab76eb4-152d-4951-97cc-15960633e677",
        "deepnote_cell_type": "markdown"
      }
    },
    {
      "cell_type": "code",
      "metadata": {
        "cell_id": "00015-ec9ccccb-c35b-4804-8732-6b952676964a",
        "deepnote_to_be_reexecuted": false,
        "source_hash": "19bbce39",
        "execution_start": 1620218282504,
        "execution_millis": 1868,
        "deepnote_cell_type": "code"
      },
      "source": "df.target.plot.hist(bins=500);",
      "execution_count": 53,
      "outputs": [
        {
          "data": {
            "text/plain": "<Figure size 432x288 with 1 Axes>",
            "image/png": "[encoded data removed]"
          },
          "metadata": {
            "needs_background": "light",
            "image/png": {
              "width": 395,
              "height": 248
            }
          },
          "output_type": "display_data"
        }
      ]
    },
    {
      "cell_type": "markdown",
      "source": "### See the numerical variables",
      "metadata": {
        "cell_id": "00016-306381e8-91a6-42cb-8087-9bf52137d3b9",
        "deepnote_cell_type": "markdown"
      }
    },
    {
      "cell_type": "code",
      "metadata": {
        "cell_id": "00017-2357a0b1-7d41-4085-a389-f8301c0d0e87",
        "deepnote_to_be_reexecuted": false,
        "source_hash": "262b6310",
        "execution_start": 1620218334492,
        "execution_millis": 24596,
        "deepnote_cell_type": "code"
      },
      "source": "for var in num_vars:\n    df[var].plot.hist(bins=500)\n    plt.show();",
      "execution_count": 54,
      "outputs": [
        {
          "data": {
            "text/plain": "<Figure size 432x288 with 1 Axes>",
            "image/png": "[encoded data removed]"
          },
          "metadata": {
            "needs_background": "light",
            "image/png": {
              "width": 395,
              "height": 248
            }
          },
          "output_type": "display_data"
        },
        {
          "data": {
            "text/plain": "<Figure size 432x288 with 1 Axes>",
            "image/png": "[encoded data removed]"
          },
          "metadata": {
            "needs_background": "light",
            "image/png": {
              "width": 401,
              "height": 248
            }
          },
          "output_type": "display_data"
        },
        {
          "data": {
            "text/plain": "<Figure size 432x288 with 1 Axes>",
            "image/png": "[encoded data removed]"
          },
          "metadata": {
            "needs_background": "light",
            "image/png": {
              "width": 395,
              "height": 248
            }
          },
          "output_type": "display_data"
        },
        {
          "data": {
            "text/plain": "<Figure size 432x288 with 1 Axes>",
            "image/png": "[encoded data removed]"
          },
          "metadata": {
            "needs_background": "light",
            "image/png": {
              "width": 395,
              "height": 248
            }
          },
          "output_type": "display_data"
        },
        {
          "data": {
            "text/plain": "<Figure size 432x288 with 1 Axes>",
            "image/png": "[encoded data removed]"
          },
          "metadata": {
            "needs_background": "light",
            "image/png": {
              "width": 401,
              "height": 248
            }
          },
          "output_type": "display_data"
        },
        {
          "data": {
            "text/plain": "<Figure size 432x288 with 1 Axes>",
            "image/png": "[encoded data removed]"
          },
          "metadata": {
            "needs_background": "light",
            "image/png": {
              "width": 395,
              "height": 248
            }
          },
          "output_type": "display_data"
        },
        {
          "data": {
            "text/plain": "<Figure size 432x288 with 1 Axes>",
            "image/png": "[encoded data removed]"
          },
          "metadata": {
            "needs_background": "light",
            "image/png": {
              "width": 395,
              "height": 248
            }
          },
          "output_type": "display_data"
        },
        {
          "data": {
            "text/plain": "<Figure size 432x288 with 1 Axes>",
            "image/png": "[encoded data removed]"
          },
          "metadata": {
            "needs_background": "light",
            "image/png": {
              "width": 395,
              "height": 252
            }
          },
          "output_type": "display_data"
        },
        {
          "data": {
            "text/plain": "<Figure size 432x288 with 1 Axes>",
            "image/png": "[encoded data removed]"
          },
          "metadata": {
            "needs_background": "light",
            "image/png": {
              "width": 395,
              "height": 248
            }
          },
          "output_type": "display_data"
        },
        {
          "data": {
            "text/plain": "<Figure size 432x288 with 1 Axes>",
            "image/png": "[encoded data removed]"
          },
          "metadata": {
            "needs_background": "light",
            "image/png": {
              "width": 397,
              "height": 248
            }
          },
          "output_type": "display_data"
        },
        {
          "data": {
            "text/plain": "<Figure size 432x288 with 1 Axes>",
            "image/png": "[encoded data removed]"
          },
          "metadata": {
            "needs_background": "light",
            "image/png": {
              "width": 395,
              "height": 248
            }
          },
          "output_type": "display_data"
        },
        {
          "data": {
            "text/plain": "<Figure size 432x288 with 1 Axes>",
            "image/png": "[encoded data removed]"
          },
          "metadata": {
            "needs_background": "light",
            "image/png": {
              "width": 395,
              "height": 248
            }
          },
          "output_type": "display_data"
        },
        {
          "data": {
            "text/plain": "<Figure size 432x288 with 1 Axes>",
            "image/png": "[encoded data removed]"
          },
          "metadata": {
            "needs_background": "light",
            "image/png": {
              "width": 400,
              "height": 248
            }
          },
          "output_type": "display_data"
        },
        {
          "data": {
            "text/plain": "<Figure size 432x288 with 1 Axes>",
            "image/png": "[encoded data removed]"
          },
          "metadata": {
            "needs_background": "light",
            "image/png": {
              "width": 399,
              "height": 252
            }
          },
          "output_type": "display_data"
        }
      ]
    },
    {
      "cell_type": "markdown",
      "source": "### See the categorical variables (ypu can use `bar()`, `barh()` or `.pie()`)",
      "metadata": {
        "cell_id": "00018-5dc2cda7-b899-4533-ae00-0701a9c815de",
        "deepnote_cell_type": "markdown"
      }
    },
    {
      "cell_type": "code",
      "metadata": {
        "cell_id": "00019-214760f4-b9d1-4f48-9889-5df8ec7dbd73",
        "deepnote_to_be_reexecuted": false,
        "source_hash": "35f33322",
        "execution_start": 1620218427882,
        "execution_millis": 2599,
        "deepnote_cell_type": "code"
      },
      "source": "for var in cat_vars:\n    df[var].value_counts().plot.bar()\n    #df[var].value_counts().plot.barh()\n    #df[var].value_counts().plot.pie()\n    plt.show();",
      "execution_count": 57,
      "outputs": [
        {
          "data": {
            "text/plain": "<Figure size 432x288 with 1 Axes>",
            "image/png": "[encoded data removed]"
          },
          "metadata": {
            "needs_background": "light",
            "image/png": {
              "width": 393,
              "height": 245
            }
          },
          "output_type": "display_data"
        },
        {
          "data": {
            "text/plain": "<Figure size 432x288 with 1 Axes>",
            "image/png": "[encoded data removed]"
          },
          "metadata": {
            "needs_background": "light",
            "image/png": {
              "width": 393,
              "height": 245
            }
          },
          "output_type": "display_data"
        },
        {
          "data": {
            "text/plain": "<Figure size 432x288 with 1 Axes>",
            "image/png": "[encoded data removed]"
          },
          "metadata": {
            "needs_background": "light",
            "image/png": {
              "width": 393,
              "height": 245
            }
          },
          "output_type": "display_data"
        },
        {
          "data": {
            "text/plain": "<Figure size 432x288 with 1 Axes>",
            "image/png": "[encoded data removed]"
          },
          "metadata": {
            "needs_background": "light",
            "image/png": {
              "width": 394,
              "height": 246
            }
          },
          "output_type": "display_data"
        },
        {
          "data": {
            "text/plain": "<Figure size 432x288 with 1 Axes>",
            "image/png": "[encoded data removed]"
          },
          "metadata": {
            "needs_background": "light",
            "image/png": {
              "width": 393,
              "height": 246
            }
          },
          "output_type": "display_data"
        },
        {
          "data": {
            "text/plain": "<Figure size 432x288 with 1 Axes>",
            "image/png": "[encoded data removed]"
          },
          "metadata": {
            "needs_background": "light",
            "image/png": {
              "width": 393,
              "height": 246
            }
          },
          "output_type": "display_data"
        },
        {
          "data": {
            "text/plain": "<Figure size 432x288 with 1 Axes>",
            "image/png": "[encoded data removed]"
          },
          "metadata": {
            "needs_background": "light",
            "image/png": {
              "width": 393,
              "height": 246
            }
          },
          "output_type": "display_data"
        },
        {
          "data": {
            "text/plain": "<Figure size 432x288 with 1 Axes>",
            "image/png": "[encoded data removed]"
          },
          "metadata": {
            "needs_background": "light",
            "image/png": {
              "width": 393,
              "height": 246
            }
          },
          "output_type": "display_data"
        },
        {
          "data": {
            "text/plain": "<Figure size 432x288 with 1 Axes>",
            "image/png": "[encoded data removed]"
          },
          "metadata": {
            "needs_background": "light",
            "image/png": {
              "width": 393,
              "height": 246
            }
          },
          "output_type": "display_data"
        },
        {
          "data": {
            "text/plain": "<Figure size 432x288 with 1 Axes>",
            "image/png": "[encoded data removed]"
          },
          "metadata": {
            "needs_background": "light",
            "image/png": {
              "width": 393,
              "height": 247
            }
          },
          "output_type": "display_data"
        }
      ]
    },
    {
      "cell_type": "markdown",
      "source": "# Exercise 1 (2 pts)\n\nCreate the `ColumTransformer` for **models based on multiplications and distances**:\n- Pipeline for numerical variables (`num_vars`): `Standardscaler()` or `QuantileTransformer(n_quantiles=100, output_distribution='normal')`\n- Pipeline for categorical variables (`cat_vars`): `OneHotEncoder(handle_unknown='ignore')`",
      "metadata": {
        "cell_id": "00020-16d5b88c-de75-4c85-9921-8d437ab3efda",
        "deepnote_cell_type": "markdown"
      }
    },
    {
      "cell_type": "code",
      "metadata": {
        "deletable": false,
        "nbgrader": {
          "cell_type": "code",
          "checksum": "10d603101a3a872dc52bf1a241871cf9",
          "grade": false,
          "grade_id": "cell-1bcb9c03884767e0",
          "locked": false,
          "schema_version": 3,
          "solution": true,
          "task": false
        },
        "cell_id": "00021-b99e6a6b-aaa7-4a74-afb8-b932d5cb2463",
        "deepnote_to_be_reexecuted": false,
        "source_hash": "6217f11f",
        "execution_start": 1620218975392,
        "execution_millis": 73,
        "deepnote_cell_type": "code"
      },
      "source": "# YOUR CODE HERE\ncat_4_Models = pipeline.Pipeline(steps=[\n    ('one hot', preprocessing.OneHotEncoder(handle_unknown='ignore'))])\n\n\nnum_4_Models=pipeline.Pipeline(steps=[\n    ((\"quantile transformer\",preprocessing.QuantileTransformer(n_quantiles=100, random_state=0,\n    output_distribution='normal')))])\n\n\n\ntree_prepro=compose.ColumnTransformer(transformers=[\n    (\"categorical\",cat_4_Models,cat_vars),\n    (\"numerical\",num_4_Models,num_vars)]) \n\ntree_prepro\n",
      "execution_count": 62,
      "outputs": [
        {
          "output_type": "execute_result",
          "execution_count": 62,
          "data": {
            "text/plain": "ColumnTransformer(transformers=[('categorical',\n                                 Pipeline(steps=[('one hot',\n                                                  OneHotEncoder(handle_unknown='ignore'))]),\n                                 ['cat0', 'cat1', 'cat2', 'cat3', 'cat4',\n                                  'cat5', 'cat6', 'cat7', 'cat8', 'cat9']),\n                                ('numerical',\n                                 Pipeline(steps=[('quantile transformer',\n                                                  QuantileTransformer(n_quantiles=100,\n                                                                      output_distribution='normal',\n                                                                      random_state=0))]),\n                                 ['cont0', 'cont1', 'cont2', 'cont3', 'cont4',\n                                  'cont5', 'cont6', 'cont7', 'cont8', 'cont9',\n                                  'cont10', 'cont11', 'cont12', 'cont13'])])",
            "text/html": "<style>div.sk-top-container {color: black;background-color: white;}div.sk-toggleable {background-color: white;}label.sk-toggleable__label {cursor: pointer;display: block;width: 100%;margin-bottom: 0;padding: 0.2em 0.3em;box-sizing: border-box;text-align: center;}div.sk-toggleable__content {max-height: 0;max-width: 0;overflow: hidden;text-align: left;background-color: #f0f8ff;}div.sk-toggleable__content pre {margin: 0.2em;color: black;border-radius: 0.25em;background-color: #f0f8ff;}input.sk-toggleable__control:checked~div.sk-toggleable__content {max-height: 200px;max-width: 100%;overflow: auto;}div.sk-estimator input.sk-toggleable__control:checked~label.sk-toggleable__label {background-color: #d4ebff;}div.sk-label input.sk-toggleable__control:checked~label.sk-toggleable__label {background-color: #d4ebff;}input.sk-hidden--visually {border: 0;clip: rect(1px 1px 1px 1px);clip: rect(1px, 1px, 1px, 1px);height: 1px;margin: -1px;overflow: hidden;padding: 0;position: absolute;width: 1px;}div.sk-estimator {font-family: monospace;background-color: #f0f8ff;margin: 0.25em 0.25em;border: 1px dotted black;border-radius: 0.25em;box-sizing: border-box;}div.sk-estimator:hover {background-color: #d4ebff;}div.sk-parallel-item::after {content: \"\";width: 100%;border-bottom: 1px solid gray;flex-grow: 1;}div.sk-label:hover label.sk-toggleable__label {background-color: #d4ebff;}div.sk-serial::before {content: \"\";position: absolute;border-left: 1px solid gray;box-sizing: border-box;top: 2em;bottom: 0;left: 50%;}div.sk-serial {display: flex;flex-direction: column;align-items: center;background-color: white;}div.sk-item {z-index: 1;}div.sk-parallel {display: flex;align-items: stretch;justify-content: center;background-color: white;}div.sk-parallel-item {display: flex;flex-direction: column;position: relative;background-color: white;}div.sk-parallel-item:first-child::after {align-self: flex-end;width: 50%;}div.sk-parallel-item:last-child::after {align-self: flex-start;width: 50%;}div.sk-parallel-item:only-child::after {width: 0;}div.sk-dashed-wrapped {border: 1px dashed gray;margin: 0.2em;box-sizing: border-box;padding-bottom: 0.1em;background-color: white;position: relative;}div.sk-label label {font-family: monospace;font-weight: bold;background-color: white;display: inline-block;line-height: 1.2em;}div.sk-label-container {position: relative;z-index: 2;text-align: center;}div.sk-container {display: inline-block;position: relative;}</style><div class=\"sk-top-container\"><div class=\"sk-container\"><div class=\"sk-item sk-dashed-wrapped\"><div class=\"sk-label-container\"><div class=\"sk-label sk-toggleable\"><input class=\"sk-toggleable__control sk-hidden--visually\" id=\"b464623e-b27d-49e2-81bb-06ca69ac19e1\" type=\"checkbox\" ><label class=\"sk-toggleable__label\" for=\"b464623e-b27d-49e2-81bb-06ca69ac19e1\">ColumnTransformer</label><div class=\"sk-toggleable__content\"><pre>ColumnTransformer(transformers=[('categorical',\n                                 Pipeline(steps=[('one hot',\n                                                  OneHotEncoder(handle_unknown='ignore'))]),\n                                 ['cat0', 'cat1', 'cat2', 'cat3', 'cat4',\n                                  'cat5', 'cat6', 'cat7', 'cat8', 'cat9']),\n                                ('numerical',\n                                 Pipeline(steps=[('quantile transformer',\n                                                  QuantileTransformer(n_quantiles=100,\n                                                                      output_distribution='normal',\n                                                                      random_state=0))]),\n                                 ['cont0', 'cont1', 'cont2', 'cont3', 'cont4',\n                                  'cont5', 'cont6', 'cont7', 'cont8', 'cont9',\n                                  'cont10', 'cont11', 'cont12', 'cont13'])])</pre></div></div></div><div class=\"sk-parallel\"><div class=\"sk-parallel-item\"><div class=\"sk-item\"><div class=\"sk-label-container\"><div class=\"sk-label sk-toggleable\"><input class=\"sk-toggleable__control sk-hidden--visually\" id=\"747489b3-828e-4f2b-bcb3-761bbb865bd6\" type=\"checkbox\" ><label class=\"sk-toggleable__label\" for=\"747489b3-828e-4f2b-bcb3-761bbb865bd6\">categorical</label><div class=\"sk-toggleable__content\"><pre>['cat0', 'cat1', 'cat2', 'cat3', 'cat4', 'cat5', 'cat6', 'cat7', 'cat8', 'cat9']</pre></div></div></div><div class=\"sk-serial\"><div class=\"sk-item\"><div class=\"sk-serial\"><div class=\"sk-item\"><div class=\"sk-estimator sk-toggleable\"><input class=\"sk-toggleable__control sk-hidden--visually\" id=\"9e164001-47b7-4e19-9bd3-facab67f98f8\" type=\"checkbox\" ><label class=\"sk-toggleable__label\" for=\"9e164001-47b7-4e19-9bd3-facab67f98f8\">OneHotEncoder</label><div class=\"sk-toggleable__content\"><pre>OneHotEncoder(handle_unknown='ignore')</pre></div></div></div></div></div></div></div></div><div class=\"sk-parallel-item\"><div class=\"sk-item\"><div class=\"sk-label-container\"><div class=\"sk-label sk-toggleable\"><input class=\"sk-toggleable__control sk-hidden--visually\" id=\"48cfc60a-545b-4d5f-a63e-a2b520004879\" type=\"checkbox\" ><label class=\"sk-toggleable__label\" for=\"48cfc60a-545b-4d5f-a63e-a2b520004879\">numerical</label><div class=\"sk-toggleable__content\"><pre>['cont0', 'cont1', 'cont2', 'cont3', 'cont4', 'cont5', 'cont6', 'cont7', 'cont8', 'cont9', 'cont10', 'cont11', 'cont12', 'cont13']</pre></div></div></div><div class=\"sk-serial\"><div class=\"sk-item\"><div class=\"sk-serial\"><div class=\"sk-item\"><div class=\"sk-estimator sk-toggleable\"><input class=\"sk-toggleable__control sk-hidden--visually\" id=\"0f4b1377-fb8d-49d7-a872-89535802728e\" type=\"checkbox\" ><label class=\"sk-toggleable__label\" for=\"0f4b1377-fb8d-49d7-a872-89535802728e\">QuantileTransformer</label><div class=\"sk-toggleable__content\"><pre>QuantileTransformer(n_quantiles=100, output_distribution='normal',\n                    random_state=0)</pre></div></div></div></div></div></div></div></div></div></div></div></div>"
          },
          "metadata": {}
        }
      ]
    },
    {
      "cell_type": "code",
      "metadata": {
        "deletable": false,
        "editable": false,
        "nbgrader": {
          "cell_type": "code",
          "checksum": "84e1dc4290931eeee92c3c7fdc67732f",
          "grade": true,
          "grade_id": "cell-25faeb14cfb1e048",
          "locked": true,
          "points": 2,
          "schema_version": 3,
          "solution": false,
          "task": false
        },
        "cell_id": "00022-c76833cd-3420-4780-a50d-06b5adfdde4e",
        "deepnote_to_be_reexecuted": false,
        "source_hash": "13e25197",
        "execution_start": 1620218985843,
        "execution_millis": 10,
        "deepnote_cell_type": "code"
      },
      "source": "assert type(tree_prepro) is sklearn.compose._column_transformer.ColumnTransformer",
      "execution_count": 63,
      "outputs": []
    },
    {
      "cell_type": "markdown",
      "source": "# Exercise 2 (2 pts)\n\nCreate the `ColumTransformer` for **models based on trees**:\n- Pipeline for numerical variables (`num_vars`): **Do nothing**. Tip: You can use `remainder='passthrough'` when you create the `ColumTransformer`.\n- Pipeline for categorical variables (`cat_vars`): `OrdinalEncoder(handle_unknown='use_encoded_value', unknown_value=-1)[source]`",
      "metadata": {
        "cell_id": "00023-e15a807e-abd8-4e28-84c0-ec1bae7c22f7",
        "deepnote_cell_type": "markdown"
      }
    },
    {
      "cell_type": "code",
      "metadata": {
        "deletable": false,
        "nbgrader": {
          "cell_type": "code",
          "checksum": "1cd4cdd16f7ac771b2014244d76bc9b9",
          "grade": false,
          "grade_id": "cell-d5bc34b399dc8b7a",
          "locked": false,
          "schema_version": 3,
          "solution": true,
          "task": false
        },
        "cell_id": "00024-6754aeb1-6088-460d-ad48-9b75f1bde510",
        "deepnote_to_be_reexecuted": false,
        "source_hash": "289e0d26",
        "execution_start": 1620219401080,
        "execution_millis": 2,
        "deepnote_cell_type": "code"
      },
      "source": "# YOUR CODE HERE\n\n\nmult_prepro=tree_prepro",
      "execution_count": 65,
      "outputs": []
    },
    {
      "cell_type": "code",
      "metadata": {
        "deletable": false,
        "editable": false,
        "nbgrader": {
          "cell_type": "code",
          "checksum": "4b130d0f54fb35850e5bcea2bfd6794b",
          "grade": true,
          "grade_id": "cell-5938715b631f6081",
          "locked": true,
          "points": 2,
          "schema_version": 3,
          "solution": false,
          "task": false
        },
        "cell_id": "00025-1d1601c7-bbe5-488d-be8b-290e2f4b80ff",
        "deepnote_to_be_reexecuted": false,
        "source_hash": "b682750a",
        "execution_start": 1620219401953,
        "execution_millis": 5,
        "deepnote_cell_type": "code"
      },
      "source": "assert type(mult_prepro) is sklearn.compose._column_transformer.ColumnTransformer",
      "execution_count": 66,
      "outputs": []
    },
    {
      "cell_type": "markdown",
      "source": "## Exercise 3 (2pts)\nReasearch about som models and its hyperparamters",
      "metadata": {
        "cell_id": "00026-4be6c915-8e55-4863-b027-152a29f794bc",
        "deepnote_cell_type": "markdown"
      }
    },
    {
      "cell_type": "code",
      "source": "\nfrom sklearn.linear_model import LinearRegression\nfrom sklearn.linear_model import Ridge\nfrom sklearn import linear_model\nfrom sklearn.linear_model import ElasticNet\n\nfrom sklearn.tree import DecisionTreeRegressor\n\nfrom sklearn.ensemble import RandomForestRegressor\nfrom sklearn.ensemble import ExtraTreesRegressor\n\nfrom sklearn.ensemble import GradientBoostingRegressor\nfrom sklearn.ensemble import HistGradientBoostingRegressor\n",
      "metadata": {
        "tags": [],
        "cell_id": "00029-64be855b-ab61-437c-845c-130d9ee185bf",
        "deepnote_to_be_reexecuted": false,
        "source_hash": "2bd4ffbb",
        "execution_start": 1620221720040,
        "execution_millis": 2,
        "deepnote_cell_type": "code"
      },
      "outputs": [],
      "execution_count": 93
    },
    {
      "cell_type": "code",
      "metadata": {
        "deletable": false,
        "nbgrader": {
          "cell_type": "code",
          "checksum": "d7adbff0db3e9d7dd7008bbde13d756c",
          "grade": false,
          "grade_id": "cell-b3793d6c01aa98b1",
          "locked": false,
          "schema_version": 3,
          "solution": true,
          "task": false
        },
        "cell_id": "00027-22a66fdc-9a11-4794-8e1d-02c52ea2c48e",
        "deepnote_to_be_reexecuted": false,
        "source_hash": "2104b25a",
        "execution_start": 1620223258695,
        "execution_millis": 126,
        "deepnote_cell_type": "code"
      },
      "source": "# YOUR CODE HERE\nall_pipelines={\n    #\"Linear Regression\": LinearRegression(),\n    \"Ridge\": Ridge(alpha=1.0),\n    \"Lasso\": linear_model.Lasso(alpha=0.1),\n    \"Elastic Net\":ElasticNet(random_state=0),\n    \"Decision Tree Regressor\":DecisionTreeRegressor(max_depth=2),\n    \"Random Forest Regressor\":RandomForestRegressor(max_depth=2, random_state=0),\n    \"Extra Tree Regressor\":ExtraTreesRegressor(n_estimators=10, random_state=0),\n    \"Gradient Boosting Regressor\":GradientBoostingRegressor(random_state=0),\n    #\"Gradient Hist  Boosting Regressor\":HistGradientBoostingRegressor()\n    \n    }\n\nall_pipelines = {name: pipeline.make_pipeline(tree_prepro, model) for name, model in all_pipelines.items()}\n\nall_pipelines[\"Extra Tree Regressor\"]\n\n\n",
      "execution_count": 102,
      "outputs": [
        {
          "output_type": "execute_result",
          "execution_count": 102,
          "data": {
            "text/plain": "Pipeline(steps=[('columntransformer',\n                 ColumnTransformer(transformers=[('categorical',\n                                                  Pipeline(steps=[('one hot',\n                                                                   OneHotEncoder(handle_unknown='ignore'))]),\n                                                  ['cat0', 'cat1', 'cat2',\n                                                   'cat3', 'cat4', 'cat5',\n                                                   'cat6', 'cat7', 'cat8',\n                                                   'cat9']),\n                                                 ('numerical',\n                                                  Pipeline(steps=[('quantile '\n                                                                   'transformer',\n                                                                   QuantileTransformer(n_quantiles=100,\n                                                                                       output_distribution='normal',\n                                                                                       random_state=0))]),\n                                                  ['cont0', 'cont1', 'cont2',\n                                                   'cont3', 'cont4', 'cont5',\n                                                   'cont6', 'cont7', 'cont8',\n                                                   'cont9', 'cont10', 'cont11',\n                                                   'cont12', 'cont13'])])),\n                ('extratreesregressor',\n                 ExtraTreesRegressor(n_estimators=10, random_state=0))])",
            "text/html": "<style>div.sk-top-container {color: black;background-color: white;}div.sk-toggleable {background-color: white;}label.sk-toggleable__label {cursor: pointer;display: block;width: 100%;margin-bottom: 0;padding: 0.2em 0.3em;box-sizing: border-box;text-align: center;}div.sk-toggleable__content {max-height: 0;max-width: 0;overflow: hidden;text-align: left;background-color: #f0f8ff;}div.sk-toggleable__content pre {margin: 0.2em;color: black;border-radius: 0.25em;background-color: #f0f8ff;}input.sk-toggleable__control:checked~div.sk-toggleable__content {max-height: 200px;max-width: 100%;overflow: auto;}div.sk-estimator input.sk-toggleable__control:checked~label.sk-toggleable__label {background-color: #d4ebff;}div.sk-label input.sk-toggleable__control:checked~label.sk-toggleable__label {background-color: #d4ebff;}input.sk-hidden--visually {border: 0;clip: rect(1px 1px 1px 1px);clip: rect(1px, 1px, 1px, 1px);height: 1px;margin: -1px;overflow: hidden;padding: 0;position: absolute;width: 1px;}div.sk-estimator {font-family: monospace;background-color: #f0f8ff;margin: 0.25em 0.25em;border: 1px dotted black;border-radius: 0.25em;box-sizing: border-box;}div.sk-estimator:hover {background-color: #d4ebff;}div.sk-parallel-item::after {content: \"\";width: 100%;border-bottom: 1px solid gray;flex-grow: 1;}div.sk-label:hover label.sk-toggleable__label {background-color: #d4ebff;}div.sk-serial::before {content: \"\";position: absolute;border-left: 1px solid gray;box-sizing: border-box;top: 2em;bottom: 0;left: 50%;}div.sk-serial {display: flex;flex-direction: column;align-items: center;background-color: white;}div.sk-item {z-index: 1;}div.sk-parallel {display: flex;align-items: stretch;justify-content: center;background-color: white;}div.sk-parallel-item {display: flex;flex-direction: column;position: relative;background-color: white;}div.sk-parallel-item:first-child::after {align-self: flex-end;width: 50%;}div.sk-parallel-item:last-child::after {align-self: flex-start;width: 50%;}div.sk-parallel-item:only-child::after {width: 0;}div.sk-dashed-wrapped {border: 1px dashed gray;margin: 0.2em;box-sizing: border-box;padding-bottom: 0.1em;background-color: white;position: relative;}div.sk-label label {font-family: monospace;font-weight: bold;background-color: white;display: inline-block;line-height: 1.2em;}div.sk-label-container {position: relative;z-index: 2;text-align: center;}div.sk-container {display: inline-block;position: relative;}</style><div class=\"sk-top-container\"><div class=\"sk-container\"><div class=\"sk-item sk-dashed-wrapped\"><div class=\"sk-label-container\"><div class=\"sk-label sk-toggleable\"><input class=\"sk-toggleable__control sk-hidden--visually\" id=\"3236d874-04f2-44a9-a5ab-c8236e5fcf80\" type=\"checkbox\" ><label class=\"sk-toggleable__label\" for=\"3236d874-04f2-44a9-a5ab-c8236e5fcf80\">Pipeline</label><div class=\"sk-toggleable__content\"><pre>Pipeline(steps=[('columntransformer',\n                 ColumnTransformer(transformers=[('categorical',\n                                                  Pipeline(steps=[('one hot',\n                                                                   OneHotEncoder(handle_unknown='ignore'))]),\n                                                  ['cat0', 'cat1', 'cat2',\n                                                   'cat3', 'cat4', 'cat5',\n                                                   'cat6', 'cat7', 'cat8',\n                                                   'cat9']),\n                                                 ('numerical',\n                                                  Pipeline(steps=[('quantile '\n                                                                   'transformer',\n                                                                   QuantileTransformer(n_quantiles=100,\n                                                                                       output_distribution='normal',\n                                                                                       random_state=0))]),\n                                                  ['cont0', 'cont1', 'cont2',\n                                                   'cont3', 'cont4', 'cont5',\n                                                   'cont6', 'cont7', 'cont8',\n                                                   'cont9', 'cont10', 'cont11',\n                                                   'cont12', 'cont13'])])),\n                ('extratreesregressor',\n                 ExtraTreesRegressor(n_estimators=10, random_state=0))])</pre></div></div></div><div class=\"sk-serial\"><div class=\"sk-item sk-dashed-wrapped\"><div class=\"sk-label-container\"><div class=\"sk-label sk-toggleable\"><input class=\"sk-toggleable__control sk-hidden--visually\" id=\"efb20603-2b5b-47e2-bc1a-69ef035d27c4\" type=\"checkbox\" ><label class=\"sk-toggleable__label\" for=\"efb20603-2b5b-47e2-bc1a-69ef035d27c4\">columntransformer: ColumnTransformer</label><div class=\"sk-toggleable__content\"><pre>ColumnTransformer(transformers=[('categorical',\n                                 Pipeline(steps=[('one hot',\n                                                  OneHotEncoder(handle_unknown='ignore'))]),\n                                 ['cat0', 'cat1', 'cat2', 'cat3', 'cat4',\n                                  'cat5', 'cat6', 'cat7', 'cat8', 'cat9']),\n                                ('numerical',\n                                 Pipeline(steps=[('quantile transformer',\n                                                  QuantileTransformer(n_quantiles=100,\n                                                                      output_distribution='normal',\n                                                                      random_state=0))]),\n                                 ['cont0', 'cont1', 'cont2', 'cont3', 'cont4',\n                                  'cont5', 'cont6', 'cont7', 'cont8', 'cont9',\n                                  'cont10', 'cont11', 'cont12', 'cont13'])])</pre></div></div></div><div class=\"sk-parallel\"><div class=\"sk-parallel-item\"><div class=\"sk-item\"><div class=\"sk-label-container\"><div class=\"sk-label sk-toggleable\"><input class=\"sk-toggleable__control sk-hidden--visually\" id=\"1bc3735e-5ffa-46a5-805a-d4611ec4fc2f\" type=\"checkbox\" ><label class=\"sk-toggleable__label\" for=\"1bc3735e-5ffa-46a5-805a-d4611ec4fc2f\">categorical</label><div class=\"sk-toggleable__content\"><pre>['cat0', 'cat1', 'cat2', 'cat3', 'cat4', 'cat5', 'cat6', 'cat7', 'cat8', 'cat9']</pre></div></div></div><div class=\"sk-serial\"><div class=\"sk-item\"><div class=\"sk-serial\"><div class=\"sk-item\"><div class=\"sk-estimator sk-toggleable\"><input class=\"sk-toggleable__control sk-hidden--visually\" id=\"36bbcd05-a8d3-4710-9d93-5ebcf944b857\" type=\"checkbox\" ><label class=\"sk-toggleable__label\" for=\"36bbcd05-a8d3-4710-9d93-5ebcf944b857\">OneHotEncoder</label><div class=\"sk-toggleable__content\"><pre>OneHotEncoder(handle_unknown='ignore')</pre></div></div></div></div></div></div></div></div><div class=\"sk-parallel-item\"><div class=\"sk-item\"><div class=\"sk-label-container\"><div class=\"sk-label sk-toggleable\"><input class=\"sk-toggleable__control sk-hidden--visually\" id=\"c9ff66fe-9c67-4e0c-bf26-ccdf63f9bf23\" type=\"checkbox\" ><label class=\"sk-toggleable__label\" for=\"c9ff66fe-9c67-4e0c-bf26-ccdf63f9bf23\">numerical</label><div class=\"sk-toggleable__content\"><pre>['cont0', 'cont1', 'cont2', 'cont3', 'cont4', 'cont5', 'cont6', 'cont7', 'cont8', 'cont9', 'cont10', 'cont11', 'cont12', 'cont13']</pre></div></div></div><div class=\"sk-serial\"><div class=\"sk-item\"><div class=\"sk-serial\"><div class=\"sk-item\"><div class=\"sk-estimator sk-toggleable\"><input class=\"sk-toggleable__control sk-hidden--visually\" id=\"81b71c51-ce33-4437-b5a6-1ee20d24b359\" type=\"checkbox\" ><label class=\"sk-toggleable__label\" for=\"81b71c51-ce33-4437-b5a6-1ee20d24b359\">QuantileTransformer</label><div class=\"sk-toggleable__content\"><pre>QuantileTransformer(n_quantiles=100, output_distribution='normal',\n                    random_state=0)</pre></div></div></div></div></div></div></div></div></div></div><div class=\"sk-item\"><div class=\"sk-estimator sk-toggleable\"><input class=\"sk-toggleable__control sk-hidden--visually\" id=\"8d04e35a-bef7-44c7-be2d-2c38ad5a7231\" type=\"checkbox\" ><label class=\"sk-toggleable__label\" for=\"8d04e35a-bef7-44c7-be2d-2c38ad5a7231\">ExtraTreesRegressor</label><div class=\"sk-toggleable__content\"><pre>ExtraTreesRegressor(n_estimators=10, random_state=0)</pre></div></div></div></div></div></div></div>"
          },
          "metadata": {}
        }
      ]
    },
    {
      "cell_type": "code",
      "metadata": {
        "deletable": false,
        "nbgrader": {
          "cell_type": "code",
          "checksum": "8e9749823b5f8d1003f7dce809b6939c",
          "grade": false,
          "grade_id": "cell-b2aa9f758935ebbf",
          "locked": false,
          "schema_version": 3,
          "solution": true,
          "task": false
        },
        "cell_id": "00028-f4b71610-2a00-4f02-a86a-21717179b084",
        "deepnote_to_be_reexecuted": false,
        "source_hash": "755ab8bc",
        "execution_start": 1620223260547,
        "execution_millis": 50051,
        "deepnote_cell_type": "code"
      },
      "source": "x_train, x_valid, y_train, y_valid = model_selection.train_test_split(x, y, test_size=0.4, random_state=0)\n\nresults = pd.DataFrame({'Model': [], 'MSE': [], 'RMSE': [], 'Time': []})\n\nfor name, pipe in all_pipelines.items():\n\n    start_time = time.time()\n    \n    preds = pipe.fit(x_train,y_train).predict(x_valid)\n\n    total_time = time.time() - start_time\n\n    results = results.append({\"Model\": name,\n                              \"MSE\":   mean_squared_error(y_valid, preds),\n                              \"RMSE\":  mean_squared_error(y_valid, preds,squared=False),\n                              \"Time\":  total_time},\n                              ignore_index=True)\n\n    \n    results_ord = results.sort_values(by=['RMSE'], ascending=True, ignore_index=True)\n    results_ord.index += 1 \n    clear_output()\n    display(results_ord.style.bar(subset=['MSE', 'RMSE'], vmin=0, color='#5fba7d'))",
      "execution_count": 103,
      "outputs": [
        {
          "output_type": "clearOutput"
        },
        {
          "data": {
            "text/plain": "<pandas.io.formats.style.Styler at 0x7f7d83053bd0>",
            "text/html": "<style  type=\"text/css\" >\n#T_8284b_row0_col1{\n            width:  10em;\n             height:  80%;\n            background:  linear-gradient(90deg,#5fba7d 87.8%, transparent 87.8%);\n        }#T_8284b_row0_col2{\n            width:  10em;\n             height:  80%;\n            background:  linear-gradient(90deg,#5fba7d 93.7%, transparent 93.7%);\n        }#T_8284b_row1_col1{\n            width:  10em;\n             height:  80%;\n            background:  linear-gradient(90deg,#5fba7d 89.1%, transparent 89.1%);\n        }#T_8284b_row1_col2{\n            width:  10em;\n             height:  80%;\n            background:  linear-gradient(90deg,#5fba7d 94.4%, transparent 94.4%);\n        }#T_8284b_row2_col1{\n            width:  10em;\n             height:  80%;\n            background:  linear-gradient(90deg,#5fba7d 91.7%, transparent 91.7%);\n        }#T_8284b_row2_col2{\n            width:  10em;\n             height:  80%;\n            background:  linear-gradient(90deg,#5fba7d 95.8%, transparent 95.8%);\n        }#T_8284b_row3_col1{\n            width:  10em;\n             height:  80%;\n            background:  linear-gradient(90deg,#5fba7d 92.0%, transparent 92.0%);\n        }#T_8284b_row3_col2{\n            width:  10em;\n             height:  80%;\n            background:  linear-gradient(90deg,#5fba7d 95.9%, transparent 95.9%);\n        }#T_8284b_row4_col1,#T_8284b_row5_col1{\n            width:  10em;\n             height:  80%;\n            background:  linear-gradient(90deg,#5fba7d 94.3%, transparent 94.3%);\n        }#T_8284b_row4_col2,#T_8284b_row5_col2{\n            width:  10em;\n             height:  80%;\n            background:  linear-gradient(90deg,#5fba7d 97.1%, transparent 97.1%);\n        }#T_8284b_row6_col1,#T_8284b_row6_col2{\n            width:  10em;\n             height:  80%;\n            background:  linear-gradient(90deg,#5fba7d 100.0%, transparent 100.0%);\n        }</style><table id=\"T_8284b_\" ><thead>    <tr>        <th class=\"blank level0\" ></th>        <th class=\"col_heading level0 col0\" >Model</th>        <th class=\"col_heading level0 col1\" >MSE</th>        <th class=\"col_heading level0 col2\" >RMSE</th>        <th class=\"col_heading level0 col3\" >Time</th>    </tr></thead><tbody>\n                <tr>\n                        <th id=\"T_8284b_level0_row0\" class=\"row_heading level0 row0\" >1</th>\n                        <td id=\"T_8284b_row0_col0\" class=\"data row0 col0\" >Gradient Boosting Regressor</td>\n                        <td id=\"T_8284b_row0_col1\" class=\"data row0 col1\" >0.728042</td>\n                        <td id=\"T_8284b_row0_col2\" class=\"data row0 col2\" >0.853254</td>\n                        <td id=\"T_8284b_row0_col3\" class=\"data row0 col3\" >29.267249</td>\n            </tr>\n            <tr>\n                        <th id=\"T_8284b_level0_row1\" class=\"row_heading level0 row1\" >2</th>\n                        <td id=\"T_8284b_row1_col0\" class=\"data row1 col0\" >Ridge</td>\n                        <td id=\"T_8284b_row1_col1\" class=\"data row1 col1\" >0.738911</td>\n                        <td id=\"T_8284b_row1_col2\" class=\"data row1 col2\" >0.859599</td>\n                        <td id=\"T_8284b_row1_col3\" class=\"data row1 col3\" >0.995578</td>\n            </tr>\n            <tr>\n                        <th id=\"T_8284b_level0_row2\" class=\"row_heading level0 row2\" >3</th>\n                        <td id=\"T_8284b_row2_col0\" class=\"data row2 col0\" >Random Forest Regressor</td>\n                        <td id=\"T_8284b_row2_col1\" class=\"data row2 col1\" >0.760802</td>\n                        <td id=\"T_8284b_row2_col2\" class=\"data row2 col2\" >0.872239</td>\n                        <td id=\"T_8284b_row2_col3\" class=\"data row2 col3\" >12.039198</td>\n            </tr>\n            <tr>\n                        <th id=\"T_8284b_level0_row3\" class=\"row_heading level0 row3\" >4</th>\n                        <td id=\"T_8284b_row3_col0\" class=\"data row3 col0\" >Decision Tree Regressor</td>\n                        <td id=\"T_8284b_row3_col1\" class=\"data row3 col1\" >0.762817</td>\n                        <td id=\"T_8284b_row3_col2\" class=\"data row3 col2\" >0.873394</td>\n                        <td id=\"T_8284b_row3_col3\" class=\"data row3 col3\" >1.048871</td>\n            </tr>\n            <tr>\n                        <th id=\"T_8284b_level0_row4\" class=\"row_heading level0 row4\" >5</th>\n                        <td id=\"T_8284b_row4_col0\" class=\"data row4 col0\" >Lasso</td>\n                        <td id=\"T_8284b_row4_col1\" class=\"data row4 col1\" >0.782525</td>\n                        <td id=\"T_8284b_row4_col2\" class=\"data row4 col2\" >0.884604</td>\n                        <td id=\"T_8284b_row4_col3\" class=\"data row4 col3\" >0.993323</td>\n            </tr>\n            <tr>\n                        <th id=\"T_8284b_level0_row5\" class=\"row_heading level0 row5\" >6</th>\n                        <td id=\"T_8284b_row5_col0\" class=\"data row5 col0\" >Elastic Net</td>\n                        <td id=\"T_8284b_row5_col1\" class=\"data row5 col1\" >0.782525</td>\n                        <td id=\"T_8284b_row5_col2\" class=\"data row5 col2\" >0.884604</td>\n                        <td id=\"T_8284b_row5_col3\" class=\"data row5 col3\" >0.949063</td>\n            </tr>\n            <tr>\n                        <th id=\"T_8284b_level0_row6\" class=\"row_heading level0 row6\" >7</th>\n                        <td id=\"T_8284b_row6_col0\" class=\"data row6 col0\" >Extra Tree Regressor</td>\n                        <td id=\"T_8284b_row6_col1\" class=\"data row6 col1\" >0.829453</td>\n                        <td id=\"T_8284b_row6_col2\" class=\"data row6 col2\" >0.910743</td>\n                        <td id=\"T_8284b_row6_col3\" class=\"data row6 col3\" >4.506836</td>\n            </tr>\n    </tbody></table>"
          },
          "metadata": {},
          "output_type": "display_data"
        }
      ]
    },
    {
      "cell_type": "code",
      "metadata": {
        "deletable": false,
        "editable": false,
        "nbgrader": {
          "cell_type": "code",
          "checksum": "c8e143a5d4336a2f22d05d9c54d50b92",
          "grade": true,
          "grade_id": "cell-56489e8dd6257a2a",
          "locked": true,
          "points": 3,
          "schema_version": 3,
          "solution": false,
          "task": false
        },
        "cell_id": "00029-186619f3-ca8b-47f2-a5db-320d4323497d",
        "deepnote_to_be_reexecuted": false,
        "source_hash": "fe29d6ed",
        "execution_start": 1620223310600,
        "execution_millis": 11,
        "deepnote_cell_type": "code"
      },
      "source": "assert results_ord['MSE'].max() < 2\nassert results_ord['MSE'].min() < 0.8\nassert results_ord['RMSE'].max() < 1.5\nassert results_ord['RMSE'].min() < 0.9",
      "execution_count": 104,
      "outputs": []
    },
    {
      "cell_type": "markdown",
      "source": "### Optional Exercise (optional because it takes a lot of time of computation)\nTrain with a more realable validation data the best models (maybe the best 5 models). You can:\n- Use all training data (without subsample)\n- Use Crosvalidation (`KFold`)(using 3, 5 or 7 folds) instead of `train_test_split`",
      "metadata": {
        "cell_id": "00030-1226fe3f-3180-4411-bd2c-6848d06ab5e6",
        "deepnote_cell_type": "markdown"
      }
    },
    {
      "cell_type": "code",
      "metadata": {
        "cell_id": "00031-572760ec-1bfb-4e34-92cb-5b4ce31984f2",
        "deepnote_cell_type": "code"
      },
      "source": "df   = pd.read_csv(path+\"train.csv\", index_col=\"id\")\n\nprint(\"Using all data with\", len(df), \"rows\")\nx = df[num_vars+cat_vars]\ny = df[\"target\"]",
      "execution_count": null,
      "outputs": []
    },
    {
      "cell_type": "code",
      "metadata": {
        "deletable": false,
        "nbgrader": {
          "cell_type": "code",
          "checksum": "7e555af7bbf548a2dc42d6d50df469e2",
          "grade": false,
          "grade_id": "cell-2f06f87cae93f9e9",
          "locked": false,
          "schema_version": 3,
          "solution": true,
          "task": false
        },
        "cell_id": "00032-ac8373e0-17ee-484c-ade6-6697596ab2b9",
        "deepnote_cell_type": "code"
      },
      "source": "# IMPLEMENT SOMETHING SIMILAR TO THE PROCESS BEFORE\n# BUT USE KFOLD\n\n# YOUR CODE HERE\nraise NotImplementedError()",
      "execution_count": null,
      "outputs": []
    },
    {
      "cell_type": "code",
      "metadata": {
        "cell_id": "00033-900a2ddb-98b2-41b7-bf7a-829fa5eea3ca",
        "deepnote_cell_type": "code"
      },
      "source": "",
      "execution_count": null,
      "outputs": []
    },
    {
      "cell_type": "markdown",
      "source": "<a style='text-decoration:none;line-height:16px;display:flex;color:#5B5B62;padding:10px;justify-content:end;' href='https://deepnote.com?utm_source=created-in-deepnote-cell&projectId=796ba814-f632-4502-b0d7-7e2f8f9e546d' target=\"_blank\">\n<img alt='Created in deepnote.com' style='display:inline;max-height:16px;margin:0px;margin-right:7.5px;' src='data:image/svg+xml;base64,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' > </img>\nCreated in <span style='font-weight:600;margin-left:4px;'>Deepnote</span></a>",
      "metadata": {
        "tags": [],
        "created_in_deepnote_cell": true,
        "deepnote_cell_type": "markdown"
      }
    }
  ],
  "nbformat": 4,
  "nbformat_minor": 4,
  "metadata": {
    "kernelspec": {
      "display_name": "Python 3",
      "language": "python",
      "name": "python3"
    },
    "language_info": {
      "codemirror_mode": {
        "name": "ipython",
        "version": 3
      },
      "file_extension": ".py",
      "mimetype": "text/x-python",
      "name": "python",
      "nbconvert_exporter": "python",
      "pygments_lexer": "ipython3",
      "version": "3.7.10"
    },
    "deepnote_notebook_id": "f307affe-db5f-4b30-879f-f5308576bc16",
    "deepnote": {},
    "deepnote_execution_queue": []
  }
}