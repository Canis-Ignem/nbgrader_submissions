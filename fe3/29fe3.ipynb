{
 "cells": [
  {
   "cell_type": "code",
   "execution_count": 49,
   "metadata": {},
   "outputs": [
    {
     "name": "stdout",
     "output_type": "stream",
     "text": [
      "Pandas   1.2.4\n",
      "Sklearn  0.24.1\n"
     ]
    }
   ],
   "source": [
    "import pandas as pd\n",
    "import numpy as np\n",
    "import matplotlib.pyplot as plt\n",
    "#import seaborn as sb\n",
    "import sklearn as skl\n",
    "import time\n",
    "from IPython.display import display, clear_output\n",
    "\n",
    "import sklearn\n",
    "from sklearn import pipeline      # Pipeline\n",
    "from sklearn import preprocessing # OrdinalEncoder, LabelEncoder\n",
    "from sklearn import impute\n",
    "from sklearn import compose\n",
    "from sklearn import model_selection # train_test_split\n",
    "from sklearn import metrics         # accuracy_score, balanced_accuracy_score, plot_confusion_matrix\n",
    "from sklearn import set_config\n",
    "\n",
    "set_config(display='diagram') # Useful for display the pipeline\n",
    "\n",
    "print(\"Pandas  \", pd.__version__)\n",
    "print(\"Sklearn \", skl.__version__) # Try to use 0.24"
   ]
  },
  {
   "cell_type": "code",
   "execution_count": 17,
   "metadata": {
    "deletable": false,
    "editable": false,
    "nbgrader": {
     "cell_type": "code",
     "checksum": "ba64a626f4514047c1f189598c684da9",
     "grade": false,
     "grade_id": "cell-c9956bc3084ab64e",
     "locked": true,
     "schema_version": 3,
     "solution": false,
     "task": false
    }
   },
   "outputs": [
    {
     "name": "stdout",
     "output_type": "stream",
     "text": [
      "ls: ./tabular-playground-feb21/: No such file or directory\r\n"
     ]
    }
   ],
   "source": [
    "path = \"./tabular-playground-feb21/\"\n",
    "!ls $path"
   ]
  },
  {
   "cell_type": "markdown",
   "metadata": {},
   "source": [
    "### Load data"
   ]
  },
  {
   "cell_type": "code",
   "execution_count": 18,
   "metadata": {
    "deletable": false,
    "nbgrader": {
     "cell_type": "code",
     "checksum": "4ea3a25f357a30f495f76db4dfa4e6a9",
     "grade": false,
     "grade_id": "cell-52a8794a601f4d0e",
     "locked": false,
     "schema_version": 3,
     "solution": true,
     "task": false
    }
   },
   "outputs": [
    {
     "name": "stdout",
     "output_type": "stream",
     "text": [
      "Train dataframe: (300000, 25)\n",
      "Test dataframe: (200000, 24)\n"
     ]
    },
    {
     "data": {
      "text/html": [
       "<div>\n",
       "<style scoped>\n",
       "    .dataframe tbody tr th:only-of-type {\n",
       "        vertical-align: middle;\n",
       "    }\n",
       "\n",
       "    .dataframe tbody tr th {\n",
       "        vertical-align: top;\n",
       "    }\n",
       "\n",
       "    .dataframe thead th {\n",
       "        text-align: right;\n",
       "    }\n",
       "</style>\n",
       "<table border=\"1\" class=\"dataframe\">\n",
       "  <thead>\n",
       "    <tr style=\"text-align: right;\">\n",
       "      <th></th>\n",
       "      <th>cat0</th>\n",
       "      <th>cat1</th>\n",
       "      <th>cat2</th>\n",
       "      <th>cat3</th>\n",
       "      <th>cat4</th>\n",
       "      <th>cat5</th>\n",
       "      <th>cat6</th>\n",
       "      <th>cat7</th>\n",
       "      <th>cat8</th>\n",
       "      <th>cat9</th>\n",
       "      <th>...</th>\n",
       "      <th>cont5</th>\n",
       "      <th>cont6</th>\n",
       "      <th>cont7</th>\n",
       "      <th>cont8</th>\n",
       "      <th>cont9</th>\n",
       "      <th>cont10</th>\n",
       "      <th>cont11</th>\n",
       "      <th>cont12</th>\n",
       "      <th>cont13</th>\n",
       "      <th>target</th>\n",
       "    </tr>\n",
       "    <tr>\n",
       "      <th>id</th>\n",
       "      <th></th>\n",
       "      <th></th>\n",
       "      <th></th>\n",
       "      <th></th>\n",
       "      <th></th>\n",
       "      <th></th>\n",
       "      <th></th>\n",
       "      <th></th>\n",
       "      <th></th>\n",
       "      <th></th>\n",
       "      <th></th>\n",
       "      <th></th>\n",
       "      <th></th>\n",
       "      <th></th>\n",
       "      <th></th>\n",
       "      <th></th>\n",
       "      <th></th>\n",
       "      <th></th>\n",
       "      <th></th>\n",
       "      <th></th>\n",
       "      <th></th>\n",
       "    </tr>\n",
       "  </thead>\n",
       "  <tbody>\n",
       "    <tr>\n",
       "      <th>1</th>\n",
       "      <td>A</td>\n",
       "      <td>B</td>\n",
       "      <td>A</td>\n",
       "      <td>A</td>\n",
       "      <td>B</td>\n",
       "      <td>D</td>\n",
       "      <td>A</td>\n",
       "      <td>E</td>\n",
       "      <td>C</td>\n",
       "      <td>I</td>\n",
       "      <td>...</td>\n",
       "      <td>0.881122</td>\n",
       "      <td>0.421650</td>\n",
       "      <td>0.741413</td>\n",
       "      <td>0.895799</td>\n",
       "      <td>0.802461</td>\n",
       "      <td>0.724417</td>\n",
       "      <td>0.701915</td>\n",
       "      <td>0.877618</td>\n",
       "      <td>0.719903</td>\n",
       "      <td>6.994023</td>\n",
       "    </tr>\n",
       "    <tr>\n",
       "      <th>2</th>\n",
       "      <td>B</td>\n",
       "      <td>A</td>\n",
       "      <td>A</td>\n",
       "      <td>A</td>\n",
       "      <td>B</td>\n",
       "      <td>B</td>\n",
       "      <td>A</td>\n",
       "      <td>E</td>\n",
       "      <td>A</td>\n",
       "      <td>F</td>\n",
       "      <td>...</td>\n",
       "      <td>0.440011</td>\n",
       "      <td>0.346230</td>\n",
       "      <td>0.278495</td>\n",
       "      <td>0.593413</td>\n",
       "      <td>0.546056</td>\n",
       "      <td>0.613252</td>\n",
       "      <td>0.741289</td>\n",
       "      <td>0.326679</td>\n",
       "      <td>0.808464</td>\n",
       "      <td>8.071256</td>\n",
       "    </tr>\n",
       "    <tr>\n",
       "      <th>3</th>\n",
       "      <td>A</td>\n",
       "      <td>A</td>\n",
       "      <td>A</td>\n",
       "      <td>C</td>\n",
       "      <td>B</td>\n",
       "      <td>D</td>\n",
       "      <td>A</td>\n",
       "      <td>B</td>\n",
       "      <td>C</td>\n",
       "      <td>N</td>\n",
       "      <td>...</td>\n",
       "      <td>0.914155</td>\n",
       "      <td>0.369602</td>\n",
       "      <td>0.832564</td>\n",
       "      <td>0.865620</td>\n",
       "      <td>0.825251</td>\n",
       "      <td>0.264104</td>\n",
       "      <td>0.695561</td>\n",
       "      <td>0.869133</td>\n",
       "      <td>0.828352</td>\n",
       "      <td>5.760456</td>\n",
       "    </tr>\n",
       "    <tr>\n",
       "      <th>4</th>\n",
       "      <td>A</td>\n",
       "      <td>A</td>\n",
       "      <td>A</td>\n",
       "      <td>C</td>\n",
       "      <td>B</td>\n",
       "      <td>D</td>\n",
       "      <td>A</td>\n",
       "      <td>E</td>\n",
       "      <td>G</td>\n",
       "      <td>K</td>\n",
       "      <td>...</td>\n",
       "      <td>0.934138</td>\n",
       "      <td>0.578930</td>\n",
       "      <td>0.407313</td>\n",
       "      <td>0.868099</td>\n",
       "      <td>0.794402</td>\n",
       "      <td>0.494269</td>\n",
       "      <td>0.698125</td>\n",
       "      <td>0.809799</td>\n",
       "      <td>0.614766</td>\n",
       "      <td>7.806457</td>\n",
       "    </tr>\n",
       "    <tr>\n",
       "      <th>6</th>\n",
       "      <td>A</td>\n",
       "      <td>B</td>\n",
       "      <td>A</td>\n",
       "      <td>A</td>\n",
       "      <td>B</td>\n",
       "      <td>B</td>\n",
       "      <td>A</td>\n",
       "      <td>E</td>\n",
       "      <td>C</td>\n",
       "      <td>F</td>\n",
       "      <td>...</td>\n",
       "      <td>0.382600</td>\n",
       "      <td>0.705940</td>\n",
       "      <td>0.325193</td>\n",
       "      <td>0.440967</td>\n",
       "      <td>0.462146</td>\n",
       "      <td>0.724447</td>\n",
       "      <td>0.683073</td>\n",
       "      <td>0.343457</td>\n",
       "      <td>0.297743</td>\n",
       "      <td>6.868974</td>\n",
       "    </tr>\n",
       "  </tbody>\n",
       "</table>\n",
       "<p>5 rows × 25 columns</p>\n",
       "</div>"
      ],
      "text/plain": [
       "   cat0 cat1 cat2 cat3 cat4 cat5 cat6 cat7 cat8 cat9  ...     cont5     cont6  \\\n",
       "id                                                    ...                       \n",
       "1     A    B    A    A    B    D    A    E    C    I  ...  0.881122  0.421650   \n",
       "2     B    A    A    A    B    B    A    E    A    F  ...  0.440011  0.346230   \n",
       "3     A    A    A    C    B    D    A    B    C    N  ...  0.914155  0.369602   \n",
       "4     A    A    A    C    B    D    A    E    G    K  ...  0.934138  0.578930   \n",
       "6     A    B    A    A    B    B    A    E    C    F  ...  0.382600  0.705940   \n",
       "\n",
       "       cont7     cont8     cont9    cont10    cont11    cont12    cont13  \\\n",
       "id                                                                         \n",
       "1   0.741413  0.895799  0.802461  0.724417  0.701915  0.877618  0.719903   \n",
       "2   0.278495  0.593413  0.546056  0.613252  0.741289  0.326679  0.808464   \n",
       "3   0.832564  0.865620  0.825251  0.264104  0.695561  0.869133  0.828352   \n",
       "4   0.407313  0.868099  0.794402  0.494269  0.698125  0.809799  0.614766   \n",
       "6   0.325193  0.440967  0.462146  0.724447  0.683073  0.343457  0.297743   \n",
       "\n",
       "      target  \n",
       "id            \n",
       "1   6.994023  \n",
       "2   8.071256  \n",
       "3   5.760456  \n",
       "4   7.806457  \n",
       "6   6.868974  \n",
       "\n",
       "[5 rows x 25 columns]"
      ]
     },
     "execution_count": 18,
     "metadata": {},
     "output_type": "execute_result"
    }
   ],
   "source": [
    "# 1 point \n",
    " #load the train, test and sample_submission data using the is as the index column\n",
    "df = pd.read_csv('./tabular-playground-series-feb-2021/train.csv')\n",
    "df_t = pd.read_csv('./tabular-playground-series-feb-2021/test.csv')\n",
    "sub = pd.read_csv('./tabular-playground-series-feb-2021/sample_submission.csv')\n",
    "\n",
    "df = df.set_index('id')\n",
    "df_t = df_t.set_index('id')\n",
    "sub = sub.set_index('id')\n",
    "\n",
    "\n",
    "print(\"Train dataframe:\", df.shape)\n",
    "print(\"Test dataframe:\", df_t.shape)\n",
    "df.head()"
   ]
  },
  {
   "cell_type": "code",
   "execution_count": 19,
   "metadata": {
    "deletable": false,
    "editable": false,
    "nbgrader": {
     "cell_type": "code",
     "checksum": "283057813be21d0e38dbf98f96fa6b75",
     "grade": true,
     "grade_id": "cell-63c54563653a95db",
     "locked": true,
     "points": 1,
     "schema_version": 3,
     "solution": false,
     "task": false
    }
   },
   "outputs": [
    {
     "name": "stdout",
     "output_type": "stream",
     "text": [
      "(200000, 1)\n"
     ]
    }
   ],
   "source": [
    "print(sub.shape)\n",
    "assert df.shape == (300000,25) \n",
    "assert df_t.shape == (200000,24) \n",
    "assert sub.shape == (200000,1) "
   ]
  },
  {
   "cell_type": "markdown",
   "metadata": {},
   "source": [
    "### Subsample the data"
   ]
  },
  {
   "cell_type": "code",
   "execution_count": 20,
   "metadata": {
    "deletable": false,
    "nbgrader": {
     "cell_type": "code",
     "checksum": "48b8af006c0502ef277ad7f9f51bae73",
     "grade": false,
     "grade_id": "cell-af0fe9c9d53bb080",
     "locked": false,
     "schema_version": 3,
     "solution": true,
     "task": false
    }
   },
   "outputs": [],
   "source": [
    "#1 point\n",
    "# get a random sample of size 50k, tested with random state 0\n",
    "dfs = df.sample(n=50000,random_state=0)\n"
   ]
  },
  {
   "cell_type": "code",
   "execution_count": 21,
   "metadata": {
    "deletable": false,
    "editable": false,
    "nbgrader": {
     "cell_type": "code",
     "checksum": "3a65c53efee5c6fb13a948c4a711c409",
     "grade": true,
     "grade_id": "cell-6d044ab7181322e1",
     "locked": true,
     "points": 1,
     "schema_version": 3,
     "solution": false,
     "task": false
    }
   },
   "outputs": [],
   "source": [
    "assert dfs.shape == (50000,25)"
   ]
  },
  {
   "cell_type": "markdown",
   "metadata": {},
   "source": [
    "### There are no missings in this dataset"
   ]
  },
  {
   "cell_type": "code",
   "execution_count": 22,
   "metadata": {},
   "outputs": [
    {
     "data": {
      "text/plain": [
       "(0, 0)"
      ]
     },
     "execution_count": 22,
     "metadata": {},
     "output_type": "execute_result"
    }
   ],
   "source": [
    "df.isna().sum().sum(), df_t.isna().sum().sum()"
   ]
  },
  {
   "cell_type": "code",
   "execution_count": 23,
   "metadata": {},
   "outputs": [
    {
     "data": {
      "text/plain": [
       "Index(['cat0', 'cat1', 'cat2', 'cat3', 'cat4', 'cat5', 'cat6', 'cat7', 'cat8',\n",
       "       'cat9', 'cont0', 'cont1', 'cont2', 'cont3', 'cont4', 'cont5', 'cont6',\n",
       "       'cont7', 'cont8', 'cont9', 'cont10', 'cont11', 'cont12', 'cont13',\n",
       "       'target'],\n",
       "      dtype='object')"
      ]
     },
     "execution_count": 23,
     "metadata": {},
     "output_type": "execute_result"
    }
   ],
   "source": [
    "df.columns"
   ]
  },
  {
   "cell_type": "code",
   "execution_count": null,
   "metadata": {},
   "outputs": [],
   "source": []
  },
  {
   "cell_type": "markdown",
   "metadata": {},
   "source": [
    "### Define variables for x and y"
   ]
  },
  {
   "cell_type": "code",
   "execution_count": 24,
   "metadata": {
    "deletable": false,
    "nbgrader": {
     "cell_type": "code",
     "checksum": "9da5eb270c24b61b947f95901ab01244",
     "grade": false,
     "grade_id": "cell-798649ceac290b47",
     "locked": false,
     "schema_version": 3,
     "solution": true,
     "task": false
    }
   },
   "outputs": [],
   "source": [
    "cat_vars = ['cat0', 'cat1', 'cat2', 'cat3', 'cat4', 'cat5', 'cat6', 'cat7', 'cat8', 'cat9']\n",
    "num_vars = ['cont0', 'cont1', 'cont2', 'cont3',  'cont4',  'cont5',  'cont6',\n",
    "            'cont7', 'cont8', 'cont9', 'cont10', 'cont11', 'cont12', 'cont13']\n",
    "\n",
    "# 1 point \n",
    "# store in X all the categorical and numerical columns\n",
    "# store in Y the target\n",
    "\n",
    "x = dfs[cat_vars + num_vars]\n",
    "y = dfs.target\n"
   ]
  },
  {
   "cell_type": "code",
   "execution_count": 25,
   "metadata": {
    "deletable": false,
    "editable": false,
    "nbgrader": {
     "cell_type": "code",
     "checksum": "d43a4e2c399b56436b32dbc7502477e0",
     "grade": true,
     "grade_id": "cell-a12e77048aa686c4",
     "locked": true,
     "points": 1,
     "schema_version": 3,
     "solution": false,
     "task": false
    }
   },
   "outputs": [],
   "source": [
    "assert x.shape == (50000,24)\n",
    "assert y.shape == (50000,)"
   ]
  },
  {
   "cell_type": "markdown",
   "metadata": {},
   "source": [
    "### See the target variable ([The metric is RMSE](https://www.kaggle.com/c/tabular-playground-series-feb-2021/overview/evaluation))"
   ]
  },
  {
   "cell_type": "code",
   "execution_count": 26,
   "metadata": {},
   "outputs": [
    {
     "data": {
      "image/png": "[encoded data removed]",
      "text/plain": [
       "<Figure size 432x288 with 1 Axes>"
      ]
     },
     "metadata": {
      "needs_background": "light"
     },
     "output_type": "display_data"
    }
   ],
   "source": [
    "df.target.plot.hist(bins=500);"
   ]
  },
  {
   "cell_type": "markdown",
   "metadata": {},
   "source": [
    "### See the numerical variables"
   ]
  },
  {
   "cell_type": "code",
   "execution_count": 27,
   "metadata": {},
   "outputs": [
    {
     "data": {
      "image/png": "[encoded data removed]",
      "text/plain": [
       "<Figure size 432x288 with 1 Axes>"
      ]
     },
     "metadata": {
      "needs_background": "light"
     },
     "output_type": "display_data"
    },
    {
     "data": {
      "image/png": "[encoded data removed]",
      "text/plain": [
       "<Figure size 432x288 with 1 Axes>"
      ]
     },
     "metadata": {
      "needs_background": "light"
     },
     "output_type": "display_data"
    },
    {
     "data": {
      "image/png": "[encoded data removed]",
      "text/plain": [
       "<Figure size 432x288 with 1 Axes>"
      ]
     },
     "metadata": {
      "needs_background": "light"
     },
     "output_type": "display_data"
    },
    {
     "data": {
      "image/png": "[encoded data removed]",
      "text/plain": [
       "<Figure size 432x288 with 1 Axes>"
      ]
     },
     "metadata": {
      "needs_background": "light"
     },
     "output_type": "display_data"
    },
    {
     "data": {
      "image/png": "[encoded data removed]",
      "text/plain": [
       "<Figure size 432x288 with 1 Axes>"
      ]
     },
     "metadata": {
      "needs_background": "light"
     },
     "output_type": "display_data"
    },
    {
     "data": {
      "image/png": "[encoded data removed]",
      "text/plain": [
       "<Figure size 432x288 with 1 Axes>"
      ]
     },
     "metadata": {
      "needs_background": "light"
     },
     "output_type": "display_data"
    },
    {
     "data": {
      "image/png": "[encoded data removed]",
      "text/plain": [
       "<Figure size 432x288 with 1 Axes>"
      ]
     },
     "metadata": {
      "needs_background": "light"
     },
     "output_type": "display_data"
    },
    {
     "data": {
      "image/png": "[encoded data removed]",
      "text/plain": [
       "<Figure size 432x288 with 1 Axes>"
      ]
     },
     "metadata": {
      "needs_background": "light"
     },
     "output_type": "display_data"
    },
    {
     "data": {
      "image/png": "[encoded data removed]",
      "text/plain": [
       "<Figure size 432x288 with 1 Axes>"
      ]
     },
     "metadata": {
      "needs_background": "light"
     },
     "output_type": "display_data"
    },
    {
     "data": {
      "image/png": "[encoded data removed]",
      "text/plain": [
       "<Figure size 432x288 with 1 Axes>"
      ]
     },
     "metadata": {
      "needs_background": "light"
     },
     "output_type": "display_data"
    },
    {
     "data": {
      "image/png": "[encoded data removed]",
      "text/plain": [
       "<Figure size 432x288 with 1 Axes>"
      ]
     },
     "metadata": {
      "needs_background": "light"
     },
     "output_type": "display_data"
    },
    {
     "data": {
      "image/png": "[encoded data removed]",
      "text/plain": [
       "<Figure size 432x288 with 1 Axes>"
      ]
     },
     "metadata": {
      "needs_background": "light"
     },
     "output_type": "display_data"
    },
    {
     "data": {
      "image/png": "[encoded data removed]",
      "text/plain": [
       "<Figure size 432x288 with 1 Axes>"
      ]
     },
     "metadata": {
      "needs_background": "light"
     },
     "output_type": "display_data"
    },
    {
     "data": {
      "image/png": "[encoded data removed]",
      "text/plain": [
       "<Figure size 432x288 with 1 Axes>"
      ]
     },
     "metadata": {
      "needs_background": "light"
     },
     "output_type": "display_data"
    }
   ],
   "source": [
    "for var in num_vars:\n",
    "    df[var].plot.hist(bins=500)\n",
    "    plt.show();"
   ]
  },
  {
   "cell_type": "markdown",
   "metadata": {},
   "source": [
    "### See the categorical variables (ypu can use `bar()`, `barh()` or `.pie()`)"
   ]
  },
  {
   "cell_type": "code",
   "execution_count": 28,
   "metadata": {},
   "outputs": [
    {
     "data": {
      "image/png": "[encoded data removed]",
      "text/plain": [
       "<Figure size 432x288 with 1 Axes>"
      ]
     },
     "metadata": {},
     "output_type": "display_data"
    },
    {
     "data": {
      "image/png": "[encoded data removed]",
      "text/plain": [
       "<Figure size 432x288 with 1 Axes>"
      ]
     },
     "metadata": {},
     "output_type": "display_data"
    },
    {
     "data": {
      "image/png": "[encoded data removed]",
      "text/plain": [
       "<Figure size 432x288 with 1 Axes>"
      ]
     },
     "metadata": {},
     "output_type": "display_data"
    },
    {
     "data": {
      "image/png": "[encoded data removed]",
      "text/plain": [
       "<Figure size 432x288 with 1 Axes>"
      ]
     },
     "metadata": {},
     "output_type": "display_data"
    },
    {
     "data": {
      "image/png": "[encoded data removed]",
      "text/plain": [
       "<Figure size 432x288 with 1 Axes>"
      ]
     },
     "metadata": {},
     "output_type": "display_data"
    },
    {
     "data": {
      "image/png": "[encoded data removed]",
      "text/plain": [
       "<Figure size 432x288 with 1 Axes>"
      ]
     },
     "metadata": {},
     "output_type": "display_data"
    },
    {
     "data": {
      "image/png": "[encoded data removed]",
      "text/plain": [
       "<Figure size 432x288 with 1 Axes>"
      ]
     },
     "metadata": {},
     "output_type": "display_data"
    },
    {
     "data": {
      "image/png": "[encoded data removed]",
      "text/plain": [
       "<Figure size 432x288 with 1 Axes>"
      ]
     },
     "metadata": {},
     "output_type": "display_data"
    },
    {
     "data": {
      "image/png": "[encoded data removed]",
      "text/plain": [
       "<Figure size 432x288 with 1 Axes>"
      ]
     },
     "metadata": {},
     "output_type": "display_data"
    },
    {
     "data": {
      "image/png": "[encoded data removed]",
      "text/plain": [
       "<Figure size 432x288 with 1 Axes>"
      ]
     },
     "metadata": {},
     "output_type": "display_data"
    }
   ],
   "source": [
    "for var in cat_vars:\n",
    "    #df[var].value_counts().plot.bar()\n",
    "    #df[var].value_counts().plot.barh()\n",
    "    df[var].value_counts().plot.pie()\n",
    "    plt.show();"
   ]
  },
  {
   "cell_type": "markdown",
   "metadata": {},
   "source": [
    "# Exercise 1 (2 pts)\n",
    "\n",
    "Create the `ColumTransformer` for **models based on multiplications and distances**:\n",
    "- Pipeline for numerical variables (`num_vars`): `Standardscaler()` or `QuantileTransformer(n_quantiles=100, output_distribution='normal')`\n",
    "- Pipeline for categorical variables (`cat_vars`): `OneHotEncoder(handle_unknown='ignore')`"
   ]
  },
  {
   "cell_type": "code",
   "execution_count": 40,
   "metadata": {
    "deletable": false,
    "nbgrader": {
     "cell_type": "code",
     "checksum": "10d603101a3a872dc52bf1a241871cf9",
     "grade": false,
     "grade_id": "cell-1bcb9c03884767e0",
     "locked": false,
     "schema_version": 3,
     "solution": true,
     "task": false
    }
   },
   "outputs": [],
   "source": [
    "mult_num_pipe = pipeline.Pipeline(steps=[\n",
    "    ('scaler',preprocessing.QuantileTransformer(n_quantiles=100, output_distribution='normal'))\n",
    "])\n",
    "\n",
    "mult_cat_pipe = pipeline.Pipeline(steps=[\n",
    "    ('onehot',preprocessing.OneHotEncoder(handle_unknown='ignore'))\n",
    "])\n",
    "\n",
    "mult_prepro = compose.ColumnTransformer(transformers=[\n",
    "    ('num',mult_num_pipe,num_vars),\n",
    "    ('cat',mult_cat_pipe,cat_vars)\n",
    "],remainder='drop')"
   ]
  },
  {
   "cell_type": "code",
   "execution_count": 44,
   "metadata": {
    "deletable": false,
    "editable": false,
    "nbgrader": {
     "cell_type": "code",
     "checksum": "84e1dc4290931eeee92c3c7fdc67732f",
     "grade": true,
     "grade_id": "cell-25faeb14cfb1e048",
     "locked": true,
     "points": 2,
     "schema_version": 3,
     "solution": false,
     "task": false
    }
   },
   "outputs": [],
   "source": [
    "assert type(tree_prepro) is sklearn.compose._column_transformer.ColumnTransformer"
   ]
  },
  {
   "cell_type": "markdown",
   "metadata": {},
   "source": [
    "# Exercise 2 (2 pts)\n",
    "\n",
    "Create the `ColumTransformer` for **models based on trees**:\n",
    "- Pipeline for numerical variables (`num_vars`): **Do nothing**. Tip: You can use `remainder='passthrough'` when you create the `ColumTransformer`.\n",
    "- Pipeline for categorical variables (`cat_vars`): `OrdinalEncoder(handle_unknown='use_encoded_value', unknown_value=-1)[source]`"
   ]
  },
  {
   "cell_type": "code",
   "execution_count": 43,
   "metadata": {
    "deletable": false,
    "nbgrader": {
     "cell_type": "code",
     "checksum": "1cd4cdd16f7ac771b2014244d76bc9b9",
     "grade": false,
     "grade_id": "cell-d5bc34b399dc8b7a",
     "locked": false,
     "schema_version": 3,
     "solution": true,
     "task": false
    }
   },
   "outputs": [],
   "source": [
    "\"\"\"tree_num_pipe = pipeline.Pipeline(steps=[\n",
    "    ('scaler',preprocessing.QuantileTransformer(n_quantiles=100, output_distribution='normal'))\n",
    "])\"\"\"\n",
    "\n",
    "tree_cat_pipe = pipeline.Pipeline(steps=[\n",
    "    ('ordinal',preprocessing.OrdinalEncoder(handle_unknown='use_encoded_value', unknown_value=-1))\n",
    "])\n",
    "\n",
    "tree_prepro = compose.ColumnTransformer(transformers=[\n",
    "    #('num',num_pipe,num_vars),\n",
    "    ('cat',tree_cat_pipe,cat_vars)\n",
    "],remainder='drop')"
   ]
  },
  {
   "cell_type": "code",
   "execution_count": 45,
   "metadata": {
    "deletable": false,
    "editable": false,
    "nbgrader": {
     "cell_type": "code",
     "checksum": "4b130d0f54fb35850e5bcea2bfd6794b",
     "grade": true,
     "grade_id": "cell-5938715b631f6081",
     "locked": true,
     "points": 2,
     "schema_version": 3,
     "solution": false,
     "task": false
    }
   },
   "outputs": [],
   "source": [
    "assert type(mult_prepro) is sklearn.compose._column_transformer.ColumnTransformer"
   ]
  },
  {
   "cell_type": "markdown",
   "metadata": {},
   "source": [
    "## Exercise 3 (2pts)\n",
    "Reasearch about som models and its hyperparamters"
   ]
  },
  {
   "cell_type": "code",
   "execution_count": 47,
   "metadata": {
    "deletable": false,
    "nbgrader": {
     "cell_type": "code",
     "checksum": "d7adbff0db3e9d7dd7008bbde13d756c",
     "grade": false,
     "grade_id": "cell-b3793d6c01aa98b1",
     "locked": false,
     "schema_version": 3,
     "solution": true,
     "task": false
    }
   },
   "outputs": [],
   "source": [
    "\n",
    "from sklearn.tree           import DecisionTreeRegressor\n",
    "from sklearn.ensemble       import RandomForestRegressor\n",
    "from sklearn.ensemble       import ExtraTreesRegressor\n",
    "from sklearn.ensemble       import AdaBoostRegressor\n",
    "from sklearn.ensemble       import GradientBoostingRegressor\n",
    "from sklearn.experimental   import enable_hist_gradient_boosting # Necesary for HistGradientBoostingClassifier\n",
    "from sklearn.ensemble       import HistGradientBoostingRegressor\n",
    "from xgboost                import XGBRegressor\n",
    "\n",
    "# Multiplicative models\n",
    "from sklearn.svm            import SVR\n",
    "from sklearn.linear_model   import Lasso\n",
    "from sklearn.linear_model   import SGDRegressor\n",
    "from sklearn.linear_model   import Ridge\n",
    "from sklearn.neural_network import MLPRegressor\n",
    "from sklearn.neighbors      import KNeighborsRegressor\n",
    "\n",
    "tree_regressors = {\n",
    "  \"Decision Tree\": DecisionTreeRegressor(random_state=0),\n",
    "  \"Extra Trees\": ExtraTreesRegressor(n_estimators=200),\n",
    "  \"Random Forest\": RandomForestRegressor(n_estimators=200),\n",
    "  \"AdaBoost\": AdaBoostRegressor(n_estimators=200),\n",
    "  \"Skl GBM\": GradientBoostingRegressor(n_estimators=200),\n",
    "  \"Skl HistGBM\": HistGradientBoostingRegressor(random_state=0),\n",
    "  \"XGBoost\": XGBRegressor(random_state=0)\n",
    "  }\n",
    "\n",
    "mult_regressors = {\n",
    "  \"SVR\": SVR(),\n",
    "  \"Lasso\": Lasso(),\n",
    "  \"SDG regr\": SGDRegressor(),\n",
    "  \"Neural regr\": MLPRegressor(random_state=73),\n",
    "  \"KNN regr\": KNeighborsRegressor(n_neighbors=10),\n",
    "  \"Ridge\": Ridge(alpha=0.6, random_state=73)\n",
    "}\n",
    "\n",
    "tree_regressors = {name: pipeline.make_pipeline(tree_prepro, model) for name, model in tree_regressors.items()}\n",
    "mult_regressors = {name: pipeline.make_pipeline(mult_prepro,model) for name, model in mult_regressors.items()}\n",
    "\n",
    "all_pipelines = {**tree_regressors, **mult_regressors}"
   ]
  },
  {
   "cell_type": "code",
   "execution_count": 50,
   "metadata": {
    "deletable": false,
    "nbgrader": {
     "cell_type": "code",
     "checksum": "8e9749823b5f8d1003f7dce809b6939c",
     "grade": false,
     "grade_id": "cell-b2aa9f758935ebbf",
     "locked": false,
     "schema_version": 3,
     "solution": true,
     "task": false
    }
   },
   "outputs": [
    {
     "data": {
      "text/html": [
       "<style  type=\"text/css\" >\n",
       "#T_ece80_row0_col1{\n",
       "            width:  10em;\n",
       "             height:  80%;\n",
       "            background:  linear-gradient(90deg,#5fba7d 87.4%, transparent 87.4%);\n",
       "        }#T_ece80_row0_col2{\n",
       "            width:  10em;\n",
       "             height:  80%;\n",
       "            background:  linear-gradient(90deg,#5fba7d 93.5%, transparent 93.5%);\n",
       "        }#T_ece80_row1_col1{\n",
       "            width:  10em;\n",
       "             height:  80%;\n",
       "            background:  linear-gradient(90deg,#5fba7d 88.2%, transparent 88.2%);\n",
       "        }#T_ece80_row1_col2{\n",
       "            width:  10em;\n",
       "             height:  80%;\n",
       "            background:  linear-gradient(90deg,#5fba7d 93.9%, transparent 93.9%);\n",
       "        }#T_ece80_row2_col1,#T_ece80_row3_col1{\n",
       "            width:  10em;\n",
       "             height:  80%;\n",
       "            background:  linear-gradient(90deg,#5fba7d 89.4%, transparent 89.4%);\n",
       "        }#T_ece80_row2_col2{\n",
       "            width:  10em;\n",
       "             height:  80%;\n",
       "            background:  linear-gradient(90deg,#5fba7d 94.5%, transparent 94.5%);\n",
       "        }#T_ece80_row3_col2{\n",
       "            width:  10em;\n",
       "             height:  80%;\n",
       "            background:  linear-gradient(90deg,#5fba7d 94.6%, transparent 94.6%);\n",
       "        }#T_ece80_row4_col1{\n",
       "            width:  10em;\n",
       "             height:  80%;\n",
       "            background:  linear-gradient(90deg,#5fba7d 91.4%, transparent 91.4%);\n",
       "        }#T_ece80_row4_col2{\n",
       "            width:  10em;\n",
       "             height:  80%;\n",
       "            background:  linear-gradient(90deg,#5fba7d 95.6%, transparent 95.6%);\n",
       "        }#T_ece80_row5_col1{\n",
       "            width:  10em;\n",
       "             height:  80%;\n",
       "            background:  linear-gradient(90deg,#5fba7d 91.6%, transparent 91.6%);\n",
       "        }#T_ece80_row5_col2{\n",
       "            width:  10em;\n",
       "             height:  80%;\n",
       "            background:  linear-gradient(90deg,#5fba7d 95.7%, transparent 95.7%);\n",
       "        }#T_ece80_row6_col1{\n",
       "            width:  10em;\n",
       "             height:  80%;\n",
       "            background:  linear-gradient(90deg,#5fba7d 91.9%, transparent 91.9%);\n",
       "        }#T_ece80_row6_col2{\n",
       "            width:  10em;\n",
       "             height:  80%;\n",
       "            background:  linear-gradient(90deg,#5fba7d 95.9%, transparent 95.9%);\n",
       "        }#T_ece80_row7_col1{\n",
       "            width:  10em;\n",
       "             height:  80%;\n",
       "            background:  linear-gradient(90deg,#5fba7d 92.6%, transparent 92.6%);\n",
       "        }#T_ece80_row7_col2{\n",
       "            width:  10em;\n",
       "             height:  80%;\n",
       "            background:  linear-gradient(90deg,#5fba7d 96.2%, transparent 96.2%);\n",
       "        }#T_ece80_row8_col1{\n",
       "            width:  10em;\n",
       "             height:  80%;\n",
       "            background:  linear-gradient(90deg,#5fba7d 95.3%, transparent 95.3%);\n",
       "        }#T_ece80_row8_col2{\n",
       "            width:  10em;\n",
       "             height:  80%;\n",
       "            background:  linear-gradient(90deg,#5fba7d 97.6%, transparent 97.6%);\n",
       "        }#T_ece80_row9_col1{\n",
       "            width:  10em;\n",
       "             height:  80%;\n",
       "            background:  linear-gradient(90deg,#5fba7d 95.5%, transparent 95.5%);\n",
       "        }#T_ece80_row9_col2{\n",
       "            width:  10em;\n",
       "             height:  80%;\n",
       "            background:  linear-gradient(90deg,#5fba7d 97.7%, transparent 97.7%);\n",
       "        }#T_ece80_row10_col1{\n",
       "            width:  10em;\n",
       "             height:  80%;\n",
       "            background:  linear-gradient(90deg,#5fba7d 96.6%, transparent 96.6%);\n",
       "        }#T_ece80_row10_col2{\n",
       "            width:  10em;\n",
       "             height:  80%;\n",
       "            background:  linear-gradient(90deg,#5fba7d 98.3%, transparent 98.3%);\n",
       "        }#T_ece80_row11_col1{\n",
       "            width:  10em;\n",
       "             height:  80%;\n",
       "            background:  linear-gradient(90deg,#5fba7d 98.4%, transparent 98.4%);\n",
       "        }#T_ece80_row11_col2{\n",
       "            width:  10em;\n",
       "             height:  80%;\n",
       "            background:  linear-gradient(90deg,#5fba7d 99.2%, transparent 99.2%);\n",
       "        }#T_ece80_row12_col1,#T_ece80_row12_col2{\n",
       "            width:  10em;\n",
       "             height:  80%;\n",
       "            background:  linear-gradient(90deg,#5fba7d 100.0%, transparent 100.0%);\n",
       "        }</style><table id=\"T_ece80_\" ><thead>    <tr>        <th class=\"blank level0\" ></th>        <th class=\"col_heading level0 col0\" >Model</th>        <th class=\"col_heading level0 col1\" >MSE</th>        <th class=\"col_heading level0 col2\" >RMSE</th>        <th class=\"col_heading level0 col3\" >Time</th>    </tr></thead><tbody>\n",
       "                <tr>\n",
       "                        <th id=\"T_ece80_level0_row0\" class=\"row_heading level0 row0\" >1</th>\n",
       "                        <td id=\"T_ece80_row0_col0\" class=\"data row0 col0\" >Ridge</td>\n",
       "                        <td id=\"T_ece80_row0_col1\" class=\"data row0 col1\" >0.734915</td>\n",
       "                        <td id=\"T_ece80_row0_col2\" class=\"data row0 col2\" >0.857272</td>\n",
       "                        <td id=\"T_ece80_row0_col3\" class=\"data row0 col3\" >0.334360</td>\n",
       "            </tr>\n",
       "            <tr>\n",
       "                        <th id=\"T_ece80_level0_row1\" class=\"row_heading level0 row1\" >2</th>\n",
       "                        <td id=\"T_ece80_row1_col0\" class=\"data row1 col0\" >SDG regr</td>\n",
       "                        <td id=\"T_ece80_row1_col1\" class=\"data row1 col1\" >0.741070</td>\n",
       "                        <td id=\"T_ece80_row1_col2\" class=\"data row1 col2\" >0.860854</td>\n",
       "                        <td id=\"T_ece80_row1_col3\" class=\"data row1 col3\" >0.412206</td>\n",
       "            </tr>\n",
       "            <tr>\n",
       "                        <th id=\"T_ece80_level0_row2\" class=\"row_heading level0 row2\" >3</th>\n",
       "                        <td id=\"T_ece80_row2_col0\" class=\"data row2 col0\" >Skl HistGBM</td>\n",
       "                        <td id=\"T_ece80_row2_col1\" class=\"data row2 col1\" >0.751116</td>\n",
       "                        <td id=\"T_ece80_row2_col2\" class=\"data row2 col2\" >0.866669</td>\n",
       "                        <td id=\"T_ece80_row2_col3\" class=\"data row2 col3\" >0.395330</td>\n",
       "            </tr>\n",
       "            <tr>\n",
       "                        <th id=\"T_ece80_level0_row3\" class=\"row_heading level0 row3\" >4</th>\n",
       "                        <td id=\"T_ece80_row3_col0\" class=\"data row3 col0\" >Skl GBM</td>\n",
       "                        <td id=\"T_ece80_row3_col1\" class=\"data row3 col1\" >0.751824</td>\n",
       "                        <td id=\"T_ece80_row3_col2\" class=\"data row3 col2\" >0.867078</td>\n",
       "                        <td id=\"T_ece80_row3_col3\" class=\"data row3 col3\" >1.866727</td>\n",
       "            </tr>\n",
       "            <tr>\n",
       "                        <th id=\"T_ece80_level0_row4\" class=\"row_heading level0 row4\" >5</th>\n",
       "                        <td id=\"T_ece80_row4_col0\" class=\"data row4 col0\" >AdaBoost</td>\n",
       "                        <td id=\"T_ece80_row4_col1\" class=\"data row4 col1\" >0.768110</td>\n",
       "                        <td id=\"T_ece80_row4_col2\" class=\"data row4 col2\" >0.876419</td>\n",
       "                        <td id=\"T_ece80_row4_col3\" class=\"data row4 col3\" >0.424545</td>\n",
       "            </tr>\n",
       "            <tr>\n",
       "                        <th id=\"T_ece80_level0_row5\" class=\"row_heading level0 row5\" >6</th>\n",
       "                        <td id=\"T_ece80_row5_col0\" class=\"data row5 col0\" >SVR</td>\n",
       "                        <td id=\"T_ece80_row5_col1\" class=\"data row5 col1\" >0.769621</td>\n",
       "                        <td id=\"T_ece80_row5_col2\" class=\"data row5 col2\" >0.877280</td>\n",
       "                        <td id=\"T_ece80_row5_col3\" class=\"data row5 col3\" >194.328193</td>\n",
       "            </tr>\n",
       "            <tr>\n",
       "                        <th id=\"T_ece80_level0_row6\" class=\"row_heading level0 row6\" >7</th>\n",
       "                        <td id=\"T_ece80_row6_col0\" class=\"data row6 col0\" >XGBoost</td>\n",
       "                        <td id=\"T_ece80_row6_col1\" class=\"data row6 col1\" >0.772815</td>\n",
       "                        <td id=\"T_ece80_row6_col2\" class=\"data row6 col2\" >0.879099</td>\n",
       "                        <td id=\"T_ece80_row6_col3\" class=\"data row6 col3\" >1.337833</td>\n",
       "            </tr>\n",
       "            <tr>\n",
       "                        <th id=\"T_ece80_level0_row7\" class=\"row_heading level0 row7\" >8</th>\n",
       "                        <td id=\"T_ece80_row7_col0\" class=\"data row7 col0\" >Lasso</td>\n",
       "                        <td id=\"T_ece80_row7_col1\" class=\"data row7 col1\" >0.778070</td>\n",
       "                        <td id=\"T_ece80_row7_col2\" class=\"data row7 col2\" >0.882083</td>\n",
       "                        <td id=\"T_ece80_row7_col3\" class=\"data row7 col3\" >0.350450</td>\n",
       "            </tr>\n",
       "            <tr>\n",
       "                        <th id=\"T_ece80_level0_row8\" class=\"row_heading level0 row8\" >9</th>\n",
       "                        <td id=\"T_ece80_row8_col0\" class=\"data row8 col0\" >Random Forest</td>\n",
       "                        <td id=\"T_ece80_row8_col1\" class=\"data row8 col1\" >0.801165</td>\n",
       "                        <td id=\"T_ece80_row8_col2\" class=\"data row8 col2\" >0.895078</td>\n",
       "                        <td id=\"T_ece80_row8_col3\" class=\"data row8 col3\" >4.441577</td>\n",
       "            </tr>\n",
       "            <tr>\n",
       "                        <th id=\"T_ece80_level0_row9\" class=\"row_heading level0 row9\" >10</th>\n",
       "                        <td id=\"T_ece80_row9_col0\" class=\"data row9 col0\" >Neural regr</td>\n",
       "                        <td id=\"T_ece80_row9_col1\" class=\"data row9 col1\" >0.802862</td>\n",
       "                        <td id=\"T_ece80_row9_col2\" class=\"data row9 col2\" >0.896025</td>\n",
       "                        <td id=\"T_ece80_row9_col3\" class=\"data row9 col3\" >14.750727</td>\n",
       "            </tr>\n",
       "            <tr>\n",
       "                        <th id=\"T_ece80_level0_row10\" class=\"row_heading level0 row10\" >11</th>\n",
       "                        <td id=\"T_ece80_row10_col0\" class=\"data row10 col0\" >KNN regr</td>\n",
       "                        <td id=\"T_ece80_row10_col1\" class=\"data row10 col1\" >0.811731</td>\n",
       "                        <td id=\"T_ece80_row10_col2\" class=\"data row10 col2\" >0.900961</td>\n",
       "                        <td id=\"T_ece80_row10_col3\" class=\"data row10 col3\" >14.677303</td>\n",
       "            </tr>\n",
       "            <tr>\n",
       "                        <th id=\"T_ece80_level0_row11\" class=\"row_heading level0 row11\" >12</th>\n",
       "                        <td id=\"T_ece80_row11_col0\" class=\"data row11 col0\" >Extra Trees</td>\n",
       "                        <td id=\"T_ece80_row11_col1\" class=\"data row11 col1\" >0.826778</td>\n",
       "                        <td id=\"T_ece80_row11_col2\" class=\"data row11 col2\" >0.909274</td>\n",
       "                        <td id=\"T_ece80_row11_col3\" class=\"data row11 col3\" >4.812047</td>\n",
       "            </tr>\n",
       "            <tr>\n",
       "                        <th id=\"T_ece80_level0_row12\" class=\"row_heading level0 row12\" >13</th>\n",
       "                        <td id=\"T_ece80_row12_col0\" class=\"data row12 col0\" >Decision Tree</td>\n",
       "                        <td id=\"T_ece80_row12_col1\" class=\"data row12 col1\" >0.840631</td>\n",
       "                        <td id=\"T_ece80_row12_col2\" class=\"data row12 col2\" >0.916859</td>\n",
       "                        <td id=\"T_ece80_row12_col3\" class=\"data row12 col3\" >0.159106</td>\n",
       "            </tr>\n",
       "    </tbody></table>"
      ],
      "text/plain": [
       "<pandas.io.formats.style.Styler at 0x11e069910>"
      ]
     },
     "metadata": {},
     "output_type": "display_data"
    }
   ],
   "source": [
    "x_train, x_valid, y_train, y_valid = model_selection.train_test_split(x, y, test_size=0.4, random_state=0)\n",
    "\n",
    "results = pd.DataFrame({'Model': [], 'MSE': [], 'RMSE': [], 'Time': []})\n",
    "\n",
    "for name, pipe in all_pipelines.items():\n",
    "\n",
    "    start_time = time.time()\n",
    "    pipe.fit(x_train, y_train)\n",
    "    preds = pipe.predict(x_valid)\n",
    "    \n",
    "    mse = sum((y_valid - preds)**2) / preds.shape[0]\n",
    "    rmse = np.sqrt(mse)\n",
    "    total_time = time.time() - start_time\n",
    "    \n",
    "    results = results.append({\"Model\": name,\n",
    "                              \"MSE\":   mse,\n",
    "                              \"RMSE\":  rmse,\n",
    "                              \"Time\":  total_time},\n",
    "                              ignore_index=True)\n",
    "    \n",
    "    \n",
    "    results_ord = results.sort_values(by=['RMSE'], ascending=True, ignore_index=True)\n",
    "    results_ord.index += 1 \n",
    "    clear_output()\n",
    "    display(results_ord.style.bar(subset=['MSE', 'RMSE'], vmin=0, color='#5fba7d'))"
   ]
  },
  {
   "cell_type": "code",
   "execution_count": 51,
   "metadata": {
    "deletable": false,
    "editable": false,
    "nbgrader": {
     "cell_type": "code",
     "checksum": "c8e143a5d4336a2f22d05d9c54d50b92",
     "grade": true,
     "grade_id": "cell-56489e8dd6257a2a",
     "locked": true,
     "points": 3,
     "schema_version": 3,
     "solution": false,
     "task": false
    }
   },
   "outputs": [],
   "source": [
    "assert results_ord['MSE'].max() < 2\n",
    "assert results_ord['MSE'].min() < 0.8\n",
    "assert results_ord['RMSE'].max() < 1.5\n",
    "assert results_ord['RMSE'].min() < 0.9"
   ]
  },
  {
   "cell_type": "markdown",
   "metadata": {},
   "source": [
    "### Optional Exercise (optional because it takes a lot of time of computation)\n",
    "Train with a more realable validation data the best models (maybe the best 5 models). You can:\n",
    "- Use all training data (without subsample)\n",
    "- Use Crosvalidation (`KFold`)(using 3, 5 or 7 folds) instead of `train_test_split`"
   ]
  },
  {
   "cell_type": "code",
   "execution_count": null,
   "metadata": {},
   "outputs": [],
   "source": [
    "df   = pd.read_csv(path+\"train.csv\", index_col=\"id\")\n",
    "\n",
    "print(\"Using all data with\", len(df), \"rows\")\n",
    "x = df[num_vars+cat_vars]\n",
    "y = df[\"target\"]"
   ]
  },
  {
   "cell_type": "code",
   "execution_count": null,
   "metadata": {
    "deletable": false,
    "nbgrader": {
     "cell_type": "code",
     "checksum": "7e555af7bbf548a2dc42d6d50df469e2",
     "grade": false,
     "grade_id": "cell-2f06f87cae93f9e9",
     "locked": false,
     "schema_version": 3,
     "solution": true,
     "task": false
    }
   },
   "outputs": [],
   "source": [
    "# IMPLEMENT SOMETHING SIMILAR TO THE PROCESS BEFORE\n",
    "# BUT USE KFOLD\n",
    "\n",
    "# YOUR CODE HERE\n",
    "raise NotImplementedError()"
   ]
  },
  {
   "cell_type": "code",
   "execution_count": null,
   "metadata": {},
   "outputs": [],
   "source": []
  }
 ],
 "metadata": {
  "kernelspec": {
   "display_name": "Python 3",
   "language": "python",
   "name": "python3"
  },
  "language_info": {
   "codemirror_mode": {
    "name": "ipython",
    "version": 3
   },
   "file_extension": ".py",
   "mimetype": "text/x-python",
   "name": "python",
   "nbconvert_exporter": "python",
   "pygments_lexer": "ipython3",
   "version": "3.8.8"
  }
 },
 "nbformat": 4,
 "nbformat_minor": 4
}
